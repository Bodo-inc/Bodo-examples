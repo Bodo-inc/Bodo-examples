{
 "cells": [
  {
   "cell_type": "markdown",
   "metadata": {},
   "source": [
    "# Beer Reviews "
   ]
  },
  {
   "cell_type": "markdown",
   "metadata": {},
   "source": [
    "This example analyzes beer reviews to find the most common words used in positive and negative reviews.\n",
    "Original example can be found [here](https://medium.com/rapids-ai/real-data-has-strings-now-so-do-gpus-994497d55f8e).\n",
    "The size of reviews_sample.csv is 23.1MB.\n",
    "Fulldataset is available on \"s3://bodo-example-data/beer/reviews.csv\" and its size is 2.2GB."
   ]
  },
  {
   "cell_type": "markdown",
   "id": "ea1f302f-c922-4942-874e-b0a6787022f2",
   "metadata": {},
   "source": [
    "### Start an IPyParallel cluster \n",
    "Run the following code in a cell to start an IPyParallel cluster. 8 cores are used in this example. "
   ]
  },
  {
   "cell_type": "code",
   "execution_count": 1,
   "id": "0050c46a-4484-40f4-9aed-5ebccfb5abab",
   "metadata": {},
   "outputs": [
    {
     "name": "stdout",
     "output_type": "stream",
     "text": [
      "Starting 8 engines with <class 'ipyparallel.cluster.launcher.MPIEngineSetLauncher'>\n",
      "100%|██████████| 8/8 [00:06<00:00,  1.17engine/s]\n"
     ]
    }
   ],
   "source": [
    "import os\n",
    "if os.environ.get(\"BODO_PLATFORM_WORKSPACE_UUID\",'NA') == 'NA':\n",
    "    import ipyparallel as ipp\n",
    "    import psutil; n = min(psutil.cpu_count(logical=False), 8)\n",
    "    rc = ipp.Cluster(engines='mpi', n=n).start_and_connect_sync(activate=True)"
   ]
  },
  {
   "cell_type": "code",
   "execution_count": 2,
   "metadata": {
    "execution": {
     "iopub.execute_input": "2022-03-15T18:03:18.892113Z",
     "iopub.status.busy": "2022-03-15T18:03:18.891907Z",
     "iopub.status.idle": "2022-03-15T18:03:21.932488Z",
     "shell.execute_reply": "2022-03-15T18:03:21.932082Z",
     "shell.execute_reply.started": "2022-03-15T18:03:18.892091Z"
    },
    "tags": []
   },
   "outputs": [],
   "source": [
    "%%px\n",
    "import pandas as pd\n",
    "import time\n",
    "import bodo"
   ]
  },
  {
   "cell_type": "markdown",
   "metadata": {},
   "source": [
    "## Preprocessing\n",
    "1. Create lists of stopwords and punctuation that will be removed.\n",
    "2. Define regex that will be used to remove these punctuation and stopwords from the reviews.\n",
    "3. Use the lower and strip functions to convert all letters to lowercase and remove excess whitespace. \n",
    "4. Remove stopwords and punctuation. "
   ]
  },
  {
   "cell_type": "code",
   "execution_count": 3,
   "metadata": {
    "execution": {
     "iopub.execute_input": "2022-03-15T18:03:21.933355Z",
     "iopub.status.busy": "2022-03-15T18:03:21.932967Z",
     "iopub.status.idle": "2022-03-15T18:03:21.956304Z",
     "shell.execute_reply": "2022-03-15T18:03:21.955877Z",
     "shell.execute_reply.started": "2022-03-15T18:03:21.933334Z"
    },
    "tags": []
   },
   "outputs": [],
   "source": [
    "%%px\n",
    "with open(\"nltk-stopwords.txt\", \"r\") as fh:\n",
    "    STOPWORDS = list(map(str.strip, fh.readlines()))\n",
    "\n",
    "\n",
    "PUNCT_LIST = [\"\\.\", \"\\-\", \"\\?\", \"\\:\", \":\", \"!\", \"&\", \"'\", \",\"]\n",
    "punc_regex = \"|\".join([f\"({p})\" for p in PUNCT_LIST])\n",
    "stopword_regex = \"|\".join([f\"\\\\b({s})\\\\b\" for s in STOPWORDS])"
   ]
  },
  {
   "cell_type": "code",
   "execution_count": 4,
   "metadata": {
    "execution": {
     "iopub.execute_input": "2022-03-15T18:03:21.957384Z",
     "iopub.status.busy": "2022-03-15T18:03:21.957185Z",
     "iopub.status.idle": "2022-03-15T18:03:21.976408Z",
     "shell.execute_reply": "2022-03-15T18:03:21.975994Z",
     "shell.execute_reply.started": "2022-03-15T18:03:21.957364Z"
    },
    "tags": []
   },
   "outputs": [],
   "source": [
    "%%px\n",
    "@bodo.jit\n",
    "def preprocess(reviews):\n",
    "    # lowercase and strip\n",
    "    reviews = reviews.str.lower()\n",
    "    reviews = reviews.str.strip()\n",
    "\n",
    "    # remove punctuation and stopwords\n",
    "    reviews = reviews.str.replace(punc_regex, \"\", regex=True)\n",
    "    reviews = reviews.str.replace(stopword_regex, \"\", regex=True)\n",
    "    return reviews"
   ]
  },
  {
   "cell_type": "markdown",
   "metadata": {},
   "source": [
    "## Find the Most Common Words"
   ]
  },
  {
   "cell_type": "code",
   "execution_count": 5,
   "metadata": {
    "execution": {
     "iopub.execute_input": "2022-03-15T18:03:21.977042Z",
     "iopub.status.busy": "2022-03-15T18:03:21.976899Z",
     "iopub.status.idle": "2022-03-15T18:03:59.414754Z",
     "shell.execute_reply": "2022-03-15T18:03:59.414356Z",
     "shell.execute_reply.started": "2022-03-15T18:03:21.977024Z"
    },
    "tags": []
   },
   "outputs": [
    {
     "name": "stdout",
     "output_type": "stream",
     "text": [
      "%px:   0%|          | 0/8 [00:37<?, ?tasks/s]"
     ]
    },
    {
     "data": {
      "text/plain": [
       "[stdout:0] read time 2.7194855730003837\n",
       "preprocess time 15.966832514000089\n",
       "high/low time 0.2035854699997799\n",
       "value_counts time 0.019346405999385752\n",
       "total time 18.91044466400035\n",
       "beer         333\n",
       "one          158\n",
       "taste        140\n",
       "head         119\n",
       "like         117\n",
       "best         102\n",
       "chocolate     90\n",
       "dark          90\n",
       "great         86\n",
       "perfect       80\n",
       "good          79\n",
       "sweet         77\n",
       "smell         73\n",
       "bottle        72\n",
       "ive           70\n",
       "flavor        68\n",
       "glass         65\n",
       "well          65\n",
       "ever          65\n",
       "aroma         64\n",
       "nice          64\n",
       "malt          63\n",
       "hops          62\n",
       "bourbon       62\n",
       "beers         62\n",
       "Name: text, dtype: int64\n",
       "beer           239\n",
       "like           109\n",
       "taste          104\n",
       "head            69\n",
       "one             65\n",
       "light           65\n",
       "smell           57\n",
       "bad             53\n",
       "bottle          52\n",
       "really          49\n",
       "good            41\n",
       "would           40\n",
       "get             38\n",
       "water           35\n",
       "flavor          33\n",
       "smells          32\n",
       "carbonation     32\n",
       "much            32\n",
       "beers           32\n",
       "glass           31\n",
       "corn            31\n",
       "even            31\n",
       "poured          30\n",
       "tastes          29\n",
       "drink           29\n",
       "Name: text, dtype: int64\n"
      ]
     },
     "metadata": {},
     "output_type": "display_data"
    },
    {
     "name": "stdout",
     "output_type": "stream",
     "text": [
      "%px: 100%|██████████| 8/8 [00:53<00:00,  6.65s/tasks]\n"
     ]
    }
   ],
   "source": [
    "%%px\n",
    "@bodo.jit\n",
    "def find_top_words(review_filename):\n",
    "    # Load in the data\n",
    "    t_start = time.time()\n",
    "    df = pd.read_csv(review_filename, parse_dates=[2])\n",
    "    print(\"read time\", time.time() - t_start)\n",
    "\n",
    "    score = df.score\n",
    "    reviews = df.text\n",
    "\n",
    "    t1 = time.time()\n",
    "    reviews = preprocess(reviews)\n",
    "    print(\"preprocess time\", time.time() - t1)\n",
    "\n",
    "    t1 = time.time()\n",
    "    # create low and high score series\n",
    "    low_threshold = 1.5\n",
    "    high_threshold = 4.95\n",
    "    high_reviews = reviews[score > high_threshold]\n",
    "    low_reviews = reviews[score <= low_threshold]\n",
    "    high_reviews = high_reviews.dropna()\n",
    "    low_reviews = low_reviews.dropna()\n",
    "\n",
    "    high_colsplit = high_reviews.str.split()\n",
    "    low_colsplit = low_reviews.str.split()\n",
    "    print(\"high/low time\", time.time() - t1)\n",
    "\n",
    "    t1 = time.time()\n",
    "    high_words = high_colsplit.explode()\n",
    "    low_words = low_colsplit.explode()\n",
    "\n",
    "    top_words = high_words.value_counts().head(25)\n",
    "    low_words = low_words.value_counts().head(25)\n",
    "    print(\"value_counts time\", time.time() - t1)\n",
    "    print(\"total time\", time.time() - t_start)\n",
    "    return top_words, low_words\n",
    "\n",
    "    \n",
    "top_words, low_words = find_top_words(\"s3://bodo-example-data/beer/reviews_sample.csv\")\n",
    "if bodo.get_rank() == 0:\n",
    "    print(top_words)\n",
    "    print(low_words)"
   ]
  },
  {
   "cell_type": "code",
   "execution_count": null,
   "metadata": {},
   "outputs": [],
   "source": []
  }
 ],
 "metadata": {
  "interpreter": {
   "hash": "16c8ad1c156570dbb9b8c59e261dba05f4270231d6ef51b3fb205099379bfe9f"
  },
  "kernelspec": {
   "display_name": "Python 3.9.12 ('base')",
   "language": "python",
   "name": "python3"
  },
  "language_info": {
   "codemirror_mode": {
    "name": "ipython",
    "version": 3
   },
   "file_extension": ".py",
   "mimetype": "text/x-python",
   "name": "python",
   "nbconvert_exporter": "python",
   "pygments_lexer": "ipython3",
   "version": "3.9.12"
  }
 },
 "nbformat": 4,
 "nbformat_minor": 4
}
