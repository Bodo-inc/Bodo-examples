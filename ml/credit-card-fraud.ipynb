{
 "cells": [
  {
   "cell_type": "markdown",
   "id": "acoustic-camping",
   "metadata": {},
   "source": [
    "# Credit Card Fraud Detection With Machine Learning in Python\n",
    "\n",
    "This example shows use of classification to help credit card company to detect potential fraud cases. \n",
    "Original example can be found [here](https://medium.com/codex/credit-card-fraud-detection-with-machine-learning-in-python-ac7281991d87) (the dataset is downloaded from Kaggle [here](https://www.kaggle.com/mlg-ulb/creditcardfraud))."
   ]
  },
  {
   "cell_type": "markdown",
   "id": "275bd502-c7df-4693-ad91-32abacc66be8",
   "metadata": {},
   "source": [
    "### Start an IPyParallel cluster (skip if running on Bodo Platform)\n",
    "Run the following code in a cell to start an IPyParallel cluster. 8 cores are used in this example. You will skip this step and next one (Verify your setup) if you are using bodo's platform."
   ]
  },
  {
   "cell_type": "code",
   "execution_count": 1,
   "id": "dc85ae9e-883f-454c-a860-a9ab05065133",
   "metadata": {},
   "outputs": [
    {
     "name": "stdout",
     "output_type": "stream",
     "text": [
      "Starting 8 engines with <class 'ipyparallel.cluster.launcher.MPIEngineSetLauncher'>\n",
      "100%|██████████| 8/8 [00:10<00:00,  1.27s/engine]\n"
     ]
    }
   ],
   "source": [
    "import ipyparallel as ipp\n",
    "import psutil; n = min(psutil.cpu_count(logical=False), 8)\n",
    "rc = ipp.Cluster(engines='mpi', n=n).start_and_connect_sync(activate=True)"
   ]
  },
  {
   "cell_type": "markdown",
   "id": "049f272c-f965-4764-bdba-d643bf6e6515",
   "metadata": {},
   "source": [
    "### Verifying your setup\n",
    "Run the following code to verify that your IPyParallel cluster is set up correctly:"
   ]
  },
  {
   "cell_type": "code",
   "execution_count": 2,
   "id": "466c4772-a044-468b-851a-dc4672e07f6b",
   "metadata": {},
   "outputs": [
    {
     "data": {
      "text/plain": [
       "[stdout:1] Hello World from rank 1. Total ranks=8\n"
      ]
     },
     "metadata": {},
     "output_type": "display_data"
    },
    {
     "data": {
      "text/plain": [
       "[stdout:7] Hello World from rank 7. Total ranks=8\n"
      ]
     },
     "metadata": {},
     "output_type": "display_data"
    },
    {
     "data": {
      "text/plain": [
       "[stdout:2] Hello World from rank 2. Total ranks=8\n"
      ]
     },
     "metadata": {},
     "output_type": "display_data"
    },
    {
     "data": {
      "text/plain": [
       "[stdout:3] Hello World from rank 3. Total ranks=8\n"
      ]
     },
     "metadata": {},
     "output_type": "display_data"
    },
    {
     "data": {
      "text/plain": [
       "[stdout:4] Hello World from rank 4. Total ranks=8\n"
      ]
     },
     "metadata": {},
     "output_type": "display_data"
    },
    {
     "data": {
      "text/plain": [
       "[stdout:0] Hello World from rank 0. Total ranks=8\n"
      ]
     },
     "metadata": {},
     "output_type": "display_data"
    },
    {
     "data": {
      "text/plain": [
       "[stdout:5] Hello World from rank 5. Total ranks=8\n"
      ]
     },
     "metadata": {},
     "output_type": "display_data"
    },
    {
     "data": {
      "text/plain": [
       "[stdout:6] Hello World from rank 6. Total ranks=8\n"
      ]
     },
     "metadata": {},
     "output_type": "display_data"
    }
   ],
   "source": [
    "%%px\n",
    "import bodo\n",
    "print(f\"Hello World from rank {bodo.get_rank()}. Total ranks={bodo.get_size()}\")"
   ]
  },
  {
   "cell_type": "markdown",
   "id": "changing-enzyme",
   "metadata": {},
   "source": [
    "## Importing the Packages\n",
    "\n",
    "These are the main packages we are going to work with:\n",
    " - Bodo to parallelize Python code automatically\n",
    " - Pandas to work with data\n",
    " - Numpy to work with arrays\n",
    " - scikit-learn to build and evaluate classification models\n",
    " - xgboost for xgboost classifier model algorithm"
   ]
  },
  {
   "cell_type": "code",
   "execution_count": 3,
   "id": "arabic-feeding",
   "metadata": {},
   "outputs": [],
   "source": [
    "%%px\n",
    "import warnings\n",
    "warnings.filterwarnings(\"ignore\")\n",
    "\n",
    "import bodo\n",
    "import numpy as np\n",
    "import pandas as pd\n",
    "import time\n",
    "from sklearn.preprocessing import StandardScaler # data normalization\n",
    "from sklearn.model_selection import train_test_split # data split\n",
    "from sklearn.linear_model import LogisticRegression # Logistic regression algorithm\n",
    "from sklearn.ensemble import RandomForestClassifier # Random forest tree algorithm\n",
    "from sklearn.svm import LinearSVC # SVM classification algorithm\n",
    "from sklearn.metrics import accuracy_score # evaluation metric"
   ]
  },
  {
   "cell_type": "markdown",
   "id": "dutch-daughter",
   "metadata": {},
   "source": [
    "## Data Processing and EDA\n",
    "1. Load dataset\n",
    "2. Compute the percentage of fraud cases in the overall recorded transcations.\n",
    "3. Get a statistical view of both fraud and non-fraud transaction amount data"
   ]
  },
  {
   "cell_type": "code",
   "execution_count": 4,
   "id": "weighted-being",
   "metadata": {},
   "outputs": [
    {
     "name": "stdout",
     "output_type": "stream",
     "text": [
      "%px:   0%|          | 0/8 [00:21<?, ?tasks/s]"
     ]
    },
    {
     "data": {
      "text/plain": [
       "[stdout:0] Read Time:  12.212493971000185\n"
      ]
     },
     "metadata": {},
     "output_type": "display_data"
    },
    {
     "name": "stdout",
     "output_type": "stream",
     "text": [
      "%px: 100%|██████████| 8/8 [00:21<00:00,  2.65s/tasks]\n"
     ]
    }
   ],
   "source": [
    "%%px\n",
    "@bodo.jit(distributed=['df'], cache=True)\n",
    "def load_data():\n",
    "    start = time.time()\n",
    "    df = pd.read_csv('s3://bodo-example-data/creditcard/creditcard.csv')\n",
    "    df.drop('Time', axis = 1, inplace = True)\n",
    "    end = time.time()\n",
    "    print(\"Read Time: \", (end-start))\n",
    "    return df\n",
    "\n",
    "df = load_data()"
   ]
  },
  {
   "cell_type": "code",
   "execution_count": 5,
   "id": "d536465d-7b0f-421d-8204-42db1446eb84",
   "metadata": {},
   "outputs": [
    {
     "data": {
      "text/plain": [
       "\u001b[0;31mOut[0:4]: \u001b[0m(35601, 30)"
      ]
     },
     "metadata": {
      "after": null,
      "completed": null,
      "data": {},
      "engine_id": 0,
      "engine_uuid": "df05fe72-3f884e8df4495401a881c0bb",
      "error": null,
      "execute_input": "df.shape\n",
      "execute_result": {
       "data": {
        "text/plain": "(35601, 30)"
       },
       "execution_count": 4,
       "metadata": {}
      },
      "follow": null,
      "msg_id": null,
      "outputs": [],
      "received": null,
      "started": null,
      "status": null,
      "stderr": "",
      "stdout": "",
      "submitted": "2022-05-18T22:17:02.403657Z"
     },
     "output_type": "display_data"
    },
    {
     "data": {
      "text/plain": [
       "\u001b[0;31mOut[2:4]: \u001b[0m(35601, 30)"
      ]
     },
     "metadata": {
      "after": null,
      "completed": null,
      "data": {},
      "engine_id": 2,
      "engine_uuid": "f2b92d74-85d497065450878ca09d88e5",
      "error": null,
      "execute_input": "df.shape\n",
      "execute_result": {
       "data": {
        "text/plain": "(35601, 30)"
       },
       "execution_count": 4,
       "metadata": {}
      },
      "follow": null,
      "msg_id": null,
      "outputs": [],
      "received": null,
      "started": null,
      "status": null,
      "stderr": "",
      "stdout": "",
      "submitted": "2022-05-18T22:17:02.403906Z"
     },
     "output_type": "display_data"
    },
    {
     "data": {
      "text/plain": [
       "\u001b[0;31mOut[1:4]: \u001b[0m(35601, 30)"
      ]
     },
     "metadata": {
      "after": [],
      "completed": "2022-05-18T22:17:02.419850Z",
      "data": {},
      "engine_id": 1,
      "engine_uuid": "919382b3-93449539dace039681ad74e0",
      "error": null,
      "execute_input": "df.shape\n",
      "execute_result": {
       "data": {
        "text/plain": "(35601, 30)"
       },
       "execution_count": 4,
       "metadata": {}
      },
      "follow": [],
      "is_broadcast": false,
      "is_coalescing": false,
      "msg_id": "1d201c21-04acb12816a96025c146cc6f_46887_26",
      "outputs": [],
      "received": "2022-05-18T22:17:02.430903Z",
      "started": "2022-05-18T22:17:02.407964Z",
      "status": "ok",
      "stderr": "",
      "stdout": "",
      "submitted": "2022-05-18T22:17:02.403731Z"
     },
     "output_type": "display_data"
    },
    {
     "data": {
      "text/plain": [
       "\u001b[0;31mOut[4:4]: \u001b[0m(35601, 30)"
      ]
     },
     "metadata": {
      "after": [],
      "completed": "2022-05-18T22:17:02.420111Z",
      "data": {},
      "engine_id": 4,
      "engine_uuid": "d93f1a2a-017d93105ff3b962eb7f9836",
      "error": null,
      "execute_input": "df.shape\n",
      "execute_result": {
       "data": {
        "text/plain": "(35601, 30)"
       },
       "execution_count": 4,
       "metadata": {}
      },
      "follow": [],
      "is_broadcast": false,
      "is_coalescing": false,
      "msg_id": "1d201c21-04acb12816a96025c146cc6f_46887_29",
      "outputs": [],
      "received": "2022-05-18T22:17:02.431547Z",
      "started": "2022-05-18T22:17:02.408935Z",
      "status": "ok",
      "stderr": "",
      "stdout": "",
      "submitted": "2022-05-18T22:17:02.404034Z"
     },
     "output_type": "display_data"
    },
    {
     "data": {
      "text/plain": [
       "\u001b[0;31mOut[3:4]: \u001b[0m(35601, 30)"
      ]
     },
     "metadata": {
      "after": [],
      "completed": "2022-05-18T22:17:02.420687Z",
      "data": {},
      "engine_id": 3,
      "engine_uuid": "9e44df8a-4e4e30e6e956356beea3e41d",
      "error": null,
      "execute_input": "df.shape\n",
      "execute_result": {
       "data": {
        "text/plain": "(35601, 30)"
       },
       "execution_count": 4,
       "metadata": {}
      },
      "follow": [],
      "is_broadcast": false,
      "is_coalescing": false,
      "msg_id": "1d201c21-04acb12816a96025c146cc6f_46887_28",
      "outputs": [],
      "received": "2022-05-18T22:17:02.432210Z",
      "started": "2022-05-18T22:17:02.408424Z",
      "status": "ok",
      "stderr": "",
      "stdout": "",
      "submitted": "2022-05-18T22:17:02.403941Z"
     },
     "output_type": "display_data"
    },
    {
     "data": {
      "text/plain": [
       "\u001b[0;31mOut[6:4]: \u001b[0m(35601, 30)"
      ]
     },
     "metadata": {
      "after": [],
      "completed": "2022-05-18T22:17:02.421410Z",
      "data": {},
      "engine_id": 6,
      "engine_uuid": "debe2797-53feee41ff57ef70825b8934",
      "error": null,
      "execute_input": "df.shape\n",
      "execute_result": {
       "data": {
        "text/plain": "(35601, 30)"
       },
       "execution_count": 4,
       "metadata": {}
      },
      "follow": [],
      "is_broadcast": false,
      "is_coalescing": false,
      "msg_id": "1d201c21-04acb12816a96025c146cc6f_46887_31",
      "outputs": [],
      "received": "2022-05-18T22:17:02.432773Z",
      "started": "2022-05-18T22:17:02.409295Z",
      "status": "ok",
      "stderr": "",
      "stdout": "",
      "submitted": "2022-05-18T22:17:02.404347Z"
     },
     "output_type": "display_data"
    },
    {
     "data": {
      "text/plain": [
       "\u001b[0;31mOut[7:4]: \u001b[0m(35600, 30)"
      ]
     },
     "metadata": {
      "after": [],
      "completed": "2022-05-18T22:17:02.422939Z",
      "data": {},
      "engine_id": 7,
      "engine_uuid": "cf55a1d2-7eb10e5699e080ad23aaeb21",
      "error": null,
      "execute_input": "df.shape\n",
      "execute_result": {
       "data": {
        "text/plain": "(35600, 30)"
       },
       "execution_count": 4,
       "metadata": {}
      },
      "follow": [],
      "is_broadcast": false,
      "is_coalescing": false,
      "msg_id": "1d201c21-04acb12816a96025c146cc6f_46887_32",
      "outputs": [],
      "received": "2022-05-18T22:17:02.433339Z",
      "started": "2022-05-18T22:17:02.409361Z",
      "status": "ok",
      "stderr": "",
      "stdout": "",
      "submitted": "2022-05-18T22:17:02.404441Z"
     },
     "output_type": "display_data"
    },
    {
     "data": {
      "text/plain": [
       "\u001b[0;31mOut[5:4]: \u001b[0m(35601, 30)"
      ]
     },
     "metadata": {
      "after": [],
      "completed": "2022-05-18T22:17:02.423104Z",
      "data": {},
      "engine_id": 5,
      "engine_uuid": "022a7bd4-010491f4182d51a69c3ebefd",
      "error": null,
      "execute_input": "df.shape\n",
      "execute_result": {
       "data": {
        "text/plain": "(35601, 30)"
       },
       "execution_count": 4,
       "metadata": {}
      },
      "follow": [],
      "is_broadcast": false,
      "is_coalescing": false,
      "msg_id": "1d201c21-04acb12816a96025c146cc6f_46887_30",
      "outputs": [],
      "received": "2022-05-18T22:17:02.433968Z",
      "started": "2022-05-18T22:17:02.409113Z",
      "status": "ok",
      "stderr": "",
      "stdout": "",
      "submitted": "2022-05-18T22:17:02.404126Z"
     },
     "output_type": "display_data"
    }
   ],
   "source": [
    "%%px\n",
    "df.shape"
   ]
  },
  {
   "cell_type": "code",
   "execution_count": 6,
   "id": "tender-indiana",
   "metadata": {},
   "outputs": [
    {
     "name": "stdout",
     "output_type": "stream",
     "text": [
      "%px:   0%|          | 0/8 [00:10<?, ?tasks/s]"
     ]
    },
    {
     "data": {
      "text/plain": [
       "[stdout:0] --------------------------------------------\n",
       "Total number of cases are  284807\n",
       "Number of Non-fraud cases are  284315\n",
       "Number of fraud cases are 492\n",
       "Percentage of fraud cases is  0.17\n",
       "--------------------------------------------\n",
       "--------------------------------------------\n",
       "NON-FRAUD CASE AMOUNT STATS\n",
       "count    284315.000000\n",
       "mean         88.291022\n",
       "std         250.105092\n",
       "min           0.000000\n",
       "25%           5.650000\n",
       "50%          22.000000\n",
       "75%          77.050000\n",
       "max       25691.160000\n",
       "Name: Amount, dtype: float64\n",
       "FRAUD CASE AMOUNT STATS\n",
       "count     492.000000\n",
       "mean      122.211321\n",
       "std       256.683288\n",
       "min         0.000000\n",
       "25%         1.000000\n",
       "50%         9.250000\n",
       "75%       105.890000\n",
       "max      2125.870000\n",
       "Name: Amount, dtype: float64\n",
       "--------------------------------------------\n"
      ]
     },
     "metadata": {},
     "output_type": "display_data"
    },
    {
     "name": "stdout",
     "output_type": "stream",
     "text": [
      "%px: 100%|██████████| 8/8 [00:10<00:00,  1.29s/tasks]\n"
     ]
    }
   ],
   "source": [
    "%%px\n",
    "@bodo.jit(distributed=['df'], cache=True)\n",
    "def data_processing(df):\n",
    "    cases = len(df)\n",
    "    nonfraud_cases = df[df.Class == 0]\n",
    "    fraud_cases = df[df.Class == 1]\n",
    "    nonfraud_count = len(nonfraud_cases)\n",
    "    fraud_count = len(fraud_cases)\n",
    "    fraud_percentage = round(fraud_count / nonfraud_count * 100, 2)\n",
    "    print(\"--------------------------------------------\")\n",
    "    print(\"Total number of cases are \", cases)\n",
    "    print(\"Number of Non-fraud cases are \", nonfraud_count)\n",
    "    print(\"Number of fraud cases are\", fraud_count)\n",
    "    print(\"Percentage of fraud cases is \", fraud_percentage)\n",
    "    print(\"--------------------------------------------\")\n",
    "    print(\"--------------------------------------------\")\n",
    "    print(\"NON-FRAUD CASE AMOUNT STATS\")\n",
    "    print(nonfraud_cases.Amount.describe())\n",
    "    print(\"FRAUD CASE AMOUNT STATS\")\n",
    "    print(fraud_cases.Amount.describe())\n",
    "    print(\"--------------------------------------------\")  \n",
    "\n",
    "data_processing(df)"
   ]
  },
  {
   "cell_type": "markdown",
   "id": "cooked-mathematics",
   "metadata": {},
   "source": [
    "## Feature Selection & Data Split"
   ]
  },
  {
   "cell_type": "markdown",
   "id": "human-directory",
   "metadata": {},
   "source": [
    "### 1. Normalize `Amount` variable\n",
    "`Amount` variable varies when compared to the rest of the variables. To reduce its range of values, we normalize it using the `StandardScaler` "
   ]
  },
  {
   "cell_type": "code",
   "execution_count": 7,
   "id": "incomplete-cooling",
   "metadata": {},
   "outputs": [
    {
     "name": "stdout",
     "output_type": "stream",
     "text": [
      "%px:   0%|          | 0/8 [00:00<?, ?tasks/s]"
     ]
    },
    {
     "data": {
      "text/plain": [
       "[stdout:0] StandardScaler time:  0.007625819999702799\n",
       "0    0.244964\n",
       "1   -0.342475\n",
       "2    1.160686\n",
       "3    0.140534\n",
       "4   -0.073403\n",
       "5   -0.338556\n",
       "6   -0.333279\n",
       "7   -0.190107\n",
       "8    0.019392\n",
       "9   -0.338516\n",
       "Name: Amount, dtype: float64\n"
      ]
     },
     "metadata": {},
     "output_type": "display_data"
    },
    {
     "name": "stdout",
     "output_type": "stream",
     "text": [
      "%px: 100%|██████████| 8/8 [00:01<00:00,  7.59tasks/s]\n"
     ]
    }
   ],
   "source": [
    "%%px\n",
    "@bodo.jit(distributed=['df'], cache=True)\n",
    "def sc(df):\n",
    "    start = time.time()    \n",
    "    sc = StandardScaler()\n",
    "    amount = df['Amount'].values\n",
    "    amount = amount.reshape(-1,1)\n",
    "    sc.fit(amount)\n",
    "    df['Amount'] = (sc.transform(amount)).ravel()\n",
    "    print(\"StandardScaler time: \", time.time() - start)\n",
    "    print(df['Amount'].head(10))\n",
    "    \n",
    "sc(df)"
   ]
  },
  {
   "cell_type": "markdown",
   "id": "incorporated-viking",
   "metadata": {},
   "source": [
    "### 2. Split the data into a training set and testing set "
   ]
  },
  {
   "cell_type": "code",
   "execution_count": 8,
   "id": "genuine-beauty",
   "metadata": {},
   "outputs": [
    {
     "name": "stdout",
     "output_type": "stream",
     "text": [
      "%px:   0%|          | 0/8 [00:23<?, ?tasks/s]"
     ]
    },
    {
     "data": {
      "text/plain": [
       "[stdout:1] X_train samples : []\n",
       "X_test samples : []\n",
       "y_train samples : []\n",
       "y_test samples : []\n"
      ]
     },
     "metadata": {},
     "output_type": "display_data"
    },
    {
     "data": {
      "text/plain": [
       "[stdout:4] X_train samples : []\n",
       "X_test samples : []\n",
       "y_train samples : []\n",
       "y_test samples : []\n"
      ]
     },
     "metadata": {},
     "output_type": "display_data"
    },
    {
     "data": {
      "text/plain": [
       "[stdout:0] train_test_split time:  0.3300760199999786\n",
       "X_train samples : [[ 1.26585198 -0.1075269   0.47981009 -0.25184768 -0.60788305 -0.52676387\n",
       "  -0.34531619  0.02365571  0.21786475 -0.03118412  1.10872232  0.59520842\n",
       "  -0.28786759  0.38413387  0.61749279  0.71709663 -0.71275056  0.23189477\n",
       "   0.44609545 -0.07168675 -0.10932857 -0.35212209  0.04888506  0.03685774\n",
       "   0.11879204  0.90961715 -0.07721121 -0.00528953 -0.34963112]]\n",
       "X_test samples : [[-0.2500975   0.86416881  1.71780059  0.42077176  0.45859239 -0.57885514\n",
       "   0.94800926 -0.51391496 -0.31043625 -0.02031068  0.55475393  0.09970827\n",
       "   0.43210406 -0.79585124  1.45354931 -0.47625902  0.39926659 -0.69608176\n",
       "   0.13674418  0.14104106 -0.19687718 -0.20118382  0.02023838  0.37742844\n",
       "  -0.90739478  0.02715091 -0.29036732 -0.27941574 -0.33619755]]\n",
       "y_train samples : [0 0 0 0 0 0 0 0 0 0 0 0 0 0 0 0 0 0 0 0]\n",
       "y_test samples : [0 0 0 0 1 0 0 0 0 0 0 0 0 0 0 0 0 0 0 0]\n"
      ]
     },
     "metadata": {},
     "output_type": "display_data"
    },
    {
     "data": {
      "text/plain": [
       "[stdout:6] X_train samples : []\n",
       "X_test samples : []\n",
       "y_train samples : []\n",
       "y_test samples : []\n"
      ]
     },
     "metadata": {},
     "output_type": "display_data"
    },
    {
     "data": {
      "text/plain": [
       "[stdout:5] X_train samples : []\n",
       "X_test samples : []\n",
       "y_train samples : []\n",
       "y_test samples : []\n"
      ]
     },
     "metadata": {},
     "output_type": "display_data"
    },
    {
     "data": {
      "text/plain": [
       "[stdout:3] X_train samples : []\n",
       "X_test samples : []\n",
       "y_train samples : []\n",
       "y_test samples : []\n"
      ]
     },
     "metadata": {},
     "output_type": "display_data"
    },
    {
     "data": {
      "text/plain": [
       "[stdout:2] X_train samples : []\n",
       "X_test samples : []\n",
       "y_train samples : []\n",
       "y_test samples : []\n"
      ]
     },
     "metadata": {},
     "output_type": "display_data"
    },
    {
     "data": {
      "text/plain": [
       "[stdout:7] X_train samples : []\n",
       "X_test samples : []\n",
       "y_train samples : []\n",
       "y_test samples : []\n"
      ]
     },
     "metadata": {},
     "output_type": "display_data"
    },
    {
     "name": "stdout",
     "output_type": "stream",
     "text": [
      "%px: 100%|██████████| 8/8 [00:23<00:00,  2.89s/tasks]\n"
     ]
    }
   ],
   "source": [
    "%%px\n",
    "@bodo.jit(distributed=['df', 'X_train', 'X_test', 'y_train', 'y_test'], cache=True)\n",
    "def data_split(df):\n",
    "    X = df.drop('Class', axis = 1).values\n",
    "    y = df['Class'].values.astype(np.int64)\n",
    "    start = time.time()\n",
    "    X_train, X_test, y_train, y_test = train_test_split(X, y, test_size = 0.2, train_size=0.8, random_state = 0)\n",
    "    print(\"train_test_split time: \", time.time() - start)    \n",
    "    print('X_train samples :', X_train[:1])\n",
    "    print('X_test samples :', X_test[0:1])\n",
    "    print('y_train samples :', y_train[0:20])\n",
    "    print('y_test samples :', y_test[0:20])    \n",
    "    return X_train, X_test, y_train, y_test\n",
    "    \n",
    "X_train, X_test, y_train, y_test = data_split(df)"
   ]
  },
  {
   "cell_type": "markdown",
   "id": "thermal-antarctica",
   "metadata": {},
   "source": [
    "## Modeling\n",
    "Here we have built four different types of classification models and evaluate these models using accuracy score metrics provided by scikit-learn package.\n",
    "\n",
    "#### 1. Logistic Regression"
   ]
  },
  {
   "cell_type": "code",
   "execution_count": 9,
   "id": "hidden-baptist",
   "metadata": {},
   "outputs": [
    {
     "name": "stdout",
     "output_type": "stream",
     "text": [
      "%px:   0%|          | 0/8 [00:02<?, ?tasks/s]"
     ]
    },
    {
     "data": {
      "text/plain": [
       "[stdout:0] LogisticRegression fit and predict time:  0.5100183559998186\n",
       "Accuracy score of the Logistic Regression model is 0.998718443874864\n"
      ]
     },
     "metadata": {},
     "output_type": "display_data"
    },
    {
     "name": "stdout",
     "output_type": "stream",
     "text": [
      "%px: 100%|██████████| 8/8 [00:02<00:00,  2.92tasks/s]\n"
     ]
    }
   ],
   "source": [
    "%%px\n",
    "@bodo.jit(distributed=['X_train', 'y_train', 'X_test', 'y_test'], cache=True)\n",
    "def lr_model(X_train, X_test, y_train, y_test):\n",
    "    start = time.time()\n",
    "    lr = LogisticRegression()\n",
    "    lr.fit(X_train, y_train)\n",
    "    lr_yhat = lr.predict(X_test)\n",
    "    print(\"LogisticRegression fit and predict time: \", time.time()-start)\n",
    "    print('Accuracy score of the Logistic Regression model is {}'.format(accuracy_score(y_test, lr_yhat)))\n",
    "    \n",
    "    \n",
    "lr_model(X_train, X_test, y_train, y_test)"
   ]
  },
  {
   "cell_type": "markdown",
   "id": "ancient-lawrence",
   "metadata": {},
   "source": [
    "#### 2. Random Forest Tree"
   ]
  },
  {
   "cell_type": "code",
   "execution_count": 10,
   "id": "intensive-penny",
   "metadata": {},
   "outputs": [
    {
     "name": "stdout",
     "output_type": "stream",
     "text": [
      "%px:   0%|          | 0/8 [00:17<?, ?tasks/s]"
     ]
    },
    {
     "data": {
      "text/plain": [
       "[stdout:0] RandomForestClassifier fit and predict time:  14.590287068999714\n",
       "Accuracy score of the Random Forest Tree model is 0.9988588883817282\n"
      ]
     },
     "metadata": {},
     "output_type": "display_data"
    },
    {
     "name": "stdout",
     "output_type": "stream",
     "text": [
      "%px: 100%|██████████| 8/8 [00:17<00:00,  2.14s/tasks]\n"
     ]
    }
   ],
   "source": [
    "%%px\n",
    "@bodo.jit(distributed=['X_train', 'y_train', 'X_test', 'y_test'], cache=True)\n",
    "def rf_model(X_train, X_test, y_train, y_test):\n",
    "    start = time.time()\n",
    "    rf = RandomForestClassifier(max_depth = 4)\n",
    "    rf.fit(X_train, y_train)\n",
    "    rf_yhat = rf.predict(X_test)\n",
    "    print(\"RandomForestClassifier fit and predict time: \", time.time()-start)    \n",
    "    print('Accuracy score of the Random Forest Tree model is {}'.format(accuracy_score(y_test, rf_yhat)))\n",
    "\n",
    "rf_model(X_train, X_test, y_train, y_test)"
   ]
  },
  {
   "cell_type": "markdown",
   "id": "british-jones",
   "metadata": {},
   "source": [
    "#### 3. SVM"
   ]
  },
  {
   "cell_type": "code",
   "execution_count": 11,
   "id": "falling-species",
   "metadata": {},
   "outputs": [
    {
     "name": "stdout",
     "output_type": "stream",
     "text": [
      "%px:   0%|          | 0/8 [00:00<?, ?tasks/s]"
     ]
    },
    {
     "data": {
      "text/plain": [
       "[stdout:0] LinearSVC fit and predict time:  0.5518690680000873\n",
       "Accuracy score of the Linear Support Vector Classification model is 0.9987008883115059\n"
      ]
     },
     "metadata": {},
     "output_type": "display_data"
    },
    {
     "name": "stdout",
     "output_type": "stream",
     "text": [
      "%px: 100%|██████████| 8/8 [00:00<00:00, 22.03tasks/s]\n"
     ]
    }
   ],
   "source": [
    "%%px\n",
    "@bodo.jit(distributed=['X_train', 'y_train', 'X_test', 'y_test'], cache=True)\n",
    "def lsvc_model(X_train, X_test, y_train, y_test):  \n",
    "    start = time.time()\n",
    "    lsvc = LinearSVC(random_state=42)\n",
    "    lsvc.fit(X_train, y_train)\n",
    "    lsvc_yhat = lsvc.predict(X_test)\n",
    "    print(\"LinearSVC fit and predict time: \", time.time()-start) \n",
    "    print('Accuracy score of the Linear Support Vector Classification model is {}'.format(accuracy_score(y_test, lsvc_yhat)))\n",
    "\n",
    "lsvc_model(X_train, X_test, y_train, y_test)"
   ]
  },
  {
   "cell_type": "markdown",
   "id": "commercial-stamp",
   "metadata": {},
   "source": [
    "#### 4. XGBoost Model"
   ]
  },
  {
   "cell_type": "code",
   "execution_count": 12,
   "id": "extraordinary-stress",
   "metadata": {},
   "outputs": [
    {
     "name": "stdout",
     "output_type": "stream",
     "text": [
      "%px:   0%|          | 0/8 [00:00<?, ?tasks/s]"
     ]
    },
    {
     "data": {
      "text/plain": [
       "[stdout:2] [18:18:11] WARNING: /Users/ehsan/dev/tmp/xgboost/python-package/build/temp.macosx-10.9-x86_64-cpython-39/xgboost/src/learner.cc:1115: Starting in XGBoost 1.3.0, the default evaluation metric used with the objective 'binary:logistic' was changed from 'error' to 'logloss'. Explicitly set eval_metric if you'd like to restore the old behavior.\n"
      ]
     },
     "metadata": {},
     "output_type": "display_data"
    },
    {
     "data": {
      "text/plain": [
       "[stdout:6] [18:18:11] WARNING: /Users/ehsan/dev/tmp/xgboost/python-package/build/temp.macosx-10.9-x86_64-cpython-39/xgboost/src/learner.cc:1115: Starting in XGBoost 1.3.0, the default evaluation metric used with the objective 'binary:logistic' was changed from 'error' to 'logloss'. Explicitly set eval_metric if you'd like to restore the old behavior.\n"
      ]
     },
     "metadata": {},
     "output_type": "display_data"
    },
    {
     "name": "stdout",
     "output_type": "stream",
     "text": [
      "%px:   0%|          | 0/8 [00:00<?, ?tasks/s]"
     ]
    },
    {
     "data": {
      "text/plain": [
       "[stdout:5] [18:18:11] WARNING: /Users/ehsan/dev/tmp/xgboost/python-package/build/temp.macosx-10.9-x86_64-cpython-39/xgboost/src/learner.cc:1115: Starting in XGBoost 1.3.0, the default evaluation metric used with the objective 'binary:logistic' was changed from 'error' to 'logloss'. Explicitly set eval_metric if you'd like to restore the old behavior.\n"
      ]
     },
     "metadata": {},
     "output_type": "display_data"
    },
    {
     "data": {
      "text/plain": [
       "[stdout:3] [18:18:11] WARNING: /Users/ehsan/dev/tmp/xgboost/python-package/build/temp.macosx-10.9-x86_64-cpython-39/xgboost/src/learner.cc:1115: Starting in XGBoost 1.3.0, the default evaluation metric used with the objective 'binary:logistic' was changed from 'error' to 'logloss'. Explicitly set eval_metric if you'd like to restore the old behavior.\n"
      ]
     },
     "metadata": {},
     "output_type": "display_data"
    },
    {
     "data": {
      "text/plain": [
       "[stdout:7] [18:18:11] WARNING: /Users/ehsan/dev/tmp/xgboost/python-package/build/temp.macosx-10.9-x86_64-cpython-39/xgboost/src/learner.cc:1115: Starting in XGBoost 1.3.0, the default evaluation metric used with the objective 'binary:logistic' was changed from 'error' to 'logloss'. Explicitly set eval_metric if you'd like to restore the old behavior.\n"
      ]
     },
     "metadata": {},
     "output_type": "display_data"
    },
    {
     "data": {
      "text/plain": [
       "[stdout:1] [18:18:11] WARNING: /Users/ehsan/dev/tmp/xgboost/python-package/build/temp.macosx-10.9-x86_64-cpython-39/xgboost/src/learner.cc:1115: Starting in XGBoost 1.3.0, the default evaluation metric used with the objective 'binary:logistic' was changed from 'error' to 'logloss'. Explicitly set eval_metric if you'd like to restore the old behavior.\n"
      ]
     },
     "metadata": {},
     "output_type": "display_data"
    },
    {
     "data": {
      "text/plain": [
       "[stdout:4] [18:18:11] WARNING: /Users/ehsan/dev/tmp/xgboost/python-package/build/temp.macosx-10.9-x86_64-cpython-39/xgboost/src/learner.cc:1115: Starting in XGBoost 1.3.0, the default evaluation metric used with the objective 'binary:logistic' was changed from 'error' to 'logloss'. Explicitly set eval_metric if you'd like to restore the old behavior.\n"
      ]
     },
     "metadata": {},
     "output_type": "display_data"
    },
    {
     "name": "stdout",
     "output_type": "stream",
     "text": [
      "%px:   0%|          | 0/8 [00:00<?, ?tasks/s]"
     ]
    },
    {
     "data": {
      "text/plain": [
       "[stdout:0] [18:18:12] WARNING: /Users/ehsan/dev/tmp/xgboost/python-package/build/temp.macosx-10.9-x86_64-cpython-39/xgboost/src/learner.cc:1115: Starting in XGBoost 1.3.0, the default evaluation metric used with the objective 'binary:logistic' was changed from 'error' to 'logloss'. Explicitly set eval_metric if you'd like to restore the old behavior.\n",
       "XGBClassifier fit and predict time:  8.144538540999747\n",
       "Accuracy score of the XGBoost model is 0.9989466661985184\n"
      ]
     },
     "metadata": {},
     "output_type": "display_data"
    },
    {
     "name": "stdout",
     "output_type": "stream",
     "text": [
      "%px: 100%|██████████| 8/8 [00:08<00:00,  1.03s/tasks]\n"
     ]
    }
   ],
   "source": [
    "%%px\n",
    "from xgboost import XGBClassifier # XGBoost algorithm\n",
    "\n",
    "@bodo.jit(distributed=['X_train', 'y_train', 'X_test', 'y_test'], cache=True)\n",
    "def xgb_model(X_train, X_test, y_train, y_test):  \n",
    "    start = time.time()\n",
    "    xgb = XGBClassifier(max_depth = 4)\n",
    "    xgb.fit(X_train, y_train)\n",
    "    xgb_yhat = xgb.predict(X_test)\n",
    "    print(\"XGBClassifier fit and predict time: \", time.time()-start) \n",
    "    print('Accuracy score of the XGBoost model is {}'.format(accuracy_score(y_test, xgb_yhat)))\n",
    "\n",
    "xgb_model(X_train, X_test, y_train, y_test)"
   ]
  },
  {
   "cell_type": "code",
   "execution_count": 13,
   "id": "neural-house",
   "metadata": {},
   "outputs": [
    {
     "name": "stdout",
     "output_type": "stream",
     "text": [
      "Stopping controller\n",
      "Controller stopped: {'exit_code': 0, 'pid': 47768, 'identifier': 'ipcontroller-1652912185-7wpt-46887'}\n",
      "Stopping engine(s): 1652912186\n",
      "engine set stopped 1652912186: {'exit_code': 0, 'pid': 48282, 'identifier': 'ipengine-1652912185-7wpt-1652912186-46887'}\n"
     ]
    }
   ],
   "source": [
    "# To stop the cluster run the following command. \n",
    "rc.cluster.stop_cluster_sync()"
   ]
  },
  {
   "cell_type": "code",
   "execution_count": null,
   "id": "9a58e315-b984-4fd1-9310-3c890722a240",
   "metadata": {},
   "outputs": [],
   "source": []
  }
 ],
 "metadata": {
  "interpreter": {
   "hash": "16c8ad1c156570dbb9b8c59e261dba05f4270231d6ef51b3fb205099379bfe9f"
  },
  "kernelspec": {
   "display_name": "Python 3.9.12 ('base')",
   "language": "python",
   "name": "python3"
  },
  "language_info": {
   "codemirror_mode": {
    "name": "ipython",
    "version": 3
   },
   "file_extension": ".py",
   "mimetype": "text/x-python",
   "name": "python",
   "nbconvert_exporter": "python",
   "pygments_lexer": "ipython3",
   "version": "3.9.12"
  }
 },
 "nbformat": 4,
 "nbformat_minor": 5
}
