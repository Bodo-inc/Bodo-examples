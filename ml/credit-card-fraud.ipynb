{
 "cells": [
  {
   "cell_type": "markdown",
   "id": "acoustic-camping",
   "metadata": {},
   "source": [
    "# Credit Card Fraud Detection With Machine Learning in Python\n",
    "\n",
    "This example shows use of classification to help credit card company to detect potential fraud cases. \n",
    "Original example can be found [here](https://medium.com/codex/credit-card-fraud-detection-with-machine-learning-in-python-ac7281991d87)."
   ]
  },
  {
   "cell_type": "markdown",
   "id": "pressed-mongolia",
   "metadata": {},
   "source": [
    "### Notes on running this example:\n",
    "\n",
    "By defaults runs use Bodo. Hence, data is distributed in chunks across processes.\n",
    "\n",
    "The current results are based on running on a local Macbook Pro. You can also run it on our platform using, for example, one **m5.12xlarge** instance (24 cores, 192GiB memory)\n",
    "\n",
    "The dataset can be downloaded from Kaggle [here](https://www.kaggle.com/mlg-ulb/creditcardfraud) or use S3 Bucket (`s3://bodo-examples-data/creditcard/creditcard.csv`)\n",
    "\n",
    "To run the code:\n",
    "1. Make sure you add your AWS account credentials to access the data (if using S3 bucket link). \n",
    "2. If you want to run the example using pandas only (without Bodo):\n",
    "    1. Comment lines magic expression (`%%px`) and bodo decorator (`@bodo.jit`) from all the code cells.\n",
    "    2. Then, re-run cells from the beginning.\n",
    "3. For xgboost package, build it from source with MPI enabled (this step is already done on Bodo Platform)."
   ]
  },
  {
   "cell_type": "markdown",
   "id": "275bd502-c7df-4693-ad91-32abacc66be8",
   "metadata": {},
   "source": [
    "### Start an IPyParallel cluster (skip if running on Bodo Platform)\n",
    "Run the following code in a cell to start an IPyParallel cluster. 4 cores are used in this example. You will skip this step and next one (Verify your IPyParallel cluster) if you are using bodo's platform."
   ]
  },
  {
   "cell_type": "code",
   "execution_count": 35,
   "id": "dc85ae9e-883f-454c-a860-a9ab05065133",
   "metadata": {},
   "outputs": [
    {
     "name": "stdout",
     "output_type": "stream",
     "text": [
      "Starting 4 engines with <class 'ipyparallel.cluster.launcher.MPIEngineSetLauncher'>\n",
      "\n",
      "  0%|                                                                                                   | 0/4 [00:00<?, ?engine/s]\u001b[A\n",
      "100%|███████████████████████████████████████████████████████████████████████████████████████████| 4/4 [00:06<00:00,  1.72s/engine]\u001b[A\n"
     ]
    }
   ],
   "source": [
    "import ipyparallel as ipp\n",
    "import psutil; n = min(psutil.cpu_count(logical=False), 4)\n",
    "rc = ipp.Cluster(engines='mpi', n=n).start_and_connect_sync(activate=True)"
   ]
  },
  {
   "cell_type": "markdown",
   "id": "049f272c-f965-4764-bdba-d643bf6e6515",
   "metadata": {},
   "source": [
    "### Verifying your setup\n",
    "Run the following code to verify that your IPyParallel cluster is set up correctly:"
   ]
  },
  {
   "cell_type": "code",
   "execution_count": 36,
   "id": "466c4772-a044-468b-851a-dc4672e07f6b",
   "metadata": {},
   "outputs": [
    {
     "name": "stdout",
     "output_type": "stream",
     "text": [
      "\n",
      "%px:   0%|                                                                                               | 0/4 [00:00<?, ?tasks/s]\u001b[A\n",
      "%px:   0%|                                                                                               | 0/4 [00:00<?, ?tasks/s]\u001b[A\n",
      "%px:   0%|                                                                                               | 0/4 [00:00<?, ?tasks/s]\u001b[A\n",
      "%px:   0%|                                                                                               | 0/4 [00:00<?, ?tasks/s]\u001b[A\n",
      "%px:   0%|                                                                                               | 0/4 [00:00<?, ?tasks/s]\u001b[A\n",
      "%px:   0%|                                                                                               | 0/4 [00:00<?, ?tasks/s]\u001b[A\n",
      "%px:   0%|                                                                                               | 0/4 [00:00<?, ?tasks/s]\u001b[A\n",
      "%px:   0%|                                                                                               | 0/4 [00:00<?, ?tasks/s]\u001b[A\n",
      "%px:   0%|                                                                                               | 0/4 [00:00<?, ?tasks/s]\u001b[A\n",
      "%px:   0%|                                                                                               | 0/4 [00:00<?, ?tasks/s]\u001b[A\n",
      "%px:   0%|                                                                                               | 0/4 [00:01<?, ?tasks/s]\u001b[A"
     ]
    },
    {
     "data": {
      "text/plain": [
       "[stdout:1] Hello World from rank 1. Total ranks=4\n"
      ]
     },
     "metadata": {},
     "output_type": "display_data"
    },
    {
     "data": {
      "text/plain": [
       "[stdout:2] Hello World from rank 2. Total ranks=4\n"
      ]
     },
     "metadata": {},
     "output_type": "display_data"
    },
    {
     "data": {
      "text/plain": [
       "[stdout:3] Hello World from rank 3. Total ranks=4\n"
      ]
     },
     "metadata": {},
     "output_type": "display_data"
    },
    {
     "data": {
      "text/plain": [
       "[stdout:0] Hello World from rank 0. Total ranks=4\n"
      ]
     },
     "metadata": {},
     "output_type": "display_data"
    },
    {
     "name": "stdout",
     "output_type": "stream",
     "text": [
      "%px: 100%|███████████████████████████████████████████████████████████████████████████████████████| 4/4 [00:01<00:00,  3.54tasks/s]\n"
     ]
    }
   ],
   "source": [
    "%%px\n",
    "import bodo\n",
    "print(f\"Hello World from rank {bodo.get_rank()}. Total ranks={bodo.get_size()}\")"
   ]
  },
  {
   "cell_type": "markdown",
   "id": "changing-enzyme",
   "metadata": {},
   "source": [
    "## Importing the Packages\n",
    "\n",
    "These are the main packages we are going to work with:\n",
    " - Bodo to parallelize Python code automatically\n",
    " - Pandas to work with data\n",
    " - Numpy to work with arrays\n",
    " - scikit-learn to build and evaluate classification models\n",
    " - xgboost for xgboost classifier model algorithm"
   ]
  },
  {
   "cell_type": "code",
   "execution_count": 22,
   "id": "arabic-feeding",
   "metadata": {},
   "outputs": [
    {
     "name": "stdout",
     "output_type": "stream",
     "text": [
      "%px: 100%|█████████████████████████████████████| 4/4 [00:00<00:00,  5.07tasks/s]\n"
     ]
    }
   ],
   "source": [
    "%%px\n",
    "import warnings\n",
    "warnings.filterwarnings(\"ignore\")\n",
    "\n",
    "import bodo\n",
    "import numpy as np\n",
    "import pandas as pd\n",
    "import time\n",
    "from sklearn.preprocessing import StandardScaler # data normalization\n",
    "from sklearn.model_selection import train_test_split # data split\n",
    "from sklearn.linear_model import LogisticRegression # Logistic regression algorithm\n",
    "from sklearn.ensemble import RandomForestClassifier # Random forest tree algorithm\n",
    "from xgboost import XGBClassifier # XGBoost algorithm\n",
    "from sklearn.svm import LinearSVC # SVM classification algorithm\n",
    "from sklearn.metrics import accuracy_score # evaluation metric"
   ]
  },
  {
   "cell_type": "code",
   "execution_count": 23,
   "id": "controlled-document",
   "metadata": {},
   "outputs": [],
   "source": [
    "%%px\n",
    "import os\n",
    "os.environ[\"AWS_ACCESS_KEY_ID\"] = \"your_aws_access_key_id\"\n",
    "os.environ[\"AWS_SECRET_ACCESS_KEY\"] = \"your_aws_secret_access_key\"\n",
    "os.environ[\"AWS_DEFAULT_REGION\"] = \"us-east-2\""
   ]
  },
  {
   "cell_type": "markdown",
   "id": "dutch-daughter",
   "metadata": {},
   "source": [
    "## Data Processing and EDA\n",
    "1. Load dataset\n",
    "2. Compute the percentage of fraud cases in the overall recorded transcations.\n",
    "3. Get a statistical view of both fraud and non-fraud transaction amount data"
   ]
  },
  {
   "cell_type": "code",
   "execution_count": 24,
   "id": "weighted-being",
   "metadata": {},
   "outputs": [
    {
     "name": "stdout",
     "output_type": "stream",
     "text": [
      "%px:   0%|                                             | 0/4 [00:22<?, ?tasks/s]"
     ]
    },
    {
     "data": {
      "text/plain": [
       "[stdout:0] Read Time:  23.584205590999773\n"
      ]
     },
     "metadata": {},
     "output_type": "display_data"
    },
    {
     "data": {
      "text/html": [
       "<div>\n",
       "<style scoped>\n",
       "    .dataframe tbody tr th:only-of-type {\n",
       "        vertical-align: middle;\n",
       "    }\n",
       "\n",
       "    .dataframe tbody tr th {\n",
       "        vertical-align: top;\n",
       "    }\n",
       "\n",
       "    .dataframe thead th {\n",
       "        text-align: right;\n",
       "    }\n",
       "</style>\n",
       "<table border=\"1\" class=\"dataframe\">\n",
       "  <thead>\n",
       "    <tr style=\"text-align: right;\">\n",
       "      <th></th>\n",
       "      <th>V1</th>\n",
       "      <th>V2</th>\n",
       "      <th>V3</th>\n",
       "      <th>V4</th>\n",
       "      <th>V5</th>\n",
       "      <th>V6</th>\n",
       "      <th>V7</th>\n",
       "      <th>V8</th>\n",
       "      <th>V9</th>\n",
       "      <th>V10</th>\n",
       "      <th>...</th>\n",
       "      <th>V21</th>\n",
       "      <th>V22</th>\n",
       "      <th>V23</th>\n",
       "      <th>V24</th>\n",
       "      <th>V25</th>\n",
       "      <th>V26</th>\n",
       "      <th>V27</th>\n",
       "      <th>V28</th>\n",
       "      <th>Amount</th>\n",
       "      <th>Class</th>\n",
       "    </tr>\n",
       "  </thead>\n",
       "  <tbody>\n",
       "    <tr>\n",
       "      <th>142404</th>\n",
       "      <td>-0.439952</td>\n",
       "      <td>0.683758</td>\n",
       "      <td>1.225814</td>\n",
       "      <td>0.639113</td>\n",
       "      <td>0.716765</td>\n",
       "      <td>0.089295</td>\n",
       "      <td>0.657718</td>\n",
       "      <td>0.034213</td>\n",
       "      <td>-0.472679</td>\n",
       "      <td>0.352698</td>\n",
       "      <td>...</td>\n",
       "      <td>0.127443</td>\n",
       "      <td>0.588590</td>\n",
       "      <td>-0.145728</td>\n",
       "      <td>-0.322900</td>\n",
       "      <td>-0.299744</td>\n",
       "      <td>-0.310295</td>\n",
       "      <td>0.248317</td>\n",
       "      <td>-0.011493</td>\n",
       "      <td>19.00</td>\n",
       "      <td>0</td>\n",
       "    </tr>\n",
       "    <tr>\n",
       "      <th>142405</th>\n",
       "      <td>-4.868108</td>\n",
       "      <td>1.264420</td>\n",
       "      <td>-5.167885</td>\n",
       "      <td>3.193648</td>\n",
       "      <td>-3.045621</td>\n",
       "      <td>-2.096166</td>\n",
       "      <td>-6.445610</td>\n",
       "      <td>2.422536</td>\n",
       "      <td>-3.214055</td>\n",
       "      <td>-8.745973</td>\n",
       "      <td>...</td>\n",
       "      <td>1.269205</td>\n",
       "      <td>0.057657</td>\n",
       "      <td>0.629307</td>\n",
       "      <td>-0.168432</td>\n",
       "      <td>0.443744</td>\n",
       "      <td>0.276539</td>\n",
       "      <td>1.441274</td>\n",
       "      <td>-0.127944</td>\n",
       "      <td>12.31</td>\n",
       "      <td>1</td>\n",
       "    </tr>\n",
       "    <tr>\n",
       "      <th>142406</th>\n",
       "      <td>1.013114</td>\n",
       "      <td>-0.334412</td>\n",
       "      <td>1.305208</td>\n",
       "      <td>0.837406</td>\n",
       "      <td>-1.126833</td>\n",
       "      <td>-0.064321</td>\n",
       "      <td>-0.594753</td>\n",
       "      <td>0.147737</td>\n",
       "      <td>0.536360</td>\n",
       "      <td>-0.120472</td>\n",
       "      <td>...</td>\n",
       "      <td>0.017079</td>\n",
       "      <td>0.112210</td>\n",
       "      <td>-0.016084</td>\n",
       "      <td>0.595033</td>\n",
       "      <td>0.201073</td>\n",
       "      <td>0.278215</td>\n",
       "      <td>0.007457</td>\n",
       "      <td>0.030762</td>\n",
       "      <td>66.60</td>\n",
       "      <td>0</td>\n",
       "    </tr>\n",
       "    <tr>\n",
       "      <th>142407</th>\n",
       "      <td>0.969231</td>\n",
       "      <td>-0.233554</td>\n",
       "      <td>0.238473</td>\n",
       "      <td>0.145793</td>\n",
       "      <td>-0.545741</td>\n",
       "      <td>-0.970680</td>\n",
       "      <td>0.347393</td>\n",
       "      <td>-0.209522</td>\n",
       "      <td>-0.342571</td>\n",
       "      <td>-0.100331</td>\n",
       "      <td>...</td>\n",
       "      <td>-0.362820</td>\n",
       "      <td>-1.417272</td>\n",
       "      <td>0.162136</td>\n",
       "      <td>0.541628</td>\n",
       "      <td>-0.079465</td>\n",
       "      <td>0.268702</td>\n",
       "      <td>-0.101237</td>\n",
       "      <td>0.028234</td>\n",
       "      <td>141.00</td>\n",
       "      <td>0</td>\n",
       "    </tr>\n",
       "    <tr>\n",
       "      <th>142408</th>\n",
       "      <td>-0.856523</td>\n",
       "      <td>1.080875</td>\n",
       "      <td>1.866956</td>\n",
       "      <td>1.729941</td>\n",
       "      <td>-0.161741</td>\n",
       "      <td>0.028789</td>\n",
       "      <td>0.401787</td>\n",
       "      <td>0.043774</td>\n",
       "      <td>-0.213916</td>\n",
       "      <td>0.155907</td>\n",
       "      <td>...</td>\n",
       "      <td>0.007365</td>\n",
       "      <td>0.077392</td>\n",
       "      <td>-0.221906</td>\n",
       "      <td>0.394141</td>\n",
       "      <td>0.237225</td>\n",
       "      <td>-0.080102</td>\n",
       "      <td>-0.291408</td>\n",
       "      <td>0.092140</td>\n",
       "      <td>2.60</td>\n",
       "      <td>0</td>\n",
       "    </tr>\n",
       "  </tbody>\n",
       "</table>\n",
       "<p>5 rows × 30 columns</p>\n",
       "</div>"
      ],
      "text/plain": [
       "\u001b[0;31mOut[2:4]: \u001b[0m\n",
       "              V1        V2        V3        V4        V5        V6        V7  \\\n",
       "142404 -0.439952  0.683758  1.225814  0.639113  0.716765  0.089295  0.657718   \n",
       "142405 -4.868108  1.264420 -5.167885  3.193648 -3.045621 -2.096166 -6.445610   \n",
       "142406  1.013114 -0.334412  1.305208  0.837406 -1.126833 -0.064321 -0.594753   \n",
       "142407  0.969231 -0.233554  0.238473  0.145793 -0.545741 -0.970680  0.347393   \n",
       "142408 -0.856523  1.080875  1.866956  1.729941 -0.161741  0.028789  0.401787   \n",
       "\n",
       "              V8        V9       V10  ...       V21       V22       V23  \\\n",
       "142404  0.034213 -0.472679  0.352698  ...  0.127443  0.588590 -0.145728   \n",
       "142405  2.422536 -3.214055 -8.745973  ...  1.269205  0.057657  0.629307   \n",
       "142406  0.147737  0.536360 -0.120472  ...  0.017079  0.112210 -0.016084   \n",
       "142407 -0.209522 -0.342571 -0.100331  ... -0.362820 -1.417272  0.162136   \n",
       "142408  0.043774 -0.213916  0.155907  ...  0.007365  0.077392 -0.221906   \n",
       "\n",
       "             V24       V25       V26       V27       V28  Amount  Class  \n",
       "142404 -0.322900 -0.299744 -0.310295  0.248317 -0.011493   19.00      0  \n",
       "142405 -0.168432  0.443744  0.276539  1.441274 -0.127944   12.31      1  \n",
       "142406  0.595033  0.201073  0.278215  0.007457  0.030762   66.60      0  \n",
       "142407  0.541628 -0.079465  0.268702 -0.101237  0.028234  141.00      0  \n",
       "142408  0.394141  0.237225 -0.080102 -0.291408  0.092140    2.60      0  \n",
       "\n",
       "[5 rows x 30 columns]"
      ]
     },
     "metadata": {
      "after": null,
      "completed": null,
      "data": {},
      "engine_id": 2,
      "engine_uuid": "c967a2aa-2b047ae38e8cdf80db451761",
      "error": null,
      "execute_input": "@bodo.jit(distributed=['df'], cache=True)\ndef load_data():\n    start = time.time()\n    df = pd.read_csv('s3://bodo-examples-data/creditcard/creditcard.csv')\n    df.drop('Time', axis = 1, inplace = True)\n    end = time.time()\n    print(\"Read Time: \", (end-start))\n    return df\n\ndf = load_data()\ndf.head()\n",
      "execute_result": {
       "data": {
        "text/html": "<div>\n<style scoped>\n    .dataframe tbody tr th:only-of-type {\n        vertical-align: middle;\n    }\n\n    .dataframe tbody tr th {\n        vertical-align: top;\n    }\n\n    .dataframe thead th {\n        text-align: right;\n    }\n</style>\n<table border=\"1\" class=\"dataframe\">\n  <thead>\n    <tr style=\"text-align: right;\">\n      <th></th>\n      <th>V1</th>\n      <th>V2</th>\n      <th>V3</th>\n      <th>V4</th>\n      <th>V5</th>\n      <th>V6</th>\n      <th>V7</th>\n      <th>V8</th>\n      <th>V9</th>\n      <th>V10</th>\n      <th>...</th>\n      <th>V21</th>\n      <th>V22</th>\n      <th>V23</th>\n      <th>V24</th>\n      <th>V25</th>\n      <th>V26</th>\n      <th>V27</th>\n      <th>V28</th>\n      <th>Amount</th>\n      <th>Class</th>\n    </tr>\n  </thead>\n  <tbody>\n    <tr>\n      <th>142404</th>\n      <td>-0.439952</td>\n      <td>0.683758</td>\n      <td>1.225814</td>\n      <td>0.639113</td>\n      <td>0.716765</td>\n      <td>0.089295</td>\n      <td>0.657718</td>\n      <td>0.034213</td>\n      <td>-0.472679</td>\n      <td>0.352698</td>\n      <td>...</td>\n      <td>0.127443</td>\n      <td>0.588590</td>\n      <td>-0.145728</td>\n      <td>-0.322900</td>\n      <td>-0.299744</td>\n      <td>-0.310295</td>\n      <td>0.248317</td>\n      <td>-0.011493</td>\n      <td>19.00</td>\n      <td>0</td>\n    </tr>\n    <tr>\n      <th>142405</th>\n      <td>-4.868108</td>\n      <td>1.264420</td>\n      <td>-5.167885</td>\n      <td>3.193648</td>\n      <td>-3.045621</td>\n      <td>-2.096166</td>\n      <td>-6.445610</td>\n      <td>2.422536</td>\n      <td>-3.214055</td>\n      <td>-8.745973</td>\n      <td>...</td>\n      <td>1.269205</td>\n      <td>0.057657</td>\n      <td>0.629307</td>\n      <td>-0.168432</td>\n      <td>0.443744</td>\n      <td>0.276539</td>\n      <td>1.441274</td>\n      <td>-0.127944</td>\n      <td>12.31</td>\n      <td>1</td>\n    </tr>\n    <tr>\n      <th>142406</th>\n      <td>1.013114</td>\n      <td>-0.334412</td>\n      <td>1.305208</td>\n      <td>0.837406</td>\n      <td>-1.126833</td>\n      <td>-0.064321</td>\n      <td>-0.594753</td>\n      <td>0.147737</td>\n      <td>0.536360</td>\n      <td>-0.120472</td>\n      <td>...</td>\n      <td>0.017079</td>\n      <td>0.112210</td>\n      <td>-0.016084</td>\n      <td>0.595033</td>\n      <td>0.201073</td>\n      <td>0.278215</td>\n      <td>0.007457</td>\n      <td>0.030762</td>\n      <td>66.60</td>\n      <td>0</td>\n    </tr>\n    <tr>\n      <th>142407</th>\n      <td>0.969231</td>\n      <td>-0.233554</td>\n      <td>0.238473</td>\n      <td>0.145793</td>\n      <td>-0.545741</td>\n      <td>-0.970680</td>\n      <td>0.347393</td>\n      <td>-0.209522</td>\n      <td>-0.342571</td>\n      <td>-0.100331</td>\n      <td>...</td>\n      <td>-0.362820</td>\n      <td>-1.417272</td>\n      <td>0.162136</td>\n      <td>0.541628</td>\n      <td>-0.079465</td>\n      <td>0.268702</td>\n      <td>-0.101237</td>\n      <td>0.028234</td>\n      <td>141.00</td>\n      <td>0</td>\n    </tr>\n    <tr>\n      <th>142408</th>\n      <td>-0.856523</td>\n      <td>1.080875</td>\n      <td>1.866956</td>\n      <td>1.729941</td>\n      <td>-0.161741</td>\n      <td>0.028789</td>\n      <td>0.401787</td>\n      <td>0.043774</td>\n      <td>-0.213916</td>\n      <td>0.155907</td>\n      <td>...</td>\n      <td>0.007365</td>\n      <td>0.077392</td>\n      <td>-0.221906</td>\n      <td>0.394141</td>\n      <td>0.237225</td>\n      <td>-0.080102</td>\n      <td>-0.291408</td>\n      <td>0.092140</td>\n      <td>2.60</td>\n      <td>0</td>\n    </tr>\n  </tbody>\n</table>\n<p>5 rows × 30 columns</p>\n</div>",
        "text/plain": "              V1        V2        V3        V4        V5        V6        V7  \\\n142404 -0.439952  0.683758  1.225814  0.639113  0.716765  0.089295  0.657718   \n142405 -4.868108  1.264420 -5.167885  3.193648 -3.045621 -2.096166 -6.445610   \n142406  1.013114 -0.334412  1.305208  0.837406 -1.126833 -0.064321 -0.594753   \n142407  0.969231 -0.233554  0.238473  0.145793 -0.545741 -0.970680  0.347393   \n142408 -0.856523  1.080875  1.866956  1.729941 -0.161741  0.028789  0.401787   \n\n              V8        V9       V10  ...       V21       V22       V23  \\\n142404  0.034213 -0.472679  0.352698  ...  0.127443  0.588590 -0.145728   \n142405  2.422536 -3.214055 -8.745973  ...  1.269205  0.057657  0.629307   \n142406  0.147737  0.536360 -0.120472  ...  0.017079  0.112210 -0.016084   \n142407 -0.209522 -0.342571 -0.100331  ... -0.362820 -1.417272  0.162136   \n142408  0.043774 -0.213916  0.155907  ...  0.007365  0.077392 -0.221906   \n\n             V24       V25       V26       V27       V28  Amount  Class  \n142404 -0.322900 -0.299744 -0.310295  0.248317 -0.011493   19.00      0  \n142405 -0.168432  0.443744  0.276539  1.441274 -0.127944   12.31      1  \n142406  0.595033  0.201073  0.278215  0.007457  0.030762   66.60      0  \n142407  0.541628 -0.079465  0.268702 -0.101237  0.028234  141.00      0  \n142408  0.394141  0.237225 -0.080102 -0.291408  0.092140    2.60      0  \n\n[5 rows x 30 columns]"
       },
       "execution_count": 4,
       "metadata": {}
      },
      "follow": null,
      "msg_id": null,
      "outputs": [],
      "received": null,
      "started": null,
      "status": null,
      "stderr": "",
      "stdout": "",
      "submitted": "2022-02-08T15:48:41.390541Z"
     },
     "output_type": "display_data"
    },
    {
     "data": {
      "text/html": [
       "<div>\n",
       "<style scoped>\n",
       "    .dataframe tbody tr th:only-of-type {\n",
       "        vertical-align: middle;\n",
       "    }\n",
       "\n",
       "    .dataframe tbody tr th {\n",
       "        vertical-align: top;\n",
       "    }\n",
       "\n",
       "    .dataframe thead th {\n",
       "        text-align: right;\n",
       "    }\n",
       "</style>\n",
       "<table border=\"1\" class=\"dataframe\">\n",
       "  <thead>\n",
       "    <tr style=\"text-align: right;\">\n",
       "      <th></th>\n",
       "      <th>V1</th>\n",
       "      <th>V2</th>\n",
       "      <th>V3</th>\n",
       "      <th>V4</th>\n",
       "      <th>V5</th>\n",
       "      <th>V6</th>\n",
       "      <th>V7</th>\n",
       "      <th>V8</th>\n",
       "      <th>V9</th>\n",
       "      <th>V10</th>\n",
       "      <th>...</th>\n",
       "      <th>V21</th>\n",
       "      <th>V22</th>\n",
       "      <th>V23</th>\n",
       "      <th>V24</th>\n",
       "      <th>V25</th>\n",
       "      <th>V26</th>\n",
       "      <th>V27</th>\n",
       "      <th>V28</th>\n",
       "      <th>Amount</th>\n",
       "      <th>Class</th>\n",
       "    </tr>\n",
       "  </thead>\n",
       "  <tbody>\n",
       "    <tr>\n",
       "      <th>0</th>\n",
       "      <td>-1.359807</td>\n",
       "      <td>-0.072781</td>\n",
       "      <td>2.536347</td>\n",
       "      <td>1.378155</td>\n",
       "      <td>-0.338321</td>\n",
       "      <td>0.462388</td>\n",
       "      <td>0.239599</td>\n",
       "      <td>0.098698</td>\n",
       "      <td>0.363787</td>\n",
       "      <td>0.090794</td>\n",
       "      <td>...</td>\n",
       "      <td>-0.018307</td>\n",
       "      <td>0.277838</td>\n",
       "      <td>-0.110474</td>\n",
       "      <td>0.066928</td>\n",
       "      <td>0.128539</td>\n",
       "      <td>-0.189115</td>\n",
       "      <td>0.133558</td>\n",
       "      <td>-0.021053</td>\n",
       "      <td>149.62</td>\n",
       "      <td>0</td>\n",
       "    </tr>\n",
       "    <tr>\n",
       "      <th>1</th>\n",
       "      <td>1.191857</td>\n",
       "      <td>0.266151</td>\n",
       "      <td>0.166480</td>\n",
       "      <td>0.448154</td>\n",
       "      <td>0.060018</td>\n",
       "      <td>-0.082361</td>\n",
       "      <td>-0.078803</td>\n",
       "      <td>0.085102</td>\n",
       "      <td>-0.255425</td>\n",
       "      <td>-0.166974</td>\n",
       "      <td>...</td>\n",
       "      <td>-0.225775</td>\n",
       "      <td>-0.638672</td>\n",
       "      <td>0.101288</td>\n",
       "      <td>-0.339846</td>\n",
       "      <td>0.167170</td>\n",
       "      <td>0.125895</td>\n",
       "      <td>-0.008983</td>\n",
       "      <td>0.014724</td>\n",
       "      <td>2.69</td>\n",
       "      <td>0</td>\n",
       "    </tr>\n",
       "    <tr>\n",
       "      <th>2</th>\n",
       "      <td>-1.358354</td>\n",
       "      <td>-1.340163</td>\n",
       "      <td>1.773209</td>\n",
       "      <td>0.379780</td>\n",
       "      <td>-0.503198</td>\n",
       "      <td>1.800499</td>\n",
       "      <td>0.791461</td>\n",
       "      <td>0.247676</td>\n",
       "      <td>-1.514654</td>\n",
       "      <td>0.207643</td>\n",
       "      <td>...</td>\n",
       "      <td>0.247998</td>\n",
       "      <td>0.771679</td>\n",
       "      <td>0.909412</td>\n",
       "      <td>-0.689281</td>\n",
       "      <td>-0.327642</td>\n",
       "      <td>-0.139097</td>\n",
       "      <td>-0.055353</td>\n",
       "      <td>-0.059752</td>\n",
       "      <td>378.66</td>\n",
       "      <td>0</td>\n",
       "    </tr>\n",
       "    <tr>\n",
       "      <th>3</th>\n",
       "      <td>-0.966272</td>\n",
       "      <td>-0.185226</td>\n",
       "      <td>1.792993</td>\n",
       "      <td>-0.863291</td>\n",
       "      <td>-0.010309</td>\n",
       "      <td>1.247203</td>\n",
       "      <td>0.237609</td>\n",
       "      <td>0.377436</td>\n",
       "      <td>-1.387024</td>\n",
       "      <td>-0.054952</td>\n",
       "      <td>...</td>\n",
       "      <td>-0.108300</td>\n",
       "      <td>0.005274</td>\n",
       "      <td>-0.190321</td>\n",
       "      <td>-1.175575</td>\n",
       "      <td>0.647376</td>\n",
       "      <td>-0.221929</td>\n",
       "      <td>0.062723</td>\n",
       "      <td>0.061458</td>\n",
       "      <td>123.50</td>\n",
       "      <td>0</td>\n",
       "    </tr>\n",
       "    <tr>\n",
       "      <th>4</th>\n",
       "      <td>-1.158233</td>\n",
       "      <td>0.877737</td>\n",
       "      <td>1.548718</td>\n",
       "      <td>0.403034</td>\n",
       "      <td>-0.407193</td>\n",
       "      <td>0.095921</td>\n",
       "      <td>0.592941</td>\n",
       "      <td>-0.270533</td>\n",
       "      <td>0.817739</td>\n",
       "      <td>0.753074</td>\n",
       "      <td>...</td>\n",
       "      <td>-0.009431</td>\n",
       "      <td>0.798278</td>\n",
       "      <td>-0.137458</td>\n",
       "      <td>0.141267</td>\n",
       "      <td>-0.206010</td>\n",
       "      <td>0.502292</td>\n",
       "      <td>0.219422</td>\n",
       "      <td>0.215153</td>\n",
       "      <td>69.99</td>\n",
       "      <td>0</td>\n",
       "    </tr>\n",
       "  </tbody>\n",
       "</table>\n",
       "<p>5 rows × 30 columns</p>\n",
       "</div>"
      ],
      "text/plain": [
       "\u001b[0;31mOut[0:4]: \u001b[0m\n",
       "         V1        V2        V3        V4        V5        V6        V7  \\\n",
       "0 -1.359807 -0.072781  2.536347  1.378155 -0.338321  0.462388  0.239599   \n",
       "1  1.191857  0.266151  0.166480  0.448154  0.060018 -0.082361 -0.078803   \n",
       "2 -1.358354 -1.340163  1.773209  0.379780 -0.503198  1.800499  0.791461   \n",
       "3 -0.966272 -0.185226  1.792993 -0.863291 -0.010309  1.247203  0.237609   \n",
       "4 -1.158233  0.877737  1.548718  0.403034 -0.407193  0.095921  0.592941   \n",
       "\n",
       "         V8        V9       V10  ...       V21       V22       V23       V24  \\\n",
       "0  0.098698  0.363787  0.090794  ... -0.018307  0.277838 -0.110474  0.066928   \n",
       "1  0.085102 -0.255425 -0.166974  ... -0.225775 -0.638672  0.101288 -0.339846   \n",
       "2  0.247676 -1.514654  0.207643  ...  0.247998  0.771679  0.909412 -0.689281   \n",
       "3  0.377436 -1.387024 -0.054952  ... -0.108300  0.005274 -0.190321 -1.175575   \n",
       "4 -0.270533  0.817739  0.753074  ... -0.009431  0.798278 -0.137458  0.141267   \n",
       "\n",
       "        V25       V26       V27       V28  Amount  Class  \n",
       "0  0.128539 -0.189115  0.133558 -0.021053  149.62      0  \n",
       "1  0.167170  0.125895 -0.008983  0.014724    2.69      0  \n",
       "2 -0.327642 -0.139097 -0.055353 -0.059752  378.66      0  \n",
       "3  0.647376 -0.221929  0.062723  0.061458  123.50      0  \n",
       "4 -0.206010  0.502292  0.219422  0.215153   69.99      0  \n",
       "\n",
       "[5 rows x 30 columns]"
      ]
     },
     "metadata": {
      "after": null,
      "completed": null,
      "data": {},
      "engine_id": 0,
      "engine_uuid": "8f7be0ba-e79eb5085bc033689caba1b0",
      "error": null,
      "execute_input": "@bodo.jit(distributed=['df'], cache=True)\ndef load_data():\n    start = time.time()\n    df = pd.read_csv('s3://bodo-examples-data/creditcard/creditcard.csv')\n    df.drop('Time', axis = 1, inplace = True)\n    end = time.time()\n    print(\"Read Time: \", (end-start))\n    return df\n\ndf = load_data()\ndf.head()\n",
      "execute_result": {
       "data": {
        "text/html": "<div>\n<style scoped>\n    .dataframe tbody tr th:only-of-type {\n        vertical-align: middle;\n    }\n\n    .dataframe tbody tr th {\n        vertical-align: top;\n    }\n\n    .dataframe thead th {\n        text-align: right;\n    }\n</style>\n<table border=\"1\" class=\"dataframe\">\n  <thead>\n    <tr style=\"text-align: right;\">\n      <th></th>\n      <th>V1</th>\n      <th>V2</th>\n      <th>V3</th>\n      <th>V4</th>\n      <th>V5</th>\n      <th>V6</th>\n      <th>V7</th>\n      <th>V8</th>\n      <th>V9</th>\n      <th>V10</th>\n      <th>...</th>\n      <th>V21</th>\n      <th>V22</th>\n      <th>V23</th>\n      <th>V24</th>\n      <th>V25</th>\n      <th>V26</th>\n      <th>V27</th>\n      <th>V28</th>\n      <th>Amount</th>\n      <th>Class</th>\n    </tr>\n  </thead>\n  <tbody>\n    <tr>\n      <th>0</th>\n      <td>-1.359807</td>\n      <td>-0.072781</td>\n      <td>2.536347</td>\n      <td>1.378155</td>\n      <td>-0.338321</td>\n      <td>0.462388</td>\n      <td>0.239599</td>\n      <td>0.098698</td>\n      <td>0.363787</td>\n      <td>0.090794</td>\n      <td>...</td>\n      <td>-0.018307</td>\n      <td>0.277838</td>\n      <td>-0.110474</td>\n      <td>0.066928</td>\n      <td>0.128539</td>\n      <td>-0.189115</td>\n      <td>0.133558</td>\n      <td>-0.021053</td>\n      <td>149.62</td>\n      <td>0</td>\n    </tr>\n    <tr>\n      <th>1</th>\n      <td>1.191857</td>\n      <td>0.266151</td>\n      <td>0.166480</td>\n      <td>0.448154</td>\n      <td>0.060018</td>\n      <td>-0.082361</td>\n      <td>-0.078803</td>\n      <td>0.085102</td>\n      <td>-0.255425</td>\n      <td>-0.166974</td>\n      <td>...</td>\n      <td>-0.225775</td>\n      <td>-0.638672</td>\n      <td>0.101288</td>\n      <td>-0.339846</td>\n      <td>0.167170</td>\n      <td>0.125895</td>\n      <td>-0.008983</td>\n      <td>0.014724</td>\n      <td>2.69</td>\n      <td>0</td>\n    </tr>\n    <tr>\n      <th>2</th>\n      <td>-1.358354</td>\n      <td>-1.340163</td>\n      <td>1.773209</td>\n      <td>0.379780</td>\n      <td>-0.503198</td>\n      <td>1.800499</td>\n      <td>0.791461</td>\n      <td>0.247676</td>\n      <td>-1.514654</td>\n      <td>0.207643</td>\n      <td>...</td>\n      <td>0.247998</td>\n      <td>0.771679</td>\n      <td>0.909412</td>\n      <td>-0.689281</td>\n      <td>-0.327642</td>\n      <td>-0.139097</td>\n      <td>-0.055353</td>\n      <td>-0.059752</td>\n      <td>378.66</td>\n      <td>0</td>\n    </tr>\n    <tr>\n      <th>3</th>\n      <td>-0.966272</td>\n      <td>-0.185226</td>\n      <td>1.792993</td>\n      <td>-0.863291</td>\n      <td>-0.010309</td>\n      <td>1.247203</td>\n      <td>0.237609</td>\n      <td>0.377436</td>\n      <td>-1.387024</td>\n      <td>-0.054952</td>\n      <td>...</td>\n      <td>-0.108300</td>\n      <td>0.005274</td>\n      <td>-0.190321</td>\n      <td>-1.175575</td>\n      <td>0.647376</td>\n      <td>-0.221929</td>\n      <td>0.062723</td>\n      <td>0.061458</td>\n      <td>123.50</td>\n      <td>0</td>\n    </tr>\n    <tr>\n      <th>4</th>\n      <td>-1.158233</td>\n      <td>0.877737</td>\n      <td>1.548718</td>\n      <td>0.403034</td>\n      <td>-0.407193</td>\n      <td>0.095921</td>\n      <td>0.592941</td>\n      <td>-0.270533</td>\n      <td>0.817739</td>\n      <td>0.753074</td>\n      <td>...</td>\n      <td>-0.009431</td>\n      <td>0.798278</td>\n      <td>-0.137458</td>\n      <td>0.141267</td>\n      <td>-0.206010</td>\n      <td>0.502292</td>\n      <td>0.219422</td>\n      <td>0.215153</td>\n      <td>69.99</td>\n      <td>0</td>\n    </tr>\n  </tbody>\n</table>\n<p>5 rows × 30 columns</p>\n</div>",
        "text/plain": "         V1        V2        V3        V4        V5        V6        V7  \\\n0 -1.359807 -0.072781  2.536347  1.378155 -0.338321  0.462388  0.239599   \n1  1.191857  0.266151  0.166480  0.448154  0.060018 -0.082361 -0.078803   \n2 -1.358354 -1.340163  1.773209  0.379780 -0.503198  1.800499  0.791461   \n3 -0.966272 -0.185226  1.792993 -0.863291 -0.010309  1.247203  0.237609   \n4 -1.158233  0.877737  1.548718  0.403034 -0.407193  0.095921  0.592941   \n\n         V8        V9       V10  ...       V21       V22       V23       V24  \\\n0  0.098698  0.363787  0.090794  ... -0.018307  0.277838 -0.110474  0.066928   \n1  0.085102 -0.255425 -0.166974  ... -0.225775 -0.638672  0.101288 -0.339846   \n2  0.247676 -1.514654  0.207643  ...  0.247998  0.771679  0.909412 -0.689281   \n3  0.377436 -1.387024 -0.054952  ... -0.108300  0.005274 -0.190321 -1.175575   \n4 -0.270533  0.817739  0.753074  ... -0.009431  0.798278 -0.137458  0.141267   \n\n        V25       V26       V27       V28  Amount  Class  \n0  0.128539 -0.189115  0.133558 -0.021053  149.62      0  \n1  0.167170  0.125895 -0.008983  0.014724    2.69      0  \n2 -0.327642 -0.139097 -0.055353 -0.059752  378.66      0  \n3  0.647376 -0.221929  0.062723  0.061458  123.50      0  \n4 -0.206010  0.502292  0.219422  0.215153   69.99      0  \n\n[5 rows x 30 columns]"
       },
       "execution_count": 4,
       "metadata": {}
      },
      "follow": null,
      "msg_id": null,
      "outputs": [],
      "received": null,
      "started": null,
      "status": null,
      "stderr": "",
      "stdout": "Read Time:  23.584205590999773\n",
      "submitted": "2022-02-08T15:48:41.389861Z"
     },
     "output_type": "display_data"
    },
    {
     "data": {
      "text/html": [
       "<div>\n",
       "<style scoped>\n",
       "    .dataframe tbody tr th:only-of-type {\n",
       "        vertical-align: middle;\n",
       "    }\n",
       "\n",
       "    .dataframe tbody tr th {\n",
       "        vertical-align: top;\n",
       "    }\n",
       "\n",
       "    .dataframe thead th {\n",
       "        text-align: right;\n",
       "    }\n",
       "</style>\n",
       "<table border=\"1\" class=\"dataframe\">\n",
       "  <thead>\n",
       "    <tr style=\"text-align: right;\">\n",
       "      <th></th>\n",
       "      <th>V1</th>\n",
       "      <th>V2</th>\n",
       "      <th>V3</th>\n",
       "      <th>V4</th>\n",
       "      <th>V5</th>\n",
       "      <th>V6</th>\n",
       "      <th>V7</th>\n",
       "      <th>V8</th>\n",
       "      <th>V9</th>\n",
       "      <th>V10</th>\n",
       "      <th>...</th>\n",
       "      <th>V21</th>\n",
       "      <th>V22</th>\n",
       "      <th>V23</th>\n",
       "      <th>V24</th>\n",
       "      <th>V25</th>\n",
       "      <th>V26</th>\n",
       "      <th>V27</th>\n",
       "      <th>V28</th>\n",
       "      <th>Amount</th>\n",
       "      <th>Class</th>\n",
       "    </tr>\n",
       "  </thead>\n",
       "  <tbody>\n",
       "    <tr>\n",
       "      <th>71202</th>\n",
       "      <td>1.053976</td>\n",
       "      <td>-0.604455</td>\n",
       "      <td>1.557519</td>\n",
       "      <td>1.498009</td>\n",
       "      <td>-1.072328</td>\n",
       "      <td>1.230171</td>\n",
       "      <td>-1.159346</td>\n",
       "      <td>0.394912</td>\n",
       "      <td>1.903301</td>\n",
       "      <td>-0.495095</td>\n",
       "      <td>...</td>\n",
       "      <td>0.056082</td>\n",
       "      <td>0.629473</td>\n",
       "      <td>-0.337026</td>\n",
       "      <td>-0.525248</td>\n",
       "      <td>0.728233</td>\n",
       "      <td>-0.060297</td>\n",
       "      <td>0.117995</td>\n",
       "      <td>0.041644</td>\n",
       "      <td>59.35</td>\n",
       "      <td>0</td>\n",
       "    </tr>\n",
       "    <tr>\n",
       "      <th>71203</th>\n",
       "      <td>-0.631327</td>\n",
       "      <td>0.343072</td>\n",
       "      <td>2.160554</td>\n",
       "      <td>0.756337</td>\n",
       "      <td>0.038585</td>\n",
       "      <td>1.265640</td>\n",
       "      <td>-0.246002</td>\n",
       "      <td>0.596733</td>\n",
       "      <td>0.134493</td>\n",
       "      <td>-0.369403</td>\n",
       "      <td>...</td>\n",
       "      <td>0.051855</td>\n",
       "      <td>0.208031</td>\n",
       "      <td>-0.196802</td>\n",
       "      <td>-0.895435</td>\n",
       "      <td>-0.074086</td>\n",
       "      <td>-0.258828</td>\n",
       "      <td>0.161268</td>\n",
       "      <td>0.105416</td>\n",
       "      <td>28.75</td>\n",
       "      <td>0</td>\n",
       "    </tr>\n",
       "    <tr>\n",
       "      <th>71204</th>\n",
       "      <td>1.300457</td>\n",
       "      <td>-0.065674</td>\n",
       "      <td>0.255506</td>\n",
       "      <td>-0.208697</td>\n",
       "      <td>-0.676098</td>\n",
       "      <td>-1.207634</td>\n",
       "      <td>-0.047985</td>\n",
       "      <td>-0.239209</td>\n",
       "      <td>0.289825</td>\n",
       "      <td>-0.157913</td>\n",
       "      <td>...</td>\n",
       "      <td>0.000959</td>\n",
       "      <td>0.004184</td>\n",
       "      <td>-0.029810</td>\n",
       "      <td>0.488943</td>\n",
       "      <td>0.284097</td>\n",
       "      <td>1.451450</td>\n",
       "      <td>-0.117399</td>\n",
       "      <td>-0.004609</td>\n",
       "      <td>9.99</td>\n",
       "      <td>0</td>\n",
       "    </tr>\n",
       "    <tr>\n",
       "      <th>71205</th>\n",
       "      <td>-4.578021</td>\n",
       "      <td>-4.940216</td>\n",
       "      <td>2.601071</td>\n",
       "      <td>1.361639</td>\n",
       "      <td>5.145845</td>\n",
       "      <td>-3.301529</td>\n",
       "      <td>-3.542126</td>\n",
       "      <td>0.718833</td>\n",
       "      <td>0.650869</td>\n",
       "      <td>-0.423880</td>\n",
       "      <td>...</td>\n",
       "      <td>0.431009</td>\n",
       "      <td>-0.348956</td>\n",
       "      <td>0.632237</td>\n",
       "      <td>-0.491981</td>\n",
       "      <td>0.739572</td>\n",
       "      <td>-0.432633</td>\n",
       "      <td>-0.114659</td>\n",
       "      <td>0.179794</td>\n",
       "      <td>1.00</td>\n",
       "      <td>0</td>\n",
       "    </tr>\n",
       "    <tr>\n",
       "      <th>71206</th>\n",
       "      <td>-0.327506</td>\n",
       "      <td>0.362003</td>\n",
       "      <td>0.852281</td>\n",
       "      <td>2.129654</td>\n",
       "      <td>1.688551</td>\n",
       "      <td>5.177962</td>\n",
       "      <td>-0.404106</td>\n",
       "      <td>1.245253</td>\n",
       "      <td>-0.484987</td>\n",
       "      <td>0.378006</td>\n",
       "      <td>...</td>\n",
       "      <td>0.145614</td>\n",
       "      <td>0.511053</td>\n",
       "      <td>-0.038532</td>\n",
       "      <td>1.051707</td>\n",
       "      <td>-0.124673</td>\n",
       "      <td>0.394902</td>\n",
       "      <td>0.189460</td>\n",
       "      <td>0.164060</td>\n",
       "      <td>98.89</td>\n",
       "      <td>0</td>\n",
       "    </tr>\n",
       "  </tbody>\n",
       "</table>\n",
       "<p>5 rows × 30 columns</p>\n",
       "</div>"
      ],
      "text/plain": [
       "\u001b[0;31mOut[1:4]: \u001b[0m\n",
       "             V1        V2        V3        V4        V5        V6        V7  \\\n",
       "71202  1.053976 -0.604455  1.557519  1.498009 -1.072328  1.230171 -1.159346   \n",
       "71203 -0.631327  0.343072  2.160554  0.756337  0.038585  1.265640 -0.246002   \n",
       "71204  1.300457 -0.065674  0.255506 -0.208697 -0.676098 -1.207634 -0.047985   \n",
       "71205 -4.578021 -4.940216  2.601071  1.361639  5.145845 -3.301529 -3.542126   \n",
       "71206 -0.327506  0.362003  0.852281  2.129654  1.688551  5.177962 -0.404106   \n",
       "\n",
       "             V8        V9       V10  ...       V21       V22       V23  \\\n",
       "71202  0.394912  1.903301 -0.495095  ...  0.056082  0.629473 -0.337026   \n",
       "71203  0.596733  0.134493 -0.369403  ...  0.051855  0.208031 -0.196802   \n",
       "71204 -0.239209  0.289825 -0.157913  ...  0.000959  0.004184 -0.029810   \n",
       "71205  0.718833  0.650869 -0.423880  ...  0.431009 -0.348956  0.632237   \n",
       "71206  1.245253 -0.484987  0.378006  ...  0.145614  0.511053 -0.038532   \n",
       "\n",
       "            V24       V25       V26       V27       V28  Amount  Class  \n",
       "71202 -0.525248  0.728233 -0.060297  0.117995  0.041644   59.35      0  \n",
       "71203 -0.895435 -0.074086 -0.258828  0.161268  0.105416   28.75      0  \n",
       "71204  0.488943  0.284097  1.451450 -0.117399 -0.004609    9.99      0  \n",
       "71205 -0.491981  0.739572 -0.432633 -0.114659  0.179794    1.00      0  \n",
       "71206  1.051707 -0.124673  0.394902  0.189460  0.164060   98.89      0  \n",
       "\n",
       "[5 rows x 30 columns]"
      ]
     },
     "metadata": {
      "after": null,
      "completed": null,
      "data": {},
      "engine_id": 1,
      "engine_uuid": "57c70fee-9748eeaf1d989cb5013f9111",
      "error": null,
      "execute_input": "@bodo.jit(distributed=['df'], cache=True)\ndef load_data():\n    start = time.time()\n    df = pd.read_csv('s3://bodo-examples-data/creditcard/creditcard.csv')\n    df.drop('Time', axis = 1, inplace = True)\n    end = time.time()\n    print(\"Read Time: \", (end-start))\n    return df\n\ndf = load_data()\ndf.head()\n",
      "execute_result": {
       "data": {
        "text/html": "<div>\n<style scoped>\n    .dataframe tbody tr th:only-of-type {\n        vertical-align: middle;\n    }\n\n    .dataframe tbody tr th {\n        vertical-align: top;\n    }\n\n    .dataframe thead th {\n        text-align: right;\n    }\n</style>\n<table border=\"1\" class=\"dataframe\">\n  <thead>\n    <tr style=\"text-align: right;\">\n      <th></th>\n      <th>V1</th>\n      <th>V2</th>\n      <th>V3</th>\n      <th>V4</th>\n      <th>V5</th>\n      <th>V6</th>\n      <th>V7</th>\n      <th>V8</th>\n      <th>V9</th>\n      <th>V10</th>\n      <th>...</th>\n      <th>V21</th>\n      <th>V22</th>\n      <th>V23</th>\n      <th>V24</th>\n      <th>V25</th>\n      <th>V26</th>\n      <th>V27</th>\n      <th>V28</th>\n      <th>Amount</th>\n      <th>Class</th>\n    </tr>\n  </thead>\n  <tbody>\n    <tr>\n      <th>71202</th>\n      <td>1.053976</td>\n      <td>-0.604455</td>\n      <td>1.557519</td>\n      <td>1.498009</td>\n      <td>-1.072328</td>\n      <td>1.230171</td>\n      <td>-1.159346</td>\n      <td>0.394912</td>\n      <td>1.903301</td>\n      <td>-0.495095</td>\n      <td>...</td>\n      <td>0.056082</td>\n      <td>0.629473</td>\n      <td>-0.337026</td>\n      <td>-0.525248</td>\n      <td>0.728233</td>\n      <td>-0.060297</td>\n      <td>0.117995</td>\n      <td>0.041644</td>\n      <td>59.35</td>\n      <td>0</td>\n    </tr>\n    <tr>\n      <th>71203</th>\n      <td>-0.631327</td>\n      <td>0.343072</td>\n      <td>2.160554</td>\n      <td>0.756337</td>\n      <td>0.038585</td>\n      <td>1.265640</td>\n      <td>-0.246002</td>\n      <td>0.596733</td>\n      <td>0.134493</td>\n      <td>-0.369403</td>\n      <td>...</td>\n      <td>0.051855</td>\n      <td>0.208031</td>\n      <td>-0.196802</td>\n      <td>-0.895435</td>\n      <td>-0.074086</td>\n      <td>-0.258828</td>\n      <td>0.161268</td>\n      <td>0.105416</td>\n      <td>28.75</td>\n      <td>0</td>\n    </tr>\n    <tr>\n      <th>71204</th>\n      <td>1.300457</td>\n      <td>-0.065674</td>\n      <td>0.255506</td>\n      <td>-0.208697</td>\n      <td>-0.676098</td>\n      <td>-1.207634</td>\n      <td>-0.047985</td>\n      <td>-0.239209</td>\n      <td>0.289825</td>\n      <td>-0.157913</td>\n      <td>...</td>\n      <td>0.000959</td>\n      <td>0.004184</td>\n      <td>-0.029810</td>\n      <td>0.488943</td>\n      <td>0.284097</td>\n      <td>1.451450</td>\n      <td>-0.117399</td>\n      <td>-0.004609</td>\n      <td>9.99</td>\n      <td>0</td>\n    </tr>\n    <tr>\n      <th>71205</th>\n      <td>-4.578021</td>\n      <td>-4.940216</td>\n      <td>2.601071</td>\n      <td>1.361639</td>\n      <td>5.145845</td>\n      <td>-3.301529</td>\n      <td>-3.542126</td>\n      <td>0.718833</td>\n      <td>0.650869</td>\n      <td>-0.423880</td>\n      <td>...</td>\n      <td>0.431009</td>\n      <td>-0.348956</td>\n      <td>0.632237</td>\n      <td>-0.491981</td>\n      <td>0.739572</td>\n      <td>-0.432633</td>\n      <td>-0.114659</td>\n      <td>0.179794</td>\n      <td>1.00</td>\n      <td>0</td>\n    </tr>\n    <tr>\n      <th>71206</th>\n      <td>-0.327506</td>\n      <td>0.362003</td>\n      <td>0.852281</td>\n      <td>2.129654</td>\n      <td>1.688551</td>\n      <td>5.177962</td>\n      <td>-0.404106</td>\n      <td>1.245253</td>\n      <td>-0.484987</td>\n      <td>0.378006</td>\n      <td>...</td>\n      <td>0.145614</td>\n      <td>0.511053</td>\n      <td>-0.038532</td>\n      <td>1.051707</td>\n      <td>-0.124673</td>\n      <td>0.394902</td>\n      <td>0.189460</td>\n      <td>0.164060</td>\n      <td>98.89</td>\n      <td>0</td>\n    </tr>\n  </tbody>\n</table>\n<p>5 rows × 30 columns</p>\n</div>",
        "text/plain": "             V1        V2        V3        V4        V5        V6        V7  \\\n71202  1.053976 -0.604455  1.557519  1.498009 -1.072328  1.230171 -1.159346   \n71203 -0.631327  0.343072  2.160554  0.756337  0.038585  1.265640 -0.246002   \n71204  1.300457 -0.065674  0.255506 -0.208697 -0.676098 -1.207634 -0.047985   \n71205 -4.578021 -4.940216  2.601071  1.361639  5.145845 -3.301529 -3.542126   \n71206 -0.327506  0.362003  0.852281  2.129654  1.688551  5.177962 -0.404106   \n\n             V8        V9       V10  ...       V21       V22       V23  \\\n71202  0.394912  1.903301 -0.495095  ...  0.056082  0.629473 -0.337026   \n71203  0.596733  0.134493 -0.369403  ...  0.051855  0.208031 -0.196802   \n71204 -0.239209  0.289825 -0.157913  ...  0.000959  0.004184 -0.029810   \n71205  0.718833  0.650869 -0.423880  ...  0.431009 -0.348956  0.632237   \n71206  1.245253 -0.484987  0.378006  ...  0.145614  0.511053 -0.038532   \n\n            V24       V25       V26       V27       V28  Amount  Class  \n71202 -0.525248  0.728233 -0.060297  0.117995  0.041644   59.35      0  \n71203 -0.895435 -0.074086 -0.258828  0.161268  0.105416   28.75      0  \n71204  0.488943  0.284097  1.451450 -0.117399 -0.004609    9.99      0  \n71205 -0.491981  0.739572 -0.432633 -0.114659  0.179794    1.00      0  \n71206  1.051707 -0.124673  0.394902  0.189460  0.164060   98.89      0  \n\n[5 rows x 30 columns]"
       },
       "execution_count": 4,
       "metadata": {}
      },
      "follow": null,
      "msg_id": null,
      "outputs": [],
      "received": null,
      "started": null,
      "status": null,
      "stderr": "",
      "stdout": "",
      "submitted": "2022-02-08T15:48:41.390072Z"
     },
     "output_type": "display_data"
    },
    {
     "data": {
      "text/html": [
       "<div>\n",
       "<style scoped>\n",
       "    .dataframe tbody tr th:only-of-type {\n",
       "        vertical-align: middle;\n",
       "    }\n",
       "\n",
       "    .dataframe tbody tr th {\n",
       "        vertical-align: top;\n",
       "    }\n",
       "\n",
       "    .dataframe thead th {\n",
       "        text-align: right;\n",
       "    }\n",
       "</style>\n",
       "<table border=\"1\" class=\"dataframe\">\n",
       "  <thead>\n",
       "    <tr style=\"text-align: right;\">\n",
       "      <th></th>\n",
       "      <th>V1</th>\n",
       "      <th>V2</th>\n",
       "      <th>V3</th>\n",
       "      <th>V4</th>\n",
       "      <th>V5</th>\n",
       "      <th>V6</th>\n",
       "      <th>V7</th>\n",
       "      <th>V8</th>\n",
       "      <th>V9</th>\n",
       "      <th>V10</th>\n",
       "      <th>...</th>\n",
       "      <th>V21</th>\n",
       "      <th>V22</th>\n",
       "      <th>V23</th>\n",
       "      <th>V24</th>\n",
       "      <th>V25</th>\n",
       "      <th>V26</th>\n",
       "      <th>V27</th>\n",
       "      <th>V28</th>\n",
       "      <th>Amount</th>\n",
       "      <th>Class</th>\n",
       "    </tr>\n",
       "  </thead>\n",
       "  <tbody>\n",
       "    <tr>\n",
       "      <th>213606</th>\n",
       "      <td>2.148940</td>\n",
       "      <td>-1.703039</td>\n",
       "      <td>-0.041126</td>\n",
       "      <td>-1.602874</td>\n",
       "      <td>-1.740815</td>\n",
       "      <td>0.148274</td>\n",
       "      <td>-1.774732</td>\n",
       "      <td>0.078852</td>\n",
       "      <td>-0.988161</td>\n",
       "      <td>1.587067</td>\n",
       "      <td>...</td>\n",
       "      <td>-0.085990</td>\n",
       "      <td>0.266928</td>\n",
       "      <td>0.227984</td>\n",
       "      <td>-0.484336</td>\n",
       "      <td>-0.483575</td>\n",
       "      <td>-0.243972</td>\n",
       "      <td>0.064046</td>\n",
       "      <td>-0.035189</td>\n",
       "      <td>52.00</td>\n",
       "      <td>0</td>\n",
       "    </tr>\n",
       "    <tr>\n",
       "      <th>213607</th>\n",
       "      <td>2.178347</td>\n",
       "      <td>-1.607482</td>\n",
       "      <td>-1.440763</td>\n",
       "      <td>-1.992181</td>\n",
       "      <td>-0.222548</td>\n",
       "      <td>1.460699</td>\n",
       "      <td>-1.445977</td>\n",
       "      <td>0.444080</td>\n",
       "      <td>-1.331721</td>\n",
       "      <td>1.635660</td>\n",
       "      <td>...</td>\n",
       "      <td>-0.094917</td>\n",
       "      <td>0.236083</td>\n",
       "      <td>0.258351</td>\n",
       "      <td>-0.987394</td>\n",
       "      <td>-0.334356</td>\n",
       "      <td>-0.076864</td>\n",
       "      <td>0.042121</td>\n",
       "      <td>-0.073258</td>\n",
       "      <td>20.00</td>\n",
       "      <td>0</td>\n",
       "    </tr>\n",
       "    <tr>\n",
       "      <th>213608</th>\n",
       "      <td>-0.021745</td>\n",
       "      <td>0.768869</td>\n",
       "      <td>-0.527330</td>\n",
       "      <td>-1.279209</td>\n",
       "      <td>0.687124</td>\n",
       "      <td>0.231025</td>\n",
       "      <td>0.716421</td>\n",
       "      <td>0.053917</td>\n",
       "      <td>0.078592</td>\n",
       "      <td>-1.528934</td>\n",
       "      <td>...</td>\n",
       "      <td>-0.353079</td>\n",
       "      <td>-0.980490</td>\n",
       "      <td>0.043599</td>\n",
       "      <td>-1.605573</td>\n",
       "      <td>-0.868668</td>\n",
       "      <td>0.835737</td>\n",
       "      <td>-0.082145</td>\n",
       "      <td>0.047250</td>\n",
       "      <td>89.90</td>\n",
       "      <td>0</td>\n",
       "    </tr>\n",
       "    <tr>\n",
       "      <th>213609</th>\n",
       "      <td>2.141501</td>\n",
       "      <td>-0.874732</td>\n",
       "      <td>-1.903605</td>\n",
       "      <td>-0.937012</td>\n",
       "      <td>-0.153103</td>\n",
       "      <td>-0.737772</td>\n",
       "      <td>-0.194992</td>\n",
       "      <td>-0.172563</td>\n",
       "      <td>-0.624846</td>\n",
       "      <td>0.996264</td>\n",
       "      <td>...</td>\n",
       "      <td>0.270332</td>\n",
       "      <td>0.693950</td>\n",
       "      <td>0.015639</td>\n",
       "      <td>0.723209</td>\n",
       "      <td>0.269247</td>\n",
       "      <td>-0.045152</td>\n",
       "      <td>-0.079194</td>\n",
       "      <td>-0.077988</td>\n",
       "      <td>41.96</td>\n",
       "      <td>0</td>\n",
       "    </tr>\n",
       "    <tr>\n",
       "      <th>213610</th>\n",
       "      <td>1.188243</td>\n",
       "      <td>-2.428035</td>\n",
       "      <td>-1.233250</td>\n",
       "      <td>-0.327497</td>\n",
       "      <td>-1.048043</td>\n",
       "      <td>0.519697</td>\n",
       "      <td>-0.362632</td>\n",
       "      <td>0.013181</td>\n",
       "      <td>-0.350346</td>\n",
       "      <td>0.738172</td>\n",
       "      <td>...</td>\n",
       "      <td>-0.323173</td>\n",
       "      <td>-1.523661</td>\n",
       "      <td>0.037543</td>\n",
       "      <td>0.066202</td>\n",
       "      <td>-0.854472</td>\n",
       "      <td>0.167269</td>\n",
       "      <td>-0.113237</td>\n",
       "      <td>0.036931</td>\n",
       "      <td>494.95</td>\n",
       "      <td>0</td>\n",
       "    </tr>\n",
       "  </tbody>\n",
       "</table>\n",
       "<p>5 rows × 30 columns</p>\n",
       "</div>"
      ],
      "text/plain": [
       "\u001b[0;31mOut[3:4]: \u001b[0m\n",
       "              V1        V2        V3        V4        V5        V6        V7  \\\n",
       "213606  2.148940 -1.703039 -0.041126 -1.602874 -1.740815  0.148274 -1.774732   \n",
       "213607  2.178347 -1.607482 -1.440763 -1.992181 -0.222548  1.460699 -1.445977   \n",
       "213608 -0.021745  0.768869 -0.527330 -1.279209  0.687124  0.231025  0.716421   \n",
       "213609  2.141501 -0.874732 -1.903605 -0.937012 -0.153103 -0.737772 -0.194992   \n",
       "213610  1.188243 -2.428035 -1.233250 -0.327497 -1.048043  0.519697 -0.362632   \n",
       "\n",
       "              V8        V9       V10  ...       V21       V22       V23  \\\n",
       "213606  0.078852 -0.988161  1.587067  ... -0.085990  0.266928  0.227984   \n",
       "213607  0.444080 -1.331721  1.635660  ... -0.094917  0.236083  0.258351   \n",
       "213608  0.053917  0.078592 -1.528934  ... -0.353079 -0.980490  0.043599   \n",
       "213609 -0.172563 -0.624846  0.996264  ...  0.270332  0.693950  0.015639   \n",
       "213610  0.013181 -0.350346  0.738172  ... -0.323173 -1.523661  0.037543   \n",
       "\n",
       "             V24       V25       V26       V27       V28  Amount  Class  \n",
       "213606 -0.484336 -0.483575 -0.243972  0.064046 -0.035189   52.00      0  \n",
       "213607 -0.987394 -0.334356 -0.076864  0.042121 -0.073258   20.00      0  \n",
       "213608 -1.605573 -0.868668  0.835737 -0.082145  0.047250   89.90      0  \n",
       "213609  0.723209  0.269247 -0.045152 -0.079194 -0.077988   41.96      0  \n",
       "213610  0.066202 -0.854472  0.167269 -0.113237  0.036931  494.95      0  \n",
       "\n",
       "[5 rows x 30 columns]"
      ]
     },
     "metadata": {
      "after": null,
      "completed": null,
      "data": {},
      "engine_id": 3,
      "engine_uuid": "10264a39-d5cd91e3cede9ab940ac9e90",
      "error": null,
      "execute_input": "@bodo.jit(distributed=['df'], cache=True)\ndef load_data():\n    start = time.time()\n    df = pd.read_csv('s3://bodo-examples-data/creditcard/creditcard.csv')\n    df.drop('Time', axis = 1, inplace = True)\n    end = time.time()\n    print(\"Read Time: \", (end-start))\n    return df\n\ndf = load_data()\ndf.head()\n",
      "execute_result": {
       "data": {
        "text/html": "<div>\n<style scoped>\n    .dataframe tbody tr th:only-of-type {\n        vertical-align: middle;\n    }\n\n    .dataframe tbody tr th {\n        vertical-align: top;\n    }\n\n    .dataframe thead th {\n        text-align: right;\n    }\n</style>\n<table border=\"1\" class=\"dataframe\">\n  <thead>\n    <tr style=\"text-align: right;\">\n      <th></th>\n      <th>V1</th>\n      <th>V2</th>\n      <th>V3</th>\n      <th>V4</th>\n      <th>V5</th>\n      <th>V6</th>\n      <th>V7</th>\n      <th>V8</th>\n      <th>V9</th>\n      <th>V10</th>\n      <th>...</th>\n      <th>V21</th>\n      <th>V22</th>\n      <th>V23</th>\n      <th>V24</th>\n      <th>V25</th>\n      <th>V26</th>\n      <th>V27</th>\n      <th>V28</th>\n      <th>Amount</th>\n      <th>Class</th>\n    </tr>\n  </thead>\n  <tbody>\n    <tr>\n      <th>213606</th>\n      <td>2.148940</td>\n      <td>-1.703039</td>\n      <td>-0.041126</td>\n      <td>-1.602874</td>\n      <td>-1.740815</td>\n      <td>0.148274</td>\n      <td>-1.774732</td>\n      <td>0.078852</td>\n      <td>-0.988161</td>\n      <td>1.587067</td>\n      <td>...</td>\n      <td>-0.085990</td>\n      <td>0.266928</td>\n      <td>0.227984</td>\n      <td>-0.484336</td>\n      <td>-0.483575</td>\n      <td>-0.243972</td>\n      <td>0.064046</td>\n      <td>-0.035189</td>\n      <td>52.00</td>\n      <td>0</td>\n    </tr>\n    <tr>\n      <th>213607</th>\n      <td>2.178347</td>\n      <td>-1.607482</td>\n      <td>-1.440763</td>\n      <td>-1.992181</td>\n      <td>-0.222548</td>\n      <td>1.460699</td>\n      <td>-1.445977</td>\n      <td>0.444080</td>\n      <td>-1.331721</td>\n      <td>1.635660</td>\n      <td>...</td>\n      <td>-0.094917</td>\n      <td>0.236083</td>\n      <td>0.258351</td>\n      <td>-0.987394</td>\n      <td>-0.334356</td>\n      <td>-0.076864</td>\n      <td>0.042121</td>\n      <td>-0.073258</td>\n      <td>20.00</td>\n      <td>0</td>\n    </tr>\n    <tr>\n      <th>213608</th>\n      <td>-0.021745</td>\n      <td>0.768869</td>\n      <td>-0.527330</td>\n      <td>-1.279209</td>\n      <td>0.687124</td>\n      <td>0.231025</td>\n      <td>0.716421</td>\n      <td>0.053917</td>\n      <td>0.078592</td>\n      <td>-1.528934</td>\n      <td>...</td>\n      <td>-0.353079</td>\n      <td>-0.980490</td>\n      <td>0.043599</td>\n      <td>-1.605573</td>\n      <td>-0.868668</td>\n      <td>0.835737</td>\n      <td>-0.082145</td>\n      <td>0.047250</td>\n      <td>89.90</td>\n      <td>0</td>\n    </tr>\n    <tr>\n      <th>213609</th>\n      <td>2.141501</td>\n      <td>-0.874732</td>\n      <td>-1.903605</td>\n      <td>-0.937012</td>\n      <td>-0.153103</td>\n      <td>-0.737772</td>\n      <td>-0.194992</td>\n      <td>-0.172563</td>\n      <td>-0.624846</td>\n      <td>0.996264</td>\n      <td>...</td>\n      <td>0.270332</td>\n      <td>0.693950</td>\n      <td>0.015639</td>\n      <td>0.723209</td>\n      <td>0.269247</td>\n      <td>-0.045152</td>\n      <td>-0.079194</td>\n      <td>-0.077988</td>\n      <td>41.96</td>\n      <td>0</td>\n    </tr>\n    <tr>\n      <th>213610</th>\n      <td>1.188243</td>\n      <td>-2.428035</td>\n      <td>-1.233250</td>\n      <td>-0.327497</td>\n      <td>-1.048043</td>\n      <td>0.519697</td>\n      <td>-0.362632</td>\n      <td>0.013181</td>\n      <td>-0.350346</td>\n      <td>0.738172</td>\n      <td>...</td>\n      <td>-0.323173</td>\n      <td>-1.523661</td>\n      <td>0.037543</td>\n      <td>0.066202</td>\n      <td>-0.854472</td>\n      <td>0.167269</td>\n      <td>-0.113237</td>\n      <td>0.036931</td>\n      <td>494.95</td>\n      <td>0</td>\n    </tr>\n  </tbody>\n</table>\n<p>5 rows × 30 columns</p>\n</div>",
        "text/plain": "              V1        V2        V3        V4        V5        V6        V7  \\\n213606  2.148940 -1.703039 -0.041126 -1.602874 -1.740815  0.148274 -1.774732   \n213607  2.178347 -1.607482 -1.440763 -1.992181 -0.222548  1.460699 -1.445977   \n213608 -0.021745  0.768869 -0.527330 -1.279209  0.687124  0.231025  0.716421   \n213609  2.141501 -0.874732 -1.903605 -0.937012 -0.153103 -0.737772 -0.194992   \n213610  1.188243 -2.428035 -1.233250 -0.327497 -1.048043  0.519697 -0.362632   \n\n              V8        V9       V10  ...       V21       V22       V23  \\\n213606  0.078852 -0.988161  1.587067  ... -0.085990  0.266928  0.227984   \n213607  0.444080 -1.331721  1.635660  ... -0.094917  0.236083  0.258351   \n213608  0.053917  0.078592 -1.528934  ... -0.353079 -0.980490  0.043599   \n213609 -0.172563 -0.624846  0.996264  ...  0.270332  0.693950  0.015639   \n213610  0.013181 -0.350346  0.738172  ... -0.323173 -1.523661  0.037543   \n\n             V24       V25       V26       V27       V28  Amount  Class  \n213606 -0.484336 -0.483575 -0.243972  0.064046 -0.035189   52.00      0  \n213607 -0.987394 -0.334356 -0.076864  0.042121 -0.073258   20.00      0  \n213608 -1.605573 -0.868668  0.835737 -0.082145  0.047250   89.90      0  \n213609  0.723209  0.269247 -0.045152 -0.079194 -0.077988   41.96      0  \n213610  0.066202 -0.854472  0.167269 -0.113237  0.036931  494.95      0  \n\n[5 rows x 30 columns]"
       },
       "execution_count": 4,
       "metadata": {}
      },
      "follow": null,
      "msg_id": null,
      "outputs": [],
      "received": null,
      "started": null,
      "status": null,
      "stderr": "",
      "stdout": "",
      "submitted": "2022-02-08T15:48:41.390748Z"
     },
     "output_type": "display_data"
    },
    {
     "name": "stdout",
     "output_type": "stream",
     "text": [
      "%px: 100%|█████████████████████████████████████| 4/4 [00:22<00:00,  5.53s/tasks]\n"
     ]
    }
   ],
   "source": [
    "%%px\n",
    "@bodo.jit(distributed=['df'], cache=True)\n",
    "def load_data():\n",
    "    start = time.time()\n",
    "    df = pd.read_csv('s3://bodo-examples-data/creditcard/creditcard.csv')\n",
    "    df.drop('Time', axis = 1, inplace = True)\n",
    "    end = time.time()\n",
    "    print(\"Read Time: \", (end-start))\n",
    "    return df\n",
    "\n",
    "df = load_data()\n",
    "df.head()"
   ]
  },
  {
   "cell_type": "code",
   "execution_count": 25,
   "id": "d536465d-7b0f-421d-8204-42db1446eb84",
   "metadata": {},
   "outputs": [
    {
     "data": {
      "text/plain": [
       "\u001b[0;31mOut[0:5]: \u001b[0m(71202, 30)"
      ]
     },
     "metadata": {
      "after": null,
      "completed": null,
      "data": {},
      "engine_id": 0,
      "engine_uuid": "8f7be0ba-e79eb5085bc033689caba1b0",
      "error": null,
      "execute_input": "df.shape\n",
      "execute_result": {
       "data": {
        "text/plain": "(71202, 30)"
       },
       "execution_count": 5,
       "metadata": {}
      },
      "follow": null,
      "msg_id": null,
      "outputs": [],
      "received": null,
      "started": null,
      "status": null,
      "stderr": "",
      "stdout": "",
      "submitted": "2022-02-08T15:49:05.511576Z"
     },
     "output_type": "display_data"
    },
    {
     "data": {
      "text/plain": [
       "\u001b[0;31mOut[1:5]: \u001b[0m(71202, 30)"
      ]
     },
     "metadata": {
      "after": null,
      "completed": null,
      "data": {},
      "engine_id": 1,
      "engine_uuid": "57c70fee-9748eeaf1d989cb5013f9111",
      "error": null,
      "execute_input": "df.shape\n",
      "execute_result": {
       "data": {
        "text/plain": "(71202, 30)"
       },
       "execution_count": 5,
       "metadata": {}
      },
      "follow": null,
      "msg_id": null,
      "outputs": [],
      "received": null,
      "started": null,
      "status": null,
      "stderr": "",
      "stdout": "",
      "submitted": "2022-02-08T15:49:05.512961Z"
     },
     "output_type": "display_data"
    },
    {
     "data": {
      "text/plain": [
       "\u001b[0;31mOut[2:5]: \u001b[0m(71202, 30)"
      ]
     },
     "metadata": {
      "after": null,
      "completed": null,
      "data": {},
      "engine_id": 2,
      "engine_uuid": "c967a2aa-2b047ae38e8cdf80db451761",
      "error": null,
      "execute_input": "df.shape\n",
      "execute_result": {
       "data": {
        "text/plain": "(71202, 30)"
       },
       "execution_count": 5,
       "metadata": {}
      },
      "follow": null,
      "msg_id": null,
      "outputs": [],
      "received": null,
      "started": null,
      "status": null,
      "stderr": "",
      "stdout": "",
      "submitted": "2022-02-08T15:49:05.513399Z"
     },
     "output_type": "display_data"
    },
    {
     "data": {
      "text/plain": [
       "\u001b[0;31mOut[3:5]: \u001b[0m(71201, 30)"
      ]
     },
     "metadata": {
      "after": null,
      "completed": null,
      "data": {},
      "engine_id": 3,
      "engine_uuid": "10264a39-d5cd91e3cede9ab940ac9e90",
      "error": null,
      "execute_input": "df.shape\n",
      "execute_result": {
       "data": {
        "text/plain": "(71201, 30)"
       },
       "execution_count": 5,
       "metadata": {}
      },
      "follow": null,
      "msg_id": null,
      "outputs": [],
      "received": null,
      "started": null,
      "status": null,
      "stderr": "",
      "stdout": "",
      "submitted": "2022-02-08T15:49:05.513634Z"
     },
     "output_type": "display_data"
    }
   ],
   "source": [
    "%%px\n",
    "df.shape"
   ]
  },
  {
   "cell_type": "code",
   "execution_count": 26,
   "id": "tender-indiana",
   "metadata": {},
   "outputs": [
    {
     "name": "stdout",
     "output_type": "stream",
     "text": [
      "%px:   0%|                                             | 0/4 [00:08<?, ?tasks/s]"
     ]
    },
    {
     "data": {
      "text/plain": [
       "[stdout:0] --------------------------------------------\n",
       "Total number of cases are  284807\n",
       "Number of Non-fraud cases are  284315\n",
       "Number of fraud cases are 492\n",
       "Percentage of fraud cases is  0.17\n",
       "--------------------------------------------\n",
       "--------------------------------------------\n",
       "NON-FRAUD CASE AMOUNT STATS\n",
       "count    142180.000000\n",
       "mean         85.946181\n",
       "std         253.677243\n",
       "min           0.000000\n",
       "25%           5.367500\n",
       "50%          20.160000\n",
       "75%          74.000000\n",
       "max       25691.160000\n",
       "Name: Amount, dtype: float64\n",
       "FRAUD CASE AMOUNT STATS\n",
       "count     223.000000\n",
       "mean      128.431839\n",
       "std       269.879672\n",
       "min         0.000000\n",
       "25%         1.000000\n",
       "50%         9.290000\n",
       "75%       120.140000\n",
       "max      2125.870000\n",
       "Name: Amount, dtype: float64\n",
       "--------------------------------------------\n"
      ]
     },
     "metadata": {},
     "output_type": "display_data"
    },
    {
     "name": "stdout",
     "output_type": "stream",
     "text": [
      "%px: 100%|█████████████████████████████████████| 4/4 [00:08<00:00,  2.24s/tasks]\n"
     ]
    }
   ],
   "source": [
    "%%px\n",
    "@bodo.jit(distributed=['df'])\n",
    "def data_processing(df):\n",
    "    cases = len(df)\n",
    "    nonfraud_count = len(df[df.Class == 0])\n",
    "    fraud_count = len(df[df.Class == 1])\n",
    "    fraud_percentage = round(fraud_count/nonfraud_count*100, 2)\n",
    "    print('--------------------------------------------')\n",
    "    print('Total number of cases are ', cases)\n",
    "    print('Number of Non-fraud cases are ', nonfraud_count)\n",
    "    print('Number of fraud cases are', fraud_count)\n",
    "    print('Percentage of fraud cases is ', fraud_percentage)\n",
    "    print('--------------------------------------------')    \n",
    "    nonfraud_cases = df[df.Class == 0]\n",
    "    fraud_cases = df[df.Class == 1]\n",
    "    print('--------------------------------------------')\n",
    "    print('NON-FRAUD CASE AMOUNT STATS')\n",
    "    print(nonfraud_cases.Amount.describe())\n",
    "    print('FRAUD CASE AMOUNT STATS')    \n",
    "    print(fraud_cases.Amount.describe())\n",
    "    print('--------------------------------------------')    \n",
    "\n",
    "data_processing(df)"
   ]
  },
  {
   "cell_type": "markdown",
   "id": "cooked-mathematics",
   "metadata": {},
   "source": [
    "## Feature Selection & Data Split"
   ]
  },
  {
   "cell_type": "markdown",
   "id": "human-directory",
   "metadata": {},
   "source": [
    "### 1. Normalize `Amount` variable\n",
    "`Amount` variable varies when compared to the rest of the variables. To reduce its range of values, we normalize it using the `StandardScaler` "
   ]
  },
  {
   "cell_type": "code",
   "execution_count": 27,
   "id": "incomplete-cooling",
   "metadata": {},
   "outputs": [
    {
     "data": {
      "text/plain": [
       "[stdout:0] StandardScaler time:  0.1321291479980573\n",
       "0    0.244964\n",
       "1   -0.342475\n",
       "2    1.160686\n",
       "3    0.140534\n",
       "4   -0.073403\n",
       "5   -0.338556\n",
       "6   -0.333279\n",
       "7   -0.190107\n",
       "8    0.019392\n",
       "9   -0.338516\n",
       "Name: Amount, dtype: float64\n"
      ]
     },
     "metadata": {},
     "output_type": "display_data"
    }
   ],
   "source": [
    "%%px\n",
    "@bodo.jit(distributed=['df'], cache=True)\n",
    "def sc(df):\n",
    "    start = time.time()    \n",
    "    sc = StandardScaler()\n",
    "    amount = df['Amount'].values\n",
    "    amount = amount.reshape(-1,1)\n",
    "    sc.fit(amount)\n",
    "    df['Amount'] = (sc.transform(amount)).ravel()\n",
    "    print(\"StandardScaler time: \", time.time() - start)\n",
    "    print(df['Amount'].head(10))\n",
    "    \n",
    "sc(df)"
   ]
  },
  {
   "cell_type": "markdown",
   "id": "incorporated-viking",
   "metadata": {},
   "source": [
    "### 2. Split the data into a training set and testing set "
   ]
  },
  {
   "cell_type": "code",
   "execution_count": 28,
   "id": "genuine-beauty",
   "metadata": {},
   "outputs": [
    {
     "name": "stdout",
     "output_type": "stream",
     "text": [
      "%px:   0%|                                             | 0/4 [00:17<?, ?tasks/s]"
     ]
    },
    {
     "data": {
      "text/plain": [
       "[stdout:1] X_train samples : []\n",
       "X_test samples : []\n",
       "y_train samples : []\n",
       "y_test samples : []\n"
      ]
     },
     "metadata": {},
     "output_type": "display_data"
    },
    {
     "data": {
      "text/plain": [
       "[stdout:2] X_train samples : []\n",
       "X_test samples : []\n",
       "y_train samples : []\n",
       "y_test samples : []\n"
      ]
     },
     "metadata": {},
     "output_type": "display_data"
    },
    {
     "data": {
      "text/plain": [
       "[stdout:3] X_train samples : []\n",
       "X_test samples : []\n",
       "y_train samples : []\n",
       "y_test samples : []\n"
      ]
     },
     "metadata": {},
     "output_type": "display_data"
    },
    {
     "data": {
      "text/plain": [
       "[stdout:0] train_test_split time:  0.16786602800129913\n",
       "X_train samples : [[-0.17709329  0.46713663  1.06874256 -0.71203205  0.43178271 -0.38513781\n",
       "   1.06494145 -0.35528126 -0.2876163  -0.41322759 -1.08167281 -0.29098953\n",
       "   0.56153543 -0.1808912   0.85587617  0.35369438 -0.75285806 -0.23026866\n",
       "   0.58922556  0.25942083 -0.22669549 -0.62933132 -0.04370642 -0.53871266\n",
       "  -0.1193268   0.80287598 -0.24561037 -0.21531057 -0.09047517]]\n",
       "X_test samples : [[ 1.36499590e+00 -1.46193922e+00  1.07395319e+00 -1.33329524e+00\n",
       "  -1.78276225e+00  6.08754300e-01 -1.76444440e+00  3.49516092e-01\n",
       "  -1.21171109e+00  1.38409011e+00  6.68424917e-01 -2.06308091e-01\n",
       "  -2.22823788e-02 -6.71134197e-01 -6.11257803e-01 -4.63479843e-01\n",
       "   6.61550418e-01  2.55860946e-01 -2.81391319e-02 -3.49638738e-01\n",
       "  -1.81838541e-01  9.71567719e-04  3.69133500e-02 -3.30926142e-01\n",
       "   1.69776735e-01 -1.62328838e-01  8.63403848e-02  1.68786012e-02\n",
       "  -2.51278195e-01]]\n",
       "y_train samples : [0 0 0 0 0 0 0 0 0 0 0 0 0 0 0 0 0 0 0 0]\n",
       "y_test samples : [0 0 0 0 0 0 0 0 0 0 0 0 0 0 0 0 0 0 0 0]\n"
      ]
     },
     "metadata": {},
     "output_type": "display_data"
    },
    {
     "name": "stdout",
     "output_type": "stream",
     "text": [
      "%px: 100%|█████████████████████████████████████| 4/4 [00:17<00:00,  4.49s/tasks]\n"
     ]
    }
   ],
   "source": [
    "%%px\n",
    "@bodo.jit(distributed=['df', 'X_train', 'X_test', 'y_train', 'y_test'], cache=True)\n",
    "def data_split(df):\n",
    "    X = df.drop('Class', axis = 1).values\n",
    "    y = df['Class'].values.astype(np.int64)\n",
    "    start = time.time()\n",
    "    X_train, X_test, y_train, y_test = train_test_split(X, y, test_size = 0.2, train_size=0.8, random_state = 0)\n",
    "    print(\"train_test_split time: \", time.time() - start)    \n",
    "    print('X_train samples :', X_train[:1])\n",
    "    print('X_test samples :', X_test[0:1])\n",
    "    print('y_train samples :', y_train[0:20])\n",
    "    print('y_test samples :', y_test[0:20])    \n",
    "    return X_train, X_test, y_train, y_test\n",
    "    \n",
    "X_train, X_test, y_train, y_test = data_split(df)"
   ]
  },
  {
   "cell_type": "markdown",
   "id": "thermal-antarctica",
   "metadata": {},
   "source": [
    "## Modeling\n",
    "Here we have built four different types of classification models and evaluate these models using accuracy score metrics provided by scikit-learn package.\n",
    "\n",
    "#### 1. Logistic Regression"
   ]
  },
  {
   "cell_type": "code",
   "execution_count": 29,
   "id": "hidden-baptist",
   "metadata": {},
   "outputs": [
    {
     "name": "stdout",
     "output_type": "stream",
     "text": [
      "%px:   0%|                                             | 0/4 [00:01<?, ?tasks/s]"
     ]
    },
    {
     "data": {
      "text/plain": [
       "[stdout:0] LogisticRegression fit and predict time:  0.22463374700237182\n",
       "Accuracy score of the Logistic Regression model is 0.998718443874864\n"
      ]
     },
     "metadata": {},
     "output_type": "display_data"
    },
    {
     "name": "stdout",
     "output_type": "stream",
     "text": [
      "%px: 100%|█████████████████████████████████████| 4/4 [00:01<00:00,  3.31tasks/s]\n"
     ]
    }
   ],
   "source": [
    "%%px\n",
    "@bodo.jit(distributed=['X_train', 'y_train', 'X_test', 'y_test'], cache=True)\n",
    "def lr_model(X_train, X_test, y_train, y_test):\n",
    "    start = time.time()\n",
    "    lr = LogisticRegression()\n",
    "    lr.fit(X_train, y_train)\n",
    "    lr_yhat = lr.predict(X_test)\n",
    "    print(\"LogisticRegression fit and predict time: \", time.time()-start)\n",
    "    print('Accuracy score of the Logistic Regression model is {}'.format(accuracy_score(y_test, lr_yhat)))\n",
    "    \n",
    "    \n",
    "lr_model(X_train, X_test, y_train, y_test)"
   ]
  },
  {
   "cell_type": "markdown",
   "id": "ancient-lawrence",
   "metadata": {},
   "source": [
    "#### 2. Random Forest Tree"
   ]
  },
  {
   "cell_type": "code",
   "execution_count": 30,
   "id": "intensive-penny",
   "metadata": {},
   "outputs": [
    {
     "name": "stdout",
     "output_type": "stream",
     "text": [
      "%px:   0%|                                             | 0/4 [00:13<?, ?tasks/s]"
     ]
    },
    {
     "data": {
      "text/plain": [
       "[stdout:0] RandomForestClassifier fit and predict time:  12.63523052399978\n",
       "Accuracy score of the Random Forest Tree model is 0.9988939995084443\n"
      ]
     },
     "metadata": {},
     "output_type": "display_data"
    },
    {
     "name": "stdout",
     "output_type": "stream",
     "text": [
      "%px: 100%|█████████████████████████████████████| 4/4 [00:13<00:00,  3.39s/tasks]\n"
     ]
    }
   ],
   "source": [
    "%%px\n",
    "@bodo.jit(distributed=['X_train', 'y_train', 'X_test', 'y_test'], cache=True)\n",
    "def rf_model(X_train, X_test, y_train, y_test):\n",
    "    start = time.time()\n",
    "    rf = RandomForestClassifier(max_depth = 4)\n",
    "    rf.fit(X_train, y_train)\n",
    "    rf_yhat = rf.predict(X_test)\n",
    "    print(\"RandomForestClassifier fit and predict time: \", time.time()-start)    \n",
    "    print('Accuracy score of the Random Forest Tree model is {}'.format(accuracy_score(y_test, rf_yhat)))\n",
    "\n",
    "rf_model(X_train, X_test, y_train, y_test)"
   ]
  },
  {
   "cell_type": "markdown",
   "id": "commercial-stamp",
   "metadata": {},
   "source": [
    "#### 3. XGBoost Model"
   ]
  },
  {
   "cell_type": "code",
   "execution_count": 31,
   "id": "extraordinary-stress",
   "metadata": {},
   "outputs": [
    {
     "data": {
      "text/plain": [
       "[stdout:3] [09:50:35] WARNING: /Users/runner/work/xgboost/xgboost/src/learner.cc:1115: Starting in XGBoost 1.3.0, the default evaluation metric used with the objective 'binary:logistic' was changed from 'error' to 'logloss'. Explicitly set eval_metric if you'd like to restore the old behavior.\n"
      ]
     },
     "metadata": {},
     "output_type": "display_data"
    },
    {
     "data": {
      "text/plain": [
       "[stdout:1] [09:50:35] WARNING: /Users/runner/work/xgboost/xgboost/src/learner.cc:1115: Starting in XGBoost 1.3.0, the default evaluation metric used with the objective 'binary:logistic' was changed from 'error' to 'logloss'. Explicitly set eval_metric if you'd like to restore the old behavior.\n"
      ]
     },
     "metadata": {},
     "output_type": "display_data"
    },
    {
     "data": {
      "text/plain": [
       "[stdout:2] [09:50:35] WARNING: /Users/runner/work/xgboost/xgboost/src/learner.cc:1115: Starting in XGBoost 1.3.0, the default evaluation metric used with the objective 'binary:logistic' was changed from 'error' to 'logloss'. Explicitly set eval_metric if you'd like to restore the old behavior.\n"
      ]
     },
     "metadata": {},
     "output_type": "display_data"
    },
    {
     "data": {
      "text/plain": [
       "[stdout:0] [09:50:35] WARNING: /Users/runner/work/xgboost/xgboost/src/learner.cc:1115: Starting in XGBoost 1.3.0, the default evaluation metric used with the objective 'binary:logistic' was changed from 'error' to 'logloss'. Explicitly set eval_metric if you'd like to restore the old behavior.\n",
       "XGBClassifier fit and predict time:  13.991874313000153\n",
       "Accuracy score of the XGBoost model is 0.9989291106351603\n"
      ]
     },
     "metadata": {},
     "output_type": "display_data"
    },
    {
     "name": "stdout",
     "output_type": "stream",
     "text": [
      "%px: 100%|█████████████████████████████████████| 4/4 [00:13<00:00,  3.32s/tasks]\n"
     ]
    }
   ],
   "source": [
    "%%px\n",
    "@bodo.jit(distributed=['X_train', 'y_train', 'X_test', 'y_test'], cache=True)\n",
    "def xgb_model(X_train, X_test, y_train, y_test):  \n",
    "    start = time.time()\n",
    "    xgb = XGBClassifier(max_depth = 4)\n",
    "    xgb.fit(X_train, y_train)\n",
    "    xgb_yhat = xgb.predict(X_test)\n",
    "    print(\"XGBClassifier fit and predict time: \", time.time()-start) \n",
    "    print('Accuracy score of the XGBoost model is {}'.format(accuracy_score(y_test, xgb_yhat)))\n",
    "\n",
    "xgb_model(X_train, X_test, y_train, y_test)"
   ]
  },
  {
   "cell_type": "markdown",
   "id": "british-jones",
   "metadata": {},
   "source": [
    "#### 4. SVM"
   ]
  },
  {
   "cell_type": "code",
   "execution_count": 32,
   "id": "falling-species",
   "metadata": {},
   "outputs": [
    {
     "data": {
      "text/plain": [
       "[stdout:0] LinearSVC fit and predict time:  0.17593514299733215\n",
       "Accuracy score of the Linear Support Vector Classification model is 0.998718443874864\n"
      ]
     },
     "metadata": {},
     "output_type": "display_data"
    }
   ],
   "source": [
    "%%px\n",
    "@bodo.jit(distributed=['X_train', 'y_train', 'X_test', 'y_test'], cache=True)\n",
    "def lsvc_model(X_train, X_test, y_train, y_test):  \n",
    "    start = time.time()\n",
    "    lsvc = LinearSVC(random_state=42)\n",
    "    lsvc.fit(X_train, y_train)\n",
    "    lsvc_yhat = lsvc.predict(X_test)\n",
    "    print(\"LinearSVC fit and predict time: \", time.time()-start) \n",
    "    print('Accuracy score of the Linear Support Vector Classification model is {}'.format(accuracy_score(y_test, lsvc_yhat)))\n",
    "\n",
    "lsvc_model(X_train, X_test, y_train, y_test)"
   ]
  },
  {
   "cell_type": "code",
   "execution_count": 38,
   "id": "neural-house",
   "metadata": {},
   "outputs": [],
   "source": [
    "# To stop the cluster run the following command. \n",
    "rc.cluster.stop_cluster_sync()"
   ]
  },
  {
   "cell_type": "code",
   "execution_count": null,
   "id": "1536b59d-046e-4049-9c1e-46c66dc70cfc",
   "metadata": {},
   "outputs": [],
   "source": []
  }
 ],
 "metadata": {
  "kernelspec": {
   "display_name": "Python 3 (ipykernel)",
   "language": "python",
   "name": "python3"
  },
  "language_info": {
   "codemirror_mode": {
    "name": "ipython",
    "version": 3
   },
   "file_extension": ".py",
   "mimetype": "text/x-python",
   "name": "python",
   "nbconvert_exporter": "python",
   "pygments_lexer": "ipython3",
   "version": "3.9.9"
  }
 },
 "nbformat": 4,
 "nbformat_minor": 5
}
