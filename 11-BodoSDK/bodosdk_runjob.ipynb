{
 "cells": [
  {
   "cell_type": "markdown",
   "metadata": {},
   "source": [
    "#### This is an tutorial on using the bodo platform sdk. It will also guide you on how to trigger/ schedule Bodo jobs on the platform, from either your laptop, Lambda, cron etc."
   ]
  },
  {
   "cell_type": "markdown",
   "metadata": {},
   "source": [
    "#### Step 1\n",
    "Install Bodo SDK , you can installing simply by using pip"
   ]
  },
  {
   "cell_type": "code",
   "execution_count": 2,
   "metadata": {},
   "outputs": [
    {
     "name": "stdout",
     "output_type": "stream",
     "text": [
      "Collecting bodosdk\n",
      "  Downloading bodosdk-1.2.0-py3-none-any.whl (34 kB)\n",
      "Collecting pyjwt~=2.3.0\n",
      "  Using cached PyJWT-2.3.0-py3-none-any.whl (16 kB)\n",
      "Collecting pydantic~=1.9\n",
      "  Downloading pydantic-1.10.2-cp39-cp39-macosx_10_9_x86_64.whl (3.2 MB)\n",
      "\u001b[2K     \u001b[90m━━━━━━━━━━━━━━━━━━━━━━━━━━━━━━━━━━━━━━━━\u001b[0m \u001b[32m3.2/3.2 MB\u001b[0m \u001b[31m9.8 MB/s\u001b[0m eta \u001b[36m0:00:00\u001b[0m:00:01\u001b[0m00:01\u001b[0m\n",
      "\u001b[?25hRequirement already satisfied: typing-extensions>=4 in /Users/karthiknarayanan/miniconda3/envs/Bodo39/lib/python3.9/site-packages (from bodosdk) (4.3.0)\n",
      "Collecting requests~=2.27.1\n",
      "  Using cached requests-2.27.1-py2.py3-none-any.whl (63 kB)\n",
      "Requirement already satisfied: idna<4,>=2.5 in /Users/karthiknarayanan/miniconda3/envs/Bodo39/lib/python3.9/site-packages (from requests~=2.27.1->bodosdk) (3.3)\n",
      "Requirement already satisfied: certifi>=2017.4.17 in /Users/karthiknarayanan/miniconda3/envs/Bodo39/lib/python3.9/site-packages (from requests~=2.27.1->bodosdk) (2022.6.15)\n",
      "Collecting charset-normalizer~=2.0.0\n",
      "  Using cached charset_normalizer-2.0.12-py3-none-any.whl (39 kB)\n",
      "Requirement already satisfied: urllib3<1.27,>=1.21.1 in /Users/karthiknarayanan/miniconda3/envs/Bodo39/lib/python3.9/site-packages (from requests~=2.27.1->bodosdk) (1.26.10)\n",
      "Installing collected packages: pyjwt, pydantic, charset-normalizer, requests, bodosdk\n",
      "  Attempting uninstall: charset-normalizer\n",
      "    Found existing installation: charset-normalizer 2.1.0\n",
      "    Uninstalling charset-normalizer-2.1.0:\n",
      "      Successfully uninstalled charset-normalizer-2.1.0\n",
      "  Attempting uninstall: requests\n",
      "    Found existing installation: requests 2.28.1\n",
      "    Uninstalling requests-2.28.1:\n",
      "      Successfully uninstalled requests-2.28.1\n",
      "Successfully installed bodosdk-1.2.0 charset-normalizer-2.0.12 pydantic-1.10.2 pyjwt-2.3.0 requests-2.27.1\n"
     ]
    }
   ],
   "source": [
    "!pip install bodosdk"
   ]
  },
  {
   "cell_type": "markdown",
   "metadata": {},
   "source": [
    "#### Step 2\n",
    "Create an access token for your workspace and reference it here. check the short video below "
   ]
  },
  {
   "cell_type": "code",
   "execution_count": 17,
   "metadata": {
    "jupyter": {
     "source_hidden": true
    },
    "tags": []
   },
   "outputs": [
    {
     "data": {
      "text/html": [
       "<div align=\"center\">\n",
       "<iframe align=\"middle\" width=\"700\" height=\"400\" src=\"https://www.youtube.com/embed/qAPZba0cQQg\" frameborder=\"0\" allowfullscreen></iframe>\n",
       "</div>\n"
      ],
      "text/plain": [
       "<IPython.core.display.HTML object>"
      ]
     },
     "metadata": {},
     "output_type": "display_data"
    }
   ],
   "source": [
    "%%HTML\n",
    "<div align=\"center\">\n",
    "<iframe align=\"middle\" width=\"700\" height=\"400\" src=\"https://www.youtube.com/embed/qAPZba0cQQg\" frameborder=\"0\" allowfullscreen></iframe>\n",
    "</div>"
   ]
  },
  {
   "cell_type": "markdown",
   "metadata": {},
   "source": [
    "#### Generate an SDK client using the API token, as below"
   ]
  },
  {
   "cell_type": "code",
   "execution_count": 36,
   "metadata": {},
   "outputs": [],
   "source": [
    "from bodosdk.models import WorkspaceKeys, JobResponse,WorkspaceSource,JobCluster,ClusterStatus\n",
    "from bodosdk.client import get_bodo_client\n",
    "\n",
    "from bodosdk.models.job import JobClusterDefinition, JobDefinition\n",
    "\n",
    "import os\n",
    "\n",
    "with open(\"../credentials/bodo.creds\",\"r\") as f:\n",
    "    for line in f:\n",
    "        if(line.startswith(\"#\")):\n",
    "            continue\n",
    "        else:\n",
    "            args=line.strip().split(\"=\")\n",
    "            os.environ[args[0]]=args[1]\n",
    "\n",
    "def getBodoClient():\n",
    "    keys = WorkspaceKeys(\n",
    "        client_id=os.environ[\"key\"],\n",
    "        secret_key=os.environ[\"secret\"]\n",
    "    )\n",
    "    return get_bodo_client(keys, print_logs=False)\n",
    "\n",
    "client = getBodoClient()"
   ]
  },
  {
   "cell_type": "markdown",
   "metadata": {},
   "source": [
    "#### Once you have an instance of the Bodo SDK Client, you can use this client to platform operations.\n",
    "#### Lets get a list of clusters from the platform and their status."
   ]
  },
  {
   "cell_type": "code",
   "execution_count": 37,
   "metadata": {},
   "outputs": [
    {
     "data": {
      "text/html": [
       "<div>\n",
       "<style scoped>\n",
       "    .dataframe tbody tr th:only-of-type {\n",
       "        vertical-align: middle;\n",
       "    }\n",
       "\n",
       "    .dataframe tbody tr th {\n",
       "        vertical-align: top;\n",
       "    }\n",
       "\n",
       "    .dataframe thead th {\n",
       "        text-align: right;\n",
       "    }\n",
       "</style>\n",
       "<table border=\"1\" class=\"dataframe\">\n",
       "  <thead>\n",
       "    <tr style=\"text-align: right;\">\n",
       "      <th></th>\n",
       "      <th>name</th>\n",
       "      <th>status</th>\n",
       "      <th>uuid</th>\n",
       "      <th>instance_type</th>\n",
       "      <th>workers_quantity</th>\n",
       "    </tr>\n",
       "  </thead>\n",
       "  <tbody>\n",
       "    <tr>\n",
       "      <th>0</th>\n",
       "      <td>cluster-exampleJob</td>\n",
       "      <td>ClusterStatus.NEW</td>\n",
       "      <td>917fdccc-9c6f-4acf-839f-14d9e6ece98c</td>\n",
       "      <td>c5.2xlarge</td>\n",
       "      <td>1</td>\n",
       "    </tr>\n",
       "    <tr>\n",
       "      <th>1</th>\n",
       "      <td>Snowflake-demo-v1</td>\n",
       "      <td>ClusterStatus.PAUSED</td>\n",
       "      <td>98b2e2d0-75c1-4bf9-9830-1ffbe52fe657</td>\n",
       "      <td>c5.2xlarge</td>\n",
       "      <td>2</td>\n",
       "    </tr>\n",
       "    <tr>\n",
       "      <th>2</th>\n",
       "      <td>clustersmall</td>\n",
       "      <td>ClusterStatus.PAUSED</td>\n",
       "      <td>1a90d8ec-b452-47fe-9ad1-85e59c439cab</td>\n",
       "      <td>c5.2xlarge</td>\n",
       "      <td>2</td>\n",
       "    </tr>\n",
       "    <tr>\n",
       "      <th>3</th>\n",
       "      <td>cluster20225</td>\n",
       "      <td>ClusterStatus.RUNNING</td>\n",
       "      <td>b2460a46-44ae-46ed-9bbe-511543b66979</td>\n",
       "      <td>c5.2xlarge</td>\n",
       "      <td>2</td>\n",
       "    </tr>\n",
       "  </tbody>\n",
       "</table>\n",
       "</div>"
      ],
      "text/plain": [
       "                 name                 status  \\\n",
       "0  cluster-exampleJob      ClusterStatus.NEW   \n",
       "1   Snowflake-demo-v1   ClusterStatus.PAUSED   \n",
       "2        clustersmall   ClusterStatus.PAUSED   \n",
       "3        cluster20225  ClusterStatus.RUNNING   \n",
       "\n",
       "                                   uuid instance_type  workers_quantity  \n",
       "0  917fdccc-9c6f-4acf-839f-14d9e6ece98c    c5.2xlarge                 1  \n",
       "1  98b2e2d0-75c1-4bf9-9830-1ffbe52fe657    c5.2xlarge                 2  \n",
       "2  1a90d8ec-b452-47fe-9ad1-85e59c439cab    c5.2xlarge                 2  \n",
       "3  b2460a46-44ae-46ed-9bbe-511543b66979    c5.2xlarge                 2  "
      ]
     },
     "execution_count": 37,
     "metadata": {},
     "output_type": "execute_result"
    }
   ],
   "source": [
    "import pandas as pd\n",
    "def listClusters(client):\n",
    "    resp=client.cluster.list()\n",
    "    clusters={\"name\":[],\"status\":[],\"uuid\":[],\"instance_type\":[],\"workers_quantity\":[]}\n",
    "    for cluster in resp:\n",
    "        clusters[\"uuid\"].append(cluster.uuid)\n",
    "        clusters[\"name\"].append(cluster.name)\n",
    "        clusters[\"status\"].append(cluster.status)\n",
    "        clusters[\"instance_type\"].append(cluster.instance_type)\n",
    "        clusters[\"workers_quantity\"].append(cluster.workers_quantity)\n",
    "    clusterdf=pd.DataFrame(clusters)\n",
    "    return clusterdf\n",
    "clusterdf = listClusters(client)\n",
    "clusterdf"
   ]
  },
  {
   "cell_type": "markdown",
   "metadata": {},
   "source": [
    "#### Lets Start a cluster that is paused currently\n",
    "#### copy the uuid of one of the clusters from the list above and paste in the code below"
   ]
  },
  {
   "cell_type": "code",
   "execution_count": 38,
   "metadata": {},
   "outputs": [],
   "source": [
    "clusterId=\"b2460a46-44ae-46ed-9bbe-511543b66979\""
   ]
  },
  {
   "cell_type": "code",
   "execution_count": 8,
   "metadata": {},
   "outputs": [],
   "source": [
    "cluster=client.cluster.resume(clusterId)"
   ]
  },
  {
   "cell_type": "code",
   "execution_count": 9,
   "metadata": {},
   "outputs": [
    {
     "data": {
      "text/plain": [
       "<ClusterStatus.RESUMING: 'RESUMING'>"
      ]
     },
     "execution_count": 9,
     "metadata": {},
     "output_type": "execute_result"
    }
   ],
   "source": [
    "client.cluster.get(clusterId).status"
   ]
  },
  {
   "cell_type": "code",
   "execution_count": 10,
   "metadata": {},
   "outputs": [
    {
     "name": "stdout",
     "output_type": "stream",
     "text": [
      "ClusterStatus.RESUMING\n",
      "ClusterStatus.RUNNING\n"
     ]
    }
   ],
   "source": [
    "### check the status in a loop till the cluster is running. In the future, the api will have a blocking method for resume.\n",
    "import time\n",
    "def checkStatus(client,clusterId):\n",
    "    while(True):\n",
    "        clusterstatus = client.cluster.get(clusterId).status\n",
    "        print(clusterstatus)\n",
    "        if(clusterstatus==ClusterStatus.RUNNING or clusterstatus==ClusterStatus.PAUSING or clusterstatus==ClusterStatus.PAUSED):\n",
    "            break\n",
    "        time.sleep(2)\n",
    "checkStatus(client,clusterId)\n"
   ]
  },
  {
   "cell_type": "markdown",
   "metadata": {
    "tags": []
   },
   "source": [
    "### Pause a cluster"
   ]
  },
  {
   "cell_type": "code",
   "execution_count": 11,
   "metadata": {},
   "outputs": [
    {
     "name": "stdout",
     "output_type": "stream",
     "text": [
      "ClusterStatus.INPROGRESS\n",
      "ClusterStatus.PAUSING\n"
     ]
    }
   ],
   "source": [
    "client.cluster.pause(clusterId)\n",
    "checkStatus(client,clusterId)"
   ]
  },
  {
   "cell_type": "markdown",
   "metadata": {},
   "source": [
    "#### Get list of available images ami, for creating clusters using SDK\n",
    "#### call the get_available_images method of cluster SDK , pass the region where you want the cluster to be created, and you will get a list of available images.\n",
    "#### the image will correspond to a bodo version, this can be used to launch a bodo cluster programmatically with a particular bodo version"
   ]
  },
  {
   "cell_type": "code",
   "execution_count": 13,
   "metadata": {},
   "outputs": [
    {
     "data": {
      "text/html": [
       "<div>\n",
       "<style scoped>\n",
       "    .dataframe tbody tr th:only-of-type {\n",
       "        vertical-align: middle;\n",
       "    }\n",
       "\n",
       "    .dataframe tbody tr th {\n",
       "        vertical-align: top;\n",
       "    }\n",
       "\n",
       "    .dataframe thead th {\n",
       "        text-align: right;\n",
       "    }\n",
       "</style>\n",
       "<table border=\"1\" class=\"dataframe\">\n",
       "  <thead>\n",
       "    <tr style=\"text-align: right;\">\n",
       "      <th></th>\n",
       "      <th>ami</th>\n",
       "      <th>bodo_version</th>\n",
       "    </tr>\n",
       "  </thead>\n",
       "  <tbody>\n",
       "    <tr>\n",
       "      <th>0</th>\n",
       "      <td>ami-02e3a743ce609ad86</td>\n",
       "      <td>2022.8</td>\n",
       "    </tr>\n",
       "    <tr>\n",
       "      <th>1</th>\n",
       "      <td>ami-0d790d4cf8f8dac5b</td>\n",
       "      <td>2022.7</td>\n",
       "    </tr>\n",
       "    <tr>\n",
       "      <th>2</th>\n",
       "      <td>ami-0b49e47df3cefe51e</td>\n",
       "      <td>2022.6.2</td>\n",
       "    </tr>\n",
       "    <tr>\n",
       "      <th>3</th>\n",
       "      <td>ami-0fc5e82c9f7c572f9</td>\n",
       "      <td>2022.6</td>\n",
       "    </tr>\n",
       "    <tr>\n",
       "      <th>4</th>\n",
       "      <td>ami-03d1638bccc8c357b</td>\n",
       "      <td>2022.05.7 (Iceberg Alpha)</td>\n",
       "    </tr>\n",
       "    <tr>\n",
       "      <th>5</th>\n",
       "      <td>ami-02e0871982f31ed86</td>\n",
       "      <td>2022.05.8</td>\n",
       "    </tr>\n",
       "    <tr>\n",
       "      <th>6</th>\n",
       "      <td>ami-077ffa6e2fb413c7e</td>\n",
       "      <td>2022.05.7</td>\n",
       "    </tr>\n",
       "    <tr>\n",
       "      <th>7</th>\n",
       "      <td>ami-07a2e9276a352e411</td>\n",
       "      <td>2022.05.6</td>\n",
       "    </tr>\n",
       "    <tr>\n",
       "      <th>8</th>\n",
       "      <td>ami-0e6823b4142b81319</td>\n",
       "      <td>2022.05.4 SQL</td>\n",
       "    </tr>\n",
       "    <tr>\n",
       "      <th>9</th>\n",
       "      <td>ami-05af5bb246896bf9e</td>\n",
       "      <td>2022.05.4</td>\n",
       "    </tr>\n",
       "    <tr>\n",
       "      <th>10</th>\n",
       "      <td>ami-0e00b3234e13295db</td>\n",
       "      <td>2022.05.3 SQL</td>\n",
       "    </tr>\n",
       "    <tr>\n",
       "      <th>11</th>\n",
       "      <td>ami-0ef01232e0adfee9a</td>\n",
       "      <td>2022.05.3</td>\n",
       "    </tr>\n",
       "    <tr>\n",
       "      <th>12</th>\n",
       "      <td>ami-04b2ff0a32b6a1a65</td>\n",
       "      <td>2022.05 SQL</td>\n",
       "    </tr>\n",
       "    <tr>\n",
       "      <th>13</th>\n",
       "      <td>ami-0d72429297db73319</td>\n",
       "      <td>2022.05.2</td>\n",
       "    </tr>\n",
       "    <tr>\n",
       "      <th>14</th>\n",
       "      <td>ami-0c323630822ceddf0</td>\n",
       "      <td>2022.4 SQL</td>\n",
       "    </tr>\n",
       "    <tr>\n",
       "      <th>15</th>\n",
       "      <td>ami-040050ebeeb499f8a</td>\n",
       "      <td>2022.4</td>\n",
       "    </tr>\n",
       "    <tr>\n",
       "      <th>16</th>\n",
       "      <td>ami-08fb1e0406565d935</td>\n",
       "      <td>2022.3</td>\n",
       "    </tr>\n",
       "  </tbody>\n",
       "</table>\n",
       "</div>"
      ],
      "text/plain": [
       "                      ami               bodo_version\n",
       "0   ami-02e3a743ce609ad86                     2022.8\n",
       "1   ami-0d790d4cf8f8dac5b                     2022.7\n",
       "2   ami-0b49e47df3cefe51e                   2022.6.2\n",
       "3   ami-0fc5e82c9f7c572f9                     2022.6\n",
       "4   ami-03d1638bccc8c357b  2022.05.7 (Iceberg Alpha)\n",
       "5   ami-02e0871982f31ed86                  2022.05.8\n",
       "6   ami-077ffa6e2fb413c7e                  2022.05.7\n",
       "7   ami-07a2e9276a352e411                  2022.05.6\n",
       "8   ami-0e6823b4142b81319              2022.05.4 SQL\n",
       "9   ami-05af5bb246896bf9e                  2022.05.4\n",
       "10  ami-0e00b3234e13295db              2022.05.3 SQL\n",
       "11  ami-0ef01232e0adfee9a                  2022.05.3\n",
       "12  ami-04b2ff0a32b6a1a65                2022.05 SQL\n",
       "13  ami-0d72429297db73319                  2022.05.2\n",
       "14  ami-0c323630822ceddf0                 2022.4 SQL\n",
       "15  ami-040050ebeeb499f8a                     2022.4\n",
       "16  ami-08fb1e0406565d935                     2022.3"
      ]
     },
     "execution_count": 13,
     "metadata": {},
     "output_type": "execute_result"
    }
   ],
   "source": [
    "import pandas as pd\n",
    "def listImages(client,region):\n",
    "    \n",
    "    resp = client.cluster.get_available_images(\"us-east-2\")\n",
    "    images={\"ami\":[],\"bodo_version\":[]}\n",
    "    for image in resp.keys():\n",
    "        images[\"ami\"].append(resp[image].image_id)\n",
    "        images[\"bodo_version\"].append(resp[image].bodo_version)\n",
    "    df=pd.DataFrame(images)\n",
    "    return df\n",
    "images = listImages(client,\"us-east-2\")\n",
    "images\n",
    "    "
   ]
  },
  {
   "cell_type": "markdown",
   "metadata": {},
   "source": [
    "#### Lets use the bodo sdk to run a job.\n",
    "## There are two ways to run jobs\n",
    "## 1. you can, submit the job with a cluster definition. Bodo platfrom will use the cluster definition to start a new cluster and run the job on this cluster. After the job finishes, cluster will be removed\n",
    "## 2. Submit job to an existing cluster by passing the uuid of the cluster in cluster definition. \n",
    "\n",
    "## we will use both approaches to run a job here.\n"
   ]
  },
  {
   "cell_type": "code",
   "execution_count": 4,
   "metadata": {},
   "outputs": [
    {
     "name": "stdout",
     "output_type": "stream",
     "text": [
      "uuid=UUID('d95702a1-e5af-4d35-8c42-8c4498001de3') status=<JobStatus.NEW: 'NEW'> name='exampleJob-2022-09-14-2' args='example.py' variables={} source_config=WorkspaceSource(type=<JobSourceType.WORKSPACE: 'WORKSPACE'>, path='/shared/11-BodoSDK/') cluster_config=JobClusterDefinition(instance_type='c5.2xlarge', workers_quantity=2, accelerated_networking=False, image_id='ami-0d790d4cf8f8dac5b', bodo_version=None) cluster=JobClusterResponse(uuid='f93e6c2f-717e-4d0f-9c2b-2495302d5c92', name='cluster-exampleJob-2022-09-14-2', instance_type='c5.2xlarge', workers_quantity=2, accelerated_networking=False, bodo_version='2022.7', image_id='ami-0d790d4cf8f8dac5b') timeout=10 retries=3 retries_delay=0 retry_on_timeout=False\n",
      "None\n"
     ]
    }
   ],
   "source": [
    "### Run a job with a new cluster Definition \n",
    "from datetime import date\n",
    "def runJob(client):\n",
    "    today = date.today()\n",
    "    job_definition = JobDefinition(\n",
    "        name=f'exampleJob-{today}-2', ### name of the job run instance , from a use case perspective ex. \"daily eod report job\" .\n",
    "        args='example.py', ### the python script to run,\n",
    "        source_config=WorkspaceSource(\n",
    "            path='/shared/11-BodoSDK/' ### absolute path for the python script, this folder will be added to PYTHONPATH\n",
    "        ),\n",
    "    cluster_object=JobClusterDefinition(\n",
    "        instance_type='c5.2xlarge',\n",
    "        accelerated_networking=False,\n",
    "        image_id='ami-0d790d4cf8f8dac5b', ### the image to use, this is for helping pick a bodo version, look at the image list section to see the versions and ami-ids\n",
    "        workers_quantity=2\n",
    "    ),\n",
    "        variables=[],\n",
    "        timeout=10,\n",
    "        retries=3,\n",
    "        retries_delay=0,\n",
    "        retry_on_timeout=False\n",
    "    )\n",
    "    resp = client.job.create(job_definition)\n",
    "    print(resp)\n",
    "    uuid=str(resp.uuid)\n",
    "    result = waitforJobFinish(uuid,client)\n",
    "    #return result\n",
    "\n",
    "\n",
    "def success_callback(job):\n",
    "    print('Job has finished')\n",
    "    return job\n",
    "\n",
    "\n",
    "def waitforJobFinish(uuid,client):\n",
    "    waiter = client.job.get_waiter()\n",
    "    return waiter.wait(uuid, on_success=success_callback)\n",
    "\n",
    "if __name__ == \"__main__\":\n",
    "\n",
    "\n",
    "    \n",
    "    result = runJob(client)\n",
    "    print(result)"
   ]
  },
  {
   "cell_type": "code",
   "execution_count": 43,
   "metadata": {},
   "outputs": [
    {
     "name": "stdout",
     "output_type": "stream",
     "text": [
      "job created 76400e94-48c8-40cf-bb2d-8b7afb601532\n",
      "Job has finished\n",
      "uuid=UUID('76400e94-48c8-40cf-bb2d-8b7afb601532') name='exampleJob-2022-09-15-2' status=<JobStatus.FINISHED: 'FINISHED'> schedule=datetime.datetime(2022, 9, 15, 16, 4) command='example.py' variables={} workspace_path='/shared/11-BodoSDK/' workspace_reference='' cluster=JobClusterResponse(uuid='b2460a46-44ae-46ed-9bbe-511543b66979', name='cluster20225', instance_type='c5.2xlarge', workers_quantity=2, accelerated_networking=False, bodo_version='2022.05.8', image_id='ami-02e0871982f31ed86')\n"
     ]
    },
    {
     "data": {
      "text/plain": [
       "True"
      ]
     },
     "execution_count": 43,
     "metadata": {},
     "output_type": "execute_result"
    }
   ],
   "source": [
    "### Run a job with a new cluster Definition \n",
    "from datetime import date\n",
    "from uuid import UUID\n",
    "def resumeCluster(clusterid):\n",
    "    resp=client.cluster.get(clusterid)\n",
    "    if(resp.status==ClusterStatus.PAUSED):\n",
    "        client.cluster.resume(clusterid)\n",
    "        while(resp.status!=ClusterStatus.RUNNING):\n",
    "            time.sleep(10)\n",
    "            resp=client.cluster.get(clusterid)\n",
    "    return True\n",
    "\n",
    "def pauseCluster(clusterid):\n",
    "    resp=client.cluster.get(clusterid)\n",
    "    if(resp.status!=ClusterStatus.PAUSED):\n",
    "        client.cluster.pause(clusterid)\n",
    "        while(resp.status!=ClusterStatus.PAUSED):\n",
    "            time.sleep(10)\n",
    "            resp=client.cluster.get(clusterid)\n",
    "    return True\n",
    "\n",
    "def success_callback(job):\n",
    "    print('Job has finished')\n",
    "    return job\n",
    "\n",
    "today = date.today()\n",
    "\n",
    "job_definition = JobDefinition(\n",
    "        name=f'exampleJob-{today}-2', ### name of the job run instance , from a use case perspective ex. \"daily eod report job\" .\n",
    "        args='example.py', ### the python script to run,\n",
    "        source_config=WorkspaceSource(\n",
    "            path='/shared/11-BodoSDK/' ### absolute path for the python script, this folder will be added to PYTHONPATH\n",
    "        ),\n",
    "    cluster_object=JobCluster(\n",
    "        uuid=UUID(clusterId)\n",
    "    ),\n",
    "        variables=[],\n",
    "        timeout=60,\n",
    "        retries=1,\n",
    "        retries_delay=1,\n",
    "        retry_on_timeout=False\n",
    "    )\n",
    "\n",
    "resumeCluster(clusterId)\n",
    "resp = client.job.create(job_definition)\n",
    "uuid=str(resp.uuid)\n",
    "print(f\"job created {uuid}\")\n",
    "waiter = client.job.get_waiter()\n",
    "result=waiter.wait(uuid, on_success=success_callback)\n",
    "print(result)\n",
    "pauseCluster(clusterId)\n"
   ]
  },
  {
   "cell_type": "code",
   "execution_count": null,
   "metadata": {},
   "outputs": [],
   "source": []
  }
 ],
 "metadata": {
  "kernelspec": {
   "display_name": "Python 3 (ipykernel)",
   "language": "python",
   "name": "python3"
  },
  "language_info": {
   "codemirror_mode": {
    "name": "ipython",
    "version": 3
   },
   "file_extension": ".py",
   "mimetype": "text/x-python",
   "name": "python",
   "nbconvert_exporter": "python",
   "pygments_lexer": "ipython3",
   "version": "3.9.12"
  }
 },
 "nbformat": 4,
 "nbformat_minor": 4
}
