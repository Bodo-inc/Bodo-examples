{
 "cells": [
  {
   "cell_type": "markdown",
   "metadata": {},
   "source": [
    "# Bodo Getting Started Tutorial\n",
    "\n",
    "In a nutshell, Bodo provides a just-in-time (JIT) compilation workflow using the `@bodo.jit` decorator. It replaces decorated Python functions with an optimized and parallelized binary version.\n",
    "\n",
    "In this tutorial, we will cover the basics of using Bodo and explain its important concepts. We strongly recommend reading this page before using Bodo.\n",
    "\n",
    "Let's get started!"
   ]
  },
  {
   "cell_type": "markdown",
   "metadata": {},
   "source": [
    "## Environment Setup\n",
    "\n",
    "##### (NOTE: This step  will be ignored on the Bodo Cloud Platform)\n",
    "\n",
    "Please follow the [README.md](README.md) to set up bodo, ipyparallel, and your environment. Fore more details please read [Bodo installation](https://docs.bodo.ai/installation_and_setup/install/) and [Jupyter Notebook Setup](https://docs.bodo.ai/2022.6/installation_and_setup/ipyparallel/#testinstall) pages to setup the environment, then initialize the `ipyparallel` environment:"
   ]
  },
  {
   "cell_type": "code",
   "execution_count": 1,
   "metadata": {},
   "outputs": [
    {
     "name": "stdout",
     "output_type": "stream",
     "text": [
      "You are not on Bodo Platform, running ipyparallel.. \n",
      "Starting 8 engines with <class 'ipyparallel.cluster.launcher.MPIEngineSetLauncher'>\n",
      "100%|█████████████████████████████████████████████████████████████████████████████████████████████████████████████████████| 8/8 [00:09<00:00,  1.18s/engine]\n"
     ]
    }
   ],
   "source": [
    "import os\n",
    "if os.environ.get(\"BODO_PLATFORM_WORKSPACE_UUID\",'NA') == 'NA':\n",
    "    print(\"You are not on Bodo Platform, running ipyparallel.. \")\n",
    "    import ipyparallel as ipp\n",
    "    import psutil; n = min(psutil.cpu_count(logical=False), 8)\n",
    "    rc = ipp.Cluster(engines='mpi', n=n).start_and_connect_sync(activate=True)"
   ]
  },
  {
   "cell_type": "code",
   "execution_count": 2,
   "metadata": {},
   "outputs": [
    {
     "name": "stdout",
     "output_type": "stream",
     "text": [
      "/opt/miniconda3/envs/Bodo/bin/python\r\n"
     ]
    }
   ],
   "source": [
    "!where python"
   ]
  },
  {
   "cell_type": "markdown",
   "metadata": {},
   "source": [
    "Run the following code to verify that your IPyParallel cluster is set up correctly:"
   ]
  },
  {
   "cell_type": "code",
   "execution_count": 3,
   "metadata": {},
   "outputs": [
    {
     "name": "stdout",
     "output_type": "stream",
     "text": [
      "%px:   0%|                                                                                                                         | 0/8 [00:13<?, ?tasks/s]"
     ]
    },
    {
     "data": {
      "text/plain": [
       "[stdout:6] Hello World from rank 6. Total ranks=8\n"
      ]
     },
     "metadata": {},
     "output_type": "display_data"
    },
    {
     "data": {
      "text/plain": [
       "[stdout:7] Hello World from rank 7. Total ranks=8\n"
      ]
     },
     "metadata": {},
     "output_type": "display_data"
    },
    {
     "data": {
      "text/plain": [
       "[stdout:3] Hello World from rank 3. Total ranks=8\n"
      ]
     },
     "metadata": {},
     "output_type": "display_data"
    },
    {
     "data": {
      "text/plain": [
       "[stdout:0] Hello World from rank 0. Total ranks=8\n"
      ]
     },
     "metadata": {},
     "output_type": "display_data"
    },
    {
     "data": {
      "text/plain": [
       "[stdout:1] Hello World from rank 1. Total ranks=8\n"
      ]
     },
     "metadata": {},
     "output_type": "display_data"
    },
    {
     "data": {
      "text/plain": [
       "[stdout:5] Hello World from rank 5. Total ranks=8\n"
      ]
     },
     "metadata": {},
     "output_type": "display_data"
    },
    {
     "data": {
      "text/plain": [
       "[stdout:2] Hello World from rank 2. Total ranks=8\n"
      ]
     },
     "metadata": {},
     "output_type": "display_data"
    },
    {
     "name": "stdout",
     "output_type": "stream",
     "text": [
      "%px: 100%|█████████████████████████████████████████████████████████████████████████████████████████████████████████████████| 8/8 [00:13<00:00,  1.66s/tasks]\n"
     ]
    },
    {
     "data": {
      "text/plain": [
       "[stdout:4] Hello World from rank 4. Total ranks=8\n"
      ]
     },
     "metadata": {},
     "output_type": "display_data"
    }
   ],
   "source": [
    "%%px\n",
    "import bodo\n",
    "print(f\"Hello World from rank {bodo.get_rank()}. Total ranks={bodo.get_size()}\")"
   ]
  },
  {
   "cell_type": "markdown",
   "metadata": {
    "tags": []
   },
   "source": [
    "## Parallel Pandas with Bodo\n",
    "First, we demonstrate how Bodo automatically parallelizes and optimizes standard Python programs that make use of pandas and NumPy, without the need to rewrite your code. Bodo can scale your analytics code to thousands of cores, providing orders of magnitude speed up depending on program characteristics."
   ]
  },
  {
   "cell_type": "markdown",
   "metadata": {},
   "source": [
    "After this initialization, any code that we run in the notebook with `%%px` is sent for execution on all MPI engines. Note, if the machine on which you are running the example has less then 8 cores, it will run on that number of cores. For the sake of this tutorial, when executing code with 8 cores, we will limit the maximum number of rows printed to standard out, to reduce clutter:"
   ]
  },
  {
   "cell_type": "code",
   "execution_count": 4,
   "metadata": {},
   "outputs": [],
   "source": [
    "%%px\n",
    "import pandas as pd\n",
    "pd.options.display.max_rows = 3"
   ]
  },
  {
   "cell_type": "markdown",
   "metadata": {},
   "source": [
    "### Generate data\n",
    "To begin, let's generate a simple dataset and write to a [Parquet](http://parquet.apache.org/) file:"
   ]
  },
  {
   "cell_type": "code",
   "execution_count": 5,
   "metadata": {},
   "outputs": [
    {
     "name": "stdout",
     "output_type": "stream",
     "text": [
      "                 A        B\n",
      "0              NaT        0\n",
      "1       2013-01-03        1\n",
      "2       2013-01-03        2\n",
      "3              NaT        3\n",
      "4       2013-01-03        4\n",
      "...            ...      ...\n",
      "9999995 2015-09-29  9999995\n",
      "9999996 2015-09-29  9999996\n",
      "9999997 2015-09-29  9999997\n",
      "9999998 2015-09-29  9999998\n",
      "9999999 2015-09-29  9999999\n",
      "\n",
      "[10000000 rows x 2 columns]\n"
     ]
    }
   ],
   "source": [
    "import pandas as pd\n",
    "import numpy as np\n",
    "\n",
    "# 10m data points\n",
    "df = pd.DataFrame(\n",
    "    {\n",
    "        \"A\": np.repeat(pd.date_range(\"2013-01-03\", periods=1000), 10_000),\n",
    "        \"B\": np.arange(10_000_000),\n",
    "    }\n",
    ")\n",
    "# set some values to NA\n",
    "df.iloc[np.arange(1000) * 3, 0] = pd.NA\n",
    "# using row_group_size helps with efficient parallel read of data later\n",
    "df.to_parquet(\"pd_example.pq\", row_group_size=100000)\n",
    "print(df)"
   ]
  },
  {
   "cell_type": "markdown",
   "metadata": {},
   "source": [
    "### Example Code in Pandas\n",
    "Here is a simple data transformation code in Pandas that processes a column of datetime values and creates two new columns:"
   ]
  },
  {
   "cell_type": "code",
   "execution_count": 6,
   "metadata": {},
   "outputs": [
    {
     "name": "stdout",
     "output_type": "stream",
     "text": [
      "Total time: 115.97\n"
     ]
    },
    {
     "data": {
      "text/html": [
       "<div>\n",
       "<style scoped>\n",
       "    .dataframe tbody tr th:only-of-type {\n",
       "        vertical-align: middle;\n",
       "    }\n",
       "\n",
       "    .dataframe tbody tr th {\n",
       "        vertical-align: top;\n",
       "    }\n",
       "\n",
       "    .dataframe thead th {\n",
       "        text-align: right;\n",
       "    }\n",
       "</style>\n",
       "<table border=\"1\" class=\"dataframe\">\n",
       "  <thead>\n",
       "    <tr style=\"text-align: right;\">\n",
       "      <th></th>\n",
       "      <th>A</th>\n",
       "      <th>B</th>\n",
       "      <th>C</th>\n",
       "    </tr>\n",
       "  </thead>\n",
       "  <tbody>\n",
       "    <tr>\n",
       "      <th>0</th>\n",
       "      <td>NaT</td>\n",
       "      <td>NA</td>\n",
       "      <td>NaN</td>\n",
       "    </tr>\n",
       "    <tr>\n",
       "      <th>1</th>\n",
       "      <td>2013-01-03</td>\n",
       "      <td>P1</td>\n",
       "      <td>1.0</td>\n",
       "    </tr>\n",
       "    <tr>\n",
       "      <th>2</th>\n",
       "      <td>2013-01-03</td>\n",
       "      <td>P1</td>\n",
       "      <td>1.0</td>\n",
       "    </tr>\n",
       "    <tr>\n",
       "      <th>3</th>\n",
       "      <td>NaT</td>\n",
       "      <td>NA</td>\n",
       "      <td>NaN</td>\n",
       "    </tr>\n",
       "    <tr>\n",
       "      <th>4</th>\n",
       "      <td>2013-01-03</td>\n",
       "      <td>P1</td>\n",
       "      <td>1.0</td>\n",
       "    </tr>\n",
       "    <tr>\n",
       "      <th>...</th>\n",
       "      <td>...</td>\n",
       "      <td>...</td>\n",
       "      <td>...</td>\n",
       "    </tr>\n",
       "    <tr>\n",
       "      <th>9999995</th>\n",
       "      <td>2015-09-29</td>\n",
       "      <td>P2</td>\n",
       "      <td>9.0</td>\n",
       "    </tr>\n",
       "    <tr>\n",
       "      <th>9999996</th>\n",
       "      <td>2015-09-29</td>\n",
       "      <td>P2</td>\n",
       "      <td>9.0</td>\n",
       "    </tr>\n",
       "    <tr>\n",
       "      <th>9999997</th>\n",
       "      <td>2015-09-29</td>\n",
       "      <td>P2</td>\n",
       "      <td>9.0</td>\n",
       "    </tr>\n",
       "    <tr>\n",
       "      <th>9999998</th>\n",
       "      <td>2015-09-29</td>\n",
       "      <td>P2</td>\n",
       "      <td>9.0</td>\n",
       "    </tr>\n",
       "    <tr>\n",
       "      <th>9999999</th>\n",
       "      <td>2015-09-29</td>\n",
       "      <td>P2</td>\n",
       "      <td>9.0</td>\n",
       "    </tr>\n",
       "  </tbody>\n",
       "</table>\n",
       "<p>10000000 rows × 3 columns</p>\n",
       "</div>"
      ],
      "text/plain": [
       "                 A   B    C\n",
       "0              NaT  NA  NaN\n",
       "1       2013-01-03  P1  1.0\n",
       "2       2013-01-03  P1  1.0\n",
       "3              NaT  NA  NaN\n",
       "4       2013-01-03  P1  1.0\n",
       "...            ...  ..  ...\n",
       "9999995 2015-09-29  P2  9.0\n",
       "9999996 2015-09-29  P2  9.0\n",
       "9999997 2015-09-29  P2  9.0\n",
       "9999998 2015-09-29  P2  9.0\n",
       "9999999 2015-09-29  P2  9.0\n",
       "\n",
       "[10000000 rows x 3 columns]"
      ]
     },
     "execution_count": 6,
     "metadata": {},
     "output_type": "execute_result"
    }
   ],
   "source": [
    "import time\n",
    "import pandas as pd\n",
    "\n",
    "def data_transform():\n",
    "    t0 = time.time()\n",
    "    df = pd.read_parquet(\"pd_example.pq\")\n",
    "    df[\"B\"] = df.apply(lambda r: \"NA\" if pd.isna(r.A) else \"P1\" if r.A.month < 5 else \"P2\", axis=1)\n",
    "    df[\"C\"] = df.A.dt.month\n",
    "    t2 = time.time()\n",
    "    print(\"Total time: {:.2f}\".format(time.time()-t0))\n",
    "    return df\n",
    "\n",
    "data_transform()"
   ]
  },
  {
   "cell_type": "markdown",
   "metadata": {},
   "source": [
    "Standard Python is quite slow for these data transforms since\n",
    "1. The use of custom code inside apply() does not let Pandas run an optimized prebuilt C library in its backend. Therefore, the Python interpreter overheads dominate.\n",
    "2. Python uses just a single CPU core and does not parallelize computation.\n",
    "\n",
    "Bodo solves both of these problems as we demonstrate below."
   ]
  },
  {
   "cell_type": "markdown",
   "metadata": {},
   "source": [
    "### Using Bodo JIT Decorator\n",
    "Bodo optimizes and parallelizes data workloads by providing just-in-time (JIT) compilation. To run the code with Bodo, all that we have to do is add the `bodo.jit` decorator to the function."
   ]
  },
  {
   "cell_type": "code",
   "execution_count": 9,
   "metadata": {},
   "outputs": [
    {
     "name": "stdout",
     "output_type": "stream",
     "text": [
      "Total time: 0.71\n"
     ]
    },
    {
     "data": {
      "text/html": [
       "<div>\n",
       "<style scoped>\n",
       "    .dataframe tbody tr th:only-of-type {\n",
       "        vertical-align: middle;\n",
       "    }\n",
       "\n",
       "    .dataframe tbody tr th {\n",
       "        vertical-align: top;\n",
       "    }\n",
       "\n",
       "    .dataframe thead th {\n",
       "        text-align: right;\n",
       "    }\n",
       "</style>\n",
       "<table border=\"1\" class=\"dataframe\">\n",
       "  <thead>\n",
       "    <tr style=\"text-align: right;\">\n",
       "      <th></th>\n",
       "      <th>A</th>\n",
       "      <th>B</th>\n",
       "      <th>C</th>\n",
       "    </tr>\n",
       "  </thead>\n",
       "  <tbody>\n",
       "    <tr>\n",
       "      <th>0</th>\n",
       "      <td>NaT</td>\n",
       "      <td>NA</td>\n",
       "      <td>&lt;NA&gt;</td>\n",
       "    </tr>\n",
       "    <tr>\n",
       "      <th>1</th>\n",
       "      <td>2013-01-03</td>\n",
       "      <td>P1</td>\n",
       "      <td>1</td>\n",
       "    </tr>\n",
       "    <tr>\n",
       "      <th>2</th>\n",
       "      <td>2013-01-03</td>\n",
       "      <td>P1</td>\n",
       "      <td>1</td>\n",
       "    </tr>\n",
       "    <tr>\n",
       "      <th>3</th>\n",
       "      <td>NaT</td>\n",
       "      <td>NA</td>\n",
       "      <td>&lt;NA&gt;</td>\n",
       "    </tr>\n",
       "    <tr>\n",
       "      <th>4</th>\n",
       "      <td>2013-01-03</td>\n",
       "      <td>P1</td>\n",
       "      <td>1</td>\n",
       "    </tr>\n",
       "    <tr>\n",
       "      <th>...</th>\n",
       "      <td>...</td>\n",
       "      <td>...</td>\n",
       "      <td>...</td>\n",
       "    </tr>\n",
       "    <tr>\n",
       "      <th>9999995</th>\n",
       "      <td>2015-09-29</td>\n",
       "      <td>P2</td>\n",
       "      <td>9</td>\n",
       "    </tr>\n",
       "    <tr>\n",
       "      <th>9999996</th>\n",
       "      <td>2015-09-29</td>\n",
       "      <td>P2</td>\n",
       "      <td>9</td>\n",
       "    </tr>\n",
       "    <tr>\n",
       "      <th>9999997</th>\n",
       "      <td>2015-09-29</td>\n",
       "      <td>P2</td>\n",
       "      <td>9</td>\n",
       "    </tr>\n",
       "    <tr>\n",
       "      <th>9999998</th>\n",
       "      <td>2015-09-29</td>\n",
       "      <td>P2</td>\n",
       "      <td>9</td>\n",
       "    </tr>\n",
       "    <tr>\n",
       "      <th>9999999</th>\n",
       "      <td>2015-09-29</td>\n",
       "      <td>P2</td>\n",
       "      <td>9</td>\n",
       "    </tr>\n",
       "  </tbody>\n",
       "</table>\n",
       "<p>10000000 rows × 3 columns</p>\n",
       "</div>"
      ],
      "text/plain": [
       "                 A   B     C\n",
       "0              NaT  NA  <NA>\n",
       "1       2013-01-03  P1     1\n",
       "2       2013-01-03  P1     1\n",
       "3              NaT  NA  <NA>\n",
       "4       2013-01-03  P1     1\n",
       "...            ...  ..   ...\n",
       "9999995 2015-09-29  P2     9\n",
       "9999996 2015-09-29  P2     9\n",
       "9999997 2015-09-29  P2     9\n",
       "9999998 2015-09-29  P2     9\n",
       "9999999 2015-09-29  P2     9\n",
       "\n",
       "[10000000 rows x 3 columns]"
      ]
     },
     "execution_count": 9,
     "metadata": {},
     "output_type": "execute_result"
    }
   ],
   "source": [
    "import pandas as pd\n",
    "import bodo\n",
    "import time\n",
    "\n",
    "@bodo.jit\n",
    "def data_transform():\n",
    "    t0 = time.time()\n",
    "    df = pd.read_parquet(\"pd_example.pq\")\n",
    "    df[\"B\"] = df.apply(lambda r: \"NA\" if pd.isna(r.A) else \"P1\" if r.A.month < 5 else \"P2\", axis=1)\n",
    "    df[\"C\"] = df.A.dt.month\n",
    "    print(\"Total time: {:.2f}\".format(time.time()-t0))\n",
    "    return df\n",
    "\n",
    "data_transform()"
   ]
  },
  {
   "cell_type": "markdown",
   "metadata": {},
   "source": [
    "Even though the code is still running on a single core, it is 94x faster because Bodo compiles the function into a native binary, eliminating the interpreter overheads in apply.\n",
    "\n",
    "Now let’s run the code on 8 cores using using the `%%px` [*magic*](https://ipyparallel.readthedocs.io/en/latest/tutorial/magics.html) to run on MPI engines:"
   ]
  },
  {
   "cell_type": "code",
   "execution_count": 10,
   "metadata": {},
   "outputs": [
    {
     "name": "stdout",
     "output_type": "stream",
     "text": [
      "%px:   0%|                                                                                                                         | 0/8 [00:08<?, ?tasks/s]"
     ]
    },
    {
     "data": {
      "text/html": [
       "<div>\n",
       "<style scoped>\n",
       "    .dataframe tbody tr th:only-of-type {\n",
       "        vertical-align: middle;\n",
       "    }\n",
       "\n",
       "    .dataframe tbody tr th {\n",
       "        vertical-align: top;\n",
       "    }\n",
       "\n",
       "    .dataframe thead th {\n",
       "        text-align: right;\n",
       "    }\n",
       "</style>\n",
       "<table border=\"1\" class=\"dataframe\">\n",
       "  <thead>\n",
       "    <tr style=\"text-align: right;\">\n",
       "      <th></th>\n",
       "      <th>A</th>\n",
       "      <th>B</th>\n",
       "      <th>C</th>\n",
       "    </tr>\n",
       "  </thead>\n",
       "  <tbody>\n",
       "    <tr>\n",
       "      <th>6250000</th>\n",
       "      <td>2014-09-20</td>\n",
       "      <td>P2</td>\n",
       "      <td>9</td>\n",
       "    </tr>\n",
       "    <tr>\n",
       "      <th>...</th>\n",
       "      <td>...</td>\n",
       "      <td>...</td>\n",
       "      <td>...</td>\n",
       "    </tr>\n",
       "    <tr>\n",
       "      <th>7499999</th>\n",
       "      <td>2015-01-22</td>\n",
       "      <td>P1</td>\n",
       "      <td>1</td>\n",
       "    </tr>\n",
       "  </tbody>\n",
       "</table>\n",
       "<p>1250000 rows × 3 columns</p>\n",
       "</div>"
      ],
      "text/plain": [
       "\u001b[0;31mOut[5:3]: \u001b[0m\n",
       "                 A   B  C\n",
       "6250000 2014-09-20  P2  9\n",
       "...            ...  .. ..\n",
       "7499999 2015-01-22  P1  1\n",
       "\n",
       "[1250000 rows x 3 columns]"
      ]
     },
     "metadata": {
      "after": null,
      "completed": null,
      "data": {},
      "engine_id": 5,
      "engine_uuid": "6b879437-f95acd0685a80411dbaa108c",
      "error": null,
      "execute_input": "import pandas as pd\nimport time\n\n@bodo.jit\ndef data_transform():\n    t0 = time.time()\n    df = pd.read_parquet(\"pd_example.pq\")\n    t1 = time.time()\n    df[\"B\"] = df.apply(lambda r: \"NA\" if pd.isna(r.A) else \"P1\" if r.A.month < 5 else \"P2\", axis=1)\n    df[\"C\"] = df.A.dt.month\n    t2 = time.time()\n    print(\"IO time: {:.2f}\".format(t2-t1))\n    print(\"Compute time: {:.2f}\".format(time.time()-t0))\n    print(\"Total time: {:.2f}\".format(time.time()-t0))\n    return df\n\ndata_transform()\n",
      "execute_result": {
       "data": {
        "text/html": "<div>\n<style scoped>\n    .dataframe tbody tr th:only-of-type {\n        vertical-align: middle;\n    }\n\n    .dataframe tbody tr th {\n        vertical-align: top;\n    }\n\n    .dataframe thead th {\n        text-align: right;\n    }\n</style>\n<table border=\"1\" class=\"dataframe\">\n  <thead>\n    <tr style=\"text-align: right;\">\n      <th></th>\n      <th>A</th>\n      <th>B</th>\n      <th>C</th>\n    </tr>\n  </thead>\n  <tbody>\n    <tr>\n      <th>6250000</th>\n      <td>2014-09-20</td>\n      <td>P2</td>\n      <td>9</td>\n    </tr>\n    <tr>\n      <th>...</th>\n      <td>...</td>\n      <td>...</td>\n      <td>...</td>\n    </tr>\n    <tr>\n      <th>7499999</th>\n      <td>2015-01-22</td>\n      <td>P1</td>\n      <td>1</td>\n    </tr>\n  </tbody>\n</table>\n<p>1250000 rows × 3 columns</p>\n</div>",
        "text/plain": "                 A   B  C\n6250000 2014-09-20  P2  9\n...            ...  .. ..\n7499999 2015-01-22  P1  1\n\n[1250000 rows x 3 columns]"
       },
       "execution_count": 3,
       "metadata": {}
      },
      "follow": null,
      "msg_id": null,
      "outputs": [],
      "received": null,
      "started": null,
      "status": null,
      "stderr": "",
      "stdout": "",
      "submitted": "2022-07-15T01:57:15.448935Z"
     },
     "output_type": "display_data"
    },
    {
     "data": {
      "text/plain": [
       "[stdout:0] IO time: 0.14\n",
       "Compute time: 0.65\n",
       "Total time: 0.65\n"
      ]
     },
     "metadata": {},
     "output_type": "display_data"
    },
    {
     "name": "stdout",
     "output_type": "stream",
     "text": [
      "\r",
      "%px:  25%|████████████████████████████▎                                                                                    | 2/8 [00:08<00:00, 18.97tasks/s]"
     ]
    },
    {
     "data": {
      "text/html": [
       "<div>\n",
       "<style scoped>\n",
       "    .dataframe tbody tr th:only-of-type {\n",
       "        vertical-align: middle;\n",
       "    }\n",
       "\n",
       "    .dataframe tbody tr th {\n",
       "        vertical-align: top;\n",
       "    }\n",
       "\n",
       "    .dataframe thead th {\n",
       "        text-align: right;\n",
       "    }\n",
       "</style>\n",
       "<table border=\"1\" class=\"dataframe\">\n",
       "  <thead>\n",
       "    <tr style=\"text-align: right;\">\n",
       "      <th></th>\n",
       "      <th>A</th>\n",
       "      <th>B</th>\n",
       "      <th>C</th>\n",
       "    </tr>\n",
       "  </thead>\n",
       "  <tbody>\n",
       "    <tr>\n",
       "      <th>7500000</th>\n",
       "      <td>2015-01-23</td>\n",
       "      <td>P1</td>\n",
       "      <td>1</td>\n",
       "    </tr>\n",
       "    <tr>\n",
       "      <th>...</th>\n",
       "      <td>...</td>\n",
       "      <td>...</td>\n",
       "      <td>...</td>\n",
       "    </tr>\n",
       "    <tr>\n",
       "      <th>8749999</th>\n",
       "      <td>2015-05-27</td>\n",
       "      <td>P2</td>\n",
       "      <td>5</td>\n",
       "    </tr>\n",
       "  </tbody>\n",
       "</table>\n",
       "<p>1250000 rows × 3 columns</p>\n",
       "</div>"
      ],
      "text/plain": [
       "\u001b[0;31mOut[6:3]: \u001b[0m\n",
       "                 A   B  C\n",
       "7500000 2015-01-23  P1  1\n",
       "...            ...  .. ..\n",
       "8749999 2015-05-27  P2  5\n",
       "\n",
       "[1250000 rows x 3 columns]"
      ]
     },
     "metadata": {
      "after": [],
      "completed": "2022-07-15T01:57:26.382472Z",
      "data": {},
      "engine_id": 6,
      "engine_uuid": "12e69ffb-c9520be92b9990f035728414",
      "error": null,
      "execute_input": "import pandas as pd\nimport time\n\n@bodo.jit\ndef data_transform():\n    t0 = time.time()\n    df = pd.read_parquet(\"pd_example.pq\")\n    t1 = time.time()\n    df[\"B\"] = df.apply(lambda r: \"NA\" if pd.isna(r.A) else \"P1\" if r.A.month < 5 else \"P2\", axis=1)\n    df[\"C\"] = df.A.dt.month\n    t2 = time.time()\n    print(\"IO time: {:.2f}\".format(t2-t1))\n    print(\"Compute time: {:.2f}\".format(time.time()-t0))\n    print(\"Total time: {:.2f}\".format(time.time()-t0))\n    return df\n\ndata_transform()\n",
      "execute_result": {
       "data": {
        "text/html": "<div>\n<style scoped>\n    .dataframe tbody tr th:only-of-type {\n        vertical-align: middle;\n    }\n\n    .dataframe tbody tr th {\n        vertical-align: top;\n    }\n\n    .dataframe thead th {\n        text-align: right;\n    }\n</style>\n<table border=\"1\" class=\"dataframe\">\n  <thead>\n    <tr style=\"text-align: right;\">\n      <th></th>\n      <th>A</th>\n      <th>B</th>\n      <th>C</th>\n    </tr>\n  </thead>\n  <tbody>\n    <tr>\n      <th>7500000</th>\n      <td>2015-01-23</td>\n      <td>P1</td>\n      <td>1</td>\n    </tr>\n    <tr>\n      <th>...</th>\n      <td>...</td>\n      <td>...</td>\n      <td>...</td>\n    </tr>\n    <tr>\n      <th>8749999</th>\n      <td>2015-05-27</td>\n      <td>P2</td>\n      <td>5</td>\n    </tr>\n  </tbody>\n</table>\n<p>1250000 rows × 3 columns</p>\n</div>",
        "text/plain": "                 A   B  C\n7500000 2015-01-23  P1  1\n...            ...  .. ..\n8749999 2015-05-27  P2  5\n\n[1250000 rows x 3 columns]"
       },
       "execution_count": 3,
       "metadata": {}
      },
      "follow": [],
      "is_broadcast": false,
      "is_coalescing": false,
      "msg_id": "6a222f27-2b26da4abbb220946d5fb13c_74439_23",
      "outputs": [],
      "received": "2022-07-15T01:57:26.429362Z",
      "started": "2022-07-15T01:57:15.517229Z",
      "status": "ok",
      "stderr": "",
      "stdout": "",
      "submitted": "2022-07-15T01:57:15.448985Z"
     },
     "output_type": "display_data"
    },
    {
     "data": {
      "text/html": [
       "<div>\n",
       "<style scoped>\n",
       "    .dataframe tbody tr th:only-of-type {\n",
       "        vertical-align: middle;\n",
       "    }\n",
       "\n",
       "    .dataframe tbody tr th {\n",
       "        vertical-align: top;\n",
       "    }\n",
       "\n",
       "    .dataframe thead th {\n",
       "        text-align: right;\n",
       "    }\n",
       "</style>\n",
       "<table border=\"1\" class=\"dataframe\">\n",
       "  <thead>\n",
       "    <tr style=\"text-align: right;\">\n",
       "      <th></th>\n",
       "      <th>A</th>\n",
       "      <th>B</th>\n",
       "      <th>C</th>\n",
       "    </tr>\n",
       "  </thead>\n",
       "  <tbody>\n",
       "    <tr>\n",
       "      <th>3750000</th>\n",
       "      <td>2014-01-13</td>\n",
       "      <td>P1</td>\n",
       "      <td>1</td>\n",
       "    </tr>\n",
       "    <tr>\n",
       "      <th>...</th>\n",
       "      <td>...</td>\n",
       "      <td>...</td>\n",
       "      <td>...</td>\n",
       "    </tr>\n",
       "    <tr>\n",
       "      <th>4999999</th>\n",
       "      <td>2014-05-17</td>\n",
       "      <td>P2</td>\n",
       "      <td>5</td>\n",
       "    </tr>\n",
       "  </tbody>\n",
       "</table>\n",
       "<p>1250000 rows × 3 columns</p>\n",
       "</div>"
      ],
      "text/plain": [
       "\u001b[0;31mOut[3:3]: \u001b[0m\n",
       "                 A   B  C\n",
       "3750000 2014-01-13  P1  1\n",
       "...            ...  .. ..\n",
       "4999999 2014-05-17  P2  5\n",
       "\n",
       "[1250000 rows x 3 columns]"
      ]
     },
     "metadata": {
      "after": [],
      "completed": "2022-07-15T01:57:26.408817Z",
      "data": {},
      "engine_id": 3,
      "engine_uuid": "083fca6f-491a36dc62337bdb42663f22",
      "error": null,
      "execute_input": "import pandas as pd\nimport time\n\n@bodo.jit\ndef data_transform():\n    t0 = time.time()\n    df = pd.read_parquet(\"pd_example.pq\")\n    t1 = time.time()\n    df[\"B\"] = df.apply(lambda r: \"NA\" if pd.isna(r.A) else \"P1\" if r.A.month < 5 else \"P2\", axis=1)\n    df[\"C\"] = df.A.dt.month\n    t2 = time.time()\n    print(\"IO time: {:.2f}\".format(t2-t1))\n    print(\"Compute time: {:.2f}\".format(time.time()-t0))\n    print(\"Total time: {:.2f}\".format(time.time()-t0))\n    return df\n\ndata_transform()\n",
      "execute_result": {
       "data": {
        "text/html": "<div>\n<style scoped>\n    .dataframe tbody tr th:only-of-type {\n        vertical-align: middle;\n    }\n\n    .dataframe tbody tr th {\n        vertical-align: top;\n    }\n\n    .dataframe thead th {\n        text-align: right;\n    }\n</style>\n<table border=\"1\" class=\"dataframe\">\n  <thead>\n    <tr style=\"text-align: right;\">\n      <th></th>\n      <th>A</th>\n      <th>B</th>\n      <th>C</th>\n    </tr>\n  </thead>\n  <tbody>\n    <tr>\n      <th>3750000</th>\n      <td>2014-01-13</td>\n      <td>P1</td>\n      <td>1</td>\n    </tr>\n    <tr>\n      <th>...</th>\n      <td>...</td>\n      <td>...</td>\n      <td>...</td>\n    </tr>\n    <tr>\n      <th>4999999</th>\n      <td>2014-05-17</td>\n      <td>P2</td>\n      <td>5</td>\n    </tr>\n  </tbody>\n</table>\n<p>1250000 rows × 3 columns</p>\n</div>",
        "text/plain": "                 A   B  C\n3750000 2014-01-13  P1  1\n...            ...  .. ..\n4999999 2014-05-17  P2  5\n\n[1250000 rows x 3 columns]"
       },
       "execution_count": 3,
       "metadata": {}
      },
      "follow": [],
      "is_broadcast": false,
      "is_coalescing": false,
      "msg_id": "6a222f27-2b26da4abbb220946d5fb13c_74439_20",
      "outputs": [],
      "received": "2022-07-15T01:57:26.435019Z",
      "started": "2022-07-15T01:57:15.513617Z",
      "status": "ok",
      "stderr": "",
      "stdout": "",
      "submitted": "2022-07-15T01:57:15.448386Z"
     },
     "output_type": "display_data"
    },
    {
     "data": {
      "text/html": [
       "<div>\n",
       "<style scoped>\n",
       "    .dataframe tbody tr th:only-of-type {\n",
       "        vertical-align: middle;\n",
       "    }\n",
       "\n",
       "    .dataframe tbody tr th {\n",
       "        vertical-align: top;\n",
       "    }\n",
       "\n",
       "    .dataframe thead th {\n",
       "        text-align: right;\n",
       "    }\n",
       "</style>\n",
       "<table border=\"1\" class=\"dataframe\">\n",
       "  <thead>\n",
       "    <tr style=\"text-align: right;\">\n",
       "      <th></th>\n",
       "      <th>A</th>\n",
       "      <th>B</th>\n",
       "      <th>C</th>\n",
       "    </tr>\n",
       "  </thead>\n",
       "  <tbody>\n",
       "    <tr>\n",
       "      <th>0</th>\n",
       "      <td>NaT</td>\n",
       "      <td>NA</td>\n",
       "      <td>&lt;NA&gt;</td>\n",
       "    </tr>\n",
       "    <tr>\n",
       "      <th>...</th>\n",
       "      <td>...</td>\n",
       "      <td>...</td>\n",
       "      <td>...</td>\n",
       "    </tr>\n",
       "    <tr>\n",
       "      <th>1249999</th>\n",
       "      <td>2013-05-07</td>\n",
       "      <td>P2</td>\n",
       "      <td>5</td>\n",
       "    </tr>\n",
       "  </tbody>\n",
       "</table>\n",
       "<p>1250000 rows × 3 columns</p>\n",
       "</div>"
      ],
      "text/plain": [
       "\u001b[0;31mOut[0:3]: \u001b[0m\n",
       "                 A   B     C\n",
       "0              NaT  NA  <NA>\n",
       "...            ...  ..   ...\n",
       "1249999 2013-05-07  P2     5\n",
       "\n",
       "[1250000 rows x 3 columns]"
      ]
     },
     "metadata": {
      "after": [],
      "completed": "2022-07-15T01:57:26.413316Z",
      "data": {},
      "engine_id": 0,
      "engine_uuid": "becbe8b7-f4ba7a73bc48748fc4e9a7e4",
      "error": null,
      "execute_input": "import pandas as pd\nimport time\n\n@bodo.jit\ndef data_transform():\n    t0 = time.time()\n    df = pd.read_parquet(\"pd_example.pq\")\n    t1 = time.time()\n    df[\"B\"] = df.apply(lambda r: \"NA\" if pd.isna(r.A) else \"P1\" if r.A.month < 5 else \"P2\", axis=1)\n    df[\"C\"] = df.A.dt.month\n    t2 = time.time()\n    print(\"IO time: {:.2f}\".format(t2-t1))\n    print(\"Compute time: {:.2f}\".format(time.time()-t0))\n    print(\"Total time: {:.2f}\".format(time.time()-t0))\n    return df\n\ndata_transform()\n",
      "execute_result": {
       "data": {
        "text/html": "<div>\n<style scoped>\n    .dataframe tbody tr th:only-of-type {\n        vertical-align: middle;\n    }\n\n    .dataframe tbody tr th {\n        vertical-align: top;\n    }\n\n    .dataframe thead th {\n        text-align: right;\n    }\n</style>\n<table border=\"1\" class=\"dataframe\">\n  <thead>\n    <tr style=\"text-align: right;\">\n      <th></th>\n      <th>A</th>\n      <th>B</th>\n      <th>C</th>\n    </tr>\n  </thead>\n  <tbody>\n    <tr>\n      <th>0</th>\n      <td>NaT</td>\n      <td>NA</td>\n      <td>&lt;NA&gt;</td>\n    </tr>\n    <tr>\n      <th>...</th>\n      <td>...</td>\n      <td>...</td>\n      <td>...</td>\n    </tr>\n    <tr>\n      <th>1249999</th>\n      <td>2013-05-07</td>\n      <td>P2</td>\n      <td>5</td>\n    </tr>\n  </tbody>\n</table>\n<p>1250000 rows × 3 columns</p>\n</div>",
        "text/plain": "                 A   B     C\n0              NaT  NA  <NA>\n...            ...  ..   ...\n1249999 2013-05-07  P2     5\n\n[1250000 rows x 3 columns]"
       },
       "execution_count": 3,
       "metadata": {}
      },
      "follow": [],
      "is_broadcast": false,
      "is_coalescing": false,
      "msg_id": "6a222f27-2b26da4abbb220946d5fb13c_74439_17",
      "outputs": [],
      "received": "2022-07-15T01:57:26.440069Z",
      "started": "2022-07-15T01:57:15.513736Z",
      "status": "ok",
      "stderr": "",
      "stdout": "IO time: 0.14\nCompute time: 0.65\nTotal time: 0.65\n",
      "submitted": "2022-07-15T01:57:15.446263Z"
     },
     "output_type": "display_data"
    },
    {
     "name": "stdout",
     "output_type": "stream",
     "text": [
      "\r",
      "%px: 100%|█████████████████████████████████████████████████████████████████████████████████████████████████████████████████| 8/8 [00:08<00:00,  1.12s/tasks]"
     ]
    },
    {
     "data": {
      "text/html": [
       "<div>\n",
       "<style scoped>\n",
       "    .dataframe tbody tr th:only-of-type {\n",
       "        vertical-align: middle;\n",
       "    }\n",
       "\n",
       "    .dataframe tbody tr th {\n",
       "        vertical-align: top;\n",
       "    }\n",
       "\n",
       "    .dataframe thead th {\n",
       "        text-align: right;\n",
       "    }\n",
       "</style>\n",
       "<table border=\"1\" class=\"dataframe\">\n",
       "  <thead>\n",
       "    <tr style=\"text-align: right;\">\n",
       "      <th></th>\n",
       "      <th>A</th>\n",
       "      <th>B</th>\n",
       "      <th>C</th>\n",
       "    </tr>\n",
       "  </thead>\n",
       "  <tbody>\n",
       "    <tr>\n",
       "      <th>2500000</th>\n",
       "      <td>2013-09-10</td>\n",
       "      <td>P2</td>\n",
       "      <td>9</td>\n",
       "    </tr>\n",
       "    <tr>\n",
       "      <th>...</th>\n",
       "      <td>...</td>\n",
       "      <td>...</td>\n",
       "      <td>...</td>\n",
       "    </tr>\n",
       "    <tr>\n",
       "      <th>3749999</th>\n",
       "      <td>2014-01-12</td>\n",
       "      <td>P1</td>\n",
       "      <td>1</td>\n",
       "    </tr>\n",
       "  </tbody>\n",
       "</table>\n",
       "<p>1250000 rows × 3 columns</p>\n",
       "</div>"
      ],
      "text/plain": [
       "\u001b[0;31mOut[2:3]: \u001b[0m\n",
       "                 A   B  C\n",
       "2500000 2013-09-10  P2  9\n",
       "...            ...  .. ..\n",
       "3749999 2014-01-12  P1  1\n",
       "\n",
       "[1250000 rows x 3 columns]"
      ]
     },
     "metadata": {
      "after": [],
      "completed": "2022-07-15T01:57:26.420942Z",
      "data": {},
      "engine_id": 2,
      "engine_uuid": "dbad3452-7d81a8860eee0f0a9b0b8171",
      "error": null,
      "execute_input": "import pandas as pd\nimport time\n\n@bodo.jit\ndef data_transform():\n    t0 = time.time()\n    df = pd.read_parquet(\"pd_example.pq\")\n    t1 = time.time()\n    df[\"B\"] = df.apply(lambda r: \"NA\" if pd.isna(r.A) else \"P1\" if r.A.month < 5 else \"P2\", axis=1)\n    df[\"C\"] = df.A.dt.month\n    t2 = time.time()\n    print(\"IO time: {:.2f}\".format(t2-t1))\n    print(\"Compute time: {:.2f}\".format(time.time()-t0))\n    print(\"Total time: {:.2f}\".format(time.time()-t0))\n    return df\n\ndata_transform()\n",
      "execute_result": {
       "data": {
        "text/html": "<div>\n<style scoped>\n    .dataframe tbody tr th:only-of-type {\n        vertical-align: middle;\n    }\n\n    .dataframe tbody tr th {\n        vertical-align: top;\n    }\n\n    .dataframe thead th {\n        text-align: right;\n    }\n</style>\n<table border=\"1\" class=\"dataframe\">\n  <thead>\n    <tr style=\"text-align: right;\">\n      <th></th>\n      <th>A</th>\n      <th>B</th>\n      <th>C</th>\n    </tr>\n  </thead>\n  <tbody>\n    <tr>\n      <th>2500000</th>\n      <td>2013-09-10</td>\n      <td>P2</td>\n      <td>9</td>\n    </tr>\n    <tr>\n      <th>...</th>\n      <td>...</td>\n      <td>...</td>\n      <td>...</td>\n    </tr>\n    <tr>\n      <th>3749999</th>\n      <td>2014-01-12</td>\n      <td>P1</td>\n      <td>1</td>\n    </tr>\n  </tbody>\n</table>\n<p>1250000 rows × 3 columns</p>\n</div>",
        "text/plain": "                 A   B  C\n2500000 2013-09-10  P2  9\n...            ...  .. ..\n3749999 2014-01-12  P1  1\n\n[1250000 rows x 3 columns]"
       },
       "execution_count": 3,
       "metadata": {}
      },
      "follow": [],
      "is_broadcast": false,
      "is_coalescing": false,
      "msg_id": "6a222f27-2b26da4abbb220946d5fb13c_74439_19",
      "outputs": [],
      "received": "2022-07-15T01:57:26.442661Z",
      "started": "2022-07-15T01:57:15.505913Z",
      "status": "ok",
      "stderr": "",
      "stdout": "",
      "submitted": "2022-07-15T01:57:15.448256Z"
     },
     "output_type": "display_data"
    },
    {
     "name": "stdout",
     "output_type": "stream",
     "text": [
      "\n"
     ]
    },
    {
     "data": {
      "text/html": [
       "<div>\n",
       "<style scoped>\n",
       "    .dataframe tbody tr th:only-of-type {\n",
       "        vertical-align: middle;\n",
       "    }\n",
       "\n",
       "    .dataframe tbody tr th {\n",
       "        vertical-align: top;\n",
       "    }\n",
       "\n",
       "    .dataframe thead th {\n",
       "        text-align: right;\n",
       "    }\n",
       "</style>\n",
       "<table border=\"1\" class=\"dataframe\">\n",
       "  <thead>\n",
       "    <tr style=\"text-align: right;\">\n",
       "      <th></th>\n",
       "      <th>A</th>\n",
       "      <th>B</th>\n",
       "      <th>C</th>\n",
       "    </tr>\n",
       "  </thead>\n",
       "  <tbody>\n",
       "    <tr>\n",
       "      <th>5000000</th>\n",
       "      <td>2014-05-18</td>\n",
       "      <td>P2</td>\n",
       "      <td>5</td>\n",
       "    </tr>\n",
       "    <tr>\n",
       "      <th>...</th>\n",
       "      <td>...</td>\n",
       "      <td>...</td>\n",
       "      <td>...</td>\n",
       "    </tr>\n",
       "    <tr>\n",
       "      <th>6249999</th>\n",
       "      <td>2014-09-19</td>\n",
       "      <td>P2</td>\n",
       "      <td>9</td>\n",
       "    </tr>\n",
       "  </tbody>\n",
       "</table>\n",
       "<p>1250000 rows × 3 columns</p>\n",
       "</div>"
      ],
      "text/plain": [
       "\u001b[0;31mOut[4:3]: \u001b[0m\n",
       "                 A   B  C\n",
       "5000000 2014-05-18  P2  5\n",
       "...            ...  .. ..\n",
       "6249999 2014-09-19  P2  9\n",
       "\n",
       "[1250000 rows x 3 columns]"
      ]
     },
     "metadata": {
      "after": [],
      "completed": "2022-07-15T01:57:26.423726Z",
      "data": {},
      "engine_id": 4,
      "engine_uuid": "a49a4fa5-72a0a5bf06ff13edd2876c95",
      "error": null,
      "execute_input": "import pandas as pd\nimport time\n\n@bodo.jit\ndef data_transform():\n    t0 = time.time()\n    df = pd.read_parquet(\"pd_example.pq\")\n    t1 = time.time()\n    df[\"B\"] = df.apply(lambda r: \"NA\" if pd.isna(r.A) else \"P1\" if r.A.month < 5 else \"P2\", axis=1)\n    df[\"C\"] = df.A.dt.month\n    t2 = time.time()\n    print(\"IO time: {:.2f}\".format(t2-t1))\n    print(\"Compute time: {:.2f}\".format(time.time()-t0))\n    print(\"Total time: {:.2f}\".format(time.time()-t0))\n    return df\n\ndata_transform()\n",
      "execute_result": {
       "data": {
        "text/html": "<div>\n<style scoped>\n    .dataframe tbody tr th:only-of-type {\n        vertical-align: middle;\n    }\n\n    .dataframe tbody tr th {\n        vertical-align: top;\n    }\n\n    .dataframe thead th {\n        text-align: right;\n    }\n</style>\n<table border=\"1\" class=\"dataframe\">\n  <thead>\n    <tr style=\"text-align: right;\">\n      <th></th>\n      <th>A</th>\n      <th>B</th>\n      <th>C</th>\n    </tr>\n  </thead>\n  <tbody>\n    <tr>\n      <th>5000000</th>\n      <td>2014-05-18</td>\n      <td>P2</td>\n      <td>5</td>\n    </tr>\n    <tr>\n      <th>...</th>\n      <td>...</td>\n      <td>...</td>\n      <td>...</td>\n    </tr>\n    <tr>\n      <th>6249999</th>\n      <td>2014-09-19</td>\n      <td>P2</td>\n      <td>9</td>\n    </tr>\n  </tbody>\n</table>\n<p>1250000 rows × 3 columns</p>\n</div>",
        "text/plain": "                 A   B  C\n5000000 2014-05-18  P2  5\n...            ...  .. ..\n6249999 2014-09-19  P2  9\n\n[1250000 rows x 3 columns]"
       },
       "execution_count": 3,
       "metadata": {}
      },
      "follow": [],
      "is_broadcast": false,
      "is_coalescing": false,
      "msg_id": "6a222f27-2b26da4abbb220946d5fb13c_74439_21",
      "outputs": [],
      "received": "2022-07-15T01:57:26.444875Z",
      "started": "2022-07-15T01:57:15.509699Z",
      "status": "ok",
      "stderr": "",
      "stdout": "",
      "submitted": "2022-07-15T01:57:15.448562Z"
     },
     "output_type": "display_data"
    },
    {
     "data": {
      "text/html": [
       "<div>\n",
       "<style scoped>\n",
       "    .dataframe tbody tr th:only-of-type {\n",
       "        vertical-align: middle;\n",
       "    }\n",
       "\n",
       "    .dataframe tbody tr th {\n",
       "        vertical-align: top;\n",
       "    }\n",
       "\n",
       "    .dataframe thead th {\n",
       "        text-align: right;\n",
       "    }\n",
       "</style>\n",
       "<table border=\"1\" class=\"dataframe\">\n",
       "  <thead>\n",
       "    <tr style=\"text-align: right;\">\n",
       "      <th></th>\n",
       "      <th>A</th>\n",
       "      <th>B</th>\n",
       "      <th>C</th>\n",
       "    </tr>\n",
       "  </thead>\n",
       "  <tbody>\n",
       "    <tr>\n",
       "      <th>8750000</th>\n",
       "      <td>2015-05-28</td>\n",
       "      <td>P2</td>\n",
       "      <td>5</td>\n",
       "    </tr>\n",
       "    <tr>\n",
       "      <th>...</th>\n",
       "      <td>...</td>\n",
       "      <td>...</td>\n",
       "      <td>...</td>\n",
       "    </tr>\n",
       "    <tr>\n",
       "      <th>9999999</th>\n",
       "      <td>2015-09-29</td>\n",
       "      <td>P2</td>\n",
       "      <td>9</td>\n",
       "    </tr>\n",
       "  </tbody>\n",
       "</table>\n",
       "<p>1250000 rows × 3 columns</p>\n",
       "</div>"
      ],
      "text/plain": [
       "\u001b[0;31mOut[7:3]: \u001b[0m\n",
       "                 A   B  C\n",
       "8750000 2015-05-28  P2  5\n",
       "...            ...  .. ..\n",
       "9999999 2015-09-29  P2  9\n",
       "\n",
       "[1250000 rows x 3 columns]"
      ]
     },
     "metadata": {
      "after": [],
      "completed": "2022-07-15T01:57:26.428829Z",
      "data": {},
      "engine_id": 7,
      "engine_uuid": "cc748abf-27d73fca44fa79b60f3bad34",
      "error": null,
      "execute_input": "import pandas as pd\nimport time\n\n@bodo.jit\ndef data_transform():\n    t0 = time.time()\n    df = pd.read_parquet(\"pd_example.pq\")\n    t1 = time.time()\n    df[\"B\"] = df.apply(lambda r: \"NA\" if pd.isna(r.A) else \"P1\" if r.A.month < 5 else \"P2\", axis=1)\n    df[\"C\"] = df.A.dt.month\n    t2 = time.time()\n    print(\"IO time: {:.2f}\".format(t2-t1))\n    print(\"Compute time: {:.2f}\".format(time.time()-t0))\n    print(\"Total time: {:.2f}\".format(time.time()-t0))\n    return df\n\ndata_transform()\n",
      "execute_result": {
       "data": {
        "text/html": "<div>\n<style scoped>\n    .dataframe tbody tr th:only-of-type {\n        vertical-align: middle;\n    }\n\n    .dataframe tbody tr th {\n        vertical-align: top;\n    }\n\n    .dataframe thead th {\n        text-align: right;\n    }\n</style>\n<table border=\"1\" class=\"dataframe\">\n  <thead>\n    <tr style=\"text-align: right;\">\n      <th></th>\n      <th>A</th>\n      <th>B</th>\n      <th>C</th>\n    </tr>\n  </thead>\n  <tbody>\n    <tr>\n      <th>8750000</th>\n      <td>2015-05-28</td>\n      <td>P2</td>\n      <td>5</td>\n    </tr>\n    <tr>\n      <th>...</th>\n      <td>...</td>\n      <td>...</td>\n      <td>...</td>\n    </tr>\n    <tr>\n      <th>9999999</th>\n      <td>2015-09-29</td>\n      <td>P2</td>\n      <td>9</td>\n    </tr>\n  </tbody>\n</table>\n<p>1250000 rows × 3 columns</p>\n</div>",
        "text/plain": "                 A   B  C\n8750000 2015-05-28  P2  5\n...            ...  .. ..\n9999999 2015-09-29  P2  9\n\n[1250000 rows x 3 columns]"
       },
       "execution_count": 3,
       "metadata": {}
      },
      "follow": [],
      "is_broadcast": false,
      "is_coalescing": false,
      "msg_id": "6a222f27-2b26da4abbb220946d5fb13c_74439_24",
      "outputs": [],
      "received": "2022-07-15T01:57:26.445863Z",
      "started": "2022-07-15T01:57:15.518349Z",
      "status": "ok",
      "stderr": "",
      "stdout": "",
      "submitted": "2022-07-15T01:57:15.450731Z"
     },
     "output_type": "display_data"
    },
    {
     "data": {
      "text/html": [
       "<div>\n",
       "<style scoped>\n",
       "    .dataframe tbody tr th:only-of-type {\n",
       "        vertical-align: middle;\n",
       "    }\n",
       "\n",
       "    .dataframe tbody tr th {\n",
       "        vertical-align: top;\n",
       "    }\n",
       "\n",
       "    .dataframe thead th {\n",
       "        text-align: right;\n",
       "    }\n",
       "</style>\n",
       "<table border=\"1\" class=\"dataframe\">\n",
       "  <thead>\n",
       "    <tr style=\"text-align: right;\">\n",
       "      <th></th>\n",
       "      <th>A</th>\n",
       "      <th>B</th>\n",
       "      <th>C</th>\n",
       "    </tr>\n",
       "  </thead>\n",
       "  <tbody>\n",
       "    <tr>\n",
       "      <th>1250000</th>\n",
       "      <td>2013-05-08</td>\n",
       "      <td>P2</td>\n",
       "      <td>5</td>\n",
       "    </tr>\n",
       "    <tr>\n",
       "      <th>...</th>\n",
       "      <td>...</td>\n",
       "      <td>...</td>\n",
       "      <td>...</td>\n",
       "    </tr>\n",
       "    <tr>\n",
       "      <th>2499999</th>\n",
       "      <td>2013-09-09</td>\n",
       "      <td>P2</td>\n",
       "      <td>9</td>\n",
       "    </tr>\n",
       "  </tbody>\n",
       "</table>\n",
       "<p>1250000 rows × 3 columns</p>\n",
       "</div>"
      ],
      "text/plain": [
       "\u001b[0;31mOut[1:3]: \u001b[0m\n",
       "                 A   B  C\n",
       "1250000 2013-05-08  P2  5\n",
       "...            ...  .. ..\n",
       "2499999 2013-09-09  P2  9\n",
       "\n",
       "[1250000 rows x 3 columns]"
      ]
     },
     "metadata": {
      "after": [],
      "completed": "2022-07-15T01:57:26.433367Z",
      "data": {},
      "engine_id": 1,
      "engine_uuid": "e77915d4-60ca84f4c968a2a3a49aef9b",
      "error": null,
      "execute_input": "import pandas as pd\nimport time\n\n@bodo.jit\ndef data_transform():\n    t0 = time.time()\n    df = pd.read_parquet(\"pd_example.pq\")\n    t1 = time.time()\n    df[\"B\"] = df.apply(lambda r: \"NA\" if pd.isna(r.A) else \"P1\" if r.A.month < 5 else \"P2\", axis=1)\n    df[\"C\"] = df.A.dt.month\n    t2 = time.time()\n    print(\"IO time: {:.2f}\".format(t2-t1))\n    print(\"Compute time: {:.2f}\".format(time.time()-t0))\n    print(\"Total time: {:.2f}\".format(time.time()-t0))\n    return df\n\ndata_transform()\n",
      "execute_result": {
       "data": {
        "text/html": "<div>\n<style scoped>\n    .dataframe tbody tr th:only-of-type {\n        vertical-align: middle;\n    }\n\n    .dataframe tbody tr th {\n        vertical-align: top;\n    }\n\n    .dataframe thead th {\n        text-align: right;\n    }\n</style>\n<table border=\"1\" class=\"dataframe\">\n  <thead>\n    <tr style=\"text-align: right;\">\n      <th></th>\n      <th>A</th>\n      <th>B</th>\n      <th>C</th>\n    </tr>\n  </thead>\n  <tbody>\n    <tr>\n      <th>1250000</th>\n      <td>2013-05-08</td>\n      <td>P2</td>\n      <td>5</td>\n    </tr>\n    <tr>\n      <th>...</th>\n      <td>...</td>\n      <td>...</td>\n      <td>...</td>\n    </tr>\n    <tr>\n      <th>2499999</th>\n      <td>2013-09-09</td>\n      <td>P2</td>\n      <td>9</td>\n    </tr>\n  </tbody>\n</table>\n<p>1250000 rows × 3 columns</p>\n</div>",
        "text/plain": "                 A   B  C\n1250000 2013-05-08  P2  5\n...            ...  .. ..\n2499999 2013-09-09  P2  9\n\n[1250000 rows x 3 columns]"
       },
       "execution_count": 3,
       "metadata": {}
      },
      "follow": [],
      "is_broadcast": false,
      "is_coalescing": false,
      "msg_id": "6a222f27-2b26da4abbb220946d5fb13c_74439_18",
      "outputs": [],
      "received": "2022-07-15T01:57:26.446509Z",
      "started": "2022-07-15T01:57:15.522123Z",
      "status": "ok",
      "stderr": "",
      "stdout": "",
      "submitted": "2022-07-15T01:57:15.448095Z"
     },
     "output_type": "display_data"
    }
   ],
   "source": [
    "%%px\n",
    "import pandas as pd\n",
    "import time\n",
    "\n",
    "@bodo.jit\n",
    "def data_transform():\n",
    "    t0 = time.time()\n",
    "    df = pd.read_parquet(\"pd_example.pq\")\n",
    "    t1 = time.time()\n",
    "    df[\"B\"] = df.apply(lambda r: \"NA\" if pd.isna(r.A) else \"P1\" if r.A.month < 5 else \"P2\", axis=1)\n",
    "    df[\"C\"] = df.A.dt.month\n",
    "    t2 = time.time()\n",
    "    print(\"IO time: {:.2f}\".format(t2-t1))\n",
    "    print(\"Compute time: {:.2f}\".format(time.time()-t0))\n",
    "    print(\"Total time: {:.2f}\".format(time.time()-t0))\n",
    "    return df\n",
    "\n",
    "data_transform()"
   ]
  },
  {
   "cell_type": "markdown",
   "metadata": {},
   "source": [
    "Although the program appears to be a regular sequential Python program, Bodo compiles and *transforms* the decorated code (the `data_transform` function in this example) under the hood, so that it can run in parallel on many cores. Each core operates on a different chunk of the data and communicates with other cores when necessary. The speedup depends on the data and program characteristics, as well as the number of cores used. Usually, we can continue scaling to many more cores as long as the data is large enough."
   ]
  },
  {
   "cell_type": "markdown",
   "metadata": {},
   "source": [
    "### Compilation Time and Caching\n",
    "Bodo’s JIT workflow compiles the function the first time it is called, but reuses the compiled version for subsequent calls. In the previous example, we added timers inside the function to avoid measuring compilation time. Let’s move the timers outside and call the function twice:"
   ]
  },
  {
   "cell_type": "code",
   "execution_count": 9,
   "metadata": {},
   "outputs": [
    {
     "name": "stdout",
     "output_type": "stream",
     "text": [
      "Total time first call: 4.40\n",
      "Total time second call: 1.97\n"
     ]
    }
   ],
   "source": [
    "@bodo.jit\n",
    "def data_transform():\n",
    "    df = pd.read_parquet(\"pd_example.pq\")\n",
    "    df[\"B\"] = df.apply(lambda r: \"NA\" if pd.isna(r.A) else \"P1\" if r.A.month < 5 else \"P2\", axis=1)\n",
    "    df[\"C\"] = df.A.dt.month\n",
    "    df.to_parquet(\"bodo_output.pq\")\n",
    "\n",
    "\n",
    "t0 = time.time()\n",
    "data_transform()\n",
    "print(\"Total time first call: {:.2f}\".format(time.time()-t0))\n",
    "t0 = time.time()\n",
    "data_transform()\n",
    "print(\"Total time second call: {:.2f}\".format(time.time()-t0))"
   ]
  },
  {
   "cell_type": "markdown",
   "metadata": {},
   "source": [
    "The first call is slower due to compilation of the function, but the second call reuses the compiled version and runs faster. See [Caching](https://docs.bodo.ai/performance/caching/?h=caching) for more information."
   ]
  },
  {
   "cell_type": "markdown",
   "metadata": {},
   "source": [
    "### Parallel Python Processes\n",
    "![Groupby shuffle communication pattern](img/groupby.jpg)\n",
    "\n",
    "Bodo uses the MPI parallelism model, which runs the full program on all cores from the beginning. Essentially, mpiexec launches idential Python processes but Bodo divides the data and computation in JIT functions to exploit parallelism."
   ]
  },
  {
   "cell_type": "code",
   "execution_count": 10,
   "metadata": {},
   "outputs": [
    {
     "name": "stdout",
     "output_type": "stream",
     "text": [
      "%px:   0%|                                                                                               | 0/8 [00:00<?, ?tasks/s]"
     ]
    },
    {
     "data": {
      "text/plain": [
       "[stdout:3] pandas dataframe: \n",
       "                  A        B\n",
       "0              NaT        0\n",
       "...            ...      ...\n",
       "9999999 2015-09-29  9999999\n",
       "\n",
       "[10000000 rows x 2 columns]\n",
       "Bodo dataframe: \n",
       "                  A        B\n",
       "3750000 2014-01-13  3750000\n",
       "...            ...      ...\n",
       "4999999 2014-05-17  4999999\n",
       "\n",
       "[1250000 rows x 2 columns]\n"
      ]
     },
     "metadata": {},
     "output_type": "display_data"
    },
    {
     "data": {
      "text/plain": [
       "[stdout:2] pandas dataframe: \n",
       "                  A        B\n",
       "0              NaT        0\n",
       "...            ...      ...\n",
       "9999999 2015-09-29  9999999\n",
       "\n",
       "[10000000 rows x 2 columns]\n",
       "Bodo dataframe: \n",
       "                  A        B\n",
       "2500000 2013-09-10  2500000\n",
       "...            ...      ...\n",
       "3749999 2014-01-12  3749999\n",
       "\n",
       "[1250000 rows x 2 columns]\n"
      ]
     },
     "metadata": {},
     "output_type": "display_data"
    },
    {
     "data": {
      "text/plain": [
       "[stdout:5] pandas dataframe: \n",
       "                  A        B\n",
       "0              NaT        0\n",
       "...            ...      ...\n",
       "9999999 2015-09-29  9999999\n",
       "\n",
       "[10000000 rows x 2 columns]\n",
       "Bodo dataframe: \n",
       "                  A        B\n",
       "6250000 2014-09-20  6250000\n",
       "...            ...      ...\n",
       "7499999 2015-01-22  7499999\n",
       "\n",
       "[1250000 rows x 2 columns]\n"
      ]
     },
     "metadata": {},
     "output_type": "display_data"
    },
    {
     "data": {
      "text/plain": [
       "[stdout:7] pandas dataframe: \n",
       "                  A        B\n",
       "0              NaT        0\n",
       "...            ...      ...\n",
       "9999999 2015-09-29  9999999\n",
       "\n",
       "[10000000 rows x 2 columns]\n",
       "Bodo dataframe: \n",
       "                  A        B\n",
       "8750000 2015-05-28  8750000\n",
       "...            ...      ...\n",
       "9999999 2015-09-29  9999999\n",
       "\n",
       "[1250000 rows x 2 columns]\n"
      ]
     },
     "metadata": {},
     "output_type": "display_data"
    },
    {
     "data": {
      "text/plain": [
       "[stdout:6] pandas dataframe: \n",
       "                  A        B\n",
       "0              NaT        0\n",
       "...            ...      ...\n",
       "9999999 2015-09-29  9999999\n",
       "\n",
       "[10000000 rows x 2 columns]\n",
       "Bodo dataframe: \n",
       "                  A        B\n",
       "7500000 2015-01-23  7500000\n",
       "...            ...      ...\n",
       "8749999 2015-05-27  8749999\n",
       "\n",
       "[1250000 rows x 2 columns]\n"
      ]
     },
     "metadata": {},
     "output_type": "display_data"
    },
    {
     "data": {
      "text/plain": [
       "[stdout:4] pandas dataframe: \n",
       "                  A        B\n",
       "0              NaT        0\n",
       "...            ...      ...\n",
       "9999999 2015-09-29  9999999\n",
       "\n",
       "[10000000 rows x 2 columns]\n",
       "Bodo dataframe: \n",
       "                  A        B\n",
       "5000000 2014-05-18  5000000\n",
       "...            ...      ...\n",
       "6249999 2014-09-19  6249999\n",
       "\n",
       "[1250000 rows x 2 columns]\n"
      ]
     },
     "metadata": {},
     "output_type": "display_data"
    },
    {
     "name": "stdout",
     "output_type": "stream",
     "text": [
      "%px:   0%|                                                                                               | 0/8 [00:00<?, ?tasks/s]"
     ]
    },
    {
     "data": {
      "text/plain": [
       "[stdout:0] pandas dataframe: \n",
       "                  A        B\n",
       "0              NaT        0\n",
       "...            ...      ...\n",
       "9999999 2015-09-29  9999999\n",
       "\n",
       "[10000000 rows x 2 columns]\n",
       "Bodo dataframe: \n",
       "                  A        B\n",
       "0              NaT        0\n",
       "...            ...      ...\n",
       "1249999 2013-05-07  1249999\n",
       "\n",
       "[1250000 rows x 2 columns]\n"
      ]
     },
     "metadata": {},
     "output_type": "display_data"
    },
    {
     "data": {
      "text/plain": [
       "[stdout:1] pandas dataframe: \n",
       "                  A        B\n",
       "0              NaT        0\n",
       "...            ...      ...\n",
       "9999999 2015-09-29  9999999\n",
       "\n",
       "[10000000 rows x 2 columns]\n",
       "Bodo dataframe: \n",
       "                  A        B\n",
       "1250000 2013-05-08  1250000\n",
       "...            ...      ...\n",
       "2499999 2013-09-09  2499999\n",
       "\n",
       "[1250000 rows x 2 columns]\n"
      ]
     },
     "metadata": {},
     "output_type": "display_data"
    },
    {
     "name": "stdout",
     "output_type": "stream",
     "text": [
      "%px: 100%|███████████████████████████████████████████████████████████████████████████████████████| 8/8 [00:04<00:00,  1.84tasks/s]\n"
     ]
    }
   ],
   "source": [
    "%%px\n",
    "\n",
    "def load_data_pandas():\n",
    "    df = pd.read_parquet(\"pd_example.pq\")\n",
    "    print(\"pandas dataframe: \\n\", df)\n",
    "\n",
    "@bodo.jit\n",
    "def load_data_bodo():\n",
    "    df = pd.read_parquet(\"pd_example.pq\")\n",
    "    print(\"Bodo dataframe: \\n\", df)\n",
    "\n",
    "load_data_pandas()\n",
    "load_data_bodo()"
   ]
  },
  {
   "cell_type": "markdown",
   "metadata": {},
   "source": [
    "The first eight dataframes printed are regular Pandas dataframes which are replicated on both processes and have all 10 million rows. However, the last eight dataframes printed are Bodo parallelized Pandas dataframes, with 1.25 million rows each. In this case, Bodo parallelizes read_parquet automatically and loads different chunks of data into different cores. Therefore, the non-JIT parts of the Python program are replicated across cores whereas Bodo JIT functions are parallelized. For more information on handling distributed data in python/JIT code, see [Handling distributed data](https://docs.bodo.ai/file_io/?h=data)"
   ]
  },
  {
   "cell_type": "markdown",
   "metadata": {},
   "source": [
    "### Parallel Computation\n",
    "Bodo automatically divides computation and manages communication across cores as this example demonstrates:"
   ]
  },
  {
   "cell_type": "code",
   "execution_count": 11,
   "metadata": {},
   "outputs": [],
   "source": [
    "%%px\n",
    "\n",
    "@bodo.jit\n",
    "def data_groupby():\n",
    "    df = pd.read_parquet(\"pd_example.pq\")\n",
    "    df2 = df.groupby(\"A\", as_index=False).sum()\n",
    "    print(df2)"
   ]
  },
  {
   "cell_type": "markdown",
   "metadata": {},
   "source": [
    "This program uses groupby which requires rows with the same key to be aggregated together. Therefore, Bodo shuffles the data automatically under the hoods using MPI, and the user doesn’t need to worry about parallelism challenges like communication."
   ]
  },
  {
   "cell_type": "markdown",
   "metadata": {},
   "source": [
    "### Bodo JIT Requirements\n",
    "Bodo JIT supports specific APIs in Pandas currently, and other APIs cannot be used inside JIT functions. For example:"
   ]
  },
  {
   "cell_type": "code",
   "execution_count": 12,
   "metadata": {},
   "outputs": [
    {
     "name": "stdout",
     "output_type": "stream",
     "text": [
      "%px: 100%|██████████████████████████████████████████████████████████████████████████████████████| 8/8 [00:00<00:00, 166.49tasks/s]\n"
     ]
    },
    {
     "name": "stderr",
     "output_type": "stream",
     "text": [
      "[6:execute]\n",
      "\u001b[0;31m---------------------------------------------------------------------------\u001b[0m\n",
      "\u001b[0;31mBodoError\u001b[0m                                 Traceback (most recent call last)\n",
      "Input \u001b[0;32mIn [5]\u001b[0m, in \u001b[0;36m<module>\u001b[0;34m\u001b[0m\n",
      "\u001b[1;32m      4\u001b[0m     df2 \u001b[38;5;241m=\u001b[39m df\u001b[38;5;241m.\u001b[39mtranspose()\n",
      "\u001b[1;32m      5\u001b[0m     \u001b[38;5;28;01mreturn\u001b[39;00m df2\n",
      "\u001b[0;32m----> 7\u001b[0m \u001b[43mdf_unsupported\u001b[49m\u001b[43m(\u001b[49m\u001b[43m)\u001b[49m\n",
      "\n",
      "File \u001b[0;32m~/opt/anaconda3/envs/bodo/lib/python3.9/site-packages/bodo/numba_compat.py:764\u001b[0m, in \u001b[0;36m_compile_for_args\u001b[0;34m(***failed resolving arguments***)\u001b[0m\n",
      "\u001b[1;32m    762\u001b[0m     \u001b[38;5;28;01mdel\u001b[39;00m args\n",
      "\u001b[1;32m    763\u001b[0m     \u001b[38;5;28;01mif\u001b[39;00m error:\n",
      "\u001b[0;32m--> 764\u001b[0m         \u001b[38;5;28;01mraise\u001b[39;00m error\n",
      "\u001b[1;32m    765\u001b[0m \u001b[38;5;28;01mreturn\u001b[39;00m bee__phvsr\n",
      "\n",
      "\u001b[0;31mBodoError\u001b[0m: \u001b[1m\u001b[1m\u001b[1m\u001b[1m\u001b[1mDataFrame.transpose() not supported yet\u001b[0m\n",
      "\u001b[1m\n",
      "File \"../../../../var/folders/69/zhshxt5s1qb53jfcc1pg95mr0000gn/T/ipykernel_31700/1006514657.py\", line 4:\u001b[0m\n",
      "\u001b[1m<source missing, REPL/exec in use?>\u001b[0m\n",
      "\u001b[0m\u001b[0m\u001b[0m\u001b[0m\n",
      "[5:execute]\n",
      "\u001b[0;31m---------------------------------------------------------------------------\u001b[0m\n",
      "\u001b[0;31mBodoError\u001b[0m                                 Traceback (most recent call last)\n",
      "Input \u001b[0;32mIn [5]\u001b[0m, in \u001b[0;36m<module>\u001b[0;34m\u001b[0m\n",
      "\u001b[1;32m      4\u001b[0m     df2 \u001b[38;5;241m=\u001b[39m df\u001b[38;5;241m.\u001b[39mtranspose()\n",
      "\u001b[1;32m      5\u001b[0m     \u001b[38;5;28;01mreturn\u001b[39;00m df2\n",
      "\u001b[0;32m----> 7\u001b[0m \u001b[43mdf_unsupported\u001b[49m\u001b[43m(\u001b[49m\u001b[43m)\u001b[49m\n",
      "\n",
      "File \u001b[0;32m~/opt/anaconda3/envs/bodo/lib/python3.9/site-packages/bodo/numba_compat.py:764\u001b[0m, in \u001b[0;36m_compile_for_args\u001b[0;34m(***failed resolving arguments***)\u001b[0m\n",
      "\u001b[1;32m    762\u001b[0m     \u001b[38;5;28;01mdel\u001b[39;00m args\n",
      "\u001b[1;32m    763\u001b[0m     \u001b[38;5;28;01mif\u001b[39;00m error:\n",
      "\u001b[0;32m--> 764\u001b[0m         \u001b[38;5;28;01mraise\u001b[39;00m error\n",
      "\u001b[1;32m    765\u001b[0m \u001b[38;5;28;01mreturn\u001b[39;00m bee__phvsr\n",
      "\n",
      "\u001b[0;31mBodoError\u001b[0m: \u001b[1m\u001b[1m\u001b[1m\u001b[1m\u001b[1mDataFrame.transpose() not supported yet\u001b[0m\n",
      "\u001b[1m\n",
      "File \"../../../../var/folders/69/zhshxt5s1qb53jfcc1pg95mr0000gn/T/ipykernel_31699/1006514657.py\", line 4:\u001b[0m\n",
      "\u001b[1m<source missing, REPL/exec in use?>\u001b[0m\n",
      "\u001b[0m\u001b[0m\u001b[0m\u001b[0m\n",
      "[0:execute]\n",
      "\u001b[0;31m---------------------------------------------------------------------------\u001b[0m\n",
      "\u001b[0;31mBodoError\u001b[0m                                 Traceback (most recent call last)\n",
      "Input \u001b[0;32mIn [5]\u001b[0m, in \u001b[0;36m<module>\u001b[0;34m\u001b[0m\n",
      "\u001b[1;32m      4\u001b[0m     df2 \u001b[38;5;241m=\u001b[39m df\u001b[38;5;241m.\u001b[39mtranspose()\n",
      "\u001b[1;32m      5\u001b[0m     \u001b[38;5;28;01mreturn\u001b[39;00m df2\n",
      "\u001b[0;32m----> 7\u001b[0m \u001b[43mdf_unsupported\u001b[49m\u001b[43m(\u001b[49m\u001b[43m)\u001b[49m\n",
      "\n",
      "File \u001b[0;32m~/opt/anaconda3/envs/bodo/lib/python3.9/site-packages/bodo/numba_compat.py:764\u001b[0m, in \u001b[0;36m_compile_for_args\u001b[0;34m(***failed resolving arguments***)\u001b[0m\n",
      "\u001b[1;32m    762\u001b[0m     \u001b[38;5;28;01mdel\u001b[39;00m args\n",
      "\u001b[1;32m    763\u001b[0m     \u001b[38;5;28;01mif\u001b[39;00m error:\n",
      "\u001b[0;32m--> 764\u001b[0m         \u001b[38;5;28;01mraise\u001b[39;00m error\n",
      "\u001b[1;32m    765\u001b[0m \u001b[38;5;28;01mreturn\u001b[39;00m bee__phvsr\n",
      "\n",
      "\u001b[0;31mBodoError\u001b[0m: \u001b[1m\u001b[1m\u001b[1m\u001b[1m\u001b[1mDataFrame.transpose() not supported yet\u001b[0m\n",
      "\u001b[1m\n",
      "File \"../../../../var/folders/69/zhshxt5s1qb53jfcc1pg95mr0000gn/T/ipykernel_31694/1006514657.py\", line 4:\u001b[0m\n",
      "\u001b[1m<source missing, REPL/exec in use?>\u001b[0m\n",
      "\u001b[0m\u001b[0m\u001b[0m\u001b[0m\n",
      "[2:execute]\n",
      "\u001b[0;31m---------------------------------------------------------------------------\u001b[0m\n",
      "\u001b[0;31mBodoError\u001b[0m                                 Traceback (most recent call last)\n",
      "Input \u001b[0;32mIn [5]\u001b[0m, in \u001b[0;36m<module>\u001b[0;34m\u001b[0m\n",
      "\u001b[1;32m      4\u001b[0m     df2 \u001b[38;5;241m=\u001b[39m df\u001b[38;5;241m.\u001b[39mtranspose()\n",
      "\u001b[1;32m      5\u001b[0m     \u001b[38;5;28;01mreturn\u001b[39;00m df2\n",
      "\u001b[0;32m----> 7\u001b[0m \u001b[43mdf_unsupported\u001b[49m\u001b[43m(\u001b[49m\u001b[43m)\u001b[49m\n",
      "\n",
      "File \u001b[0;32m~/opt/anaconda3/envs/bodo/lib/python3.9/site-packages/bodo/numba_compat.py:764\u001b[0m, in \u001b[0;36m_compile_for_args\u001b[0;34m(***failed resolving arguments***)\u001b[0m\n",
      "\u001b[1;32m    762\u001b[0m     \u001b[38;5;28;01mdel\u001b[39;00m args\n",
      "\u001b[1;32m    763\u001b[0m     \u001b[38;5;28;01mif\u001b[39;00m error:\n",
      "\u001b[0;32m--> 764\u001b[0m         \u001b[38;5;28;01mraise\u001b[39;00m error\n",
      "\u001b[1;32m    765\u001b[0m \u001b[38;5;28;01mreturn\u001b[39;00m bee__phvsr\n",
      "\n",
      "\u001b[0;31mBodoError\u001b[0m: \u001b[1m\u001b[1m\u001b[1m\u001b[1m\u001b[1mDataFrame.transpose() not supported yet\u001b[0m\n",
      "\u001b[1m\n",
      "File \"../../../../var/folders/69/zhshxt5s1qb53jfcc1pg95mr0000gn/T/ipykernel_31696/1006514657.py\", line 4:\u001b[0m\n",
      "\u001b[1m<source missing, REPL/exec in use?>\u001b[0m\n",
      "\u001b[0m\u001b[0m\u001b[0m\u001b[0m\n",
      "[1:execute] BodoError: \u001b[1m\u001b[1m\u001b[1m\u001b[1m\u001b[1mDataFrame.transpose() not supported yet\u001b[0m\n",
      "\u001b[1m\n",
      "File \"../../../../var/folders/69/zhshxt5s1qb53jfcc1pg95mr0000gn/T/ipykernel_31695/1006514657.py\", line 4:\u001b[0m\n",
      "\u001b[1m<source missing, REPL/exec in use?>\u001b[0m\n",
      "\u001b[0m\u001b[0m\u001b[0m\u001b[0m\n",
      "[7:execute] BodoError: \u001b[1m\u001b[1m\u001b[1m\u001b[1m\u001b[1mDataFrame.transpose() not supported yet\u001b[0m\n",
      "\u001b[1m\n",
      "File \"../../../../var/folders/69/zhshxt5s1qb53jfcc1pg95mr0000gn/T/ipykernel_31701/1006514657.py\", line 4:\u001b[0m\n",
      "\u001b[1m<source missing, REPL/exec in use?>\u001b[0m\n",
      "\u001b[0m\u001b[0m\u001b[0m\u001b[0m\n",
      "[4:execute] BodoError: \u001b[1m\u001b[1m\u001b[1m\u001b[1m\u001b[1mDataFrame.transpose() not supported yet\u001b[0m\n",
      "\u001b[1m\n",
      "File \"../../../../var/folders/69/zhshxt5s1qb53jfcc1pg95mr0000gn/T/ipykernel_31698/1006514657.py\", line 4:\u001b[0m\n",
      "\u001b[1m<source missing, REPL/exec in use?>\u001b[0m\n",
      "\u001b[0m\u001b[0m\u001b[0m\u001b[0m\n",
      "[3:execute] BodoError: \u001b[1m\u001b[1m\u001b[1m\u001b[1m\u001b[1mDataFrame.transpose() not supported yet\u001b[0m\n",
      "\u001b[1m\n",
      "File \"../../../../var/folders/69/zhshxt5s1qb53jfcc1pg95mr0000gn/T/ipykernel_31697/1006514657.py\", line 4:\u001b[0m\n",
      "\u001b[1m<source missing, REPL/exec in use?>\u001b[0m\n",
      "\u001b[0m\u001b[0m\u001b[0m\u001b[0m\n"
     ]
    },
    {
     "ename": "AlreadyDisplayedError",
     "evalue": "8 errors",
     "output_type": "error",
     "traceback": [
      "8 errors"
     ]
    }
   ],
   "source": [
    "%%px\n",
    "\n",
    "@bodo.jit\n",
    "def df_unsupported():\n",
    "    df = pd.DataFrame({\"A\": [1, 2, 3]})\n",
    "    df2 = df.transpose()\n",
    "    return df2\n",
    "\n",
    "df_unsupported()"
   ]
  },
  {
   "cell_type": "markdown",
   "metadata": {},
   "source": [
    "As the error indicates, Bodo doesn’t currently support the transpose call in JIT functions. In these cases, an alternative API should be used or this portion of the code should be done in regular Python. See [Pandas Operations](https://docs.bodo.ai/api_docs/pandas/general/#pdcrosstab) for the complete list of supported Pandas operations."
   ]
  },
  {
   "cell_type": "markdown",
   "metadata": {},
   "source": [
    "### Type Stability\n",
    "The key requirement of JIT compilation is being able to infer data types for all variables and values. In Bodo, column names are part of dataframe data types, so Bodo tries to infer column name related inputs in all operations. For example, key names in groupby are used to determine the output data type and need to be known to Bodo:"
   ]
  },
  {
   "cell_type": "code",
   "execution_count": 13,
   "metadata": {},
   "outputs": [
    {
     "ename": "BodoError",
     "evalue": "\u001b[1m\u001b[1m\u001b[1m\u001b[1m\u001b[1mgroupby(): 'by' parameter only supports a constant column label or column labels, not list(unicode_type)<iv=None>.\u001b[0m\n\u001b[1m\nFile \"../../../../var/folders/69/zhshxt5s1qb53jfcc1pg95mr0000gn/T/ipykernel_31579/3283720622.py\", line 11:\u001b[0m\n\u001b[1m<source missing, REPL/exec in use?>\u001b[0m\n\u001b[0m\u001b[0m\u001b[0m\u001b[0m",
     "output_type": "error",
     "traceback": [
      "\u001b[0;31m---------------------------------------------------------------------------\u001b[0m",
      "\u001b[0;31mBodoError\u001b[0m                                 Traceback (most recent call last)",
      "Input \u001b[0;32mIn [13]\u001b[0m, in \u001b[0;36m<module>\u001b[0;34m\u001b[0m\n\u001b[1;32m     11\u001b[0m     df2 \u001b[38;5;241m=\u001b[39m df\u001b[38;5;241m.\u001b[39mgroupby(keys)\u001b[38;5;241m.\u001b[39msum()\n\u001b[1;32m     12\u001b[0m     \u001b[38;5;28mprint\u001b[39m(df2)\n\u001b[0;32m---> 14\u001b[0m \u001b[43mgroupby_keys\u001b[49m\u001b[43m(\u001b[49m\u001b[43m)\u001b[49m\n",
      "File \u001b[0;32m~/opt/anaconda3/envs/bodo/lib/python3.9/site-packages/bodo/numba_compat.py:764\u001b[0m, in \u001b[0;36m_compile_for_args\u001b[0;34m(***failed resolving arguments***)\u001b[0m\n\u001b[1;32m    762\u001b[0m     \u001b[38;5;28;01mdel\u001b[39;00m args\n\u001b[1;32m    763\u001b[0m     \u001b[38;5;28;01mif\u001b[39;00m error:\n\u001b[0;32m--> 764\u001b[0m         \u001b[38;5;28;01mraise\u001b[39;00m error\n\u001b[1;32m    765\u001b[0m \u001b[38;5;28;01mreturn\u001b[39;00m bee__phvsr\n",
      "\u001b[0;31mBodoError\u001b[0m: \u001b[1m\u001b[1m\u001b[1m\u001b[1m\u001b[1mgroupby(): 'by' parameter only supports a constant column label or column labels, not list(unicode_type)<iv=None>.\u001b[0m\n\u001b[1m\nFile \"../../../../var/folders/69/zhshxt5s1qb53jfcc1pg95mr0000gn/T/ipykernel_31579/3283720622.py\", line 11:\u001b[0m\n\u001b[1m<source missing, REPL/exec in use?>\u001b[0m\n\u001b[0m\u001b[0m\u001b[0m\u001b[0m"
     ]
    }
   ],
   "source": [
    "@bodo.jit\n",
    "def get_keys():\n",
    "    keys = []\n",
    "    keys.append(\"A\")\n",
    "    return keys\n",
    "\n",
    "@bodo.jit\n",
    "def groupby_keys():\n",
    "    df = pd.read_parquet(\"pd_example.pq\")\n",
    "    keys = get_keys()  # some computation that cannot be inferred\n",
    "    df2 = df.groupby(keys).sum()\n",
    "    print(df2)\n",
    "    \n",
    "groupby_keys()"
   ]
  },
  {
   "cell_type": "markdown",
   "metadata": {},
   "source": [
    "In this case, the list of groupby keys is determined by a separate get_keys() function, and Bodo is not able to infer it from the program during compilation time. The alternative is to pass the keys as an argument to the JIT function to make the values known to Bodo:"
   ]
  },
  {
   "cell_type": "code",
   "execution_count": 14,
   "metadata": {},
   "outputs": [
    {
     "name": "stdout",
     "output_type": "stream",
     "text": [
      "                      B\n",
      "A                      \n",
      "2013-01-03     48496500\n",
      "2013-01-04    149995000\n",
      "2013-01-05    249995000\n",
      "2013-01-06    349995000\n",
      "2013-01-07    449995000\n",
      "...                 ...\n",
      "2015-09-25  99549995000\n",
      "2015-09-26  99649995000\n",
      "2015-09-27  99749995000\n",
      "2015-09-28  99849995000\n",
      "2015-09-29  99949995000\n",
      "\n",
      "[1000 rows x 1 columns]\n"
     ]
    }
   ],
   "source": [
    "def get_keys():\n",
    "    keys = []\n",
    "    keys.append(\"A\")\n",
    "    return keys\n",
    "\n",
    "@bodo.jit\n",
    "def groupby_keys(keys):\n",
    "    df = pd.read_parquet(\"pd_example.pq\")\n",
    "    df2 = df.groupby(keys).sum()\n",
    "    print(df2)\n",
    "    \n",
    "groupby_keys(get_keys())"
   ]
  },
  {
   "cell_type": "markdown",
   "metadata": {},
   "source": [
    "This program works since `keys` is passed from regular Python to the JIT function. In addition, we recommend small functions like `get_keys` that don’t use large datasets to be in regular Python in general."
   ]
  },
  {
   "cell_type": "markdown",
   "metadata": {},
   "source": [
    "For more information on out type stability requirement, see our [Documentation on compile time constants](https://docs.bodo.ai/bodo_parallelism/compile_time_constants/?h=compile+time+constan)"
   ]
  },
  {
   "cell_type": "markdown",
   "metadata": {
    "tags": []
   },
   "source": [
    "### Python Features\n",
    "\n",
    "Bodo uses [Numba](https://numba.pydata.org/) for compiling regular Python features and some of Numba’s requirements applyto Bodo as well. For example, values in data structures like lists should have the same data type. This example fails since list values are either integers or strings:"
   ]
  },
  {
   "cell_type": "code",
   "execution_count": 15,
   "metadata": {},
   "outputs": [
    {
     "ename": "TypingError",
     "evalue": "\u001b[1m\u001b[1m\u001b[1mInvalid use of BoundFunction(list.append for list(int64)<iv=None>) with parameters (Literal[str](A))\n\u001b[0m\u001b[0m\u001b[0m\n\u001b[1m\nFile \"../../../../var/folders/69/zhshxt5s1qb53jfcc1pg95mr0000gn/T/ipykernel_31579/3649282494.py\", line 5:\u001b[0m\n\u001b[1m<source missing, REPL/exec in use?>\u001b[0m\n\n\u001b[1m\nFile \"../../../../var/folders/69/zhshxt5s1qb53jfcc1pg95mr0000gn/T/ipykernel_31579/3649282494.py\", line 5:\u001b[0m\n\u001b[1m<source missing, REPL/exec in use?>\u001b[0m\n",
     "output_type": "error",
     "traceback": [
      "\u001b[0;31m---------------------------------------------------------------------------\u001b[0m",
      "\u001b[0;31mTypingError\u001b[0m                               Traceback (most recent call last)",
      "Input \u001b[0;32mIn [15]\u001b[0m, in \u001b[0;36m<module>\u001b[0;34m\u001b[0m\n\u001b[1;32m      7\u001b[0m     out\u001b[38;5;241m.\u001b[39mappend(\u001b[38;5;124m\"\u001b[39m\u001b[38;5;124mB\u001b[39m\u001b[38;5;124m\"\u001b[39m)\n\u001b[1;32m      8\u001b[0m     \u001b[38;5;28;01mreturn\u001b[39;00m out\n\u001b[0;32m---> 10\u001b[0m \u001b[43mcreate_list\u001b[49m\u001b[43m(\u001b[49m\u001b[43m)\u001b[49m\n",
      "File \u001b[0;32m~/opt/anaconda3/envs/bodo/lib/python3.9/site-packages/bodo/numba_compat.py:744\u001b[0m, in \u001b[0;36m_compile_for_args\u001b[0;34m(***failed resolving arguments***)\u001b[0m\n\u001b[1;32m    742\u001b[0m             msg \u001b[38;5;241m+\u001b[39m\u001b[38;5;241m=\u001b[39m \u001b[38;5;124m'\u001b[39m\u001b[38;5;130;01m\\n\u001b[39;00m\u001b[38;5;124m'\u001b[39m \u001b[38;5;241m+\u001b[39m e\u001b[38;5;241m.\u001b[39mloc\u001b[38;5;241m.\u001b[39mstrformat() \u001b[38;5;241m+\u001b[39m \u001b[38;5;124m'\u001b[39m\u001b[38;5;130;01m\\n\u001b[39;00m\u001b[38;5;124m'\u001b[39m\n\u001b[1;32m    743\u001b[0m             e\u001b[38;5;241m.\u001b[39mpatch_message(msg)\n\u001b[0;32m--> 744\u001b[0m     \u001b[43merror_rewrite\u001b[49m\u001b[43m(\u001b[49m\u001b[43me\u001b[49m\u001b[43m,\u001b[49m\u001b[43m \u001b[49m\u001b[38;5;124;43m'\u001b[39;49m\u001b[38;5;124;43mtyping\u001b[39;49m\u001b[38;5;124;43m'\u001b[39;49m\u001b[43m)\u001b[49m\n\u001b[1;32m    745\u001b[0m \u001b[38;5;28;01mexcept\u001b[39;00m errors\u001b[38;5;241m.\u001b[39mUnsupportedError \u001b[38;5;28;01mas\u001b[39;00m e:\n\u001b[1;32m    746\u001b[0m     error_rewrite(e, \u001b[38;5;124m'\u001b[39m\u001b[38;5;124munsupported_error\u001b[39m\u001b[38;5;124m'\u001b[39m)\n",
      "File \u001b[0;32m~/opt/anaconda3/envs/bodo/lib/python3.9/site-packages/bodo/numba_compat.py:660\u001b[0m, in \u001b[0;36m_compile_for_args.<locals>.error_rewrite\u001b[0;34m(e, issue_type)\u001b[0m\n\u001b[1;32m    658\u001b[0m     \u001b[38;5;28;01mraise\u001b[39;00m e\n\u001b[1;32m    659\u001b[0m \u001b[38;5;28;01melse\u001b[39;00m:\n\u001b[0;32m--> 660\u001b[0m     \u001b[38;5;28;01mraise\u001b[39;00m e\u001b[38;5;241m.\u001b[39mwith_traceback(\u001b[38;5;28;01mNone\u001b[39;00m)\n",
      "\u001b[0;31mTypingError\u001b[0m: \u001b[1m\u001b[1m\u001b[1mInvalid use of BoundFunction(list.append for list(int64)<iv=None>) with parameters (Literal[str](A))\n\u001b[0m\u001b[0m\u001b[0m\n\u001b[1m\nFile \"../../../../var/folders/69/zhshxt5s1qb53jfcc1pg95mr0000gn/T/ipykernel_31579/3649282494.py\", line 5:\u001b[0m\n\u001b[1m<source missing, REPL/exec in use?>\u001b[0m\n\n\u001b[1m\nFile \"../../../../var/folders/69/zhshxt5s1qb53jfcc1pg95mr0000gn/T/ipykernel_31579/3649282494.py\", line 5:\u001b[0m\n\u001b[1m<source missing, REPL/exec in use?>\u001b[0m\n"
     ]
    }
   ],
   "source": [
    "@bodo.jit\n",
    "def create_list():\n",
    "    out = []\n",
    "    out.append(0)\n",
    "    out.append(\"A\")\n",
    "    out.append(1)\n",
    "    out.append(\"B\")\n",
    "    return out\n",
    "\n",
    "create_list()"
   ]
  },
  {
   "cell_type": "markdown",
   "metadata": {},
   "source": [
    "Using tuples can often solve these problems since tuples can hold values of different types:"
   ]
  },
  {
   "cell_type": "code",
   "execution_count": 16,
   "metadata": {},
   "outputs": [
    {
     "data": {
      "text/plain": [
       "[(0, 'A'), (1, 'B')]"
      ]
     },
     "execution_count": 16,
     "metadata": {},
     "output_type": "execute_result"
    }
   ],
   "source": [
    "@bodo.jit\n",
    "def create_list():\n",
    "    out = []\n",
    "    out.append((0, \"A\"))\n",
    "    out.append((1, \"B\"))\n",
    "    return out\n",
    "create_list()"
   ]
  },
  {
   "cell_type": "markdown",
   "metadata": {},
   "source": [
    "See [Unsupported Python Programs](https://docs.bodo.ai/2022.6/bodo_parallelism/not_supported/?h=bodo+pr) for more details."
   ]
  },
  {
   "cell_type": "code",
   "execution_count": null,
   "metadata": {},
   "outputs": [],
   "source": []
  }
 ],
 "metadata": {
  "interpreter": {
   "hash": "c055ab4e8dcaec5bc09e1db7dc9ba0af7856e6dca0079f8d0a35c557fbc4193a"
  },
  "kernelspec": {
   "display_name": "Python 3 (ipykernel)",
   "language": "python",
   "name": "python3"
  },
  "language_info": {
   "codemirror_mode": {
    "name": "ipython",
    "version": 3
   },
   "file_extension": ".py",
   "mimetype": "text/x-python",
   "name": "python",
   "nbconvert_exporter": "python",
   "pygments_lexer": "ipython3",
   "version": "3.9.12"
  }
 },
 "nbformat": 4,
 "nbformat_minor": 4
}
