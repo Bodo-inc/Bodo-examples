{
 "cells": [
  {
   "cell_type": "markdown",
   "metadata": {},
   "source": [
    "# TPC-H\n",
    "\n",
    "TPC-H is a decision support benchmark that offers business-oriented ad hoc queries.\n",
    "More information can be found [here](http://www.tpc.org/tpch)\n",
    "\n",
    "The queries are originally in SQL format and here they are implemented using the pandas API."
   ]
  },
  {
   "cell_type": "markdown",
   "metadata": {},
   "source": [
    "### Notes on running these queries:\n",
    "\n",
    "By defaults runs use Bodo. Hence, data is distributed in chunks across processes.\n",
    "\n",
    "The current results are based on running on one **m5.8xlarge** instance (16 cores, 128GiB memory)\n",
    "\n",
    "Dataset size is 2GB.\n",
    "\n",
    "There's another dataset available on \"s3://bodo-examples-data/tpch/s4/\" which is 4GB.\n",
    "\n",
    "To run the code:\n",
    "1. Make sure you add your AWS account credentials to access the data. \n",
    "2. If you want to run a query in regular pandas:\n",
    "    1. Comment magic expression (`%%px`) from AWS, import statements, its corresponding functions to load data, and the query cells.\n",
    "    2. Comment bodo decorator (`@bodo.jit`) from the load_data functions and the query that you'll run. \n",
    "    3. Re-run the import cells.\n",
    "    4. Re-run functions in [loading data](#loading_data) section to have the requried dataset in one process. \n"
   ]
  },
  {
   "cell_type": "code",
   "execution_count": 5,
   "metadata": {
    "execution": {
     "iopub.execute_input": "2022-03-11T21:09:57.784204Z",
     "iopub.status.busy": "2022-03-11T21:09:57.783862Z",
     "iopub.status.idle": "2022-03-11T21:09:57.815500Z",
     "shell.execute_reply": "2022-03-11T21:09:57.814586Z",
     "shell.execute_reply.started": "2022-03-11T21:09:57.784177Z"
    },
    "tags": []
   },
   "outputs": [],
   "source": [
    "%%px\n",
    "import json\n",
    "import os\n",
    "\n",
    "path_to_conn_creds = \"credentials.json\"\n",
    "with open(path_to_conn_creds) as f:\n",
    "    creds = json.load(f)\n",
    "\n",
    "os.environ[\"AWS_ACCESS_KEY_ID\"] = creds[\"aws\"][\"aws_access_key_id\"]\n",
    "os.environ[\"AWS_SECRET_ACCESS_KEY\"] = creds[\"aws\"][\"aws_secret_access_key\"]\n",
    "os.environ[\"AWS_DEFAULT_REGION\"] = \"us-east-2\""
   ]
  },
  {
   "cell_type": "code",
   "execution_count": 6,
   "metadata": {
    "execution": {
     "iopub.execute_input": "2022-03-11T21:09:59.515239Z",
     "iopub.status.busy": "2022-03-11T21:09:59.514924Z",
     "iopub.status.idle": "2022-03-11T21:09:59.536045Z",
     "shell.execute_reply": "2022-03-11T21:09:59.535423Z",
     "shell.execute_reply.started": "2022-03-11T21:09:59.515197Z"
    },
    "tags": []
   },
   "outputs": [],
   "source": [
    "%%px\n",
    "import bodo\n",
    "import time\n",
    "import numpy as np\n",
    "import pandas as pd"
   ]
  },
  {
   "cell_type": "markdown",
   "metadata": {},
   "source": [
    "<a id=\"loading_data\"></a>\n",
    "## Loading data\n",
    "\n",
    "In this section, we load the data required by the queries in pandas DataFrame."
   ]
  },
  {
   "cell_type": "code",
   "execution_count": 7,
   "metadata": {
    "execution": {
     "iopub.execute_input": "2022-03-11T21:10:00.933928Z",
     "iopub.status.busy": "2022-03-11T21:10:00.933499Z",
     "iopub.status.idle": "2022-03-11T21:10:07.669654Z",
     "shell.execute_reply": "2022-03-11T21:10:07.668963Z",
     "shell.execute_reply.started": "2022-03-11T21:10:00.933901Z"
    },
    "tags": []
   },
   "outputs": [
    {
     "data": {
      "application/vnd.jupyter.widget-view+json": {
       "model_id": "1b17200742c248a8a29f7f4470663502",
       "version_major": 2,
       "version_minor": 0
      },
      "text/plain": [
       "%px:   0%|          | 0/16 [00:00<?, ?tasks/s]"
      ]
     },
     "metadata": {},
     "output_type": "display_data"
    },
    {
     "data": {
      "text/plain": [
       "[stdout:0] Lineitem Reading time:  6402.453125488705  (ms)\n",
       "   L_ORDERKEY  L_PARTKEY  L_SUPPKEY  L_LINENUMBER  L_QUANTITY  \\\n",
       "0           1     310379      15395             1        17.0   \n",
       "1           1     134619      14620             2        36.0   \n",
       "2           1     127400       7401             3         8.0   \n",
       "3           1       4263       9264             4        28.0   \n",
       "4           1      48054       3061             5        24.0   \n",
       "\n",
       "   L_EXTENDEDPRICE  L_DISCOUNT  L_TAX L_RETURNFLAG L_LINESTATUS L_SHIPDATE  \\\n",
       "0         23619.12        0.04   0.02            N            O 1996-03-13   \n",
       "1         59529.96        0.09   0.06            N            O 1996-04-12   \n",
       "2         11419.20        0.10   0.02            N            O 1996-01-29   \n",
       "3         32683.28        0.09   0.06            N            O 1996-04-21   \n",
       "4         24049.20        0.10   0.04            N            O 1996-03-30   \n",
       "\n",
       "  L_COMMITDATE L_RECEIPTDATE     L_SHIPINSTRUCT L_SHIPMODE  \\\n",
       "0   1996-02-12    1996-03-22  DELIVER IN PERSON      TRUCK   \n",
       "1   1996-02-28    1996-04-20   TAKE BACK RETURN       MAIL   \n",
       "2   1996-03-05    1996-01-31   TAKE BACK RETURN    REG AIR   \n",
       "3   1996-03-30    1996-05-16               NONE        AIR   \n",
       "4   1996-03-14    1996-04-01               NONE        FOB   \n",
       "\n",
       "                            L_COMMENT  \n",
       "0             egular courts above the  \n",
       "1  ly final dependencies: slyly bold   \n",
       "2       riously. regular, express dep  \n",
       "3             lites. fluffily even de  \n",
       "4             pending foxes. slyly re  \n"
      ]
     },
     "metadata": {},
     "output_type": "display_data"
    }
   ],
   "source": [
    "%%px\n",
    "@bodo.jit(distributed=[\"rel\"], cache=True)\n",
    "def load_lineitem(data_folder):\n",
    "    t1 = time.time()\n",
    "    file = data_folder + \"/lineitem.tbl\"\n",
    "    cols_names = ['L_ORDERKEY' , 'L_PARTKEY', 'L_SUPPKEY', 'L_LINENUMBER', 'L_QUANTITY',\n",
    "            'L_EXTENDEDPRICE', 'L_DISCOUNT', 'L_TAX', 'L_RETURNFLAG', 'L_LINESTATUS', 'L_SHIPDATE',\n",
    "            'L_COMMITDATE', 'L_RECEIPTDATE', 'L_SHIPINSTRUCT', 'L_SHIPMODE', 'L_COMMENT']\n",
    "    cols = {'L_ORDERKEY' : np.int64, 'L_PARTKEY' : np.int64, 'L_SUPPKEY' : np.int64, 'L_LINENUMBER' : np.int64, 'L_QUANTITY' : np.float64,\n",
    "            'L_EXTENDEDPRICE' : np.float64, 'L_DISCOUNT' : np.float64, 'L_TAX' : np.float64, 'L_RETURNFLAG' : str, 'L_LINESTATUS' : str, 'L_SHIPDATE' : str,\n",
    "            'L_COMMITDATE' : str, 'L_RECEIPTDATE' : str, 'L_SHIPINSTRUCT' : str, 'L_SHIPMODE' : str, 'L_COMMENT' : str}\n",
    "    rel = pd.read_csv(file, sep='|', header=None,\n",
    "        names=cols_names,\n",
    "        dtype=cols,\n",
    "        parse_dates=[10, 11, 12]\n",
    "        )\n",
    "    print(\"Lineitem Reading time: \", ((time.time() - t1) * 1000), \" (ms)\")\n",
    "    print(rel.head())\n",
    "    return rel\n",
    "\n",
    "lineitem = load_lineitem(\"s3://bodo-examples-data/tpch/s2\")"
   ]
  },
  {
   "cell_type": "code",
   "execution_count": 8,
   "metadata": {
    "execution": {
     "iopub.execute_input": "2022-03-11T21:10:07.670734Z",
     "iopub.status.busy": "2022-03-11T21:10:07.670363Z",
     "iopub.status.idle": "2022-03-11T21:10:09.151083Z",
     "shell.execute_reply": "2022-03-11T21:10:09.150443Z",
     "shell.execute_reply.started": "2022-03-11T21:10:07.670714Z"
    },
    "scrolled": true,
    "tags": []
   },
   "outputs": [
    {
     "data": {
      "text/plain": [
       "[stdout:0] Orders Reading time:  1366.1140216275953  (ms)\n",
       "   O_ORDERKEY  O_CUSTKEY O_ORDERSTATUS  O_TOTALPRICE O_ORDERDATE  \\\n",
       "0           1      73801             O     181503.69  1996-01-02   \n",
       "1           2     156004             O      49967.96  1996-12-01   \n",
       "2           3     246628             F     227024.64  1993-10-14   \n",
       "3           4     273553             O      36018.68  1995-10-11   \n",
       "4           5      88970             F     112288.43  1994-07-30   \n",
       "\n",
       "  O_ORDERPRIORITY          O_CLERK  O_SHIPPRIORITY  \\\n",
       "0           5-LOW  Clerk#000001902               0   \n",
       "1        1-URGENT  Clerk#000001759               0   \n",
       "2           5-LOW  Clerk#000001909               0   \n",
       "3           5-LOW  Clerk#000000247               0   \n",
       "4           5-LOW  Clerk#000001850               0   \n",
       "\n",
       "                                           O_COMMENT  \n",
       "0                 nstructions sleep furiously among   \n",
       "1   foxes. pending accounts at the pending, silen...  \n",
       "2  sly final accounts boost. carefully regular id...  \n",
       "3  sits. slyly regular warthogs cajole. regular, ...  \n",
       "4  quickly. bold deposits sleep slyly. packages u...  \n"
      ]
     },
     "metadata": {},
     "output_type": "display_data"
    }
   ],
   "source": [
    "%%px\n",
    "\n",
    "@bodo.jit(distributed=[\"rel\"], cache=True)\n",
    "def load_orders(data_folder):\n",
    "    t1 = time.time()    \n",
    "    file = data_folder + \"/orders.tbl\"\n",
    "    cols_names = ['O_ORDERKEY', 'O_CUSTKEY', 'O_ORDERSTATUS',\n",
    "            'O_TOTALPRICE', 'O_ORDERDATE', 'O_ORDERPRIORITY',\n",
    "            'O_CLERK', 'O_SHIPPRIORITY', 'O_COMMENT']\n",
    "    cols = {'O_ORDERKEY' : np.int64, 'O_CUSTKEY' : np.int64, 'O_ORDERSTATUS' : str,\n",
    "            'O_TOTALPRICE' : np.float64, 'O_ORDERDATE' : np.int64, 'O_ORDERPRIORITY' : str,\n",
    "            'O_CLERK' : str, 'O_SHIPPRIORITY' : np.int64, 'O_COMMENT' : str}\n",
    "    rel = pd.read_csv(file, sep='|', header=None,\n",
    "        names=cols_names,\n",
    "        dtype=cols,\n",
    "        parse_dates=[4]\n",
    "        )\n",
    "    print(\"Orders Reading time: \", ((time.time() - t1) * 1000), \" (ms)\")\n",
    "    print(rel.head())\n",
    "    return rel\n",
    "    \n",
    "orders = load_orders(\"s3://bodo-examples-data/tpch/s2\")"
   ]
  },
  {
   "cell_type": "code",
   "execution_count": 9,
   "metadata": {
    "execution": {
     "iopub.execute_input": "2022-03-11T21:10:09.156712Z",
     "iopub.status.busy": "2022-03-11T21:10:09.156507Z",
     "iopub.status.idle": "2022-03-11T21:10:12.022574Z",
     "shell.execute_reply": "2022-03-11T21:10:12.021636Z",
     "shell.execute_reply.started": "2022-03-11T21:10:09.156692Z"
    },
    "tags": []
   },
   "outputs": [
    {
     "data": {
      "application/vnd.jupyter.widget-view+json": {
       "model_id": "7acf22cae3794859ab72da3f9c6ef5ce",
       "version_major": 2,
       "version_minor": 0
      },
      "text/plain": [
       "%px:   0%|          | 0/16 [00:00<?, ?tasks/s]"
      ]
     },
     "metadata": {},
     "output_type": "display_data"
    },
    {
     "data": {
      "text/plain": [
       "[stdout:0] Customer Reading time:  399.84531761672315  (ms)\n",
       "   C_CUSTKEY              C_NAME                       C_ADDRESS  C_NATIONKEY  \\\n",
       "0          1  Customer#000000001               IVhzIApeRb ot,c,E           15   \n",
       "1          2  Customer#000000002  XSTf4,NCwDVaWNe6tEgvwfmRchLXak           13   \n",
       "2          3  Customer#000000003                    MG9kdTD2WBHm            1   \n",
       "3          4  Customer#000000004                     XxVSJsLAGtn            4   \n",
       "4          5  Customer#000000005    KvpyuHCplrB84WgAiGV6sYpZq7Tj            3   \n",
       "\n",
       "           C_PHONE  C_ACCTBAL C_MKTSEGMENT  \\\n",
       "0  25-989-741-2988     711.56     BUILDING   \n",
       "1  23-768-687-3665     121.65   AUTOMOBILE   \n",
       "2  11-719-748-3364    7498.12   AUTOMOBILE   \n",
       "3  14-128-190-5944    2866.83    MACHINERY   \n",
       "4  13-750-942-6364     794.47    HOUSEHOLD   \n",
       "\n",
       "                                           C_COMMENT  \n",
       "0  to the even, regular platelets. regular, ironi...  \n",
       "1  l accounts. blithely ironic theodolites integr...  \n",
       "2   deposits eat slyly ironic, even instructions....  \n",
       "3   requests. final, regular ideas sleep final accou  \n",
       "4  n accounts will have to unwind. foxes cajole a...  \n"
      ]
     },
     "metadata": {},
     "output_type": "display_data"
    }
   ],
   "source": [
    "%%px\n",
    "\n",
    "@bodo.jit(distributed=[\"rel\"], cache=True)\n",
    "def load_customer(data_folder):\n",
    "    t1 = time.time()\n",
    "    file = data_folder + \"/customer.tbl\"\n",
    "    cols_names = ['C_CUSTKEY', 'C_NAME',\n",
    "            'C_ADDRESS', 'C_NATIONKEY',\n",
    "            'C_PHONE', 'C_ACCTBAL',\n",
    "            'C_MKTSEGMENT', 'C_COMMENT']\n",
    "    cols = {'C_CUSTKEY' : np.int64, 'C_NAME' : str,\n",
    "            'C_ADDRESS' : str, 'C_NATIONKEY' : np.int64,\n",
    "            'C_PHONE' : str, 'C_ACCTBAL' : np.float64,\n",
    "            'C_MKTSEGMENT' : str, 'C_COMMENT' : str}\n",
    "    rel = pd.read_csv(file, sep='|', header=None,\n",
    "        names=cols_names,\n",
    "        dtype=cols\n",
    "        )\n",
    "    print(\"Customer Reading time: \", ((time.time() - t1) * 1000), \" (ms)\")\n",
    "    print(rel.head())\n",
    "    return rel\n",
    "\n",
    "customer = load_customer(\"s3://bodo-examples-data/tpch/s2\")"
   ]
  },
  {
   "cell_type": "code",
   "execution_count": 10,
   "metadata": {
    "execution": {
     "iopub.execute_input": "2022-03-11T21:10:12.023536Z",
     "iopub.status.busy": "2022-03-11T21:10:12.023339Z",
     "iopub.status.idle": "2022-03-11T21:10:14.225566Z",
     "shell.execute_reply": "2022-03-11T21:10:14.225044Z",
     "shell.execute_reply.started": "2022-03-11T21:10:12.023517Z"
    },
    "tags": []
   },
   "outputs": [
    {
     "data": {
      "application/vnd.jupyter.widget-view+json": {
       "model_id": "fb4a6febc9884ef38f2347f11667506d",
       "version_major": 2,
       "version_minor": 0
      },
      "text/plain": [
       "%px:   0%|          | 0/16 [00:00<?, ?tasks/s]"
      ]
     },
     "metadata": {},
     "output_type": "display_data"
    },
    {
     "data": {
      "text/plain": [
       "[stdout:2]    N_NATIONKEY N_NAME  N_REGIONKEY  \\\n",
       "4            4  EGYPT            4   \n",
       "\n",
       "                                           N_COMMENT  \n",
       "4  y above the carefully unusual theodolites. fin...  \n"
      ]
     },
     "metadata": {},
     "output_type": "display_data"
    },
    {
     "data": {
      "text/plain": [
       "[stdout:0] Nation Reading time:  116.6650568050045  (ms)\n",
       "   N_NATIONKEY     N_NAME  N_REGIONKEY  \\\n",
       "0            0    ALGERIA            0   \n",
       "1            1  ARGENTINA            1   \n",
       "\n",
       "                                           N_COMMENT  \n",
       "0   haggle. carefully final deposits detect slyly...  \n",
       "1  al foxes promise slyly according to the regula...  \n"
      ]
     },
     "metadata": {},
     "output_type": "display_data"
    },
    {
     "data": {
      "text/plain": [
       "[stdout:1]    N_NATIONKEY  N_NAME  N_REGIONKEY  \\\n",
       "2            2  BRAZIL            1   \n",
       "3            3  CANADA            1   \n",
       "\n",
       "                                           N_COMMENT  \n",
       "2  y alongside of the pending deposits. carefully...  \n",
       "3  eas hang ironic, silent packages. slyly regula...  \n"
      ]
     },
     "metadata": {},
     "output_type": "display_data"
    }
   ],
   "source": [
    "%%px\n",
    "\n",
    "@bodo.jit(distributed=[\"rel\"], cache=True)\n",
    "def load_nation(data_folder):\n",
    "    t1 = time.time()\n",
    "    file = data_folder + \"/nation.tbl\"\n",
    "    cols_names = ['N_NATIONKEY', 'N_NAME',\n",
    "            'N_REGIONKEY', 'N_COMMENT']\n",
    "    cols = {'N_NATIONKEY' : np.int64, 'N_NAME' : str,\n",
    "            'N_REGIONKEY' : np.int64, 'N_COMMENT' : str}\n",
    "    rel = pd.read_csv(file, sep='|', header=None,\n",
    "        names=cols_names,\n",
    "        dtype=cols\n",
    "        )\n",
    "    print(\"Nation Reading time: \", ((time.time() - t1) * 1000), \" (ms)\")\n",
    "    print(rel.head())\n",
    "    return rel\n",
    "\n",
    "nation = load_nation(\"s3://bodo-examples-data/tpch/s2\")"
   ]
  },
  {
   "cell_type": "code",
   "execution_count": 11,
   "metadata": {
    "execution": {
     "iopub.execute_input": "2022-03-11T21:10:14.226165Z",
     "iopub.status.busy": "2022-03-11T21:10:14.226030Z",
     "iopub.status.idle": "2022-03-11T21:10:16.870614Z",
     "shell.execute_reply": "2022-03-11T21:10:16.869725Z",
     "shell.execute_reply.started": "2022-03-11T21:10:14.226147Z"
    },
    "tags": []
   },
   "outputs": [
    {
     "data": {
      "application/vnd.jupyter.widget-view+json": {
       "model_id": "e82adeedbc70495aad2b34c1afea8a68",
       "version_major": 2,
       "version_minor": 0
      },
      "text/plain": [
       "%px:   0%|          | 0/16 [00:00<?, ?tasks/s]"
      ]
     },
     "metadata": {},
     "output_type": "display_data"
    },
    {
     "data": {
      "text/plain": [
       "[stdout:0] Supplier Reading time:  213.53314048349148  (ms)\n",
       "   S_SUPPKEY              S_NAME                            S_ADDRESS  \\\n",
       "0          1  Supplier#000000001   N kD4on9OM Ipw3,gf0JBoQDd7tgrzrddZ   \n",
       "1          2  Supplier#000000002                89eJ5ksX3ImxJQBvxObC,   \n",
       "2          3  Supplier#000000003    q1,G3Pj6OjIuUYfUoH18BFTKP5aU9bEV3   \n",
       "3          4  Supplier#000000004            Bk7ah4CK8SYQTepEmvMkkgMwg   \n",
       "4          5  Supplier#000000005                    Gcdm2rJRzl5qlTVzc   \n",
       "\n",
       "   S_NATIONKEY          S_PHONE  S_ACCTBAL  \\\n",
       "0           17  27-918-335-1736    5755.94   \n",
       "1            5  15-679-861-2259    4032.68   \n",
       "2            1  11-383-516-1199    4192.40   \n",
       "3           15  25-843-787-7479    4641.08   \n",
       "4           11  21-151-690-3663    -283.84   \n",
       "\n",
       "                                           S_COMMENT  \n",
       "0                       each slyly above the careful  \n",
       "1             slyly bold instructions. idle dependen  \n",
       "2  blithely silent requests after the express dep...  \n",
       "3                riously even requests above the exp  \n",
       "4                          . slyly regular pinto bea  \n"
      ]
     },
     "metadata": {},
     "output_type": "display_data"
    }
   ],
   "source": [
    "%%px\n",
    "\n",
    "@bodo.jit(distributed=[\"rel\"], cache=True)\n",
    "def load_supplier(data_folder):\n",
    "    t1 = time.time()    \n",
    "    file = data_folder + \"/supplier.tbl\"\n",
    "    cols_names = ['S_SUPPKEY', 'S_NAME', 'S_ADDRESS',\n",
    "            'S_NATIONKEY', 'S_PHONE', 'S_ACCTBAL',\n",
    "            'S_COMMENT']\n",
    "    cols = {'S_SUPPKEY' : np.int64, 'S_NAME' : str, 'S_ADDRESS' : str,\n",
    "            'S_NATIONKEY' : np.int64, 'S_PHONE' : str, 'S_ACCTBAL' : np.float64,\n",
    "            'S_COMMENT' : str}\n",
    "    rel = pd.read_csv(file, sep='|', header=None,\n",
    "        names=cols_names,\n",
    "        dtype=cols\n",
    "        )\n",
    "    print(\"Supplier Reading time: \", ((time.time() - t1) * 1000), \" (ms)\")\n",
    "    print(rel.head())        \n",
    "    return rel\n",
    "\n",
    "supplier = load_supplier(\"s3://bodo-examples-data/tpch/s2\")"
   ]
  },
  {
   "cell_type": "code",
   "execution_count": 12,
   "metadata": {
    "execution": {
     "iopub.execute_input": "2022-03-11T21:10:16.871609Z",
     "iopub.status.busy": "2022-03-11T21:10:16.871403Z",
     "iopub.status.idle": "2022-03-11T21:10:20.245857Z",
     "shell.execute_reply": "2022-03-11T21:10:20.245207Z",
     "shell.execute_reply.started": "2022-03-11T21:10:16.871589Z"
    },
    "tags": []
   },
   "outputs": [
    {
     "data": {
      "application/vnd.jupyter.widget-view+json": {
       "model_id": "ef3e36a4c2ce4e90a06584b3f78319fd",
       "version_major": 2,
       "version_minor": 0
      },
      "text/plain": [
       "%px:   0%|          | 0/16 [00:00<?, ?tasks/s]"
      ]
     },
     "metadata": {},
     "output_type": "display_data"
    },
    {
     "data": {
      "text/plain": [
       "[stdout:0] Partsupp Reading time:  1039.3468976068334  (ms)\n",
       "   PS_PARTKEY  PS_SUPPKEY  PS_AVAILQTY  PS_SUPPLYCOST  \\\n",
       "0           1           2         3325         771.64   \n",
       "1           1        5002         8076         993.49   \n",
       "2           1       10002         3956         337.09   \n",
       "3           1       15002         4069         357.84   \n",
       "4           2           3         8895         378.49   \n",
       "\n",
       "                                          PS_COMMENT  \n",
       "0  , even theodolites. regular, final theodolites...  \n",
       "1  ven ideas. quickly even packages print. pendin...  \n",
       "2  after the fluffily ironic deposits? blithely s...  \n",
       "3  al, regular dependencies serve carefully after...  \n",
       "4  nic accounts. final accounts sleep furiously a...  \n"
      ]
     },
     "metadata": {},
     "output_type": "display_data"
    }
   ],
   "source": [
    "%%px\n",
    "\n",
    "@bodo.jit(distributed=[\"rel\"], cache=True)\n",
    "def load_partsupp(data_folder):\n",
    "    t1 = time.time()\n",
    "    file = data_folder + \"/partsupp.tbl\"\n",
    "    cols_names = ['PS_PARTKEY', 'PS_SUPPKEY', 'PS_AVAILQTY',\n",
    "            'PS_SUPPLYCOST', 'PS_COMMENT']\n",
    "    cols = {'PS_PARTKEY' : np.int64, 'PS_SUPPKEY' : np.int64, 'PS_AVAILQTY' : np.int64,\n",
    "            'PS_SUPPLYCOST' : np.float64, 'PS_COMMENT' : str}\n",
    "    rel = pd.read_csv(file, sep='|', header=None,\n",
    "        names=cols_names,\n",
    "        dtype=cols\n",
    "        )\n",
    "    print(\"Partsupp Reading time: \", ((time.time() - t1) * 1000), \" (ms)\")\n",
    "    print(rel.head())\n",
    "    return rel\n",
    "\n",
    "partsupp = load_partsupp(\"s3://bodo-examples-data/tpch/s2\")"
   ]
  },
  {
   "cell_type": "code",
   "execution_count": 13,
   "metadata": {
    "execution": {
     "iopub.execute_input": "2022-03-11T21:10:20.246534Z",
     "iopub.status.busy": "2022-03-11T21:10:20.246338Z",
     "iopub.status.idle": "2022-03-11T21:10:23.217587Z",
     "shell.execute_reply": "2022-03-11T21:10:23.216694Z",
     "shell.execute_reply.started": "2022-03-11T21:10:20.246515Z"
    },
    "tags": []
   },
   "outputs": [
    {
     "data": {
      "application/vnd.jupyter.widget-view+json": {
       "model_id": "5c75645e7ece41bf9cf7e97c58e2f03b",
       "version_major": 2,
       "version_minor": 0
      },
      "text/plain": [
       "%px:   0%|          | 0/16 [00:00<?, ?tasks/s]"
      ]
     },
     "metadata": {},
     "output_type": "display_data"
    },
    {
     "data": {
      "text/plain": [
       "[stdout:0] Part Reading time:  457.4376229434165  (ms)\n",
       "   P_PARTKEY                                    P_NAME          P_MFGR  \\\n",
       "0          1  goldenrod lavender spring chocolate lace  Manufacturer#1   \n",
       "1          2          blush thistle blue yellow saddle  Manufacturer#1   \n",
       "2          3       spring green yellow purple cornsilk  Manufacturer#4   \n",
       "3          4     cornflower chocolate smoke green pink  Manufacturer#3   \n",
       "4          5             forest brown coral puff cream  Manufacturer#3   \n",
       "\n",
       "    P_BRAND                   P_TYPE  P_SIZE P_CONTAINER  P_RETAILPRICE  \\\n",
       "0  Brand#13   PROMO BURNISHED COPPER       7   JUMBO PKG          901.0   \n",
       "1  Brand#13      LARGE BRUSHED BRASS       1     LG CASE          902.0   \n",
       "2  Brand#42  STANDARD POLISHED BRASS      21   WRAP CASE          903.0   \n",
       "3  Brand#34       SMALL PLATED BRASS      14    MED DRUM          904.0   \n",
       "4  Brand#32    STANDARD POLISHED TIN      15      SM PKG          905.0   \n",
       "\n",
       "             P_COMMENT  \n",
       "0      ly. slyly ironi  \n",
       "1     lar accounts amo  \n",
       "2  egular deposits hag  \n",
       "3        p furiously r  \n",
       "4      wake carefully   \n"
      ]
     },
     "metadata": {},
     "output_type": "display_data"
    }
   ],
   "source": [
    "%%px\n",
    "\n",
    "@bodo.jit(distributed=[\"rel\"], cache=True)\n",
    "def load_part(data_folder):\n",
    "    t1 = time.time()\n",
    "    file = data_folder + \"/part.tbl\"\n",
    "    cols_names = ['P_PARTKEY', 'P_NAME', 'P_MFGR', 'P_BRAND',\n",
    "            'P_TYPE', 'P_SIZE', 'P_CONTAINER',\n",
    "            'P_RETAILPRICE', 'P_COMMENT']\n",
    "    cols = {'P_PARTKEY' : np.int64, 'P_NAME' : str, 'P_MFGR' : str, 'P_BRAND' : str,\n",
    "            'P_TYPE' : str, 'P_SIZE' : np.int64, 'P_CONTAINER' : str,\n",
    "            'P_RETAILPRICE' : np.float64, 'P_COMMENT' : str}\n",
    "    rel = pd.read_csv(file, sep='|', header=None,\n",
    "        names=cols_names,\n",
    "        dtype=cols\n",
    "        )\n",
    "    print(\"Part Reading time: \", ((time.time() - t1) * 1000), \" (ms)\")\n",
    "    print(rel.head())\n",
    "    return rel\n",
    "\n",
    "part = load_part(\"s3://bodo-examples-data/tpch/s2\")"
   ]
  },
  {
   "cell_type": "markdown",
   "metadata": {},
   "source": [
    "## Query Definitions\n",
    "\n",
    "This section includes some of the queries using Python (Pandas)"
   ]
  },
  {
   "cell_type": "markdown",
   "metadata": {},
   "source": [
    "### Q1: Pricing Summary Report Query\n",
    "This query reports the amount of businesses that were billed, shipped, and returned.\n",
    "\n",
    "Make sure you have run **`load_lineitem`** from [loading data section](#loading_data) before running this query."
   ]
  },
  {
   "cell_type": "code",
   "execution_count": 14,
   "metadata": {
    "execution": {
     "iopub.execute_input": "2022-03-11T21:10:32.716145Z",
     "iopub.status.busy": "2022-03-11T21:10:32.715839Z",
     "iopub.status.idle": "2022-03-11T21:10:41.123587Z",
     "shell.execute_reply": "2022-03-11T21:10:41.122790Z",
     "shell.execute_reply.started": "2022-03-11T21:10:32.716122Z"
    },
    "tags": []
   },
   "outputs": [
    {
     "data": {
      "application/vnd.jupyter.widget-view+json": {
       "model_id": "ce4d5f7df01d41e1a3228587064f282b",
       "version_major": 2,
       "version_minor": 0
      },
      "text/plain": [
       "%px:   0%|          | 0/16 [00:00<?, ?tasks/s]"
      ]
     },
     "metadata": {},
     "output_type": "display_data"
    },
    {
     "data": {
      "text/plain": [
       "[stdout:8] Empty DataFrame\n",
       "Columns: [(L_RETURNFLAG, ), (L_LINESTATUS, ), (L_QUANTITY, sum), (L_QUANTITY, mean), (L_EXTENDEDPRICE, sum), (L_EXTENDEDPRICE, mean), (DISC_PRICE, sum), (CHARGE, sum), (L_DISCOUNT, mean), (L_ORDERKEY, count)]\n",
       "Index: []\n"
      ]
     },
     "metadata": {},
     "output_type": "display_data"
    },
    {
     "data": {
      "text/plain": [
       "[stdout:15] Empty DataFrame\n",
       "Columns: [(L_RETURNFLAG, ), (L_LINESTATUS, ), (L_QUANTITY, sum), (L_QUANTITY, mean), (L_EXTENDEDPRICE, sum), (L_EXTENDEDPRICE, mean), (DISC_PRICE, sum), (CHARGE, sum), (L_DISCOUNT, mean), (L_ORDERKEY, count)]\n",
       "Index: []\n"
      ]
     },
     "metadata": {},
     "output_type": "display_data"
    },
    {
     "data": {
      "text/plain": [
       "[stdout:10] Empty DataFrame\n",
       "Columns: [(L_RETURNFLAG, ), (L_LINESTATUS, ), (L_QUANTITY, sum), (L_QUANTITY, mean), (L_EXTENDEDPRICE, sum), (L_EXTENDEDPRICE, mean), (DISC_PRICE, sum), (CHARGE, sum), (L_DISCOUNT, mean), (L_ORDERKEY, count)]\n",
       "Index: []\n"
      ]
     },
     "metadata": {},
     "output_type": "display_data"
    },
    {
     "data": {
      "text/plain": [
       "[stdout:3] Empty DataFrame\n",
       "Columns: [(L_RETURNFLAG, ), (L_LINESTATUS, ), (L_QUANTITY, sum), (L_QUANTITY, mean), (L_EXTENDEDPRICE, sum), (L_EXTENDEDPRICE, mean), (DISC_PRICE, sum), (CHARGE, sum), (L_DISCOUNT, mean), (L_ORDERKEY, count)]\n",
       "Index: []\n"
      ]
     },
     "metadata": {},
     "output_type": "display_data"
    },
    {
     "data": {
      "text/plain": [
       "[stdout:0] Execution time:  250.8884032882861  (ms)\n",
       "  L_RETURNFLAG L_LINESTATUS   L_QUANTITY            L_EXTENDEDPRICE  \\\n",
       "                                     sum       mean             sum   \n",
       "0            A            F   75478173.0  25.505699    1.131973e+11   \n",
       "3            N            F    1966480.0  25.530081    2.946115e+09   \n",
       "1            N            O  148642120.0  25.495192    2.229036e+11   \n",
       "2            R            F   75577628.0  25.512150    1.133519e+11   \n",
       "\n",
       "                   DISC_PRICE        CHARGE L_DISCOUNT L_ORDERKEY  \n",
       "           mean           sum           sum       mean      count  \n",
       "0  38251.814164  1.075364e+11  1.118389e+11   0.050004    2959267  \n",
       "3  38248.316500  2.798797e+09  2.911030e+09   0.049996      77026  \n",
       "1  38232.562546  2.117623e+11  2.202358e+11   0.049981    5830202  \n",
       "2  38263.321544  1.076881e+11  1.119943e+11   0.049980    2962417  \n"
      ]
     },
     "metadata": {},
     "output_type": "display_data"
    },
    {
     "data": {
      "text/plain": [
       "[stdout:6] Empty DataFrame\n",
       "Columns: [(L_RETURNFLAG, ), (L_LINESTATUS, ), (L_QUANTITY, sum), (L_QUANTITY, mean), (L_EXTENDEDPRICE, sum), (L_EXTENDEDPRICE, mean), (DISC_PRICE, sum), (CHARGE, sum), (L_DISCOUNT, mean), (L_ORDERKEY, count)]\n",
       "Index: []\n"
      ]
     },
     "metadata": {},
     "output_type": "display_data"
    },
    {
     "data": {
      "text/plain": [
       "[stdout:9] Empty DataFrame\n",
       "Columns: [(L_RETURNFLAG, ), (L_LINESTATUS, ), (L_QUANTITY, sum), (L_QUANTITY, mean), (L_EXTENDEDPRICE, sum), (L_EXTENDEDPRICE, mean), (DISC_PRICE, sum), (CHARGE, sum), (L_DISCOUNT, mean), (L_ORDERKEY, count)]\n",
       "Index: []\n"
      ]
     },
     "metadata": {},
     "output_type": "display_data"
    },
    {
     "data": {
      "text/plain": [
       "[stdout:14] Empty DataFrame\n",
       "Columns: [(L_RETURNFLAG, ), (L_LINESTATUS, ), (L_QUANTITY, sum), (L_QUANTITY, mean), (L_EXTENDEDPRICE, sum), (L_EXTENDEDPRICE, mean), (DISC_PRICE, sum), (CHARGE, sum), (L_DISCOUNT, mean), (L_ORDERKEY, count)]\n",
       "Index: []\n"
      ]
     },
     "metadata": {},
     "output_type": "display_data"
    },
    {
     "data": {
      "text/plain": [
       "[stdout:4] Empty DataFrame\n",
       "Columns: [(L_RETURNFLAG, ), (L_LINESTATUS, ), (L_QUANTITY, sum), (L_QUANTITY, mean), (L_EXTENDEDPRICE, sum), (L_EXTENDEDPRICE, mean), (DISC_PRICE, sum), (CHARGE, sum), (L_DISCOUNT, mean), (L_ORDERKEY, count)]\n",
       "Index: []\n"
      ]
     },
     "metadata": {},
     "output_type": "display_data"
    },
    {
     "data": {
      "text/plain": [
       "[stdout:5] Empty DataFrame\n",
       "Columns: [(L_RETURNFLAG, ), (L_LINESTATUS, ), (L_QUANTITY, sum), (L_QUANTITY, mean), (L_EXTENDEDPRICE, sum), (L_EXTENDEDPRICE, mean), (DISC_PRICE, sum), (CHARGE, sum), (L_DISCOUNT, mean), (L_ORDERKEY, count)]\n",
       "Index: []\n"
      ]
     },
     "metadata": {},
     "output_type": "display_data"
    },
    {
     "data": {
      "text/plain": [
       "[stdout:12] Empty DataFrame\n",
       "Columns: [(L_RETURNFLAG, ), (L_LINESTATUS, ), (L_QUANTITY, sum), (L_QUANTITY, mean), (L_EXTENDEDPRICE, sum), (L_EXTENDEDPRICE, mean), (DISC_PRICE, sum), (CHARGE, sum), (L_DISCOUNT, mean), (L_ORDERKEY, count)]\n",
       "Index: []\n"
      ]
     },
     "metadata": {},
     "output_type": "display_data"
    },
    {
     "data": {
      "text/plain": [
       "[stdout:7] Empty DataFrame\n",
       "Columns: [(L_RETURNFLAG, ), (L_LINESTATUS, ), (L_QUANTITY, sum), (L_QUANTITY, mean), (L_EXTENDEDPRICE, sum), (L_EXTENDEDPRICE, mean), (DISC_PRICE, sum), (CHARGE, sum), (L_DISCOUNT, mean), (L_ORDERKEY, count)]\n",
       "Index: []\n"
      ]
     },
     "metadata": {},
     "output_type": "display_data"
    },
    {
     "data": {
      "text/plain": [
       "[stdout:11] Empty DataFrame\n",
       "Columns: [(L_RETURNFLAG, ), (L_LINESTATUS, ), (L_QUANTITY, sum), (L_QUANTITY, mean), (L_EXTENDEDPRICE, sum), (L_EXTENDEDPRICE, mean), (DISC_PRICE, sum), (CHARGE, sum), (L_DISCOUNT, mean), (L_ORDERKEY, count)]\n",
       "Index: []\n"
      ]
     },
     "metadata": {},
     "output_type": "display_data"
    },
    {
     "data": {
      "text/plain": [
       "[stdout:2] Empty DataFrame\n",
       "Columns: [(L_RETURNFLAG, ), (L_LINESTATUS, ), (L_QUANTITY, sum), (L_QUANTITY, mean), (L_EXTENDEDPRICE, sum), (L_EXTENDEDPRICE, mean), (DISC_PRICE, sum), (CHARGE, sum), (L_DISCOUNT, mean), (L_ORDERKEY, count)]\n",
       "Index: []\n"
      ]
     },
     "metadata": {},
     "output_type": "display_data"
    },
    {
     "data": {
      "text/plain": [
       "[stdout:1] Empty DataFrame\n",
       "Columns: [(L_RETURNFLAG, ), (L_LINESTATUS, ), (L_QUANTITY, sum), (L_QUANTITY, mean), (L_EXTENDEDPRICE, sum), (L_EXTENDEDPRICE, mean), (DISC_PRICE, sum), (CHARGE, sum), (L_DISCOUNT, mean), (L_ORDERKEY, count)]\n",
       "Index: []\n"
      ]
     },
     "metadata": {},
     "output_type": "display_data"
    },
    {
     "data": {
      "text/plain": [
       "[stdout:13] Empty DataFrame\n",
       "Columns: [(L_RETURNFLAG, ), (L_LINESTATUS, ), (L_QUANTITY, sum), (L_QUANTITY, mean), (L_EXTENDEDPRICE, sum), (L_EXTENDEDPRICE, mean), (DISC_PRICE, sum), (CHARGE, sum), (L_DISCOUNT, mean), (L_ORDERKEY, count)]\n",
       "Index: []\n"
      ]
     },
     "metadata": {},
     "output_type": "display_data"
    }
   ],
   "source": [
    "%%px\n",
    "@bodo.jit(cache=True)\n",
    "def q1(lineitem):\n",
    "    t1 = time.time()\n",
    "    sel = lineitem.L_SHIPDATE <= \"1998-09-02\"\n",
    "    flineitem = lineitem[sel]\n",
    "    flineitem[\"DISC_PRICE\"] = flineitem.L_EXTENDEDPRICE * (1 - flineitem.L_DISCOUNT)\n",
    "    flineitem[\"CHARGE\"] = (\n",
    "        flineitem.L_EXTENDEDPRICE * (1 - flineitem.L_DISCOUNT) * (1 + flineitem.L_TAX)\n",
    "    )\n",
    "    gb = flineitem.groupby([\"L_RETURNFLAG\", \"L_LINESTATUS\"], as_index=False)\n",
    "    total = gb.agg({\"L_QUANTITY\": [\"sum\", \"mean\"], \"L_EXTENDEDPRICE\": [\"sum\", \"mean\"],\n",
    "                   \"DISC_PRICE\": \"sum\", \"CHARGE\": \"sum\",\n",
    "                   \"L_DISCOUNT\": \"mean\", \"L_ORDERKEY\": \"count\"})\n",
    "    total = total.sort_values([\"L_RETURNFLAG\", \"L_LINESTATUS\"])\n",
    "    print(\"Execution time: \", ((time.time() - t1) * 1000), \" (ms)\")\n",
    "    print(total.head(10))\n",
    "    return total.head(10)\n",
    "\n",
    "q1_result = q1(lineitem)"
   ]
  },
  {
   "cell_type": "markdown",
   "metadata": {},
   "source": [
    "### Q3: Shipping Priority Query\n",
    "This query retrieves the 10 unshipped orders with the highest value.\n",
    "\n",
    "Make sure you have run **`load_lineitem`, `load_orders`, and `load_customer`** from [loading data section](#loading_data) before running this query."
   ]
  },
  {
   "cell_type": "code",
   "execution_count": 15,
   "metadata": {
    "execution": {
     "iopub.execute_input": "2022-03-11T21:10:50.516463Z",
     "iopub.status.busy": "2022-03-11T21:10:50.516133Z",
     "iopub.status.idle": "2022-03-11T21:10:57.122016Z",
     "shell.execute_reply": "2022-03-11T21:10:57.121445Z",
     "shell.execute_reply.started": "2022-03-11T21:10:50.516437Z"
    },
    "tags": []
   },
   "outputs": [
    {
     "data": {
      "application/vnd.jupyter.widget-view+json": {
       "model_id": "6433a2e018034f14b9b624c4a2142a8e",
       "version_major": 2,
       "version_minor": 0
      },
      "text/plain": [
       "%px:   0%|          | 0/16 [00:00<?, ?tasks/s]"
      ]
     },
     "metadata": {},
     "output_type": "display_data"
    },
    {
     "data": {
      "text/plain": [
       "[stdout:0] Execution time:  123.560858952942  (ms)\n",
       "       L_ORDERKEY          TMP O_ORDERDATE  O_SHIPPRIORITY\n",
       "22385    11495873  417031.8957  1995-01-17               0\n",
       "1890      4163074  416152.8027  1995-02-13               0\n",
       "14641     6487431  412710.0508  1995-02-06               0\n",
       "10297     5536290  407857.9678  1995-01-31               0\n",
       "19514    10666915  397407.4185  1995-02-14               0\n",
       "17217     4225253  391852.7649  1995-02-28               0\n",
       "6285      6232772  391241.2513  1995-01-17               0\n",
       "21609     4724865  387185.9724  1995-02-03               0\n",
       "3261      3900355  386089.5768  1995-02-13               0\n",
       "21333     2377474  383057.9763  1995-02-26               0\n"
      ]
     },
     "metadata": {},
     "output_type": "display_data"
    },
    {
     "data": {
      "text/plain": [
       "[stdout:8] Empty DataFrame\n",
       "Columns: [L_ORDERKEY, TMP, O_ORDERDATE, O_SHIPPRIORITY]\n",
       "Index: []\n"
      ]
     },
     "metadata": {},
     "output_type": "display_data"
    },
    {
     "data": {
      "text/plain": [
       "[stdout:6] Empty DataFrame\n",
       "Columns: [L_ORDERKEY, TMP, O_ORDERDATE, O_SHIPPRIORITY]\n",
       "Index: []\n"
      ]
     },
     "metadata": {},
     "output_type": "display_data"
    },
    {
     "data": {
      "text/plain": [
       "[stdout:4] Empty DataFrame\n",
       "Columns: [L_ORDERKEY, TMP, O_ORDERDATE, O_SHIPPRIORITY]\n",
       "Index: []\n"
      ]
     },
     "metadata": {},
     "output_type": "display_data"
    },
    {
     "data": {
      "text/plain": [
       "[stdout:1] Empty DataFrame\n",
       "Columns: [L_ORDERKEY, TMP, O_ORDERDATE, O_SHIPPRIORITY]\n",
       "Index: []\n"
      ]
     },
     "metadata": {},
     "output_type": "display_data"
    },
    {
     "data": {
      "text/plain": [
       "[stdout:13] Empty DataFrame\n",
       "Columns: [L_ORDERKEY, TMP, O_ORDERDATE, O_SHIPPRIORITY]\n",
       "Index: []\n"
      ]
     },
     "metadata": {},
     "output_type": "display_data"
    },
    {
     "data": {
      "text/plain": [
       "[stdout:11] Empty DataFrame\n",
       "Columns: [L_ORDERKEY, TMP, O_ORDERDATE, O_SHIPPRIORITY]\n",
       "Index: []\n"
      ]
     },
     "metadata": {},
     "output_type": "display_data"
    },
    {
     "data": {
      "text/plain": [
       "[stdout:9] Empty DataFrame\n",
       "Columns: [L_ORDERKEY, TMP, O_ORDERDATE, O_SHIPPRIORITY]\n",
       "Index: []\n"
      ]
     },
     "metadata": {},
     "output_type": "display_data"
    },
    {
     "data": {
      "text/plain": [
       "[stdout:14] Empty DataFrame\n",
       "Columns: [L_ORDERKEY, TMP, O_ORDERDATE, O_SHIPPRIORITY]\n",
       "Index: []\n"
      ]
     },
     "metadata": {},
     "output_type": "display_data"
    },
    {
     "data": {
      "text/plain": [
       "[stdout:2] Empty DataFrame\n",
       "Columns: [L_ORDERKEY, TMP, O_ORDERDATE, O_SHIPPRIORITY]\n",
       "Index: []\n"
      ]
     },
     "metadata": {},
     "output_type": "display_data"
    },
    {
     "data": {
      "text/plain": [
       "[stdout:3] Empty DataFrame\n",
       "Columns: [L_ORDERKEY, TMP, O_ORDERDATE, O_SHIPPRIORITY]\n",
       "Index: []\n"
      ]
     },
     "metadata": {},
     "output_type": "display_data"
    },
    {
     "data": {
      "text/plain": [
       "[stdout:15] Empty DataFrame\n",
       "Columns: [L_ORDERKEY, TMP, O_ORDERDATE, O_SHIPPRIORITY]\n",
       "Index: []\n"
      ]
     },
     "metadata": {},
     "output_type": "display_data"
    },
    {
     "data": {
      "text/plain": [
       "[stdout:5] Empty DataFrame\n",
       "Columns: [L_ORDERKEY, TMP, O_ORDERDATE, O_SHIPPRIORITY]\n",
       "Index: []\n"
      ]
     },
     "metadata": {},
     "output_type": "display_data"
    },
    {
     "data": {
      "text/plain": [
       "[stdout:10] Empty DataFrame\n",
       "Columns: [L_ORDERKEY, TMP, O_ORDERDATE, O_SHIPPRIORITY]\n",
       "Index: []\n"
      ]
     },
     "metadata": {},
     "output_type": "display_data"
    },
    {
     "data": {
      "text/plain": [
       "[stdout:12] Empty DataFrame\n",
       "Columns: [L_ORDERKEY, TMP, O_ORDERDATE, O_SHIPPRIORITY]\n",
       "Index: []\n"
      ]
     },
     "metadata": {},
     "output_type": "display_data"
    },
    {
     "data": {
      "text/plain": [
       "[stdout:7] Empty DataFrame\n",
       "Columns: [L_ORDERKEY, TMP, O_ORDERDATE, O_SHIPPRIORITY]\n",
       "Index: []\n"
      ]
     },
     "metadata": {},
     "output_type": "display_data"
    }
   ],
   "source": [
    "%%px\n",
    "\n",
    "@bodo.jit(cache=True)\n",
    "def q3(lineitem, orders, customer):\n",
    "    date = \"1995-03-04\"    \n",
    "    t1 = time.time()\n",
    "    lsel = lineitem.L_SHIPDATE > date\n",
    "    osel = orders.O_ORDERDATE < date\n",
    "    csel = customer.C_MKTSEGMENT == \"HOUSEHOLD\"\n",
    "    flineitem = lineitem[lsel]\n",
    "    forders = orders[osel]\n",
    "    fcustomer = customer[csel]\n",
    "    jn1 = fcustomer.merge(forders, left_on=\"C_CUSTKEY\", right_on=\"O_CUSTKEY\")\n",
    "    jn2 = jn1.merge(flineitem, left_on=\"O_ORDERKEY\", right_on=\"L_ORDERKEY\")\n",
    "\n",
    "    jn2[\"TMP\"] = jn2.L_EXTENDEDPRICE * (1 - jn2.L_DISCOUNT)\n",
    "\n",
    "    total = (\n",
    "        jn2.groupby(\n",
    "            [\"L_ORDERKEY\", \"O_ORDERDATE\", \"O_SHIPPRIORITY\"], as_index=False\n",
    "        )[\"TMP\"]\n",
    "        .sum()\n",
    "        .sort_values([\"TMP\"], ascending=False)\n",
    "    )\n",
    "    res = total[[\"L_ORDERKEY\", \"TMP\", \"O_ORDERDATE\", \"O_SHIPPRIORITY\"]]\n",
    "\n",
    "    print(\"Execution time: \", ((time.time() - t1) * 1000), \" (ms)\")\n",
    "    print(res.head(10))\n",
    "    return res.head(10)\n",
    "\n",
    "q3_result = q3(lineitem, orders, customer)"
   ]
  },
  {
   "cell_type": "markdown",
   "metadata": {},
   "source": [
    "### Q4: Order Priority Checking Query\n",
    "This query determines how well the order priority system is working and gives an assessment of customer satisfaction.\n",
    "\n",
    "Make sure you have run **`load_lineitem` and `load_orders`** from [loading data section](#loading_data) before running this query."
   ]
  },
  {
   "cell_type": "code",
   "execution_count": 16,
   "metadata": {
    "execution": {
     "iopub.execute_input": "2022-03-11T21:10:57.123042Z",
     "iopub.status.busy": "2022-03-11T21:10:57.122697Z",
     "iopub.status.idle": "2022-03-11T21:11:02.008518Z",
     "shell.execute_reply": "2022-03-11T21:11:02.007611Z",
     "shell.execute_reply.started": "2022-03-11T21:10:57.123022Z"
    },
    "tags": []
   },
   "outputs": [
    {
     "data": {
      "application/vnd.jupyter.widget-view+json": {
       "model_id": "0626b3bd65a543e7974ad0d14f20dfe1",
       "version_major": 2,
       "version_minor": 0
      },
      "text/plain": [
       "%px:   0%|          | 0/16 [00:00<?, ?tasks/s]"
      ]
     },
     "metadata": {},
     "output_type": "display_data"
    },
    {
     "data": {
      "text/plain": [
       "[stdout:4] Empty DataFrame\n",
       "Columns: [O_ORDERPRIORITY, O_ORDERKEY]\n",
       "Index: []\n"
      ]
     },
     "metadata": {},
     "output_type": "display_data"
    },
    {
     "data": {
      "text/plain": [
       "[stdout:6] Empty DataFrame\n",
       "Columns: [O_ORDERPRIORITY, O_ORDERKEY]\n",
       "Index: []\n"
      ]
     },
     "metadata": {},
     "output_type": "display_data"
    },
    {
     "data": {
      "text/plain": [
       "[stdout:11] Empty DataFrame\n",
       "Columns: [O_ORDERPRIORITY, O_ORDERKEY]\n",
       "Index: []\n"
      ]
     },
     "metadata": {},
     "output_type": "display_data"
    },
    {
     "data": {
      "text/plain": [
       "[stdout:12] Empty DataFrame\n",
       "Columns: [O_ORDERPRIORITY, O_ORDERKEY]\n",
       "Index: []\n"
      ]
     },
     "metadata": {},
     "output_type": "display_data"
    },
    {
     "data": {
      "text/plain": [
       "[stdout:14] Empty DataFrame\n",
       "Columns: [O_ORDERPRIORITY, O_ORDERKEY]\n",
       "Index: []\n"
      ]
     },
     "metadata": {},
     "output_type": "display_data"
    },
    {
     "data": {
      "text/plain": [
       "[stdout:10] Empty DataFrame\n",
       "Columns: [O_ORDERPRIORITY, O_ORDERKEY]\n",
       "Index: []\n"
      ]
     },
     "metadata": {},
     "output_type": "display_data"
    },
    {
     "data": {
      "text/plain": [
       "[stdout:13] Empty DataFrame\n",
       "Columns: [O_ORDERPRIORITY, O_ORDERKEY]\n",
       "Index: []\n"
      ]
     },
     "metadata": {},
     "output_type": "display_data"
    },
    {
     "data": {
      "text/plain": [
       "[stdout:8] Empty DataFrame\n",
       "Columns: [O_ORDERPRIORITY, O_ORDERKEY]\n",
       "Index: []\n"
      ]
     },
     "metadata": {},
     "output_type": "display_data"
    },
    {
     "data": {
      "text/plain": [
       "[stdout:0] Execution time:  60.03922252796201  (ms)\n",
       "   O_ORDERPRIORITY  O_ORDERKEY\n",
       "2         1-URGENT       21039\n",
       "4           2-HIGH       20986\n",
       "0         3-MEDIUM       20918\n",
       "1  4-NOT SPECIFIED       21056\n",
       "3            5-LOW       21247\n"
      ]
     },
     "metadata": {},
     "output_type": "display_data"
    },
    {
     "data": {
      "text/plain": [
       "[stdout:2] Empty DataFrame\n",
       "Columns: [O_ORDERPRIORITY, O_ORDERKEY]\n",
       "Index: []\n"
      ]
     },
     "metadata": {},
     "output_type": "display_data"
    },
    {
     "data": {
      "text/plain": [
       "[stdout:3] Empty DataFrame\n",
       "Columns: [O_ORDERPRIORITY, O_ORDERKEY]\n",
       "Index: []\n"
      ]
     },
     "metadata": {},
     "output_type": "display_data"
    },
    {
     "data": {
      "text/plain": [
       "[stdout:9] Empty DataFrame\n",
       "Columns: [O_ORDERPRIORITY, O_ORDERKEY]\n",
       "Index: []\n"
      ]
     },
     "metadata": {},
     "output_type": "display_data"
    },
    {
     "data": {
      "text/plain": [
       "[stdout:7] Empty DataFrame\n",
       "Columns: [O_ORDERPRIORITY, O_ORDERKEY]\n",
       "Index: []\n"
      ]
     },
     "metadata": {},
     "output_type": "display_data"
    },
    {
     "data": {
      "text/plain": [
       "[stdout:1] Empty DataFrame\n",
       "Columns: [O_ORDERPRIORITY, O_ORDERKEY]\n",
       "Index: []\n"
      ]
     },
     "metadata": {},
     "output_type": "display_data"
    },
    {
     "data": {
      "text/plain": [
       "[stdout:15] Empty DataFrame\n",
       "Columns: [O_ORDERPRIORITY, O_ORDERKEY]\n",
       "Index: []\n"
      ]
     },
     "metadata": {},
     "output_type": "display_data"
    },
    {
     "data": {
      "text/plain": [
       "[stdout:5] Empty DataFrame\n",
       "Columns: [O_ORDERPRIORITY, O_ORDERKEY]\n",
       "Index: []\n"
      ]
     },
     "metadata": {},
     "output_type": "display_data"
    }
   ],
   "source": [
    "%%px\n",
    "@bodo.jit(cache=True)\n",
    "def q4(lineitem, orders):\n",
    "    date1 = \"1993-11-01\"\n",
    "    date2 = \"1993-08-01\"\n",
    "    t1 = time.time()\n",
    "    lsel = lineitem.L_COMMITDATE < lineitem.L_RECEIPTDATE\n",
    "    osel = (orders.O_ORDERDATE < date1) & (orders.O_ORDERDATE >= date2)\n",
    "    flineitem = lineitem[lsel]\n",
    "    forders = orders[osel]\n",
    "    jn = forders[forders[\"O_ORDERKEY\"].isin(flineitem[\"L_ORDERKEY\"])]\n",
    "    total = (\n",
    "        jn.groupby(\"O_ORDERPRIORITY\", as_index=False)[\"O_ORDERKEY\"]\n",
    "        .count()\n",
    "        .sort_values([\"O_ORDERPRIORITY\"])\n",
    "    )\n",
    "    print(\"Execution time: \", ((time.time() - t1) * 1000), \" (ms)\")\n",
    "    print(total.head(10))\n",
    "    return total.head(10)\n",
    "\n",
    "q4_result = q4(lineitem, orders)"
   ]
  },
  {
   "cell_type": "markdown",
   "metadata": {},
   "source": [
    "### Q6: Forecasting Revenue Change Query\n",
    "This query quantifies the amount of revenue increase that would have resulted from eliminating certain company-wide discounts in a given percentage range in a given year.\n",
    "\n",
    "Make sure you have run **`load_lineitem`** from [loading data section](#loading_data) before running this query."
   ]
  },
  {
   "cell_type": "code",
   "execution_count": 17,
   "metadata": {
    "execution": {
     "iopub.execute_input": "2022-03-11T21:11:02.009091Z",
     "iopub.status.busy": "2022-03-11T21:11:02.008957Z",
     "iopub.status.idle": "2022-03-11T21:11:05.913628Z",
     "shell.execute_reply": "2022-03-11T21:11:05.912566Z",
     "shell.execute_reply.started": "2022-03-11T21:11:02.009073Z"
    },
    "tags": []
   },
   "outputs": [
    {
     "data": {
      "application/vnd.jupyter.widget-view+json": {
       "model_id": "d109824e019e4387a74a28e0d3cae0af",
       "version_major": 2,
       "version_minor": 0
      },
      "text/plain": [
       "%px:   0%|          | 0/16 [00:00<?, ?tasks/s]"
      ]
     },
     "metadata": {},
     "output_type": "display_data"
    },
    {
     "data": {
      "text/plain": [
       "[stdout:0] Execution time:  23.68376558149521  (ms)\n",
       "369930968.9013001\n"
      ]
     },
     "metadata": {},
     "output_type": "display_data"
    }
   ],
   "source": [
    "%%px\n",
    "@bodo.jit(cache=True)\n",
    "def q6(lineitem):\n",
    "    date1 = \"1996-01-01\"\n",
    "    date2 = \"1997-01-01\"\n",
    "    t1 = time.time()\n",
    "    sel = (\n",
    "        (lineitem.L_SHIPDATE >= date1)\n",
    "        & (lineitem.L_SHIPDATE < date2)\n",
    "        & (lineitem.L_DISCOUNT >= 0.08)\n",
    "        & (lineitem.L_DISCOUNT <= 0.1)\n",
    "        & (lineitem.L_QUANTITY < 24)\n",
    "    )\n",
    "    flineitem = lineitem[sel]\n",
    "    total = (flineitem.L_EXTENDEDPRICE * flineitem.L_DISCOUNT).sum()\n",
    "    print(\"Execution time: \", ((time.time() - t1) * 1000), \" (ms)\")\n",
    "    print(total)\n",
    "    return total\n",
    "\n",
    "q6_result = q6(lineitem)"
   ]
  },
  {
   "cell_type": "markdown",
   "metadata": {},
   "source": [
    "### Q9: Product Type Profit Measure Query\n",
    "This query determines how much profit is made on a given line of parts, broken out by supplier nation and year.\n",
    "\n",
    "Make sure you have run **`load_lineitem`, `load_orders`, `load_part`, `load_nation`, `load_partsupp`, and `load_supplier`** from [loading data section](#loading_data) before running this query."
   ]
  },
  {
   "cell_type": "code",
   "execution_count": 18,
   "metadata": {
    "execution": {
     "iopub.execute_input": "2022-03-11T21:11:05.914658Z",
     "iopub.status.busy": "2022-03-11T21:11:05.914462Z",
     "iopub.status.idle": "2022-03-11T21:11:15.520846Z",
     "shell.execute_reply": "2022-03-11T21:11:15.519917Z",
     "shell.execute_reply.started": "2022-03-11T21:11:05.914640Z"
    },
    "tags": []
   },
   "outputs": [
    {
     "data": {
      "application/vnd.jupyter.widget-view+json": {
       "model_id": "c13521e485ce4d19be1a0c15e2e3b67e",
       "version_major": 2,
       "version_minor": 0
      },
      "text/plain": [
       "%px:   0%|          | 0/16 [00:00<?, ?tasks/s]"
      ]
     },
     "metadata": {},
     "output_type": "display_data"
    },
    {
     "data": {
      "text/plain": [
       "[stdout:9] Empty DataFrame\n",
       "Columns: [N_NAME, O_YEAR, TMP]\n",
       "Index: []\n"
      ]
     },
     "metadata": {},
     "output_type": "display_data"
    },
    {
     "data": {
      "text/plain": [
       "[stdout:4] Empty DataFrame\n",
       "Columns: [N_NAME, O_YEAR, TMP]\n",
       "Index: []\n"
      ]
     },
     "metadata": {},
     "output_type": "display_data"
    },
    {
     "data": {
      "text/plain": [
       "[stdout:6] Empty DataFrame\n",
       "Columns: [N_NAME, O_YEAR, TMP]\n",
       "Index: []\n"
      ]
     },
     "metadata": {},
     "output_type": "display_data"
    },
    {
     "data": {
      "text/plain": [
       "[stdout:11] Empty DataFrame\n",
       "Columns: [N_NAME, O_YEAR, TMP]\n",
       "Index: []\n"
      ]
     },
     "metadata": {},
     "output_type": "display_data"
    },
    {
     "data": {
      "text/plain": [
       "[stdout:14] Empty DataFrame\n",
       "Columns: [N_NAME, O_YEAR, TMP]\n",
       "Index: []\n"
      ]
     },
     "metadata": {},
     "output_type": "display_data"
    },
    {
     "data": {
      "text/plain": [
       "[stdout:15] Empty DataFrame\n",
       "Columns: [N_NAME, O_YEAR, TMP]\n",
       "Index: []\n"
      ]
     },
     "metadata": {},
     "output_type": "display_data"
    },
    {
     "data": {
      "text/plain": [
       "[stdout:1] Empty DataFrame\n",
       "Columns: [N_NAME, O_YEAR, TMP]\n",
       "Index: []\n"
      ]
     },
     "metadata": {},
     "output_type": "display_data"
    },
    {
     "data": {
      "text/plain": [
       "[stdout:3] Empty DataFrame\n",
       "Columns: [N_NAME, O_YEAR, TMP]\n",
       "Index: []\n"
      ]
     },
     "metadata": {},
     "output_type": "display_data"
    },
    {
     "data": {
      "text/plain": [
       "[stdout:10] Empty DataFrame\n",
       "Columns: [N_NAME, O_YEAR, TMP]\n",
       "Index: []\n"
      ]
     },
     "metadata": {},
     "output_type": "display_data"
    },
    {
     "data": {
      "text/plain": [
       "[stdout:0] Execution time:  135.24883105651497  (ms)\n",
       "        N_NAME  O_YEAR           TMP\n",
       "122    ALGERIA    1998  4.214874e+07\n",
       "45     ALGERIA    1997  7.280666e+07\n",
       "27     ALGERIA    1996  7.570428e+07\n",
       "86     ALGERIA    1995  6.956696e+07\n",
       "22     ALGERIA    1994  7.188879e+07\n",
       "93     ALGERIA    1993  7.262307e+07\n",
       "121    ALGERIA    1992  6.948808e+07\n",
       "79   ARGENTINA    1998  4.625133e+07\n",
       "72   ARGENTINA    1997  8.064968e+07\n",
       "167  ARGENTINA    1996  8.366133e+07\n"
      ]
     },
     "metadata": {},
     "output_type": "display_data"
    },
    {
     "data": {
      "text/plain": [
       "[stdout:13] Empty DataFrame\n",
       "Columns: [N_NAME, O_YEAR, TMP]\n",
       "Index: []\n"
      ]
     },
     "metadata": {},
     "output_type": "display_data"
    },
    {
     "data": {
      "text/plain": [
       "[stdout:8] Empty DataFrame\n",
       "Columns: [N_NAME, O_YEAR, TMP]\n",
       "Index: []\n"
      ]
     },
     "metadata": {},
     "output_type": "display_data"
    },
    {
     "data": {
      "text/plain": [
       "[stdout:7] Empty DataFrame\n",
       "Columns: [N_NAME, O_YEAR, TMP]\n",
       "Index: []\n"
      ]
     },
     "metadata": {},
     "output_type": "display_data"
    },
    {
     "data": {
      "text/plain": [
       "[stdout:5] Empty DataFrame\n",
       "Columns: [N_NAME, O_YEAR, TMP]\n",
       "Index: []\n"
      ]
     },
     "metadata": {},
     "output_type": "display_data"
    },
    {
     "data": {
      "text/plain": [
       "[stdout:12] Empty DataFrame\n",
       "Columns: [N_NAME, O_YEAR, TMP]\n",
       "Index: []\n"
      ]
     },
     "metadata": {},
     "output_type": "display_data"
    },
    {
     "data": {
      "text/plain": [
       "[stdout:2] Empty DataFrame\n",
       "Columns: [N_NAME, O_YEAR, TMP]\n",
       "Index: []\n"
      ]
     },
     "metadata": {},
     "output_type": "display_data"
    }
   ],
   "source": [
    "%%px\n",
    "@bodo.jit(cache=True)\n",
    "def q9(lineitem, orders, part, nation, partsupp, supplier):\n",
    "    t1 = time.time()\n",
    "    psel = part.P_NAME.str.contains(\"ghost\")\n",
    "    fpart = part[psel]\n",
    "    jn1 = lineitem.merge(fpart, left_on=\"L_PARTKEY\", right_on=\"P_PARTKEY\")\n",
    "    jn2 = jn1.merge(supplier, left_on=\"L_SUPPKEY\", right_on=\"S_SUPPKEY\")\n",
    "    jn3 = jn2.merge(nation, left_on=\"S_NATIONKEY\", right_on=\"N_NATIONKEY\")\n",
    "    jn4 = partsupp.merge(\n",
    "        jn3, left_on=[\"PS_PARTKEY\", \"PS_SUPPKEY\"], right_on=[\"L_PARTKEY\", \"L_SUPPKEY\"]\n",
    "    )\n",
    "    jn5 = jn4.merge(orders, left_on=\"L_ORDERKEY\", right_on=\"O_ORDERKEY\")\n",
    "    jn5[\"TMP\"] = jn5.L_EXTENDEDPRICE * (1 - jn5.L_DISCOUNT) - (\n",
    "        (1 * jn5.PS_SUPPLYCOST) * jn5.L_QUANTITY\n",
    "    )\n",
    "    jn5[\"O_YEAR\"] = jn5.O_ORDERDATE.dt.year\n",
    "    gb = jn5.groupby([\"N_NAME\", \"O_YEAR\"], as_index=False)[\"TMP\"].sum()\n",
    "    total = gb.sort_values([\"N_NAME\", \"O_YEAR\"], ascending=[True, False])\n",
    "    print(\"Execution time: \", ((time.time() - t1) * 1000), \" (ms)\")\n",
    "    print(total.head(10))\n",
    "    return total.head(10)\n",
    "\n",
    "q9_result = q9(lineitem, orders, part, nation, partsupp, supplier)"
   ]
  },
  {
   "cell_type": "markdown",
   "metadata": {},
   "source": [
    "### Q10: Returned Item Reporting Query\n",
    "This query identifies customers who might be having problems with the parts that are shipped to them.\n",
    "\n",
    "Make sure you have run **`load_lineitem`, `load_orders`, `load_customer`, and `load_nation`** from [loading data section](#loading_data) before running this query."
   ]
  },
  {
   "cell_type": "code",
   "execution_count": 19,
   "metadata": {
    "execution": {
     "iopub.execute_input": "2022-03-11T21:11:15.521761Z",
     "iopub.status.busy": "2022-03-11T21:11:15.521572Z",
     "iopub.status.idle": "2022-03-11T21:11:23.344683Z",
     "shell.execute_reply": "2022-03-11T21:11:23.343892Z",
     "shell.execute_reply.started": "2022-03-11T21:11:15.521741Z"
    },
    "tags": []
   },
   "outputs": [
    {
     "data": {
      "application/vnd.jupyter.widget-view+json": {
       "model_id": "39015c94e1304a7d8bdd6e06c140b4f5",
       "version_major": 2,
       "version_minor": 0
      },
      "text/plain": [
       "%px:   0%|          | 0/16 [00:00<?, ?tasks/s]"
      ]
     },
     "metadata": {},
     "output_type": "display_data"
    },
    {
     "data": {
      "text/plain": [
       "[stdout:9] Empty DataFrame\n",
       "Columns: [C_CUSTKEY, C_NAME, C_ACCTBAL, C_PHONE, N_NAME, C_ADDRESS, C_COMMENT, TMP]\n",
       "Index: []\n"
      ]
     },
     "metadata": {},
     "output_type": "display_data"
    },
    {
     "data": {
      "text/plain": [
       "[stdout:15] Empty DataFrame\n",
       "Columns: [C_CUSTKEY, C_NAME, C_ACCTBAL, C_PHONE, N_NAME, C_ADDRESS, C_COMMENT, TMP]\n",
       "Index: []\n"
      ]
     },
     "metadata": {},
     "output_type": "display_data"
    },
    {
     "data": {
      "text/plain": [
       "[stdout:7] Empty DataFrame\n",
       "Columns: [C_CUSTKEY, C_NAME, C_ACCTBAL, C_PHONE, N_NAME, C_ADDRESS, C_COMMENT, TMP]\n",
       "Index: []\n"
      ]
     },
     "metadata": {},
     "output_type": "display_data"
    },
    {
     "data": {
      "text/plain": [
       "[stdout:14] Empty DataFrame\n",
       "Columns: [C_CUSTKEY, C_NAME, C_ACCTBAL, C_PHONE, N_NAME, C_ADDRESS, C_COMMENT, TMP]\n",
       "Index: []\n"
      ]
     },
     "metadata": {},
     "output_type": "display_data"
    },
    {
     "data": {
      "text/plain": [
       "[stdout:1] Empty DataFrame\n",
       "Columns: [C_CUSTKEY, C_NAME, C_ACCTBAL, C_PHONE, N_NAME, C_ADDRESS, C_COMMENT, TMP]\n",
       "Index: []\n"
      ]
     },
     "metadata": {},
     "output_type": "display_data"
    },
    {
     "data": {
      "text/plain": [
       "[stdout:11] Empty DataFrame\n",
       "Columns: [C_CUSTKEY, C_NAME, C_ACCTBAL, C_PHONE, N_NAME, C_ADDRESS, C_COMMENT, TMP]\n",
       "Index: []\n"
      ]
     },
     "metadata": {},
     "output_type": "display_data"
    },
    {
     "data": {
      "text/plain": [
       "[stdout:6] Empty DataFrame\n",
       "Columns: [C_CUSTKEY, C_NAME, C_ACCTBAL, C_PHONE, N_NAME, C_ADDRESS, C_COMMENT, TMP]\n",
       "Index: []\n"
      ]
     },
     "metadata": {},
     "output_type": "display_data"
    },
    {
     "data": {
      "text/plain": [
       "[stdout:8] Empty DataFrame\n",
       "Columns: [C_CUSTKEY, C_NAME, C_ACCTBAL, C_PHONE, N_NAME, C_ADDRESS, C_COMMENT, TMP]\n",
       "Index: []\n"
      ]
     },
     "metadata": {},
     "output_type": "display_data"
    },
    {
     "data": {
      "text/plain": [
       "[stdout:3] Empty DataFrame\n",
       "Columns: [C_CUSTKEY, C_NAME, C_ACCTBAL, C_PHONE, N_NAME, C_ADDRESS, C_COMMENT, TMP]\n",
       "Index: []\n"
      ]
     },
     "metadata": {},
     "output_type": "display_data"
    },
    {
     "data": {
      "text/plain": [
       "[stdout:4] Empty DataFrame\n",
       "Columns: [C_CUSTKEY, C_NAME, C_ACCTBAL, C_PHONE, N_NAME, C_ADDRESS, C_COMMENT, TMP]\n",
       "Index: []\n"
      ]
     },
     "metadata": {},
     "output_type": "display_data"
    },
    {
     "data": {
      "text/plain": [
       "[stdout:12] Empty DataFrame\n",
       "Columns: [C_CUSTKEY, C_NAME, C_ACCTBAL, C_PHONE, N_NAME, C_ADDRESS, C_COMMENT, TMP]\n",
       "Index: []\n"
      ]
     },
     "metadata": {},
     "output_type": "display_data"
    },
    {
     "data": {
      "text/plain": [
       "[stdout:2] Empty DataFrame\n",
       "Columns: [C_CUSTKEY, C_NAME, C_ACCTBAL, C_PHONE, N_NAME, C_ADDRESS, C_COMMENT, TMP]\n",
       "Index: []\n"
      ]
     },
     "metadata": {},
     "output_type": "display_data"
    },
    {
     "data": {
      "text/plain": [
       "[stdout:10] Empty DataFrame\n",
       "Columns: [C_CUSTKEY, C_NAME, C_ACCTBAL, C_PHONE, N_NAME, C_ADDRESS, C_COMMENT, TMP]\n",
       "Index: []\n"
      ]
     },
     "metadata": {},
     "output_type": "display_data"
    },
    {
     "data": {
      "text/plain": [
       "[stdout:0] Execution time:  126.95406935631581  (ms)\n",
       "       C_CUSTKEY              C_NAME  C_ACCTBAL          C_PHONE  \\\n",
       "1588      202000  Customer#000202000    3155.77  30-860-645-7227   \n",
       "55889     117250  Customer#000117250    8260.39  17-524-241-3788   \n",
       "59921      67172  Customer#000067172    1747.27  21-578-917-6336   \n",
       "28889      87863  Customer#000087863    3105.23  21-393-302-3317   \n",
       "57000     284104  Customer#000284104    2668.71  32-167-107-4631   \n",
       "25252     168475  Customer#000168475    3873.61  21-537-772-3811   \n",
       "10722     217825  Customer#000217825    1753.84  23-765-943-1680   \n",
       "7556      288742  Customer#000288742    6316.82  12-549-320-8899   \n",
       "29454      50281  Customer#000050281    3306.39  25-210-337-8539   \n",
       "45383     159304  Customer#000159304    -342.39  18-681-863-8034   \n",
       "\n",
       "             N_NAME                             C_ADDRESS  \\\n",
       "1588   SAUDI ARABIA                        RITU1eYat8iNeD   \n",
       "55889       GERMANY                2N bS9peD0b5Dr3tf Vbxq   \n",
       "59921          IRAQ  IxhKZyFCzL3Ch5qKOxjvATnj1DT6A6hnXNVH   \n",
       "28889          IRAQ                      pzMIGld2L1N2RjI8   \n",
       "57000        RUSSIA             ZyqUNCEiF3G1E7nmKPBnf Uzk   \n",
       "25252          IRAQ                 eaNNmHamiNHcgWKyiMqMP   \n",
       "10722        JORDAN        VQGXiCNltZCst5bep2T62ODXANsLYm   \n",
       "7556         BRAZIL  zy3eDgxy33rL5umYEGUShZjScaR0uhlpaLwI   \n",
       "29454       MOROCCO              G2Tb39F1Fz2 upMhG7EpGJMu   \n",
       "45383         INDIA                  NNDLOnfKDE9OEd96gOrw   \n",
       "\n",
       "                                               C_COMMENT          TMP  \n",
       "1588   arls. unusual sauternes boost along the even d...  755353.7227  \n",
       "55889  l theodolites. slyly even decoys after the fur...  724785.0804  \n",
       "59921  e furiously of the quickly regular requests. f...  710060.3908  \n",
       "28889  ckages. carefully close instructions sleep qui...  670339.9103  \n",
       "57000  ages haggle blithely along the ironic deposits...  658410.5580  \n",
       "25252  ular dolphins. unusual deposits haggle pending...  653657.0433  \n",
       "10722  thely final deposits: carefully even accounts ...  652603.2797  \n",
       "7556                  ideas? ironic, ironic packages sle  641153.5757  \n",
       "29454  ests. slyly express requests doubt fluffily ev...  640923.7708  \n",
       "45383  nic platelets cajole: furiously bold dinos nag...  631296.2304  \n"
      ]
     },
     "metadata": {},
     "output_type": "display_data"
    },
    {
     "data": {
      "text/plain": [
       "[stdout:5] Empty DataFrame\n",
       "Columns: [C_CUSTKEY, C_NAME, C_ACCTBAL, C_PHONE, N_NAME, C_ADDRESS, C_COMMENT, TMP]\n",
       "Index: []\n"
      ]
     },
     "metadata": {},
     "output_type": "display_data"
    },
    {
     "data": {
      "text/plain": [
       "[stdout:13] Empty DataFrame\n",
       "Columns: [C_CUSTKEY, C_NAME, C_ACCTBAL, C_PHONE, N_NAME, C_ADDRESS, C_COMMENT, TMP]\n",
       "Index: []\n"
      ]
     },
     "metadata": {},
     "output_type": "display_data"
    }
   ],
   "source": [
    "%%px\n",
    "@bodo.jit(cache=True)\n",
    "def q10(lineitem, orders, customer, nation):\n",
    "    date1 = \"1994-11-01\"\n",
    "    date2 = \"1995-02-01\"\n",
    "    t1 = time.time()\n",
    "    osel = (orders.O_ORDERDATE >= date1) & (orders.O_ORDERDATE < date2)\n",
    "    lsel = lineitem.L_RETURNFLAG == \"R\"\n",
    "    forders = orders[osel]\n",
    "    flineitem = lineitem[lsel]\n",
    "    jn1 = flineitem.merge(forders, left_on=\"L_ORDERKEY\", right_on=\"O_ORDERKEY\")\n",
    "    jn2 = jn1.merge(customer, left_on=\"O_CUSTKEY\", right_on=\"C_CUSTKEY\")\n",
    "    jn3 = jn2.merge(nation, left_on=\"C_NATIONKEY\", right_on=\"N_NATIONKEY\")\n",
    "    jn3[\"TMP\"] = jn3.L_EXTENDEDPRICE * (1.0 - jn3.L_DISCOUNT)\n",
    "    gb = jn3.groupby(\n",
    "        [\n",
    "            \"C_CUSTKEY\",\n",
    "            \"C_NAME\",\n",
    "            \"C_ACCTBAL\",\n",
    "            \"C_PHONE\",\n",
    "            \"N_NAME\",\n",
    "            \"C_ADDRESS\",\n",
    "            \"C_COMMENT\",\n",
    "        ],\n",
    "        as_index=False,\n",
    "    )[\"TMP\"].sum()\n",
    "    total = gb.sort_values(\"TMP\", ascending=False)\n",
    "    print(\"Execution time: \", ((time.time() - t1) * 1000), \" (ms)\")\n",
    "    print(total.head(10))\n",
    "    return total.head(10)\n",
    "\n",
    "q10_result = q10(lineitem, orders, customer, nation)"
   ]
  },
  {
   "cell_type": "markdown",
   "metadata": {},
   "source": [
    "### Q12: Shipping Modes and Order Priority Query\n",
    "This query determines whether selecting less expensive modes of shipping is negatively affecting the critical-priority orders by causing more parts to be received by customers after the committed date.\n",
    "\n",
    "Make sure you have run **`load_lineitem` and `load_orders`** from [loading data section](#loading_data) before running this query."
   ]
  },
  {
   "cell_type": "code",
   "execution_count": 20,
   "metadata": {
    "execution": {
     "iopub.execute_input": "2022-03-11T21:11:23.345394Z",
     "iopub.status.busy": "2022-03-11T21:11:23.345247Z",
     "iopub.status.idle": "2022-03-11T21:11:34.547582Z",
     "shell.execute_reply": "2022-03-11T21:11:34.547176Z",
     "shell.execute_reply.started": "2022-03-11T21:11:23.345375Z"
    },
    "tags": []
   },
   "outputs": [
    {
     "data": {
      "application/vnd.jupyter.widget-view+json": {
       "model_id": "63213a53b93f46a0a57df2fa7b7afe0a",
       "version_major": 2,
       "version_minor": 0
      },
      "text/plain": [
       "%px:   0%|          | 0/16 [00:00<?, ?tasks/s]"
      ]
     },
     "metadata": {},
     "output_type": "display_data"
    },
    {
     "data": {
      "text/plain": [
       "[stdout:0] Execution time:  113.19822869893414  (ms)\n",
       "  L_SHIPMODE     g1     g2\n",
       "0       MAIL  12354  18548\n",
       "1       SHIP  12430  18644\n"
      ]
     },
     "metadata": {},
     "output_type": "display_data"
    },
    {
     "data": {
      "text/plain": [
       "[stdout:9] Empty DataFrame\n",
       "Columns: [L_SHIPMODE, g1, g2]\n",
       "Index: []\n"
      ]
     },
     "metadata": {},
     "output_type": "display_data"
    },
    {
     "data": {
      "text/plain": [
       "[stdout:13] Empty DataFrame\n",
       "Columns: [L_SHIPMODE, g1, g2]\n",
       "Index: []\n"
      ]
     },
     "metadata": {},
     "output_type": "display_data"
    },
    {
     "data": {
      "text/plain": [
       "[stdout:8] Empty DataFrame\n",
       "Columns: [L_SHIPMODE, g1, g2]\n",
       "Index: []\n"
      ]
     },
     "metadata": {},
     "output_type": "display_data"
    },
    {
     "data": {
      "text/plain": [
       "[stdout:15] Empty DataFrame\n",
       "Columns: [L_SHIPMODE, g1, g2]\n",
       "Index: []\n"
      ]
     },
     "metadata": {},
     "output_type": "display_data"
    },
    {
     "data": {
      "text/plain": [
       "[stdout:10] Empty DataFrame\n",
       "Columns: [L_SHIPMODE, g1, g2]\n",
       "Index: []\n"
      ]
     },
     "metadata": {},
     "output_type": "display_data"
    },
    {
     "data": {
      "text/plain": [
       "[stdout:2] Empty DataFrame\n",
       "Columns: [L_SHIPMODE, g1, g2]\n",
       "Index: []\n"
      ]
     },
     "metadata": {},
     "output_type": "display_data"
    },
    {
     "data": {
      "text/plain": [
       "[stdout:3] Empty DataFrame\n",
       "Columns: [L_SHIPMODE, g1, g2]\n",
       "Index: []\n"
      ]
     },
     "metadata": {},
     "output_type": "display_data"
    },
    {
     "data": {
      "text/plain": [
       "[stdout:6] Empty DataFrame\n",
       "Columns: [L_SHIPMODE, g1, g2]\n",
       "Index: []\n"
      ]
     },
     "metadata": {},
     "output_type": "display_data"
    },
    {
     "data": {
      "text/plain": [
       "[stdout:1] Empty DataFrame\n",
       "Columns: [L_SHIPMODE, g1, g2]\n",
       "Index: []\n"
      ]
     },
     "metadata": {},
     "output_type": "display_data"
    },
    {
     "data": {
      "text/plain": [
       "[stdout:4] Empty DataFrame\n",
       "Columns: [L_SHIPMODE, g1, g2]\n",
       "Index: []\n"
      ]
     },
     "metadata": {},
     "output_type": "display_data"
    },
    {
     "data": {
      "text/plain": [
       "[stdout:7] Empty DataFrame\n",
       "Columns: [L_SHIPMODE, g1, g2]\n",
       "Index: []\n"
      ]
     },
     "metadata": {},
     "output_type": "display_data"
    },
    {
     "data": {
      "text/plain": [
       "[stdout:14] Empty DataFrame\n",
       "Columns: [L_SHIPMODE, g1, g2]\n",
       "Index: []\n"
      ]
     },
     "metadata": {},
     "output_type": "display_data"
    },
    {
     "data": {
      "text/plain": [
       "[stdout:11] Empty DataFrame\n",
       "Columns: [L_SHIPMODE, g1, g2]\n",
       "Index: []\n"
      ]
     },
     "metadata": {},
     "output_type": "display_data"
    },
    {
     "data": {
      "text/plain": [
       "[stdout:12] Empty DataFrame\n",
       "Columns: [L_SHIPMODE, g1, g2]\n",
       "Index: []\n"
      ]
     },
     "metadata": {},
     "output_type": "display_data"
    },
    {
     "data": {
      "text/plain": [
       "[stdout:5] Empty DataFrame\n",
       "Columns: [L_SHIPMODE, g1, g2]\n",
       "Index: []\n"
      ]
     },
     "metadata": {},
     "output_type": "display_data"
    }
   ],
   "source": [
    "%%px\n",
    "@bodo.jit(cache=True)\n",
    "def q12(lineitem, orders):\n",
    "    date1 = \"1994-01-01\"\n",
    "    date2 = \"1995-01-01\"\n",
    "    t1 = time.time()\n",
    "    sel = (\n",
    "        (lineitem.L_RECEIPTDATE < date2)\n",
    "        & (lineitem.L_COMMITDATE < date2)\n",
    "        & (lineitem.L_SHIPDATE < date2)\n",
    "        & (lineitem.L_SHIPDATE < lineitem.L_COMMITDATE)\n",
    "        & (lineitem.L_COMMITDATE < lineitem.L_RECEIPTDATE)\n",
    "        & (lineitem.L_RECEIPTDATE >= date1)\n",
    "        & ((lineitem.L_SHIPMODE == \"MAIL\") | (lineitem.L_SHIPMODE == \"SHIP\"))\n",
    "    )\n",
    "    flineitem = lineitem[sel]\n",
    "    jn = flineitem.merge(orders, left_on=\"L_ORDERKEY\", right_on=\"O_ORDERKEY\")\n",
    "\n",
    "    def g1(x):\n",
    "        return ((x == \"1-URGENT\") | (x == \"2-HIGH\")).sum()\n",
    "\n",
    "    def g2(x):\n",
    "        return ((x != \"1-URGENT\") & (x != \"2-HIGH\")).sum()\n",
    "\n",
    "    total = jn.groupby(\"L_SHIPMODE\", as_index=False)[\"O_ORDERPRIORITY\"].agg((g1, g2))\n",
    "    total = total.sort_values(\"L_SHIPMODE\")\n",
    "    print(\"Execution time: \", ((time.time() - t1) * 1000), \" (ms)\")\n",
    "    print(total.head(10))\n",
    "    return total.head(10)\n",
    "\n",
    "q12_result = q12(lineitem, orders)"
   ]
  },
  {
   "cell_type": "markdown",
   "metadata": {},
   "source": [
    "### Q14: Promotion Effect Query\n",
    "This query monitors the market response to a promotion such as TV advertisements or a special campaign.\n",
    "\n",
    "Make sure you have run **`load_lineitem`** and **`load_part`** from [loading data section](#loading_data) before running this query."
   ]
  },
  {
   "cell_type": "code",
   "execution_count": 21,
   "metadata": {
    "execution": {
     "iopub.execute_input": "2022-03-11T21:11:34.548690Z",
     "iopub.status.busy": "2022-03-11T21:11:34.548485Z",
     "iopub.status.idle": "2022-03-11T21:11:39.220652Z",
     "shell.execute_reply": "2022-03-11T21:11:39.219717Z",
     "shell.execute_reply.started": "2022-03-11T21:11:34.548671Z"
    },
    "tags": []
   },
   "outputs": [
    {
     "data": {
      "application/vnd.jupyter.widget-view+json": {
       "model_id": "1bb85a8dba0f4eaab5d9fcc81ca87ac3",
       "version_major": 2,
       "version_minor": 0
      },
      "text/plain": [
       "%px:   0%|          | 0/16 [00:00<?, ?tasks/s]"
      ]
     },
     "metadata": {},
     "output_type": "display_data"
    },
    {
     "data": {
      "text/plain": [
       "[stdout:0] Execution time:  37.17108614659992  (ms)\n",
       "16.545810644547483\n"
      ]
     },
     "metadata": {},
     "output_type": "display_data"
    }
   ],
   "source": [
    "%%px\n",
    "@bodo.jit(cache=True)\n",
    "def q14(lineitem, part):\n",
    "    startDate = \"1994-03-01\"\n",
    "    endDate = \"1994-04-01\"\n",
    "    p_type_like = \"PROMO\"\n",
    "    t1 = time.time()\n",
    "    sel = (lineitem.L_SHIPDATE >= startDate) & (lineitem.L_SHIPDATE < endDate)\n",
    "    flineitem = lineitem[sel]\n",
    "    jn = flineitem.merge(part, left_on=\"L_PARTKEY\", right_on=\"P_PARTKEY\")\n",
    "    jn[\"TMP\"] = jn.L_EXTENDEDPRICE * (1.0 - jn.L_DISCOUNT)\n",
    "    total = jn[jn.P_TYPE.str.startswith(p_type_like)].TMP.sum() * 100 / jn.TMP.sum()\n",
    "    print(\"Execution time: \", ((time.time() - t1) * 1000), \" (ms)\")\n",
    "    print(total)\n",
    "    return total\n",
    "\n",
    "q14_result = q14(lineitem, part)"
   ]
  },
  {
   "cell_type": "markdown",
   "metadata": {},
   "source": [
    "### Q18: Large Volume Customer Query\n",
    "This query ranks customers based on their having placed a large quantity order. Large quantity orders are defined as those orders whose total quantity is above a certain level.\n",
    "\n",
    "Make sure you have run **`load_lineitem`, `load_orders`, and `load_customer`** from [loading data section](#loading_data) before running this query."
   ]
  },
  {
   "cell_type": "code",
   "execution_count": 22,
   "metadata": {
    "execution": {
     "iopub.execute_input": "2022-03-11T21:11:39.221402Z",
     "iopub.status.busy": "2022-03-11T21:11:39.221200Z",
     "iopub.status.idle": "2022-03-11T21:11:43.182142Z",
     "shell.execute_reply": "2022-03-11T21:11:43.181724Z",
     "shell.execute_reply.started": "2022-03-11T21:11:39.221382Z"
    },
    "tags": []
   },
   "outputs": [
    {
     "data": {
      "application/vnd.jupyter.widget-view+json": {
       "model_id": "17c18a931fc143e28ffb8607216cfd63",
       "version_major": 2,
       "version_minor": 0
      },
      "text/plain": [
       "%px:   0%|          | 0/16 [00:00<?, ?tasks/s]"
      ]
     },
     "metadata": {},
     "output_type": "display_data"
    },
    {
     "data": {
      "text/plain": [
       "[stdout:1]                 C_NAME  C_CUSTKEY  O_ORDERKEY O_ORDERDATE  O_TOTALPRICE  \\\n",
       "95  Customer#000176644     176644    10889601  1992-05-22     513824.71   \n",
       "57  Customer#000258475     258475     7125602  1994-07-08     509018.85   \n",
       "\n",
       "    L_QUANTITY  \n",
       "95       306.0  \n",
       "57       301.0  \n"
      ]
     },
     "metadata": {},
     "output_type": "display_data"
    },
    {
     "data": {
      "text/plain": [
       "[stdout:6] Empty DataFrame\n",
       "Columns: [C_NAME, C_CUSTKEY, O_ORDERKEY, O_ORDERDATE, O_TOTALPRICE, L_QUANTITY]\n",
       "Index: []\n"
      ]
     },
     "metadata": {},
     "output_type": "display_data"
    },
    {
     "data": {
      "text/plain": [
       "[stdout:0] Execution time:  86.2612184300815  (ms)\n",
       "                 C_NAME  C_CUSTKEY  O_ORDERKEY O_ORDERDATE  O_TOTALPRICE  \\\n",
       "113  Customer#000256240     256240     4722021  1994-04-07     543948.47   \n",
       "47   Customer#000192203     192203     5984582  1992-03-16     539085.20   \n",
       "4    Customer#000273004     273004    11785570  1996-07-18     535097.55   \n",
       "67   Customer#000198385     198385     8574884  1992-07-04     530902.09   \n",
       "88   Customer#000186325     186325     9436480  1992-05-22     523925.49   \n",
       "99   Customer#000048682      48682     1474818  1992-11-15     522718.60   \n",
       "61   Customer#000027880      27880     2232932  1997-04-13     519887.44   \n",
       "52   Customer#000082297      82297     8231942  1993-02-06     516398.50   \n",
       "\n",
       "     L_QUANTITY  \n",
       "113       323.0  \n",
       "47        312.0  \n",
       "4         303.0  \n",
       "67        308.0  \n",
       "88        311.0  \n",
       "99        302.0  \n",
       "61        304.0  \n",
       "52        302.0  \n"
      ]
     },
     "metadata": {},
     "output_type": "display_data"
    },
    {
     "data": {
      "text/plain": [
       "[stdout:8] Empty DataFrame\n",
       "Columns: [C_NAME, C_CUSTKEY, O_ORDERKEY, O_ORDERDATE, O_TOTALPRICE, L_QUANTITY]\n",
       "Index: []\n"
      ]
     },
     "metadata": {},
     "output_type": "display_data"
    },
    {
     "data": {
      "text/plain": [
       "[stdout:7] Empty DataFrame\n",
       "Columns: [C_NAME, C_CUSTKEY, O_ORDERKEY, O_ORDERDATE, O_TOTALPRICE, L_QUANTITY]\n",
       "Index: []\n"
      ]
     },
     "metadata": {},
     "output_type": "display_data"
    },
    {
     "data": {
      "text/plain": [
       "[stdout:13] Empty DataFrame\n",
       "Columns: [C_NAME, C_CUSTKEY, O_ORDERKEY, O_ORDERDATE, O_TOTALPRICE, L_QUANTITY]\n",
       "Index: []\n"
      ]
     },
     "metadata": {},
     "output_type": "display_data"
    },
    {
     "data": {
      "text/plain": [
       "[stdout:9] Empty DataFrame\n",
       "Columns: [C_NAME, C_CUSTKEY, O_ORDERKEY, O_ORDERDATE, O_TOTALPRICE, L_QUANTITY]\n",
       "Index: []\n"
      ]
     },
     "metadata": {},
     "output_type": "display_data"
    },
    {
     "data": {
      "text/plain": [
       "[stdout:15] Empty DataFrame\n",
       "Columns: [C_NAME, C_CUSTKEY, O_ORDERKEY, O_ORDERDATE, O_TOTALPRICE, L_QUANTITY]\n",
       "Index: []\n"
      ]
     },
     "metadata": {},
     "output_type": "display_data"
    },
    {
     "data": {
      "text/plain": [
       "[stdout:4] Empty DataFrame\n",
       "Columns: [C_NAME, C_CUSTKEY, O_ORDERKEY, O_ORDERDATE, O_TOTALPRICE, L_QUANTITY]\n",
       "Index: []\n"
      ]
     },
     "metadata": {},
     "output_type": "display_data"
    },
    {
     "data": {
      "text/plain": [
       "[stdout:3] Empty DataFrame\n",
       "Columns: [C_NAME, C_CUSTKEY, O_ORDERKEY, O_ORDERDATE, O_TOTALPRICE, L_QUANTITY]\n",
       "Index: []\n"
      ]
     },
     "metadata": {},
     "output_type": "display_data"
    },
    {
     "data": {
      "text/plain": [
       "[stdout:11] Empty DataFrame\n",
       "Columns: [C_NAME, C_CUSTKEY, O_ORDERKEY, O_ORDERDATE, O_TOTALPRICE, L_QUANTITY]\n",
       "Index: []\n"
      ]
     },
     "metadata": {},
     "output_type": "display_data"
    },
    {
     "data": {
      "text/plain": [
       "[stdout:14] Empty DataFrame\n",
       "Columns: [C_NAME, C_CUSTKEY, O_ORDERKEY, O_ORDERDATE, O_TOTALPRICE, L_QUANTITY]\n",
       "Index: []\n"
      ]
     },
     "metadata": {},
     "output_type": "display_data"
    },
    {
     "data": {
      "text/plain": [
       "[stdout:10] Empty DataFrame\n",
       "Columns: [C_NAME, C_CUSTKEY, O_ORDERKEY, O_ORDERDATE, O_TOTALPRICE, L_QUANTITY]\n",
       "Index: []\n"
      ]
     },
     "metadata": {},
     "output_type": "display_data"
    },
    {
     "data": {
      "text/plain": [
       "[stdout:2] Empty DataFrame\n",
       "Columns: [C_NAME, C_CUSTKEY, O_ORDERKEY, O_ORDERDATE, O_TOTALPRICE, L_QUANTITY]\n",
       "Index: []\n"
      ]
     },
     "metadata": {},
     "output_type": "display_data"
    },
    {
     "data": {
      "text/plain": [
       "[stdout:12] Empty DataFrame\n",
       "Columns: [C_NAME, C_CUSTKEY, O_ORDERKEY, O_ORDERDATE, O_TOTALPRICE, L_QUANTITY]\n",
       "Index: []\n"
      ]
     },
     "metadata": {},
     "output_type": "display_data"
    },
    {
     "data": {
      "text/plain": [
       "[stdout:5] Empty DataFrame\n",
       "Columns: [C_NAME, C_CUSTKEY, O_ORDERKEY, O_ORDERDATE, O_TOTALPRICE, L_QUANTITY]\n",
       "Index: []\n"
      ]
     },
     "metadata": {},
     "output_type": "display_data"
    }
   ],
   "source": [
    "%%px\n",
    "@bodo.jit(cache=True)\n",
    "def q18(lineitem, orders, customer):\n",
    "    t1 = time.time()\n",
    "    gb1 = lineitem.groupby(\"L_ORDERKEY\", as_index=False)[\"L_QUANTITY\"].sum()\n",
    "    fgb1 = gb1[gb1.L_QUANTITY > 300]\n",
    "    jn1 = fgb1.merge(orders, left_on=\"L_ORDERKEY\", right_on=\"O_ORDERKEY\")\n",
    "    jn2 = jn1.merge(customer, left_on=\"O_CUSTKEY\", right_on=\"C_CUSTKEY\")\n",
    "    gb2 = jn2.groupby(\n",
    "        [\"C_NAME\", \"C_CUSTKEY\", \"O_ORDERKEY\", \"O_ORDERDATE\", \"O_TOTALPRICE\"],\n",
    "        as_index=False,\n",
    "    )[\"L_QUANTITY\"].sum()\n",
    "    total = gb2.sort_values([\"O_TOTALPRICE\", \"O_ORDERDATE\"], ascending=[False, True])\n",
    "    print(\"Execution time: \", ((time.time() - t1) * 1000), \" (ms)\")\n",
    "    print(total.head(10))\n",
    "    return total.head(10)\n",
    "\n",
    "q18_result = q18(lineitem, orders, customer)"
   ]
  },
  {
   "cell_type": "markdown",
   "metadata": {},
   "source": [
    "### Q19: Discounted Revenue Query\n",
    "This query reports the gross discounted revenue attributed to the sale of selected parts handled in a particular manner.\n",
    "\n",
    "Make sure you have run **`load_lineitem`** and **`load_part`** from [loading data section](#loading_data) before running this query."
   ]
  },
  {
   "cell_type": "code",
   "execution_count": 23,
   "metadata": {
    "execution": {
     "iopub.execute_input": "2022-03-11T21:11:43.182994Z",
     "iopub.status.busy": "2022-03-11T21:11:43.182710Z",
     "iopub.status.idle": "2022-03-11T21:13:07.913825Z",
     "shell.execute_reply": "2022-03-11T21:13:07.913071Z",
     "shell.execute_reply.started": "2022-03-11T21:11:43.182975Z"
    },
    "tags": []
   },
   "outputs": [
    {
     "data": {
      "application/vnd.jupyter.widget-view+json": {
       "model_id": "4e157fe37e0346ab9aa860b4ad5ef1c4",
       "version_major": 2,
       "version_minor": 0
      },
      "text/plain": [
       "%px:   0%|          | 0/16 [00:00<?, ?tasks/s]"
      ]
     },
     "metadata": {},
     "output_type": "display_data"
    },
    {
     "data": {
      "text/plain": [
       "[stdout:0] Execution time:  94.34347352487293  (ms)\n",
       "7178285.3134\n"
      ]
     },
     "metadata": {},
     "output_type": "display_data"
    }
   ],
   "source": [
    "%%px\n",
    "@bodo.jit(cache=True)\n",
    "def q19(lineitem, part):\n",
    "    Brand31 = \"Brand#31\"\n",
    "    Brand43 = \"Brand#43\"\n",
    "    SMBOX = \"SM BOX\"\n",
    "    SMCASE = \"SM CASE\"\n",
    "    SMPACK = \"SM PACK\"\n",
    "    SMPKG = \"SM PKG\"\n",
    "    MEDBAG = \"MED BAG\"\n",
    "    MEDBOX = \"MED BOX\"\n",
    "    MEDPACK = \"MED PACK\"\n",
    "    MEDPKG = \"MED PKG\"\n",
    "    LGBOX = \"LG BOX\"\n",
    "    LGCASE = \"LG CASE\"\n",
    "    LGPACK = \"LG PACK\"\n",
    "    LGPKG = \"LG PKG\"\n",
    "    DELIVERINPERSON = \"DELIVER IN PERSON\"\n",
    "    AIR = \"AIR\"\n",
    "    AIRREG = \"AIRREG\"\n",
    "    t1 = time.time()\n",
    "    lsel = (\n",
    "        (\n",
    "            ((lineitem.L_QUANTITY <= 36) & (lineitem.L_QUANTITY >= 26))\n",
    "            | ((lineitem.L_QUANTITY <= 25) & (lineitem.L_QUANTITY >= 15))\n",
    "            | ((lineitem.L_QUANTITY <= 14) & (lineitem.L_QUANTITY >= 4))\n",
    "        )\n",
    "        & (lineitem.L_SHIPINSTRUCT == DELIVERINPERSON)\n",
    "        & ((lineitem.L_SHIPMODE == AIR) | (lineitem.L_SHIPMODE == AIRREG))\n",
    "    )\n",
    "    psel = (part.P_SIZE >= 1) & (\n",
    "        (\n",
    "            (part.P_SIZE <= 5)\n",
    "            & (part.P_BRAND == Brand31)\n",
    "            & (\n",
    "                (part.P_CONTAINER == SMBOX)\n",
    "                | (part.P_CONTAINER == SMCASE)\n",
    "                | (part.P_CONTAINER == SMPACK)\n",
    "                | (part.P_CONTAINER == SMPKG)\n",
    "            )\n",
    "        )\n",
    "        | (\n",
    "            (part.P_SIZE <= 10)\n",
    "            & (part.P_BRAND == Brand43)\n",
    "            & (\n",
    "                (part.P_CONTAINER == MEDBAG)\n",
    "                | (part.P_CONTAINER == MEDBOX)\n",
    "                | (part.P_CONTAINER == MEDPACK)\n",
    "                | (part.P_CONTAINER == MEDPKG)\n",
    "            )\n",
    "        )\n",
    "        | (\n",
    "            (part.P_SIZE <= 15)\n",
    "            & (part.P_BRAND == Brand43)\n",
    "            & (\n",
    "                (part.P_CONTAINER == LGBOX)\n",
    "                | (part.P_CONTAINER == LGCASE)\n",
    "                | (part.P_CONTAINER == LGPACK)\n",
    "                | (part.P_CONTAINER == LGPKG)\n",
    "            )\n",
    "        )\n",
    "    )\n",
    "    flineitem = lineitem[lsel]\n",
    "    fpart = part[psel]\n",
    "    jn = flineitem.merge(fpart, left_on=\"L_PARTKEY\", right_on=\"P_PARTKEY\")\n",
    "    jnsel = (\n",
    "        (jn.P_BRAND == Brand31)\n",
    "        & (\n",
    "            (jn.P_CONTAINER == SMBOX)\n",
    "            | (jn.P_CONTAINER == SMCASE)\n",
    "            | (jn.P_CONTAINER == SMPACK)\n",
    "            | (jn.P_CONTAINER == SMPKG)\n",
    "        )\n",
    "        & (jn.L_QUANTITY >= 4)\n",
    "        & (jn.L_QUANTITY <= 14)\n",
    "        & (jn.P_SIZE <= 5)\n",
    "        | (jn.P_BRAND == Brand43)\n",
    "        & (\n",
    "            (jn.P_CONTAINER == MEDBAG)\n",
    "            | (jn.P_CONTAINER == MEDBOX)\n",
    "            | (jn.P_CONTAINER == MEDPACK)\n",
    "            | (jn.P_CONTAINER == MEDPKG)\n",
    "        )\n",
    "        & (jn.L_QUANTITY >= 15)\n",
    "        & (jn.L_QUANTITY <= 25)\n",
    "        & (jn.P_SIZE <= 10)\n",
    "        | (jn.P_BRAND == Brand43)\n",
    "        & (\n",
    "            (jn.P_CONTAINER == LGBOX)\n",
    "            | (jn.P_CONTAINER == LGCASE)\n",
    "            | (jn.P_CONTAINER == LGPACK)\n",
    "            | (jn.P_CONTAINER == LGPKG)\n",
    "        )\n",
    "        & (jn.L_QUANTITY >= 26)\n",
    "        & (jn.L_QUANTITY <= 36)\n",
    "        & (jn.P_SIZE <= 15)\n",
    "    )\n",
    "    jn = jn[jnsel]\n",
    "    total = (jn.L_EXTENDEDPRICE * (1.0 - jn.L_DISCOUNT)).sum()\n",
    "    print(\"Execution time: \", ((time.time() - t1) * 1000), \" (ms)\")\n",
    "    print(total)\n",
    "    return total\n",
    "\n",
    "q19_result = q19(lineitem, part)"
   ]
  },
  {
   "cell_type": "markdown",
   "metadata": {},
   "source": [
    "### Q20: Potential Part Promotion Query\n",
    "This query identifies suppliers in a particular nation having selected parts that may be candidates for a promotional offer.\n",
    "\n",
    "Make sure you have run **`load_lineitem`, `load_part`, `load_nation`, `load_partsupp`, and `load_supplier`** from [loading data section](#loading_data) before running this query."
   ]
  },
  {
   "cell_type": "code",
   "execution_count": 24,
   "metadata": {
    "execution": {
     "iopub.execute_input": "2022-03-11T21:13:07.914515Z",
     "iopub.status.busy": "2022-03-11T21:13:07.914318Z",
     "iopub.status.idle": "2022-03-11T21:13:15.320065Z",
     "shell.execute_reply": "2022-03-11T21:13:15.319154Z",
     "shell.execute_reply.started": "2022-03-11T21:13:07.914495Z"
    },
    "tags": []
   },
   "outputs": [
    {
     "data": {
      "application/vnd.jupyter.widget-view+json": {
       "model_id": "12a88679ec4845d1b8c8a9fa7b0cb70c",
       "version_major": 2,
       "version_minor": 0
      },
      "text/plain": [
       "%px:   0%|          | 0/16 [00:00<?, ?tasks/s]"
      ]
     },
     "metadata": {},
     "output_type": "display_data"
    },
    {
     "data": {
      "text/plain": [
       "[stdout:13] Empty DataFrame\n",
       "Columns: [S_NAME, S_ADDRESS]\n",
       "Index: []\n"
      ]
     },
     "metadata": {},
     "output_type": "display_data"
    },
    {
     "data": {
      "text/plain": [
       "[stdout:15] Empty DataFrame\n",
       "Columns: [S_NAME, S_ADDRESS]\n",
       "Index: []\n"
      ]
     },
     "metadata": {},
     "output_type": "display_data"
    },
    {
     "data": {
      "text/plain": [
       "[stdout:5] Empty DataFrame\n",
       "Columns: [S_NAME, S_ADDRESS]\n",
       "Index: []\n"
      ]
     },
     "metadata": {},
     "output_type": "display_data"
    },
    {
     "data": {
      "text/plain": [
       "[stdout:1] Empty DataFrame\n",
       "Columns: [S_NAME, S_ADDRESS]\n",
       "Index: []\n"
      ]
     },
     "metadata": {},
     "output_type": "display_data"
    },
    {
     "data": {
      "text/plain": [
       "[stdout:4] Empty DataFrame\n",
       "Columns: [S_NAME, S_ADDRESS]\n",
       "Index: []\n"
      ]
     },
     "metadata": {},
     "output_type": "display_data"
    },
    {
     "data": {
      "text/plain": [
       "[stdout:6] Empty DataFrame\n",
       "Columns: [S_NAME, S_ADDRESS]\n",
       "Index: []\n"
      ]
     },
     "metadata": {},
     "output_type": "display_data"
    },
    {
     "data": {
      "text/plain": [
       "[stdout:9] Empty DataFrame\n",
       "Columns: [S_NAME, S_ADDRESS]\n",
       "Index: []\n"
      ]
     },
     "metadata": {},
     "output_type": "display_data"
    },
    {
     "data": {
      "text/plain": [
       "[stdout:8] Empty DataFrame\n",
       "Columns: [S_NAME, S_ADDRESS]\n",
       "Index: []\n"
      ]
     },
     "metadata": {},
     "output_type": "display_data"
    },
    {
     "data": {
      "text/plain": [
       "[stdout:7] Empty DataFrame\n",
       "Columns: [S_NAME, S_ADDRESS]\n",
       "Index: []\n"
      ]
     },
     "metadata": {},
     "output_type": "display_data"
    },
    {
     "data": {
      "text/plain": [
       "[stdout:0] Execution time:  50.637979261296096  (ms)\n",
       "                 S_NAME                                S_ADDRESS\n",
       "394  Supplier#000001292  Bjfw20ywjwGEY3zRv9OAS 63rqoRObND1etPnUf\n",
       "358  Supplier#000002583                           Gr6WrUG9mY0Yy9\n",
       "374  Supplier#000002777                         DC 0LAoxgBs VJX4\n",
       "124  Supplier#000003307                             ij6rKFRJjQGU\n",
       "412  Supplier#000004692                         BxHrGZnE9Ri3jgvv\n",
       "247  Supplier#000004778                    NFVxKobRQOHN B1O0U7U,\n",
       "330  Supplier#000005444                ttSBo mkJ68fIyI1oulQslNrq\n",
       "100  Supplier#000005991       jFAkBBG3JDqoH8nIXUZGn OzkVVfW6YsNh\n",
       "286  Supplier#000006931                 7webcEwedomtstU0Ktsz8Gu4\n",
       "283  Supplier#000006991              R02DHSUDD4KwLdc6EwZLR77JKdh\n"
      ]
     },
     "metadata": {},
     "output_type": "display_data"
    },
    {
     "data": {
      "text/plain": [
       "[stdout:2] Empty DataFrame\n",
       "Columns: [S_NAME, S_ADDRESS]\n",
       "Index: []\n"
      ]
     },
     "metadata": {},
     "output_type": "display_data"
    },
    {
     "data": {
      "text/plain": [
       "[stdout:3] Empty DataFrame\n",
       "Columns: [S_NAME, S_ADDRESS]\n",
       "Index: []\n"
      ]
     },
     "metadata": {},
     "output_type": "display_data"
    },
    {
     "data": {
      "text/plain": [
       "[stdout:14] Empty DataFrame\n",
       "Columns: [S_NAME, S_ADDRESS]\n",
       "Index: []\n"
      ]
     },
     "metadata": {},
     "output_type": "display_data"
    },
    {
     "data": {
      "text/plain": [
       "[stdout:11] Empty DataFrame\n",
       "Columns: [S_NAME, S_ADDRESS]\n",
       "Index: []\n"
      ]
     },
     "metadata": {},
     "output_type": "display_data"
    },
    {
     "data": {
      "text/plain": [
       "[stdout:10] Empty DataFrame\n",
       "Columns: [S_NAME, S_ADDRESS]\n",
       "Index: []\n"
      ]
     },
     "metadata": {},
     "output_type": "display_data"
    },
    {
     "data": {
      "text/plain": [
       "[stdout:12] Empty DataFrame\n",
       "Columns: [S_NAME, S_ADDRESS]\n",
       "Index: []\n"
      ]
     },
     "metadata": {},
     "output_type": "display_data"
    }
   ],
   "source": [
    "%%px\n",
    "@bodo.jit(cache=True)\n",
    "def q20(lineitem, part, nation, partsupp, supplier):\n",
    "    date1 = \"1996-01-01\"\n",
    "    date2 = \"1997-01-01\"\n",
    "    t1 = time.time()\n",
    "    psel = part.P_NAME.str.startswith(\"azure\")\n",
    "    nsel = nation.N_NAME == \"JORDAN\"\n",
    "    lsel = (lineitem.L_SHIPDATE >= date1) & (lineitem.L_SHIPDATE < date2)\n",
    "    fpart = part[psel]\n",
    "    fnation = nation[nsel]\n",
    "    flineitem = lineitem[lsel]\n",
    "    jn1 = fpart.merge(partsupp, left_on=\"P_PARTKEY\", right_on=\"PS_PARTKEY\")\n",
    "    jn2 = jn1.merge(\n",
    "        flineitem,\n",
    "        left_on=[\"PS_PARTKEY\", \"PS_SUPPKEY\"],\n",
    "        right_on=[\"L_PARTKEY\", \"L_SUPPKEY\"],\n",
    "    )\n",
    "    gb = jn2.groupby([\"PS_PARTKEY\", \"PS_SUPPKEY\", \"PS_AVAILQTY\"], as_index=False)[\n",
    "        \"L_QUANTITY\"\n",
    "    ].sum()\n",
    "    gbsel = gb.PS_AVAILQTY > (0.5 * gb.L_QUANTITY)\n",
    "    fgb = gb[gbsel]\n",
    "    jn3 = fgb.merge(supplier, left_on=\"PS_SUPPKEY\", right_on=\"S_SUPPKEY\")\n",
    "    jn4 = fnation.merge(jn3, left_on=\"N_NATIONKEY\", right_on=\"S_NATIONKEY\")\n",
    "    jn4 = jn4[[\"S_NAME\", \"S_ADDRESS\"]]\n",
    "    total = jn4.sort_values(\"S_NAME\").drop_duplicates()\n",
    "    print(\"Execution time: \", ((time.time() - t1) * 1000), \" (ms)\")\n",
    "    print(total.head(10))\n",
    "    return total.head(10)\n",
    "\n",
    "q20_result = q20(lineitem, part, nation, partsupp, supplier)"
   ]
  },
  {
   "cell_type": "code",
   "execution_count": null,
   "metadata": {},
   "outputs": [],
   "source": []
  }
 ],
 "metadata": {
  "kernelspec": {
   "display_name": "SSH 10.30.3.143 Remote-Kernel",
   "language": "",
   "name": "rik_ssh_10_30_3_143_remotekernel"
  },
  "language_info": {
   "codemirror_mode": {
    "name": "ipython",
    "version": 3
   },
   "file_extension": ".py",
   "mimetype": "text/x-python",
   "name": "python",
   "nbconvert_exporter": "python",
   "pygments_lexer": "ipython3",
   "version": "3.9.7"
  }
 },
 "nbformat": 4,
 "nbformat_minor": 4
}
