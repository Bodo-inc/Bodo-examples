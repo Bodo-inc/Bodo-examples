{
 "cells": [
  {
   "cell_type": "markdown",
   "id": "a9dd04ab-9172-41f9-9eb6-47e3301aeade",
   "metadata": {
    "slideshow": {
     "slide_type": "slide"
    },
    "tags": []
   },
   "source": [
    "# NYC Yellow Taxi Tips Prediction\n",
    "\n",
    "This example is based on the 2019 [NYC Yellow Cab trip record data](https://www1.nyc.gov/site/tlc/about/tlc-trip-record-data.page) made available by the NYC Taxi and Limousine Commission (TLC). This dataset has been widely used on Kaggle and elsewhere. Todd Schneider has written [a nice in-depth analysis of the dataset](https://toddwschneider.com/posts/analyzing-1-1-billion-nyc-taxi-and-uber-trips-with-a-vengeance/).\n",
    "\n",
    "After exploring the data, we will use a regression model to predict taxi tips."
   ]
  },
  {
   "cell_type": "markdown",
   "id": "d0bb3d38-451a-41cd-af57-f9499a5adcb0",
   "metadata": {
    "slideshow": {
     "slide_type": "subslide"
    },
    "tags": []
   },
   "source": [
    "<div class=\"alert alert-block alert-info\">\n",
    "<b>Note:</b>\n",
    "\n",
    "In this notebook, we will run the code using Bodo. This means that the data will be distributed in chunks across processes. [Bodo's documentation](https://docs.bodo.ai/2022.2/bodo_parallelism/bodo_parallelism_basics/) provides more information about the parallel execution model.\n",
    "\n",
    "If you want to run the example using Pandas only (without Bodo):\n",
    "\n",
    "1. Comment out lines with the magic expression (`%%px`) and Bodo JIT decorator (`@bodo.jit`) from all the code cells.\n",
    "2. Then, re-run cells from the beginning.\n",
    "\n",
    "Consult the [IPyParallel documentation](https://ipyparallel.readthedocs.io/en/latest/) for more information about setting up a local cluster.\n",
    "</div>"
   ]
  },
  {
   "cell_type": "markdown",
   "id": "unsigned-asset",
   "metadata": {
    "slideshow": {
     "slide_type": "skip"
    },
    "tags": []
   },
   "source": [
    "## Start an IPyParallel cluster (skip if running on Bodo's Platform)\n",
    "\n"
   ]
  },
  {
   "cell_type": "code",
   "execution_count": 1,
   "id": "0050c46a-4484-40f4-9aed-5ebccfb5abab",
   "metadata": {
    "slideshow": {
     "slide_type": "skip"
    }
   },
   "outputs": [
    {
     "name": "stdout",
     "output_type": "stream",
     "text": [
      "Starting 8 engines with <class 'ipyparallel.cluster.launcher.MPIEngineSetLauncher'>\n",
      "100%|█████████████████████████████████████████████████████████████████████████████████████████████████████████████████████| 8/8 [00:07<00:00,  1.11engine/s]\n"
     ]
    }
   ],
   "source": [
    "import os\n",
    "if os.environ.get(\"BODO_PLATFORM_WORKSPACE_UUID\",'NA') == 'NA':\n",
    "    import ipyparallel as ipp\n",
    "    import psutil; n = min(psutil.cpu_count(logical=False), 8)\n",
    "    rc = ipp.Cluster(engines='mpi', n=n).start_and_connect_sync(activate=True)"
   ]
  },
  {
   "cell_type": "markdown",
   "id": "a8a3ae07-0dba-476e-a691-1b755135f57a",
   "metadata": {
    "jp-MarkdownHeadingCollapsed": true,
    "slideshow": {
     "slide_type": "subslide"
    },
    "tags": []
   },
   "source": [
    "## Import all packages\n",
    "\n",
    "These are the main packages we are going to work with:\n",
    "* [Bodo](https://docs.bodo.ai/2022.2/) to parallelize Python code automatically;\n",
    "* [IPyParallel](https://ipyparallel.readthedocs.io/en/latest/) for setting up a local cluster;\n",
    "* [s3fs](https://s3fs.readthedocs.io/en/latest/#) to download data from AWS S3 buckets;\n",
    "* [Pandas](https://pandas.pydata.org) to manipulate tabular data structures;\n",
    "* [Seaborn](https://seaborn.pydata.org/index.html) and [Matplotlib](https://matplotlib.org) for data visualization; and\n",
    "* [Scikit-Learn](https://scikit-learn.org/stable/) to build and evaluate regression models."
   ]
  },
  {
   "cell_type": "markdown",
   "id": "f52b0c25-f9ee-4731-943a-a9c81ab6c6f5",
   "metadata": {
    "slideshow": {
     "slide_type": "subslide"
    },
    "tags": []
   },
   "source": [
    "## Dataset\n",
    "\n",
    "We use the data from the year 2019 . We can fetch the data directly from the [NYC Taxi & Limousine Commission](https://www1.nyc.gov/site/tlc/about/tlc-trip-record-data.page); alternatively, we can get it from one of Bodo's AWS S3 open buckets (no AWS credentials required).\n",
    "\n",
    "In the following cell, we load the dataset directly from AWS using the URI `s3://bodo-examples-data/nyc-taxi/yellow_tripdata_2019.csv`.\n",
    "\n",
    "Bodo's platform doesn't have seaborn library installed by default. Since we use it in this example, let's install it first. To install a library on all the nodes using the notebook, you can use `%ppip install <lib>` as follows."
   ]
  },
  {
   "cell_type": "code",
   "execution_count": null,
   "id": "240edd7d",
   "metadata": {},
   "outputs": [],
   "source": [
    "%ppip install seaborn"
   ]
  },
  {
   "cell_type": "code",
   "execution_count": 2,
   "id": "japanese-edward",
   "metadata": {
    "slideshow": {
     "slide_type": "skip"
    }
   },
   "outputs": [
    {
     "name": "stdout",
     "output_type": "stream",
     "text": [
      "%px: 100%|████████████████████████████████████████████████████████████████████████████████████████████████████████████████████████████████████████████████████████████████████████████████████████████| 4/4 [00:03<00:00,  1.25tasks/s]\n"
     ]
    }
   ],
   "source": [
    "%%px\n",
    "import bodo\n",
    "\n",
    "import pandas as pd\n",
    "from sklearn.model_selection import train_test_split\n",
    "from sklearn.linear_model import LinearRegression\n",
    "# from sklearn.ensemble import RandomForestRegressor\n",
    "from sklearn.metrics import mean_squared_error, r2_score\n",
    "\n",
    "import matplotlib.pyplot as plt\n",
    "import seaborn as sns"
   ]
  },
  {
   "cell_type": "code",
   "execution_count": 5,
   "id": "weird-opening",
   "metadata": {
    "slideshow": {
     "slide_type": "fragment"
    }
   },
   "outputs": [
    {
     "name": "stdout",
     "output_type": "stream",
     "text": [
      "%px:   0%|                                                                                                                                                                                                    | 0/4 [00:06<?, ?tasks/s]"
     ]
    },
    {
     "data": {
      "text/plain": [
       "[stdout:0]    VendorID tpep_pickup_datetime tpep_dropoff_datetime  passenger_count  \\\n",
       "0         1  2019-01-01 00:46:40   2019-01-01 00:53:20                1   \n",
       "\n",
       "   trip_distance  RatecodeID store_and_fwd_flag  PULocationID  DOLocationID  \\\n",
       "0            1.5           1                  N           151           239   \n",
       "\n",
       "   payment_type  fare_amount  extra  mta_tax  tip_amount  tolls_amount  \\\n",
       "0             1          7.0    0.5      0.5        1.65           0.0   \n",
       "\n",
       "   improvement_surcharge  total_amount  congestion_surcharge  \n",
       "0                    0.3          9.95                   NaN  \n",
       "(7667792, 18)\n"
      ]
     },
     "metadata": {},
     "output_type": "display_data"
    },
    {
     "name": "stdout",
     "output_type": "stream",
     "text": [
      "%px: 100%|████████████████████████████████████████████████████████████████████████████████████████████████████████████████████████████████████████████████████████████████████████████████████████████| 4/4 [00:06<00:00,  1.62s/tasks]\n"
     ]
    }
   ],
   "source": [
    "%%px\n",
    "\n",
    "@bodo.jit(cache=True)\n",
    "def load_data():\n",
    "    taxi = pd.read_csv(\n",
    "        \"s3://bodo-examples-data/nyc-taxi/yellow_tripdata_2019.csv\",\n",
    "        parse_dates=['tpep_pickup_datetime', 'tpep_dropoff_datetime'],\n",
    "    )\n",
    "    print(taxi.head(1))\n",
    "    print(taxi.shape)\n",
    "    return taxi\n",
    "\n",
    "taxi = load_data()"
   ]
  },
  {
   "cell_type": "code",
   "execution_count": 10,
   "id": "b71626ad-4ae2-490d-9802-594b47c44b7b",
   "metadata": {},
   "outputs": [
    {
     "data": {
      "text/plain": [
       "\u001b[0;31mOut[0:8]: \u001b[0m(1916948, 18)"
      ]
     },
     "metadata": {
      "after": null,
      "completed": null,
      "data": {},
      "engine_id": 0,
      "engine_uuid": "02f710ae-b1b425f983ccbdad012829d7",
      "error": null,
      "execute_input": "taxi.shape\n",
      "execute_result": {
       "data": {
        "text/plain": "(1916948, 18)"
       },
       "execution_count": 8,
       "metadata": {}
      },
      "follow": null,
      "msg_id": null,
      "outputs": [],
      "received": null,
      "started": null,
      "status": null,
      "stderr": "",
      "stdout": "",
      "submitted": "2022-04-13T12:15:52.278232Z"
     },
     "output_type": "display_data"
    },
    {
     "data": {
      "text/plain": [
       "\u001b[0;31mOut[1:8]: \u001b[0m(1916948, 18)"
      ]
     },
     "metadata": {
      "after": null,
      "completed": null,
      "data": {},
      "engine_id": 1,
      "engine_uuid": "b07c6bd9-b5573c37cc31de214161157c",
      "error": null,
      "execute_input": "taxi.shape\n",
      "execute_result": {
       "data": {
        "text/plain": "(1916948, 18)"
       },
       "execution_count": 8,
       "metadata": {}
      },
      "follow": null,
      "msg_id": null,
      "outputs": [],
      "received": null,
      "started": null,
      "status": null,
      "stderr": "",
      "stdout": "",
      "submitted": "2022-04-13T12:15:52.278732Z"
     },
     "output_type": "display_data"
    },
    {
     "data": {
      "text/plain": [
       "\u001b[0;31mOut[2:8]: \u001b[0m(1916948, 18)"
      ]
     },
     "metadata": {
      "after": null,
      "completed": null,
      "data": {},
      "engine_id": 2,
      "engine_uuid": "7189f77a-750a72eb7b9e47ecc7e39a3d",
      "error": null,
      "execute_input": "taxi.shape\n",
      "execute_result": {
       "data": {
        "text/plain": "(1916948, 18)"
       },
       "execution_count": 8,
       "metadata": {}
      },
      "follow": null,
      "msg_id": null,
      "outputs": [],
      "received": null,
      "started": null,
      "status": null,
      "stderr": "",
      "stdout": "",
      "submitted": "2022-04-13T12:15:52.278896Z"
     },
     "output_type": "display_data"
    },
    {
     "data": {
      "text/plain": [
       "\u001b[0;31mOut[3:8]: \u001b[0m(1916948, 18)"
      ]
     },
     "metadata": {
      "after": null,
      "completed": null,
      "data": {},
      "engine_id": 3,
      "engine_uuid": "d0563725-3b8c25f04c8813fc89533ace",
      "error": null,
      "execute_input": "taxi.shape\n",
      "execute_result": {
       "data": {
        "text/plain": "(1916948, 18)"
       },
       "execution_count": 8,
       "metadata": {}
      },
      "follow": null,
      "msg_id": null,
      "outputs": [],
      "received": null,
      "started": null,
      "status": null,
      "stderr": "",
      "stdout": "",
      "submitted": "2022-04-13T12:15:52.279010Z"
     },
     "output_type": "display_data"
    }
   ],
   "source": [
    "%%px\n",
    "taxi.shape"
   ]
  },
  {
   "cell_type": "markdown",
   "id": "a00d8a65-f1da-459a-aaf9-a8e6c59855ba",
   "metadata": {
    "slideshow": {
     "slide_type": "notes"
    }
   },
   "source": [
    "By default, the data is distributed to all available engines; that is, the rows of the DataFrame `taxi` are split into four partitions and sent to each of the cores. This allows embarrassingly parallel algorithms—like computing sums—to scale with the data and resources at hand."
   ]
  },
  {
   "cell_type": "markdown",
   "id": "simplified-tsunami",
   "metadata": {
    "slideshow": {
     "slide_type": "subslide"
    }
   },
   "source": [
    "## Exploratory analysis\n",
    "\n",
    "The dataset consist of 18 columns; see the [TLS documentation](https://www1.nyc.gov/site/tlc/about/tlc-trip-record-data.page) for more details on the meanings of each field. Our goal here is to predict the tip amount of a ride using some features.\n",
    "\n",
    "Before doing anything, it might be interesting for us to look at the raw data to see if we can extract patterns."
   ]
  },
  {
   "cell_type": "code",
   "execution_count": 11,
   "id": "eedfa968-4dc9-4f0b-b72b-43593cf2d889",
   "metadata": {
    "slideshow": {
     "slide_type": "subslide"
    }
   },
   "outputs": [
    {
     "name": "stdout",
     "output_type": "stream",
     "text": [
      "%px: 100%|████████████████████████████████████████████████████████████████████████████████████████████████████████████████████████████████████████████████████████████████████████████████████████████| 4/4 [00:17<00:00,  4.39s/tasks]\n"
     ]
    }
   ],
   "source": [
    "%%px\n",
    "\n",
    "@bodo.jit(cache=True)\n",
    "def data_preparation(taxi):\n",
    "\n",
    "    # remove fare=0 and only keep credit card trips\n",
    "    taxi_filtered = taxi[\n",
    "        (taxi.fare_amount > 0) & (taxi.payment_type == 1) & (taxi.trip_distance > 0.01)\n",
    "    ].copy()\n",
    "    \n",
    "    # the quantity of interest\n",
    "    taxi_filtered['tip_fraction'] = taxi_filtered.tip_amount / taxi_filtered.fare_amount\n",
    "    \n",
    "    # tpep_pickup_datetime\n",
    "    taxi_filtered['pickup_weekday'] = taxi_filtered.tpep_pickup_datetime.dt.weekday\n",
    "    taxi_filtered['pickup_week'] = taxi_filtered.tpep_pickup_datetime.dt.isocalendar().week\n",
    "    taxi_filtered['pickup_hour'] = taxi_filtered.tpep_pickup_datetime.dt.hour\n",
    "    taxi_filtered['pickup_week_hour'] = (taxi_filtered.pickup_weekday * 24) + taxi_filtered.pickup_hour\n",
    "    taxi_filtered['pickup_minute'] = taxi_filtered.tpep_pickup_datetime.dt.minute\n",
    "    \n",
    "    # tpep_dropoff_datetime\n",
    "    taxi_filtered['dropoff_weekday'] = taxi_filtered.tpep_dropoff_datetime.dt.weekday\n",
    "    taxi_filtered['dropoff_week'] = taxi_filtered.tpep_dropoff_datetime.dt.isocalendar().week\n",
    "    taxi_filtered['dropoff_hour'] = taxi_filtered.tpep_dropoff_datetime.dt.hour\n",
    "    taxi_filtered['dropoff_week_hour'] = (taxi_filtered.dropoff_weekday * 24) + taxi_filtered.dropoff_hour\n",
    "    taxi_filtered['dropoff_minute'] = taxi_filtered.tpep_dropoff_datetime.dt.minute\n",
    "    \n",
    "    return taxi_filtered\n",
    "\n",
    "taxi_filtered = data_preparation(taxi)"
   ]
  },
  {
   "cell_type": "markdown",
   "id": "9f5117fa-d5b1-4503-9ac4-9a3855399ca6",
   "metadata": {
    "slideshow": {
     "slide_type": "notes"
    }
   },
   "source": [
    "There are a few preprocessing steps we can make based on insights available from examining the dataset. The data sheet states \"cash tips are not included,\" so we'll look at credit card transactions exclusively. Other fields are unclear and show rows have some suspicious entries (e.g., a trip of lenght 0 miles with no charge but a tip of $50). To mitigate the presence of outliers and data pollution, we modify the data beforehand by: \n",
    "\n",
    "1. removing records with a price of $0.00;\n",
    "2. removing records with a trip distance of < 0.01 miles;\n",
    "3. keeping only records with credit card transactions;\n",
    "4. computing `tip_fraction` only for these relevant records; and\n",
    "5. processing the date into discrete values (day of the week, day of the month, etc.)."
   ]
  },
  {
   "cell_type": "markdown",
   "id": "7baaef8f-cdc5-4c4d-8590-0707ebf17aea",
   "metadata": {
    "slideshow": {
     "slide_type": "subslide"
    }
   },
   "source": [
    "First, let's have a look at both `tip_fraction` and `fare_amount` distributions. The dataset is randomly subsampled to facilitate computations outside Bodo."
   ]
  },
  {
   "cell_type": "code",
   "execution_count": 12,
   "id": "787f56fc-144b-4772-9412-82642262d141",
   "metadata": {
    "slideshow": {
     "slide_type": "fragment"
    }
   },
   "outputs": [
    {
     "name": "stdout",
     "output_type": "stream",
     "text": [
      "%px: 100%|████████████████████████████████████████████████████████████████████████████████████████████████████████████████████████████████████████████████████████████████████████████████████████████| 4/4 [00:03<00:00,  1.14tasks/s]\n"
     ]
    }
   ],
   "source": [
    "%%px\n",
    "\n",
    "@bodo.jit(cache=True)\n",
    "def data_sampling(taxi_filtered):\n",
    "    sample = taxi_filtered.sample(9_999)\n",
    "    return sample\n",
    "\n",
    "# Sampling is an operation that replicates the output on all cores.\n",
    "# This way we can work on this data on a single core as follows.\n",
    "sample = data_sampling(taxi_filtered)"
   ]
  },
  {
   "cell_type": "markdown",
   "id": "c6b82b16",
   "metadata": {
    "pycharm": {
     "name": "#%% md\n"
    }
   },
   "source": [
    "The following cell mixes Bodo with normal Pandas and Seaborn/Matplotlib code. This is handy when a particular feature or package is not yet supported by Bodo. Notice we use the smaller DataFrame `sample` to make plotting easier."
   ]
  },
  {
   "cell_type": "code",
   "execution_count": 13,
   "id": "6f5dd43e-be9a-4ca7-bfe8-33f299140bbc",
   "metadata": {
    "slideshow": {
     "slide_type": "subslide"
    }
   },
   "outputs": [
    {
     "data": {
      "text/plain": [
       "[output:0]"
      ]
     },
     "metadata": {},
     "output_type": "display_data"
    },
    {
     "data": {
      "image/png": "[encoded data removed]",
      "text/plain": [
       "<Figure size 648x216 with 3 Axes>"
      ]
     },
     "metadata": {
      "engine": 0,
      "needs_background": "light"
     },
     "output_type": "display_data"
    }
   ],
   "source": [
    "%%px\n",
    "\n",
    "# Outside Bodo, only work on a single core. Allows interfacing Bodo with anything else.\n",
    "if bodo.get_rank() == 0:\n",
    "\n",
    "    fig, axs = plt.subplots(1, 3, figsize=(9, 3))\n",
    "    clip = [0, 15]\n",
    "\n",
    "    sns.kdeplot(data=sample, x=\"tip_fraction\", ax=axs[0], clip=clip)\n",
    "    axs[0].set_title(f\"median tip fraction: {sample['tip_fraction'].median():.2f}\")\n",
    "\n",
    "    sns.kdeplot(data=sample, x=\"tip_amount\", ax=axs[1], clip=clip)\n",
    "    axs[1].set_title(f\"median tip amout: ${sample['tip_amount'].median():.2f}\")\n",
    "\n",
    "    sns.kdeplot(data=sample, x=\"fare_amount\", ax=axs[2], clip=clip)\n",
    "    axs[2].set_title(f\"median fare amout: ${sample['fare_amount'].median():.2f}\")\n",
    "\n",
    "    fig.tight_layout()"
   ]
  },
  {
   "cell_type": "markdown",
   "id": "424ed43c-307a-43fa-b0a2-b1bd92806da7",
   "metadata": {
    "slideshow": {
     "slide_type": "subslide"
    }
   },
   "source": [
    "We can use the whole dataset with Bodo to compute descriptive statistics."
   ]
  },
  {
   "cell_type": "code",
   "execution_count": 14,
   "id": "eadc9108-ce57-4c92-9f16-abd3213d4090",
   "metadata": {
    "slideshow": {
     "slide_type": "fragment"
    }
   },
   "outputs": [
    {
     "name": "stdout",
     "output_type": "stream",
     "text": [
      "%px:   0%|                                                                                                                                                                                                    | 0/4 [00:00<?, ?tasks/s]"
     ]
    },
    {
     "data": {
      "text/plain": [
       "[stdout:0] count    5.461173e+06\n",
       "mean     2.179034e-01\n",
       "std      1.970128e+00\n",
       "min      0.000000e+00\n",
       "25%      1.904762e-01\n",
       "50%      2.222222e-01\n",
       "75%      2.494340e-01\n",
       "max      4.500000e+03\n",
       "Name: tip_fraction, dtype: float64\n"
      ]
     },
     "metadata": {},
     "output_type": "display_data"
    },
    {
     "name": "stdout",
     "output_type": "stream",
     "text": [
      "%px: 100%|████████████████████████████████████████████████████████████████████████████████████████████████████████████████████████████████████████████████████████████████████████████████████████████| 4/4 [00:00<00:00,  4.31tasks/s]\n"
     ]
    }
   ],
   "source": [
    "%%px\n",
    "\n",
    "@bodo.jit(cache=True)\n",
    "def tip_fraction_describe(taxi_filtered):\n",
    "    print(taxi_filtered['tip_fraction'].describe())\n",
    "    \n",
    "tip_fraction_describe(taxi_filtered)"
   ]
  },
  {
   "cell_type": "markdown",
   "id": "ee326fb3-4ccc-4f7e-b960-c9c7c7b4d999",
   "metadata": {
    "slideshow": {
     "slide_type": "notes"
    }
   },
   "source": [
    "Even after filtering the data, there are still interesting things to note on the tip fraction. Apparently someone tipped 4500x the fare... "
   ]
  },
  {
   "cell_type": "markdown",
   "id": "773cde83",
   "metadata": {
    "slideshow": {
     "slide_type": "subslide"
    }
   },
   "source": [
    "We often use correlation matrices in machine learning to identify important features. And, in this case, we want to know which features can be used to predict tips."
   ]
  },
  {
   "cell_type": "code",
   "execution_count": 15,
   "id": "d9708e39-e8bc-4f9b-9efc-1912fb7bde2f",
   "metadata": {
    "slideshow": {
     "slide_type": "fragment"
    }
   },
   "outputs": [
    {
     "name": "stdout",
     "output_type": "stream",
     "text": [
      "%px: 100%|████████████████████████████████████████████████████████████████████████████████████████████████████████████████████████████████████████████████████████████████████████████████████████████| 4/4 [00:17<00:00,  4.28s/tasks]\n"
     ]
    }
   ],
   "source": [
    "%%px\n",
    "\n",
    "@bodo.jit(cache=True)\n",
    "def correlations(taxi_filtered):\n",
    "    return taxi_filtered.corr()\n",
    "    \n",
    "corr = correlations(taxi_filtered)"
   ]
  },
  {
   "cell_type": "code",
   "execution_count": 16,
   "id": "ce15a87c",
   "metadata": {
    "slideshow": {
     "slide_type": "subslide"
    }
   },
   "outputs": [],
   "source": [
    "%%px\n",
    "\n",
    "if bodo.get_rank() == 0:\n",
    "\n",
    "    corr_tip_amount = pd.DataFrame(corr[\"tip_amount\"])\n",
    "\n",
    "    # remove the tip_amount itself from the correlation since it's 1\n",
    "    # also total_amount is directly computed from the tip_amount\n",
    "    index = list(corr_tip_amount.index)\n",
    "    index.remove(\"tip_amount\")\n",
    "    index.remove(\"total_amount\")\n",
    "    index.remove(\"payment_type\")\n",
    "    corr_tip_amount = corr_tip_amount.filter(items=index, axis=0)\n",
    "\n",
    "    corr_tip_fraction = pd.DataFrame(corr[\"tip_fraction\"])\n",
    "\n",
    "    # remove the tip_fraction itself from the correlation since it's 1\n",
    "    index = list(corr_tip_fraction.index)\n",
    "    index.remove(\"tip_fraction\")\n",
    "    index.remove(\"payment_type\")\n",
    "    corr_tip_fraction = corr_tip_fraction.filter(items=index, axis=0)"
   ]
  },
  {
   "cell_type": "markdown",
   "id": "cb6acdaf",
   "metadata": {
    "slideshow": {
     "slide_type": "notes"
    }
   },
   "source": [
    "The correlation matrix by itself is large and since only the tip amount is of interest, there is no need to plot everything."
   ]
  },
  {
   "cell_type": "code",
   "execution_count": 17,
   "id": "52575dcf-f83f-4d1d-bd49-8b33e7c6ccd9",
   "metadata": {
    "scrolled": true,
    "slideshow": {
     "slide_type": "subslide"
    }
   },
   "outputs": [
    {
     "data": {
      "text/plain": [
       "[output:0]"
      ]
     },
     "metadata": {},
     "output_type": "display_data"
    },
    {
     "data": {
      "image/png": "[encoded data removed]",
      "text/plain": [
       "<Figure size 720x360 with 4 Axes>"
      ]
     },
     "metadata": {
      "engine": 0,
      "needs_background": "light"
     },
     "output_type": "display_data"
    }
   ],
   "source": [
    "%%px\n",
    "\n",
    "if bodo.get_rank() == 0:\n",
    "\n",
    "    fig, axs = plt.subplots(1, 2, figsize=(10, 5))\n",
    "    sns.heatmap(\n",
    "        corr_tip_fraction,\n",
    "        annot=True,\n",
    "        cmap=\"RdYlBu\", center=0,\n",
    "        vmin=-0.9, vmax=0.9,\n",
    "        ax=axs[0]\n",
    "    )\n",
    "\n",
    "    sns.heatmap(\n",
    "        corr_tip_amount,\n",
    "        annot=True,\n",
    "        cmap=\"RdYlBu\", center=0,\n",
    "        vmin=-0.9, vmax=0.9,\n",
    "        ax=axs[1]\n",
    "    )\n",
    "\n",
    "    fig.tight_layout()"
   ]
  },
  {
   "cell_type": "markdown",
   "id": "f87f22d7-ce3d-4d22-8d4f-ccb2853b5186",
   "metadata": {
    "slideshow": {
     "slide_type": "notes"
    }
   },
   "source": [
    "These correlation plots suggest that the `tip_fraction` is mostly uncorrelated from all the other parameters. The (absolute) `tip_amount` itself is strongly correlated to the `tolls_amount`, `trip_distance` and `fare_amount`."
   ]
  },
  {
   "cell_type": "markdown",
   "id": "reflected-cherry",
   "metadata": {
    "slideshow": {
     "slide_type": "subslide"
    },
    "tags": []
   },
   "source": [
    "## Modeling tip amount\n",
    "\n",
    "Based on the preceding correlation plots, we prepare the dataset by only selecting the `tolls_amount`, `trip_distance` and `fare_amount` as the exogenous variables in our regression model. We extract this new dataset from the filtered taxi dataset using typical column selection. We then split the DataFrame into a training and a testing set with a ratio of $70%/30%$, respectively–which is standard practice in machine learning. "
   ]
  },
  {
   "cell_type": "code",
   "execution_count": 18,
   "id": "011b60c9-dce1-4be4-afd4-200628260da5",
   "metadata": {
    "slideshow": {
     "slide_type": "fragment"
    }
   },
   "outputs": [
    {
     "name": "stdout",
     "output_type": "stream",
     "text": [
      "%px: 100%|████████████████████████████████████████████████████████████████████████████████████████████████████████████████████████████████████████████████████████████████████████████████████████████| 4/4 [00:03<00:00,  1.25tasks/s]\n"
     ]
    }
   ],
   "source": [
    "%%px\n",
    "\n",
    "@bodo.jit()\n",
    "def data_preparation(taxi_filtered):\n",
    "\n",
    "    x_train, x_test, y_train, y_test = train_test_split(\n",
    "        taxi_filtered[['tolls_amount', 'trip_distance', 'RatecodeID', 'fare_amount']], \n",
    "        taxi_filtered['tip_amount'], \n",
    "        test_size=0.3,\n",
    "        train_size=0.7,        \n",
    "        random_state=42\n",
    "    )\n",
    "    return x_train, x_test, y_train, y_test\n",
    "\n",
    "\n",
    "x_train, x_test, y_train, y_test = data_preparation(taxi_filtered)"
   ]
  },
  {
   "cell_type": "markdown",
   "id": "78b74244-0ac4-41d8-908d-c2493c697097",
   "metadata": {
    "slideshow": {
     "slide_type": "subslide"
    }
   },
   "source": [
    "Next, we train a model and use the test data to evaluate the [RMSE (Root-Mean-Square-Error)](https://scikit-learn.org/stable/modules/generated/sklearn.metrics.mean_squared_error.html) and the [$R^2$ statistic](https://scikit-learn.org/stable/modules/generated/sklearn.metrics.r2_score.html) (computed with the functions [`mean_squared_error`](https://scikit-learn.org/stable/modules/generated/sklearn.metrics.mean_squared_error.html) & [`r2_score`](https://scikit-learn.org/stable/modules/generated/sklearn.metrics.r2_score.html) respectively, both from [Scikit-Learn's `metrics` submodule](https://scikit-learn.org/stable/modules/classes.html#module-sklearn.metrics))."
   ]
  },
  {
   "cell_type": "code",
   "execution_count": 19,
   "id": "59e8343f-55e8-4469-9e7c-10c1906cbbfb",
   "metadata": {
    "slideshow": {
     "slide_type": "fragment"
    }
   },
   "outputs": [
    {
     "name": "stdout",
     "output_type": "stream",
     "text": [
      "%px:   0%|                                                                                                                                                                                                    | 0/4 [00:00<?, ?tasks/s]"
     ]
    },
    {
     "data": {
      "text/plain": [
       "[stderr:0] /var/folders/5x/5blbwvrs6l5_wct5ncsp5f_m0000gn/T/ipykernel_19261/3934715034.py:20: BodoWarning: Data is distributed so Bodo will fit model with SGD solver optimization (SGDRegressor)\n",
       "  preds_data = prediction_model(x_train, x_test, y_train, y_test)\n",
       "/opt/homebrew/Caskroom/mambaforge/base/envs/Bodo/lib/python3.9/site-packages/sklearn/base.py:443: UserWarning: X has feature names, but LinearRegression was fitted without feature names\n",
       "  warnings.warn(\n"
      ]
     },
     "metadata": {},
     "output_type": "display_data"
    },
    {
     "name": "stdout",
     "output_type": "stream",
     "text": [
      "%px:   0%|                                                                                                                                                                                                    | 0/4 [00:01<?, ?tasks/s]"
     ]
    },
    {
     "data": {
      "text/plain": [
       "[stdout:0] RMSE: 1.846565\n",
       "R2: 0.497692\n",
       "\n"
      ]
     },
     "metadata": {},
     "output_type": "display_data"
    },
    {
     "data": {
      "text/plain": [
       "[stderr:3] /opt/homebrew/Caskroom/mambaforge/base/envs/Bodo/lib/python3.9/site-packages/sklearn/base.py:443: UserWarning: X has feature names, but LinearRegression was fitted without feature names\n",
       "  warnings.warn(\n"
      ]
     },
     "metadata": {},
     "output_type": "display_data"
    },
    {
     "data": {
      "text/plain": [
       "[stderr:1] /opt/homebrew/Caskroom/mambaforge/base/envs/Bodo/lib/python3.9/site-packages/sklearn/base.py:443: UserWarning: X has feature names, but LinearRegression was fitted without feature names\n",
       "  warnings.warn(\n"
      ]
     },
     "metadata": {},
     "output_type": "display_data"
    },
    {
     "name": "stdout",
     "output_type": "stream",
     "text": [
      "%px:  50%|██████████████████████████████████████████████████████████████████████████████████████████████                                                                                              | 2/4 [00:01<00:00, 19.48tasks/s]"
     ]
    },
    {
     "data": {
      "text/plain": [
       "[stderr:2] /opt/homebrew/Caskroom/mambaforge/base/envs/Bodo/lib/python3.9/site-packages/sklearn/base.py:443: UserWarning: X has feature names, but LinearRegression was fitted without feature names\n",
       "  warnings.warn(\n"
      ]
     },
     "metadata": {},
     "output_type": "display_data"
    },
    {
     "name": "stdout",
     "output_type": "stream",
     "text": [
      "%px: 100%|████████████████████████████████████████████████████████████████████████████████████████████████████████████████████████████████████████████████████████████████████████████████████████████| 4/4 [00:01<00:00,  2.73tasks/s]\n"
     ]
    }
   ],
   "source": [
    "%%px\n",
    "\n",
    "@bodo.jit(cache=True)\n",
    "def prediction_model(x_train, x_test, y_train, y_test):\n",
    "\n",
    "    model = LinearRegression()\n",
    "    # model = RandomForestRegressor(max_depth=50)\n",
    "\n",
    "    fitted = model.fit(x_train, y_train)\n",
    "    preds = model.predict(x_test)\n",
    "    \n",
    "    print(\n",
    "        f\"RMSE: {mean_squared_error(y_test, preds, squared=False)}\\n\"\n",
    "        f\"R2: {r2_score(y_test, preds)}\\n\"\n",
    "    )\n",
    "    \n",
    "    preds = pd.Series(preds, index=y_test.index)\n",
    "    preds_data = pd.DataFrame({'Pred': preds, 'Test': y_test})\n",
    "\n",
    "    return preds_data\n",
    "    \n",
    "preds_data = prediction_model(x_train, x_test, y_train, y_test)"
   ]
  },
  {
   "cell_type": "markdown",
   "id": "5b99e1ca-af1f-472a-bf7d-0707dded43f0",
   "metadata": {
    "slideshow": {
     "slide_type": "subslide"
    }
   },
   "source": [
    "The RMSE and $R^2$ scores give us a decent first idea of the performance of the model. We can also analyze the density of the output."
   ]
  },
  {
   "cell_type": "code",
   "execution_count": 20,
   "id": "8abb1c24-b968-40ab-96a9-bbc5d58a7dc5",
   "metadata": {
    "slideshow": {
     "slide_type": "fragment"
    }
   },
   "outputs": [],
   "source": [
    "%%px\n",
    "\n",
    "@bodo.jit(cache=True)\n",
    "def preds_data_sampling(preds_data):\n",
    "    sample = preds_data.sample(9999)\n",
    "    return sample\n",
    "\n",
    "sample = preds_data_sampling(preds_data)"
   ]
  },
  {
   "cell_type": "code",
   "execution_count": 21,
   "id": "57a44dc2-e162-452c-bb21-ee72d8dacc3a",
   "metadata": {
    "slideshow": {
     "slide_type": "subslide"
    }
   },
   "outputs": [
    {
     "data": {
      "text/plain": [
       "[output:0]"
      ]
     },
     "metadata": {},
     "output_type": "display_data"
    },
    {
     "data": {
      "image/png": "[encoded data removed]",
      "text/plain": [
       "<Figure size 1080x360 with 2 Axes>"
      ]
     },
     "metadata": {
      "engine": 0,
      "needs_background": "light"
     },
     "output_type": "display_data"
    }
   ],
   "source": [
    "%%px\n",
    "\n",
    "if bodo.get_rank() == 0:\n",
    "\n",
    "    fig, axs = plt.subplots(1, 2, figsize=(15, 5))\n",
    "\n",
    "    axs[0].set(xlim=[-3, 20])\n",
    "    axs[1].set(xlim=[-3, 20])\n",
    "    \n",
    "    sns.kdeplot(data=sample, ax=axs[0], bw_adjust=3)\n",
    "    sns.kdeplot(data=sample, ax=axs[1], bw_adjust=3, cumulative=True)\n",
    "\n",
    "    fig.tight_layout()"
   ]
  },
  {
   "cell_type": "markdown",
   "id": "9abd17e3-2a4e-42cc-81a6-4de0ecf9b722",
   "metadata": {
    "slideshow": {
     "slide_type": "notes"
    }
   },
   "source": [
    "The model is of modest quality but can be useful to provide first estimate."
   ]
  },
  {
   "cell_type": "markdown",
   "id": "aecd4d94",
   "metadata": {
    "pycharm": {
     "name": "#%% md\n"
    }
   },
   "source": [
    "This concludes this example. Bodo helped us to control and efficiently use the computational resources of our machine. With very little adjustment, we were able to speed up and scale our analysis. Bodo provides an extensive API and supports many well known packages to accommodate for any kind of machine learning pipelines.\n",
    "\n",
    "You can stop now stop your cluster."
   ]
  },
  {
   "cell_type": "code",
   "execution_count": null,
   "id": "conditional-hindu",
   "metadata": {
    "slideshow": {
     "slide_type": "skip"
    }
   },
   "outputs": [],
   "source": [
    "# To stop the cluster run the following command. \n",
    "rc.cluster.stop_cluster_sync()"
   ]
  }
 ],
 "metadata": {
  "celltoolbar": "Slideshow",
  "kernelspec": {
   "display_name": "Python 3 (ipykernel)",
   "language": "python",
   "name": "python3"
  },
  "language_info": {
   "codemirror_mode": {
    "name": "ipython",
    "version": 3
   },
   "file_extension": ".py",
   "mimetype": "text/x-python",
   "name": "python",
   "nbconvert_exporter": "python",
   "pygments_lexer": "ipython3",
   "version": "3.9.7"
  }
 },
 "nbformat": 4,
 "nbformat_minor": 5
}
