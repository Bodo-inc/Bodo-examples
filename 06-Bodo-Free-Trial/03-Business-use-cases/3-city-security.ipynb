{
 "cells": [
  {
   "cell_type": "markdown",
   "metadata": {},
   "source": [
    "# Chicago Crimes - Bodo Hosted Trial\n",
    "\n",
    "This example shows an exploratory data analysis (EDA) of crimes in Chicago using the HPC-like platform Bodo. Chicago crime data is extracted from Bodo's public S3 bucket, cleaned and processed. Then some analysis are done to extract insight. All are **parallelized across multiple cores using Bodo**. This can be a straightforward way to make Python code run faster without a lot of changes to the code. Original example can be found [here](https://medium.com/@ahsanzafar222/chicago-crime-data-cleaning-and-eda-a744c687a291) and [here](https://www.kaggle.com/fahd09/eda-of-crime-in-chicago-2005-2016). The data size is reduced to fit this hosted trial cluster. The full example can be found in [Bodo-Examples Git repository](https://github.com/Bodo-inc/Bodo-examples/blob/master/notebooks/Chicago-crimes.ipynb). You can run the large-scale example on [Bodo platform](https://platform.bodo.ai/account/login).\n",
    "\n",
    "The Bodo framework knows when to parallelize code based on the `%%px` at the start of cells and `@bodo.jit` function decorators. Removing those and restarting the kernel will run the code without Bodo.\n",
    "\n"
   ]
  },
  {
   "cell_type": "code",
   "execution_count": 1,
   "metadata": {
    "execution": {
     "iopub.execute_input": "2022-04-23T16:17:25.348761Z",
     "iopub.status.busy": "2022-04-23T16:17:25.348494Z",
     "iopub.status.idle": "2022-04-23T16:17:47.214265Z",
     "shell.execute_reply": "2022-04-23T16:17:47.213728Z",
     "shell.execute_reply.started": "2022-04-23T16:17:25.348729Z"
    },
    "tags": []
   },
   "outputs": [
    {
     "name": "stdout",
     "output_type": "stream",
     "text": [
      "Starting 8 engines with <class 'ipyparallel.cluster.launcher.MPIEngineSetLauncher'>\n"
     ]
    },
    {
     "data": {
      "application/vnd.jupyter.widget-view+json": {
       "model_id": "2598e38813714c4a966c84d23695f19a",
       "version_major": 2,
       "version_minor": 0
      },
      "text/plain": [
       "  0%|          | 0/8 [00:00<?, ?engine/s]"
      ]
     },
     "metadata": {},
     "output_type": "display_data"
    },
    {
     "data": {
      "application/vnd.jupyter.widget-view+json": {
       "model_id": "2af412ebcbc846aca7418d11fd9644b4",
       "version_major": 2,
       "version_minor": 0
      },
      "text/plain": [
       "%px:   0%|          | 0/8 [00:00<?, ?tasks/s]"
      ]
     },
     "metadata": {},
     "output_type": "display_data"
    },
    {
     "data": {
      "text/plain": [
       "[stdout:7] Hello World from rank 7. Total ranks=8\n"
      ]
     },
     "metadata": {},
     "output_type": "display_data"
    },
    {
     "data": {
      "text/plain": [
       "[stdout:1] Hello World from rank 1. Total ranks=8\n"
      ]
     },
     "metadata": {},
     "output_type": "display_data"
    },
    {
     "data": {
      "text/plain": [
       "[stdout:0] Hello World from rank 0. Total ranks=8\n"
      ]
     },
     "metadata": {},
     "output_type": "display_data"
    },
    {
     "data": {
      "text/plain": [
       "[stdout:5] Hello World from rank 5. Total ranks=8\n"
      ]
     },
     "metadata": {},
     "output_type": "display_data"
    },
    {
     "data": {
      "text/plain": [
       "[stdout:4] Hello World from rank 4. Total ranks=8\n"
      ]
     },
     "metadata": {},
     "output_type": "display_data"
    },
    {
     "data": {
      "text/plain": [
       "[stdout:3] Hello World from rank 3. Total ranks=8\n"
      ]
     },
     "metadata": {},
     "output_type": "display_data"
    },
    {
     "data": {
      "text/plain": [
       "[stdout:6] Hello World from rank 6. Total ranks=8\n"
      ]
     },
     "metadata": {},
     "output_type": "display_data"
    },
    {
     "data": {
      "text/plain": [
       "[stdout:2] Hello World from rank 2. Total ranks=8\n"
      ]
     },
     "metadata": {},
     "output_type": "display_data"
    }
   ],
   "source": [
    "%%px\n",
    "import numpy as np\n",
    "import pandas as pd\n",
    "import time\n",
    "import bodo\n",
    "\n",
    "print(f\"Hello World from rank {bodo.get_rank()}. Total ranks={bodo.get_size()}\")"
   ]
  },
  {
   "cell_type": "markdown",
   "metadata": {},
   "source": [
    "## Load Crimes Data in Chicago 2012_to_2017"
   ]
  },
  {
   "cell_type": "code",
   "execution_count": 2,
   "metadata": {
    "execution": {
     "iopub.execute_input": "2022-04-23T16:17:47.253108Z",
     "iopub.status.busy": "2022-04-23T16:17:47.241735Z",
     "iopub.status.idle": "2022-04-23T16:17:51.844622Z",
     "shell.execute_reply": "2022-04-23T16:17:51.844153Z",
     "shell.execute_reply.started": "2022-04-23T16:17:47.253072Z"
    },
    "tags": []
   },
   "outputs": [
    {
     "data": {
      "application/vnd.jupyter.widget-view+json": {
       "model_id": "869bf5f352a045c68b697a0fd798645b",
       "version_major": 2,
       "version_minor": 0
      },
      "text/plain": [
       "%px:   0%|          | 0/8 [00:00<?, ?tasks/s]"
      ]
     },
     "metadata": {},
     "output_type": "display_data"
    },
    {
     "data": {
      "text/plain": [
       "[stdout:0] Reading time:  4327.149833537078  (ms)\n"
      ]
     },
     "metadata": {},
     "output_type": "display_data"
    },
    {
     "data": {
      "text/plain": [
       "[output:0]"
      ]
     },
     "metadata": {},
     "output_type": "display_data"
    },
    {
     "data": {
      "text/html": [
       "<div>\n",
       "<style scoped>\n",
       "    .dataframe tbody tr th:only-of-type {\n",
       "        vertical-align: middle;\n",
       "    }\n",
       "\n",
       "    .dataframe tbody tr th {\n",
       "        vertical-align: top;\n",
       "    }\n",
       "\n",
       "    .dataframe thead th {\n",
       "        text-align: right;\n",
       "    }\n",
       "</style>\n",
       "<table border=\"1\" class=\"dataframe\">\n",
       "  <thead>\n",
       "    <tr style=\"text-align: right;\">\n",
       "      <th></th>\n",
       "      <th>Unnamed: 0</th>\n",
       "      <th>ID</th>\n",
       "      <th>Case Number</th>\n",
       "      <th>Date</th>\n",
       "      <th>Block</th>\n",
       "      <th>IUCR</th>\n",
       "      <th>Primary Type</th>\n",
       "      <th>Description</th>\n",
       "      <th>Location Description</th>\n",
       "      <th>Arrest</th>\n",
       "      <th>...</th>\n",
       "      <th>Ward</th>\n",
       "      <th>Community Area</th>\n",
       "      <th>FBI Code</th>\n",
       "      <th>X Coordinate</th>\n",
       "      <th>Y Coordinate</th>\n",
       "      <th>Year</th>\n",
       "      <th>Updated On</th>\n",
       "      <th>Latitude</th>\n",
       "      <th>Longitude</th>\n",
       "      <th>Location</th>\n",
       "    </tr>\n",
       "  </thead>\n",
       "  <tbody>\n",
       "    <tr>\n",
       "      <th>1267593</th>\n",
       "      <td>4105388</td>\n",
       "      <td>20225</td>\n",
       "      <td>HV102221</td>\n",
       "      <td>01/02/2012 05:58:00 PM</td>\n",
       "      <td>024XX E 78TH ST</td>\n",
       "      <td>0110</td>\n",
       "      <td>HOMICIDE</td>\n",
       "      <td>FIRST DEGREE MURDER</td>\n",
       "      <td>STREET</td>\n",
       "      <td>False</td>\n",
       "      <td>...</td>\n",
       "      <td>7.0</td>\n",
       "      <td>43.0</td>\n",
       "      <td>01A</td>\n",
       "      <td>1194033.0</td>\n",
       "      <td>1853729.0</td>\n",
       "      <td>2012</td>\n",
       "      <td>08/17/2015 03:03:40 PM</td>\n",
       "      <td>41.753569</td>\n",
       "      <td>-87.564503</td>\n",
       "      <td>(41.75356945, -87.56450286)</td>\n",
       "    </tr>\n",
       "    <tr>\n",
       "      <th>1267595</th>\n",
       "      <td>4105549</td>\n",
       "      <td>20227</td>\n",
       "      <td>HV101433</td>\n",
       "      <td>01/02/2012 05:15:00 AM</td>\n",
       "      <td>107XX S COTTAGE GROVE AVE</td>\n",
       "      <td>0110</td>\n",
       "      <td>HOMICIDE</td>\n",
       "      <td>FIRST DEGREE MURDER</td>\n",
       "      <td>STREET</td>\n",
       "      <td>True</td>\n",
       "      <td>...</td>\n",
       "      <td>9.0</td>\n",
       "      <td>50.0</td>\n",
       "      <td>01A</td>\n",
       "      <td>1182247.0</td>\n",
       "      <td>1833951.0</td>\n",
       "      <td>2012</td>\n",
       "      <td>08/17/2015 03:03:40 PM</td>\n",
       "      <td>41.699577</td>\n",
       "      <td>-87.608304</td>\n",
       "      <td>(41.699577165, -87.608304224)</td>\n",
       "    </tr>\n",
       "    <tr>\n",
       "      <th>1267596</th>\n",
       "      <td>4105635</td>\n",
       "      <td>20228</td>\n",
       "      <td>HV102986</td>\n",
       "      <td>01/03/2012 12:07:00 PM</td>\n",
       "      <td>010XX N PULASKI RD</td>\n",
       "      <td>0110</td>\n",
       "      <td>HOMICIDE</td>\n",
       "      <td>FIRST DEGREE MURDER</td>\n",
       "      <td>STREET</td>\n",
       "      <td>False</td>\n",
       "      <td>...</td>\n",
       "      <td>37.0</td>\n",
       "      <td>23.0</td>\n",
       "      <td>01A</td>\n",
       "      <td>1149528.0</td>\n",
       "      <td>1906741.0</td>\n",
       "      <td>2012</td>\n",
       "      <td>08/17/2015 03:03:40 PM</td>\n",
       "      <td>41.900017</td>\n",
       "      <td>-87.726226</td>\n",
       "      <td>(41.900017263, -87.726225708)</td>\n",
       "    </tr>\n",
       "    <tr>\n",
       "      <th>1267600</th>\n",
       "      <td>4105891</td>\n",
       "      <td>20231</td>\n",
       "      <td>HV105192</td>\n",
       "      <td>01/05/2012 02:35:00 AM</td>\n",
       "      <td>046XX W MONROE ST</td>\n",
       "      <td>0110</td>\n",
       "      <td>HOMICIDE</td>\n",
       "      <td>FIRST DEGREE MURDER</td>\n",
       "      <td>STREET</td>\n",
       "      <td>False</td>\n",
       "      <td>...</td>\n",
       "      <td>28.0</td>\n",
       "      <td>25.0</td>\n",
       "      <td>01A</td>\n",
       "      <td>1145493.0</td>\n",
       "      <td>1899161.0</td>\n",
       "      <td>2012</td>\n",
       "      <td>08/17/2015 03:03:40 PM</td>\n",
       "      <td>41.879294</td>\n",
       "      <td>-87.741239</td>\n",
       "      <td>(41.879294275, -87.741238618)</td>\n",
       "    </tr>\n",
       "    <tr>\n",
       "      <th>1267601</th>\n",
       "      <td>4105973</td>\n",
       "      <td>20232</td>\n",
       "      <td>HV103598</td>\n",
       "      <td>01/05/2012 08:00:00 AM</td>\n",
       "      <td>017XX W ALBION AVE</td>\n",
       "      <td>0110</td>\n",
       "      <td>HOMICIDE</td>\n",
       "      <td>FIRST DEGREE MURDER</td>\n",
       "      <td>APARTMENT</td>\n",
       "      <td>True</td>\n",
       "      <td>...</td>\n",
       "      <td>40.0</td>\n",
       "      <td>1.0</td>\n",
       "      <td>01A</td>\n",
       "      <td>1163697.0</td>\n",
       "      <td>1943895.0</td>\n",
       "      <td>2012</td>\n",
       "      <td>08/17/2015 03:03:40 PM</td>\n",
       "      <td>42.001683</td>\n",
       "      <td>-87.673131</td>\n",
       "      <td>(42.001682746, -87.67313138)</td>\n",
       "    </tr>\n",
       "  </tbody>\n",
       "</table>\n",
       "<p>5 rows × 23 columns</p>\n",
       "</div>"
      ],
      "text/plain": [
       "         Unnamed: 0     ID Case Number                    Date  \\\n",
       "1267593     4105388  20225    HV102221  01/02/2012 05:58:00 PM   \n",
       "1267595     4105549  20227    HV101433  01/02/2012 05:15:00 AM   \n",
       "1267596     4105635  20228    HV102986  01/03/2012 12:07:00 PM   \n",
       "1267600     4105891  20231    HV105192  01/05/2012 02:35:00 AM   \n",
       "1267601     4105973  20232    HV103598  01/05/2012 08:00:00 AM   \n",
       "\n",
       "                             Block  IUCR Primary Type          Description  \\\n",
       "1267593            024XX E 78TH ST  0110     HOMICIDE  FIRST DEGREE MURDER   \n",
       "1267595  107XX S COTTAGE GROVE AVE  0110     HOMICIDE  FIRST DEGREE MURDER   \n",
       "1267596         010XX N PULASKI RD  0110     HOMICIDE  FIRST DEGREE MURDER   \n",
       "1267600          046XX W MONROE ST  0110     HOMICIDE  FIRST DEGREE MURDER   \n",
       "1267601         017XX W ALBION AVE  0110     HOMICIDE  FIRST DEGREE MURDER   \n",
       "\n",
       "        Location Description  Arrest  ...  Ward  Community Area  FBI Code  \\\n",
       "1267593               STREET   False  ...   7.0            43.0       01A   \n",
       "1267595               STREET    True  ...   9.0            50.0       01A   \n",
       "1267596               STREET   False  ...  37.0            23.0       01A   \n",
       "1267600               STREET   False  ...  28.0            25.0       01A   \n",
       "1267601            APARTMENT    True  ...  40.0             1.0       01A   \n",
       "\n",
       "         X Coordinate  Y Coordinate  Year              Updated On   Latitude  \\\n",
       "1267593     1194033.0     1853729.0  2012  08/17/2015 03:03:40 PM  41.753569   \n",
       "1267595     1182247.0     1833951.0  2012  08/17/2015 03:03:40 PM  41.699577   \n",
       "1267596     1149528.0     1906741.0  2012  08/17/2015 03:03:40 PM  41.900017   \n",
       "1267600     1145493.0     1899161.0  2012  08/17/2015 03:03:40 PM  41.879294   \n",
       "1267601     1163697.0     1943895.0  2012  08/17/2015 03:03:40 PM  42.001683   \n",
       "\n",
       "         Longitude                       Location  \n",
       "1267593 -87.564503    (41.75356945, -87.56450286)  \n",
       "1267595 -87.608304  (41.699577165, -87.608304224)  \n",
       "1267596 -87.726226  (41.900017263, -87.726225708)  \n",
       "1267600 -87.741239  (41.879294275, -87.741238618)  \n",
       "1267601 -87.673131   (42.001682746, -87.67313138)  \n",
       "\n",
       "[5 rows x 23 columns]"
      ]
     },
     "metadata": {
      "engine": 0
     },
     "output_type": "display_data"
    }
   ],
   "source": [
    "%%px\n",
    "@bodo.jit(cache=True)\n",
    "def load_chicago_crimes():\n",
    "    t1 = time.time()\n",
    "    crimes = pd.read_parquet('s3://bodo-example-data/chicago-crimes/Chicago_Crimes_2012_to_2017.pq')\n",
    "    crimes = crimes.sort_values(by=\"ID\")    \n",
    "    print(\"Reading time: \", ((time.time() - t1) * 1000), \" (ms)\")    \n",
    "    return crimes\n",
    "\n",
    "crimes1 = load_chicago_crimes()\n",
    "if bodo.get_rank()==0:\n",
    "    display(crimes1.head())"
   ]
  },
  {
   "cell_type": "markdown",
   "metadata": {},
   "source": [
    "## Preprocessing and Cleaning\n",
    " 1. Drop duplicated cases, filter unused columns, and add day of week and date of the crime.\n",
    " 2. Keep only the most frequent crime type categories.\n"
   ]
  },
  {
   "cell_type": "code",
   "execution_count": 3,
   "metadata": {
    "execution": {
     "iopub.execute_input": "2022-04-23T16:17:55.271444Z",
     "iopub.status.busy": "2022-04-23T16:17:55.271193Z",
     "iopub.status.idle": "2022-04-23T16:18:28.324597Z",
     "shell.execute_reply": "2022-04-23T16:18:28.324119Z",
     "shell.execute_reply.started": "2022-04-23T16:17:55.271417Z"
    },
    "tags": []
   },
   "outputs": [
    {
     "data": {
      "application/vnd.jupyter.widget-view+json": {
       "model_id": "59fe8b09bed849bab9e319187b243a5b",
       "version_major": 2,
       "version_minor": 0
      },
      "text/plain": [
       "%px:   0%|          | 0/8 [00:00<?, ?tasks/s]"
      ]
     },
     "metadata": {},
     "output_type": "display_data"
    },
    {
     "data": {
      "text/plain": [
       "[stdout:0] Data cleanup time:  5242.116393467768  (ms)\n"
      ]
     },
     "metadata": {},
     "output_type": "display_data"
    },
    {
     "data": {
      "text/plain": [
       "[output:0]"
      ]
     },
     "metadata": {},
     "output_type": "display_data"
    },
    {
     "data": {
      "text/html": [
       "<div>\n",
       "<style scoped>\n",
       "    .dataframe tbody tr th:only-of-type {\n",
       "        vertical-align: middle;\n",
       "    }\n",
       "\n",
       "    .dataframe tbody tr th {\n",
       "        vertical-align: top;\n",
       "    }\n",
       "\n",
       "    .dataframe thead th {\n",
       "        text-align: right;\n",
       "    }\n",
       "</style>\n",
       "<table border=\"1\" class=\"dataframe\">\n",
       "  <thead>\n",
       "    <tr style=\"text-align: right;\">\n",
       "      <th></th>\n",
       "      <th>ID</th>\n",
       "      <th>Date</th>\n",
       "      <th>Block</th>\n",
       "      <th>Primary Type</th>\n",
       "      <th>Description</th>\n",
       "      <th>Location Description</th>\n",
       "      <th>Arrest</th>\n",
       "      <th>Domestic</th>\n",
       "      <th>District</th>\n",
       "      <th>X Coordinate</th>\n",
       "      <th>Y Coordinate</th>\n",
       "      <th>Latitude</th>\n",
       "      <th>Longitude</th>\n",
       "      <th>dow</th>\n",
       "      <th>date only</th>\n",
       "    </tr>\n",
       "  </thead>\n",
       "  <tbody>\n",
       "    <tr>\n",
       "      <th>1267593</th>\n",
       "      <td>20225</td>\n",
       "      <td>2012-01-02 17:58:00</td>\n",
       "      <td>024XX E 78TH ST</td>\n",
       "      <td>HOMICIDE</td>\n",
       "      <td>FIRST DEGREE MURDER</td>\n",
       "      <td>STREET</td>\n",
       "      <td>False</td>\n",
       "      <td>False</td>\n",
       "      <td>4.0</td>\n",
       "      <td>1194033.0</td>\n",
       "      <td>1853729.0</td>\n",
       "      <td>41.753569</td>\n",
       "      <td>-87.564503</td>\n",
       "      <td>0</td>\n",
       "      <td>2012-01-02</td>\n",
       "    </tr>\n",
       "    <tr>\n",
       "      <th>1267595</th>\n",
       "      <td>20227</td>\n",
       "      <td>2012-01-02 05:15:00</td>\n",
       "      <td>107XX S COTTAGE GROVE AVE</td>\n",
       "      <td>HOMICIDE</td>\n",
       "      <td>FIRST DEGREE MURDER</td>\n",
       "      <td>STREET</td>\n",
       "      <td>True</td>\n",
       "      <td>False</td>\n",
       "      <td>5.0</td>\n",
       "      <td>1182247.0</td>\n",
       "      <td>1833951.0</td>\n",
       "      <td>41.699577</td>\n",
       "      <td>-87.608304</td>\n",
       "      <td>0</td>\n",
       "      <td>2012-01-02</td>\n",
       "    </tr>\n",
       "    <tr>\n",
       "      <th>1267596</th>\n",
       "      <td>20228</td>\n",
       "      <td>2012-01-03 12:07:00</td>\n",
       "      <td>010XX N PULASKI RD</td>\n",
       "      <td>HOMICIDE</td>\n",
       "      <td>FIRST DEGREE MURDER</td>\n",
       "      <td>STREET</td>\n",
       "      <td>False</td>\n",
       "      <td>False</td>\n",
       "      <td>11.0</td>\n",
       "      <td>1149528.0</td>\n",
       "      <td>1906741.0</td>\n",
       "      <td>41.900017</td>\n",
       "      <td>-87.726226</td>\n",
       "      <td>1</td>\n",
       "      <td>2012-01-03</td>\n",
       "    </tr>\n",
       "    <tr>\n",
       "      <th>1267600</th>\n",
       "      <td>20231</td>\n",
       "      <td>2012-01-05 02:35:00</td>\n",
       "      <td>046XX W MONROE ST</td>\n",
       "      <td>HOMICIDE</td>\n",
       "      <td>FIRST DEGREE MURDER</td>\n",
       "      <td>STREET</td>\n",
       "      <td>False</td>\n",
       "      <td>False</td>\n",
       "      <td>11.0</td>\n",
       "      <td>1145493.0</td>\n",
       "      <td>1899161.0</td>\n",
       "      <td>41.879294</td>\n",
       "      <td>-87.741239</td>\n",
       "      <td>3</td>\n",
       "      <td>2012-01-05</td>\n",
       "    </tr>\n",
       "    <tr>\n",
       "      <th>1267601</th>\n",
       "      <td>20232</td>\n",
       "      <td>2012-01-05 08:00:00</td>\n",
       "      <td>017XX W ALBION AVE</td>\n",
       "      <td>HOMICIDE</td>\n",
       "      <td>FIRST DEGREE MURDER</td>\n",
       "      <td>APARTMENT</td>\n",
       "      <td>True</td>\n",
       "      <td>True</td>\n",
       "      <td>24.0</td>\n",
       "      <td>1163697.0</td>\n",
       "      <td>1943895.0</td>\n",
       "      <td>42.001683</td>\n",
       "      <td>-87.673131</td>\n",
       "      <td>3</td>\n",
       "      <td>2012-01-05</td>\n",
       "    </tr>\n",
       "  </tbody>\n",
       "</table>\n",
       "</div>"
      ],
      "text/plain": [
       "            ID                Date                      Block Primary Type  \\\n",
       "1267593  20225 2012-01-02 17:58:00            024XX E 78TH ST     HOMICIDE   \n",
       "1267595  20227 2012-01-02 05:15:00  107XX S COTTAGE GROVE AVE     HOMICIDE   \n",
       "1267596  20228 2012-01-03 12:07:00         010XX N PULASKI RD     HOMICIDE   \n",
       "1267600  20231 2012-01-05 02:35:00          046XX W MONROE ST     HOMICIDE   \n",
       "1267601  20232 2012-01-05 08:00:00         017XX W ALBION AVE     HOMICIDE   \n",
       "\n",
       "                 Description Location Description  Arrest  Domestic  District  \\\n",
       "1267593  FIRST DEGREE MURDER               STREET   False     False       4.0   \n",
       "1267595  FIRST DEGREE MURDER               STREET    True     False       5.0   \n",
       "1267596  FIRST DEGREE MURDER               STREET   False     False      11.0   \n",
       "1267600  FIRST DEGREE MURDER               STREET   False     False      11.0   \n",
       "1267601  FIRST DEGREE MURDER            APARTMENT    True      True      24.0   \n",
       "\n",
       "         X Coordinate  Y Coordinate   Latitude  Longitude  dow  date only  \n",
       "1267593     1194033.0     1853729.0  41.753569 -87.564503    0 2012-01-02  \n",
       "1267595     1182247.0     1833951.0  41.699577 -87.608304    0 2012-01-02  \n",
       "1267596     1149528.0     1906741.0  41.900017 -87.726226    1 2012-01-03  \n",
       "1267600     1145493.0     1899161.0  41.879294 -87.741239    3 2012-01-05  \n",
       "1267601     1163697.0     1943895.0  42.001683 -87.673131    3 2012-01-05  "
      ]
     },
     "metadata": {
      "engine": 0
     },
     "output_type": "display_data"
    }
   ],
   "source": [
    "%%px\n",
    "@bodo.jit(distributed=[\"crimes\"], cache=True)\n",
    "def data_cleanup(crimes):\n",
    "    t1 = time.time()    \n",
    "    crimes = crimes.drop_duplicates()    \n",
    "    crimes.drop(['Unnamed: 0', 'Case Number', 'IUCR','Updated On','Year', 'FBI Code', 'Beat','Ward','Community Area', 'Location'], inplace=True, axis=1)\n",
    "    crimes.Date = pd.to_datetime(crimes.Date, format='%m/%d/%Y %I:%M:%S %p')\n",
    "    crimes[\"dow\"] = crimes[\"Date\"].dt.dayofweek\n",
    "    crimes[\"date only\"] = crimes[\"Date\"].dt.floor('D')\n",
    "    crimes = crimes.sort_values(by=\"ID\")    \n",
    "    print(\"Data cleanup time: \", ((time.time() - t1) * 1000), \" (ms)\")\n",
    "    return crimes\n",
    "\n",
    "crimes = data_cleanup(crimes1)\n",
    "if bodo.get_rank()==0:\n",
    "    display(crimes.head())"
   ]
  },
  {
   "cell_type": "code",
   "execution_count": 4,
   "metadata": {
    "execution": {
     "iopub.execute_input": "2022-04-23T16:18:28.325706Z",
     "iopub.status.busy": "2022-04-23T16:18:28.325344Z",
     "iopub.status.idle": "2022-04-23T16:18:43.997718Z",
     "shell.execute_reply": "2022-04-23T16:18:43.997231Z",
     "shell.execute_reply.started": "2022-04-23T16:18:28.325675Z"
    },
    "tags": []
   },
   "outputs": [
    {
     "data": {
      "application/vnd.jupyter.widget-view+json": {
       "model_id": "2c5fd80020c34c4da138d85a900f0c17",
       "version_major": 2,
       "version_minor": 0
      },
      "text/plain": [
       "%px:   0%|          | 0/8 [00:00<?, ?tasks/s]"
      ]
     },
     "metadata": {},
     "output_type": "display_data"
    },
    {
     "data": {
      "text/plain": [
       "[stdout:0] Getting top crimes Time:  788.1024963521668  (ms)\n",
       "Index(['THEFT', 'BATTERY', 'CRIMINAL DAMAGE', 'NARCOTICS', 'ASSAULT',\n",
       "       'OTHER OFFENSE', 'BURGLARY', 'DECEPTIVE PRACTICE',\n",
       "       'MOTOR VEHICLE THEFT', 'ROBBERY'],\n",
       "      dtype='object')\n"
      ]
     },
     "metadata": {},
     "output_type": "display_data"
    }
   ],
   "source": [
    "%%px\n",
    "@bodo.jit(cache=True)\n",
    "def get_top_crime_types(crimes):\n",
    "    t1 = time.time()\n",
    "    top_crime_types = crimes['Primary Type'].value_counts().index[0:10]\n",
    "    print(\"Getting top crimes Time: \", ((time.time() - t1) * 1000), \" (ms)\")\n",
    "    return top_crime_types\n",
    "\n",
    "top_crime_types = get_top_crime_types(crimes)\n",
    "top_crime_types = bodo.allgatherv(top_crime_types)\n",
    "if bodo.get_rank()==0:\n",
    "    print(top_crime_types)"
   ]
  },
  {
   "cell_type": "code",
   "execution_count": 5,
   "metadata": {
    "execution": {
     "iopub.execute_input": "2022-04-23T16:18:43.998385Z",
     "iopub.status.busy": "2022-04-23T16:18:43.998212Z",
     "iopub.status.idle": "2022-04-23T16:18:54.330555Z",
     "shell.execute_reply": "2022-04-23T16:18:54.330031Z",
     "shell.execute_reply.started": "2022-04-23T16:18:43.998360Z"
    },
    "tags": []
   },
   "outputs": [
    {
     "data": {
      "application/vnd.jupyter.widget-view+json": {
       "model_id": "aba9d8aa8b584141803d54db7eb92bab",
       "version_major": 2,
       "version_minor": 0
      },
      "text/plain": [
       "%px:   0%|          | 0/8 [00:00<?, ?tasks/s]"
      ]
     },
     "metadata": {},
     "output_type": "display_data"
    },
    {
     "data": {
      "text/plain": [
       "[stdout:0] Filtering crimes Time:  68.5541266943801  (ms)\n"
      ]
     },
     "metadata": {},
     "output_type": "display_data"
    },
    {
     "data": {
      "text/plain": [
       "[output:0]"
      ]
     },
     "metadata": {},
     "output_type": "display_data"
    },
    {
     "data": {
      "text/html": [
       "<div>\n",
       "<style scoped>\n",
       "    .dataframe tbody tr th:only-of-type {\n",
       "        vertical-align: middle;\n",
       "    }\n",
       "\n",
       "    .dataframe tbody tr th {\n",
       "        vertical-align: top;\n",
       "    }\n",
       "\n",
       "    .dataframe thead th {\n",
       "        text-align: right;\n",
       "    }\n",
       "</style>\n",
       "<table border=\"1\" class=\"dataframe\">\n",
       "  <thead>\n",
       "    <tr style=\"text-align: right;\">\n",
       "      <th></th>\n",
       "      <th>ID</th>\n",
       "      <th>Date</th>\n",
       "      <th>Block</th>\n",
       "      <th>Primary Type</th>\n",
       "      <th>Description</th>\n",
       "      <th>Location Description</th>\n",
       "      <th>Arrest</th>\n",
       "      <th>Domestic</th>\n",
       "      <th>District</th>\n",
       "      <th>X Coordinate</th>\n",
       "      <th>Y Coordinate</th>\n",
       "      <th>Latitude</th>\n",
       "      <th>Longitude</th>\n",
       "      <th>dow</th>\n",
       "      <th>date only</th>\n",
       "    </tr>\n",
       "  </thead>\n",
       "  <tbody>\n",
       "    <tr>\n",
       "      <th>77272</th>\n",
       "      <td>8421398</td>\n",
       "      <td>2012-01-01 00:23:00</td>\n",
       "      <td>033XX N HALSTED ST</td>\n",
       "      <td>ASSAULT</td>\n",
       "      <td>AGGRAVATED:KNIFE/CUTTING INSTR</td>\n",
       "      <td>BAR OR TAVERN</td>\n",
       "      <td>True</td>\n",
       "      <td>False</td>\n",
       "      <td>19.0</td>\n",
       "      <td>1170335.0</td>\n",
       "      <td>1922325.0</td>\n",
       "      <td>41.942351</td>\n",
       "      <td>-87.649345</td>\n",
       "      <td>6</td>\n",
       "      <td>2012-01-01</td>\n",
       "    </tr>\n",
       "    <tr>\n",
       "      <th>77273</th>\n",
       "      <td>8421402</td>\n",
       "      <td>2012-01-01 00:30:00</td>\n",
       "      <td>092XX S DR MARTIN LUTHER KING JR DR</td>\n",
       "      <td>BATTERY</td>\n",
       "      <td>AGGRAVATED: OTHER DANG WEAPON</td>\n",
       "      <td>SIDEWALK</td>\n",
       "      <td>False</td>\n",
       "      <td>False</td>\n",
       "      <td>6.0</td>\n",
       "      <td>1180537.0</td>\n",
       "      <td>1843779.0</td>\n",
       "      <td>41.726586</td>\n",
       "      <td>-87.614265</td>\n",
       "      <td>6</td>\n",
       "      <td>2012-01-01</td>\n",
       "    </tr>\n",
       "    <tr>\n",
       "      <th>77279</th>\n",
       "      <td>8421414</td>\n",
       "      <td>2012-01-01 00:50:00</td>\n",
       "      <td>010XX N MILWAUKEE AVE</td>\n",
       "      <td>CRIMINAL DAMAGE</td>\n",
       "      <td>TO PROPERTY</td>\n",
       "      <td>RESIDENCE</td>\n",
       "      <td>False</td>\n",
       "      <td>False</td>\n",
       "      <td>12.0</td>\n",
       "      <td>1167070.0</td>\n",
       "      <td>1906993.0</td>\n",
       "      <td>41.900350</td>\n",
       "      <td>-87.661786</td>\n",
       "      <td>6</td>\n",
       "      <td>2012-01-01</td>\n",
       "    </tr>\n",
       "    <tr>\n",
       "      <th>77288</th>\n",
       "      <td>8421427</td>\n",
       "      <td>2012-01-01 01:39:00</td>\n",
       "      <td>045XX N SHERIDAN RD</td>\n",
       "      <td>NARCOTICS</td>\n",
       "      <td>POSS: CRACK</td>\n",
       "      <td>ALLEY</td>\n",
       "      <td>True</td>\n",
       "      <td>False</td>\n",
       "      <td>19.0</td>\n",
       "      <td>1168795.0</td>\n",
       "      <td>1930288.0</td>\n",
       "      <td>41.964235</td>\n",
       "      <td>-87.654773</td>\n",
       "      <td>6</td>\n",
       "      <td>2012-01-01</td>\n",
       "    </tr>\n",
       "    <tr>\n",
       "      <th>77291</th>\n",
       "      <td>8421430</td>\n",
       "      <td>2012-01-01 00:20:00</td>\n",
       "      <td>005XX N RUSH ST</td>\n",
       "      <td>CRIMINAL DAMAGE</td>\n",
       "      <td>TO VEHICLE</td>\n",
       "      <td>PARKING LOT/GARAGE(NON.RESID.)</td>\n",
       "      <td>True</td>\n",
       "      <td>False</td>\n",
       "      <td>18.0</td>\n",
       "      <td>1177011.0</td>\n",
       "      <td>1903813.0</td>\n",
       "      <td>41.891405</td>\n",
       "      <td>-87.625369</td>\n",
       "      <td>6</td>\n",
       "      <td>2012-01-01</td>\n",
       "    </tr>\n",
       "  </tbody>\n",
       "</table>\n",
       "</div>"
      ],
      "text/plain": [
       "            ID                Date                                Block  \\\n",
       "77272  8421398 2012-01-01 00:23:00                   033XX N HALSTED ST   \n",
       "77273  8421402 2012-01-01 00:30:00  092XX S DR MARTIN LUTHER KING JR DR   \n",
       "77279  8421414 2012-01-01 00:50:00                010XX N MILWAUKEE AVE   \n",
       "77288  8421427 2012-01-01 01:39:00                  045XX N SHERIDAN RD   \n",
       "77291  8421430 2012-01-01 00:20:00                      005XX N RUSH ST   \n",
       "\n",
       "          Primary Type                     Description  \\\n",
       "77272          ASSAULT  AGGRAVATED:KNIFE/CUTTING INSTR   \n",
       "77273          BATTERY   AGGRAVATED: OTHER DANG WEAPON   \n",
       "77279  CRIMINAL DAMAGE                     TO PROPERTY   \n",
       "77288        NARCOTICS                     POSS: CRACK   \n",
       "77291  CRIMINAL DAMAGE                      TO VEHICLE   \n",
       "\n",
       "                 Location Description  Arrest  Domestic  District  \\\n",
       "77272                   BAR OR TAVERN    True     False      19.0   \n",
       "77273                        SIDEWALK   False     False       6.0   \n",
       "77279                       RESIDENCE   False     False      12.0   \n",
       "77288                           ALLEY    True     False      19.0   \n",
       "77291  PARKING LOT/GARAGE(NON.RESID.)    True     False      18.0   \n",
       "\n",
       "       X Coordinate  Y Coordinate   Latitude  Longitude  dow  date only  \n",
       "77272     1170335.0     1922325.0  41.942351 -87.649345    6 2012-01-01  \n",
       "77273     1180537.0     1843779.0  41.726586 -87.614265    6 2012-01-01  \n",
       "77279     1167070.0     1906993.0  41.900350 -87.661786    6 2012-01-01  \n",
       "77288     1168795.0     1930288.0  41.964235 -87.654773    6 2012-01-01  \n",
       "77291     1177011.0     1903813.0  41.891405 -87.625369    6 2012-01-01  "
      ]
     },
     "metadata": {
      "engine": 0
     },
     "output_type": "display_data"
    }
   ],
   "source": [
    "%%px\n",
    "\n",
    "@bodo.jit(cache=True)\n",
    "def filter_crimes(crimes, top_crime_types):\n",
    "    t1 = time.time()\n",
    "    top_crimes = crimes[crimes['Primary Type'].isin(top_crime_types)]\n",
    "    print(\"Filtering crimes Time: \", ((time.time() - t1) * 1000), \" (ms)\")\n",
    "    return top_crimes\n",
    "\n",
    "crimes = filter_crimes(crimes, top_crime_types)\n",
    "if bodo.get_rank()==0:\n",
    "    display(crimes.head())"
   ]
  },
  {
   "cell_type": "markdown",
   "metadata": {},
   "source": [
    "## Crime Analysis\n",
    "\n",
    "### Find Pattern of each crime over the years\n",
    "\n"
   ]
  },
  {
   "cell_type": "code",
   "execution_count": 6,
   "metadata": {
    "execution": {
     "iopub.execute_input": "2022-04-23T16:18:54.331823Z",
     "iopub.status.busy": "2022-04-23T16:18:54.331636Z",
     "iopub.status.idle": "2022-04-23T16:19:13.884539Z",
     "shell.execute_reply": "2022-04-23T16:19:13.884056Z",
     "shell.execute_reply.started": "2022-04-23T16:18:54.331798Z"
    },
    "tags": []
   },
   "outputs": [
    {
     "data": {
      "application/vnd.jupyter.widget-view+json": {
       "model_id": "d70724070d5c4b339b4a16a2c81a5532",
       "version_major": 2,
       "version_minor": 0
      },
      "text/plain": [
       "%px:   0%|          | 0/8 [00:00<?, ?tasks/s]"
      ]
     },
     "metadata": {},
     "output_type": "display_data"
    },
    {
     "data": {
      "text/plain": [
       "[stdout:0] Computing Crime Pattern Time:  2285.3919505992053  (ms)\n"
      ]
     },
     "metadata": {},
     "output_type": "display_data"
    }
   ],
   "source": [
    "%%px\n",
    "@bodo.jit(cache=True)\n",
    "def get_crimes_count_date(crimes):\n",
    "    t1 = time.time()\n",
    "    crimes_count_date = crimes.pivot_table(index='date only', columns='Primary Type', values='ID', aggfunc=\"count\")\n",
    "    print(\"Computing Crime Pattern Time: \", ((time.time() - t1) * 1000), \" (ms)\")\n",
    "    return crimes_count_date\n",
    "\n",
    "crimes_count_date = get_crimes_count_date(crimes)"
   ]
  },
  {
   "cell_type": "code",
   "execution_count": 7,
   "metadata": {
    "execution": {
     "iopub.execute_input": "2022-04-23T16:19:13.885207Z",
     "iopub.status.busy": "2022-04-23T16:19:13.885040Z",
     "iopub.status.idle": "2022-04-23T16:19:55.517905Z",
     "shell.execute_reply": "2022-04-23T16:19:55.517419Z",
     "shell.execute_reply.started": "2022-04-23T16:19:13.885183Z"
    },
    "tags": []
   },
   "outputs": [
    {
     "data": {
      "application/vnd.jupyter.widget-view+json": {
       "model_id": "a4f796a792644034b94b277834e7b01d",
       "version_major": 2,
       "version_minor": 0
      },
      "text/plain": [
       "%px:   0%|          | 0/8 [00:00<?, ?tasks/s]"
      ]
     },
     "metadata": {},
     "output_type": "display_data"
    },
    {
     "data": {
      "text/plain": [
       "[stdout:0] Computing Crime Pattern Time:  2332.6121890568174  (ms)\n"
      ]
     },
     "metadata": {},
     "output_type": "display_data"
    },
    {
     "data": {
      "text/plain": [
       "[output:0]"
      ]
     },
     "metadata": {},
     "output_type": "display_data"
    },
    {
     "data": {
      "text/html": [
       "<div>\n",
       "<style scoped>\n",
       "    .dataframe tbody tr th:only-of-type {\n",
       "        vertical-align: middle;\n",
       "    }\n",
       "\n",
       "    .dataframe tbody tr th {\n",
       "        vertical-align: top;\n",
       "    }\n",
       "\n",
       "    .dataframe thead th {\n",
       "        text-align: right;\n",
       "    }\n",
       "</style>\n",
       "<table border=\"1\" class=\"dataframe\">\n",
       "  <thead>\n",
       "    <tr style=\"text-align: right;\">\n",
       "      <th></th>\n",
       "      <th>ROBBERY</th>\n",
       "      <th>THEFT</th>\n",
       "      <th>ASSAULT</th>\n",
       "      <th>OTHER OFFENSE</th>\n",
       "      <th>BATTERY</th>\n",
       "      <th>DECEPTIVE PRACTICE</th>\n",
       "      <th>NARCOTICS</th>\n",
       "      <th>BURGLARY</th>\n",
       "      <th>MOTOR VEHICLE THEFT</th>\n",
       "      <th>CRIMINAL DAMAGE</th>\n",
       "    </tr>\n",
       "  </thead>\n",
       "  <tbody>\n",
       "    <tr>\n",
       "      <th>2017-01-18</th>\n",
       "      <td>5682.0</td>\n",
       "      <td>32227.0</td>\n",
       "      <td>8930.0</td>\n",
       "      <td>8679.0</td>\n",
       "      <td>25899.0</td>\n",
       "      <td>7472.0</td>\n",
       "      <td>13160.0</td>\n",
       "      <td>8154.0</td>\n",
       "      <td>6003.0</td>\n",
       "      <td>15330.0</td>\n",
       "    </tr>\n",
       "    <tr>\n",
       "      <th>2017-01-17</th>\n",
       "      <td>5752.0</td>\n",
       "      <td>31861.0</td>\n",
       "      <td>8804.0</td>\n",
       "      <td>8517.0</td>\n",
       "      <td>25462.0</td>\n",
       "      <td>7573.0</td>\n",
       "      <td>12156.0</td>\n",
       "      <td>7877.0</td>\n",
       "      <td>6072.0</td>\n",
       "      <td>14993.0</td>\n",
       "    </tr>\n",
       "    <tr>\n",
       "      <th>2017-01-16</th>\n",
       "      <td>5587.0</td>\n",
       "      <td>31745.0</td>\n",
       "      <td>9002.0</td>\n",
       "      <td>8810.0</td>\n",
       "      <td>25700.0</td>\n",
       "      <td>7515.0</td>\n",
       "      <td>12665.0</td>\n",
       "      <td>8087.0</td>\n",
       "      <td>5890.0</td>\n",
       "      <td>15295.0</td>\n",
       "    </tr>\n",
       "    <tr>\n",
       "      <th>2017-01-15</th>\n",
       "      <td>5747.0</td>\n",
       "      <td>31883.0</td>\n",
       "      <td>8796.0</td>\n",
       "      <td>8521.0</td>\n",
       "      <td>25470.0</td>\n",
       "      <td>7583.0</td>\n",
       "      <td>12179.0</td>\n",
       "      <td>7874.0</td>\n",
       "      <td>6066.0</td>\n",
       "      <td>14987.0</td>\n",
       "    </tr>\n",
       "    <tr>\n",
       "      <th>2017-01-14</th>\n",
       "      <td>5628.0</td>\n",
       "      <td>32005.0</td>\n",
       "      <td>8804.0</td>\n",
       "      <td>8696.0</td>\n",
       "      <td>25446.0</td>\n",
       "      <td>7369.0</td>\n",
       "      <td>12950.0</td>\n",
       "      <td>8014.0</td>\n",
       "      <td>5839.0</td>\n",
       "      <td>15204.0</td>\n",
       "    </tr>\n",
       "  </tbody>\n",
       "</table>\n",
       "</div>"
      ],
      "text/plain": [
       "            ROBBERY    THEFT  ASSAULT  OTHER OFFENSE  BATTERY  \\\n",
       "2017-01-18   5682.0  32227.0   8930.0         8679.0  25899.0   \n",
       "2017-01-17   5752.0  31861.0   8804.0         8517.0  25462.0   \n",
       "2017-01-16   5587.0  31745.0   9002.0         8810.0  25700.0   \n",
       "2017-01-15   5747.0  31883.0   8796.0         8521.0  25470.0   \n",
       "2017-01-14   5628.0  32005.0   8804.0         8696.0  25446.0   \n",
       "\n",
       "            DECEPTIVE PRACTICE  NARCOTICS  BURGLARY  MOTOR VEHICLE THEFT  \\\n",
       "2017-01-18              7472.0    13160.0    8154.0               6003.0   \n",
       "2017-01-17              7573.0    12156.0    7877.0               6072.0   \n",
       "2017-01-16              7515.0    12665.0    8087.0               5890.0   \n",
       "2017-01-15              7583.0    12179.0    7874.0               6066.0   \n",
       "2017-01-14              7369.0    12950.0    8014.0               5839.0   \n",
       "\n",
       "            CRIMINAL DAMAGE  \n",
       "2017-01-18          15330.0  \n",
       "2017-01-17          14993.0  \n",
       "2017-01-16          15295.0  \n",
       "2017-01-15          14987.0  \n",
       "2017-01-14          15204.0  "
      ]
     },
     "metadata": {
      "engine": 0
     },
     "output_type": "display_data"
    }
   ],
   "source": [
    "%%px\n",
    "\n",
    "@bodo.jit\n",
    "def get_crimes_type_date(crimes_count_date):\n",
    "    t1 = time.time()\n",
    "    crimes_count_date.index = pd.DatetimeIndex(crimes_count_date.index)\n",
    "    result = crimes_count_date.fillna(0).rolling(365).sum()\n",
    "    result = result.sort_index(ascending=False)\n",
    "    print(\"Computing Crime Pattern Time: \", ((time.time() - t1) * 1000), \" (ms)\")\n",
    "    return result\n",
    "\n",
    "get_crimes_type_date = get_crimes_type_date(crimes_count_date)\n",
    "if bodo.get_rank()==0:\n",
    "    display(get_crimes_type_date.head())"
   ]
  },
  {
   "cell_type": "markdown",
   "metadata": {},
   "source": [
    "## A general view of crime records by time, type and location\n",
    "\n",
    "### Determining the pattern on daily basis"
   ]
  },
  {
   "cell_type": "code",
   "execution_count": 8,
   "metadata": {
    "execution": {
     "iopub.execute_input": "2022-04-23T16:19:55.518580Z",
     "iopub.status.busy": "2022-04-23T16:19:55.518418Z",
     "iopub.status.idle": "2022-04-23T16:19:59.508841Z",
     "shell.execute_reply": "2022-04-23T16:19:59.508370Z",
     "shell.execute_reply.started": "2022-04-23T16:19:55.518556Z"
    },
    "tags": []
   },
   "outputs": [
    {
     "data": {
      "application/vnd.jupyter.widget-view+json": {
       "model_id": "e5e36970682f4712af60ed233e230f6d",
       "version_major": 2,
       "version_minor": 0
      },
      "text/plain": [
       "%px:   0%|          | 0/8 [00:00<?, ?tasks/s]"
      ]
     },
     "metadata": {},
     "output_type": "display_data"
    },
    {
     "data": {
      "text/plain": [
       "[stdout:0] Group by days Time:  1151.63554845185  (ms)\n"
      ]
     },
     "metadata": {},
     "output_type": "display_data"
    },
    {
     "data": {
      "text/plain": [
       "[output:0]"
      ]
     },
     "metadata": {},
     "output_type": "display_data"
    },
    {
     "data": {
      "text/html": [
       "<div>\n",
       "<style scoped>\n",
       "    .dataframe tbody tr th:only-of-type {\n",
       "        vertical-align: middle;\n",
       "    }\n",
       "\n",
       "    .dataframe tbody tr th {\n",
       "        vertical-align: top;\n",
       "    }\n",
       "\n",
       "    .dataframe thead th {\n",
       "        text-align: right;\n",
       "    }\n",
       "</style>\n",
       "<table border=\"1\" class=\"dataframe\">\n",
       "  <thead>\n",
       "    <tr style=\"text-align: right;\">\n",
       "      <th></th>\n",
       "      <th>dow</th>\n",
       "      <th>ID</th>\n",
       "    </tr>\n",
       "  </thead>\n",
       "  <tbody>\n",
       "    <tr>\n",
       "      <th>4</th>\n",
       "      <td>0</td>\n",
       "      <td>95090</td>\n",
       "    </tr>\n",
       "    <tr>\n",
       "      <th>1</th>\n",
       "      <td>1</td>\n",
       "      <td>94739</td>\n",
       "    </tr>\n",
       "    <tr>\n",
       "      <th>2</th>\n",
       "      <td>2</td>\n",
       "      <td>95593</td>\n",
       "    </tr>\n",
       "    <tr>\n",
       "      <th>3</th>\n",
       "      <td>3</td>\n",
       "      <td>94761</td>\n",
       "    </tr>\n",
       "    <tr>\n",
       "      <th>0</th>\n",
       "      <td>4</td>\n",
       "      <td>100601</td>\n",
       "    </tr>\n",
       "  </tbody>\n",
       "</table>\n",
       "</div>"
      ],
      "text/plain": [
       "   dow      ID\n",
       "4    0   95090\n",
       "1    1   94739\n",
       "2    2   95593\n",
       "3    3   94761\n",
       "0    4  100601"
      ]
     },
     "metadata": {
      "engine": 0
     },
     "output_type": "display_data"
    }
   ],
   "source": [
    "%%px\n",
    "@bodo.jit(distributed=['crimes', 'crimes_days'], cache=True)\n",
    "def get_crimes_by_days(crimes):\n",
    "    t1 = time.time()\n",
    "    crimes_days = crimes.groupby('dow', as_index=False)['ID'].count().sort_values(by='dow')\n",
    "    print(\"Group by days Time: \", ((time.time() - t1) * 1000), \" (ms)\")\n",
    "    return crimes_days\n",
    "    \n",
    "crimes_days = get_crimes_by_days(crimes)\n",
    "if bodo.get_rank()==0:\n",
    "    display(crimes_days.head())"
   ]
  },
  {
   "cell_type": "markdown",
   "metadata": {},
   "source": [
    "### Determining the pattern on monthly basis"
   ]
  },
  {
   "cell_type": "code",
   "execution_count": 9,
   "metadata": {
    "execution": {
     "iopub.execute_input": "2022-04-23T16:19:59.509480Z",
     "iopub.status.busy": "2022-04-23T16:19:59.509318Z",
     "iopub.status.idle": "2022-04-23T16:20:04.373129Z",
     "shell.execute_reply": "2022-04-23T16:20:04.372632Z",
     "shell.execute_reply.started": "2022-04-23T16:19:59.509456Z"
    },
    "tags": []
   },
   "outputs": [
    {
     "data": {
      "application/vnd.jupyter.widget-view+json": {
       "model_id": "559e64faeca940a5853a204d365ca478",
       "version_major": 2,
       "version_minor": 0
      },
      "text/plain": [
       "%px:   0%|          | 0/8 [00:00<?, ?tasks/s]"
      ]
     },
     "metadata": {},
     "output_type": "display_data"
    },
    {
     "data": {
      "text/plain": [
       "[stdout:0] Group by days Time:  461.3977206108757  (ms)\n"
      ]
     },
     "metadata": {},
     "output_type": "display_data"
    },
    {
     "data": {
      "text/plain": [
       "[output:0]"
      ]
     },
     "metadata": {},
     "output_type": "display_data"
    },
    {
     "data": {
      "text/html": [
       "<div>\n",
       "<style scoped>\n",
       "    .dataframe tbody tr th:only-of-type {\n",
       "        vertical-align: middle;\n",
       "    }\n",
       "\n",
       "    .dataframe tbody tr th {\n",
       "        vertical-align: top;\n",
       "    }\n",
       "\n",
       "    .dataframe thead th {\n",
       "        text-align: right;\n",
       "    }\n",
       "</style>\n",
       "<table border=\"1\" class=\"dataframe\">\n",
       "  <thead>\n",
       "    <tr style=\"text-align: right;\">\n",
       "      <th></th>\n",
       "      <th>month</th>\n",
       "      <th>ID</th>\n",
       "    </tr>\n",
       "  </thead>\n",
       "  <tbody>\n",
       "    <tr>\n",
       "      <th>6</th>\n",
       "      <td>1</td>\n",
       "      <td>56524</td>\n",
       "    </tr>\n",
       "    <tr>\n",
       "      <th>7</th>\n",
       "      <td>2</td>\n",
       "      <td>45259</td>\n",
       "    </tr>\n",
       "    <tr>\n",
       "      <th>8</th>\n",
       "      <td>3</td>\n",
       "      <td>54459</td>\n",
       "    </tr>\n",
       "    <tr>\n",
       "      <th>3</th>\n",
       "      <td>4</td>\n",
       "      <td>54425</td>\n",
       "    </tr>\n",
       "    <tr>\n",
       "      <th>10</th>\n",
       "      <td>5</td>\n",
       "      <td>59399</td>\n",
       "    </tr>\n",
       "  </tbody>\n",
       "</table>\n",
       "</div>"
      ],
      "text/plain": [
       "    month     ID\n",
       "6       1  56524\n",
       "7       2  45259\n",
       "8       3  54459\n",
       "3       4  54425\n",
       "10      5  59399"
      ]
     },
     "metadata": {
      "engine": 0
     },
     "output_type": "display_data"
    }
   ],
   "source": [
    "%%px\n",
    "@bodo.jit(distributed=['crimes', 'crimes_months'], cache=True)\n",
    "def get_crimes_by_months(crimes):\n",
    "    t1 = time.time()\n",
    "    crimes['month'] = crimes[\"Date\"].dt.month\n",
    "    crimes_months = crimes.groupby('month', as_index=False)['ID'].count().sort_values(by='month')\n",
    "    print(\"Group by days Time: \", ((time.time() - t1) * 1000), \" (ms)\")\n",
    "    return crimes_months\n",
    "    \n",
    "crimes_months = get_crimes_by_months(crimes)\n",
    "if bodo.get_rank()==0:\n",
    "    display(crimes_months.head())"
   ]
  },
  {
   "cell_type": "markdown",
   "metadata": {},
   "source": [
    "### Determining the pattern by crime type"
   ]
  },
  {
   "cell_type": "code",
   "execution_count": 10,
   "metadata": {
    "execution": {
     "iopub.execute_input": "2022-04-23T16:20:04.373757Z",
     "iopub.status.busy": "2022-04-23T16:20:04.373594Z",
     "iopub.status.idle": "2022-04-23T16:20:07.180505Z",
     "shell.execute_reply": "2022-04-23T16:20:07.180033Z",
     "shell.execute_reply.started": "2022-04-23T16:20:04.373733Z"
    },
    "tags": []
   },
   "outputs": [
    {
     "data": {
      "application/vnd.jupyter.widget-view+json": {
       "model_id": "8a412f43395c48fabbedbae9815f16d3",
       "version_major": 2,
       "version_minor": 0
      },
      "text/plain": [
       "%px:   0%|          | 0/8 [00:00<?, ?tasks/s]"
      ]
     },
     "metadata": {},
     "output_type": "display_data"
    },
    {
     "data": {
      "text/plain": [
       "[stdout:0] Group by days Time:  680.3096781682143  (ms)\n"
      ]
     },
     "metadata": {},
     "output_type": "display_data"
    },
    {
     "data": {
      "text/plain": [
       "[output:0]"
      ]
     },
     "metadata": {},
     "output_type": "display_data"
    },
    {
     "data": {
      "text/html": [
       "<div>\n",
       "<style scoped>\n",
       "    .dataframe tbody tr th:only-of-type {\n",
       "        vertical-align: middle;\n",
       "    }\n",
       "\n",
       "    .dataframe tbody tr th {\n",
       "        vertical-align: top;\n",
       "    }\n",
       "\n",
       "    .dataframe thead th {\n",
       "        text-align: right;\n",
       "    }\n",
       "</style>\n",
       "<table border=\"1\" class=\"dataframe\">\n",
       "  <thead>\n",
       "    <tr style=\"text-align: right;\">\n",
       "      <th></th>\n",
       "      <th>Primary Type</th>\n",
       "      <th>ID</th>\n",
       "    </tr>\n",
       "  </thead>\n",
       "  <tbody>\n",
       "    <tr>\n",
       "      <th>1</th>\n",
       "      <td>THEFT</td>\n",
       "      <td>164840</td>\n",
       "    </tr>\n",
       "    <tr>\n",
       "      <th>4</th>\n",
       "      <td>BATTERY</td>\n",
       "      <td>131803</td>\n",
       "    </tr>\n",
       "  </tbody>\n",
       "</table>\n",
       "</div>"
      ],
      "text/plain": [
       "  Primary Type      ID\n",
       "1        THEFT  164840\n",
       "4      BATTERY  131803"
      ]
     },
     "metadata": {
      "engine": 0
     },
     "output_type": "display_data"
    }
   ],
   "source": [
    "%%px\n",
    "@bodo.jit(distributed=['crimes', 'crimes_type'], cache=True)\n",
    "def get_crimes_by_type(crimes):\n",
    "    t1 = time.time()\n",
    "    crimes_type = crimes.groupby('Primary Type', as_index=False)['ID'].count().sort_values(by='ID', ascending=False)\n",
    "    print(\"Group by days Time: \", ((time.time() - t1) * 1000), \" (ms)\")\n",
    "    return crimes_type\n",
    "    \n",
    "crimes_type = get_crimes_by_type(crimes)\n",
    "if bodo.get_rank()==0:\n",
    "    display(crimes_type.head())"
   ]
  },
  {
   "cell_type": "markdown",
   "metadata": {},
   "source": [
    "### Determining the pattern by location"
   ]
  },
  {
   "cell_type": "code",
   "execution_count": 11,
   "metadata": {
    "execution": {
     "iopub.execute_input": "2022-04-23T16:20:07.181159Z",
     "iopub.status.busy": "2022-04-23T16:20:07.180970Z",
     "iopub.status.idle": "2022-04-23T16:20:10.591987Z",
     "shell.execute_reply": "2022-04-23T16:20:10.591485Z",
     "shell.execute_reply.started": "2022-04-23T16:20:07.181134Z"
    },
    "tags": []
   },
   "outputs": [
    {
     "data": {
      "application/vnd.jupyter.widget-view+json": {
       "model_id": "40d36303c3ee4017a99b828b13581742",
       "version_major": 2,
       "version_minor": 0
      },
      "text/plain": [
       "%px:   0%|          | 0/8 [00:00<?, ?tasks/s]"
      ]
     },
     "metadata": {},
     "output_type": "display_data"
    },
    {
     "data": {
      "text/plain": [
       "[stdout:0] Group by days Time:  1227.0002865907372  (ms)\n"
      ]
     },
     "metadata": {},
     "output_type": "display_data"
    },
    {
     "data": {
      "text/plain": [
       "[output:0]"
      ]
     },
     "metadata": {},
     "output_type": "display_data"
    },
    {
     "data": {
      "text/html": [
       "<div>\n",
       "<style scoped>\n",
       "    .dataframe tbody tr th:only-of-type {\n",
       "        vertical-align: middle;\n",
       "    }\n",
       "\n",
       "    .dataframe tbody tr th {\n",
       "        vertical-align: top;\n",
       "    }\n",
       "\n",
       "    .dataframe thead th {\n",
       "        text-align: right;\n",
       "    }\n",
       "</style>\n",
       "<table border=\"1\" class=\"dataframe\">\n",
       "  <thead>\n",
       "    <tr style=\"text-align: right;\">\n",
       "      <th></th>\n",
       "      <th>Location Description</th>\n",
       "      <th>ID</th>\n",
       "    </tr>\n",
       "  </thead>\n",
       "  <tbody>\n",
       "    <tr>\n",
       "      <th>32</th>\n",
       "      <td>STREET</td>\n",
       "      <td>153539</td>\n",
       "    </tr>\n",
       "    <tr>\n",
       "      <th>39</th>\n",
       "      <td>RESIDENCE</td>\n",
       "      <td>108365</td>\n",
       "    </tr>\n",
       "    <tr>\n",
       "      <th>31</th>\n",
       "      <td>APARTMENT</td>\n",
       "      <td>86543</td>\n",
       "    </tr>\n",
       "    <tr>\n",
       "      <th>74</th>\n",
       "      <td>SIDEWALK</td>\n",
       "      <td>73893</td>\n",
       "    </tr>\n",
       "    <tr>\n",
       "      <th>95</th>\n",
       "      <td>OTHER</td>\n",
       "      <td>25845</td>\n",
       "    </tr>\n",
       "  </tbody>\n",
       "</table>\n",
       "</div>"
      ],
      "text/plain": [
       "   Location Description      ID\n",
       "32               STREET  153539\n",
       "39            RESIDENCE  108365\n",
       "31            APARTMENT   86543\n",
       "74             SIDEWALK   73893\n",
       "95                OTHER   25845"
      ]
     },
     "metadata": {
      "engine": 0
     },
     "output_type": "display_data"
    }
   ],
   "source": [
    "%%px\n",
    "@bodo.jit(distributed=['crimes', 'crimes_location'], cache=True)\n",
    "def get_crimes_by_location(crimes):\n",
    "    t1 = time.time()\n",
    "    crimes_location = crimes.groupby('Location Description', as_index=False)['ID'].count().sort_values(by='ID', ascending=False)\n",
    "    print(\"Group by days Time: \", ((time.time() - t1) * 1000), \" (ms)\")\n",
    "    return crimes_location\n",
    "    \n",
    "crimes_location = get_crimes_by_location(crimes)\n",
    "if bodo.get_rank()==0:\n",
    "    display(crimes_location.head())"
   ]
  },
  {
   "cell_type": "code",
   "execution_count": null,
   "metadata": {},
   "outputs": [],
   "source": []
  }
 ],
 "metadata": {
  "kernelspec": {
   "display_name": "SSH 10.30.3.93 Remote-Kernel",
   "language": "",
   "name": "rik_ssh_10_30_3_93_remotekernel"
  },
  "language_info": {
   "codemirror_mode": {
    "name": "ipython",
    "version": 3
   },
   "file_extension": ".py",
   "mimetype": "text/x-python",
   "name": "python",
   "nbconvert_exporter": "python",
   "pygments_lexer": "ipython3",
   "version": "3.9.7"
  }
 },
 "nbformat": 4,
 "nbformat_minor": 4
}
