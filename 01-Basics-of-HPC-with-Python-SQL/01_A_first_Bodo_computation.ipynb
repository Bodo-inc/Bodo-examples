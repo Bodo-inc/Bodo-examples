{
 "cells": [
  {
   "cell_type": "markdown",
   "id": "336ea501-29fe-4e50-9c7a-17c5d628e2f8",
   "metadata": {
    "slideshow": {
     "slide_type": "slide"
    },
    "tags": []
   },
   "source": [
    "## A first Bodo computation"
   ]
  },
  {
   "cell_type": "markdown",
   "id": "89a8bfab",
   "metadata": {
    "slideshow": {
     "slide_type": "notes"
    },
    "tags": []
   },
   "source": [
    "+ Welcome to this first lesson on using Bodo to speed up data processing."
   ]
  },
  {
   "cell_type": "markdown",
   "id": "4e498e0d",
   "metadata": {
    "slideshow": {
     "slide_type": "skip"
    },
    "tags": []
   },
   "source": [
    "---"
   ]
  },
  {
   "cell_type": "markdown",
   "id": "ba1726b7",
   "metadata": {
    "slideshow": {
     "slide_type": "subslide"
    },
    "tags": []
   },
   "source": [
    "<center><img src='./img/data_preview.png'></img></center>\n",
    "\n",
    "+ Simulated customer transaction data\n",
    "+ Some entries missing"
   ]
  },
  {
   "cell_type": "markdown",
   "id": "6bc660db-44cd-4186-b642-64dd414d99a0",
   "metadata": {
    "slideshow": {
     "slide_type": "skip"
    },
    "tags": []
   },
   "source": [
    "---"
   ]
  },
  {
   "cell_type": "markdown",
   "id": "7ade7d7d-afd2-48ac-b1b3-a5c9e1551c01",
   "metadata": {
    "slideshow": {
     "slide_type": "notes"
    },
    "tags": []
   },
   "source": [
    "+ We'll look at synthetic customer transaction data.\n",
    "+ The features include `Name`, `Age`, `Purchase_Date`, `Purchase_Amount`, and so on.\n",
    "+ Observe that the `Age` & `Purchase_Review` columns have some missing entries...\n",
    " + ...which is common in real data."
   ]
  },
  {
   "cell_type": "markdown",
   "id": "1ae2e975-6f1d-43f7-910f-d4a2f9927c8d",
   "metadata": {
    "slideshow": {
     "slide_type": "skip"
    },
    "tags": []
   },
   "source": [
    "---"
   ]
  },
  {
   "cell_type": "markdown",
   "id": "6188a776-42b6-4494-86a0-8ddb8ab61ed6",
   "metadata": {
    "slideshow": {
     "slide_type": "subslide"
    },
    "tags": []
   },
   "source": [
    "### Setting up a computation with Bodo\n",
    "\n",
    "+ Compute average `Purchase_amount` over a large dataset (10,000,000 rows)"
   ]
  },
  {
   "cell_type": "code",
   "execution_count": 1,
   "id": "86565347-00ef-4b6d-95e6-fbad869a67aa",
   "metadata": {
    "slideshow": {
     "slide_type": "-"
    },
    "tags": []
   },
   "outputs": [],
   "source": [
    "import pandas as pd, numpy as np\n",
    "pd.set_option('display.precision', 2)"
   ]
  },
  {
   "cell_type": "markdown",
   "id": "688324b8-8e77-4977-be02-f3d5e1409333",
   "metadata": {
    "slideshow": {
     "slide_type": "skip"
    },
    "tags": []
   },
   "source": [
    "---"
   ]
  },
  {
   "cell_type": "markdown",
   "id": "d52a24d9",
   "metadata": {
    "slideshow": {
     "slide_type": "notes"
    },
    "tags": []
   },
   "source": [
    "+ Our first computation is to read 10 files of Parquet data—each with a million rows—and compute an average.\n",
    "+ We start with generic imports—Pandas & NumPy"
   ]
  },
  {
   "cell_type": "markdown",
   "id": "65582df6",
   "metadata": {
    "slideshow": {
     "slide_type": "skip"
    },
    "tags": []
   },
   "source": [
    "---"
   ]
  },
  {
   "cell_type": "code",
   "execution_count": 2,
   "id": "1bc3de20",
   "metadata": {
    "slideshow": {
     "slide_type": "subslide"
    },
    "tags": []
   },
   "outputs": [],
   "source": [
    "DATA_ROOT = 's3://bodo-examples-data/bodo-training-fundamentals'\n",
    "DATA_SRC = f'{DATA_ROOT}/DATA/PARQUET_010'\n",
    "\n",
    "loading_opts = dict(storage_options=dict(anon=True))"
   ]
  },
  {
   "cell_type": "code",
   "execution_count": 3,
   "id": "04c4cdea-52a4-422c-814f-c11768409474",
   "metadata": {
    "slideshow": {
     "slide_type": "fragment"
    },
    "tags": []
   },
   "outputs": [
    {
     "name": "stdout",
     "output_type": "stream",
     "text": [
      "CPU times: user 10.6 s, sys: 2.38 s, total: 12.9 s\n",
      "Wall time: 1min 2s\n"
     ]
    }
   ],
   "source": [
    "%time df = pd.read_parquet(DATA_SRC, **loading_opts)"
   ]
  },
  {
   "cell_type": "markdown",
   "id": "42ade7dd-d59e-4131-8fe5-585b66a090e2",
   "metadata": {
    "slideshow": {
     "slide_type": "skip"
    },
    "tags": []
   },
   "source": [
    "---"
   ]
  },
  {
   "cell_type": "markdown",
   "id": "8b616e4a",
   "metadata": {
    "slideshow": {
     "slide_type": "notes"
    },
    "tags": []
   },
   "source": [
    "+ To get the data, we define a string `DATA_SRC` to describe its location...\n",
    "  + on a public remote S3 bucket.\n",
    "  + The object `DATA_SRC` is defined over two lines here simply to fit on screen.\n",
    "+ We also define a dictionary `loading_opts`...\n",
    "  + ...to use as a required argument for Pandas's `read_parquet` function.\n",
    "  + ...(needed to read data from a remote S3 bucket).\n",
    "---\n",
    "+ When executed, this took some time to load (almost a minute on this laptop & internet connection).\n",
    "+ We'll look at timings like this more closely later."
   ]
  },
  {
   "cell_type": "markdown",
   "id": "468f2ed8-611b-4a12-8fc1-171ff71c6855",
   "metadata": {
    "slideshow": {
     "slide_type": "skip"
    },
    "tags": []
   },
   "source": [
    "---"
   ]
  },
  {
   "cell_type": "code",
   "execution_count": 4,
   "id": "0b6b5c79-b034-4f17-ab16-ceda52f8bdae",
   "metadata": {
    "slideshow": {
     "slide_type": "subslide"
    },
    "tags": []
   },
   "outputs": [
    {
     "name": "stdout",
     "output_type": "stream",
     "text": [
      "The dataframe has 10,000,000 rows & 6 columns.\n"
     ]
    },
    {
     "data": {
      "text/html": [
       "<div>\n",
       "<style scoped>\n",
       "    .dataframe tbody tr th:only-of-type {\n",
       "        vertical-align: middle;\n",
       "    }\n",
       "\n",
       "    .dataframe tbody tr th {\n",
       "        vertical-align: top;\n",
       "    }\n",
       "\n",
       "    .dataframe thead th {\n",
       "        text-align: right;\n",
       "    }\n",
       "</style>\n",
       "<table border=\"1\" class=\"dataframe\">\n",
       "  <thead>\n",
       "    <tr style=\"text-align: right;\">\n",
       "      <th></th>\n",
       "      <th>Name</th>\n",
       "      <th>Age</th>\n",
       "      <th>Purchase_Date</th>\n",
       "      <th>Purchase_Amount</th>\n",
       "      <th>Product</th>\n",
       "      <th>Product_Review</th>\n",
       "    </tr>\n",
       "  </thead>\n",
       "  <tbody>\n",
       "    <tr>\n",
       "      <th>9999999</th>\n",
       "      <td>Hsiu Shelton</td>\n",
       "      <td>24</td>\n",
       "      <td>1992-10-27 14:03:09</td>\n",
       "      <td>40.43</td>\n",
       "      <td>Toys</td>\n",
       "      <td>Terrible : Ports are created with the built-in...</td>\n",
       "    </tr>\n",
       "  </tbody>\n",
       "</table>\n",
       "</div>"
      ],
      "text/plain": [
       "                 Name  Age       Purchase_Date  Purchase_Amount Product  \\\n",
       "9999999  Hsiu Shelton   24 1992-10-27 14:03:09            40.43    Toys   \n",
       "\n",
       "                                            Product_Review  \n",
       "9999999  Terrible : Ports are created with the built-in...  "
      ]
     },
     "execution_count": 4,
     "metadata": {},
     "output_type": "execute_result"
    }
   ],
   "source": [
    "print('The dataframe has {:,d} rows & {} columns.'\n",
    "      .format(*df.shape))\n",
    "\n",
    "df.tail(1)"
   ]
  },
  {
   "cell_type": "markdown",
   "id": "16dd61a8-b649-4ad9-92a1-d027bdccfac8",
   "metadata": {
    "slideshow": {
     "slide_type": "skip"
    },
    "tags": []
   },
   "source": [
    "---"
   ]
  },
  {
   "cell_type": "markdown",
   "id": "037862d9-7c37-427c-91c1-50966478a504",
   "metadata": {
    "slideshow": {
     "slide_type": "notes"
    },
    "tags": []
   },
   "source": [
    "+ We can examine the contents of the dataframe in memory to ensure it's loaded appropriately.\n",
    "+ Sure enough, there are 10 million rows\n",
    "+ Examining the last row with the `tail` method shows the columns are as we expect."
   ]
  },
  {
   "cell_type": "markdown",
   "id": "4a443c40",
   "metadata": {
    "slideshow": {
     "slide_type": "skip"
    },
    "tags": []
   },
   "source": [
    "---"
   ]
  },
  {
   "cell_type": "markdown",
   "id": "6a60fd7f-8f75-4e41-ac75-b9e177ac8f9d",
   "metadata": {
    "jp-MarkdownHeadingCollapsed": true,
    "slideshow": {
     "slide_type": "subslide"
    },
    "tags": []
   },
   "source": [
    "```python\n",
    "# Computing average of Purchase_amount column\n",
    "            df['Purchase_Amount']\n",
    "‎\n",
    "```"
   ]
  },
  {
   "cell_type": "markdown",
   "id": "c6769ed3-4436-4d8a-b0f5-7ded25be04d6",
   "metadata": {
    "slideshow": {
     "slide_type": "notes"
    },
    "tags": []
   },
   "source": [
    "+ We can apply standard Pandas idioms for extracting columns..."
   ]
  },
  {
   "cell_type": "markdown",
   "id": "89e5ca7e-846d-4075-aa50-2fe78260164f",
   "metadata": {
    "slideshow": {
     "slide_type": "skip"
    },
    "tags": []
   },
   "source": [
    "---"
   ]
  },
  {
   "cell_type": "markdown",
   "id": "b5c415c0-3b41-4028-8437-2dcf0932243d",
   "metadata": {
    "jp-MarkdownHeadingCollapsed": true,
    "slideshow": {
     "slide_type": "subslide"
    },
    "tags": []
   },
   "source": [
    "```python\n",
    "# Computing average of Purchase_amount column\n",
    "      avg = df['Purchase_Amount'].mean()\n",
    "‎\n",
    "```"
   ]
  },
  {
   "cell_type": "markdown",
   "id": "f7a92446-ebaf-4830-89dd-5e4d3e8b91ef",
   "metadata": {
    "slideshow": {
     "slide_type": "notes"
    },
    "tags": []
   },
   "source": [
    "+ ... and computing statistics like averages."
   ]
  },
  {
   "cell_type": "markdown",
   "id": "c946e0c5-da1c-495b-beb9-02518315d3a6",
   "metadata": {
    "slideshow": {
     "slide_type": "skip"
    },
    "tags": []
   },
   "source": [
    "---"
   ]
  },
  {
   "cell_type": "markdown",
   "id": "f39502da-877e-4bde-b7b4-38be8440922e",
   "metadata": {
    "jp-MarkdownHeadingCollapsed": true,
    "slideshow": {
     "slide_type": "subslide"
    },
    "tags": []
   },
   "source": [
    "```python\n",
    "# Computing average of Purchase_amount column\n",
    "%time avg = df['Purchase_Amount'].mean()\n",
    "print(f'Average Purchase_Amount: ${avg:,.2f}')\n",
    "```"
   ]
  },
  {
   "cell_type": "markdown",
   "id": "fe8cfacf-9a8d-4983-bc35-63b9c4f7017a",
   "metadata": {
    "slideshow": {
     "slide_type": "notes"
    },
    "tags": []
   },
   "source": [
    "+ In particular, let's time a computation of the mean of the `Purchase_Amount` column."
   ]
  },
  {
   "cell_type": "markdown",
   "id": "eb2b1968-c349-4ba3-9709-3077bc1aef0c",
   "metadata": {
    "slideshow": {
     "slide_type": "skip"
    },
    "tags": []
   },
   "source": [
    "---"
   ]
  },
  {
   "cell_type": "code",
   "execution_count": 5,
   "id": "a71c86f4-eb15-42dd-87f4-a99ea9a3dc59",
   "metadata": {
    "slideshow": {
     "slide_type": "subslide"
    },
    "tags": []
   },
   "outputs": [
    {
     "name": "stdout",
     "output_type": "stream",
     "text": [
      "CPU times: user 15.9 ms, sys: 0 ns, total: 15.9 ms\n",
      "Wall time: 15.2 ms\n",
      "Average Purchase_Amount: $184.91\n"
     ]
    }
   ],
   "source": [
    "# Computing average of Purchase_amount column\n",
    "%time avg = df['Purchase_Amount'].mean()\n",
    "print(f'Average Purchase_Amount: ${avg:,.2f}')"
   ]
  },
  {
   "cell_type": "markdown",
   "id": "e7758772-2e43-4515-845d-696a288e4336",
   "metadata": {
    "slideshow": {
     "slide_type": "skip"
    },
    "tags": []
   },
   "source": [
    "---"
   ]
  },
  {
   "cell_type": "markdown",
   "id": "f03598e1-63ba-4e34-8f4e-c356e47107fe",
   "metadata": {
    "slideshow": {
     "slide_type": "notes"
    },
    "tags": []
   },
   "source": [
    "+ This is pretty fast in Pandas—about a tenth of a second on this machine.\n",
    "+ This speed is largely possible because the dataframe fits in local memory."
   ]
  },
  {
   "cell_type": "markdown",
   "id": "054ce3cf",
   "metadata": {
    "slideshow": {
     "slide_type": "skip"
    },
    "tags": []
   },
   "source": [
    "---"
   ]
  },
  {
   "cell_type": "markdown",
   "id": "2e6ae24b-43e1-4bf8-8777-1c59a3337064",
   "metadata": {
    "slideshow": {
     "slide_type": "subslide"
    }
   },
   "source": [
    "```python\n",
    "# Embedding in a function...\n",
    "‎\n",
    "def compute_mean_purchase():\n",
    "    ‎\n",
    "    loading_opts = dict(storage_options=dict(anon=True))\n",
    "    DATA_ROOT = 's3://bodo-examples-data/bodo-training-fundamentals'\n",
    "    DATA_SRC = f'{DATA_ROOT}/DATA/PARQUET_010'\n",
    "    df = pd.read_parquet(DATA_SRC, **loading_opts)\n",
    "    avg = df['Purchase_Amount'].mean()\n",
    "    ‎\n",
    "    return avg\n",
    "```"
   ]
  },
  {
   "cell_type": "markdown",
   "id": "73ff15ba-d682-4067-94ae-025bd976eadd",
   "metadata": {
    "slideshow": {
     "slide_type": "skip"
    },
    "tags": []
   },
   "source": [
    "---"
   ]
  },
  {
   "cell_type": "markdown",
   "id": "c69f3ebf-dcad-4067-906d-f49a11cbca29",
   "metadata": {
    "slideshow": {
     "slide_type": "notes"
    },
    "tags": []
   },
   "source": [
    "+ All of the preceding steps to compute an average purchase price can be encapsulated in a single function.\n",
    "+ This is an important step in using Bodo:\n",
    "  + setting up analysis in a *compilable* function like `compute_mean_purchase`."
   ]
  },
  {
   "cell_type": "markdown",
   "id": "936a7629-71f0-49b2-bb2f-8a3112450671",
   "metadata": {
    "slideshow": {
     "slide_type": "skip"
    },
    "tags": []
   },
   "source": [
    "---"
   ]
  },
  {
   "cell_type": "markdown",
   "id": "9ea140ad-4c18-474e-96ad-4cfce76ace3d",
   "metadata": {
    "slideshow": {
     "slide_type": "subslide"
    }
   },
   "source": [
    "```python\n",
    "# Embedding in a function...\n",
    "import time\n",
    "def compute_mean_purchase():\n",
    "    start = time.time()\n",
    "    loading_opts = dict(storage_options=dict(anon=True))\n",
    "    DATA_ROOT = 's3://bodo-examples-data/bodo-training-fundamentals'\n",
    "    DATA_SRC = f'{DATA_ROOT}/DATA/PARQUET_010'\n",
    "    df = pd.read_parquet(DATA_SRC, **loading_opts)\n",
    "    avg = df['Purchase_Amount'].mean()\n",
    "    print(f'Elapsed time: {time.time() - start:.3f} s')\n",
    "    return avg\n",
    "```"
   ]
  },
  {
   "cell_type": "markdown",
   "id": "c12d99a0-a272-4aca-9283-cfeb57c184dd",
   "metadata": {
    "slideshow": {
     "slide_type": "skip"
    },
    "tags": []
   },
   "source": [
    "---"
   ]
  },
  {
   "cell_type": "markdown",
   "id": "26e83a11-e73d-4aa9-8661-4c1ea98b697e",
   "metadata": {
    "slideshow": {
     "slide_type": "notes"
    },
    "tags": []
   },
   "source": [
    "+ We'll load the `time` module & modify the function `compute_mean_purchase` to call the `time.time` function twice within.\n",
    "  + We'll look at this more later."
   ]
  },
  {
   "cell_type": "markdown",
   "id": "4522bf76-3928-4ee1-81c8-3abceb8047d2",
   "metadata": {
    "slideshow": {
     "slide_type": "skip"
    },
    "tags": []
   },
   "source": [
    "---"
   ]
  },
  {
   "cell_type": "code",
   "execution_count": 6,
   "id": "682a44c3-1f79-4569-9684-793b06ca2b12",
   "metadata": {
    "slideshow": {
     "slide_type": "subslide"
    }
   },
   "outputs": [],
   "source": [
    "# Embedding in a function...\n",
    "import time\n",
    "def compute_mean_purchase():\n",
    "    start = time.time()\n",
    "    loading_opts = dict(storage_options=dict(anon=True))\n",
    "    DATA_ROOT = 's3://bodo-examples-data/bodo-training-fundamentals'\n",
    "    DATA_SRC = f'{DATA_ROOT}/DATA/PARQUET_010'\n",
    "    df = pd.read_parquet(DATA_SRC, **loading_opts)\n",
    "    avg = df['Purchase_Amount'].mean()\n",
    "    print(f'Elapsed time: {time.time() - start:.3f} s')\n",
    "    return avg"
   ]
  },
  {
   "cell_type": "code",
   "execution_count": 7,
   "id": "abbec5af-a8e9-400c-817a-10aaa400fc9b",
   "metadata": {
    "slideshow": {
     "slide_type": "fragment"
    },
    "tags": []
   },
   "outputs": [
    {
     "name": "stdout",
     "output_type": "stream",
     "text": [
      "Elapsed time: 57.544 s\n",
      "Average Purchase_Amount: $184.91\n"
     ]
    }
   ],
   "source": [
    "avg = compute_mean_purchase()\n",
    "print(f'Average Purchase_Amount: ${avg:,.2f}')"
   ]
  },
  {
   "cell_type": "markdown",
   "id": "c614ae39",
   "metadata": {
    "slideshow": {
     "slide_type": "skip"
    },
    "tags": []
   },
   "source": [
    "---"
   ]
  },
  {
   "cell_type": "markdown",
   "id": "703d170b-5292-4cf3-a77a-aefca2debb41",
   "metadata": {
    "slideshow": {
     "slide_type": "notes"
    },
    "tags": []
   },
   "source": [
    "+ On defining...\n",
    "---\n",
    "+ ...and executing the function `compute_mean_purchase`, the computation time is displayed to the screen\n",
    "  + This took about 60 seconds on this machine.\n",
    "+ Remember, this includes *both* loading the data & executing the actual computation."
   ]
  },
  {
   "cell_type": "markdown",
   "id": "174d1d4a-3745-4195-a6d6-1814a5a8ff10",
   "metadata": {
    "slideshow": {
     "slide_type": "skip"
    },
    "tags": []
   },
   "source": [
    "---"
   ]
  },
  {
   "cell_type": "markdown",
   "id": "f01686d3-2a32-48bc-81d3-cb151d506c54",
   "metadata": {
    "slideshow": {
     "slide_type": "subslide"
    },
    "tags": []
   },
   "source": [
    "### The bodo.jit decorator"
   ]
  },
  {
   "cell_type": "markdown",
   "id": "c8fdffa5-365b-4033-94cc-c29c334fde68",
   "metadata": {
    "slideshow": {
     "slide_type": "fragment"
    },
    "tags": []
   },
   "source": [
    "```python\n",
    "# Load module to enable bodo.jit...\n",
    "import bodo\n",
    "‎\n",
    "def compute_mean_purchase():\n",
    "    start = time.time()\n",
    "    loading_opts = dict(storage_options=dict(anon=True))\n",
    "    DATA_ROOT = 's3://bodo-examples-data/bodo-training-fundamentals'\n",
    "    DATA_SRC = f'{DATA_ROOT}/DATA/PARQUET_010'\n",
    "    df = pd.read_parquet(DATA_SRC, **loading_opts)\n",
    "    avg = df['Purchase_Amount'].mean()\n",
    "    print(f'Elapsed time: {time.time() - start:.3f} s')\n",
    "    return avg\n",
    "```"
   ]
  },
  {
   "cell_type": "markdown",
   "id": "63599260",
   "metadata": {
    "slideshow": {
     "slide_type": "skip"
    },
    "tags": []
   },
   "source": [
    "---"
   ]
  },
  {
   "cell_type": "markdown",
   "id": "dfade5c7-b821-4851-8a84-8703d6680b87",
   "metadata": {
    "slideshow": {
     "slide_type": "notes"
    },
    "tags": []
   },
   "source": [
    "+ Now, we'll do this again.\n",
    "---\n",
    "+ We import the `bodo` package and try again.\n",
    "+ Starting from the function `compute_mean_purchase`, we'll make three changes."
   ]
  },
  {
   "cell_type": "markdown",
   "id": "142bc142-60d5-46ef-bc90-4b122d159ed8",
   "metadata": {
    "slideshow": {
     "slide_type": "skip"
    },
    "tags": []
   },
   "source": [
    "---"
   ]
  },
  {
   "cell_type": "markdown",
   "id": "97ed545d-6fa4-4c62-a350-2e5a60d39f2a",
   "metadata": {
    "slideshow": {
     "slide_type": "subslide"
    },
    "tags": []
   },
   "source": [
    "### The bodo.jit decorator"
   ]
  },
  {
   "cell_type": "markdown",
   "id": "19760d24-ad0a-4bc9-ac46-6b6706e34156",
   "metadata": {
    "tags": []
   },
   "source": [
    "```python\n",
    "# Load module to enable bodo.jit...\n",
    "import bodo\n",
    "@bodo.jit\n",
    "def compute_mean_purchase():\n",
    "    start = time.time()\n",
    "    loading_opts = dict(storage_options=dict(anon=True))\n",
    "    DATA_ROOT = 's3://bodo-examples-data/bodo-training-fundamentals'\n",
    "    DATA_SRC = f'{DATA_ROOT}/DATA/PARQUET_010'\n",
    "    df = pd.read_parquet(DATA_SRC, **loading_opts)\n",
    "    avg = df['Purchase_Amount'].mean()\n",
    "    print(f'Elapsed time: {time.time() - start:.3f} s')\n",
    "    return avg\n",
    "```"
   ]
  },
  {
   "cell_type": "markdown",
   "id": "0346eb91-a7d5-4822-8579-253cdd6c6b50",
   "metadata": {
    "slideshow": {
     "slide_type": "skip"
    },
    "tags": []
   },
   "source": [
    "---"
   ]
  },
  {
   "cell_type": "markdown",
   "id": "58e8ac8b-88ce-4e40-a272-a0b9f061085e",
   "metadata": {
    "slideshow": {
     "slide_type": "notes"
    },
    "tags": []
   },
   "source": [
    "+ First, we'll prepend the decorator `bodo.jit` to the function header.\n",
    "+ Remember, decorator functions are higher-order functions.\n",
    "+ This decorated function replaces the original function `compute_mean_purchase`\n",
    "  + with one that is passed through Bodo's *Just-in-Time* compiler."
   ]
  },
  {
   "cell_type": "markdown",
   "id": "6c3f858c-d16a-4b69-b6c9-ed1f2b578e22",
   "metadata": {
    "slideshow": {
     "slide_type": "skip"
    },
    "tags": []
   },
   "source": [
    "---"
   ]
  },
  {
   "cell_type": "markdown",
   "id": "47a6678a-c6a1-4aa1-ac71-6b7ca2299402",
   "metadata": {
    "slideshow": {
     "slide_type": "subslide"
    },
    "tags": []
   },
   "source": [
    "### The bodo.jit decorator"
   ]
  },
  {
   "cell_type": "markdown",
   "id": "7f6090de-5eb2-47ef-a88d-f80ec13acc0f",
   "metadata": {
    "tags": []
   },
   "source": [
    "```python\n",
    "# Load module to enable bodo.jit...\n",
    "import bodo\n",
    "@bodo.jit\n",
    "def compute_mean_purchase_bodo():\n",
    "    start = time.time()\n",
    "    loading_opts = dict(storage_options=dict(anon=True))\n",
    "    DATA_ROOT = 's3://bodo-examples-data/bodo-training-fundamentals'\n",
    "    DATA_SRC = f'{DATA_ROOT}/DATA/PARQUET_010'\n",
    "    df = pd.read_parquet(DATA_SRC, **loading_opts)\n",
    "    avg = df['Purchase_Amount'].mean()\n",
    "    print(f'Elapsed time: {time.time() - start:.3f} s')\n",
    "    return avg\n",
    "```"
   ]
  },
  {
   "cell_type": "markdown",
   "id": "c91db797-a599-41b8-b95d-6c36b293d1be",
   "metadata": {
    "slideshow": {
     "slide_type": "skip"
    },
    "tags": []
   },
   "source": [
    "---"
   ]
  },
  {
   "cell_type": "markdown",
   "id": "4cc32974-b045-441e-a2aa-a422db788220",
   "metadata": {
    "slideshow": {
     "slide_type": "notes"
    },
    "tags": []
   },
   "source": [
    "+ Next, we'll bind the function's identifier as `compute_mean_purchase_bodo`\n",
    "  + to distinguish it as a new function.\n",
    "+ This isn't strictly necessary unless we want to have both the decorated & undecorated functions in our namespace."
   ]
  },
  {
   "cell_type": "markdown",
   "id": "8b84c083-a02d-476a-bfd9-81ad3c62f2b7",
   "metadata": {
    "slideshow": {
     "slide_type": "skip"
    },
    "tags": []
   },
   "source": [
    "---"
   ]
  },
  {
   "cell_type": "markdown",
   "id": "76879efd-65ba-464c-8508-495a04aa8928",
   "metadata": {
    "slideshow": {
     "slide_type": "subslide"
    },
    "tags": []
   },
   "source": [
    "### The bodo.jit decorator"
   ]
  },
  {
   "cell_type": "markdown",
   "id": "97d28c33",
   "metadata": {
    "tags": []
   },
   "source": [
    "```python\n",
    "# Load module to enable bodo.jit...\n",
    "import bodo\n",
    "@bodo.jit\n",
    "def compute_mean_purchase_bodo():\n",
    "    start = time.time()\n",
    "    DATA_ROOT = 's3://bodo-examples-data/bodo-training-fundamentals'\n",
    "    DATA_SRC = f'{DATA_ROOT}/DATA/PARQUET_010'\n",
    "    df = pd.read_parquet(DATA_SRC)\n",
    "    avg = df['Purchase_Amount'].mean()\n",
    "    print(f'Elapsed time: {time.time() - start:.3f} s')\n",
    "    return avg\n",
    "```"
   ]
  },
  {
   "cell_type": "markdown",
   "id": "67f12fb9-26ae-4795-9565-e5810f744fb5",
   "metadata": {
    "slideshow": {
     "slide_type": "skip"
    },
    "tags": []
   },
   "source": [
    "---"
   ]
  },
  {
   "cell_type": "markdown",
   "id": "2c348490-fa40-4287-97c0-df35b0f30ee2",
   "metadata": {
    "slideshow": {
     "slide_type": "notes"
    },
    "tags": []
   },
   "source": [
    "+ Finally, we'll remove the dictionary `loading_opts` (and all references to it) from inside the function.\n",
    "+ The Bodo JIT decorator removes the need for this extra option...\n",
    "  + ...inside function calls when reading from S3 buckets."
   ]
  },
  {
   "cell_type": "markdown",
   "id": "798c3cd6-604f-4357-844e-8484ea3dece8",
   "metadata": {
    "slideshow": {
     "slide_type": "skip"
    },
    "tags": []
   },
   "source": [
    "---"
   ]
  },
  {
   "cell_type": "code",
   "execution_count": 8,
   "id": "ed5ee0e8",
   "metadata": {
    "slideshow": {
     "slide_type": "subslide"
    },
    "tags": []
   },
   "outputs": [],
   "source": [
    "# Load module to enable bodo.jit...\n",
    "import bodo\n",
    "\n",
    "@bodo.jit\n",
    "def compute_mean_purchase_bodo():\n",
    "    start = time.time()\n",
    "    DATA_ROOT = 's3://bodo-examples-data/bodo-training-fundamentals'\n",
    "    DATA_SRC = f'{DATA_ROOT}/DATA/PARQUET_010'\n",
    "    df = pd.read_parquet(DATA_SRC)\n",
    "    avg = df['Purchase_Amount'].mean()\n",
    "    print(f'Elapsed time: {time.time() - start:.3f} s')\n",
    "    return avg"
   ]
  },
  {
   "cell_type": "code",
   "execution_count": 9,
   "id": "187c95f9-ad9f-4327-86e6-8004ccfefbfc",
   "metadata": {
    "slideshow": {
     "slide_type": "-"
    },
    "tags": []
   },
   "outputs": [
    {
     "name": "stdout",
     "output_type": "stream",
     "text": [
      "Elapsed time: 40.814 s\n",
      "Average Purchase_Amount: $184.91\n"
     ]
    }
   ],
   "source": [
    "compute_mean_purchase_bodo()\n",
    "print(f'Average Purchase_Amount: ${avg:,.2f}')"
   ]
  },
  {
   "cell_type": "markdown",
   "id": "4b95d21c-83ca-4431-9cfc-2f54e3b2f7c0",
   "metadata": {
    "slideshow": {
     "slide_type": "skip"
    },
    "tags": []
   },
   "source": [
    "---"
   ]
  },
  {
   "cell_type": "markdown",
   "id": "3c762d43-317a-4ebb-aa97-f930831144b3",
   "metadata": {
    "slideshow": {
     "slide_type": "notes"
    },
    "tags": []
   },
   "source": [
    "+ When this function is evaluated, it takes about 40 seconds (versus a minute previously)\n",
    "  + ... not huge savings, but it's a decent start.\n",
    "+ This is a glimpse of how Bodo's Just-in-Time compiler technology helps data analytics.\n",
    "+ The JIT compiler recogizes that only one column is extracted from files from the remote S3 bucket\n",
    "  + ... and sets up the compiled function with optimized data access, transmission, & computations.\n",
    "+ This decorated function gives a slight improvement for this relatively small dataset;\n",
    "  + greater gains are observable with more data."
   ]
  },
  {
   "cell_type": "markdown",
   "id": "48f2ba12-1518-4eb7-bf3a-745e508c76c8",
   "metadata": {
    "slideshow": {
     "slide_type": "skip"
    },
    "tags": []
   },
   "source": [
    "---"
   ]
  },
  {
   "cell_type": "markdown",
   "id": "647c7728",
   "metadata": {
    "slideshow": {
     "slide_type": "subslide"
    },
    "tags": []
   },
   "source": [
    "### Summary\n",
    "\n",
    "+ `bodo.jit`: Just-in-Time compiler\n",
    "+ Implemented through Python decorator"
   ]
  },
  {
   "cell_type": "markdown",
   "id": "a8e8d860-a640-4790-969d-b01debc379c3",
   "metadata": {
    "slideshow": {
     "slide_type": "skip"
    },
    "tags": []
   },
   "source": [
    "---"
   ]
  },
  {
   "cell_type": "markdown",
   "id": "f5598381-7cb5-4c72-8dd3-33f99b6ff23e",
   "metadata": {
    "slideshow": {
     "slide_type": "notes"
    },
    "tags": []
   },
   "source": [
    "+ We've had a brief look at how to apply Bodo in a simple case; we'll see more examples soon.\n",
    "+ Later, we'll see how Bodo incorporates parallelism to scale analysis further still."
   ]
  },
  {
   "cell_type": "markdown",
   "id": "05b44bf5-5815-4b7e-8bd9-d4d9b4c860d4",
   "metadata": {
    "slideshow": {
     "slide_type": "skip"
    },
    "tags": []
   },
   "source": [
    "---"
   ]
  }
 ],
 "metadata": {
  "celltoolbar": "Slideshow",
  "kernelspec": {
   "display_name": "Python 3 (ipykernel)",
   "language": "python",
   "name": "python3"
  },
  "language_info": {
   "codemirror_mode": {
    "name": "ipython",
    "version": 3
   },
   "file_extension": ".py",
   "mimetype": "text/x-python",
   "name": "python",
   "nbconvert_exporter": "python",
   "pygments_lexer": "ipython3",
   "version": "3.9.7"
  },
  "rise": {
   "auto_select": "none",
   "slideNumber": false,
   "transition": "none"
  }
 },
 "nbformat": 4,
 "nbformat_minor": 5
}
