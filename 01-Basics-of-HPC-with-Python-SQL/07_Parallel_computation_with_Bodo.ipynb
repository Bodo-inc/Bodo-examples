{
 "cells": [
  {
   "cell_type": "markdown",
   "id": "c2b5838f-33b1-489b-af6b-2789601463cd",
   "metadata": {
    "slideshow": {
     "slide_type": "slide"
    },
    "tags": []
   },
   "source": [
    "## Parallel Computation with Bodo"
   ]
  },
  {
   "cell_type": "markdown",
   "id": "a08d1a47-420e-4078-92be-2c7cc6d61b8e",
   "metadata": {
    "slideshow": {
     "slide_type": "notes"
    },
    "tags": []
   },
   "source": [
    "+ Finally, let's get some practice using Bodo for parallel computing on a cluster."
   ]
  },
  {
   "cell_type": "markdown",
   "id": "6de397f6-71fd-437e-bb34-63d3e13dfdd6",
   "metadata": {
    "slideshow": {
     "slide_type": "skip"
    },
    "tags": []
   },
   "source": [
    "---"
   ]
  },
  {
   "cell_type": "markdown",
   "id": "088f08ef",
   "metadata": {
    "slideshow": {
     "slide_type": "subslide"
    },
    "tags": []
   },
   "source": [
    "```\n",
    "State: RUNNING\n",
    "Number of instances: 2\n",
    "Instance Type: c5.2xlarge\n",
    "Bodo Version: 2022.3.5\n",
    "```"
   ]
  },
  {
   "cell_type": "markdown",
   "id": "c66276e7-df41-4024-8a5a-06603938b9d7",
   "metadata": {
    "slideshow": {
     "slide_type": "notes"
    }
   },
   "source": [
    "+ This notebook is executed on a cluster with 4 instances.\n",
    "+ Each instance has 2 cores.\n"
   ]
  },
  {
   "cell_type": "markdown",
   "id": "12789b2d",
   "metadata": {
    "slideshow": {
     "slide_type": "skip"
    },
    "tags": []
   },
   "source": [
    "---"
   ]
  },
  {
   "cell_type": "markdown",
   "id": "8a8c25ff-04bd-4d7a-8729-989348fd6c27",
   "metadata": {
    "slideshow": {
     "slide_type": "subslide"
    },
    "tags": []
   },
   "source": [
    "```python\n",
    "import psutil\n",
    "n_proc = max(psutil.cpu_count(logical=False), 2)\n",
    "```"
   ]
  },
  {
   "cell_type": "markdown",
   "id": "962a4212-59d0-4a67-8bdc-a02562454089",
   "metadata": {
    "slideshow": {
     "slide_type": "fragment"
    },
    "tags": []
   },
   "source": [
    "```python\n",
    "import ipyparallel as ipp\n",
    "rc = (ipp.Cluster(engines='mpi', n=n_proc)\n",
    "         .start_and_connect_sync(activate=True))\n",
    "```"
   ]
  },
  {
   "cell_type": "markdown",
   "id": "5cd865c0-9f94-491b-a35d-04f541578345",
   "metadata": {
    "slideshow": {
     "slide_type": "skip"
    },
    "tags": []
   },
   "source": [
    "---"
   ]
  },
  {
   "cell_type": "markdown",
   "id": "b0d4d924-ab28-43c4-9759-5bb9d27b49d9",
   "metadata": {
    "slideshow": {
     "slide_type": "notes"
    }
   },
   "source": [
    "+ If you're not running on Bodo's Cloud Platform, you'll have to do some set up.\n",
    "+ The specific way to choose `n_proc` depends on your setup.\n",
    "+ This line probes your operating system for available engines.\n",
    "\n",
    "---\n",
    "\n",
    "+ Next, you have to initialise engines for `ipyparallel`.\n",
    "+ The `rc` object created in this fashion serves as an interface.\n",
    "+ If you're running on Bodo's Cloud platform, these lines are unnecessary."
   ]
  },
  {
   "cell_type": "markdown",
   "id": "f8a55c1e-3dee-407b-8a49-aaa0c7512119",
   "metadata": {
    "slideshow": {
     "slide_type": "skip"
    },
    "tags": []
   },
   "source": [
    "---"
   ]
  },
  {
   "cell_type": "code",
   "execution_count": 1,
   "id": "1ff42310-8428-4ad1-91f3-6a2fc17c84bf",
   "metadata": {
    "execution": {
     "iopub.execute_input": "2022-04-15T20:55:27.386394Z",
     "iopub.status.busy": "2022-04-15T20:55:27.386154Z",
     "iopub.status.idle": "2022-04-15T20:57:24.273752Z",
     "shell.execute_reply": "2022-04-15T20:57:24.273330Z",
     "shell.execute_reply.started": "2022-04-15T20:55:27.386371Z"
    },
    "slideshow": {
     "slide_type": "subslide"
    },
    "tags": []
   },
   "outputs": [
    {
     "name": "stdout",
     "output_type": "stream",
     "text": [
      "Starting 8 engines with <class 'ipyparallel.cluster.launcher.MPIEngineSetLauncher'>\n"
     ]
    },
    {
     "data": {
      "application/vnd.jupyter.widget-view+json": {
       "model_id": "a58776c515d343ecb5df0de2d72103ae",
       "version_major": 2,
       "version_minor": 0
      },
      "text/plain": [
       "  0%|          | 0/8 [00:00<?, ?engine/s]"
      ]
     },
     "metadata": {},
     "output_type": "display_data"
    },
    {
     "data": {
      "application/vnd.jupyter.widget-view+json": {
       "model_id": "32a984ba94884dba99649bd3b6fd73a9",
       "version_major": 2,
       "version_minor": 0
      },
      "text/plain": [
       "%px:   0%|          | 0/8 [00:00<?, ?tasks/s]"
      ]
     },
     "metadata": {},
     "output_type": "display_data"
    }
   ],
   "source": [
    "%%px\n",
    "import pandas as pd, numpy as np\n",
    "import time\n",
    "import bodo\n",
    "pd.set_option('display.precision', 2)"
   ]
  },
  {
   "cell_type": "markdown",
   "id": "b57af1e1-15c0-4bfd-bb40-c6ef955d7673",
   "metadata": {
    "slideshow": {
     "slide_type": "notes"
    },
    "tags": []
   },
   "source": [
    "+ Let's prepare each node on the cluster by importing key libraries.\n",
    "+ Remember, we use the `%%px` cell magic to execute code on all engines.\n",
    "+ We'll use `px` magics in most cells of this notebook."
   ]
  },
  {
   "cell_type": "markdown",
   "id": "2a08ddd8",
   "metadata": {
    "slideshow": {
     "slide_type": "skip"
    },
    "tags": []
   },
   "source": [
    "---"
   ]
  },
  {
   "cell_type": "markdown",
   "id": "a2acc80e-ea1d-4b1a-a45f-fae056fcbdcd",
   "metadata": {
    "slideshow": {
     "slide_type": "subslide"
    },
    "tags": []
   },
   "source": [
    "### A Groupby Example"
   ]
  },
  {
   "cell_type": "markdown",
   "id": "390dac5d-c8b8-4206-88e2-ec6f6b73fba6",
   "metadata": {
    "slideshow": {
     "slide_type": "fragment"
    },
    "tags": []
   },
   "source": [
    "```python\n",
    "@bodo.jit\n",
    "def compute_groupby_mean_bodo():\n",
    "    DATA_ROOT = 'bodo-examples-data/bodo-training-fundamentals/DATA'\n",
    "    DATA_SRC  = f's3://{DATA_ROOT}/PARQUET_050'\n",
    "    t0 = time.time()\n",
    "    df = pd.read_parquet(DATA_SRC)\n",
    "    avgs = df.groupby('Product')['Purchase_Amount'].mean()\n",
    "    t1 = time.time()\n",
    "    return avgs, t1 - t0\n",
    "```"
   ]
  },
  {
   "cell_type": "markdown",
   "id": "f5907ab3",
   "metadata": {},
   "source": []
  },
  {
   "cell_type": "markdown",
   "id": "c126ca6d-fe73-4bf7-bc97-098e6111eb7b",
   "metadata": {
    "slideshow": {
     "slide_type": "fragment"
    },
    "tags": []
   },
   "source": [
    "```python\n",
    "avgs, elapsed = compute_groupby_mean_bodo()\n",
    "print(f'Time elapsed: {elapsed:10.4f} s')\n",
    "```\n",
    "\n",
    "```\n",
    "Time elapsed:    96.9399 s\n",
    "```"
   ]
  },
  {
   "cell_type": "markdown",
   "id": "f5f3dda1-d47f-4c9b-8f14-46c05aa76b80",
   "metadata": {
    "slideshow": {
     "slide_type": "skip"
    },
    "tags": []
   },
   "source": [
    "---"
   ]
  },
  {
   "cell_type": "markdown",
   "id": "940516d9-9d51-4d7d-89b0-4bd63d90d553",
   "metadata": {
    "slideshow": {
     "slide_type": "notes"
    },
    "tags": []
   },
   "source": [
    "+ Returning to the previous groupby example...\n",
    "---\n",
    "\n",
    "+ ...we computed the `Purchase_Amount` averages grouped by `Product` category.\n",
    "+ We used a Bodo-jitted function to compute the resulting Series\n",
    "  + & return it with the computation time.\n",
    "+ The data in this function comprised 50 million observations stored in 50 Parquet files.\n",
    "---\n",
    "+ That was computed on my laptop with 16 GiB of RAM in about a minute & a half."
   ]
  },
  {
   "cell_type": "markdown",
   "id": "71221b04-fd5b-4879-a60d-cc260e467b11",
   "metadata": {
    "slideshow": {
     "slide_type": "skip"
    },
    "tags": []
   },
   "source": [
    "---"
   ]
  },
  {
   "cell_type": "code",
   "execution_count": 2,
   "id": "55c83aae-f0a9-4f2b-83fe-520ec399903c",
   "metadata": {
    "execution": {
     "iopub.execute_input": "2022-04-15T19:49:54.369770Z",
     "iopub.status.busy": "2022-04-15T19:49:54.369584Z",
     "iopub.status.idle": "2022-04-15T19:49:54.386253Z",
     "shell.execute_reply": "2022-04-15T19:49:54.385744Z",
     "shell.execute_reply.started": "2022-04-15T19:49:54.369751Z"
    },
    "slideshow": {
     "slide_type": "subslide"
    }
   },
   "outputs": [],
   "source": [
    "%%px\n",
    "@bodo.jit\n",
    "def compute_groupby_mean_bodo():\n",
    "    DATA_ROOT = 'bodo-examples-data/bodo-training-fundamentals/DATA'\n",
    "    DATA_SRC  = f's3://{DATA_ROOT}/PARQUET' # Use full dataset\n",
    "    t0 = time.time()\n",
    "    df = pd.read_parquet(DATA_SRC)\n",
    "    avgs = df.groupby('Product')['Purchase_Amount'].mean()\n",
    "    t1 = time.time()\n",
    "    return avgs, t1 - t0"
   ]
  },
  {
   "cell_type": "markdown",
   "id": "e4cdeea4-acc6-4a3e-a215-0de39fe88a4a",
   "metadata": {
    "slideshow": {
     "slide_type": "notes"
    },
    "tags": []
   },
   "source": [
    "+ We'll modify the preceding function:\n",
    "  + this time, let's use *the entire 500 million row dataset* stored in *500 files*.\n",
    "+ Again, we use the `%%px` magic to define the compiled function on *all* engines."
   ]
  },
  {
   "cell_type": "markdown",
   "id": "24451b66-89c2-4d1e-90ae-e9644eded457",
   "metadata": {
    "slideshow": {
     "slide_type": "skip"
    },
    "tags": []
   },
   "source": [
    "---"
   ]
  },
  {
   "cell_type": "code",
   "execution_count": 3,
   "id": "aaabe4ea",
   "metadata": {
    "execution": {
     "iopub.execute_input": "2022-04-15T19:49:54.387008Z",
     "iopub.status.busy": "2022-04-15T19:49:54.386827Z",
     "iopub.status.idle": "2022-04-15T19:50:36.738150Z",
     "shell.execute_reply": "2022-04-15T19:50:36.737717Z",
     "shell.execute_reply.started": "2022-04-15T19:49:54.386988Z"
    },
    "slideshow": {
     "slide_type": "subslide"
    }
   },
   "outputs": [
    {
     "data": {
      "application/vnd.jupyter.widget-view+json": {
       "model_id": "c94f90fc222e4b90a59b9c17d3b330a7",
       "version_major": 2,
       "version_minor": 0
      },
      "text/plain": [
       "%px:   0%|          | 0/8 [00:00<?, ?tasks/s]"
      ]
     },
     "metadata": {},
     "output_type": "display_data"
    }
   ],
   "source": [
    "%%px\n",
    "avgs, elapsed = compute_groupby_mean_bodo()"
   ]
  },
  {
   "cell_type": "markdown",
   "id": "2e4d6a02-3d8b-4734-a980-d22e08706082",
   "metadata": {
    "slideshow": {
     "slide_type": "notes"
    },
    "tags": []
   },
   "source": [
    "+ This computation works cleanly on this cluster.\n",
    "+ This compiled version takes advantage of all engines available and distributes the 500 million rows accordingly."
   ]
  },
  {
   "cell_type": "markdown",
   "id": "0425f5ce-cf1a-45a4-8fca-c7dcfd37d654",
   "metadata": {
    "slideshow": {
     "slide_type": "skip"
    },
    "tags": []
   },
   "source": [
    "---"
   ]
  },
  {
   "cell_type": "markdown",
   "id": "c957f180-36b7-42cb-9462-10eb1f73ece0",
   "metadata": {
    "slideshow": {
     "slide_type": "subslide"
    },
    "tags": []
   },
   "source": [
    "```python\n",
    "%px avgs\n",
    "\n",
    "Out[0:4]: Series([], Name: Purchase_Amount, dtype: float64)\n",
    "\n",
    "Out[1:4]: \n",
    "Product\n",
    "Sporting-Goods    129.0\n",
    "Name: Purchase_Amount, dtype: float64\n",
    "\n",
    "Out[5:4]: \n",
    "Product\n",
    "Automotive    688.0\n",
    "Name: Purchase_Amount, dtype: float64\n",
    "\n",
    "Out[4:4]: Series([], Name: Purchase_Amount, dtype: float64)\n",
    "\n",
    "    <More output...>\n",
    "```"
   ]
  },
  {
   "cell_type": "markdown",
   "id": "f002da50-4581-4088-9a45-6acd67c08756",
   "metadata": {
    "slideshow": {
     "slide_type": "notes"
    },
    "tags": []
   },
   "source": [
    "+ Trying to display the averages purchase amounts grouped by product is a bit messy.\n",
    "+ The Series computed are spread out among the engines.\n",
    "+ Some of these engines hold empty Series and some hold a portion of the final result."
   ]
  },
  {
   "cell_type": "markdown",
   "id": "8148ce2e-c294-40c5-a3ef-49b20962c4f0",
   "metadata": {
    "slideshow": {
     "slide_type": "skip"
    },
    "tags": []
   },
   "source": [
    "---"
   ]
  },
  {
   "cell_type": "code",
   "execution_count": 4,
   "id": "efe5edd9-35de-468f-998f-c428227d0a0c",
   "metadata": {
    "execution": {
     "iopub.execute_input": "2022-04-15T20:58:47.007520Z",
     "iopub.status.busy": "2022-04-15T20:58:47.007272Z",
     "iopub.status.idle": "2022-04-15T20:58:50.355739Z",
     "shell.execute_reply": "2022-04-15T20:58:50.355342Z",
     "shell.execute_reply.started": "2022-04-15T20:58:47.007500Z"
    },
    "slideshow": {
     "slide_type": "subslide"
    },
    "tags": []
   },
   "outputs": [
    {
     "data": {
      "application/vnd.jupyter.widget-view+json": {
       "model_id": "4e7cb58e65ef49468466ae20d78e4512",
       "version_major": 2,
       "version_minor": 0
      },
      "text/plain": [
       "%px:   0%|          | 0/8 [00:00<?, ?tasks/s]"
      ]
     },
     "metadata": {},
     "output_type": "display_data"
    }
   ],
   "source": [
    "%%px\n",
    "times = bodo.gatherv(np.array([elapsed]))\n",
    "purchase_means = bodo.gatherv(avgs)"
   ]
  },
  {
   "cell_type": "markdown",
   "id": "a4fa900f-2b57-4886-8f5f-1a3b3f1f1168",
   "metadata": {
    "slideshow": {
     "slide_type": "notes"
    }
   },
   "source": [
    "+ To make more sense of the results, let's *gather* them onto the root node.\n",
    "+ Notice to gather the scalars `elapsed` onto the `root` engine, they need to be wrapped as a singleton NumPy arrays on each engine.\n",
    "+ By contrast, the Series `avgs` can be gathered from all engines using the data directly.\n",
    "+ Standard NumPy arrays, Pandas Series & DataFrames all share this behavior with `bodo.gatherv`."
   ]
  },
  {
   "cell_type": "markdown",
   "id": "a121d781-a4cb-4dd7-ab48-e93dc1f52c10",
   "metadata": {
    "slideshow": {
     "slide_type": "skip"
    },
    "tags": []
   },
   "source": [
    "---"
   ]
  },
  {
   "cell_type": "code",
   "execution_count": 5,
   "id": "d8a4b325-2e50-4bc3-b953-23886295051e",
   "metadata": {
    "execution": {
     "iopub.execute_input": "2022-04-15T20:58:53.608956Z",
     "iopub.status.busy": "2022-04-15T20:58:53.608705Z",
     "iopub.status.idle": "2022-04-15T20:58:53.634105Z",
     "shell.execute_reply": "2022-04-15T20:58:53.633725Z",
     "shell.execute_reply.started": "2022-04-15T20:58:53.608937Z"
    },
    "slideshow": {
     "slide_type": "subslide"
    },
    "tags": []
   },
   "outputs": [
    {
     "data": {
      "text/plain": [
       "[stdout:0] [32.39, 32.48]\n"
      ]
     },
     "metadata": {},
     "output_type": "display_data"
    },
    {
     "data": {
      "text/plain": [
       "[output:0]"
      ]
     },
     "metadata": {},
     "output_type": "display_data"
    },
    {
     "data": {
      "text/html": [
       "<div>\n",
       "<style scoped>\n",
       "    .dataframe tbody tr th:only-of-type {\n",
       "        vertical-align: middle;\n",
       "    }\n",
       "\n",
       "    .dataframe tbody tr th {\n",
       "        vertical-align: top;\n",
       "    }\n",
       "\n",
       "    .dataframe thead th {\n",
       "        text-align: right;\n",
       "    }\n",
       "</style>\n",
       "<table border=\"1\" class=\"dataframe\">\n",
       "  <thead>\n",
       "    <tr style=\"text-align: right;\">\n",
       "      <th>Product</th>\n",
       "      <th>Sporting-Goods</th>\n",
       "      <th>Electronics</th>\n",
       "      <th>Computers</th>\n",
       "      <th>Toys</th>\n",
       "      <th>Music</th>\n",
       "      <th>Books</th>\n",
       "      <th>Automotive</th>\n",
       "      <th>Food</th>\n",
       "      <th>Clothes</th>\n",
       "      <th>Health</th>\n",
       "      <th>Beauty</th>\n",
       "    </tr>\n",
       "  </thead>\n",
       "  <tbody>\n",
       "    <tr>\n",
       "      <th>Purchase_Amount</th>\n",
       "      <td>129.0</td>\n",
       "      <td>86.0</td>\n",
       "      <td>860.0</td>\n",
       "      <td>43.0</td>\n",
       "      <td>17.2</td>\n",
       "      <td>34.4</td>\n",
       "      <td>688.0</td>\n",
       "      <td>8.6</td>\n",
       "      <td>64.5</td>\n",
       "      <td>21.5</td>\n",
       "      <td>25.8</td>\n",
       "    </tr>\n",
       "  </tbody>\n",
       "</table>\n",
       "</div>"
      ],
      "text/plain": [
       "Product          Sporting-Goods  Electronics  Computers  Toys  Music  Books  \\\n",
       "Purchase_Amount           129.0         86.0      860.0  43.0   17.2   34.4   \n",
       "\n",
       "Product          Automotive  Food  Clothes  Health  Beauty  \n",
       "Purchase_Amount       688.0   8.6     64.5    21.5    25.8  "
      ]
     },
     "metadata": {
      "engine": 0
     },
     "output_type": "display_data"
    }
   ],
   "source": [
    "%%px\n",
    "if bodo.get_rank()==0:\n",
    "    print(f'[{times.min():.2f}, {times.max():.2f}]')\n",
    "    display(pd.DataFrame(purchase_means).transpose())"
   ]
  },
  {
   "cell_type": "markdown",
   "id": "c5e3e92f-e0d0-443b-a0b8-07beded9490e",
   "metadata": {
    "slideshow": {
     "slide_type": "notes"
    },
    "tags": []
   },
   "source": [
    "+ The desired outputs—`times` & `purchase_means`—have been gathered onto the `root` engine now.\n",
    "+ The array `times` stores computation times recorded from *all* the groupbys & aggregations on all engines.\n",
    "+ Rather than printing a single time, we'll print the range from the shortest to the longest—32.39 to 32.48 seconds.\n",
    "+ We'll also display the computed averages grouped by product as a DataFrame & transposed to tidy the output."
   ]
  },
  {
   "cell_type": "markdown",
   "id": "613b372d-a3c2-4f5e-bff9-9c32e4edb8ec",
   "metadata": {
    "slideshow": {
     "slide_type": "skip"
    },
    "tags": []
   },
   "source": [
    "---"
   ]
  },
  {
   "cell_type": "markdown",
   "id": "e091054c-85b2-4313-b7d7-192ac02ffa56",
   "metadata": {
    "execution": {
     "iopub.execute_input": "2022-04-15T19:50:40.035483Z",
     "iopub.status.busy": "2022-04-15T19:50:40.035211Z",
     "iopub.status.idle": "2022-04-15T19:50:40.050418Z",
     "shell.execute_reply": "2022-04-15T19:50:40.049983Z",
     "shell.execute_reply.started": "2022-04-15T19:50:40.035464Z"
    },
    "slideshow": {
     "slide_type": "subslide"
    }
   },
   "source": [
    "```python\n",
    "%px compute_groupby_mean_bodo.distributed_diagnostics()\n",
    "```"
   ]
  },
  {
   "cell_type": "markdown",
   "id": "f75e4f39",
   "metadata": {
    "slideshow": {
     "slide_type": "-"
    }
   },
   "source": [
    "```\n",
    "Data distributions:\n",
    "   pq_table.1               1D_Block\n",
    "   pq_index.2               1D_Block\n",
    "   Purchase_Amount.73       1D_Block_Var\n",
    "   Product.72               1D_Block_Var\n",
    "   _v14call_method_6_103    1D_Block_Var\n",
    "   _v16call_method_7_93     1D_Block_Var\n",
    "   dist_return_tp.23        [<Distribution.OneD_Var: 4>, None]\n",
    "   dist_return.24           [<Distribution.OneD_Var: 4>, None]\n",
    "\n",
    "Parfor distributions:\n",
    "No parfors to distribute.\n",
    "\n",
    "   <More output ...>\n",
    "```"
   ]
  },
  {
   "cell_type": "markdown",
   "id": "84375468-2fa6-4e98-9e5e-456540861aed",
   "metadata": {
    "slideshow": {
     "slide_type": "notes"
    },
    "tags": []
   },
   "source": [
    "+ The `distributed_diagnostics` method uncovers how local objects and data within the jitted function are distributed to compute engines.\n",
    "+ Notice the compiled version of the code makes use of the fact that only two columns need to be read from the Parquet file:\n",
    "  + the `Product` and `Purchase_Amount` columns\n",
    "+ Basically, these are distributed as 1D block arrays to the engines.\n",
    "+ Remember, by contrast with traditional MPI or `ipyparallel` programming, the Bodo jit compiler is able to handle this data distribution sensibly for us."
   ]
  },
  {
   "cell_type": "markdown",
   "id": "1973034c-75f1-405d-811d-06b20fe9c685",
   "metadata": {
    "slideshow": {
     "slide_type": "skip"
    },
    "tags": []
   },
   "source": [
    "---"
   ]
  },
  {
   "cell_type": "markdown",
   "id": "d312369c-c192-4ed4-bd3e-e74744678e9e",
   "metadata": {
    "slideshow": {
     "slide_type": "subslide"
    },
    "tags": []
   },
   "source": [
    "### A Transformation & Groupby Example"
   ]
  },
  {
   "cell_type": "code",
   "execution_count": 6,
   "id": "48b27010-5278-4b41-ab15-72424ca79f37",
   "metadata": {
    "execution": {
     "iopub.execute_input": "2022-04-15T20:59:09.138218Z",
     "iopub.status.busy": "2022-04-15T20:59:09.137969Z",
     "iopub.status.idle": "2022-04-15T20:59:09.152353Z",
     "shell.execute_reply": "2022-04-15T20:59:09.151965Z",
     "shell.execute_reply.started": "2022-04-15T20:59:09.138198Z"
    },
    "tags": []
   },
   "outputs": [],
   "source": [
    "%%px\n",
    "def extract_score(row):\n",
    "    scores = {'Terrible':1, 'Fine':2, 'Good':3, 'Great':4}\n",
    "    return (np.nan if pd.isna(row.Product_Review)\n",
    "                   else scores[row.Product_Review.split()[0]])"
   ]
  },
  {
   "cell_type": "markdown",
   "id": "382f7aed-d493-4d0a-b90c-079fdf285e50",
   "metadata": {
    "slideshow": {
     "slide_type": "notes"
    },
    "tags": []
   },
   "source": [
    "+ The other more complicated example looked at previously did some string processing.\n",
    "+ Specifically, the function `extract_score` mapped onto the rows of the DataFrame.\n",
    "  + Its purpose is to extract a numerical score from each row using the `Product_Review`.\n",
    "+ Remember, we need to define it with the `%%px` magic to ensure it gets defined on all engines."
   ]
  },
  {
   "cell_type": "markdown",
   "id": "ea3b7196-d874-414e-b6af-7e06b0018ca0",
   "metadata": {
    "slideshow": {
     "slide_type": "skip"
    },
    "tags": []
   },
   "source": [
    "---"
   ]
  },
  {
   "cell_type": "code",
   "execution_count": 7,
   "id": "7cf172d9-2cb6-41a3-b321-0b36a017e029",
   "metadata": {
    "execution": {
     "iopub.execute_input": "2022-04-15T20:59:10.698571Z",
     "iopub.status.busy": "2022-04-15T20:59:10.698326Z",
     "iopub.status.idle": "2022-04-15T20:59:10.713437Z",
     "shell.execute_reply": "2022-04-15T20:59:10.713057Z",
     "shell.execute_reply.started": "2022-04-15T20:59:10.698553Z"
    },
    "slideshow": {
     "slide_type": "subslide"
    }
   },
   "outputs": [],
   "source": [
    "%%px\n",
    "@bodo.jit\n",
    "def compute_scores_groupby_means_bodo():\n",
    "    DATA_ROOT = 'bodo-examples-data/bodo-training-fundamentals/DATA'\n",
    "    DATA_SRC  = f's3://{DATA_ROOT}/PARQUET' # Use full dataset\n",
    "    t0 = time.time()\n",
    "    df = pd.read_parquet(DATA_SRC)\n",
    "    df['Score'] = df.apply(extract_score, axis=1)\n",
    "    result = df.groupby('Product')[['Purchase_Amount', 'Score']].mean()\n",
    "    t1 = time.time()\n",
    "    return result, t1 - t0"
   ]
  },
  {
   "cell_type": "markdown",
   "id": "a9dfb109-2cd3-4e38-be18-712d537b8d98",
   "metadata": {
    "slideshow": {
     "slide_type": "notes"
    },
    "tags": []
   },
   "source": [
    "+ With `extract_score` defined, we build the function to \n",
    "+ Following that, the average `Score` and `Purchase_Amount` was computed grouped by `Product`.\n",
    "+ Again, we'll wrap this in a function and apply the Bodo JIT decorator on *all* engines.\n",
    "+ This time, we'll use the full dataset of 500 million records."
   ]
  },
  {
   "cell_type": "markdown",
   "id": "90b4105a-f7e4-4de9-a540-cfef5a217edf",
   "metadata": {
    "slideshow": {
     "slide_type": "skip"
    },
    "tags": []
   },
   "source": [
    "---"
   ]
  },
  {
   "cell_type": "code",
   "execution_count": 8,
   "id": "fe231300-8439-4958-989b-5f60c87ff1f3",
   "metadata": {
    "execution": {
     "iopub.execute_input": "2022-04-15T20:59:13.353007Z",
     "iopub.status.busy": "2022-04-15T20:59:13.352759Z",
     "iopub.status.idle": "2022-04-15T21:01:19.061156Z",
     "shell.execute_reply": "2022-04-15T21:01:19.060731Z",
     "shell.execute_reply.started": "2022-04-15T20:59:13.352987Z"
    },
    "slideshow": {
     "slide_type": "subslide"
    }
   },
   "outputs": [
    {
     "data": {
      "application/vnd.jupyter.widget-view+json": {
       "model_id": "a925f4c3535146289ea089d413841f7d",
       "version_major": 2,
       "version_minor": 0
      },
      "text/plain": [
       "%px:   0%|          | 0/8 [00:00<?, ?tasks/s]"
      ]
     },
     "metadata": {},
     "output_type": "display_data"
    }
   ],
   "source": [
    "%%px\n",
    "avgs, elapsed = compute_scores_groupby_means_bodo()"
   ]
  },
  {
   "cell_type": "markdown",
   "id": "342e8e54",
   "metadata": {
    "slideshow": {
     "slide_type": "notes"
    },
    "tags": []
   },
   "source": [
    "+ The function `compute_scores_groupby_means_bodo` is executed on the cluster with all the data.\n",
    "+ Remember, this would crash on a single node.\n",
    "+ The compiled Bodo function distributes the data to all available nodes."
   ]
  },
  {
   "cell_type": "markdown",
   "id": "eb26d292",
   "metadata": {
    "slideshow": {
     "slide_type": "skip"
    },
    "tags": []
   },
   "source": [
    "---"
   ]
  },
  {
   "cell_type": "code",
   "execution_count": 9,
   "id": "7e5165fe-75e5-4d43-a47a-da9aaeb7e0a3",
   "metadata": {
    "execution": {
     "iopub.execute_input": "2022-04-15T21:06:52.808339Z",
     "iopub.status.busy": "2022-04-15T21:06:52.808084Z",
     "iopub.status.idle": "2022-04-15T21:06:53.270372Z",
     "shell.execute_reply": "2022-04-15T21:06:53.269986Z",
     "shell.execute_reply.started": "2022-04-15T21:06:52.808318Z"
    },
    "slideshow": {
     "slide_type": "subslide"
    },
    "tags": []
   },
   "outputs": [
    {
     "data": {
      "text/plain": [
       "[stdout:0] [119.27, 119.46]\n"
      ]
     },
     "metadata": {},
     "output_type": "display_data"
    },
    {
     "data": {
      "text/plain": [
       "[output:0]"
      ]
     },
     "metadata": {},
     "output_type": "display_data"
    },
    {
     "data": {
      "text/html": [
       "<div>\n",
       "<style scoped>\n",
       "    .dataframe tbody tr th:only-of-type {\n",
       "        vertical-align: middle;\n",
       "    }\n",
       "\n",
       "    .dataframe tbody tr th {\n",
       "        vertical-align: top;\n",
       "    }\n",
       "\n",
       "    .dataframe thead th {\n",
       "        text-align: right;\n",
       "    }\n",
       "</style>\n",
       "<table border=\"1\" class=\"dataframe\">\n",
       "  <thead>\n",
       "    <tr style=\"text-align: right;\">\n",
       "      <th>Product</th>\n",
       "      <th>Sporting-Goods</th>\n",
       "      <th>Electronics</th>\n",
       "      <th>Computers</th>\n",
       "      <th>Toys</th>\n",
       "      <th>Music</th>\n",
       "      <th>Books</th>\n",
       "      <th>Automotive</th>\n",
       "      <th>Food</th>\n",
       "      <th>Clothes</th>\n",
       "      <th>Health</th>\n",
       "      <th>Beauty</th>\n",
       "    </tr>\n",
       "  </thead>\n",
       "  <tbody>\n",
       "    <tr>\n",
       "      <th>Purchase_Amount</th>\n",
       "      <td>129.0</td>\n",
       "      <td>86.00</td>\n",
       "      <td>860.00</td>\n",
       "      <td>43.00</td>\n",
       "      <td>17.20</td>\n",
       "      <td>34.40</td>\n",
       "      <td>688.00</td>\n",
       "      <td>8.60</td>\n",
       "      <td>64.50</td>\n",
       "      <td>21.50</td>\n",
       "      <td>25.8</td>\n",
       "    </tr>\n",
       "    <tr>\n",
       "      <th>Score</th>\n",
       "      <td>2.5</td>\n",
       "      <td>2.54</td>\n",
       "      <td>2.52</td>\n",
       "      <td>2.51</td>\n",
       "      <td>2.49</td>\n",
       "      <td>2.51</td>\n",
       "      <td>2.54</td>\n",
       "      <td>2.52</td>\n",
       "      <td>2.48</td>\n",
       "      <td>2.51</td>\n",
       "      <td>2.5</td>\n",
       "    </tr>\n",
       "  </tbody>\n",
       "</table>\n",
       "</div>"
      ],
      "text/plain": [
       "Product          Sporting-Goods  Electronics  Computers   Toys  Music  Books  \\\n",
       "Purchase_Amount           129.0        86.00     860.00  43.00  17.20  34.40   \n",
       "Score                       2.5         2.54       2.52   2.51   2.49   2.51   \n",
       "\n",
       "Product          Automotive  Food  Clothes  Health  Beauty  \n",
       "Purchase_Amount      688.00  8.60    64.50   21.50    25.8  \n",
       "Score                  2.54  2.52     2.48    2.51     2.5  "
      ]
     },
     "metadata": {
      "engine": 0
     },
     "output_type": "display_data"
    }
   ],
   "source": [
    "%%px\n",
    "purchase_score_means = bodo.gatherv(avgs)\n",
    "times = bodo.gatherv(np.array([elapsed]))\n",
    "\n",
    "if bodo.get_rank()==0:\n",
    "    print(f'[{times.min():.2f}, {times.max():.2f}]')\n",
    "    display(pd.DataFrame(purchase_score_means).transpose())"
   ]
  },
  {
   "cell_type": "markdown",
   "id": "78aa4f04-b8dd-45c6-8457-0b1545a49951",
   "metadata": {
    "slideshow": {
     "slide_type": "notes"
    },
    "tags": []
   },
   "source": [
    "+ This example took about 2 minutes on every node to process 500 million records.\n",
    "+ This wasn't feasible on my laptop without crashing before!"
   ]
  },
  {
   "cell_type": "markdown",
   "id": "1689208d-ffdb-42b2-aef8-7c15797cd305",
   "metadata": {
    "slideshow": {
     "slide_type": "skip"
    },
    "tags": []
   },
   "source": [
    "---"
   ]
  },
  {
   "cell_type": "markdown",
   "id": "a362b7fa",
   "metadata": {
    "execution": {
     "iopub.execute_input": "2022-04-15T19:51:03.097570Z",
     "iopub.status.busy": "2022-04-15T19:51:03.097281Z",
     "iopub.status.idle": "2022-04-15T19:51:03.113340Z",
     "shell.execute_reply": "2022-04-15T19:51:03.112812Z",
     "shell.execute_reply.started": "2022-04-15T19:51:03.097550Z"
    },
    "slideshow": {
     "slide_type": "subslide"
    }
   },
   "source": [
    "```python\n",
    "%px compute_scores_groupby_means_bodo.distributed_diagnostics()\n",
    "```"
   ]
  },
  {
   "cell_type": "markdown",
   "id": "68461d2a-ef4f-4d47-a823-677bcbb4809e",
   "metadata": {
    "execution": {
     "iopub.execute_input": "2022-04-15T19:51:03.097570Z",
     "iopub.status.busy": "2022-04-15T19:51:03.097281Z",
     "iopub.status.idle": "2022-04-15T19:51:03.113340Z",
     "shell.execute_reply": "2022-04-15T19:51:03.112812Z",
     "shell.execute_reply.started": "2022-04-15T19:51:03.097550Z"
    },
    "slideshow": {
     "slide_type": "-"
    }
   },
   "source": [
    "```\n",
    "Data distributions:\n",
    "   pq_table.371             1D_Block\n",
    "   pq_index.372             1D_Block\n",
    "   c0_449                   1D_Block\n",
    "   S0_476                   1D_Block\n",
    "   T2_743                   1D_Block\n",
    "   Purchase_Amount.811      1D_Block_Var\n",
    "   Score.812                1D_Block_Var\n",
    "   Product.810              1D_Block_Var\n",
    "   _v14call_method_6_854    1D_Block_Var\n",
    "   result                   1D_Block_Var\n",
    "   dist_return_tp.393       [<Distribution.OneD_Var: 4>, None]\n",
    "   dist_return.394          [<Distribution.OneD_Var: 4>, None]\n",
    "\n",
    "Parfor distributions:\n",
    "   1                    1D_Block\n",
    "   \n",
    "   <More output ...>\n",
    "```"
   ]
  },
  {
   "cell_type": "markdown",
   "id": "93b7690c",
   "metadata": {
    "slideshow": {
     "slide_type": "notes"
    },
    "tags": []
   },
   "source": [
    "+ Again, the `distributed_diagnostics` method reveals a lot about the compiled function.\n",
    "+ In particular, there are many `1D_Block`s distributed to the engines...\n",
    "   + ...to reduce the individual memory load and to share the computation.\n",
    "+ This is a lot to digest; the documentation provides some insight on how to read this."
   ]
  },
  {
   "cell_type": "markdown",
   "id": "967acc7e-c8ef-41fd-a51d-66cf5f676395",
   "metadata": {
    "slideshow": {
     "slide_type": "skip"
    },
    "tags": []
   },
   "source": [
    "---"
   ]
  },
  {
   "cell_type": "markdown",
   "id": "ecbbbbeb-9a4d-4924-a4e9-d8ece8a934a7",
   "metadata": {
    "slideshow": {
     "slide_type": "subslide"
    }
   },
   "source": [
    "```python\n",
    "# (not needed on Bodo Cloud platform)\n",
    "# Run the following command to stop the cluster:\n",
    "rc.cluster.stop_cluster_sync()\n",
    "```"
   ]
  },
  {
   "cell_type": "markdown",
   "id": "c37e82da-e9af-4231-9327-63d70a13d0ea",
   "metadata": {
    "slideshow": {
     "slide_type": "notes"
    },
    "tags": []
   },
   "source": [
    "+ Should you be running the notebooks on your laptop or some other machine, you'll need to deactivate the engine processes as above.\n",
    "+ Again, this is taken care of for you on the Bodo Cloud platform."
   ]
  },
  {
   "cell_type": "markdown",
   "id": "8329f1ac-9369-424e-b4fd-f83cf2a6ebde",
   "metadata": {
    "slideshow": {
     "slide_type": "skip"
    },
    "tags": []
   },
   "source": [
    "---"
   ]
  },
  {
   "cell_type": "markdown",
   "id": "765f273f-4355-447a-819c-cd99709c81ec",
   "metadata": {
    "slideshow": {
     "slide_type": "subslide"
    }
   },
   "source": [
    "## Summary\n",
    "\n",
    "+ `bodo.jit` + `%%px` (or `%px`) for the win!"
   ]
  },
  {
   "cell_type": "markdown",
   "id": "e09edf0a-bcde-4b9a-bca2-1200339079a3",
   "metadata": {
    "slideshow": {
     "slide_type": "notes"
    },
    "tags": []
   },
   "source": [
    "+ We've seen examples here to illustrate the use of Bodo in distributed computing.\n",
    "+ By combining JIT compilation with parallel workflows, Bodo enables scaling out more easily.\n",
    "+ This is particularly useful with datasets approaching super-computing sizes."
   ]
  },
  {
   "cell_type": "markdown",
   "id": "44d05fbd-8437-4a5c-a3a1-5c837df01e5d",
   "metadata": {
    "slideshow": {
     "slide_type": "skip"
    },
    "tags": []
   },
   "source": [
    "---"
   ]
  }
 ],
 "metadata": {
  "celltoolbar": "Slideshow",
  "kernelspec": {
   "display_name": "Python 3 (ipykernel)",
   "language": "python",
   "name": "python3"
  },
  "language_info": {
   "codemirror_mode": {
    "name": "ipython",
    "version": 3
   },
   "file_extension": ".py",
   "mimetype": "text/x-python",
   "name": "python",
   "nbconvert_exporter": "python",
   "pygments_lexer": "ipython3",
   "version": "3.9.13"
  },
  "rise": {
   "auto_select": "none",
   "slideNumber": false,
   "transition": "none"
  }
 },
 "nbformat": 4,
 "nbformat_minor": 5
}
