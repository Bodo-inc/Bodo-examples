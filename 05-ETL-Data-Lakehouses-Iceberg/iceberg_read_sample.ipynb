{
 "cells": [
  {
   "cell_type": "code",
   "execution_count": 1,
   "id": "151a1017-c9f0-48b1-9957-f149d3e0adf9",
   "metadata": {
    "execution": {
     "iopub.execute_input": "2022-07-12T20:10:18.703351Z",
     "iopub.status.busy": "2022-07-12T20:10:18.702943Z",
     "iopub.status.idle": "2022-07-12T20:10:18.707422Z",
     "shell.execute_reply": "2022-07-12T20:10:18.706877Z",
     "shell.execute_reply.started": "2022-07-12T20:10:18.703325Z"
    }
   },
   "outputs": [
    {
     "name": "stdout",
     "output_type": "stream",
     "text": [
      "You are not on Bodo Platform, running ipyparallel.. \n",
      "Starting 8 engines with <class 'ipyparallel.cluster.launcher.MPIEngineSetLauncher'>\n",
      "100%|███████████████████████████████████████████████████████████████████████████████████████████████████████████████████████████████████████████████████████████████████| 8/8 [00:07<00:00,  1.11engine/s]\n"
     ]
    }
   ],
   "source": [
    "import os\n",
    "if os.environ.get(\"BODO_PLATFORM_WORKSPACE_UUID\",'NA') == 'NA':\n",
    "    print(\"You are not on Bodo Platform, running ipyparallel.. \")\n",
    "    import ipyparallel as ipp\n",
    "    import psutil; n = min(psutil.cpu_count(logical=False), 8)\n",
    "    rc = ipp.Cluster(engines='mpi', n=n).start_and_connect_sync(activate=True)"
   ]
  },
  {
   "cell_type": "code",
   "execution_count": 2,
   "id": "3dcfab2f-9f54-4d1b-b42d-ab21d6e6adae",
   "metadata": {
    "execution": {
     "iopub.execute_input": "2022-07-12T20:10:25.276078Z",
     "iopub.status.busy": "2022-07-12T20:10:25.275744Z",
     "iopub.status.idle": "2022-07-12T20:10:41.090819Z",
     "shell.execute_reply": "2022-07-12T20:10:41.090031Z",
     "shell.execute_reply.started": "2022-07-12T20:10:25.276059Z"
    }
   },
   "outputs": [
    {
     "name": "stdout",
     "output_type": "stream",
     "text": [
      "%autopx enabled\n"
     ]
    }
   ],
   "source": [
    "%autopx"
   ]
  },
  {
   "cell_type": "code",
   "execution_count": 3,
   "id": "fe0abb49-a88c-45f1-b8de-681dc9c32b77",
   "metadata": {
    "execution": {
     "iopub.execute_input": "2022-07-12T20:10:41.092176Z",
     "iopub.status.busy": "2022-07-12T20:10:41.091902Z",
     "iopub.status.idle": "2022-07-12T20:11:21.012091Z",
     "shell.execute_reply": "2022-07-12T20:11:21.011409Z",
     "shell.execute_reply.started": "2022-07-12T20:10:41.092156Z"
    }
   },
   "outputs": [
    {
     "name": "stdout",
     "output_type": "stream",
     "text": [
      "%px: 100%|███████████████████████████████████████████████████████████████████████████████████████████████████████████████████████████████████████████████████████████████| 8/8 [00:09<00:00,  1.20s/tasks]\n"
     ]
    }
   ],
   "source": [
    "import bodo\n",
    "import time\n",
    "import numpy as np\n",
    "import pandas as pd\n",
    "import json\n",
    "import os"
   ]
  },
  {
   "cell_type": "markdown",
   "id": "7078d9d7",
   "metadata": {},
   "source": [
    "You need to add your AWS account and iceberg credentials to access the data. You can store your credentials in a file called credentials.json similar to the one shown below. \n",
    "# content of credentials.json file\n",
    "{\n",
    "    \"aws\": {\n",
    "        \"aws_access_key_id\": \"xxxxxx\",   \n",
    "        \"aws_secret_access_key\": \"xxxxxx\",  \n",
    "        \"aws_default_region\":\"xxxxxx\"\n",
    "    },\n",
    "\n",
    "    \"iceberg\": {\n",
    "        \"nessie_endpoint\": \"xxxxxx\",\n",
    "        \"token\": \"xxxxxx\"\n",
    "    },\n",
    "}"
   ]
  },
  {
   "cell_type": "code",
   "execution_count": 6,
   "id": "40aaa66a-4f8d-4ae2-91cb-a4a6e4bc7cb3",
   "metadata": {
    "execution": {
     "iopub.execute_input": "2022-07-12T20:18:14.178773Z",
     "iopub.status.busy": "2022-07-12T20:18:14.178307Z",
     "iopub.status.idle": "2022-07-12T20:18:14.293464Z",
     "shell.execute_reply": "2022-07-12T20:18:14.292999Z",
     "shell.execute_reply.started": "2022-07-12T20:18:14.178746Z"
    },
    "tags": []
   },
   "outputs": [],
   "source": [
    "path_to_conn_creds = \"credentials.json\"\n",
    "with open(path_to_conn_creds) as f:\n",
    "    creds = json.load(f)\n",
    "\n",
    "os.environ[\"AWS_ACCESS_KEY_ID\"] = creds[\"aws\"][\"aws_access_key_id\"]\n",
    "os.environ[\"AWS_SECRET_ACCESS_KEY\"] = creds[\"aws\"][\"aws_secret_access_key\"]\n",
    "os.environ[\"AWS_DEFAULT_REGION\"] = creds[\"aws\"][\"aws_default_region\"]\n",
    "\n",
    "Nessie_Endpoint = creds[\"iceberg\"][\"nessie_endpoint\"]\n",
    "Dremio_Token = creds[\"iceberg\"][\"token\"]"
   ]
  },
  {
   "cell_type": "code",
   "execution_count": 7,
   "id": "bd185217-71da-4d60-a56b-bdac178c51fa",
   "metadata": {
    "execution": {
     "iopub.execute_input": "2022-07-12T20:18:18.283538Z",
     "iopub.status.busy": "2022-07-12T20:18:18.283148Z",
     "iopub.status.idle": "2022-07-12T20:18:18.392164Z",
     "shell.execute_reply": "2022-07-12T20:18:18.391690Z",
     "shell.execute_reply.started": "2022-07-12T20:18:18.283515Z"
    }
   },
   "outputs": [],
   "source": [
    "iceberg_url = f\"iceberg+{Nessie_Endpoint}?type=nessie&authentication.type=BEARER&authentication.token={Dremio_Token}\""
   ]
  },
  {
   "cell_type": "code",
   "execution_count": 12,
   "id": "cd644a25-4f7b-4dce-9504-baeb3efaa859",
   "metadata": {
    "execution": {
     "iopub.execute_input": "2022-07-12T20:19:42.039069Z",
     "iopub.status.busy": "2022-07-12T20:19:42.038724Z",
     "iopub.status.idle": "2022-07-12T20:19:42.153349Z",
     "shell.execute_reply": "2022-07-12T20:19:42.152875Z",
     "shell.execute_reply.started": "2022-07-12T20:19:42.039046Z"
    },
    "tags": []
   },
   "outputs": [],
   "source": [
    "@bodo.jit\n",
    "def run_queries(iceberg_url):\n",
    "    #tracing.start()\n",
    "\n",
    "    print(\"#\" * 128)\n",
    "    print(\"Started Q01 Execution...\")\n",
    "    print(\"#\" * 128)\n",
    "\n",
    "    # Load the data\n",
    "    start_time = time.time()\n",
    "\n",
    "\n",
    "    lineitem = pd.read_sql_table(\"SF1_LINEITEM_PQ_A\", iceberg_url,\"\")\n",
    "    \n",
    "    q01(lineitem)\n",
    "    "
   ]
  },
  {
   "cell_type": "code",
   "execution_count": 13,
   "id": "64d2779e-abaa-46b0-a824-81f753ced502",
   "metadata": {
    "execution": {
     "iopub.execute_input": "2022-07-12T20:19:43.197801Z",
     "iopub.status.busy": "2022-07-12T20:19:43.197339Z",
     "iopub.status.idle": "2022-07-12T20:19:43.316395Z",
     "shell.execute_reply": "2022-07-12T20:19:43.315917Z",
     "shell.execute_reply.started": "2022-07-12T20:19:43.197778Z"
    },
    "tags": []
   },
   "outputs": [],
   "source": [
    "@bodo.jit\n",
    "def q01(lineitem):\n",
    "    t1 = time.time()\n",
    "    date = pd.Timestamp(\"1998-09-02\")\n",
    "    lineitem_filtered = lineitem.loc[\n",
    "                        :,\n",
    "                        [\n",
    "                            \"L_QUANTITY\",\n",
    "                            \"L_EXTENDEDPRICE\",\n",
    "                            \"L_DISCOUNT\",\n",
    "                            \"L_TAX\",\n",
    "                            \"L_RETURNFLAG\",\n",
    "                            \"L_LINESTATUS\",\n",
    "                            \"L_SHIPDATE\",\n",
    "                            \"L_ORDERKEY\",\n",
    "                        ],\n",
    "                        ]\n",
    "    sel = lineitem_filtered.L_SHIPDATE <= date\n",
    "    lineitem_filtered = lineitem_filtered[sel]\n",
    "    lineitem_filtered[\"AVG_QTY\"] = lineitem_filtered.L_QUANTITY\n",
    "    lineitem_filtered[\"AVG_PRICE\"] = lineitem_filtered.L_EXTENDEDPRICE\n",
    "    lineitem_filtered[\"DISC_PRICE\"] = lineitem_filtered.L_EXTENDEDPRICE * (\n",
    "            1 - lineitem_filtered.L_DISCOUNT\n",
    "    )\n",
    "    lineitem_filtered[\"CHARGE\"] = (\n",
    "            lineitem_filtered.L_EXTENDEDPRICE\n",
    "            * (1 - lineitem_filtered.L_DISCOUNT)\n",
    "            * (1 + lineitem_filtered.L_TAX)\n",
    "    )\n",
    "    gb = lineitem_filtered.groupby([\"L_RETURNFLAG\", \"L_LINESTATUS\"], as_index=False)[\n",
    "        \"L_QUANTITY\",\n",
    "        \"L_EXTENDEDPRICE\",\n",
    "        \"DISC_PRICE\",\n",
    "        \"CHARGE\",\n",
    "        \"AVG_QTY\",\n",
    "        \"AVG_PRICE\",\n",
    "        \"L_DISCOUNT\",\n",
    "        \"L_ORDERKEY\",\n",
    "    ]\n",
    "    total = gb.agg(\n",
    "        {\n",
    "            \"L_QUANTITY\": \"sum\",\n",
    "            \"L_EXTENDEDPRICE\": \"sum\",\n",
    "            \"DISC_PRICE\": \"sum\",\n",
    "            \"CHARGE\": \"sum\",\n",
    "            \"AVG_QTY\": \"mean\",\n",
    "            \"AVG_PRICE\": \"mean\",\n",
    "            \"L_DISCOUNT\": \"mean\",\n",
    "            \"L_ORDERKEY\": \"count\",\n",
    "        }\n",
    "    )\n",
    "    total = total.sort_values([\"L_RETURNFLAG\", \"L_LINESTATUS\"])\n",
    "    print(total.head())\n",
    "    print(\"Q01 Execution time (s): \", time.time() - t1)\n",
    "    "
   ]
  },
  {
   "cell_type": "code",
   "execution_count": 15,
   "id": "c69f0a7c-0dbc-4f29-825c-d9a8dd9afaf4",
   "metadata": {
    "execution": {
     "iopub.execute_input": "2022-07-12T20:20:18.087137Z",
     "iopub.status.busy": "2022-07-12T20:20:18.086748Z",
     "iopub.status.idle": "2022-07-12T20:20:20.444231Z",
     "shell.execute_reply": "2022-07-12T20:20:20.443601Z",
     "shell.execute_reply.started": "2022-07-12T20:20:18.087114Z"
    },
    "tags": []
   },
   "outputs": [
    {
     "data": {
      "text/plain": [
       "[stdout:0] ################################################################################################################################\n",
       "Started Q01 Execution...\n",
       "################################################################################################################################\n",
       "  L_RETURNFLAG L_LINESTATUS  L_QUANTITY  L_EXTENDEDPRICE    DISC_PRICE  \\\n",
       "2            A            F  37734107.0     5.658655e+10  5.375826e+10   \n",
       "1            N            F    991417.0     1.487505e+09  1.413082e+09   \n",
       "3            N            O  74476040.0     1.117017e+11  1.061182e+11   \n",
       "0            R            F  37719753.0     5.656804e+10  5.374129e+10   \n",
       "\n",
       "         CHARGE    AVG_QTY     AVG_PRICE  L_DISCOUNT  L_ORDERKEY  \n",
       "2  5.590907e+10  25.522006  38273.129735    0.049985     1478493  \n",
       "1  1.469649e+09  25.516472  38284.467761    0.050093       38854  \n",
       "3  1.103670e+11  25.502227  38249.117989    0.049997     2920374  \n",
       "0  5.588962e+10  25.505794  38250.854626    0.050009     1478870  \n",
       "Q01 Execution time (s):  0.027957239789543564\n"
      ]
     },
     "metadata": {},
     "output_type": "display_data"
    },
    {
     "data": {
      "text/plain": [
       "[stderr:0] /opt/conda/lib/python3.10/site-packages/bodo/io/parquet_pio.py:881: BodoWarning: Total number of row groups in parquet dataset ['s3://bodo-iceberg-test2/arctic_test/SF1_LINEITEM_PQ_A/data/00000-1-96b67062-b249-4e91-a139-37ecf0d34015-00001.parquet', 's3://bodo-iceberg-test2/arctic_test/SF1_LINEITEM_PQ_A/data/00001-2-b449f2ba-5736-4b48-a705-bc54b6790907-00001.parquet', 's3://bodo-iceberg-test2/arctic_test/SF1_LINEITEM_PQ_A/data/00002-3-4b893077-86f3-47df-b6a5-2e44e1088da1-00001.parquet', 's3://bodo-iceberg-test2/arctic_test/SF1_LINEITEM_PQ_A/data/00003-4-99de0a1d-39c5-43ee-a3d5-fc5082fbd960-00001.parquet', 's3://bodo-iceberg-test2/arctic_test/SF1_LINEITEM_PQ_A/data/00004-5-d52eeda9-1593-4978-b486-c20b16206692-00001.parquet', 's3://bodo-iceberg-test2/arctic_test/SF1_LINEITEM_PQ_A/data/00005-6-763d3a9c-9108-4736-8db5-978616c328d7-00001.parquet', 's3://bodo-iceberg-test2/arctic_test/SF1_LINEITEM_PQ_A/data/00006-7-0f4bff4d-687e-4371-beb3-b9929b3feba4-00001.parquet', 's3://bodo-iceberg-test2/arctic_test/SF1_LINEITEM_PQ_A/data/00007-8-b911df3a-eb8b-40bc-8c15-4bff4fc1c53d-00001.parquet', 's3://bodo-iceberg-test2/arctic_test/SF1_LINEITEM_PQ_A/data/00008-9-a29667c7-0ef7-4af1-ac59-007fc080e9cc-00001.parquet', 's3://bodo-iceberg-test2/arctic_test/SF1_LINEITEM_PQ_A/data/00009-10-02c2ff70-b43f-426f-95ac-5ebc6cb7d9d6-00001.parquet', 's3://bodo-iceberg-test2/arctic_test/SF1_LINEITEM_PQ_A/data/00010-11-d20230ef-fb99-4a94-a8e7-1b3e93a9b4cf-00001.parquet', 's3://bodo-iceberg-test2/arctic_test/SF1_LINEITEM_PQ_A/data/00011-12-ac6d21ff-2227-47a6-b8a2-0752ad4e17bf-00001.parquet', 's3://bodo-iceberg-test2/arctic_test/SF1_LINEITEM_PQ_A/data/00012-13-f85b0020-0c63-4034-8f05-e4a391b42d4b-00001.parquet', 's3://bodo-iceberg-test2/arctic_test/SF1_LINEITEM_PQ_A/data/00013-14-f6525ddd-d45d-4ed3-91e4-66b4635fe6b5-00001.parquet', 's3://bodo-iceberg-test2/arctic_test/SF1_LINEITEM_PQ_A/data/00014-15-a6fb2dcb-1766-426b-ade2-389a8cbcab6e-00001.parquet', 's3://bodo-iceberg-test2/arctic_test/SF1_LINEITEM_PQ_A/data/00015-16-a27483cc-bbe5-42ff-804b-372ab62d073d-00001.parquet', 's3://bodo-iceberg-test2/arctic_test/SF1_LINEITEM_PQ_A/data/00016-17-8e59f20c-ab63-4283-bc4e-08f5fa6dac14-00001.parquet', 's3://bodo-iceberg-test2/arctic_test/SF1_LINEITEM_PQ_A/data/00017-18-f9825ef2-4853-4840-b257-0ff5efc3ff34-00001.parquet', 's3://bodo-iceberg-test2/arctic_test/SF1_LINEITEM_PQ_A/data/00018-19-02c07272-51ec-4cbe-9272-8c85f377bbc1-00001.parquet', 's3://bodo-iceberg-test2/arctic_test/SF1_LINEITEM_PQ_A/data/00019-20-8c05de66-1584-4863-ae5c-2b0372d34854-00001.parquet', 's3://bodo-iceberg-test2/arctic_test/SF1_LINEITEM_PQ_A/data/00020-21-609768a1-2cf5-4f39-ab3f-441be63d8d4e-00001.parquet', 's3://bodo-iceberg-test2/arctic_test/SF1_LINEITEM_PQ_A/data/00021-22-5a45eb75-ec1b-4bf9-86c7-377c654846c3-00001.parquet', 's3://bodo-iceberg-test2/arctic_test/SF1_LINEITEM_PQ_A/data/00022-23-b65c8c6b-43ff-48e4-8f4a-eb110b8cf871-00001.parquet', 's3://bodo-iceberg-test2/arctic_test/SF1_LINEITEM_PQ_A/data/00023-24-ebe37247-663a-4dcf-8193-5751fd6f0c04-00001.parquet', 's3://bodo-iceberg-test2/arctic_test/SF1_LINEITEM_PQ_A/data/00024-25-7dd8fa44-2a77-4e21-9a6c-72a728e9969a-00001.parquet', 's3://bodo-iceberg-test2/arctic_test/SF1_LINEITEM_PQ_A/data/00025-26-66dd3932-1b6e-4402-9649-f7ab8ba4d24a-00001.parquet', 's3://bodo-iceberg-test2/arctic_test/SF1_LINEITEM_PQ_A/data/00026-27-ece39ff3-15c2-401b-93bb-5c4ce699473c-00001.parquet', 's3://bodo-iceberg-test2/arctic_test/SF1_LINEITEM_PQ_A/data/00027-28-dc7a15b7-5731-4e7b-a0e1-d00a1d007637-00001.parquet', 's3://bodo-iceberg-test2/arctic_test/SF1_LINEITEM_PQ_A/data/00028-29-20595c6e-fc0f-42c7-9b63-2c1caf373934-00001.parquet', 's3://bodo-iceberg-test2/arctic_test/SF1_LINEITEM_PQ_A/data/00029-30-6699ba70-0221-4949-9e01-3dceeb785113-00001.parquet', 's3://bodo-iceberg-test2/arctic_test/SF1_LINEITEM_PQ_A/data/00030-31-ee864d08-5bb4-4fd2-b2ea-9933d2902de2-00001.parquet', 's3://bodo-iceberg-test2/arctic_test/SF1_LINEITEM_PQ_A/data/00031-32-1adf45b7-9994-4c25-9a34-c71a74d9df16-00001.parquet', 's3://bodo-iceberg-test2/arctic_test/SF1_LINEITEM_PQ_A/data/00032-33-23f42b57-56e9-4dcd-952b-97ab8649f0a5-00001.parquet', 's3://bodo-iceberg-test2/arctic_test/SF1_LINEITEM_PQ_A/data/00033-34-c3832889-7367-4f99-975b-acceede2535c-00001.parquet', 's3://bodo-iceberg-test2/arctic_test/SF1_LINEITEM_PQ_A/data/00034-35-181e37c8-960e-4cf0-9a49-4f819e9fed4f-00001.parquet'] (35) is too small for effective IO parallelization.\n",
       "For best performance the number of row groups should be greater than the number of workers (144). For more details, refer to\n",
       "https://docs.bodo.ai/latest/file_io/#parquet-section.\n",
       "\n",
       "  warnings.warn(BodoWarning(\n"
      ]
     },
     "metadata": {},
     "output_type": "display_data"
    },
    {
     "data": {
      "application/vnd.jupyter.widget-view+json": {
       "model_id": "dc06232d30cb4564be6f994bce1f8381",
       "version_major": 2,
       "version_minor": 0
      },
      "text/plain": [
       "%px:   0%|          | 0/144 [00:00<?, ?tasks/s]"
      ]
     },
     "metadata": {},
     "output_type": "display_data"
    }
   ],
   "source": [
    "run_queries(iceberg_url)"
   ]
  },
  {
   "cell_type": "code",
   "execution_count": null,
   "id": "95af3a47-e0b3-4b3a-9ba5-41594af722f0",
   "metadata": {},
   "outputs": [],
   "source": []
  }
 ],
 "metadata": {
  "kernelspec": {
   "display_name": "Python 3 (ipykernel)",
   "language": "python",
   "name": "python3"
  },
  "language_info": {
   "codemirror_mode": {
    "name": "ipython",
    "version": 3
   },
   "file_extension": ".py",
   "mimetype": "text/x-python",
   "name": "python",
   "nbconvert_exporter": "python",
   "pygments_lexer": "ipython3",
   "version": "3.9.12"
  }
 },
 "nbformat": 4,
 "nbformat_minor": 5
}
