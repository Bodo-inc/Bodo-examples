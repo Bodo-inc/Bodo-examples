{
 "cells": [
  {
   "cell_type": "markdown",
   "id": "597b1051-0cf6-4e92-8c55-98ef179584be",
   "metadata": {
    "execution": {
     "iopub.execute_input": "2022-06-28T08:40:15.646412Z",
     "iopub.status.busy": "2022-06-28T08:40:15.645996Z",
     "iopub.status.idle": "2022-06-28T08:40:15.650794Z",
     "shell.execute_reply": "2022-06-28T08:40:15.649994Z",
     "shell.execute_reply.started": "2022-06-28T08:40:15.646336Z"
    }
   },
   "source": [
    "# Loading Snowflake Credentials"
   ]
  },
  {
   "cell_type": "code",
   "execution_count": null,
   "id": "7f6f590a-cfb2-43c2-83e9-57d0aac71332",
   "metadata": {
    "tags": []
   },
   "outputs": [],
   "source": [
    "from bodo_platform_utils import secrets"
   ]
  },
  {
   "cell_type": "code",
   "execution_count": null,
   "id": "0b8a60b4-1525-4da8-ac43-d380a537301e",
   "metadata": {
    "tags": []
   },
   "outputs": [],
   "source": [
    "secrets.snowflake_credentials()"
   ]
  },
  {
   "cell_type": "code",
   "execution_count": null,
   "id": "434c62b7-57fe-44d9-814a-eddc52b76d43",
   "metadata": {},
   "outputs": [],
   "source": []
  }
 ],
 "metadata": {
  "kernelspec": {
   "display_name": "SSH 10.30.2.209 Remote-Kernel",
   "language": "",
   "name": "rik_ssh_10_30_2_209_remotekernel"
  },
  "language_info": {
   "codemirror_mode": {
    "name": "ipython",
    "version": 3
   },
   "file_extension": ".py",
   "mimetype": "text/x-python",
   "name": "python",
   "nbconvert_exporter": "python",
   "pygments_lexer": "ipython3",
   "version": "3.10.4"
  }
 },
 "nbformat": 4,
 "nbformat_minor": 5
}
