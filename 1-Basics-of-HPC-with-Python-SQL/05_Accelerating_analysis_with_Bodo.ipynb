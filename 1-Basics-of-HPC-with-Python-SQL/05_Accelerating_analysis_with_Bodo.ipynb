{
 "cells": [
  {
   "cell_type": "markdown",
   "id": "c2b5838f-33b1-489b-af6b-2789601463cd",
   "metadata": {
    "slideshow": {
     "slide_type": "slide"
    },
    "tags": []
   },
   "source": [
    "## Accelerating Analysis with Bodo"
   ]
  },
  {
   "cell_type": "markdown",
   "id": "04746cba-8d50-4472-8da1-ec7a22d8f220",
   "metadata": {
    "slideshow": {
     "slide_type": "notes"
    },
    "tags": []
   },
   "source": [
    "+ We've timed some data retrieval examples and put them in the context of computer hardware.\n",
    "+ Let's develop some more examples of analysis with Bodo."
   ]
  },
  {
   "cell_type": "markdown",
   "id": "de9b25ae-d67a-42c9-a5e8-b79e81f30e4c",
   "metadata": {
    "slideshow": {
     "slide_type": "skip"
    },
    "tags": []
   },
   "source": [
    "---"
   ]
  },
  {
   "cell_type": "code",
   "execution_count": 1,
   "id": "8e7b4d30",
   "metadata": {
    "slideshow": {
     "slide_type": "subslide"
    },
    "tags": []
   },
   "outputs": [],
   "source": [
    "import pandas as pd, numpy as np\n",
    "import time\n",
    "import bodo\n",
    "from s3fs import S3FileSystem\n",
    "s3 = S3FileSystem(anon=True)\n",
    "pd.set_option('display.precision', 2)"
   ]
  },
  {
   "cell_type": "markdown",
   "id": "9bc3df00-fa0f-4ac8-867d-5897e5943bd9",
   "metadata": {
    "slideshow": {
     "slide_type": "notes"
    },
    "tags": []
   },
   "source": [
    "+ We begin with usual imports.\n",
    "+ We'll also use `s3fs` to probe the files on the S3 bucket."
   ]
  },
  {
   "cell_type": "markdown",
   "id": "31624e74-222d-4ccf-8b97-3cf141fcb2f4",
   "metadata": {
    "slideshow": {
     "slide_type": "skip"
    },
    "tags": []
   },
   "source": [
    "---"
   ]
  },
  {
   "cell_type": "markdown",
   "id": "4c7e01ae-696b-415b-85b3-015484bc9239",
   "metadata": {
    "slideshow": {
     "slide_type": "subslide"
    },
    "tags": []
   },
   "source": [
    "### Building DataFrame from 50 files on S3"
   ]
  },
  {
   "cell_type": "code",
   "execution_count": 2,
   "id": "36c48743",
   "metadata": {
    "scrolled": true,
    "tags": []
   },
   "outputs": [
    {
     "name": "stdout",
     "output_type": "stream",
     "text": [
      "Disk usage: 1.12 GiB\n"
     ]
    }
   ],
   "source": [
    "DATA_ROOT = 'bodo-examples-data/bodo-training-fundamentals/DATA'\n",
    "DATA_DIR  = 'PARQUET_050'\n",
    "DATA_SRC  = f's3://{DATA_ROOT}/{DATA_DIR}'\n",
    "print(f'Disk usage: {s3.du(f\"{DATA_ROOT}/{DATA_DIR}\")/(1024**3):.2f} GiB')"
   ]
  },
  {
   "cell_type": "markdown",
   "id": "a299b0ce",
   "metadata": {
    "slideshow": {
     "slide_type": "notes"
    },
    "tags": []
   },
   "source": [
    "+ We'll work with data from 50 Parquet files.\n",
    "+ These are about 1.1 GiB on the S3 bucket."
   ]
  },
  {
   "cell_type": "markdown",
   "id": "8d9c5f46",
   "metadata": {
    "slideshow": {
     "slide_type": "skip"
    },
    "tags": []
   },
   "source": [
    "---"
   ]
  },
  {
   "cell_type": "code",
   "execution_count": 3,
   "id": "aa5b9d31",
   "metadata": {
    "slideshow": {
     "slide_type": "subslide"
    }
   },
   "outputs": [
    {
     "name": "stdout",
     "output_type": "stream",
     "text": [
      "CPU times: user 51.8 s, sys: 10.1 s, total: 1min 1s\n",
      "Wall time: 4min 15s\n"
     ]
    }
   ],
   "source": [
    "loading_opts = dict(storage_options=dict(anon=True))\n",
    "%time df = pd.read_parquet(DATA_SRC, **loading_opts)"
   ]
  },
  {
   "cell_type": "code",
   "execution_count": 4,
   "id": "76f91fd3",
   "metadata": {
    "slideshow": {
     "slide_type": "fragment"
    },
    "tags": []
   },
   "outputs": [
    {
     "data": {
      "text/plain": [
       "2.095475912094116"
      ]
     },
     "execution_count": 4,
     "metadata": {},
     "output_type": "execute_result"
    }
   ],
   "source": [
    "df.memory_usage().sum() / (1024**3)"
   ]
  },
  {
   "cell_type": "markdown",
   "id": "e2d924dc",
   "metadata": {
    "slideshow": {
     "slide_type": "skip"
    },
    "tags": []
   },
   "source": [
    "---"
   ]
  },
  {
   "cell_type": "markdown",
   "id": "7f278650-917e-46b5-a0c5-f2999f6bf32d",
   "metadata": {
    "slideshow": {
     "slide_type": "notes"
    },
    "tags": []
   },
   "source": [
    "+ We define `loading_opts` as a dictionary to enable reading from S3.\n",
    "+ This takes a while to load (about 4.5 minutes) but it does complete.\n",
    "\n",
    "---\n",
    "\n",
    "+ Invoking at the DataFrame `memory_usage` method & summing reveals the total memory footprint as about 2 GiB.\n",
    "+ This is slightly larger than the S3 storage due to compression on disk."
   ]
  },
  {
   "cell_type": "markdown",
   "id": "57dadc81-0b0c-421c-9b90-c7d13c1cc58d",
   "metadata": {
    "slideshow": {
     "slide_type": "skip"
    },
    "tags": []
   },
   "source": [
    "---"
   ]
  },
  {
   "cell_type": "markdown",
   "id": "b89d79db",
   "metadata": {
    "slideshow": {
     "slide_type": "subslide"
    }
   },
   "source": [
    "### A Groupby Example"
   ]
  },
  {
   "cell_type": "code",
   "execution_count": 5,
   "id": "16b3e865",
   "metadata": {
    "slideshow": {
     "slide_type": "fragment"
    }
   },
   "outputs": [
    {
     "name": "stdout",
     "output_type": "stream",
     "text": [
      "CPU times: user 2.59 s, sys: 713 ms, total: 3.3 s\n",
      "Wall time: 2.87 s\n"
     ]
    }
   ],
   "source": [
    "# Computing the average Purchase_amount grouped by Product\n",
    "%time avgs = df.groupby('Product')['Purchase_Amount'].mean()"
   ]
  },
  {
   "cell_type": "markdown",
   "id": "1bf08d5d",
   "metadata": {
    "slideshow": {
     "slide_type": "skip"
    },
    "tags": []
   },
   "source": [
    "---"
   ]
  },
  {
   "cell_type": "markdown",
   "id": "8adf3fb2",
   "metadata": {
    "slideshow": {
     "slide_type": "notes"
    },
    "tags": []
   },
   "source": [
    "+ With the DataFrame in memory, we'll group the transactions by `Product` category...\n",
    " + ...and compute the mean of the groups of `Purchase_Amount`s.\n",
    "+ This computation time takes about 3 seconds."
   ]
  },
  {
   "cell_type": "markdown",
   "id": "5a5ebccb-1fb3-4f44-8574-8668833c9a05",
   "metadata": {
    "slideshow": {
     "slide_type": "skip"
    },
    "tags": []
   },
   "source": [
    "---"
   ]
  },
  {
   "cell_type": "code",
   "execution_count": 6,
   "id": "b2c9a519",
   "metadata": {
    "slideshow": {
     "slide_type": "subslide"
    }
   },
   "outputs": [
    {
     "name": "stdout",
     "output_type": "stream",
     "text": [
      "Average Purchase_Amounts grouped by Product:\n",
      "\n"
     ]
    },
    {
     "data": {
      "text/html": [
       "<div>\n",
       "<style scoped>\n",
       "    .dataframe tbody tr th:only-of-type {\n",
       "        vertical-align: middle;\n",
       "    }\n",
       "\n",
       "    .dataframe tbody tr th {\n",
       "        vertical-align: top;\n",
       "    }\n",
       "\n",
       "    .dataframe thead th {\n",
       "        text-align: right;\n",
       "    }\n",
       "</style>\n",
       "<table border=\"1\" class=\"dataframe\">\n",
       "  <thead>\n",
       "    <tr style=\"text-align: right;\">\n",
       "      <th>Product</th>\n",
       "      <th>Automotive</th>\n",
       "      <th>Beauty</th>\n",
       "      <th>Books</th>\n",
       "      <th>Clothes</th>\n",
       "      <th>Computers</th>\n",
       "      <th>Electronics</th>\n",
       "      <th>Food</th>\n",
       "      <th>Health</th>\n",
       "      <th>Music</th>\n",
       "      <th>Sporting-Goods</th>\n",
       "      <th>Toys</th>\n",
       "    </tr>\n",
       "  </thead>\n",
       "  <tbody>\n",
       "    <tr>\n",
       "      <th>Purchase_Amount</th>\n",
       "      <td>687.98</td>\n",
       "      <td>25.8</td>\n",
       "      <td>34.4</td>\n",
       "      <td>64.5</td>\n",
       "      <td>860.03</td>\n",
       "      <td>86.01</td>\n",
       "      <td>8.6</td>\n",
       "      <td>21.5</td>\n",
       "      <td>17.2</td>\n",
       "      <td>129.01</td>\n",
       "      <td>43.0</td>\n",
       "    </tr>\n",
       "  </tbody>\n",
       "</table>\n",
       "</div>"
      ],
      "text/plain": [
       "Product          Automotive  Beauty  Books  Clothes  Computers  Electronics  \\\n",
       "Purchase_Amount      687.98    25.8   34.4     64.5     860.03        86.01   \n",
       "\n",
       "Product          Food  Health  Music  Sporting-Goods  Toys  \n",
       "Purchase_Amount   8.6    21.5   17.2          129.01  43.0  "
      ]
     },
     "metadata": {},
     "output_type": "display_data"
    }
   ],
   "source": [
    "print(f'Average Purchase_Amounts grouped by Product:\\n')\n",
    "display(pd.DataFrame(avgs).transpose())"
   ]
  },
  {
   "cell_type": "markdown",
   "id": "136d3024",
   "metadata": {
    "slideshow": {
     "slide_type": "notes"
    },
    "tags": []
   },
   "source": [
    "+ The result of the groupy & mean just computed is a Pandas Series.\n",
    "+ We convert it to a DataFrame & transpose for easier display."
   ]
  },
  {
   "cell_type": "markdown",
   "id": "8e2a8713",
   "metadata": {
    "slideshow": {
     "slide_type": "skip"
    },
    "tags": []
   },
   "source": [
    "---"
   ]
  },
  {
   "cell_type": "markdown",
   "id": "7eec3508",
   "metadata": {
    "slideshow": {
     "slide_type": "subslide"
    },
    "tags": []
   },
   "source": [
    "### A Transformation & Groupby Example"
   ]
  },
  {
   "cell_type": "code",
   "execution_count": 7,
   "id": "9b1a3ee3",
   "metadata": {
    "slideshow": {
     "slide_type": "fragment"
    },
    "tags": []
   },
   "outputs": [
    {
     "data": {
      "text/plain": [
       "47855898    Good : Ports are used to communicate with the ...\n",
       "9139494     Terrible : Erlang is known for its designs tha...\n",
       "46573108                                                 None\n",
       "45351498                                                 None\n",
       "25215257    Great : Erlang is a general-purpose, concurren...\n",
       "35819821                                                 None\n",
       "49175526    Fine : Erlang is known for its designs that ar...\n",
       "22546398    Great : They are written as strings of consecu...\n",
       "31534942    Good : The syntax {D1,D2,...,Dn} denotes a tup...\n",
       "10678903    Terrible : Atoms can contain any character if ...\n",
       "Name: Product_Review, dtype: object"
      ]
     },
     "execution_count": 7,
     "metadata": {},
     "output_type": "execute_result"
    }
   ],
   "source": [
    "df.Product_Review.sample(n=10)"
   ]
  },
  {
   "cell_type": "markdown",
   "id": "fd76e65b",
   "metadata": {
    "slideshow": {
     "slide_type": "skip"
    },
    "tags": []
   },
   "source": [
    "---"
   ]
  },
  {
   "cell_type": "markdown",
   "id": "50628600",
   "metadata": {
    "slideshow": {
     "slide_type": "notes"
    },
    "tags": []
   },
   "source": [
    "+ For another example computation, with a more complicated flavour,...\n",
    " + ...let's examine a few random rows of the `Product_Review` column of the DataFrame in memory.\n",
    "+ These are strings that begin with `Terrible`, `Fine`, `Good`, or `Great`\n",
    "+ Some of rows have no review (indicated by `None`)."
   ]
  },
  {
   "cell_type": "markdown",
   "id": "2126b10e-6f10-4574-848a-9b379608a6ea",
   "metadata": {
    "slideshow": {
     "slide_type": "skip"
    },
    "tags": []
   },
   "source": [
    "---"
   ]
  },
  {
   "cell_type": "code",
   "execution_count": 8,
   "id": "c6449a91",
   "metadata": {
    "slideshow": {
     "slide_type": "subslide"
    }
   },
   "outputs": [
    {
     "name": "stdout",
     "output_type": "stream",
     "text": [
      "Terrible : Any element of a tuple can be accessed in constant time.\n"
     ]
    }
   ],
   "source": [
    "row = df.iloc[-1]\n",
    "print(row.Product_Review)"
   ]
  },
  {
   "cell_type": "code",
   "execution_count": 9,
   "id": "645516f9",
   "metadata": {
    "slideshow": {
     "slide_type": "fragment"
    },
    "tags": []
   },
   "outputs": [
    {
     "name": "stdout",
     "output_type": "stream",
     "text": [
      "['Terrible', ':', 'Any', 'element', 'of', 'a', 'tuple', 'can', 'be', 'accessed', 'in', 'constant', 'time.']\n"
     ]
    }
   ],
   "source": [
    "print(row.Product_Review.split())"
   ]
  },
  {
   "cell_type": "markdown",
   "id": "7ad3df86",
   "metadata": {
    "slideshow": {
     "slide_type": "skip"
    },
    "tags": []
   },
   "source": [
    "---"
   ]
  },
  {
   "cell_type": "markdown",
   "id": "a2f198ff",
   "metadata": {
    "slideshow": {
     "slide_type": "notes"
    },
    "tags": []
   },
   "source": [
    "+ We'll extract a single row as a series, so we can convert each review to a numerical score.\n",
    "---\n",
    "+ After extracting the (non-empty) `Product_Review` from a row, the Python string method `split` returns a list of words.\n",
    "+ The zeroth word in this list—`Terrible`—is the one we want."
   ]
  },
  {
   "cell_type": "markdown",
   "id": "3b3d29db-71d6-40c9-af7a-cf66201cadd6",
   "metadata": {
    "slideshow": {
     "slide_type": "skip"
    },
    "tags": []
   },
   "source": [
    "---"
   ]
  },
  {
   "cell_type": "code",
   "execution_count": 10,
   "id": "08125a09",
   "metadata": {
    "slideshow": {
     "slide_type": "subslide"
    },
    "tags": []
   },
   "outputs": [
    {
     "name": "stdout",
     "output_type": "stream",
     "text": [
      "Terrible -> 1\n"
     ]
    }
   ],
   "source": [
    "scores = {'Terrible':1, 'Fine':2, 'Good':3, 'Great':4}\n",
    "key = row.Product_Review.split()[0]\n",
    "translation = f'{key} -> {scores[key]}'\n",
    "print(translation)"
   ]
  },
  {
   "cell_type": "markdown",
   "id": "121c93d1",
   "metadata": {
    "slideshow": {
     "slide_type": "notes"
    },
    "tags": []
   },
   "source": [
    "+ We can use a dictionary `scores` to represent the mapping of the review keywords to numbers. \n",
    "+ The numerical scores range from one to four...\n",
    "+ ...and, for this row, the keyword `Terrible` translates to a score of `1`."
   ]
  },
  {
   "cell_type": "markdown",
   "id": "2124722a",
   "metadata": {
    "slideshow": {
     "slide_type": "skip"
    },
    "tags": []
   },
   "source": [
    "---"
   ]
  },
  {
   "cell_type": "code",
   "execution_count": 11,
   "id": "476c032c",
   "metadata": {
    "slideshow": {
     "slide_type": "subslide"
    }
   },
   "outputs": [],
   "source": [
    "def extract_score(row):\n",
    "    scores = {'Terrible':1, 'Fine':2, 'Good':3, 'Great':4}\n",
    "    return (np.nan if pd.isna(row.Product_Review)\n",
    "                   else scores[row.Product_Review.split()[0]])"
   ]
  },
  {
   "cell_type": "markdown",
   "id": "d54b9420",
   "metadata": {
    "slideshow": {
     "slide_type": "notes"
    },
    "tags": []
   },
   "source": [
    "+ The preceding logic can be wrapped in a Python function `extract score`.\n",
    "+ The missing entries are assigned score of `NaN` using a ternary `if` statement.\n",
    "+ This also short-circuits exceptions by trying to apply the `split` method to non-strings."
   ]
  },
  {
   "cell_type": "markdown",
   "id": "150cea22",
   "metadata": {
    "slideshow": {
     "slide_type": "skip"
    },
    "tags": []
   },
   "source": [
    "---"
   ]
  },
  {
   "cell_type": "code",
   "execution_count": 12,
   "id": "54f023f0",
   "metadata": {
    "slideshow": {
     "slide_type": "subslide"
    },
    "tags": []
   },
   "outputs": [
    {
     "data": {
      "text/html": [
       "<div>\n",
       "<style scoped>\n",
       "    .dataframe tbody tr th:only-of-type {\n",
       "        vertical-align: middle;\n",
       "    }\n",
       "\n",
       "    .dataframe tbody tr th {\n",
       "        vertical-align: top;\n",
       "    }\n",
       "\n",
       "    .dataframe thead th {\n",
       "        text-align: right;\n",
       "    }\n",
       "</style>\n",
       "<table border=\"1\" class=\"dataframe\">\n",
       "  <thead>\n",
       "    <tr style=\"text-align: right;\">\n",
       "      <th></th>\n",
       "      <th>Name</th>\n",
       "      <th>Age</th>\n",
       "      <th>Purchase_Date</th>\n",
       "      <th>Purchase_Amount</th>\n",
       "      <th>Product</th>\n",
       "      <th>Product_Review</th>\n",
       "    </tr>\n",
       "  </thead>\n",
       "  <tbody>\n",
       "    <tr>\n",
       "      <th>0</th>\n",
       "      <td>Tomas Talley</td>\n",
       "      <td>49</td>\n",
       "      <td>1994-12-09 13:50:37</td>\n",
       "      <td>16.30</td>\n",
       "      <td>Health</td>\n",
       "      <td>None</td>\n",
       "    </tr>\n",
       "    <tr>\n",
       "      <th>1</th>\n",
       "      <td>Paulene Greer</td>\n",
       "      <td>31</td>\n",
       "      <td>2004-06-05 14:43:15</td>\n",
       "      <td>129.76</td>\n",
       "      <td>Sporting-Goods</td>\n",
       "      <td>Good : Any element of a tuple can be accessed ...</td>\n",
       "    </tr>\n",
       "    <tr>\n",
       "      <th>2</th>\n",
       "      <td>Barrett Mccray</td>\n",
       "      <td>69</td>\n",
       "      <td>1990-04-06 18:35:10</td>\n",
       "      <td>85.19</td>\n",
       "      <td>Electronics</td>\n",
       "      <td>Fine : I don't even care.</td>\n",
       "    </tr>\n",
       "    <tr>\n",
       "      <th>3</th>\n",
       "      <td>Cammie Adkins</td>\n",
       "      <td>57</td>\n",
       "      <td>2020-07-17 14:25:20</td>\n",
       "      <td>101.17</td>\n",
       "      <td>Electronics</td>\n",
       "      <td>Good : He looked inquisitively at his keyboard...</td>\n",
       "    </tr>\n",
       "    <tr>\n",
       "      <th>4</th>\n",
       "      <td>Breann Moses</td>\n",
       "      <td>59</td>\n",
       "      <td>2003-03-16 17:18:02</td>\n",
       "      <td>7.49</td>\n",
       "      <td>Food</td>\n",
       "      <td>Good : Where are my pants?</td>\n",
       "    </tr>\n",
       "  </tbody>\n",
       "</table>\n",
       "</div>"
      ],
      "text/plain": [
       "             Name  Age       Purchase_Date  Purchase_Amount         Product  \\\n",
       "0    Tomas Talley   49 1994-12-09 13:50:37            16.30          Health   \n",
       "1   Paulene Greer   31 2004-06-05 14:43:15           129.76  Sporting-Goods   \n",
       "2  Barrett Mccray   69 1990-04-06 18:35:10            85.19     Electronics   \n",
       "3   Cammie Adkins   57 2020-07-17 14:25:20           101.17     Electronics   \n",
       "4    Breann Moses   59 2003-03-16 17:18:02             7.49            Food   \n",
       "\n",
       "                                      Product_Review  \n",
       "0                                               None  \n",
       "1  Good : Any element of a tuple can be accessed ...  \n",
       "2                          Fine : I don't even care.  \n",
       "3  Good : He looked inquisitively at his keyboard...  \n",
       "4                         Good : Where are my pants?  "
      ]
     },
     "metadata": {},
     "output_type": "display_data"
    }
   ],
   "source": [
    "display(df.head())"
   ]
  },
  {
   "cell_type": "markdown",
   "id": "3de3676e",
   "metadata": {
    "slideshow": {
     "slide_type": "notes"
    },
    "tags": []
   },
   "source": [
    "+ As a first check that the function `extract_score` works, examine the first few rows of the dataframe `df`..."
   ]
  },
  {
   "cell_type": "markdown",
   "id": "1ab21548",
   "metadata": {
    "slideshow": {
     "slide_type": "skip"
    },
    "tags": []
   },
   "source": [
    "---"
   ]
  },
  {
   "cell_type": "code",
   "execution_count": 13,
   "id": "9f81d7b8",
   "metadata": {
    "slideshow": {
     "slide_type": "subslide"
    },
    "tags": []
   },
   "outputs": [
    {
     "data": {
      "text/plain": [
       "0    NaN\n",
       "1    3.0\n",
       "2    2.0\n",
       "3    3.0\n",
       "4    3.0\n",
       "dtype: float64"
      ]
     },
     "metadata": {},
     "output_type": "display_data"
    }
   ],
   "source": [
    "score = df.head().apply(extract_score, axis=1)\n",
    "display(score)"
   ]
  },
  {
   "cell_type": "markdown",
   "id": "e432add0",
   "metadata": {
    "slideshow": {
     "slide_type": "notes"
    },
    "tags": []
   },
   "source": [
    "+ ...and then use the `apply` method to return the corresponding Series of scores."
   ]
  },
  {
   "cell_type": "markdown",
   "id": "d46607fa",
   "metadata": {
    "slideshow": {
     "slide_type": "skip"
    },
    "tags": []
   },
   "source": [
    "---"
   ]
  },
  {
   "cell_type": "code",
   "execution_count": 14,
   "id": "5b957743",
   "metadata": {
    "slideshow": {
     "slide_type": "subslide"
    },
    "tags": []
   },
   "outputs": [
    {
     "data": {
      "text/html": [
       "<div>\n",
       "<style scoped>\n",
       "    .dataframe tbody tr th:only-of-type {\n",
       "        vertical-align: middle;\n",
       "    }\n",
       "\n",
       "    .dataframe tbody tr th {\n",
       "        vertical-align: top;\n",
       "    }\n",
       "\n",
       "    .dataframe thead th {\n",
       "        text-align: right;\n",
       "    }\n",
       "</style>\n",
       "<table border=\"1\" class=\"dataframe\">\n",
       "  <thead>\n",
       "    <tr style=\"text-align: right;\">\n",
       "      <th></th>\n",
       "      <th>Name</th>\n",
       "      <th>Age</th>\n",
       "      <th>Purchase_Date</th>\n",
       "      <th>Purchase_Amount</th>\n",
       "      <th>Product</th>\n",
       "      <th>Product_Review</th>\n",
       "    </tr>\n",
       "  </thead>\n",
       "  <tbody>\n",
       "    <tr>\n",
       "      <th>999997</th>\n",
       "      <td>Diego Dominguez</td>\n",
       "      <td>21</td>\n",
       "      <td>2002-01-18 08:38:38</td>\n",
       "      <td>16.40</td>\n",
       "      <td>Music</td>\n",
       "      <td>None</td>\n",
       "    </tr>\n",
       "    <tr>\n",
       "      <th>999998</th>\n",
       "      <td>Twanna Phillips</td>\n",
       "      <td>64</td>\n",
       "      <td>2018-12-23 10:36:36</td>\n",
       "      <td>56.48</td>\n",
       "      <td>Clothes</td>\n",
       "      <td>Terrible : The Galactic Empire is nearing comp...</td>\n",
       "    </tr>\n",
       "    <tr>\n",
       "      <th>999999</th>\n",
       "      <td>Zonia Browning</td>\n",
       "      <td>40</td>\n",
       "      <td>2017-03-30 14:48:36</td>\n",
       "      <td>803.67</td>\n",
       "      <td>Computers</td>\n",
       "      <td>Fine : Initially composing light-hearted and i...</td>\n",
       "    </tr>\n",
       "  </tbody>\n",
       "</table>\n",
       "</div>"
      ],
      "text/plain": [
       "                   Name  Age       Purchase_Date  Purchase_Amount    Product  \\\n",
       "999997  Diego Dominguez   21 2002-01-18 08:38:38            16.40      Music   \n",
       "999998  Twanna Phillips   64 2018-12-23 10:36:36            56.48    Clothes   \n",
       "999999   Zonia Browning   40 2017-03-30 14:48:36           803.67  Computers   \n",
       "\n",
       "                                           Product_Review  \n",
       "999997                                               None  \n",
       "999998  Terrible : The Galactic Empire is nearing comp...  \n",
       "999999  Fine : Initially composing light-hearted and i...  "
      ]
     },
     "execution_count": 14,
     "metadata": {},
     "output_type": "execute_result"
    }
   ],
   "source": [
    "# First, extract a smaller DataFrame\n",
    "sub_df = df.head(1_000_000).copy() # Extract one file of data\n",
    "sub_df.tail(3)"
   ]
  },
  {
   "cell_type": "markdown",
   "id": "834666f8",
   "metadata": {
    "slideshow": {
     "slide_type": "notes"
    },
    "tags": []
   },
   "source": [
    "+ As another check, we extract the equivalent of a single file's worth of data as a sub-dataframe."
   ]
  },
  {
   "cell_type": "markdown",
   "id": "3c15123f",
   "metadata": {
    "slideshow": {
     "slide_type": "skip"
    },
    "tags": []
   },
   "source": [
    "---"
   ]
  },
  {
   "cell_type": "code",
   "execution_count": 15,
   "id": "71732fc5",
   "metadata": {
    "slideshow": {
     "slide_type": "subslide"
    },
    "tags": []
   },
   "outputs": [
    {
     "name": "stdout",
     "output_type": "stream",
     "text": [
      "CPU times: user 15.8 s, sys: 52.2 ms, total: 15.8 s\n",
      "Wall time: 15.8 s\n"
     ]
    },
    {
     "data": {
      "text/html": [
       "<div>\n",
       "<style scoped>\n",
       "    .dataframe tbody tr th:only-of-type {\n",
       "        vertical-align: middle;\n",
       "    }\n",
       "\n",
       "    .dataframe tbody tr th {\n",
       "        vertical-align: top;\n",
       "    }\n",
       "\n",
       "    .dataframe thead th {\n",
       "        text-align: right;\n",
       "    }\n",
       "</style>\n",
       "<table border=\"1\" class=\"dataframe\">\n",
       "  <thead>\n",
       "    <tr style=\"text-align: right;\">\n",
       "      <th></th>\n",
       "      <th>Name</th>\n",
       "      <th>Age</th>\n",
       "      <th>Score</th>\n",
       "    </tr>\n",
       "  </thead>\n",
       "  <tbody>\n",
       "    <tr>\n",
       "      <th>999997</th>\n",
       "      <td>Diego Dominguez</td>\n",
       "      <td>21</td>\n",
       "      <td>NaN</td>\n",
       "    </tr>\n",
       "    <tr>\n",
       "      <th>999998</th>\n",
       "      <td>Twanna Phillips</td>\n",
       "      <td>64</td>\n",
       "      <td>1.0</td>\n",
       "    </tr>\n",
       "    <tr>\n",
       "      <th>999999</th>\n",
       "      <td>Zonia Browning</td>\n",
       "      <td>40</td>\n",
       "      <td>2.0</td>\n",
       "    </tr>\n",
       "  </tbody>\n",
       "</table>\n",
       "</div>"
      ],
      "text/plain": [
       "                   Name  Age  Score\n",
       "999997  Diego Dominguez   21    NaN\n",
       "999998  Twanna Phillips   64    1.0\n",
       "999999   Zonia Browning   40    2.0"
      ]
     },
     "execution_count": 15,
     "metadata": {},
     "output_type": "execute_result"
    }
   ],
   "source": [
    "# Create a column \"Score\" by extracting numerical values corresponding to the first word of each review.\n",
    "%time sub_df['Score'] = sub_df.apply(extract_score, axis=1)\n",
    "sub_df.tail(3)[['Name', 'Age', 'Score']]"
   ]
  },
  {
   "cell_type": "markdown",
   "id": "e364e7de",
   "metadata": {
    "slideshow": {
     "slide_type": "notes"
    },
    "tags": []
   },
   "source": [
    "+ We then use the `apply` method to evaluate the function `extract_score` on every row of the sub-dataframe.\n",
    " + the computed series is stored as a new column `Score`.\n",
    "+ This is quite slow as expected; the Python function `extract_score` is executed in pure Python.\n",
    "+ Remember, this is for a much smaller DataFrame that fits in 50 MiB of memory;\n",
    " + ... we want to generalize this to large dataframes."
   ]
  },
  {
   "cell_type": "markdown",
   "id": "66ffa995",
   "metadata": {
    "slideshow": {
     "slide_type": "skip"
    },
    "tags": []
   },
   "source": [
    "---"
   ]
  },
  {
   "cell_type": "code",
   "execution_count": 16,
   "id": "9dd1493a",
   "metadata": {
    "slideshow": {
     "slide_type": "subslide"
    },
    "tags": []
   },
   "outputs": [
    {
     "name": "stdout",
     "output_type": "stream",
     "text": [
      "CPU times: user 60.1 ms, sys: 16.6 ms, total: 76.7 ms\n",
      "Wall time: 75 ms\n"
     ]
    },
    {
     "data": {
      "text/html": [
       "<div>\n",
       "<style scoped>\n",
       "    .dataframe tbody tr th:only-of-type {\n",
       "        vertical-align: middle;\n",
       "    }\n",
       "\n",
       "    .dataframe tbody tr th {\n",
       "        vertical-align: top;\n",
       "    }\n",
       "\n",
       "    .dataframe thead th {\n",
       "        text-align: right;\n",
       "    }\n",
       "</style>\n",
       "<table border=\"1\" class=\"dataframe\">\n",
       "  <thead>\n",
       "    <tr style=\"text-align: right;\">\n",
       "      <th>Product</th>\n",
       "      <th>Automotive</th>\n",
       "      <th>Beauty</th>\n",
       "      <th>Books</th>\n",
       "      <th>Clothes</th>\n",
       "      <th>Computers</th>\n",
       "      <th>Electronics</th>\n",
       "      <th>Food</th>\n",
       "      <th>Health</th>\n",
       "      <th>Music</th>\n",
       "      <th>Sporting-Goods</th>\n",
       "      <th>Toys</th>\n",
       "    </tr>\n",
       "  </thead>\n",
       "  <tbody>\n",
       "    <tr>\n",
       "      <th>Purchase_Amount</th>\n",
       "      <td>687.59</td>\n",
       "      <td>25.82</td>\n",
       "      <td>34.36</td>\n",
       "      <td>64.46</td>\n",
       "      <td>859.39</td>\n",
       "      <td>86.10</td>\n",
       "      <td>8.60</td>\n",
       "      <td>21.50</td>\n",
       "      <td>17.21</td>\n",
       "      <td>129.02</td>\n",
       "      <td>43.04</td>\n",
       "    </tr>\n",
       "    <tr>\n",
       "      <th>Score</th>\n",
       "      <td>2.17</td>\n",
       "      <td>2.23</td>\n",
       "      <td>2.18</td>\n",
       "      <td>2.37</td>\n",
       "      <td>3.13</td>\n",
       "      <td>2.04</td>\n",
       "      <td>2.62</td>\n",
       "      <td>2.51</td>\n",
       "      <td>2.30</td>\n",
       "      <td>2.43</td>\n",
       "      <td>1.98</td>\n",
       "    </tr>\n",
       "  </tbody>\n",
       "</table>\n",
       "</div>"
      ],
      "text/plain": [
       "Product          Automotive  Beauty  Books  Clothes  Computers  Electronics  \\\n",
       "Purchase_Amount      687.59   25.82  34.36    64.46     859.39        86.10   \n",
       "Score                  2.17    2.23   2.18     2.37       3.13         2.04   \n",
       "\n",
       "Product          Food  Health  Music  Sporting-Goods   Toys  \n",
       "Purchase_Amount  8.60   21.50  17.21          129.02  43.04  \n",
       "Score            2.62    2.51   2.30            2.43   1.98  "
      ]
     },
     "metadata": {},
     "output_type": "display_data"
    }
   ],
   "source": [
    "# Next, groupby Product, extract the Purchase_Amount & Score columns, & aggregate by mean.\n",
    "cols = ['Purchase_Amount', 'Score']\n",
    "%time result = sub_df.groupby('Product')[cols].mean()\n",
    "display(result.transpose())"
   ]
  },
  {
   "cell_type": "markdown",
   "id": "bce3d47b",
   "metadata": {
    "slideshow": {
     "slide_type": "notes"
    },
    "tags": []
   },
   "source": [
    "+ Finally, we groupby `Product` and look at the mean `Purchase_Amount` and `Score`.\n",
    "+ This is less than a second, but still working on a small dataset.\n",
    "+ Again, we transpose the result for convenient display."
   ]
  },
  {
   "cell_type": "markdown",
   "id": "dbf3560c",
   "metadata": {
    "slideshow": {
     "slide_type": "skip"
    },
    "tags": []
   },
   "source": [
    "---"
   ]
  },
  {
   "cell_type": "markdown",
   "id": "c11cde36",
   "metadata": {
    "slideshow": {
     "slide_type": "subslide"
    }
   },
   "source": [
    "### Improving these examples with Bodo"
   ]
  },
  {
   "cell_type": "code",
   "execution_count": 17,
   "id": "0d96fc78",
   "metadata": {
    "slideshow": {
     "slide_type": "-"
    }
   },
   "outputs": [],
   "source": [
    "# First jitted function:\n",
    "# (i) groupby Product, mean Purchase_Amount\n",
    "@bodo.jit\n",
    "def compute_groupby_mean_bodo():\n",
    "    DATA_ROOT = 'bodo-examples-data/bodo-training-fundamentals/DATA'\n",
    "    DATA_SRC  = f's3://{DATA_ROOT}/PARQUET_050'\n",
    "    t0 = time.time()\n",
    "    df = pd.read_parquet(DATA_SRC)\n",
    "    avgs = df.groupby('Product')['Purchase_Amount'].mean()\n",
    "    t1 = time.time()\n",
    "    return avgs, t1 - t0"
   ]
  },
  {
   "cell_type": "markdown",
   "id": "d5fca408-b97a-465c-a178-96ca2148e0d8",
   "metadata": {
    "slideshow": {
     "slide_type": "notes"
    },
    "tags": []
   },
   "source": [
    "+ We can encapsulate the preceding computations in Bodo-jitted functions.\n",
    "+ The first one, `compute_groupby_mean_bodo`, simply groups by `Product` & returns the mean `Purchase_Amount`.\n",
    "+ Notice the time includes both the loading time and the time for the groupby computation.\n",
    "+ The `bodo.jit` decorator will recognize that only one column is used;\n",
    " + The compiled function will save a lot in memory & network use compared to the preceding implementation."
   ]
  },
  {
   "cell_type": "markdown",
   "id": "3303c728",
   "metadata": {
    "slideshow": {
     "slide_type": "skip"
    },
    "tags": []
   },
   "source": [
    "---"
   ]
  },
  {
   "cell_type": "code",
   "execution_count": 18,
   "id": "0c77b802",
   "metadata": {
    "slideshow": {
     "slide_type": "subslide"
    }
   },
   "outputs": [],
   "source": [
    "# Second jitted function:\n",
    "# (i) compute Score column\n",
    "# (ii) groupby Product, mean Purchase_Amount & Score\n",
    "@bodo.jit\n",
    "def compute_scores_groupby_means_bodo():\n",
    "    DATA_ROOT = 'bodo-examples-data/bodo-training-fundamentals/DATA'\n",
    "    DATA_SRC  = f's3://{DATA_ROOT}/PARQUET_050'\n",
    "    t0 = time.time()\n",
    "    df = pd.read_parquet(DATA_SRC)\n",
    "    df['Score'] = df.apply(extract_score, axis=1)\n",
    "    result = df.groupby('Product')\\\n",
    "              [['Purchase_Amount', 'Score']].mean()\n",
    "    t1 = time.time()\n",
    "    return result, t1 - t0"
   ]
  },
  {
   "cell_type": "markdown",
   "id": "dd950b23",
   "metadata": {
    "slideshow": {
     "slide_type": "notes"
    },
    "tags": []
   },
   "source": [
    "+ The second jitted function the preceding logic can be embedded into a function `compute_scores_groupby_means`\n",
    "+ This is fairly involved in having to transform the `Purchase_Reviews` column to yield the `Scores`.\n",
    "+ The function returns a DataFrame—the result of the groupby—as well as the time elapsed."
   ]
  },
  {
   "cell_type": "markdown",
   "id": "6ed88818-a913-4aad-8457-d8abc28b34ac",
   "metadata": {
    "slideshow": {
     "slide_type": "skip"
    },
    "tags": []
   },
   "source": [
    "---"
   ]
  },
  {
   "cell_type": "code",
   "execution_count": 19,
   "id": "f40739a8-6fe3-463a-8893-d23f5e49ad33",
   "metadata": {
    "slideshow": {
     "slide_type": "subslide"
    }
   },
   "outputs": [],
   "source": [
    "avgs_bodo, elapsed = compute_groupby_mean_bodo()"
   ]
  },
  {
   "cell_type": "code",
   "execution_count": 20,
   "id": "d55771c4-d4ae-416b-a7cf-8247023953a5",
   "metadata": {
    "slideshow": {
     "slide_type": "fragment"
    },
    "tags": []
   },
   "outputs": [
    {
     "name": "stdout",
     "output_type": "stream",
     "text": [
      "Average Purchase_Amounts grouped by Product:\n"
     ]
    },
    {
     "data": {
      "text/html": [
       "<div>\n",
       "<style scoped>\n",
       "    .dataframe tbody tr th:only-of-type {\n",
       "        vertical-align: middle;\n",
       "    }\n",
       "\n",
       "    .dataframe tbody tr th {\n",
       "        vertical-align: top;\n",
       "    }\n",
       "\n",
       "    .dataframe thead th {\n",
       "        text-align: right;\n",
       "    }\n",
       "</style>\n",
       "<table border=\"1\" class=\"dataframe\">\n",
       "  <thead>\n",
       "    <tr style=\"text-align: right;\">\n",
       "      <th>Product</th>\n",
       "      <th>Health</th>\n",
       "      <th>Sporting-Goods</th>\n",
       "      <th>Electronics</th>\n",
       "      <th>Food</th>\n",
       "      <th>Toys</th>\n",
       "      <th>Computers</th>\n",
       "      <th>Music</th>\n",
       "      <th>Clothes</th>\n",
       "      <th>Automotive</th>\n",
       "      <th>Beauty</th>\n",
       "      <th>Books</th>\n",
       "    </tr>\n",
       "  </thead>\n",
       "  <tbody>\n",
       "    <tr>\n",
       "      <th>Purchase_Amount</th>\n",
       "      <td>21.5</td>\n",
       "      <td>129.01</td>\n",
       "      <td>86.01</td>\n",
       "      <td>8.6</td>\n",
       "      <td>43.0</td>\n",
       "      <td>860.03</td>\n",
       "      <td>17.2</td>\n",
       "      <td>64.5</td>\n",
       "      <td>687.98</td>\n",
       "      <td>25.8</td>\n",
       "      <td>34.4</td>\n",
       "    </tr>\n",
       "  </tbody>\n",
       "</table>\n",
       "</div>"
      ],
      "text/plain": [
       "Product          Health  Sporting-Goods  Electronics  Food  Toys  Computers  \\\n",
       "Purchase_Amount    21.5          129.01        86.01   8.6  43.0     860.03   \n",
       "\n",
       "Product          Music  Clothes  Automotive  Beauty  Books  \n",
       "Purchase_Amount   17.2     64.5      687.98    25.8   34.4  "
      ]
     },
     "metadata": {},
     "output_type": "display_data"
    },
    {
     "name": "stdout",
     "output_type": "stream",
     "text": [
      "Time elapsed:    96.9399 s\n"
     ]
    }
   ],
   "source": [
    "print(f'Average Purchase_Amounts grouped by Product:')\n",
    "display(pd.DataFrame(avgs_bodo).transpose())\n",
    "print(f'Time elapsed: {elapsed:10.4f} s')"
   ]
  },
  {
   "cell_type": "markdown",
   "id": "84375468-2fa6-4e98-9e5e-456540861aed",
   "metadata": {
    "slideshow": {
     "slide_type": "notes"
    },
    "tags": []
   },
   "source": [
    "+ Consider the first jitted function.\n",
    "+ The application of the Bodo JIT decorator reduces the computation time from over 4 minutes to about 100 seconds.\n",
    "+ Notice that the result computed is superficially different in that the index is not sorted."
   ]
  },
  {
   "cell_type": "code",
   "execution_count": 21,
   "id": "42695427",
   "metadata": {
    "slideshow": {
     "slide_type": "subslide"
    }
   },
   "outputs": [
    {
     "data": {
      "text/html": [
       "<div>\n",
       "<style scoped>\n",
       "    .dataframe tbody tr th:only-of-type {\n",
       "        vertical-align: middle;\n",
       "    }\n",
       "\n",
       "    .dataframe tbody tr th {\n",
       "        vertical-align: top;\n",
       "    }\n",
       "\n",
       "    .dataframe thead th {\n",
       "        text-align: right;\n",
       "    }\n",
       "</style>\n",
       "<table border=\"1\" class=\"dataframe\">\n",
       "  <thead>\n",
       "    <tr style=\"text-align: right;\">\n",
       "      <th>Product</th>\n",
       "      <th>Automotive</th>\n",
       "      <th>Beauty</th>\n",
       "      <th>Books</th>\n",
       "      <th>Clothes</th>\n",
       "      <th>Computers</th>\n",
       "      <th>Electronics</th>\n",
       "      <th>Food</th>\n",
       "      <th>Health</th>\n",
       "      <th>Music</th>\n",
       "      <th>Sporting-Goods</th>\n",
       "      <th>Toys</th>\n",
       "    </tr>\n",
       "  </thead>\n",
       "  <tbody>\n",
       "    <tr>\n",
       "      <th>Purchase_Amount</th>\n",
       "      <td>-7.62e-12</td>\n",
       "      <td>-7.64e-13</td>\n",
       "      <td>-1.89e-12</td>\n",
       "      <td>-1.53e-12</td>\n",
       "      <td>1.84e-11</td>\n",
       "      <td>2.09e-12</td>\n",
       "      <td>2.13e-13</td>\n",
       "      <td>1.57e-12</td>\n",
       "      <td>3.55e-14</td>\n",
       "      <td>-4.80e-12</td>\n",
       "      <td>-4.74e-12</td>\n",
       "    </tr>\n",
       "  </tbody>\n",
       "</table>\n",
       "</div>"
      ],
      "text/plain": [
       "Product          Automotive    Beauty     Books   Clothes  Computers  \\\n",
       "Purchase_Amount   -7.62e-12 -7.64e-13 -1.89e-12 -1.53e-12   1.84e-11   \n",
       "\n",
       "Product          Electronics      Food    Health     Music  Sporting-Goods  \\\n",
       "Purchase_Amount     2.09e-12  2.13e-13  1.57e-12  3.55e-14       -4.80e-12   \n",
       "\n",
       "Product              Toys  \n",
       "Purchase_Amount -4.74e-12  "
      ]
     },
     "execution_count": 21,
     "metadata": {},
     "output_type": "execute_result"
    }
   ],
   "source": [
    "# Verify result computed is the same!\n",
    "pd.DataFrame(avgs - avgs_bodo).transpose()"
   ]
  },
  {
   "cell_type": "markdown",
   "id": "c27dccb8",
   "metadata": {
    "slideshow": {
     "slide_type": "notes"
    },
    "tags": []
   },
   "source": [
    "+ We can check that the Series computed are in fact the same by subtracting.\n",
    "+ Remember, `avgs` is the original Series computed; and `avgs_bodo` is computed by the Bodo-jitted function.\n",
    "+ We display the difference as a transposed DataFrame for convenience.\n",
    "+ The results are less than $10^{-11}$ in magnitude;\n",
    " + the absolute differences reflect reasonable rounding differences\n",
    " + That is, the Bodo-optimized code likely accumulates sums in a different sequence.\n",
    " + Then, we expect the results to differ within the scale of machine precision multiplied by 50 million...\n",
    " + ...(the number of rows in our DataFrame)."
   ]
  },
  {
   "cell_type": "markdown",
   "id": "d64e5f6b-7201-4a4a-b7af-8dbee9a6f111",
   "metadata": {
    "slideshow": {
     "slide_type": "skip"
    },
    "tags": []
   },
   "source": [
    "---"
   ]
  },
  {
   "cell_type": "code",
   "execution_count": 22,
   "id": "fea326e0",
   "metadata": {
    "scrolled": true,
    "slideshow": {
     "slide_type": "subslide"
    }
   },
   "outputs": [
    {
     "name": "stdout",
     "output_type": "stream",
     "text": [
      "CPU times: user 1min 15s, sys: 2.06 s, total: 1min 17s\n",
      "Wall time: 2min 52s\n"
     ]
    }
   ],
   "source": [
    "%%time\n",
    "scores_avgs, elapsed = compute_scores_groupby_means_bodo()"
   ]
  },
  {
   "cell_type": "markdown",
   "id": "690d7086",
   "metadata": {
    "slideshow": {
     "slide_type": "notes"
    },
    "tags": []
   },
   "source": [
    "+ Remember, it took about 5 minutes to load the DataFrame from the S3 bucket alone.\n",
    "+ And it took about 17 seconds to apply the transformation to one fiftieth of the dataset.\n",
    "+ This computation was not really feasible with all 50 million rows;\n",
    " + the Bodo-jitted function took about three minutes!\n",
    " "
   ]
  },
  {
   "cell_type": "markdown",
   "id": "9602d725",
   "metadata": {
    "slideshow": {
     "slide_type": "skip"
    },
    "tags": []
   },
   "source": [
    "---"
   ]
  },
  {
   "cell_type": "code",
   "execution_count": 23,
   "id": "7d1b3efa-9aa7-497e-8e9d-296bdc8f3642",
   "metadata": {
    "scrolled": true,
    "slideshow": {
     "slide_type": "subslide"
    }
   },
   "outputs": [
    {
     "name": "stdout",
     "output_type": "stream",
     "text": [
      "Average Purchase_Amounts & Scores grouped by Product:\n"
     ]
    },
    {
     "data": {
      "text/html": [
       "<div>\n",
       "<style scoped>\n",
       "    .dataframe tbody tr th:only-of-type {\n",
       "        vertical-align: middle;\n",
       "    }\n",
       "\n",
       "    .dataframe tbody tr th {\n",
       "        vertical-align: top;\n",
       "    }\n",
       "\n",
       "    .dataframe thead th {\n",
       "        text-align: right;\n",
       "    }\n",
       "</style>\n",
       "<table border=\"1\" class=\"dataframe\">\n",
       "  <thead>\n",
       "    <tr style=\"text-align: right;\">\n",
       "      <th>Product</th>\n",
       "      <th>Health</th>\n",
       "      <th>Sporting-Goods</th>\n",
       "      <th>Electronics</th>\n",
       "      <th>Food</th>\n",
       "      <th>Toys</th>\n",
       "      <th>Computers</th>\n",
       "      <th>Music</th>\n",
       "      <th>Clothes</th>\n",
       "      <th>Automotive</th>\n",
       "      <th>Beauty</th>\n",
       "      <th>Books</th>\n",
       "    </tr>\n",
       "  </thead>\n",
       "  <tbody>\n",
       "    <tr>\n",
       "      <th>Purchase_Amount</th>\n",
       "      <td>21.50</td>\n",
       "      <td>129.01</td>\n",
       "      <td>86.01</td>\n",
       "      <td>8.60</td>\n",
       "      <td>43.00</td>\n",
       "      <td>860.03</td>\n",
       "      <td>17.20</td>\n",
       "      <td>64.50</td>\n",
       "      <td>687.98</td>\n",
       "      <td>25.80</td>\n",
       "      <td>34.40</td>\n",
       "    </tr>\n",
       "    <tr>\n",
       "      <th>Score</th>\n",
       "      <td>2.48</td>\n",
       "      <td>2.55</td>\n",
       "      <td>2.51</td>\n",
       "      <td>2.55</td>\n",
       "      <td>2.42</td>\n",
       "      <td>2.51</td>\n",
       "      <td>2.47</td>\n",
       "      <td>2.45</td>\n",
       "      <td>2.48</td>\n",
       "      <td>2.47</td>\n",
       "      <td>2.62</td>\n",
       "    </tr>\n",
       "  </tbody>\n",
       "</table>\n",
       "</div>"
      ],
      "text/plain": [
       "Product          Health  Sporting-Goods  Electronics  Food   Toys  Computers  \\\n",
       "Purchase_Amount   21.50          129.01        86.01  8.60  43.00     860.03   \n",
       "Score              2.48            2.55         2.51  2.55   2.42       2.51   \n",
       "\n",
       "Product          Music  Clothes  Automotive  Beauty  Books  \n",
       "Purchase_Amount  17.20    64.50      687.98   25.80  34.40  \n",
       "Score             2.47     2.45        2.48    2.47   2.62  "
      ]
     },
     "metadata": {},
     "output_type": "display_data"
    },
    {
     "name": "stdout",
     "output_type": "stream",
     "text": [
      "Time elapsed:   154.4954 s\n"
     ]
    }
   ],
   "source": [
    "print(f'Average Purchase_Amounts & Scores grouped by Product:')\n",
    "display(scores_avgs.transpose())\n",
    "print(f'Time elapsed: {elapsed:10.4f} s')"
   ]
  },
  {
   "cell_type": "markdown",
   "id": "5dbc019f",
   "metadata": {
    "slideshow": {
     "slide_type": "notes"
    },
    "tags": []
   },
   "source": [
    "+ When we display the results, notice that the quantity `elapsed` returned by the function...\n",
    " + ... is about 15-20 seconds less than the time recorded by the `%%time` IPython magic command.\n",
    "+ The difference reflects the time required to compile the function.\n",
    "+ That may seem long, but it is much less than the computation time;\n",
    " + Indeed, it's much less than the savings from the 5 minutes needed to download the original data!"
   ]
  },
  {
   "cell_type": "markdown",
   "id": "8329f1ac-9369-424e-b4fd-f83cf2a6ebde",
   "metadata": {
    "slideshow": {
     "slide_type": "skip"
    },
    "tags": []
   },
   "source": [
    "---"
   ]
  },
  {
   "cell_type": "markdown",
   "id": "765f273f-4355-447a-819c-cd99709c81ec",
   "metadata": {
    "slideshow": {
     "slide_type": "subslide"
    },
    "tags": []
   },
   "source": [
    "### Summary\n",
    "\n",
    "+ `bodo.jit` decorator compiles *Python functions*\n",
    "+ Adapt from traditional Pandas-style analysis"
   ]
  },
  {
   "cell_type": "markdown",
   "id": "1c428588-9582-4509-8496-65fc0bf2990f",
   "metadata": {
    "slideshow": {
     "slide_type": "notes"
    },
    "tags": []
   },
   "source": [
    "+ To summarize, the key strategy is to build our analysis incrementally—exactly as we would in Pandas/NumPy/etc.\n",
    "+ We can get noticeable speedups from functions decorated appropriately."
   ]
  },
  {
   "cell_type": "markdown",
   "id": "e7063be3-d9c1-45b7-9104-d9cf9a8c8868",
   "metadata": {
    "slideshow": {
     "slide_type": "skip"
    },
    "tags": []
   },
   "source": [
    "---"
   ]
  }
 ],
 "metadata": {
  "celltoolbar": "Slideshow",
  "kernelspec": {
   "display_name": "Python 3 (ipykernel)",
   "language": "python",
   "name": "python3"
  },
  "language_info": {
   "codemirror_mode": {
    "name": "ipython",
    "version": 3
   },
   "file_extension": ".py",
   "mimetype": "text/x-python",
   "name": "python",
   "nbconvert_exporter": "python",
   "pygments_lexer": "ipython3",
   "version": "3.9.7"
  },
  "rise": {
   "auto_select": "none",
   "slideNumber": false,
   "transition": "none"
  }
 },
 "nbformat": 4,
 "nbformat_minor": 5
}
