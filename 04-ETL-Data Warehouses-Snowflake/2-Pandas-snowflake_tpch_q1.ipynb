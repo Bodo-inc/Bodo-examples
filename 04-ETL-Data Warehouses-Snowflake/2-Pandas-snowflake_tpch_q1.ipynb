{
 "cells": [
  {
   "cell_type": "code",
   "execution_count": 1,
   "id": "e6ff2247-29ce-4474-abe6-dc40630d27b4",
   "metadata": {
    "execution": {
     "iopub.execute_input": "2022-07-06T17:52:40.294086Z",
     "iopub.status.busy": "2022-07-06T17:52:40.293860Z",
     "iopub.status.idle": "2022-07-06T17:52:51.116108Z",
     "shell.execute_reply": "2022-07-06T17:52:51.115603Z",
     "shell.execute_reply.started": "2022-07-06T17:52:40.294067Z"
    },
    "tags": []
   },
   "outputs": [
    {
     "name": "stdout",
     "output_type": "stream",
     "text": [
      "Starting 8 engines with <class 'ipyparallel.cluster.launcher.MPIEngineSetLauncher'>\n"
     ]
    },
    {
     "data": {
      "application/vnd.jupyter.widget-view+json": {
       "model_id": "b4016cfc2b0442e586ece8c5a20aa89b",
       "version_major": 2,
       "version_minor": 0
      },
      "text/plain": [
       "  0%|          | 0/8 [00:00<?, ?engine/s]"
      ]
     },
     "metadata": {},
     "output_type": "display_data"
    },
    {
     "data": {
      "application/vnd.jupyter.widget-view+json": {
       "model_id": "3bd3a48ad40a4ac7901ef761cf4e1c36",
       "version_major": 2,
       "version_minor": 0
      },
      "text/plain": [
       "%px:   0%|          | 0/8 [00:00<?, ?tasks/s]"
      ]
     },
     "metadata": {},
     "output_type": "display_data"
    }
   ],
   "source": [
    "%%px\n",
    "from utils.creds import *\n",
    "load_sf_creds()\n",
    "username=os.environ[\"user\"]\n",
    "password=os.environ[\"password\"]\n",
    "account=os.environ[\"account\"]\n",
    "warehouse=\"TEST_WH\"\n",
    "database=os.environ[\"dbname\"]\n",
    "schema=\"TPCH_SF10\"\n",
    "import sys\n",
    "import bodo\n",
    "rank=bodo.get_rank()\n",
    "log = open(f\"/tmp/process{rank}.log\", \"w\")\n",
    "sys.stderr = log"
   ]
  },
  {
   "cell_type": "markdown",
   "id": "a61de7c9-f05b-45d8-8c47-07e16b6890a0",
   "metadata": {},
   "source": [
    "## Predicate Pushdown\n",
    "Bodo does optimization in your code, when you are running a workload against snowflake.\n",
    "In the below query, user is doing a naive Select * query into snowflake.\n",
    "He is the filtering the dataframe based on Shipdate and dropping columns that are not needed.\n",
    "In regular pandas, this would have caused unnecessary i/o and memory usage because all the data from snowflake, would have been brought it.\n",
    "Bodo on the other hand will automatically detect these and push the filter and the needed columns into the query , hence improving i/o and memory utilization.\n",
    "Run the cell below and check the query in snowflake history."
   ]
  },
  {
   "cell_type": "code",
   "execution_count": 2,
   "id": "003cb2da-4bc0-4201-a6e0-d6594319b645",
   "metadata": {
    "execution": {
     "iopub.execute_input": "2022-07-06T17:56:20.951952Z",
     "iopub.status.busy": "2022-07-06T17:56:20.951610Z",
     "iopub.status.idle": "2022-07-06T17:56:41.249360Z",
     "shell.execute_reply": "2022-07-06T17:56:41.248874Z",
     "shell.execute_reply.started": "2022-07-06T17:56:20.951929Z"
    },
    "tags": []
   },
   "outputs": [
    {
     "data": {
      "application/vnd.jupyter.widget-view+json": {
       "model_id": "e3a4393ea4df4f829f236b1e18768667",
       "version_major": 2,
       "version_minor": 0
      },
      "text/plain": [
       "%px:   0%|          | 0/8 [00:00<?, ?tasks/s]"
      ]
     },
     "metadata": {},
     "output_type": "display_data"
    }
   ],
   "source": [
    "%%px\n",
    "import bodo\n",
    "import pandas as pd\n",
    "@bodo.jit(cache=True)\n",
    "def load_lineitem(schema):\n",
    "    date = pd.Timestamp(\"1998-09-02\")\n",
    "    lineitem=pd.read_sql(f\"select * from {schema}.LINEITEM\", f\"snowflake://{username}:{password}@{account}/{database}/PUBLIC?warehouse={warehouse}\",)\n",
    "    lineitem=lineitem[lineitem.l_shipdate <= date]\n",
    "    lineitem=lineitem[[\"l_quantity\", \"l_shipdate\"]]\n",
    "    return lineitem\n",
    "lineitem=load_lineitem(schema)"
   ]
  },
  {
   "cell_type": "code",
   "execution_count": 3,
   "id": "b60cc3a2-d669-4526-b873-f432f0cfee74",
   "metadata": {
    "execution": {
     "iopub.execute_input": "2022-07-06T17:57:13.329966Z",
     "iopub.status.busy": "2022-07-06T17:57:13.329635Z",
     "iopub.status.idle": "2022-07-06T17:57:13.359576Z",
     "shell.execute_reply": "2022-07-06T17:57:13.359095Z",
     "shell.execute_reply.started": "2022-07-06T17:57:13.329946Z"
    },
    "tags": []
   },
   "outputs": [
    {
     "data": {
      "text/plain": [
       "\u001b[0;31mOut[0:3]: \u001b[0m(7392827, 2)"
      ]
     },
     "metadata": {
      "after": null,
      "completed": null,
      "data": {},
      "engine_id": 0,
      "engine_uuid": "3a07e269-97ab79524a2a3d0777f8df39",
      "error": null,
      "execute_input": "lineitem.shape\n",
      "execute_result": {
       "data": {
        "text/plain": "(7392827, 2)"
       },
       "execution_count": 3,
       "metadata": {}
      },
      "follow": null,
      "msg_id": null,
      "outputs": [],
      "received": null,
      "started": null,
      "status": null,
      "stderr": "",
      "stdout": "",
      "submitted": "2022-07-06T17:57:13.331244Z"
     },
     "output_type": "display_data"
    },
    {
     "data": {
      "text/plain": [
       "\u001b[0;31mOut[7:3]: \u001b[0m(7392826, 2)"
      ]
     },
     "metadata": {
      "after": null,
      "completed": null,
      "data": {},
      "engine_id": 7,
      "engine_uuid": "004f8f61-62ddf948c181150d154c8e61",
      "error": null,
      "execute_input": "lineitem.shape\n",
      "execute_result": {
       "data": {
        "text/plain": "(7392826, 2)"
       },
       "execution_count": 3,
       "metadata": {}
      },
      "follow": null,
      "msg_id": null,
      "outputs": [],
      "received": null,
      "started": null,
      "status": null,
      "stderr": "",
      "stdout": "",
      "submitted": "2022-07-06T17:57:13.331546Z"
     },
     "output_type": "display_data"
    },
    {
     "data": {
      "text/plain": [
       "\u001b[0;31mOut[1:3]: \u001b[0m(7392826, 2)"
      ]
     },
     "metadata": {
      "after": null,
      "completed": null,
      "data": {},
      "engine_id": 1,
      "engine_uuid": "1a5706cd-c66412d40750f6507bdf25b1",
      "error": null,
      "execute_input": "lineitem.shape\n",
      "execute_result": {
       "data": {
        "text/plain": "(7392826, 2)"
       },
       "execution_count": 3,
       "metadata": {}
      },
      "follow": null,
      "msg_id": null,
      "outputs": [],
      "received": null,
      "started": null,
      "status": null,
      "stderr": "",
      "stdout": "",
      "submitted": "2022-07-06T17:57:13.331276Z"
     },
     "output_type": "display_data"
    },
    {
     "data": {
      "text/plain": [
       "\u001b[0;31mOut[6:3]: \u001b[0m(7392826, 2)"
      ]
     },
     "metadata": {
      "after": [],
      "completed": "2022-07-06T17:57:13.342154Z",
      "data": {},
      "engine_id": 6,
      "engine_uuid": "394746de-163f6f2cbf1c71bbc16eb938",
      "error": null,
      "execute_input": "lineitem.shape\n",
      "execute_result": {
       "data": {
        "text/plain": "(7392826, 2)"
       },
       "execution_count": 3,
       "metadata": {}
      },
      "follow": [],
      "is_broadcast": true,
      "is_coalescing": false,
      "msg_id": "add6b7c7-eee33b0c0482fdfc36418d78_23624_3_394746de-163f6f2cbf1c71bbc16eb938",
      "outputs": [],
      "received": "2022-07-06T17:57:13.350215Z",
      "started": "2022-07-06T17:57:13.335453Z",
      "status": "ok",
      "stderr": "",
      "stdout": "",
      "submitted": "2022-07-06T17:57:13.331122Z"
     },
     "output_type": "display_data"
    },
    {
     "data": {
      "text/plain": [
       "\u001b[0;31mOut[4:3]: \u001b[0m(7392826, 2)"
      ]
     },
     "metadata": {
      "after": [],
      "completed": "2022-07-06T17:57:13.342188Z",
      "data": {},
      "engine_id": 4,
      "engine_uuid": "f9742867-861722145f95aefc3dc56e79",
      "error": null,
      "execute_input": "lineitem.shape\n",
      "execute_result": {
       "data": {
        "text/plain": "(7392826, 2)"
       },
       "execution_count": 3,
       "metadata": {}
      },
      "follow": [],
      "is_broadcast": true,
      "is_coalescing": false,
      "msg_id": "add6b7c7-eee33b0c0482fdfc36418d78_23624_3_f9742867-861722145f95aefc3dc56e79",
      "outputs": [],
      "received": "2022-07-06T17:57:13.351390Z",
      "started": "2022-07-06T17:57:13.335385Z",
      "status": "ok",
      "stderr": "",
      "stdout": "",
      "submitted": "2022-07-06T17:57:13.331122Z"
     },
     "output_type": "display_data"
    },
    {
     "data": {
      "text/plain": [
       "\u001b[0;31mOut[2:3]: \u001b[0m(7392826, 2)"
      ]
     },
     "metadata": {
      "after": [],
      "completed": "2022-07-06T17:57:13.342305Z",
      "data": {},
      "engine_id": 2,
      "engine_uuid": "e61ea3da-2fc360df5e602aed8d5d557a",
      "error": null,
      "execute_input": "lineitem.shape\n",
      "execute_result": {
       "data": {
        "text/plain": "(7392826, 2)"
       },
       "execution_count": 3,
       "metadata": {}
      },
      "follow": [],
      "is_broadcast": true,
      "is_coalescing": false,
      "msg_id": "add6b7c7-eee33b0c0482fdfc36418d78_23624_3_e61ea3da-2fc360df5e602aed8d5d557a",
      "outputs": [],
      "received": "2022-07-06T17:57:13.352663Z",
      "started": "2022-07-06T17:57:13.335360Z",
      "status": "ok",
      "stderr": "",
      "stdout": "",
      "submitted": "2022-07-06T17:57:13.331122Z"
     },
     "output_type": "display_data"
    },
    {
     "data": {
      "text/plain": [
       "\u001b[0;31mOut[5:3]: \u001b[0m(7392826, 2)"
      ]
     },
     "metadata": {
      "after": [],
      "completed": "2022-07-06T17:57:13.343316Z",
      "data": {},
      "engine_id": 5,
      "engine_uuid": "bc138ccd-ebb060b057fd9d0897795565",
      "error": null,
      "execute_input": "lineitem.shape\n",
      "execute_result": {
       "data": {
        "text/plain": "(7392826, 2)"
       },
       "execution_count": 3,
       "metadata": {}
      },
      "follow": [],
      "is_broadcast": true,
      "is_coalescing": false,
      "msg_id": "add6b7c7-eee33b0c0482fdfc36418d78_23624_3_bc138ccd-ebb060b057fd9d0897795565",
      "outputs": [],
      "received": "2022-07-06T17:57:13.354843Z",
      "started": "2022-07-06T17:57:13.335077Z",
      "status": "ok",
      "stderr": "",
      "stdout": "",
      "submitted": "2022-07-06T17:57:13.331122Z"
     },
     "output_type": "display_data"
    },
    {
     "data": {
      "text/plain": [
       "\u001b[0;31mOut[3:3]: \u001b[0m(7392826, 2)"
      ]
     },
     "metadata": {
      "after": [],
      "completed": "2022-07-06T17:57:13.347306Z",
      "data": {},
      "engine_id": 3,
      "engine_uuid": "b1c86af4-7c7db82738047896875ae450",
      "error": null,
      "execute_input": "lineitem.shape\n",
      "execute_result": {
       "data": {
        "text/plain": "(7392826, 2)"
       },
       "execution_count": 3,
       "metadata": {}
      },
      "follow": [],
      "is_broadcast": true,
      "is_coalescing": false,
      "msg_id": "add6b7c7-eee33b0c0482fdfc36418d78_23624_3_b1c86af4-7c7db82738047896875ae450",
      "outputs": [],
      "received": "2022-07-06T17:57:13.355228Z",
      "started": "2022-07-06T17:57:13.335259Z",
      "status": "ok",
      "stderr": "",
      "stdout": "",
      "submitted": "2022-07-06T17:57:13.331122Z"
     },
     "output_type": "display_data"
    }
   ],
   "source": [
    "%%px\n",
    "lineitem.shape"
   ]
  },
  {
   "cell_type": "code",
   "execution_count": 4,
   "id": "2378adbd-2405-41af-b910-dabd1e3dc5e1",
   "metadata": {
    "execution": {
     "iopub.execute_input": "2022-07-06T17:57:50.890776Z",
     "iopub.status.busy": "2022-07-06T17:57:50.890181Z",
     "iopub.status.idle": "2022-07-06T17:57:50.969051Z",
     "shell.execute_reply": "2022-07-06T17:57:50.968559Z",
     "shell.execute_reply.started": "2022-07-06T17:57:50.890753Z"
    }
   },
   "outputs": [],
   "source": [
    "%%px\n",
    "#since we are on a small cluster, lets clear memory before running another query\n",
    "del lineitem"
   ]
  },
  {
   "cell_type": "markdown",
   "id": "ac7f9c2a-df0b-419e-99f2-8ac3f98e73b3",
   "metadata": {},
   "source": [
    "## Superfast connector\n",
    "Bodo also has an improved snowflake connector. If you notice the output of the above query, it is sharded across multiple cores of the cluster. Traditional etl tools, will do this sharding by doing an initial range query and then submitting multiple select queries for each of the range. Ex. if we are accessing a table employee, traditional etl tool with run the query with a count(*)\n",
    "select count(*) from 'query'.\n",
    "Once the count is established, the count will be divided by parallelism needed, lets say 8 in this case, 8 queries with different ranges will be pushed to snowflake.\n",
    "\n",
    "This causes unnecessary load on the database and also is not truelly parallel. \n",
    "Bodo , will only submit one query to snowflake and the connector will receive sharded data from snowflake. \n",
    "Run the code below and check snowflake history, you should see only one query submitted."
   ]
  },
  {
   "cell_type": "code",
   "execution_count": 5,
   "id": "e34b490c-2eda-4b09-ad21-bb8313c1fff0",
   "metadata": {
    "execution": {
     "iopub.execute_input": "2022-07-06T17:58:06.613623Z",
     "iopub.status.busy": "2022-07-06T17:58:06.613289Z",
     "iopub.status.idle": "2022-07-06T17:58:32.190450Z",
     "shell.execute_reply": "2022-07-06T17:58:32.189965Z",
     "shell.execute_reply.started": "2022-07-06T17:58:06.613602Z"
    },
    "tags": []
   },
   "outputs": [
    {
     "data": {
      "application/vnd.jupyter.widget-view+json": {
       "model_id": "ce81b0642a7842e8bb273d8be128cc88",
       "version_major": 2,
       "version_minor": 0
      },
      "text/plain": [
       "%px:   0%|          | 0/8 [00:00<?, ?tasks/s]"
      ]
     },
     "metadata": {},
     "output_type": "display_data"
    },
    {
     "data": {
      "text/plain": [
       "[stdout:0] 4\n",
       "Q01 Execution time (s):  17.53355710091637\n"
      ]
     },
     "metadata": {},
     "output_type": "display_data"
    }
   ],
   "source": [
    "%%px\n",
    "import pandas as pd\n",
    "import bodo\n",
    "import time\n",
    "@bodo.jit(cache=True)\n",
    "def tpch_q01_filter(schema):\n",
    "    t1 = time.time()\n",
    "    lineitem=pd.read_sql(f\"select * from {schema}.LINEITEM\", f\"snowflake://{username}:{password}@{account}/{database}/PUBLIC?warehouse={warehouse}\",)\n",
    "    date = pd.Timestamp(\"1998-09-02\")\n",
    "    sel = lineitem.l_shipdate <= date\n",
    "    lineitem_filtered = lineitem[[\"l_quantity\", \"l_extendedprice\", \"l_discount\", \"l_tax\", \"l_returnflag\", \"l_linestatus\",  \"l_shipdate\", \"l_orderkey\"]]\n",
    "    lineitem_filtered = lineitem_filtered[sel]\n",
    "    lineitem_filtered[\"avg_qty\"] = lineitem_filtered.l_quantity\n",
    "    lineitem_filtered[\"avg_price\"] = lineitem_filtered.l_extendedprice\n",
    "    lineitem_filtered[\"disc_price\"] = lineitem_filtered.l_extendedprice * (1 - lineitem_filtered.l_discount)\n",
    "    lineitem_filtered[\"charge\"] = (\n",
    "        lineitem_filtered.l_extendedprice * (1 - lineitem_filtered.l_discount) * (1 + lineitem_filtered.l_tax)\n",
    "    )\n",
    "    gb = lineitem_filtered.groupby([\"l_returnflag\", \"l_linestatus\"], as_index=False)[\n",
    "        \"l_quantity\",\n",
    "        \"l_extendedprice\",\n",
    "        \"disc_price\",\n",
    "        \"charge\",\n",
    "        \"avg_qty\",\n",
    "        \"avg_price\",\n",
    "        \"l_discount\",\n",
    "        \"l_orderkey\",\n",
    "    ]\n",
    "    total = gb.agg(\n",
    "        {\n",
    "            \"l_quantity\": \"sum\",\n",
    "            \"l_extendedprice\": \"sum\",\n",
    "            \"disc_price\": \"sum\",\n",
    "            \"charge\": \"sum\",\n",
    "            \"avg_qty\": \"mean\",\n",
    "            \"avg_price\": \"mean\",\n",
    "            \"l_discount\": \"mean\",\n",
    "            \"l_orderkey\": \"count\",\n",
    "        }\n",
    "    )\n",
    "    total = total.sort_values([\"l_returnflag\", \"l_linestatus\"])\n",
    "    print(len(total))\n",
    "    print(\"Q01 Execution time (s): \", time.time() - t1)\n",
    "    return total\n",
    "\n",
    "q1_result=tpch_q01_filter(schema)"
   ]
  },
  {
   "cell_type": "code",
   "execution_count": null,
   "id": "4dfc0d1f-8596-43bf-9aa5-035ee46405bb",
   "metadata": {
    "tags": []
   },
   "outputs": [],
   "source": [
    "%%px\n",
    "from utils.tpch_functions import *\n",
    "lineitem=load_lineitem(schema)\n",
    "orders=load_orders(schema)\n",
    "customer=load_customer(schema)\n",
    "nation=load_nation(schema)\n",
    "region=load_region(schema)\n",
    "supplier=load_supplier(schema)\n",
    "q05(lineitem, orders, customer, nation, region, supplier)"
   ]
  },
  {
   "cell_type": "code",
   "execution_count": 4,
   "id": "5edcb524",
   "metadata": {
    "execution": {
     "iopub.execute_input": "2022-05-20T17:34:44.638420Z",
     "iopub.status.busy": "2022-05-20T17:34:44.638157Z",
     "iopub.status.idle": "2022-05-20T17:34:44.680540Z",
     "shell.execute_reply": "2022-05-20T17:34:44.680170Z",
     "shell.execute_reply.started": "2022-05-20T17:34:44.638400Z"
    },
    "tags": []
   },
   "outputs": [
    {
     "data": {
      "text/plain": [
       "\u001b[0;31mOut[2:4]: \u001b[0m(2464276, 16)"
      ]
     },
     "metadata": {
      "after": [],
      "completed": "2022-05-20T17:34:44.646394Z",
      "data": {},
      "engine_id": 2,
      "engine_uuid": "b2f9df95-66b2c6dda660af251b3ad3d1",
      "error": null,
      "execute_input": "lineitem.shape\n",
      "execute_result": {
       "data": {
        "text/plain": "(2464276, 16)"
       },
       "execution_count": 4,
       "metadata": {}
      },
      "follow": [],
      "is_broadcast": true,
      "is_coalescing": false,
      "msg_id": "27f70c21-e30fdc356f7b1ff99aa63782_10709_4_b2f9df95-66b2c6dda660af251b3ad3d1",
      "outputs": [],
      "received": "2022-05-20T17:34:44.648364Z",
      "started": "2022-05-20T17:34:44.644253Z",
      "status": "ok",
      "stderr": "",
      "stdout": "",
      "submitted": "2022-05-20T17:34:44.639576Z"
     },
     "output_type": "display_data"
    },
    {
     "data": {
      "text/plain": [
       "\u001b[0;31mOut[0:4]: \u001b[0m(2464276, 16)"
      ]
     },
     "metadata": {
      "after": [],
      "completed": "2022-05-20T17:34:44.646450Z",
      "data": {},
      "engine_id": 0,
      "engine_uuid": "3afe0cb2-018362b460ce56cc10c321e3",
      "error": null,
      "execute_input": "lineitem.shape\n",
      "execute_result": {
       "data": {
        "text/plain": "(2464276, 16)"
       },
       "execution_count": 4,
       "metadata": {}
      },
      "follow": [],
      "is_broadcast": true,
      "is_coalescing": false,
      "msg_id": "27f70c21-e30fdc356f7b1ff99aa63782_10709_4_3afe0cb2-018362b460ce56cc10c321e3",
      "outputs": [],
      "received": "2022-05-20T17:34:44.650895Z",
      "started": "2022-05-20T17:34:44.644218Z",
      "status": "ok",
      "stderr": "",
      "stdout": "",
      "submitted": "2022-05-20T17:34:44.639576Z"
     },
     "output_type": "display_data"
    },
    {
     "data": {
      "text/plain": [
       "\u001b[0;31mOut[5:4]: \u001b[0m(2464276, 16)"
      ]
     },
     "metadata": {
      "after": [],
      "completed": "2022-05-20T17:34:44.646419Z",
      "data": {},
      "engine_id": 5,
      "engine_uuid": "3f47e61c-cb40db946d15e17badc94aaa",
      "error": null,
      "execute_input": "lineitem.shape\n",
      "execute_result": {
       "data": {
        "text/plain": "(2464276, 16)"
       },
       "execution_count": 4,
       "metadata": {}
      },
      "follow": [],
      "is_broadcast": true,
      "is_coalescing": false,
      "msg_id": "27f70c21-e30fdc356f7b1ff99aa63782_10709_4_3f47e61c-cb40db946d15e17badc94aaa",
      "outputs": [],
      "received": "2022-05-20T17:34:44.648884Z",
      "started": "2022-05-20T17:34:44.644337Z",
      "status": "ok",
      "stderr": "",
      "stdout": "",
      "submitted": "2022-05-20T17:34:44.639576Z"
     },
     "output_type": "display_data"
    },
    {
     "data": {
      "text/plain": [
       "\u001b[0;31mOut[12:4]: \u001b[0m(2464275, 16)"
      ]
     },
     "metadata": {
      "after": [],
      "completed": "2022-05-20T17:34:44.646431Z",
      "data": {},
      "engine_id": 12,
      "engine_uuid": "cb3f1757-31a5385609b7feda05b47039",
      "error": null,
      "execute_input": "lineitem.shape\n",
      "execute_result": {
       "data": {
        "text/plain": "(2464275, 16)"
       },
       "execution_count": 4,
       "metadata": {}
      },
      "follow": [],
      "is_broadcast": true,
      "is_coalescing": false,
      "msg_id": "27f70c21-e30fdc356f7b1ff99aa63782_10709_4_cb3f1757-31a5385609b7feda05b47039",
      "outputs": [],
      "received": "2022-05-20T17:34:44.650231Z",
      "started": "2022-05-20T17:34:44.644257Z",
      "status": "ok",
      "stderr": "",
      "stdout": "",
      "submitted": "2022-05-20T17:34:44.639576Z"
     },
     "output_type": "display_data"
    },
    {
     "data": {
      "text/plain": [
       "\u001b[0;31mOut[6:4]: \u001b[0m(2464276, 16)"
      ]
     },
     "metadata": {
      "after": [],
      "completed": "2022-05-20T17:34:44.646447Z",
      "data": {},
      "engine_id": 6,
      "engine_uuid": "45feb572-45a5f49e7a8ca87419d13585",
      "error": null,
      "execute_input": "lineitem.shape\n",
      "execute_result": {
       "data": {
        "text/plain": "(2464276, 16)"
       },
       "execution_count": 4,
       "metadata": {}
      },
      "follow": [],
      "is_broadcast": true,
      "is_coalescing": false,
      "msg_id": "27f70c21-e30fdc356f7b1ff99aa63782_10709_4_45feb572-45a5f49e7a8ca87419d13585",
      "outputs": [],
      "received": "2022-05-20T17:34:44.651536Z",
      "started": "2022-05-20T17:34:44.644222Z",
      "status": "ok",
      "stderr": "",
      "stdout": "",
      "submitted": "2022-05-20T17:34:44.639576Z"
     },
     "output_type": "display_data"
    },
    {
     "data": {
      "text/plain": [
       "\u001b[0;31mOut[3:4]: \u001b[0m(2464276, 16)"
      ]
     },
     "metadata": {
      "after": [],
      "completed": "2022-05-20T17:34:44.646448Z",
      "data": {},
      "engine_id": 3,
      "engine_uuid": "dd953034-6cda34f3ea97baba6af11350",
      "error": null,
      "execute_input": "lineitem.shape\n",
      "execute_result": {
       "data": {
        "text/plain": "(2464276, 16)"
       },
       "execution_count": 4,
       "metadata": {}
      },
      "follow": [],
      "is_broadcast": true,
      "is_coalescing": false,
      "msg_id": "27f70c21-e30fdc356f7b1ff99aa63782_10709_4_dd953034-6cda34f3ea97baba6af11350",
      "outputs": [],
      "received": "2022-05-20T17:34:44.649885Z",
      "started": "2022-05-20T17:34:44.644259Z",
      "status": "ok",
      "stderr": "",
      "stdout": "",
      "submitted": "2022-05-20T17:34:44.639576Z"
     },
     "output_type": "display_data"
    },
    {
     "data": {
      "text/plain": [
       "\u001b[0;31mOut[8:4]: \u001b[0m(2464276, 16)"
      ]
     },
     "metadata": {
      "after": [],
      "completed": "2022-05-20T17:34:44.646455Z",
      "data": {},
      "engine_id": 8,
      "engine_uuid": "34d1b26a-cdd77699470db6534da63dc7",
      "error": null,
      "execute_input": "lineitem.shape\n",
      "execute_result": {
       "data": {
        "text/plain": "(2464276, 16)"
       },
       "execution_count": 4,
       "metadata": {}
      },
      "follow": [],
      "is_broadcast": true,
      "is_coalescing": false,
      "msg_id": "27f70c21-e30fdc356f7b1ff99aa63782_10709_4_34d1b26a-cdd77699470db6534da63dc7",
      "outputs": [],
      "received": "2022-05-20T17:34:44.649565Z",
      "started": "2022-05-20T17:34:44.644222Z",
      "status": "ok",
      "stderr": "",
      "stdout": "",
      "submitted": "2022-05-20T17:34:44.639576Z"
     },
     "output_type": "display_data"
    },
    {
     "data": {
      "text/plain": [
       "\u001b[0;31mOut[4:4]: \u001b[0m(2464276, 16)"
      ]
     },
     "metadata": {
      "after": [],
      "completed": "2022-05-20T17:34:44.646517Z",
      "data": {},
      "engine_id": 4,
      "engine_uuid": "92d8a105-47e4527b77e51734631d4cab",
      "error": null,
      "execute_input": "lineitem.shape\n",
      "execute_result": {
       "data": {
        "text/plain": "(2464276, 16)"
       },
       "execution_count": 4,
       "metadata": {}
      },
      "follow": [],
      "is_broadcast": true,
      "is_coalescing": false,
      "msg_id": "27f70c21-e30fdc356f7b1ff99aa63782_10709_4_92d8a105-47e4527b77e51734631d4cab",
      "outputs": [],
      "received": "2022-05-20T17:34:44.652855Z",
      "started": "2022-05-20T17:34:44.644198Z",
      "status": "ok",
      "stderr": "",
      "stdout": "",
      "submitted": "2022-05-20T17:34:44.639576Z"
     },
     "output_type": "display_data"
    },
    {
     "data": {
      "text/plain": [
       "\u001b[0;31mOut[1:4]: \u001b[0m(2464276, 16)"
      ]
     },
     "metadata": {
      "after": [],
      "completed": "2022-05-20T17:34:44.646598Z",
      "data": {},
      "engine_id": 1,
      "engine_uuid": "5f6d8e85-d87df81127bcb4757958d7b6",
      "error": null,
      "execute_input": "lineitem.shape\n",
      "execute_result": {
       "data": {
        "text/plain": "(2464276, 16)"
       },
       "execution_count": 4,
       "metadata": {}
      },
      "follow": [],
      "is_broadcast": true,
      "is_coalescing": false,
      "msg_id": "27f70c21-e30fdc356f7b1ff99aa63782_10709_4_5f6d8e85-d87df81127bcb4757958d7b6",
      "outputs": [],
      "received": "2022-05-20T17:34:44.650565Z",
      "started": "2022-05-20T17:34:44.644164Z",
      "status": "ok",
      "stderr": "",
      "stdout": "",
      "submitted": "2022-05-20T17:34:44.639576Z"
     },
     "output_type": "display_data"
    },
    {
     "data": {
      "text/plain": [
       "\u001b[0;31mOut[11:4]: \u001b[0m(2464275, 16)"
      ]
     },
     "metadata": {
      "after": [],
      "completed": "2022-05-20T17:34:44.646589Z",
      "data": {},
      "engine_id": 11,
      "engine_uuid": "8ac96c69-bbe39cda4e0251713cb3e47d",
      "error": null,
      "execute_input": "lineitem.shape\n",
      "execute_result": {
       "data": {
        "text/plain": "(2464275, 16)"
       },
       "execution_count": 4,
       "metadata": {}
      },
      "follow": [],
      "is_broadcast": true,
      "is_coalescing": false,
      "msg_id": "27f70c21-e30fdc356f7b1ff99aa63782_10709_4_8ac96c69-bbe39cda4e0251713cb3e47d",
      "outputs": [],
      "received": "2022-05-20T17:34:44.651215Z",
      "started": "2022-05-20T17:34:44.644402Z",
      "status": "ok",
      "stderr": "",
      "stdout": "",
      "submitted": "2022-05-20T17:34:44.639576Z"
     },
     "output_type": "display_data"
    },
    {
     "data": {
      "text/plain": [
       "\u001b[0;31mOut[13:4]: \u001b[0m(2464275, 16)"
      ]
     },
     "metadata": {
      "after": [],
      "completed": "2022-05-20T17:34:44.646777Z",
      "data": {},
      "engine_id": 13,
      "engine_uuid": "2d1a821d-0239014bf4cfd9d24daa3df4",
      "error": null,
      "execute_input": "lineitem.shape\n",
      "execute_result": {
       "data": {
        "text/plain": "(2464275, 16)"
       },
       "execution_count": 4,
       "metadata": {}
      },
      "follow": [],
      "is_broadcast": true,
      "is_coalescing": false,
      "msg_id": "27f70c21-e30fdc356f7b1ff99aa63782_10709_4_2d1a821d-0239014bf4cfd9d24daa3df4",
      "outputs": [],
      "received": "2022-05-20T17:34:44.653172Z",
      "started": "2022-05-20T17:34:44.644443Z",
      "status": "ok",
      "stderr": "",
      "stdout": "",
      "submitted": "2022-05-20T17:34:44.639576Z"
     },
     "output_type": "display_data"
    },
    {
     "data": {
      "text/plain": [
       "\u001b[0;31mOut[14:4]: \u001b[0m(2464275, 16)"
      ]
     },
     "metadata": {
      "after": [],
      "completed": "2022-05-20T17:34:44.646643Z",
      "data": {},
      "engine_id": 14,
      "engine_uuid": "d206de15-e69282c57c7e99bead1f1957",
      "error": null,
      "execute_input": "lineitem.shape\n",
      "execute_result": {
       "data": {
        "text/plain": "(2464275, 16)"
       },
       "execution_count": 4,
       "metadata": {}
      },
      "follow": [],
      "is_broadcast": true,
      "is_coalescing": false,
      "msg_id": "27f70c21-e30fdc356f7b1ff99aa63782_10709_4_d206de15-e69282c57c7e99bead1f1957",
      "outputs": [],
      "received": "2022-05-20T17:34:44.652212Z",
      "started": "2022-05-20T17:34:44.644476Z",
      "status": "ok",
      "stderr": "",
      "stdout": "",
      "submitted": "2022-05-20T17:34:44.639576Z"
     },
     "output_type": "display_data"
    },
    {
     "data": {
      "text/plain": [
       "\u001b[0;31mOut[9:4]: \u001b[0m(2464275, 16)"
      ]
     },
     "metadata": {
      "after": [],
      "completed": "2022-05-20T17:34:44.646700Z",
      "data": {},
      "engine_id": 9,
      "engine_uuid": "573e05e7-c734c0a6af4156c70d5c128b",
      "error": null,
      "execute_input": "lineitem.shape\n",
      "execute_result": {
       "data": {
        "text/plain": "(2464275, 16)"
       },
       "execution_count": 4,
       "metadata": {}
      },
      "follow": [],
      "is_broadcast": true,
      "is_coalescing": false,
      "msg_id": "27f70c21-e30fdc356f7b1ff99aa63782_10709_4_573e05e7-c734c0a6af4156c70d5c128b",
      "outputs": [],
      "received": "2022-05-20T17:34:44.651872Z",
      "started": "2022-05-20T17:34:44.644423Z",
      "status": "ok",
      "stderr": "",
      "stdout": "",
      "submitted": "2022-05-20T17:34:44.639576Z"
     },
     "output_type": "display_data"
    },
    {
     "data": {
      "text/plain": [
       "\u001b[0;31mOut[20:4]: \u001b[0m(2464275, 16)"
      ]
     },
     "metadata": {
      "after": [],
      "completed": "2022-05-20T17:34:44.646690Z",
      "data": {},
      "engine_id": 20,
      "engine_uuid": "ce166224-0e2eeb50a66f83d2746d4e61",
      "error": null,
      "execute_input": "lineitem.shape\n",
      "execute_result": {
       "data": {
        "text/plain": "(2464275, 16)"
       },
       "execution_count": 4,
       "metadata": {}
      },
      "follow": [],
      "is_broadcast": true,
      "is_coalescing": false,
      "msg_id": "27f70c21-e30fdc356f7b1ff99aa63782_10709_4_ce166224-0e2eeb50a66f83d2746d4e61",
      "outputs": [],
      "received": "2022-05-20T17:34:44.653485Z",
      "started": "2022-05-20T17:34:44.644527Z",
      "status": "ok",
      "stderr": "",
      "stdout": "",
      "submitted": "2022-05-20T17:34:44.639576Z"
     },
     "output_type": "display_data"
    },
    {
     "data": {
      "text/plain": [
       "\u001b[0;31mOut[18:4]: \u001b[0m(2464275, 16)"
      ]
     },
     "metadata": {
      "after": [],
      "completed": "2022-05-20T17:34:44.646717Z",
      "data": {},
      "engine_id": 18,
      "engine_uuid": "ab1a69d4-998d9bdcb0c8112c070d4997",
      "error": null,
      "execute_input": "lineitem.shape\n",
      "execute_result": {
       "data": {
        "text/plain": "(2464275, 16)"
       },
       "execution_count": 4,
       "metadata": {}
      },
      "follow": [],
      "is_broadcast": true,
      "is_coalescing": false,
      "msg_id": "27f70c21-e30fdc356f7b1ff99aa63782_10709_4_ab1a69d4-998d9bdcb0c8112c070d4997",
      "outputs": [],
      "received": "2022-05-20T17:34:44.654121Z",
      "started": "2022-05-20T17:34:44.644502Z",
      "status": "ok",
      "stderr": "",
      "stdout": "",
      "submitted": "2022-05-20T17:34:44.639576Z"
     },
     "output_type": "display_data"
    },
    {
     "data": {
      "text/plain": [
       "\u001b[0;31mOut[10:4]: \u001b[0m(2464275, 16)"
      ]
     },
     "metadata": {
      "after": [],
      "completed": "2022-05-20T17:34:44.646739Z",
      "data": {},
      "engine_id": 10,
      "engine_uuid": "9e3c5ccf-bd5357c9e324cb1014d97177",
      "error": null,
      "execute_input": "lineitem.shape\n",
      "execute_result": {
       "data": {
        "text/plain": "(2464275, 16)"
       },
       "execution_count": 4,
       "metadata": {}
      },
      "follow": [],
      "is_broadcast": true,
      "is_coalescing": false,
      "msg_id": "27f70c21-e30fdc356f7b1ff99aa63782_10709_4_9e3c5ccf-bd5357c9e324cb1014d97177",
      "outputs": [],
      "received": "2022-05-20T17:34:44.655423Z",
      "started": "2022-05-20T17:34:44.644290Z",
      "status": "ok",
      "stderr": "",
      "stdout": "",
      "submitted": "2022-05-20T17:34:44.639576Z"
     },
     "output_type": "display_data"
    },
    {
     "data": {
      "text/plain": [
       "\u001b[0;31mOut[15:4]: \u001b[0m(2464275, 16)"
      ]
     },
     "metadata": {
      "after": [],
      "completed": "2022-05-20T17:34:44.646734Z",
      "data": {},
      "engine_id": 15,
      "engine_uuid": "792a0c60-2915898e27b2baeb2b39becf",
      "error": null,
      "execute_input": "lineitem.shape\n",
      "execute_result": {
       "data": {
        "text/plain": "(2464275, 16)"
       },
       "execution_count": 4,
       "metadata": {}
      },
      "follow": [],
      "is_broadcast": true,
      "is_coalescing": false,
      "msg_id": "27f70c21-e30fdc356f7b1ff99aa63782_10709_4_792a0c60-2915898e27b2baeb2b39becf",
      "outputs": [],
      "received": "2022-05-20T17:34:44.652534Z",
      "started": "2022-05-20T17:34:44.644518Z",
      "status": "ok",
      "stderr": "",
      "stdout": "",
      "submitted": "2022-05-20T17:34:44.639576Z"
     },
     "output_type": "display_data"
    },
    {
     "data": {
      "text/plain": [
       "\u001b[0;31mOut[7:4]: \u001b[0m(2464276, 16)"
      ]
     },
     "metadata": {
      "after": [],
      "completed": "2022-05-20T17:34:44.646717Z",
      "data": {},
      "engine_id": 7,
      "engine_uuid": "cc1b0790-e24a60f4a0671ed3629f5795",
      "error": null,
      "execute_input": "lineitem.shape\n",
      "execute_result": {
       "data": {
        "text/plain": "(2464276, 16)"
       },
       "execution_count": 4,
       "metadata": {}
      },
      "follow": [],
      "is_broadcast": true,
      "is_coalescing": false,
      "msg_id": "27f70c21-e30fdc356f7b1ff99aa63782_10709_4_cc1b0790-e24a60f4a0671ed3629f5795",
      "outputs": [],
      "received": "2022-05-20T17:34:44.656084Z",
      "started": "2022-05-20T17:34:44.644384Z",
      "status": "ok",
      "stderr": "",
      "stdout": "",
      "submitted": "2022-05-20T17:34:44.639576Z"
     },
     "output_type": "display_data"
    },
    {
     "data": {
      "text/plain": [
       "\u001b[0;31mOut[17:4]: \u001b[0m(2464275, 16)"
      ]
     },
     "metadata": {
      "after": [],
      "completed": "2022-05-20T17:34:44.646855Z",
      "data": {},
      "engine_id": 17,
      "engine_uuid": "ac907c92-df4a99560674e3537a731e01",
      "error": null,
      "execute_input": "lineitem.shape\n",
      "execute_result": {
       "data": {
        "text/plain": "(2464275, 16)"
       },
       "execution_count": 4,
       "metadata": {}
      },
      "follow": [],
      "is_broadcast": true,
      "is_coalescing": false,
      "msg_id": "27f70c21-e30fdc356f7b1ff99aa63782_10709_4_ac907c92-df4a99560674e3537a731e01",
      "outputs": [],
      "received": "2022-05-20T17:34:44.649245Z",
      "started": "2022-05-20T17:34:44.644713Z",
      "status": "ok",
      "stderr": "",
      "stdout": "",
      "submitted": "2022-05-20T17:34:44.639576Z"
     },
     "output_type": "display_data"
    },
    {
     "data": {
      "text/plain": [
       "\u001b[0;31mOut[19:4]: \u001b[0m(2464275, 16)"
      ]
     },
     "metadata": {
      "after": [],
      "completed": "2022-05-20T17:34:44.646856Z",
      "data": {},
      "engine_id": 19,
      "engine_uuid": "10a8f306-27bdbda1aaf9cec64f48518a",
      "error": null,
      "execute_input": "lineitem.shape\n",
      "execute_result": {
       "data": {
        "text/plain": "(2464275, 16)"
       },
       "execution_count": 4,
       "metadata": {}
      },
      "follow": [],
      "is_broadcast": true,
      "is_coalescing": false,
      "msg_id": "27f70c21-e30fdc356f7b1ff99aa63782_10709_4_10a8f306-27bdbda1aaf9cec64f48518a",
      "outputs": [],
      "received": "2022-05-20T17:34:44.655105Z",
      "started": "2022-05-20T17:34:44.644510Z",
      "status": "ok",
      "stderr": "",
      "stdout": "",
      "submitted": "2022-05-20T17:34:44.639576Z"
     },
     "output_type": "display_data"
    },
    {
     "data": {
      "text/plain": [
       "\u001b[0;31mOut[21:4]: \u001b[0m(2464275, 16)"
      ]
     },
     "metadata": {
      "after": [],
      "completed": "2022-05-20T17:34:44.646943Z",
      "data": {},
      "engine_id": 21,
      "engine_uuid": "feae3fd4-259ec1fc818ffe6119d7518f",
      "error": null,
      "execute_input": "lineitem.shape\n",
      "execute_result": {
       "data": {
        "text/plain": "(2464275, 16)"
       },
       "execution_count": 4,
       "metadata": {}
      },
      "follow": [],
      "is_broadcast": true,
      "is_coalescing": false,
      "msg_id": "27f70c21-e30fdc356f7b1ff99aa63782_10709_4_feae3fd4-259ec1fc818ffe6119d7518f",
      "outputs": [],
      "received": "2022-05-20T17:34:44.653801Z",
      "started": "2022-05-20T17:34:44.644779Z",
      "status": "ok",
      "stderr": "",
      "stdout": "",
      "submitted": "2022-05-20T17:34:44.639576Z"
     },
     "output_type": "display_data"
    },
    {
     "data": {
      "text/plain": [
       "\u001b[0;31mOut[22:4]: \u001b[0m(2464275, 16)"
      ]
     },
     "metadata": {
      "after": [],
      "completed": "2022-05-20T17:34:44.646849Z",
      "data": {},
      "engine_id": 22,
      "engine_uuid": "1f4ebaf7-4d477a7181ad6479d689788c",
      "error": null,
      "execute_input": "lineitem.shape\n",
      "execute_result": {
       "data": {
        "text/plain": "(2464275, 16)"
       },
       "execution_count": 4,
       "metadata": {}
      },
      "follow": [],
      "is_broadcast": true,
      "is_coalescing": false,
      "msg_id": "27f70c21-e30fdc356f7b1ff99aa63782_10709_4_1f4ebaf7-4d477a7181ad6479d689788c",
      "outputs": [],
      "received": "2022-05-20T17:34:44.654786Z",
      "started": "2022-05-20T17:34:44.644583Z",
      "status": "ok",
      "stderr": "",
      "stdout": "",
      "submitted": "2022-05-20T17:34:44.639576Z"
     },
     "output_type": "display_data"
    },
    {
     "data": {
      "text/plain": [
       "\u001b[0;31mOut[23:4]: \u001b[0m(2464275, 16)"
      ]
     },
     "metadata": {
      "after": [],
      "completed": "2022-05-20T17:34:44.647046Z",
      "data": {},
      "engine_id": 23,
      "engine_uuid": "207959fd-d1810fae2c6a7388c7d03e4b",
      "error": null,
      "execute_input": "lineitem.shape\n",
      "execute_result": {
       "data": {
        "text/plain": "(2464275, 16)"
       },
       "execution_count": 4,
       "metadata": {}
      },
      "follow": [],
      "is_broadcast": true,
      "is_coalescing": false,
      "msg_id": "27f70c21-e30fdc356f7b1ff99aa63782_10709_4_207959fd-d1810fae2c6a7388c7d03e4b",
      "outputs": [],
      "received": "2022-05-20T17:34:44.654462Z",
      "started": "2022-05-20T17:34:44.644850Z",
      "status": "ok",
      "stderr": "",
      "stdout": "",
      "submitted": "2022-05-20T17:34:44.639576Z"
     },
     "output_type": "display_data"
    },
    {
     "data": {
      "text/plain": [
       "\u001b[0;31mOut[16:4]: \u001b[0m(2464275, 16)"
      ]
     },
     "metadata": {
      "after": [],
      "completed": "2022-05-20T17:34:44.647567Z",
      "data": {},
      "engine_id": 16,
      "engine_uuid": "ab1e9c0e-5d9a1cf505a11765ab7a2eab",
      "error": null,
      "execute_input": "lineitem.shape\n",
      "execute_result": {
       "data": {
        "text/plain": "(2464275, 16)"
       },
       "execution_count": 4,
       "metadata": {}
      },
      "follow": [],
      "is_broadcast": true,
      "is_coalescing": false,
      "msg_id": "27f70c21-e30fdc356f7b1ff99aa63782_10709_4_ab1e9c0e-5d9a1cf505a11765ab7a2eab",
      "outputs": [],
      "received": "2022-05-20T17:34:44.655759Z",
      "started": "2022-05-20T17:34:44.644725Z",
      "status": "ok",
      "stderr": "",
      "stdout": "",
      "submitted": "2022-05-20T17:34:44.639576Z"
     },
     "output_type": "display_data"
    }
   ],
   "source": [
    "%%px\n",
    "lineitem.shape"
   ]
  },
  {
   "cell_type": "code",
   "execution_count": 6,
   "id": "7fefe796",
   "metadata": {
    "execution": {
     "iopub.execute_input": "2022-07-06T18:24:32.268723Z",
     "iopub.status.busy": "2022-07-06T18:24:32.268387Z",
     "iopub.status.idle": "2022-07-06T18:24:32.295828Z",
     "shell.execute_reply": "2022-07-06T18:24:32.295344Z",
     "shell.execute_reply.started": "2022-07-06T18:24:32.268702Z"
    },
    "tags": []
   },
   "outputs": [
    {
     "data": {
      "text/html": [
       "<div>\n",
       "<style scoped>\n",
       "    .dataframe tbody tr th:only-of-type {\n",
       "        vertical-align: middle;\n",
       "    }\n",
       "\n",
       "    .dataframe tbody tr th {\n",
       "        vertical-align: top;\n",
       "    }\n",
       "\n",
       "    .dataframe thead th {\n",
       "        text-align: right;\n",
       "    }\n",
       "</style>\n",
       "<table border=\"1\" class=\"dataframe\">\n",
       "  <thead>\n",
       "    <tr style=\"text-align: right;\">\n",
       "      <th></th>\n",
       "      <th>l_returnflag</th>\n",
       "      <th>l_linestatus</th>\n",
       "      <th>l_quantity</th>\n",
       "      <th>l_extendedprice</th>\n",
       "      <th>disc_price</th>\n",
       "      <th>charge</th>\n",
       "      <th>avg_qty</th>\n",
       "      <th>avg_price</th>\n",
       "      <th>l_discount</th>\n",
       "      <th>l_orderkey</th>\n",
       "    </tr>\n",
       "  </thead>\n",
       "  <tbody>\n",
       "  </tbody>\n",
       "</table>\n",
       "</div>"
      ],
      "text/plain": [
       "\u001b[0;31mOut[7:6]: \u001b[0m\n",
       "Empty DataFrame\n",
       "Columns: [l_returnflag, l_linestatus, l_quantity, l_extendedprice, disc_price, charge, avg_qty, avg_price, l_discount, l_orderkey]\n",
       "Index: []"
      ]
     },
     "metadata": {
      "after": null,
      "completed": null,
      "data": {},
      "engine_id": 7,
      "engine_uuid": "004f8f61-62ddf948c181150d154c8e61",
      "error": null,
      "execute_input": "q1_result\n",
      "execute_result": {
       "data": {
        "text/html": "<div>\n<style scoped>\n    .dataframe tbody tr th:only-of-type {\n        vertical-align: middle;\n    }\n\n    .dataframe tbody tr th {\n        vertical-align: top;\n    }\n\n    .dataframe thead th {\n        text-align: right;\n    }\n</style>\n<table border=\"1\" class=\"dataframe\">\n  <thead>\n    <tr style=\"text-align: right;\">\n      <th></th>\n      <th>l_returnflag</th>\n      <th>l_linestatus</th>\n      <th>l_quantity</th>\n      <th>l_extendedprice</th>\n      <th>disc_price</th>\n      <th>charge</th>\n      <th>avg_qty</th>\n      <th>avg_price</th>\n      <th>l_discount</th>\n      <th>l_orderkey</th>\n    </tr>\n  </thead>\n  <tbody>\n  </tbody>\n</table>\n</div>",
        "text/plain": "Empty DataFrame\nColumns: [l_returnflag, l_linestatus, l_quantity, l_extendedprice, disc_price, charge, avg_qty, avg_price, l_discount, l_orderkey]\nIndex: []"
       },
       "execution_count": 6,
       "metadata": {}
      },
      "follow": null,
      "msg_id": null,
      "outputs": [],
      "received": null,
      "started": null,
      "status": null,
      "stderr": "",
      "stdout": "",
      "submitted": "2022-07-06T18:24:32.270373Z"
     },
     "output_type": "display_data"
    },
    {
     "data": {
      "text/html": [
       "<div>\n",
       "<style scoped>\n",
       "    .dataframe tbody tr th:only-of-type {\n",
       "        vertical-align: middle;\n",
       "    }\n",
       "\n",
       "    .dataframe tbody tr th {\n",
       "        vertical-align: top;\n",
       "    }\n",
       "\n",
       "    .dataframe thead th {\n",
       "        text-align: right;\n",
       "    }\n",
       "</style>\n",
       "<table border=\"1\" class=\"dataframe\">\n",
       "  <thead>\n",
       "    <tr style=\"text-align: right;\">\n",
       "      <th></th>\n",
       "      <th>l_returnflag</th>\n",
       "      <th>l_linestatus</th>\n",
       "      <th>l_quantity</th>\n",
       "      <th>l_extendedprice</th>\n",
       "      <th>disc_price</th>\n",
       "      <th>charge</th>\n",
       "      <th>avg_qty</th>\n",
       "      <th>avg_price</th>\n",
       "      <th>l_discount</th>\n",
       "      <th>l_orderkey</th>\n",
       "    </tr>\n",
       "  </thead>\n",
       "  <tbody>\n",
       "  </tbody>\n",
       "</table>\n",
       "</div>"
      ],
      "text/plain": [
       "\u001b[0;31mOut[4:6]: \u001b[0m\n",
       "Empty DataFrame\n",
       "Columns: [l_returnflag, l_linestatus, l_quantity, l_extendedprice, disc_price, charge, avg_qty, avg_price, l_discount, l_orderkey]\n",
       "Index: []"
      ]
     },
     "metadata": {
      "after": null,
      "completed": null,
      "data": {},
      "engine_id": 4,
      "engine_uuid": "f9742867-861722145f95aefc3dc56e79",
      "error": null,
      "execute_input": "q1_result\n",
      "execute_result": {
       "data": {
        "text/html": "<div>\n<style scoped>\n    .dataframe tbody tr th:only-of-type {\n        vertical-align: middle;\n    }\n\n    .dataframe tbody tr th {\n        vertical-align: top;\n    }\n\n    .dataframe thead th {\n        text-align: right;\n    }\n</style>\n<table border=\"1\" class=\"dataframe\">\n  <thead>\n    <tr style=\"text-align: right;\">\n      <th></th>\n      <th>l_returnflag</th>\n      <th>l_linestatus</th>\n      <th>l_quantity</th>\n      <th>l_extendedprice</th>\n      <th>disc_price</th>\n      <th>charge</th>\n      <th>avg_qty</th>\n      <th>avg_price</th>\n      <th>l_discount</th>\n      <th>l_orderkey</th>\n    </tr>\n  </thead>\n  <tbody>\n  </tbody>\n</table>\n</div>",
        "text/plain": "Empty DataFrame\nColumns: [l_returnflag, l_linestatus, l_quantity, l_extendedprice, disc_price, charge, avg_qty, avg_price, l_discount, l_orderkey]\nIndex: []"
       },
       "execution_count": 6,
       "metadata": {}
      },
      "follow": null,
      "msg_id": null,
      "outputs": [],
      "received": null,
      "started": null,
      "status": null,
      "stderr": "",
      "stdout": "",
      "submitted": "2022-07-06T18:24:32.270274Z"
     },
     "output_type": "display_data"
    },
    {
     "data": {
      "text/html": [
       "<div>\n",
       "<style scoped>\n",
       "    .dataframe tbody tr th:only-of-type {\n",
       "        vertical-align: middle;\n",
       "    }\n",
       "\n",
       "    .dataframe tbody tr th {\n",
       "        vertical-align: top;\n",
       "    }\n",
       "\n",
       "    .dataframe thead th {\n",
       "        text-align: right;\n",
       "    }\n",
       "</style>\n",
       "<table border=\"1\" class=\"dataframe\">\n",
       "  <thead>\n",
       "    <tr style=\"text-align: right;\">\n",
       "      <th></th>\n",
       "      <th>l_returnflag</th>\n",
       "      <th>l_linestatus</th>\n",
       "      <th>l_quantity</th>\n",
       "      <th>l_extendedprice</th>\n",
       "      <th>disc_price</th>\n",
       "      <th>charge</th>\n",
       "      <th>avg_qty</th>\n",
       "      <th>avg_price</th>\n",
       "      <th>l_discount</th>\n",
       "      <th>l_orderkey</th>\n",
       "    </tr>\n",
       "  </thead>\n",
       "  <tbody>\n",
       "  </tbody>\n",
       "</table>\n",
       "</div>"
      ],
      "text/plain": [
       "\u001b[0;31mOut[6:6]: \u001b[0m\n",
       "Empty DataFrame\n",
       "Columns: [l_returnflag, l_linestatus, l_quantity, l_extendedprice, disc_price, charge, avg_qty, avg_price, l_discount, l_orderkey]\n",
       "Index: []"
      ]
     },
     "metadata": {
      "after": null,
      "completed": null,
      "data": {},
      "engine_id": 6,
      "engine_uuid": "394746de-163f6f2cbf1c71bbc16eb938",
      "error": null,
      "execute_input": "q1_result\n",
      "execute_result": {
       "data": {
        "text/html": "<div>\n<style scoped>\n    .dataframe tbody tr th:only-of-type {\n        vertical-align: middle;\n    }\n\n    .dataframe tbody tr th {\n        vertical-align: top;\n    }\n\n    .dataframe thead th {\n        text-align: right;\n    }\n</style>\n<table border=\"1\" class=\"dataframe\">\n  <thead>\n    <tr style=\"text-align: right;\">\n      <th></th>\n      <th>l_returnflag</th>\n      <th>l_linestatus</th>\n      <th>l_quantity</th>\n      <th>l_extendedprice</th>\n      <th>disc_price</th>\n      <th>charge</th>\n      <th>avg_qty</th>\n      <th>avg_price</th>\n      <th>l_discount</th>\n      <th>l_orderkey</th>\n    </tr>\n  </thead>\n  <tbody>\n  </tbody>\n</table>\n</div>",
        "text/plain": "Empty DataFrame\nColumns: [l_returnflag, l_linestatus, l_quantity, l_extendedprice, disc_price, charge, avg_qty, avg_price, l_discount, l_orderkey]\nIndex: []"
       },
       "execution_count": 6,
       "metadata": {}
      },
      "follow": null,
      "msg_id": null,
      "outputs": [],
      "received": null,
      "started": null,
      "status": null,
      "stderr": "",
      "stdout": "",
      "submitted": "2022-07-06T18:24:32.270342Z"
     },
     "output_type": "display_data"
    },
    {
     "data": {
      "text/html": [
       "<div>\n",
       "<style scoped>\n",
       "    .dataframe tbody tr th:only-of-type {\n",
       "        vertical-align: middle;\n",
       "    }\n",
       "\n",
       "    .dataframe tbody tr th {\n",
       "        vertical-align: top;\n",
       "    }\n",
       "\n",
       "    .dataframe thead th {\n",
       "        text-align: right;\n",
       "    }\n",
       "</style>\n",
       "<table border=\"1\" class=\"dataframe\">\n",
       "  <thead>\n",
       "    <tr style=\"text-align: right;\">\n",
       "      <th></th>\n",
       "      <th>l_returnflag</th>\n",
       "      <th>l_linestatus</th>\n",
       "      <th>l_quantity</th>\n",
       "      <th>l_extendedprice</th>\n",
       "      <th>disc_price</th>\n",
       "      <th>charge</th>\n",
       "      <th>avg_qty</th>\n",
       "      <th>avg_price</th>\n",
       "      <th>l_discount</th>\n",
       "      <th>l_orderkey</th>\n",
       "    </tr>\n",
       "  </thead>\n",
       "  <tbody>\n",
       "  </tbody>\n",
       "</table>\n",
       "</div>"
      ],
      "text/plain": [
       "\u001b[0;31mOut[2:6]: \u001b[0m\n",
       "Empty DataFrame\n",
       "Columns: [l_returnflag, l_linestatus, l_quantity, l_extendedprice, disc_price, charge, avg_qty, avg_price, l_discount, l_orderkey]\n",
       "Index: []"
      ]
     },
     "metadata": {
      "after": null,
      "completed": null,
      "data": {},
      "engine_id": 2,
      "engine_uuid": "e61ea3da-2fc360df5e602aed8d5d557a",
      "error": null,
      "execute_input": "q1_result\n",
      "execute_result": {
       "data": {
        "text/html": "<div>\n<style scoped>\n    .dataframe tbody tr th:only-of-type {\n        vertical-align: middle;\n    }\n\n    .dataframe tbody tr th {\n        vertical-align: top;\n    }\n\n    .dataframe thead th {\n        text-align: right;\n    }\n</style>\n<table border=\"1\" class=\"dataframe\">\n  <thead>\n    <tr style=\"text-align: right;\">\n      <th></th>\n      <th>l_returnflag</th>\n      <th>l_linestatus</th>\n      <th>l_quantity</th>\n      <th>l_extendedprice</th>\n      <th>disc_price</th>\n      <th>charge</th>\n      <th>avg_qty</th>\n      <th>avg_price</th>\n      <th>l_discount</th>\n      <th>l_orderkey</th>\n    </tr>\n  </thead>\n  <tbody>\n  </tbody>\n</table>\n</div>",
        "text/plain": "Empty DataFrame\nColumns: [l_returnflag, l_linestatus, l_quantity, l_extendedprice, disc_price, charge, avg_qty, avg_price, l_discount, l_orderkey]\nIndex: []"
       },
       "execution_count": 6,
       "metadata": {}
      },
      "follow": null,
      "msg_id": null,
      "outputs": [],
      "received": null,
      "started": null,
      "status": null,
      "stderr": "",
      "stdout": "",
      "submitted": "2022-07-06T18:24:32.270110Z"
     },
     "output_type": "display_data"
    },
    {
     "data": {
      "text/html": [
       "<div>\n",
       "<style scoped>\n",
       "    .dataframe tbody tr th:only-of-type {\n",
       "        vertical-align: middle;\n",
       "    }\n",
       "\n",
       "    .dataframe tbody tr th {\n",
       "        vertical-align: top;\n",
       "    }\n",
       "\n",
       "    .dataframe thead th {\n",
       "        text-align: right;\n",
       "    }\n",
       "</style>\n",
       "<table border=\"1\" class=\"dataframe\">\n",
       "  <thead>\n",
       "    <tr style=\"text-align: right;\">\n",
       "      <th></th>\n",
       "      <th>l_returnflag</th>\n",
       "      <th>l_linestatus</th>\n",
       "      <th>l_quantity</th>\n",
       "      <th>l_extendedprice</th>\n",
       "      <th>disc_price</th>\n",
       "      <th>charge</th>\n",
       "      <th>avg_qty</th>\n",
       "      <th>avg_price</th>\n",
       "      <th>l_discount</th>\n",
       "      <th>l_orderkey</th>\n",
       "    </tr>\n",
       "  </thead>\n",
       "  <tbody>\n",
       "  </tbody>\n",
       "</table>\n",
       "</div>"
      ],
      "text/plain": [
       "\u001b[0;31mOut[1:6]: \u001b[0m\n",
       "Empty DataFrame\n",
       "Columns: [l_returnflag, l_linestatus, l_quantity, l_extendedprice, disc_price, charge, avg_qty, avg_price, l_discount, l_orderkey]\n",
       "Index: []"
      ]
     },
     "metadata": {
      "after": null,
      "completed": null,
      "data": {},
      "engine_id": 1,
      "engine_uuid": "1a5706cd-c66412d40750f6507bdf25b1",
      "error": null,
      "execute_input": "q1_result\n",
      "execute_result": {
       "data": {
        "text/html": "<div>\n<style scoped>\n    .dataframe tbody tr th:only-of-type {\n        vertical-align: middle;\n    }\n\n    .dataframe tbody tr th {\n        vertical-align: top;\n    }\n\n    .dataframe thead th {\n        text-align: right;\n    }\n</style>\n<table border=\"1\" class=\"dataframe\">\n  <thead>\n    <tr style=\"text-align: right;\">\n      <th></th>\n      <th>l_returnflag</th>\n      <th>l_linestatus</th>\n      <th>l_quantity</th>\n      <th>l_extendedprice</th>\n      <th>disc_price</th>\n      <th>charge</th>\n      <th>avg_qty</th>\n      <th>avg_price</th>\n      <th>l_discount</th>\n      <th>l_orderkey</th>\n    </tr>\n  </thead>\n  <tbody>\n  </tbody>\n</table>\n</div>",
        "text/plain": "Empty DataFrame\nColumns: [l_returnflag, l_linestatus, l_quantity, l_extendedprice, disc_price, charge, avg_qty, avg_price, l_discount, l_orderkey]\nIndex: []"
       },
       "execution_count": 6,
       "metadata": {}
      },
      "follow": null,
      "msg_id": null,
      "outputs": [],
      "received": null,
      "started": null,
      "status": null,
      "stderr": "",
      "stdout": "",
      "submitted": "2022-07-06T18:24:32.270080Z"
     },
     "output_type": "display_data"
    },
    {
     "data": {
      "text/html": [
       "<div>\n",
       "<style scoped>\n",
       "    .dataframe tbody tr th:only-of-type {\n",
       "        vertical-align: middle;\n",
       "    }\n",
       "\n",
       "    .dataframe tbody tr th {\n",
       "        vertical-align: top;\n",
       "    }\n",
       "\n",
       "    .dataframe thead th {\n",
       "        text-align: right;\n",
       "    }\n",
       "</style>\n",
       "<table border=\"1\" class=\"dataframe\">\n",
       "  <thead>\n",
       "    <tr style=\"text-align: right;\">\n",
       "      <th></th>\n",
       "      <th>l_returnflag</th>\n",
       "      <th>l_linestatus</th>\n",
       "      <th>l_quantity</th>\n",
       "      <th>l_extendedprice</th>\n",
       "      <th>disc_price</th>\n",
       "      <th>charge</th>\n",
       "      <th>avg_qty</th>\n",
       "      <th>avg_price</th>\n",
       "      <th>l_discount</th>\n",
       "      <th>l_orderkey</th>\n",
       "    </tr>\n",
       "  </thead>\n",
       "  <tbody>\n",
       "  </tbody>\n",
       "</table>\n",
       "</div>"
      ],
      "text/plain": [
       "\u001b[0;31mOut[3:6]: \u001b[0m\n",
       "Empty DataFrame\n",
       "Columns: [l_returnflag, l_linestatus, l_quantity, l_extendedprice, disc_price, charge, avg_qty, avg_price, l_discount, l_orderkey]\n",
       "Index: []"
      ]
     },
     "metadata": {
      "after": [],
      "completed": "2022-07-06T18:24:32.281929Z",
      "data": {},
      "engine_id": 3,
      "engine_uuid": "b1c86af4-7c7db82738047896875ae450",
      "error": null,
      "execute_input": "q1_result\n",
      "execute_result": {
       "data": {
        "text/html": "<div>\n<style scoped>\n    .dataframe tbody tr th:only-of-type {\n        vertical-align: middle;\n    }\n\n    .dataframe tbody tr th {\n        vertical-align: top;\n    }\n\n    .dataframe thead th {\n        text-align: right;\n    }\n</style>\n<table border=\"1\" class=\"dataframe\">\n  <thead>\n    <tr style=\"text-align: right;\">\n      <th></th>\n      <th>l_returnflag</th>\n      <th>l_linestatus</th>\n      <th>l_quantity</th>\n      <th>l_extendedprice</th>\n      <th>disc_price</th>\n      <th>charge</th>\n      <th>avg_qty</th>\n      <th>avg_price</th>\n      <th>l_discount</th>\n      <th>l_orderkey</th>\n    </tr>\n  </thead>\n  <tbody>\n  </tbody>\n</table>\n</div>",
        "text/plain": "Empty DataFrame\nColumns: [l_returnflag, l_linestatus, l_quantity, l_extendedprice, disc_price, charge, avg_qty, avg_price, l_discount, l_orderkey]\nIndex: []"
       },
       "execution_count": 6,
       "metadata": {}
      },
      "follow": [],
      "is_broadcast": true,
      "is_coalescing": false,
      "msg_id": "add6b7c7-eee33b0c0482fdfc36418d78_23624_6_b1c86af4-7c7db82738047896875ae450",
      "outputs": [],
      "received": "2022-07-06T18:24:32.289079Z",
      "started": "2022-07-06T18:24:32.273659Z",
      "status": "ok",
      "stderr": "",
      "stdout": "",
      "submitted": "2022-07-06T18:24:32.269914Z"
     },
     "output_type": "display_data"
    },
    {
     "data": {
      "text/html": [
       "<div>\n",
       "<style scoped>\n",
       "    .dataframe tbody tr th:only-of-type {\n",
       "        vertical-align: middle;\n",
       "    }\n",
       "\n",
       "    .dataframe tbody tr th {\n",
       "        vertical-align: top;\n",
       "    }\n",
       "\n",
       "    .dataframe thead th {\n",
       "        text-align: right;\n",
       "    }\n",
       "</style>\n",
       "<table border=\"1\" class=\"dataframe\">\n",
       "  <thead>\n",
       "    <tr style=\"text-align: right;\">\n",
       "      <th></th>\n",
       "      <th>l_returnflag</th>\n",
       "      <th>l_linestatus</th>\n",
       "      <th>l_quantity</th>\n",
       "      <th>l_extendedprice</th>\n",
       "      <th>disc_price</th>\n",
       "      <th>charge</th>\n",
       "      <th>avg_qty</th>\n",
       "      <th>avg_price</th>\n",
       "      <th>l_discount</th>\n",
       "      <th>l_orderkey</th>\n",
       "    </tr>\n",
       "  </thead>\n",
       "  <tbody>\n",
       "  </tbody>\n",
       "</table>\n",
       "</div>"
      ],
      "text/plain": [
       "\u001b[0;31mOut[5:6]: \u001b[0m\n",
       "Empty DataFrame\n",
       "Columns: [l_returnflag, l_linestatus, l_quantity, l_extendedprice, disc_price, charge, avg_qty, avg_price, l_discount, l_orderkey]\n",
       "Index: []"
      ]
     },
     "metadata": {
      "after": [],
      "completed": "2022-07-06T18:24:32.282433Z",
      "data": {},
      "engine_id": 5,
      "engine_uuid": "bc138ccd-ebb060b057fd9d0897795565",
      "error": null,
      "execute_input": "q1_result\n",
      "execute_result": {
       "data": {
        "text/html": "<div>\n<style scoped>\n    .dataframe tbody tr th:only-of-type {\n        vertical-align: middle;\n    }\n\n    .dataframe tbody tr th {\n        vertical-align: top;\n    }\n\n    .dataframe thead th {\n        text-align: right;\n    }\n</style>\n<table border=\"1\" class=\"dataframe\">\n  <thead>\n    <tr style=\"text-align: right;\">\n      <th></th>\n      <th>l_returnflag</th>\n      <th>l_linestatus</th>\n      <th>l_quantity</th>\n      <th>l_extendedprice</th>\n      <th>disc_price</th>\n      <th>charge</th>\n      <th>avg_qty</th>\n      <th>avg_price</th>\n      <th>l_discount</th>\n      <th>l_orderkey</th>\n    </tr>\n  </thead>\n  <tbody>\n  </tbody>\n</table>\n</div>",
        "text/plain": "Empty DataFrame\nColumns: [l_returnflag, l_linestatus, l_quantity, l_extendedprice, disc_price, charge, avg_qty, avg_price, l_discount, l_orderkey]\nIndex: []"
       },
       "execution_count": 6,
       "metadata": {}
      },
      "follow": [],
      "is_broadcast": true,
      "is_coalescing": false,
      "msg_id": "add6b7c7-eee33b0c0482fdfc36418d78_23624_6_bc138ccd-ebb060b057fd9d0897795565",
      "outputs": [],
      "received": "2022-07-06T18:24:32.290358Z",
      "started": "2022-07-06T18:24:32.273856Z",
      "status": "ok",
      "stderr": "",
      "stdout": "",
      "submitted": "2022-07-06T18:24:32.269914Z"
     },
     "output_type": "display_data"
    },
    {
     "data": {
      "text/html": [
       "<div>\n",
       "<style scoped>\n",
       "    .dataframe tbody tr th:only-of-type {\n",
       "        vertical-align: middle;\n",
       "    }\n",
       "\n",
       "    .dataframe tbody tr th {\n",
       "        vertical-align: top;\n",
       "    }\n",
       "\n",
       "    .dataframe thead th {\n",
       "        text-align: right;\n",
       "    }\n",
       "</style>\n",
       "<table border=\"1\" class=\"dataframe\">\n",
       "  <thead>\n",
       "    <tr style=\"text-align: right;\">\n",
       "      <th></th>\n",
       "      <th>l_returnflag</th>\n",
       "      <th>l_linestatus</th>\n",
       "      <th>l_quantity</th>\n",
       "      <th>l_extendedprice</th>\n",
       "      <th>disc_price</th>\n",
       "      <th>charge</th>\n",
       "      <th>avg_qty</th>\n",
       "      <th>avg_price</th>\n",
       "      <th>l_discount</th>\n",
       "      <th>l_orderkey</th>\n",
       "    </tr>\n",
       "  </thead>\n",
       "  <tbody>\n",
       "    <tr>\n",
       "      <th>0</th>\n",
       "      <td>A</td>\n",
       "      <td>F</td>\n",
       "      <td>377518399.0</td>\n",
       "      <td>5.660657e+11</td>\n",
       "      <td>5.377591e+11</td>\n",
       "      <td>5.592767e+11</td>\n",
       "      <td>25.500975</td>\n",
       "      <td>38237.151009</td>\n",
       "      <td>0.050007</td>\n",
       "      <td>14804077</td>\n",
       "    </tr>\n",
       "    <tr>\n",
       "      <th>1</th>\n",
       "      <td>N</td>\n",
       "      <td>F</td>\n",
       "      <td>9851614.0</td>\n",
       "      <td>1.476744e+10</td>\n",
       "      <td>1.402881e+10</td>\n",
       "      <td>1.459049e+10</td>\n",
       "      <td>25.522448</td>\n",
       "      <td>38257.810660</td>\n",
       "      <td>0.049973</td>\n",
       "      <td>385998</td>\n",
       "    </tr>\n",
       "    <tr>\n",
       "      <th>3</th>\n",
       "      <td>N</td>\n",
       "      <td>O</td>\n",
       "      <td>743124873.0</td>\n",
       "      <td>1.114302e+12</td>\n",
       "      <td>1.058581e+12</td>\n",
       "      <td>1.100937e+12</td>\n",
       "      <td>25.498076</td>\n",
       "      <td>38233.902923</td>\n",
       "      <td>0.050001</td>\n",
       "      <td>29144351</td>\n",
       "    </tr>\n",
       "    <tr>\n",
       "      <th>2</th>\n",
       "      <td>R</td>\n",
       "      <td>F</td>\n",
       "      <td>377732830.0</td>\n",
       "      <td>5.664311e+11</td>\n",
       "      <td>5.381109e+11</td>\n",
       "      <td>5.596348e+11</td>\n",
       "      <td>25.508385</td>\n",
       "      <td>38251.219274</td>\n",
       "      <td>0.049997</td>\n",
       "      <td>14808183</td>\n",
       "    </tr>\n",
       "  </tbody>\n",
       "</table>\n",
       "</div>"
      ],
      "text/plain": [
       "\u001b[0;31mOut[0:6]: \u001b[0m\n",
       "  l_returnflag l_linestatus   l_quantity  l_extendedprice    disc_price  \\\n",
       "0            A            F  377518399.0     5.660657e+11  5.377591e+11   \n",
       "1            N            F    9851614.0     1.476744e+10  1.402881e+10   \n",
       "3            N            O  743124873.0     1.114302e+12  1.058581e+12   \n",
       "2            R            F  377732830.0     5.664311e+11  5.381109e+11   \n",
       "\n",
       "         charge    avg_qty     avg_price  l_discount  l_orderkey  \n",
       "0  5.592767e+11  25.500975  38237.151009    0.050007    14804077  \n",
       "1  1.459049e+10  25.522448  38257.810660    0.049973      385998  \n",
       "3  1.100937e+12  25.498076  38233.902923    0.050001    29144351  \n",
       "2  5.596348e+11  25.508385  38251.219274    0.049997    14808183  "
      ]
     },
     "metadata": {
      "after": [],
      "completed": "2022-07-06T18:24:32.283752Z",
      "data": {},
      "engine_id": 0,
      "engine_uuid": "3a07e269-97ab79524a2a3d0777f8df39",
      "error": null,
      "execute_input": "q1_result\n",
      "execute_result": {
       "data": {
        "text/html": "<div>\n<style scoped>\n    .dataframe tbody tr th:only-of-type {\n        vertical-align: middle;\n    }\n\n    .dataframe tbody tr th {\n        vertical-align: top;\n    }\n\n    .dataframe thead th {\n        text-align: right;\n    }\n</style>\n<table border=\"1\" class=\"dataframe\">\n  <thead>\n    <tr style=\"text-align: right;\">\n      <th></th>\n      <th>l_returnflag</th>\n      <th>l_linestatus</th>\n      <th>l_quantity</th>\n      <th>l_extendedprice</th>\n      <th>disc_price</th>\n      <th>charge</th>\n      <th>avg_qty</th>\n      <th>avg_price</th>\n      <th>l_discount</th>\n      <th>l_orderkey</th>\n    </tr>\n  </thead>\n  <tbody>\n    <tr>\n      <th>0</th>\n      <td>A</td>\n      <td>F</td>\n      <td>377518399.0</td>\n      <td>5.660657e+11</td>\n      <td>5.377591e+11</td>\n      <td>5.592767e+11</td>\n      <td>25.500975</td>\n      <td>38237.151009</td>\n      <td>0.050007</td>\n      <td>14804077</td>\n    </tr>\n    <tr>\n      <th>1</th>\n      <td>N</td>\n      <td>F</td>\n      <td>9851614.0</td>\n      <td>1.476744e+10</td>\n      <td>1.402881e+10</td>\n      <td>1.459049e+10</td>\n      <td>25.522448</td>\n      <td>38257.810660</td>\n      <td>0.049973</td>\n      <td>385998</td>\n    </tr>\n    <tr>\n      <th>3</th>\n      <td>N</td>\n      <td>O</td>\n      <td>743124873.0</td>\n      <td>1.114302e+12</td>\n      <td>1.058581e+12</td>\n      <td>1.100937e+12</td>\n      <td>25.498076</td>\n      <td>38233.902923</td>\n      <td>0.050001</td>\n      <td>29144351</td>\n    </tr>\n    <tr>\n      <th>2</th>\n      <td>R</td>\n      <td>F</td>\n      <td>377732830.0</td>\n      <td>5.664311e+11</td>\n      <td>5.381109e+11</td>\n      <td>5.596348e+11</td>\n      <td>25.508385</td>\n      <td>38251.219274</td>\n      <td>0.049997</td>\n      <td>14808183</td>\n    </tr>\n  </tbody>\n</table>\n</div>",
        "text/plain": "  l_returnflag l_linestatus   l_quantity  l_extendedprice    disc_price  \\\n0            A            F  377518399.0     5.660657e+11  5.377591e+11   \n1            N            F    9851614.0     1.476744e+10  1.402881e+10   \n3            N            O  743124873.0     1.114302e+12  1.058581e+12   \n2            R            F  377732830.0     5.664311e+11  5.381109e+11   \n\n         charge    avg_qty     avg_price  l_discount  l_orderkey  \n0  5.592767e+11  25.500975  38237.151009    0.050007    14804077  \n1  1.459049e+10  25.522448  38257.810660    0.049973      385998  \n3  1.100937e+12  25.498076  38233.902923    0.050001    29144351  \n2  5.596348e+11  25.508385  38251.219274    0.049997    14808183  "
       },
       "execution_count": 6,
       "metadata": {}
      },
      "follow": [],
      "is_broadcast": true,
      "is_coalescing": false,
      "msg_id": "add6b7c7-eee33b0c0482fdfc36418d78_23624_6_3a07e269-97ab79524a2a3d0777f8df39",
      "outputs": [],
      "received": "2022-07-06T18:24:32.290962Z",
      "started": "2022-07-06T18:24:32.273938Z",
      "status": "ok",
      "stderr": "",
      "stdout": "",
      "submitted": "2022-07-06T18:24:32.269914Z"
     },
     "output_type": "display_data"
    }
   ],
   "source": [
    "%%px\n",
    "q1_result"
   ]
  }
 ],
 "metadata": {
  "kernelspec": {
   "display_name": "SSH 10.30.3.28 Remote-Kernel",
   "language": "",
   "name": "rik_ssh_10_30_3_28_remotekernel"
  },
  "language_info": {
   "codemirror_mode": {
    "name": "ipython",
    "version": 3
   },
   "file_extension": ".py",
   "mimetype": "text/x-python",
   "name": "python",
   "nbconvert_exporter": "python",
   "pygments_lexer": "ipython3",
   "version": "3.9.12"
  }
 },
 "nbformat": 4,
 "nbformat_minor": 5
}
