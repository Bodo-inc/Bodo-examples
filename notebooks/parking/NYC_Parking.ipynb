{
 "cells": [
  {
   "cell_type": "markdown",
   "metadata": {},
   "source": []
  },
  {
   "cell_type": "code",
   "execution_count": 272,
   "metadata": {},
   "outputs": [
    {
     "name": "stdout",
     "output_type": "stream",
     "text": [
      "[stdout:0] /Users/nmshafie\n",
      "[stdout:1] /Users/nmshafie\n",
      "[stdout:2] /Users/nmshafie\n",
      "[stdout:3] /Users/nmshafie\n"
     ]
    }
   ],
   "source": [
    "import ipyparallel as ipp\n",
    "c = ipp.Client(profile='mpi')\n",
    "view = c[:]\n",
    "view.activate()\n",
    "view.block = True  # equivalent to running with %%px --block\n",
    "\n",
    "# Set the working directory:\n",
    "import os\n",
    "view[\"cwd\"] = os.getcwd()\n",
    "%px cd $cwd"
   ]
  },
  {
   "cell_type": "code",
   "execution_count": 273,
   "metadata": {},
   "outputs": [],
   "source": [
    "%%px\n",
    "\n",
    "import bodo\n",
    "import pandas as pd\n",
    "import time\n",
    "import numpy as np\n",
    "import matplotlib.pyplot as plt\n",
    "import seaborn as sns\n",
    "sns.set(color_codes=True)\n",
    "\n",
    "%matplotlib inline"
   ]
  },
  {
   "cell_type": "code",
   "execution_count": 274,
   "metadata": {},
   "outputs": [],
   "source": [
    "import bodo\n",
    "import pandas as pd\n",
    "import time\n",
    "import numpy as np\n",
    "import matplotlib.pyplot as plt\n",
    "import seaborn as sns\n",
    "sns.set(color_codes=True)\n",
    "\n",
    "%matplotlib inline"
   ]
  },
  {
   "cell_type": "code",
   "execution_count": 275,
   "metadata": {},
   "outputs": [
    {
     "name": "stdout",
     "output_type": "stream",
     "text": [
      "Reading Time:  122.54645705223083\n"
     ]
    }
   ],
   "source": [
    "#loading all the csv data\n",
    "\n",
    "start = time.time()\n",
    "\n",
    "nyc_parking_2016 = pd.read_csv('data/Parking_Violations_Issued_-_Fiscal_Year_2016.csv', \n",
    "                               dtype ={17: 'str',18: 'str',20: 'str',21: 'str',22:'str',\n",
    "                                       23: 'str',29: 'str',30: 'str',31: 'str',32: 'str',\n",
    "                                       34: 'str',36: 'str',38: 'str',39: 'str',21:'str'}, \n",
    "                               parse_dates=['Issue Date'])\n",
    "\n",
    "nyc_parking_2017 = pd.read_csv('data/Parking_Violations_Issued_-_Fiscal_Year_2017.csv', \n",
    "                               dtype = {18: 'str', 38: 'str'}, parse_dates=['Issue Date'])\n",
    "violation_codes = pd.read_csv(\"data/DOF_Parking_Violation_Codes.csv\")\n",
    "nyc_precincts_df = pd.read_csv(\"data/nyc_precincts.csv\", index_col='index')\n",
    "\n",
    "end = time.time()\n",
    "\n",
    "print(\"Reading Time: \", end - start)"
   ]
  },
  {
   "cell_type": "code",
   "execution_count": 276,
   "metadata": {},
   "outputs": [
    {
     "name": "stdout",
     "output_type": "stream",
     "text": [
      "[stdout:0] Reading Time:  82.38469471899589\n"
     ]
    }
   ],
   "source": [
    "%%px\n",
    "\n",
    "@bodo.jit(distributed = [\"nyc_parking_2016\", \"nyc_parking_2017\"], cache=True)\n",
    "def load_data():\n",
    "    \n",
    "    start = time.time()\n",
    "    nyc_parking_2016 = pd.read_csv('data/Parking_Violations_Issued_-_Fiscal_Year_2016.csv', \n",
    "                               dtype ={17: 'str',18: 'str',20: 'str',21: 'str',22:'str',\n",
    "                                       23: 'str',29: 'str',30: 'str',31: 'str',32: 'str',\n",
    "                                       34: 'str',36: 'str',38: 'str',39: 'str',21:'str'}, \n",
    "                               parse_dates=['Issue Date'])\n",
    "    nyc_parking_2017 = pd.read_csv('data/Parking_Violations_Issued_-_Fiscal_Year_2017.csv', \n",
    "                               dtype = {18: 'str', 38: 'str'}, parse_dates=['Issue Date'])\n",
    "    violation_codes = pd.read_csv(\"data/DOF_Parking_Violation_Codes.csv\")\n",
    "    violation_codes.columns = ['Violation Code','Definition','manhattan_96_and_below','all_other_areas']\n",
    "    nyc_precincts_df = pd.read_csv(\"data/nyc_precincts.csv\", index_col='index')\n",
    "\n",
    "    end = time.time()\n",
    "    \n",
    "    print(\"Reading Time: \", end - start)\n",
    "    return nyc_parking_2016, nyc_parking_2017, violation_codes, nyc_precincts_df   \n",
    "\n",
    "nyc_parking_2016, nyc_parking_2017, violation_codes, nyc_precincts_df= load_data()"
   ]
  },
  {
   "cell_type": "code",
   "execution_count": 277,
   "metadata": {},
   "outputs": [
    {
     "name": "stdout",
     "output_type": "stream",
     "text": [
      "<class 'pandas.core.frame.DataFrame'>\n",
      "RangeIndex: 10626899 entries, 0 to 10626898\n",
      "Data columns (total 51 columns):\n",
      " #   Column                             Dtype         \n",
      "---  ------                             -----         \n",
      " 0   Summons Number                     int64         \n",
      " 1   Plate ID                           object        \n",
      " 2   Registration State                 object        \n",
      " 3   Plate Type                         object        \n",
      " 4   Issue Date                         datetime64[ns]\n",
      " 5   Violation Code                     int64         \n",
      " 6   Vehicle Body Type                  object        \n",
      " 7   Vehicle Make                       object        \n",
      " 8   Issuing Agency                     object        \n",
      " 9   Street Code1                       int64         \n",
      " 10  Street Code2                       int64         \n",
      " 11  Street Code3                       int64         \n",
      " 12  Vehicle Expiration Date            float64       \n",
      " 13  Violation Location                 float64       \n",
      " 14  Violation Precinct                 float64       \n",
      " 15  Issuer Precinct                    float64       \n",
      " 16  Issuer Code                        float64       \n",
      " 17  Issuer Command                     object        \n",
      " 18  Issuer Squad                       object        \n",
      " 19  Violation Time                     object        \n",
      " 20  Time First Observed                object        \n",
      " 21  Violation County                   object        \n",
      " 22  Violation In Front Of Or Opposite  object        \n",
      " 23  House Number                       object        \n",
      " 24  Street Name                        object        \n",
      " 25  Intersecting Street                object        \n",
      " 26  Date First Observed                float64       \n",
      " 27  Law Section                        float64       \n",
      " 28  Sub Division                       object        \n",
      " 29  Violation Legal Code               object        \n",
      " 30  Days Parking In Effect             object        \n",
      " 31  From Hours In Effect               object        \n",
      " 32  To Hours In Effect                 object        \n",
      " 33  Vehicle Color                      object        \n",
      " 34  Unregistered Vehicle?              object        \n",
      " 35  Vehicle Year                       float64       \n",
      " 36  Meter Number                       object        \n",
      " 37  Feet From Curb                     float64       \n",
      " 38  Violation Post Code                object        \n",
      " 39  Violation Description              object        \n",
      " 40  No Standing or Stopping Violation  float64       \n",
      " 41  Hydrant Violation                  float64       \n",
      " 42  Double Parking Violation           float64       \n",
      " 43  Latitude                           float64       \n",
      " 44  Longitude                          float64       \n",
      " 45  Community Board                    float64       \n",
      " 46  Community Council                  float64       \n",
      " 47  Census Tract                       float64       \n",
      " 48  BIN                                float64       \n",
      " 49  BBL                                float64       \n",
      " 50  NTA                                float64       \n",
      "dtypes: datetime64[ns](1), float64(20), int64(5), object(25)\n",
      "memory usage: 4.0+ GB\n"
     ]
    }
   ],
   "source": [
    "nyc_parking_2016.info()"
   ]
  },
  {
   "cell_type": "code",
   "execution_count": 278,
   "metadata": {},
   "outputs": [
    {
     "name": "stdout",
     "output_type": "stream",
     "text": [
      "<class 'pandas.core.frame.DataFrame'>\n",
      "RangeIndex: 10803028 entries, 0 to 10803027\n",
      "Data columns (total 43 columns):\n",
      " #   Column                             Dtype         \n",
      "---  ------                             -----         \n",
      " 0   Summons Number                     int64         \n",
      " 1   Plate ID                           object        \n",
      " 2   Registration State                 object        \n",
      " 3   Plate Type                         object        \n",
      " 4   Issue Date                         datetime64[ns]\n",
      " 5   Violation Code                     int64         \n",
      " 6   Vehicle Body Type                  object        \n",
      " 7   Vehicle Make                       object        \n",
      " 8   Issuing Agency                     object        \n",
      " 9   Street Code1                       int64         \n",
      " 10  Street Code2                       int64         \n",
      " 11  Street Code3                       int64         \n",
      " 12  Vehicle Expiration Date            int64         \n",
      " 13  Violation Location                 float64       \n",
      " 14  Violation Precinct                 int64         \n",
      " 15  Issuer Precinct                    int64         \n",
      " 16  Issuer Code                        int64         \n",
      " 17  Issuer Command                     object        \n",
      " 18  Issuer Squad                       object        \n",
      " 19  Violation Time                     object        \n",
      " 20  Time First Observed                object        \n",
      " 21  Violation County                   object        \n",
      " 22  Violation In Front Of Or Opposite  object        \n",
      " 23  House Number                       object        \n",
      " 24  Street Name                        object        \n",
      " 25  Intersecting Street                object        \n",
      " 26  Date First Observed                int64         \n",
      " 27  Law Section                        int64         \n",
      " 28  Sub Division                       object        \n",
      " 29  Violation Legal Code               object        \n",
      " 30  Days Parking In Effect             object        \n",
      " 31  From Hours In Effect               object        \n",
      " 32  To Hours In Effect                 object        \n",
      " 33  Vehicle Color                      object        \n",
      " 34  Unregistered Vehicle?              float64       \n",
      " 35  Vehicle Year                       int64         \n",
      " 36  Meter Number                       object        \n",
      " 37  Feet From Curb                     int64         \n",
      " 38  Violation Post Code                object        \n",
      " 39  Violation Description              object        \n",
      " 40  No Standing or Stopping Violation  float64       \n",
      " 41  Hydrant Violation                  float64       \n",
      " 42  Double Parking Violation           float64       \n",
      "dtypes: datetime64[ns](1), float64(5), int64(13), object(24)\n",
      "memory usage: 3.5+ GB\n"
     ]
    }
   ],
   "source": [
    "nyc_parking_2017.info()"
   ]
  },
  {
   "cell_type": "code",
   "execution_count": 279,
   "metadata": {},
   "outputs": [
    {
     "name": "stdout",
     "output_type": "stream",
     "text": [
      "<class 'pandas.core.frame.DataFrame'>\n",
      "RangeIndex: 86 entries, 0 to 85\n",
      "Data columns (total 4 columns):\n",
      " #   Column                  Non-Null Count  Dtype \n",
      "---  ------                  --------------  ----- \n",
      " 0   CODE                    86 non-null     int64 \n",
      " 1   DEFINITION              86 non-null     object\n",
      " 2   MANHATTAN_96_AND_BELOW  86 non-null     int64 \n",
      " 3   ALL_OTHER_AREAS         86 non-null     int64 \n",
      "dtypes: int64(3), object(1)\n",
      "memory usage: 2.8+ KB\n"
     ]
    }
   ],
   "source": [
    "violation_codes.info()"
   ]
  },
  {
   "cell_type": "code",
   "execution_count": 280,
   "metadata": {},
   "outputs": [
    {
     "name": "stdout",
     "output_type": "stream",
     "text": [
      "<class 'pandas.core.frame.DataFrame'>\n",
      "Int64Index: 77 entries, 0 to 76\n",
      "Data columns (total 1 columns):\n",
      " #   Column              Non-Null Count  Dtype\n",
      "---  ------              --------------  -----\n",
      " 0   Violation Precinct  77 non-null     int64\n",
      "dtypes: int64(1)\n",
      "memory usage: 1.2 KB\n"
     ]
    }
   ],
   "source": [
    "nyc_precincts_df.info()"
   ]
  },
  {
   "cell_type": "code",
   "execution_count": 281,
   "metadata": {},
   "outputs": [],
   "source": [
    "%%px\n",
    "\n",
    "@bodo.jit(distributed=['df'], cache=True)\n",
    "def head(df):\n",
    "    print(df.head(5))\n",
    "    "
   ]
  },
  {
   "cell_type": "code",
   "execution_count": 282,
   "metadata": {},
   "outputs": [
    {
     "name": "stdout",
     "output_type": "stream",
     "text": [
      "[stdout:0] \n",
      "   Summons Number Plate ID Registration State Plate Type Issue Date  \\\n",
      "0      1363745270  GGY6450                 99        PAS 2015-07-09   \n",
      "1      1363745293   KXD355                 SC        PAS 2015-07-09   \n",
      "2      1363745438  JCK7576                 PA        PAS 2015-07-09   \n",
      "3      1363745475  GYK7658                 NY        OMS 2015-07-09   \n",
      "4      1363745487  GMT8141                 NY        PAS 2015-07-09   \n",
      "\n",
      "   Violation Code Vehicle Body Type Vehicle Make Issuing Agency  Street Code1  \\\n",
      "0              46               SDN        HONDA              P             0   \n",
      "1              21              SUBN        CHEVR              P         55730   \n",
      "2              21               SDN        ME/BE              P         42730   \n",
      "3              21              SUBN        NISSA              P         58130   \n",
      "4              21               P-U        LINCO              P         58130   \n",
      "\n",
      "   ...  Hydrant Violation  Double Parking Violation  Latitude  Longitude  \\\n",
      "0  ...                NaN                       NaN       NaN        NaN   \n",
      "1  ...                NaN                       NaN       NaN        NaN   \n",
      "2  ...                NaN                       NaN       NaN        NaN   \n",
      "3  ...                NaN                       NaN       NaN        NaN   \n",
      "4  ...                NaN                       NaN       NaN        NaN   \n",
      "\n",
      "   Community Board  Community Council   Census Tract BIN BBL NTA  \n",
      "0              NaN                 NaN           NaN NaN NaN NaN  \n",
      "1              NaN                 NaN           NaN NaN NaN NaN  \n",
      "2              NaN                 NaN           NaN NaN NaN NaN  \n",
      "3              NaN                 NaN           NaN NaN NaN NaN  \n",
      "4              NaN                 NaN           NaN NaN NaN NaN  \n",
      "\n",
      "[5 rows x 51 columns]\n"
     ]
    }
   ],
   "source": [
    "%%px\n",
    "\n",
    "head(nyc_parking_2016)"
   ]
  },
  {
   "cell_type": "code",
   "execution_count": 283,
   "metadata": {},
   "outputs": [
    {
     "name": "stdout",
     "output_type": "stream",
     "text": [
      "[stdout:0] \n",
      "   Summons Number Plate ID Registration State Plate Type Issue Date  \\\n",
      "0      5092469481  GZH7067                 NY        PAS 2016-07-10   \n",
      "1      5092451658  GZH7067                 NY        PAS 2016-07-08   \n",
      "2      4006265037  FZX9232                 NY        PAS 2016-08-23   \n",
      "3      8478629828  66623ME                 NY        COM 2017-06-14   \n",
      "4      7868300310  37033JV                 NY        COM 2016-11-21   \n",
      "\n",
      "   Violation Code Vehicle Body Type Vehicle Make Issuing Agency  Street Code1  \\\n",
      "0               7              SUBN        TOYOT              V             0   \n",
      "1               7              SUBN        TOYOT              V             0   \n",
      "2               5              SUBN         FORD              V             0   \n",
      "3              47              REFG        MITSU              T         10610   \n",
      "4              69              DELV        INTER              T         10510   \n",
      "\n",
      "   ...  Vehicle Color  Unregistered Vehicle?  Vehicle Year  Meter Number  \\\n",
      "0  ...             GY                    NaN          2001           NaN   \n",
      "1  ...             GY                    NaN          2001           NaN   \n",
      "2  ...             BK                    NaN          2004           NaN   \n",
      "3  ...             WH                    NaN          2007           NaN   \n",
      "4  ...          WHITE                    NaN          2007           NaN   \n",
      "\n",
      "   Feet From Curb  Violation Post Code          Violation Description  \\\n",
      "0               0                  NaN   FAILURE TO STOP AT RED LIGHT   \n",
      "1               0                  NaN   FAILURE TO STOP AT RED LIGHT   \n",
      "2               0                  NaN             BUS LANE VIOLATION   \n",
      "3               0                   04          47-Double PKG-Midtown   \n",
      "4               0                 31 6  69-Failure to Disp Muni Recpt   \n",
      "\n",
      "  No Standing or Stopping Violation Hydrant Violation Double Parking Violation  \n",
      "0                               NaN               NaN                      NaN  \n",
      "1                               NaN               NaN                      NaN  \n",
      "2                               NaN               NaN                      NaN  \n",
      "3                               NaN               NaN                      NaN  \n",
      "4                               NaN               NaN                      NaN  \n",
      "\n",
      "[5 rows x 43 columns]\n"
     ]
    }
   ],
   "source": [
    "%%px\n",
    "\n",
    "head(nyc_parking_2017)"
   ]
  },
  {
   "cell_type": "code",
   "execution_count": 284,
   "metadata": {},
   "outputs": [
    {
     "name": "stdout",
     "output_type": "stream",
     "text": [
      "[stdout:0] \n",
      "   Violation Code                                         Definition  \\\n",
      "0              10  Stopping, standing or parking where a sign, st...   \n",
      "1              11  Hotel Loading/Unloading: Standing or parking w...   \n",
      "2              12  Snow Emergency: Standing or parking where stan...   \n",
      "3              13  Taxi Stand: Standing or parking where standing...   \n",
      "4              14  General No Standing: Standing or parking where...   \n",
      "\n",
      "   manhattan_96_and_below  all_other_areas  \n",
      "0                     115              115  \n",
      "1                     115              115  \n",
      "2                      95               95  \n",
      "3                     115              115  \n",
      "4                     115              115  \n"
     ]
    }
   ],
   "source": [
    "%%px\n",
    "\n",
    "head(violation_codes)"
   ]
  },
  {
   "cell_type": "code",
   "execution_count": 285,
   "metadata": {},
   "outputs": [
    {
     "name": "stdout",
     "output_type": "stream",
     "text": [
      "[stdout:0] \n",
      "       Violation Precinct\n",
      "index                    \n",
      "0                       1\n",
      "1                       5\n",
      "2                       6\n",
      "3                       7\n",
      "4                       9\n"
     ]
    }
   ],
   "source": [
    "%%px\n",
    "\n",
    "head(nyc_precincts_df)"
   ]
  },
  {
   "cell_type": "code",
   "execution_count": 286,
   "metadata": {},
   "outputs": [
    {
     "data": {
      "text/html": [
       "<div>\n",
       "<style scoped>\n",
       "    .dataframe tbody tr th:only-of-type {\n",
       "        vertical-align: middle;\n",
       "    }\n",
       "\n",
       "    .dataframe tbody tr th {\n",
       "        vertical-align: top;\n",
       "    }\n",
       "\n",
       "    .dataframe thead th {\n",
       "        text-align: right;\n",
       "    }\n",
       "</style>\n",
       "<table border=\"1\" class=\"dataframe\">\n",
       "  <thead>\n",
       "    <tr style=\"text-align: right;\">\n",
       "      <th></th>\n",
       "      <th>Summons Number</th>\n",
       "      <th>Violation Code</th>\n",
       "      <th>Street Code1</th>\n",
       "      <th>Street Code2</th>\n",
       "      <th>Street Code3</th>\n",
       "      <th>Vehicle Expiration Date</th>\n",
       "      <th>Violation Location</th>\n",
       "      <th>Violation Precinct</th>\n",
       "      <th>Issuer Precinct</th>\n",
       "      <th>Issuer Code</th>\n",
       "      <th>...</th>\n",
       "      <th>Hydrant Violation</th>\n",
       "      <th>Double Parking Violation</th>\n",
       "      <th>Latitude</th>\n",
       "      <th>Longitude</th>\n",
       "      <th>Community Board</th>\n",
       "      <th>Community Council</th>\n",
       "      <th>Census Tract</th>\n",
       "      <th>BIN</th>\n",
       "      <th>BBL</th>\n",
       "      <th>NTA</th>\n",
       "    </tr>\n",
       "  </thead>\n",
       "  <tbody>\n",
       "    <tr>\n",
       "      <th>count</th>\n",
       "      <td>1.062690e+07</td>\n",
       "      <td>1.062690e+07</td>\n",
       "      <td>1.062690e+07</td>\n",
       "      <td>1.062690e+07</td>\n",
       "      <td>1.062690e+07</td>\n",
       "      <td>1.062690e+07</td>\n",
       "      <td>8.758243e+06</td>\n",
       "      <td>1.062690e+07</td>\n",
       "      <td>1.062690e+07</td>\n",
       "      <td>1.062690e+07</td>\n",
       "      <td>...</td>\n",
       "      <td>0.0</td>\n",
       "      <td>0.0</td>\n",
       "      <td>0.0</td>\n",
       "      <td>0.0</td>\n",
       "      <td>0.0</td>\n",
       "      <td>0.0</td>\n",
       "      <td>0.0</td>\n",
       "      <td>0.0</td>\n",
       "      <td>0.0</td>\n",
       "      <td>0.0</td>\n",
       "    </tr>\n",
       "    <tr>\n",
       "      <th>mean</th>\n",
       "      <td>6.528467e+09</td>\n",
       "      <td>3.477333e+01</td>\n",
       "      <td>2.451093e+04</td>\n",
       "      <td>2.077949e+04</td>\n",
       "      <td>2.105112e+04</td>\n",
       "      <td>2.557483e+07</td>\n",
       "      <td>5.500073e+01</td>\n",
       "      <td>4.532929e+01</td>\n",
       "      <td>4.752599e+01</td>\n",
       "      <td>3.444605e+05</td>\n",
       "      <td>...</td>\n",
       "      <td>NaN</td>\n",
       "      <td>NaN</td>\n",
       "      <td>NaN</td>\n",
       "      <td>NaN</td>\n",
       "      <td>NaN</td>\n",
       "      <td>NaN</td>\n",
       "      <td>NaN</td>\n",
       "      <td>NaN</td>\n",
       "      <td>NaN</td>\n",
       "      <td>NaN</td>\n",
       "    </tr>\n",
       "    <tr>\n",
       "      <th>std</th>\n",
       "      <td>2.138312e+09</td>\n",
       "      <td>1.923122e+01</td>\n",
       "      <td>2.233289e+04</td>\n",
       "      <td>2.168472e+04</td>\n",
       "      <td>2.184546e+04</td>\n",
       "      <td>2.677891e+07</td>\n",
       "      <td>3.800069e+01</td>\n",
       "      <td>4.035501e+01</td>\n",
       "      <td>6.167253e+01</td>\n",
       "      <td>2.253115e+05</td>\n",
       "      <td>...</td>\n",
       "      <td>NaN</td>\n",
       "      <td>NaN</td>\n",
       "      <td>NaN</td>\n",
       "      <td>NaN</td>\n",
       "      <td>NaN</td>\n",
       "      <td>NaN</td>\n",
       "      <td>NaN</td>\n",
       "      <td>NaN</td>\n",
       "      <td>NaN</td>\n",
       "      <td>NaN</td>\n",
       "    </tr>\n",
       "    <tr>\n",
       "      <th>min</th>\n",
       "      <td>1.002890e+09</td>\n",
       "      <td>0.000000e+00</td>\n",
       "      <td>0.000000e+00</td>\n",
       "      <td>0.000000e+00</td>\n",
       "      <td>0.000000e+00</td>\n",
       "      <td>0.000000e+00</td>\n",
       "      <td>1.000000e+00</td>\n",
       "      <td>0.000000e+00</td>\n",
       "      <td>0.000000e+00</td>\n",
       "      <td>0.000000e+00</td>\n",
       "      <td>...</td>\n",
       "      <td>NaN</td>\n",
       "      <td>NaN</td>\n",
       "      <td>NaN</td>\n",
       "      <td>NaN</td>\n",
       "      <td>NaN</td>\n",
       "      <td>NaN</td>\n",
       "      <td>NaN</td>\n",
       "      <td>NaN</td>\n",
       "      <td>NaN</td>\n",
       "      <td>NaN</td>\n",
       "    </tr>\n",
       "    <tr>\n",
       "      <th>25%</th>\n",
       "      <td>5.088268e+09</td>\n",
       "      <td>2.000000e+01</td>\n",
       "      <td>7.830000e+03</td>\n",
       "      <td>0.000000e+00</td>\n",
       "      <td>0.000000e+00</td>\n",
       "      <td>2.015093e+07</td>\n",
       "      <td>1.900000e+01</td>\n",
       "      <td>9.000000e+00</td>\n",
       "      <td>6.000000e+00</td>\n",
       "      <td>3.454490e+05</td>\n",
       "      <td>...</td>\n",
       "      <td>NaN</td>\n",
       "      <td>NaN</td>\n",
       "      <td>NaN</td>\n",
       "      <td>NaN</td>\n",
       "      <td>NaN</td>\n",
       "      <td>NaN</td>\n",
       "      <td>NaN</td>\n",
       "      <td>NaN</td>\n",
       "      <td>NaN</td>\n",
       "      <td>NaN</td>\n",
       "    </tr>\n",
       "    <tr>\n",
       "      <th>50%</th>\n",
       "      <td>7.497980e+09</td>\n",
       "      <td>3.600000e+01</td>\n",
       "      <td>1.849000e+04</td>\n",
       "      <td>1.451000e+04</td>\n",
       "      <td>1.488000e+04</td>\n",
       "      <td>2.016091e+07</td>\n",
       "      <td>4.900000e+01</td>\n",
       "      <td>3.300000e+01</td>\n",
       "      <td>2.800000e+01</td>\n",
       "      <td>3.573380e+05</td>\n",
       "      <td>...</td>\n",
       "      <td>NaN</td>\n",
       "      <td>NaN</td>\n",
       "      <td>NaN</td>\n",
       "      <td>NaN</td>\n",
       "      <td>NaN</td>\n",
       "      <td>NaN</td>\n",
       "      <td>NaN</td>\n",
       "      <td>NaN</td>\n",
       "      <td>NaN</td>\n",
       "      <td>NaN</td>\n",
       "    </tr>\n",
       "    <tr>\n",
       "      <th>75%</th>\n",
       "      <td>8.026645e+09</td>\n",
       "      <td>4.000000e+01</td>\n",
       "      <td>3.555000e+04</td>\n",
       "      <td>3.423000e+04</td>\n",
       "      <td>3.437000e+04</td>\n",
       "      <td>2.017073e+07</td>\n",
       "      <td>8.800000e+01</td>\n",
       "      <td>7.800000e+01</td>\n",
       "      <td>7.800000e+01</td>\n",
       "      <td>3.618890e+05</td>\n",
       "      <td>...</td>\n",
       "      <td>NaN</td>\n",
       "      <td>NaN</td>\n",
       "      <td>NaN</td>\n",
       "      <td>NaN</td>\n",
       "      <td>NaN</td>\n",
       "      <td>NaN</td>\n",
       "      <td>NaN</td>\n",
       "      <td>NaN</td>\n",
       "      <td>NaN</td>\n",
       "      <td>NaN</td>\n",
       "    </tr>\n",
       "    <tr>\n",
       "      <th>max</th>\n",
       "      <td>8.470901e+09</td>\n",
       "      <td>9.900000e+01</td>\n",
       "      <td>9.826000e+04</td>\n",
       "      <td>9.831000e+04</td>\n",
       "      <td>9.828000e+04</td>\n",
       "      <td>8.888889e+07</td>\n",
       "      <td>9.900000e+02</td>\n",
       "      <td>9.900000e+02</td>\n",
       "      <td>9.990000e+02</td>\n",
       "      <td>9.999860e+05</td>\n",
       "      <td>...</td>\n",
       "      <td>NaN</td>\n",
       "      <td>NaN</td>\n",
       "      <td>NaN</td>\n",
       "      <td>NaN</td>\n",
       "      <td>NaN</td>\n",
       "      <td>NaN</td>\n",
       "      <td>NaN</td>\n",
       "      <td>NaN</td>\n",
       "      <td>NaN</td>\n",
       "      <td>NaN</td>\n",
       "    </tr>\n",
       "  </tbody>\n",
       "</table>\n",
       "<p>8 rows × 25 columns</p>\n",
       "</div>"
      ],
      "text/plain": [
       "       Summons Number  Violation Code  Street Code1  Street Code2  \\\n",
       "count    1.062690e+07    1.062690e+07  1.062690e+07  1.062690e+07   \n",
       "mean     6.528467e+09    3.477333e+01  2.451093e+04  2.077949e+04   \n",
       "std      2.138312e+09    1.923122e+01  2.233289e+04  2.168472e+04   \n",
       "min      1.002890e+09    0.000000e+00  0.000000e+00  0.000000e+00   \n",
       "25%      5.088268e+09    2.000000e+01  7.830000e+03  0.000000e+00   \n",
       "50%      7.497980e+09    3.600000e+01  1.849000e+04  1.451000e+04   \n",
       "75%      8.026645e+09    4.000000e+01  3.555000e+04  3.423000e+04   \n",
       "max      8.470901e+09    9.900000e+01  9.826000e+04  9.831000e+04   \n",
       "\n",
       "       Street Code3  Vehicle Expiration Date  Violation Location  \\\n",
       "count  1.062690e+07             1.062690e+07        8.758243e+06   \n",
       "mean   2.105112e+04             2.557483e+07        5.500073e+01   \n",
       "std    2.184546e+04             2.677891e+07        3.800069e+01   \n",
       "min    0.000000e+00             0.000000e+00        1.000000e+00   \n",
       "25%    0.000000e+00             2.015093e+07        1.900000e+01   \n",
       "50%    1.488000e+04             2.016091e+07        4.900000e+01   \n",
       "75%    3.437000e+04             2.017073e+07        8.800000e+01   \n",
       "max    9.828000e+04             8.888889e+07        9.900000e+02   \n",
       "\n",
       "       Violation Precinct  Issuer Precinct   Issuer Code  ...  \\\n",
       "count        1.062690e+07     1.062690e+07  1.062690e+07  ...   \n",
       "mean         4.532929e+01     4.752599e+01  3.444605e+05  ...   \n",
       "std          4.035501e+01     6.167253e+01  2.253115e+05  ...   \n",
       "min          0.000000e+00     0.000000e+00  0.000000e+00  ...   \n",
       "25%          9.000000e+00     6.000000e+00  3.454490e+05  ...   \n",
       "50%          3.300000e+01     2.800000e+01  3.573380e+05  ...   \n",
       "75%          7.800000e+01     7.800000e+01  3.618890e+05  ...   \n",
       "max          9.900000e+02     9.990000e+02  9.999860e+05  ...   \n",
       "\n",
       "       Hydrant Violation  Double Parking Violation  Latitude  Longitude  \\\n",
       "count                0.0                       0.0       0.0        0.0   \n",
       "mean                 NaN                       NaN       NaN        NaN   \n",
       "std                  NaN                       NaN       NaN        NaN   \n",
       "min                  NaN                       NaN       NaN        NaN   \n",
       "25%                  NaN                       NaN       NaN        NaN   \n",
       "50%                  NaN                       NaN       NaN        NaN   \n",
       "75%                  NaN                       NaN       NaN        NaN   \n",
       "max                  NaN                       NaN       NaN        NaN   \n",
       "\n",
       "       Community Board  Community Council   Census Tract  BIN  BBL  NTA  \n",
       "count              0.0                 0.0           0.0  0.0  0.0  0.0  \n",
       "mean               NaN                 NaN           NaN  NaN  NaN  NaN  \n",
       "std                NaN                 NaN           NaN  NaN  NaN  NaN  \n",
       "min                NaN                 NaN           NaN  NaN  NaN  NaN  \n",
       "25%                NaN                 NaN           NaN  NaN  NaN  NaN  \n",
       "50%                NaN                 NaN           NaN  NaN  NaN  NaN  \n",
       "75%                NaN                 NaN           NaN  NaN  NaN  NaN  \n",
       "max                NaN                 NaN           NaN  NaN  NaN  NaN  \n",
       "\n",
       "[8 rows x 25 columns]"
      ]
     },
     "execution_count": 286,
     "metadata": {},
     "output_type": "execute_result"
    }
   ],
   "source": [
    "nyc_parking_2016.describe()"
   ]
  },
  {
   "cell_type": "code",
   "execution_count": 287,
   "metadata": {},
   "outputs": [
    {
     "data": {
      "text/html": [
       "<div>\n",
       "<style scoped>\n",
       "    .dataframe tbody tr th:only-of-type {\n",
       "        vertical-align: middle;\n",
       "    }\n",
       "\n",
       "    .dataframe tbody tr th {\n",
       "        vertical-align: top;\n",
       "    }\n",
       "\n",
       "    .dataframe thead th {\n",
       "        text-align: right;\n",
       "    }\n",
       "</style>\n",
       "<table border=\"1\" class=\"dataframe\">\n",
       "  <thead>\n",
       "    <tr style=\"text-align: right;\">\n",
       "      <th></th>\n",
       "      <th>Summons Number</th>\n",
       "      <th>Violation Code</th>\n",
       "      <th>Street Code1</th>\n",
       "      <th>Street Code2</th>\n",
       "      <th>Street Code3</th>\n",
       "      <th>Vehicle Expiration Date</th>\n",
       "      <th>Violation Location</th>\n",
       "      <th>Violation Precinct</th>\n",
       "      <th>Issuer Precinct</th>\n",
       "      <th>Issuer Code</th>\n",
       "      <th>Date First Observed</th>\n",
       "      <th>Law Section</th>\n",
       "      <th>Unregistered Vehicle?</th>\n",
       "      <th>Vehicle Year</th>\n",
       "      <th>Feet From Curb</th>\n",
       "      <th>No Standing or Stopping Violation</th>\n",
       "      <th>Hydrant Violation</th>\n",
       "      <th>Double Parking Violation</th>\n",
       "    </tr>\n",
       "  </thead>\n",
       "  <tbody>\n",
       "    <tr>\n",
       "      <th>count</th>\n",
       "      <td>1.080303e+07</td>\n",
       "      <td>1.080303e+07</td>\n",
       "      <td>1.080303e+07</td>\n",
       "      <td>1.080303e+07</td>\n",
       "      <td>1.080303e+07</td>\n",
       "      <td>1.080303e+07</td>\n",
       "      <td>8.730628e+06</td>\n",
       "      <td>1.080303e+07</td>\n",
       "      <td>1.080303e+07</td>\n",
       "      <td>1.080303e+07</td>\n",
       "      <td>1.080303e+07</td>\n",
       "      <td>1.080303e+07</td>\n",
       "      <td>1127596.0</td>\n",
       "      <td>1.080303e+07</td>\n",
       "      <td>1.080303e+07</td>\n",
       "      <td>0.0</td>\n",
       "      <td>0.0</td>\n",
       "      <td>0.0</td>\n",
       "    </tr>\n",
       "    <tr>\n",
       "      <th>mean</th>\n",
       "      <td>6.817447e+09</td>\n",
       "      <td>3.459943e+01</td>\n",
       "      <td>2.386658e+04</td>\n",
       "      <td>2.031056e+04</td>\n",
       "      <td>2.034464e+04</td>\n",
       "      <td>2.443571e+07</td>\n",
       "      <td>5.569676e+01</td>\n",
       "      <td>4.501216e+01</td>\n",
       "      <td>4.682931e+01</td>\n",
       "      <td>3.367644e+05</td>\n",
       "      <td>4.508346e+05</td>\n",
       "      <td>5.511725e+02</td>\n",
       "      <td>0.0</td>\n",
       "      <td>1.578155e+03</td>\n",
       "      <td>1.200056e-01</td>\n",
       "      <td>NaN</td>\n",
       "      <td>NaN</td>\n",
       "      <td>NaN</td>\n",
       "    </tr>\n",
       "    <tr>\n",
       "      <th>std</th>\n",
       "      <td>2.320234e+09</td>\n",
       "      <td>1.935987e+01</td>\n",
       "      <td>2.266690e+04</td>\n",
       "      <td>2.194577e+04</td>\n",
       "      <td>2.201347e+04</td>\n",
       "      <td>2.604802e+07</td>\n",
       "      <td>3.794433e+01</td>\n",
       "      <td>4.055256e+01</td>\n",
       "      <td>6.266704e+01</td>\n",
       "      <td>2.253806e+05</td>\n",
       "      <td>2.981223e+06</td>\n",
       "      <td>2.950681e+02</td>\n",
       "      <td>0.0</td>\n",
       "      <td>8.255067e+02</td>\n",
       "      <td>8.288494e-01</td>\n",
       "      <td>NaN</td>\n",
       "      <td>NaN</td>\n",
       "      <td>NaN</td>\n",
       "    </tr>\n",
       "    <tr>\n",
       "      <th>min</th>\n",
       "      <td>1.002885e+09</td>\n",
       "      <td>0.000000e+00</td>\n",
       "      <td>0.000000e+00</td>\n",
       "      <td>0.000000e+00</td>\n",
       "      <td>0.000000e+00</td>\n",
       "      <td>0.000000e+00</td>\n",
       "      <td>1.000000e+00</td>\n",
       "      <td>0.000000e+00</td>\n",
       "      <td>0.000000e+00</td>\n",
       "      <td>0.000000e+00</td>\n",
       "      <td>0.000000e+00</td>\n",
       "      <td>0.000000e+00</td>\n",
       "      <td>0.0</td>\n",
       "      <td>0.000000e+00</td>\n",
       "      <td>0.000000e+00</td>\n",
       "      <td>NaN</td>\n",
       "      <td>NaN</td>\n",
       "      <td>NaN</td>\n",
       "    </tr>\n",
       "    <tr>\n",
       "      <th>25%</th>\n",
       "      <td>5.092096e+09</td>\n",
       "      <td>2.000000e+01</td>\n",
       "      <td>5.580000e+03</td>\n",
       "      <td>0.000000e+00</td>\n",
       "      <td>0.000000e+00</td>\n",
       "      <td>2.016072e+07</td>\n",
       "      <td>1.900000e+01</td>\n",
       "      <td>7.000000e+00</td>\n",
       "      <td>1.000000e+00</td>\n",
       "      <td>3.452390e+05</td>\n",
       "      <td>0.000000e+00</td>\n",
       "      <td>4.080000e+02</td>\n",
       "      <td>0.0</td>\n",
       "      <td>1.999000e+03</td>\n",
       "      <td>0.000000e+00</td>\n",
       "      <td>NaN</td>\n",
       "      <td>NaN</td>\n",
       "      <td>NaN</td>\n",
       "    </tr>\n",
       "    <tr>\n",
       "      <th>50%</th>\n",
       "      <td>8.108004e+09</td>\n",
       "      <td>3.600000e+01</td>\n",
       "      <td>1.809000e+04</td>\n",
       "      <td>1.382000e+04</td>\n",
       "      <td>1.383000e+04</td>\n",
       "      <td>2.017083e+07</td>\n",
       "      <td>5.000000e+01</td>\n",
       "      <td>3.300000e+01</td>\n",
       "      <td>2.800000e+01</td>\n",
       "      <td>3.581730e+05</td>\n",
       "      <td>0.000000e+00</td>\n",
       "      <td>4.080000e+02</td>\n",
       "      <td>0.0</td>\n",
       "      <td>2.008000e+03</td>\n",
       "      <td>0.000000e+00</td>\n",
       "      <td>NaN</td>\n",
       "      <td>NaN</td>\n",
       "      <td>NaN</td>\n",
       "    </tr>\n",
       "    <tr>\n",
       "      <th>75%</th>\n",
       "      <td>8.485854e+09</td>\n",
       "      <td>4.000000e+01</td>\n",
       "      <td>3.548000e+04</td>\n",
       "      <td>3.373000e+04</td>\n",
       "      <td>3.397000e+04</td>\n",
       "      <td>2.018072e+07</td>\n",
       "      <td>9.000000e+01</td>\n",
       "      <td>7.800000e+01</td>\n",
       "      <td>7.800000e+01</td>\n",
       "      <td>3.631380e+05</td>\n",
       "      <td>0.000000e+00</td>\n",
       "      <td>4.080000e+02</td>\n",
       "      <td>0.0</td>\n",
       "      <td>2.014000e+03</td>\n",
       "      <td>0.000000e+00</td>\n",
       "      <td>NaN</td>\n",
       "      <td>NaN</td>\n",
       "      <td>NaN</td>\n",
       "    </tr>\n",
       "    <tr>\n",
       "      <th>max</th>\n",
       "      <td>8.585600e+09</td>\n",
       "      <td>9.900000e+01</td>\n",
       "      <td>9.802000e+04</td>\n",
       "      <td>9.831000e+04</td>\n",
       "      <td>9.828000e+04</td>\n",
       "      <td>8.888889e+07</td>\n",
       "      <td>9.330000e+02</td>\n",
       "      <td>9.330000e+02</td>\n",
       "      <td>9.970000e+02</td>\n",
       "      <td>9.999920e+05</td>\n",
       "      <td>2.022061e+07</td>\n",
       "      <td>6.408000e+03</td>\n",
       "      <td>0.0</td>\n",
       "      <td>2.069000e+03</td>\n",
       "      <td>1.600000e+01</td>\n",
       "      <td>NaN</td>\n",
       "      <td>NaN</td>\n",
       "      <td>NaN</td>\n",
       "    </tr>\n",
       "  </tbody>\n",
       "</table>\n",
       "</div>"
      ],
      "text/plain": [
       "       Summons Number  Violation Code  Street Code1  Street Code2  \\\n",
       "count    1.080303e+07    1.080303e+07  1.080303e+07  1.080303e+07   \n",
       "mean     6.817447e+09    3.459943e+01  2.386658e+04  2.031056e+04   \n",
       "std      2.320234e+09    1.935987e+01  2.266690e+04  2.194577e+04   \n",
       "min      1.002885e+09    0.000000e+00  0.000000e+00  0.000000e+00   \n",
       "25%      5.092096e+09    2.000000e+01  5.580000e+03  0.000000e+00   \n",
       "50%      8.108004e+09    3.600000e+01  1.809000e+04  1.382000e+04   \n",
       "75%      8.485854e+09    4.000000e+01  3.548000e+04  3.373000e+04   \n",
       "max      8.585600e+09    9.900000e+01  9.802000e+04  9.831000e+04   \n",
       "\n",
       "       Street Code3  Vehicle Expiration Date  Violation Location  \\\n",
       "count  1.080303e+07             1.080303e+07        8.730628e+06   \n",
       "mean   2.034464e+04             2.443571e+07        5.569676e+01   \n",
       "std    2.201347e+04             2.604802e+07        3.794433e+01   \n",
       "min    0.000000e+00             0.000000e+00        1.000000e+00   \n",
       "25%    0.000000e+00             2.016072e+07        1.900000e+01   \n",
       "50%    1.383000e+04             2.017083e+07        5.000000e+01   \n",
       "75%    3.397000e+04             2.018072e+07        9.000000e+01   \n",
       "max    9.828000e+04             8.888889e+07        9.330000e+02   \n",
       "\n",
       "       Violation Precinct  Issuer Precinct   Issuer Code  Date First Observed  \\\n",
       "count        1.080303e+07     1.080303e+07  1.080303e+07         1.080303e+07   \n",
       "mean         4.501216e+01     4.682931e+01  3.367644e+05         4.508346e+05   \n",
       "std          4.055256e+01     6.266704e+01  2.253806e+05         2.981223e+06   \n",
       "min          0.000000e+00     0.000000e+00  0.000000e+00         0.000000e+00   \n",
       "25%          7.000000e+00     1.000000e+00  3.452390e+05         0.000000e+00   \n",
       "50%          3.300000e+01     2.800000e+01  3.581730e+05         0.000000e+00   \n",
       "75%          7.800000e+01     7.800000e+01  3.631380e+05         0.000000e+00   \n",
       "max          9.330000e+02     9.970000e+02  9.999920e+05         2.022061e+07   \n",
       "\n",
       "        Law Section  Unregistered Vehicle?  Vehicle Year  Feet From Curb  \\\n",
       "count  1.080303e+07              1127596.0  1.080303e+07    1.080303e+07   \n",
       "mean   5.511725e+02                    0.0  1.578155e+03    1.200056e-01   \n",
       "std    2.950681e+02                    0.0  8.255067e+02    8.288494e-01   \n",
       "min    0.000000e+00                    0.0  0.000000e+00    0.000000e+00   \n",
       "25%    4.080000e+02                    0.0  1.999000e+03    0.000000e+00   \n",
       "50%    4.080000e+02                    0.0  2.008000e+03    0.000000e+00   \n",
       "75%    4.080000e+02                    0.0  2.014000e+03    0.000000e+00   \n",
       "max    6.408000e+03                    0.0  2.069000e+03    1.600000e+01   \n",
       "\n",
       "       No Standing or Stopping Violation  Hydrant Violation  \\\n",
       "count                                0.0                0.0   \n",
       "mean                                 NaN                NaN   \n",
       "std                                  NaN                NaN   \n",
       "min                                  NaN                NaN   \n",
       "25%                                  NaN                NaN   \n",
       "50%                                  NaN                NaN   \n",
       "75%                                  NaN                NaN   \n",
       "max                                  NaN                NaN   \n",
       "\n",
       "       Double Parking Violation  \n",
       "count                       0.0  \n",
       "mean                        NaN  \n",
       "std                         NaN  \n",
       "min                         NaN  \n",
       "25%                         NaN  \n",
       "50%                         NaN  \n",
       "75%                         NaN  \n",
       "max                         NaN  "
      ]
     },
     "execution_count": 287,
     "metadata": {},
     "output_type": "execute_result"
    }
   ],
   "source": [
    "nyc_parking_2017.describe()"
   ]
  },
  {
   "cell_type": "code",
   "execution_count": 288,
   "metadata": {},
   "outputs": [
    {
     "data": {
      "text/html": [
       "<div>\n",
       "<style scoped>\n",
       "    .dataframe tbody tr th:only-of-type {\n",
       "        vertical-align: middle;\n",
       "    }\n",
       "\n",
       "    .dataframe tbody tr th {\n",
       "        vertical-align: top;\n",
       "    }\n",
       "\n",
       "    .dataframe thead th {\n",
       "        text-align: right;\n",
       "    }\n",
       "</style>\n",
       "<table border=\"1\" class=\"dataframe\">\n",
       "  <thead>\n",
       "    <tr style=\"text-align: right;\">\n",
       "      <th></th>\n",
       "      <th>CODE</th>\n",
       "      <th>MANHATTAN_96_AND_BELOW</th>\n",
       "      <th>ALL_OTHER_AREAS</th>\n",
       "    </tr>\n",
       "  </thead>\n",
       "  <tbody>\n",
       "    <tr>\n",
       "      <th>count</th>\n",
       "      <td>86.000000</td>\n",
       "      <td>86.000000</td>\n",
       "      <td>86.000000</td>\n",
       "    </tr>\n",
       "    <tr>\n",
       "      <th>mean</th>\n",
       "      <td>50.453488</td>\n",
       "      <td>89.709302</td>\n",
       "      <td>83.430233</td>\n",
       "    </tr>\n",
       "    <tr>\n",
       "      <th>std</th>\n",
       "      <td>27.576911</td>\n",
       "      <td>34.139460</td>\n",
       "      <td>42.573546</td>\n",
       "    </tr>\n",
       "    <tr>\n",
       "      <th>min</th>\n",
       "      <td>4.000000</td>\n",
       "      <td>0.000000</td>\n",
       "      <td>0.000000</td>\n",
       "    </tr>\n",
       "    <tr>\n",
       "      <th>25%</th>\n",
       "      <td>26.250000</td>\n",
       "      <td>65.000000</td>\n",
       "      <td>45.000000</td>\n",
       "    </tr>\n",
       "    <tr>\n",
       "      <th>50%</th>\n",
       "      <td>50.500000</td>\n",
       "      <td>95.000000</td>\n",
       "      <td>80.000000</td>\n",
       "    </tr>\n",
       "    <tr>\n",
       "      <th>75%</th>\n",
       "      <td>72.750000</td>\n",
       "      <td>115.000000</td>\n",
       "      <td>115.000000</td>\n",
       "    </tr>\n",
       "    <tr>\n",
       "      <th>max</th>\n",
       "      <td>99.000000</td>\n",
       "      <td>265.000000</td>\n",
       "      <td>265.000000</td>\n",
       "    </tr>\n",
       "  </tbody>\n",
       "</table>\n",
       "</div>"
      ],
      "text/plain": [
       "            CODE  MANHATTAN_96_AND_BELOW  ALL_OTHER_AREAS\n",
       "count  86.000000               86.000000        86.000000\n",
       "mean   50.453488               89.709302        83.430233\n",
       "std    27.576911               34.139460        42.573546\n",
       "min     4.000000                0.000000         0.000000\n",
       "25%    26.250000               65.000000        45.000000\n",
       "50%    50.500000               95.000000        80.000000\n",
       "75%    72.750000              115.000000       115.000000\n",
       "max    99.000000              265.000000       265.000000"
      ]
     },
     "execution_count": 288,
     "metadata": {},
     "output_type": "execute_result"
    }
   ],
   "source": [
    "violation_codes.describe()"
   ]
  },
  {
   "cell_type": "code",
   "execution_count": 289,
   "metadata": {},
   "outputs": [
    {
     "data": {
      "text/html": [
       "<div>\n",
       "<style scoped>\n",
       "    .dataframe tbody tr th:only-of-type {\n",
       "        vertical-align: middle;\n",
       "    }\n",
       "\n",
       "    .dataframe tbody tr th {\n",
       "        vertical-align: top;\n",
       "    }\n",
       "\n",
       "    .dataframe thead th {\n",
       "        text-align: right;\n",
       "    }\n",
       "</style>\n",
       "<table border=\"1\" class=\"dataframe\">\n",
       "  <thead>\n",
       "    <tr style=\"text-align: right;\">\n",
       "      <th></th>\n",
       "      <th>Violation Precinct</th>\n",
       "    </tr>\n",
       "  </thead>\n",
       "  <tbody>\n",
       "    <tr>\n",
       "      <th>count</th>\n",
       "      <td>77.000000</td>\n",
       "    </tr>\n",
       "    <tr>\n",
       "      <th>mean</th>\n",
       "      <td>63.324675</td>\n",
       "    </tr>\n",
       "    <tr>\n",
       "      <th>std</th>\n",
       "      <td>36.118388</td>\n",
       "    </tr>\n",
       "    <tr>\n",
       "      <th>min</th>\n",
       "      <td>1.000000</td>\n",
       "    </tr>\n",
       "    <tr>\n",
       "      <th>25%</th>\n",
       "      <td>32.000000</td>\n",
       "    </tr>\n",
       "    <tr>\n",
       "      <th>50%</th>\n",
       "      <td>66.000000</td>\n",
       "    </tr>\n",
       "    <tr>\n",
       "      <th>75%</th>\n",
       "      <td>100.000000</td>\n",
       "    </tr>\n",
       "    <tr>\n",
       "      <th>max</th>\n",
       "      <td>123.000000</td>\n",
       "    </tr>\n",
       "  </tbody>\n",
       "</table>\n",
       "</div>"
      ],
      "text/plain": [
       "       Violation Precinct\n",
       "count           77.000000\n",
       "mean            63.324675\n",
       "std             36.118388\n",
       "min              1.000000\n",
       "25%             32.000000\n",
       "50%             66.000000\n",
       "75%            100.000000\n",
       "max            123.000000"
      ]
     },
     "execution_count": 289,
     "metadata": {},
     "output_type": "execute_result"
    }
   ],
   "source": [
    "nyc_precincts_df.describe()"
   ]
  },
  {
   "cell_type": "code",
   "execution_count": 290,
   "metadata": {},
   "outputs": [
    {
     "data": {
      "image/png": "[encoded data removed]",
      "text/plain": [
       "<Figure size 1080x1008 with 1 Axes>"
      ]
     },
     "metadata": {
      "needs_background": "light"
     },
     "output_type": "display_data"
    }
   ],
   "source": [
    "#Barplot of Registration State\n",
    "\n",
    "reg_states = nyc_parking_2016['Registration State'].value_counts().index\n",
    "plate_counts = nyc_parking_2016['Registration State'].value_counts()\n",
    "states_count = np.arange(len(reg_states))\n",
    "\n",
    "fig = plt.figure(figsize=(15,14))\n",
    "\n",
    "plt.barh(states_count, plate_counts)\n",
    "plt.yticks(states_count, reg_states)\n",
    "plt.xlabel('Number of Registered Plate in Each State')\n",
    "plt.ylabel('States');"
   ]
  },
  {
   "cell_type": "code",
   "execution_count": 291,
   "metadata": {},
   "outputs": [
    {
     "data": {
      "text/plain": [
       "0    Jul\n",
       "1    Jul\n",
       "2    Jul\n",
       "3    Jul\n",
       "4    Jul\n",
       "Name: Month, dtype: object"
      ]
     },
     "execution_count": 291,
     "metadata": {},
     "output_type": "execute_result"
    }
   ],
   "source": [
    "#df['Month'] = df['Issue Date'].dt.month\n",
    "nyc_parking_2016['Month'] = nyc_parking_2016['Issue Date'].dt.strftime('%b')\n",
    "nyc_parking_2016['Month'].head()"
   ]
  },
  {
   "cell_type": "code",
   "execution_count": 292,
   "metadata": {},
   "outputs": [
    {
     "data": {
      "text/plain": [
       "array(['Jul', 'Jun', 'May', 'Jan', 'Feb', 'Mar', 'Nov', 'Apr', 'Dec',\n",
       "       'Aug', 'Sep', 'Oct'], dtype=object)"
      ]
     },
     "execution_count": 292,
     "metadata": {},
     "output_type": "execute_result"
    }
   ],
   "source": [
    "nyc_parking_2016['Month'].unique()"
   ]
  },
  {
   "cell_type": "code",
   "execution_count": 293,
   "metadata": {},
   "outputs": [
    {
     "data": {
      "text/html": [
       "<div>\n",
       "<style scoped>\n",
       "    .dataframe tbody tr th:only-of-type {\n",
       "        vertical-align: middle;\n",
       "    }\n",
       "\n",
       "    .dataframe tbody tr th {\n",
       "        vertical-align: top;\n",
       "    }\n",
       "\n",
       "    .dataframe thead th {\n",
       "        text-align: right;\n",
       "    }\n",
       "</style>\n",
       "<table border=\"1\" class=\"dataframe\">\n",
       "  <thead>\n",
       "    <tr style=\"text-align: right;\">\n",
       "      <th></th>\n",
       "      <th>Month</th>\n",
       "      <th>Number of Tickets in Each Month</th>\n",
       "    </tr>\n",
       "  </thead>\n",
       "  <tbody>\n",
       "    <tr>\n",
       "      <th>0</th>\n",
       "      <td>Apr</td>\n",
       "      <td>901106</td>\n",
       "    </tr>\n",
       "    <tr>\n",
       "      <th>1</th>\n",
       "      <td>Aug</td>\n",
       "      <td>902927</td>\n",
       "    </tr>\n",
       "    <tr>\n",
       "      <th>2</th>\n",
       "      <td>Dec</td>\n",
       "      <td>767448</td>\n",
       "    </tr>\n",
       "    <tr>\n",
       "      <th>3</th>\n",
       "      <td>Feb</td>\n",
       "      <td>840819</td>\n",
       "    </tr>\n",
       "    <tr>\n",
       "      <th>4</th>\n",
       "      <td>Jan</td>\n",
       "      <td>815755</td>\n",
       "    </tr>\n",
       "    <tr>\n",
       "      <th>5</th>\n",
       "      <td>Jul</td>\n",
       "      <td>885204</td>\n",
       "    </tr>\n",
       "    <tr>\n",
       "      <th>6</th>\n",
       "      <td>Jun</td>\n",
       "      <td>649362</td>\n",
       "    </tr>\n",
       "    <tr>\n",
       "      <th>7</th>\n",
       "      <td>Mar</td>\n",
       "      <td>1014322</td>\n",
       "    </tr>\n",
       "    <tr>\n",
       "      <th>8</th>\n",
       "      <td>May</td>\n",
       "      <td>875085</td>\n",
       "    </tr>\n",
       "    <tr>\n",
       "      <th>9</th>\n",
       "      <td>Nov</td>\n",
       "      <td>935684</td>\n",
       "    </tr>\n",
       "    <tr>\n",
       "      <th>10</th>\n",
       "      <td>Oct</td>\n",
       "      <td>1097216</td>\n",
       "    </tr>\n",
       "    <tr>\n",
       "      <th>11</th>\n",
       "      <td>Sep</td>\n",
       "      <td>939807</td>\n",
       "    </tr>\n",
       "  </tbody>\n",
       "</table>\n",
       "</div>"
      ],
      "text/plain": [
       "   Month  Number of Tickets in Each Month\n",
       "0    Apr                           901106\n",
       "1    Aug                           902927\n",
       "2    Dec                           767448\n",
       "3    Feb                           840819\n",
       "4    Jan                           815755\n",
       "5    Jul                           885204\n",
       "6    Jun                           649362\n",
       "7    Mar                          1014322\n",
       "8    May                           875085\n",
       "9    Nov                           935684\n",
       "10   Oct                          1097216\n",
       "11   Sep                           939807"
      ]
     },
     "execution_count": 293,
     "metadata": {},
     "output_type": "execute_result"
    }
   ],
   "source": [
    "ticket_per_month = nyc_parking_2016.groupby(['Month'])['Plate ID'].count()\n",
    "ticket_per_month = ticket_per_month.to_frame().reset_index()\n",
    "ticket_per_month = ticket_per_month.rename(columns={'Plate ID': 'Number of Tickets in Each Month'})\n",
    "ticket_per_month "
   ]
  },
  {
   "cell_type": "code",
   "execution_count": 294,
   "metadata": {},
   "outputs": [],
   "source": [
    "Months = ['Jan', 'Feb', 'Mar', 'Apr', 'May', 'Jun', 'Jul', 'Aug', 'Sep', 'Oct', 'Nov', 'Dec']"
   ]
  },
  {
   "cell_type": "code",
   "execution_count": 295,
   "metadata": {},
   "outputs": [
    {
     "data": {
      "image/png": "[encoded data removed]",
      "text/plain": [
       "<Figure size 864x576 with 1 Axes>"
      ]
     },
     "metadata": {
      "needs_background": "light"
     },
     "output_type": "display_data"
    }
   ],
   "source": [
    "plt.figure(figsize=(12,8))\n",
    "sns.barplot(x = Months, y = ticket_per_month['Number of Tickets in Each Month'], alpha=0.6)\n",
    "plt.title(\"Number of Parking Ticket Given Each Month\", fontsize=16)\n",
    "plt.xlabel(\"Month\", fontsize=16)\n",
    "plt.ylabel(\"Number of Ticketed Plates\", fontsize=16)\n",
    "plt.show();"
   ]
  },
  {
   "cell_type": "code",
   "execution_count": 296,
   "metadata": {},
   "outputs": [
    {
     "data": {
      "text/plain": [
       "array([46, 21, 75, 71, 41, 70, 20, 38, 37, 40, 74, 18, 68, 98, 67, 14, 51,\n",
       "       24, 66, 80, 19, 10, 62, 78, 16, 61, 91, 50, 48, 27, 56, 53, 17, 45,\n",
       "       97, 92,  9, 63, 96, 60, 99, 26, 31, 34, 73, 83, 39, 82, 15, 85, 52,\n",
       "       47, 65, 72, 76, 13,  4, 69, 42, 88,  8, 86, 77, 95, 84, 23, 35, 43,\n",
       "       49, 11, 79, 89, 33, 81, 22, 55, 59,  5, 90,  6, 64,  3, 87,  2, 29,\n",
       "       36,  7, 94,  0, 32, 30,  1, 25, 12, 44, 28, 58, 93, 57, 54])"
      ]
     },
     "execution_count": 296,
     "metadata": {},
     "output_type": "execute_result"
    }
   ],
   "source": [
    "nyc_parking_2016['Violation Code'].unique()"
   ]
  },
  {
   "cell_type": "code",
   "execution_count": 297,
   "metadata": {},
   "outputs": [
    {
     "data": {
      "image/png": "[encoded data removed]",
      "text/plain": [
       "<Figure size 1152x576 with 1 Axes>"
      ]
     },
     "metadata": {
      "needs_background": "light"
     },
     "output_type": "display_data"
    }
   ],
   "source": [
    "violation_counts = nyc_parking_2016['Violation Code'].value_counts().values\n",
    "violation_code = nyc_parking_2016['Violation Code'].unique()\n",
    "\n",
    "plt.figure(figsize=(16,8))\n",
    "f = sns.barplot(x = violation_code, y = violation_counts, alpha=0.6)\n",
    "\n",
    "f.set(xticks=np.arange(0,100, 5.0))\n",
    "plt.title(\"Number of Parking Tickets Given for Each Violation Code\", fontsize=16)\n",
    "plt.xlabel(\"Violation Code\", fontsize=16)\n",
    "plt.ylabel(\"Number of Ticketed Plates\", fontsize=16)\n",
    "plt.show();"
   ]
  },
  {
   "cell_type": "code",
   "execution_count": 298,
   "metadata": {},
   "outputs": [
    {
     "data": {
      "image/png": "[encoded data removed]",
      "text/plain": [
       "<Figure size 1440x576 with 1 Axes>"
      ]
     },
     "metadata": {
      "needs_background": "light"
     },
     "output_type": "display_data"
    }
   ],
   "source": [
    "plt.figure(figsize=(20,8))\n",
    "\n",
    "vehicle_year = nyc_parking_2016[['Vehicle Year', 'Plate ID']].loc[(nyc_parking_2016['Vehicle Year']>1985) \n",
    "                                    & (nyc_parking_2016['Vehicle Year'] <= 2016)]\n",
    "vehicle_year['Vehicle Year'] = vehicle_year['Vehicle Year'].astype(int)\n",
    "\n",
    "sns.countplot(x = 'Vehicle Year', data = vehicle_year)\n",
    "plt.title(\"Number of Parking Tickets Given Based on Vehicle Year\", fontsize=16)\n",
    "plt.xlabel(\"Vehicle Year\", fontsize=16)\n",
    "plt.ylabel(\"Number of Ticketed Vehicles\", fontsize=16)\n",
    "plt.xticks(rotation=45);"
   ]
  },
  {
   "cell_type": "code",
   "execution_count": 333,
   "metadata": {},
   "outputs": [
    {
     "data": {
      "text/plain": [
       "array([10., 12.,  8.,  9., 11., 13., 14., 15., 16., nan,  7.,  2., 19.,\n",
       "       20.,  1., 17., 18., 21., 23.,  6.,  0.,  3., 22.,  4.,  5.])"
      ]
     },
     "execution_count": 333,
     "metadata": {},
     "output_type": "execute_result"
    }
   ],
   "source": [
    "nyc_parking_2016['hour'] = nyc_parking_2016['Violation Time'].apply(lambda time: time[:2] + ':' + time[2:] if len(str(time)) == 5 else np.nan)\n",
    "nyc_parking_2016['hour'] = pd.to_datetime(nyc_parking_2016['hour'], errors='coerce').dt.hour\n",
    "nyc_parking_2016['hour'].unique()"
   ]
  },
  {
   "cell_type": "code",
   "execution_count": 334,
   "metadata": {},
   "outputs": [
    {
     "data": {
      "text/html": [
       "<div>\n",
       "<style scoped>\n",
       "    .dataframe tbody tr th:only-of-type {\n",
       "        vertical-align: middle;\n",
       "    }\n",
       "\n",
       "    .dataframe tbody tr th {\n",
       "        vertical-align: top;\n",
       "    }\n",
       "\n",
       "    .dataframe thead th {\n",
       "        text-align: right;\n",
       "    }\n",
       "</style>\n",
       "<table border=\"1\" class=\"dataframe\">\n",
       "  <thead>\n",
       "    <tr style=\"text-align: right;\">\n",
       "      <th></th>\n",
       "      <th>hour</th>\n",
       "      <th>Number of Tickets in Each Hour</th>\n",
       "    </tr>\n",
       "  </thead>\n",
       "  <tbody>\n",
       "    <tr>\n",
       "      <th>0</th>\n",
       "      <td>0.0</td>\n",
       "      <td>103951</td>\n",
       "    </tr>\n",
       "    <tr>\n",
       "      <th>1</th>\n",
       "      <td>1.0</td>\n",
       "      <td>93658</td>\n",
       "    </tr>\n",
       "    <tr>\n",
       "      <th>2</th>\n",
       "      <td>2.0</td>\n",
       "      <td>77535</td>\n",
       "    </tr>\n",
       "    <tr>\n",
       "      <th>3</th>\n",
       "      <td>3.0</td>\n",
       "      <td>61444</td>\n",
       "    </tr>\n",
       "    <tr>\n",
       "      <th>4</th>\n",
       "      <td>4.0</td>\n",
       "      <td>27883</td>\n",
       "    </tr>\n",
       "    <tr>\n",
       "      <th>5</th>\n",
       "      <td>5.0</td>\n",
       "      <td>90704</td>\n",
       "    </tr>\n",
       "    <tr>\n",
       "      <th>6</th>\n",
       "      <td>6.0</td>\n",
       "      <td>221311</td>\n",
       "    </tr>\n",
       "    <tr>\n",
       "      <th>7</th>\n",
       "      <td>7.0</td>\n",
       "      <td>548919</td>\n",
       "    </tr>\n",
       "    <tr>\n",
       "      <th>8</th>\n",
       "      <td>8.0</td>\n",
       "      <td>990400</td>\n",
       "    </tr>\n",
       "    <tr>\n",
       "      <th>9</th>\n",
       "      <td>9.0</td>\n",
       "      <td>1141968</td>\n",
       "    </tr>\n",
       "    <tr>\n",
       "      <th>10</th>\n",
       "      <td>10.0</td>\n",
       "      <td>958424</td>\n",
       "    </tr>\n",
       "    <tr>\n",
       "      <th>11</th>\n",
       "      <td>11.0</td>\n",
       "      <td>1146062</td>\n",
       "    </tr>\n",
       "    <tr>\n",
       "      <th>12</th>\n",
       "      <td>12.0</td>\n",
       "      <td>969981</td>\n",
       "    </tr>\n",
       "    <tr>\n",
       "      <th>13</th>\n",
       "      <td>13.0</td>\n",
       "      <td>1038666</td>\n",
       "    </tr>\n",
       "    <tr>\n",
       "      <th>14</th>\n",
       "      <td>14.0</td>\n",
       "      <td>878173</td>\n",
       "    </tr>\n",
       "    <tr>\n",
       "      <th>15</th>\n",
       "      <td>15.0</td>\n",
       "      <td>633180</td>\n",
       "    </tr>\n",
       "    <tr>\n",
       "      <th>16</th>\n",
       "      <td>16.0</td>\n",
       "      <td>558498</td>\n",
       "    </tr>\n",
       "    <tr>\n",
       "      <th>17</th>\n",
       "      <td>17.0</td>\n",
       "      <td>400285</td>\n",
       "    </tr>\n",
       "    <tr>\n",
       "      <th>18</th>\n",
       "      <td>18.0</td>\n",
       "      <td>219665</td>\n",
       "    </tr>\n",
       "    <tr>\n",
       "      <th>19</th>\n",
       "      <td>19.0</td>\n",
       "      <td>64253</td>\n",
       "    </tr>\n",
       "    <tr>\n",
       "      <th>20</th>\n",
       "      <td>20.0</td>\n",
       "      <td>112106</td>\n",
       "    </tr>\n",
       "    <tr>\n",
       "      <th>21</th>\n",
       "      <td>21.0</td>\n",
       "      <td>123213</td>\n",
       "    </tr>\n",
       "    <tr>\n",
       "      <th>22</th>\n",
       "      <td>22.0</td>\n",
       "      <td>90857</td>\n",
       "    </tr>\n",
       "    <tr>\n",
       "      <th>23</th>\n",
       "      <td>23.0</td>\n",
       "      <td>68993</td>\n",
       "    </tr>\n",
       "  </tbody>\n",
       "</table>\n",
       "</div>"
      ],
      "text/plain": [
       "    hour  Number of Tickets in Each Hour\n",
       "0    0.0                          103951\n",
       "1    1.0                           93658\n",
       "2    2.0                           77535\n",
       "3    3.0                           61444\n",
       "4    4.0                           27883\n",
       "5    5.0                           90704\n",
       "6    6.0                          221311\n",
       "7    7.0                          548919\n",
       "8    8.0                          990400\n",
       "9    9.0                         1141968\n",
       "10  10.0                          958424\n",
       "11  11.0                         1146062\n",
       "12  12.0                          969981\n",
       "13  13.0                         1038666\n",
       "14  14.0                          878173\n",
       "15  15.0                          633180\n",
       "16  16.0                          558498\n",
       "17  17.0                          400285\n",
       "18  18.0                          219665\n",
       "19  19.0                           64253\n",
       "20  20.0                          112106\n",
       "21  21.0                          123213\n",
       "22  22.0                           90857\n",
       "23  23.0                           68993"
      ]
     },
     "execution_count": 334,
     "metadata": {},
     "output_type": "execute_result"
    }
   ],
   "source": [
    "ticket_per_hour = nyc_parking_2016.groupby(['hour'])['Plate ID'].count()\n",
    "ticket_per_hour = ticket_per_hour.to_frame().reset_index()\n",
    "ticket_per_hour = ticket_per_hour.rename(columns={'Plate ID': 'Number of Tickets in Each Hour'})\n",
    "ticket_per_hour "
   ]
  },
  {
   "cell_type": "code",
   "execution_count": 335,
   "metadata": {},
   "outputs": [
    {
     "data": {
      "image/png": "[encoded data removed]",
      "text/plain": [
       "<Figure size 864x576 with 1 Axes>"
      ]
     },
     "metadata": {
      "needs_background": "light"
     },
     "output_type": "display_data"
    }
   ],
   "source": [
    "plt.figure(figsize=(12,8))\n",
    "sns.barplot(x = ticket_per_hour['hour'], y = ticket_per_hour['Number of Tickets in Each Hour'], alpha=0.6)\n",
    "plt.tick_params(labelbottom='on')\n",
    "plt.ylabel('Number of cars', fontsize=16);\n",
    "plt.xlabel('Hour', fontsize=16);\n",
    "plt.title('Parking Tickets given at different time of the day', fontsize=16);"
   ]
  },
  {
   "cell_type": "code",
   "execution_count": 311,
   "metadata": {},
   "outputs": [
    {
     "data": {
      "text/plain": [
       "array(['Kings County (Brooklyn)', nan, 'Queens County (Queens)',\n",
       "       'New York County (Manhattan)', 'Bronx County (The Bronx)',\n",
       "       'Richmond County (Staten Island)'], dtype=object)"
      ]
     },
     "execution_count": 311,
     "metadata": {},
     "output_type": "execute_result"
    }
   ],
   "source": [
    "nyc_parking_2016['Violation County'].unique()"
   ]
  },
  {
   "cell_type": "code",
   "execution_count": 309,
   "metadata": {},
   "outputs": [],
   "source": [
    "nyc_parking_2016['Violation County'] =  nyc_parking_2016['Violation County'].replace({'00000': 'New York County (Manhattan)', \n",
    "                                                                                       'BK': 'Bronx County (The Bronx)', \n",
    "                                                                                        'BRONX': 'Bronx County (The Bronx)', \n",
    "                                                                                        'BX': 'Bronx County (The Bronx)', \n",
    "                                                                                        'K': 'Kings County (Brooklyn)', \n",
    "                                                                                        'KING': 'Kings County (Brooklyn)', \n",
    "                                                                                        'KINGS': 'Kings County (Brooklyn)', \n",
    "                                                                                        'MN': 'New York County (Manhattan)', \n",
    "                                                                                        'NY': 'New York County (Manhattan)',\n",
    "                                                                                        'Q': 'Queens County (Queens)', \n",
    "                                                                                        'QN': 'Queens County (Queens)', \n",
    "                                                                                        'QNS':'Queens County (Queens)', \n",
    "                                                                                        'QU': 'Queens County (Queens)', \n",
    "                                                                                        'QUEEN':'Queens County (Queens)', \n",
    "                                                                                        'R': 'Richmond County (Staten Island)', \n",
    "                                                                                        'ST': 'Richmond County (Staten Island)'})"
   ]
  },
  {
   "cell_type": "code",
   "execution_count": 310,
   "metadata": {},
   "outputs": [
    {
     "data": {
      "text/html": [
       "<div>\n",
       "<style scoped>\n",
       "    .dataframe tbody tr th:only-of-type {\n",
       "        vertical-align: middle;\n",
       "    }\n",
       "\n",
       "    .dataframe tbody tr th {\n",
       "        vertical-align: top;\n",
       "    }\n",
       "\n",
       "    .dataframe thead th {\n",
       "        text-align: right;\n",
       "    }\n",
       "</style>\n",
       "<table border=\"1\" class=\"dataframe\">\n",
       "  <thead>\n",
       "    <tr style=\"text-align: right;\">\n",
       "      <th></th>\n",
       "      <th>Violation County</th>\n",
       "      <th>Number of Tickets in Each County</th>\n",
       "    </tr>\n",
       "  </thead>\n",
       "  <tbody>\n",
       "    <tr>\n",
       "      <th>0</th>\n",
       "      <td>Bronx County (The Bronx)</td>\n",
       "      <td>1162365</td>\n",
       "    </tr>\n",
       "    <tr>\n",
       "      <th>1</th>\n",
       "      <td>Kings County (Brooklyn)</td>\n",
       "      <td>2198294</td>\n",
       "    </tr>\n",
       "    <tr>\n",
       "      <th>2</th>\n",
       "      <td>New York County (Manhattan)</td>\n",
       "      <td>3548977</td>\n",
       "    </tr>\n",
       "    <tr>\n",
       "      <th>3</th>\n",
       "      <td>Queens County (Queens)</td>\n",
       "      <td>1895849</td>\n",
       "    </tr>\n",
       "    <tr>\n",
       "      <th>4</th>\n",
       "      <td>Richmond County (Staten Island)</td>\n",
       "      <td>104212</td>\n",
       "    </tr>\n",
       "  </tbody>\n",
       "</table>\n",
       "</div>"
      ],
      "text/plain": [
       "                  Violation County  Number of Tickets in Each County\n",
       "0         Bronx County (The Bronx)                           1162365\n",
       "1          Kings County (Brooklyn)                           2198294\n",
       "2      New York County (Manhattan)                           3548977\n",
       "3           Queens County (Queens)                           1895849\n",
       "4  Richmond County (Staten Island)                            104212"
      ]
     },
     "execution_count": 310,
     "metadata": {},
     "output_type": "execute_result"
    }
   ],
   "source": [
    "ticket_per_county = nyc_parking_2016.groupby(['Violation County'])['Plate ID'].count()\n",
    "ticket_per_county = ticket_per_county.to_frame().reset_index()\n",
    "ticket_per_county = ticket_per_county.rename(columns={'Plate ID': 'Number of Tickets in Each County'})\n",
    "ticket_per_county"
   ]
  },
  {
   "cell_type": "code",
   "execution_count": 312,
   "metadata": {},
   "outputs": [
    {
     "data": {
      "image/png": "[encoded data removed]",
      "text/plain": [
       "<Figure size 1152x576 with 1 Axes>"
      ]
     },
     "metadata": {
      "needs_background": "light"
     },
     "output_type": "display_data"
    }
   ],
   "source": [
    "plt.figure(figsize=(16,8))\n",
    "f = sns.barplot(x = ticket_per_county['Violation County'], y = ticket_per_county['Number of Tickets in Each County'], alpha=0.6)\n",
    "\n",
    "plt.tick_params(labelbottom='on')\n",
    "plt.ylabel('Number of Vehicles', fontsize=16);\n",
    "plt.xlabel('County', fontsize=16);\n",
    "plt.title('Parking Tickets Given in Different Counties', fontsize=16);"
   ]
  },
  {
   "cell_type": "code",
   "execution_count": 211,
   "metadata": {},
   "outputs": [
    {
     "name": "stdout",
     "output_type": "stream",
     "text": [
      "[stdout:0] \n",
      "Index(['NY', 'NJ', 'PA', 'CT', 'FL', 'MA', 'IN', 'VA', 'MD', 'NC', '99', 'IL',\n",
      "       'GA', 'TX', 'AZ', 'ME', 'OH', 'CA', 'OK', 'SC', 'TN', 'MI', 'DE', 'MN',\n",
      "       'RI', 'NH', 'AL', 'WA', 'VT', 'OR', 'ON', 'QB', 'WI', 'ID', 'KY', 'IA',\n",
      "       'DC', 'MS', 'DP', 'CO', 'MO', 'NM', 'AR', 'LA', 'WV', 'NV', 'SD', 'NE',\n",
      "       'UT', 'KS', 'NS', 'GV', 'AK', 'MT', 'ND', 'HI', 'WY', 'AB', 'PR', 'BC',\n",
      "       'NB', 'PE', 'MB', 'SK', 'FO', 'MX', 'YT', 'NT'],\n",
      "      dtype='object')\n",
      "[stdout:1] Index([], dtype='object')\n",
      "[stdout:2] Index([], dtype='object')\n",
      "[stdout:3] Index([], dtype='object')\n"
     ]
    },
    {
     "data": {
      "text/plain": [
       "[output:0]"
      ]
     },
     "metadata": {},
     "output_type": "display_data"
    },
    {
     "data": {
      "image/png": "[encoded data removed]",
      "text/plain": [
       "<Figure size 1080x1008 with 1 Axes>"
      ]
     },
     "metadata": {
      "engine": 0,
      "needs_background": "light"
     },
     "output_type": "display_data"
    },
    {
     "data": {
      "text/plain": [
       "[output:1]"
      ]
     },
     "metadata": {},
     "output_type": "display_data"
    },
    {
     "data": {
      "image/png": "[encoded data removed]",
      "text/plain": [
       "<Figure size 1080x1008 with 1 Axes>"
      ]
     },
     "metadata": {
      "engine": 1,
      "needs_background": "light"
     },
     "output_type": "display_data"
    },
    {
     "data": {
      "text/plain": [
       "[output:2]"
      ]
     },
     "metadata": {},
     "output_type": "display_data"
    },
    {
     "data": {
      "image/png": "[encoded data removed]",
      "text/plain": [
       "<Figure size 1080x1008 with 1 Axes>"
      ]
     },
     "metadata": {
      "engine": 2,
      "needs_background": "light"
     },
     "output_type": "display_data"
    },
    {
     "data": {
      "text/plain": [
       "[output:3]"
      ]
     },
     "metadata": {},
     "output_type": "display_data"
    },
    {
     "data": {
      "image/png": "[encoded data removed]",
      "text/plain": [
       "<Figure size 1080x1008 with 1 Axes>"
      ]
     },
     "metadata": {
      "engine": 3,
      "needs_background": "light"
     },
     "output_type": "display_data"
    }
   ],
   "source": [
    "%%px\n",
    "\n",
    "@bodo.jit(distributed=['nyc_parking_2016'], cache=True)\n",
    "def mean_power(nyc_parking_2016):\n",
    "    x_ticks = nyc_parking_2016['Registration State'].value_counts().index\n",
    "    heights = nyc_parking_2016['Registration State'].value_counts()\n",
    "    y_pos = np.arange(len(x_ticks))\n",
    "    return bodo.gatherv(x_ticks), bodo.gatherv(heights), bodo.gatherv(y_pos)\n",
    "\n",
    "x_ticks, heights, y_pos= mean_power(nyc_parking_2016)\n",
    "\n",
    "fig = plt.figure(figsize=(15,14))\n",
    "plt.barh(y_pos, heights)\n",
    "plt.yticks(y_pos, x_ticks);\n",
    "print(x_ticks)"
   ]
  },
  {
   "cell_type": "code",
   "execution_count": 210,
   "metadata": {},
   "outputs": [
    {
     "data": {
      "text/plain": [
       "[output:0]"
      ]
     },
     "metadata": {},
     "output_type": "display_data"
    },
    {
     "data": {
      "image/png": "[encoded data removed]",
      "text/plain": [
       "<Figure size 1080x1008 with 1 Axes>"
      ]
     },
     "metadata": {
      "engine": 0,
      "needs_background": "light"
     },
     "output_type": "display_data"
    },
    {
     "data": {
      "text/plain": [
       "[output:1]"
      ]
     },
     "metadata": {},
     "output_type": "display_data"
    },
    {
     "data": {
      "image/png": "[encoded data removed]",
      "text/plain": [
       "<Figure size 1080x1008 with 1 Axes>"
      ]
     },
     "metadata": {
      "engine": 1,
      "needs_background": "light"
     },
     "output_type": "display_data"
    },
    {
     "data": {
      "text/plain": [
       "[output:2]"
      ]
     },
     "metadata": {},
     "output_type": "display_data"
    },
    {
     "data": {
      "image/png": "[encoded data removed]",
      "text/plain": [
       "<Figure size 1080x1008 with 1 Axes>"
      ]
     },
     "metadata": {
      "engine": 2,
      "needs_background": "light"
     },
     "output_type": "display_data"
    },
    {
     "data": {
      "text/plain": [
       "[output:3]"
      ]
     },
     "metadata": {},
     "output_type": "display_data"
    },
    {
     "data": {
      "image/png": "[encoded data removed]",
      "text/plain": [
       "<Figure size 1080x1008 with 1 Axes>"
      ]
     },
     "metadata": {
      "engine": 3,
      "needs_background": "light"
     },
     "output_type": "display_data"
    }
   ],
   "source": [
    "%%px\n",
    "\n",
    "#x_ticks = nyc_parking_2016['Registration State'].value_counts().index\n",
    "#heights = nyc_parking_2016['Registration State'].value_counts()\n",
    "#y_pos = np.arange(len(x_ticks))\n",
    "fig = plt.figure(figsize=(15,14))\n",
    "#y_pos = view['y_pos'][0]\n",
    "# Create horizontal bars\n",
    "plt.barh(y_pos, heights)\n",
    " \n",
    "# Create names on the y-axis\n",
    "plt.yticks(y_pos, x_ticks);"
   ]
  },
  {
   "cell_type": "code",
   "execution_count": 189,
   "metadata": {},
   "outputs": [
    {
     "ename": "CompositeError",
     "evalue": "one or more exceptions from call to method: execute\n[0:execute]: BodoError: DataFrame.dtypes not supported yet\n\nFile \"<ipython-input-98-c5d5d2b15625>\", line 3:\ndef concat(df1, df2):\n    df2 = df2.astype(df1.dtypes)\n    ^\n\n[1:execute]: BodoError: DataFrame.dtypes not supported yet\n\nFile \"<ipython-input-98-c5d5d2b15625>\", line 3:\ndef concat(df1, df2):\n    df2 = df2.astype(df1.dtypes)\n    ^\n\n[2:execute]: BodoError: DataFrame.dtypes not supported yet\n\nFile \"<ipython-input-98-c5d5d2b15625>\", line 3:\ndef concat(df1, df2):\n    df2 = df2.astype(df1.dtypes)\n    ^\n\n[3:execute]: BodoError: DataFrame.dtypes not supported yet\n\nFile \"<ipython-input-98-c5d5d2b15625>\", line 3:\ndef concat(df1, df2):\n    df2 = df2.astype(df1.dtypes)\n    ^\n",
     "output_type": "error",
     "traceback": [
      "[0:execute]: ",
      "\u001b[0;31m---------------------------------------------------------------------------\u001b[0m\u001b[0;31mBodoError\u001b[0m                                 Traceback (most recent call last)\u001b[0;32m<ipython-input-98-c5d5d2b15625>\u001b[0m in \u001b[0;36m<module>\u001b[0;34m\u001b[0m",
      "\u001b[1;32m      6\u001b[0m     \u001b[0;32mreturn\u001b[0m \u001b[0mparking_total\u001b[0m\u001b[0;34m\u001b[0m\u001b[0;34m\u001b[0m\u001b[0m",
      "\u001b[1;32m      7\u001b[0m \u001b[0;34m\u001b[0m\u001b[0m",
      "\u001b[0;32m----> 8\u001b[0;31m \u001b[0mparking_total\u001b[0m \u001b[0;34m=\u001b[0m \u001b[0mconcat\u001b[0m\u001b[0;34m(\u001b[0m\u001b[0mnyc_parking_2016\u001b[0m\u001b[0;34m,\u001b[0m \u001b[0mnyc_parking_2017\u001b[0m\u001b[0;34m)\u001b[0m\u001b[0;34m\u001b[0m\u001b[0;34m\u001b[0m\u001b[0m",
      "\u001b[0m\u001b[0;32m~/Bodo/bodo/numba_compat.py\u001b[0m in \u001b[0;36m_compile_for_args\u001b[0;34m(***failed resolving arguments***)\u001b[0m",
      "\u001b[1;32m   1214\u001b[0m         \u001b[0;32mdel\u001b[0m \u001b[0margs\u001b[0m\u001b[0;34m\u001b[0m\u001b[0;34m\u001b[0m\u001b[0m",
      "\u001b[1;32m   1215\u001b[0m         \u001b[0;32mif\u001b[0m \u001b[0merror\u001b[0m\u001b[0;34m:\u001b[0m\u001b[0;34m\u001b[0m\u001b[0;34m\u001b[0m\u001b[0m",
      "\u001b[0;32m-> 1216\u001b[0;31m             \u001b[0;32mraise\u001b[0m \u001b[0merror\u001b[0m\u001b[0;34m\u001b[0m\u001b[0;34m\u001b[0m\u001b[0m",
      "\u001b[0m\u001b[1;32m   1217\u001b[0m     \u001b[0;32mreturn\u001b[0m \u001b[0mreturn_val\u001b[0m\u001b[0;34m\u001b[0m\u001b[0;34m\u001b[0m\u001b[0m",
      "\u001b[1;32m   1218\u001b[0m \u001b[0;34m\u001b[0m\u001b[0m",
      "\u001b[0;31mBodoError\u001b[0m: DataFrame.dtypes not supported yet",
      "",
      "File \"<ipython-input-98-c5d5d2b15625>\", line 3:",
      "def concat(df1, df2):",
      "    df2 = df2.astype(df1.dtypes)",
      "    ^",
      "",
      "[1:execute]: ",
      "\u001b[0;31m---------------------------------------------------------------------------\u001b[0m\u001b[0;31mBodoError\u001b[0m                                 Traceback (most recent call last)\u001b[0;32m<ipython-input-98-c5d5d2b15625>\u001b[0m in \u001b[0;36m<module>\u001b[0;34m\u001b[0m",
      "\u001b[1;32m      6\u001b[0m     \u001b[0;32mreturn\u001b[0m \u001b[0mparking_total\u001b[0m\u001b[0;34m\u001b[0m\u001b[0;34m\u001b[0m\u001b[0m",
      "\u001b[1;32m      7\u001b[0m \u001b[0;34m\u001b[0m\u001b[0m",
      "\u001b[0;32m----> 8\u001b[0;31m \u001b[0mparking_total\u001b[0m \u001b[0;34m=\u001b[0m \u001b[0mconcat\u001b[0m\u001b[0;34m(\u001b[0m\u001b[0mnyc_parking_2016\u001b[0m\u001b[0;34m,\u001b[0m \u001b[0mnyc_parking_2017\u001b[0m\u001b[0;34m)\u001b[0m\u001b[0;34m\u001b[0m\u001b[0;34m\u001b[0m\u001b[0m",
      "\u001b[0m\u001b[0;32m~/Bodo/bodo/numba_compat.py\u001b[0m in \u001b[0;36m_compile_for_args\u001b[0;34m(***failed resolving arguments***)\u001b[0m",
      "\u001b[1;32m   1214\u001b[0m         \u001b[0;32mdel\u001b[0m \u001b[0margs\u001b[0m\u001b[0;34m\u001b[0m\u001b[0;34m\u001b[0m\u001b[0m",
      "\u001b[1;32m   1215\u001b[0m         \u001b[0;32mif\u001b[0m \u001b[0merror\u001b[0m\u001b[0;34m:\u001b[0m\u001b[0;34m\u001b[0m\u001b[0;34m\u001b[0m\u001b[0m",
      "\u001b[0;32m-> 1216\u001b[0;31m             \u001b[0;32mraise\u001b[0m \u001b[0merror\u001b[0m\u001b[0;34m\u001b[0m\u001b[0;34m\u001b[0m\u001b[0m",
      "\u001b[0m\u001b[1;32m   1217\u001b[0m     \u001b[0;32mreturn\u001b[0m \u001b[0mreturn_val\u001b[0m\u001b[0;34m\u001b[0m\u001b[0;34m\u001b[0m\u001b[0m",
      "\u001b[1;32m   1218\u001b[0m \u001b[0;34m\u001b[0m\u001b[0m",
      "\u001b[0;31mBodoError\u001b[0m: DataFrame.dtypes not supported yet",
      "",
      "File \"<ipython-input-98-c5d5d2b15625>\", line 3:",
      "def concat(df1, df2):",
      "    df2 = df2.astype(df1.dtypes)",
      "    ^",
      "",
      "[2:execute]: ",
      "\u001b[0;31m---------------------------------------------------------------------------\u001b[0m\u001b[0;31mBodoError\u001b[0m                                 Traceback (most recent call last)\u001b[0;32m<ipython-input-98-c5d5d2b15625>\u001b[0m in \u001b[0;36m<module>\u001b[0;34m\u001b[0m",
      "\u001b[1;32m      6\u001b[0m     \u001b[0;32mreturn\u001b[0m \u001b[0mparking_total\u001b[0m\u001b[0;34m\u001b[0m\u001b[0;34m\u001b[0m\u001b[0m",
      "\u001b[1;32m      7\u001b[0m \u001b[0;34m\u001b[0m\u001b[0m",
      "\u001b[0;32m----> 8\u001b[0;31m \u001b[0mparking_total\u001b[0m \u001b[0;34m=\u001b[0m \u001b[0mconcat\u001b[0m\u001b[0;34m(\u001b[0m\u001b[0mnyc_parking_2016\u001b[0m\u001b[0;34m,\u001b[0m \u001b[0mnyc_parking_2017\u001b[0m\u001b[0;34m)\u001b[0m\u001b[0;34m\u001b[0m\u001b[0;34m\u001b[0m\u001b[0m",
      "\u001b[0m\u001b[0;32m~/Bodo/bodo/numba_compat.py\u001b[0m in \u001b[0;36m_compile_for_args\u001b[0;34m(***failed resolving arguments***)\u001b[0m",
      "\u001b[1;32m   1214\u001b[0m         \u001b[0;32mdel\u001b[0m \u001b[0margs\u001b[0m\u001b[0;34m\u001b[0m\u001b[0;34m\u001b[0m\u001b[0m",
      "\u001b[1;32m   1215\u001b[0m         \u001b[0;32mif\u001b[0m \u001b[0merror\u001b[0m\u001b[0;34m:\u001b[0m\u001b[0;34m\u001b[0m\u001b[0;34m\u001b[0m\u001b[0m",
      "\u001b[0;32m-> 1216\u001b[0;31m             \u001b[0;32mraise\u001b[0m \u001b[0merror\u001b[0m\u001b[0;34m\u001b[0m\u001b[0;34m\u001b[0m\u001b[0m",
      "\u001b[0m\u001b[1;32m   1217\u001b[0m     \u001b[0;32mreturn\u001b[0m \u001b[0mreturn_val\u001b[0m\u001b[0;34m\u001b[0m\u001b[0;34m\u001b[0m\u001b[0m",
      "\u001b[1;32m   1218\u001b[0m \u001b[0;34m\u001b[0m\u001b[0m",
      "\u001b[0;31mBodoError\u001b[0m: DataFrame.dtypes not supported yet",
      "",
      "File \"<ipython-input-98-c5d5d2b15625>\", line 3:",
      "def concat(df1, df2):",
      "    df2 = df2.astype(df1.dtypes)",
      "    ^",
      "",
      "[3:execute]: ",
      "\u001b[0;31m---------------------------------------------------------------------------\u001b[0m\u001b[0;31mBodoError\u001b[0m                                 Traceback (most recent call last)\u001b[0;32m<ipython-input-98-c5d5d2b15625>\u001b[0m in \u001b[0;36m<module>\u001b[0;34m\u001b[0m",
      "\u001b[1;32m      6\u001b[0m     \u001b[0;32mreturn\u001b[0m \u001b[0mparking_total\u001b[0m\u001b[0;34m\u001b[0m\u001b[0;34m\u001b[0m\u001b[0m",
      "\u001b[1;32m      7\u001b[0m \u001b[0;34m\u001b[0m\u001b[0m",
      "\u001b[0;32m----> 8\u001b[0;31m \u001b[0mparking_total\u001b[0m \u001b[0;34m=\u001b[0m \u001b[0mconcat\u001b[0m\u001b[0;34m(\u001b[0m\u001b[0mnyc_parking_2016\u001b[0m\u001b[0;34m,\u001b[0m \u001b[0mnyc_parking_2017\u001b[0m\u001b[0;34m)\u001b[0m\u001b[0;34m\u001b[0m\u001b[0;34m\u001b[0m\u001b[0m",
      "\u001b[0m\u001b[0;32m~/Bodo/bodo/numba_compat.py\u001b[0m in \u001b[0;36m_compile_for_args\u001b[0;34m(***failed resolving arguments***)\u001b[0m",
      "\u001b[1;32m   1214\u001b[0m         \u001b[0;32mdel\u001b[0m \u001b[0margs\u001b[0m\u001b[0;34m\u001b[0m\u001b[0;34m\u001b[0m\u001b[0m",
      "\u001b[1;32m   1215\u001b[0m         \u001b[0;32mif\u001b[0m \u001b[0merror\u001b[0m\u001b[0;34m:\u001b[0m\u001b[0;34m\u001b[0m\u001b[0;34m\u001b[0m\u001b[0m",
      "\u001b[0;32m-> 1216\u001b[0;31m             \u001b[0;32mraise\u001b[0m \u001b[0merror\u001b[0m\u001b[0;34m\u001b[0m\u001b[0;34m\u001b[0m\u001b[0m",
      "\u001b[0m\u001b[1;32m   1217\u001b[0m     \u001b[0;32mreturn\u001b[0m \u001b[0mreturn_val\u001b[0m\u001b[0;34m\u001b[0m\u001b[0;34m\u001b[0m\u001b[0m",
      "\u001b[1;32m   1218\u001b[0m \u001b[0;34m\u001b[0m\u001b[0m",
      "\u001b[0;31mBodoError\u001b[0m: DataFrame.dtypes not supported yet",
      "",
      "File \"<ipython-input-98-c5d5d2b15625>\", line 3:",
      "def concat(df1, df2):",
      "    df2 = df2.astype(df1.dtypes)",
      "    ^",
      ""
     ]
    }
   ],
   "source": [
    "%%px\n",
    "\n",
    "@bodo.jit(distributed=['df1', 'df2', 'parking_total'], cache=True)\n",
    "def concat(df1, df2):\n",
    "    df2 = df2.astype(df1.dtypes)\n",
    "    parking_total = pd.concat([df1, df2])\n",
    "    \n",
    "    return parking_total  \n",
    "\n",
    "parking_total = concat(nyc_parking_2016, nyc_parking_2017)"
   ]
  },
  {
   "cell_type": "code",
   "execution_count": 192,
   "metadata": {},
   "outputs": [],
   "source": [
    "%%px\n",
    "\n",
    "df1 = pd.DataFrame({\"A\": [2, 1, 1], \"B\": ['a', 'b', 'c']})\n",
    "df2 = pd.DataFrame({\"A\": [2.0, 1.3, 1.6], \"B\": [1, 'b', 'c']})"
   ]
  },
  {
   "cell_type": "code",
   "execution_count": 193,
   "metadata": {},
   "outputs": [
    {
     "ename": "CompositeError",
     "evalue": "one or more exceptions from call to method: execute\n[0:execute]: BodoError: DataFrame.dtypes not supported yet\n\nFile \"<ipython-input-102-81a0bece1ab0>\", line 4:\ndef concat(df1, df2):\n    <source elided>\n    \n    df2 = df2.astype(df1.dtypes)\n    ^\n\n[1:execute]: BodoError: DataFrame.dtypes not supported yet\n\nFile \"<ipython-input-102-81a0bece1ab0>\", line 4:\ndef concat(df1, df2):\n    <source elided>\n    \n    df2 = df2.astype(df1.dtypes)\n    ^\n\n[2:execute]: BodoError: DataFrame.dtypes not supported yet\n\nFile \"<ipython-input-102-81a0bece1ab0>\", line 4:\ndef concat(df1, df2):\n    <source elided>\n    \n    df2 = df2.astype(df1.dtypes)\n    ^\n\n[3:execute]: BodoError: DataFrame.dtypes not supported yet\n\nFile \"<ipython-input-102-81a0bece1ab0>\", line 4:\ndef concat(df1, df2):\n    <source elided>\n    \n    df2 = df2.astype(df1.dtypes)\n    ^\n",
     "output_type": "error",
     "traceback": [
      "[0:execute]: ",
      "\u001b[0;31m---------------------------------------------------------------------------\u001b[0m\u001b[0;31mBodoError\u001b[0m                                 Traceback (most recent call last)\u001b[0;32m<ipython-input-102-81a0bece1ab0>\u001b[0m in \u001b[0;36m<module>\u001b[0;34m\u001b[0m",
      "\u001b[1;32m      7\u001b[0m     \u001b[0;32mreturn\u001b[0m \u001b[0mdf\u001b[0m\u001b[0;34m\u001b[0m\u001b[0;34m\u001b[0m\u001b[0m",
      "\u001b[1;32m      8\u001b[0m \u001b[0;34m\u001b[0m\u001b[0m",
      "\u001b[0;32m----> 9\u001b[0;31m \u001b[0mdf\u001b[0m \u001b[0;34m=\u001b[0m \u001b[0mconcat\u001b[0m\u001b[0;34m(\u001b[0m\u001b[0mdf1\u001b[0m\u001b[0;34m,\u001b[0m \u001b[0mdf2\u001b[0m\u001b[0;34m)\u001b[0m\u001b[0;34m\u001b[0m\u001b[0;34m\u001b[0m\u001b[0m",
      "\u001b[0m\u001b[0;32m~/Bodo/bodo/numba_compat.py\u001b[0m in \u001b[0;36m_compile_for_args\u001b[0;34m(***failed resolving arguments***)\u001b[0m",
      "\u001b[1;32m   1214\u001b[0m         \u001b[0;32mdel\u001b[0m \u001b[0margs\u001b[0m\u001b[0;34m\u001b[0m\u001b[0;34m\u001b[0m\u001b[0m",
      "\u001b[1;32m   1215\u001b[0m         \u001b[0;32mif\u001b[0m \u001b[0merror\u001b[0m\u001b[0;34m:\u001b[0m\u001b[0;34m\u001b[0m\u001b[0;34m\u001b[0m\u001b[0m",
      "\u001b[0;32m-> 1216\u001b[0;31m             \u001b[0;32mraise\u001b[0m \u001b[0merror\u001b[0m\u001b[0;34m\u001b[0m\u001b[0;34m\u001b[0m\u001b[0m",
      "\u001b[0m\u001b[1;32m   1217\u001b[0m     \u001b[0;32mreturn\u001b[0m \u001b[0mreturn_val\u001b[0m\u001b[0;34m\u001b[0m\u001b[0;34m\u001b[0m\u001b[0m",
      "\u001b[1;32m   1218\u001b[0m \u001b[0;34m\u001b[0m\u001b[0m",
      "\u001b[0;31mBodoError\u001b[0m: DataFrame.dtypes not supported yet",
      "",
      "File \"<ipython-input-102-81a0bece1ab0>\", line 4:",
      "def concat(df1, df2):",
      "    <source elided>",
      "    ",
      "    df2 = df2.astype(df1.dtypes)",
      "    ^",
      "",
      "[1:execute]: ",
      "\u001b[0;31m---------------------------------------------------------------------------\u001b[0m\u001b[0;31mBodoError\u001b[0m                                 Traceback (most recent call last)\u001b[0;32m<ipython-input-102-81a0bece1ab0>\u001b[0m in \u001b[0;36m<module>\u001b[0;34m\u001b[0m",
      "\u001b[1;32m      7\u001b[0m     \u001b[0;32mreturn\u001b[0m \u001b[0mdf\u001b[0m\u001b[0;34m\u001b[0m\u001b[0;34m\u001b[0m\u001b[0m",
      "\u001b[1;32m      8\u001b[0m \u001b[0;34m\u001b[0m\u001b[0m",
      "\u001b[0;32m----> 9\u001b[0;31m \u001b[0mdf\u001b[0m \u001b[0;34m=\u001b[0m \u001b[0mconcat\u001b[0m\u001b[0;34m(\u001b[0m\u001b[0mdf1\u001b[0m\u001b[0;34m,\u001b[0m \u001b[0mdf2\u001b[0m\u001b[0;34m)\u001b[0m\u001b[0;34m\u001b[0m\u001b[0;34m\u001b[0m\u001b[0m",
      "\u001b[0m\u001b[0;32m~/Bodo/bodo/numba_compat.py\u001b[0m in \u001b[0;36m_compile_for_args\u001b[0;34m(***failed resolving arguments***)\u001b[0m",
      "\u001b[1;32m   1214\u001b[0m         \u001b[0;32mdel\u001b[0m \u001b[0margs\u001b[0m\u001b[0;34m\u001b[0m\u001b[0;34m\u001b[0m\u001b[0m",
      "\u001b[1;32m   1215\u001b[0m         \u001b[0;32mif\u001b[0m \u001b[0merror\u001b[0m\u001b[0;34m:\u001b[0m\u001b[0;34m\u001b[0m\u001b[0;34m\u001b[0m\u001b[0m",
      "\u001b[0;32m-> 1216\u001b[0;31m             \u001b[0;32mraise\u001b[0m \u001b[0merror\u001b[0m\u001b[0;34m\u001b[0m\u001b[0;34m\u001b[0m\u001b[0m",
      "\u001b[0m\u001b[1;32m   1217\u001b[0m     \u001b[0;32mreturn\u001b[0m \u001b[0mreturn_val\u001b[0m\u001b[0;34m\u001b[0m\u001b[0;34m\u001b[0m\u001b[0m",
      "\u001b[1;32m   1218\u001b[0m \u001b[0;34m\u001b[0m\u001b[0m",
      "\u001b[0;31mBodoError\u001b[0m: DataFrame.dtypes not supported yet",
      "",
      "File \"<ipython-input-102-81a0bece1ab0>\", line 4:",
      "def concat(df1, df2):",
      "    <source elided>",
      "    ",
      "    df2 = df2.astype(df1.dtypes)",
      "    ^",
      "",
      "[2:execute]: ",
      "\u001b[0;31m---------------------------------------------------------------------------\u001b[0m\u001b[0;31mBodoError\u001b[0m                                 Traceback (most recent call last)\u001b[0;32m<ipython-input-102-81a0bece1ab0>\u001b[0m in \u001b[0;36m<module>\u001b[0;34m\u001b[0m",
      "\u001b[1;32m      7\u001b[0m     \u001b[0;32mreturn\u001b[0m \u001b[0mdf\u001b[0m\u001b[0;34m\u001b[0m\u001b[0;34m\u001b[0m\u001b[0m",
      "\u001b[1;32m      8\u001b[0m \u001b[0;34m\u001b[0m\u001b[0m",
      "\u001b[0;32m----> 9\u001b[0;31m \u001b[0mdf\u001b[0m \u001b[0;34m=\u001b[0m \u001b[0mconcat\u001b[0m\u001b[0;34m(\u001b[0m\u001b[0mdf1\u001b[0m\u001b[0;34m,\u001b[0m \u001b[0mdf2\u001b[0m\u001b[0;34m)\u001b[0m\u001b[0;34m\u001b[0m\u001b[0;34m\u001b[0m\u001b[0m",
      "\u001b[0m\u001b[0;32m~/Bodo/bodo/numba_compat.py\u001b[0m in \u001b[0;36m_compile_for_args\u001b[0;34m(***failed resolving arguments***)\u001b[0m",
      "\u001b[1;32m   1214\u001b[0m         \u001b[0;32mdel\u001b[0m \u001b[0margs\u001b[0m\u001b[0;34m\u001b[0m\u001b[0;34m\u001b[0m\u001b[0m",
      "\u001b[1;32m   1215\u001b[0m         \u001b[0;32mif\u001b[0m \u001b[0merror\u001b[0m\u001b[0;34m:\u001b[0m\u001b[0;34m\u001b[0m\u001b[0;34m\u001b[0m\u001b[0m",
      "\u001b[0;32m-> 1216\u001b[0;31m             \u001b[0;32mraise\u001b[0m \u001b[0merror\u001b[0m\u001b[0;34m\u001b[0m\u001b[0;34m\u001b[0m\u001b[0m",
      "\u001b[0m\u001b[1;32m   1217\u001b[0m     \u001b[0;32mreturn\u001b[0m \u001b[0mreturn_val\u001b[0m\u001b[0;34m\u001b[0m\u001b[0;34m\u001b[0m\u001b[0m",
      "\u001b[1;32m   1218\u001b[0m \u001b[0;34m\u001b[0m\u001b[0m",
      "\u001b[0;31mBodoError\u001b[0m: DataFrame.dtypes not supported yet",
      "",
      "File \"<ipython-input-102-81a0bece1ab0>\", line 4:",
      "def concat(df1, df2):",
      "    <source elided>",
      "    ",
      "    df2 = df2.astype(df1.dtypes)",
      "    ^",
      "",
      "[3:execute]: ",
      "\u001b[0;31m---------------------------------------------------------------------------\u001b[0m\u001b[0;31mBodoError\u001b[0m                                 Traceback (most recent call last)\u001b[0;32m<ipython-input-102-81a0bece1ab0>\u001b[0m in \u001b[0;36m<module>\u001b[0;34m\u001b[0m",
      "\u001b[1;32m      7\u001b[0m     \u001b[0;32mreturn\u001b[0m \u001b[0mdf\u001b[0m\u001b[0;34m\u001b[0m\u001b[0;34m\u001b[0m\u001b[0m",
      "\u001b[1;32m      8\u001b[0m \u001b[0;34m\u001b[0m\u001b[0m",
      "\u001b[0;32m----> 9\u001b[0;31m \u001b[0mdf\u001b[0m \u001b[0;34m=\u001b[0m \u001b[0mconcat\u001b[0m\u001b[0;34m(\u001b[0m\u001b[0mdf1\u001b[0m\u001b[0;34m,\u001b[0m \u001b[0mdf2\u001b[0m\u001b[0;34m)\u001b[0m\u001b[0;34m\u001b[0m\u001b[0;34m\u001b[0m\u001b[0m",
      "\u001b[0m\u001b[0;32m~/Bodo/bodo/numba_compat.py\u001b[0m in \u001b[0;36m_compile_for_args\u001b[0;34m(***failed resolving arguments***)\u001b[0m",
      "\u001b[1;32m   1214\u001b[0m         \u001b[0;32mdel\u001b[0m \u001b[0margs\u001b[0m\u001b[0;34m\u001b[0m\u001b[0;34m\u001b[0m\u001b[0m",
      "\u001b[1;32m   1215\u001b[0m         \u001b[0;32mif\u001b[0m \u001b[0merror\u001b[0m\u001b[0;34m:\u001b[0m\u001b[0;34m\u001b[0m\u001b[0;34m\u001b[0m\u001b[0m",
      "\u001b[0;32m-> 1216\u001b[0;31m             \u001b[0;32mraise\u001b[0m \u001b[0merror\u001b[0m\u001b[0;34m\u001b[0m\u001b[0;34m\u001b[0m\u001b[0m",
      "\u001b[0m\u001b[1;32m   1217\u001b[0m     \u001b[0;32mreturn\u001b[0m \u001b[0mreturn_val\u001b[0m\u001b[0;34m\u001b[0m\u001b[0;34m\u001b[0m\u001b[0m",
      "\u001b[1;32m   1218\u001b[0m \u001b[0;34m\u001b[0m\u001b[0m",
      "\u001b[0;31mBodoError\u001b[0m: DataFrame.dtypes not supported yet",
      "",
      "File \"<ipython-input-102-81a0bece1ab0>\", line 4:",
      "def concat(df1, df2):",
      "    <source elided>",
      "    ",
      "    df2 = df2.astype(df1.dtypes)",
      "    ^",
      ""
     ]
    }
   ],
   "source": [
    "%%px\n",
    "\n",
    "@bodo.jit(distributed=['df1', 'df2', 'df'], cache=True)\n",
    "def concat(df1, df2):\n",
    "    \n",
    "    df2 = df2.astype(df1.dtypes)\n",
    "    df = pd.concat([df1, df2])\n",
    "    \n",
    "    return df  \n",
    "\n",
    "df = concat(df1, df2)"
   ]
  },
  {
   "cell_type": "code",
   "execution_count": 158,
   "metadata": {},
   "outputs": [],
   "source": [
    "%%px\n",
    "\n",
    "@bodo.jit(distributed=['df1', 'df2', 'parking_total'], cache=True)\n",
    "def concat_and_group(df1, df2):\n",
    "    parking_2016 = df1.groupby(['Issue Date','Violation County','Violation Precinct',\n",
    "                                     'Violation Code'], as_index=False)['Summons Number'].count()\n",
    "    parking_2017 = df2.groupby(['Issue Date','Violation County','Violation Precinct',\n",
    "                                     'Violation Code'], as_index=False)['Summons Number'].count()\n",
    "    parking_total = pd.concat([parking_2016, parking_2017])\n",
    "    \n",
    "    return parking_total  \n",
    "\n",
    "parking_total = concat_and_group(nyc_parking_2016, nyc_parking_2017)"
   ]
  },
  {
   "cell_type": "code",
   "execution_count": 162,
   "metadata": {},
   "outputs": [
    {
     "name": "stdout",
     "output_type": "stream",
     "text": [
      "[stdout:0] \n",
      "   Issue Date Violation County  Violation Precinct  Violation Code  \\\n",
      "1  2015-07-09                K                  79              21   \n",
      "8  2015-06-11                K                  70              21   \n",
      "17 2015-06-13               NY                  26              19   \n",
      "19 2015-07-05               NY                  26              46   \n",
      "20 2015-06-21               NY                  26              40   \n",
      "\n",
      "    Summons Number  \n",
      "1               86  \n",
      "8                2  \n",
      "17               2  \n",
      "19               4  \n",
      "20               1  \n"
     ]
    }
   ],
   "source": [
    "%%px\n",
    "\n",
    "@bodo.jit(distributed=['df'], cache=True)\n",
    "def clean_data(df):\n",
    "    \n",
    "    df = df.drop_duplicates()\n",
    "    df = df.dropna()\n",
    "    print(df.head(5))\n",
    "    return df\n",
    "\n",
    "parking_total = clean_data(parking_total)"
   ]
  },
  {
   "cell_type": "code",
   "execution_count": 164,
   "metadata": {},
   "outputs": [
    {
     "name": "stdout",
     "output_type": "stream",
     "text": [
      "[stdout:0] \n",
      "Eliminate undefined violations time:  4.279342965000978\n",
      "       Issue Date Violation County  Violation Precinct  Violation Code  \\\n",
      "216552 2015-11-27                Q                 114              21   \n",
      "592875 2016-06-19               BK                   0               7   \n",
      "299608 2017-05-19               QN                   0               7   \n",
      "592870 2016-06-19               QN                   0               7   \n",
      "145332 2016-06-18               QN                   0               7   \n",
      "\n",
      "        Summons Number  \n",
      "216552            1165  \n",
      "592875             910  \n",
      "299608             907  \n",
      "592870             891  \n",
      "145332             889  \n"
     ]
    }
   ],
   "source": [
    "%%px\n",
    "\n",
    "@bodo.jit(distributed=['df'], cache=True)\n",
    "def elim_code_36(df):\n",
    "    \"\"\"\n",
    "    Remove undefined violations (code 36)\n",
    "    \"\"\"\n",
    "    start = time.time()\n",
    "    df = df[df['Violation Code']!=36].sort_values('Summons Number',ascending=False)\n",
    "    end = time.time()\n",
    "    print(\"Eliminate undefined violations time: \", end - start)\n",
    "    print(df.head())\n",
    "    return df\n",
    "\n",
    "parking_total = elim_code_36(parking_total)"
   ]
  },
  {
   "cell_type": "code",
   "execution_count": 165,
   "metadata": {},
   "outputs": [
    {
     "name": "stdout",
     "output_type": "stream",
     "text": [
      "[stdout:0] \n",
      "Remove outliers time:  0.15014941000117688\n",
      "       Issue Date Violation County  Violation Precinct  Violation Code  \\\n",
      "592875 2016-06-19               BK                   0               7   \n",
      "299608 2017-05-19               QN                   0               7   \n",
      "592870 2016-06-19               QN                   0               7   \n",
      "145332 2016-06-18               QN                   0               7   \n",
      "146733 2016-06-26               BK                   0               7   \n",
      "\n",
      "        Summons Number  \n",
      "592875             910  \n",
      "299608             907  \n",
      "592870             891  \n",
      "145332             889  \n",
      "146733             888  \n"
     ]
    }
   ],
   "source": [
    "%%px\n",
    "\n",
    "@bodo.jit(distributed=['df'], cache=True)\n",
    "def remove_outliers(df):\n",
    "    \"\"\"\n",
    "    Delete entries that have dates outside our dataset dates\n",
    "    \"\"\"\n",
    "    start = time.time()\n",
    "    df = df[(df['Issue Date'] >= '2016-01-01') & (df['Issue Date'] <= '2017-12-31')]\n",
    "    end = time.time()\n",
    "    print(\"Remove outliers time: \", (end-start))\n",
    "    print(df.head())\n",
    "    return df\n",
    "\n",
    "parking_total = remove_outliers(parking_total)"
   ]
  },
  {
   "cell_type": "code",
   "execution_count": 167,
   "metadata": {},
   "outputs": [
    {
     "name": "stdout",
     "output_type": "stream",
     "text": [
      "[stdout:0] \n",
      "Merge time:  3.974519102001068\n",
      "  Issue Date Violation County  Violation Precinct  Violation Code  \\\n",
      "0 2016-06-19               BK                   0               7   \n",
      "1 2016-06-19               BK                   0               7   \n",
      "2 2016-06-19               BK                   0               7   \n",
      "3 2016-06-19               BK                   0               7   \n",
      "4 2017-05-19               QN                   0               7   \n",
      "\n",
      "   Summons Number                                         Definition  \\\n",
      "0             910  Vehicles photographed going through a red ligh...   \n",
      "1             910  Vehicles photographed going through a red ligh...   \n",
      "2             910  Vehicles photographed going through a red ligh...   \n",
      "3             910  Vehicles photographed going through a red ligh...   \n",
      "4             907  Vehicles photographed going through a red ligh...   \n",
      "\n",
      "   manhattan_96_and_below  all_other_areas  \n",
      "0                      50               50  \n",
      "1                      50               50  \n",
      "2                      50               50  \n",
      "3                      50               50  \n",
      "4                      50               50  \n"
     ]
    }
   ],
   "source": [
    "%%px\n",
    "\n",
    "@bodo.jit(distributed=['df', 'df1'], cache=True)\n",
    "def merge_violation_code(df, df1):\n",
    "    \"\"\"\n",
    "    Merge violation information in the main_df\n",
    "    \"\"\"\n",
    "    start = time.time()\n",
    "    # left join main_df and violation_codes df so that there's more info on violation in main_df\n",
    "    df = pd.merge(df, df1, on='Violation Code', how='left')\n",
    "    # cast precincts as integers from floats (inadvertent type change by merge)\n",
    "    df['Violation Precinct'] = df['Violation Precinct'].astype(int)\n",
    "    end = time.time()\n",
    "    print(\"Merge time: \", (end-start))\n",
    "    print(df.head())\n",
    "    return df\n",
    "\n",
    "parking_total = merge_violation_code(parking_total, violation_codes)"
   ]
  },
  {
   "cell_type": "code",
   "execution_count": 168,
   "metadata": {},
   "outputs": [
    {
     "name": "stdout",
     "output_type": "stream",
     "text": [
      "[stdout:0] \n",
      "Calculate Total Summons Time:  5.265128350998566\n",
      "     Issue Date Violation County  Violation Precinct  Violation Code  \\\n",
      "1156 2017-04-11               NY                  19              46   \n",
      "1157 2017-04-11               NY                  19              46   \n",
      "1158 2017-04-11               NY                  19              46   \n",
      "1159 2017-04-11               NY                  19              46   \n",
      "1272 2017-03-22               NY                  19              46   \n",
      "\n",
      "      Summons Number                                         Definition  \\\n",
      "1156             554  Standing or parking on the roadway side of a v...   \n",
      "1157             554  Standing or parking on the roadway side of a v...   \n",
      "1158             554  Standing or parking on the roadway side of a v...   \n",
      "1159             554  Standing or parking on the roadway side of a v...   \n",
      "1272             544  Standing or parking on the roadway side of a v...   \n",
      "\n",
      "      manhattan_96_and_below  all_other_areas  portion_manhattan_96_and_below  \\\n",
      "1156                     115              115                               1   \n",
      "1157                     115              115                               1   \n",
      "1158                     115              115                               1   \n",
      "1159                     115              115                               1   \n",
      "1272                     115              115                               1   \n",
      "\n",
      "      average_summons_amount  total_summons_dollars  \n",
      "1156                     115                  63710  \n",
      "1157                     115                  63710  \n",
      "1158                     115                  63710  \n",
      "1159                     115                  63710  \n",
      "1272                     115                  62560  \n"
     ]
    }
   ],
   "source": [
    "%%px\n",
    "\n",
    "@bodo.jit(distributed=['df'], cache=True)\n",
    "def calculate_total_summons(df):\n",
    "    \"\"\"\n",
    "    Calculate the total summonses in dollars for a violation in a precinct on a day\n",
    "    \"\"\"\n",
    "    start = time.time()\n",
    "    #create column for portion of precinct 96th st. and below\n",
    "    n = len(df)\n",
    "    portion_manhattan_96_and_below = np.empty(n, np.int64)\n",
    "    # NOTE: To run pandas, use this loop.\n",
    "    # for i in range(n):\n",
    "    for i in bodo.prange(n):\n",
    "        x = df['Violation Precinct'].iat[i]\n",
    "        if x < 22 or x == 23:\n",
    "            portion_manhattan_96_and_below[i] = 1.0\n",
    "        elif x == 22:\n",
    "            portion_manhattan_96_and_below[i] = 0.75\n",
    "        elif x == 24:\n",
    "            portion_manhattan_96_and_below[i] = 0.5\n",
    "        else: #other\n",
    "            portion_manhattan_96_and_below[i] = 0\n",
    "    df[\"portion_manhattan_96_and_below\"] = portion_manhattan_96_and_below\n",
    "\n",
    "    #create column for average dollar amount of summons based on location\n",
    "    df['average_summons_amount'] = (df['portion_manhattan_96_and_below'] * df['manhattan_96_and_below']\n",
    "                                     + (1 - df['portion_manhattan_96_and_below']) * df['all_other_areas'])\n",
    "\n",
    "    #get total summons dollars by multiplying average dollar amount by number of summons given\n",
    "    df['total_summons_dollars'] = df['Summons Number'] * df['average_summons_amount']\n",
    "    df = df.sort_values(by=['total_summons_dollars'], ascending=False)\n",
    "    end = time.time()\n",
    "    print(\"Calculate Total Summons Time: \", (end-start))\n",
    "    print(df.head())\n",
    "    return df\n",
    "\n",
    "parking_total = calculate_total_summons(parking_total)"
   ]
  },
  {
   "cell_type": "code",
   "execution_count": 169,
   "metadata": {},
   "outputs": [
    {
     "name": "stdout",
     "output_type": "stream",
     "text": [
      "[stdout:0] \n",
      "Aggregate code time:  5.616522307995183\n",
      "   Violation Precinct  Summons Number  total_summons_dollars\n",
      "0                   0         2842160              184600860\n",
      "1                  90          817892               54334040\n",
      "2                 104          721765               47758820\n",
      "3                  70         1124560               69821660\n",
      "4                 110          720874               46741660\n"
     ]
    }
   ],
   "source": [
    "%%px\n",
    "\n",
    "@bodo.jit(distributed=['df', 'precinct_offenses_df'], cache=True)\n",
    "def aggregate(df):\n",
    "    '''function that aggregates and filters data\n",
    "    e.g. total violations by precinct\n",
    "    '''\n",
    "    start = time.time()\n",
    "    filtered_dataset = df[['Violation Precinct','Summons Number', 'total_summons_dollars']]\n",
    "    precinct_offenses_df = filtered_dataset.groupby(by=['Violation Precinct']).sum().reset_index().fillna(0)\n",
    "    end = time.time()\n",
    "    print(\"Aggregate code time: \", (end-start))\n",
    "    print(precinct_offenses_df.head())\n",
    "    return precinct_offenses_df\n",
    "\n",
    "precinct_offenses_df = aggregate(parking_total)"
   ]
  },
  {
   "cell_type": "code",
   "execution_count": null,
   "metadata": {},
   "outputs": [],
   "source": []
  }
 ],
 "metadata": {
  "kernelspec": {
   "display_name": "Python 3",
   "language": "python",
   "name": "python3"
  },
  "language_info": {
   "codemirror_mode": {
    "name": "ipython",
    "version": 3
   },
   "file_extension": ".py",
   "mimetype": "text/x-python",
   "name": "python",
   "nbconvert_exporter": "python",
   "pygments_lexer": "ipython3",
   "version": "3.9.2"
  }
 },
 "nbformat": 4,
 "nbformat_minor": 4
}
