{
 "cells": [
  {
   "cell_type": "markdown",
   "metadata": {
    "pycharm": {
     "name": "#%% md\n"
    }
   },
   "source": [
    "# Getting Started with Bodo"
   ]
  },
  {
   "cell_type": "markdown",
   "metadata": {
    "pycharm": {
     "name": "#%% md\n"
    }
   },
   "source": [
    "\n",
    "---------------\n",
    "\n",
    "## Connect to a cluster \n",
    "\n",
    "This notebook runs code on a cluster. If you are in the Community Edition Workspace, and your notebook is *detached*, make sure the Community Edition Cluster is running. On the sidebar, right click on **<img src=\"img/cluster_icon.png\"/></a> Clusters** and open tab. If the cluster is paused, click on the play button. Once the state changes to running, the notebook should automatically attach to the cluster. If it doesn't, click the dropdown and attach to the Community Edition Cluster. \n"
   ]
  },
  {
   "cell_type": "markdown",
   "metadata": {},
   "source": [
    "### Some Setup Code \n",
    "\n",
    "Run the following code cell to enable running SQL queries from a table stored in parquet format in a public S3 bucket hosted by Bodo. We are using the NYC taxi dataset. \n",
    "\n",
    "`\n",
    "    "
   ]
  },
  {
   "cell_type": "code",
   "execution_count": 1,
   "metadata": {
    "execution": {
     "iopub.execute_input": "2022-08-30T15:29:11.467278Z",
     "iopub.status.busy": "2022-08-30T15:29:11.466784Z",
     "iopub.status.idle": "2022-08-30T15:29:59.177814Z",
     "shell.execute_reply": "2022-08-30T15:29:59.177079Z",
     "shell.execute_reply.started": "2022-08-30T15:29:11.467242Z"
    },
    "pycharm": {
     "name": "#%%\n"
    },
    "tags": []
   },
   "outputs": [
    {
     "name": "stdout",
     "output_type": "stream",
     "text": [
      "Starting 8 engines with <class 'ipyparallel.cluster.launcher.MPIEngineSetLauncher'>\n"
     ]
    },
    {
     "data": {
      "application/vnd.jupyter.widget-view+json": {
       "model_id": "2a1380adaac3455b9205973dff7d4fea",
       "version_major": 2,
       "version_minor": 0
      },
      "text/plain": [
       "  0%|          | 0/8 [00:00<?, ?engine/s]"
      ]
     },
     "metadata": {},
     "output_type": "display_data"
    },
    {
     "data": {
      "application/vnd.jupyter.widget-view+json": {
       "model_id": "f1fb73dd76ba42ca8ba0b6b037a02f6b",
       "version_major": 2,
       "version_minor": 0
      },
      "text/plain": [
       "%px:   0%|          | 0/8 [00:00<?, ?tasks/s]"
      ]
     },
     "metadata": {},
     "output_type": "display_data"
    }
   ],
   "source": [
    "%%px\n",
    "import pandas as pd\n",
    "import bodo\n",
    "import warnings\n",
    "warnings.filterwarnings(\"ignore\")\n",
    "\n",
    "@bodo.jit\n",
    "def read_data_nyc_taxi():\n",
    "    df = pd.read_parquet(\n",
    "        \"s3://bodo-example-data/nyc-taxi/yellow_tripdata_2019_half.pq\",\n",
    "        )\n",
    "    return df\n",
    "\n",
    "df = read_data_nyc_taxi()"
   ]
  },
  {
   "cell_type": "markdown",
   "metadata": {
    "pycharm": {
     "name": "#%% md\n"
    }
   },
   "source": [
    "## Run a simple SQL Query\n",
    "\n",
    "Run the next code cell to run a simple SQL query. "
   ]
  },
  {
   "cell_type": "code",
   "execution_count": null,
   "metadata": {
    "execution": {
     "iopub.execute_input": "2022-08-30T15:30:01.796252Z",
     "iopub.status.busy": "2022-08-30T15:30:01.795776Z"
    },
    "pycharm": {
     "name": "#%%\n"
    },
    "tags": []
   },
   "outputs": [
    {
     "data": {
      "application/vnd.jupyter.widget-view+json": {
       "model_id": "321de6cc354a4e539a0869732f5beef3",
       "version_major": 2,
       "version_minor": 0
      },
      "text/plain": [
       "%px:   0%|          | 0/8 [00:00<?, ?tasks/s]"
      ]
     },
     "metadata": {},
     "output_type": "display_data"
    }
   ],
   "source": [
    "%%px\n",
    "import bodo\n",
    "import bodosql\n",
    "\n",
    "# print(df.size)\n",
    "# print(df.head(1))\n",
    "\n",
    "@bodo.jit\n",
    "def simple_query(df):\n",
    "    bc = bodosql.BodoSQLContext({\"table1\": df})\n",
    "    df1 = bc.sql(\"SELECT * FROM table1 LIMIT 8\")\n",
    "    return df1 \n",
    "\n",
    "simple_query(df)\n"
   ]
  },
  {
   "cell_type": "markdown",
   "metadata": {
    "execution": {
     "iopub.execute_input": "2022-08-26T16:40:56.074854Z",
     "iopub.status.busy": "2022-08-26T16:40:56.074257Z",
     "iopub.status.idle": "2022-08-26T16:40:56.082000Z",
     "shell.execute_reply": "2022-08-26T16:40:56.081421Z",
     "shell.execute_reply.started": "2022-08-26T16:40:56.074826Z"
    }
   },
   "source": [
    "----\n",
    "\n",
    "If you've made it this far, you have now run your first data transformation with Bodo! Visit our [docs](https://docs.bodo.ai) to continue to learn how to continue to parallelize your data apps with Bodo. Please consider joining our [community slack](https://bodocommunity.slack.com/join/shared_invite/zt-qwdc8fad-6rZ8a1RmkkJ6eOX1X__knA#/shared-invite/email) to get in touch directly with our engineers and other Bodo users like yourself. "
   ]
  }
 ],
 "metadata": {
  "interpreter": {
   "hash": "c055ab4e8dcaec5bc09e1db7dc9ba0af7856e6dca0079f8d0a35c557fbc4193a"
  },
  "kernelspec": {
   "display_name": "SSH 10.0.9.154 Remote-Kernel",
   "language": "",
   "name": "rik_ssh_10_0_9_154_remotekernel"
  },
  "language_info": {
   "codemirror_mode": {
    "name": "ipython",
    "version": 3
   },
   "file_extension": ".py",
   "mimetype": "text/x-python",
   "name": "python",
   "nbconvert_exporter": "python",
   "pygments_lexer": "ipython3",
   "version": "3.9.12"
  }
 },
 "nbformat": 4,
 "nbformat_minor": 4
}
