{
 "cells": [
  {
   "cell_type": "code",
   "execution_count": null,
   "metadata": {},
   "outputs": [],
   "source": [
    "import ipyparallel as ipp\n",
    "rc = ipp.Cluster(engines='mpi', n=4).start_and_connect_sync(activate=True)"
   ]
  },
  {
   "cell_type": "code",
   "execution_count": null,
   "id": "188d36ff",
   "metadata": {},
   "outputs": [],
   "source": [
    "%autopx"
   ]
  },
  {
   "cell_type": "code",
   "execution_count": null,
   "metadata": {},
   "outputs": [],
   "source": [
    "import bodo\n",
    "bodo.get_rank()"
   ]
  },
  {
   "cell_type": "code",
   "execution_count": null,
   "metadata": {},
   "outputs": [],
   "source": [
    "import numpy as np\n",
    "import time\n",
    "\n",
    "@bodo.jit\n",
    "def calc_pi(n):\n",
    "    t1 = time.time()\n",
    "    x = 2 * np.random.ranf(n) - 1\n",
    "    y = 2 * np.random.ranf(n) - 1\n",
    "    pi = 4 * np.sum(x ** 2 + y ** 2 < 1) / n\n",
    "    print(\"Execution time:\", time.time() - t1, \"\\nresult:\", pi)"
   ]
  },
  {
   "cell_type": "code",
   "execution_count": null,
   "metadata": {},
   "outputs": [],
   "source": [
    "calc_pi(10000000)"
   ]
  },
  {
   "cell_type": "code",
   "execution_count": null,
   "id": "419b45b4",
   "metadata": {},
   "outputs": [],
   "source": [
    "%autopx"
   ]
  },
  {
   "cell_type": "code",
   "execution_count": null,
   "metadata": {},
   "outputs": [],
   "source": [
    "rc.cluster.stop_cluster_sync()"
   ]
  }
 ],
 "metadata": {
  "kernelspec": {
   "display_name": "Python 3 (ipykernel)",
   "language": "python",
   "name": "python3"
  },
  "language_info": {
   "codemirror_mode": {
    "name": "ipython",
    "version": 3
   },
   "file_extension": ".py",
   "mimetype": "text/x-python",
   "name": "python",
   "nbconvert_exporter": "python",
   "pygments_lexer": "ipython3",
   "version": "3.9.7"
  }
 },
 "nbformat": 4,
 "nbformat_minor": 5
}
