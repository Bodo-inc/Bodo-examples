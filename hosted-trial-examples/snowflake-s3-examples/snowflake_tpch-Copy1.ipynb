{
 "cells": [
  {
   "cell_type": "markdown",
   "id": "a6562072-d601-40be-9897-6aebfeb01109",
   "metadata": {},
   "source": [
    "## TPCH benchmark queries\n",
    "This notebook implements all the tpch queries. The cluster on the hosted nodes may be a bit too small to run all of them. You can try this on your own bodo platform tenant. The dataset will normally be available on your snowflake warehouse instance, under SNOWFLAKE_SAMPLE_DATA database."
   ]
  },
  {
   "cell_type": "code",
   "execution_count": 1,
   "id": "e6ff2247-29ce-4474-abe6-dc40630d27b4",
   "metadata": {
    "execution": {
     "iopub.execute_input": "2022-07-06T14:46:49.022879Z",
     "iopub.status.busy": "2022-07-06T14:46:49.022432Z",
     "iopub.status.idle": "2022-07-06T14:46:59.754815Z",
     "shell.execute_reply": "2022-07-06T14:46:59.754081Z",
     "shell.execute_reply.started": "2022-07-06T14:46:49.022844Z"
    },
    "tags": []
   },
   "outputs": [
    {
     "name": "stdout",
     "output_type": "stream",
     "text": [
      "Starting 32 engines with <class 'ipyparallel.cluster.launcher.MPIEngineSetLauncher'>\n"
     ]
    },
    {
     "data": {
      "application/vnd.jupyter.widget-view+json": {
       "model_id": "b8aa4fa6fb34436cadf7a981832e9e63",
       "version_major": 2,
       "version_minor": 0
      },
      "text/plain": [
       "  0%|          | 0/32 [00:00<?, ?engine/s]"
      ]
     },
     "metadata": {},
     "output_type": "display_data"
    }
   ],
   "source": [
    "%%px\n",
    "from utils.creds import *\n",
    "load_sf_creds()\n",
    "username=os.environ[\"user\"]\n",
    "password=os.environ[\"password\"]\n",
    "account=os.environ[\"account\"]\n",
    "warehouse=\"TEST_WH\"\n",
    "database=os.environ[\"dbname\"]\n",
    "schema=\"TPCH_SF10\""
   ]
  },
  {
   "cell_type": "code",
   "execution_count": 2,
   "id": "003cb2da-4bc0-4201-a6e0-d6594319b645",
   "metadata": {
    "execution": {
     "iopub.execute_input": "2022-07-06T14:47:02.989831Z",
     "iopub.status.busy": "2022-07-06T14:47:02.989393Z",
     "iopub.status.idle": "2022-07-06T14:47:05.715807Z",
     "shell.execute_reply": "2022-07-06T14:47:05.715152Z",
     "shell.execute_reply.started": "2022-07-06T14:47:02.989803Z"
    },
    "tags": []
   },
   "outputs": [
    {
     "data": {
      "application/vnd.jupyter.widget-view+json": {
       "model_id": "7ebb58b89d8b4f1cb04617687f6aa01d",
       "version_major": 2,
       "version_minor": 0
      },
      "text/plain": [
       "%px:   0%|          | 0/32 [00:00<?, ?tasks/s]"
      ]
     },
     "metadata": {},
     "output_type": "display_data"
    }
   ],
   "source": [
    "%%px\n",
    "from utils.tpch_functions import *"
   ]
  },
  {
   "cell_type": "code",
   "execution_count": 3,
   "id": "4dfc0d1f-8596-43bf-9aa5-035ee46405bb",
   "metadata": {
    "execution": {
     "iopub.execute_input": "2022-07-06T14:47:08.006655Z",
     "iopub.status.busy": "2022-07-06T14:47:08.006222Z",
     "iopub.status.idle": "2022-07-06T14:47:08.059928Z",
     "shell.execute_reply": "2022-07-06T14:47:08.059219Z",
     "shell.execute_reply.started": "2022-07-06T14:47:08.006627Z"
    },
    "tags": []
   },
   "outputs": [],
   "source": [
    "%%px\n",
    "import time\n",
    "@bodo.jit(cache=True)\n",
    "def run_queries(schema):\n",
    "    # Load the data\n",
    "    t1 = time.time()\n",
    "    lineitem = load_lineitem(schema)\n",
    "    #orders = load_orders(schema)\n",
    "    #customer = load_customer(schema)\n",
    "    #nation = load_nation(schema)\n",
    "    #region = load_region(schema)\n",
    "    #supplier = load_supplier(schema)\n",
    "    #part = load_part(schema)\n",
    "    #partsupp = load_partsupp(schema)\n",
    "\n",
    "    print(\"Reading time (s): \", time.time() - t1)\n",
    "\n",
    "    t1 = time.time()\n",
    "    # Run the Queries:\n",
    "    # q01\n",
    "    q01(lineitem)\n",
    "    # q2\n",
    "    return \n",
    "    q02(part, partsupp, supplier, nation, region)\n",
    "\n",
    "    # q03\n",
    "    q03(lineitem, orders, customer)\n",
    "\n",
    "    q04(lineitem, orders)\n",
    "    \n",
    "    q05(lineitem, orders, customer, nation, region, supplier)\n",
    "    \n",
    "    q06(lineitem)\n",
    "\n",
    "    q07(lineitem, supplier, orders, customer, nation)\n",
    "\n",
    "    q08(part, lineitem, supplier, orders, customer, nation, region)\n",
    "\n",
    "    q09(lineitem, orders, part, nation, partsupp, supplier)\n",
    "\n",
    "    q10(lineitem, orders, customer, nation)\n",
    "\n",
    "    q11(partsupp, supplier, nation)\n",
    "\n",
    "    q12(lineitem, orders)\n",
    "\n",
    "    q13(customer, orders)\n",
    "\n",
    "    q14(lineitem, part)\n",
    "\n",
    "    q15(lineitem, supplier)\n",
    "\n",
    "    q16(part, partsupp, supplier)\n",
    "\n",
    "    q17(lineitem, part)\n",
    "\n",
    "    q18(lineitem, orders, customer)\n",
    "\n",
    "    q19(lineitem, part)\n",
    "\n",
    "    q20(lineitem, part, nation, partsupp, supplier)\n",
    "\n",
    "    q21(lineitem, orders, supplier, nation)\n",
    "\n",
    "    q22(customer, orders)\n",
    "    print(\"Total Query time (s): \", time.time() - t1)"
   ]
  },
  {
   "cell_type": "code",
   "execution_count": 4,
   "id": "21c6efde-0b11-4020-b1a4-09f5c915ba2d",
   "metadata": {
    "execution": {
     "iopub.execute_input": "2022-07-06T14:47:08.893768Z",
     "iopub.status.busy": "2022-07-06T14:47:08.893329Z",
     "iopub.status.idle": "2022-07-06T14:47:45.426230Z",
     "shell.execute_reply": "2022-07-06T14:47:45.425527Z",
     "shell.execute_reply.started": "2022-07-06T14:47:08.893739Z"
    },
    "tags": []
   },
   "outputs": [
    {
     "data": {
      "application/vnd.jupyter.widget-view+json": {
       "model_id": "7abf4477e2ab432c8e59c3c8d5e5fcd9",
       "version_major": 2,
       "version_minor": 0
      },
      "text/plain": [
       "%px:   0%|          | 0/32 [00:00<?, ?tasks/s]"
      ]
     },
     "metadata": {},
     "output_type": "display_data"
    },
    {
     "data": {
      "text/plain": [
       "[stdout:0] Reading time (s):  13.012939724559146\n",
       "  L_RETURNFLAG L_LINESTATUS   L_QUANTITY  L_EXTENDEDPRICE    DISC_PRICE  \\\n",
       "1            A            F  377518399.0     5.660657e+11  5.377591e+11   \n",
       "3            N            F    9851614.0     1.476744e+10  1.402881e+10   \n",
       "2            N            O  743124873.0     1.114302e+12  1.058581e+12   \n",
       "0            R            F  377732830.0     5.664311e+11  5.381109e+11   \n",
       "\n",
       "         CHARGE    AVG_QTY     AVG_PRICE  L_DISCOUNT  L_ORDERKEY  \n",
       "1  5.592767e+11  25.500975  38237.151009    0.050007    14804077  \n",
       "3  1.459049e+10  25.522448  38257.810660    0.049973      385998  \n",
       "2  1.100937e+12  25.498076  38233.902923    0.050001    29144351  \n",
       "0  5.596348e+11  25.508385  38251.219274    0.049997    14808183  \n",
       "Q01 Execution time (s):  0.5483249466506095\n"
      ]
     },
     "metadata": {},
     "output_type": "display_data"
    },
    {
     "data": {
      "text/plain": [
       "[stdout:19] Empty DataFrame\n",
       "Columns: [L_RETURNFLAG, L_LINESTATUS, L_QUANTITY, L_EXTENDEDPRICE, DISC_PRICE, CHARGE, AVG_QTY, AVG_PRICE, L_DISCOUNT, L_ORDERKEY]\n",
       "Index: []\n"
      ]
     },
     "metadata": {},
     "output_type": "display_data"
    },
    {
     "data": {
      "text/plain": [
       "[stdout:6] Empty DataFrame\n",
       "Columns: [L_RETURNFLAG, L_LINESTATUS, L_QUANTITY, L_EXTENDEDPRICE, DISC_PRICE, CHARGE, AVG_QTY, AVG_PRICE, L_DISCOUNT, L_ORDERKEY]\n",
       "Index: []\n"
      ]
     },
     "metadata": {},
     "output_type": "display_data"
    },
    {
     "data": {
      "text/plain": [
       "[stdout:14] Empty DataFrame\n",
       "Columns: [L_RETURNFLAG, L_LINESTATUS, L_QUANTITY, L_EXTENDEDPRICE, DISC_PRICE, CHARGE, AVG_QTY, AVG_PRICE, L_DISCOUNT, L_ORDERKEY]\n",
       "Index: []\n"
      ]
     },
     "metadata": {},
     "output_type": "display_data"
    },
    {
     "data": {
      "text/plain": [
       "[stdout:16] Empty DataFrame\n",
       "Columns: [L_RETURNFLAG, L_LINESTATUS, L_QUANTITY, L_EXTENDEDPRICE, DISC_PRICE, CHARGE, AVG_QTY, AVG_PRICE, L_DISCOUNT, L_ORDERKEY]\n",
       "Index: []\n"
      ]
     },
     "metadata": {},
     "output_type": "display_data"
    },
    {
     "data": {
      "text/plain": [
       "[stdout:26] Empty DataFrame\n",
       "Columns: [L_RETURNFLAG, L_LINESTATUS, L_QUANTITY, L_EXTENDEDPRICE, DISC_PRICE, CHARGE, AVG_QTY, AVG_PRICE, L_DISCOUNT, L_ORDERKEY]\n",
       "Index: []\n"
      ]
     },
     "metadata": {},
     "output_type": "display_data"
    },
    {
     "data": {
      "text/plain": [
       "[stdout:17] Empty DataFrame\n",
       "Columns: [L_RETURNFLAG, L_LINESTATUS, L_QUANTITY, L_EXTENDEDPRICE, DISC_PRICE, CHARGE, AVG_QTY, AVG_PRICE, L_DISCOUNT, L_ORDERKEY]\n",
       "Index: []\n"
      ]
     },
     "metadata": {},
     "output_type": "display_data"
    },
    {
     "data": {
      "text/plain": [
       "[stdout:29] Empty DataFrame\n",
       "Columns: [L_RETURNFLAG, L_LINESTATUS, L_QUANTITY, L_EXTENDEDPRICE, DISC_PRICE, CHARGE, AVG_QTY, AVG_PRICE, L_DISCOUNT, L_ORDERKEY]\n",
       "Index: []\n"
      ]
     },
     "metadata": {},
     "output_type": "display_data"
    },
    {
     "data": {
      "text/plain": [
       "[stdout:31] Empty DataFrame\n",
       "Columns: [L_RETURNFLAG, L_LINESTATUS, L_QUANTITY, L_EXTENDEDPRICE, DISC_PRICE, CHARGE, AVG_QTY, AVG_PRICE, L_DISCOUNT, L_ORDERKEY]\n",
       "Index: []\n"
      ]
     },
     "metadata": {},
     "output_type": "display_data"
    },
    {
     "data": {
      "text/plain": [
       "[stdout:22] Empty DataFrame\n",
       "Columns: [L_RETURNFLAG, L_LINESTATUS, L_QUANTITY, L_EXTENDEDPRICE, DISC_PRICE, CHARGE, AVG_QTY, AVG_PRICE, L_DISCOUNT, L_ORDERKEY]\n",
       "Index: []\n"
      ]
     },
     "metadata": {},
     "output_type": "display_data"
    },
    {
     "data": {
      "text/plain": [
       "[stdout:12] Empty DataFrame\n",
       "Columns: [L_RETURNFLAG, L_LINESTATUS, L_QUANTITY, L_EXTENDEDPRICE, DISC_PRICE, CHARGE, AVG_QTY, AVG_PRICE, L_DISCOUNT, L_ORDERKEY]\n",
       "Index: []\n"
      ]
     },
     "metadata": {},
     "output_type": "display_data"
    },
    {
     "data": {
      "text/plain": [
       "[stdout:7] Empty DataFrame\n",
       "Columns: [L_RETURNFLAG, L_LINESTATUS, L_QUANTITY, L_EXTENDEDPRICE, DISC_PRICE, CHARGE, AVG_QTY, AVG_PRICE, L_DISCOUNT, L_ORDERKEY]\n",
       "Index: []\n"
      ]
     },
     "metadata": {},
     "output_type": "display_data"
    },
    {
     "data": {
      "text/plain": [
       "[stdout:5] Empty DataFrame\n",
       "Columns: [L_RETURNFLAG, L_LINESTATUS, L_QUANTITY, L_EXTENDEDPRICE, DISC_PRICE, CHARGE, AVG_QTY, AVG_PRICE, L_DISCOUNT, L_ORDERKEY]\n",
       "Index: []\n"
      ]
     },
     "metadata": {},
     "output_type": "display_data"
    },
    {
     "data": {
      "text/plain": [
       "[stdout:21] Empty DataFrame\n",
       "Columns: [L_RETURNFLAG, L_LINESTATUS, L_QUANTITY, L_EXTENDEDPRICE, DISC_PRICE, CHARGE, AVG_QTY, AVG_PRICE, L_DISCOUNT, L_ORDERKEY]\n",
       "Index: []\n"
      ]
     },
     "metadata": {},
     "output_type": "display_data"
    },
    {
     "data": {
      "text/plain": [
       "[stdout:30] Empty DataFrame\n",
       "Columns: [L_RETURNFLAG, L_LINESTATUS, L_QUANTITY, L_EXTENDEDPRICE, DISC_PRICE, CHARGE, AVG_QTY, AVG_PRICE, L_DISCOUNT, L_ORDERKEY]\n",
       "Index: []\n"
      ]
     },
     "metadata": {},
     "output_type": "display_data"
    },
    {
     "data": {
      "text/plain": [
       "[stdout:4] Empty DataFrame\n",
       "Columns: [L_RETURNFLAG, L_LINESTATUS, L_QUANTITY, L_EXTENDEDPRICE, DISC_PRICE, CHARGE, AVG_QTY, AVG_PRICE, L_DISCOUNT, L_ORDERKEY]\n",
       "Index: []\n"
      ]
     },
     "metadata": {},
     "output_type": "display_data"
    },
    {
     "data": {
      "text/plain": [
       "[stdout:2] Empty DataFrame\n",
       "Columns: [L_RETURNFLAG, L_LINESTATUS, L_QUANTITY, L_EXTENDEDPRICE, DISC_PRICE, CHARGE, AVG_QTY, AVG_PRICE, L_DISCOUNT, L_ORDERKEY]\n",
       "Index: []\n"
      ]
     },
     "metadata": {},
     "output_type": "display_data"
    },
    {
     "data": {
      "text/plain": [
       "[stdout:10] Empty DataFrame\n",
       "Columns: [L_RETURNFLAG, L_LINESTATUS, L_QUANTITY, L_EXTENDEDPRICE, DISC_PRICE, CHARGE, AVG_QTY, AVG_PRICE, L_DISCOUNT, L_ORDERKEY]\n",
       "Index: []\n"
      ]
     },
     "metadata": {},
     "output_type": "display_data"
    },
    {
     "data": {
      "text/plain": [
       "[stdout:25] Empty DataFrame\n",
       "Columns: [L_RETURNFLAG, L_LINESTATUS, L_QUANTITY, L_EXTENDEDPRICE, DISC_PRICE, CHARGE, AVG_QTY, AVG_PRICE, L_DISCOUNT, L_ORDERKEY]\n",
       "Index: []\n"
      ]
     },
     "metadata": {},
     "output_type": "display_data"
    },
    {
     "data": {
      "text/plain": [
       "[stdout:18] Empty DataFrame\n",
       "Columns: [L_RETURNFLAG, L_LINESTATUS, L_QUANTITY, L_EXTENDEDPRICE, DISC_PRICE, CHARGE, AVG_QTY, AVG_PRICE, L_DISCOUNT, L_ORDERKEY]\n",
       "Index: []\n"
      ]
     },
     "metadata": {},
     "output_type": "display_data"
    },
    {
     "data": {
      "text/plain": [
       "[stdout:13] Empty DataFrame\n",
       "Columns: [L_RETURNFLAG, L_LINESTATUS, L_QUANTITY, L_EXTENDEDPRICE, DISC_PRICE, CHARGE, AVG_QTY, AVG_PRICE, L_DISCOUNT, L_ORDERKEY]\n",
       "Index: []\n"
      ]
     },
     "metadata": {},
     "output_type": "display_data"
    },
    {
     "data": {
      "text/plain": [
       "[stdout:24] Empty DataFrame\n",
       "Columns: [L_RETURNFLAG, L_LINESTATUS, L_QUANTITY, L_EXTENDEDPRICE, DISC_PRICE, CHARGE, AVG_QTY, AVG_PRICE, L_DISCOUNT, L_ORDERKEY]\n",
       "Index: []\n"
      ]
     },
     "metadata": {},
     "output_type": "display_data"
    },
    {
     "data": {
      "text/plain": [
       "[stdout:3] Empty DataFrame\n",
       "Columns: [L_RETURNFLAG, L_LINESTATUS, L_QUANTITY, L_EXTENDEDPRICE, DISC_PRICE, CHARGE, AVG_QTY, AVG_PRICE, L_DISCOUNT, L_ORDERKEY]\n",
       "Index: []\n"
      ]
     },
     "metadata": {},
     "output_type": "display_data"
    },
    {
     "data": {
      "text/plain": [
       "[stdout:8] Empty DataFrame\n",
       "Columns: [L_RETURNFLAG, L_LINESTATUS, L_QUANTITY, L_EXTENDEDPRICE, DISC_PRICE, CHARGE, AVG_QTY, AVG_PRICE, L_DISCOUNT, L_ORDERKEY]\n",
       "Index: []\n"
      ]
     },
     "metadata": {},
     "output_type": "display_data"
    },
    {
     "data": {
      "text/plain": [
       "[stdout:11] Empty DataFrame\n",
       "Columns: [L_RETURNFLAG, L_LINESTATUS, L_QUANTITY, L_EXTENDEDPRICE, DISC_PRICE, CHARGE, AVG_QTY, AVG_PRICE, L_DISCOUNT, L_ORDERKEY]\n",
       "Index: []\n"
      ]
     },
     "metadata": {},
     "output_type": "display_data"
    },
    {
     "data": {
      "text/plain": [
       "[stdout:20] Empty DataFrame\n",
       "Columns: [L_RETURNFLAG, L_LINESTATUS, L_QUANTITY, L_EXTENDEDPRICE, DISC_PRICE, CHARGE, AVG_QTY, AVG_PRICE, L_DISCOUNT, L_ORDERKEY]\n",
       "Index: []\n"
      ]
     },
     "metadata": {},
     "output_type": "display_data"
    },
    {
     "data": {
      "text/plain": [
       "[stdout:15] Empty DataFrame\n",
       "Columns: [L_RETURNFLAG, L_LINESTATUS, L_QUANTITY, L_EXTENDEDPRICE, DISC_PRICE, CHARGE, AVG_QTY, AVG_PRICE, L_DISCOUNT, L_ORDERKEY]\n",
       "Index: []\n"
      ]
     },
     "metadata": {},
     "output_type": "display_data"
    },
    {
     "data": {
      "text/plain": [
       "[stdout:28] Empty DataFrame\n",
       "Columns: [L_RETURNFLAG, L_LINESTATUS, L_QUANTITY, L_EXTENDEDPRICE, DISC_PRICE, CHARGE, AVG_QTY, AVG_PRICE, L_DISCOUNT, L_ORDERKEY]\n",
       "Index: []\n"
      ]
     },
     "metadata": {},
     "output_type": "display_data"
    },
    {
     "data": {
      "text/plain": [
       "[stdout:27] Empty DataFrame\n",
       "Columns: [L_RETURNFLAG, L_LINESTATUS, L_QUANTITY, L_EXTENDEDPRICE, DISC_PRICE, CHARGE, AVG_QTY, AVG_PRICE, L_DISCOUNT, L_ORDERKEY]\n",
       "Index: []\n"
      ]
     },
     "metadata": {},
     "output_type": "display_data"
    },
    {
     "data": {
      "text/plain": [
       "[stdout:9] Empty DataFrame\n",
       "Columns: [L_RETURNFLAG, L_LINESTATUS, L_QUANTITY, L_EXTENDEDPRICE, DISC_PRICE, CHARGE, AVG_QTY, AVG_PRICE, L_DISCOUNT, L_ORDERKEY]\n",
       "Index: []\n"
      ]
     },
     "metadata": {},
     "output_type": "display_data"
    },
    {
     "data": {
      "text/plain": [
       "[stdout:1] Empty DataFrame\n",
       "Columns: [L_RETURNFLAG, L_LINESTATUS, L_QUANTITY, L_EXTENDEDPRICE, DISC_PRICE, CHARGE, AVG_QTY, AVG_PRICE, L_DISCOUNT, L_ORDERKEY]\n",
       "Index: []\n"
      ]
     },
     "metadata": {},
     "output_type": "display_data"
    },
    {
     "data": {
      "text/plain": [
       "[stdout:23] Empty DataFrame\n",
       "Columns: [L_RETURNFLAG, L_LINESTATUS, L_QUANTITY, L_EXTENDEDPRICE, DISC_PRICE, CHARGE, AVG_QTY, AVG_PRICE, L_DISCOUNT, L_ORDERKEY]\n",
       "Index: []\n"
      ]
     },
     "metadata": {},
     "output_type": "display_data"
    }
   ],
   "source": [
    "%%px\n",
    "import time\n",
    "schema=\"TPCH_SF10\"\n",
    "run_queries(schema)"
   ]
  },
  {
   "cell_type": "code",
   "execution_count": null,
   "id": "f7525aad-4387-4094-99b2-35ebdb808b8e",
   "metadata": {},
   "outputs": [],
   "source": []
  }
 ],
 "metadata": {
  "kernelspec": {
   "display_name": "Python 3 (ipykernel)",
   "language": "python",
   "name": "bodo_platform_dummy_kernel"
  },
  "language_info": {
   "codemirror_mode": {
    "name": "ipython",
    "version": 3
   },
   "file_extension": ".py",
   "mimetype": "text/x-python",
   "name": "python",
   "nbconvert_exporter": "python",
   "pygments_lexer": "ipython3",
   "version": "3.9.7"
  }
 },
 "nbformat": 4,
 "nbformat_minor": 5
}
