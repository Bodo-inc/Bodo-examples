{
 "cells": [
  {
   "cell_type": "markdown",
   "id": "8179e607",
   "metadata": {},
   "source": [
    "# Divvy Data Set\n",
    "\n",
    "The Divvy data set is a collection of historical trip data made publicly available by Lyft. More information about this data set can be found [here](https://ride.divvybikes.com/system-data).\n",
    "\n",
    "In this demo we will explore loading and manipulating this data set across a cluster using Bodo. "
   ]
  },
  {
   "cell_type": "markdown",
   "id": "37756b17-acb6-44e3-8328-203bf00e411b",
   "metadata": {},
   "source": [
    "## Let's load the divvy bike data set using regular pandas."
   ]
  },
  {
   "cell_type": "code",
   "execution_count": 1,
   "id": "d916a64a-0f70-4574-b43c-887ee5c3b47d",
   "metadata": {
    "execution": {
     "iopub.execute_input": "2022-07-06T17:47:48.608502Z",
     "iopub.status.busy": "2022-07-06T17:47:48.608210Z",
     "iopub.status.idle": "2022-07-06T17:47:58.705311Z",
     "shell.execute_reply": "2022-07-06T17:47:58.704793Z",
     "shell.execute_reply.started": "2022-07-06T17:47:48.608482Z"
    },
    "tags": []
   },
   "outputs": [
    {
     "name": "stdout",
     "output_type": "stream",
     "text": [
      "Starting 8 engines with <class 'ipyparallel.cluster.launcher.MPIEngineSetLauncher'>\n"
     ]
    },
    {
     "data": {
      "application/vnd.jupyter.widget-view+json": {
       "model_id": "dfb5aa2dd5a44828a1ace7adc7b73867",
       "version_major": 2,
       "version_minor": 0
      },
      "text/plain": [
       "  0%|          | 0/8 [00:00<?, ?engine/s]"
      ]
     },
     "metadata": {},
     "output_type": "display_data"
    },
    {
     "data": {
      "application/vnd.jupyter.widget-view+json": {
       "model_id": "cbc76f93285944cbaac58affc827f6a7",
       "version_major": 2,
       "version_minor": 0
      },
      "text/plain": [
       "%px:   0%|          | 0/8 [00:00<?, ?tasks/s]"
      ]
     },
     "metadata": {},
     "output_type": "display_data"
    },
    {
     "data": {
      "text/plain": [
       "[stdout:4] time to run query 2.463881492614746\n"
      ]
     },
     "metadata": {},
     "output_type": "display_data"
    },
    {
     "data": {
      "text/plain": [
       "[stdout:2] time to run query 2.4441416263580322\n"
      ]
     },
     "metadata": {},
     "output_type": "display_data"
    },
    {
     "data": {
      "text/plain": [
       "[stdout:6] time to run query 2.45072603225708\n"
      ]
     },
     "metadata": {},
     "output_type": "display_data"
    },
    {
     "data": {
      "text/plain": [
       "[stdout:0] time to run query 2.469806671142578\n"
      ]
     },
     "metadata": {},
     "output_type": "display_data"
    },
    {
     "data": {
      "text/plain": [
       "[stdout:7] time to run query 2.4745378494262695\n"
      ]
     },
     "metadata": {},
     "output_type": "display_data"
    },
    {
     "data": {
      "text/plain": [
       "[stdout:3] time to run query 2.46004056930542\n"
      ]
     },
     "metadata": {},
     "output_type": "display_data"
    },
    {
     "data": {
      "text/plain": [
       "[stdout:1] time to run query 2.4607479572296143\n"
      ]
     },
     "metadata": {},
     "output_type": "display_data"
    },
    {
     "data": {
      "text/plain": [
       "[stdout:5] time to run query 2.4620072841644287\n"
      ]
     },
     "metadata": {},
     "output_type": "display_data"
    }
   ],
   "source": [
    "%%px\n",
    "##load aws creds\n",
    "from utils.creds import *\n",
    "load_aws_creds()\n",
    "import pandas as pd\n",
    "import time\n",
    "def load_data(filename):\n",
    "    start=time.time()\n",
    "    df=pd.read_csv(filename)\n",
    "    print(f\"time to run query {time.time()-start}\")\n",
    "    return df\n",
    "df=load_data(\"s3://bodo-divvy-data/csv/202004-divvy-tripdata.csv\")"
   ]
  },
  {
   "cell_type": "markdown",
   "id": "e0654bac-0dd4-440a-8532-cdafba1c775c",
   "metadata": {},
   "source": [
    "## Let's take a quick look at the resulting dataframe.\n",
    "Since, we used pandas and not bodo to load the df, the Dataframe has dupplicated on all the cores across the cluster.\n",
    "Lets inspect the dataframe shape. Note how the data is duplicated across the ranks/cores on the cluster"
   ]
  },
  {
   "cell_type": "code",
   "execution_count": 2,
   "id": "e30572ac-64f1-4e68-aba7-9aa73805007d",
   "metadata": {
    "execution": {
     "iopub.execute_input": "2022-07-06T17:48:02.864577Z",
     "iopub.status.busy": "2022-07-06T17:48:02.864289Z",
     "iopub.status.idle": "2022-07-06T17:48:02.894227Z",
     "shell.execute_reply": "2022-07-06T17:48:02.893770Z",
     "shell.execute_reply.started": "2022-07-06T17:48:02.864556Z"
    },
    "tags": []
   },
   "outputs": [
    {
     "data": {
      "text/plain": [
       "\u001b[0;31mOut[4:2]: \u001b[0m(84776, 13)"
      ]
     },
     "metadata": {
      "after": null,
      "completed": null,
      "data": {},
      "engine_id": 4,
      "engine_uuid": "1b181ea1-6d9629448ad4ec7d6c4d4845",
      "error": null,
      "execute_input": "df.shape\n",
      "execute_result": {
       "data": {
        "text/plain": "(84776, 13)"
       },
       "execution_count": 2,
       "metadata": {}
      },
      "follow": null,
      "msg_id": null,
      "outputs": [],
      "received": null,
      "started": null,
      "status": null,
      "stderr": "",
      "stdout": "",
      "submitted": "2022-07-06T17:48:02.865917Z"
     },
     "output_type": "display_data"
    },
    {
     "data": {
      "text/plain": [
       "\u001b[0;31mOut[0:2]: \u001b[0m(84776, 13)"
      ]
     },
     "metadata": {
      "after": null,
      "completed": null,
      "data": {},
      "engine_id": 0,
      "engine_uuid": "abd29118-f6e8a93353fcee6e6559f986",
      "error": null,
      "execute_input": "df.shape\n",
      "execute_result": {
       "data": {
        "text/plain": "(84776, 13)"
       },
       "execution_count": 2,
       "metadata": {}
      },
      "follow": null,
      "msg_id": null,
      "outputs": [],
      "received": null,
      "started": null,
      "status": null,
      "stderr": "",
      "stdout": "",
      "submitted": "2022-07-06T17:48:02.865794Z"
     },
     "output_type": "display_data"
    },
    {
     "data": {
      "text/plain": [
       "\u001b[0;31mOut[1:2]: \u001b[0m(84776, 13)"
      ]
     },
     "metadata": {
      "after": null,
      "completed": null,
      "data": {},
      "engine_id": 1,
      "engine_uuid": "9e81f6f7-c1116ecaf784a223ea618bd1",
      "error": null,
      "execute_input": "df.shape\n",
      "execute_result": {
       "data": {
        "text/plain": "(84776, 13)"
       },
       "execution_count": 2,
       "metadata": {}
      },
      "follow": null,
      "msg_id": null,
      "outputs": [],
      "received": null,
      "started": null,
      "status": null,
      "stderr": "",
      "stdout": "",
      "submitted": "2022-07-06T17:48:02.865827Z"
     },
     "output_type": "display_data"
    },
    {
     "data": {
      "text/plain": [
       "\u001b[0;31mOut[7:2]: \u001b[0m(84776, 13)"
      ]
     },
     "metadata": {
      "after": null,
      "completed": null,
      "data": {},
      "engine_id": 7,
      "engine_uuid": "36cbcaf5-7167d3ce488524e1b1ab75e2",
      "error": null,
      "execute_input": "df.shape\n",
      "execute_result": {
       "data": {
        "text/plain": "(84776, 13)"
       },
       "execution_count": 2,
       "metadata": {}
      },
      "follow": null,
      "msg_id": null,
      "outputs": [],
      "received": null,
      "started": null,
      "status": null,
      "stderr": "",
      "stdout": "",
      "submitted": "2022-07-06T17:48:02.866103Z"
     },
     "output_type": "display_data"
    },
    {
     "data": {
      "text/plain": [
       "\u001b[0;31mOut[5:2]: \u001b[0m(84776, 13)"
      ]
     },
     "metadata": {
      "after": null,
      "completed": null,
      "data": {},
      "engine_id": 5,
      "engine_uuid": "e476ee9b-c7254ce6859f614b9f5ba40a",
      "error": null,
      "execute_input": "df.shape\n",
      "execute_result": {
       "data": {
        "text/plain": "(84776, 13)"
       },
       "execution_count": 2,
       "metadata": {}
      },
      "follow": null,
      "msg_id": null,
      "outputs": [],
      "received": null,
      "started": null,
      "status": null,
      "stderr": "",
      "stdout": "",
      "submitted": "2022-07-06T17:48:02.866033Z"
     },
     "output_type": "display_data"
    },
    {
     "data": {
      "text/plain": [
       "\u001b[0;31mOut[3:2]: \u001b[0m(84776, 13)"
      ]
     },
     "metadata": {
      "after": null,
      "completed": null,
      "data": {},
      "engine_id": 3,
      "engine_uuid": "7b685ec4-2475b939be605eb1e1dfcf64",
      "error": null,
      "execute_input": "df.shape\n",
      "execute_result": {
       "data": {
        "text/plain": "(84776, 13)"
       },
       "execution_count": 2,
       "metadata": {}
      },
      "follow": null,
      "msg_id": null,
      "outputs": [],
      "received": null,
      "started": null,
      "status": null,
      "stderr": "",
      "stdout": "",
      "submitted": "2022-07-06T17:48:02.865888Z"
     },
     "output_type": "display_data"
    },
    {
     "data": {
      "text/plain": [
       "\u001b[0;31mOut[2:2]: \u001b[0m(84776, 13)"
      ]
     },
     "metadata": {
      "after": [],
      "completed": "2022-07-06T17:48:02.879488Z",
      "data": {},
      "engine_id": 2,
      "engine_uuid": "1477eac5-a425d4ca93402f5b92a1f0de",
      "error": null,
      "execute_input": "df.shape\n",
      "execute_result": {
       "data": {
        "text/plain": "(84776, 13)"
       },
       "execution_count": 2,
       "metadata": {}
      },
      "follow": [],
      "is_broadcast": true,
      "is_coalescing": false,
      "msg_id": "2c29fa31-cd2442048f3653adf5fc8978_20666_2_1477eac5-a425d4ca93402f5b92a1f0de",
      "outputs": [],
      "received": "2022-07-06T17:48:02.889326Z",
      "started": "2022-07-06T17:48:02.869561Z",
      "status": "ok",
      "stderr": "",
      "stdout": "",
      "submitted": "2022-07-06T17:48:02.865688Z"
     },
     "output_type": "display_data"
    },
    {
     "data": {
      "text/plain": [
       "\u001b[0;31mOut[6:2]: \u001b[0m(84776, 13)"
      ]
     },
     "metadata": {
      "after": [],
      "completed": "2022-07-06T17:48:02.882123Z",
      "data": {},
      "engine_id": 6,
      "engine_uuid": "146497bf-2a2d47f545c1d4ab8e0e86be",
      "error": null,
      "execute_input": "df.shape\n",
      "execute_result": {
       "data": {
        "text/plain": "(84776, 13)"
       },
       "execution_count": 2,
       "metadata": {}
      },
      "follow": [],
      "is_broadcast": true,
      "is_coalescing": false,
      "msg_id": "2c29fa31-cd2442048f3653adf5fc8978_20666_2_146497bf-2a2d47f545c1d4ab8e0e86be",
      "outputs": [],
      "received": "2022-07-06T17:48:02.889707Z",
      "started": "2022-07-06T17:48:02.869474Z",
      "status": "ok",
      "stderr": "",
      "stdout": "",
      "submitted": "2022-07-06T17:48:02.865688Z"
     },
     "output_type": "display_data"
    }
   ],
   "source": [
    "%%px\n",
    "df.shape"
   ]
  },
  {
   "cell_type": "markdown",
   "id": "28cd0326-41be-4bb7-954c-375f9f292b2d",
   "metadata": {},
   "source": [
    "## Now let's bodoize this code and run it on a cluster\n",
    "\n",
    "To convert this Pandas function to a Bodo optimized function, you use the `@bodo.jit` decorator. This causes Bodo to automatically compile the code and optimize it. Additionally, it will leverage MPI and make the single threaded pandas code distributable and parallel.\n",
    "\n",
    "Lets do a conversion below."
   ]
  },
  {
   "cell_type": "code",
   "execution_count": 3,
   "id": "c6b845a0-0fb5-4933-b6aa-b3b031b0e580",
   "metadata": {
    "execution": {
     "iopub.execute_input": "2022-07-06T17:48:06.168320Z",
     "iopub.status.busy": "2022-07-06T17:48:06.168067Z",
     "iopub.status.idle": "2022-07-06T17:48:14.385309Z",
     "shell.execute_reply": "2022-07-06T17:48:14.384746Z",
     "shell.execute_reply.started": "2022-07-06T17:48:06.168302Z"
    },
    "tags": []
   },
   "outputs": [
    {
     "data": {
      "application/vnd.jupyter.widget-view+json": {
       "model_id": "16eb63d4c67d468aa3e6543f0cc25b64",
       "version_major": 2,
       "version_minor": 0
      },
      "text/plain": [
       "%px:   0%|          | 0/8 [00:00<?, ?tasks/s]"
      ]
     },
     "metadata": {},
     "output_type": "display_data"
    },
    {
     "data": {
      "text/plain": [
       "[stdout:0] time to run query 0.704914\n"
      ]
     },
     "metadata": {},
     "output_type": "display_data"
    }
   ],
   "source": [
    "%%px\n",
    "import pandas as pd\n",
    "import time\n",
    "import bodo\n",
    "@bodo.jit(cache=True) \n",
    "def load_data_bodo(filename):\n",
    "    start=time.time()\n",
    "    df=pd.read_csv(filename)\n",
    "    print(f\"time to run query {time.time()-start}\")\n",
    "    return df\n",
    "df=load_data_bodo(\"s3://bodo-divvy-data/csv/202004-divvy-tripdata.csv\")"
   ]
  },
  {
   "cell_type": "markdown",
   "id": "9f0ccfc8-c0b1-4d18-9e57-ad8452b0364f",
   "metadata": {},
   "source": [
    "### Bodo Magic and Distribution\n",
    "Lets inspect the dataframe shape. Note how the data is now distributed across the ranks/cores on the cluster, which each rank only containing parts of the data"
   ]
  },
  {
   "cell_type": "code",
   "execution_count": 4,
   "id": "d2e400e3-6e34-46c3-8907-6ab466c3e2fb",
   "metadata": {
    "execution": {
     "iopub.execute_input": "2022-07-06T17:48:18.328159Z",
     "iopub.status.busy": "2022-07-06T17:48:18.327880Z",
     "iopub.status.idle": "2022-07-06T17:48:18.351188Z",
     "shell.execute_reply": "2022-07-06T17:48:18.350676Z",
     "shell.execute_reply.started": "2022-07-06T17:48:18.328139Z"
    },
    "tags": []
   },
   "outputs": [
    {
     "data": {
      "text/plain": [
       "\u001b[0;31mOut[2:4]: \u001b[0m(10597, 13)"
      ]
     },
     "metadata": {
      "after": [],
      "completed": "2022-07-06T17:48:18.335380Z",
      "data": {},
      "engine_id": 2,
      "engine_uuid": "1477eac5-a425d4ca93402f5b92a1f0de",
      "error": null,
      "execute_input": "df.shape\n",
      "execute_result": {
       "data": {
        "text/plain": "(10597, 13)"
       },
       "execution_count": 4,
       "metadata": {}
      },
      "follow": [],
      "is_broadcast": true,
      "is_coalescing": false,
      "msg_id": "2c29fa31-cd2442048f3653adf5fc8978_20666_4_1477eac5-a425d4ca93402f5b92a1f0de",
      "outputs": [],
      "received": "2022-07-06T17:48:18.337405Z",
      "started": "2022-07-06T17:48:18.332688Z",
      "status": "ok",
      "stderr": "",
      "stdout": "",
      "submitted": "2022-07-06T17:48:18.329281Z"
     },
     "output_type": "display_data"
    },
    {
     "data": {
      "text/plain": [
       "\u001b[0;31mOut[6:4]: \u001b[0m(10597, 13)"
      ]
     },
     "metadata": {
      "after": [],
      "completed": "2022-07-06T17:48:18.335701Z",
      "data": {},
      "engine_id": 6,
      "engine_uuid": "146497bf-2a2d47f545c1d4ab8e0e86be",
      "error": null,
      "execute_input": "df.shape\n",
      "execute_result": {
       "data": {
        "text/plain": "(10597, 13)"
       },
       "execution_count": 4,
       "metadata": {}
      },
      "follow": [],
      "is_broadcast": true,
      "is_coalescing": false,
      "msg_id": "2c29fa31-cd2442048f3653adf5fc8978_20666_4_146497bf-2a2d47f545c1d4ab8e0e86be",
      "outputs": [],
      "received": "2022-07-06T17:48:18.339997Z",
      "started": "2022-07-06T17:48:18.332825Z",
      "status": "ok",
      "stderr": "",
      "stdout": "",
      "submitted": "2022-07-06T17:48:18.329281Z"
     },
     "output_type": "display_data"
    },
    {
     "data": {
      "text/plain": [
       "\u001b[0;31mOut[3:4]: \u001b[0m(10597, 13)"
      ]
     },
     "metadata": {
      "after": [],
      "completed": "2022-07-06T17:48:18.335757Z",
      "data": {},
      "engine_id": 3,
      "engine_uuid": "7b685ec4-2475b939be605eb1e1dfcf64",
      "error": null,
      "execute_input": "df.shape\n",
      "execute_result": {
       "data": {
        "text/plain": "(10597, 13)"
       },
       "execution_count": 4,
       "metadata": {}
      },
      "follow": [],
      "is_broadcast": true,
      "is_coalescing": false,
      "msg_id": "2c29fa31-cd2442048f3653adf5fc8978_20666_4_7b685ec4-2475b939be605eb1e1dfcf64",
      "outputs": [],
      "received": "2022-07-06T17:48:18.338717Z",
      "started": "2022-07-06T17:48:18.332926Z",
      "status": "ok",
      "stderr": "",
      "stdout": "",
      "submitted": "2022-07-06T17:48:18.329281Z"
     },
     "output_type": "display_data"
    },
    {
     "data": {
      "text/plain": [
       "\u001b[0;31mOut[4:4]: \u001b[0m(10597, 13)"
      ]
     },
     "metadata": {
      "after": [],
      "completed": "2022-07-06T17:48:18.336042Z",
      "data": {},
      "engine_id": 4,
      "engine_uuid": "1b181ea1-6d9629448ad4ec7d6c4d4845",
      "error": null,
      "execute_input": "df.shape\n",
      "execute_result": {
       "data": {
        "text/plain": "(10597, 13)"
       },
       "execution_count": 4,
       "metadata": {}
      },
      "follow": [],
      "is_broadcast": true,
      "is_coalescing": false,
      "msg_id": "2c29fa31-cd2442048f3653adf5fc8978_20666_4_1b181ea1-6d9629448ad4ec7d6c4d4845",
      "outputs": [],
      "received": "2022-07-06T17:48:18.341501Z",
      "started": "2022-07-06T17:48:18.332811Z",
      "status": "ok",
      "stderr": "",
      "stdout": "",
      "submitted": "2022-07-06T17:48:18.329281Z"
     },
     "output_type": "display_data"
    },
    {
     "data": {
      "text/plain": [
       "\u001b[0;31mOut[1:4]: \u001b[0m(10597, 13)"
      ]
     },
     "metadata": {
      "after": [],
      "completed": "2022-07-06T17:48:18.335790Z",
      "data": {},
      "engine_id": 1,
      "engine_uuid": "9e81f6f7-c1116ecaf784a223ea618bd1",
      "error": null,
      "execute_input": "df.shape\n",
      "execute_result": {
       "data": {
        "text/plain": "(10597, 13)"
       },
       "execution_count": 4,
       "metadata": {}
      },
      "follow": [],
      "is_broadcast": true,
      "is_coalescing": false,
      "msg_id": "2c29fa31-cd2442048f3653adf5fc8978_20666_4_9e81f6f7-c1116ecaf784a223ea618bd1",
      "outputs": [],
      "received": "2022-07-06T17:48:18.338067Z",
      "started": "2022-07-06T17:48:18.333041Z",
      "status": "ok",
      "stderr": "",
      "stdout": "",
      "submitted": "2022-07-06T17:48:18.329281Z"
     },
     "output_type": "display_data"
    },
    {
     "data": {
      "text/plain": [
       "\u001b[0;31mOut[7:4]: \u001b[0m(10597, 13)"
      ]
     },
     "metadata": {
      "after": [],
      "completed": "2022-07-06T17:48:18.335836Z",
      "data": {},
      "engine_id": 7,
      "engine_uuid": "36cbcaf5-7167d3ce488524e1b1ab75e2",
      "error": null,
      "execute_input": "df.shape\n",
      "execute_result": {
       "data": {
        "text/plain": "(10597, 13)"
       },
       "execution_count": 4,
       "metadata": {}
      },
      "follow": [],
      "is_broadcast": true,
      "is_coalescing": false,
      "msg_id": "2c29fa31-cd2442048f3653adf5fc8978_20666_4_36cbcaf5-7167d3ce488524e1b1ab75e2",
      "outputs": [],
      "received": "2022-07-06T17:48:18.339206Z",
      "started": "2022-07-06T17:48:18.333103Z",
      "status": "ok",
      "stderr": "",
      "stdout": "",
      "submitted": "2022-07-06T17:48:18.329281Z"
     },
     "output_type": "display_data"
    },
    {
     "data": {
      "text/plain": [
       "\u001b[0;31mOut[5:4]: \u001b[0m(10597, 13)"
      ]
     },
     "metadata": {
      "after": [],
      "completed": "2022-07-06T17:48:18.336035Z",
      "data": {},
      "engine_id": 5,
      "engine_uuid": "e476ee9b-c7254ce6859f614b9f5ba40a",
      "error": null,
      "execute_input": "df.shape\n",
      "execute_result": {
       "data": {
        "text/plain": "(10597, 13)"
       },
       "execution_count": 4,
       "metadata": {}
      },
      "follow": [],
      "is_broadcast": true,
      "is_coalescing": false,
      "msg_id": "2c29fa31-cd2442048f3653adf5fc8978_20666_4_e476ee9b-c7254ce6859f614b9f5ba40a",
      "outputs": [],
      "received": "2022-07-06T17:48:18.339593Z",
      "started": "2022-07-06T17:48:18.333334Z",
      "status": "ok",
      "stderr": "",
      "stdout": "",
      "submitted": "2022-07-06T17:48:18.329281Z"
     },
     "output_type": "display_data"
    },
    {
     "data": {
      "text/plain": [
       "\u001b[0;31mOut[0:4]: \u001b[0m(10597, 13)"
      ]
     },
     "metadata": {
      "after": [],
      "completed": "2022-07-06T17:48:18.339570Z",
      "data": {},
      "engine_id": 0,
      "engine_uuid": "abd29118-f6e8a93353fcee6e6559f986",
      "error": null,
      "execute_input": "df.shape\n",
      "execute_result": {
       "data": {
        "text/plain": "(10597, 13)"
       },
       "execution_count": 4,
       "metadata": {}
      },
      "follow": [],
      "is_broadcast": true,
      "is_coalescing": false,
      "msg_id": "2c29fa31-cd2442048f3653adf5fc8978_20666_4_abd29118-f6e8a93353fcee6e6559f986",
      "outputs": [],
      "received": "2022-07-06T17:48:18.342719Z",
      "started": "2022-07-06T17:48:18.332810Z",
      "status": "ok",
      "stderr": "",
      "stdout": "",
      "submitted": "2022-07-06T17:48:18.329281Z"
     },
     "output_type": "display_data"
    }
   ],
   "source": [
    "%%px\n",
    "df.shape"
   ]
  },
  {
   "cell_type": "markdown",
   "id": "c4fff8b2-417d-4908-85f4-eb6fc8990598",
   "metadata": {},
   "source": [
    "![image info](https://docs.bodo.ai/2022.6/img/file-read.svg)"
   ]
  },
  {
   "cell_type": "markdown",
   "id": "cc142589-e9d3-4ad3-a19c-5a89857bdca0",
   "metadata": {},
   "source": [
    "## Scalable  I/O\n",
    "Efficient parallel data processing requires data I/O to be parallelized effectively as well. Bodo provides parallel file I/O for many different formats such as Parquet, CSV, JSON, Numpy binaries, HDF5 and SQL databases. This diagram demonstrates how chunks of data are partitioned among parallel execution engines by Bodo.\n",
    "Bodo automatically parallelizes I/O for any number of cores and cluster size without any additional API layers"
   ]
  },
  {
   "cell_type": "markdown",
   "id": "8a1b2b79-a567-4270-90a7-5d01de3c22e2",
   "metadata": {},
   "source": [
    "### Lets check the length of the dataframe, to ensure it matches pandas"
   ]
  },
  {
   "cell_type": "code",
   "execution_count": 5,
   "id": "5608cdc1-8d3a-4622-bec6-6f2cfe30b36a",
   "metadata": {
    "execution": {
     "iopub.execute_input": "2022-07-06T17:48:22.411371Z",
     "iopub.status.busy": "2022-07-06T17:48:22.410912Z",
     "iopub.status.idle": "2022-07-06T17:48:22.430572Z",
     "shell.execute_reply": "2022-07-06T17:48:22.430094Z",
     "shell.execute_reply.started": "2022-07-06T17:48:22.411351Z"
    },
    "tags": []
   },
   "outputs": [
    {
     "data": {
      "text/plain": [
       "[stdout:4] 10597\n"
      ]
     },
     "metadata": {},
     "output_type": "display_data"
    },
    {
     "data": {
      "text/plain": [
       "[stdout:2] 10597\n"
      ]
     },
     "metadata": {},
     "output_type": "display_data"
    },
    {
     "data": {
      "text/plain": [
       "[stdout:0] 10597\n"
      ]
     },
     "metadata": {},
     "output_type": "display_data"
    },
    {
     "data": {
      "text/plain": [
       "[stdout:7] 10597\n"
      ]
     },
     "metadata": {},
     "output_type": "display_data"
    },
    {
     "data": {
      "text/plain": [
       "[stdout:1] 10597\n"
      ]
     },
     "metadata": {},
     "output_type": "display_data"
    },
    {
     "data": {
      "text/plain": [
       "[stdout:3] 10597\n"
      ]
     },
     "metadata": {},
     "output_type": "display_data"
    },
    {
     "data": {
      "text/plain": [
       "[stdout:5] 10597\n"
      ]
     },
     "metadata": {},
     "output_type": "display_data"
    },
    {
     "data": {
      "text/plain": [
       "[stdout:6] 10597\n"
      ]
     },
     "metadata": {},
     "output_type": "display_data"
    }
   ],
   "source": [
    "%%px\n",
    "print(len(df))"
   ]
  },
  {
   "cell_type": "markdown",
   "id": "a6473431-7f1a-47d1-aa00-c72947783fe7",
   "metadata": {},
   "source": [
    "### Bodo for distributed processing\n",
    "The above length does not look right, that is because you are using regular pandas dataframe to calculate this. Length of a dataframe across multiple cores would be a distributed operation, that means we have to combine the length of each shard to get the correct answer. That can be done by using a bodo function. If you dont wrap the operation in a @bodo.jit , it will execute as standard python. "
   ]
  },
  {
   "cell_type": "code",
   "execution_count": 6,
   "id": "f06eb791-526a-4c73-838f-6c600bd8e0fe",
   "metadata": {
    "execution": {
     "iopub.execute_input": "2022-07-06T17:48:25.457177Z",
     "iopub.status.busy": "2022-07-06T17:48:25.456910Z",
     "iopub.status.idle": "2022-07-06T17:48:25.834617Z",
     "shell.execute_reply": "2022-07-06T17:48:25.834122Z",
     "shell.execute_reply.started": "2022-07-06T17:48:25.457159Z"
    },
    "tags": []
   },
   "outputs": [
    {
     "data": {
      "text/plain": [
       "[stdout:0] 84776\n"
      ]
     },
     "metadata": {},
     "output_type": "display_data"
    }
   ],
   "source": [
    "%%px\n",
    "@bodo.jit(cache=True)\n",
    "def get_len(df):\n",
    "    print(len(df))\n",
    "get_len(df)"
   ]
  },
  {
   "cell_type": "markdown",
   "id": "fa92ea4b-9d4a-42d1-937f-c0e90475904d",
   "metadata": {},
   "source": [
    "## Great, we have run a parallel and distributed bodo code on a cluster\n",
    "Each process in a bodo (mpi) cluster is called a rank. Bodo ensures that code and data are evenly distributed across these ranks for a faster scalable and distributed data processing.\n",
    "\n",
    "Let's quickly inspect data in the ranks.\n"
   ]
  },
  {
   "cell_type": "code",
   "execution_count": 7,
   "id": "e95531b2-e150-404e-a46a-fcfb70891c64",
   "metadata": {
    "execution": {
     "iopub.execute_input": "2022-07-06T17:48:30.119808Z",
     "iopub.status.busy": "2022-07-06T17:48:30.119502Z",
     "iopub.status.idle": "2022-07-06T17:48:30.141031Z",
     "shell.execute_reply": "2022-07-06T17:48:30.140561Z",
     "shell.execute_reply.started": "2022-07-06T17:48:30.119788Z"
    },
    "tags": []
   },
   "outputs": [
    {
     "data": {
      "text/html": [
       "<div>\n",
       "<style scoped>\n",
       "    .dataframe tbody tr th:only-of-type {\n",
       "        vertical-align: middle;\n",
       "    }\n",
       "\n",
       "    .dataframe tbody tr th {\n",
       "        vertical-align: top;\n",
       "    }\n",
       "\n",
       "    .dataframe thead th {\n",
       "        text-align: right;\n",
       "    }\n",
       "</style>\n",
       "<table border=\"1\" class=\"dataframe\">\n",
       "  <thead>\n",
       "    <tr style=\"text-align: right;\">\n",
       "      <th></th>\n",
       "      <th>ride_id</th>\n",
       "      <th>rideable_type</th>\n",
       "      <th>started_at</th>\n",
       "      <th>ended_at</th>\n",
       "      <th>start_station_name</th>\n",
       "      <th>start_station_id</th>\n",
       "      <th>end_station_name</th>\n",
       "      <th>end_station_id</th>\n",
       "      <th>start_lat</th>\n",
       "      <th>start_lng</th>\n",
       "      <th>end_lat</th>\n",
       "      <th>end_lng</th>\n",
       "      <th>member_casual</th>\n",
       "    </tr>\n",
       "  </thead>\n",
       "  <tbody>\n",
       "    <tr>\n",
       "      <th>0</th>\n",
       "      <td>A847FADBBC638E45</td>\n",
       "      <td>docked_bike</td>\n",
       "      <td>2020-04-26 17:45:14</td>\n",
       "      <td>2020-04-26 18:12:03</td>\n",
       "      <td>Eckhart Park</td>\n",
       "      <td>86</td>\n",
       "      <td>Lincoln Ave &amp; Diversey Pkwy</td>\n",
       "      <td>152</td>\n",
       "      <td>41.8964</td>\n",
       "      <td>-87.6610</td>\n",
       "      <td>41.9322</td>\n",
       "      <td>-87.6586</td>\n",
       "      <td>member</td>\n",
       "    </tr>\n",
       "    <tr>\n",
       "      <th>1</th>\n",
       "      <td>5405B80E996FF60D</td>\n",
       "      <td>docked_bike</td>\n",
       "      <td>2020-04-17 17:08:54</td>\n",
       "      <td>2020-04-17 17:17:03</td>\n",
       "      <td>Drake Ave &amp; Fullerton Ave</td>\n",
       "      <td>503</td>\n",
       "      <td>Kosciuszko Park</td>\n",
       "      <td>499</td>\n",
       "      <td>41.9244</td>\n",
       "      <td>-87.7154</td>\n",
       "      <td>41.9306</td>\n",
       "      <td>-87.7238</td>\n",
       "      <td>member</td>\n",
       "    </tr>\n",
       "    <tr>\n",
       "      <th>2</th>\n",
       "      <td>5DD24A79A4E006F4</td>\n",
       "      <td>docked_bike</td>\n",
       "      <td>2020-04-01 17:54:13</td>\n",
       "      <td>2020-04-01 18:08:36</td>\n",
       "      <td>McClurg Ct &amp; Erie St</td>\n",
       "      <td>142</td>\n",
       "      <td>Indiana Ave &amp; Roosevelt Rd</td>\n",
       "      <td>255</td>\n",
       "      <td>41.8945</td>\n",
       "      <td>-87.6179</td>\n",
       "      <td>41.8679</td>\n",
       "      <td>-87.6230</td>\n",
       "      <td>member</td>\n",
       "    </tr>\n",
       "    <tr>\n",
       "      <th>3</th>\n",
       "      <td>2A59BBDF5CDBA725</td>\n",
       "      <td>docked_bike</td>\n",
       "      <td>2020-04-07 12:50:19</td>\n",
       "      <td>2020-04-07 13:02:31</td>\n",
       "      <td>California Ave &amp; Division St</td>\n",
       "      <td>216</td>\n",
       "      <td>Wood St &amp; Augusta Blvd</td>\n",
       "      <td>657</td>\n",
       "      <td>41.9030</td>\n",
       "      <td>-87.6975</td>\n",
       "      <td>41.8992</td>\n",
       "      <td>-87.6722</td>\n",
       "      <td>member</td>\n",
       "    </tr>\n",
       "    <tr>\n",
       "      <th>4</th>\n",
       "      <td>27AD306C119C6158</td>\n",
       "      <td>docked_bike</td>\n",
       "      <td>2020-04-18 10:22:59</td>\n",
       "      <td>2020-04-18 11:15:54</td>\n",
       "      <td>Rush St &amp; Hubbard St</td>\n",
       "      <td>125</td>\n",
       "      <td>Sheridan Rd &amp; Lawrence Ave</td>\n",
       "      <td>323</td>\n",
       "      <td>41.8902</td>\n",
       "      <td>-87.6262</td>\n",
       "      <td>41.9695</td>\n",
       "      <td>-87.6547</td>\n",
       "      <td>casual</td>\n",
       "    </tr>\n",
       "    <tr>\n",
       "      <th>...</th>\n",
       "      <td>...</td>\n",
       "      <td>...</td>\n",
       "      <td>...</td>\n",
       "      <td>...</td>\n",
       "      <td>...</td>\n",
       "      <td>...</td>\n",
       "      <td>...</td>\n",
       "      <td>...</td>\n",
       "      <td>...</td>\n",
       "      <td>...</td>\n",
       "      <td>...</td>\n",
       "      <td>...</td>\n",
       "      <td>...</td>\n",
       "    </tr>\n",
       "    <tr>\n",
       "      <th>10592</th>\n",
       "      <td>3C80C8C5E5A8CE7C</td>\n",
       "      <td>docked_bike</td>\n",
       "      <td>2020-04-19 12:55:40</td>\n",
       "      <td>2020-04-19 13:16:41</td>\n",
       "      <td>Damen Ave &amp; Charleston St</td>\n",
       "      <td>310</td>\n",
       "      <td>Western Ave &amp; Walton St</td>\n",
       "      <td>374</td>\n",
       "      <td>41.9201</td>\n",
       "      <td>-87.6779</td>\n",
       "      <td>41.8984</td>\n",
       "      <td>-87.6866</td>\n",
       "      <td>member</td>\n",
       "    </tr>\n",
       "    <tr>\n",
       "      <th>10593</th>\n",
       "      <td>6C36A85193EC130C</td>\n",
       "      <td>docked_bike</td>\n",
       "      <td>2020-04-19 14:14:25</td>\n",
       "      <td>2020-04-19 14:27:28</td>\n",
       "      <td>Western Ave &amp; Walton St</td>\n",
       "      <td>374</td>\n",
       "      <td>Damen Ave &amp; Charleston St</td>\n",
       "      <td>310</td>\n",
       "      <td>41.8984</td>\n",
       "      <td>-87.6866</td>\n",
       "      <td>41.9201</td>\n",
       "      <td>-87.6779</td>\n",
       "      <td>member</td>\n",
       "    </tr>\n",
       "    <tr>\n",
       "      <th>10594</th>\n",
       "      <td>A0DA8D82BE8FA614</td>\n",
       "      <td>docked_bike</td>\n",
       "      <td>2020-04-19 12:23:22</td>\n",
       "      <td>2020-04-19 12:34:01</td>\n",
       "      <td>Clark St &amp; Chicago Ave</td>\n",
       "      <td>337</td>\n",
       "      <td>Kingsbury St &amp; Kinzie St</td>\n",
       "      <td>133</td>\n",
       "      <td>41.8968</td>\n",
       "      <td>-87.6309</td>\n",
       "      <td>41.8892</td>\n",
       "      <td>-87.6385</td>\n",
       "      <td>casual</td>\n",
       "    </tr>\n",
       "    <tr>\n",
       "      <th>10595</th>\n",
       "      <td>B1876A43AAD8D8C4</td>\n",
       "      <td>docked_bike</td>\n",
       "      <td>2020-04-07 12:54:29</td>\n",
       "      <td>2020-04-07 13:12:35</td>\n",
       "      <td>Sheffield Ave &amp; Webster Ave</td>\n",
       "      <td>327</td>\n",
       "      <td>Cannon Dr &amp; Fullerton Ave</td>\n",
       "      <td>34</td>\n",
       "      <td>41.9215</td>\n",
       "      <td>-87.6538</td>\n",
       "      <td>41.9268</td>\n",
       "      <td>-87.6344</td>\n",
       "      <td>casual</td>\n",
       "    </tr>\n",
       "    <tr>\n",
       "      <th>10596</th>\n",
       "      <td>603C68C4A023043B</td>\n",
       "      <td>docked_bike</td>\n",
       "      <td>2020-04-03 16:52:20</td>\n",
       "      <td>2020-04-03 17:21:33</td>\n",
       "      <td>Avers Ave &amp; Belmont Ave</td>\n",
       "      <td>496</td>\n",
       "      <td>Damen Ave &amp; Chicago Ave</td>\n",
       "      <td>128</td>\n",
       "      <td>41.9394</td>\n",
       "      <td>-87.7236</td>\n",
       "      <td>41.8958</td>\n",
       "      <td>-87.6772</td>\n",
       "      <td>member</td>\n",
       "    </tr>\n",
       "  </tbody>\n",
       "</table>\n",
       "<p>10597 rows × 13 columns</p>\n",
       "</div>"
      ],
      "text/plain": [
       "\u001b[0;31mOut[0:7]: \u001b[0m\n",
       "                ride_id rideable_type           started_at  \\\n",
       "0      A847FADBBC638E45   docked_bike  2020-04-26 17:45:14   \n",
       "1      5405B80E996FF60D   docked_bike  2020-04-17 17:08:54   \n",
       "2      5DD24A79A4E006F4   docked_bike  2020-04-01 17:54:13   \n",
       "3      2A59BBDF5CDBA725   docked_bike  2020-04-07 12:50:19   \n",
       "4      27AD306C119C6158   docked_bike  2020-04-18 10:22:59   \n",
       "...                 ...           ...                  ...   \n",
       "10592  3C80C8C5E5A8CE7C   docked_bike  2020-04-19 12:55:40   \n",
       "10593  6C36A85193EC130C   docked_bike  2020-04-19 14:14:25   \n",
       "10594  A0DA8D82BE8FA614   docked_bike  2020-04-19 12:23:22   \n",
       "10595  B1876A43AAD8D8C4   docked_bike  2020-04-07 12:54:29   \n",
       "10596  603C68C4A023043B   docked_bike  2020-04-03 16:52:20   \n",
       "\n",
       "                  ended_at            start_station_name  start_station_id  \\\n",
       "0      2020-04-26 18:12:03                  Eckhart Park                86   \n",
       "1      2020-04-17 17:17:03     Drake Ave & Fullerton Ave               503   \n",
       "2      2020-04-01 18:08:36          McClurg Ct & Erie St               142   \n",
       "3      2020-04-07 13:02:31  California Ave & Division St               216   \n",
       "4      2020-04-18 11:15:54          Rush St & Hubbard St               125   \n",
       "...                    ...                           ...               ...   \n",
       "10592  2020-04-19 13:16:41     Damen Ave & Charleston St               310   \n",
       "10593  2020-04-19 14:27:28       Western Ave & Walton St               374   \n",
       "10594  2020-04-19 12:34:01        Clark St & Chicago Ave               337   \n",
       "10595  2020-04-07 13:12:35   Sheffield Ave & Webster Ave               327   \n",
       "10596  2020-04-03 17:21:33       Avers Ave & Belmont Ave               496   \n",
       "\n",
       "                  end_station_name  end_station_id  start_lat  start_lng  \\\n",
       "0      Lincoln Ave & Diversey Pkwy             152    41.8964   -87.6610   \n",
       "1                  Kosciuszko Park             499    41.9244   -87.7154   \n",
       "2       Indiana Ave & Roosevelt Rd             255    41.8945   -87.6179   \n",
       "3           Wood St & Augusta Blvd             657    41.9030   -87.6975   \n",
       "4       Sheridan Rd & Lawrence Ave             323    41.8902   -87.6262   \n",
       "...                            ...             ...        ...        ...   \n",
       "10592      Western Ave & Walton St             374    41.9201   -87.6779   \n",
       "10593    Damen Ave & Charleston St             310    41.8984   -87.6866   \n",
       "10594     Kingsbury St & Kinzie St             133    41.8968   -87.6309   \n",
       "10595    Cannon Dr & Fullerton Ave              34    41.9215   -87.6538   \n",
       "10596      Damen Ave & Chicago Ave             128    41.9394   -87.7236   \n",
       "\n",
       "       end_lat  end_lng member_casual  \n",
       "0      41.9322 -87.6586        member  \n",
       "1      41.9306 -87.7238        member  \n",
       "2      41.8679 -87.6230        member  \n",
       "3      41.8992 -87.6722        member  \n",
       "4      41.9695 -87.6547        casual  \n",
       "...        ...      ...           ...  \n",
       "10592  41.8984 -87.6866        member  \n",
       "10593  41.9201 -87.6779        member  \n",
       "10594  41.8892 -87.6385        casual  \n",
       "10595  41.9268 -87.6344        casual  \n",
       "10596  41.8958 -87.6772        member  \n",
       "\n",
       "[10597 rows x 13 columns]"
      ]
     },
     "metadata": {
      "after": null,
      "completed": null,
      "data": {},
      "engine_id": 0,
      "engine_uuid": "abd29118-f6e8a93353fcee6e6559f986",
      "error": null,
      "execute_input": "df\n",
      "execute_result": {
       "data": {
        "text/html": "<div>\n<style scoped>\n    .dataframe tbody tr th:only-of-type {\n        vertical-align: middle;\n    }\n\n    .dataframe tbody tr th {\n        vertical-align: top;\n    }\n\n    .dataframe thead th {\n        text-align: right;\n    }\n</style>\n<table border=\"1\" class=\"dataframe\">\n  <thead>\n    <tr style=\"text-align: right;\">\n      <th></th>\n      <th>ride_id</th>\n      <th>rideable_type</th>\n      <th>started_at</th>\n      <th>ended_at</th>\n      <th>start_station_name</th>\n      <th>start_station_id</th>\n      <th>end_station_name</th>\n      <th>end_station_id</th>\n      <th>start_lat</th>\n      <th>start_lng</th>\n      <th>end_lat</th>\n      <th>end_lng</th>\n      <th>member_casual</th>\n    </tr>\n  </thead>\n  <tbody>\n    <tr>\n      <th>0</th>\n      <td>A847FADBBC638E45</td>\n      <td>docked_bike</td>\n      <td>2020-04-26 17:45:14</td>\n      <td>2020-04-26 18:12:03</td>\n      <td>Eckhart Park</td>\n      <td>86</td>\n      <td>Lincoln Ave &amp; Diversey Pkwy</td>\n      <td>152</td>\n      <td>41.8964</td>\n      <td>-87.6610</td>\n      <td>41.9322</td>\n      <td>-87.6586</td>\n      <td>member</td>\n    </tr>\n    <tr>\n      <th>1</th>\n      <td>5405B80E996FF60D</td>\n      <td>docked_bike</td>\n      <td>2020-04-17 17:08:54</td>\n      <td>2020-04-17 17:17:03</td>\n      <td>Drake Ave &amp; Fullerton Ave</td>\n      <td>503</td>\n      <td>Kosciuszko Park</td>\n      <td>499</td>\n      <td>41.9244</td>\n      <td>-87.7154</td>\n      <td>41.9306</td>\n      <td>-87.7238</td>\n      <td>member</td>\n    </tr>\n    <tr>\n      <th>2</th>\n      <td>5DD24A79A4E006F4</td>\n      <td>docked_bike</td>\n      <td>2020-04-01 17:54:13</td>\n      <td>2020-04-01 18:08:36</td>\n      <td>McClurg Ct &amp; Erie St</td>\n      <td>142</td>\n      <td>Indiana Ave &amp; Roosevelt Rd</td>\n      <td>255</td>\n      <td>41.8945</td>\n      <td>-87.6179</td>\n      <td>41.8679</td>\n      <td>-87.6230</td>\n      <td>member</td>\n    </tr>\n    <tr>\n      <th>3</th>\n      <td>2A59BBDF5CDBA725</td>\n      <td>docked_bike</td>\n      <td>2020-04-07 12:50:19</td>\n      <td>2020-04-07 13:02:31</td>\n      <td>California Ave &amp; Division St</td>\n      <td>216</td>\n      <td>Wood St &amp; Augusta Blvd</td>\n      <td>657</td>\n      <td>41.9030</td>\n      <td>-87.6975</td>\n      <td>41.8992</td>\n      <td>-87.6722</td>\n      <td>member</td>\n    </tr>\n    <tr>\n      <th>4</th>\n      <td>27AD306C119C6158</td>\n      <td>docked_bike</td>\n      <td>2020-04-18 10:22:59</td>\n      <td>2020-04-18 11:15:54</td>\n      <td>Rush St &amp; Hubbard St</td>\n      <td>125</td>\n      <td>Sheridan Rd &amp; Lawrence Ave</td>\n      <td>323</td>\n      <td>41.8902</td>\n      <td>-87.6262</td>\n      <td>41.9695</td>\n      <td>-87.6547</td>\n      <td>casual</td>\n    </tr>\n    <tr>\n      <th>...</th>\n      <td>...</td>\n      <td>...</td>\n      <td>...</td>\n      <td>...</td>\n      <td>...</td>\n      <td>...</td>\n      <td>...</td>\n      <td>...</td>\n      <td>...</td>\n      <td>...</td>\n      <td>...</td>\n      <td>...</td>\n      <td>...</td>\n    </tr>\n    <tr>\n      <th>10592</th>\n      <td>3C80C8C5E5A8CE7C</td>\n      <td>docked_bike</td>\n      <td>2020-04-19 12:55:40</td>\n      <td>2020-04-19 13:16:41</td>\n      <td>Damen Ave &amp; Charleston St</td>\n      <td>310</td>\n      <td>Western Ave &amp; Walton St</td>\n      <td>374</td>\n      <td>41.9201</td>\n      <td>-87.6779</td>\n      <td>41.8984</td>\n      <td>-87.6866</td>\n      <td>member</td>\n    </tr>\n    <tr>\n      <th>10593</th>\n      <td>6C36A85193EC130C</td>\n      <td>docked_bike</td>\n      <td>2020-04-19 14:14:25</td>\n      <td>2020-04-19 14:27:28</td>\n      <td>Western Ave &amp; Walton St</td>\n      <td>374</td>\n      <td>Damen Ave &amp; Charleston St</td>\n      <td>310</td>\n      <td>41.8984</td>\n      <td>-87.6866</td>\n      <td>41.9201</td>\n      <td>-87.6779</td>\n      <td>member</td>\n    </tr>\n    <tr>\n      <th>10594</th>\n      <td>A0DA8D82BE8FA614</td>\n      <td>docked_bike</td>\n      <td>2020-04-19 12:23:22</td>\n      <td>2020-04-19 12:34:01</td>\n      <td>Clark St &amp; Chicago Ave</td>\n      <td>337</td>\n      <td>Kingsbury St &amp; Kinzie St</td>\n      <td>133</td>\n      <td>41.8968</td>\n      <td>-87.6309</td>\n      <td>41.8892</td>\n      <td>-87.6385</td>\n      <td>casual</td>\n    </tr>\n    <tr>\n      <th>10595</th>\n      <td>B1876A43AAD8D8C4</td>\n      <td>docked_bike</td>\n      <td>2020-04-07 12:54:29</td>\n      <td>2020-04-07 13:12:35</td>\n      <td>Sheffield Ave &amp; Webster Ave</td>\n      <td>327</td>\n      <td>Cannon Dr &amp; Fullerton Ave</td>\n      <td>34</td>\n      <td>41.9215</td>\n      <td>-87.6538</td>\n      <td>41.9268</td>\n      <td>-87.6344</td>\n      <td>casual</td>\n    </tr>\n    <tr>\n      <th>10596</th>\n      <td>603C68C4A023043B</td>\n      <td>docked_bike</td>\n      <td>2020-04-03 16:52:20</td>\n      <td>2020-04-03 17:21:33</td>\n      <td>Avers Ave &amp; Belmont Ave</td>\n      <td>496</td>\n      <td>Damen Ave &amp; Chicago Ave</td>\n      <td>128</td>\n      <td>41.9394</td>\n      <td>-87.7236</td>\n      <td>41.8958</td>\n      <td>-87.6772</td>\n      <td>member</td>\n    </tr>\n  </tbody>\n</table>\n<p>10597 rows × 13 columns</p>\n</div>",
        "text/plain": "                ride_id rideable_type           started_at  \\\n0      A847FADBBC638E45   docked_bike  2020-04-26 17:45:14   \n1      5405B80E996FF60D   docked_bike  2020-04-17 17:08:54   \n2      5DD24A79A4E006F4   docked_bike  2020-04-01 17:54:13   \n3      2A59BBDF5CDBA725   docked_bike  2020-04-07 12:50:19   \n4      27AD306C119C6158   docked_bike  2020-04-18 10:22:59   \n...                 ...           ...                  ...   \n10592  3C80C8C5E5A8CE7C   docked_bike  2020-04-19 12:55:40   \n10593  6C36A85193EC130C   docked_bike  2020-04-19 14:14:25   \n10594  A0DA8D82BE8FA614   docked_bike  2020-04-19 12:23:22   \n10595  B1876A43AAD8D8C4   docked_bike  2020-04-07 12:54:29   \n10596  603C68C4A023043B   docked_bike  2020-04-03 16:52:20   \n\n                  ended_at            start_station_name  start_station_id  \\\n0      2020-04-26 18:12:03                  Eckhart Park                86   \n1      2020-04-17 17:17:03     Drake Ave & Fullerton Ave               503   \n2      2020-04-01 18:08:36          McClurg Ct & Erie St               142   \n3      2020-04-07 13:02:31  California Ave & Division St               216   \n4      2020-04-18 11:15:54          Rush St & Hubbard St               125   \n...                    ...                           ...               ...   \n10592  2020-04-19 13:16:41     Damen Ave & Charleston St               310   \n10593  2020-04-19 14:27:28       Western Ave & Walton St               374   \n10594  2020-04-19 12:34:01        Clark St & Chicago Ave               337   \n10595  2020-04-07 13:12:35   Sheffield Ave & Webster Ave               327   \n10596  2020-04-03 17:21:33       Avers Ave & Belmont Ave               496   \n\n                  end_station_name  end_station_id  start_lat  start_lng  \\\n0      Lincoln Ave & Diversey Pkwy             152    41.8964   -87.6610   \n1                  Kosciuszko Park             499    41.9244   -87.7154   \n2       Indiana Ave & Roosevelt Rd             255    41.8945   -87.6179   \n3           Wood St & Augusta Blvd             657    41.9030   -87.6975   \n4       Sheridan Rd & Lawrence Ave             323    41.8902   -87.6262   \n...                            ...             ...        ...        ...   \n10592      Western Ave & Walton St             374    41.9201   -87.6779   \n10593    Damen Ave & Charleston St             310    41.8984   -87.6866   \n10594     Kingsbury St & Kinzie St             133    41.8968   -87.6309   \n10595    Cannon Dr & Fullerton Ave              34    41.9215   -87.6538   \n10596      Damen Ave & Chicago Ave             128    41.9394   -87.7236   \n\n       end_lat  end_lng member_casual  \n0      41.9322 -87.6586        member  \n1      41.9306 -87.7238        member  \n2      41.8679 -87.6230        member  \n3      41.8992 -87.6722        member  \n4      41.9695 -87.6547        casual  \n...        ...      ...           ...  \n10592  41.8984 -87.6866        member  \n10593  41.9201 -87.6779        member  \n10594  41.8892 -87.6385        casual  \n10595  41.9268 -87.6344        casual  \n10596  41.8958 -87.6772        member  \n\n[10597 rows x 13 columns]"
       },
       "execution_count": 7,
       "metadata": {}
      },
      "follow": null,
      "msg_id": null,
      "outputs": [],
      "received": null,
      "started": null,
      "status": null,
      "stderr": "",
      "stdout": "",
      "submitted": "2022-07-06T17:48:30.121143Z"
     },
     "output_type": "display_data"
    }
   ],
   "source": [
    "%%px --targets 0\n",
    "df"
   ]
  },
  {
   "cell_type": "code",
   "execution_count": 8,
   "id": "15495ba8-b7d8-4738-9f79-d2f2a61e71f6",
   "metadata": {
    "execution": {
     "iopub.execute_input": "2022-07-06T17:48:33.313031Z",
     "iopub.status.busy": "2022-07-06T17:48:33.312765Z",
     "iopub.status.idle": "2022-07-06T17:48:33.335964Z",
     "shell.execute_reply": "2022-07-06T17:48:33.335519Z",
     "shell.execute_reply.started": "2022-07-06T17:48:33.313012Z"
    },
    "tags": []
   },
   "outputs": [
    {
     "data": {
      "text/html": [
       "<div>\n",
       "<style scoped>\n",
       "    .dataframe tbody tr th:only-of-type {\n",
       "        vertical-align: middle;\n",
       "    }\n",
       "\n",
       "    .dataframe tbody tr th {\n",
       "        vertical-align: top;\n",
       "    }\n",
       "\n",
       "    .dataframe thead th {\n",
       "        text-align: right;\n",
       "    }\n",
       "</style>\n",
       "<table border=\"1\" class=\"dataframe\">\n",
       "  <thead>\n",
       "    <tr style=\"text-align: right;\">\n",
       "      <th></th>\n",
       "      <th>ride_id</th>\n",
       "      <th>rideable_type</th>\n",
       "      <th>started_at</th>\n",
       "      <th>ended_at</th>\n",
       "      <th>start_station_name</th>\n",
       "      <th>start_station_id</th>\n",
       "      <th>end_station_name</th>\n",
       "      <th>end_station_id</th>\n",
       "      <th>start_lat</th>\n",
       "      <th>start_lng</th>\n",
       "      <th>end_lat</th>\n",
       "      <th>end_lng</th>\n",
       "      <th>member_casual</th>\n",
       "    </tr>\n",
       "  </thead>\n",
       "  <tbody>\n",
       "    <tr>\n",
       "      <th>10597</th>\n",
       "      <td>21A370135335E189</td>\n",
       "      <td>docked_bike</td>\n",
       "      <td>2020-04-19 10:55:55</td>\n",
       "      <td>2020-04-19 11:24:20</td>\n",
       "      <td>Sedgwick St &amp; Schiller St</td>\n",
       "      <td>236</td>\n",
       "      <td>Sedgwick St &amp; Schiller St</td>\n",
       "      <td>236</td>\n",
       "      <td>41.9076</td>\n",
       "      <td>-87.6386</td>\n",
       "      <td>41.9076</td>\n",
       "      <td>-87.6386</td>\n",
       "      <td>casual</td>\n",
       "    </tr>\n",
       "    <tr>\n",
       "      <th>10598</th>\n",
       "      <td>D0CBA40D168549C6</td>\n",
       "      <td>docked_bike</td>\n",
       "      <td>2020-04-04 14:27:39</td>\n",
       "      <td>2020-04-04 14:56:30</td>\n",
       "      <td>Rush St &amp; Hubbard St</td>\n",
       "      <td>125</td>\n",
       "      <td>Wabash Ave &amp; Grand Ave</td>\n",
       "      <td>199</td>\n",
       "      <td>41.8902</td>\n",
       "      <td>-87.6262</td>\n",
       "      <td>41.8915</td>\n",
       "      <td>-87.6268</td>\n",
       "      <td>casual</td>\n",
       "    </tr>\n",
       "    <tr>\n",
       "      <th>10599</th>\n",
       "      <td>C9A860BBF400D30C</td>\n",
       "      <td>docked_bike</td>\n",
       "      <td>2020-04-19 13:51:38</td>\n",
       "      <td>2020-04-19 15:43:54</td>\n",
       "      <td>Millennium Park</td>\n",
       "      <td>90</td>\n",
       "      <td>Columbus Dr &amp; Randolph St</td>\n",
       "      <td>195</td>\n",
       "      <td>41.8810</td>\n",
       "      <td>-87.6241</td>\n",
       "      <td>41.8847</td>\n",
       "      <td>-87.6195</td>\n",
       "      <td>casual</td>\n",
       "    </tr>\n",
       "    <tr>\n",
       "      <th>10600</th>\n",
       "      <td>4E8CD11CA5AE87CA</td>\n",
       "      <td>docked_bike</td>\n",
       "      <td>2020-04-04 15:53:54</td>\n",
       "      <td>2020-04-04 16:23:58</td>\n",
       "      <td>Richmond St &amp; Diversey Ave</td>\n",
       "      <td>501</td>\n",
       "      <td>Winchester Ave &amp; Elston Ave</td>\n",
       "      <td>505</td>\n",
       "      <td>41.9319</td>\n",
       "      <td>-87.7012</td>\n",
       "      <td>41.9241</td>\n",
       "      <td>-87.6765</td>\n",
       "      <td>casual</td>\n",
       "    </tr>\n",
       "    <tr>\n",
       "      <th>10601</th>\n",
       "      <td>CC0557DEF4F7B2AB</td>\n",
       "      <td>docked_bike</td>\n",
       "      <td>2020-04-23 07:57:07</td>\n",
       "      <td>2020-04-23 08:05:30</td>\n",
       "      <td>Franklin St &amp; Chicago Ave</td>\n",
       "      <td>31</td>\n",
       "      <td>Milwaukee Ave &amp; Grand Ave</td>\n",
       "      <td>84</td>\n",
       "      <td>41.8967</td>\n",
       "      <td>-87.6357</td>\n",
       "      <td>41.8916</td>\n",
       "      <td>-87.6484</td>\n",
       "      <td>casual</td>\n",
       "    </tr>\n",
       "    <tr>\n",
       "      <th>...</th>\n",
       "      <td>...</td>\n",
       "      <td>...</td>\n",
       "      <td>...</td>\n",
       "      <td>...</td>\n",
       "      <td>...</td>\n",
       "      <td>...</td>\n",
       "      <td>...</td>\n",
       "      <td>...</td>\n",
       "      <td>...</td>\n",
       "      <td>...</td>\n",
       "      <td>...</td>\n",
       "      <td>...</td>\n",
       "      <td>...</td>\n",
       "    </tr>\n",
       "    <tr>\n",
       "      <th>21189</th>\n",
       "      <td>3B121E191651B551</td>\n",
       "      <td>docked_bike</td>\n",
       "      <td>2020-04-26 19:09:23</td>\n",
       "      <td>2020-04-26 19:17:43</td>\n",
       "      <td>Halsted St &amp; 18th St</td>\n",
       "      <td>202</td>\n",
       "      <td>Wabash Ave &amp; 16th St</td>\n",
       "      <td>72</td>\n",
       "      <td>41.8575</td>\n",
       "      <td>-87.6463</td>\n",
       "      <td>41.8604</td>\n",
       "      <td>-87.6258</td>\n",
       "      <td>member</td>\n",
       "    </tr>\n",
       "    <tr>\n",
       "      <th>21190</th>\n",
       "      <td>8FED4B3A3526BC1A</td>\n",
       "      <td>docked_bike</td>\n",
       "      <td>2020-04-20 12:09:40</td>\n",
       "      <td>2020-04-20 12:17:17</td>\n",
       "      <td>Ashland Ave &amp; Augusta Blvd</td>\n",
       "      <td>30</td>\n",
       "      <td>Ogden Ave &amp; Race Ave</td>\n",
       "      <td>186</td>\n",
       "      <td>41.8996</td>\n",
       "      <td>-87.6677</td>\n",
       "      <td>41.8918</td>\n",
       "      <td>-87.6588</td>\n",
       "      <td>member</td>\n",
       "    </tr>\n",
       "    <tr>\n",
       "      <th>21191</th>\n",
       "      <td>2E060803F362E81F</td>\n",
       "      <td>docked_bike</td>\n",
       "      <td>2020-04-20 19:17:50</td>\n",
       "      <td>2020-04-20 19:26:27</td>\n",
       "      <td>Ashland Ave &amp; Augusta Blvd</td>\n",
       "      <td>30</td>\n",
       "      <td>Ashland Ave &amp; Division St</td>\n",
       "      <td>210</td>\n",
       "      <td>41.8996</td>\n",
       "      <td>-87.6677</td>\n",
       "      <td>41.9035</td>\n",
       "      <td>-87.6677</td>\n",
       "      <td>member</td>\n",
       "    </tr>\n",
       "    <tr>\n",
       "      <th>21192</th>\n",
       "      <td>A68FBAE9D2691584</td>\n",
       "      <td>docked_bike</td>\n",
       "      <td>2020-04-23 10:00:48</td>\n",
       "      <td>2020-04-23 10:30:44</td>\n",
       "      <td>Kedzie Ave &amp; Harrison St</td>\n",
       "      <td>433</td>\n",
       "      <td>Ashland Ave &amp; Blackhawk St</td>\n",
       "      <td>333</td>\n",
       "      <td>41.8736</td>\n",
       "      <td>-87.7049</td>\n",
       "      <td>41.9071</td>\n",
       "      <td>-87.6673</td>\n",
       "      <td>member</td>\n",
       "    </tr>\n",
       "    <tr>\n",
       "      <th>21193</th>\n",
       "      <td>6F54770DE2D9C1F2</td>\n",
       "      <td>docked_bike</td>\n",
       "      <td>2020-04-05 12:49:49</td>\n",
       "      <td>2020-04-05 13:00:01</td>\n",
       "      <td>Clarendon Ave &amp; Junior Ter</td>\n",
       "      <td>245</td>\n",
       "      <td>Broadway &amp; Cornelia Ave</td>\n",
       "      <td>303</td>\n",
       "      <td>41.9610</td>\n",
       "      <td>-87.6496</td>\n",
       "      <td>41.9455</td>\n",
       "      <td>-87.6464</td>\n",
       "      <td>member</td>\n",
       "    </tr>\n",
       "  </tbody>\n",
       "</table>\n",
       "<p>10597 rows × 13 columns</p>\n",
       "</div>"
      ],
      "text/plain": [
       "\u001b[0;31mOut[1:7]: \u001b[0m\n",
       "                ride_id rideable_type           started_at  \\\n",
       "10597  21A370135335E189   docked_bike  2020-04-19 10:55:55   \n",
       "10598  D0CBA40D168549C6   docked_bike  2020-04-04 14:27:39   \n",
       "10599  C9A860BBF400D30C   docked_bike  2020-04-19 13:51:38   \n",
       "10600  4E8CD11CA5AE87CA   docked_bike  2020-04-04 15:53:54   \n",
       "10601  CC0557DEF4F7B2AB   docked_bike  2020-04-23 07:57:07   \n",
       "...                 ...           ...                  ...   \n",
       "21189  3B121E191651B551   docked_bike  2020-04-26 19:09:23   \n",
       "21190  8FED4B3A3526BC1A   docked_bike  2020-04-20 12:09:40   \n",
       "21191  2E060803F362E81F   docked_bike  2020-04-20 19:17:50   \n",
       "21192  A68FBAE9D2691584   docked_bike  2020-04-23 10:00:48   \n",
       "21193  6F54770DE2D9C1F2   docked_bike  2020-04-05 12:49:49   \n",
       "\n",
       "                  ended_at          start_station_name  start_station_id  \\\n",
       "10597  2020-04-19 11:24:20   Sedgwick St & Schiller St               236   \n",
       "10598  2020-04-04 14:56:30        Rush St & Hubbard St               125   \n",
       "10599  2020-04-19 15:43:54             Millennium Park                90   \n",
       "10600  2020-04-04 16:23:58  Richmond St & Diversey Ave               501   \n",
       "10601  2020-04-23 08:05:30   Franklin St & Chicago Ave                31   \n",
       "...                    ...                         ...               ...   \n",
       "21189  2020-04-26 19:17:43        Halsted St & 18th St               202   \n",
       "21190  2020-04-20 12:17:17  Ashland Ave & Augusta Blvd                30   \n",
       "21191  2020-04-20 19:26:27  Ashland Ave & Augusta Blvd                30   \n",
       "21192  2020-04-23 10:30:44    Kedzie Ave & Harrison St               433   \n",
       "21193  2020-04-05 13:00:01  Clarendon Ave & Junior Ter               245   \n",
       "\n",
       "                  end_station_name  end_station_id  start_lat  start_lng  \\\n",
       "10597    Sedgwick St & Schiller St             236    41.9076   -87.6386   \n",
       "10598       Wabash Ave & Grand Ave             199    41.8902   -87.6262   \n",
       "10599    Columbus Dr & Randolph St             195    41.8810   -87.6241   \n",
       "10600  Winchester Ave & Elston Ave             505    41.9319   -87.7012   \n",
       "10601    Milwaukee Ave & Grand Ave              84    41.8967   -87.6357   \n",
       "...                            ...             ...        ...        ...   \n",
       "21189         Wabash Ave & 16th St              72    41.8575   -87.6463   \n",
       "21190         Ogden Ave & Race Ave             186    41.8996   -87.6677   \n",
       "21191    Ashland Ave & Division St             210    41.8996   -87.6677   \n",
       "21192   Ashland Ave & Blackhawk St             333    41.8736   -87.7049   \n",
       "21193      Broadway & Cornelia Ave             303    41.9610   -87.6496   \n",
       "\n",
       "       end_lat  end_lng member_casual  \n",
       "10597  41.9076 -87.6386        casual  \n",
       "10598  41.8915 -87.6268        casual  \n",
       "10599  41.8847 -87.6195        casual  \n",
       "10600  41.9241 -87.6765        casual  \n",
       "10601  41.8916 -87.6484        casual  \n",
       "...        ...      ...           ...  \n",
       "21189  41.8604 -87.6258        member  \n",
       "21190  41.8918 -87.6588        member  \n",
       "21191  41.9035 -87.6677        member  \n",
       "21192  41.9071 -87.6673        member  \n",
       "21193  41.9455 -87.6464        member  \n",
       "\n",
       "[10597 rows x 13 columns]"
      ]
     },
     "metadata": {
      "after": null,
      "completed": null,
      "data": {},
      "engine_id": 1,
      "engine_uuid": "9e81f6f7-c1116ecaf784a223ea618bd1",
      "error": null,
      "execute_input": "df\n",
      "execute_result": {
       "data": {
        "text/html": "<div>\n<style scoped>\n    .dataframe tbody tr th:only-of-type {\n        vertical-align: middle;\n    }\n\n    .dataframe tbody tr th {\n        vertical-align: top;\n    }\n\n    .dataframe thead th {\n        text-align: right;\n    }\n</style>\n<table border=\"1\" class=\"dataframe\">\n  <thead>\n    <tr style=\"text-align: right;\">\n      <th></th>\n      <th>ride_id</th>\n      <th>rideable_type</th>\n      <th>started_at</th>\n      <th>ended_at</th>\n      <th>start_station_name</th>\n      <th>start_station_id</th>\n      <th>end_station_name</th>\n      <th>end_station_id</th>\n      <th>start_lat</th>\n      <th>start_lng</th>\n      <th>end_lat</th>\n      <th>end_lng</th>\n      <th>member_casual</th>\n    </tr>\n  </thead>\n  <tbody>\n    <tr>\n      <th>10597</th>\n      <td>21A370135335E189</td>\n      <td>docked_bike</td>\n      <td>2020-04-19 10:55:55</td>\n      <td>2020-04-19 11:24:20</td>\n      <td>Sedgwick St &amp; Schiller St</td>\n      <td>236</td>\n      <td>Sedgwick St &amp; Schiller St</td>\n      <td>236</td>\n      <td>41.9076</td>\n      <td>-87.6386</td>\n      <td>41.9076</td>\n      <td>-87.6386</td>\n      <td>casual</td>\n    </tr>\n    <tr>\n      <th>10598</th>\n      <td>D0CBA40D168549C6</td>\n      <td>docked_bike</td>\n      <td>2020-04-04 14:27:39</td>\n      <td>2020-04-04 14:56:30</td>\n      <td>Rush St &amp; Hubbard St</td>\n      <td>125</td>\n      <td>Wabash Ave &amp; Grand Ave</td>\n      <td>199</td>\n      <td>41.8902</td>\n      <td>-87.6262</td>\n      <td>41.8915</td>\n      <td>-87.6268</td>\n      <td>casual</td>\n    </tr>\n    <tr>\n      <th>10599</th>\n      <td>C9A860BBF400D30C</td>\n      <td>docked_bike</td>\n      <td>2020-04-19 13:51:38</td>\n      <td>2020-04-19 15:43:54</td>\n      <td>Millennium Park</td>\n      <td>90</td>\n      <td>Columbus Dr &amp; Randolph St</td>\n      <td>195</td>\n      <td>41.8810</td>\n      <td>-87.6241</td>\n      <td>41.8847</td>\n      <td>-87.6195</td>\n      <td>casual</td>\n    </tr>\n    <tr>\n      <th>10600</th>\n      <td>4E8CD11CA5AE87CA</td>\n      <td>docked_bike</td>\n      <td>2020-04-04 15:53:54</td>\n      <td>2020-04-04 16:23:58</td>\n      <td>Richmond St &amp; Diversey Ave</td>\n      <td>501</td>\n      <td>Winchester Ave &amp; Elston Ave</td>\n      <td>505</td>\n      <td>41.9319</td>\n      <td>-87.7012</td>\n      <td>41.9241</td>\n      <td>-87.6765</td>\n      <td>casual</td>\n    </tr>\n    <tr>\n      <th>10601</th>\n      <td>CC0557DEF4F7B2AB</td>\n      <td>docked_bike</td>\n      <td>2020-04-23 07:57:07</td>\n      <td>2020-04-23 08:05:30</td>\n      <td>Franklin St &amp; Chicago Ave</td>\n      <td>31</td>\n      <td>Milwaukee Ave &amp; Grand Ave</td>\n      <td>84</td>\n      <td>41.8967</td>\n      <td>-87.6357</td>\n      <td>41.8916</td>\n      <td>-87.6484</td>\n      <td>casual</td>\n    </tr>\n    <tr>\n      <th>...</th>\n      <td>...</td>\n      <td>...</td>\n      <td>...</td>\n      <td>...</td>\n      <td>...</td>\n      <td>...</td>\n      <td>...</td>\n      <td>...</td>\n      <td>...</td>\n      <td>...</td>\n      <td>...</td>\n      <td>...</td>\n      <td>...</td>\n    </tr>\n    <tr>\n      <th>21189</th>\n      <td>3B121E191651B551</td>\n      <td>docked_bike</td>\n      <td>2020-04-26 19:09:23</td>\n      <td>2020-04-26 19:17:43</td>\n      <td>Halsted St &amp; 18th St</td>\n      <td>202</td>\n      <td>Wabash Ave &amp; 16th St</td>\n      <td>72</td>\n      <td>41.8575</td>\n      <td>-87.6463</td>\n      <td>41.8604</td>\n      <td>-87.6258</td>\n      <td>member</td>\n    </tr>\n    <tr>\n      <th>21190</th>\n      <td>8FED4B3A3526BC1A</td>\n      <td>docked_bike</td>\n      <td>2020-04-20 12:09:40</td>\n      <td>2020-04-20 12:17:17</td>\n      <td>Ashland Ave &amp; Augusta Blvd</td>\n      <td>30</td>\n      <td>Ogden Ave &amp; Race Ave</td>\n      <td>186</td>\n      <td>41.8996</td>\n      <td>-87.6677</td>\n      <td>41.8918</td>\n      <td>-87.6588</td>\n      <td>member</td>\n    </tr>\n    <tr>\n      <th>21191</th>\n      <td>2E060803F362E81F</td>\n      <td>docked_bike</td>\n      <td>2020-04-20 19:17:50</td>\n      <td>2020-04-20 19:26:27</td>\n      <td>Ashland Ave &amp; Augusta Blvd</td>\n      <td>30</td>\n      <td>Ashland Ave &amp; Division St</td>\n      <td>210</td>\n      <td>41.8996</td>\n      <td>-87.6677</td>\n      <td>41.9035</td>\n      <td>-87.6677</td>\n      <td>member</td>\n    </tr>\n    <tr>\n      <th>21192</th>\n      <td>A68FBAE9D2691584</td>\n      <td>docked_bike</td>\n      <td>2020-04-23 10:00:48</td>\n      <td>2020-04-23 10:30:44</td>\n      <td>Kedzie Ave &amp; Harrison St</td>\n      <td>433</td>\n      <td>Ashland Ave &amp; Blackhawk St</td>\n      <td>333</td>\n      <td>41.8736</td>\n      <td>-87.7049</td>\n      <td>41.9071</td>\n      <td>-87.6673</td>\n      <td>member</td>\n    </tr>\n    <tr>\n      <th>21193</th>\n      <td>6F54770DE2D9C1F2</td>\n      <td>docked_bike</td>\n      <td>2020-04-05 12:49:49</td>\n      <td>2020-04-05 13:00:01</td>\n      <td>Clarendon Ave &amp; Junior Ter</td>\n      <td>245</td>\n      <td>Broadway &amp; Cornelia Ave</td>\n      <td>303</td>\n      <td>41.9610</td>\n      <td>-87.6496</td>\n      <td>41.9455</td>\n      <td>-87.6464</td>\n      <td>member</td>\n    </tr>\n  </tbody>\n</table>\n<p>10597 rows × 13 columns</p>\n</div>",
        "text/plain": "                ride_id rideable_type           started_at  \\\n10597  21A370135335E189   docked_bike  2020-04-19 10:55:55   \n10598  D0CBA40D168549C6   docked_bike  2020-04-04 14:27:39   \n10599  C9A860BBF400D30C   docked_bike  2020-04-19 13:51:38   \n10600  4E8CD11CA5AE87CA   docked_bike  2020-04-04 15:53:54   \n10601  CC0557DEF4F7B2AB   docked_bike  2020-04-23 07:57:07   \n...                 ...           ...                  ...   \n21189  3B121E191651B551   docked_bike  2020-04-26 19:09:23   \n21190  8FED4B3A3526BC1A   docked_bike  2020-04-20 12:09:40   \n21191  2E060803F362E81F   docked_bike  2020-04-20 19:17:50   \n21192  A68FBAE9D2691584   docked_bike  2020-04-23 10:00:48   \n21193  6F54770DE2D9C1F2   docked_bike  2020-04-05 12:49:49   \n\n                  ended_at          start_station_name  start_station_id  \\\n10597  2020-04-19 11:24:20   Sedgwick St & Schiller St               236   \n10598  2020-04-04 14:56:30        Rush St & Hubbard St               125   \n10599  2020-04-19 15:43:54             Millennium Park                90   \n10600  2020-04-04 16:23:58  Richmond St & Diversey Ave               501   \n10601  2020-04-23 08:05:30   Franklin St & Chicago Ave                31   \n...                    ...                         ...               ...   \n21189  2020-04-26 19:17:43        Halsted St & 18th St               202   \n21190  2020-04-20 12:17:17  Ashland Ave & Augusta Blvd                30   \n21191  2020-04-20 19:26:27  Ashland Ave & Augusta Blvd                30   \n21192  2020-04-23 10:30:44    Kedzie Ave & Harrison St               433   \n21193  2020-04-05 13:00:01  Clarendon Ave & Junior Ter               245   \n\n                  end_station_name  end_station_id  start_lat  start_lng  \\\n10597    Sedgwick St & Schiller St             236    41.9076   -87.6386   \n10598       Wabash Ave & Grand Ave             199    41.8902   -87.6262   \n10599    Columbus Dr & Randolph St             195    41.8810   -87.6241   \n10600  Winchester Ave & Elston Ave             505    41.9319   -87.7012   \n10601    Milwaukee Ave & Grand Ave              84    41.8967   -87.6357   \n...                            ...             ...        ...        ...   \n21189         Wabash Ave & 16th St              72    41.8575   -87.6463   \n21190         Ogden Ave & Race Ave             186    41.8996   -87.6677   \n21191    Ashland Ave & Division St             210    41.8996   -87.6677   \n21192   Ashland Ave & Blackhawk St             333    41.8736   -87.7049   \n21193      Broadway & Cornelia Ave             303    41.9610   -87.6496   \n\n       end_lat  end_lng member_casual  \n10597  41.9076 -87.6386        casual  \n10598  41.8915 -87.6268        casual  \n10599  41.8847 -87.6195        casual  \n10600  41.9241 -87.6765        casual  \n10601  41.8916 -87.6484        casual  \n...        ...      ...           ...  \n21189  41.8604 -87.6258        member  \n21190  41.8918 -87.6588        member  \n21191  41.9035 -87.6677        member  \n21192  41.9071 -87.6673        member  \n21193  41.9455 -87.6464        member  \n\n[10597 rows x 13 columns]"
       },
       "execution_count": 7,
       "metadata": {}
      },
      "follow": null,
      "msg_id": null,
      "outputs": [],
      "received": null,
      "started": null,
      "status": null,
      "stderr": "",
      "stdout": "",
      "submitted": "2022-07-06T17:48:33.314159Z"
     },
     "output_type": "display_data"
    }
   ],
   "source": [
    "%%px --targets 1\n",
    "df"
   ]
  },
  {
   "cell_type": "markdown",
   "id": "da964265-b7f2-4fcf-9450-e1af63462128",
   "metadata": {},
   "source": [
    "Notice how the divvy csv data has been distributed across the ranks.\n",
    "The bodo function has taken a single threaded pandas function and converted it into distributed codes, which produced a distributed dataframe.\n",
    "Unlike Spark, bodo dataframes remain distributed when converted back to python. Let's see a quick example. Similar to len, even groupby needs to be distributed to get the correct result across the whole dataset. Simply adding @bodo.jit() to this function below will achieve that. See how simple bodo is."
   ]
  },
  {
   "cell_type": "code",
   "execution_count": 10,
   "id": "1f91707e-d5ca-4ab0-b2f1-582c168b78ec",
   "metadata": {
    "execution": {
     "iopub.execute_input": "2022-07-06T17:48:49.153069Z",
     "iopub.status.busy": "2022-07-06T17:48:49.152760Z",
     "iopub.status.idle": "2022-07-06T17:48:49.176719Z",
     "shell.execute_reply": "2022-07-06T17:48:49.176255Z",
     "shell.execute_reply.started": "2022-07-06T17:48:49.153048Z"
    },
    "tags": []
   },
   "outputs": [
    {
     "data": {
      "text/plain": [
       "[stdout:2] time for group by pandas 0.0034332275390625\n"
      ]
     },
     "metadata": {},
     "output_type": "display_data"
    },
    {
     "data": {
      "text/plain": [
       "[stdout:0] time for group by pandas 0.0033690929412841797\n"
      ]
     },
     "metadata": {},
     "output_type": "display_data"
    },
    {
     "data": {
      "text/plain": [
       "[stdout:5] time for group by pandas 0.0036652088165283203\n"
      ]
     },
     "metadata": {},
     "output_type": "display_data"
    },
    {
     "data": {
      "text/plain": [
       "[stdout:1] time for group by pandas 0.003698110580444336\n"
      ]
     },
     "metadata": {},
     "output_type": "display_data"
    },
    {
     "data": {
      "text/plain": [
       "[stdout:3] time for group by pandas 0.003718137741088867\n"
      ]
     },
     "metadata": {},
     "output_type": "display_data"
    },
    {
     "data": {
      "text/plain": [
       "[stdout:7] time for group by pandas 0.0039031505584716797\n"
      ]
     },
     "metadata": {},
     "output_type": "display_data"
    },
    {
     "data": {
      "text/plain": [
       "[stdout:4] time for group by pandas 0.0048770904541015625\n"
      ]
     },
     "metadata": {},
     "output_type": "display_data"
    },
    {
     "data": {
      "text/plain": [
       "[stdout:6] time for group by pandas 0.004438161849975586\n"
      ]
     },
     "metadata": {},
     "output_type": "display_data"
    }
   ],
   "source": [
    "%%px\n",
    "import time\n",
    "def groupbymember_casual(column_name,df):\n",
    "    start=time.time()\n",
    "    gdf=df.groupby(column_name,as_index=False)[\"ride_id\"].count()\n",
    "    print(f\"time for group by pandas {time.time()-start}\")\n",
    "    return gdf\n",
    "gdf=groupbymember_casual([\"member_casual\"],df)"
   ]
  },
  {
   "cell_type": "code",
   "execution_count": 11,
   "id": "8b1a4489-3c8d-4e11-9171-9d1552af9d5a",
   "metadata": {
    "execution": {
     "iopub.execute_input": "2022-07-06T17:48:56.163952Z",
     "iopub.status.busy": "2022-07-06T17:48:56.163375Z",
     "iopub.status.idle": "2022-07-06T17:48:56.189130Z",
     "shell.execute_reply": "2022-07-06T17:48:56.188660Z",
     "shell.execute_reply.started": "2022-07-06T17:48:56.163929Z"
    },
    "tags": []
   },
   "outputs": [
    {
     "data": {
      "text/html": [
       "<div>\n",
       "<style scoped>\n",
       "    .dataframe tbody tr th:only-of-type {\n",
       "        vertical-align: middle;\n",
       "    }\n",
       "\n",
       "    .dataframe tbody tr th {\n",
       "        vertical-align: top;\n",
       "    }\n",
       "\n",
       "    .dataframe thead th {\n",
       "        text-align: right;\n",
       "    }\n",
       "</style>\n",
       "<table border=\"1\" class=\"dataframe\">\n",
       "  <thead>\n",
       "    <tr style=\"text-align: right;\">\n",
       "      <th></th>\n",
       "      <th>member_casual</th>\n",
       "      <th>ride_id</th>\n",
       "    </tr>\n",
       "  </thead>\n",
       "  <tbody>\n",
       "    <tr>\n",
       "      <th>0</th>\n",
       "      <td>casual</td>\n",
       "      <td>2926</td>\n",
       "    </tr>\n",
       "    <tr>\n",
       "      <th>1</th>\n",
       "      <td>member</td>\n",
       "      <td>7671</td>\n",
       "    </tr>\n",
       "  </tbody>\n",
       "</table>\n",
       "</div>"
      ],
      "text/plain": [
       "\u001b[0;31mOut[1:10]: \u001b[0m\n",
       "  member_casual  ride_id\n",
       "0        casual     2926\n",
       "1        member     7671"
      ]
     },
     "metadata": {
      "after": null,
      "completed": null,
      "data": {},
      "engine_id": 1,
      "engine_uuid": "9e81f6f7-c1116ecaf784a223ea618bd1",
      "error": null,
      "execute_input": "gdf\n",
      "execute_result": {
       "data": {
        "text/html": "<div>\n<style scoped>\n    .dataframe tbody tr th:only-of-type {\n        vertical-align: middle;\n    }\n\n    .dataframe tbody tr th {\n        vertical-align: top;\n    }\n\n    .dataframe thead th {\n        text-align: right;\n    }\n</style>\n<table border=\"1\" class=\"dataframe\">\n  <thead>\n    <tr style=\"text-align: right;\">\n      <th></th>\n      <th>member_casual</th>\n      <th>ride_id</th>\n    </tr>\n  </thead>\n  <tbody>\n    <tr>\n      <th>0</th>\n      <td>casual</td>\n      <td>2926</td>\n    </tr>\n    <tr>\n      <th>1</th>\n      <td>member</td>\n      <td>7671</td>\n    </tr>\n  </tbody>\n</table>\n</div>",
        "text/plain": "  member_casual  ride_id\n0        casual     2926\n1        member     7671"
       },
       "execution_count": 10,
       "metadata": {}
      },
      "follow": null,
      "msg_id": null,
      "outputs": [],
      "received": null,
      "started": null,
      "status": null,
      "stderr": "",
      "stdout": "",
      "submitted": "2022-07-06T17:48:56.165193Z"
     },
     "output_type": "display_data"
    },
    {
     "data": {
      "text/html": [
       "<div>\n",
       "<style scoped>\n",
       "    .dataframe tbody tr th:only-of-type {\n",
       "        vertical-align: middle;\n",
       "    }\n",
       "\n",
       "    .dataframe tbody tr th {\n",
       "        vertical-align: top;\n",
       "    }\n",
       "\n",
       "    .dataframe thead th {\n",
       "        text-align: right;\n",
       "    }\n",
       "</style>\n",
       "<table border=\"1\" class=\"dataframe\">\n",
       "  <thead>\n",
       "    <tr style=\"text-align: right;\">\n",
       "      <th></th>\n",
       "      <th>member_casual</th>\n",
       "      <th>ride_id</th>\n",
       "    </tr>\n",
       "  </thead>\n",
       "  <tbody>\n",
       "    <tr>\n",
       "      <th>0</th>\n",
       "      <td>casual</td>\n",
       "      <td>3212</td>\n",
       "    </tr>\n",
       "    <tr>\n",
       "      <th>1</th>\n",
       "      <td>member</td>\n",
       "      <td>7385</td>\n",
       "    </tr>\n",
       "  </tbody>\n",
       "</table>\n",
       "</div>"
      ],
      "text/plain": [
       "\u001b[0;31mOut[2:9]: \u001b[0m\n",
       "  member_casual  ride_id\n",
       "0        casual     3212\n",
       "1        member     7385"
      ]
     },
     "metadata": {
      "after": null,
      "completed": null,
      "data": {},
      "engine_id": 2,
      "engine_uuid": "1477eac5-a425d4ca93402f5b92a1f0de",
      "error": null,
      "execute_input": "gdf\n",
      "execute_result": {
       "data": {
        "text/html": "<div>\n<style scoped>\n    .dataframe tbody tr th:only-of-type {\n        vertical-align: middle;\n    }\n\n    .dataframe tbody tr th {\n        vertical-align: top;\n    }\n\n    .dataframe thead th {\n        text-align: right;\n    }\n</style>\n<table border=\"1\" class=\"dataframe\">\n  <thead>\n    <tr style=\"text-align: right;\">\n      <th></th>\n      <th>member_casual</th>\n      <th>ride_id</th>\n    </tr>\n  </thead>\n  <tbody>\n    <tr>\n      <th>0</th>\n      <td>casual</td>\n      <td>3212</td>\n    </tr>\n    <tr>\n      <th>1</th>\n      <td>member</td>\n      <td>7385</td>\n    </tr>\n  </tbody>\n</table>\n</div>",
        "text/plain": "  member_casual  ride_id\n0        casual     3212\n1        member     7385"
       },
       "execution_count": 9,
       "metadata": {}
      },
      "follow": null,
      "msg_id": null,
      "outputs": [],
      "received": null,
      "started": null,
      "status": null,
      "stderr": "",
      "stdout": "",
      "submitted": "2022-07-06T17:48:56.165224Z"
     },
     "output_type": "display_data"
    },
    {
     "data": {
      "text/html": [
       "<div>\n",
       "<style scoped>\n",
       "    .dataframe tbody tr th:only-of-type {\n",
       "        vertical-align: middle;\n",
       "    }\n",
       "\n",
       "    .dataframe tbody tr th {\n",
       "        vertical-align: top;\n",
       "    }\n",
       "\n",
       "    .dataframe thead th {\n",
       "        text-align: right;\n",
       "    }\n",
       "</style>\n",
       "<table border=\"1\" class=\"dataframe\">\n",
       "  <thead>\n",
       "    <tr style=\"text-align: right;\">\n",
       "      <th></th>\n",
       "      <th>member_casual</th>\n",
       "      <th>ride_id</th>\n",
       "    </tr>\n",
       "  </thead>\n",
       "  <tbody>\n",
       "    <tr>\n",
       "      <th>0</th>\n",
       "      <td>casual</td>\n",
       "      <td>2742</td>\n",
       "    </tr>\n",
       "    <tr>\n",
       "      <th>1</th>\n",
       "      <td>member</td>\n",
       "      <td>7855</td>\n",
       "    </tr>\n",
       "  </tbody>\n",
       "</table>\n",
       "</div>"
      ],
      "text/plain": [
       "\u001b[0;31mOut[6:9]: \u001b[0m\n",
       "  member_casual  ride_id\n",
       "0        casual     2742\n",
       "1        member     7855"
      ]
     },
     "metadata": {
      "after": null,
      "completed": null,
      "data": {},
      "engine_id": 6,
      "engine_uuid": "146497bf-2a2d47f545c1d4ab8e0e86be",
      "error": null,
      "execute_input": "gdf\n",
      "execute_result": {
       "data": {
        "text/html": "<div>\n<style scoped>\n    .dataframe tbody tr th:only-of-type {\n        vertical-align: middle;\n    }\n\n    .dataframe tbody tr th {\n        vertical-align: top;\n    }\n\n    .dataframe thead th {\n        text-align: right;\n    }\n</style>\n<table border=\"1\" class=\"dataframe\">\n  <thead>\n    <tr style=\"text-align: right;\">\n      <th></th>\n      <th>member_casual</th>\n      <th>ride_id</th>\n    </tr>\n  </thead>\n  <tbody>\n    <tr>\n      <th>0</th>\n      <td>casual</td>\n      <td>2742</td>\n    </tr>\n    <tr>\n      <th>1</th>\n      <td>member</td>\n      <td>7855</td>\n    </tr>\n  </tbody>\n</table>\n</div>",
        "text/plain": "  member_casual  ride_id\n0        casual     2742\n1        member     7855"
       },
       "execution_count": 9,
       "metadata": {}
      },
      "follow": null,
      "msg_id": null,
      "outputs": [],
      "received": null,
      "started": null,
      "status": null,
      "stderr": "",
      "stdout": "",
      "submitted": "2022-07-06T17:48:56.166111Z"
     },
     "output_type": "display_data"
    },
    {
     "data": {
      "text/html": [
       "<div>\n",
       "<style scoped>\n",
       "    .dataframe tbody tr th:only-of-type {\n",
       "        vertical-align: middle;\n",
       "    }\n",
       "\n",
       "    .dataframe tbody tr th {\n",
       "        vertical-align: top;\n",
       "    }\n",
       "\n",
       "    .dataframe thead th {\n",
       "        text-align: right;\n",
       "    }\n",
       "</style>\n",
       "<table border=\"1\" class=\"dataframe\">\n",
       "  <thead>\n",
       "    <tr style=\"text-align: right;\">\n",
       "      <th></th>\n",
       "      <th>member_casual</th>\n",
       "      <th>ride_id</th>\n",
       "    </tr>\n",
       "  </thead>\n",
       "  <tbody>\n",
       "    <tr>\n",
       "      <th>0</th>\n",
       "      <td>casual</td>\n",
       "      <td>2493</td>\n",
       "    </tr>\n",
       "    <tr>\n",
       "      <th>1</th>\n",
       "      <td>member</td>\n",
       "      <td>8104</td>\n",
       "    </tr>\n",
       "  </tbody>\n",
       "</table>\n",
       "</div>"
      ],
      "text/plain": [
       "\u001b[0;31mOut[7:9]: \u001b[0m\n",
       "  member_casual  ride_id\n",
       "0        casual     2493\n",
       "1        member     8104"
      ]
     },
     "metadata": {
      "after": null,
      "completed": null,
      "data": {},
      "engine_id": 7,
      "engine_uuid": "36cbcaf5-7167d3ce488524e1b1ab75e2",
      "error": null,
      "execute_input": "gdf\n",
      "execute_result": {
       "data": {
        "text/html": "<div>\n<style scoped>\n    .dataframe tbody tr th:only-of-type {\n        vertical-align: middle;\n    }\n\n    .dataframe tbody tr th {\n        vertical-align: top;\n    }\n\n    .dataframe thead th {\n        text-align: right;\n    }\n</style>\n<table border=\"1\" class=\"dataframe\">\n  <thead>\n    <tr style=\"text-align: right;\">\n      <th></th>\n      <th>member_casual</th>\n      <th>ride_id</th>\n    </tr>\n  </thead>\n  <tbody>\n    <tr>\n      <th>0</th>\n      <td>casual</td>\n      <td>2493</td>\n    </tr>\n    <tr>\n      <th>1</th>\n      <td>member</td>\n      <td>8104</td>\n    </tr>\n  </tbody>\n</table>\n</div>",
        "text/plain": "  member_casual  ride_id\n0        casual     2493\n1        member     8104"
       },
       "execution_count": 9,
       "metadata": {}
      },
      "follow": null,
      "msg_id": null,
      "outputs": [],
      "received": null,
      "started": null,
      "status": null,
      "stderr": "",
      "stdout": "",
      "submitted": "2022-07-06T17:48:56.166142Z"
     },
     "output_type": "display_data"
    },
    {
     "data": {
      "text/html": [
       "<div>\n",
       "<style scoped>\n",
       "    .dataframe tbody tr th:only-of-type {\n",
       "        vertical-align: middle;\n",
       "    }\n",
       "\n",
       "    .dataframe tbody tr th {\n",
       "        vertical-align: top;\n",
       "    }\n",
       "\n",
       "    .dataframe thead th {\n",
       "        text-align: right;\n",
       "    }\n",
       "</style>\n",
       "<table border=\"1\" class=\"dataframe\">\n",
       "  <thead>\n",
       "    <tr style=\"text-align: right;\">\n",
       "      <th></th>\n",
       "      <th>member_casual</th>\n",
       "      <th>ride_id</th>\n",
       "    </tr>\n",
       "  </thead>\n",
       "  <tbody>\n",
       "    <tr>\n",
       "      <th>0</th>\n",
       "      <td>casual</td>\n",
       "      <td>2977</td>\n",
       "    </tr>\n",
       "    <tr>\n",
       "      <th>1</th>\n",
       "      <td>member</td>\n",
       "      <td>7620</td>\n",
       "    </tr>\n",
       "  </tbody>\n",
       "</table>\n",
       "</div>"
      ],
      "text/plain": [
       "\u001b[0;31mOut[5:9]: \u001b[0m\n",
       "  member_casual  ride_id\n",
       "0        casual     2977\n",
       "1        member     7620"
      ]
     },
     "metadata": {
      "after": null,
      "completed": null,
      "data": {},
      "engine_id": 5,
      "engine_uuid": "e476ee9b-c7254ce6859f614b9f5ba40a",
      "error": null,
      "execute_input": "gdf\n",
      "execute_result": {
       "data": {
        "text/html": "<div>\n<style scoped>\n    .dataframe tbody tr th:only-of-type {\n        vertical-align: middle;\n    }\n\n    .dataframe tbody tr th {\n        vertical-align: top;\n    }\n\n    .dataframe thead th {\n        text-align: right;\n    }\n</style>\n<table border=\"1\" class=\"dataframe\">\n  <thead>\n    <tr style=\"text-align: right;\">\n      <th></th>\n      <th>member_casual</th>\n      <th>ride_id</th>\n    </tr>\n  </thead>\n  <tbody>\n    <tr>\n      <th>0</th>\n      <td>casual</td>\n      <td>2977</td>\n    </tr>\n    <tr>\n      <th>1</th>\n      <td>member</td>\n      <td>7620</td>\n    </tr>\n  </tbody>\n</table>\n</div>",
        "text/plain": "  member_casual  ride_id\n0        casual     2977\n1        member     7620"
       },
       "execution_count": 9,
       "metadata": {}
      },
      "follow": null,
      "msg_id": null,
      "outputs": [],
      "received": null,
      "started": null,
      "status": null,
      "stderr": "",
      "stdout": "",
      "submitted": "2022-07-06T17:48:56.166073Z"
     },
     "output_type": "display_data"
    },
    {
     "data": {
      "text/html": [
       "<div>\n",
       "<style scoped>\n",
       "    .dataframe tbody tr th:only-of-type {\n",
       "        vertical-align: middle;\n",
       "    }\n",
       "\n",
       "    .dataframe tbody tr th {\n",
       "        vertical-align: top;\n",
       "    }\n",
       "\n",
       "    .dataframe thead th {\n",
       "        text-align: right;\n",
       "    }\n",
       "</style>\n",
       "<table border=\"1\" class=\"dataframe\">\n",
       "  <thead>\n",
       "    <tr style=\"text-align: right;\">\n",
       "      <th></th>\n",
       "      <th>member_casual</th>\n",
       "      <th>ride_id</th>\n",
       "    </tr>\n",
       "  </thead>\n",
       "  <tbody>\n",
       "    <tr>\n",
       "      <th>0</th>\n",
       "      <td>casual</td>\n",
       "      <td>3022</td>\n",
       "    </tr>\n",
       "    <tr>\n",
       "      <th>1</th>\n",
       "      <td>member</td>\n",
       "      <td>7575</td>\n",
       "    </tr>\n",
       "  </tbody>\n",
       "</table>\n",
       "</div>"
      ],
      "text/plain": [
       "\u001b[0;31mOut[3:9]: \u001b[0m\n",
       "  member_casual  ride_id\n",
       "0        casual     3022\n",
       "1        member     7575"
      ]
     },
     "metadata": {
      "after": null,
      "completed": null,
      "data": {},
      "engine_id": 3,
      "engine_uuid": "7b685ec4-2475b939be605eb1e1dfcf64",
      "error": null,
      "execute_input": "gdf\n",
      "execute_result": {
       "data": {
        "text/html": "<div>\n<style scoped>\n    .dataframe tbody tr th:only-of-type {\n        vertical-align: middle;\n    }\n\n    .dataframe tbody tr th {\n        vertical-align: top;\n    }\n\n    .dataframe thead th {\n        text-align: right;\n    }\n</style>\n<table border=\"1\" class=\"dataframe\">\n  <thead>\n    <tr style=\"text-align: right;\">\n      <th></th>\n      <th>member_casual</th>\n      <th>ride_id</th>\n    </tr>\n  </thead>\n  <tbody>\n    <tr>\n      <th>0</th>\n      <td>casual</td>\n      <td>3022</td>\n    </tr>\n    <tr>\n      <th>1</th>\n      <td>member</td>\n      <td>7575</td>\n    </tr>\n  </tbody>\n</table>\n</div>",
        "text/plain": "  member_casual  ride_id\n0        casual     3022\n1        member     7575"
       },
       "execution_count": 9,
       "metadata": {}
      },
      "follow": null,
      "msg_id": null,
      "outputs": [],
      "received": null,
      "started": null,
      "status": null,
      "stderr": "",
      "stdout": "",
      "submitted": "2022-07-06T17:48:56.165251Z"
     },
     "output_type": "display_data"
    },
    {
     "data": {
      "text/html": [
       "<div>\n",
       "<style scoped>\n",
       "    .dataframe tbody tr th:only-of-type {\n",
       "        vertical-align: middle;\n",
       "    }\n",
       "\n",
       "    .dataframe tbody tr th {\n",
       "        vertical-align: top;\n",
       "    }\n",
       "\n",
       "    .dataframe thead th {\n",
       "        text-align: right;\n",
       "    }\n",
       "</style>\n",
       "<table border=\"1\" class=\"dataframe\">\n",
       "  <thead>\n",
       "    <tr style=\"text-align: right;\">\n",
       "      <th></th>\n",
       "      <th>member_casual</th>\n",
       "      <th>ride_id</th>\n",
       "    </tr>\n",
       "  </thead>\n",
       "  <tbody>\n",
       "    <tr>\n",
       "      <th>0</th>\n",
       "      <td>casual</td>\n",
       "      <td>3179</td>\n",
       "    </tr>\n",
       "    <tr>\n",
       "      <th>1</th>\n",
       "      <td>member</td>\n",
       "      <td>7418</td>\n",
       "    </tr>\n",
       "  </tbody>\n",
       "</table>\n",
       "</div>"
      ],
      "text/plain": [
       "\u001b[0;31mOut[0:10]: \u001b[0m\n",
       "  member_casual  ride_id\n",
       "0        casual     3179\n",
       "1        member     7418"
      ]
     },
     "metadata": {
      "after": null,
      "completed": null,
      "data": {},
      "engine_id": 0,
      "engine_uuid": "abd29118-f6e8a93353fcee6e6559f986",
      "error": null,
      "execute_input": "gdf\n",
      "execute_result": {
       "data": {
        "text/html": "<div>\n<style scoped>\n    .dataframe tbody tr th:only-of-type {\n        vertical-align: middle;\n    }\n\n    .dataframe tbody tr th {\n        vertical-align: top;\n    }\n\n    .dataframe thead th {\n        text-align: right;\n    }\n</style>\n<table border=\"1\" class=\"dataframe\">\n  <thead>\n    <tr style=\"text-align: right;\">\n      <th></th>\n      <th>member_casual</th>\n      <th>ride_id</th>\n    </tr>\n  </thead>\n  <tbody>\n    <tr>\n      <th>0</th>\n      <td>casual</td>\n      <td>3179</td>\n    </tr>\n    <tr>\n      <th>1</th>\n      <td>member</td>\n      <td>7418</td>\n    </tr>\n  </tbody>\n</table>\n</div>",
        "text/plain": "  member_casual  ride_id\n0        casual     3179\n1        member     7418"
       },
       "execution_count": 10,
       "metadata": {}
      },
      "follow": null,
      "msg_id": null,
      "outputs": [],
      "received": null,
      "started": null,
      "status": null,
      "stderr": "",
      "stdout": "",
      "submitted": "2022-07-06T17:48:56.165155Z"
     },
     "output_type": "display_data"
    },
    {
     "data": {
      "text/html": [
       "<div>\n",
       "<style scoped>\n",
       "    .dataframe tbody tr th:only-of-type {\n",
       "        vertical-align: middle;\n",
       "    }\n",
       "\n",
       "    .dataframe tbody tr th {\n",
       "        vertical-align: top;\n",
       "    }\n",
       "\n",
       "    .dataframe thead th {\n",
       "        text-align: right;\n",
       "    }\n",
       "</style>\n",
       "<table border=\"1\" class=\"dataframe\">\n",
       "  <thead>\n",
       "    <tr style=\"text-align: right;\">\n",
       "      <th></th>\n",
       "      <th>member_casual</th>\n",
       "      <th>ride_id</th>\n",
       "    </tr>\n",
       "  </thead>\n",
       "  <tbody>\n",
       "    <tr>\n",
       "      <th>0</th>\n",
       "      <td>casual</td>\n",
       "      <td>3077</td>\n",
       "    </tr>\n",
       "    <tr>\n",
       "      <th>1</th>\n",
       "      <td>member</td>\n",
       "      <td>7520</td>\n",
       "    </tr>\n",
       "  </tbody>\n",
       "</table>\n",
       "</div>"
      ],
      "text/plain": [
       "\u001b[0;31mOut[4:9]: \u001b[0m\n",
       "  member_casual  ride_id\n",
       "0        casual     3077\n",
       "1        member     7520"
      ]
     },
     "metadata": {
      "after": [],
      "completed": "2022-07-06T17:48:56.177650Z",
      "data": {},
      "engine_id": 4,
      "engine_uuid": "1b181ea1-6d9629448ad4ec7d6c4d4845",
      "error": null,
      "execute_input": "gdf\n",
      "execute_result": {
       "data": {
        "text/html": "<div>\n<style scoped>\n    .dataframe tbody tr th:only-of-type {\n        vertical-align: middle;\n    }\n\n    .dataframe tbody tr th {\n        vertical-align: top;\n    }\n\n    .dataframe thead th {\n        text-align: right;\n    }\n</style>\n<table border=\"1\" class=\"dataframe\">\n  <thead>\n    <tr style=\"text-align: right;\">\n      <th></th>\n      <th>member_casual</th>\n      <th>ride_id</th>\n    </tr>\n  </thead>\n  <tbody>\n    <tr>\n      <th>0</th>\n      <td>casual</td>\n      <td>3077</td>\n    </tr>\n    <tr>\n      <th>1</th>\n      <td>member</td>\n      <td>7520</td>\n    </tr>\n  </tbody>\n</table>\n</div>",
        "text/plain": "  member_casual  ride_id\n0        casual     3077\n1        member     7520"
       },
       "execution_count": 9,
       "metadata": {}
      },
      "follow": [],
      "is_broadcast": true,
      "is_coalescing": false,
      "msg_id": "2c29fa31-cd2442048f3653adf5fc8978_20666_11_1b181ea1-6d9629448ad4ec7d6c4d4845",
      "outputs": [],
      "received": "2022-07-06T17:48:56.185504Z",
      "started": "2022-07-06T17:48:56.169430Z",
      "status": "ok",
      "stderr": "",
      "stdout": "",
      "submitted": "2022-07-06T17:48:56.165047Z"
     },
     "output_type": "display_data"
    }
   ],
   "source": [
    "%%px\n",
    "gdf"
   ]
  },
  {
   "cell_type": "markdown",
   "id": "29014d39-9fe6-4b89-9bf0-8902672a2704",
   "metadata": {},
   "source": [
    "## Now let's run a groupby operation with bodo.\n",
    "\n",
    "Notice, how the dataframe was grouped and counted for rides, based on the member_casual value. The above function was not jitted, so it ran as a regular pandas function. Although each rank returned the required output for their chunk of the data, it was not the right answer to this problem.\n",
    "\n",
    "Pandas did not have the capability to treat this chunked data set spread across multiple cores as a single dataframe to calculate the answer. How do we do this calculation across the data present in all the ranks? If we use the a `@bodo.jit` function this is done automatically."
   ]
  },
  {
   "cell_type": "code",
   "execution_count": 12,
   "id": "3548aea9-4e08-45ac-a8ca-7630defcf222",
   "metadata": {
    "execution": {
     "iopub.execute_input": "2022-07-06T17:49:29.883964Z",
     "iopub.status.busy": "2022-07-06T17:49:29.883628Z",
     "iopub.status.idle": "2022-07-06T17:49:31.171503Z",
     "shell.execute_reply": "2022-07-06T17:49:31.170945Z",
     "shell.execute_reply.started": "2022-07-06T17:49:29.883942Z"
    },
    "tags": []
   },
   "outputs": [
    {
     "data": {
      "text/plain": [
       "[stdout:0] time for group by bodo 0.080326\n"
      ]
     },
     "metadata": {},
     "output_type": "display_data"
    }
   ],
   "source": [
    "%%px\n",
    "import time\n",
    "@bodo.jit(cache=True)\n",
    "def groupbymember_casual(column_name,df):\n",
    "    start=time.time()\n",
    "    gdf=df.groupby(column_name,as_index=False)[\"ride_id\"].count()\n",
    "    print(f\"time for group by bodo {time.time()-start}\")\n",
    "    return gdf\n",
    "gdf=groupbymember_casual([\"member_casual\"],df)"
   ]
  },
  {
   "cell_type": "code",
   "execution_count": 13,
   "id": "e8b84e02-10c1-481d-8b95-757f8e331b35",
   "metadata": {
    "execution": {
     "iopub.execute_input": "2022-07-06T17:49:35.307407Z",
     "iopub.status.busy": "2022-07-06T17:49:35.307121Z",
     "iopub.status.idle": "2022-07-06T17:49:35.331382Z",
     "shell.execute_reply": "2022-07-06T17:49:35.330863Z",
     "shell.execute_reply.started": "2022-07-06T17:49:35.307386Z"
    },
    "tags": []
   },
   "outputs": [
    {
     "data": {
      "text/html": [
       "<div>\n",
       "<style scoped>\n",
       "    .dataframe tbody tr th:only-of-type {\n",
       "        vertical-align: middle;\n",
       "    }\n",
       "\n",
       "    .dataframe tbody tr th {\n",
       "        vertical-align: top;\n",
       "    }\n",
       "\n",
       "    .dataframe thead th {\n",
       "        text-align: right;\n",
       "    }\n",
       "</style>\n",
       "<table border=\"1\" class=\"dataframe\">\n",
       "  <thead>\n",
       "    <tr style=\"text-align: right;\">\n",
       "      <th></th>\n",
       "      <th>member_casual</th>\n",
       "      <th>ride_id</th>\n",
       "    </tr>\n",
       "  </thead>\n",
       "  <tbody>\n",
       "  </tbody>\n",
       "</table>\n",
       "</div>"
      ],
      "text/plain": [
       "\u001b[0;31mOut[0:12]: \u001b[0m\n",
       "Empty DataFrame\n",
       "Columns: [member_casual, ride_id]\n",
       "Index: []"
      ]
     },
     "metadata": {
      "after": null,
      "completed": null,
      "data": {},
      "engine_id": 0,
      "engine_uuid": "abd29118-f6e8a93353fcee6e6559f986",
      "error": null,
      "execute_input": "gdf\n",
      "execute_result": {
       "data": {
        "text/html": "<div>\n<style scoped>\n    .dataframe tbody tr th:only-of-type {\n        vertical-align: middle;\n    }\n\n    .dataframe tbody tr th {\n        vertical-align: top;\n    }\n\n    .dataframe thead th {\n        text-align: right;\n    }\n</style>\n<table border=\"1\" class=\"dataframe\">\n  <thead>\n    <tr style=\"text-align: right;\">\n      <th></th>\n      <th>member_casual</th>\n      <th>ride_id</th>\n    </tr>\n  </thead>\n  <tbody>\n  </tbody>\n</table>\n</div>",
        "text/plain": "Empty DataFrame\nColumns: [member_casual, ride_id]\nIndex: []"
       },
       "execution_count": 12,
       "metadata": {}
      },
      "follow": null,
      "msg_id": null,
      "outputs": [],
      "received": null,
      "started": null,
      "status": null,
      "stderr": "",
      "stdout": "",
      "submitted": "2022-07-06T17:49:35.308710Z"
     },
     "output_type": "display_data"
    },
    {
     "data": {
      "text/html": [
       "<div>\n",
       "<style scoped>\n",
       "    .dataframe tbody tr th:only-of-type {\n",
       "        vertical-align: middle;\n",
       "    }\n",
       "\n",
       "    .dataframe tbody tr th {\n",
       "        vertical-align: top;\n",
       "    }\n",
       "\n",
       "    .dataframe thead th {\n",
       "        text-align: right;\n",
       "    }\n",
       "</style>\n",
       "<table border=\"1\" class=\"dataframe\">\n",
       "  <thead>\n",
       "    <tr style=\"text-align: right;\">\n",
       "      <th></th>\n",
       "      <th>member_casual</th>\n",
       "      <th>ride_id</th>\n",
       "    </tr>\n",
       "  </thead>\n",
       "  <tbody>\n",
       "  </tbody>\n",
       "</table>\n",
       "</div>"
      ],
      "text/plain": [
       "\u001b[0;31mOut[6:11]: \u001b[0m\n",
       "Empty DataFrame\n",
       "Columns: [member_casual, ride_id]\n",
       "Index: []"
      ]
     },
     "metadata": {
      "after": null,
      "completed": null,
      "data": {},
      "engine_id": 6,
      "engine_uuid": "146497bf-2a2d47f545c1d4ab8e0e86be",
      "error": null,
      "execute_input": "gdf\n",
      "execute_result": {
       "data": {
        "text/html": "<div>\n<style scoped>\n    .dataframe tbody tr th:only-of-type {\n        vertical-align: middle;\n    }\n\n    .dataframe tbody tr th {\n        vertical-align: top;\n    }\n\n    .dataframe thead th {\n        text-align: right;\n    }\n</style>\n<table border=\"1\" class=\"dataframe\">\n  <thead>\n    <tr style=\"text-align: right;\">\n      <th></th>\n      <th>member_casual</th>\n      <th>ride_id</th>\n    </tr>\n  </thead>\n  <tbody>\n  </tbody>\n</table>\n</div>",
        "text/plain": "Empty DataFrame\nColumns: [member_casual, ride_id]\nIndex: []"
       },
       "execution_count": 11,
       "metadata": {}
      },
      "follow": null,
      "msg_id": null,
      "outputs": [],
      "received": null,
      "started": null,
      "status": null,
      "stderr": "",
      "stdout": "",
      "submitted": "2022-07-06T17:49:35.308896Z"
     },
     "output_type": "display_data"
    },
    {
     "data": {
      "text/html": [
       "<div>\n",
       "<style scoped>\n",
       "    .dataframe tbody tr th:only-of-type {\n",
       "        vertical-align: middle;\n",
       "    }\n",
       "\n",
       "    .dataframe tbody tr th {\n",
       "        vertical-align: top;\n",
       "    }\n",
       "\n",
       "    .dataframe thead th {\n",
       "        text-align: right;\n",
       "    }\n",
       "</style>\n",
       "<table border=\"1\" class=\"dataframe\">\n",
       "  <thead>\n",
       "    <tr style=\"text-align: right;\">\n",
       "      <th></th>\n",
       "      <th>member_casual</th>\n",
       "      <th>ride_id</th>\n",
       "    </tr>\n",
       "  </thead>\n",
       "  <tbody>\n",
       "  </tbody>\n",
       "</table>\n",
       "</div>"
      ],
      "text/plain": [
       "\u001b[0;31mOut[7:11]: \u001b[0m\n",
       "Empty DataFrame\n",
       "Columns: [member_casual, ride_id]\n",
       "Index: []"
      ]
     },
     "metadata": {
      "after": null,
      "completed": null,
      "data": {},
      "engine_id": 7,
      "engine_uuid": "36cbcaf5-7167d3ce488524e1b1ab75e2",
      "error": null,
      "execute_input": "gdf\n",
      "execute_result": {
       "data": {
        "text/html": "<div>\n<style scoped>\n    .dataframe tbody tr th:only-of-type {\n        vertical-align: middle;\n    }\n\n    .dataframe tbody tr th {\n        vertical-align: top;\n    }\n\n    .dataframe thead th {\n        text-align: right;\n    }\n</style>\n<table border=\"1\" class=\"dataframe\">\n  <thead>\n    <tr style=\"text-align: right;\">\n      <th></th>\n      <th>member_casual</th>\n      <th>ride_id</th>\n    </tr>\n  </thead>\n  <tbody>\n  </tbody>\n</table>\n</div>",
        "text/plain": "Empty DataFrame\nColumns: [member_casual, ride_id]\nIndex: []"
       },
       "execution_count": 11,
       "metadata": {}
      },
      "follow": null,
      "msg_id": null,
      "outputs": [],
      "received": null,
      "started": null,
      "status": null,
      "stderr": "",
      "stdout": "",
      "submitted": "2022-07-06T17:49:35.308924Z"
     },
     "output_type": "display_data"
    },
    {
     "data": {
      "text/html": [
       "<div>\n",
       "<style scoped>\n",
       "    .dataframe tbody tr th:only-of-type {\n",
       "        vertical-align: middle;\n",
       "    }\n",
       "\n",
       "    .dataframe tbody tr th {\n",
       "        vertical-align: top;\n",
       "    }\n",
       "\n",
       "    .dataframe thead th {\n",
       "        text-align: right;\n",
       "    }\n",
       "</style>\n",
       "<table border=\"1\" class=\"dataframe\">\n",
       "  <thead>\n",
       "    <tr style=\"text-align: right;\">\n",
       "      <th></th>\n",
       "      <th>member_casual</th>\n",
       "      <th>ride_id</th>\n",
       "    </tr>\n",
       "  </thead>\n",
       "  <tbody>\n",
       "  </tbody>\n",
       "</table>\n",
       "</div>"
      ],
      "text/plain": [
       "\u001b[0;31mOut[1:12]: \u001b[0m\n",
       "Empty DataFrame\n",
       "Columns: [member_casual, ride_id]\n",
       "Index: []"
      ]
     },
     "metadata": {
      "after": null,
      "completed": null,
      "data": {},
      "engine_id": 1,
      "engine_uuid": "9e81f6f7-c1116ecaf784a223ea618bd1",
      "error": null,
      "execute_input": "gdf\n",
      "execute_result": {
       "data": {
        "text/html": "<div>\n<style scoped>\n    .dataframe tbody tr th:only-of-type {\n        vertical-align: middle;\n    }\n\n    .dataframe tbody tr th {\n        vertical-align: top;\n    }\n\n    .dataframe thead th {\n        text-align: right;\n    }\n</style>\n<table border=\"1\" class=\"dataframe\">\n  <thead>\n    <tr style=\"text-align: right;\">\n      <th></th>\n      <th>member_casual</th>\n      <th>ride_id</th>\n    </tr>\n  </thead>\n  <tbody>\n  </tbody>\n</table>\n</div>",
        "text/plain": "Empty DataFrame\nColumns: [member_casual, ride_id]\nIndex: []"
       },
       "execution_count": 12,
       "metadata": {}
      },
      "follow": null,
      "msg_id": null,
      "outputs": [],
      "received": null,
      "started": null,
      "status": null,
      "stderr": "",
      "stdout": "",
      "submitted": "2022-07-06T17:49:35.308743Z"
     },
     "output_type": "display_data"
    },
    {
     "data": {
      "text/html": [
       "<div>\n",
       "<style scoped>\n",
       "    .dataframe tbody tr th:only-of-type {\n",
       "        vertical-align: middle;\n",
       "    }\n",
       "\n",
       "    .dataframe tbody tr th {\n",
       "        vertical-align: top;\n",
       "    }\n",
       "\n",
       "    .dataframe thead th {\n",
       "        text-align: right;\n",
       "    }\n",
       "</style>\n",
       "<table border=\"1\" class=\"dataframe\">\n",
       "  <thead>\n",
       "    <tr style=\"text-align: right;\">\n",
       "      <th></th>\n",
       "      <th>member_casual</th>\n",
       "      <th>ride_id</th>\n",
       "    </tr>\n",
       "  </thead>\n",
       "  <tbody>\n",
       "  </tbody>\n",
       "</table>\n",
       "</div>"
      ],
      "text/plain": [
       "\u001b[0;31mOut[4:11]: \u001b[0m\n",
       "Empty DataFrame\n",
       "Columns: [member_casual, ride_id]\n",
       "Index: []"
      ]
     },
     "metadata": {
      "after": [],
      "completed": "2022-07-06T17:49:35.316626Z",
      "data": {},
      "engine_id": 4,
      "engine_uuid": "1b181ea1-6d9629448ad4ec7d6c4d4845",
      "error": null,
      "execute_input": "gdf\n",
      "execute_result": {
       "data": {
        "text/html": "<div>\n<style scoped>\n    .dataframe tbody tr th:only-of-type {\n        vertical-align: middle;\n    }\n\n    .dataframe tbody tr th {\n        vertical-align: top;\n    }\n\n    .dataframe thead th {\n        text-align: right;\n    }\n</style>\n<table border=\"1\" class=\"dataframe\">\n  <thead>\n    <tr style=\"text-align: right;\">\n      <th></th>\n      <th>member_casual</th>\n      <th>ride_id</th>\n    </tr>\n  </thead>\n  <tbody>\n  </tbody>\n</table>\n</div>",
        "text/plain": "Empty DataFrame\nColumns: [member_casual, ride_id]\nIndex: []"
       },
       "execution_count": 11,
       "metadata": {}
      },
      "follow": [],
      "is_broadcast": true,
      "is_coalescing": false,
      "msg_id": "2c29fa31-cd2442048f3653adf5fc8978_20666_13_1b181ea1-6d9629448ad4ec7d6c4d4845",
      "outputs": [],
      "received": "2022-07-06T17:49:35.322228Z",
      "started": "2022-07-06T17:49:35.312182Z",
      "status": "ok",
      "stderr": "",
      "stdout": "",
      "submitted": "2022-07-06T17:49:35.308520Z"
     },
     "output_type": "display_data"
    },
    {
     "data": {
      "text/html": [
       "<div>\n",
       "<style scoped>\n",
       "    .dataframe tbody tr th:only-of-type {\n",
       "        vertical-align: middle;\n",
       "    }\n",
       "\n",
       "    .dataframe tbody tr th {\n",
       "        vertical-align: top;\n",
       "    }\n",
       "\n",
       "    .dataframe thead th {\n",
       "        text-align: right;\n",
       "    }\n",
       "</style>\n",
       "<table border=\"1\" class=\"dataframe\">\n",
       "  <thead>\n",
       "    <tr style=\"text-align: right;\">\n",
       "      <th></th>\n",
       "      <th>member_casual</th>\n",
       "      <th>ride_id</th>\n",
       "    </tr>\n",
       "  </thead>\n",
       "  <tbody>\n",
       "    <tr>\n",
       "      <th>1</th>\n",
       "      <td>member</td>\n",
       "      <td>61148</td>\n",
       "    </tr>\n",
       "  </tbody>\n",
       "</table>\n",
       "</div>"
      ],
      "text/plain": [
       "\u001b[0;31mOut[5:11]: \u001b[0m\n",
       "  member_casual  ride_id\n",
       "1        member    61148"
      ]
     },
     "metadata": {
      "after": null,
      "completed": null,
      "data": {},
      "engine_id": 5,
      "engine_uuid": "e476ee9b-c7254ce6859f614b9f5ba40a",
      "error": null,
      "execute_input": "gdf\n",
      "execute_result": {
       "data": {
        "text/html": "<div>\n<style scoped>\n    .dataframe tbody tr th:only-of-type {\n        vertical-align: middle;\n    }\n\n    .dataframe tbody tr th {\n        vertical-align: top;\n    }\n\n    .dataframe thead th {\n        text-align: right;\n    }\n</style>\n<table border=\"1\" class=\"dataframe\">\n  <thead>\n    <tr style=\"text-align: right;\">\n      <th></th>\n      <th>member_casual</th>\n      <th>ride_id</th>\n    </tr>\n  </thead>\n  <tbody>\n    <tr>\n      <th>1</th>\n      <td>member</td>\n      <td>61148</td>\n    </tr>\n  </tbody>\n</table>\n</div>",
        "text/plain": "  member_casual  ride_id\n1        member    61148"
       },
       "execution_count": 11,
       "metadata": {}
      },
      "follow": null,
      "msg_id": null,
      "outputs": [],
      "received": null,
      "started": null,
      "status": null,
      "stderr": "",
      "stdout": "",
      "submitted": "2022-07-06T17:49:35.308865Z"
     },
     "output_type": "display_data"
    },
    {
     "data": {
      "text/html": [
       "<div>\n",
       "<style scoped>\n",
       "    .dataframe tbody tr th:only-of-type {\n",
       "        vertical-align: middle;\n",
       "    }\n",
       "\n",
       "    .dataframe tbody tr th {\n",
       "        vertical-align: top;\n",
       "    }\n",
       "\n",
       "    .dataframe thead th {\n",
       "        text-align: right;\n",
       "    }\n",
       "</style>\n",
       "<table border=\"1\" class=\"dataframe\">\n",
       "  <thead>\n",
       "    <tr style=\"text-align: right;\">\n",
       "      <th></th>\n",
       "      <th>member_casual</th>\n",
       "      <th>ride_id</th>\n",
       "    </tr>\n",
       "  </thead>\n",
       "  <tbody>\n",
       "    <tr>\n",
       "      <th>0</th>\n",
       "      <td>casual</td>\n",
       "      <td>23628</td>\n",
       "    </tr>\n",
       "  </tbody>\n",
       "</table>\n",
       "</div>"
      ],
      "text/plain": [
       "\u001b[0;31mOut[3:11]: \u001b[0m\n",
       "  member_casual  ride_id\n",
       "0        casual    23628"
      ]
     },
     "metadata": {
      "after": null,
      "completed": null,
      "data": {},
      "engine_id": 3,
      "engine_uuid": "7b685ec4-2475b939be605eb1e1dfcf64",
      "error": null,
      "execute_input": "gdf\n",
      "execute_result": {
       "data": {
        "text/html": "<div>\n<style scoped>\n    .dataframe tbody tr th:only-of-type {\n        vertical-align: middle;\n    }\n\n    .dataframe tbody tr th {\n        vertical-align: top;\n    }\n\n    .dataframe thead th {\n        text-align: right;\n    }\n</style>\n<table border=\"1\" class=\"dataframe\">\n  <thead>\n    <tr style=\"text-align: right;\">\n      <th></th>\n      <th>member_casual</th>\n      <th>ride_id</th>\n    </tr>\n  </thead>\n  <tbody>\n    <tr>\n      <th>0</th>\n      <td>casual</td>\n      <td>23628</td>\n    </tr>\n  </tbody>\n</table>\n</div>",
        "text/plain": "  member_casual  ride_id\n0        casual    23628"
       },
       "execution_count": 11,
       "metadata": {}
      },
      "follow": null,
      "msg_id": null,
      "outputs": [],
      "received": null,
      "started": null,
      "status": null,
      "stderr": "",
      "stdout": "",
      "submitted": "2022-07-06T17:49:35.308806Z"
     },
     "output_type": "display_data"
    },
    {
     "data": {
      "text/html": [
       "<div>\n",
       "<style scoped>\n",
       "    .dataframe tbody tr th:only-of-type {\n",
       "        vertical-align: middle;\n",
       "    }\n",
       "\n",
       "    .dataframe tbody tr th {\n",
       "        vertical-align: top;\n",
       "    }\n",
       "\n",
       "    .dataframe thead th {\n",
       "        text-align: right;\n",
       "    }\n",
       "</style>\n",
       "<table border=\"1\" class=\"dataframe\">\n",
       "  <thead>\n",
       "    <tr style=\"text-align: right;\">\n",
       "      <th></th>\n",
       "      <th>member_casual</th>\n",
       "      <th>ride_id</th>\n",
       "    </tr>\n",
       "  </thead>\n",
       "  <tbody>\n",
       "  </tbody>\n",
       "</table>\n",
       "</div>"
      ],
      "text/plain": [
       "\u001b[0;31mOut[2:11]: \u001b[0m\n",
       "Empty DataFrame\n",
       "Columns: [member_casual, ride_id]\n",
       "Index: []"
      ]
     },
     "metadata": {
      "after": [],
      "completed": "2022-07-06T17:49:35.319551Z",
      "data": {},
      "engine_id": 2,
      "engine_uuid": "1477eac5-a425d4ca93402f5b92a1f0de",
      "error": null,
      "execute_input": "gdf\n",
      "execute_result": {
       "data": {
        "text/html": "<div>\n<style scoped>\n    .dataframe tbody tr th:only-of-type {\n        vertical-align: middle;\n    }\n\n    .dataframe tbody tr th {\n        vertical-align: top;\n    }\n\n    .dataframe thead th {\n        text-align: right;\n    }\n</style>\n<table border=\"1\" class=\"dataframe\">\n  <thead>\n    <tr style=\"text-align: right;\">\n      <th></th>\n      <th>member_casual</th>\n      <th>ride_id</th>\n    </tr>\n  </thead>\n  <tbody>\n  </tbody>\n</table>\n</div>",
        "text/plain": "Empty DataFrame\nColumns: [member_casual, ride_id]\nIndex: []"
       },
       "execution_count": 11,
       "metadata": {}
      },
      "follow": [],
      "is_broadcast": true,
      "is_coalescing": false,
      "msg_id": "2c29fa31-cd2442048f3653adf5fc8978_20666_13_1477eac5-a425d4ca93402f5b92a1f0de",
      "outputs": [],
      "received": "2022-07-06T17:49:35.327477Z",
      "started": "2022-07-06T17:49:35.311939Z",
      "status": "ok",
      "stderr": "",
      "stdout": "",
      "submitted": "2022-07-06T17:49:35.308520Z"
     },
     "output_type": "display_data"
    }
   ],
   "source": [
    "%%px\n",
    "gdf"
   ]
  },
  {
   "cell_type": "markdown",
   "id": "dfe49736-e475-4d01-91df-a410f72bafa5",
   "metadata": {},
   "source": [
    "Notice how simply adding the decorator, made this simple function distributed and data was shuffled across the ranks to provide an answer to this question across the entire dataset across all the ranks. This same concept can be extended to multiple cores and to other use cases like pivoting, joins etc.\n",
    "\n",
    "For those not familiar with pandas, we also support SQL workloads through our BodoSQL package. BodoSQL is described is explained in more detail in another demo."
   ]
  },
  {
   "cell_type": "markdown",
   "id": "4e251e95-e04a-4681-8eaa-60793646f276",
   "metadata": {},
   "source": [
    "## Summary\n",
    "\n",
    "Hopefully the exercise allowed you to see how simple and powerful bodo can be. Bodo is also versatile and offers multiple developments options like python/pandas and sql. Additionally, with bodo, you can work on large datasets. for ex with this particular example, we are passing one file to rea_csv, what if we have 100s of files. Nomral practice in pandas is to loop on the files and concat the resulting dataframes. Bodo makes this simple, just pass the folder where all this CSV is located. See the simple example below. Run the above cells again to inspect the data and do groupby etc."
   ]
  },
  {
   "cell_type": "code",
   "execution_count": 14,
   "id": "78719114-a366-457f-9578-eb3d8ef3e4df",
   "metadata": {
    "execution": {
     "iopub.execute_input": "2022-07-06T17:50:05.543084Z",
     "iopub.status.busy": "2022-07-06T17:50:05.542754Z",
     "iopub.status.idle": "2022-07-06T17:50:10.977649Z",
     "shell.execute_reply": "2022-07-06T17:50:10.977167Z",
     "shell.execute_reply.started": "2022-07-06T17:50:05.543062Z"
    },
    "tags": []
   },
   "outputs": [
    {
     "data": {
      "application/vnd.jupyter.widget-view+json": {
       "model_id": "2f18b18505bf47549278d6ed7f393452",
       "version_major": 2,
       "version_minor": 0
      },
      "text/plain": [
       "%px:   0%|          | 0/8 [00:00<?, ?tasks/s]"
      ]
     },
     "metadata": {},
     "output_type": "display_data"
    },
    {
     "data": {
      "text/plain": [
       "[stdout:0] time to run query 3.561756\n",
       "3242939\n"
      ]
     },
     "metadata": {},
     "output_type": "display_data"
    }
   ],
   "source": [
    "%%px\n",
    "df=load_data_bodo(\"s3://bodo-divvy-data/csv/\")\n",
    "get_len(df)"
   ]
  },
  {
   "cell_type": "code",
   "execution_count": null,
   "id": "816ced95-015c-4d7f-a7d0-19fe542e74cf",
   "metadata": {},
   "outputs": [],
   "source": []
  }
 ],
 "metadata": {
  "kernelspec": {
   "display_name": "SSH 10.30.3.28 Remote-Kernel",
   "language": "",
   "name": "rik_ssh_10_30_3_28_remotekernel"
  },
  "language_info": {
   "codemirror_mode": {
    "name": "ipython",
    "version": 3
   },
   "file_extension": ".py",
   "mimetype": "text/x-python",
   "name": "python",
   "nbconvert_exporter": "python",
   "pygments_lexer": "ipython3",
   "version": "3.9.12"
  }
 },
 "nbformat": 4,
 "nbformat_minor": 5
}
