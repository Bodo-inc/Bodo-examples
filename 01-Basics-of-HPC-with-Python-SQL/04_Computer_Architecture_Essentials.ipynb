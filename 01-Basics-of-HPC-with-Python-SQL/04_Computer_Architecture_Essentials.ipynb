{
 "cells": [
  {
   "cell_type": "markdown",
   "id": "f936e56a-5d92-41d0-8544-73c4a5705780",
   "metadata": {
    "slideshow": {
     "slide_type": "slide"
    },
    "tags": []
   },
   "source": [
    "## Computer Architecture Essentials"
   ]
  },
  {
   "cell_type": "markdown",
   "id": "48238848-0899-4283-9d59-906d2bf29468",
   "metadata": {
    "slideshow": {
     "slide_type": "notes"
    },
    "tags": []
   },
   "source": [
    "+ Let's review some aspects of computer hardware & architecture to understand the preceding timings."
   ]
  },
  {
   "cell_type": "markdown",
   "id": "1f9f77ed-21f5-454b-b5b6-896d300edb6b",
   "metadata": {
    "slideshow": {
     "slide_type": "skip"
    },
    "tags": []
   },
   "source": [
    "---"
   ]
  },
  {
   "cell_type": "markdown",
   "id": "e88e3805-052c-46f5-99aa-190886b074ec",
   "metadata": {
    "slideshow": {
     "slide_type": "subslide"
    },
    "tags": []
   },
   "source": [
    "### Hardware considerations"
   ]
  },
  {
   "cell_type": "markdown",
   "id": "ca2ea270",
   "metadata": {
    "slideshow": {
     "slide_type": "fragment"
    },
    "tags": []
   },
   "source": [
    "<center>\n",
    "    <img src='./img/hardware-0.svg' width=50%>\n",
    "</center>"
   ]
  },
  {
   "cell_type": "markdown",
   "id": "6c8d53fa",
   "metadata": {
    "slideshow": {
     "slide_type": "skip"
    },
    "tags": []
   },
   "source": [
    "---"
   ]
  },
  {
   "cell_type": "markdown",
   "id": "2396fb51-07f7-44b1-a617-2937a0bb4898",
   "metadata": {
    "slideshow": {
     "slide_type": "notes"
    },
    "tags": []
   },
   "source": [
    "+ The *CPU* or *Central Processing Unit* is where operations on data are actually executed.\n",
    "+ It's convenient to imagine a CPU as a clerical worker at a desk, manipulating paperwork."
   ]
  },
  {
   "cell_type": "markdown",
   "id": "c8aeec93-13b5-4f8f-b2fe-c436a48f356d",
   "metadata": {
    "slideshow": {
     "slide_type": "subslide"
    },
    "tags": []
   },
   "source": [
    "<center>\n",
    "    <img src='./img/hardware-1.svg' width=50%>\n",
    "</center>"
   ]
  },
  {
   "cell_type": "markdown",
   "id": "3c5ae743-cba7-424a-8997-29709d1e5b56",
   "metadata": {
    "slideshow": {
     "slide_type": "notes"
    },
    "tags": []
   },
   "source": [
    "+ There's actually another layer to it.\n",
    "+ Modern CPUs have local very fast *cache* memory.\n",
    "+ With the clerical worker metaphor in mind, the cache would be like the desk surface & drawers that contain papers close by, ready-to-access."
   ]
  },
  {
   "cell_type": "markdown",
   "id": "12876963-b3b8-492d-87c4-3e2ec8bd07a4",
   "metadata": {
    "slideshow": {
     "slide_type": "skip"
    },
    "tags": []
   },
   "source": [
    "---"
   ]
  },
  {
   "cell_type": "markdown",
   "id": "7a13a141-4675-4d24-88b8-0789c8ed411d",
   "metadata": {
    "slideshow": {
     "slide_type": "subslide"
    },
    "tags": []
   },
   "source": [
    "<center>\n",
    "    <img src='./img/hardware-2.svg' width=50%>\n",
    "</center>"
   ]
  },
  {
   "cell_type": "markdown",
   "id": "ac7d41e9-dc74-491a-bd65-d9fcf2bf4286",
   "metadata": {
    "slideshow": {
     "slide_type": "notes"
    },
    "tags": []
   },
   "source": [
    "+ The next level of data storage is *Random Access Memory* or (*RAM*).\n",
    "+ RAM is volatile in that data vanishes when the machine shuts down.\n",
    "+ A computer's main memory can be thought of as a bookcase near the clerk.\n",
    "+ It has more storage and takes more time to find papers."
   ]
  },
  {
   "cell_type": "markdown",
   "id": "75a3efd8-539b-44d7-8a1e-d4291a73481e",
   "metadata": {
    "slideshow": {
     "slide_type": "skip"
    },
    "tags": []
   },
   "source": [
    "---"
   ]
  },
  {
   "cell_type": "markdown",
   "id": "aa93cccc-e574-45bc-b9bc-dc39beb5c369",
   "metadata": {
    "slideshow": {
     "slide_type": "subslide"
    },
    "tags": []
   },
   "source": [
    "<center>\n",
    "    <img src='./img/hardware-3.svg' width=50%>\n",
    "</center>"
   ]
  },
  {
   "cell_type": "markdown",
   "id": "4ad28516-1ec5-494d-b510-a6e96a39fa5d",
   "metadata": {
    "slideshow": {
     "slide_type": "notes"
    },
    "tags": []
   },
   "source": [
    "+ Disk drives are *permanent* storage\n",
    "+ Rotational hard disk drives are still in use, but Solid state drives are much faster.\n",
    "+ We can view disk storage as a filing cabinet with more space for our clerk's paperwork."
   ]
  },
  {
   "cell_type": "markdown",
   "id": "33dd384b-2151-47cd-940a-5853d94c0c0b",
   "metadata": {
    "slideshow": {
     "slide_type": "skip"
    },
    "tags": []
   },
   "source": [
    "---"
   ]
  },
  {
   "cell_type": "markdown",
   "id": "07d5912e-d598-40fd-a7f8-1eacb1e32ce1",
   "metadata": {
    "slideshow": {
     "slide_type": "subslide"
    },
    "tags": []
   },
   "source": [
    "<center>\n",
    "    <img src='./img/hardware-4.svg' width=50%>\n",
    "</center>"
   ]
  },
  {
   "cell_type": "markdown",
   "id": "3ce3f6c9-6565-43a1-abbb-e28b46aa64b6",
   "metadata": {
    "slideshow": {
     "slide_type": "notes"
    },
    "tags": []
   },
   "source": [
    "+ Finally, when data isn't stored on disk, we can always go to the internet.\n",
    "+ Network storage is much slower depending on how far data has to travel.\n",
    "+ Rounding out our clerical worker metaphor, the internet is like a library or an archive that the clerk visits to find archived files."
   ]
  },
  {
   "cell_type": "markdown",
   "id": "614740b3-3f02-4ba9-8e92-4f311fb8027a",
   "metadata": {
    "slideshow": {
     "slide_type": "skip"
    },
    "tags": []
   },
   "source": [
    "---"
   ]
  },
  {
   "cell_type": "markdown",
   "id": "7e81ae7b-b523-4c3f-8eaf-9e2dedd9af56",
   "metadata": {
    "slideshow": {
     "slide_type": "subslide"
    },
    "tags": []
   },
   "source": [
    "### NumPy & Pandas data structures"
   ]
  },
  {
   "cell_type": "markdown",
   "id": "35c3fc97-53df-4043-a556-4b86b4778414",
   "metadata": {
    "tags": []
   },
   "source": [
    "<center>\n",
    "<img src='./img/pydata_ecosystem.png' width=60%></img>\n",
    "</center>"
   ]
  },
  {
   "cell_type": "markdown",
   "id": "889b5109-2ff7-4d2e-b112-fc3680368e22",
   "metadata": {
    "slideshow": {
     "slide_type": "notes"
    },
    "tags": []
   },
   "source": [
    "+ With a model of how computers store & work with data in mind, let's review some things about NumPy & Pandas.\n",
    "+ Both packages are at the base of the Python scientific software ecosystem."
   ]
  },
  {
   "cell_type": "markdown",
   "id": "77d41a71-5df8-4050-a376-167d9b252011",
   "metadata": {
    "slideshow": {
     "slide_type": "skip"
    },
    "tags": []
   },
   "source": [
    "---"
   ]
  },
  {
   "cell_type": "markdown",
   "id": "a728fe6b-2a33-4599-811a-e95e0794d040",
   "metadata": {
    "slideshow": {
     "slide_type": "subslide"
    },
    "tags": []
   },
   "source": [
    "#### What problem does NumPy solve?"
   ]
  },
  {
   "cell_type": "markdown",
   "id": "b06806db-25e7-41f1-bff0-1219a7b343a1",
   "metadata": {
    "tags": []
   },
   "source": [
    "+ Python lists:\n",
    "  + more overhead for elementary tasks\n",
    "  + e.g., extract 7th book from right\n",
    "\n",
    "<center>\n",
    "<img src=https://1.bp.blogspot.com/-5hiJFTt7_bk/XhWrJXoL_NI/AAAAAAAB4ys/Kw50Yf81B0IOIzOPpUM1-rGFcN021IytgCLcBGAsYHQ/s1600/Bookshelf%2B-%2BFiction%2B1.jpg width=40%></img>\n",
    "</center>"
   ]
  },
  {
   "cell_type": "markdown",
   "id": "74fa0758-1dde-4b7e-8e9e-7398e6edc4b8",
   "metadata": {
    "slideshow": {
     "slide_type": "notes"
    },
    "tags": []
   },
   "source": [
    "+ Superficially, it seems that Python lists are adequate ordered containers for data.\n",
    "+ They are heterogeneous, i.e., can contain elements of distinct type or size.\n",
    "+ So list operations like indexing, search, and so on are similar to searching on this shelf of books of different shapes.\n",
    "+ As an example, consider finding the 7th book from the right in this image of nonuniformly shaped books."
   ]
  },
  {
   "cell_type": "markdown",
   "id": "062aa634-5f6f-468b-a471-fa6ccef02bc4",
   "metadata": {
    "slideshow": {
     "slide_type": "skip"
    },
    "tags": []
   },
   "source": [
    "---"
   ]
  },
  {
   "cell_type": "markdown",
   "id": "34039ea5-09ad-4121-afff-27a79d0f5964",
   "metadata": {
    "slideshow": {
     "slide_type": "subslide"
    },
    "tags": []
   },
   "source": [
    "+ NumPy arrays:\n",
    "  + reduces overhead for elementary tasks\n",
    "  + e.g., extract 7th book from right\n",
    "\n",
    "<center>\n",
    "<img src=https://i1.wp.com/farm2.staticflickr.com/1769/43025256801_789480a50a_b.jpg width=40%></img>\n",
    "</center>"
   ]
  },
  {
   "cell_type": "markdown",
   "id": "de8fbaa9-a436-4ac0-823b-a2f9bcc2fdab",
   "metadata": {
    "slideshow": {
     "slide_type": "notes"
    },
    "tags": []
   },
   "source": [
    "+ NumPy arrays, by contrast, are *homogenous*\n",
    "+ They contain elements all of the same datatype & size in memory.\n",
    "+ So array operations are more like working with a shelf of encyclopedias of identical width.\n",
    "+ Finding the seventh book from the right is noticeably easier in this instance."
   ]
  },
  {
   "cell_type": "markdown",
   "id": "bc7ba152-59ee-469a-9040-22bc519048b1",
   "metadata": {
    "slideshow": {
     "slide_type": "skip"
    },
    "tags": []
   },
   "source": [
    "---"
   ]
  },
  {
   "cell_type": "markdown",
   "id": "5a53f815-e741-4288-b3bf-b9ba2d44591e",
   "metadata": {
    "slideshow": {
     "slide_type": "subslide"
    },
    "tags": []
   },
   "source": [
    "#### Performance comparisons"
   ]
  },
  {
   "cell_type": "code",
   "execution_count": 1,
   "id": "1500f487-f2f6-4b93-926d-95026d9567a3",
   "metadata": {
    "slideshow": {
     "slide_type": "-"
    },
    "tags": []
   },
   "outputs": [],
   "source": [
    "import pandas as pd, numpy as np\n",
    "import pickle as pkl\n",
    "pd.set_option('display.precision', 2, 'display.min_rows', 6)"
   ]
  },
  {
   "cell_type": "code",
   "execution_count": 2,
   "id": "9852400b",
   "metadata": {
    "slideshow": {
     "slide_type": "fragment"
    }
   },
   "outputs": [],
   "source": [
    "from s3fs import S3FileSystem\n",
    "s3 = S3FileSystem(anon=True)"
   ]
  },
  {
   "cell_type": "code",
   "execution_count": 3,
   "id": "376ab071-af6f-497d-8251-42ede108268b",
   "metadata": {
    "slideshow": {
     "slide_type": "fragment"
    },
    "tags": []
   },
   "outputs": [
    {
     "name": "stdout",
     "output_type": "stream",
     "text": [
      "ARRAY/data.npy:\t381.47 MiB\n",
      "ARRAY/data.pkl:\t737.30 MiB\n"
     ]
    }
   ],
   "source": [
    "DATA_ROOT = 'bodo-examples-data/bodo-training-fundamentals/DATA'\n",
    "for FILE in ['ARRAY/data.npy', 'ARRAY/data.pkl']:\n",
    "    print(f'{FILE}:\\t{s3.du(f\"{DATA_ROOT}/{FILE}\")/(1024**2):.2f} MiB')\n",
    "    s3.get(rpath=f'{DATA_ROOT}/{FILE}', lpath=f'./{FILE}')"
   ]
  },
  {
   "cell_type": "markdown",
   "id": "3ea0fa4e",
   "metadata": {
    "slideshow": {
     "slide_type": "skip"
    },
    "tags": []
   },
   "source": [
    "---"
   ]
  },
  {
   "cell_type": "markdown",
   "id": "a9d07268-ecf0-4b60-b6e8-1a608a3af2a9",
   "metadata": {
    "slideshow": {
     "slide_type": "notes"
    },
    "tags": []
   },
   "source": [
    "+ To see this concretely, let's import some standard packages...\n",
    "\n",
    "---\n",
    "\n",
    "+ ... let's create an object `s3` so we can examine the S3 bucket files...\n",
    "\n",
    "---\n",
    "\n",
    "+ ...and let's look at the sizes of two particular files:\n",
    " + `data.npy` contains a compressed NumPy array;\n",
    " + `data.pkl` contains a pickled Python list.\n",
    "+ Notice this loop also downloads the files locally; this can take a few minutes\n",
    "  + ...about 6 minutes on my network connection."
   ]
  },
  {
   "cell_type": "code",
   "execution_count": 4,
   "id": "88213240-d2c3-406c-8a95-ada49fd89b45",
   "metadata": {
    "slideshow": {
     "slide_type": "subslide"
    },
    "tags": []
   },
   "outputs": [],
   "source": [
    "data = np.load('./ARRAY/data.npy')"
   ]
  },
  {
   "cell_type": "code",
   "execution_count": 5,
   "id": "a1be9ca7-2d5d-468f-8c93-f5f6889c7dfb",
   "metadata": {
    "slideshow": {
     "slide_type": "fragment"
    },
    "tags": []
   },
   "outputs": [
    {
     "name": "stdout",
     "output_type": "stream",
     "text": [
      "200,000,000 elements\n",
      "381.47 MiB memory\n",
      "dtype int16\n",
      "[-862  800 -919 ...   31  565 -402]\n"
     ]
    }
   ],
   "source": [
    "print(f'{len(data):,d} elements\\n{data.nbytes/(1024**2):.2f} MiB memory\\ndtype {data.dtype}')\n",
    "print(data)"
   ]
  },
  {
   "cell_type": "markdown",
   "id": "da864b0d",
   "metadata": {
    "slideshow": {
     "slide_type": "skip"
    },
    "tags": []
   },
   "source": [
    "---"
   ]
  },
  {
   "cell_type": "markdown",
   "id": "ca434506-2bc9-4198-a5cd-208d073655cf",
   "metadata": {
    "slideshow": {
     "slide_type": "notes"
    },
    "tags": []
   },
   "source": [
    "+ The file `data.npy` contains 200 million 16-bit integers.\n",
    "---\n",
    "+ When loaded into memory, they occupy about 380 MiB."
   ]
  },
  {
   "cell_type": "code",
   "execution_count": 6,
   "id": "fa84c604-4de9-4aef-bd9c-81a9dd5a6eb6",
   "metadata": {
    "slideshow": {
     "slide_type": "subslide"
    },
    "tags": []
   },
   "outputs": [
    {
     "name": "stdout",
     "output_type": "stream",
     "text": [
      "Max:\t  1000\n",
      "CPU times: user 133 ms, sys: 0 ns, total: 133 ms\n",
      "Wall time: 132 ms\n"
     ]
    }
   ],
   "source": [
    "%time print(f'Max:\\t{data.max():6d}')"
   ]
  },
  {
   "cell_type": "code",
   "execution_count": 7,
   "id": "ee8be956-0e5f-4686-9155-65383d89cc04",
   "metadata": {
    "slideshow": {
     "slide_type": "fragment"
    },
    "tags": []
   },
   "outputs": [
    {
     "name": "stdout",
     "output_type": "stream",
     "text": [
      "Min:\t -1000\n",
      "CPU times: user 126 ms, sys: 0 ns, total: 126 ms\n",
      "Wall time: 125 ms\n"
     ]
    }
   ],
   "source": [
    "%time print(f'Min:\\t{data.min():6d}')"
   ]
  },
  {
   "cell_type": "code",
   "execution_count": 8,
   "id": "07566787-98c1-41e4-a23a-b01c3f563253",
   "metadata": {
    "slideshow": {
     "slide_type": "fragment"
    },
    "tags": []
   },
   "outputs": [
    {
     "name": "stdout",
     "output_type": "stream",
     "text": [
      "Mean:\t -0.88\n",
      "CPU times: user 110 ms, sys: 5 µs, total: 110 ms\n",
      "Wall time: 108 ms\n"
     ]
    }
   ],
   "source": [
    "%time print(f'Mean:\\t{data.mean():6.2f}')"
   ]
  },
  {
   "cell_type": "markdown",
   "id": "bd44ca48",
   "metadata": {
    "slideshow": {
     "slide_type": "skip"
    },
    "tags": []
   },
   "source": [
    "---"
   ]
  },
  {
   "cell_type": "markdown",
   "id": "a2bd4a79-7dae-4a0a-8a3f-457c5c44a25b",
   "metadata": {
    "slideshow": {
     "slide_type": "notes"
    },
    "tags": []
   },
   "source": [
    "+ As mentioned, NumPy is set up to deal with homogeneous arrays of data efficiently.\n",
    "---\n",
    "+ Elementary array operations like computing a maximum or a minimum...\n",
    "---\n",
    "+ ... or an average can be done in a hundred milliseconds or so."
   ]
  },
  {
   "cell_type": "code",
   "execution_count": 9,
   "id": "d2ae6803-cbd2-4c6d-bc56-2fde642fce4d",
   "metadata": {
    "slideshow": {
     "slide_type": "subslide"
    },
    "tags": []
   },
   "outputs": [
    {
     "name": "stdout",
     "output_type": "stream",
     "text": [
      "200,000,000 elements\n",
      "Type: <class 'list'>\n",
      "[-862, 800, -919] ... [31, 565, -402]\n"
     ]
    }
   ],
   "source": [
    "with open('./ARRAY/data.pkl', 'rb') as in_file:\n",
    "    data_list = pkl.load(in_file)\n",
    "print(f'{len(data_list):,d} elements\\nType: {type(data_list)}')\n",
    "\n",
    "print(f'{data_list[:3]} ... {data_list[-3:]}')"
   ]
  },
  {
   "cell_type": "markdown",
   "id": "df72aea8-d47c-42c1-8b40-08c1d33e14c9",
   "metadata": {
    "slideshow": {
     "slide_type": "notes"
    },
    "tags": []
   },
   "source": [
    "+ By contrast, the pickled file `data.pkl` contains the same data stored as a list or Python integers.\n",
    "+ The size on disk of this file is about double that of the NumPy array."
   ]
  },
  {
   "cell_type": "markdown",
   "id": "ec2072b2-6a16-4c1e-8230-8a8e33c0cb36",
   "metadata": {
    "slideshow": {
     "slide_type": "skip"
    },
    "tags": []
   },
   "source": [
    "---"
   ]
  },
  {
   "cell_type": "code",
   "execution_count": 10,
   "id": "fefab6d2-4dfa-4e8d-b184-aed229d5cd44",
   "metadata": {
    "slideshow": {
     "slide_type": "subslide"
    },
    "tags": []
   },
   "outputs": [
    {
     "name": "stdout",
     "output_type": "stream",
     "text": [
      "Max:\t  1000\n",
      "CPU times: user 3.56 s, sys: 7.87 ms, total: 3.57 s\n",
      "Wall time: 3.54 s\n"
     ]
    }
   ],
   "source": [
    "%time print(f'Max:\\t{max(data_list):6d}')"
   ]
  },
  {
   "cell_type": "code",
   "execution_count": 11,
   "id": "1a1b2f7f-7317-47a9-9d98-ea34b2accee4",
   "metadata": {
    "slideshow": {
     "slide_type": "fragment"
    },
    "tags": []
   },
   "outputs": [
    {
     "name": "stdout",
     "output_type": "stream",
     "text": [
      "Min:\t -1000\n",
      "CPU times: user 3.55 s, sys: 10.6 ms, total: 3.56 s\n",
      "Wall time: 3.54 s\n"
     ]
    }
   ],
   "source": [
    "%time print(f'Min:\\t{min(data_list):6d}')"
   ]
  },
  {
   "cell_type": "code",
   "execution_count": 12,
   "id": "68a050c5-27b2-456d-8855-60597b28f470",
   "metadata": {
    "slideshow": {
     "slide_type": "fragment"
    },
    "tags": []
   },
   "outputs": [
    {
     "name": "stdout",
     "output_type": "stream",
     "text": [
      "Mean:\t -0.88\n",
      "CPU times: user 2.47 s, sys: 6.74 ms, total: 2.48 s\n",
      "Wall time: 2.46 s\n"
     ]
    }
   ],
   "source": [
    "%time print(f'Mean:\\t{sum(data_list)/len(data_list):6.2f}')"
   ]
  },
  {
   "cell_type": "markdown",
   "id": "266883d0",
   "metadata": {
    "slideshow": {
     "slide_type": "skip"
    },
    "tags": []
   },
   "source": [
    "---"
   ]
  },
  {
   "cell_type": "markdown",
   "id": "28a49478",
   "metadata": {
    "slideshow": {
     "slide_type": "notes"
    },
    "tags": []
   },
   "source": [
    "+ Computation times for the maximum...\n",
    "---\n",
    "+ ... the minimum...\n",
    "---\n",
    "+ ... and the average of the list of integers is much longer (a few seconds each).\n",
    "+ Remember, Python lists are generically heterogeneous, so computation done on Python objects is generically slower."
   ]
  },
  {
   "cell_type": "markdown",
   "id": "de08cbf3-b580-46cb-9696-94011384bd74",
   "metadata": {
    "slideshow": {
     "slide_type": "subslide"
    }
   },
   "source": [
    "+ Pandas Series: array with labelled index\n",
    "<center>\n",
    "    <tr>\n",
    "    <td><img align='center', src='./img/weather_series.png', width=\"50%\"></img></td>\n",
    "    </tr>\n",
    "</center>"
   ]
  },
  {
   "cell_type": "markdown",
   "id": "22ef2fae",
   "metadata": {
    "slideshow": {
     "slide_type": "notes"
    },
    "tags": []
   },
   "source": [
    "+ These same considerations were extended from NumPy in developing Pandas.\n",
    "+ Pandas Series are like one-dimensional homogeneous NumPy arrays with a labelled Index.\n",
    "  + A common use case is for *Time Series* like this series of temperature values indexed by time.\n",
    "  + Pandas Indexes are optimized for high-performance allowing labelled access to homogeneous one-dimensional arrays."
   ]
  },
  {
   "cell_type": "markdown",
   "id": "cdcdb089-a55c-4d5b-b6b4-601a4a62023b",
   "metadata": {
    "slideshow": {
     "slide_type": "skip"
    },
    "tags": []
   },
   "source": [
    "---"
   ]
  },
  {
   "cell_type": "markdown",
   "id": "76834adb-be67-43bd-87ff-907c2c790ee9",
   "metadata": {
    "slideshow": {
     "slide_type": "subslide"
    }
   },
   "source": [
    "+ Pandas DataFrame: distinct Series, common index\n",
    "\n",
    "<center>\n",
    "<img src='./img/weather_frame.png'></img>\n",
    "<img src='./img/stock_frame.png'></img>\n",
    "</center>"
   ]
  },
  {
   "cell_type": "markdown",
   "id": "b930ddb0",
   "metadata": {
    "slideshow": {
     "slide_type": "notes"
    },
    "tags": []
   },
   "source": [
    "+ Pandas DataFrames consist of numerous series with a common index.\n",
    "  + The first DataFrame has Temperature & density values indexed by time.\n",
    "  + The second DataFrame has stock ticker information: open, high, low, closing prices, & volumes traded indexed by day.\n",
    "+ Notice that the columns of a DataFrame are Series.\n",
    "+ DataFrames are well-suited for column-oriented computations/storage with homogenous data in columns.\n",
    "+ They can have distinct data types.\n",
    "  + for instance, the stock ticker DataFrame has columns of floating-point prices except for the Volume column that contains integers."
   ]
  },
  {
   "cell_type": "markdown",
   "id": "518bfb8a-8cab-477f-a135-874aa1e2d852",
   "metadata": {
    "slideshow": {
     "slide_type": "skip"
    },
    "tags": []
   },
   "source": [
    "---"
   ]
  },
  {
   "cell_type": "markdown",
   "id": "9a678481-44a3-4ea3-869d-62ebe00e9d08",
   "metadata": {
    "slideshow": {
     "slide_type": "subslide"
    },
    "tags": []
   },
   "source": [
    "#### JIT compilers: interpreted vs. compiled programs"
   ]
  },
  {
   "cell_type": "markdown",
   "id": "05f2f6c1-1330-4f49-8d5b-246ead9cd948",
   "metadata": {
    "slideshow": {
     "slide_type": "-"
    },
    "tags": []
   },
   "source": [
    "+ Intense computations in *loops over arrays*\n",
    "+ NumPy/Pandas: C layer for low-level array computing\n",
    "+ Bodo (& [Numba](http://numba.pydata.org/numba-doc/latest/)): *JIT (just in-time) compilation*\n",
    "  + [LLVM Compiler Infrastructure](http://llvm.org/) underneath\n",
    "  + Simple way to compile Python code"
   ]
  },
  {
   "cell_type": "markdown",
   "id": "db0831cd-df5e-4a65-975e-53b3fc60657c",
   "metadata": {
    "slideshow": {
     "slide_type": "notes"
    },
    "tags": []
   },
   "source": [
    "+ Computationally intensive operations usually involve *arrays* and *loops*\n",
    "  + typically having the same operations applied to many elements.\n",
    "+ As seen, explicit loops in Python are slow; NumPy & Pandas avoid this by pushing costly operations to a layer of C code.\n",
    "+ Another approach is to *compile* functions into machine code earlier.\n",
    "+ This is how Numba & Bodo—using the mature LLVM infrastructure—accelerates programs seen so far."
   ]
  },
  {
   "cell_type": "markdown",
   "id": "0cb108b8-8100-4a41-816c-0b7df46f5299",
   "metadata": {
    "slideshow": {
     "slide_type": "skip"
    },
    "tags": []
   },
   "source": [
    "---"
   ]
  },
  {
   "cell_type": "markdown",
   "id": "ef9431f7-7c62-4bb1-8eee-c404172153dc",
   "metadata": {
    "slideshow": {
     "slide_type": "subslide"
    },
    "tags": []
   },
   "source": [
    "### Memory hierarchy"
   ]
  },
  {
   "cell_type": "markdown",
   "id": "734f5244",
   "metadata": {
    "tags": []
   },
   "source": [
    "<center>\n",
    "    <img src='./img/memory-hierarchy-0.svg' width=60%>\n",
    "</center>"
   ]
  },
  {
   "cell_type": "markdown",
   "id": "4be76488-73c9-40d0-92d6-25143bf508ef",
   "metadata": {
    "slideshow": {
     "slide_type": "notes"
    },
    "tags": []
   },
   "source": [
    "+ There's another last piece to understand the performance differences seen so far: the hierarchy of data access."
   ]
  },
  {
   "cell_type": "markdown",
   "id": "8ffd3092-08eb-485b-883e-bd57846f76c6",
   "metadata": {
    "slideshow": {
     "slide_type": "skip"
    },
    "tags": []
   },
   "source": [
    "---"
   ]
  },
  {
   "cell_type": "markdown",
   "id": "12fe581f-91d2-4131-a73b-cf0c105a7a27",
   "metadata": {
    "slideshow": {
     "slide_type": "subslide"
    },
    "tags": []
   },
   "source": [
    "### Memory hierarchy"
   ]
  },
  {
   "cell_type": "markdown",
   "id": "d61d1fd5-e2e2-4fea-a4a0-f30572193632",
   "metadata": {
    "tags": []
   },
   "source": [
    "<center>\n",
    "    <img src='./img/memory-hierarchy-1.svg' width=60%>\n",
    "</center>"
   ]
  },
  {
   "cell_type": "markdown",
   "id": "6ae5d118-6b40-4232-b074-901811ada992",
   "metadata": {
    "slideshow": {
     "slide_type": "notes"
    },
    "tags": []
   },
   "source": [
    "+ A typical modern CPU has a clock cycle of about 0.4 nanoseconds.\n",
    "+ The precise number is not important; just on the order of a billion cycles per second."
   ]
  },
  {
   "cell_type": "markdown",
   "id": "2bb2ab0c-3f28-4acc-800e-10062e553c87",
   "metadata": {
    "slideshow": {
     "slide_type": "skip"
    },
    "tags": []
   },
   "source": [
    "---"
   ]
  },
  {
   "cell_type": "markdown",
   "id": "76048a1d-06a2-4ba6-8445-d3fc830e2430",
   "metadata": {
    "slideshow": {
     "slide_type": "subslide"
    },
    "tags": []
   },
   "source": [
    "### Memory hierarchy"
   ]
  },
  {
   "cell_type": "markdown",
   "id": "4eb80334",
   "metadata": {
    "tags": []
   },
   "source": [
    "<center>\n",
    "    <img src='./img/memory-hierarchy-2.svg' width=60%>\n",
    "</center>"
   ]
  },
  {
   "cell_type": "markdown",
   "id": "ee724faa-0036-4c82-b8f0-7680df51901b",
   "metadata": {
    "slideshow": {
     "slide_type": "notes"
    },
    "tags": []
   },
   "source": [
    "+ Fetching data from the CPU cache takes about 0.9 to 28 nanoseconds.\n",
    "+ Returning to our metaphor of the CPU as a clerical worker, fetching from cache is like getting a paper from a drawer or the desktop."
   ]
  },
  {
   "cell_type": "markdown",
   "id": "4ff1a2b7-36c9-4a8e-a6e7-3c3e67cecf1f",
   "metadata": {
    "slideshow": {
     "slide_type": "skip"
    },
    "tags": []
   },
   "source": [
    "---"
   ]
  },
  {
   "cell_type": "markdown",
   "id": "63cb0a1b-f22d-4e36-b733-023ef7d0176b",
   "metadata": {
    "slideshow": {
     "slide_type": "subslide"
    },
    "tags": []
   },
   "source": [
    "### Memory hierarchy"
   ]
  },
  {
   "cell_type": "markdown",
   "id": "1ce628c9",
   "metadata": {
    "tags": []
   },
   "source": [
    "<center>\n",
    "    <img src='./img/memory-hierarchy-3.svg' width=60%>\n",
    "</center>"
   ]
  },
  {
   "cell_type": "markdown",
   "id": "adbc2f04-5e5b-45fc-bbc6-a37bec8c64a2",
   "metadata": {
    "slideshow": {
     "slide_type": "notes"
    },
    "tags": []
   },
   "source": [
    "+ Retrieving data from RAM takes roughly 100 to 350 nanoseconds.\n",
    "+ For our clerk, this is like looking for a book on their bookcase."
   ]
  },
  {
   "cell_type": "markdown",
   "id": "d57095d5-7925-47f9-bf3c-c7655d67b2d9",
   "metadata": {
    "slideshow": {
     "slide_type": "skip"
    },
    "tags": []
   },
   "source": [
    "---"
   ]
  },
  {
   "cell_type": "markdown",
   "id": "a30447b8-e9da-4221-bbe6-a14281a2b7a3",
   "metadata": {
    "slideshow": {
     "slide_type": "subslide"
    },
    "tags": []
   },
   "source": [
    "### Memory hierarchy"
   ]
  },
  {
   "cell_type": "markdown",
   "id": "6d39c574",
   "metadata": {
    "tags": []
   },
   "source": [
    "<center>\n",
    "    <img src='./img/memory-hierarchy-4.svg' width=60%>\n",
    "</center>"
   ]
  },
  {
   "cell_type": "markdown",
   "id": "db625972-552b-4819-8218-90f4b9bab61b",
   "metadata": {
    "slideshow": {
     "slide_type": "notes"
    },
    "tags": []
   },
   "source": [
    "+ Looking for data on a local disk takes anywhere from 10 microseconds to 10 milliseconds.\n",
    "+ That's like looking for a physical file in a filing cabinet for our clerk."
   ]
  },
  {
   "cell_type": "markdown",
   "id": "cd594116-4367-4e54-a05c-067b9f4178d7",
   "metadata": {
    "slideshow": {
     "slide_type": "skip"
    },
    "tags": []
   },
   "source": [
    "---"
   ]
  },
  {
   "cell_type": "markdown",
   "id": "6bf7d453-c5b6-4021-af29-929184b7171c",
   "metadata": {
    "slideshow": {
     "slide_type": "subslide"
    },
    "tags": []
   },
   "source": [
    "### Memory hierarchy"
   ]
  },
  {
   "cell_type": "markdown",
   "id": "ea8a8acd",
   "metadata": {
    "tags": []
   },
   "source": [
    "<center>\n",
    "    <img src='./img/memory-hierarchy-5.svg' width=60%>\n",
    "</center>"
   ]
  },
  {
   "cell_type": "markdown",
   "id": "19079e08-6cc1-486e-80e2-5e862aee895b",
   "metadata": {
    "slideshow": {
     "slide_type": "notes"
    },
    "tags": []
   },
   "source": [
    "+ Finally, fetching data over the internet takes much longer—on the order of 65 milliseconds for a packet to travel round- trip between San Francisco to New York.\n",
    "   + (of course, it depends on network speed and is even longer for greater geographic distances).\n",
    "+ This would be like our clerk going our to the local library or an archive to find a document."
   ]
  },
  {
   "cell_type": "markdown",
   "id": "6425e5a4-bd5d-48d3-a791-7939ac6b1235",
   "metadata": {
    "slideshow": {
     "slide_type": "skip"
    },
    "tags": []
   },
   "source": [
    "---"
   ]
  },
  {
   "cell_type": "markdown",
   "id": "97b5c316-342d-4552-b30b-950c6397f870",
   "metadata": {
    "slideshow": {
     "slide_type": "subslide"
    },
    "tags": []
   },
   "source": [
    "### Computer latency at human scale"
   ]
  },
  {
   "cell_type": "markdown",
   "id": "5a2650a5",
   "metadata": {
    "tags": []
   },
   "source": [
    "<center>\n",
    "    <img src='./img/computer-latency-0.svg' width=70%>\n",
    "</center>"
   ]
  },
  {
   "cell_type": "markdown",
   "id": "033a0106-5987-46b9-af09-9eb51d955ba5",
   "metadata": {
    "slideshow": {
     "slide_type": "notes"
    },
    "tags": []
   },
   "source": [
    "+ Brendan Gregg summarised this by a metaphor: *computer latency at human scale*\n",
    "+ Let's pretend the our clerical worker can complete a form in one second (corresponding to a clock cycle)."
   ]
  },
  {
   "cell_type": "markdown",
   "id": "81fc506e-13a7-4521-9c6c-54816900e783",
   "metadata": {
    "slideshow": {
     "slide_type": "skip"
    },
    "tags": []
   },
   "source": [
    "---"
   ]
  },
  {
   "cell_type": "markdown",
   "id": "61c0fb10-545a-4fa6-94af-eea7edcc40a1",
   "metadata": {
    "slideshow": {
     "slide_type": "subslide"
    },
    "tags": []
   },
   "source": [
    "### Computer latency at human scale"
   ]
  },
  {
   "cell_type": "markdown",
   "id": "418618b3",
   "metadata": {
    "tags": []
   },
   "source": [
    "<center>\n",
    "    <img src='./img/computer-latency-1.svg' width=70%>\n",
    "</center>"
   ]
  },
  {
   "cell_type": "markdown",
   "id": "19effc46-65fd-462b-af21-87581e49b413",
   "metadata": {
    "slideshow": {
     "slide_type": "notes"
    },
    "tags": []
   },
   "source": [
    "+ In rescaled units, that means fetching from Level 1, Level 2, or Level 3 cache takes 2 seconds, 7 seconds, or a minute for the clerk.\n",
    "+ Again, the precise hardware numbers don't matter as much as their relative scale."
   ]
  },
  {
   "cell_type": "markdown",
   "id": "4bd9fcc4-147d-4b8e-b029-3bca8cffc214",
   "metadata": {
    "slideshow": {
     "slide_type": "skip"
    },
    "tags": []
   },
   "source": [
    "---"
   ]
  },
  {
   "cell_type": "markdown",
   "id": "38ea0bf8-b223-4600-ba1c-87b889930704",
   "metadata": {
    "slideshow": {
     "slide_type": "subslide"
    },
    "tags": []
   },
   "source": [
    "### Computer latency at human scale"
   ]
  },
  {
   "cell_type": "markdown",
   "id": "78edda57",
   "metadata": {
    "tags": []
   },
   "source": [
    "<center>\n",
    "    <img src='./img/computer-latency-2.svg' width=70%>\n",
    "</center>"
   ]
  },
  {
   "cell_type": "markdown",
   "id": "bbd7ae6e-1cab-45df-a4fa-e08e1cebc56f",
   "metadata": {
    "slideshow": {
     "slide_type": "notes"
    },
    "tags": []
   },
   "source": [
    "+ Then fetching from memory would take between 4 and 15 minutes."
   ]
  },
  {
   "cell_type": "markdown",
   "id": "80373a70-3e37-40c9-bbf1-3a5994142808",
   "metadata": {
    "slideshow": {
     "slide_type": "skip"
    },
    "tags": []
   },
   "source": [
    "---"
   ]
  },
  {
   "cell_type": "markdown",
   "id": "0a51b428-921d-4ef7-a5ec-78dabfee0ff6",
   "metadata": {
    "slideshow": {
     "slide_type": "subslide"
    },
    "tags": []
   },
   "source": [
    "### Computer latency at human scale"
   ]
  },
  {
   "cell_type": "markdown",
   "id": "e2aa1899",
   "metadata": {
    "tags": []
   },
   "source": [
    "<center>\n",
    "    <img src='./img/computer-latency-3.svg' width=70%>\n",
    "</center>"
   ]
  },
  {
   "cell_type": "markdown",
   "id": "fbe54a65-8c67-44be-afdd-23598e8ad78f",
   "metadata": {
    "slideshow": {
     "slide_type": "notes"
    },
    "tags": []
   },
   "source": [
    "+ Getting data from a fast Solid State Drive would take the clerk 7 hours to 4 days...\n",
    "+ ... and a traditional rotational hard disk drive access is between 1 and 9 months!"
   ]
  },
  {
   "cell_type": "markdown",
   "id": "023ad06d-a995-4911-9ecb-78dc2355a052",
   "metadata": {
    "slideshow": {
     "slide_type": "skip"
    },
    "tags": []
   },
   "source": [
    "---"
   ]
  },
  {
   "cell_type": "markdown",
   "id": "5ed8ab83-5d0c-4fd3-b5e2-79c7993e79e4",
   "metadata": {
    "slideshow": {
     "slide_type": "subslide"
    },
    "tags": []
   },
   "source": [
    "### Computer latency at human scale"
   ]
  },
  {
   "cell_type": "markdown",
   "id": "a33c30c6",
   "metadata": {
    "tags": []
   },
   "source": [
    "<center>\n",
    "    <img src='./img/computer-latency-4.svg' width=70%>\n",
    "</center>"
   ]
  },
  {
   "cell_type": "markdown",
   "id": "dbcdddc4-05dc-4a24-ac6e-7fb30b8529be",
   "metadata": {
    "slideshow": {
     "slide_type": "notes"
    },
    "tags": []
   },
   "source": [
    "+ Finally, at this scale, an internet round-trip takes 5 years!"
   ]
  },
  {
   "cell_type": "markdown",
   "id": "8758010f-4c44-4c43-8f97-7e951e70f5b6",
   "metadata": {
    "slideshow": {
     "slide_type": "skip"
    },
    "tags": []
   },
   "source": [
    "---"
   ]
  },
  {
   "cell_type": "markdown",
   "id": "746ada1c-5370-4688-8c07-69dcfd2b2793",
   "metadata": {
    "slideshow": {
     "slide_type": "subslide"
    },
    "tags": []
   },
   "source": [
    "### Computer latency at human scale"
   ]
  },
  {
   "cell_type": "markdown",
   "id": "8d1b8192",
   "metadata": {
    "tags": []
   },
   "source": [
    "<center>\n",
    "    <img src='./img/computer-latency-5.svg' width=70%>\n",
    "</center>"
   ]
  },
  {
   "cell_type": "markdown",
   "id": "b762926c-4797-4441-b44d-47165ca3e268",
   "metadata": {
    "slideshow": {
     "slide_type": "notes"
    },
    "tags": []
   },
   "source": [
    "+ This rescaling reveals the limitations of our metaphor of a clerk in an office.\n",
    "+ But it is useful to have in mind when asking why programs are slow.\n",
    "+ The critical performance bottleneck is often in how data moves between devices."
   ]
  },
  {
   "cell_type": "markdown",
   "id": "124386e2-8f15-4181-9f43-2b404906ade8",
   "metadata": {
    "slideshow": {
     "slide_type": "skip"
    },
    "tags": []
   },
   "source": [
    "---"
   ]
  },
  {
   "cell_type": "markdown",
   "id": "a9694c9c-196a-4e24-b203-741f48c7ce3d",
   "metadata": {
    "slideshow": {
     "slide_type": "subslide"
    },
    "tags": []
   },
   "source": [
    "### Summary"
   ]
  },
  {
   "cell_type": "markdown",
   "id": "ab5d0571-b6cb-4c26-b187-ba5065942a31",
   "metadata": {},
   "source": [
    "+ Hardware considerations\n",
    "+ NumPy & Pandas data structures\n",
    "+ Memory Hierarchy\n",
    "+ Computer Latency at Human Scale"
   ]
  },
  {
   "cell_type": "markdown",
   "id": "51f16308-bdf2-4287-bb91-8b91b2cee791",
   "metadata": {
    "slideshow": {
     "slide_type": "notes"
    },
    "tags": []
   },
   "source": [
    "+ Putting it together, we can understand some of the performance differances observed so far.\n",
    "+ First, artful use of NumPy & Pandas can speed up computations a lot.\n",
    "+ Bodo can improves things further by compiling programs to carefully optimize motion of data between cache & RAM.\n",
    "+ In looking to construct such speed-ups, it's useful to remember the hierarchy of memory & to consider computer latencies at human scales."
   ]
  }
 ],
 "metadata": {
  "celltoolbar": "Slideshow",
  "kernelspec": {
   "display_name": "Python 3 (ipykernel)",
   "language": "python",
   "name": "python3"
  },
  "language_info": {
   "codemirror_mode": {
    "name": "ipython",
    "version": 3
   },
   "file_extension": ".py",
   "mimetype": "text/x-python",
   "name": "python",
   "nbconvert_exporter": "python",
   "pygments_lexer": "ipython3",
   "version": "3.9.13"
  },
  "rise": {
   "auto_select": "none",
   "slideNumber": false,
   "transition": "none"
  }
 },
 "nbformat": 4,
 "nbformat_minor": 5
}
