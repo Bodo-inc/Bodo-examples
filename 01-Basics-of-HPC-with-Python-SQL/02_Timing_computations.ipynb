{
 "cells": [
  {
   "cell_type": "markdown",
   "id": "32afeef7-7430-4429-a707-edb19dc7197d",
   "metadata": {
    "slideshow": {
     "slide_type": "slide"
    },
    "tags": []
   },
   "source": [
    "## Timing computations"
   ]
  },
  {
   "cell_type": "markdown",
   "id": "7047b857",
   "metadata": {
    "slideshow": {
     "slide_type": "notes"
    }
   },
   "source": [
    "+ Before proceeding further, let's review the timings measured from some preceding code snippets."
   ]
  },
  {
   "cell_type": "markdown",
   "id": "23b9ec4c",
   "metadata": {
    "slideshow": {
     "slide_type": "skip"
    },
    "tags": []
   },
   "source": [
    "---"
   ]
  },
  {
   "cell_type": "code",
   "execution_count": 1,
   "id": "c37b0e61",
   "metadata": {
    "slideshow": {
     "slide_type": "subslide"
    }
   },
   "outputs": [],
   "source": [
    "import pandas as pd\n",
    "\n",
    "DATA_ROOT = 'bodo-examples-data/bodo-training-fundamentals'\n",
    "DATA_SRC  = f's3://{DATA_ROOT}/DATA/PARQUET_010'\n",
    "\n",
    "loading_opts = dict(storage_options=dict(anon=True))"
   ]
  },
  {
   "cell_type": "code",
   "execution_count": 2,
   "id": "2e870bbf",
   "metadata": {
    "slideshow": {
     "slide_type": "fragment"
    }
   },
   "outputs": [
    {
     "name": "stdout",
     "output_type": "stream",
     "text": [
      "CPU times: user 11.2 s, sys: 2.54 s, total: 13.7 s\n",
      "Wall time: 1min 4s\n"
     ]
    }
   ],
   "source": [
    "%time df = pd.read_parquet(DATA_SRC, **loading_opts)"
   ]
  },
  {
   "cell_type": "markdown",
   "id": "d3fc94f7",
   "metadata": {
    "slideshow": {
     "slide_type": "skip"
    },
    "tags": []
   },
   "source": [
    "---"
   ]
  },
  {
   "cell_type": "markdown",
   "id": "d48b7355",
   "metadata": {
    "slideshow": {
     "slide_type": "notes"
    },
    "tags": []
   },
   "source": [
    "+ The first example we saw...\n",
    "---\n",
    "+ ...used the `%time` line magic command to time execution of a single line of code.\n",
    "+ This is a short, simple way to time code within IPython or Jupyter notebook sessions."
   ]
  },
  {
   "cell_type": "code",
   "execution_count": 3,
   "id": "7ea1e951-6318-4faa-a1cc-fabe594aad82",
   "metadata": {
    "slideshow": {
     "slide_type": "subslide"
    },
    "tags": []
   },
   "outputs": [],
   "source": [
    "# Embedding in a function...\n",
    "import bodo, time\n",
    "@bodo.jit\n",
    "def compute_mean_purchase_bodo():\n",
    "    start = time.time()\n",
    "    DATA_ROOT = 'bodo-examples-data/bodo-training-fundamentals'\n",
    "    DATA_SRC = f's3://{DATA_ROOT}/DATA/PARQUET_010'\n",
    "    df = pd.read_parquet(DATA_SRC)\n",
    "    avg = df['Purchase_Amount'].mean()\n",
    "    print(f'Elapsed time: {time.time() - start:.3f} s')\n",
    "    return avg"
   ]
  },
  {
   "cell_type": "code",
   "execution_count": 4,
   "id": "2b534d77-beb5-4e0f-b484-95964686014c",
   "metadata": {
    "slideshow": {
     "slide_type": "fragment"
    },
    "tags": []
   },
   "outputs": [
    {
     "name": "stdout",
     "output_type": "stream",
     "text": [
      "Elapsed time: 47.231 s\n",
      "Average Purchase_Amount: $184.91\n"
     ]
    }
   ],
   "source": [
    "avg = compute_mean_purchase_bodo()\n",
    "print(f'Average Purchase_Amount: ${avg:,.2f}')"
   ]
  },
  {
   "cell_type": "markdown",
   "id": "25025ceb",
   "metadata": {
    "slideshow": {
     "slide_type": "skip"
    },
    "tags": []
   },
   "source": [
    "---"
   ]
  },
  {
   "cell_type": "markdown",
   "id": "78975d7b",
   "metadata": {
    "slideshow": {
     "slide_type": "notes"
    },
    "tags": []
   },
   "source": [
    "+ The next example we saw used the function `time.time` from the `time` module.\n",
    "+ Notice this gives somewhat verbose code.\n",
    "---\n",
    "+ The timing result is printed when the function executes."
   ]
  },
  {
   "cell_type": "markdown",
   "id": "97a38def-52ce-45ce-9d13-e2c0cdc5b458",
   "metadata": {
    "slideshow": {
     "slide_type": "skip"
    },
    "tags": []
   },
   "source": [
    "---"
   ]
  },
  {
   "cell_type": "markdown",
   "id": "059c0736-276e-4f14-9ed2-0ee76ff55920",
   "metadata": {
    "slideshow": {
     "slide_type": "subslide"
    },
    "tags": []
   },
   "source": [
    "### Using the time module"
   ]
  },
  {
   "cell_type": "code",
   "execution_count": 5,
   "id": "35cf4514-9b03-4273-af80-b6952743acb4",
   "metadata": {
    "slideshow": {
     "slide_type": "fragment"
    },
    "tags": []
   },
   "outputs": [],
   "source": [
    "# Illustration of time.time()\n",
    "import time\n",
    "import pandas as pd\n",
    "DATA_SRC = f's3://{DATA_ROOT}/DATA/CSV/samples_001.csv'"
   ]
  },
  {
   "cell_type": "code",
   "execution_count": 6,
   "id": "522cf412-07fb-4656-bdf5-f33a8d1f3ed1",
   "metadata": {
    "slideshow": {
     "slide_type": "fragment"
    },
    "tags": []
   },
   "outputs": [],
   "source": [
    "start = time.time()\n",
    "df = pd.read_csv(DATA_SRC, **loading_opts)\n",
    "stop = time.time()"
   ]
  },
  {
   "cell_type": "code",
   "execution_count": 7,
   "id": "3d90afe5-55f8-46ef-a832-d21f630a0970",
   "metadata": {
    "slideshow": {
     "slide_type": "fragment"
    },
    "tags": []
   },
   "outputs": [
    {
     "name": "stdout",
     "output_type": "stream",
     "text": [
      "Elapsed time: 69.030 s\n"
     ]
    }
   ],
   "source": [
    "print(f'Elapsed time: {stop-start:.3f} s')"
   ]
  },
  {
   "cell_type": "markdown",
   "id": "84563f67-ed20-43e9-9d05-c25ff8a19368",
   "metadata": {
    "slideshow": {
     "slide_type": "skip"
    },
    "tags": []
   },
   "source": [
    "---"
   ]
  },
  {
   "cell_type": "markdown",
   "id": "9e41a6d3-bd9f-4c2b-a82e-e908d7a4e0c4",
   "metadata": {
    "slideshow": {
     "slide_type": "notes"
    },
    "tags": []
   },
   "source": [
    "+ Using `time.time` is inelegant, but simple to understand.\n",
    "---\n",
    "+ We start by executing setup code.\n",
    "+ This includes imports and assigning `DATA_SRC`\n",
    "---\n",
    "+ Each invocation of `time.time` reads the system clock as a numerical value.\n",
    "+ Here, we put the function calls *before* & *after* the call to Pandas `read_csv`.\n",
    "---\n",
    "+ The difference between those two clock readings gives the time elapsed.\n",
    "+ This approach is used often in Bodo's documentation & elsewhere to illustrate timings."
   ]
  },
  {
   "cell_type": "markdown",
   "id": "e9131cfc-718f-41c6-b2fa-5071c6e35e65",
   "metadata": {
    "slideshow": {
     "slide_type": "skip"
    },
    "tags": []
   },
   "source": [
    "---"
   ]
  },
  {
   "cell_type": "markdown",
   "id": "e87c41ed-882c-4258-91ee-9aacd0277b51",
   "metadata": {
    "slideshow": {
     "slide_type": "subslide"
    },
    "tags": []
   },
   "source": [
    "### Using IPython magics\n",
    "\n",
    "+ `%%time`: an Ipython *cell* magic"
   ]
  },
  {
   "cell_type": "code",
   "execution_count": 8,
   "id": "d1aa4ea3-9d44-4616-adcd-1c6702fb6ca8",
   "metadata": {
    "slideshow": {
     "slide_type": "-"
    },
    "tags": []
   },
   "outputs": [
    {
     "name": "stdout",
     "output_type": "stream",
     "text": [
      "Loading s3://bodo-examples-data/bodo-training-fundamentals/DATA/CSV/samples_001.csv...\n",
      "\n",
      "Loading s3://bodo-examples-data/bodo-training-fundamentals/DATA/CSV/samples_002.csv...\n",
      "\n",
      "CPU times: user 9.32 s, sys: 1.4 s, total: 10.7 s\n",
      "Wall time: 1min 45s\n"
     ]
    }
   ],
   "source": [
    "%%time\n",
    "# Illustration of %%time cell magic\n",
    "DATA_SRCS = [f's3://{DATA_ROOT}/DATA/CSV/samples_{k:03d}.csv'\n",
    "               for k in range(1,3)]\n",
    "dataframes = []\n",
    "for DATA_SRC in DATA_SRCS:\n",
    "    print(f'Loading {DATA_SRC}...\\n')\n",
    "    dataframes.append(pd.read_csv(DATA_SRC))\n",
    "df = pd.concat(dataframes)"
   ]
  },
  {
   "cell_type": "markdown",
   "id": "7fc5750b-aded-42f9-8085-9fd341ccfce0",
   "metadata": {
    "slideshow": {
     "slide_type": "skip"
    },
    "tags": []
   },
   "source": [
    "---"
   ]
  },
  {
   "cell_type": "markdown",
   "id": "3bc75d77",
   "metadata": {
    "slideshow": {
     "slide_type": "notes"
    },
    "tags": []
   },
   "source": [
    "+ The IPython `time` *cell* magic (with *two* percent symbols) returns the time to execute a complete cell.\n",
    "+ As with other cell magics internal to IPython, it must be at the very top of the cell.\n",
    "+ This cell reads two individual CSV files from the S3 bucket, appends them to a list, and concatenates all the elements of the list into a single dataframe.\n",
    "+ We include a `print` statement within the loop to illustrate the delay for reading each file.\n",
    "---\n",
    "+ On completing the execution of the *entire* cell, various numbers are output to the screen.\n",
    "+ You can look up what these mean specifically; \n",
    "  + we mostly care only about `Wall` time (that is, the time as would be measured from start to finish by a clock on the wall).\n",
    "+ Notice this measures the time for reading *and* the time for concatenating dataframes collectively."
   ]
  },
  {
   "cell_type": "markdown",
   "id": "ad68af25",
   "metadata": {
    "slideshow": {
     "slide_type": "skip"
    },
    "tags": []
   },
   "source": [
    "---"
   ]
  },
  {
   "cell_type": "markdown",
   "id": "e38f15f5",
   "metadata": {
    "slideshow": {
     "slide_type": "subslide"
    },
    "tags": []
   },
   "source": [
    "### Using IPython magics\n",
    "\n",
    "+ `%time`: an Ipython *line* magic"
   ]
  },
  {
   "cell_type": "code",
   "execution_count": 9,
   "id": "958543c9-ac47-4172-837b-d05c6641f63a",
   "metadata": {
    "slideshow": {
     "slide_type": "-"
    }
   },
   "outputs": [
    {
     "name": "stdout",
     "output_type": "stream",
     "text": [
      "\n",
      "Loading s3://bodo-examples-data/bodo-training-fundamentals/DATA/CSV/samples_001.csv...\n",
      "\n",
      "CPU times: user 4.89 s, sys: 656 ms, total: 5.55 s\n",
      "Wall time: 1min 7s\n",
      "\n",
      "Loading s3://bodo-examples-data/bodo-training-fundamentals/DATA/CSV/samples_002.csv...\n",
      "\n",
      "CPU times: user 4.61 s, sys: 619 ms, total: 5.23 s\n",
      "Wall time: 1min 10s\n"
     ]
    }
   ],
   "source": [
    "# Illustration of %time line magic\n",
    "DATA_SRCS = [f's3://{DATA_ROOT}/DATA/CSV/samples_{k:03d}.csv'\n",
    "               for k in range(1,3)]\n",
    "dataframes = []\n",
    "for DATA_SRC in DATA_SRCS:\n",
    "    print(f'\\nLoading {DATA_SRC}...\\n')\n",
    "    %time dataframes.append(pd.read_csv(DATA_SRC))\n",
    "df = pd.concat(dataframes)"
   ]
  },
  {
   "cell_type": "markdown",
   "id": "ea67893d-653e-4b17-a3e9-fc0df354a666",
   "metadata": {
    "slideshow": {
     "slide_type": "skip"
    },
    "tags": []
   },
   "source": [
    "---"
   ]
  },
  {
   "cell_type": "markdown",
   "id": "246d422f-7384-4fb8-92d4-024e108a7877",
   "metadata": {
    "slideshow": {
     "slide_type": "notes"
    },
    "tags": []
   },
   "source": [
    "+ As an alternative, the IPython `time` *line* magic (with *one* percent symbol) returns the time to execute a *single line of a cell*.\n",
    "---\n",
    "+ This cell repeats the preceding computation.\n",
    "+ This time, because the `time` magic is embedded within the loop, it prints to the screen within each iteration.\n",
    "+ The output is rather messy but it is quick to add `percent time` to an individual line to get its execution time separate from the other code required for set up."
   ]
  },
  {
   "cell_type": "markdown",
   "id": "4745dea2",
   "metadata": {
    "slideshow": {
     "slide_type": "skip"
    },
    "tags": []
   },
   "source": [
    "---"
   ]
  },
  {
   "cell_type": "markdown",
   "id": "fabfb55b-038e-4deb-9e5e-d11b51a40441",
   "metadata": {
    "slideshow": {
     "slide_type": "subslide"
    },
    "tags": []
   },
   "source": [
    "### Summary\n",
    "\n",
    "+ Within generic Python functions:\n",
    "  1. `time.time`: for timing tailored blocks of code\n",
    "\n",
    "+ Within IPython/Jupyter sessions:\n",
    "  2. `%%time` for timing *cells*\n",
    "  3. `%time` for timing *lines*"
   ]
  },
  {
   "cell_type": "markdown",
   "id": "2c09b940-832b-405f-a248-2567b6ddbe4f",
   "metadata": {
    "slideshow": {
     "slide_type": "skip"
    },
    "tags": []
   },
   "source": [
    "---"
   ]
  },
  {
   "cell_type": "markdown",
   "id": "7d71e1bf-9e54-4b06-83e0-11b61be924a5",
   "metadata": {
    "slideshow": {
     "slide_type": "notes"
    },
    "tags": []
   },
   "source": [
    "+ To summarise, we'll use all these approaches to timing recognising their relative tradeoffs\n",
    "  + verbose code input vs. verbose code output\n",
    "  + fine-grained line-by-line timing vs. coarse-grained timing of an entire cell\n",
    "+ Of course, developers use more sophisticated profiling tools; these are the simple enough for the moment."
   ]
  },
  {
   "cell_type": "markdown",
   "id": "dd056088-9cb6-4c7e-ae93-df3099af4712",
   "metadata": {
    "slideshow": {
     "slide_type": "skip"
    },
    "tags": []
   },
   "source": [
    "---"
   ]
  }
 ],
 "metadata": {
  "celltoolbar": "Slideshow",
  "kernelspec": {
   "display_name": "Python 3 (ipykernel)",
   "language": "python",
   "name": "python3"
  },
  "language_info": {
   "codemirror_mode": {
    "name": "ipython",
    "version": 3
   },
   "file_extension": ".py",
   "mimetype": "text/x-python",
   "name": "python",
   "nbconvert_exporter": "python",
   "pygments_lexer": "ipython3",
   "version": "3.9.7"
  },
  "rise": {
   "auto_select": "none",
   "slideNumber": false,
   "transition": "none"
  }
 },
 "nbformat": 4,
 "nbformat_minor": 5
}
