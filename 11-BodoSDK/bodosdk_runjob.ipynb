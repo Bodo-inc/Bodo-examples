{
 "cells": [
  {
   "cell_type": "markdown",
   "metadata": {},
   "source": [
    "#### This is an tutorial on using the bodo platform sdk. It will also guide you on how to trigger/ schedule Bodo jobs on the platform, from either your laptop, Lambda, cron etc."
   ]
  },
  {
   "cell_type": "markdown",
   "metadata": {},
   "source": [
    "#### Step 1\n",
    "Install Bodo SDK , you can installing simply by using pip"
   ]
  },
  {
   "cell_type": "code",
   "execution_count": 1,
   "metadata": {},
   "outputs": [
    {
     "name": "stdout",
     "output_type": "stream",
     "text": [
      "Requirement already satisfied: bodosdk in /Users/karthiknarayanan/miniconda3/envs/Bodo/lib/python3.10/site-packages (0.5.0)\n",
      "Collecting requests~=2.27.1\n",
      "  Using cached requests-2.27.1-py2.py3-none-any.whl (63 kB)\n",
      "Requirement already satisfied: pyjwt~=2.3.0 in /Users/karthiknarayanan/miniconda3/envs/Bodo/lib/python3.10/site-packages (from bodosdk) (2.3.0)\n",
      "Requirement already satisfied: pydantic~=1.9 in /Users/karthiknarayanan/miniconda3/envs/Bodo/lib/python3.10/site-packages (from bodosdk) (1.9.1)\n",
      "Requirement already satisfied: typing-extensions>=3.7.4.3 in /Users/karthiknarayanan/miniconda3/envs/Bodo/lib/python3.10/site-packages (from pydantic~=1.9->bodosdk) (4.1.1)\n",
      "Requirement already satisfied: urllib3<1.27,>=1.21.1 in /Users/karthiknarayanan/miniconda3/envs/Bodo/lib/python3.10/site-packages (from requests~=2.27.1->bodosdk) (1.26.9)\n",
      "Requirement already satisfied: certifi>=2017.4.17 in /Users/karthiknarayanan/miniconda3/envs/Bodo/lib/python3.10/site-packages (from requests~=2.27.1->bodosdk) (2022.6.15)\n",
      "Requirement already satisfied: charset-normalizer~=2.0.0 in /Users/karthiknarayanan/miniconda3/envs/Bodo/lib/python3.10/site-packages (from requests~=2.27.1->bodosdk) (2.0.4)\n",
      "Requirement already satisfied: idna<4,>=2.5 in /Users/karthiknarayanan/miniconda3/envs/Bodo/lib/python3.10/site-packages (from requests~=2.27.1->bodosdk) (3.3)\n",
      "Installing collected packages: requests\n",
      "  Attempting uninstall: requests\n",
      "    Found existing installation: requests 2.28.1\n",
      "    Uninstalling requests-2.28.1:\n",
      "      Successfully uninstalled requests-2.28.1\n",
      "Successfully installed requests-2.27.1\n"
     ]
    }
   ],
   "source": [
    "!pip install bodosdk"
   ]
  },
  {
   "cell_type": "markdown",
   "metadata": {},
   "source": [
    "#### Step 2\n",
    "Create an access token for your workspace and reference it here. check the short video below "
   ]
  },
  {
   "cell_type": "code",
   "execution_count": 17,
   "metadata": {
    "jupyter": {
     "source_hidden": true
    },
    "tags": []
   },
   "outputs": [
    {
     "data": {
      "text/html": [
       "<div align=\"center\">\n",
       "<iframe align=\"middle\" width=\"700\" height=\"400\" src=\"https://www.youtube.com/embed/qAPZba0cQQg\" frameborder=\"0\" allowfullscreen></iframe>\n",
       "</div>\n"
      ],
      "text/plain": [
       "<IPython.core.display.HTML object>"
      ]
     },
     "metadata": {},
     "output_type": "display_data"
    }
   ],
   "source": [
    "%%HTML\n",
    "<div align=\"center\">\n",
    "<iframe align=\"middle\" width=\"700\" height=\"400\" src=\"https://www.youtube.com/embed/qAPZba0cQQg\" frameborder=\"0\" allowfullscreen></iframe>\n",
    "</div>"
   ]
  },
  {
   "cell_type": "markdown",
   "metadata": {},
   "source": [
    "#### Generate an SDK client using the API token, as below"
   ]
  },
  {
   "cell_type": "code",
   "execution_count": 4,
   "metadata": {},
   "outputs": [],
   "source": [
    "from bodosdk.models import WorkspaceKeys, JobResponse,WorkspaceSource,JobCluster,ClusterStatus\n",
    "from bodosdk.client import get_bodo_client\n",
    "\n",
    "from bodosdk.models.job import JobClusterDefinition, JobDefinition\n",
    "\n",
    "def getBodoClient():\n",
    "    keys = WorkspaceKeys(\n",
    "        client_id='',\n",
    "        secret_key=''\n",
    "    )\n",
    "    return get_bodo_client(keys, print_logs=False)\n",
    "\n",
    "client = getBodoClient()"
   ]
  },
  {
   "cell_type": "markdown",
   "metadata": {},
   "source": [
    "#### Once you have an instance of the Bodo SDK Client, you can use this client to platform operations.\n",
    "#### Lets get a list of clusters from the platform and their status."
   ]
  },
  {
   "cell_type": "code",
   "execution_count": 5,
   "metadata": {},
   "outputs": [
    {
     "data": {
      "text/html": [
       "<div>\n",
       "<style scoped>\n",
       "    .dataframe tbody tr th:only-of-type {\n",
       "        vertical-align: middle;\n",
       "    }\n",
       "\n",
       "    .dataframe tbody tr th {\n",
       "        vertical-align: top;\n",
       "    }\n",
       "\n",
       "    .dataframe thead th {\n",
       "        text-align: right;\n",
       "    }\n",
       "</style>\n",
       "<table border=\"1\" class=\"dataframe\">\n",
       "  <thead>\n",
       "    <tr style=\"text-align: right;\">\n",
       "      <th></th>\n",
       "      <th>name</th>\n",
       "      <th>status</th>\n",
       "      <th>uuid</th>\n",
       "      <th>instance_type</th>\n",
       "      <th>workers_quantity</th>\n",
       "    </tr>\n",
       "  </thead>\n",
       "  <tbody>\n",
       "    <tr>\n",
       "      <th>0</th>\n",
       "      <td>hosted-trial-size</td>\n",
       "      <td>ClusterStatus.PAUSED</td>\n",
       "      <td>25ff2ce3-308d-47c6-8c18-5720774c53c3</td>\n",
       "      <td>c5.2xlarge</td>\n",
       "      <td>2</td>\n",
       "    </tr>\n",
       "    <tr>\n",
       "      <th>1</th>\n",
       "      <td>cluster-exampleJob</td>\n",
       "      <td>ClusterStatus.NEW</td>\n",
       "      <td>917fdccc-9c6f-4acf-839f-14d9e6ece98c</td>\n",
       "      <td>c5.2xlarge</td>\n",
       "      <td>1</td>\n",
       "    </tr>\n",
       "    <tr>\n",
       "      <th>2</th>\n",
       "      <td>Ali-prod-cluster</td>\n",
       "      <td>ClusterStatus.PAUSED</td>\n",
       "      <td>e7ccaebb-3698-4888-b36a-dfd5e3217b53</td>\n",
       "      <td>c5n.18xlarge</td>\n",
       "      <td>1</td>\n",
       "    </tr>\n",
       "    <tr>\n",
       "      <th>3</th>\n",
       "      <td>2022.6-test</td>\n",
       "      <td>ClusterStatus.PAUSED</td>\n",
       "      <td>d9e4d04a-eb20-4147-9420-ee62ebd3ff1d</td>\n",
       "      <td>c5.2xlarge</td>\n",
       "      <td>2</td>\n",
       "    </tr>\n",
       "    <tr>\n",
       "      <th>4</th>\n",
       "      <td>vignesh-test</td>\n",
       "      <td>ClusterStatus.PAUSED</td>\n",
       "      <td>bf8e0bd7-7e78-483d-aa03-16bfe85dd645</td>\n",
       "      <td>c5.xlarge</td>\n",
       "      <td>2</td>\n",
       "    </tr>\n",
       "    <tr>\n",
       "      <th>5</th>\n",
       "      <td>Nick-Test-BodoSQL</td>\n",
       "      <td>ClusterStatus.PAUSED</td>\n",
       "      <td>4e95cd56-9ff3-4f3c-acc5-f6d769ccca0c</td>\n",
       "      <td>c5.2xlarge</td>\n",
       "      <td>1</td>\n",
       "    </tr>\n",
       "    <tr>\n",
       "      <th>6</th>\n",
       "      <td>Ali-test</td>\n",
       "      <td>ClusterStatus.RUNNING</td>\n",
       "      <td>ea23a4f2-4a85-42b6-9e9c-652dbeac751d</td>\n",
       "      <td>c5.2xlarge</td>\n",
       "      <td>2</td>\n",
       "    </tr>\n",
       "  </tbody>\n",
       "</table>\n",
       "</div>"
      ],
      "text/plain": [
       "                 name                 status  \\\n",
       "0   hosted-trial-size   ClusterStatus.PAUSED   \n",
       "1  cluster-exampleJob      ClusterStatus.NEW   \n",
       "2    Ali-prod-cluster   ClusterStatus.PAUSED   \n",
       "3         2022.6-test   ClusterStatus.PAUSED   \n",
       "4        vignesh-test   ClusterStatus.PAUSED   \n",
       "5   Nick-Test-BodoSQL   ClusterStatus.PAUSED   \n",
       "6            Ali-test  ClusterStatus.RUNNING   \n",
       "\n",
       "                                   uuid instance_type  workers_quantity  \n",
       "0  25ff2ce3-308d-47c6-8c18-5720774c53c3    c5.2xlarge                 2  \n",
       "1  917fdccc-9c6f-4acf-839f-14d9e6ece98c    c5.2xlarge                 1  \n",
       "2  e7ccaebb-3698-4888-b36a-dfd5e3217b53  c5n.18xlarge                 1  \n",
       "3  d9e4d04a-eb20-4147-9420-ee62ebd3ff1d    c5.2xlarge                 2  \n",
       "4  bf8e0bd7-7e78-483d-aa03-16bfe85dd645     c5.xlarge                 2  \n",
       "5  4e95cd56-9ff3-4f3c-acc5-f6d769ccca0c    c5.2xlarge                 1  \n",
       "6  ea23a4f2-4a85-42b6-9e9c-652dbeac751d    c5.2xlarge                 2  "
      ]
     },
     "execution_count": 5,
     "metadata": {},
     "output_type": "execute_result"
    }
   ],
   "source": [
    "import pandas as pd\n",
    "def listClusters(client):\n",
    "    resp=client.cluster.list()\n",
    "    clusters={\"name\":[],\"status\":[],\"uuid\":[],\"instance_type\":[],\"workers_quantity\":[]}\n",
    "    for cluster in resp:\n",
    "        clusters[\"uuid\"].append(cluster.uuid)\n",
    "        clusters[\"name\"].append(cluster.name)\n",
    "        clusters[\"status\"].append(cluster.status)\n",
    "        clusters[\"instance_type\"].append(cluster.instance_type)\n",
    "        clusters[\"workers_quantity\"].append(cluster.workers_quantity)\n",
    "    clusterdf=pd.DataFrame(clusters)\n",
    "    return clusterdf\n",
    "clusterdf = listClusters(client)\n",
    "clusterdf"
   ]
  },
  {
   "cell_type": "markdown",
   "metadata": {},
   "source": [
    "#### Lets Start a cluster that is paused currently\n",
    "#### copy the uuid of one of the clusters from the list above and paste in the code below"
   ]
  },
  {
   "cell_type": "code",
   "execution_count": 34,
   "metadata": {},
   "outputs": [],
   "source": [
    "clusterId=\"25ff2ce3-308d-47c6-8c18-5720774c53c3\""
   ]
  },
  {
   "cell_type": "code",
   "execution_count": 31,
   "metadata": {},
   "outputs": [
    {
     "data": {
      "text/plain": [
       "ClusterResponse(name='hosted-trial-size', uuid='25ff2ce3-308d-47c6-8c18-5720774c53c3', status=<ClusterStatus.INPROGRESS: 'INPROGRESS'>, description='', instance_type='c5.2xlarge', workers_quantity=2, auto_shutdown=0, auto_pause=60, nodes_ip=['10.30.2.147', '10.30.2.121'], bodo_version='2022.05.4', image_id='ami-05af5bb246896bf9e', cores_per_worker=4, accelerated_networking=False, autoscaling_identifier='arn:aws:autoscaling:us-east-2:427443013497:autoScalingGroup:5789134c-3e3d-481d-b3eb-decacea44088:autoScalingGroupName/BodoASG-25ff2ce3-308d-47c6-8c18-5720774c53c3', last_asg_activity_id='9ab605c9-0f29-e1c6-d5e6-332ecb6fa779', created_at='2022-06-17 15:18:30.392512+00', is_job_dedicated=False, last_known_activity='2022-06-17T16:00:33.433Z', workspace={'id': 21, 'uuid': 'de215a95-0f9c-4493-8310-87b12878644f', 'name': 'DataCouncil-Demo-Workspace', 'status': 'READY', 'type': 'ENTERPRISE', 'organization_uuid': 'eab58676-5fe6-4b95-9f19-5bcaa856bc33', 'region': 'us-east-2', 'data': {'policies_arn': ['arn:aws:iam::427443013497:policy/bodoai-de215a95-0f9c-4493-8310-87b12878644f-access-to-kms', 'arn:aws:iam::427443013497:policy/bodoai-de215a95-0f9c-4493-8310-87b12878644f-access-to-s3-example', 'arn:aws:iam::427443013497:policy/bodoai-de215a95-0f9c-4493-8310-87b12878644f-efs-describe', 'arn:aws:iam::427443013497:policy/bodoai-de215a95-0f9c-4493-8310-87b12878644f-get-ssm-parameter'], 'fetched_vpc_id': 'vpc-00dfc423fc31ba456', 'storage_endpoint': False, 'public_subnets_az_mapping': {'subnet-0f5582f1baf66baf0': 'us-east-2a'}, 'private_subnets_az_mapping': {'subnet-009acd9b41930f9a6': 'us-east-2b', 'subnet-0702a57f87f725f2b': 'us-east-2a', 'subnet-0dda7179250953fbe': 'us-east-2c'}}, 'createdBy': 'sahil@bodo.ai', 'default_notebook_config': {'instance_type': 'm5.xlarge', 'notebook_image_version': '2022.05.4', 'image_id': 'ami-06546cc21a9b42f3b'}, 'notebookAutoDeployEnabled': True})"
      ]
     },
     "execution_count": 31,
     "metadata": {},
     "output_type": "execute_result"
    }
   ],
   "source": [
    "cluster=client.cluster.resume(clusterId)"
   ]
  },
  {
   "cell_type": "code",
   "execution_count": 41,
   "metadata": {},
   "outputs": [
    {
     "data": {
      "text/plain": [
       "<ClusterStatus.RUNNING: 'RUNNING'>"
      ]
     },
     "execution_count": 41,
     "metadata": {},
     "output_type": "execute_result"
    }
   ],
   "source": [
    "client.cluster.get(clusterId).status"
   ]
  },
  {
   "cell_type": "code",
   "execution_count": 48,
   "metadata": {},
   "outputs": [
    {
     "name": "stdout",
     "output_type": "stream",
     "text": [
      "ClusterStatus.PAUSED\n"
     ]
    }
   ],
   "source": [
    "### check the status in a loop till the cluster is running. In the future, the api will have a blocking method for resume.\n",
    "import time\n",
    "def checkStatus(client,clusterId):\n",
    "    while(True):\n",
    "        clusterstatus = client.cluster.get(clusterId).status\n",
    "        print(clusterstatus)\n",
    "        if(clusterstatus==ClusterStatus.RUNNING or clusterstatus==ClusterStatus.PAUSING or clusterstatus==ClusterStatus.PAUSED):\n",
    "            break\n",
    "        time.sleep(2)\n",
    "checkStatus(client,clusterId)\n"
   ]
  },
  {
   "cell_type": "markdown",
   "metadata": {
    "tags": []
   },
   "source": [
    "### Pause a cluster"
   ]
  },
  {
   "cell_type": "code",
   "execution_count": 49,
   "metadata": {},
   "outputs": [
    {
     "name": "stdout",
     "output_type": "stream",
     "text": [
      "ClusterStatus.INPROGRESS\n",
      "ClusterStatus.PAUSED\n"
     ]
    }
   ],
   "source": [
    "client.cluster.pause(clusterId)\n",
    "checkStatus(client,clusterId)"
   ]
  },
  {
   "cell_type": "markdown",
   "metadata": {},
   "source": [
    "#### Get list of available images ami, for creating clusters using SDK\n",
    "#### call the get_available_images method of cluster SDK , pass the region where you want the cluster to be created, and you will get a list of available images.\n",
    "#### the image will correspond to a bodo version, this can be used to launch a bodo cluster programmatically with a particular bodo version"
   ]
  },
  {
   "cell_type": "code",
   "execution_count": 7,
   "metadata": {},
   "outputs": [
    {
     "data": {
      "text/html": [
       "<div>\n",
       "<style scoped>\n",
       "    .dataframe tbody tr th:only-of-type {\n",
       "        vertical-align: middle;\n",
       "    }\n",
       "\n",
       "    .dataframe tbody tr th {\n",
       "        vertical-align: top;\n",
       "    }\n",
       "\n",
       "    .dataframe thead th {\n",
       "        text-align: right;\n",
       "    }\n",
       "</style>\n",
       "<table border=\"1\" class=\"dataframe\">\n",
       "  <thead>\n",
       "    <tr style=\"text-align: right;\">\n",
       "      <th></th>\n",
       "      <th>ami</th>\n",
       "      <th>bodo_version</th>\n",
       "    </tr>\n",
       "  </thead>\n",
       "  <tbody>\n",
       "    <tr>\n",
       "      <th>0</th>\n",
       "      <td>ami-0d790d4cf8f8dac5b</td>\n",
       "      <td>2022.7</td>\n",
       "    </tr>\n",
       "    <tr>\n",
       "      <th>1</th>\n",
       "      <td>ami-0b49e47df3cefe51e</td>\n",
       "      <td>2022.6.2</td>\n",
       "    </tr>\n",
       "    <tr>\n",
       "      <th>2</th>\n",
       "      <td>ami-0fc5e82c9f7c572f9</td>\n",
       "      <td>2022.6</td>\n",
       "    </tr>\n",
       "    <tr>\n",
       "      <th>3</th>\n",
       "      <td>ami-03d1638bccc8c357b</td>\n",
       "      <td>2022.05.7 (Iceberg Alpha)</td>\n",
       "    </tr>\n",
       "    <tr>\n",
       "      <th>4</th>\n",
       "      <td>ami-02e0871982f31ed86</td>\n",
       "      <td>2022.05.8</td>\n",
       "    </tr>\n",
       "    <tr>\n",
       "      <th>5</th>\n",
       "      <td>ami-077ffa6e2fb413c7e</td>\n",
       "      <td>2022.05.7</td>\n",
       "    </tr>\n",
       "    <tr>\n",
       "      <th>6</th>\n",
       "      <td>ami-07a2e9276a352e411</td>\n",
       "      <td>2022.05.6</td>\n",
       "    </tr>\n",
       "    <tr>\n",
       "      <th>7</th>\n",
       "      <td>ami-0e6823b4142b81319</td>\n",
       "      <td>2022.05.4 SQL</td>\n",
       "    </tr>\n",
       "    <tr>\n",
       "      <th>8</th>\n",
       "      <td>ami-05af5bb246896bf9e</td>\n",
       "      <td>2022.05.4</td>\n",
       "    </tr>\n",
       "    <tr>\n",
       "      <th>9</th>\n",
       "      <td>ami-0e00b3234e13295db</td>\n",
       "      <td>2022.05.3 SQL</td>\n",
       "    </tr>\n",
       "    <tr>\n",
       "      <th>10</th>\n",
       "      <td>ami-0ef01232e0adfee9a</td>\n",
       "      <td>2022.05.3</td>\n",
       "    </tr>\n",
       "    <tr>\n",
       "      <th>11</th>\n",
       "      <td>ami-04b2ff0a32b6a1a65</td>\n",
       "      <td>2022.05 SQL</td>\n",
       "    </tr>\n",
       "    <tr>\n",
       "      <th>12</th>\n",
       "      <td>ami-0d72429297db73319</td>\n",
       "      <td>2022.05.2</td>\n",
       "    </tr>\n",
       "    <tr>\n",
       "      <th>13</th>\n",
       "      <td>ami-0c323630822ceddf0</td>\n",
       "      <td>2022.4 SQL</td>\n",
       "    </tr>\n",
       "    <tr>\n",
       "      <th>14</th>\n",
       "      <td>ami-040050ebeeb499f8a</td>\n",
       "      <td>2022.4</td>\n",
       "    </tr>\n",
       "    <tr>\n",
       "      <th>15</th>\n",
       "      <td>ami-08fb1e0406565d935</td>\n",
       "      <td>2022.3</td>\n",
       "    </tr>\n",
       "  </tbody>\n",
       "</table>\n",
       "</div>"
      ],
      "text/plain": [
       "                      ami               bodo_version\n",
       "0   ami-0d790d4cf8f8dac5b                     2022.7\n",
       "1   ami-0b49e47df3cefe51e                   2022.6.2\n",
       "2   ami-0fc5e82c9f7c572f9                     2022.6\n",
       "3   ami-03d1638bccc8c357b  2022.05.7 (Iceberg Alpha)\n",
       "4   ami-02e0871982f31ed86                  2022.05.8\n",
       "5   ami-077ffa6e2fb413c7e                  2022.05.7\n",
       "6   ami-07a2e9276a352e411                  2022.05.6\n",
       "7   ami-0e6823b4142b81319              2022.05.4 SQL\n",
       "8   ami-05af5bb246896bf9e                  2022.05.4\n",
       "9   ami-0e00b3234e13295db              2022.05.3 SQL\n",
       "10  ami-0ef01232e0adfee9a                  2022.05.3\n",
       "11  ami-04b2ff0a32b6a1a65                2022.05 SQL\n",
       "12  ami-0d72429297db73319                  2022.05.2\n",
       "13  ami-0c323630822ceddf0                 2022.4 SQL\n",
       "14  ami-040050ebeeb499f8a                     2022.4\n",
       "15  ami-08fb1e0406565d935                     2022.3"
      ]
     },
     "execution_count": 7,
     "metadata": {},
     "output_type": "execute_result"
    }
   ],
   "source": [
    "import pandas as pd\n",
    "def listImages(client,region):\n",
    "    \n",
    "    resp = client.cluster.get_available_images(\"us-east-2\")\n",
    "    images={\"ami\":[],\"bodo_version\":[]}\n",
    "    for image in resp.keys():\n",
    "        images[\"ami\"].append(resp[image].image_id)\n",
    "        images[\"bodo_version\"].append(resp[image].bodo_version)\n",
    "    df=pd.DataFrame(images)\n",
    "    return df\n",
    "images = listImages(client,\"us-east-1\")\n",
    "images\n",
    "    "
   ]
  },
  {
   "cell_type": "markdown",
   "metadata": {},
   "source": [
    "#### Lets use the bodo sdk to run a job.\n",
    "## There are two ways to run jobs\n",
    "## 1. you can, submit the job with a cluster definition. Bodo platfrom will use the cluster definition to start a new cluster and run the job on this cluster. After the job finishes, cluster will be removed\n",
    "## 2. Submit job to an existing cluster by passing the uuid of the cluster in cluster definition. \n",
    "\n",
    "## we will use both approaches to run a job here.\n"
   ]
  },
  {
   "cell_type": "code",
   "execution_count": 8,
   "metadata": {},
   "outputs": [
    {
     "name": "stdout",
     "output_type": "stream",
     "text": [
      "uuid=UUID('10fda43d-3878-4796-bb2b-a56ef343db1d') status=<JobStatus.NEW: 'NEW'> name='exampleJob-2022-08-30' args='example.py' variables=[] source_config=WorkspaceSource(type=<JobSourceType.WORKSPACE: 'WORKSPACE'>, path='/shared/bodo-examples/Jobs/') cluster_config=JobClusterDefinition(instance_type='c5.2xlarge', workers_quantity=1, accelerated_networking=False, image_id='ami-0d790d4cf8f8dac5b') cluster=JobClusterResponse(uuid='319c52aa-74e7-4ef4-89bb-0e41e53b0966', name='cluster-exampleJob-2022-08-30', instance_type='c5.2xlarge', workers_quantity=1, accelerated_networking=False, bodo_version='2022.7', image_id='ami-0d790d4cf8f8dac5b') timeout=10 retries=3 retries_delay=0 retry_on_timeout=False\n",
      "Job has finished\n",
      "None\n"
     ]
    }
   ],
   "source": [
    "### Run a job with a new cluster Definition \n",
    "from datetime import date\n",
    "def runJob(client):\n",
    "    today = date.today()\n",
    "    job_definition = JobDefinition(\n",
    "        name=f'exampleJob-{today}', ### name of the job run instance , from a use case perspective ex. \"daily eod report job\" .\n",
    "        args='example.py', ### the python script to run,\n",
    "        source_config=WorkspaceSource(\n",
    "            path='/shared/bodo-examples/11-BodoSDK/' ### absolute path for the python script, this folder will be added to PYTHONPATH\n",
    "        ),\n",
    "    cluster_object=JobClusterDefinition(\n",
    "        instance_type='c5.2xlarge',\n",
    "        accelerated_networking=False,\n",
    "        image_id='ami-0d790d4cf8f8dac5b', ### the image to use, this is for helping pick a bodo version, look at the image list section to see the versions and ami-ids\n",
    "        workers_quantity=1\n",
    "    ),\n",
    "        variables=[],\n",
    "        timeout=10,\n",
    "        retries=3,\n",
    "        retries_delay=0,\n",
    "        retry_on_timeout=False\n",
    "    )\n",
    "    resp = client.job.create(job_definition)\n",
    "    print(resp)\n",
    "    uuid=str(resp.uuid)\n",
    "    result = waitforJobFinish(uuid,client)\n",
    "    #return result\n",
    "\n",
    "\n",
    "def success_callback(job):\n",
    "    print('Job has finished')\n",
    "    return job\n",
    "\n",
    "\n",
    "def waitforJobFinish(uuid,client):\n",
    "    waiter = client.job.get_waiter()\n",
    "    return waiter.wait(uuid, on_success=success_callback)\n",
    "\n",
    "if __name__ == \"__main__\":\n",
    "\n",
    "\n",
    "    \n",
    "    result = runJob(client)\n",
    "    print(result)"
   ]
  },
  {
   "cell_type": "code",
   "execution_count": null,
   "metadata": {},
   "outputs": [],
   "source": []
  }
 ],
 "metadata": {
  "kernelspec": {
   "display_name": "Python 3 (ipykernel)",
   "language": "python",
   "name": "python3"
  },
  "language_info": {
   "codemirror_mode": {
    "name": "ipython",
    "version": 3
   },
   "file_extension": ".py",
   "mimetype": "text/x-python",
   "name": "python",
   "nbconvert_exporter": "python",
   "pygments_lexer": "ipython3",
   "version": "3.9.12"
  }
 },
 "nbformat": 4,
 "nbformat_minor": 4
}
