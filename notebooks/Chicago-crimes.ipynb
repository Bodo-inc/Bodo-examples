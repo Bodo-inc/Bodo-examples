{
 "cells": [
  {
   "cell_type": "markdown",
   "metadata": {},
   "source": [
    "# Chicago Crimes\n",
    "This examples shows an exploratory data analysis (EDA)  of crimes in Chicago. \n",
    "\n",
    "Original example can be found [here](https://medium.com/@ahsanzafar222/chicago-crime-data-cleaning-and-eda-a744c687a291) and [here](https://www.kaggle.com/fahd09/eda-of-crime-in-chicago-2005-2016).\n"
   ]
  },
  {
   "cell_type": "markdown",
   "id": "ea1f302f-c922-4942-874e-b0a6787022f2",
   "metadata": {},
   "source": [
    "### Start an IPyParallel cluster (skip if running on Bodo Platform)\n",
    "Run the following code in a cell to start an IPyParallel cluster. 8 cores are used in this example. "
   ]
  },
  {
   "cell_type": "code",
   "execution_count": 1,
   "id": "0050c46a-4484-40f4-9aed-5ebccfb5abab",
   "metadata": {},
   "outputs": [
    {
     "name": "stdout",
     "output_type": "stream",
     "text": [
      "Starting 8 engines with <class 'ipyparallel.cluster.launcher.MPIEngineSetLauncher'>\n",
      "100%|██████████| 8/8 [00:07<00:00,  1.13engine/s]\n"
     ]
    }
   ],
   "source": [
    "import ipyparallel as ipp\n",
    "import psutil; n = min(psutil.cpu_count(logical=False), 8)\n",
    "rc = ipp.Cluster(engines='mpi', n=n).start_and_connect_sync(activate=True)"
   ]
  },
  {
   "cell_type": "code",
   "execution_count": 2,
   "metadata": {
    "execution": {
     "iopub.execute_input": "2022-03-14T20:15:47.609372Z",
     "iopub.status.busy": "2022-03-14T20:15:47.609138Z",
     "iopub.status.idle": "2022-03-14T20:15:57.664341Z",
     "shell.execute_reply": "2022-03-14T20:15:57.663412Z",
     "shell.execute_reply.started": "2022-03-14T20:15:47.609354Z"
    },
    "tags": []
   },
   "outputs": [],
   "source": [
    "%%px\n",
    "import pandas as pd\n",
    "import time\n",
    "import bodo"
   ]
  },
  {
   "cell_type": "markdown",
   "metadata": {},
   "source": [
    "## Load Crimes Data in Chicago 2005 - 2017"
   ]
  },
  {
   "cell_type": "code",
   "execution_count": 3,
   "metadata": {
    "execution": {
     "iopub.execute_input": "2022-03-14T20:15:57.665071Z",
     "iopub.status.busy": "2022-03-14T20:15:57.664876Z",
     "iopub.status.idle": "2022-03-14T20:16:08.076505Z",
     "shell.execute_reply": "2022-03-14T20:16:08.075633Z",
     "shell.execute_reply.started": "2022-03-14T20:15:57.665049Z"
    },
    "tags": []
   },
   "outputs": [
    {
     "name": "stdout",
     "output_type": "stream",
     "text": [
      "%px:   0%|          | 0/8 [02:05<?, ?tasks/s]\n"
     ]
    },
    {
     "name": "stderr",
     "output_type": "stream",
     "text": [
      "Received Keyboard Interrupt. Sending signal SIGINT to engines...\n"
     ]
    }
   ],
   "source": [
    "%%px\n",
    "@bodo.jit(cache=True)\n",
    "def load_chicago_crimes():\n",
    "    t1 = time.time()\n",
    "    crimes1 = pd.read_csv('s3://bodo-example-data/chicago-crimes/Chicago_Crimes_2005_to_2007.csv')\n",
    "    crimes2 = pd.read_csv('s3://bodo-example-data/chicago-crimes/Chicago_Crimes_2008_to_2011.csv')\n",
    "    crimes3 = pd.read_csv('s3://bodo-example-data/chicago-crimes/Chicago_Crimes_2012_to_2017.csv')\n",
    "    crimes = pd.concat([crimes1, crimes2, crimes3], ignore_index=False, axis=0)\n",
    "    crimes = crimes.sort_values(by=\"ID\")\n",
    "    print(\"Reading time: \", ((time.time() - t1) * 1000), \" (ms)\")    \n",
    "    return crimes\n",
    "\n",
    "crimes1 = load_chicago_crimes()\n",
    "if bodo.get_rank()==0:\n",
    "    print(crimes1.head())"
   ]
  },
  {
   "cell_type": "markdown",
   "metadata": {},
   "source": [
    "## Preprocessing and Cleaning\n",
    " 1. Drop duplicated cases, filter unused columns, and add day of week and date of the crime.\n",
    " 2. Keep only the most frequent crime type categories.\n"
   ]
  },
  {
   "cell_type": "code",
   "execution_count": null,
   "metadata": {
    "execution": {
     "iopub.execute_input": "2022-03-14T20:16:08.077734Z",
     "iopub.status.busy": "2022-03-14T20:16:08.077545Z",
     "iopub.status.idle": "2022-03-14T20:16:10.248226Z",
     "shell.execute_reply": "2022-03-14T20:16:10.247468Z",
     "shell.execute_reply.started": "2022-03-14T20:16:08.077715Z"
    },
    "tags": []
   },
   "outputs": [
    {
     "name": "stdout",
     "output_type": "stream",
     "text": [
      "%px:   0%|          | 0/8 [00:41<?, ?tasks/s]"
     ]
    },
    {
     "data": {
      "text/plain": [
       "[stdout:0] Data cleanup time:  22520.818512000005  (ms)\n",
       "           ID                Date                  Block Primary Type  \\\n",
       "1324003  3012 2005-01-01 13:15:00  076XX S GREENWOOD AVE     HOMICIDE   \n",
       "1324004  3013 2005-01-02 21:45:00        029XX E 82ND ST     HOMICIDE   \n",
       "1324005  3014 2005-01-04 16:39:00  070XX S CONSTANCE AVE     HOMICIDE   \n",
       "1324006  3015 2005-01-05 04:07:00     095XX S COLFAX AVE     HOMICIDE   \n",
       "1324007  3016 2005-01-08 03:15:00      015XX N DAYTON ST     HOMICIDE   \n",
       "\n",
       "                 Description Location Description  Arrest  Domestic  District  \\\n",
       "1324003  FIRST DEGREE MURDER           VACANT LOT    True     False       6.0   \n",
       "1324004  FIRST DEGREE MURDER               STREET    True     False       4.0   \n",
       "1324005  FIRST DEGREE MURDER               STREET   False     False       3.0   \n",
       "1324006  FIRST DEGREE MURDER                 AUTO   False     False       4.0   \n",
       "1324007  FIRST DEGREE MURDER                 CLUB    True     False      18.0   \n",
       "\n",
       "         X Coordinate  Y Coordinate   Latitude  Longitude  dow  date only  \n",
       "1324003     1184881.0     1854385.0  41.755589 -87.598021    5 2005-01-01  \n",
       "1324004     1197086.0     1851161.0  41.746447 -87.553400    6 2005-01-02  \n",
       "1324005     1189760.0     1858598.0  41.767034 -87.580005    1 2005-01-04  \n",
       "1324006     1195168.0     1842391.0  41.722429 -87.560717    2 2005-01-05  \n",
       "1324007     1170405.0     1910128.0  41.908880 -87.649445    5 2005-01-08  \n"
      ]
     },
     "metadata": {},
     "output_type": "display_data"
    },
    {
     "name": "stdout",
     "output_type": "stream",
     "text": [
      "%px: 100%|██████████| 8/8 [00:42<00:00,  5.31s/tasks]\n"
     ]
    }
   ],
   "source": [
    "%%px\n",
    "@bodo.jit(cache=True)\n",
    "def data_cleanup(crimes):\n",
    "    t1 = time.time()    \n",
    "    crimes = crimes.drop_duplicates()    \n",
    "    crimes.drop(['Unnamed: 0', 'Case Number', 'IUCR','Updated On','Year', 'FBI Code', 'Beat','Ward','Community Area', 'Location'], inplace=True, axis=1)\n",
    "    crimes.Date = pd.to_datetime(crimes.Date, format='%m/%d/%Y %I:%M:%S %p')\n",
    "    crimes[\"dow\"] = crimes[\"Date\"].dt.dayofweek\n",
    "    crimes[\"date only\"] = crimes[\"Date\"].dt.floor('D')\n",
    "    crimes = crimes.sort_values(by=\"ID\")    \n",
    "    print(\"Data cleanup time: \", ((time.time() - t1) * 1000), \" (ms)\")\n",
    "    return crimes\n",
    "\n",
    "crimes = data_cleanup(crimes1)\n",
    "if bodo.get_rank()==0:\n",
    "    print(crimes.head())"
   ]
  },
  {
   "cell_type": "code",
   "execution_count": null,
   "metadata": {
    "execution": {
     "iopub.execute_input": "2022-03-14T20:16:10.248872Z",
     "iopub.status.busy": "2022-03-14T20:16:10.248693Z",
     "iopub.status.idle": "2022-03-14T20:16:13.814567Z",
     "shell.execute_reply": "2022-03-14T20:16:13.813659Z",
     "shell.execute_reply.started": "2022-03-14T20:16:10.248854Z"
    },
    "tags": []
   },
   "outputs": [
    {
     "name": "stdout",
     "output_type": "stream",
     "text": [
      "%px:   0%|          | 0/8 [00:06<?, ?tasks/s]"
     ]
    },
    {
     "data": {
      "text/plain": [
       "[stdout:0] Getting top crimes Time:  284.19172400003845  (ms)\n",
       "Index(['THEFT', 'BATTERY', 'CRIMINAL DAMAGE', 'NARCOTICS', 'OTHER OFFENSE',\n",
       "       'BURGLARY', 'ASSAULT', 'MOTOR VEHICLE THEFT', 'DECEPTIVE PRACTICE',\n",
       "       'ROBBERY'],\n",
       "      dtype='object')\n"
      ]
     },
     "metadata": {},
     "output_type": "display_data"
    },
    {
     "name": "stdout",
     "output_type": "stream",
     "text": [
      "%px: 100%|██████████| 8/8 [00:11<00:00,  1.44s/tasks]\n"
     ]
    }
   ],
   "source": [
    "%%px\n",
    "@bodo.jit(cache=True)\n",
    "def get_top_crime_types(crimes):\n",
    "    t1 = time.time()\n",
    "    top_crime_types = crimes['Primary Type'].value_counts().index[0:10]\n",
    "    print(\"Getting top crimes Time: \", ((time.time() - t1) * 1000), \" (ms)\")\n",
    "    return top_crime_types\n",
    "\n",
    "top_crime_types = get_top_crime_types(crimes)\n",
    "top_crime_types = bodo.allgatherv(top_crime_types)\n",
    "if bodo.get_rank()==0:\n",
    "    print(top_crime_types)"
   ]
  },
  {
   "cell_type": "code",
   "execution_count": null,
   "metadata": {
    "execution": {
     "iopub.execute_input": "2022-03-14T20:16:13.815389Z",
     "iopub.status.busy": "2022-03-14T20:16:13.815201Z",
     "iopub.status.idle": "2022-03-14T20:16:14.062782Z",
     "shell.execute_reply": "2022-03-14T20:16:14.062232Z",
     "shell.execute_reply.started": "2022-03-14T20:16:13.815371Z"
    },
    "tags": []
   },
   "outputs": [
    {
     "name": "stdout",
     "output_type": "stream",
     "text": [
      "%px:   0%|          | 0/8 [00:06<?, ?tasks/s]"
     ]
    },
    {
     "data": {
      "text/plain": [
       "[stdout:0] Filtering crimes Time:  439.49683599998934  (ms)\n",
       "              ID                Date                          Block  \\\n",
       "1325007  3730318 2005-01-01 00:04:00            031XX W HARRISON ST   \n",
       "1325010  3730326 2005-01-01 00:05:00  012XX N LUIS MUNOZ MARIN DR W   \n",
       "1325012  3730338 2005-01-01 01:13:00              019XX N DRAKE AVE   \n",
       "1325013  3730341 2005-01-01 01:30:00               002XX N CANAL ST   \n",
       "1325015  3730348 2005-01-01 00:00:00              006XX E GRAND AVE   \n",
       "\n",
       "            Primary Type                  Description  \\\n",
       "1325007  CRIMINAL DAMAGE  TO CITY OF CHICAGO PROPERTY   \n",
       "1325010  CRIMINAL DAMAGE  TO CITY OF CHICAGO PROPERTY   \n",
       "1325012  CRIMINAL DAMAGE                   TO VEHICLE   \n",
       "1325013            THEFT               POCKET-PICKING   \n",
       "1325015            THEFT               POCKET-PICKING   \n",
       "\n",
       "                    Location Description  Arrest  Domestic  District  \\\n",
       "1325007  POLICE FACILITY/VEH PARKING LOT   False     False      11.0   \n",
       "1325010                           STREET   False     False      14.0   \n",
       "1325012                           STREET    True     False      14.0   \n",
       "1325013                            OTHER   False     False      12.0   \n",
       "1325015                    PARK PROPERTY   False     False      18.0   \n",
       "\n",
       "         X Coordinate  Y Coordinate   Latitude  Longitude  dow  date only  \n",
       "1325007     1155457.0     1897193.0  41.873699 -87.704705    5 2005-01-01  \n",
       "1325010     1155148.0     1908012.0  41.903394 -87.705549    5 2005-01-01  \n",
       "1325012     1152507.0     1912708.0  41.916333 -87.715126    5 2005-01-01  \n",
       "1325013     1173085.0     1901830.0  41.886051 -87.639846    5 2005-01-01  \n",
       "1325015     1180796.0     1904058.0  41.891990 -87.611462    5 2005-01-01  \n"
      ]
     },
     "metadata": {},
     "output_type": "display_data"
    },
    {
     "name": "stdout",
     "output_type": "stream",
     "text": [
      "%px: 100%|██████████| 8/8 [00:08<00:00,  1.00s/tasks]\n"
     ]
    }
   ],
   "source": [
    "%%px\n",
    "\n",
    "@bodo.jit(cache=True)\n",
    "def filter_crimes(crimes, top_crime_types):\n",
    "    t1 = time.time()\n",
    "    top_crimes = crimes[crimes['Primary Type'].isin(top_crime_types)]\n",
    "    print(\"Filtering crimes Time: \", ((time.time() - t1) * 1000), \" (ms)\")\n",
    "    return top_crimes\n",
    "\n",
    "crimes = filter_crimes(crimes, top_crime_types)\n",
    "if bodo.get_rank()==0:\n",
    "    print(crimes.head())"
   ]
  },
  {
   "cell_type": "markdown",
   "metadata": {},
   "source": [
    "## Crime Analysis\n",
    "\n",
    "### Find Pattern of each crime over the years\n",
    "\n"
   ]
  },
  {
   "cell_type": "code",
   "execution_count": null,
   "metadata": {
    "execution": {
     "iopub.execute_input": "2022-03-14T20:16:14.063436Z",
     "iopub.status.busy": "2022-03-14T20:16:14.063242Z",
     "iopub.status.idle": "2022-03-14T20:16:14.146885Z",
     "shell.execute_reply": "2022-03-14T20:16:14.146220Z",
     "shell.execute_reply.started": "2022-03-14T20:16:14.063417Z"
    },
    "tags": []
   },
   "outputs": [
    {
     "name": "stdout",
     "output_type": "stream",
     "text": [
      "%px:   0%|          | 0/8 [00:12<?, ?tasks/s]"
     ]
    },
    {
     "data": {
      "text/plain": [
       "[stdout:0] Computing Crime Pattern Time:  127.84549599996353  (ms)\n"
      ]
     },
     "metadata": {},
     "output_type": "display_data"
    },
    {
     "name": "stdout",
     "output_type": "stream",
     "text": [
      "%px: 100%|██████████| 8/8 [00:12<00:00,  1.58s/tasks]\n"
     ]
    }
   ],
   "source": [
    "%%px\n",
    "@bodo.jit(cache=True)\n",
    "def get_crimes_count_date(crimes):\n",
    "    t1 = time.time()\n",
    "    crimes_count_date = crimes.pivot_table(index='date only', columns='Primary Type', values='ID', aggfunc=\"count\")\n",
    "    print(\"Computing Crime Pattern Time: \", ((time.time() - t1) * 1000), \" (ms)\")\n",
    "    return crimes_count_date\n",
    "\n",
    "crimes_count_date = get_crimes_count_date(crimes)"
   ]
  },
  {
   "cell_type": "code",
   "execution_count": null,
   "metadata": {
    "execution": {
     "iopub.execute_input": "2022-03-14T20:16:14.147750Z",
     "iopub.status.busy": "2022-03-14T20:16:14.147378Z",
     "iopub.status.idle": "2022-03-14T20:16:31.584156Z",
     "shell.execute_reply": "2022-03-14T20:16:31.583655Z",
     "shell.execute_reply.started": "2022-03-14T20:16:14.147731Z"
    },
    "tags": []
   },
   "outputs": [
    {
     "name": "stdout",
     "output_type": "stream",
     "text": [
      "%px:  88%|████████▊ | 7/8 [00:32<00:00, 66.07tasks/s]"
     ]
    },
    {
     "data": {
      "text/plain": [
       "[stdout:0] Computing Crime Pattern Time:  590.0528099999747  (ms)\n",
       "            ROBBERY    THEFT  OTHER OFFENSE  ASSAULT  BATTERY  NARCOTICS  \\\n",
       "2017-01-18  13787.0  74505.0        21276.0  21185.0  61742.0    37644.0   \n",
       "2017-01-17  12720.0  69979.0        19365.0  19565.0  57182.0    32817.0   \n",
       "2017-01-16  12393.0  69756.0        19199.0  19751.0  57872.0    32641.0   \n",
       "2017-01-15  12712.0  69991.0        19391.0  19562.0  57254.0    32878.0   \n",
       "2017-01-14  12951.0  72357.0        20128.0  20311.0  59756.0    34909.0   \n",
       "\n",
       "            DECEPTIVE PRACTICE  BURGLARY  CRIMINAL DAMAGE  MOTOR VEHICLE THEFT  \n",
       "2017-01-18             14244.0   21654.0          39808.0              15989.0  \n",
       "2017-01-17             14354.0   19672.0          35676.0              14813.0  \n",
       "2017-01-16             14387.0   19517.0          35538.0              13958.0  \n",
       "2017-01-15             14341.0   19687.0          35673.0              14832.0  \n",
       "2017-01-14             14333.0   20644.0          38017.0              14772.0  \n"
      ]
     },
     "metadata": {},
     "output_type": "display_data"
    },
    {
     "name": "stdout",
     "output_type": "stream",
     "text": [
      "%px: 100%|██████████| 8/8 [00:32<00:00,  4.09s/tasks]\n"
     ]
    }
   ],
   "source": [
    "%%px\n",
    "\n",
    "@bodo.jit\n",
    "def get_crimes_type_date(crimes_count_date):\n",
    "    t1 = time.time()\n",
    "    crimes_count_date.index = pd.DatetimeIndex(crimes_count_date.index)\n",
    "    result = crimes_count_date.fillna(0).rolling(365).sum()\n",
    "    result = result.sort_index(ascending=False)\n",
    "    print(\"Computing Crime Pattern Time: \", ((time.time() - t1) * 1000), \" (ms)\")\n",
    "    return result\n",
    "\n",
    "get_crimes_type_date = get_crimes_type_date(crimes_count_date)\n",
    "if bodo.get_rank()==0:\n",
    "    print(get_crimes_type_date.head())"
   ]
  },
  {
   "cell_type": "markdown",
   "metadata": {},
   "source": [
    "## A general view of crime records by time, type and location\n",
    "\n",
    "### Determining the pattern on daily basis"
   ]
  },
  {
   "cell_type": "code",
   "execution_count": null,
   "metadata": {
    "execution": {
     "iopub.execute_input": "2022-03-14T20:16:31.584758Z",
     "iopub.status.busy": "2022-03-14T20:16:31.584627Z",
     "iopub.status.idle": "2022-03-14T20:16:31.641615Z",
     "shell.execute_reply": "2022-03-14T20:16:31.640640Z",
     "shell.execute_reply.started": "2022-03-14T20:16:31.584740Z"
    },
    "tags": []
   },
   "outputs": [
    {
     "data": {
      "text/plain": [
       "[stdout:0] Group by days Time:  68.35632700006045  (ms)\n",
       "   dow      ID\n",
       "4    0  562811\n",
       "1    1  568747\n",
       "2    2  572240\n",
       "3    3  566206\n",
       "0    4  599764\n"
      ]
     },
     "metadata": {},
     "output_type": "display_data"
    }
   ],
   "source": [
    "%%px\n",
    "@bodo.jit(cache=True)\n",
    "def get_crimes_by_days(crimes):\n",
    "    t1 = time.time()\n",
    "    crimes_days = crimes.groupby('dow', as_index=False)['ID'].count().sort_values(by='dow')\n",
    "    print(\"Group by days Time: \", ((time.time() - t1) * 1000), \" (ms)\")\n",
    "    return crimes_days\n",
    "    \n",
    "crimes_days = get_crimes_by_days(crimes)\n",
    "if bodo.get_rank()==0:\n",
    "    print(crimes_days.head())"
   ]
  },
  {
   "cell_type": "markdown",
   "metadata": {},
   "source": [
    "### Determining the pattern on monthly basis"
   ]
  },
  {
   "cell_type": "code",
   "execution_count": null,
   "metadata": {
    "execution": {
     "iopub.execute_input": "2022-03-14T20:16:31.642332Z",
     "iopub.status.busy": "2022-03-14T20:16:31.642147Z",
     "iopub.status.idle": "2022-03-14T20:16:35.307701Z",
     "shell.execute_reply": "2022-03-14T20:16:35.306793Z",
     "shell.execute_reply.started": "2022-03-14T20:16:31.642314Z"
    },
    "tags": []
   },
   "outputs": [
    {
     "name": "stdout",
     "output_type": "stream",
     "text": [
      "%px:   0%|          | 0/8 [00:01<?, ?tasks/s]"
     ]
    },
    {
     "data": {
      "text/plain": [
       "[stdout:0] Group by days Time:  170.03005099991242  (ms)\n",
       "   month      ID\n",
       "6      1  317796\n",
       "7      2  267986\n",
       "8      3  327381\n",
       "3      4  328439\n"
      ]
     },
     "metadata": {},
     "output_type": "display_data"
    },
    {
     "name": "stdout",
     "output_type": "stream",
     "text": [
      "%px: 100%|██████████| 8/8 [00:01<00:00,  4.07tasks/s]\n"
     ]
    }
   ],
   "source": [
    "%%px\n",
    "@bodo.jit(cache=True)\n",
    "def get_crimes_by_months(crimes):\n",
    "    t1 = time.time()\n",
    "    crimes['month'] = crimes[\"Date\"].dt.month\n",
    "    crimes_months = crimes.groupby('month', as_index=False)['ID'].count().sort_values(by='month')\n",
    "    print(\"Group by days Time: \", ((time.time() - t1) * 1000), \" (ms)\")\n",
    "    return crimes_months\n",
    "    \n",
    "crimes_months = get_crimes_by_months(crimes)\n",
    "if bodo.get_rank()==0:\n",
    "    print(crimes_months.head())"
   ]
  },
  {
   "cell_type": "markdown",
   "metadata": {},
   "source": [
    "### Determining the pattern by crime type"
   ]
  },
  {
   "cell_type": "code",
   "execution_count": null,
   "metadata": {
    "execution": {
     "iopub.execute_input": "2022-03-14T20:16:35.308299Z",
     "iopub.status.busy": "2022-03-14T20:16:35.308166Z",
     "iopub.status.idle": "2022-03-14T20:16:35.382650Z",
     "shell.execute_reply": "2022-03-14T20:16:35.382044Z",
     "shell.execute_reply.started": "2022-03-14T20:16:35.308281Z"
    },
    "tags": []
   },
   "outputs": [
    {
     "data": {
      "text/plain": [
       "[stdout:0] Group by days Time:  165.71523000004618  (ms)\n",
       "  Primary Type      ID\n",
       "1        THEFT  907831\n",
       "4      BATTERY  778164\n"
      ]
     },
     "metadata": {},
     "output_type": "display_data"
    }
   ],
   "source": [
    "%%px\n",
    "@bodo.jit(cache=True)\n",
    "def get_crimes_by_type(crimes):\n",
    "    t1 = time.time()\n",
    "    crimes_type = crimes.groupby('Primary Type', as_index=False)['ID'].count().sort_values(by='ID', ascending=False)\n",
    "    print(\"Group by days Time: \", ((time.time() - t1) * 1000), \" (ms)\")\n",
    "    return crimes_type\n",
    "    \n",
    "crimes_type = get_crimes_by_type(crimes)\n",
    "if bodo.get_rank()==0:\n",
    "    print(crimes_type.head())"
   ]
  },
  {
   "cell_type": "markdown",
   "metadata": {},
   "source": [
    "### Determining the pattern by location"
   ]
  },
  {
   "cell_type": "code",
   "execution_count": null,
   "metadata": {
    "execution": {
     "iopub.execute_input": "2022-03-14T20:16:35.383240Z",
     "iopub.status.busy": "2022-03-14T20:16:35.383104Z",
     "iopub.status.idle": "2022-03-14T20:16:35.543891Z",
     "shell.execute_reply": "2022-03-14T20:16:35.543013Z",
     "shell.execute_reply.started": "2022-03-14T20:16:35.383222Z"
    },
    "tags": []
   },
   "outputs": [
    {
     "name": "stdout",
     "output_type": "stream",
     "text": [
      "%px:   0%|          | 0/8 [00:00<?, ?tasks/s]"
     ]
    },
    {
     "data": {
      "text/plain": [
       "[stdout:0] Group by days Time:  177.27735400001166  (ms)\n",
       "   Location Description       ID\n",
       "31               STREET  1001415\n",
       "40            RESIDENCE   662907\n",
       "32            APARTMENT   458007\n",
       "74             SIDEWALK   443551\n",
       "95                OTHER   145402\n"
      ]
     },
     "metadata": {},
     "output_type": "display_data"
    },
    {
     "name": "stdout",
     "output_type": "stream",
     "text": [
      "%px: 100%|██████████| 8/8 [00:00<00:00, 388.67tasks/s]\n"
     ]
    }
   ],
   "source": [
    "%%px\n",
    "@bodo.jit(cache=True)\n",
    "def get_crimes_by_location(crimes):\n",
    "    t1 = time.time()\n",
    "    crimes_location = crimes.groupby('Location Description', as_index=False)['ID'].count().sort_values(by='ID', ascending=False)\n",
    "    print(\"Group by days Time: \", ((time.time() - t1) * 1000), \" (ms)\")\n",
    "    return crimes_location\n",
    "    \n",
    "crimes_location = get_crimes_by_location(crimes)\n",
    "if bodo.get_rank()==0:\n",
    "    print(crimes_location.head())"
   ]
  },
  {
   "cell_type": "code",
   "execution_count": null,
   "metadata": {},
   "outputs": [],
   "source": []
  }
 ],
 "metadata": {
  "interpreter": {
   "hash": "16c8ad1c156570dbb9b8c59e261dba05f4270231d6ef51b3fb205099379bfe9f"
  },
  "kernelspec": {
   "display_name": "Python 3.9.12 ('base')",
   "language": "python",
   "name": "python3"
  },
  "language_info": {
   "codemirror_mode": {
    "name": "ipython",
    "version": 3
   },
   "file_extension": ".py",
   "mimetype": "text/x-python",
   "name": "python",
   "nbconvert_exporter": "python",
   "pygments_lexer": "ipython3",
   "version": "3.9.12"
  }
 },
 "nbformat": 4,
 "nbformat_minor": 4
}
