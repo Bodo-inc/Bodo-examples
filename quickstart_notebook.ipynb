{
 "cells": [
  {
   "cell_type": "markdown",
   "metadata": {
    "pycharm": {
     "name": "#%% md\n"
    }
   },
   "source": [
    "# Getting Started with Bodo"
   ]
  },
  {
   "cell_type": "markdown",
   "metadata": {
    "pycharm": {
     "name": "#%% md\n"
    }
   },
   "source": [
    "\n",
    "---------------\n",
    "\n",
    "## Connect to a cluster \n",
    "\n",
    "This notebook runs code on a cluster.\n",
    "- If you are in the Community Edition Workspace, and your notebook is *detached*, make sure the Community Edition Cluster is running.\n",
    "\n",
    "- On the sidebar, right click on **<img src=\"img/cluster_icon.png\"/></a> Clusters** and open tab. If the cluster is paused, click on the **<img src=\"img/play_button.png\"/></a> play** button.\n",
    "\n",
    "- Once the state changes to running, the notebook should automatically attach to the cluster. If it doesn't, click the dropdown and attach to the Community Edition Cluster. \n"
   ]
  },
  {
   "cell_type": "markdown",
   "metadata": {
    "pycharm": {
     "name": "#%% md\n"
    }
   },
   "source": [
    "## Run SQL Queries\n",
    "\n",
    "Lets run a couple of SQL queries from a dataset stored in parquet format in a public S3 bucket hosted by Bodo. We are using an NYC taxi dataset[<sup>1</sup>](#fn1) containing info about yellow and green taxi trips originating in New York City in 2019. The size of this dataset is about 8GB. \n",
    "\n",
    "\n",
    "\n",
    "### Print a few Records\n",
    "Run the next code cell to run a simple SQL query to print out a few records from the table. If you are running on the Community Edition Cluster, this code runs on all 8 cores in the cluster, and you should see 8 outputs. However, since we are only printing out a few records, they will most likely be collected on the output of one core. "
   ]
  },
  {
   "cell_type": "code",
   "execution_count": null,
   "metadata": {
    "pycharm": {
     "name": "#%%\n"
    },
    "tags": []
   },
   "outputs": [],
   "source": [
    "%%px\n",
    "import bodo\n",
    "import bodosql\n",
    "import warnings\n",
    "warnings.filterwarnings(\"ignore\")\n",
    "\n",
    "# File stored in public S3 bucket hosted by Bodo\n",
    "s3_file_path = \"s3://bodo-example-data/nyc-taxi/yellow_tripdata_2019_half.pq\" \n",
    "\n",
    "@bodo.jit\n",
    "def simple_query():\n",
    "    \n",
    "    # reading file directly from S3\n",
    "    bc = bodosql.BodoSQLContext( {\"nyctaxi\": bodosql.TablePath(s3_file_path, \"parquet\")})\n",
    "    \n",
    "    # executing SQL query \n",
    "    df1 = bc.sql(\"SELECT * FROM nyctaxi LIMIT 8\")\n",
    "    \n",
    "    return df1 \n",
    "\n",
    "simple_query()\n"
   ]
  },
  {
   "cell_type": "markdown",
   "metadata": {},
   "source": [
    "### Generate a quick Summary\n",
    "\n",
    "Let's run another simple query, which generates a quick summary of the table, grouped by passenger counts, showing rounded off average and total fares. Again, you should see 8 core outputs, and some might be empty. "
   ]
  },
  {
   "cell_type": "code",
   "execution_count": null,
   "metadata": {
    "tags": []
   },
   "outputs": [],
   "source": [
    "%%px \n",
    "\n",
    "@bodo.jit\n",
    "def simple_query_2():\n",
    "    # reading file directly from S3\n",
    "    bc = bodosql.BodoSQLContext({ \"nyctaxi\": bodosql.TablePath(s3_file_path, \"parquet\")})\n",
    "   \n",
    "    # executing SQL query \n",
    "    df1 = bc.sql('''\n",
    "                SELECT DISTINCT passenger_count\n",
    "                , ROUND (SUM (fare_amount),0) as TotalFares\n",
    "                , ROUND (AVG (fare_amount),0) as AvgFares\n",
    "                FROM nyctaxi\n",
    "                GROUP BY passenger_count\n",
    "                ''')\n",
    "    return df1\n",
    "\n",
    "simple_query_2()"
   ]
  },
  {
   "cell_type": "markdown",
   "metadata": {
    "execution": {
     "iopub.execute_input": "2022-08-26T16:40:56.074854Z",
     "iopub.status.busy": "2022-08-26T16:40:56.074257Z",
     "iopub.status.idle": "2022-08-26T16:40:56.082000Z",
     "shell.execute_reply": "2022-08-26T16:40:56.081421Z",
     "shell.execute_reply.started": "2022-08-26T16:40:56.074826Z"
    }
   },
   "source": [
    "\n",
    "\n",
    "---\n",
    "</br>\n",
    "\n",
    "\n",
    "If you've made it this far, you have now run your first data processing SQL query with Bodo! Please consider joining our [community slack](https://bodocommunity.slack.com/join/shared_invite/zt-qwdc8fad-6rZ8a1RmkkJ6eOX1X__knA#/shared-invite/email) to get in touch directly with our engineers and other Bodo users like yourself. For more information and to learn about how Bodo works, visit our [docs](\"https://docs.bodo.ai\").\n",
    "\n",
    "\n",
    "\n",
    "### Footnotes \n",
    "\n",
    "\\[1\\] <span id=\"fn1\"> Original example can be found [here](\"https://github.com/toddwschneider/nyc-taxi-data\"). </span>\n",
    "\n",
    "</br>"
   ]
  },
  {
   "cell_type": "markdown",
   "metadata": {
    "tags": []
   },
   "source": [
    "### Extra: Pandas Feature Engineering  \n",
    "\n",
    "\n",
    "You can do some feature engineering using Panda on the same NYC taxi dataset, enabling further data science workloads.  "
   ]
  },
  {
   "cell_type": "code",
   "execution_count": null,
   "metadata": {
    "tags": []
   },
   "outputs": [],
   "source": [
    "%%px \n",
    "import pandas as pd \n",
    "\n",
    "@bodo.jit()\n",
    "def feat_eng():\n",
    "    \"\"\"\n",
    "    Generate features from a raw taxi dataframe.\n",
    "    \"\"\"\n",
    "    taxi_df = pd.read_parquet(\n",
    "        \"s3://bodo-example-data/nyc-taxi/yellow_tripdata_2019_half.pq\",\n",
    "        )\n",
    "    df = taxi_df[taxi_df.fare_amount > 0][\n",
    "        \"tpep_pickup_datetime\", \"passenger_count\", \"tip_amount\", \"fare_amount\"\n",
    "    ].copy()  # avoid divide-by-zero\n",
    "    df[\"tip_fraction\"] = df.tip_amount / df.fare_amount\n",
    "\n",
    "    df[\"pickup_weekday\"] = df.tpep_pickup_datetime.dt.weekday\n",
    "    df[\"pickup_weekofyear\"] = df.tpep_pickup_datetime.dt.weekofyear\n",
    "    df[\"pickup_hour\"] = df.tpep_pickup_datetime.dt.hour\n",
    "    df[\"pickup_week_hour\"] = (df.pickup_weekday * 24) + df.pickup_hour\n",
    "    df[\"pickup_minute\"] = df.tpep_pickup_datetime.dt.minute\n",
    "    df = (\n",
    "        df[\n",
    "            \"pickup_weekday\",\n",
    "            \"pickup_weekofyear\",\n",
    "            \"pickup_hour\",\n",
    "            \"pickup_week_hour\",\n",
    "            \"pickup_minute\",\n",
    "            \"passenger_count\",\n",
    "            \"tip_fraction\",\n",
    "        ]\n",
    "        .astype(float)\n",
    "        .fillna(-1)\n",
    "    )\n",
    "    return df\n",
    "\n",
    "\n",
    "taxi_feat = feat_eng()\n",
    "if bodo.get_rank() == 0:\n",
    "    display(taxi_feat.head())"
   ]
  },
  {
   "cell_type": "markdown",
   "metadata": {},
   "source": [
    "<div class=\"alert alert-info alert\" Note:\n",
    "     \n",
    "### note\n",
    "\n",
    "- The `%%px` cell [magic](\"https://ipyparallel.readthedocs.io/en/latest/tutorial/magics.html\") indicates that the code cell should run on all the cores of the cluster.\n",
    "- The `@bodo.jit` decorator is an annotation to tell the bodo engine to parallelize the code. \n",
    "     \n",
    "</div>\n",
    "\n",
    "---"
   ]
  }
 ],
 "metadata": {
  "interpreter": {
   "hash": "c055ab4e8dcaec5bc09e1db7dc9ba0af7856e6dca0079f8d0a35c557fbc4193a"
  },
  "kernelspec": {
   "display_name": "",
   "name": ""
  },
  "language_info": {
   "name": ""
  }
 },
 "nbformat": 4,
 "nbformat_minor": 4
}
