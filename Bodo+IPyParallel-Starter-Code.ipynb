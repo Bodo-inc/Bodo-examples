{
 "cells": [
  {
   "cell_type": "code",
   "execution_count": null,
   "source": [
    "import ipyparallel as ipp\n",
    "c = ipp.Cluster(profile='mpi', engine_launcher_class='MPI', n=2)\n",
    "await c.start_cluster()\n",
    "rc = await c.connect_client()\n",
    "rc.wait_for_engines(n=c.n)\n",
    "view = rc[:]\n",
    "view.activate()\n",
    "view.block = True\n",
    "import os\n",
    "view[\"cwd\"] = os.getcwd()\n",
    "\n",
    "%px cd $cwd"
   ],
   "outputs": [],
   "metadata": {}
  },
  {
   "cell_type": "code",
   "execution_count": null,
   "source": [
    "%%px\n",
    "import bodo"
   ],
   "outputs": [],
   "metadata": {}
  },
  {
   "cell_type": "code",
   "execution_count": null,
   "source": [
    "%%px\n",
    "bodo.get_rank()"
   ],
   "outputs": [],
   "metadata": {}
  },
  {
   "cell_type": "code",
   "execution_count": null,
   "source": [
    "c.stop_cluster_sync()"
   ],
   "outputs": [],
   "metadata": {}
  },
  {
   "cell_type": "code",
   "execution_count": null,
   "source": [],
   "outputs": [],
   "metadata": {}
  }
 ],
 "metadata": {
  "kernelspec": {
   "display_name": "Python 3 (ipykernel)",
   "language": "python",
   "name": "python3"
  },
  "language_info": {
   "codemirror_mode": {
    "name": "ipython",
    "version": 3
   },
   "file_extension": ".py",
   "mimetype": "text/x-python",
   "name": "python",
   "nbconvert_exporter": "python",
   "pygments_lexer": "ipython3",
   "version": "3.9.7"
  }
 },
 "nbformat": 4,
 "nbformat_minor": 5
}