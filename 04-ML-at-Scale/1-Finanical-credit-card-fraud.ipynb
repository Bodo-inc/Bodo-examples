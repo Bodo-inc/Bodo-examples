{
 "cells": [
  {
   "cell_type": "markdown",
   "id": "acoustic-camping",
   "metadata": {
    "slideshow": {
     "slide_type": "slide"
    }
   },
   "source": [
    "# Credit Card Fraud Detection\n",
    "\n",
    "In this example, we'll use of classification techniques from machine learning helped by Bodo to detect potential cases of credit card fraud."
   ]
  },
  {
   "cell_type": "markdown",
   "id": "17ad6398-7992-4fc2-a1e5-9be0d6e01e43",
   "metadata": {
    "slideshow": {
     "slide_type": "subslide"
    },
    "tags": []
   },
   "source": [
    "<div class=\"alert alert-block alert-info\">\n",
    "<b>Note:</b>\n",
    "\n",
    "In this notebook, we will run the code using Bodo. This means that the data will be distributed in chunks across processes. [Bodo's documentation](https://docs.bodo.ai/2022.2/bodo_parallelism/bodo_parallelism_basics/) provides more information about the parallel execution model.\n",
    "\n",
    "If you want to run the example using Pandas only (without Bodo):\n",
    "\n",
    "1. Comment out lines with the magic expression (`%%px`) and Bodo JIT decorator (`@bodo.jit`) from all the code cells.\n",
    "2. Then, re-run cells from the beginning.\n",
    "\n",
    "Consult the [IPyParallel documentation](https://ipyparallel.readthedocs.io/en/latest/) for more information about setting up a local cluster.\n",
    "</div>"
   ]
  },
  {
   "cell_type": "markdown",
   "id": "de553234-a4b0-45f8-b219-f0e20a0d04a0",
   "metadata": {
    "slideshow": {
     "slide_type": "skip"
    },
    "tags": []
   },
   "source": [
    "## Start an IPyParallel cluster\n",
    "\n",
    "You can skip this cell if running on Bodo Cloud Platform."
   ]
  },
  {
   "cell_type": "code",
   "execution_count": 1,
   "id": "dc85ae9e-883f-454c-a860-a9ab05065133",
   "metadata": {
    "slideshow": {
     "slide_type": "skip"
    },
    "tags": []
   },
   "outputs": [
    {
     "name": "stdout",
     "output_type": "stream",
     "text": [
      "Starting 8 engines with <class 'ipyparallel.cluster.launcher.MPIEngineSetLauncher'>\n",
      "100%|█████████████████████████████████████████████████████████████████████████████████████████████████████████████████████| 8/8 [00:07<00:00,  1.11engine/s]\n"
     ]
    }
   ],
   "source": [
    "import os\n",
    "if os.environ.get(\"BODO_PLATFORM_WORKSPACE_UUID\",'NA') == 'NA':\n",
    "    import ipyparallel as ipp\n",
    "    import psutil; n = min(psutil.cpu_count(logical=False), 8)\n",
    "    rc = ipp.Cluster(engines='mpi', n=n).start_and_connect_sync(activate=True)"
   ]
  },
  {
   "cell_type": "markdown",
   "id": "25493100-d3f4-4306-9d34-f5703c56dfc8",
   "metadata": {
    "slideshow": {
     "slide_type": "subslide"
    },
    "tags": []
   },
   "source": [
    "## Import all packages\n",
    "\n",
    "These are the main packages we are going to work with:\n",
    "* [Bodo](https://docs.bodo.ai/2022.2/) to parallelize Python code automatically;\n",
    "* [IPyParallel](https://ipyparallel.readthedocs.io/en/latest/) for setting up a local cluster;\n",
    "* [s3fs](https://s3fs.readthedocs.io/en/latest/#) to download data from AWS S3 buckets;\n",
    "* [Pandas](https://pandas.pydata.org) to manipulate tabular data structures;\n",
    "* [Seaborn](https://seaborn.pydata.org/index.html) and [Matplotlib](https://matplotlib.org) for data visualization;\n",
    "* [Scikit-Learn](https://scikit-learn.org/stable/) to build and evaluate regression models; and\n",
    "* [Imbalanced-Learn](https://imbalanced-learn.org/dev/index.html) to oversample the dataset."
   ]
  },
  {
   "cell_type": "code",
   "execution_count": 2,
   "id": "856bd82e-7a36-4826-9dea-91ee079b797e",
   "metadata": {
    "tags": []
   },
   "outputs": [],
   "source": [
    "%ppip install imbalanced-learn seaborn"
   ]
  },
  {
   "cell_type": "code",
   "execution_count": 3,
   "id": "japanese-edward",
   "metadata": {
    "slideshow": {
     "slide_type": "subslide"
    },
    "tags": []
   },
   "outputs": [],
   "source": [
    "%%px\n",
    "\n",
    "import bodo\n",
    "\n",
    "import pandas as pd\n",
    "from sklearn.preprocessing import StandardScaler\n",
    "from sklearn.model_selection import train_test_split\n",
    "from sklearn.ensemble import RandomForestClassifier\n",
    "from sklearn.metrics import roc_auc_score, classification_report, ConfusionMatrixDisplay\n",
    "from imblearn.over_sampling import SMOTE\n",
    "\n",
    "import matplotlib.pyplot as plt\n",
    "import seaborn as sns"
   ]
  },
  {
   "cell_type": "markdown",
   "id": "86c93d10-8e7c-4aaa-9fa4-327ca09a8673",
   "metadata": {
    "slideshow": {
     "slide_type": "subslide"
    },
    "tags": []
   },
   "source": [
    "## Dataset\n",
    "\n",
    "The dataset contains transactions made by credit cards in September 2013 by European cardholders. We can fetch the data directly from [Kaggle]https://www.kaggle.com/mlg-ulb/creditcardfraud); alternatively, we can get it from one of Bodo's AWS S3 open buckets (no AWS credentials required).\n",
    "\n",
    "In the following cell, we load the dataset directly from AWS using the URI `s3://bodo-examples-data/creditcard/creditcard.csv`."
   ]
  },
  {
   "cell_type": "code",
   "execution_count": 4,
   "id": "weighted-being",
   "metadata": {
    "slideshow": {
     "slide_type": "fragment"
    },
    "tags": []
   },
   "outputs": [
    {
     "name": "stdout",
     "output_type": "stream",
     "text": [
      "%px:   0%|                                                                                                                                                                                                    | 0/4 [00:03<?, ?tasks/s]"
     ]
    },
    {
     "data": {
      "text/plain": [
       "[stdout:0]          V1        V2        V3        V4        V5        V6        V7  \\\n",
       "0 -1.359807 -0.072781  2.536347  1.378155 -0.338321  0.462388  0.239599   \n",
       "\n",
       "         V8        V9       V10  ...       V21       V22       V23       V24  \\\n",
       "0  0.098698  0.363787  0.090794  ... -0.018307  0.277838 -0.110474  0.066928   \n",
       "\n",
       "        V25       V26       V27       V28  Amount  Class  \n",
       "0  0.128539 -0.189115  0.133558 -0.021053  149.62      0  \n",
       "\n",
       "[1 rows x 30 columns]\n",
       "(284807, 30)\n"
      ]
     },
     "metadata": {},
     "output_type": "display_data"
    },
    {
     "name": "stdout",
     "output_type": "stream",
     "text": [
      "%px: 100%|████████████████████████████████████████████████████████████████████████████████████████████████████████████████████████████████████████████████████████████████████████████████████████████| 4/4 [00:03<00:00,  1.11tasks/s]\n"
     ]
    }
   ],
   "source": [
    "%%px\n",
    "@bodo.jit(cache=True)\n",
    "def load_data():\n",
    "    records = pd.read_csv(\n",
    "        \"s3://bodo-examples-data/creditcard/creditcard.csv\"\n",
    "    )\n",
    "    records.drop('Time', axis=1, inplace=True)\n",
    "    print(records.head(1))\n",
    "    print(records.shape)\n",
    "    return records\n",
    "\n",
    "records = load_data()"
   ]
  },
  {
   "cell_type": "markdown",
   "id": "74768c63-585a-4a2b-b470-9d26e26d067d",
   "metadata": {
    "slideshow": {
     "slide_type": "notes"
    }
   },
   "source": [
    "By default, the data is distributed to all available engines; that is, the rows of the DataFrame `records` are split into partitions and sent to each of the cores. This allows embarrassingly parallel algorithms—like computing sums—to scale with the data and resources at hand."
   ]
  },
  {
   "cell_type": "markdown",
   "id": "c644fce8-3957-4f34-b7d9-3ed78c8dbe48",
   "metadata": {
    "slideshow": {
     "slide_type": "subslide"
    },
    "tags": []
   },
   "source": [
    "## Exploratory analysis\n",
    "\n",
    "The dataset consists of 30 columns. To preserve user anonymity, the first 28 columns (`V1...V28`) result from a [Principal Component Analysis (PCA)](https://en.wikipedia.org/wiki/Principal_component_analysis). The [Kaggle documentation for this dataset](https://www.kaggle.com/mlg-ulb/creditcardfraud) provides more details. Our goal here is to classify records using some features."
   ]
  },
  {
   "cell_type": "markdown",
   "id": "fbad0805-b343-4810-ad0e-f81fdea05e2f",
   "metadata": {
    "pycharm": {
     "name": "#%% md\n"
    }
   },
   "source": [
    "Before doing anything, it might be interesting to have a look at the raw data to understand it and see if we can extract some patterns. First, let's have a look at both fraudulent and normal transactions distributions. The following cell mixes Bodo with normal Pandas and Seaborn/Matplotlib code. This is handy when a particular feature or package is not yet supported by Bodo."
   ]
  },
  {
   "cell_type": "code",
   "execution_count": 5,
   "id": "49dfe3a8-ea6d-4f4c-bdff-15d526d5312d",
   "metadata": {
    "slideshow": {
     "slide_type": "fragment"
    },
    "tags": []
   },
   "outputs": [
    {
     "data": {
      "text/plain": [
       "[output:0]"
      ]
     },
     "metadata": {},
     "output_type": "display_data"
    },
    {
     "data": {
      "image/png": "[encoded data removed]",
      "text/plain": [
       "<Figure size 576x360 with 2 Axes>"
      ]
     },
     "metadata": {
      "engine": 0,
      "needs_background": "light"
     },
     "output_type": "display_data"
    }
   ],
   "source": [
    "%%px\n",
    "\n",
    "# Outside Bodo, only work on a single core. Allow interfacing Bodo with anything else.\n",
    "# Note that in this case it will only consider records from the first core/rank.\n",
    "# This works because records from the dataset are randomized.\n",
    "if bodo.get_rank() == 0:\n",
    "\n",
    "    fig, ax = plt.subplots(figsize=(8, 5))\n",
    "\n",
    "    sns.kdeplot(\n",
    "        data=records[records.Class == 0], x=\"Amount\",\n",
    "        ax=ax, clip=[0, 2000], c='tab:blue', label=\"Non fraudulent cases\")\n",
    "    ax.set(ylabel=\"Density non fraudulent cases\")\n",
    "\n",
    "    ax2 = ax.twinx()\n",
    "    sns.kdeplot(\n",
    "        data=records[records.Class == 1], x=\"Amount\",\n",
    "        ax=ax2, clip=[0, 2000], c='tab:orange', label=\"Fraudulent cases\"\n",
    "    )\n",
    "    ax2.set(ylabel=\"Density fraudulent cases\")\n",
    "\n",
    "    fig.legend(loc='upper right', bbox_to_anchor=(0.85, 0.95))\n",
    "    fig.tight_layout()"
   ]
  },
  {
   "cell_type": "markdown",
   "id": "a50b3136-e06f-4228-8201-d15408c5be0e",
   "metadata": {
    "slideshow": {
     "slide_type": "notes"
    }
   },
   "source": [
    "It's interesting to see that the distributions are not identical. This indicates that the fraudulent behaviours deviate from normal/legitimate behaviours. While the median/mode are close for both fraudulent and normal transactions, the fraudulent transactions have 3 modes. These transactions are also generally larger."
   ]
  },
  {
   "cell_type": "code",
   "execution_count": 6,
   "id": "tender-indiana",
   "metadata": {
    "slideshow": {
     "slide_type": "subslide"
    },
    "tags": []
   },
   "outputs": [
    {
     "name": "stdout",
     "output_type": "stream",
     "text": [
      "%px:   0%|                                                                                                                                                                                                    | 0/4 [00:03<?, ?tasks/s]"
     ]
    },
    {
     "data": {
      "text/plain": [
       "[stdout:0] 0.170000% of cases are fraudulent\n",
       "\n",
       "\n",
       "Non-fraudulent cases\n",
       " count    284315.000000\n",
       "mean         88.291022\n",
       "std         250.105092\n",
       "min           0.000000\n",
       "25%           5.650000\n",
       "50%          22.000000\n",
       "75%          77.050000\n",
       "max       25691.160000\n",
       "Name: Amount, dtype: float64\n",
       "\n",
       "\n",
       "Fraudulent cases\n",
       " count     492.000000\n",
       "mean      122.211321\n",
       "std       256.683288\n",
       "min         0.000000\n",
       "25%         1.000000\n",
       "50%         9.250000\n",
       "75%       105.890000\n",
       "max      2125.870000\n",
       "Name: Amount, dtype: float64\n"
      ]
     },
     "metadata": {},
     "output_type": "display_data"
    },
    {
     "name": "stdout",
     "output_type": "stream",
     "text": [
      "%px: 100%|████████████████████████████████████████████████████████████████████████████████████████████████████████████████████████████████████████████████████████████████████████████████████████████| 4/4 [00:03<00:00,  1.17tasks/s]\n"
     ]
    }
   ],
   "source": [
    "%%px\n",
    "\n",
    "@bodo.jit(cache=True)\n",
    "def data_processing(records):\n",
    "    nonfraud_cases = records[records.Class == 0]\n",
    "    fraud_cases = records[records.Class == 1]\n",
    "    nonfraud_count = len(nonfraud_cases)\n",
    "    fraud_count = len(fraud_cases)\n",
    "    fraud_percentage = round(fraud_count / nonfraud_count * 100, 2)\n",
    "    print(f\"{fraud_percentage}% of cases are fraudulent\\n\\n\")\n",
    "    print(\"Non-fraudulent cases\\n\", nonfraud_cases.Amount.describe())\n",
    "    print(\"\\n\\nFraudulent cases\\n\", fraud_cases.Amount.describe())\n",
    "\n",
    "data_processing(records)"
   ]
  },
  {
   "cell_type": "markdown",
   "id": "5161b74a-5391-484a-b350-3015ac1707c4",
   "metadata": {
    "slideshow": {
     "slide_type": "notes"
    }
   },
   "source": [
    "Observations:\n",
    "\n",
    "* The distribution has significant outliers. The distribution is very skewed; we observe extrema several standard deviations away from most reasonable measures of centrality.\n",
    "* The dataset is strongly unbalanced—only 0.17% of the records are fraudulent so the signal from fraudulent transactions is effectively swamped by legitimate ones. Mitigating imbalanced data is a known challenge in solving classification problems.\n",
    "\n",
    "There are strategies to mitigate imbalanced data like sub-sampling to prevent overfitting, and choosing an appropriate metric."
   ]
  },
  {
   "cell_type": "markdown",
   "id": "dd836554-fc0e-4ca8-9701-0bb2f705a60b",
   "metadata": {
    "slideshow": {
     "slide_type": "subslide"
    }
   },
   "source": [
    "### Scaling\n",
    "The `Amount` column is the only one which is not scaled which is problematic for our analysis. We need to scale this column to remove bias from the model. Instantiating an object from the [`StandardScaler`](https://scikit-learn.org/stable/modules/generated/sklearn.preprocessing.StandardScaler.html) class from Scikit-Learn's [`preprocessing`](https://scikit-learn.org/stable/modules/classes.html#module-sklearn.preprocessing) submodule provides a way to effect this transformation accross the partitioned dataset."
   ]
  },
  {
   "cell_type": "code",
   "execution_count": 14,
   "id": "8c03114a-2c91-4d93-98dd-8d97785d1b88",
   "metadata": {
    "slideshow": {
     "slide_type": "fragment"
    },
    "tags": []
   },
   "outputs": [],
   "source": [
    "%%px\n",
    "\n",
    "@bodo.jit(cache=True)\n",
    "def data_scaling(records):\n",
    "    amount = records['Amount'].values.reshape(-1, 1)\n",
    "    std_scaler = StandardScaler()\n",
    "    std_scaler.fit(amount)\n",
    "    records['Amount'] = std_scaler.transform(amount).flatten()\n",
    "\n",
    "data_scaling(records)"
   ]
  },
  {
   "cell_type": "markdown",
   "id": "0afed3c4-aae3-4359-9ee6-087642880777",
   "metadata": {
    "slideshow": {
     "slide_type": "subslide"
    }
   },
   "source": [
    "### Sub-sampling\n",
    "\n",
    "Sub-sampling the dataset to get a balanced dataset—i.e., one with 50% fraudulent transactions—will prevent the model from overfitting. Otherwise, the model might learn to classify all records as non-fraudulent—that is, producing a constant-valued classifier—and it would be correct over 99% of the time."
   ]
  },
  {
   "cell_type": "code",
   "execution_count": 15,
   "id": "7481fa76-2a9f-43e4-b728-539d5a135525",
   "metadata": {
    "slideshow": {
     "slide_type": "fragment"
    },
    "tags": []
   },
   "outputs": [
    {
     "name": "stdout",
     "output_type": "stream",
     "text": [
      "%px: 100%|████████████████████████████████████████████████████████████████████████████████████████████████████████████████████████████████████████████████████████████████████████████████████████████| 4/4 [00:20<00:00,  5.09s/tasks]\n"
     ]
    }
   ],
   "source": [
    "%%px\n",
    "\n",
    "import numpy as np\n",
    "\n",
    "@bodo.jit(cache=True)\n",
    "def data_sub_sampling(records):\n",
    "    # amount of fraud classes 492 rows.\n",
    "    fraud_df = records[records.Class == 1]\n",
    "\n",
    "    # non_fraud_df = records[records.Class == 0].sample(492)\n",
    "    non_fraud_df = records[records.Class == 0].head(492)\n",
    "    \n",
    "    sub_records =  pd.concat([fraud_df, non_fraud_df], axis=0, ignore_index=True)\n",
    "\n",
    "    # Shuffle dataframe rows\n",
    "    #sub_records = sub_records_.sample(frac=1)\n",
    "    \n",
    "    return sub_records\n",
    "\n",
    "sub_records = data_sub_sampling(records)"
   ]
  },
  {
   "cell_type": "markdown",
   "id": "ab4a5e7b-bf4e-4364-a314-c0b78a8e84cb",
   "metadata": {
    "slideshow": {
     "slide_type": "subslide"
    }
   },
   "source": [
    "[Correlation matrices](https://nhigham.com/2020/04/14/what-is-a-correlation-matrix/) are often used to identify important features in matrices representing data. In this case, we also want to distinguish features that can be used to classify fraudulent cases. The parameters `V1`, $\\ldots$, `V28` result from a Principal Component Analysis that maximizes variance in an abstract sense. We don't know how these numerical features relate to the original features nor how they relate to the remaining features that are not encoded."
   ]
  },
  {
   "cell_type": "code",
   "execution_count": 16,
   "id": "d9708e39-e8bc-4f9b-9efc-1912fb7bde2f",
   "metadata": {
    "slideshow": {
     "slide_type": "fragment"
    },
    "tags": []
   },
   "outputs": [
    {
     "name": "stdout",
     "output_type": "stream",
     "text": [
      "%px: 100%|████████████████████████████████████████████████████████████████████████████████████████████████████████████████████████████████████████████████████████████████████████████████████████████| 4/4 [00:02<00:00,  1.56tasks/s]\n"
     ]
    }
   ],
   "source": [
    "%%px\n",
    "\n",
    "@bodo.jit(cache=True)\n",
    "def correlations(sub_records):\n",
    "    corr = sub_records.corr()\n",
    "    return corr\n",
    "    \n",
    "corr = correlations(sub_records)"
   ]
  },
  {
   "cell_type": "code",
   "execution_count": 17,
   "id": "ce15a87c",
   "metadata": {
    "slideshow": {
     "slide_type": "fragment"
    },
    "tags": []
   },
   "outputs": [],
   "source": [
    "%%px\n",
    "\n",
    "if bodo.get_rank() == 0:\n",
    "\n",
    "    corr_class = pd.DataFrame(corr[\"Class\"])\n",
    "\n",
    "    # remove the Class itself from the correlation since it's 1\n",
    "    corr_class = corr_class.drop(\"Class\", axis=0)"
   ]
  },
  {
   "cell_type": "code",
   "execution_count": 18,
   "id": "e2fe6f02-48a2-4728-9c02-6d823afeeebf",
   "metadata": {
    "scrolled": true,
    "slideshow": {
     "slide_type": "subslide"
    },
    "tags": []
   },
   "outputs": [
    {
     "data": {
      "text/plain": [
       "[output:0]"
      ]
     },
     "metadata": {},
     "output_type": "display_data"
    },
    {
     "data": {
      "image/png": "[encoded data removed]",
      "text/plain": [
       "<Figure size 360x360 with 2 Axes>"
      ]
     },
     "metadata": {
      "engine": 0,
      "needs_background": "light"
     },
     "output_type": "display_data"
    }
   ],
   "source": [
    "%%px\n",
    "\n",
    "if bodo.get_rank() == 0:\n",
    "\n",
    "    fig, ax = plt.subplots(figsize=(5, 5))\n",
    "    sns.heatmap(\n",
    "        corr_class,\n",
    "        annot=True,\n",
    "        cmap=\"RdYlBu\", center=0,\n",
    "        vmin=-0.8, vmax=0.8,\n",
    "        ax=ax\n",
    "    )\n",
    "\n",
    "    fig.tight_layout()"
   ]
  },
  {
   "cell_type": "markdown",
   "id": "430aedf3-b7c6-4a1e-ba49-a61d89d1ff20",
   "metadata": {
    "slideshow": {
     "slide_type": "notes"
    }
   },
   "source": [
    "From this analysis, we observe that some features don't really correlate meaningfully with whether a record is fraudulent. Zero correlation indicates *no correlation*, $+1$ correlation indicates that the feature is *totally correlated/linked* to the output, and $-1$ correlation indicates strong *anti-correlation*. Then, for instance, given that the correlation of feature `V23` to the fraud class is $-0.0033$, it is not meaningfully correlated at all. Removing features like this can help the model to better discover meaningful patterns."
   ]
  },
  {
   "cell_type": "markdown",
   "id": "9a73bae2-a3af-495c-936a-51560b95d4b7",
   "metadata": {
    "slideshow": {
     "slide_type": "subslide"
    }
   },
   "source": [
    "## Classifying fraudulent records\n",
    "\n",
    "We can reasonably drop all features with a correlation value below $0.1$ (in absolute value) from the sub-sample. Once the weakly-correlated columns are dropped, we split the data into training & testing sets. Given that there are not many rows in the sub-sample, we'll use an $80\\%/20\\%$ ratio (as opposed to a more typical $70\\%/30\\%$ split when more data is available)."
   ]
  },
  {
   "cell_type": "code",
   "execution_count": 24,
   "id": "e7e570bb-5804-47e7-9b8c-0d2653c79565",
   "metadata": {
    "slideshow": {
     "slide_type": "fragment"
    },
    "tags": []
   },
   "outputs": [
    {
     "name": "stdout",
     "output_type": "stream",
     "text": [
      "%px: 100%|████████████████████████████████████████████████████████████████████████████████████████████████████████████████████████████████████████████████████████████████████████████████████████████| 4/4 [00:01<00:00,  2.59tasks/s]\n"
     ]
    }
   ],
   "source": [
    "%%px\n",
    "\n",
    "@bodo.jit(cache=False)\n",
    "def data_preparation(sub_records):\n",
    "\n",
    "    x = sub_records.drop('Class', axis=1)\n",
    "    x.drop([\"V8\", \"V13\", \"V15\", \"V22\", \"V23\", \"V25\", \"V26\", \"V27\", \"Amount\"], axis=1)\n",
    "    y = sub_records['Class']\n",
    "\n",
    "    # cast classification variable to integer\n",
    "    y = y.values.astype(np.int64)\n",
    "\n",
    "    x_train, x_test, y_train, y_test = train_test_split(x, y, test_size=0.2)\n",
    "\n",
    "    return x_train, x_test, y_train, y_test\n",
    "\n",
    "x_train, x_test, y_train, y_test = data_preparation(sub_records)"
   ]
  },
  {
   "cell_type": "markdown",
   "id": "bd86998d",
   "metadata": {
    "slideshow": {
     "slide_type": "subslide"
    }
   },
   "source": [
    "### Train a Random Forest Classifier\n",
    "\n",
    "Next, having selected suitable features and having partitioned the rebalanced data into training & testing sets, we can train a classifier and evaluate the model using the testing dataset."
   ]
  },
  {
   "cell_type": "code",
   "execution_count": null,
   "id": "91441cd9-12ab-4163-82c4-77a1a2c7a6b7",
   "metadata": {
    "slideshow": {
     "slide_type": "fragment"
    },
    "tags": []
   },
   "outputs": [
    {
     "name": "stdout",
     "output_type": "stream",
     "text": [
      "%px:   0%|                                                                                                                                                                                                    | 0/4 [00:02<?, ?tasks/s]"
     ]
    },
    {
     "data": {
      "text/plain": [
       "[stderr:3] /opt/homebrew/Caskroom/mambaforge/base/envs/Bodo/lib/python3.9/site-packages/sklearn/base.py:443: UserWarning: X has feature names, but RandomForestClassifier was fitted without feature names\n",
       "  warnings.warn(\n"
      ]
     },
     "metadata": {},
     "output_type": "display_data"
    },
    {
     "data": {
      "text/plain": [
       "[stderr:1] /opt/homebrew/Caskroom/mambaforge/base/envs/Bodo/lib/python3.9/site-packages/sklearn/base.py:443: UserWarning: X has feature names, but RandomForestClassifier was fitted without feature names\n",
       "  warnings.warn(\n"
      ]
     },
     "metadata": {},
     "output_type": "display_data"
    },
    {
     "data": {
      "text/plain": [
       "[stderr:2] /opt/homebrew/Caskroom/mambaforge/base/envs/Bodo/lib/python3.9/site-packages/sklearn/base.py:443: UserWarning: X has feature names, but RandomForestClassifier was fitted without feature names\n",
       "  warnings.warn(\n"
      ]
     },
     "metadata": {},
     "output_type": "display_data"
    },
    {
     "name": "stdout",
     "output_type": "stream",
     "text": [
      "%px: 100%|████████████████████████████████████████████████████████████████████████████████████████████████████████████████████████████████████████████████████████████████████████████████████████████| 4/4 [00:02<00:00,  1.52tasks/s]\n"
     ]
    },
    {
     "data": {
      "text/plain": [
       "[stdout:0] (197, 29) (197, 29)\n"
      ]
     },
     "metadata": {},
     "output_type": "display_data"
    }
   ],
   "source": [
    "%%px\n",
    "\n",
    "@bodo.jit(cache=False)\n",
    "def prediction_model(x_train, x_test, y_train, y_test):\n",
    "\n",
    "    print(x_train.shape, x_test.shape)\n",
    "    \n",
    "    model = RandomForestClassifier()\n",
    "    #model = LogisticRegression()\n",
    "    model.fit(x_train, y_train)\n",
    "    preds = model.predict(x_test)\n",
    "\n",
    "    preds = bodo.gatherv(preds, root=0)\n",
    "    \n",
    "    return preds\n",
    "\n",
    "preds = prediction_model(x_train, x_test, y_train, y_test)"
   ]
  },
  {
   "cell_type": "markdown",
   "id": "1ba0f322",
   "metadata": {
    "slideshow": {
     "slide_type": "subslide"
    }
   },
   "source": [
    "We'll define a helper function to gather a distributed dataframe from all engines onto the root engine. There are a number of distributed datasets we will apply this to below."
   ]
  },
  {
   "cell_type": "code",
   "execution_count": 23,
   "id": "8bcf2755-468a-4aba-88d8-ab1c2042108d",
   "metadata": {
    "slideshow": {
     "slide_type": "fragment"
    },
    "tags": []
   },
   "outputs": [],
   "source": [
    "%%px\n",
    "\n",
    "@bodo.jit(distributed=['df'])\n",
    "def gatter_rank(df):\n",
    "    df_ = bodo.gatherv(df, root=0)\n",
    "    return df_"
   ]
  },
  {
   "cell_type": "markdown",
   "id": "a68f18f1",
   "metadata": {
    "slideshow": {
     "slide_type": "subslide"
    }
   },
   "source": [
    "We'll apply this function first to the vector of targets from the testing data set—that is, `y_test`—that was previously distributed to all the engines. This permits us to apply standard Scikit-Learn reporting functions like [`roc_auc_score`](https://scikit-learn.org/stable/modules/generated/sklearn.metrics.roc_auc_score.html) from [`sklearn.metrics`](https://scikit-learn.org/stable/modules/classes.html#module-sklearn.metrics) to summarise the model's performance."
   ]
  },
  {
   "cell_type": "code",
   "execution_count": 25,
   "id": "060a9f3d-7473-4c2d-9843-c66e2d0d5208",
   "metadata": {
    "slideshow": {
     "slide_type": "fragment"
    },
    "tags": []
   },
   "outputs": [
    {
     "data": {
      "text/plain": [
       "[stdout:0] ROC AUC : 0.949\n",
       "\n",
       "              precision    recall  f1-score   support\n",
       "\n",
       "           0       0.53      1.00      0.69        20\n",
       "           1       1.00      0.90      0.95       177\n",
       "\n",
       "    accuracy                           0.91       197\n",
       "   macro avg       0.76      0.95      0.82       197\n",
       "weighted avg       0.95      0.91      0.92       197\n",
       "\n"
      ]
     },
     "metadata": {},
     "output_type": "display_data"
    }
   ],
   "source": [
    "%%px\n",
    "\n",
    "y_test = gatter_rank(y_test)\n",
    "\n",
    "\n",
    "if bodo.get_rank() == 0:\n",
    "    print(\n",
    "        f\"ROC AUC : {roc_auc_score(y_test, preds):.3f}\\n\\n\"\n",
    "        f\"{classification_report(y_test, preds)}\"\n",
    "    )"
   ]
  },
  {
   "cell_type": "markdown",
   "id": "14723827-6c06-45e1-9fd0-a29293579fa1",
   "metadata": {
    "slideshow": {
     "slide_type": "notes"
    }
   },
   "source": [
    "The function `roc_auc_score` computes the area under the [Receiver Operating Characteristic (ROC) curve](https://en.wikipedia.org/wiki/Receiver_operating_characteristic) from prediction scores. As we remarked earlier, our choice of the metric is very important for assessing the classifier. In this instance, the recall is what matters the most. A perfect recall means that the model yields no false negatives, so it has identified all fraudulent records. But there is always a tradeoff with the precision—determined by the false positives. Any false positive might prevent legitimate transactions to happen which would not be good for clients."
   ]
  },
  {
   "cell_type": "markdown",
   "id": "ab830ada",
   "metadata": {
    "slideshow": {
     "slide_type": "subslide"
    }
   },
   "source": [
    "### Another look at metrics\n",
    "\n",
    "[Confusion matrices]() are often time used to assess the quality of classifiers. We've imported the class [ConfusionMatrixDisplay](https://scikit-learn.org/stable/modules/generated/sklearn.metrics.ConfusionMatrixDisplay.html) from `sklearn.metrics` for this purpose. AS the documentation recommends, we use the classmethod `from_predictions` to instantiate the class and produce a useful visualization of counts of correctly & incorrectly classified records."
   ]
  },
  {
   "cell_type": "code",
   "execution_count": 26,
   "id": "c0d9701f-4b83-4572-a2e0-ae1c2cc7c4a6",
   "metadata": {
    "slideshow": {
     "slide_type": "fragment"
    },
    "tags": []
   },
   "outputs": [
    {
     "data": {
      "text/plain": [
       "[output:0]"
      ]
     },
     "metadata": {},
     "output_type": "display_data"
    },
    {
     "data": {
      "image/png": "[encoded data removed]",
      "text/plain": [
       "<Figure size 432x288 with 2 Axes>"
      ]
     },
     "metadata": {
      "engine": 0,
      "needs_background": "light"
     },
     "output_type": "display_data"
    }
   ],
   "source": [
    "%%px\n",
    "\n",
    "if bodo.get_rank() == 0:\n",
    "    ConfusionMatrixDisplay.from_predictions(\n",
    "        y_test, preds,\n",
    "        display_labels=['Non Fraud', 'Fraud'],\n",
    "        cmap='cividis'\n",
    "    )"
   ]
  },
  {
   "cell_type": "markdown",
   "id": "d05cbf01-b23b-4ad1-8b4e-5bcce2756ea9",
   "metadata": {
    "slideshow": {
     "slide_type": "notes"
    }
   },
   "source": [
    "From these results, the model appears to be able to correctly classify records with a relatively low false positive rate."
   ]
  },
  {
   "cell_type": "markdown",
   "id": "1dbf6e41-67e0-48ce-bc45-4a8540f64d4e",
   "metadata": {
    "slideshow": {
     "slide_type": "subslide"
    }
   },
   "source": [
    "### Oversampling\n",
    "\n",
    "Since the data is very limited, another approach is to oversample the dataset. Again, due to the unbalanced labels, random upsampling would not work well. Instead, we apply the [Synthetic Minority Over-sampling Technique (SMOTE)](https://dl.acm.org/doi/10.5555/1622407.1622416) as implemented in Imbalanced-Learn. We oversample the training sets only to avoid contaminating the testing set. The training data needs to be gathered onto the root engine at present because the `SMOTE` function is not supported on Bodo at present."
   ]
  },
  {
   "cell_type": "code",
   "execution_count": 18,
   "id": "2ebd3190-6b63-40c0-9c09-f8ad7c52a4e9",
   "metadata": {
    "execution": {
     "iopub.execute_input": "2022-03-23T17:21:08.533377Z",
     "iopub.status.busy": "2022-03-23T17:21:08.533216Z",
     "iopub.status.idle": "2022-03-23T17:21:21.119243Z",
     "shell.execute_reply": "2022-03-23T17:21:21.118745Z",
     "shell.execute_reply.started": "2022-03-23T17:21:08.533356Z"
    },
    "scrolled": true,
    "slideshow": {
     "slide_type": "fragment"
    },
    "tags": []
   },
   "outputs": [
    {
     "data": {
      "application/vnd.jupyter.widget-view+json": {
       "model_id": "1837b3f179b0498193e7afe6cba46474",
       "version_major": 2,
       "version_minor": 0
      },
      "text/plain": [
       "%px:   0%|          | 0/4 [00:00<?, ?tasks/s]"
      ]
     },
     "metadata": {},
     "output_type": "display_data"
    },
    {
     "data": {
      "text/plain": [
       "[stdout:0] (455020, 29)\n",
       "(455020,)\n"
      ]
     },
     "metadata": {},
     "output_type": "display_data"
    }
   ],
   "source": [
    "%%px\n",
    "\n",
    "x_train, x_test, y_train, y_test = data_preparation(records)\n",
    "x_train = gatter_rank(x_train)\n",
    "y_train = gatter_rank(y_train)\n",
    "\n",
    "if bodo.get_rank() == 0:\n",
    "    sm = SMOTE(\n",
    "        #sampling_strategy={0: 1_000_000, 1: 1_000_000}\n",
    "    )\n",
    "    x_train, y_train = sm.fit_resample(x_train, y_train)\n",
    "\n",
    "    print(x_train.shape)\n",
    "    print(y_train.shape)"
   ]
  },
  {
   "cell_type": "markdown",
   "id": "a011c0eb",
   "metadata": {
    "slideshow": {
     "slide_type": "subslide"
    }
   },
   "source": [
    "We now need to distribute the SMOTE-upsampled DataFrames `x_train` & `y_train` from the root engine to all other engines using the [`bodo.rebalance`](https://docs.bodo.ai/2022.1/api_docs/bodo_parallel_apis/#bodorebalance) function."
   ]
  },
  {
   "cell_type": "code",
   "execution_count": 19,
   "id": "56c75fec-b11b-4796-89c4-74b4d024e7c8",
   "metadata": {
    "execution": {
     "iopub.execute_input": "2022-03-23T17:21:21.120050Z",
     "iopub.status.busy": "2022-03-23T17:21:21.119838Z",
     "iopub.status.idle": "2022-03-23T17:21:25.934585Z",
     "shell.execute_reply": "2022-03-23T17:21:25.934091Z",
     "shell.execute_reply.started": "2022-03-23T17:21:21.120028Z"
    },
    "slideshow": {
     "slide_type": "fragment"
    },
    "tags": []
   },
   "outputs": [
    {
     "data": {
      "application/vnd.jupyter.widget-view+json": {
       "model_id": "5617e086a18542869c4c9300114254ee",
       "version_major": 2,
       "version_minor": 0
      },
      "text/plain": [
       "%px:   0%|          | 0/4 [00:00<?, ?tasks/s]"
      ]
     },
     "metadata": {},
     "output_type": "display_data"
    },
    {
     "data": {
      "text/plain": [
       "[stdout:3] (113755, 29)\n"
      ]
     },
     "metadata": {},
     "output_type": "display_data"
    },
    {
     "data": {
      "text/plain": [
       "[stdout:2] (113755, 29)\n"
      ]
     },
     "metadata": {},
     "output_type": "display_data"
    },
    {
     "data": {
      "text/plain": [
       "[stdout:1] (113755, 29)\n"
      ]
     },
     "metadata": {},
     "output_type": "display_data"
    },
    {
     "data": {
      "text/plain": [
       "[stdout:0] (113755, 29)\n"
      ]
     },
     "metadata": {},
     "output_type": "display_data"
    }
   ],
   "source": [
    "%%px\n",
    "\n",
    "x_train = bodo.rebalance(x_train, parallel=True)\n",
    "y_train = bodo.rebalance(y_train, parallel=True)\n",
    "\n",
    "print(x_train.shape)"
   ]
  },
  {
   "cell_type": "markdown",
   "id": "ee678c67",
   "metadata": {
    "slideshow": {
     "slide_type": "subslide"
    }
   },
   "source": [
    "This allows us to use the Bodo-compiled function `predicion_model` to construct a classifier using the SMOTE-upsampled training dataset and to generate appropriate predictions from the testing data."
   ]
  },
  {
   "cell_type": "code",
   "execution_count": 20,
   "id": "4ea7f895-5762-4f4b-9e58-ac7fcefd9de1",
   "metadata": {
    "execution": {
     "iopub.execute_input": "2022-03-23T17:21:25.935504Z",
     "iopub.status.busy": "2022-03-23T17:21:25.935276Z",
     "iopub.status.idle": "2022-03-23T17:24:34.875550Z",
     "shell.execute_reply": "2022-03-23T17:24:34.875075Z",
     "shell.execute_reply.started": "2022-03-23T17:21:25.935481Z"
    },
    "slideshow": {
     "slide_type": "fragment"
    }
   },
   "outputs": [
    {
     "data": {
      "text/plain": [
       "[stdout:0] (455020, 29) (56962, 29)\n"
      ]
     },
     "metadata": {},
     "output_type": "display_data"
    },
    {
     "data": {
      "application/vnd.jupyter.widget-view+json": {
       "model_id": "99c35fbf115f458b8df9443a56871e6e",
       "version_major": 2,
       "version_minor": 0
      },
      "text/plain": [
       "%px:   0%|          | 0/4 [00:00<?, ?tasks/s]"
      ]
     },
     "metadata": {},
     "output_type": "display_data"
    },
    {
     "data": {
      "text/plain": [
       "[stderr:2] /opt/conda/lib/python3.9/site-packages/sklearn/base.py:443: UserWarning: X has feature names, but RandomForestClassifier was fitted without feature names\n",
       "  warnings.warn(\n"
      ]
     },
     "metadata": {},
     "output_type": "display_data"
    },
    {
     "data": {
      "text/plain": [
       "[stderr:1] /opt/conda/lib/python3.9/site-packages/sklearn/base.py:443: UserWarning: X has feature names, but RandomForestClassifier was fitted without feature names\n",
       "  warnings.warn(\n"
      ]
     },
     "metadata": {},
     "output_type": "display_data"
    },
    {
     "data": {
      "text/plain": [
       "[stderr:3] /opt/conda/lib/python3.9/site-packages/sklearn/base.py:443: UserWarning: X has feature names, but RandomForestClassifier was fitted without feature names\n",
       "  warnings.warn(\n"
      ]
     },
     "metadata": {},
     "output_type": "display_data"
    }
   ],
   "source": [
    "%%px\n",
    "\n",
    "preds = prediction_model(x_train, x_test, y_train, y_test)"
   ]
  },
  {
   "cell_type": "markdown",
   "id": "79eb6b00-3b31-440a-98d3-1cedc0126844",
   "metadata": {},
   "source": [
    "As above, we can gather the test labels back to the root node and produce a confusion matrix."
   ]
  },
  {
   "cell_type": "code",
   "execution_count": 21,
   "id": "0c5acd3f-1798-43ca-b39a-451e5799656f",
   "metadata": {
    "execution": {
     "iopub.execute_input": "2022-03-23T17:24:34.876277Z",
     "iopub.status.busy": "2022-03-23T17:24:34.876129Z",
     "iopub.status.idle": "2022-03-23T17:24:35.043994Z",
     "shell.execute_reply": "2022-03-23T17:24:35.043481Z",
     "shell.execute_reply.started": "2022-03-23T17:24:34.876257Z"
    },
    "slideshow": {
     "slide_type": "fragment"
    },
    "tags": []
   },
   "outputs": [
    {
     "data": {
      "text/plain": [
       "[output:0]"
      ]
     },
     "metadata": {},
     "output_type": "display_data"
    },
    {
     "data": {
      "image/png": "[encoded data removed]",
      "text/plain": [
       "<Figure size 432x288 with 2 Axes>"
      ]
     },
     "metadata": {
      "engine": 0,
      "needs_background": "light"
     },
     "output_type": "display_data"
    }
   ],
   "source": [
    "%%px\n",
    "\n",
    "y_test = gatter_rank(y_test)\n",
    "\n",
    "if bodo.get_rank() == 0:\n",
    "    ConfusionMatrixDisplay.from_predictions(\n",
    "        y_test, preds,\n",
    "        display_labels=['Non Fraud', 'Fraud'],\n",
    "        cmap='cividis'\n",
    "    )"
   ]
  },
  {
   "cell_type": "markdown",
   "id": "c9487aec",
   "metadata": {
    "slideshow": {
     "slide_type": "notes"
    }
   },
   "source": [
    "The entries in this confusion matrix are smaller in a relative sense because we used more data to build this model. As always, these metrics suggest how a model will generalize when faced with new data."
   ]
  },
  {
   "cell_type": "markdown",
   "id": "18b97cc3",
   "metadata": {
    "pycharm": {
     "name": "#%% md\n"
    }
   },
   "source": [
    "Having completed this example, we can now stop our cluster."
   ]
  },
  {
   "cell_type": "code",
   "execution_count": 22,
   "id": "neural-house",
   "metadata": {
    "execution": {
     "iopub.execute_input": "2022-03-23T17:24:35.044909Z",
     "iopub.status.busy": "2022-03-23T17:24:35.044682Z",
     "iopub.status.idle": "2022-03-23T17:24:40.173401Z",
     "shell.execute_reply": "2022-03-23T17:24:40.172898Z",
     "shell.execute_reply.started": "2022-03-23T17:24:35.044886Z"
    },
    "slideshow": {
     "slide_type": "skip"
    },
    "tags": []
   },
   "outputs": [
    {
     "name": "stdout",
     "output_type": "stream",
     "text": [
      "Stopping controller\n",
      "Controller stopped: {'exit_code': 0, 'pid': 29749, 'identifier': 'ipcontroller-1648055927-di17-29591'}\n",
      "Stopping engine(s): 1648055928\n",
      "engine set stopped 1648055928: {'exit_code': 0, 'pid': 29784, 'identifier': 'ipengine-1648055927-di17-1648055928-29591'}\n"
     ]
    }
   ],
   "source": [
    "# To stop the cluster run the following command. \n",
    "rc.cluster.stop_cluster_sync()"
   ]
  }
 ],
 "metadata": {
  "celltoolbar": "Slideshow",
  "kernelspec": {
   "display_name": "Python 3 (ipykernel)",
   "language": "python",
   "name": "python3"
  },
  "language_info": {
   "codemirror_mode": {
    "name": "ipython",
    "version": 3
   },
   "file_extension": ".py",
   "mimetype": "text/x-python",
   "name": "python",
   "nbconvert_exporter": "python",
   "pygments_lexer": "ipython3",
   "version": "3.9.7"
  }
 },
 "nbformat": 4,
 "nbformat_minor": 5
}
