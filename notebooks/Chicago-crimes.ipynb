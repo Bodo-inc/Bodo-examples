{
 "cells": [
  {
   "cell_type": "markdown",
   "metadata": {},
   "source": [
    "# Chicago Crimes\n",
    "This examples shows an exploratory data analysis (EDA)  of crimes in Chicago. \n",
    "\n",
    "Original example can be found [here](https://medium.com/@ahsanzafar222/chicago-crime-data-cleaning-and-eda-a744c687a291) and [here](https://www.kaggle.com/fahd09/eda-of-crime-in-chicago-2005-2016).\n"
   ]
  },
  {
   "cell_type": "markdown",
   "metadata": {},
   "source": [
    "### Notes on running these queries:\n",
    "\n",
    "Bodo is used by defaults, which distributes data chunks across cores automatically.\n",
    "\n",
    "The output cells are from execution on one **m5.12xlarge** instance (24 cores, 192GiB memory) using dataset found [here](https://www.kaggle.com/currie32/crimes-in-chicago) which is ~1.5GB.\n",
    "\n",
    "\n",
    "To run the code:\n",
    "1. Make sure you add your AWS account credentials to access the data. \n",
    "2. If you want to run a query in regular pandas:\n",
    "    1. Comment lines with Jupyter parallel magic (%%px) and bodo decorator (@bodo.jit) from all the code cells.\n",
    "    2. Then, re-run cells from the beginning.\n"
   ]
  },
  {
   "cell_type": "code",
   "execution_count": 1,
   "metadata": {},
   "outputs": [],
   "source": [
    "%%px\n",
    "import os\n",
    "\n",
    "os.environ[\"AWS_ACCESS_KEY_ID\"] = \"your_aws_access_key_id\"\n",
    "os.environ[\"AWS_SECRET_ACCESS_KEY\"] = \"your_aws_secret_access_key\"\n",
    "os.environ[\"AWS_DEFAULT_REGION\"] = \"us-east-2\""
   ]
  },
  {
   "cell_type": "code",
   "execution_count": 2,
   "metadata": {},
   "outputs": [],
   "source": [
    "%%px\n",
    "import numpy as np\n",
    "import pandas as pd\n",
    "import time\n",
    "import bodo"
   ]
  },
  {
   "cell_type": "markdown",
   "metadata": {},
   "source": [
    "## Load Crimes Data in Chicago 2005 - 2017"
   ]
  },
  {
   "cell_type": "code",
   "execution_count": 3,
   "metadata": {},
   "outputs": [
    {
     "name": "stdout",
     "output_type": "stream",
     "text": [
      "[stdout:0] \n",
      "BodoWarning: Unable to get S3 Bucket Region.\n",
      "'coroutine' object is not subscriptable.\n",
      "Will use the value defined in the AWS_DEFAULT_REGION environment variable (or us-east-1 if that is not provided either).\n",
      "BodoWarning: Unable to get S3 Bucket Region.\n",
      "'coroutine' object is not subscriptable.\n",
      "Will use the value defined in the AWS_DEFAULT_REGION environment variable (or us-east-1 if that is not provided either).\n",
      "BodoWarning: Unable to get S3 Bucket Region.\n",
      "'coroutine' object is not subscriptable.\n",
      "Will use the value defined in the AWS_DEFAULT_REGION environment variable (or us-east-1 if that is not provided either).\n",
      "Reading time:  7073.769092559814  (ms)\n",
      "         Unnamed: 0    ID Case Number                    Date  \\\n",
      "1324003     4897380  3012    HL101040  01/01/2005 01:15:00 PM   \n",
      "1324004     4898204  3013    HK826899  01/02/2005 09:45:00 PM   \n",
      "1324005     4898986  3014    HL106602  01/04/2005 04:39:00 PM   \n",
      "1324006     4899770  3015    HL107444  01/05/2005 04:07:00 AM   \n",
      "1324007     4900593  3016    HL112637  01/08/2005 03:15:00 AM   \n",
      "\n",
      "                         Block  IUCR Primary Type          Description  \\\n",
      "1324003  076XX S GREENWOOD AVE  0110     HOMICIDE  FIRST DEGREE MURDER   \n",
      "1324004        029XX E 82ND ST  0110     HOMICIDE  FIRST DEGREE MURDER   \n",
      "1324005  070XX S CONSTANCE AVE  0110     HOMICIDE  FIRST DEGREE MURDER   \n",
      "1324006     095XX S COLFAX AVE  0110     HOMICIDE  FIRST DEGREE MURDER   \n",
      "1324007      015XX N DAYTON ST  0110     HOMICIDE  FIRST DEGREE MURDER   \n",
      "\n",
      "        Location Description  Arrest  ...  Ward  Community Area  FBI Code  \\\n",
      "1324003           VACANT LOT    True  ...   8.0            69.0       01A   \n",
      "1324004               STREET    True  ...   7.0            46.0       01A   \n",
      "1324005               STREET   False  ...   5.0            43.0       01A   \n",
      "1324006                 AUTO   False  ...   7.0            51.0       01A   \n",
      "1324007                 CLUB    True  ...  43.0             8.0       01A   \n",
      "\n",
      "         X Coordinate  Y Coordinate  Year              Updated On   Latitude  \\\n",
      "1324003     1184881.0     1854385.0  2005  08/17/2015 03:03:40 PM  41.755589   \n",
      "1324004     1197086.0     1851161.0  2005  08/17/2015 03:03:40 PM  41.746447   \n",
      "1324005     1189760.0     1858598.0  2005  08/17/2015 03:03:40 PM  41.767034   \n",
      "1324006     1195168.0     1842391.0  2005  08/17/2015 03:03:40 PM  41.722429   \n",
      "1324007     1170405.0     1910128.0  2005  08/17/2015 03:03:40 PM  41.908880   \n",
      "\n",
      "         Longitude                       Location  \n",
      "1324003 -87.598021  (41.755589111, -87.598020614)  \n",
      "1324004 -87.553400  (41.746447258, -87.553400264)  \n",
      "1324005 -87.580005  (41.767034119, -87.580005338)  \n",
      "1324006 -87.560717  (41.722429119, -87.560716591)  \n",
      "1324007 -87.649445  (41.908880377, -87.649445039)  \n",
      "\n",
      "[5 rows x 23 columns]\n"
     ]
    }
   ],
   "source": [
    "%%px\n",
    "@bodo.jit(distributed=[\"crimes\"], cache=True)\n",
    "def load_chicago_crimes():\n",
    "    t1 = time.time()\n",
    "    crimes1 = pd.read_csv('s3://bodo-examples-data/chicago-crimes/Chicago_Crimes_2005_to_2007.csv')\n",
    "    crimes2 = pd.read_csv('s3://bodo-examples-data/chicago-crimes/Chicago_Crimes_2008_to_2011.csv')\n",
    "    crimes3 = pd.read_csv('s3://bodo-examples-data/chicago-crimes/Chicago_Crimes_2012_to_2017.csv')\n",
    "    crimes = pd.concat([crimes1, crimes2, crimes3], ignore_index=False, axis=0)\n",
    "    crimes = crimes.sort_values(by=\"ID\")    \n",
    "    print(\"Reading time: \", ((time.time() - t1) * 1000), \" (ms)\")    \n",
    "    print(crimes.head())\n",
    "    return crimes\n",
    "\n",
    "crimes = load_chicago_crimes()"
   ]
  },
  {
   "cell_type": "markdown",
   "metadata": {},
   "source": [
    "## Preprocessing and Cleaning\n",
    " 1. Drop duplicated cases, filter unused columns, and add day of week and date of the crime.\n",
    " 2. Keep only the most frequent crime type categories.\n"
   ]
  },
  {
   "cell_type": "code",
   "execution_count": 4,
   "metadata": {},
   "outputs": [
    {
     "name": "stdout",
     "output_type": "stream",
     "text": [
      "[stdout:0] \n",
      "Data cleanup time:  4358.8738441467285  (ms)\n",
      "           ID                Date                  Block Primary Type  \\\n",
      "1324003  3012 2005-01-01 13:15:00  076XX S GREENWOOD AVE     HOMICIDE   \n",
      "1324004  3013 2005-01-02 21:45:00        029XX E 82ND ST     HOMICIDE   \n",
      "1324005  3014 2005-01-04 16:39:00  070XX S CONSTANCE AVE     HOMICIDE   \n",
      "1324006  3015 2005-01-05 04:07:00     095XX S COLFAX AVE     HOMICIDE   \n",
      "1324007  3016 2005-01-08 03:15:00      015XX N DAYTON ST     HOMICIDE   \n",
      "\n",
      "                 Description Location Description  Arrest  Domestic  District  \\\n",
      "1324003  FIRST DEGREE MURDER           VACANT LOT    True     False       6.0   \n",
      "1324004  FIRST DEGREE MURDER               STREET    True     False       4.0   \n",
      "1324005  FIRST DEGREE MURDER               STREET   False     False       3.0   \n",
      "1324006  FIRST DEGREE MURDER                 AUTO   False     False       4.0   \n",
      "1324007  FIRST DEGREE MURDER                 CLUB    True     False      18.0   \n",
      "\n",
      "         X Coordinate  Y Coordinate   Latitude  Longitude  dow  date only  \n",
      "1324003     1184881.0     1854385.0  41.755589 -87.598021    5 2005-01-01  \n",
      "1324004     1197086.0     1851161.0  41.746447 -87.553400    6 2005-01-02  \n",
      "1324005     1189760.0     1858598.0  41.767034 -87.580005    1 2005-01-04  \n",
      "1324006     1195168.0     1842391.0  41.722429 -87.560717    2 2005-01-05  \n",
      "1324007     1170405.0     1910128.0  41.908880 -87.649445    5 2005-01-08  \n"
     ]
    }
   ],
   "source": [
    "%%px\n",
    "@bodo.jit(distributed=[\"crimes\"], cache=True)\n",
    "def data_cleanup(crimes):\n",
    "    t1 = time.time()    \n",
    "    crimes = crimes.drop_duplicates()    \n",
    "    crimes.drop(['Unnamed: 0', 'Case Number', 'IUCR','Updated On','Year', 'FBI Code', 'Beat','Ward','Community Area', 'Location'], inplace=True, axis=1)\n",
    "    crimes.Date = pd.to_datetime(crimes.Date, format='%m/%d/%Y %I:%M:%S %p')\n",
    "    crimes[\"dow\"] = crimes[\"Date\"].dt.dayofweek\n",
    "    crimes[\"date only\"] = crimes[\"Date\"].dt.floor('D')\n",
    "    crimes = crimes.sort_values(by=\"ID\")    \n",
    "    print(\"Data cleanup time: \", ((time.time() - t1) * 1000), \" (ms)\")\n",
    "    print(crimes.head())\n",
    "    return crimes\n",
    "\n",
    "crimes = data_cleanup(crimes)"
   ]
  },
  {
   "cell_type": "code",
   "execution_count": 5,
   "metadata": {},
   "outputs": [
    {
     "name": "stdout",
     "output_type": "stream",
     "text": [
      "[stdout:0] \n",
      "Getting top crimes Time:  167.5889492034912  (ms)\n",
      "Index(['BATTERY', 'THEFT', 'CRIMINAL DAMAGE', 'NARCOTICS', 'OTHER OFFENSE',\n",
      "       'ASSAULT', 'BURGLARY', 'MOTOR VEHICLE THEFT', 'CRIMINAL TRESPASS',\n",
      "       'HOMICIDE'],\n",
      "      dtype='object')\n"
     ]
    }
   ],
   "source": [
    "%%px\n",
    "@bodo.jit(distributed=[\"crimes\"], cache=True)\n",
    "def get_top_crime_types(crimes):\n",
    "    t1 = time.time()\n",
    "    top_crime_types = crimes['Primary Type'].value_counts().index[0:10]\n",
    "    print(\"Getting top crimes Time: \", ((time.time() - t1) * 1000), \" (ms)\")\n",
    "    print(top_crime_types)\n",
    "    return top_crime_types\n",
    "\n",
    "top_crime_types = get_top_crime_types(crimes)\n",
    "top_crime_types = top_crime_types.tolist()"
   ]
  },
  {
   "cell_type": "code",
   "execution_count": 6,
   "metadata": {},
   "outputs": [
    {
     "name": "stdout",
     "output_type": "stream",
     "text": [
      "[stdout:0] \n",
      "Filtering crimes Time:  675.4751205444336  (ms)\n",
      "           ID                Date                  Block Primary Type  \\\n",
      "1324003  3012 2005-01-01 13:15:00  076XX S GREENWOOD AVE     HOMICIDE   \n",
      "1324004  3013 2005-01-02 21:45:00        029XX E 82ND ST     HOMICIDE   \n",
      "1324005  3014 2005-01-04 16:39:00  070XX S CONSTANCE AVE     HOMICIDE   \n",
      "1324006  3015 2005-01-05 04:07:00     095XX S COLFAX AVE     HOMICIDE   \n",
      "1324007  3016 2005-01-08 03:15:00      015XX N DAYTON ST     HOMICIDE   \n",
      "\n",
      "                 Description Location Description  Arrest  Domestic  District  \\\n",
      "1324003  FIRST DEGREE MURDER           VACANT LOT    True     False       6.0   \n",
      "1324004  FIRST DEGREE MURDER               STREET    True     False       4.0   \n",
      "1324005  FIRST DEGREE MURDER               STREET   False     False       3.0   \n",
      "1324006  FIRST DEGREE MURDER                 AUTO   False     False       4.0   \n",
      "1324007  FIRST DEGREE MURDER                 CLUB    True     False      18.0   \n",
      "\n",
      "         X Coordinate  Y Coordinate   Latitude  Longitude  dow  date only  \n",
      "1324003     1184881.0     1854385.0  41.755589 -87.598021    5 2005-01-01  \n",
      "1324004     1197086.0     1851161.0  41.746447 -87.553400    6 2005-01-02  \n",
      "1324005     1189760.0     1858598.0  41.767034 -87.580005    1 2005-01-04  \n",
      "1324006     1195168.0     1842391.0  41.722429 -87.560717    2 2005-01-05  \n",
      "1324007     1170405.0     1910128.0  41.908880 -87.649445    5 2005-01-08  \n"
     ]
    }
   ],
   "source": [
    "%%px\n",
    "\n",
    "@bodo.jit(distributed=[\"crimes\", \"top_crimes\"], cache=True)\n",
    "def filter_crimes(crimes, top_crime_types):\n",
    "    t1 = time.time()\n",
    "    top_crimes = crimes[crimes['Primary Type'].isin(top_crime_types)]\n",
    "    print(\"Filtering crimes Time: \", ((time.time() - t1) * 1000), \" (ms)\")\n",
    "    print(top_crimes.head())\n",
    "    return top_crimes\n",
    "\n",
    "crimes = filter_crimes(crimes, top_crime_types)"
   ]
  },
  {
   "cell_type": "markdown",
   "metadata": {},
   "source": [
    "## Crime Analysis\n",
    "\n",
    "### Find Pattern of each crime over the years\n",
    "\n"
   ]
  },
  {
   "cell_type": "code",
   "execution_count": 22,
   "metadata": {},
   "outputs": [
    {
     "name": "stdout",
     "output_type": "stream",
     "text": [
      "[stdout:0] \n",
      "Computing Crime Pattern Time:  2584.177017211914  (ms)\n",
      "            BATTERY    THEFT  CRIMINAL DAMAGE  NARCOTICS  OTHER OFFENSE  \\\n",
      "2017-01-18  75408.0  63503.0          42674.0    37965.0        23870.0   \n",
      "2017-01-17  76609.0  64153.0          43461.0    37918.0        24156.0   \n",
      "2017-01-16  75685.0  64250.0          44021.0    36394.0        24157.0   \n",
      "2017-01-15  74789.0  63724.0          42392.0    37402.0        23616.0   \n",
      "2017-01-14  75516.0  63824.0          43487.0    37746.0        23592.0   \n",
      "\n",
      "            ASSAULT  BURGLARY  MOTOR VEHICLE THEFT  CRIMINAL TRESPASS  \\\n",
      "2017-01-18  21641.0   20366.0              17302.0            13907.0   \n",
      "2017-01-17  21552.0   20532.0              17239.0            14013.0   \n",
      "2017-01-16  21751.0   20099.0              17236.0            13902.0   \n",
      "2017-01-15  21565.0   20231.0              17091.0            13644.0   \n",
      "2017-01-14  21724.0   20359.0              17263.0            13746.0   \n",
      "\n",
      "            HOMICIDE  \n",
      "2017-01-18   12708.0  \n",
      "2017-01-17   12893.0  \n",
      "2017-01-16   12332.0  \n",
      "2017-01-15   12245.0  \n",
      "2017-01-14   12674.0  \n"
     ]
    }
   ],
   "source": [
    "%%px\n",
    "def get_crimes_type_date(crimes):\n",
    "    t1 = time.time()\n",
    "    crimes_count_date = crimes.pivot_table(index='date only', columns='Primary Type', values='ID', aggfunc=\"count\")\n",
    "    crimes_count_date.index = pd.DatetimeIndex(crimes_count_date.index)\n",
    "    result = crimes_count_date.fillna(0).rolling(365).sum()\n",
    "    result = result.sort_index(ascending=False)\n",
    "    print(\"Computing Crime Pattern Time: \", ((time.time() - t1) * 1000), \" (ms)\")\n",
    "    print(result.head())\n",
    "\n",
    "pivot_values = {\"crimes_count_date\" : top_crime_types}\n",
    "bodo_func = bodo.jit(distributed=[\"crimes\"], pivots=pivot_values)(get_crimes_type_date)(crimes)"
   ]
  },
  {
   "cell_type": "markdown",
   "metadata": {},
   "source": [
    "## A general view of crime records by time, type and location\n",
    "\n",
    "### Determining the pattern on daily basis"
   ]
  },
  {
   "cell_type": "code",
   "execution_count": 34,
   "metadata": {},
   "outputs": [
    {
     "name": "stdout",
     "output_type": "stream",
     "text": [
      "[stdout:0] \n",
      "Group by days Time:  11.953115463256836  (ms)\n",
      "   dow      ID\n",
      "0    0  563268\n",
      "1    1  569252\n",
      "5    2  573212\n",
      "6    3  567163\n",
      "3    4  599854\n"
     ]
    }
   ],
   "source": [
    "%%px\n",
    "@bodo.jit(distributed=['crimes', 'crimes_days'], cache=True)\n",
    "def get_crimes_by_days(crimes):\n",
    "    t1 = time.time()\n",
    "    crimes_days = crimes.groupby('dow', as_index=False)['ID'].count().sort_values(by='dow')\n",
    "    print(\"Group by days Time: \", ((time.time() - t1) * 1000), \" (ms)\")\n",
    "    print(crimes_days.head())\n",
    "    return crimes_days\n",
    "    \n",
    "crimes_days = get_crimes_by_days(crimes)"
   ]
  },
  {
   "cell_type": "markdown",
   "metadata": {},
   "source": [
    "### Determining the pattern on monthly basis"
   ]
  },
  {
   "cell_type": "code",
   "execution_count": 35,
   "metadata": {},
   "outputs": [
    {
     "name": "stdout",
     "output_type": "stream",
     "text": [
      "[stdout:0] \n",
      "Group by days Time:  32.850027084350586  (ms)\n",
      "    month      ID\n",
      "0       1  318177\n",
      "9       2  268271\n",
      "10      3  327407\n",
      "1       4  328076\n",
      "7       5  355451\n"
     ]
    }
   ],
   "source": [
    "%%px\n",
    "@bodo.jit(distributed=['crimes', 'crimes_months'], cache=True)\n",
    "def get_crimes_by_months(crimes):\n",
    "    t1 = time.time()\n",
    "    crimes['month'] = crimes[\"Date\"].dt.month\n",
    "    crimes_months = crimes.groupby('month', as_index=False)['ID'].count().sort_values(by='month')\n",
    "    print(\"Group by days Time: \", ((time.time() - t1) * 1000), \" (ms)\")\n",
    "    print(crimes_months.head())\n",
    "    return crimes_months\n",
    "    \n",
    "crimes_months = get_crimes_by_months(crimes)"
   ]
  },
  {
   "cell_type": "markdown",
   "metadata": {},
   "source": [
    "### Determining the pattern by crime type"
   ]
  },
  {
   "cell_type": "code",
   "execution_count": 37,
   "metadata": {},
   "outputs": [
    {
     "name": "stdout",
     "output_type": "stream",
     "text": [
      "[stdout:0] \n",
      "Group by days Time:  43.81203651428223  (ms)\n",
      "       Primary Type      ID\n",
      "0             THEFT  907831\n",
      "9           BATTERY  778164\n",
      "2   CRIMINAL DAMAGE  499426\n",
      "11        NARCOTICS  473790\n",
      "3     OTHER OFFENSE  264200\n"
     ]
    }
   ],
   "source": [
    "%%px\n",
    "@bodo.jit(distributed=['crimes', 'crimes_type'], cache=True)\n",
    "def get_crimes_by_type(crimes):\n",
    "    t1 = time.time()\n",
    "    crimes_type = crimes.groupby('Primary Type', as_index=False)['ID'].count().sort_values(by='ID', ascending=False)\n",
    "    print(\"Group by days Time: \", ((time.time() - t1) * 1000), \" (ms)\")\n",
    "    print(crimes_type.head())\n",
    "    return crimes_type\n",
    "    \n",
    "crimes_type = get_crimes_by_type(crimes)"
   ]
  },
  {
   "cell_type": "markdown",
   "metadata": {},
   "source": [
    "### Determining the pattern by location"
   ]
  },
  {
   "cell_type": "code",
   "execution_count": 40,
   "metadata": {},
   "outputs": [
    {
     "name": "stdout",
     "output_type": "stream",
     "text": [
      "[stdout:0] \n",
      "Group by days Time:  48.18105697631836  (ms)\n",
      "    Location Description      ID\n",
      "83                STREET  999487\n",
      "34             RESIDENCE  660937\n",
      "121            APARTMENT  459253\n",
      "60              SIDEWALK  440330\n",
      "84                 OTHER  145580\n"
     ]
    }
   ],
   "source": [
    "%%px\n",
    "@bodo.jit(distributed=['crimes', 'crimes_location'], cache=True)\n",
    "def get_crimes_by_location(crimes):\n",
    "    t1 = time.time()\n",
    "    crimes_location = crimes.groupby('Location Description', as_index=False)['ID'].count().sort_values(by='ID', ascending=False)\n",
    "    print(\"Group by days Time: \", ((time.time() - t1) * 1000), \" (ms)\")\n",
    "    print(crimes_location.head())\n",
    "    return crimes_location\n",
    "    \n",
    "crimes_location = get_crimes_by_location(crimes)"
   ]
  }
 ],
 "metadata": {
  "kernelspec": {
   "display_name": "Python 3",
   "language": "python",
   "name": "python3"
  },
  "language_info": {
   "codemirror_mode": {
    "name": "ipython",
    "version": 3
   },
   "file_extension": ".py",
   "mimetype": "text/x-python",
   "name": "python",
   "nbconvert_exporter": "python",
   "pygments_lexer": "ipython3",
   "version": "3.8.5"
  }
 },
 "nbformat": 4,
 "nbformat_minor": 4
}
