{
 "cells": [
  {
   "cell_type": "markdown",
   "id": "d3fe1ef7-4dae-46d0-8c53-95f0e4f37b27",
   "metadata": {
    "slideshow": {
     "slide_type": "slide"
    },
    "tags": []
   },
   "source": [
    "## Parallel Computing Concepts"
   ]
  },
  {
   "cell_type": "markdown",
   "id": "cceb745e",
   "metadata": {
    "slideshow": {
     "slide_type": "notes"
    }
   },
   "source": [
    "+ We've not yet discussed Bodo's utility for simplifying parallel computing.\n",
    "+ Let's quickly review some key ideas there."
   ]
  },
  {
   "cell_type": "markdown",
   "id": "6b88527a-140e-4082-9501-cb208b3241b2",
   "metadata": {
    "slideshow": {
     "slide_type": "skip"
    },
    "tags": []
   },
   "source": [
    "---"
   ]
  },
  {
   "cell_type": "markdown",
   "id": "f55d8beb-20c9-43d7-b532-0f46aa32dc86",
   "metadata": {
    "slideshow": {
     "slide_type": "subslide"
    },
    "tags": []
   },
   "source": [
    "+ Parallel computing is hard!\n",
    "  + Developing, debugging programs\n",
    "  + Load balancing, synchronization\n",
    "  + Porting programs, etc."
   ]
  },
  {
   "cell_type": "markdown",
   "id": "bd93ae50-7173-4981-8547-27018df50ca5",
   "metadata": {
    "slideshow": {
     "slide_type": "fragment"
    },
    "tags": []
   },
   "source": [
    "+ Shared versus Distributed Memory"
   ]
  },
  {
   "cell_type": "markdown",
   "id": "16b2e89c-6bdb-40fb-b668-d553c11f26ee",
   "metadata": {
    "slideshow": {
     "slide_type": "skip"
    },
    "tags": []
   },
   "source": [
    "---"
   ]
  },
  {
   "cell_type": "markdown",
   "id": "54ad5a6e-0bd4-4bc5-aa94-1f84bb980fbe",
   "metadata": {
    "slideshow": {
     "slide_type": "notes"
    },
    "tags": []
   },
   "source": [
    "+ Parallel programming often takes years for programmers to master.\n",
    "+ Debugging is hard, so is making sure workers have reasonable workloads, synchronizing workers, running programs on different hardware, and so on.\n",
    "---\n",
    "+ Another important distinction parallel programmers need to understand is *shared* versus *distributed memory*."
   ]
  },
  {
   "cell_type": "markdown",
   "id": "d251ee28-dc9a-43a4-8be8-c9a22a1f173e",
   "metadata": {
    "slideshow": {
     "slide_type": "skip"
    },
    "tags": []
   },
   "source": [
    "---"
   ]
  },
  {
   "cell_type": "markdown",
   "id": "9a078901-8f1e-47fe-bf4a-887747874ed3",
   "metadata": {
    "slideshow": {
     "slide_type": "subslide"
    },
    "tags": []
   },
   "source": [
    "#### Shared memory computing\n",
    "<center>\n",
    "    <img src='./img/shared-memory.svg' width='35%'></img>\n",
    "</center>"
   ]
  },
  {
   "cell_type": "markdown",
   "id": "804cf350-dae1-408e-8337-3621b9c41c26",
   "metadata": {},
   "source": [
    "+ Shared memory pool for several *threads*\n",
    "+ Challenge: race conditions"
   ]
  },
  {
   "cell_type": "markdown",
   "id": "25e2a553-6393-494d-b7f0-ace4658b5a39",
   "metadata": {
    "slideshow": {
     "slide_type": "notes"
    },
    "tags": []
   },
   "source": [
    "+ The shared memory paradigm can be thought of numerous workers sharing a common pool of memory.\n",
    "+ Your laptop likely has *threads* running that all share common RAM and disk access.\n",
    "+ Parallel programming with shared memory is compicated by *race conditions*...\n",
    " + ...when distinct threads try to read from or write to the same memory location at the same time."
   ]
  },
  {
   "cell_type": "markdown",
   "id": "fca69762-28c1-43b7-877b-b1fdab5e90e9",
   "metadata": {
    "slideshow": {
     "slide_type": "skip"
    },
    "tags": []
   },
   "source": [
    "---"
   ]
  },
  {
   "cell_type": "markdown",
   "id": "55bb3c41-6a56-4ab7-ab58-da7c084b98cd",
   "metadata": {
    "slideshow": {
     "slide_type": "subslide"
    },
    "tags": []
   },
   "source": [
    "#### Distributed memory computing\n",
    "<center>\n",
    "    <img src='./img/distributed-memory.svg' width='45%'></img>\n",
    "</center>"
   ]
  },
  {
   "cell_type": "markdown",
   "id": "094b4d02-01b9-40b3-bd37-e066a8043dc2",
   "metadata": {},
   "source": [
    "+ Distinct memory for each workers\n",
    "+ Commonly used with *clusters*\n",
    "+ Challenge: communication, synchronization"
   ]
  },
  {
   "cell_type": "markdown",
   "id": "571cd823-28bd-43c7-8cab-c2e58dc72482",
   "metadata": {
    "slideshow": {
     "slide_type": "notes"
    },
    "tags": []
   },
   "source": [
    "+ The distributed memory paradigm can be thought of numerous isolated workers.\n",
    "+ Clusters & supercomputers use distributed processes with their own RAM and disk drives connected over a network.\n",
    "+ Communication is a challenge with distributed computing because workers often need to send data to & fro at different parts of a computation."
   ]
  },
  {
   "cell_type": "markdown",
   "id": "af015f18-f925-4962-8ed7-69ae9a1bcf17",
   "metadata": {
    "slideshow": {
     "slide_type": "skip"
    },
    "tags": []
   },
   "source": [
    "---"
   ]
  },
  {
   "cell_type": "markdown",
   "id": "5afc7824-9113-46aa-b43e-703ce0e48ad4",
   "metadata": {
    "slideshow": {
     "slide_type": "subslide"
    },
    "tags": []
   },
   "source": [
    "### Distributed computing with Bodo"
   ]
  },
  {
   "cell_type": "markdown",
   "id": "339506d0-5db0-4bec-9448-09f4e45ddd5f",
   "metadata": {},
   "source": [
    "+ Distributed computing with `ipyparallel`\n",
    "+  *SPMD* (Single Program Multiple Data) paradigm"
   ]
  },
  {
   "cell_type": "markdown",
   "id": "5a96cc9e-e950-449e-a970-293356f7f92e",
   "metadata": {
    "slideshow": {
     "slide_type": "notes"
    },
    "tags": []
   },
   "source": [
    "+ Bodo uses `ipyparallel` for distributed computing—even on a single machine.\n",
    "+ The principle approach in Bodo is called *SPMD* (Single Program Multiple Data)"
   ]
  },
  {
   "cell_type": "markdown",
   "id": "6d7abc76-a25e-4fd0-b075-a751acf801b2",
   "metadata": {
    "slideshow": {
     "slide_type": "skip"
    },
    "tags": []
   },
   "source": [
    "---"
   ]
  },
  {
   "cell_type": "markdown",
   "id": "9f00545b-007c-48fe-ba43-bfcb9280b8b0",
   "metadata": {
    "slideshow": {
     "slide_type": "subslide"
    },
    "tags": []
   },
   "source": [
    "#### SPMD Paradigm\n",
    "<center>\n",
    "    <img src='./img/SPMD-1.svg'  width='70%'></img>\n",
    "</center>"
   ]
  },
  {
   "cell_type": "markdown",
   "id": "aaed9052-7076-4cdf-a57d-b77353efd897",
   "metadata": {
    "slideshow": {
     "slide_type": "notes"
    },
    "tags": []
   },
   "source": [
    "+ In SPMD, a single program written with instructions for all workers.\n",
    "+ Conceptually, data can be thought of in *distinct* chunks."
   ]
  },
  {
   "cell_type": "markdown",
   "id": "de882e66-48a8-4b2a-a83c-ef415af97a89",
   "metadata": {
    "slideshow": {
     "slide_type": "skip"
    },
    "tags": []
   },
   "source": [
    "---"
   ]
  },
  {
   "cell_type": "markdown",
   "id": "6ac9478f-8182-4d75-80c7-325ea717b008",
   "metadata": {
    "slideshow": {
     "slide_type": "subslide"
    }
   },
   "source": [
    "#### SPMD Paradigm\n",
    "<center>\n",
    "    <img src='./img/SPMD-2.svg' width='70%'></img>\n",
    "</center>"
   ]
  },
  {
   "cell_type": "markdown",
   "id": "4b7fc623-8de9-45fe-ad8b-9e86591febcf",
   "metadata": {
    "slideshow": {
     "slide_type": "notes"
    },
    "tags": []
   },
   "source": [
    "+ In a typical SPMD program, data have to be *distributed* to each worker.\n",
    "+ The common program guides each workers's operations on their specific chunk of data."
   ]
  },
  {
   "cell_type": "markdown",
   "id": "fa50d8ba-87dd-44b7-843e-cf201984d69d",
   "metadata": {
    "slideshow": {
     "slide_type": "skip"
    },
    "tags": []
   },
   "source": [
    "---"
   ]
  },
  {
   "cell_type": "markdown",
   "id": "018d90a4-0bef-4956-a21d-ea7675a46707",
   "metadata": {
    "slideshow": {
     "slide_type": "subslide"
    }
   },
   "source": [
    "#### SPMD Paradigm\n",
    "<center>\n",
    "    <img src='./img/SPMD-3.svg' width='70%'></img>\n",
    "</center>"
   ]
  },
  {
   "cell_type": "markdown",
   "id": "89bf3cdb-fcd8-4bd2-8592-002829cc71e2",
   "metadata": {
    "slideshow": {
     "slide_type": "notes"
    },
    "tags": []
   },
   "source": [
    "+ Again, with distributed memory systems, it's challenging to manage *communication* between workers\n",
    "+ Data may need to be shared at different checkpoints requiring synchronization between workers."
   ]
  },
  {
   "cell_type": "markdown",
   "id": "1c2e259c-6ad6-42a1-947d-daf1d72fe996",
   "metadata": {
    "slideshow": {
     "slide_type": "skip"
    },
    "tags": []
   },
   "source": [
    "---"
   ]
  },
  {
   "cell_type": "markdown",
   "id": "2edc99fe-0efb-428e-b398-5659b4fa17b4",
   "metadata": {
    "slideshow": {
     "slide_type": "subslide"
    },
    "tags": []
   },
   "source": [
    "#### Parallel computing with `ipyparallel`"
   ]
  },
  {
   "cell_type": "code",
   "execution_count": 1,
   "id": "1d710f11-bbac-4a11-917b-785c709c6a50",
   "metadata": {
    "slideshow": {
     "slide_type": "fragment"
    },
    "tags": []
   },
   "outputs": [
    {
     "name": "stdout",
     "output_type": "stream",
     "text": [
      "Starting 4 engines with <class 'ipyparallel.cluster.launcher.MPIEngineSetLauncher'>\n",
      "100%|█████████████████████████████████████████| 4/4 [00:08<00:00,  2.17s/engine]\n"
     ]
    }
   ],
   "source": [
    "import ipyparallel as ipp\n",
    "n_proc = 4\n",
    "rc = (ipp.Cluster(engines='mpi', n=n_proc)\n",
    "         .start_and_connect_sync(activate=True))"
   ]
  },
  {
   "cell_type": "markdown",
   "id": "d3224219",
   "metadata": {
    "slideshow": {
     "slide_type": "notes"
    },
    "tags": []
   },
   "source": [
    "+ When running `bodo` in a Jupyter notebook with multiple engines—the relevant `ipyparallel` term for workers—some set up is needed.\n",
    "+ This notebook is executed on a notebook with 4 cores which we'll use as engines.\n",
    "  + In later notebooks executed on the Bodo cloud platform, there are far more than 4 engines used.\n",
    "  + We use 4 here to keep the output manageable."
   ]
  },
  {
   "cell_type": "markdown",
   "id": "3616ded4-16e8-4997-8f97-1d722e97b799",
   "metadata": {
    "slideshow": {
     "slide_type": "skip"
    },
    "tags": []
   },
   "source": [
    "---"
   ]
  },
  {
   "cell_type": "markdown",
   "id": "6c141957-85f8-4e09-8a0a-f0fc2f14f7bf",
   "metadata": {
    "slideshow": {
     "slide_type": "subslide"
    },
    "tags": []
   },
   "source": [
    "```python\n",
    "import ipyparallel as ipp\n",
    "import psutil\n",
    "n_proc = max(psutil.cpu_count(logical=False), 2)\n",
    "rc = (ipp.Cluster(engines='mpi', n=n_proc)\n",
    "         .start_and_connect_sync(activate=True))\n",
    "```"
   ]
  },
  {
   "cell_type": "markdown",
   "id": "912c8493-095a-410b-815b-6b37d4457f87",
   "metadata": {
    "slideshow": {
     "slide_type": "fragment"
    },
    "tags": []
   },
   "source": [
    "+ Done automatically on [`platform.bodo.ai`](https://platform.bodo.ai/notebooks)"
   ]
  },
  {
   "cell_type": "markdown",
   "id": "643bc84a-6a3b-4559-9606-1d737c304f6d",
   "metadata": {
    "slideshow": {
     "slide_type": "notes"
    },
    "tags": []
   },
   "source": [
    "\n",
    "---\n",
    "+ The details of this boilerplate code are complicated; don't worry about it here.\n",
    "---\n",
    "+ This is executed behind the scenes on [`platform.bodo.ai`](https://platform.bodo.ai/notebooks)\n",
    "  + On that platform, users don't need this boilerplate in their Jupyter notebooks."
   ]
  },
  {
   "cell_type": "markdown",
   "id": "5304c603-7519-454a-9dd7-1c1fdc4d783e",
   "metadata": {
    "slideshow": {
     "slide_type": "skip"
    },
    "tags": []
   },
   "source": [
    "---"
   ]
  },
  {
   "cell_type": "markdown",
   "id": "e0320735-f44f-4332-8cd6-6330bfbb13fa",
   "metadata": {
    "slideshow": {
     "slide_type": "subslide"
    },
    "tags": []
   },
   "source": [
    "#### Distinct *namespaces*\n",
    "\n",
    "+ Jupyter kernel & `ipyparallel` *engines*\n",
    "+ Execute commands on engines:\n",
    "  + `%px` line magic\n",
    "  + `%%px` cell magic"
   ]
  },
  {
   "cell_type": "markdown",
   "id": "5e34bbbc-b72f-4a63-b31e-0a444958f3de",
   "metadata": {
    "slideshow": {
     "slide_type": "skip"
    },
    "tags": []
   },
   "source": [
    "---"
   ]
  },
  {
   "cell_type": "markdown",
   "id": "ced29584-1617-412f-bdcc-17f078b7222d",
   "metadata": {
    "slideshow": {
     "slide_type": "notes"
    },
    "tags": []
   },
   "source": [
    "+ Bodo users *do* need to understand that, in this SPMD framework, engines have their own *namespace*...\n",
    "+ ... and the Jupyter kernel also has its own namespace as well.\n",
    "+ Commands executed using IPython `px` magics run on distinct engines."
   ]
  },
  {
   "cell_type": "markdown",
   "id": "adbbdb98-1411-4730-b0f7-4f3310fed10e",
   "metadata": {
    "slideshow": {
     "slide_type": "skip"
    },
    "tags": []
   },
   "source": [
    "---"
   ]
  },
  {
   "cell_type": "code",
   "execution_count": 2,
   "id": "8c36463e-6179-4378-b942-c7c1ae77c326",
   "metadata": {
    "slideshow": {
     "slide_type": "subslide"
    },
    "tags": []
   },
   "outputs": [],
   "source": [
    "# This cell executes in the main Jupyter kernel\n",
    "a = 4\n",
    "from math import sqrt"
   ]
  },
  {
   "cell_type": "code",
   "execution_count": 3,
   "id": "a35dc3c8-3f82-4f1d-b0c8-4aaad5414370",
   "metadata": {
    "slideshow": {
     "slide_type": "fragment"
    },
    "tags": []
   },
   "outputs": [
    {
     "name": "stdout",
     "output_type": "stream",
     "text": [
      "a == 4\n"
     ]
    }
   ],
   "source": [
    "# This cell executes in the main Jupyter kernel\n",
    "def missing(s):\n",
    "    return f'Identifier \\'{s}\\' not found in this namespace'\n",
    "\n",
    "assert 'a'    in globals(), missing('a')\n",
    "assert 'sqrt' in globals(), missing('sqrt')\n",
    "print(f'a == {a}')"
   ]
  },
  {
   "cell_type": "markdown",
   "id": "91c9f174",
   "metadata": {
    "slideshow": {
     "slide_type": "skip"
    },
    "tags": []
   },
   "source": [
    "---"
   ]
  },
  {
   "cell_type": "markdown",
   "id": "f2561a82",
   "metadata": {
    "slideshow": {
     "slide_type": "notes"
    },
    "tags": []
   },
   "source": [
    "+ To see this clearly, execute a standard Jupyter notebook cell.\n",
    "+ This executes with a single Jupyter kernel with its own namespace, defining the objects `a` and `sqrt`.\n",
    "\n",
    "---\n",
    "\n",
    "+ We'll examine this namespace using the dictionary `globals()` in some `assert` statements.\n",
    "+ These assertions are both `True`, so no `AssertionError`s are raised.\n",
    "+ The last line of the cell executes without any problem."
   ]
  },
  {
   "cell_type": "markdown",
   "id": "fb55e1c8-5028-4d4b-be0c-414ba08b6f55",
   "metadata": {
    "slideshow": {
     "slide_type": "skip"
    },
    "tags": []
   },
   "source": [
    "---"
   ]
  },
  {
   "cell_type": "markdown",
   "id": "fe54398c-c9a6-4d08-a2e5-978f8672878e",
   "metadata": {
    "jp-MarkdownHeadingCollapsed": true,
    "slideshow": {
     "slide_type": "subslide"
    },
    "tags": []
   },
   "source": [
    "```python\n",
    "%%px\n",
    "# This cell executes on every engine\n",
    "def missing(s):\n",
    "    return f'Identifier \\'{s}\\' not found in this namespace'\n",
    "assert 'a'    in globals(), missing('a')\n",
    "assert 'sqrt' in globals(), missing('sqrt')\n",
    "print(f'a == {a}')\n",
    "```\n",
    "\n",
    "+ Expect `AssertionError` when executed..."
   ]
  },
  {
   "cell_type": "markdown",
   "id": "d5498a5b-b8b6-4bee-9f22-cef40159eda4",
   "metadata": {
    "slideshow": {
     "slide_type": "notes"
    },
    "tags": []
   },
   "source": [
    "+ We'll repeat the last cell with the `px` *cell* magic (with two percent symbols)\n",
    "+ This means every line gets executed in the namespace of each `ipyparallel` engine.\n",
    "\n",
    "+ Executing this cell yields messy assertion errors on every engine..."
   ]
  },
  {
   "cell_type": "markdown",
   "id": "c5b8fee5-7578-4209-b53d-e7abcfebbc94",
   "metadata": {
    "slideshow": {
     "slide_type": "skip"
    },
    "tags": []
   },
   "source": [
    "---"
   ]
  },
  {
   "cell_type": "code",
   "execution_count": 4,
   "id": "4cd0f310-5705-4be4-88ad-d57ddae651ae",
   "metadata": {
    "slideshow": {
     "slide_type": "subslide"
    },
    "tags": []
   },
   "outputs": [
    {
     "name": "stderr",
     "output_type": "stream",
     "text": [
      "[2:execute]\n",
      "\u001b[0;31m---------------------------------------------------------------------------\u001b[0m\n",
      "\u001b[0;31mAssertionError\u001b[0m                            Traceback (most recent call last)\n",
      "Input \u001b[0;32mIn [1]\u001b[0m, in \u001b[0;36m<cell line: 4>\u001b[0;34m()\u001b[0m\n",
      "\u001b[1;32m      2\u001b[0m \u001b[38;5;28;01mdef\u001b[39;00m \u001b[38;5;21mmissing\u001b[39m(s):\n",
      "\u001b[1;32m      3\u001b[0m     \u001b[38;5;28;01mreturn\u001b[39;00m \u001b[38;5;124mf\u001b[39m\u001b[38;5;124m'\u001b[39m\u001b[38;5;124mIdentifier \u001b[39m\u001b[38;5;130;01m\\'\u001b[39;00m\u001b[38;5;132;01m{\u001b[39;00ms\u001b[38;5;132;01m}\u001b[39;00m\u001b[38;5;130;01m\\'\u001b[39;00m\u001b[38;5;124m not found in this namespace\u001b[39m\u001b[38;5;124m'\u001b[39m\n",
      "\u001b[0;32m----> 4\u001b[0m \u001b[38;5;28;01massert\u001b[39;00m \u001b[38;5;124m'\u001b[39m\u001b[38;5;124ma\u001b[39m\u001b[38;5;124m'\u001b[39m    \u001b[38;5;129;01min\u001b[39;00m \u001b[38;5;28mglobals\u001b[39m(), missing(\u001b[38;5;124m'\u001b[39m\u001b[38;5;124ma\u001b[39m\u001b[38;5;124m'\u001b[39m)\n",
      "\u001b[1;32m      5\u001b[0m \u001b[38;5;28;01massert\u001b[39;00m \u001b[38;5;124m'\u001b[39m\u001b[38;5;124msqrt\u001b[39m\u001b[38;5;124m'\u001b[39m \u001b[38;5;129;01min\u001b[39;00m \u001b[38;5;28mglobals\u001b[39m(), missing(\u001b[38;5;124m'\u001b[39m\u001b[38;5;124msqrt\u001b[39m\u001b[38;5;124m'\u001b[39m)\n",
      "\u001b[1;32m      6\u001b[0m \u001b[38;5;28mprint\u001b[39m(\u001b[38;5;124mf\u001b[39m\u001b[38;5;124m'\u001b[39m\u001b[38;5;124ma == \u001b[39m\u001b[38;5;132;01m{\u001b[39;00ma\u001b[38;5;132;01m}\u001b[39;00m\u001b[38;5;124m'\u001b[39m)\n",
      "\n",
      "\u001b[0;31mAssertionError\u001b[0m: Identifier 'a' not found in this namespace\n",
      "[3:execute]\n",
      "\u001b[0;31m---------------------------------------------------------------------------\u001b[0m\n",
      "\u001b[0;31mAssertionError\u001b[0m                            Traceback (most recent call last)\n",
      "Input \u001b[0;32mIn [1]\u001b[0m, in \u001b[0;36m<cell line: 4>\u001b[0;34m()\u001b[0m\n",
      "\u001b[1;32m      2\u001b[0m \u001b[38;5;28;01mdef\u001b[39;00m \u001b[38;5;21mmissing\u001b[39m(s):\n",
      "\u001b[1;32m      3\u001b[0m     \u001b[38;5;28;01mreturn\u001b[39;00m \u001b[38;5;124mf\u001b[39m\u001b[38;5;124m'\u001b[39m\u001b[38;5;124mIdentifier \u001b[39m\u001b[38;5;130;01m\\'\u001b[39;00m\u001b[38;5;132;01m{\u001b[39;00ms\u001b[38;5;132;01m}\u001b[39;00m\u001b[38;5;130;01m\\'\u001b[39;00m\u001b[38;5;124m not found in this namespace\u001b[39m\u001b[38;5;124m'\u001b[39m\n",
      "\u001b[0;32m----> 4\u001b[0m \u001b[38;5;28;01massert\u001b[39;00m \u001b[38;5;124m'\u001b[39m\u001b[38;5;124ma\u001b[39m\u001b[38;5;124m'\u001b[39m    \u001b[38;5;129;01min\u001b[39;00m \u001b[38;5;28mglobals\u001b[39m(), missing(\u001b[38;5;124m'\u001b[39m\u001b[38;5;124ma\u001b[39m\u001b[38;5;124m'\u001b[39m)\n",
      "\u001b[1;32m      5\u001b[0m \u001b[38;5;28;01massert\u001b[39;00m \u001b[38;5;124m'\u001b[39m\u001b[38;5;124msqrt\u001b[39m\u001b[38;5;124m'\u001b[39m \u001b[38;5;129;01min\u001b[39;00m \u001b[38;5;28mglobals\u001b[39m(), missing(\u001b[38;5;124m'\u001b[39m\u001b[38;5;124msqrt\u001b[39m\u001b[38;5;124m'\u001b[39m)\n",
      "\u001b[1;32m      6\u001b[0m \u001b[38;5;28mprint\u001b[39m(\u001b[38;5;124mf\u001b[39m\u001b[38;5;124m'\u001b[39m\u001b[38;5;124ma == \u001b[39m\u001b[38;5;132;01m{\u001b[39;00ma\u001b[38;5;132;01m}\u001b[39;00m\u001b[38;5;124m'\u001b[39m)\n",
      "\n",
      "\u001b[0;31mAssertionError\u001b[0m: Identifier 'a' not found in this namespace\n",
      "[0:execute]\n",
      "\u001b[0;31m---------------------------------------------------------------------------\u001b[0m\n",
      "\u001b[0;31mAssertionError\u001b[0m                            Traceback (most recent call last)\n",
      "Input \u001b[0;32mIn [1]\u001b[0m, in \u001b[0;36m<cell line: 4>\u001b[0;34m()\u001b[0m\n",
      "\u001b[1;32m      2\u001b[0m \u001b[38;5;28;01mdef\u001b[39;00m \u001b[38;5;21mmissing\u001b[39m(s):\n",
      "\u001b[1;32m      3\u001b[0m     \u001b[38;5;28;01mreturn\u001b[39;00m \u001b[38;5;124mf\u001b[39m\u001b[38;5;124m'\u001b[39m\u001b[38;5;124mIdentifier \u001b[39m\u001b[38;5;130;01m\\'\u001b[39;00m\u001b[38;5;132;01m{\u001b[39;00ms\u001b[38;5;132;01m}\u001b[39;00m\u001b[38;5;130;01m\\'\u001b[39;00m\u001b[38;5;124m not found in this namespace\u001b[39m\u001b[38;5;124m'\u001b[39m\n",
      "\u001b[0;32m----> 4\u001b[0m \u001b[38;5;28;01massert\u001b[39;00m \u001b[38;5;124m'\u001b[39m\u001b[38;5;124ma\u001b[39m\u001b[38;5;124m'\u001b[39m    \u001b[38;5;129;01min\u001b[39;00m \u001b[38;5;28mglobals\u001b[39m(), missing(\u001b[38;5;124m'\u001b[39m\u001b[38;5;124ma\u001b[39m\u001b[38;5;124m'\u001b[39m)\n",
      "\u001b[1;32m      5\u001b[0m \u001b[38;5;28;01massert\u001b[39;00m \u001b[38;5;124m'\u001b[39m\u001b[38;5;124msqrt\u001b[39m\u001b[38;5;124m'\u001b[39m \u001b[38;5;129;01min\u001b[39;00m \u001b[38;5;28mglobals\u001b[39m(), missing(\u001b[38;5;124m'\u001b[39m\u001b[38;5;124msqrt\u001b[39m\u001b[38;5;124m'\u001b[39m)\n",
      "\u001b[1;32m      6\u001b[0m \u001b[38;5;28mprint\u001b[39m(\u001b[38;5;124mf\u001b[39m\u001b[38;5;124m'\u001b[39m\u001b[38;5;124ma == \u001b[39m\u001b[38;5;132;01m{\u001b[39;00ma\u001b[38;5;132;01m}\u001b[39;00m\u001b[38;5;124m'\u001b[39m)\n",
      "\n",
      "\u001b[0;31mAssertionError\u001b[0m: Identifier 'a' not found in this namespace\n",
      "[1:execute]\n",
      "\u001b[0;31m---------------------------------------------------------------------------\u001b[0m\n",
      "\u001b[0;31mAssertionError\u001b[0m                            Traceback (most recent call last)\n",
      "Input \u001b[0;32mIn [1]\u001b[0m, in \u001b[0;36m<cell line: 4>\u001b[0;34m()\u001b[0m\n",
      "\u001b[1;32m      2\u001b[0m \u001b[38;5;28;01mdef\u001b[39;00m \u001b[38;5;21mmissing\u001b[39m(s):\n",
      "\u001b[1;32m      3\u001b[0m     \u001b[38;5;28;01mreturn\u001b[39;00m \u001b[38;5;124mf\u001b[39m\u001b[38;5;124m'\u001b[39m\u001b[38;5;124mIdentifier \u001b[39m\u001b[38;5;130;01m\\'\u001b[39;00m\u001b[38;5;132;01m{\u001b[39;00ms\u001b[38;5;132;01m}\u001b[39;00m\u001b[38;5;130;01m\\'\u001b[39;00m\u001b[38;5;124m not found in this namespace\u001b[39m\u001b[38;5;124m'\u001b[39m\n",
      "\u001b[0;32m----> 4\u001b[0m \u001b[38;5;28;01massert\u001b[39;00m \u001b[38;5;124m'\u001b[39m\u001b[38;5;124ma\u001b[39m\u001b[38;5;124m'\u001b[39m    \u001b[38;5;129;01min\u001b[39;00m \u001b[38;5;28mglobals\u001b[39m(), missing(\u001b[38;5;124m'\u001b[39m\u001b[38;5;124ma\u001b[39m\u001b[38;5;124m'\u001b[39m)\n",
      "\u001b[1;32m      5\u001b[0m \u001b[38;5;28;01massert\u001b[39;00m \u001b[38;5;124m'\u001b[39m\u001b[38;5;124msqrt\u001b[39m\u001b[38;5;124m'\u001b[39m \u001b[38;5;129;01min\u001b[39;00m \u001b[38;5;28mglobals\u001b[39m(), missing(\u001b[38;5;124m'\u001b[39m\u001b[38;5;124msqrt\u001b[39m\u001b[38;5;124m'\u001b[39m)\n",
      "\u001b[1;32m      6\u001b[0m \u001b[38;5;28mprint\u001b[39m(\u001b[38;5;124mf\u001b[39m\u001b[38;5;124m'\u001b[39m\u001b[38;5;124ma == \u001b[39m\u001b[38;5;132;01m{\u001b[39;00ma\u001b[38;5;132;01m}\u001b[39;00m\u001b[38;5;124m'\u001b[39m)\n",
      "\n",
      "\u001b[0;31mAssertionError\u001b[0m: Identifier 'a' not found in this namespace\n"
     ]
    },
    {
     "ename": "AlreadyDisplayedError",
     "evalue": "4 errors",
     "output_type": "error",
     "traceback": [
      "4 errors"
     ]
    }
   ],
   "source": [
    "%%px\n",
    "# executed in every engine's namespace\n",
    "def missing(s):\n",
    "    return f'Identifier \\'{s}\\' not found in this namespace'\n",
    "assert 'a'    in globals(), missing('a')\n",
    "assert 'sqrt' in globals(), missing('sqrt')\n",
    "print(f'a == {a}')"
   ]
  },
  {
   "cell_type": "markdown",
   "id": "dda3ad14-fb11-4135-aaa7-97d66bf54846",
   "metadata": {
    "slideshow": {
     "slide_type": "notes"
    },
    "tags": []
   },
   "source": [
    "+ ... because the individiual engines do not have the identifiers `a` and `sqrt` in their respective namespaces.\n",
    "+ Observe each engine displays the exception; the results appear in non-deterministic order.\n",
    "  + This is a common feature of parallel programs."
   ]
  },
  {
   "cell_type": "markdown",
   "id": "a10f7276-7b03-4cf6-a502-5aa68f4b9889",
   "metadata": {
    "slideshow": {
     "slide_type": "skip"
    },
    "tags": []
   },
   "source": [
    "---"
   ]
  },
  {
   "cell_type": "code",
   "execution_count": 5,
   "id": "c0f62a1e-ac6a-4880-ac7b-c26844ab305a",
   "metadata": {
    "slideshow": {
     "slide_type": "subslide"
    },
    "tags": []
   },
   "outputs": [],
   "source": [
    "%%px\n",
    "# This *entire* cell executes in every engine's namespace\n",
    "from numpy import sqrt\n",
    "assert 'sqrt' in globals(), \"Identifier 'sqrt' not found in this namespace\"\n",
    "b = sqrt(list(range(3)))\n",
    "assert 'b' in globals(), \"Identifier 'b' not found in this namespace\""
   ]
  },
  {
   "cell_type": "markdown",
   "id": "b8cbcea2",
   "metadata": {
    "slideshow": {
     "slide_type": "-"
    }
   },
   "source": [
    "+ Above executes (without output) on all engines.\n",
    "+ It defines the identifiers `b` and `sqrt` on all 4 engines.\n",
    "+ Again, these two `assert` statements execute without raising exceptions."
   ]
  },
  {
   "cell_type": "markdown",
   "id": "1405917c-fe86-4983-ae71-1ef9f4cd4b7b",
   "metadata": {
    "slideshow": {
     "slide_type": "skip"
    },
    "tags": []
   },
   "source": [
    "---"
   ]
  },
  {
   "cell_type": "code",
   "execution_count": 6,
   "id": "d44b2c8c-211f-40b7-ae4b-9cfb3f40ee83",
   "metadata": {
    "slideshow": {
     "slide_type": "subslide"
    },
    "tags": []
   },
   "outputs": [
    {
     "data": {
      "text/plain": [
       "[stdout:1] b\t missing\t sqrt\t \n"
      ]
     },
     "metadata": {},
     "output_type": "display_data"
    },
    {
     "data": {
      "text/plain": [
       "[stdout:0] b\t missing\t sqrt\t \n"
      ]
     },
     "metadata": {},
     "output_type": "display_data"
    },
    {
     "data": {
      "text/plain": [
       "[stdout:2] b\t missing\t sqrt\t \n"
      ]
     },
     "metadata": {},
     "output_type": "display_data"
    },
    {
     "data": {
      "text/plain": [
       "[stdout:3] b\t missing\t sqrt\t \n"
      ]
     },
     "metadata": {},
     "output_type": "display_data"
    }
   ],
   "source": [
    "# This *line* executes in each engine's namespace\n",
    "%px %who"
   ]
  },
  {
   "cell_type": "markdown",
   "id": "42bce00c-5f0d-4593-a976-5d7e746f72ac",
   "metadata": {
    "slideshow": {
     "slide_type": "skip"
    },
    "tags": []
   },
   "source": [
    "---"
   ]
  },
  {
   "cell_type": "markdown",
   "id": "f21ab172-ae3e-45d9-a891-a0cb78f74f7c",
   "metadata": {
    "slideshow": {
     "slide_type": "notes"
    },
    "tags": []
   },
   "source": [
    "+ Trying again, we'll use the `%px` line magic to execute `%who` on all engines; each prints to *standard output*.\n",
    "+ The same data exists in each engine's namespace: the function `numpy.sqrt`, and the object labelled `b`\n",
    "+ Notice all the assertions pass.\n",
    "+ Again, the *standard output* appears in non-deterministic order."
   ]
  },
  {
   "cell_type": "markdown",
   "id": "f9ae304f-8f6c-4325-a0e3-f18fc369b2c0",
   "metadata": {
    "slideshow": {
     "slide_type": "skip"
    },
    "tags": []
   },
   "source": [
    "---"
   ]
  },
  {
   "cell_type": "code",
   "execution_count": 7,
   "id": "bebb1709-ae6c-4c85-bc22-815aaf32d018",
   "metadata": {
    "slideshow": {
     "slide_type": "subslide"
    },
    "tags": []
   },
   "outputs": [
    {
     "data": {
      "text/plain": [
       "[stdout:0] \tValue of b: [0.         1.         1.41421356]\n"
      ]
     },
     "metadata": {},
     "output_type": "display_data"
    },
    {
     "data": {
      "text/plain": [
       "[stdout:1] \tValue of b: [0.         1.         1.41421356]\n"
      ]
     },
     "metadata": {},
     "output_type": "display_data"
    },
    {
     "data": {
      "text/plain": [
       "[stdout:2] \tValue of b: [0.         1.         1.41421356]\n"
      ]
     },
     "metadata": {},
     "output_type": "display_data"
    },
    {
     "data": {
      "text/plain": [
       "[stdout:3] \tValue of b: [0.         1.         1.41421356]\n"
      ]
     },
     "metadata": {},
     "output_type": "display_data"
    },
    {
     "name": "stdout",
     "output_type": "stream",
     "text": [
      "\n",
      "\n",
      "Main kernel namespace: sqrt(a) == 2.0\n"
     ]
    }
   ],
   "source": [
    "%px print(f'\\tValue of b: {b}')   # <- All engines\n",
    "main_str = '\\n\\nMain kernel namespace'     # <- Main kernel\n",
    "print(f'{main_str}: sqrt(a) == {sqrt(a)}') # <- Main kernel"
   ]
  },
  {
   "cell_type": "markdown",
   "id": "b8c58048-6039-484a-9ff3-09cfaad26813",
   "metadata": {
    "slideshow": {
     "slide_type": "notes"
    },
    "tags": []
   },
   "source": [
    "+ This cell executes a `print` statement on each engine and a different one on the main Jupyter kernel.\n",
    "+ Notice the same data—a vector with entries 0, 1, & square root of 2—has been computed on each engine.\n",
    "+ The last two lines of the cell—those that lack a `%px` magic—execute in the Jupyter kernel namespace.\n",
    "+ They compute & print the square root of 4."
   ]
  },
  {
   "cell_type": "markdown",
   "id": "8b6c7f42-d55f-4996-b2dc-6183a00a75e3",
   "metadata": {
    "slideshow": {
     "slide_type": "skip"
    },
    "tags": []
   },
   "source": [
    "---"
   ]
  },
  {
   "cell_type": "markdown",
   "id": "89b7c3a8",
   "metadata": {
    "slideshow": {
     "slide_type": "subslide"
    },
    "tags": []
   },
   "source": [
    "```python\n",
    "# This produces an error in Jupyter kernel namespace\n",
    "b = sqrt(list(range(5))) # math.sqrt != np.sqrt\n",
    "```\n",
    "\n",
    "+ Expect `TypeError` when executed..."
   ]
  },
  {
   "cell_type": "markdown",
   "id": "3d5285c7-988e-4ba4-bbf2-82a374077c41",
   "metadata": {
    "slideshow": {
     "slide_type": "notes"
    },
    "tags": []
   },
   "source": [
    "+ If we attempt a command intended for the engines *without* the `px` magic\n",
    "  + it executes in the Jupyter kernel.\n",
    "  + We expect this line to yield an exception\n",
    "  + (because, in this namespace has `sqrt` is `math.sqrt`)"
   ]
  },
  {
   "cell_type": "markdown",
   "id": "f4e3d914-8b4e-43b9-9a5c-8ef9f4719903",
   "metadata": {
    "slideshow": {
     "slide_type": "skip"
    },
    "tags": []
   },
   "source": [
    "---"
   ]
  },
  {
   "cell_type": "code",
   "execution_count": 8,
   "id": "6783832a-525d-4078-ae85-7820d2da103e",
   "metadata": {
    "slideshow": {
     "slide_type": "subslide"
    },
    "tags": []
   },
   "outputs": [
    {
     "ename": "TypeError",
     "evalue": "must be real number, not list",
     "output_type": "error",
     "traceback": [
      "\u001b[0;31m---------------------------------------------------------------------------\u001b[0m",
      "\u001b[0;31mTypeError\u001b[0m                                 Traceback (most recent call last)",
      "Input \u001b[0;32mIn [8]\u001b[0m, in \u001b[0;36m<cell line: 2>\u001b[0;34m()\u001b[0m\n\u001b[1;32m      1\u001b[0m \u001b[38;5;66;03m# This produces an error in Jupyter kernel namespace\u001b[39;00m\n\u001b[0;32m----> 2\u001b[0m b \u001b[38;5;241m=\u001b[39m \u001b[43msqrt\u001b[49m\u001b[43m(\u001b[49m\u001b[38;5;28;43mlist\u001b[39;49m\u001b[43m(\u001b[49m\u001b[38;5;28;43mrange\u001b[39;49m\u001b[43m(\u001b[49m\u001b[38;5;241;43m5\u001b[39;49m\u001b[43m)\u001b[49m\u001b[43m)\u001b[49m\u001b[43m)\u001b[49m\n",
      "\u001b[0;31mTypeError\u001b[0m: must be real number, not list"
     ]
    }
   ],
   "source": [
    "# This produces an error in Jupyter kernel namespace\n",
    "b = sqrt(list(range(5))) # math.sqrt != np.sqrt"
   ]
  },
  {
   "cell_type": "markdown",
   "id": "ba4d4280-e1ef-4a10-8bbe-d90e15252dc8",
   "metadata": {
    "slideshow": {
     "slide_type": "notes"
    },
    "tags": []
   },
   "source": [
    "+ In this instance, the function `math.sqrt` cannot accept an iterable list as input (unlike `numpy.sqrt`).\n",
    "+ The moral here is to make sure we know which namespace our code is meant to execute in."
   ]
  },
  {
   "cell_type": "markdown",
   "id": "34b564bd-9357-4618-97a8-c0ddee9e8b93",
   "metadata": {
    "slideshow": {
     "slide_type": "skip"
    },
    "tags": []
   },
   "source": [
    "---"
   ]
  },
  {
   "cell_type": "markdown",
   "id": "5b1f3d02-9725-447d-95d6-dcfefdcc80cd",
   "metadata": {
    "slideshow": {
     "slide_type": "subslide"
    },
    "tags": []
   },
   "source": [
    "How is all this useful?"
   ]
  },
  {
   "cell_type": "markdown",
   "id": "0a5f5255-9687-4d99-9851-34eaf13b651b",
   "metadata": {
    "slideshow": {
     "slide_type": "fragment"
    },
    "tags": []
   },
   "source": [
    "+ `bodo.get_rank` $\\mapsto$ numeric identifier of engine\n",
    "+ `bodo.get_size` $\\mapsto$ total number of engines"
   ]
  },
  {
   "cell_type": "markdown",
   "id": "908f54e6",
   "metadata": {
    "slideshow": {
     "slide_type": "skip"
    },
    "tags": []
   },
   "source": [
    "---"
   ]
  },
  {
   "cell_type": "markdown",
   "id": "1c9e298f-083a-4733-924b-2466a6ae0aae",
   "metadata": {
    "slideshow": {
     "slide_type": "notes"
    },
    "tags": []
   },
   "source": [
    "+ Okay, so we can execute lines of code on different engines. So what?\n",
    "+ Well, if we can *identify* distinct engines, we can *distribute* different data & have each engine do different work *concurrently*.\n",
    "---\n",
    "+ Borrowing from the *Message Passing Interface* (*MPI*), the functions `bodo.get_size` & `bodo.get_rank` permit engines to assess at run-time:\n",
    "  + how many engines are available; and\n",
    "  + which engine is executing this line of code.\n",
    "+ By convention, Engine 0 is referred to as `root`."
   ]
  },
  {
   "cell_type": "markdown",
   "id": "b0d92f56-27a2-4e60-b164-a13a77b01910",
   "metadata": {
    "slideshow": {
     "slide_type": "skip"
    },
    "tags": []
   },
   "source": [
    "---"
   ]
  },
  {
   "cell_type": "code",
   "execution_count": 9,
   "id": "fecd6e9d-0b60-4260-a1c9-bb239234ddca",
   "metadata": {
    "slideshow": {
     "slide_type": "subslide"
    },
    "tags": []
   },
   "outputs": [
    {
     "data": {
      "text/plain": [
       "[stdout:3] \tThis is Engine #03 of  4 Engines\n"
      ]
     },
     "metadata": {},
     "output_type": "display_data"
    },
    {
     "data": {
      "text/plain": [
       "[stdout:2] \tThis is Engine #02 of  4 Engines\n"
      ]
     },
     "metadata": {},
     "output_type": "display_data"
    },
    {
     "data": {
      "text/plain": [
       "[stdout:0] \tThis is Engine #00 of  4 Engines\n"
      ]
     },
     "metadata": {},
     "output_type": "display_data"
    },
    {
     "data": {
      "text/plain": [
       "[stdout:1] \tThis is Engine #01 of  4 Engines\n"
      ]
     },
     "metadata": {},
     "output_type": "display_data"
    }
   ],
   "source": [
    "%%px\n",
    "import bodo, pandas as pd, numpy as np\n",
    "# Illustrates querying ID number by each engine\n",
    "print(f'\\tThis is Engine #{bodo.get_rank():02d} of {bodo.get_size():2d} Engines')"
   ]
  },
  {
   "cell_type": "markdown",
   "id": "25eaadd6-ffba-4cdd-bfd2-6fd3d2255a0d",
   "metadata": {
    "slideshow": {
     "slide_type": "notes"
    },
    "tags": []
   },
   "source": [
    "+ As an example, let's run `bodo.get_rank` on each engine and print the result.\n",
    "+ Again, this cell uses the `px` cell magic to execute all lines on all engines\n",
    "  + The `bodo` module is imported on each engine (along with NumPy & Pandas).\n",
    "  + Each engine prints its rank—from 0 to 3 here—and the total number of engines.\n",
    "  + The sequence of outputs is nondeterministic & hence not ordered by engine rank."
   ]
  },
  {
   "cell_type": "markdown",
   "id": "74d2bd5e-2618-4bb0-ae2a-3e036e5a0106",
   "metadata": {
    "slideshow": {
     "slide_type": "skip"
    },
    "tags": []
   },
   "source": [
    "---"
   ]
  },
  {
   "cell_type": "code",
   "execution_count": 10,
   "id": "7a029491",
   "metadata": {
    "slideshow": {
     "slide_type": "subslide"
    }
   },
   "outputs": [],
   "source": [
    "import pandas as pd\n",
    "DATA_ROOT = 'bodo-examples-data/bodo-training-fundamentals/DATA'\n",
    "DATA_SRC = f's3://{DATA_ROOT}/CSV/samples_001.csv'\n",
    "loading_opts = dict(storage_options=dict(anon=True))\n",
    "df = pd.read_csv(DATA_SRC, **loading_opts, nrows=8)"
   ]
  },
  {
   "cell_type": "markdown",
   "id": "fd76bfa6-8d25-439b-9314-3bb6ca95ee78",
   "metadata": {
    "slideshow": {
     "slide_type": "notes"
    },
    "tags": []
   },
   "source": [
    "+ Let's try to use this in a sensible example.\n",
    "+ We'll lay out code to  read a single CSV file from the S3 bucket.\n",
    "+ Remember, without any `px` magics, this cell executes in the main Jupyter notebook kernel."
   ]
  },
  {
   "cell_type": "markdown",
   "id": "23779dc1-2fc8-47cc-add7-f1b1d11bb1db",
   "metadata": {
    "slideshow": {
     "slide_type": "skip"
    },
    "tags": []
   },
   "source": [
    "---"
   ]
  },
  {
   "cell_type": "code",
   "execution_count": 11,
   "id": "08d75541",
   "metadata": {
    "slideshow": {
     "slide_type": "subslide"
    }
   },
   "outputs": [
    {
     "data": {
      "text/html": [
       "<div>\n",
       "<style scoped>\n",
       "    .dataframe tbody tr th:only-of-type {\n",
       "        vertical-align: middle;\n",
       "    }\n",
       "\n",
       "    .dataframe tbody tr th {\n",
       "        vertical-align: top;\n",
       "    }\n",
       "\n",
       "    .dataframe thead th {\n",
       "        text-align: right;\n",
       "    }\n",
       "</style>\n",
       "<table border=\"1\" class=\"dataframe\">\n",
       "  <thead>\n",
       "    <tr style=\"text-align: right;\">\n",
       "      <th></th>\n",
       "      <th>0</th>\n",
       "      <th>1</th>\n",
       "      <th>2</th>\n",
       "      <th>3</th>\n",
       "      <th>4</th>\n",
       "      <th>5</th>\n",
       "      <th>6</th>\n",
       "      <th>7</th>\n",
       "    </tr>\n",
       "  </thead>\n",
       "  <tbody>\n",
       "    <tr>\n",
       "      <th>Name</th>\n",
       "      <td>Tomas Talley</td>\n",
       "      <td>Paulene Greer</td>\n",
       "      <td>Barrett Mccray</td>\n",
       "      <td>Cammie Adkins</td>\n",
       "      <td>Breann Moses</td>\n",
       "      <td>Joey O'neal</td>\n",
       "      <td>Mellie Martin</td>\n",
       "      <td>Edwardo Fischer</td>\n",
       "    </tr>\n",
       "  </tbody>\n",
       "</table>\n",
       "</div>"
      ],
      "text/plain": [
       "                 0              1               2              3  \\\n",
       "Name  Tomas Talley  Paulene Greer  Barrett Mccray  Cammie Adkins   \n",
       "\n",
       "                 4            5              6                7  \n",
       "Name  Breann Moses  Joey O'neal  Mellie Martin  Edwardo Fischer  "
      ]
     },
     "execution_count": 11,
     "metadata": {},
     "output_type": "execute_result"
    }
   ],
   "source": [
    "df[['Name']].transpose() # view 1st 8 Names in sequence"
   ]
  },
  {
   "cell_type": "markdown",
   "id": "e9147d60-7b22-453c-ba9c-d0e29ca2f98c",
   "metadata": {
    "slideshow": {
     "slide_type": "notes"
    },
    "tags": []
   },
   "source": [
    "+ We look at the `Name` column (in a transposed view) from this DataFrame.\n",
    "+ This shows names in sequence from all 8 rows of this DataFrame."
   ]
  },
  {
   "cell_type": "markdown",
   "id": "9a445418-a4f6-476b-aa46-443a0c035718",
   "metadata": {
    "slideshow": {
     "slide_type": "skip"
    },
    "tags": []
   },
   "source": [
    "---"
   ]
  },
  {
   "cell_type": "code",
   "execution_count": 12,
   "id": "b901da8a",
   "metadata": {
    "slideshow": {
     "slide_type": "subslide"
    },
    "tags": []
   },
   "outputs": [],
   "source": [
    "%%px\n",
    "DATA_ROOT = 'bodo-examples-data/bodo-training-fundamentals/DATA'\n",
    "DATA_SRC = f's3://{DATA_ROOT}/CSV/samples_001.csv'\n",
    "loading_opts = dict(storage_options=dict(anon=True))"
   ]
  },
  {
   "cell_type": "markdown",
   "id": "ea8d00bc-4960-43ef-a830-f303b919455e",
   "metadata": {
    "slideshow": {
     "slide_type": "notes"
    },
    "tags": []
   },
   "source": [
    "+ Let's repeat this idea on each engine.\n",
    "+ We need to define the `DATA_SRC` & loading options again."
   ]
  },
  {
   "cell_type": "markdown",
   "id": "0435c93b-b298-4237-bfc6-45e1754e693f",
   "metadata": {
    "slideshow": {
     "slide_type": "skip"
    },
    "tags": []
   },
   "source": [
    "---"
   ]
  },
  {
   "cell_type": "code",
   "execution_count": 13,
   "id": "b04d8f6e-7c19-4744-b44d-f4ea97f033a3",
   "metadata": {
    "slideshow": {
     "slide_type": "subslide"
    },
    "tags": []
   },
   "outputs": [
    {
     "data": {
      "text/plain": [
       "[stdout:3] 3 [1, 2, 3, 4, 5, 6]\n"
      ]
     },
     "metadata": {},
     "output_type": "display_data"
    },
    {
     "data": {
      "text/plain": [
       "[stdout:0] 0 []\n"
      ]
     },
     "metadata": {},
     "output_type": "display_data"
    },
    {
     "data": {
      "text/plain": [
       "[stdout:1] 1 [1, 2]\n"
      ]
     },
     "metadata": {},
     "output_type": "display_data"
    },
    {
     "data": {
      "text/plain": [
       "[stdout:2] 2 [1, 2, 3, 4]\n"
      ]
     },
     "metadata": {},
     "output_type": "display_data"
    }
   ],
   "source": [
    "%%px\n",
    "chunk_size = 2\n",
    "my_rank = bodo.get_rank()\n",
    "skiprows = range(1, my_rank*chunk_size + 1)\n",
    "print(my_rank, list(skiprows))"
   ]
  },
  {
   "cell_type": "markdown",
   "id": "fcc108b6-d86c-423b-997d-c098ef5124f2",
   "metadata": {
    "slideshow": {
     "slide_type": "notes"
    },
    "tags": []
   },
   "source": [
    "+ We'll define something called the `chunk_size`, the number of rows to read on each engine.\n",
    "+ `my_rank` is the identifier of each engine...\n",
    "+ ... and `skiprows` is an iterable range telling which rows each engine will skip when reading the CSV file.\n",
    "+ We can print these out (as lists) to see what they are."
   ]
  },
  {
   "cell_type": "markdown",
   "id": "691cee03-f8e9-4d4a-b726-6a10fdd97e0e",
   "metadata": {
    "slideshow": {
     "slide_type": "skip"
    },
    "tags": []
   },
   "source": [
    "---"
   ]
  },
  {
   "cell_type": "code",
   "execution_count": 14,
   "id": "c2561a27-f6c2-45d3-9335-a2a3b26e28ec",
   "metadata": {
    "slideshow": {
     "slide_type": "subslide"
    },
    "tags": []
   },
   "outputs": [
    {
     "name": "stdout",
     "output_type": "stream",
     "text": [
      "%px: 100%|█████████████████████████████████████| 4/4 [00:05<00:00,  1.35s/tasks]\n"
     ]
    }
   ],
   "source": [
    "%%px\n",
    "df = pd.read_csv(DATA_SRC,\n",
    "                 header=[0],\n",
    "                 skiprows=skiprows,\n",
    "                 nrows=chunk_size,\n",
    "                 **loading_opts)"
   ]
  },
  {
   "cell_type": "markdown",
   "id": "a30962ff",
   "metadata": {
    "slideshow": {
     "slide_type": "notes"
    },
    "tags": []
   },
   "source": [
    "+ To apply the preceding ideas in practice, we can, for instance, assign distinct chunks of a dataset to different engines.\n",
    "+ We'll have each engine read a chunk of 2 lines from a CSV file.\n",
    "+ Each engine needs to use its rank to determine the number of rows to skip (as given in `skip_rows`).\n",
    "+ When we execute `read_csv` with the `px` cell magic—and suitable parsing options—each engine reads its own portion of the file."
   ]
  },
  {
   "cell_type": "code",
   "execution_count": 15,
   "id": "e093e6eb",
   "metadata": {
    "slideshow": {
     "slide_type": "subslide"
    }
   },
   "outputs": [
    {
     "data": {
      "text/plain": [
       "[output:0]"
      ]
     },
     "metadata": {},
     "output_type": "display_data"
    },
    {
     "data": {
      "text/html": [
       "<div>\n",
       "<style scoped>\n",
       "    .dataframe tbody tr th:only-of-type {\n",
       "        vertical-align: middle;\n",
       "    }\n",
       "\n",
       "    .dataframe tbody tr th {\n",
       "        vertical-align: top;\n",
       "    }\n",
       "\n",
       "    .dataframe thead th {\n",
       "        text-align: right;\n",
       "    }\n",
       "</style>\n",
       "<table border=\"1\" class=\"dataframe\">\n",
       "  <thead>\n",
       "    <tr style=\"text-align: right;\">\n",
       "      <th></th>\n",
       "      <th>Name</th>\n",
       "      <th>Age</th>\n",
       "      <th>Purchase_Date</th>\n",
       "      <th>Purchase_Amount</th>\n",
       "      <th>Product</th>\n",
       "      <th>Product_Review</th>\n",
       "    </tr>\n",
       "  </thead>\n",
       "  <tbody>\n",
       "    <tr>\n",
       "      <th>0</th>\n",
       "      <td>Tomas Talley</td>\n",
       "      <td>49</td>\n",
       "      <td>1994-12-09 13:50:37</td>\n",
       "      <td>16.30</td>\n",
       "      <td>Health</td>\n",
       "      <td>NaN</td>\n",
       "    </tr>\n",
       "    <tr>\n",
       "      <th>1</th>\n",
       "      <td>Paulene Greer</td>\n",
       "      <td>31</td>\n",
       "      <td>2004-06-05 14:43:15</td>\n",
       "      <td>129.76</td>\n",
       "      <td>Sporting-Goods</td>\n",
       "      <td>Good : Any element of a tuple can be accessed ...</td>\n",
       "    </tr>\n",
       "  </tbody>\n",
       "</table>\n",
       "</div>"
      ],
      "text/plain": [
       "            Name  Age        Purchase_Date  Purchase_Amount         Product  \\\n",
       "0   Tomas Talley   49  1994-12-09 13:50:37            16.30          Health   \n",
       "1  Paulene Greer   31  2004-06-05 14:43:15           129.76  Sporting-Goods   \n",
       "\n",
       "                                      Product_Review  \n",
       "0                                                NaN  \n",
       "1  Good : Any element of a tuple can be accessed ...  "
      ]
     },
     "metadata": {
      "engine": 0
     },
     "output_type": "display_data"
    }
   ],
   "source": [
    "%%px\n",
    "if my_rank==0:\n",
    "    display(df)"
   ]
  },
  {
   "cell_type": "markdown",
   "id": "b18d1408-00f5-4290-9d10-c4e4a81d4660",
   "metadata": {
    "slideshow": {
     "slide_type": "notes"
    },
    "tags": []
   },
   "source": [
    "+ We can display the data stored on each engine.\n",
    "+ So on engine 0, you can see the first two rows from the original DataFrame..."
   ]
  },
  {
   "cell_type": "markdown",
   "id": "945ba621-6f73-47fa-9437-2c3c1470dd80",
   "metadata": {
    "slideshow": {
     "slide_type": "skip"
    },
    "tags": []
   },
   "source": [
    "---"
   ]
  },
  {
   "cell_type": "code",
   "execution_count": 16,
   "id": "40206b26",
   "metadata": {
    "slideshow": {
     "slide_type": "subslide"
    }
   },
   "outputs": [
    {
     "data": {
      "text/plain": [
       "[output:1]"
      ]
     },
     "metadata": {},
     "output_type": "display_data"
    },
    {
     "data": {
      "text/html": [
       "<div>\n",
       "<style scoped>\n",
       "    .dataframe tbody tr th:only-of-type {\n",
       "        vertical-align: middle;\n",
       "    }\n",
       "\n",
       "    .dataframe tbody tr th {\n",
       "        vertical-align: top;\n",
       "    }\n",
       "\n",
       "    .dataframe thead th {\n",
       "        text-align: right;\n",
       "    }\n",
       "</style>\n",
       "<table border=\"1\" class=\"dataframe\">\n",
       "  <thead>\n",
       "    <tr style=\"text-align: right;\">\n",
       "      <th></th>\n",
       "      <th>Name</th>\n",
       "      <th>Age</th>\n",
       "      <th>Purchase_Date</th>\n",
       "      <th>Purchase_Amount</th>\n",
       "      <th>Product</th>\n",
       "      <th>Product_Review</th>\n",
       "    </tr>\n",
       "  </thead>\n",
       "  <tbody>\n",
       "    <tr>\n",
       "      <th>0</th>\n",
       "      <td>Barrett Mccray</td>\n",
       "      <td>69</td>\n",
       "      <td>1990-04-06 18:35:10</td>\n",
       "      <td>85.19</td>\n",
       "      <td>Electronics</td>\n",
       "      <td>Fine : I don't even care.</td>\n",
       "    </tr>\n",
       "    <tr>\n",
       "      <th>1</th>\n",
       "      <td>Cammie Adkins</td>\n",
       "      <td>57</td>\n",
       "      <td>2020-07-17 14:25:20</td>\n",
       "      <td>101.17</td>\n",
       "      <td>Electronics</td>\n",
       "      <td>Good : He looked inquisitively at his keyboard...</td>\n",
       "    </tr>\n",
       "  </tbody>\n",
       "</table>\n",
       "</div>"
      ],
      "text/plain": [
       "             Name  Age        Purchase_Date  Purchase_Amount      Product  \\\n",
       "0  Barrett Mccray   69  1990-04-06 18:35:10            85.19  Electronics   \n",
       "1   Cammie Adkins   57  2020-07-17 14:25:20           101.17  Electronics   \n",
       "\n",
       "                                      Product_Review  \n",
       "0                          Fine : I don't even care.  \n",
       "1  Good : He looked inquisitively at his keyboard...  "
      ]
     },
     "metadata": {
      "engine": 1
     },
     "output_type": "display_data"
    }
   ],
   "source": [
    "%%px\n",
    "if my_rank==1:\n",
    "    display(df)"
   ]
  },
  {
   "cell_type": "markdown",
   "id": "0668a60d-fae5-4431-b939-6ac90e9a9be3",
   "metadata": {
    "slideshow": {
     "slide_type": "notes"
    },
    "tags": []
   },
   "source": [
    "+ ...on engine 1, you see the 3rd & 4th rows..."
   ]
  },
  {
   "cell_type": "markdown",
   "id": "b9e0ac0f-bad9-4af0-965c-4b150c68d785",
   "metadata": {
    "slideshow": {
     "slide_type": "skip"
    },
    "tags": []
   },
   "source": [
    "---"
   ]
  },
  {
   "cell_type": "code",
   "execution_count": 17,
   "id": "450448a6",
   "metadata": {
    "slideshow": {
     "slide_type": "subslide"
    }
   },
   "outputs": [
    {
     "data": {
      "text/plain": [
       "[output:2]"
      ]
     },
     "metadata": {},
     "output_type": "display_data"
    },
    {
     "data": {
      "text/html": [
       "<div>\n",
       "<style scoped>\n",
       "    .dataframe tbody tr th:only-of-type {\n",
       "        vertical-align: middle;\n",
       "    }\n",
       "\n",
       "    .dataframe tbody tr th {\n",
       "        vertical-align: top;\n",
       "    }\n",
       "\n",
       "    .dataframe thead th {\n",
       "        text-align: right;\n",
       "    }\n",
       "</style>\n",
       "<table border=\"1\" class=\"dataframe\">\n",
       "  <thead>\n",
       "    <tr style=\"text-align: right;\">\n",
       "      <th></th>\n",
       "      <th>Name</th>\n",
       "      <th>Age</th>\n",
       "      <th>Purchase_Date</th>\n",
       "      <th>Purchase_Amount</th>\n",
       "      <th>Product</th>\n",
       "      <th>Product_Review</th>\n",
       "    </tr>\n",
       "  </thead>\n",
       "  <tbody>\n",
       "    <tr>\n",
       "      <th>0</th>\n",
       "      <td>Breann Moses</td>\n",
       "      <td>59.0</td>\n",
       "      <td>2003-03-16 17:18:02</td>\n",
       "      <td>7.49</td>\n",
       "      <td>Food</td>\n",
       "      <td>Good : Where are my pants?</td>\n",
       "    </tr>\n",
       "    <tr>\n",
       "      <th>1</th>\n",
       "      <td>Joey O'neal</td>\n",
       "      <td>NaN</td>\n",
       "      <td>2021-11-21 14:54:29</td>\n",
       "      <td>40.50</td>\n",
       "      <td>Toys</td>\n",
       "      <td>Terrible : He looked inquisitively at his keyb...</td>\n",
       "    </tr>\n",
       "  </tbody>\n",
       "</table>\n",
       "</div>"
      ],
      "text/plain": [
       "           Name   Age        Purchase_Date  Purchase_Amount Product  \\\n",
       "0  Breann Moses  59.0  2003-03-16 17:18:02             7.49    Food   \n",
       "1   Joey O'neal   NaN  2021-11-21 14:54:29            40.50    Toys   \n",
       "\n",
       "                                      Product_Review  \n",
       "0                         Good : Where are my pants?  \n",
       "1  Terrible : He looked inquisitively at his keyb...  "
      ]
     },
     "metadata": {
      "engine": 2
     },
     "output_type": "display_data"
    }
   ],
   "source": [
    "%%px\n",
    "if my_rank==2:\n",
    "    display(df)"
   ]
  },
  {
   "cell_type": "markdown",
   "id": "6f2598c6-c904-44a6-8795-d208f8467463",
   "metadata": {
    "slideshow": {
     "slide_type": "notes"
    },
    "tags": []
   },
   "source": [
    "+ ... on engine 2, you see the 5th & 6th rows..."
   ]
  },
  {
   "cell_type": "markdown",
   "id": "1fd6ded8-ff72-4dfd-bb57-bcca631c5498",
   "metadata": {
    "slideshow": {
     "slide_type": "skip"
    },
    "tags": []
   },
   "source": [
    "---"
   ]
  },
  {
   "cell_type": "code",
   "execution_count": 18,
   "id": "a9dd6155",
   "metadata": {
    "slideshow": {
     "slide_type": "subslide"
    }
   },
   "outputs": [
    {
     "data": {
      "text/plain": [
       "[output:3]"
      ]
     },
     "metadata": {},
     "output_type": "display_data"
    },
    {
     "data": {
      "text/html": [
       "<div>\n",
       "<style scoped>\n",
       "    .dataframe tbody tr th:only-of-type {\n",
       "        vertical-align: middle;\n",
       "    }\n",
       "\n",
       "    .dataframe tbody tr th {\n",
       "        vertical-align: top;\n",
       "    }\n",
       "\n",
       "    .dataframe thead th {\n",
       "        text-align: right;\n",
       "    }\n",
       "</style>\n",
       "<table border=\"1\" class=\"dataframe\">\n",
       "  <thead>\n",
       "    <tr style=\"text-align: right;\">\n",
       "      <th></th>\n",
       "      <th>Name</th>\n",
       "      <th>Age</th>\n",
       "      <th>Purchase_Date</th>\n",
       "      <th>Purchase_Amount</th>\n",
       "      <th>Product</th>\n",
       "      <th>Product_Review</th>\n",
       "    </tr>\n",
       "  </thead>\n",
       "  <tbody>\n",
       "    <tr>\n",
       "      <th>0</th>\n",
       "      <td>Mellie Martin</td>\n",
       "      <td>NaN</td>\n",
       "      <td>2008-08-20 14:06:02</td>\n",
       "      <td>939.31</td>\n",
       "      <td>Computers</td>\n",
       "      <td>Terrible : Ports are created with the built-in...</td>\n",
       "    </tr>\n",
       "    <tr>\n",
       "      <th>1</th>\n",
       "      <td>Edwardo Fischer</td>\n",
       "      <td>24.0</td>\n",
       "      <td>2002-12-27 14:42:21</td>\n",
       "      <td>14.44</td>\n",
       "      <td>Music</td>\n",
       "      <td>Great : Erlang is known for its designs that a...</td>\n",
       "    </tr>\n",
       "  </tbody>\n",
       "</table>\n",
       "</div>"
      ],
      "text/plain": [
       "              Name   Age        Purchase_Date  Purchase_Amount    Product  \\\n",
       "0    Mellie Martin   NaN  2008-08-20 14:06:02           939.31  Computers   \n",
       "1  Edwardo Fischer  24.0  2002-12-27 14:42:21            14.44      Music   \n",
       "\n",
       "                                      Product_Review  \n",
       "0  Terrible : Ports are created with the built-in...  \n",
       "1  Great : Erlang is known for its designs that a...  "
      ]
     },
     "metadata": {
      "engine": 3
     },
     "output_type": "display_data"
    }
   ],
   "source": [
    "%%px\n",
    "if my_rank==3:\n",
    "    display(df)"
   ]
  },
  {
   "cell_type": "markdown",
   "id": "89597f50-af26-44b0-b784-b7be52cc8a72",
   "metadata": {
    "slideshow": {
     "slide_type": "notes"
    },
    "tags": []
   },
   "source": [
    "+ ... and, finally, on engine 3, you see the 7th & 8th rows from the original DataFrame.\n",
    "+ These match the data as viewed in the 8-row DataFrame in the main Jupyter kernel."
   ]
  },
  {
   "cell_type": "markdown",
   "id": "df0c069c-124d-4cab-8a27-7146c8fdffdb",
   "metadata": {
    "slideshow": {
     "slide_type": "skip"
    },
    "tags": []
   },
   "source": [
    "---"
   ]
  },
  {
   "cell_type": "code",
   "execution_count": 19,
   "id": "617772a8-1848-4fd9-a30f-5bb095b28864",
   "metadata": {
    "slideshow": {
     "slide_type": "subslide"
    },
    "tags": []
   },
   "outputs": [
    {
     "data": {
      "text/plain": [
       "[stdout:0] The 0th partial sum is  146.06 with 2 summands.\n"
      ]
     },
     "metadata": {},
     "output_type": "display_data"
    },
    {
     "data": {
      "text/plain": [
       "[stdout:2] The 2th partial sum is   47.99 with 2 summands.\n"
      ]
     },
     "metadata": {},
     "output_type": "display_data"
    },
    {
     "data": {
      "text/plain": [
       "[stdout:1] The 1th partial sum is  186.36 with 2 summands.\n"
      ]
     },
     "metadata": {},
     "output_type": "display_data"
    },
    {
     "data": {
      "text/plain": [
       "[stdout:3] The 3th partial sum is  953.75 with 2 summands.\n"
      ]
     },
     "metadata": {},
     "output_type": "display_data"
    }
   ],
   "source": [
    "%%px\n",
    "# df pre-computed on each engine...\n",
    "partial_sum = df.Purchase_Amount.sum()\n",
    "n_partial = len(df)\n",
    "print(f'The {my_rank}th partial sum is ' +\n",
    "      f'{partial_sum:6.2f} with ' +\n",
    "      f'{n_partial} summands.')"
   ]
  },
  {
   "cell_type": "markdown",
   "id": "4bc0b49d-9660-475b-b800-3eaadd2aa9a4",
   "metadata": {
    "slideshow": {
     "slide_type": "notes"
    },
    "tags": []
   },
   "source": [
    "+ Next, we compute a partial sum & count on each engine.\n",
    "+ We can do this with standard Pandas approaches over small dataframes.\n",
    "+ For convenience, print the partial results to standard output."
   ]
  },
  {
   "cell_type": "markdown",
   "id": "3715f9c0-fca7-45c2-8b94-b6052b48aa7b",
   "metadata": {
    "slideshow": {
     "slide_type": "skip"
    },
    "tags": []
   },
   "source": [
    "---"
   ]
  },
  {
   "cell_type": "code",
   "execution_count": 20,
   "id": "6e9e457f-0cb2-4260-bf76-3500bb8fe6a6",
   "metadata": {
    "slideshow": {
     "slide_type": "subslide"
    },
    "tags": []
   },
   "outputs": [
    {
     "data": {
      "text/plain": [
       "[stdout:0] \n",
       "All partial sums:          [146.06 186.36  47.99 953.75]\n",
       "Lengths of all partitions: [2 2 2 2]\n"
      ]
     },
     "metadata": {},
     "output_type": "display_data"
    }
   ],
   "source": [
    "%%px\n",
    "sums = bodo.gatherv(np.array([partial_sum], dtype=np.float_))\n",
    "lens = bodo.gatherv(np.array([n_partial], dtype=np.int_))\n",
    "if my_rank==0:\n",
    "    print(f'\\nAll partial sums:          {sums}')\n",
    "    print(f'Lengths of all partitions: {lens}')"
   ]
  },
  {
   "cell_type": "markdown",
   "id": "f91ecfe4-a37c-4973-aa7e-0d63698375b6",
   "metadata": {
    "slideshow": {
     "slide_type": "notes"
    },
    "tags": []
   },
   "source": [
    "+ There's an additional step here; once the partial steps have been accumulated, the results need to be shared.\n",
    "+ The function `bodo.gatherv`—based on an MPI function—communicates the partial results into a NumPy array.\n",
    "+ By default, `gatherv` gathers the array on the root process (assigning `None` elsewhere)."
   ]
  },
  {
   "cell_type": "markdown",
   "id": "025af92c-126b-42b1-b7d5-0c2fbcba55d3",
   "metadata": {
    "slideshow": {
     "slide_type": "skip"
    },
    "tags": []
   },
   "source": [
    "---"
   ]
  },
  {
   "cell_type": "code",
   "execution_count": 21,
   "id": "6db0e59a-546b-4640-b7ff-86ce7be00eb2",
   "metadata": {
    "slideshow": {
     "slide_type": "subslide"
    },
    "tags": []
   },
   "outputs": [
    {
     "data": {
      "text/plain": [
       "[stdout:0] \n",
       "The mean purchase is 166.77.\n"
      ]
     },
     "metadata": {},
     "output_type": "display_data"
    }
   ],
   "source": [
    "%%px\n",
    "if my_rank==0:\n",
    "    mean = sum(sums) / sum(lens)\n",
    "    print(f'\\nThe mean purchase is {mean:.2f}.')"
   ]
  },
  {
   "cell_type": "markdown",
   "id": "e1cea466",
   "metadata": {
    "slideshow": {
     "slide_type": "notes"
    },
    "tags": []
   },
   "source": [
    "+ The last part of the program is to compute the general mean from the partial sums and counts.\n",
    "+ This pattern—printing to standard output only on the root node—is common in SPMD programs."
   ]
  },
  {
   "cell_type": "markdown",
   "id": "6b7487df-eb17-46b1-ba60-3acaa6d6d5d9",
   "metadata": {
    "slideshow": {
     "slide_type": "skip"
    },
    "tags": []
   },
   "source": [
    "---"
   ]
  },
  {
   "cell_type": "code",
   "execution_count": 22,
   "id": "7a6184d1-76ff-4101-917c-7fbd43493737",
   "metadata": {
    "slideshow": {
     "slide_type": "subslide"
    },
    "tags": []
   },
   "outputs": [
    {
     "name": "stdout",
     "output_type": "stream",
     "text": [
      "%px: 100%|█████████████████████████████████████| 4/4 [02:01<00:00, 30.29s/tasks]\n"
     ]
    }
   ],
   "source": [
    "%%px\n",
    "# Generalize to compute on an entire file of 1,000,000\n",
    "DATA_SRC = f's3://{DATA_ROOT}/CSV/samples_001.csv'\n",
    "chunk_size = 1_000_000 // bodo.get_size()\n",
    "my_rank = bodo.get_rank()\n",
    "skiprows = range(1, my_rank*chunk_size + 1)\n",
    "df = pd.read_csv(DATA_SRC,\n",
    "                 header=[0],\n",
    "                 skiprows=skiprows,\n",
    "                 nrows=chunk_size,\n",
    "                 **loading_opts)\n",
    "partial_sum = df.Purchase_Amount.sum()\n",
    "n_partial = len(df)\n",
    "sums = bodo.gatherv(np.array([partial_sum], dtype=np.float_))\n",
    "lens = bodo.gatherv(np.array([n_partial], dtype=np.int_))"
   ]
  },
  {
   "cell_type": "markdown",
   "id": "108afdf4-166a-44cf-b8c8-616e60ccf38e",
   "metadata": {
    "slideshow": {
     "slide_type": "notes"
    },
    "tags": []
   },
   "source": [
    "+ The preceding cells can be generalised to read the full one million rows from the CSV file into chunks on each engine.\n",
    "+ This is a more general SPMD program that uses the size of the data & the number of engines to work out how to distribute the data.\n",
    "+ Once the chunks are loaded onto each engine, the relevant partial sums can be computed on each concurrently.\n",
    "+ The partial sums and chunk_sizes need to be gathered onto the root engine for the last step..."
   ]
  },
  {
   "cell_type": "markdown",
   "id": "72c72f76-19d9-4c03-acd4-c0003db48162",
   "metadata": {
    "slideshow": {
     "slide_type": "skip"
    },
    "tags": []
   },
   "source": [
    "---"
   ]
  },
  {
   "cell_type": "code",
   "execution_count": 23,
   "id": "a98576ce-0ded-42c1-8c7f-02e5840656b4",
   "metadata": {
    "slideshow": {
     "slide_type": "subslide"
    },
    "tags": []
   },
   "outputs": [
    {
     "data": {
      "text/plain": [
       "[stdout:0] The mean purchase is 223.45.\n"
      ]
     },
     "metadata": {},
     "output_type": "display_data"
    }
   ],
   "source": [
    "%%px\n",
    "if my_rank==0:\n",
    "    mean = sum(sums) / sum(lens)\n",
    "    print(f'The mean purchase is {mean:.2f}.')"
   ]
  },
  {
   "cell_type": "markdown",
   "id": "0177451d-7398-4dae-9ce6-10c5489582f8",
   "metadata": {
    "slideshow": {
     "slide_type": "notes"
    },
    "tags": []
   },
   "source": [
    "+ ...which is computing the actual mean and printing it out on the root engine.\n",
    "+ The preceding logic generalises to allow the computation with a larger dataset\n",
    "  + e.g., a million rows—to be split amongst our engines.\n",
    "+ Size of chunks to read can be tricky to balance among the engines.\n",
    "---\n",
    "+ This is a standard SPMD style of writing programs in MPI with ipyparallel.\n",
    "+ The book-keeping is tedious but not difficult."
   ]
  },
  {
   "cell_type": "markdown",
   "id": "ad178e08-3aca-4579-9ef9-efc1feca1a5f",
   "metadata": {
    "slideshow": {
     "slide_type": "skip"
    },
    "tags": []
   },
   "source": [
    "---"
   ]
  },
  {
   "cell_type": "code",
   "execution_count": 24,
   "id": "2a8b9442-61b6-41be-bf13-fe6b7ff584ee",
   "metadata": {
    "slideshow": {
     "slide_type": "subslide"
    },
    "tags": []
   },
   "outputs": [],
   "source": [
    "%%px\n",
    "@bodo.jit\n",
    "def compute_mean_bodo():\n",
    "    DATA_ROOT = 'bodo-examples-data/bodo-training-fundamentals/DATA'\n",
    "    DATA_SRC = f's3://{DATA_ROOT}/CSV/samples_001.csv'\n",
    "    df = pd.read_csv(DATA_SRC)\n",
    "    m = df.Purchase_Amount.mean()\n",
    "    return m"
   ]
  },
  {
   "cell_type": "markdown",
   "id": "679aa2c4-fd03-49c7-becd-44fe3582248b",
   "metadata": {
    "slideshow": {
     "slide_type": "notes"
    },
    "tags": []
   },
   "source": [
    "+ Bodo provides a more elegant solution.\n",
    "+ We start by writing a function—say, `compute_mean_bodo`—as we would write it for the single-processor case.\n",
    "+ Then we apply the `bodo.jit` decorator.\n",
    "+ Remember, we need the `%%px` cell magic to ensure this is defined on all engines."
   ]
  },
  {
   "cell_type": "markdown",
   "id": "e951eee9-b19f-44d6-9ad2-559bae6ede86",
   "metadata": {
    "slideshow": {
     "slide_type": "skip"
    },
    "tags": []
   },
   "source": [
    "---"
   ]
  },
  {
   "cell_type": "code",
   "execution_count": 25,
   "id": "673a5ec9-16a5-42d6-8c58-2886e8405fc6",
   "metadata": {
    "slideshow": {
     "slide_type": "subslide"
    },
    "tags": []
   },
   "outputs": [
    {
     "name": "stdout",
     "output_type": "stream",
     "text": [
      "%px:   0%|                                             | 0/4 [01:32<?, ?tasks/s]"
     ]
    },
    {
     "data": {
      "text/plain": [
       "[stdout:0] The mean purchase is 223.45.\n"
      ]
     },
     "metadata": {},
     "output_type": "display_data"
    },
    {
     "name": "stdout",
     "output_type": "stream",
     "text": [
      "%px: 100%|█████████████████████████████████████| 4/4 [01:32<00:00, 23.04s/tasks]\n"
     ]
    }
   ],
   "source": [
    "%%px\n",
    "mean = compute_mean_bodo()\n",
    "if my_rank==0:\n",
    "    print(f'The mean purchase is {mean:.2f}.')"
   ]
  },
  {
   "cell_type": "markdown",
   "id": "ffd179e9-263e-46e4-8cb7-fd507d94a295",
   "metadata": {
    "slideshow": {
     "slide_type": "notes"
    },
    "tags": []
   },
   "source": [
    "+ Sure enough, invoking `compute_mean_bodo` yields the same result.\n",
    "+ But, it *didn't* require writing an MPI-style SPMD program, nor an explicit gather at the end.\n",
    "+ And it still did the computation with work shared by distinct engines *concurrently*."
   ]
  },
  {
   "cell_type": "markdown",
   "id": "090ddf65-ec93-4554-a857-253c407387cb",
   "metadata": {
    "slideshow": {
     "slide_type": "skip"
    },
    "tags": []
   },
   "source": [
    "---"
   ]
  },
  {
   "cell_type": "code",
   "execution_count": 26,
   "id": "f893a220-5518-4ea5-afbc-d7c30b8d262b",
   "metadata": {
    "slideshow": {
     "slide_type": "subslide"
    },
    "tags": []
   },
   "outputs": [
    {
     "data": {
      "text/plain": [
       "[stdout:0] Distributed diagnostics for function compute_mean_bodo, /tmp/ipykernel_59390/794234824.py (1)\n",
       "\n",
       "Data distributions:\n",
       "   csv_table.7          1D_Block\n",
       "   index_col.8          1D_Block\n",
       "   arr_63               1D_Block\n",
       "\n",
       "Parfor distributions:\n",
       "   0                    1D_Block\n",
       "\n",
       "Distributed listing for function compute_mean_bodo, /tmp/ipykernel_59390/794234824.py (1)\n",
       "------------------------------------------------------------------------| parfor_id/variable: distribution\n",
       "@bodo.jit                                                               | \n",
       "def compute_mean_bodo():                                                | \n",
       "    DATA_ROOT = 'bodo-examples-data/bodo-training-fundamentals/DATA'    | \n",
       "    DATA_SRC = f's3://{DATA_ROOT}/CSV/samples_001.csv'                  | \n",
       "    df = pd.read_csv(DATA_SRC)------------------------------------------| csv_table.7: 1D_Block, index_col.8: 1D_Block\n",
       "    m = df.Purchase_Amount.mean()---------------------------------------| #0: 1D_Block, arr_63: 1D_Block\n",
       "    return m                                                            | \n",
       "\n",
       "\n"
      ]
     },
     "metadata": {},
     "output_type": "display_data"
    }
   ],
   "source": [
    "%px compute_mean_bodo.distributed_diagnostics()"
   ]
  },
  {
   "cell_type": "markdown",
   "id": "207014f1-167b-483a-98b2-e8528e75a2ce",
   "metadata": {
    "slideshow": {
     "slide_type": "notes"
    },
    "tags": []
   },
   "source": [
    "+ `bodo.jit` produces a `CPUDispatcher` object.\n",
    "+ That includes a method `distributed_diagnostics`.\n",
    "+ When executed, it shows how bodo distributes data\n",
    "+ In this case, local variables `csv_table`, `index_col`, & `arr` are distributed as `1D-block`s.\n",
    "+ This did *not* require the tricky book-keeping as needed when doing so in an MPI style."
   ]
  },
  {
   "cell_type": "markdown",
   "id": "2d0cf216-edc9-4f1c-a1f5-9210d86d00d9",
   "metadata": {
    "slideshow": {
     "slide_type": "skip"
    },
    "tags": []
   },
   "source": [
    "---"
   ]
  },
  {
   "cell_type": "markdown",
   "id": "77f46747",
   "metadata": {
    "slideshow": {
     "slide_type": "subslide"
    }
   },
   "source": [
    "#### SPMD Paradigm\n",
    "<center>\n",
    "    <img src='./img/SPMD-2.svg' width='70%'></img>\n",
    "</center>"
   ]
  },
  {
   "cell_type": "markdown",
   "id": "8f20f182",
   "metadata": {
    "slideshow": {
     "slide_type": "notes"
    }
   },
   "source": [
    "+ The output from the `distributed_diagnostics` method is verbose.\n",
    "+ The essence to remember is that, in SPMD programming, data has to be *distributed* to all workers.\n",
    "+ Rather than the programmer doing so explicitly, Bodo can create & scatter 1-dimensional blocks\n",
    "  + i.e., chunks or rows of a DataFrame\n",
    "+ Alternatively, all the data can be *replicated* to all workers.\n",
    "  + The former strategy is applied here."
   ]
  },
  {
   "cell_type": "markdown",
   "id": "60c051b8",
   "metadata": {
    "slideshow": {
     "slide_type": "skip"
    },
    "tags": []
   },
   "source": [
    "---"
   ]
  },
  {
   "cell_type": "markdown",
   "id": "907eaecd-baba-4c2d-b100-ce1669a25572",
   "metadata": {
    "slideshow": {
     "slide_type": "subslide"
    },
    "tags": []
   },
   "source": [
    "#### MPI functions in Bodo\n",
    "\n",
    "+ `bodo.get_rank`\n",
    "+ `bodo.get_size`\n",
    "+ `bodo.gatherv`"
   ]
  },
  {
   "cell_type": "markdown",
   "id": "42dc9aff-704e-48ae-8d40-d89b60b4ac7d",
   "metadata": {
    "slideshow": {
     "slide_type": "fragment"
    },
    "tags": []
   },
   "source": [
    "+ `bodo.allgatherv`: `gatherv`\n",
    " + (replicates data to all engines)"
   ]
  },
  {
   "cell_type": "markdown",
   "id": "a65800b9-bfd0-42d2-bb31-dd5e65bd6e5e",
   "metadata": {
    "slideshow": {
     "slide_type": "fragment"
    },
    "tags": []
   },
   "source": [
    "+ `bodo.scatterv`: opposite of `gatherv`"
   ]
  },
  {
   "cell_type": "markdown",
   "id": "a65bfeb7-4bb2-4a0b-a2cf-1043f593842a",
   "metadata": {
    "slideshow": {
     "slide_type": "fragment"
    },
    "tags": []
   },
   "source": [
    "+ `bodo.barrier`: synchronizes engines"
   ]
  },
  {
   "cell_type": "markdown",
   "id": "2da66b7e",
   "metadata": {
    "slideshow": {
     "slide_type": "skip"
    },
    "tags": []
   },
   "source": [
    "---"
   ]
  },
  {
   "cell_type": "markdown",
   "id": "467c89b6-3b24-411b-98a3-9dfb52d64351",
   "metadata": {
    "slideshow": {
     "slide_type": "notes"
    },
    "tags": []
   },
   "source": [
    "+ We've seen three MPI functions embedded in Bodo: `get_rank`, `get_size`, & `gatherv`.\n",
    "+ In many cases, the `bodo.jit` decorator replaces explicit calls to these.\n",
    "+ However, in some cases (as we'll see soon), we may need these MPI tools.\n",
    "---\n",
    "+ Other MPI functions we may need include:\n",
    "+ `allgatherv`: this is like `gatherv` but it reproduces gathered data on all engines.\n",
    "---\n",
    "+ `scatterv` is the opposite of `gatherv`; it distributes data to all engines.\n",
    "---\n",
    "+ `barrier` pauses engines until all reach the same synchronization barrier in the SPMD code."
   ]
  },
  {
   "cell_type": "markdown",
   "id": "641161e0-3880-4b49-90f9-4d7f162e3582",
   "metadata": {
    "slideshow": {
     "slide_type": "skip"
    },
    "tags": []
   },
   "source": [
    "---"
   ]
  },
  {
   "cell_type": "code",
   "execution_count": 27,
   "id": "e432c592",
   "metadata": {
    "slideshow": {
     "slide_type": "subslide"
    }
   },
   "outputs": [
    {
     "name": "stdout",
     "output_type": "stream",
     "text": [
      "Stopping controller\n",
      "Controller stopped: {'exit_code': 0, 'pid': 59352, 'identifier': 'ipcontroller-1650030798-mw6x-59335'}\n",
      "Stopping engine(s): 1650030799\n",
      "engine set stopped 1650030799: {'exit_code': 0, 'pid': 59387, 'identifier': 'ipengine-1650030798-mw6x-1650030799-59335'}\n"
     ]
    }
   ],
   "source": [
    "# To stop the cluster run the following command.\n",
    "rc.cluster.stop_cluster_sync()"
   ]
  },
  {
   "cell_type": "markdown",
   "id": "08478cac",
   "metadata": {
    "slideshow": {
     "slide_type": "notes"
    }
   },
   "source": [
    "+ Finally, one important thing to remember is to cleanly shut down the `ipyparallel` session when finished.\n",
    "+ Generically, this requires inserting a line like this at the end of a notebook.\n",
    "+ Again, these mechanics happen behind the scene on Bodo's cloud platform."
   ]
  },
  {
   "cell_type": "markdown",
   "id": "6ab88b54",
   "metadata": {
    "slideshow": {
     "slide_type": "skip"
    },
    "tags": []
   },
   "source": [
    "---"
   ]
  },
  {
   "cell_type": "markdown",
   "id": "a371d3d0-d015-4c3d-97a8-f98d0e753ad8",
   "metadata": {
    "slideshow": {
     "slide_type": "subslide"
    },
    "tags": []
   },
   "source": [
    "### Summary\n",
    "\n",
    "+ Single Program Multiple Data (SPMD) paradigm\n",
    "+ Distributed computing using SPMD\n",
    "  + Using `ipyparallel` and `px` magics\n",
    "+ Bodo JIT compiler as a simpler route"
   ]
  },
  {
   "cell_type": "markdown",
   "id": "695e115c",
   "metadata": {
    "slideshow": {
     "slide_type": "notes"
    },
    "tags": []
   },
   "source": [
    "+ Writing SPMD code for distributing computing can be tricky.\n",
    "+ The key portions to understand is that `ipyparallel` handles the underlying work.\n",
    "+ The `bodo.jit` compiler provides a simplified route to generating SPMD programs."
   ]
  },
  {
   "cell_type": "markdown",
   "id": "e848a3b8",
   "metadata": {
    "slideshow": {
     "slide_type": "skip"
    },
    "tags": []
   },
   "source": [
    "---"
   ]
  }
 ],
 "metadata": {
  "celltoolbar": "Slideshow",
  "kernelspec": {
   "display_name": "Python 3 (ipykernel)",
   "language": "python",
   "name": "python3"
  },
  "language_info": {
   "codemirror_mode": {
    "name": "ipython",
    "version": 3
   },
   "file_extension": ".py",
   "mimetype": "text/x-python",
   "name": "python",
   "nbconvert_exporter": "python",
   "pygments_lexer": "ipython3",
   "version": "3.9.7"
  },
  "rise": {
   "auto_select": "none",
   "slideNumber": false,
   "transition": "none"
  }
 },
 "nbformat": 4,
 "nbformat_minor": 5
}
