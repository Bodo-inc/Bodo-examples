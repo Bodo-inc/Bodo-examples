{
 "cells": [
  {
   "cell_type": "markdown",
   "metadata": {},
   "source": [
    "# NYC Parking Violations\n",
    "This example demonstrates ETL operations for transforming New York City parking summons data to create maps. \n",
    "\n",
    "Original example can be found [here](https://github.com/JBlumstein/NYCParking/blob/master/NYC_Parking_Violations_Mapping_Example.ipynb). The 2016 and 2017 dataset [here](https://www.kaggle.com/new-york-city/nyc-parking-tickets) is used which is ~4GB."
   ]
  },
  {
   "cell_type": "markdown",
   "id": "ea1f302f-c922-4942-874e-b0a6787022f2",
   "metadata": {},
   "source": [
    "### Start an IPyParallel cluster \n",
    "Run the following code in a cell to start an IPyParallel cluster. 8 cores are used in this example. "
   ]
  },
  {
   "cell_type": "code",
   "execution_count": 1,
   "id": "0050c46a-4484-40f4-9aed-5ebccfb5abab",
   "metadata": {},
   "outputs": [
    {
     "name": "stdout",
     "output_type": "stream",
     "text": [
      "Starting 8 engines with <class 'ipyparallel.cluster.launcher.MPIEngineSetLauncher'>\n",
      "100%|██████████| 8/8 [00:07<00:00,  1.12engine/s]\n"
     ]
    }
   ],
   "source": [
    "import os\n",
    "if os.environ.get(\"BODO_PLATFORM_WORKSPACE_UUID\",'NA') == 'NA':\n",
    "    import ipyparallel as ipp\n",
    "    import psutil; n = min(psutil.cpu_count(logical=False), 8)\n",
    "    rc = ipp.Cluster(engines='mpi', n=n).start_and_connect_sync(activate=True)"
   ]
  },
  {
   "cell_type": "code",
   "execution_count": 2,
   "metadata": {
    "execution": {
     "iopub.execute_input": "2022-03-15T18:29:48.728355Z",
     "iopub.status.busy": "2022-03-15T18:29:48.728150Z",
     "iopub.status.idle": "2022-03-15T18:29:49.657928Z",
     "shell.execute_reply": "2022-03-15T18:29:49.657337Z",
     "shell.execute_reply.started": "2022-03-15T18:29:48.728332Z"
    },
    "tags": []
   },
   "outputs": [],
   "source": [
    "%%px\n",
    "import numpy as np\n",
    "import pandas as pd\n",
    "import time\n",
    "import bodo"
   ]
  },
  {
   "cell_type": "markdown",
   "metadata": {},
   "source": [
    "## Data Loading\n",
    "In this section parking tickets data is loaded from S3 bucket and aggregated by day, violation type, and police precinct and placed in a dataframe. \n",
    "\n",
    "Each dataframe is added to a list of dataframes, and then the dataframes are all appended into a single dataframe named `main_df`.\n",
    "\n",
    "In addition, violcation codes, and precincts information are loaded as well."
   ]
  },
  {
   "cell_type": "code",
   "execution_count": 3,
   "metadata": {
    "execution": {
     "iopub.execute_input": "2022-03-15T18:29:49.658616Z",
     "iopub.status.busy": "2022-03-15T18:29:49.658431Z",
     "iopub.status.idle": "2022-03-15T18:31:06.674278Z",
     "shell.execute_reply": "2022-03-15T18:31:06.673585Z",
     "shell.execute_reply.started": "2022-03-15T18:29:49.658596Z"
    },
    "tags": []
   },
   "outputs": [
    {
     "data": {
      "application/vnd.jupyter.widget-view+json": {
       "model_id": "8bbb32928d7f44a8a38a003a604488d2",
       "version_major": 2,
       "version_minor": 0
      },
      "text/plain": [
       "%px:   0%|          | 0/16 [00:00<?, ?tasks/s]"
      ]
     },
     "metadata": {},
     "output_type": "display_data"
    },
    {
     "data": {
      "text/plain": [
       "[stdout:0] Reading Time:  11.105094708482284\n"
      ]
     },
     "metadata": {},
     "output_type": "display_data"
    },
    {
     "data": {
      "text/plain": [
       "[output:0]"
      ]
     },
     "metadata": {},
     "output_type": "display_data"
    },
    {
     "data": {
      "text/html": [
       "<div>\n",
       "<style scoped>\n",
       "    .dataframe tbody tr th:only-of-type {\n",
       "        vertical-align: middle;\n",
       "    }\n",
       "\n",
       "    .dataframe tbody tr th {\n",
       "        vertical-align: top;\n",
       "    }\n",
       "\n",
       "    .dataframe thead th {\n",
       "        text-align: right;\n",
       "    }\n",
       "</style>\n",
       "<table border=\"1\" class=\"dataframe\">\n",
       "  <thead>\n",
       "    <tr style=\"text-align: right;\">\n",
       "      <th></th>\n",
       "      <th>Issue Date</th>\n",
       "      <th>Violation County</th>\n",
       "      <th>Violation Precinct</th>\n",
       "      <th>Violation Code</th>\n",
       "      <th>Summons Number</th>\n",
       "    </tr>\n",
       "  </thead>\n",
       "  <tbody>\n",
       "    <tr>\n",
       "      <th>0</th>\n",
       "      <td>2015-07-09</td>\n",
       "      <td>K</td>\n",
       "      <td>90</td>\n",
       "      <td>21</td>\n",
       "      <td>134</td>\n",
       "    </tr>\n",
       "    <tr>\n",
       "      <th>1</th>\n",
       "      <td>2015-07-09</td>\n",
       "      <td>K</td>\n",
       "      <td>90</td>\n",
       "      <td>37</td>\n",
       "      <td>10</td>\n",
       "    </tr>\n",
       "    <tr>\n",
       "      <th>2</th>\n",
       "      <td>2015-07-09</td>\n",
       "      <td>K</td>\n",
       "      <td>90</td>\n",
       "      <td>40</td>\n",
       "      <td>16</td>\n",
       "    </tr>\n",
       "    <tr>\n",
       "      <th>3</th>\n",
       "      <td>2015-06-30</td>\n",
       "      <td>Q</td>\n",
       "      <td>110</td>\n",
       "      <td>20</td>\n",
       "      <td>22</td>\n",
       "    </tr>\n",
       "    <tr>\n",
       "      <th>4</th>\n",
       "      <td>2015-07-10</td>\n",
       "      <td>BX</td>\n",
       "      <td>46</td>\n",
       "      <td>40</td>\n",
       "      <td>17</td>\n",
       "    </tr>\n",
       "  </tbody>\n",
       "</table>\n",
       "</div>"
      ],
      "text/plain": [
       "  Issue Date Violation County  Violation Precinct  Violation Code  \\\n",
       "0 2015-07-09                K                  90              21   \n",
       "1 2015-07-09                K                  90              37   \n",
       "2 2015-07-09                K                  90              40   \n",
       "3 2015-06-30                Q                 110              20   \n",
       "4 2015-07-10               BX                  46              40   \n",
       "\n",
       "   Summons Number  \n",
       "0             134  \n",
       "1              10  \n",
       "2              16  \n",
       "3              22  \n",
       "4              17  "
      ]
     },
     "metadata": {
      "engine": 0
     },
     "output_type": "display_data"
    }
   ],
   "source": [
    "%%px\n",
    "\n",
    "@bodo.jit(cache=True)\n",
    "def load_parking_tickets():\n",
    "    start = time.time()\n",
    "    year_2016_df = pd.read_csv('s3://bodo-example-data/nyc-parking-tickets/Parking_Violations_Issued_-_Fiscal_Year_2016.csv', parse_dates=[\"Issue Date\"])\n",
    "    year_2016_df = year_2016_df.groupby(['Issue Date','Violation County','Violation Precinct','Violation Code'], as_index=False)['Summons Number'].count()        \n",
    "\n",
    "    year_2017_df = pd.read_csv('s3://bodo-example-data/nyc-parking-tickets/Parking_Violations_Issued_-_Fiscal_Year_2017.csv', parse_dates=[\"Issue Date\"])        \n",
    "    year_2017_df = year_2017_df.groupby(['Issue Date','Violation County','Violation Precinct','Violation Code'], as_index=False)['Summons Number'].count()    \n",
    "     \n",
    "    # concatenate all dataframes into one dataframe\n",
    "    many_year_df = pd.concat([year_2016_df, year_2017_df])\n",
    "    end = time.time()\n",
    "    print(\"Reading Time: \", end - start)\n",
    "    return many_year_df\n",
    "\n",
    "main_df = load_parking_tickets()\n",
    "if bodo.get_rank() == 0:\n",
    "    display(main_df.head())"
   ]
  },
  {
   "cell_type": "code",
   "execution_count": 4,
   "metadata": {
    "execution": {
     "iopub.execute_input": "2022-03-15T18:31:06.675522Z",
     "iopub.status.busy": "2022-03-15T18:31:06.675156Z",
     "iopub.status.idle": "2022-03-15T18:31:10.593761Z",
     "shell.execute_reply": "2022-03-15T18:31:10.593195Z",
     "shell.execute_reply.started": "2022-03-15T18:31:06.675503Z"
    },
    "tags": []
   },
   "outputs": [
    {
     "data": {
      "application/vnd.jupyter.widget-view+json": {
       "model_id": "8eb8c8ad63d8463280468b49975511d0",
       "version_major": 2,
       "version_minor": 0
      },
      "text/plain": [
       "%px:   0%|          | 0/16 [00:00<?, ?tasks/s]"
      ]
     },
     "metadata": {},
     "output_type": "display_data"
    },
    {
     "data": {
      "text/plain": [
       "[stdout:0] Violation and precincts load Time:  0.3703936311126199\n"
      ]
     },
     "metadata": {},
     "output_type": "display_data"
    }
   ],
   "source": [
    "%%px\n",
    "@bodo.jit(distributed=False)\n",
    "def load_violation_precincts_codes():\n",
    "    start = time.time()\n",
    "    violation_codes = pd.read_csv(\"./DOF_Parking_Violation_Codes.csv\")\n",
    "    violation_codes.columns = ['Violation Code','Definition','manhattan_96_and_below','all_other_areas']\n",
    "    nyc_precincts_df = pd.read_csv(\"./nyc_precincts.csv\", index_col='index')\n",
    "    end = time.time()\n",
    "    if bodo.get_rank() == 0:\n",
    "        print(\"Violation and precincts load Time: \", end - start)\n",
    "    return violation_codes, nyc_precincts_df\n",
    "\n",
    "violation_codes, nyc_precincts_df = load_violation_precincts_codes()"
   ]
  },
  {
   "cell_type": "markdown",
   "metadata": {},
   "source": [
    "## Data Cleaning\n",
    "\n",
    "1. Remove summons with undefined violations (violation code 36).\n",
    "2. Delete entries that have dates not within our dataset dates."
   ]
  },
  {
   "cell_type": "code",
   "execution_count": 5,
   "metadata": {
    "execution": {
     "iopub.execute_input": "2022-03-15T18:31:10.594374Z",
     "iopub.status.busy": "2022-03-15T18:31:10.594231Z",
     "iopub.status.idle": "2022-03-15T18:31:10.710121Z",
     "shell.execute_reply": "2022-03-15T18:31:10.709179Z",
     "shell.execute_reply.started": "2022-03-15T18:31:10.594356Z"
    },
    "tags": []
   },
   "outputs": [
    {
     "data": {
      "text/plain": [
       "[stdout:0] Eliminate undefined violations time:  0.0531956434147105\n",
       "       Issue Date Violation County  Violation Precinct  Violation Code  \\\n",
       "280408 2015-11-27                Q                 114              21   \n",
       "371916 2016-06-19               BK                   0               7   \n",
       "336114 2017-05-19               QN                   0               7   \n",
       "371914 2016-06-19               QN                   0               7   \n",
       "73316  2016-06-18               QN                   0               7   \n",
       "\n",
       "        Summons Number  \n",
       "280408            1165  \n",
       "371916             910  \n",
       "336114             907  \n",
       "371914             891  \n",
       "73316              889  \n"
      ]
     },
     "metadata": {},
     "output_type": "display_data"
    }
   ],
   "source": [
    "%%px\n",
    "@bodo.jit(cache=True)\n",
    "def elim_code_36(main_df):\n",
    "    start = time.time()\n",
    "    '''function to take out all violations with code 36 (other)'''    \n",
    "    main_df = main_df[main_df['Violation Code']!=36].sort_values('Summons Number',ascending=False)\n",
    "    end = time.time()\n",
    "    print(\"Eliminate undefined violations time: \", end - start)\n",
    "    return main_df\n",
    "\n",
    "main_df = elim_code_36(main_df)\n",
    "if bodo.get_rank() == 0:\n",
    "    print(main_df.head())"
   ]
  },
  {
   "cell_type": "code",
   "execution_count": null,
   "metadata": {
    "execution": {
     "iopub.execute_input": "2022-03-15T18:31:10.711007Z",
     "iopub.status.busy": "2022-03-15T18:31:10.710803Z",
     "iopub.status.idle": "2022-03-15T18:31:14.359516Z",
     "shell.execute_reply": "2022-03-15T18:31:14.358861Z",
     "shell.execute_reply.started": "2022-03-15T18:31:10.710984Z"
    },
    "tags": []
   },
   "outputs": [
    {
     "data": {
      "application/vnd.jupyter.widget-view+json": {
       "model_id": "c7d938ccaca9418490c604f25e9b3943",
       "version_major": 2,
       "version_minor": 0
      },
      "text/plain": [
       "%px:   0%|          | 0/16 [00:00<?, ?tasks/s]"
      ]
     },
     "metadata": {},
     "output_type": "display_data"
    },
    {
     "data": {
      "text/plain": [
       "[stdout:0] Remove outliers time:  0.008827869091874163\n"
      ]
     },
     "metadata": {},
     "output_type": "display_data"
    },
    {
     "data": {
      "text/plain": [
       "[output:0]"
      ]
     },
     "metadata": {},
     "output_type": "display_data"
    },
    {
     "data": {
      "text/html": [
       "<div>\n",
       "<style scoped>\n",
       "    .dataframe tbody tr th:only-of-type {\n",
       "        vertical-align: middle;\n",
       "    }\n",
       "\n",
       "    .dataframe tbody tr th {\n",
       "        vertical-align: top;\n",
       "    }\n",
       "\n",
       "    .dataframe thead th {\n",
       "        text-align: right;\n",
       "    }\n",
       "</style>\n",
       "<table border=\"1\" class=\"dataframe\">\n",
       "  <thead>\n",
       "    <tr style=\"text-align: right;\">\n",
       "      <th></th>\n",
       "      <th>Issue Date</th>\n",
       "      <th>Violation County</th>\n",
       "      <th>Violation Precinct</th>\n",
       "      <th>Violation Code</th>\n",
       "      <th>Summons Number</th>\n",
       "    </tr>\n",
       "  </thead>\n",
       "  <tbody>\n",
       "    <tr>\n",
       "      <th>371916</th>\n",
       "      <td>2016-06-19</td>\n",
       "      <td>BK</td>\n",
       "      <td>0</td>\n",
       "      <td>7</td>\n",
       "      <td>910</td>\n",
       "    </tr>\n",
       "    <tr>\n",
       "      <th>336114</th>\n",
       "      <td>2017-05-19</td>\n",
       "      <td>QN</td>\n",
       "      <td>0</td>\n",
       "      <td>7</td>\n",
       "      <td>907</td>\n",
       "    </tr>\n",
       "    <tr>\n",
       "      <th>371914</th>\n",
       "      <td>2016-06-19</td>\n",
       "      <td>QN</td>\n",
       "      <td>0</td>\n",
       "      <td>7</td>\n",
       "      <td>891</td>\n",
       "    </tr>\n",
       "    <tr>\n",
       "      <th>73316</th>\n",
       "      <td>2016-06-18</td>\n",
       "      <td>QN</td>\n",
       "      <td>0</td>\n",
       "      <td>7</td>\n",
       "      <td>889</td>\n",
       "    </tr>\n",
       "    <tr>\n",
       "      <th>335189</th>\n",
       "      <td>2016-06-26</td>\n",
       "      <td>BK</td>\n",
       "      <td>0</td>\n",
       "      <td>7</td>\n",
       "      <td>888</td>\n",
       "    </tr>\n",
       "  </tbody>\n",
       "</table>\n",
       "</div>"
      ],
      "text/plain": [
       "       Issue Date Violation County  Violation Precinct  Violation Code  \\\n",
       "371916 2016-06-19               BK                   0               7   \n",
       "336114 2017-05-19               QN                   0               7   \n",
       "371914 2016-06-19               QN                   0               7   \n",
       "73316  2016-06-18               QN                   0               7   \n",
       "335189 2016-06-26               BK                   0               7   \n",
       "\n",
       "        Summons Number  \n",
       "371916             910  \n",
       "336114             907  \n",
       "371914             891  \n",
       "73316              889  \n",
       "335189             888  "
      ]
     },
     "metadata": {
      "engine": 0
     },
     "output_type": "display_data"
    }
   ],
   "source": [
    "%%px\n",
    "@bodo.jit(cache=True)\n",
    "def remove_outliers(main_df):\n",
    "    start = time.time()\n",
    "    main_df = main_df[(main_df['Issue Date'] >= '2016-01-01') & (main_df['Issue Date'] <= '2017-12-31')]\n",
    "    end = time.time()\n",
    "    print(\"Remove outliers time: \", (end-start)) \n",
    "    return main_df\n",
    "\n",
    "main_df = remove_outliers(main_df)\n",
    "if bodo.get_rank() == 0:\n",
    "    display(main_df.head())"
   ]
  },
  {
   "cell_type": "markdown",
   "metadata": {},
   "source": [
    "## Collect More Information\n",
    "Data on each violation type, like ticket cost and violation descriptions, are added to the dataset by joining our main_df dataset with a violation type level dataset"
   ]
  },
  {
   "cell_type": "code",
   "execution_count": null,
   "metadata": {
    "execution": {
     "iopub.execute_input": "2022-03-15T18:31:14.360117Z",
     "iopub.status.busy": "2022-03-15T18:31:14.359984Z",
     "iopub.status.idle": "2022-03-15T18:31:16.782329Z",
     "shell.execute_reply": "2022-03-15T18:31:16.781530Z",
     "shell.execute_reply.started": "2022-03-15T18:31:14.360100Z"
    },
    "tags": []
   },
   "outputs": [
    {
     "data": {
      "application/vnd.jupyter.widget-view+json": {
       "model_id": "51e10f2e845c4c518acdff0ea3d7e562",
       "version_major": 2,
       "version_minor": 0
      },
      "text/plain": [
       "%px:   0%|          | 0/16 [00:00<?, ?tasks/s]"
      ]
     },
     "metadata": {},
     "output_type": "display_data"
    },
    {
     "data": {
      "text/plain": [
       "[stdout:0] Merge time:  0.3143356828525157\n",
       "(872465, 8)\n"
      ]
     },
     "metadata": {},
     "output_type": "display_data"
    },
    {
     "data": {
      "text/plain": [
       "[output:0]"
      ]
     },
     "metadata": {},
     "output_type": "display_data"
    },
    {
     "data": {
      "text/html": [
       "<div>\n",
       "<style scoped>\n",
       "    .dataframe tbody tr th:only-of-type {\n",
       "        vertical-align: middle;\n",
       "    }\n",
       "\n",
       "    .dataframe tbody tr th {\n",
       "        vertical-align: top;\n",
       "    }\n",
       "\n",
       "    .dataframe thead th {\n",
       "        text-align: right;\n",
       "    }\n",
       "</style>\n",
       "<table border=\"1\" class=\"dataframe\">\n",
       "  <thead>\n",
       "    <tr style=\"text-align: right;\">\n",
       "      <th></th>\n",
       "      <th>Issue Date</th>\n",
       "      <th>Violation County</th>\n",
       "      <th>Violation Precinct</th>\n",
       "      <th>Violation Code</th>\n",
       "      <th>Summons Number</th>\n",
       "      <th>Definition</th>\n",
       "      <th>manhattan_96_and_below</th>\n",
       "      <th>all_other_areas</th>\n",
       "    </tr>\n",
       "  </thead>\n",
       "  <tbody>\n",
       "    <tr>\n",
       "      <th>0</th>\n",
       "      <td>2016-06-19</td>\n",
       "      <td>BK</td>\n",
       "      <td>0</td>\n",
       "      <td>7</td>\n",
       "      <td>910</td>\n",
       "      <td>Vehicles photographed going through a red ligh...</td>\n",
       "      <td>50</td>\n",
       "      <td>50</td>\n",
       "    </tr>\n",
       "    <tr>\n",
       "      <th>1</th>\n",
       "      <td>2017-05-19</td>\n",
       "      <td>QN</td>\n",
       "      <td>0</td>\n",
       "      <td>7</td>\n",
       "      <td>907</td>\n",
       "      <td>Vehicles photographed going through a red ligh...</td>\n",
       "      <td>50</td>\n",
       "      <td>50</td>\n",
       "    </tr>\n",
       "    <tr>\n",
       "      <th>2</th>\n",
       "      <td>2016-06-19</td>\n",
       "      <td>QN</td>\n",
       "      <td>0</td>\n",
       "      <td>7</td>\n",
       "      <td>891</td>\n",
       "      <td>Vehicles photographed going through a red ligh...</td>\n",
       "      <td>50</td>\n",
       "      <td>50</td>\n",
       "    </tr>\n",
       "    <tr>\n",
       "      <th>3</th>\n",
       "      <td>2016-06-18</td>\n",
       "      <td>QN</td>\n",
       "      <td>0</td>\n",
       "      <td>7</td>\n",
       "      <td>889</td>\n",
       "      <td>Vehicles photographed going through a red ligh...</td>\n",
       "      <td>50</td>\n",
       "      <td>50</td>\n",
       "    </tr>\n",
       "    <tr>\n",
       "      <th>4</th>\n",
       "      <td>2016-06-26</td>\n",
       "      <td>BK</td>\n",
       "      <td>0</td>\n",
       "      <td>7</td>\n",
       "      <td>888</td>\n",
       "      <td>Vehicles photographed going through a red ligh...</td>\n",
       "      <td>50</td>\n",
       "      <td>50</td>\n",
       "    </tr>\n",
       "  </tbody>\n",
       "</table>\n",
       "</div>"
      ],
      "text/plain": [
       "  Issue Date Violation County  Violation Precinct  Violation Code  \\\n",
       "0 2016-06-19               BK                   0               7   \n",
       "1 2017-05-19               QN                   0               7   \n",
       "2 2016-06-19               QN                   0               7   \n",
       "3 2016-06-18               QN                   0               7   \n",
       "4 2016-06-26               BK                   0               7   \n",
       "\n",
       "   Summons Number                                         Definition  \\\n",
       "0             910  Vehicles photographed going through a red ligh...   \n",
       "1             907  Vehicles photographed going through a red ligh...   \n",
       "2             891  Vehicles photographed going through a red ligh...   \n",
       "3             889  Vehicles photographed going through a red ligh...   \n",
       "4             888  Vehicles photographed going through a red ligh...   \n",
       "\n",
       "   manhattan_96_and_below  all_other_areas  \n",
       "0                      50               50  \n",
       "1                      50               50  \n",
       "2                      50               50  \n",
       "3                      50               50  \n",
       "4                      50               50  "
      ]
     },
     "metadata": {
      "engine": 0
     },
     "output_type": "display_data"
    }
   ],
   "source": [
    "%%px\n",
    "@bodo.jit(cache=True)\n",
    "def merge_violation_code(main_df, violation_codes):\n",
    "    start = time.time()\n",
    "    # left join main_df and violation_codes df so that there's more info on violation in main_df\n",
    "    main_df = pd.merge(main_df, violation_codes, on='Violation Code', how='left')\n",
    "    # cast precincts as integers from floats (inadvertent type change by merge)\n",
    "    main_df['Violation Precinct'] = main_df['Violation Precinct'].astype(int)    \n",
    "    end = time.time()\n",
    "    print(\"Merge time: \", (end-start))\n",
    "    print(main_df.shape)\n",
    "    return main_df\n",
    "\n",
    "main_w_violation = merge_violation_code(main_df, violation_codes)\n",
    "if bodo.get_rank() == 0:\n",
    "    display(main_w_violation.head())"
   ]
  },
  {
   "cell_type": "markdown",
   "metadata": {},
   "source": [
    "## Compute Cost of Summons For Each Precinct.\n",
    "\n",
    "1. Most violations have different ticket prices, based on whether they occur in Manhattan below 96th St. or elsewhere in New York City. The daily revenue for each violation type in each precinct are determined by multiplying the number of offenses by the average cost of the offense (based on how much of the precinct is in Manhattan below 96th St.)."
   ]
  },
  {
   "cell_type": "code",
   "execution_count": null,
   "metadata": {
    "execution": {
     "iopub.execute_input": "2022-03-15T18:31:16.782918Z",
     "iopub.status.busy": "2022-03-15T18:31:16.782773Z",
     "iopub.status.idle": "2022-03-15T18:31:24.387804Z",
     "shell.execute_reply": "2022-03-15T18:31:24.386988Z",
     "shell.execute_reply.started": "2022-03-15T18:31:16.782900Z"
    },
    "tags": []
   },
   "outputs": [
    {
     "data": {
      "application/vnd.jupyter.widget-view+json": {
       "model_id": "d62ccc3bb22848a88ad543bb0b6f3073",
       "version_major": 2,
       "version_minor": 0
      },
      "text/plain": [
       "%px:   0%|          | 0/16 [00:00<?, ?tasks/s]"
      ]
     },
     "metadata": {},
     "output_type": "display_data"
    },
    {
     "data": {
      "text/plain": [
       "[stdout:0] Calculate Total Summons Time:  0.5892386897232882\n"
      ]
     },
     "metadata": {},
     "output_type": "display_data"
    },
    {
     "data": {
      "text/plain": [
       "[output:0]"
      ]
     },
     "metadata": {},
     "output_type": "display_data"
    },
    {
     "data": {
      "text/html": [
       "<div>\n",
       "<style scoped>\n",
       "    .dataframe tbody tr th:only-of-type {\n",
       "        vertical-align: middle;\n",
       "    }\n",
       "\n",
       "    .dataframe tbody tr th {\n",
       "        vertical-align: top;\n",
       "    }\n",
       "\n",
       "    .dataframe thead th {\n",
       "        text-align: right;\n",
       "    }\n",
       "</style>\n",
       "<table border=\"1\" class=\"dataframe\">\n",
       "  <thead>\n",
       "    <tr style=\"text-align: right;\">\n",
       "      <th></th>\n",
       "      <th>Issue Date</th>\n",
       "      <th>Violation County</th>\n",
       "      <th>Violation Precinct</th>\n",
       "      <th>Violation Code</th>\n",
       "      <th>Summons Number</th>\n",
       "      <th>Definition</th>\n",
       "      <th>manhattan_96_and_below</th>\n",
       "      <th>all_other_areas</th>\n",
       "      <th>portion_manhattan_96_and_below</th>\n",
       "      <th>average_summons_amount</th>\n",
       "      <th>total_summons_dollars</th>\n",
       "    </tr>\n",
       "  </thead>\n",
       "  <tbody>\n",
       "    <tr>\n",
       "      <th>290</th>\n",
       "      <td>2017-04-11</td>\n",
       "      <td>NY</td>\n",
       "      <td>19</td>\n",
       "      <td>46</td>\n",
       "      <td>554</td>\n",
       "      <td>Standing or parking on the roadway side of a v...</td>\n",
       "      <td>115</td>\n",
       "      <td>115</td>\n",
       "      <td>1</td>\n",
       "      <td>115</td>\n",
       "      <td>63710</td>\n",
       "    </tr>\n",
       "    <tr>\n",
       "      <th>317</th>\n",
       "      <td>2017-03-22</td>\n",
       "      <td>NY</td>\n",
       "      <td>19</td>\n",
       "      <td>46</td>\n",
       "      <td>544</td>\n",
       "      <td>Standing or parking on the roadway side of a v...</td>\n",
       "      <td>115</td>\n",
       "      <td>115</td>\n",
       "      <td>1</td>\n",
       "      <td>115</td>\n",
       "      <td>62560</td>\n",
       "    </tr>\n",
       "    <tr>\n",
       "      <th>325</th>\n",
       "      <td>2016-09-30</td>\n",
       "      <td>BK</td>\n",
       "      <td>0</td>\n",
       "      <td>5</td>\n",
       "      <td>542</td>\n",
       "      <td>Failure to make a right turn from a bus lane.</td>\n",
       "      <td>115</td>\n",
       "      <td>115</td>\n",
       "      <td>1</td>\n",
       "      <td>115</td>\n",
       "      <td>62330</td>\n",
       "    </tr>\n",
       "    <tr>\n",
       "      <th>329</th>\n",
       "      <td>2017-03-30</td>\n",
       "      <td>NY</td>\n",
       "      <td>19</td>\n",
       "      <td>46</td>\n",
       "      <td>540</td>\n",
       "      <td>Standing or parking on the roadway side of a v...</td>\n",
       "      <td>115</td>\n",
       "      <td>115</td>\n",
       "      <td>1</td>\n",
       "      <td>115</td>\n",
       "      <td>62100</td>\n",
       "    </tr>\n",
       "    <tr>\n",
       "      <th>366</th>\n",
       "      <td>2017-04-13</td>\n",
       "      <td>NY</td>\n",
       "      <td>19</td>\n",
       "      <td>46</td>\n",
       "      <td>526</td>\n",
       "      <td>Standing or parking on the roadway side of a v...</td>\n",
       "      <td>115</td>\n",
       "      <td>115</td>\n",
       "      <td>1</td>\n",
       "      <td>115</td>\n",
       "      <td>60490</td>\n",
       "    </tr>\n",
       "  </tbody>\n",
       "</table>\n",
       "</div>"
      ],
      "text/plain": [
       "    Issue Date Violation County  Violation Precinct  Violation Code  \\\n",
       "290 2017-04-11               NY                  19              46   \n",
       "317 2017-03-22               NY                  19              46   \n",
       "325 2016-09-30               BK                   0               5   \n",
       "329 2017-03-30               NY                  19              46   \n",
       "366 2017-04-13               NY                  19              46   \n",
       "\n",
       "     Summons Number                                         Definition  \\\n",
       "290             554  Standing or parking on the roadway side of a v...   \n",
       "317             544  Standing or parking on the roadway side of a v...   \n",
       "325             542      Failure to make a right turn from a bus lane.   \n",
       "329             540  Standing or parking on the roadway side of a v...   \n",
       "366             526  Standing or parking on the roadway side of a v...   \n",
       "\n",
       "     manhattan_96_and_below  all_other_areas  portion_manhattan_96_and_below  \\\n",
       "290                     115              115                               1   \n",
       "317                     115              115                               1   \n",
       "325                     115              115                               1   \n",
       "329                     115              115                               1   \n",
       "366                     115              115                               1   \n",
       "\n",
       "     average_summons_amount  total_summons_dollars  \n",
       "290                     115                  63710  \n",
       "317                     115                  62560  \n",
       "325                     115                  62330  \n",
       "329                     115                  62100  \n",
       "366                     115                  60490  "
      ]
     },
     "metadata": {
      "engine": 0
     },
     "output_type": "display_data"
    }
   ],
   "source": [
    "%%px\n",
    "#calculate the total summonses in dollars for a violation in a precinct on a day\n",
    "@bodo.jit(cache=True)\n",
    "def calculate_total_summons(main_df):\n",
    "    start = time.time()\n",
    "    #create column for portion of precinct 96th st. and below\n",
    "    n = len(main_df)\n",
    "    portion_manhattan_96_and_below = np.empty(n, np.int64)\n",
    "    # NOTE: To run pandas, use this loop.\n",
    "    # for i in range(n):\n",
    "    for i in bodo.prange(n):\n",
    "        x = main_df['Violation Precinct'].iat[i]\n",
    "        if x < 22 or x == 23:\n",
    "            portion_manhattan_96_and_below[i] = 1.0\n",
    "        elif x == 22:\n",
    "            portion_manhattan_96_and_below[i] = 0.75\n",
    "        elif x == 24:\n",
    "            portion_manhattan_96_and_below[i] = 0.5\n",
    "        else: #other\n",
    "            portion_manhattan_96_and_below[i] = 0\n",
    "    main_df[\"portion_manhattan_96_and_below\"] = portion_manhattan_96_and_below\n",
    "\n",
    "    #create column for average dollar amount of summons based on location\n",
    "    main_df['average_summons_amount'] = (main_df['portion_manhattan_96_and_below'] * main_df['manhattan_96_and_below'] \n",
    "                                     + (1 - main_df['portion_manhattan_96_and_below']) * main_df['all_other_areas'])\n",
    "\n",
    "    #get total summons dollars by multiplying average dollar amount by number of summons given\n",
    "    main_df['total_summons_dollars'] = main_df['Summons Number'] * main_df['average_summons_amount']\n",
    "    main_df = main_df.sort_values(by=['total_summons_dollars'], ascending=False)\n",
    "    end = time.time()    \n",
    "    print(\"Calculate Total Summons Time: \", (end-start))\n",
    "    return main_df\n",
    "\n",
    "total_summons = calculate_total_summons(main_w_violation)\n",
    "if bodo.get_rank() == 0:\n",
    "    display(total_summons.head())"
   ]
  },
  {
   "cell_type": "markdown",
   "metadata": {},
   "source": [
    "2. The aggregate function aggregates main_df by precinct. Once the data is run through this function that it will have a single row per precinct with the precinct number, the number of summonses, and the combined dollar value of the summonses."
   ]
  },
  {
   "cell_type": "code",
   "execution_count": null,
   "metadata": {
    "execution": {
     "iopub.execute_input": "2022-03-15T18:31:24.388495Z",
     "iopub.status.busy": "2022-03-15T18:31:24.388299Z",
     "iopub.status.idle": "2022-03-15T18:31:28.803798Z",
     "shell.execute_reply": "2022-03-15T18:31:28.803208Z",
     "shell.execute_reply.started": "2022-03-15T18:31:24.388475Z"
    },
    "tags": []
   },
   "outputs": [
    {
     "data": {
      "application/vnd.jupyter.widget-view+json": {
       "model_id": "5da424d90c9b4ffe9b2d525c1560211c",
       "version_major": 2,
       "version_minor": 0
      },
      "text/plain": [
       "%px:   0%|          | 0/16 [00:00<?, ?tasks/s]"
      ]
     },
     "metadata": {},
     "output_type": "display_data"
    },
    {
     "data": {
      "text/plain": [
       "[stdout:0] Aggregate code time:  0.009074624489130656\n"
      ]
     },
     "metadata": {},
     "output_type": "display_data"
    },
    {
     "data": {
      "text/plain": [
       "[output:0]"
      ]
     },
     "metadata": {},
     "output_type": "display_data"
    },
    {
     "data": {
      "text/html": [
       "<div>\n",
       "<style scoped>\n",
       "    .dataframe tbody tr th:only-of-type {\n",
       "        vertical-align: middle;\n",
       "    }\n",
       "\n",
       "    .dataframe tbody tr th {\n",
       "        vertical-align: top;\n",
       "    }\n",
       "\n",
       "    .dataframe thead th {\n",
       "        text-align: right;\n",
       "    }\n",
       "</style>\n",
       "<table border=\"1\" class=\"dataframe\">\n",
       "  <thead>\n",
       "    <tr style=\"text-align: right;\">\n",
       "      <th></th>\n",
       "      <th>Violation Precinct</th>\n",
       "      <th>Summons Number</th>\n",
       "      <th>total_summons_dollars</th>\n",
       "    </tr>\n",
       "  </thead>\n",
       "  <tbody>\n",
       "    <tr>\n",
       "      <th>204</th>\n",
       "      <td>19</td>\n",
       "      <td>795615</td>\n",
       "      <td>69402435</td>\n",
       "    </tr>\n",
       "    <tr>\n",
       "      <th>133</th>\n",
       "      <td>14</td>\n",
       "      <td>500438</td>\n",
       "      <td>48019275</td>\n",
       "    </tr>\n",
       "    <tr>\n",
       "      <th>242</th>\n",
       "      <td>0</td>\n",
       "      <td>710758</td>\n",
       "      <td>46152490</td>\n",
       "    </tr>\n",
       "    <tr>\n",
       "      <th>223</th>\n",
       "      <td>1</td>\n",
       "      <td>480341</td>\n",
       "      <td>45338900</td>\n",
       "    </tr>\n",
       "    <tr>\n",
       "      <th>102</th>\n",
       "      <td>18</td>\n",
       "      <td>453506</td>\n",
       "      <td>44068990</td>\n",
       "    </tr>\n",
       "  </tbody>\n",
       "</table>\n",
       "</div>"
      ],
      "text/plain": [
       "     Violation Precinct  Summons Number  total_summons_dollars\n",
       "204                  19          795615               69402435\n",
       "133                  14          500438               48019275\n",
       "242                   0          710758               46152490\n",
       "223                   1          480341               45338900\n",
       "102                  18          453506               44068990"
      ]
     },
     "metadata": {
      "engine": 0
     },
     "output_type": "display_data"
    }
   ],
   "source": [
    "%%px\n",
    "\n",
    "@bodo.jit(cache=True)\n",
    "def aggregate(main_df):\n",
    "    '''function that aggregates and filters data\n",
    "    e.g. total violations by precinct\n",
    "    '''\n",
    "    start = time.time()\n",
    "    filtered_dataset = main_df[['Violation Precinct','Summons Number', 'total_summons_dollars']]\n",
    "    precinct_offenses_df = filtered_dataset.groupby(by=['Violation Precinct']).sum().reset_index().fillna(0)\n",
    "    end = time.time()\n",
    "    precinct_offenses_df = precinct_offenses_df.sort_values(\"total_summons_dollars\", ascending=False)\n",
    "    print(\"Aggregate code time: \", (end-start))\n",
    "    return precinct_offenses_df\n",
    "\n",
    "precinct_offenses_df = aggregate(total_summons)\n",
    "if bodo.get_rank() == 0:\n",
    "    display(precinct_offenses_df.head())    "
   ]
  }
 ],
 "metadata": {
  "interpreter": {
   "hash": "16c8ad1c156570dbb9b8c59e261dba05f4270231d6ef51b3fb205099379bfe9f"
  },
  "kernelspec": {
   "display_name": "Python 3.9.12 ('base')",
   "language": "python",
   "name": "python3"
  },
  "language_info": {
   "codemirror_mode": {
    "name": "ipython",
    "version": 3
   },
   "file_extension": ".py",
   "mimetype": "text/x-python",
   "name": "python",
   "nbconvert_exporter": "python",
   "pygments_lexer": "ipython3",
   "version": "3.9.12"
  }
 },
 "nbformat": 4,
 "nbformat_minor": 4
}
