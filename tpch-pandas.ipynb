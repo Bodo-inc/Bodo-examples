{
 "cells": [
  {
   "cell_type": "markdown",
   "metadata": {},
   "source": [
    "# Business-oriented ad hoc queries\n",
    "\n",
    "This notebook runs through queries derived from the TPC-H benchmark suite. [TPC-H](http://www.tpc.org/tpch) is a decision support benchmark that offers business-oriented ad hoc queries.\n",
    "\n",
    "\n",
    "The  queries are originally in SQL format and in this notebook, we translated them to Pandas on a 2GB Dataset."
   ]
  },
  {
   "cell_type": "markdown",
   "metadata": {},
   "source": [
    "## Verify that your code is running on a cluster\n",
    "\n",
    "If you are in the Community Edition workspace, ensure that the notebook is connected to the Community Edition Cluster and run the following code to verify that the code is running on 8 ranks. "
   ]
  },
  {
   "cell_type": "code",
   "execution_count": null,
   "metadata": {
    "tags": []
   },
   "outputs": [],
   "source": [
    "%%px\n",
    "import bodo\n",
    "import warnings\n",
    "import time\n",
    "import numpy as np\n",
    "import pandas as pd\n",
    "warnings.filterwarnings(\"ignore\")\n",
    "\n",
    "print(f\"Hello World from rank {bodo.get_rank()}. Total ranks={bodo.get_size()}\")"
   ]
  },
  {
   "cell_type": "markdown",
   "metadata": {},
   "source": [
    "<a id=\"loading_data\"></a>\n",
    "## Load the data\n",
    "\n",
    "The next code cells in this section load the data required by the queries into pandas DataFrames, from a public S3 bucket hosted by Bodo."
   ]
  },
  {
   "cell_type": "code",
   "execution_count": null,
   "metadata": {
    "tags": []
   },
   "outputs": [],
   "source": [
    "%%px\n",
    "@bodo.jit(distributed=[\"rel\"], cache=True)\n",
    "def load_lineitem(data_folder):\n",
    "    t1 = time.time()\n",
    "    rel = pd.read_parquet(data_folder)\n",
    "    print(\"Lineitem Reading time: \", ((time.time() - t1) * 1000), \" (ms)\")\n",
    "    return rel\n",
    "\n",
    "lineitem = load_lineitem(\"s3://bodo-example-data/tpch/s2/lineitem.pq\")\n",
    "if bodo.get_rank()==0:\n",
    "    display(lineitem.head())"
   ]
  },
  {
   "cell_type": "code",
   "execution_count": null,
   "metadata": {
    "scrolled": true,
    "tags": []
   },
   "outputs": [],
   "source": [
    "%%px\n",
    "\n",
    "@bodo.jit(distributed=[\"rel\"], cache=True)\n",
    "def load_orders(data_folder):\n",
    "    t1 = time.time()    \n",
    "    rel = pd.read_parquet(data_folder)\n",
    "    print(\"Orders Reading time: \", ((time.time() - t1) * 1000), \" (ms)\")\n",
    "    return rel\n",
    "    \n",
    "orders = load_orders(\"s3://bodo-example-data/tpch/s2/orders.pq\")\n",
    "if bodo.get_rank()==0:\n",
    "    display(orders.head())"
   ]
  },
  {
   "cell_type": "code",
   "execution_count": null,
   "metadata": {
    "tags": []
   },
   "outputs": [],
   "source": [
    "%%px\n",
    "\n",
    "@bodo.jit(distributed=[\"rel\"], cache=True)\n",
    "def load_customer(data_folder):\n",
    "    t1 = time.time()\n",
    "    rel = pd.read_parquet(data_folder)\n",
    "    print(\"Customer Reading time: \", ((time.time() - t1) * 1000), \" (ms)\")\n",
    "    return rel\n",
    "\n",
    "customer = load_customer(\"s3://bodo-example-data/tpch/s2/customers.pq\")\n",
    "if bodo.get_rank()==0:\n",
    "    display(customer.head())"
   ]
  },
  {
   "cell_type": "code",
   "execution_count": null,
   "metadata": {
    "tags": []
   },
   "outputs": [],
   "source": [
    "%%px\n",
    "\n",
    "@bodo.jit(distributed=[\"rel\"], cache=True)\n",
    "def load_nation(data_folder):\n",
    "    t1 = time.time()\n",
    "    rel = pd.read_parquet(data_folder)\n",
    "    print(\"Nation Reading time: \", ((time.time() - t1) * 1000), \" (ms)\")\n",
    "    return rel\n",
    "\n",
    "nation = load_nation(\"s3://bodo-example-data/tpch/s2/nation.pq\")\n",
    "if bodo.get_rank()==0:\n",
    "    display(nation.head())"
   ]
  },
  {
   "cell_type": "code",
   "execution_count": null,
   "metadata": {
    "tags": []
   },
   "outputs": [],
   "source": [
    "%%px\n",
    "\n",
    "@bodo.jit(distributed=[\"rel\"], cache=True)\n",
    "def load_supplier(data_folder):\n",
    "    t1 = time.time()    \n",
    "    rel = pd.read_parquet(data_folder)\n",
    "    print(\"Supplier Reading time: \", ((time.time() - t1) * 1000), \" (ms)\")     \n",
    "    return rel\n",
    "\n",
    "supplier = load_supplier(\"s3://bodo-example-data/tpch/s2/supplier.pq\")\n",
    "if bodo.get_rank()==0:\n",
    "    display(supplier.head())"
   ]
  },
  {
   "cell_type": "code",
   "execution_count": null,
   "metadata": {
    "tags": []
   },
   "outputs": [],
   "source": [
    "%%px\n",
    "\n",
    "@bodo.jit(distributed=[\"rel\"], cache=True)\n",
    "def load_partsupp(data_folder):\n",
    "    t1 = time.time()\n",
    "    rel = pd.read_parquet(data_folder)\n",
    "    print(\"Partsupp Reading time: \", ((time.time() - t1) * 1000), \" (ms)\")\n",
    "    return rel\n",
    "\n",
    "partsupp = load_partsupp(\"s3://bodo-example-data/tpch/s2/partsupp.pq\")\n",
    "if bodo.get_rank()==0:\n",
    "    display(partsupp.head())"
   ]
  },
  {
   "cell_type": "code",
   "execution_count": null,
   "metadata": {
    "tags": []
   },
   "outputs": [],
   "source": [
    "%%px\n",
    "\n",
    "@bodo.jit(distributed=[\"rel\"], cache=True)\n",
    "def load_part(data_folder):\n",
    "    t1 = time.time()\n",
    "    rel = pd.read_parquet(data_folder)\n",
    "    print(\"Part Reading time: \", ((time.time() - t1) * 1000), \" (ms)\")\n",
    "    return rel\n",
    "\n",
    "part = load_part(\"s3://bodo-example-data/tpch/s2/part.pq\")\n",
    "if bodo.get_rank()==0:\n",
    "    display(part.head())"
   ]
  },
  {
   "cell_type": "markdown",
   "metadata": {},
   "source": [
    "## Query Definitions\n",
    "\n",
    "This section demonstrates some of the TPC-H queries we translated to Python (pandas). "
   ]
  },
  {
   "cell_type": "markdown",
   "metadata": {},
   "source": [
    "### Q1: Pricing Summary Report Query\n",
    "This query reports the amount of businesses that were billed, shipped, and returned.\n",
    "\n",
    "Make sure you have run **`load_lineitem`** from [loading data section](#loading_data) before running this query."
   ]
  },
  {
   "cell_type": "code",
   "execution_count": null,
   "metadata": {
    "tags": []
   },
   "outputs": [],
   "source": [
    "%%px\n",
    "@bodo.jit(cache=True)\n",
    "def q1(lineitem):\n",
    "    t1 = time.time()\n",
    "    sel = lineitem.L_SHIPDATE <= \"1998-09-02\"\n",
    "    flineitem = lineitem[sel]\n",
    "    flineitem[\"DISC_PRICE\"] = flineitem.L_EXTENDEDPRICE * (1 - flineitem.L_DISCOUNT)\n",
    "    flineitem[\"CHARGE\"] = (\n",
    "        flineitem.L_EXTENDEDPRICE * (1 - flineitem.L_DISCOUNT) * (1 + flineitem.L_TAX)\n",
    "    )\n",
    "    gb = flineitem.groupby([\"L_RETURNFLAG\", \"L_LINESTATUS\"], as_index=False)\n",
    "    total = gb.agg({\"L_QUANTITY\": [\"sum\", \"mean\"], \"L_EXTENDEDPRICE\": [\"sum\", \"mean\"],\n",
    "                   \"DISC_PRICE\": \"sum\", \"CHARGE\": \"sum\",\n",
    "                   \"L_DISCOUNT\": \"mean\", \"L_ORDERKEY\": \"count\"})\n",
    "    total = total.sort_values([\"L_RETURNFLAG\", \"L_LINESTATUS\"])\n",
    "    print(\"Execution time: \", ((time.time() - t1) * 1000), \" (ms)\")\n",
    "    return total.head(10)\n",
    "\n",
    "q1_result = q1(lineitem)\n",
    "if bodo.get_rank()==0:\n",
    "    display(q1_result)"
   ]
  },
  {
   "cell_type": "markdown",
   "metadata": {},
   "source": [
    "### Q3: Shipping Priority Query\n",
    "This query retrieves the 10 unshipped orders with the highest value.\n",
    "\n",
    "Make sure you have run **`load_lineitem`, `load_orders`, and `load_customer`** from [loading data section](#loading_data) before running this query."
   ]
  },
  {
   "cell_type": "code",
   "execution_count": null,
   "metadata": {
    "tags": []
   },
   "outputs": [],
   "source": [
    "%%px\n",
    "\n",
    "@bodo.jit(cache=True)\n",
    "def q3(lineitem, orders, customer):\n",
    "    date = \"1995-03-04\"    \n",
    "    t1 = time.time()\n",
    "    lsel = lineitem.L_SHIPDATE > date\n",
    "    osel = orders.O_ORDERDATE < date\n",
    "    csel = customer.C_MKTSEGMENT == \"HOUSEHOLD\"\n",
    "    flineitem = lineitem[lsel]\n",
    "    forders = orders[osel]\n",
    "    fcustomer = customer[csel]\n",
    "    jn1 = fcustomer.merge(forders, left_on=\"C_CUSTKEY\", right_on=\"O_CUSTKEY\")\n",
    "    jn2 = jn1.merge(flineitem, left_on=\"O_ORDERKEY\", right_on=\"L_ORDERKEY\")\n",
    "\n",
    "    jn2[\"TMP\"] = jn2.L_EXTENDEDPRICE * (1 - jn2.L_DISCOUNT)\n",
    "\n",
    "    total = (\n",
    "        jn2.groupby(\n",
    "            [\"L_ORDERKEY\", \"O_ORDERDATE\", \"O_SHIPPRIORITY\"], as_index=False\n",
    "        )[\"TMP\"]\n",
    "        .sum()\n",
    "        .sort_values([\"TMP\"], ascending=False)\n",
    "    )\n",
    "    res = total[[\"L_ORDERKEY\", \"TMP\", \"O_ORDERDATE\", \"O_SHIPPRIORITY\"]]\n",
    "\n",
    "    print(\"Execution time: \", ((time.time() - t1) * 1000), \" (ms)\")\n",
    "    return res.head(10)\n",
    "\n",
    "q3_result = q3(lineitem, orders, customer)\n",
    "if bodo.get_rank()==0:\n",
    "    display(q3_result)"
   ]
  },
  {
   "cell_type": "markdown",
   "metadata": {},
   "source": [
    "### Q4: Order Priority Checking Query\n",
    "This query determines how well the order priority system is working and gives an assessment of customer satisfaction.\n",
    "\n",
    "Make sure you have run **`load_lineitem` and `load_orders`** from [loading data section](#loading_data) before running this query."
   ]
  },
  {
   "cell_type": "code",
   "execution_count": null,
   "metadata": {
    "tags": []
   },
   "outputs": [],
   "source": [
    "%%px\n",
    "@bodo.jit(cache=True)\n",
    "def q4(lineitem, orders):\n",
    "    date1 = \"1993-11-01\"\n",
    "    date2 = \"1993-08-01\"\n",
    "    t1 = time.time()\n",
    "    lsel = lineitem.L_COMMITDATE < lineitem.L_RECEIPTDATE\n",
    "    osel = (orders.O_ORDERDATE < date1) & (orders.O_ORDERDATE >= date2)\n",
    "    flineitem = lineitem[lsel]\n",
    "    forders = orders[osel]\n",
    "    jn = forders[forders[\"O_ORDERKEY\"].isin(flineitem[\"L_ORDERKEY\"])]\n",
    "    total = (\n",
    "        jn.groupby(\"O_ORDERPRIORITY\", as_index=False)[\"O_ORDERKEY\"]\n",
    "        .count()\n",
    "        .sort_values([\"O_ORDERPRIORITY\"])\n",
    "    )\n",
    "    print(\"Execution time: \", ((time.time() - t1) * 1000), \" (ms)\")\n",
    "    return total.head(10)\n",
    "\n",
    "q4_result = q4(lineitem, orders)\n",
    "if bodo.get_rank()==0:\n",
    "    display(q4_result)"
   ]
  },
  {
   "cell_type": "markdown",
   "metadata": {},
   "source": [
    "### Q6: Forecasting Revenue Change Query\n",
    "This query quantifies the amount of revenue increase that would have resulted from eliminating certain company-wide discounts in a given percentage range in a given year.\n",
    "\n",
    "Make sure you have run **`load_lineitem`** from [loading data section](#loading_data) before running this query."
   ]
  },
  {
   "cell_type": "code",
   "execution_count": null,
   "metadata": {
    "tags": []
   },
   "outputs": [],
   "source": [
    "%%px\n",
    "@bodo.jit(cache=True)\n",
    "def q6(lineitem):\n",
    "    date1 = \"1996-01-01\"\n",
    "    date2 = \"1997-01-01\"\n",
    "    t1 = time.time()\n",
    "    sel = (\n",
    "        (lineitem.L_SHIPDATE >= date1)\n",
    "        & (lineitem.L_SHIPDATE < date2)\n",
    "        & (lineitem.L_DISCOUNT >= 0.08)\n",
    "        & (lineitem.L_DISCOUNT <= 0.1)\n",
    "        & (lineitem.L_QUANTITY < 24)\n",
    "    )\n",
    "    flineitem = lineitem[sel]\n",
    "    total = (flineitem.L_EXTENDEDPRICE * flineitem.L_DISCOUNT).sum()\n",
    "    print(\"Execution time: \", ((time.time() - t1) * 1000), \" (ms)\")\n",
    "    print(total)\n",
    "    return total\n",
    "\n",
    "q6_result = q6(lineitem)"
   ]
  },
  {
   "cell_type": "markdown",
   "metadata": {},
   "source": [
    "### Q9: Product Type Profit Measure Query\n",
    "This query determines how much profit is made on a given line of parts, broken out by supplier nation and year.\n",
    "\n",
    "Make sure you have run **`load_lineitem`, `load_orders`, `load_part`, `load_nation`, `load_partsupp`, and `load_supplier`** from [loading data section](#loading_data) before running this query."
   ]
  },
  {
   "cell_type": "code",
   "execution_count": null,
   "metadata": {
    "tags": []
   },
   "outputs": [],
   "source": [
    "%%px\n",
    "@bodo.jit(cache=True)\n",
    "def q9(lineitem, orders, part, nation, partsupp, supplier):\n",
    "    t1 = time.time()\n",
    "    psel = part.P_NAME.str.contains(\"ghost\")\n",
    "    fpart = part[psel]\n",
    "    jn1 = lineitem.merge(fpart, left_on=\"L_PARTKEY\", right_on=\"P_PARTKEY\")\n",
    "    jn2 = jn1.merge(supplier, left_on=\"L_SUPPKEY\", right_on=\"S_SUPPKEY\")\n",
    "    jn3 = jn2.merge(nation, left_on=\"S_NATIONKEY\", right_on=\"N_NATIONKEY\")\n",
    "    jn4 = partsupp.merge(\n",
    "        jn3, left_on=[\"PS_PARTKEY\", \"PS_SUPPKEY\"], right_on=[\"L_PARTKEY\", \"L_SUPPKEY\"]\n",
    "    )\n",
    "    jn5 = jn4.merge(orders, left_on=\"L_ORDERKEY\", right_on=\"O_ORDERKEY\")\n",
    "    jn5[\"TMP\"] = jn5.L_EXTENDEDPRICE * (1 - jn5.L_DISCOUNT) - (\n",
    "        (1 * jn5.PS_SUPPLYCOST) * jn5.L_QUANTITY\n",
    "    )\n",
    "    jn5[\"O_YEAR\"] = jn5.O_ORDERDATE.dt.year\n",
    "    gb = jn5.groupby([\"N_NAME\", \"O_YEAR\"], as_index=False)[\"TMP\"].sum()\n",
    "    total = gb.sort_values([\"N_NAME\", \"O_YEAR\"], ascending=[True, False])\n",
    "    print(\"Execution time: \", ((time.time() - t1) * 1000), \" (ms)\")\n",
    "    return total.head(10)\n",
    "\n",
    "q9_result = q9(lineitem, orders, part, nation, partsupp, supplier)\n",
    "if bodo.get_rank()==0:\n",
    "    display(q9_result)"
   ]
  },
  {
   "cell_type": "markdown",
   "metadata": {},
   "source": [
    "### Q10: Returned Item Reporting Query\n",
    "This query identifies customers who might be having problems with the parts that are shipped to them.\n",
    "\n",
    "Make sure you have run **`load_lineitem`, `load_orders`, `load_customer`, and `load_nation`** from [loading data section](#loading_data) before running this query."
   ]
  },
  {
   "cell_type": "code",
   "execution_count": null,
   "metadata": {
    "tags": []
   },
   "outputs": [],
   "source": [
    "%%px\n",
    "@bodo.jit(cache=True)\n",
    "def q10(lineitem, orders, customer, nation):\n",
    "    date1 = \"1994-11-01\"\n",
    "    date2 = \"1995-02-01\"\n",
    "    t1 = time.time()\n",
    "    osel = (orders.O_ORDERDATE >= date1) & (orders.O_ORDERDATE < date2)\n",
    "    lsel = lineitem.L_RETURNFLAG == \"R\"\n",
    "    forders = orders[osel]\n",
    "    flineitem = lineitem[lsel]\n",
    "    jn1 = flineitem.merge(forders, left_on=\"L_ORDERKEY\", right_on=\"O_ORDERKEY\")\n",
    "    jn2 = jn1.merge(customer, left_on=\"O_CUSTKEY\", right_on=\"C_CUSTKEY\")\n",
    "    jn3 = jn2.merge(nation, left_on=\"C_NATIONKEY\", right_on=\"N_NATIONKEY\")\n",
    "    jn3[\"TMP\"] = jn3.L_EXTENDEDPRICE * (1.0 - jn3.L_DISCOUNT)\n",
    "    gb = jn3.groupby(\n",
    "        [\n",
    "            \"C_CUSTKEY\",\n",
    "            \"C_NAME\",\n",
    "            \"C_ACCTBAL\",\n",
    "            \"C_PHONE\",\n",
    "            \"N_NAME\",\n",
    "            \"C_ADDRESS\",\n",
    "            \"C_COMMENT\",\n",
    "        ],\n",
    "        as_index=False,\n",
    "    )[\"TMP\"].sum()\n",
    "    total = gb.sort_values(\"TMP\", ascending=False)\n",
    "    print(\"Execution time: \", ((time.time() - t1) * 1000), \" (ms)\")\n",
    "    return total.head(10)\n",
    "\n",
    "q10_result = q10(lineitem, orders, customer, nation)\n",
    "if bodo.get_rank()==0:\n",
    "    display(q10_result)"
   ]
  },
  {
   "cell_type": "markdown",
   "metadata": {},
   "source": [
    "### Q12: Shipping Modes and Order Priority Query\n",
    "This query determines whether selecting less expensive modes of shipping is negatively affecting the critical-priority orders by causing more parts to be received by customers after the committed date.\n",
    "\n",
    "Make sure you have run **`load_lineitem` and `load_orders`** from [loading data section](#loading_data) before running this query."
   ]
  },
  {
   "cell_type": "code",
   "execution_count": null,
   "metadata": {
    "tags": []
   },
   "outputs": [],
   "source": [
    "%%px\n",
    "@bodo.jit(cache=True)\n",
    "def q12(lineitem, orders):\n",
    "    date1 = \"1994-01-01\"\n",
    "    date2 = \"1995-01-01\"\n",
    "    t1 = time.time()\n",
    "    sel = (\n",
    "        (lineitem.L_RECEIPTDATE < date2)\n",
    "        & (lineitem.L_COMMITDATE < date2)\n",
    "        & (lineitem.L_SHIPDATE < date2)\n",
    "        & (lineitem.L_SHIPDATE < lineitem.L_COMMITDATE)\n",
    "        & (lineitem.L_COMMITDATE < lineitem.L_RECEIPTDATE)\n",
    "        & (lineitem.L_RECEIPTDATE >= date1)\n",
    "        & ((lineitem.L_SHIPMODE == \"MAIL\") | (lineitem.L_SHIPMODE == \"SHIP\"))\n",
    "    )\n",
    "    flineitem = lineitem[sel]\n",
    "    jn = flineitem.merge(orders, left_on=\"L_ORDERKEY\", right_on=\"O_ORDERKEY\")\n",
    "\n",
    "    def g1(x):\n",
    "        return ((x == \"1-URGENT\") | (x == \"2-HIGH\")).sum()\n",
    "\n",
    "    def g2(x):\n",
    "        return ((x != \"1-URGENT\") & (x != \"2-HIGH\")).sum()\n",
    "\n",
    "    total = jn.groupby(\"L_SHIPMODE\", as_index=False)[\"O_ORDERPRIORITY\"].agg((g1, g2))\n",
    "    total = total.sort_values(\"L_SHIPMODE\")\n",
    "    print(\"Execution time: \", ((time.time() - t1) * 1000), \" (ms)\")\n",
    "    return total.head(10)\n",
    "\n",
    "q12_result = q12(lineitem, orders)\n",
    "if bodo.get_rank()==0:\n",
    "    display(q12_result)"
   ]
  },
  {
   "cell_type": "markdown",
   "metadata": {},
   "source": [
    "### Q14: Promotion Effect Query\n",
    "This query monitors the market response to a promotion such as TV advertisements or a special campaign.\n",
    "\n",
    "Make sure you have run **`load_lineitem`** and **`load_part`** from [loading data section](#loading_data) before running this query."
   ]
  },
  {
   "cell_type": "code",
   "execution_count": null,
   "metadata": {
    "tags": []
   },
   "outputs": [],
   "source": [
    "%%px\n",
    "@bodo.jit(cache=True)\n",
    "def q14(lineitem, part):\n",
    "    startDate = \"1994-03-01\"\n",
    "    endDate = \"1994-04-01\"\n",
    "    p_type_like = \"PROMO\"\n",
    "    t1 = time.time()\n",
    "    sel = (lineitem.L_SHIPDATE >= startDate) & (lineitem.L_SHIPDATE < endDate)\n",
    "    flineitem = lineitem[sel]\n",
    "    jn = flineitem.merge(part, left_on=\"L_PARTKEY\", right_on=\"P_PARTKEY\")\n",
    "    jn[\"TMP\"] = jn.L_EXTENDEDPRICE * (1.0 - jn.L_DISCOUNT)\n",
    "    total = jn[jn.P_TYPE.str.startswith(p_type_like)].TMP.sum() * 100 / jn.TMP.sum()\n",
    "    print(\"Execution time: \", ((time.time() - t1) * 1000), \" (ms)\")\n",
    "    print(total)\n",
    "    return total\n",
    "\n",
    "q14_result = q14(lineitem, part)"
   ]
  },
  {
   "cell_type": "markdown",
   "metadata": {},
   "source": [
    "### Q18: Large Volume Customer Query\n",
    "This query ranks customers based on their having placed a large quantity order. Large quantity orders are defined as those orders whose total quantity is above a certain level.\n",
    "\n",
    "Make sure you have run **`load_lineitem`, `load_orders`, and `load_customer`** from [loading data section](#loading_data) before running this query."
   ]
  },
  {
   "cell_type": "code",
   "execution_count": null,
   "metadata": {
    "tags": []
   },
   "outputs": [],
   "source": [
    "%%px\n",
    "@bodo.jit(cache=True)\n",
    "def q18(lineitem, orders, customer):\n",
    "    t1 = time.time()\n",
    "    gb1 = lineitem.groupby(\"L_ORDERKEY\", as_index=False)[\"L_QUANTITY\"].sum()\n",
    "    fgb1 = gb1[gb1.L_QUANTITY > 300]\n",
    "    jn1 = fgb1.merge(orders, left_on=\"L_ORDERKEY\", right_on=\"O_ORDERKEY\")\n",
    "    jn2 = jn1.merge(customer, left_on=\"O_CUSTKEY\", right_on=\"C_CUSTKEY\")\n",
    "    gb2 = jn2.groupby(\n",
    "        [\"C_NAME\", \"C_CUSTKEY\", \"O_ORDERKEY\", \"O_ORDERDATE\", \"O_TOTALPRICE\"],\n",
    "        as_index=False,\n",
    "    )[\"L_QUANTITY\"].sum()\n",
    "    total = gb2.sort_values([\"O_TOTALPRICE\", \"O_ORDERDATE\"], ascending=[False, True])\n",
    "    print(\"Execution time: \", ((time.time() - t1) * 1000), \" (ms)\")\n",
    "    return total.head(10)\n",
    "\n",
    "q18_result = q18(lineitem, orders, customer)\n",
    "if bodo.get_rank()==0:\n",
    "    display(q18_result)"
   ]
  },
  {
   "cell_type": "markdown",
   "metadata": {},
   "source": [
    "### Q19: Discounted Revenue Query\n",
    "This query reports the gross discounted revenue attributed to the sale of selected parts handled in a particular manner.\n",
    "\n",
    "Make sure you have run **`load_lineitem`** and **`load_part`** from [loading data section](#loading_data) before running this query."
   ]
  },
  {
   "cell_type": "code",
   "execution_count": null,
   "metadata": {
    "tags": []
   },
   "outputs": [],
   "source": [
    "%%px\n",
    "@bodo.jit(cache=True)\n",
    "def q19(lineitem, part):\n",
    "    Brand31 = \"Brand#31\"\n",
    "    Brand43 = \"Brand#43\"\n",
    "    SMBOX = \"SM BOX\"\n",
    "    SMCASE = \"SM CASE\"\n",
    "    SMPACK = \"SM PACK\"\n",
    "    SMPKG = \"SM PKG\"\n",
    "    MEDBAG = \"MED BAG\"\n",
    "    MEDBOX = \"MED BOX\"\n",
    "    MEDPACK = \"MED PACK\"\n",
    "    MEDPKG = \"MED PKG\"\n",
    "    LGBOX = \"LG BOX\"\n",
    "    LGCASE = \"LG CASE\"\n",
    "    LGPACK = \"LG PACK\"\n",
    "    LGPKG = \"LG PKG\"\n",
    "    DELIVERINPERSON = \"DELIVER IN PERSON\"\n",
    "    AIR = \"AIR\"\n",
    "    AIRREG = \"AIRREG\"\n",
    "    t1 = time.time()\n",
    "    lsel = (\n",
    "        (\n",
    "            ((lineitem.L_QUANTITY <= 36) & (lineitem.L_QUANTITY >= 26))\n",
    "            | ((lineitem.L_QUANTITY <= 25) & (lineitem.L_QUANTITY >= 15))\n",
    "            | ((lineitem.L_QUANTITY <= 14) & (lineitem.L_QUANTITY >= 4))\n",
    "        )\n",
    "        & (lineitem.L_SHIPINSTRUCT == DELIVERINPERSON)\n",
    "        & ((lineitem.L_SHIPMODE == AIR) | (lineitem.L_SHIPMODE == AIRREG))\n",
    "    )\n",
    "    psel = (part.P_SIZE >= 1) & (\n",
    "        (\n",
    "            (part.P_SIZE <= 5)\n",
    "            & (part.P_BRAND == Brand31)\n",
    "            & (\n",
    "                (part.P_CONTAINER == SMBOX)\n",
    "                | (part.P_CONTAINER == SMCASE)\n",
    "                | (part.P_CONTAINER == SMPACK)\n",
    "                | (part.P_CONTAINER == SMPKG)\n",
    "            )\n",
    "        )\n",
    "        | (\n",
    "            (part.P_SIZE <= 10)\n",
    "            & (part.P_BRAND == Brand43)\n",
    "            & (\n",
    "                (part.P_CONTAINER == MEDBAG)\n",
    "                | (part.P_CONTAINER == MEDBOX)\n",
    "                | (part.P_CONTAINER == MEDPACK)\n",
    "                | (part.P_CONTAINER == MEDPKG)\n",
    "            )\n",
    "        )\n",
    "        | (\n",
    "            (part.P_SIZE <= 15)\n",
    "            & (part.P_BRAND == Brand43)\n",
    "            & (\n",
    "                (part.P_CONTAINER == LGBOX)\n",
    "                | (part.P_CONTAINER == LGCASE)\n",
    "                | (part.P_CONTAINER == LGPACK)\n",
    "                | (part.P_CONTAINER == LGPKG)\n",
    "            )\n",
    "        )\n",
    "    )\n",
    "    flineitem = lineitem[lsel]\n",
    "    fpart = part[psel]\n",
    "    jn = flineitem.merge(fpart, left_on=\"L_PARTKEY\", right_on=\"P_PARTKEY\")\n",
    "    jnsel = (\n",
    "        (jn.P_BRAND == Brand31)\n",
    "        & (\n",
    "            (jn.P_CONTAINER == SMBOX)\n",
    "            | (jn.P_CONTAINER == SMCASE)\n",
    "            | (jn.P_CONTAINER == SMPACK)\n",
    "            | (jn.P_CONTAINER == SMPKG)\n",
    "        )\n",
    "        & (jn.L_QUANTITY >= 4)\n",
    "        & (jn.L_QUANTITY <= 14)\n",
    "        & (jn.P_SIZE <= 5)\n",
    "        | (jn.P_BRAND == Brand43)\n",
    "        & (\n",
    "            (jn.P_CONTAINER == MEDBAG)\n",
    "            | (jn.P_CONTAINER == MEDBOX)\n",
    "            | (jn.P_CONTAINER == MEDPACK)\n",
    "            | (jn.P_CONTAINER == MEDPKG)\n",
    "        )\n",
    "        & (jn.L_QUANTITY >= 15)\n",
    "        & (jn.L_QUANTITY <= 25)\n",
    "        & (jn.P_SIZE <= 10)\n",
    "        | (jn.P_BRAND == Brand43)\n",
    "        & (\n",
    "            (jn.P_CONTAINER == LGBOX)\n",
    "            | (jn.P_CONTAINER == LGCASE)\n",
    "            | (jn.P_CONTAINER == LGPACK)\n",
    "            | (jn.P_CONTAINER == LGPKG)\n",
    "        )\n",
    "        & (jn.L_QUANTITY >= 26)\n",
    "        & (jn.L_QUANTITY <= 36)\n",
    "        & (jn.P_SIZE <= 15)\n",
    "    )\n",
    "    jn = jn[jnsel]\n",
    "    total = (jn.L_EXTENDEDPRICE * (1.0 - jn.L_DISCOUNT)).sum()\n",
    "    print(\"Execution time: \", ((time.time() - t1) * 1000), \" (ms)\")\n",
    "    print(total)\n",
    "    return total\n",
    "\n",
    "q19_result = q19(lineitem, part)"
   ]
  },
  {
   "cell_type": "markdown",
   "metadata": {},
   "source": [
    "### Q20: Potential Part Promotion Query\n",
    "This query identifies suppliers in a particular nation having selected parts that may be candidates for a promotional offer.\n",
    "\n",
    "Make sure you have run **`load_lineitem`, `load_part`, `load_nation`, `load_partsupp`, and `load_supplier`** from [loading data section](#loading_data) before running this query."
   ]
  },
  {
   "cell_type": "code",
   "execution_count": null,
   "metadata": {
    "tags": []
   },
   "outputs": [],
   "source": [
    "%%px\n",
    "@bodo.jit(cache=True)\n",
    "def q20(lineitem, part, nation, partsupp, supplier):\n",
    "    date1 = \"1996-01-01\"\n",
    "    date2 = \"1997-01-01\"\n",
    "    t1 = time.time()\n",
    "    psel = part.P_NAME.str.startswith(\"azure\")\n",
    "    nsel = nation.N_NAME == \"JORDAN\"\n",
    "    lsel = (lineitem.L_SHIPDATE >= date1) & (lineitem.L_SHIPDATE < date2)\n",
    "    fpart = part[psel]\n",
    "    fnation = nation[nsel]\n",
    "    flineitem = lineitem[lsel]\n",
    "    jn1 = fpart.merge(partsupp, left_on=\"P_PARTKEY\", right_on=\"PS_PARTKEY\")\n",
    "    jn2 = jn1.merge(\n",
    "        flineitem,\n",
    "        left_on=[\"PS_PARTKEY\", \"PS_SUPPKEY\"],\n",
    "        right_on=[\"L_PARTKEY\", \"L_SUPPKEY\"],\n",
    "    )\n",
    "    gb = jn2.groupby([\"PS_PARTKEY\", \"PS_SUPPKEY\", \"PS_AVAILQTY\"], as_index=False)[\n",
    "        \"L_QUANTITY\"\n",
    "    ].sum()\n",
    "    gbsel = gb.PS_AVAILQTY > (0.5 * gb.L_QUANTITY)\n",
    "    fgb = gb[gbsel]\n",
    "    jn3 = fgb.merge(supplier, left_on=\"PS_SUPPKEY\", right_on=\"S_SUPPKEY\")\n",
    "    jn4 = fnation.merge(jn3, left_on=\"N_NATIONKEY\", right_on=\"S_NATIONKEY\")\n",
    "    jn4 = jn4[[\"S_NAME\", \"S_ADDRESS\"]]\n",
    "    total = jn4.sort_values(\"S_NAME\").drop_duplicates()\n",
    "    print(\"Execution time: \", ((time.time() - t1) * 1000), \" (ms)\")\n",
    "    return total.head(10)\n",
    "\n",
    "q20_result = q20(lineitem, part, nation, partsupp, supplier)\n",
    "if bodo.get_rank()==0:\n",
    "    display(q20_result)"
   ]
  }
 ],
 "metadata": {
  "interpreter": {
   "hash": "84d1d8d97458420fee614d334608cc9a296a01a4b7a7f960fcfd0f0633eb59fd"
  },
  "kernelspec": {
   "display_name": "SSH 10.0.9.154 Remote-Kernel",
   "language": "",
   "name": "rik_ssh_10_0_9_154_remotekernel"
  },
  "language_info": {
   "codemirror_mode": {
    "name": "ipython",
    "version": 3
   },
   "file_extension": ".py",
   "mimetype": "text/x-python",
   "name": "python",
   "nbconvert_exporter": "python",
   "pygments_lexer": "ipython3",
   "version": "3.9.12"
  }
 },
 "nbformat": 4,
 "nbformat_minor": 4
}
