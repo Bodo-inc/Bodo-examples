{
 "cells": [
  {
   "cell_type": "code",
   "execution_count": 1,
   "id": "7cab08a9-5db2-403f-a8ff-8133a39dab17",
   "metadata": {
    "execution": {
     "iopub.execute_input": "2022-06-28T11:13:57.029414Z",
     "iopub.status.busy": "2022-06-28T11:13:57.029059Z",
     "iopub.status.idle": "2022-06-28T11:13:57.571847Z",
     "shell.execute_reply": "2022-06-28T11:13:57.571296Z",
     "shell.execute_reply.started": "2022-06-28T11:13:57.029386Z"
    },
    "tags": []
   },
   "outputs": [],
   "source": [
    "from bodo_platform_utils import secrets"
   ]
  },
  {
   "cell_type": "code",
   "execution_count": 2,
   "id": "47bbc5e8-146d-4d63-b7c5-70854ee1d0dc",
   "metadata": {
    "execution": {
     "iopub.execute_input": "2022-06-28T11:13:59.357582Z",
     "iopub.status.busy": "2022-06-28T11:13:59.357152Z",
     "iopub.status.idle": "2022-06-28T11:13:59.479467Z",
     "shell.execute_reply": "2022-06-28T11:13:59.478997Z",
     "shell.execute_reply.started": "2022-06-28T11:13:59.357558Z"
    },
    "tags": []
   },
   "outputs": [
    {
     "data": {
      "text/plain": [
       "{'port': 443,\n",
       " 'host': 'pm.snowflakecomputing.com',\n",
       " 'username': 'PC_PARTNER_USERNAME',\n",
       " 'database': 'PC_PARTNER_DB',\n",
       " 'password': '******',\n",
       " 'role': 'PC_PARTNER_ROLE',\n",
       " 'warehouse': 'PC_PARTNER_WAREHOUSE'}"
      ]
     },
     "execution_count": 2,
     "metadata": {},
     "output_type": "execute_result"
    }
   ],
   "source": [
    "secrets.snowflake_credentials()"
   ]
  },
  {
   "cell_type": "code",
   "execution_count": null,
   "id": "6299f976-0965-4294-b79b-7c046b69e374",
   "metadata": {},
   "outputs": [],
   "source": []
  }
 ],
 "metadata": {
  "kernelspec": {
   "display_name": "SSH 10.0.1.75 Remote-Kernel",
   "language": "",
   "name": "rik_ssh_10_0_1_75_remotekernel"
  },
  "language_info": {
   "codemirror_mode": {
    "name": "ipython",
    "version": 3
   },
   "file_extension": ".py",
   "mimetype": "text/x-python",
   "name": "python",
   "nbconvert_exporter": "python",
   "pygments_lexer": "ipython3",
   "version": "3.9.12"
  }
 },
 "nbformat": 4,
 "nbformat_minor": 5
}
