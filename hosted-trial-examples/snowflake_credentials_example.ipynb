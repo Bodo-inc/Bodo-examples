{
 "cells": [
  {
   "cell_type": "markdown",
   "id": "a00421e9-a97f-4994-923c-cb7de16df3b3",
   "metadata": {
    "execution": {
     "iopub.execute_input": "2022-06-28T12:06:38.093193Z",
     "iopub.status.busy": "2022-06-28T12:06:38.092838Z",
     "iopub.status.idle": "2022-06-28T12:06:38.095879Z",
     "shell.execute_reply": "2022-06-28T12:06:38.095388Z",
     "shell.execute_reply.started": "2022-06-28T12:06:38.093172Z"
    },
    "tags": []
   },
   "source": [
    "# Loading Snowflake Credentials"
   ]
  },
  {
   "cell_type": "code",
   "execution_count": 1,
   "id": "ca7ecc77-a7bd-47d0-a533-51d34ca5b957",
   "metadata": {
    "execution": {
     "iopub.execute_input": "2022-06-28T12:55:39.128050Z",
     "iopub.status.busy": "2022-06-28T12:55:39.127703Z",
     "iopub.status.idle": "2022-06-28T12:55:39.664587Z",
     "shell.execute_reply": "2022-06-28T12:55:39.663987Z",
     "shell.execute_reply.started": "2022-06-28T12:55:39.128020Z"
    },
    "tags": []
   },
   "outputs": [],
   "source": [
    "from bodo_platform_utils import secrets"
   ]
  },
  {
   "cell_type": "code",
   "execution_count": 2,
   "id": "47bbc5e8-146d-4d63-b7c5-70854ee1d0dc",
   "metadata": {
    "execution": {
     "iopub.execute_input": "2022-06-28T12:55:39.665745Z",
     "iopub.status.busy": "2022-06-28T12:55:39.665418Z",
     "iopub.status.idle": "2022-06-28T12:55:39.772628Z",
     "shell.execute_reply": "2022-06-28T12:55:39.772060Z",
     "shell.execute_reply.started": "2022-06-28T12:55:39.665725Z"
    },
    "tags": []
   },
   "outputs": [],
   "source": [
    "credentials = secrets.snowflake_credentials()"
   ]
  },
  {
   "cell_type": "code",
   "execution_count": 3,
   "id": "6299f976-0965-4294-b79b-7c046b69e374",
   "metadata": {
    "execution": {
     "iopub.execute_input": "2022-06-28T12:55:39.921412Z",
     "iopub.status.busy": "2022-06-28T12:55:39.921160Z",
     "iopub.status.idle": "2022-06-28T12:55:39.928773Z",
     "shell.execute_reply": "2022-06-28T12:55:39.928193Z",
     "shell.execute_reply.started": "2022-06-28T12:55:39.921392Z"
    },
    "tags": []
   },
   "outputs": [
    {
     "data": {
      "text/plain": [
       "{'port': 443,\n",
       " 'host': 'pm.snowflakecomputing.com',\n",
       " 'username': 'PC_PARTNER_USERNAME',\n",
       " 'database': 'PC_PARTNER_DB',\n",
       " 'password': '******',\n",
       " 'role': 'PC_PARTNER_ROLE',\n",
       " 'warehouse': 'PC_PARTNER_WAREHOUSE'}"
      ]
     },
     "execution_count": 3,
     "metadata": {},
     "output_type": "execute_result"
    }
   ],
   "source": [
    "credentials"
   ]
  },
  {
   "cell_type": "markdown",
   "id": "0a233319-de4a-499d-a4f5-9b6a8a04aa27",
   "metadata": {},
   "source": [
    "# Reading from Snowflake"
   ]
  },
  {
   "cell_type": "code",
   "execution_count": 4,
   "id": "94c347a5-cf47-40f4-a22a-0a55b7896b1e",
   "metadata": {
    "execution": {
     "iopub.execute_input": "2022-06-28T12:55:41.689827Z",
     "iopub.status.busy": "2022-06-28T12:55:41.689483Z",
     "iopub.status.idle": "2022-06-28T12:55:44.605668Z",
     "shell.execute_reply": "2022-06-28T12:55:44.605088Z",
     "shell.execute_reply.started": "2022-06-28T12:55:41.689805Z"
    },
    "tags": []
   },
   "outputs": [],
   "source": [
    "import bodo\n",
    "import pandas as pd\n",
    "from snowflake.sqlalchemy import URL\n",
    "from sqlalchemy import create_engine\n",
    "\n",
    "\n",
    "def get_snowflake_url():\n",
    "    url = URL(\n",
    "        account=credentials[\"account\"],\n",
    "        user=credentials[\"username\"],\n",
    "        password=credentials[\"password\"],\n",
    "        database=credentials[\"database\"],\n",
    "        warehouse=credentials[\"warehouse\"],\n",
    "        role=credentials[\"role\"],\n",
    "        schema=credentials[\"schema\"]\n",
    "    )\n",
    "    return url\n",
    "\n",
    "\n",
    "\n",
    "@bodo.jit\n",
    "def read_snowflake(url, table_name):\n",
    "    query = f\"SELECT * FROM {table_name}\"\n",
    "    df = pd.read_sql(query,url)\n",
    "    return df\n",
    "\n",
    "\n",
    "url = get_snowflake_url()\n",
    "df = read_snowflake(url, temp_table_name)"
   ]
  },
  {
   "cell_type": "code",
   "execution_count": 5,
   "id": "b0428ec4-dc03-409c-83b0-03855cf66722",
   "metadata": {
    "execution": {
     "iopub.execute_input": "2022-06-28T12:55:44.606933Z",
     "iopub.status.busy": "2022-06-28T12:55:44.606597Z",
     "iopub.status.idle": "2022-06-28T12:55:44.614486Z",
     "shell.execute_reply": "2022-06-28T12:55:44.614056Z",
     "shell.execute_reply.started": "2022-06-28T12:55:44.606913Z"
    },
    "tags": []
   },
   "outputs": [
    {
     "data": {
      "text/html": [
       "<div>\n",
       "<style scoped>\n",
       "    .dataframe tbody tr th:only-of-type {\n",
       "        vertical-align: middle;\n",
       "    }\n",
       "\n",
       "    .dataframe tbody tr th {\n",
       "        vertical-align: top;\n",
       "    }\n",
       "\n",
       "    .dataframe thead th {\n",
       "        text-align: right;\n",
       "    }\n",
       "</style>\n",
       "<table border=\"1\" class=\"dataframe\">\n",
       "  <thead>\n",
       "    <tr style=\"text-align: right;\">\n",
       "      <th></th>\n",
       "      <th>uid</th>\n",
       "      <th>created_at</th>\n",
       "      <th>activated_at</th>\n",
       "      <th>converted_at</th>\n",
       "    </tr>\n",
       "  </thead>\n",
       "  <tbody>\n",
       "    <tr>\n",
       "      <th>0</th>\n",
       "      <td>1</td>\n",
       "      <td>2022-06-02 14:05:15</td>\n",
       "      <td>2022-06-02 14:15:15</td>\n",
       "      <td>2022-06-08 14:05:15</td>\n",
       "    </tr>\n",
       "  </tbody>\n",
       "</table>\n",
       "</div>"
      ],
      "text/plain": [
       "  uid          created_at        activated_at        converted_at\n",
       "0   1 2022-06-02 14:05:15 2022-06-02 14:15:15 2022-06-08 14:05:15"
      ]
     },
     "execution_count": 5,
     "metadata": {},
     "output_type": "execute_result"
    }
   ],
   "source": [
    "df"
   ]
  },
  {
   "cell_type": "code",
   "execution_count": null,
   "id": "044f25f6-9851-46a7-a157-a640b6bdcbf4",
   "metadata": {},
   "outputs": [],
   "source": []
  }
 ],
 "metadata": {
  "kernelspec": {
   "display_name": "SSH 10.0.1.75 Remote-Kernel",
   "language": "",
   "name": "rik_ssh_10_0_1_75_remotekernel"
  },
  "language_info": {
   "codemirror_mode": {
    "name": "ipython",
    "version": 3
   },
   "file_extension": ".py",
   "mimetype": "text/x-python",
   "name": "python",
   "nbconvert_exporter": "python",
   "pygments_lexer": "ipython3",
   "version": "3.9.12"
  }
 },
 "nbformat": 4,
 "nbformat_minor": 5
}
