{
 "cells": [
  {
   "cell_type": "code",
   "execution_count": 1,
   "id": "e6ff2247-29ce-4474-abe6-dc40630d27b4",
   "metadata": {
    "execution": {
     "iopub.execute_input": "2022-07-06T17:44:34.992038Z",
     "iopub.status.busy": "2022-07-06T17:44:34.991704Z",
     "iopub.status.idle": "2022-07-06T17:44:45.770391Z",
     "shell.execute_reply": "2022-07-06T17:44:45.769881Z",
     "shell.execute_reply.started": "2022-07-06T17:44:34.992017Z"
    },
    "tags": []
   },
   "outputs": [
    {
     "name": "stdout",
     "output_type": "stream",
     "text": [
      "Starting 8 engines with <class 'ipyparallel.cluster.launcher.MPIEngineSetLauncher'>\n"
     ]
    },
    {
     "data": {
      "application/vnd.jupyter.widget-view+json": {
       "model_id": "61c3349ea74d4ed7a294dfe8f4cfda16",
       "version_major": 2,
       "version_minor": 0
      },
      "text/plain": [
       "  0%|          | 0/8 [00:00<?, ?engine/s]"
      ]
     },
     "metadata": {},
     "output_type": "display_data"
    },
    {
     "data": {
      "application/vnd.jupyter.widget-view+json": {
       "model_id": "26b7db6dc7624cd99697d846171cecc4",
       "version_major": 2,
       "version_minor": 0
      },
      "text/plain": [
       "%px:   0%|          | 0/8 [00:00<?, ?tasks/s]"
      ]
     },
     "metadata": {},
     "output_type": "display_data"
    }
   ],
   "source": [
    "%%px\n",
    "from utils.creds import *\n",
    "load_sf_creds()\n",
    "username=os.environ[\"user\"]\n",
    "password=os.environ[\"password\"]\n",
    "account=os.environ[\"account\"]\n",
    "warehouse=\"TEST_WH\"\n",
    "database=os.environ[\"dbname\"]\n",
    "schema=\"TPCH_SF1\"\n",
    "import sys\n",
    "import bodo\n",
    "rank=bodo.get_rank()\n",
    "log = open(f\"/tmp/process{rank}.log\", \"w\")\n",
    "sys.stderr = log"
   ]
  },
  {
   "cell_type": "code",
   "execution_count": 2,
   "id": "e34b490c-2eda-4b09-ad21-bb8313c1fff0",
   "metadata": {
    "execution": {
     "iopub.execute_input": "2022-07-06T17:44:49.434202Z",
     "iopub.status.busy": "2022-07-06T17:44:49.433915Z",
     "iopub.status.idle": "2022-07-06T17:45:09.991994Z",
     "shell.execute_reply": "2022-07-06T17:45:09.991491Z",
     "shell.execute_reply.started": "2022-07-06T17:44:49.434182Z"
    },
    "tags": []
   },
   "outputs": [
    {
     "data": {
      "application/vnd.jupyter.widget-view+json": {
       "model_id": "dcf32b451983486da23896a48c437768",
       "version_major": 2,
       "version_minor": 0
      },
      "text/plain": [
       "%px:   0%|          | 0/8 [00:00<?, ?tasks/s]"
      ]
     },
     "metadata": {},
     "output_type": "display_data"
    },
    {
     "data": {
      "text/plain": [
       "[stdout:0] Q01 Execution time (s):  4.328776076930808\n"
      ]
     },
     "metadata": {},
     "output_type": "display_data"
    }
   ],
   "source": [
    "%%px\n",
    "import time\n",
    "import bodo\n",
    "import bodosql\n",
    "@bodo.jit(cache=False)\n",
    "def tpch_q01_sql(schema,conn_str):\n",
    "    t1 = time.time()\n",
    "    bc = bodosql.BodoSQLContext(\n",
    "        {\n",
    "            \"lineitem\": bodosql.TablePath(\n",
    "                f\"{schema}.lineitem\", \"sql\", conn_str=conn_str, reorder_io=True\n",
    "            ),\n",
    "        })\n",
    "    total = bc.sql(\n",
    "        \"\"\"select\n",
    "                l_returnflag,\n",
    "                l_linestatus,\n",
    "                sum(l_quantity) as sum_qty,\n",
    "                sum(l_extendedprice) as sum_base_price,\n",
    "                sum(l_extendedprice * (1 - l_discount)) as sum_disc_price,\n",
    "                sum(l_extendedprice * (1 - l_discount) * (1 + l_tax)) as sum_charge,\n",
    "                avg(l_quantity) as avg_qty,\n",
    "                avg(l_extendedprice) as avg_price,\n",
    "                avg(l_discount) as avg_disc,\n",
    "                count(*) as count_order\n",
    "            from\n",
    "                lineitem\n",
    "            where\n",
    "                l_shipdate <= date '1998-12-01' - interval '90' day\n",
    "            group by\n",
    "                l_returnflag,\n",
    "                l_linestatus\n",
    "            order by\n",
    "                l_returnflag,\n",
    "                l_linestatus\"\"\"\n",
    "    )\n",
    "\n",
    "    print(\"Q01 Execution time (s): \", time.time() - t1)\n",
    "    return total\n",
    "\n",
    "q1_result=tpch_q01_sql(schema,f\"snowflake://{username}:{password}@{account}/{database}/PUBLIC?warehouse={warehouse}\")"
   ]
  },
  {
   "cell_type": "code",
   "execution_count": 3,
   "id": "4dfc0d1f-8596-43bf-9aa5-035ee46405bb",
   "metadata": {
    "execution": {
     "iopub.execute_input": "2022-07-06T17:45:17.517329Z",
     "iopub.status.busy": "2022-07-06T17:45:17.517027Z",
     "iopub.status.idle": "2022-07-06T17:45:17.553368Z",
     "shell.execute_reply": "2022-07-06T17:45:17.552881Z",
     "shell.execute_reply.started": "2022-07-06T17:45:17.517307Z"
    },
    "tags": []
   },
   "outputs": [
    {
     "data": {
      "text/html": [
       "<div>\n",
       "<style scoped>\n",
       "    .dataframe tbody tr th:only-of-type {\n",
       "        vertical-align: middle;\n",
       "    }\n",
       "\n",
       "    .dataframe tbody tr th {\n",
       "        vertical-align: top;\n",
       "    }\n",
       "\n",
       "    .dataframe thead th {\n",
       "        text-align: right;\n",
       "    }\n",
       "</style>\n",
       "<table border=\"1\" class=\"dataframe\">\n",
       "  <thead>\n",
       "    <tr style=\"text-align: right;\">\n",
       "      <th></th>\n",
       "      <th>l_returnflag</th>\n",
       "      <th>l_linestatus</th>\n",
       "      <th>sum_qty</th>\n",
       "      <th>sum_base_price</th>\n",
       "      <th>sum_disc_price</th>\n",
       "      <th>sum_charge</th>\n",
       "      <th>avg_qty</th>\n",
       "      <th>avg_price</th>\n",
       "      <th>avg_disc</th>\n",
       "      <th>count_order</th>\n",
       "    </tr>\n",
       "  </thead>\n",
       "  <tbody>\n",
       "  </tbody>\n",
       "</table>\n",
       "</div>"
      ],
      "text/plain": [
       "\u001b[0;31mOut[6:3]: \u001b[0m\n",
       "Empty DataFrame\n",
       "Columns: [l_returnflag, l_linestatus, sum_qty, sum_base_price, sum_disc_price, sum_charge, avg_qty, avg_price, avg_disc, count_order]\n",
       "Index: []"
      ]
     },
     "metadata": {
      "after": null,
      "completed": null,
      "data": {},
      "engine_id": 6,
      "engine_uuid": "d6eee96f-f23c51f1d6fa8a920084c22b",
      "error": null,
      "execute_input": "q1_result\n",
      "execute_result": {
       "data": {
        "text/html": "<div>\n<style scoped>\n    .dataframe tbody tr th:only-of-type {\n        vertical-align: middle;\n    }\n\n    .dataframe tbody tr th {\n        vertical-align: top;\n    }\n\n    .dataframe thead th {\n        text-align: right;\n    }\n</style>\n<table border=\"1\" class=\"dataframe\">\n  <thead>\n    <tr style=\"text-align: right;\">\n      <th></th>\n      <th>l_returnflag</th>\n      <th>l_linestatus</th>\n      <th>sum_qty</th>\n      <th>sum_base_price</th>\n      <th>sum_disc_price</th>\n      <th>sum_charge</th>\n      <th>avg_qty</th>\n      <th>avg_price</th>\n      <th>avg_disc</th>\n      <th>count_order</th>\n    </tr>\n  </thead>\n  <tbody>\n  </tbody>\n</table>\n</div>",
        "text/plain": "Empty DataFrame\nColumns: [l_returnflag, l_linestatus, sum_qty, sum_base_price, sum_disc_price, sum_charge, avg_qty, avg_price, avg_disc, count_order]\nIndex: []"
       },
       "execution_count": 3,
       "metadata": {}
      },
      "follow": null,
      "msg_id": null,
      "outputs": [],
      "received": null,
      "started": null,
      "status": null,
      "stderr": "",
      "stdout": "",
      "submitted": "2022-07-06T17:45:17.518744Z"
     },
     "output_type": "display_data"
    },
    {
     "data": {
      "text/html": [
       "<div>\n",
       "<style scoped>\n",
       "    .dataframe tbody tr th:only-of-type {\n",
       "        vertical-align: middle;\n",
       "    }\n",
       "\n",
       "    .dataframe tbody tr th {\n",
       "        vertical-align: top;\n",
       "    }\n",
       "\n",
       "    .dataframe thead th {\n",
       "        text-align: right;\n",
       "    }\n",
       "</style>\n",
       "<table border=\"1\" class=\"dataframe\">\n",
       "  <thead>\n",
       "    <tr style=\"text-align: right;\">\n",
       "      <th></th>\n",
       "      <th>l_returnflag</th>\n",
       "      <th>l_linestatus</th>\n",
       "      <th>sum_qty</th>\n",
       "      <th>sum_base_price</th>\n",
       "      <th>sum_disc_price</th>\n",
       "      <th>sum_charge</th>\n",
       "      <th>avg_qty</th>\n",
       "      <th>avg_price</th>\n",
       "      <th>avg_disc</th>\n",
       "      <th>count_order</th>\n",
       "    </tr>\n",
       "  </thead>\n",
       "  <tbody>\n",
       "  </tbody>\n",
       "</table>\n",
       "</div>"
      ],
      "text/plain": [
       "\u001b[0;31mOut[5:3]: \u001b[0m\n",
       "Empty DataFrame\n",
       "Columns: [l_returnflag, l_linestatus, sum_qty, sum_base_price, sum_disc_price, sum_charge, avg_qty, avg_price, avg_disc, count_order]\n",
       "Index: []"
      ]
     },
     "metadata": {
      "after": null,
      "completed": null,
      "data": {},
      "engine_id": 5,
      "engine_uuid": "1bb9f844-3e65298ab85c336bfa4dac37",
      "error": null,
      "execute_input": "q1_result\n",
      "execute_result": {
       "data": {
        "text/html": "<div>\n<style scoped>\n    .dataframe tbody tr th:only-of-type {\n        vertical-align: middle;\n    }\n\n    .dataframe tbody tr th {\n        vertical-align: top;\n    }\n\n    .dataframe thead th {\n        text-align: right;\n    }\n</style>\n<table border=\"1\" class=\"dataframe\">\n  <thead>\n    <tr style=\"text-align: right;\">\n      <th></th>\n      <th>l_returnflag</th>\n      <th>l_linestatus</th>\n      <th>sum_qty</th>\n      <th>sum_base_price</th>\n      <th>sum_disc_price</th>\n      <th>sum_charge</th>\n      <th>avg_qty</th>\n      <th>avg_price</th>\n      <th>avg_disc</th>\n      <th>count_order</th>\n    </tr>\n  </thead>\n  <tbody>\n  </tbody>\n</table>\n</div>",
        "text/plain": "Empty DataFrame\nColumns: [l_returnflag, l_linestatus, sum_qty, sum_base_price, sum_disc_price, sum_charge, avg_qty, avg_price, avg_disc, count_order]\nIndex: []"
       },
       "execution_count": 3,
       "metadata": {}
      },
      "follow": null,
      "msg_id": null,
      "outputs": [],
      "received": null,
      "started": null,
      "status": null,
      "stderr": "",
      "stdout": "",
      "submitted": "2022-07-06T17:45:17.518712Z"
     },
     "output_type": "display_data"
    },
    {
     "data": {
      "text/html": [
       "<div>\n",
       "<style scoped>\n",
       "    .dataframe tbody tr th:only-of-type {\n",
       "        vertical-align: middle;\n",
       "    }\n",
       "\n",
       "    .dataframe tbody tr th {\n",
       "        vertical-align: top;\n",
       "    }\n",
       "\n",
       "    .dataframe thead th {\n",
       "        text-align: right;\n",
       "    }\n",
       "</style>\n",
       "<table border=\"1\" class=\"dataframe\">\n",
       "  <thead>\n",
       "    <tr style=\"text-align: right;\">\n",
       "      <th></th>\n",
       "      <th>l_returnflag</th>\n",
       "      <th>l_linestatus</th>\n",
       "      <th>sum_qty</th>\n",
       "      <th>sum_base_price</th>\n",
       "      <th>sum_disc_price</th>\n",
       "      <th>sum_charge</th>\n",
       "      <th>avg_qty</th>\n",
       "      <th>avg_price</th>\n",
       "      <th>avg_disc</th>\n",
       "      <th>count_order</th>\n",
       "    </tr>\n",
       "  </thead>\n",
       "  <tbody>\n",
       "  </tbody>\n",
       "</table>\n",
       "</div>"
      ],
      "text/plain": [
       "\u001b[0;31mOut[1:3]: \u001b[0m\n",
       "Empty DataFrame\n",
       "Columns: [l_returnflag, l_linestatus, sum_qty, sum_base_price, sum_disc_price, sum_charge, avg_qty, avg_price, avg_disc, count_order]\n",
       "Index: []"
      ]
     },
     "metadata": {
      "after": null,
      "completed": null,
      "data": {},
      "engine_id": 1,
      "engine_uuid": "f134a26f-2a698fe268bfe2531ad9db75",
      "error": null,
      "execute_input": "q1_result\n",
      "execute_result": {
       "data": {
        "text/html": "<div>\n<style scoped>\n    .dataframe tbody tr th:only-of-type {\n        vertical-align: middle;\n    }\n\n    .dataframe tbody tr th {\n        vertical-align: top;\n    }\n\n    .dataframe thead th {\n        text-align: right;\n    }\n</style>\n<table border=\"1\" class=\"dataframe\">\n  <thead>\n    <tr style=\"text-align: right;\">\n      <th></th>\n      <th>l_returnflag</th>\n      <th>l_linestatus</th>\n      <th>sum_qty</th>\n      <th>sum_base_price</th>\n      <th>sum_disc_price</th>\n      <th>sum_charge</th>\n      <th>avg_qty</th>\n      <th>avg_price</th>\n      <th>avg_disc</th>\n      <th>count_order</th>\n    </tr>\n  </thead>\n  <tbody>\n  </tbody>\n</table>\n</div>",
        "text/plain": "Empty DataFrame\nColumns: [l_returnflag, l_linestatus, sum_qty, sum_base_price, sum_disc_price, sum_charge, avg_qty, avg_price, avg_disc, count_order]\nIndex: []"
       },
       "execution_count": 3,
       "metadata": {}
      },
      "follow": null,
      "msg_id": null,
      "outputs": [],
      "received": null,
      "started": null,
      "status": null,
      "stderr": "",
      "stdout": "",
      "submitted": "2022-07-06T17:45:17.518588Z"
     },
     "output_type": "display_data"
    },
    {
     "data": {
      "text/html": [
       "<div>\n",
       "<style scoped>\n",
       "    .dataframe tbody tr th:only-of-type {\n",
       "        vertical-align: middle;\n",
       "    }\n",
       "\n",
       "    .dataframe tbody tr th {\n",
       "        vertical-align: top;\n",
       "    }\n",
       "\n",
       "    .dataframe thead th {\n",
       "        text-align: right;\n",
       "    }\n",
       "</style>\n",
       "<table border=\"1\" class=\"dataframe\">\n",
       "  <thead>\n",
       "    <tr style=\"text-align: right;\">\n",
       "      <th></th>\n",
       "      <th>l_returnflag</th>\n",
       "      <th>l_linestatus</th>\n",
       "      <th>sum_qty</th>\n",
       "      <th>sum_base_price</th>\n",
       "      <th>sum_disc_price</th>\n",
       "      <th>sum_charge</th>\n",
       "      <th>avg_qty</th>\n",
       "      <th>avg_price</th>\n",
       "      <th>avg_disc</th>\n",
       "      <th>count_order</th>\n",
       "    </tr>\n",
       "  </thead>\n",
       "  <tbody>\n",
       "  </tbody>\n",
       "</table>\n",
       "</div>"
      ],
      "text/plain": [
       "\u001b[0;31mOut[7:3]: \u001b[0m\n",
       "Empty DataFrame\n",
       "Columns: [l_returnflag, l_linestatus, sum_qty, sum_base_price, sum_disc_price, sum_charge, avg_qty, avg_price, avg_disc, count_order]\n",
       "Index: []"
      ]
     },
     "metadata": {
      "after": null,
      "completed": null,
      "data": {},
      "engine_id": 7,
      "engine_uuid": "ef7d49b9-7a23c3a67d00d21893d6edcd",
      "error": null,
      "execute_input": "q1_result\n",
      "execute_result": {
       "data": {
        "text/html": "<div>\n<style scoped>\n    .dataframe tbody tr th:only-of-type {\n        vertical-align: middle;\n    }\n\n    .dataframe tbody tr th {\n        vertical-align: top;\n    }\n\n    .dataframe thead th {\n        text-align: right;\n    }\n</style>\n<table border=\"1\" class=\"dataframe\">\n  <thead>\n    <tr style=\"text-align: right;\">\n      <th></th>\n      <th>l_returnflag</th>\n      <th>l_linestatus</th>\n      <th>sum_qty</th>\n      <th>sum_base_price</th>\n      <th>sum_disc_price</th>\n      <th>sum_charge</th>\n      <th>avg_qty</th>\n      <th>avg_price</th>\n      <th>avg_disc</th>\n      <th>count_order</th>\n    </tr>\n  </thead>\n  <tbody>\n  </tbody>\n</table>\n</div>",
        "text/plain": "Empty DataFrame\nColumns: [l_returnflag, l_linestatus, sum_qty, sum_base_price, sum_disc_price, sum_charge, avg_qty, avg_price, avg_disc, count_order]\nIndex: []"
       },
       "execution_count": 3,
       "metadata": {}
      },
      "follow": null,
      "msg_id": null,
      "outputs": [],
      "received": null,
      "started": null,
      "status": null,
      "stderr": "",
      "stdout": "",
      "submitted": "2022-07-06T17:45:17.518842Z"
     },
     "output_type": "display_data"
    },
    {
     "data": {
      "text/html": [
       "<div>\n",
       "<style scoped>\n",
       "    .dataframe tbody tr th:only-of-type {\n",
       "        vertical-align: middle;\n",
       "    }\n",
       "\n",
       "    .dataframe tbody tr th {\n",
       "        vertical-align: top;\n",
       "    }\n",
       "\n",
       "    .dataframe thead th {\n",
       "        text-align: right;\n",
       "    }\n",
       "</style>\n",
       "<table border=\"1\" class=\"dataframe\">\n",
       "  <thead>\n",
       "    <tr style=\"text-align: right;\">\n",
       "      <th></th>\n",
       "      <th>l_returnflag</th>\n",
       "      <th>l_linestatus</th>\n",
       "      <th>sum_qty</th>\n",
       "      <th>sum_base_price</th>\n",
       "      <th>sum_disc_price</th>\n",
       "      <th>sum_charge</th>\n",
       "      <th>avg_qty</th>\n",
       "      <th>avg_price</th>\n",
       "      <th>avg_disc</th>\n",
       "      <th>count_order</th>\n",
       "    </tr>\n",
       "  </thead>\n",
       "  <tbody>\n",
       "  </tbody>\n",
       "</table>\n",
       "</div>"
      ],
      "text/plain": [
       "\u001b[0;31mOut[3:3]: \u001b[0m\n",
       "Empty DataFrame\n",
       "Columns: [l_returnflag, l_linestatus, sum_qty, sum_base_price, sum_disc_price, sum_charge, avg_qty, avg_price, avg_disc, count_order]\n",
       "Index: []"
      ]
     },
     "metadata": {
      "after": null,
      "completed": null,
      "data": {},
      "engine_id": 3,
      "engine_uuid": "62143fd9-589db64f708ebacf3d7693fe",
      "error": null,
      "execute_input": "q1_result\n",
      "execute_result": {
       "data": {
        "text/html": "<div>\n<style scoped>\n    .dataframe tbody tr th:only-of-type {\n        vertical-align: middle;\n    }\n\n    .dataframe tbody tr th {\n        vertical-align: top;\n    }\n\n    .dataframe thead th {\n        text-align: right;\n    }\n</style>\n<table border=\"1\" class=\"dataframe\">\n  <thead>\n    <tr style=\"text-align: right;\">\n      <th></th>\n      <th>l_returnflag</th>\n      <th>l_linestatus</th>\n      <th>sum_qty</th>\n      <th>sum_base_price</th>\n      <th>sum_disc_price</th>\n      <th>sum_charge</th>\n      <th>avg_qty</th>\n      <th>avg_price</th>\n      <th>avg_disc</th>\n      <th>count_order</th>\n    </tr>\n  </thead>\n  <tbody>\n  </tbody>\n</table>\n</div>",
        "text/plain": "Empty DataFrame\nColumns: [l_returnflag, l_linestatus, sum_qty, sum_base_price, sum_disc_price, sum_charge, avg_qty, avg_price, avg_disc, count_order]\nIndex: []"
       },
       "execution_count": 3,
       "metadata": {}
      },
      "follow": null,
      "msg_id": null,
      "outputs": [],
      "received": null,
      "started": null,
      "status": null,
      "stderr": "",
      "stdout": "",
      "submitted": "2022-07-06T17:45:17.518653Z"
     },
     "output_type": "display_data"
    },
    {
     "data": {
      "text/html": [
       "<div>\n",
       "<style scoped>\n",
       "    .dataframe tbody tr th:only-of-type {\n",
       "        vertical-align: middle;\n",
       "    }\n",
       "\n",
       "    .dataframe tbody tr th {\n",
       "        vertical-align: top;\n",
       "    }\n",
       "\n",
       "    .dataframe thead th {\n",
       "        text-align: right;\n",
       "    }\n",
       "</style>\n",
       "<table border=\"1\" class=\"dataframe\">\n",
       "  <thead>\n",
       "    <tr style=\"text-align: right;\">\n",
       "      <th></th>\n",
       "      <th>l_returnflag</th>\n",
       "      <th>l_linestatus</th>\n",
       "      <th>sum_qty</th>\n",
       "      <th>sum_base_price</th>\n",
       "      <th>sum_disc_price</th>\n",
       "      <th>sum_charge</th>\n",
       "      <th>avg_qty</th>\n",
       "      <th>avg_price</th>\n",
       "      <th>avg_disc</th>\n",
       "      <th>count_order</th>\n",
       "    </tr>\n",
       "  </thead>\n",
       "  <tbody>\n",
       "  </tbody>\n",
       "</table>\n",
       "</div>"
      ],
      "text/plain": [
       "\u001b[0;31mOut[4:3]: \u001b[0m\n",
       "Empty DataFrame\n",
       "Columns: [l_returnflag, l_linestatus, sum_qty, sum_base_price, sum_disc_price, sum_charge, avg_qty, avg_price, avg_disc, count_order]\n",
       "Index: []"
      ]
     },
     "metadata": {
      "after": [],
      "completed": "2022-07-06T17:45:17.534831Z",
      "data": {},
      "engine_id": 4,
      "engine_uuid": "df57289f-c8406aad85b09139b625c32c",
      "error": null,
      "execute_input": "q1_result\n",
      "execute_result": {
       "data": {
        "text/html": "<div>\n<style scoped>\n    .dataframe tbody tr th:only-of-type {\n        vertical-align: middle;\n    }\n\n    .dataframe tbody tr th {\n        vertical-align: top;\n    }\n\n    .dataframe thead th {\n        text-align: right;\n    }\n</style>\n<table border=\"1\" class=\"dataframe\">\n  <thead>\n    <tr style=\"text-align: right;\">\n      <th></th>\n      <th>l_returnflag</th>\n      <th>l_linestatus</th>\n      <th>sum_qty</th>\n      <th>sum_base_price</th>\n      <th>sum_disc_price</th>\n      <th>sum_charge</th>\n      <th>avg_qty</th>\n      <th>avg_price</th>\n      <th>avg_disc</th>\n      <th>count_order</th>\n    </tr>\n  </thead>\n  <tbody>\n  </tbody>\n</table>\n</div>",
        "text/plain": "Empty DataFrame\nColumns: [l_returnflag, l_linestatus, sum_qty, sum_base_price, sum_disc_price, sum_charge, avg_qty, avg_price, avg_disc, count_order]\nIndex: []"
       },
       "execution_count": 3,
       "metadata": {}
      },
      "follow": [],
      "is_broadcast": true,
      "is_coalescing": false,
      "msg_id": "9621dd0a-f716fe80600aae789f1af312_18276_3_df57289f-c8406aad85b09139b625c32c",
      "outputs": [],
      "received": "2022-07-06T17:45:17.547270Z",
      "started": "2022-07-06T17:45:17.522377Z",
      "status": "ok",
      "stderr": "",
      "stdout": "",
      "submitted": "2022-07-06T17:45:17.518441Z"
     },
     "output_type": "display_data"
    },
    {
     "data": {
      "text/html": [
       "<div>\n",
       "<style scoped>\n",
       "    .dataframe tbody tr th:only-of-type {\n",
       "        vertical-align: middle;\n",
       "    }\n",
       "\n",
       "    .dataframe tbody tr th {\n",
       "        vertical-align: top;\n",
       "    }\n",
       "\n",
       "    .dataframe thead th {\n",
       "        text-align: right;\n",
       "    }\n",
       "</style>\n",
       "<table border=\"1\" class=\"dataframe\">\n",
       "  <thead>\n",
       "    <tr style=\"text-align: right;\">\n",
       "      <th></th>\n",
       "      <th>l_returnflag</th>\n",
       "      <th>l_linestatus</th>\n",
       "      <th>sum_qty</th>\n",
       "      <th>sum_base_price</th>\n",
       "      <th>sum_disc_price</th>\n",
       "      <th>sum_charge</th>\n",
       "      <th>avg_qty</th>\n",
       "      <th>avg_price</th>\n",
       "      <th>avg_disc</th>\n",
       "      <th>count_order</th>\n",
       "    </tr>\n",
       "  </thead>\n",
       "  <tbody>\n",
       "  </tbody>\n",
       "</table>\n",
       "</div>"
      ],
      "text/plain": [
       "\u001b[0;31mOut[2:3]: \u001b[0m\n",
       "Empty DataFrame\n",
       "Columns: [l_returnflag, l_linestatus, sum_qty, sum_base_price, sum_disc_price, sum_charge, avg_qty, avg_price, avg_disc, count_order]\n",
       "Index: []"
      ]
     },
     "metadata": {
      "after": [],
      "completed": "2022-07-06T17:45:17.536701Z",
      "data": {},
      "engine_id": 2,
      "engine_uuid": "e4ab842b-01f38d363a0cc1364a1a08d2",
      "error": null,
      "execute_input": "q1_result\n",
      "execute_result": {
       "data": {
        "text/html": "<div>\n<style scoped>\n    .dataframe tbody tr th:only-of-type {\n        vertical-align: middle;\n    }\n\n    .dataframe tbody tr th {\n        vertical-align: top;\n    }\n\n    .dataframe thead th {\n        text-align: right;\n    }\n</style>\n<table border=\"1\" class=\"dataframe\">\n  <thead>\n    <tr style=\"text-align: right;\">\n      <th></th>\n      <th>l_returnflag</th>\n      <th>l_linestatus</th>\n      <th>sum_qty</th>\n      <th>sum_base_price</th>\n      <th>sum_disc_price</th>\n      <th>sum_charge</th>\n      <th>avg_qty</th>\n      <th>avg_price</th>\n      <th>avg_disc</th>\n      <th>count_order</th>\n    </tr>\n  </thead>\n  <tbody>\n  </tbody>\n</table>\n</div>",
        "text/plain": "Empty DataFrame\nColumns: [l_returnflag, l_linestatus, sum_qty, sum_base_price, sum_disc_price, sum_charge, avg_qty, avg_price, avg_disc, count_order]\nIndex: []"
       },
       "execution_count": 3,
       "metadata": {}
      },
      "follow": [],
      "is_broadcast": true,
      "is_coalescing": false,
      "msg_id": "9621dd0a-f716fe80600aae789f1af312_18276_3_e4ab842b-01f38d363a0cc1364a1a08d2",
      "outputs": [],
      "received": "2022-07-06T17:45:17.547676Z",
      "started": "2022-07-06T17:45:17.522987Z",
      "status": "ok",
      "stderr": "",
      "stdout": "",
      "submitted": "2022-07-06T17:45:17.518441Z"
     },
     "output_type": "display_data"
    },
    {
     "data": {
      "text/html": [
       "<div>\n",
       "<style scoped>\n",
       "    .dataframe tbody tr th:only-of-type {\n",
       "        vertical-align: middle;\n",
       "    }\n",
       "\n",
       "    .dataframe tbody tr th {\n",
       "        vertical-align: top;\n",
       "    }\n",
       "\n",
       "    .dataframe thead th {\n",
       "        text-align: right;\n",
       "    }\n",
       "</style>\n",
       "<table border=\"1\" class=\"dataframe\">\n",
       "  <thead>\n",
       "    <tr style=\"text-align: right;\">\n",
       "      <th></th>\n",
       "      <th>l_returnflag</th>\n",
       "      <th>l_linestatus</th>\n",
       "      <th>sum_qty</th>\n",
       "      <th>sum_base_price</th>\n",
       "      <th>sum_disc_price</th>\n",
       "      <th>sum_charge</th>\n",
       "      <th>avg_qty</th>\n",
       "      <th>avg_price</th>\n",
       "      <th>avg_disc</th>\n",
       "      <th>count_order</th>\n",
       "    </tr>\n",
       "  </thead>\n",
       "  <tbody>\n",
       "    <tr>\n",
       "      <th>0</th>\n",
       "      <td>A</td>\n",
       "      <td>F</td>\n",
       "      <td>37734107.0</td>\n",
       "      <td>5.658655e+10</td>\n",
       "      <td>5.375826e+10</td>\n",
       "      <td>5.590907e+10</td>\n",
       "      <td>25.522006</td>\n",
       "      <td>38273.129735</td>\n",
       "      <td>0.049985</td>\n",
       "      <td>1478493</td>\n",
       "    </tr>\n",
       "    <tr>\n",
       "      <th>1</th>\n",
       "      <td>N</td>\n",
       "      <td>F</td>\n",
       "      <td>991417.0</td>\n",
       "      <td>1.487505e+09</td>\n",
       "      <td>1.413082e+09</td>\n",
       "      <td>1.469649e+09</td>\n",
       "      <td>25.516472</td>\n",
       "      <td>38284.467761</td>\n",
       "      <td>0.050093</td>\n",
       "      <td>38854</td>\n",
       "    </tr>\n",
       "    <tr>\n",
       "      <th>2</th>\n",
       "      <td>N</td>\n",
       "      <td>O</td>\n",
       "      <td>74476040.0</td>\n",
       "      <td>1.117017e+11</td>\n",
       "      <td>1.061182e+11</td>\n",
       "      <td>1.103670e+11</td>\n",
       "      <td>25.502227</td>\n",
       "      <td>38249.117989</td>\n",
       "      <td>0.049997</td>\n",
       "      <td>2920374</td>\n",
       "    </tr>\n",
       "    <tr>\n",
       "      <th>3</th>\n",
       "      <td>R</td>\n",
       "      <td>F</td>\n",
       "      <td>37719753.0</td>\n",
       "      <td>5.656804e+10</td>\n",
       "      <td>5.374129e+10</td>\n",
       "      <td>5.588962e+10</td>\n",
       "      <td>25.505794</td>\n",
       "      <td>38250.854626</td>\n",
       "      <td>0.050009</td>\n",
       "      <td>1478870</td>\n",
       "    </tr>\n",
       "  </tbody>\n",
       "</table>\n",
       "</div>"
      ],
      "text/plain": [
       "\u001b[0;31mOut[0:3]: \u001b[0m\n",
       "  l_returnflag l_linestatus     sum_qty  sum_base_price  sum_disc_price  \\\n",
       "0            A            F  37734107.0    5.658655e+10    5.375826e+10   \n",
       "1            N            F    991417.0    1.487505e+09    1.413082e+09   \n",
       "2            N            O  74476040.0    1.117017e+11    1.061182e+11   \n",
       "3            R            F  37719753.0    5.656804e+10    5.374129e+10   \n",
       "\n",
       "     sum_charge    avg_qty     avg_price  avg_disc  count_order  \n",
       "0  5.590907e+10  25.522006  38273.129735  0.049985      1478493  \n",
       "1  1.469649e+09  25.516472  38284.467761  0.050093        38854  \n",
       "2  1.103670e+11  25.502227  38249.117989  0.049997      2920374  \n",
       "3  5.588962e+10  25.505794  38250.854626  0.050009      1478870  "
      ]
     },
     "metadata": {
      "after": [],
      "completed": "2022-07-06T17:45:17.538138Z",
      "data": {},
      "engine_id": 0,
      "engine_uuid": "18899134-f2b0206ccf51854dd6cf7bdd",
      "error": null,
      "execute_input": "q1_result\n",
      "execute_result": {
       "data": {
        "text/html": "<div>\n<style scoped>\n    .dataframe tbody tr th:only-of-type {\n        vertical-align: middle;\n    }\n\n    .dataframe tbody tr th {\n        vertical-align: top;\n    }\n\n    .dataframe thead th {\n        text-align: right;\n    }\n</style>\n<table border=\"1\" class=\"dataframe\">\n  <thead>\n    <tr style=\"text-align: right;\">\n      <th></th>\n      <th>l_returnflag</th>\n      <th>l_linestatus</th>\n      <th>sum_qty</th>\n      <th>sum_base_price</th>\n      <th>sum_disc_price</th>\n      <th>sum_charge</th>\n      <th>avg_qty</th>\n      <th>avg_price</th>\n      <th>avg_disc</th>\n      <th>count_order</th>\n    </tr>\n  </thead>\n  <tbody>\n    <tr>\n      <th>0</th>\n      <td>A</td>\n      <td>F</td>\n      <td>37734107.0</td>\n      <td>5.658655e+10</td>\n      <td>5.375826e+10</td>\n      <td>5.590907e+10</td>\n      <td>25.522006</td>\n      <td>38273.129735</td>\n      <td>0.049985</td>\n      <td>1478493</td>\n    </tr>\n    <tr>\n      <th>1</th>\n      <td>N</td>\n      <td>F</td>\n      <td>991417.0</td>\n      <td>1.487505e+09</td>\n      <td>1.413082e+09</td>\n      <td>1.469649e+09</td>\n      <td>25.516472</td>\n      <td>38284.467761</td>\n      <td>0.050093</td>\n      <td>38854</td>\n    </tr>\n    <tr>\n      <th>2</th>\n      <td>N</td>\n      <td>O</td>\n      <td>74476040.0</td>\n      <td>1.117017e+11</td>\n      <td>1.061182e+11</td>\n      <td>1.103670e+11</td>\n      <td>25.502227</td>\n      <td>38249.117989</td>\n      <td>0.049997</td>\n      <td>2920374</td>\n    </tr>\n    <tr>\n      <th>3</th>\n      <td>R</td>\n      <td>F</td>\n      <td>37719753.0</td>\n      <td>5.656804e+10</td>\n      <td>5.374129e+10</td>\n      <td>5.588962e+10</td>\n      <td>25.505794</td>\n      <td>38250.854626</td>\n      <td>0.050009</td>\n      <td>1478870</td>\n    </tr>\n  </tbody>\n</table>\n</div>",
        "text/plain": "  l_returnflag l_linestatus     sum_qty  sum_base_price  sum_disc_price  \\\n0            A            F  37734107.0    5.658655e+10    5.375826e+10   \n1            N            F    991417.0    1.487505e+09    1.413082e+09   \n2            N            O  74476040.0    1.117017e+11    1.061182e+11   \n3            R            F  37719753.0    5.656804e+10    5.374129e+10   \n\n     sum_charge    avg_qty     avg_price  avg_disc  count_order  \n0  5.590907e+10  25.522006  38273.129735  0.049985      1478493  \n1  1.469649e+09  25.516472  38284.467761  0.050093        38854  \n2  1.103670e+11  25.502227  38249.117989  0.049997      2920374  \n3  5.588962e+10  25.505794  38250.854626  0.050009      1478870  "
       },
       "execution_count": 3,
       "metadata": {}
      },
      "follow": [],
      "is_broadcast": true,
      "is_coalescing": false,
      "msg_id": "9621dd0a-f716fe80600aae789f1af312_18276_3_18899134-f2b0206ccf51854dd6cf7bdd",
      "outputs": [],
      "received": "2022-07-06T17:45:17.548068Z",
      "started": "2022-07-06T17:45:17.521971Z",
      "status": "ok",
      "stderr": "",
      "stdout": "",
      "submitted": "2022-07-06T17:45:17.518441Z"
     },
     "output_type": "display_data"
    },
    {
     "name": "stdout",
     "output_type": "stream",
     "text": [
      "Stopping controller\n",
      "Controller stopped: {'exit_code': 0, 'pid': 18762, 'identifier': 'ipcontroller-1657129475-owwi-18276'}\n",
      "Stopping engine(s): 1657129476\n"
     ]
    }
   ],
   "source": [
    "%%px\n",
    "q1_result"
   ]
  },
  {
   "cell_type": "code",
   "execution_count": null,
   "id": "f7525aad-4387-4094-99b2-35ebdb808b8e",
   "metadata": {
    "execution": {
     "iopub.execute_input": "2022-05-20T16:53:42.629054Z",
     "iopub.status.busy": "2022-05-20T16:53:42.628806Z",
     "iopub.status.idle": "2022-05-20T16:53:45.392184Z",
     "shell.execute_reply": "2022-05-20T16:53:45.391813Z",
     "shell.execute_reply.started": "2022-05-20T16:53:42.629032Z"
    },
    "tags": []
   },
   "outputs": [
    {
     "data": {
      "application/vnd.jupyter.widget-view+json": {
       "model_id": "556237ab0e814ce6935fe609efbc5d45",
       "version_major": 2,
       "version_minor": 0
      },
      "text/plain": [
       "%px:   0%|          | 0/24 [00:00<?, ?tasks/s]"
      ]
     },
     "metadata": {},
     "output_type": "display_data"
    },
    {
     "data": {
      "text/plain": [
       "[stdout:0] Execution time (s):  0.7086308506204659\n"
      ]
     },
     "metadata": {},
     "output_type": "display_data"
    }
   ],
   "source": [
    "%%px\n",
    "from utils.creds import *\n",
    "load_aws_creds()\n",
    "import time\n",
    "import bodo\n",
    "import bodosql\n",
    "@bodo.jit(cache=True)\n",
    "def divvy_sql():\n",
    "    t1 = time.time()\n",
    "    bc = bodosql.BodoSQLContext(\n",
    "        {\n",
    "            \"divvy\": bodosql.TablePath(\n",
    "                \"s3://bodo-divvy-data/parquet\", \"parquet\"\n",
    "            ),\n",
    "        })\n",
    "    df = bc.sql(\n",
    "        \"\"\"select\n",
    "               member_casual,count(*) as `count` from divvy group by member_casual\"\"\"\n",
    "    )\n",
    "    print(\"Execution time (s): \", time.time() - t1)\n",
    "    return df\n",
    "\n",
    "df=divvy_sql()"
   ]
  },
  {
   "cell_type": "code",
   "execution_count": null,
   "id": "3cb72edc-7d7b-400d-8c9b-68bde58b0398",
   "metadata": {
    "execution": {
     "iopub.execute_input": "2022-05-20T16:53:50.842452Z",
     "iopub.status.busy": "2022-05-20T16:53:50.842198Z",
     "iopub.status.idle": "2022-05-20T16:53:50.886430Z",
     "shell.execute_reply": "2022-05-20T16:53:50.886058Z",
     "shell.execute_reply.started": "2022-05-20T16:53:50.842432Z"
    },
    "tags": []
   },
   "outputs": [
    {
     "data": {
      "text/html": [
       "<div>\n",
       "<style scoped>\n",
       "    .dataframe tbody tr th:only-of-type {\n",
       "        vertical-align: middle;\n",
       "    }\n",
       "\n",
       "    .dataframe tbody tr th {\n",
       "        vertical-align: top;\n",
       "    }\n",
       "\n",
       "    .dataframe thead th {\n",
       "        text-align: right;\n",
       "    }\n",
       "</style>\n",
       "<table border=\"1\" class=\"dataframe\">\n",
       "  <thead>\n",
       "    <tr style=\"text-align: right;\">\n",
       "      <th></th>\n",
       "      <th>member_casual</th>\n",
       "      <th>count</th>\n",
       "    </tr>\n",
       "  </thead>\n",
       "  <tbody>\n",
       "  </tbody>\n",
       "</table>\n",
       "</div>"
      ],
      "text/plain": [
       "\u001b[0;31mOut[6:10]: \u001b[0m\n",
       "Empty DataFrame\n",
       "Columns: [member_casual, count]\n",
       "Index: []"
      ]
     },
     "metadata": {
      "after": [],
      "completed": "2022-05-20T16:53:50.851857Z",
      "data": {},
      "engine_id": 6,
      "engine_uuid": "4da1e924-2c2f47ed049f5ebd027c0840",
      "error": null,
      "execute_input": "df\n",
      "execute_result": {
       "data": {
        "text/html": "<div>\n<style scoped>\n    .dataframe tbody tr th:only-of-type {\n        vertical-align: middle;\n    }\n\n    .dataframe tbody tr th {\n        vertical-align: top;\n    }\n\n    .dataframe thead th {\n        text-align: right;\n    }\n</style>\n<table border=\"1\" class=\"dataframe\">\n  <thead>\n    <tr style=\"text-align: right;\">\n      <th></th>\n      <th>member_casual</th>\n      <th>count</th>\n    </tr>\n  </thead>\n  <tbody>\n  </tbody>\n</table>\n</div>",
        "text/plain": "Empty DataFrame\nColumns: [member_casual, count]\nIndex: []"
       },
       "execution_count": 10,
       "metadata": {}
      },
      "follow": [],
      "is_broadcast": true,
      "is_coalescing": false,
      "msg_id": "ced927b7-b1ce852dadd4804da15aedeb_17729_10_4da1e924-2c2f47ed049f5ebd027c0840",
      "outputs": [],
      "received": "2022-05-20T16:53:50.853951Z",
      "started": "2022-05-20T16:53:50.848281Z",
      "status": "ok",
      "stderr": "",
      "stdout": "",
      "submitted": "2022-05-20T16:53:50.843599Z"
     },
     "output_type": "display_data"
    },
    {
     "data": {
      "text/html": [
       "<div>\n",
       "<style scoped>\n",
       "    .dataframe tbody tr th:only-of-type {\n",
       "        vertical-align: middle;\n",
       "    }\n",
       "\n",
       "    .dataframe tbody tr th {\n",
       "        vertical-align: top;\n",
       "    }\n",
       "\n",
       "    .dataframe thead th {\n",
       "        text-align: right;\n",
       "    }\n",
       "</style>\n",
       "<table border=\"1\" class=\"dataframe\">\n",
       "  <thead>\n",
       "    <tr style=\"text-align: right;\">\n",
       "      <th></th>\n",
       "      <th>member_casual</th>\n",
       "      <th>count</th>\n",
       "    </tr>\n",
       "  </thead>\n",
       "  <tbody>\n",
       "  </tbody>\n",
       "</table>\n",
       "</div>"
      ],
      "text/plain": [
       "\u001b[0;31mOut[12:10]: \u001b[0m\n",
       "Empty DataFrame\n",
       "Columns: [member_casual, count]\n",
       "Index: []"
      ]
     },
     "metadata": {
      "after": [],
      "completed": "2022-05-20T16:53:50.851883Z",
      "data": {},
      "engine_id": 12,
      "engine_uuid": "af9e7abc-996c60fc3dbcd401578d9812",
      "error": null,
      "execute_input": "df\n",
      "execute_result": {
       "data": {
        "text/html": "<div>\n<style scoped>\n    .dataframe tbody tr th:only-of-type {\n        vertical-align: middle;\n    }\n\n    .dataframe tbody tr th {\n        vertical-align: top;\n    }\n\n    .dataframe thead th {\n        text-align: right;\n    }\n</style>\n<table border=\"1\" class=\"dataframe\">\n  <thead>\n    <tr style=\"text-align: right;\">\n      <th></th>\n      <th>member_casual</th>\n      <th>count</th>\n    </tr>\n  </thead>\n  <tbody>\n  </tbody>\n</table>\n</div>",
        "text/plain": "Empty DataFrame\nColumns: [member_casual, count]\nIndex: []"
       },
       "execution_count": 10,
       "metadata": {}
      },
      "follow": [],
      "is_broadcast": true,
      "is_coalescing": false,
      "msg_id": "ced927b7-b1ce852dadd4804da15aedeb_17729_10_af9e7abc-996c60fc3dbcd401578d9812",
      "outputs": [],
      "received": "2022-05-20T16:53:50.854431Z",
      "started": "2022-05-20T16:53:50.848239Z",
      "status": "ok",
      "stderr": "",
      "stdout": "",
      "submitted": "2022-05-20T16:53:50.843599Z"
     },
     "output_type": "display_data"
    },
    {
     "data": {
      "text/html": [
       "<div>\n",
       "<style scoped>\n",
       "    .dataframe tbody tr th:only-of-type {\n",
       "        vertical-align: middle;\n",
       "    }\n",
       "\n",
       "    .dataframe tbody tr th {\n",
       "        vertical-align: top;\n",
       "    }\n",
       "\n",
       "    .dataframe thead th {\n",
       "        text-align: right;\n",
       "    }\n",
       "</style>\n",
       "<table border=\"1\" class=\"dataframe\">\n",
       "  <thead>\n",
       "    <tr style=\"text-align: right;\">\n",
       "      <th></th>\n",
       "      <th>member_casual</th>\n",
       "      <th>count</th>\n",
       "    </tr>\n",
       "  </thead>\n",
       "  <tbody>\n",
       "  </tbody>\n",
       "</table>\n",
       "</div>"
      ],
      "text/plain": [
       "\u001b[0;31mOut[0:10]: \u001b[0m\n",
       "Empty DataFrame\n",
       "Columns: [member_casual, count]\n",
       "Index: []"
      ]
     },
     "metadata": {
      "after": [],
      "completed": "2022-05-20T16:53:50.851901Z",
      "data": {},
      "engine_id": 0,
      "engine_uuid": "7671f61b-eb8d06139c39664360f88308",
      "error": null,
      "execute_input": "df\n",
      "execute_result": {
       "data": {
        "text/html": "<div>\n<style scoped>\n    .dataframe tbody tr th:only-of-type {\n        vertical-align: middle;\n    }\n\n    .dataframe tbody tr th {\n        vertical-align: top;\n    }\n\n    .dataframe thead th {\n        text-align: right;\n    }\n</style>\n<table border=\"1\" class=\"dataframe\">\n  <thead>\n    <tr style=\"text-align: right;\">\n      <th></th>\n      <th>member_casual</th>\n      <th>count</th>\n    </tr>\n  </thead>\n  <tbody>\n  </tbody>\n</table>\n</div>",
        "text/plain": "Empty DataFrame\nColumns: [member_casual, count]\nIndex: []"
       },
       "execution_count": 10,
       "metadata": {}
      },
      "follow": [],
      "is_broadcast": true,
      "is_coalescing": false,
      "msg_id": "ced927b7-b1ce852dadd4804da15aedeb_17729_10_7671f61b-eb8d06139c39664360f88308",
      "outputs": [],
      "received": "2022-05-20T16:53:50.855836Z",
      "started": "2022-05-20T16:53:50.848188Z",
      "status": "ok",
      "stderr": "",
      "stdout": "",
      "submitted": "2022-05-20T16:53:50.843599Z"
     },
     "output_type": "display_data"
    },
    {
     "data": {
      "text/html": [
       "<div>\n",
       "<style scoped>\n",
       "    .dataframe tbody tr th:only-of-type {\n",
       "        vertical-align: middle;\n",
       "    }\n",
       "\n",
       "    .dataframe tbody tr th {\n",
       "        vertical-align: top;\n",
       "    }\n",
       "\n",
       "    .dataframe thead th {\n",
       "        text-align: right;\n",
       "    }\n",
       "</style>\n",
       "<table border=\"1\" class=\"dataframe\">\n",
       "  <thead>\n",
       "    <tr style=\"text-align: right;\">\n",
       "      <th></th>\n",
       "      <th>member_casual</th>\n",
       "      <th>count</th>\n",
       "    </tr>\n",
       "  </thead>\n",
       "  <tbody>\n",
       "  </tbody>\n",
       "</table>\n",
       "</div>"
      ],
      "text/plain": [
       "\u001b[0;31mOut[14:10]: \u001b[0m\n",
       "Empty DataFrame\n",
       "Columns: [member_casual, count]\n",
       "Index: []"
      ]
     },
     "metadata": {
      "after": [],
      "completed": "2022-05-20T16:53:50.852185Z",
      "data": {},
      "engine_id": 14,
      "engine_uuid": "ba572797-5f2862845567803bb58266e7",
      "error": null,
      "execute_input": "df\n",
      "execute_result": {
       "data": {
        "text/html": "<div>\n<style scoped>\n    .dataframe tbody tr th:only-of-type {\n        vertical-align: middle;\n    }\n\n    .dataframe tbody tr th {\n        vertical-align: top;\n    }\n\n    .dataframe thead th {\n        text-align: right;\n    }\n</style>\n<table border=\"1\" class=\"dataframe\">\n  <thead>\n    <tr style=\"text-align: right;\">\n      <th></th>\n      <th>member_casual</th>\n      <th>count</th>\n    </tr>\n  </thead>\n  <tbody>\n  </tbody>\n</table>\n</div>",
        "text/plain": "Empty DataFrame\nColumns: [member_casual, count]\nIndex: []"
       },
       "execution_count": 10,
       "metadata": {}
      },
      "follow": [],
      "is_broadcast": true,
      "is_coalescing": false,
      "msg_id": "ced927b7-b1ce852dadd4804da15aedeb_17729_10_ba572797-5f2862845567803bb58266e7",
      "outputs": [],
      "received": "2022-05-20T16:53:50.857033Z",
      "started": "2022-05-20T16:53:50.848466Z",
      "status": "ok",
      "stderr": "",
      "stdout": "",
      "submitted": "2022-05-20T16:53:50.843599Z"
     },
     "output_type": "display_data"
    },
    {
     "data": {
      "text/html": [
       "<div>\n",
       "<style scoped>\n",
       "    .dataframe tbody tr th:only-of-type {\n",
       "        vertical-align: middle;\n",
       "    }\n",
       "\n",
       "    .dataframe tbody tr th {\n",
       "        vertical-align: top;\n",
       "    }\n",
       "\n",
       "    .dataframe thead th {\n",
       "        text-align: right;\n",
       "    }\n",
       "</style>\n",
       "<table border=\"1\" class=\"dataframe\">\n",
       "  <thead>\n",
       "    <tr style=\"text-align: right;\">\n",
       "      <th></th>\n",
       "      <th>member_casual</th>\n",
       "      <th>count</th>\n",
       "    </tr>\n",
       "  </thead>\n",
       "  <tbody>\n",
       "  </tbody>\n",
       "</table>\n",
       "</div>"
      ],
      "text/plain": [
       "\u001b[0;31mOut[2:10]: \u001b[0m\n",
       "Empty DataFrame\n",
       "Columns: [member_casual, count]\n",
       "Index: []"
      ]
     },
     "metadata": {
      "after": [],
      "completed": "2022-05-20T16:53:50.852152Z",
      "data": {},
      "engine_id": 2,
      "engine_uuid": "7f6dd4f6-72fedda514a2f6703a69af72",
      "error": null,
      "execute_input": "df\n",
      "execute_result": {
       "data": {
        "text/html": "<div>\n<style scoped>\n    .dataframe tbody tr th:only-of-type {\n        vertical-align: middle;\n    }\n\n    .dataframe tbody tr th {\n        vertical-align: top;\n    }\n\n    .dataframe thead th {\n        text-align: right;\n    }\n</style>\n<table border=\"1\" class=\"dataframe\">\n  <thead>\n    <tr style=\"text-align: right;\">\n      <th></th>\n      <th>member_casual</th>\n      <th>count</th>\n    </tr>\n  </thead>\n  <tbody>\n  </tbody>\n</table>\n</div>",
        "text/plain": "Empty DataFrame\nColumns: [member_casual, count]\nIndex: []"
       },
       "execution_count": 10,
       "metadata": {}
      },
      "follow": [],
      "is_broadcast": true,
      "is_coalescing": false,
      "msg_id": "ced927b7-b1ce852dadd4804da15aedeb_17729_10_7f6dd4f6-72fedda514a2f6703a69af72",
      "outputs": [],
      "received": "2022-05-20T16:53:50.858691Z",
      "started": "2022-05-20T16:53:50.848325Z",
      "status": "ok",
      "stderr": "",
      "stdout": "",
      "submitted": "2022-05-20T16:53:50.843599Z"
     },
     "output_type": "display_data"
    },
    {
     "data": {
      "text/html": [
       "<div>\n",
       "<style scoped>\n",
       "    .dataframe tbody tr th:only-of-type {\n",
       "        vertical-align: middle;\n",
       "    }\n",
       "\n",
       "    .dataframe tbody tr th {\n",
       "        vertical-align: top;\n",
       "    }\n",
       "\n",
       "    .dataframe thead th {\n",
       "        text-align: right;\n",
       "    }\n",
       "</style>\n",
       "<table border=\"1\" class=\"dataframe\">\n",
       "  <thead>\n",
       "    <tr style=\"text-align: right;\">\n",
       "      <th></th>\n",
       "      <th>member_casual</th>\n",
       "      <th>count</th>\n",
       "    </tr>\n",
       "  </thead>\n",
       "  <tbody>\n",
       "  </tbody>\n",
       "</table>\n",
       "</div>"
      ],
      "text/plain": [
       "\u001b[0;31mOut[18:10]: \u001b[0m\n",
       "Empty DataFrame\n",
       "Columns: [member_casual, count]\n",
       "Index: []"
      ]
     },
     "metadata": {
      "after": [],
      "completed": "2022-05-20T16:53:50.852132Z",
      "data": {},
      "engine_id": 18,
      "engine_uuid": "1f131c80-7df7e854d1ecdb60a3c557ed",
      "error": null,
      "execute_input": "df\n",
      "execute_result": {
       "data": {
        "text/html": "<div>\n<style scoped>\n    .dataframe tbody tr th:only-of-type {\n        vertical-align: middle;\n    }\n\n    .dataframe tbody tr th {\n        vertical-align: top;\n    }\n\n    .dataframe thead th {\n        text-align: right;\n    }\n</style>\n<table border=\"1\" class=\"dataframe\">\n  <thead>\n    <tr style=\"text-align: right;\">\n      <th></th>\n      <th>member_casual</th>\n      <th>count</th>\n    </tr>\n  </thead>\n  <tbody>\n  </tbody>\n</table>\n</div>",
        "text/plain": "Empty DataFrame\nColumns: [member_casual, count]\nIndex: []"
       },
       "execution_count": 10,
       "metadata": {}
      },
      "follow": [],
      "is_broadcast": true,
      "is_coalescing": false,
      "msg_id": "ced927b7-b1ce852dadd4804da15aedeb_17729_10_1f131c80-7df7e854d1ecdb60a3c557ed",
      "outputs": [],
      "received": "2022-05-20T16:53:50.856350Z",
      "started": "2022-05-20T16:53:50.848515Z",
      "status": "ok",
      "stderr": "",
      "stdout": "",
      "submitted": "2022-05-20T16:53:50.843599Z"
     },
     "output_type": "display_data"
    },
    {
     "data": {
      "text/html": [
       "<div>\n",
       "<style scoped>\n",
       "    .dataframe tbody tr th:only-of-type {\n",
       "        vertical-align: middle;\n",
       "    }\n",
       "\n",
       "    .dataframe tbody tr th {\n",
       "        vertical-align: top;\n",
       "    }\n",
       "\n",
       "    .dataframe thead th {\n",
       "        text-align: right;\n",
       "    }\n",
       "</style>\n",
       "<table border=\"1\" class=\"dataframe\">\n",
       "  <thead>\n",
       "    <tr style=\"text-align: right;\">\n",
       "      <th></th>\n",
       "      <th>member_casual</th>\n",
       "      <th>count</th>\n",
       "    </tr>\n",
       "  </thead>\n",
       "  <tbody>\n",
       "  </tbody>\n",
       "</table>\n",
       "</div>"
      ],
      "text/plain": [
       "\u001b[0;31mOut[8:10]: \u001b[0m\n",
       "Empty DataFrame\n",
       "Columns: [member_casual, count]\n",
       "Index: []"
      ]
     },
     "metadata": {
      "after": [],
      "completed": "2022-05-20T16:53:50.852204Z",
      "data": {},
      "engine_id": 8,
      "engine_uuid": "83c74f89-13162e671610e4356589b23d",
      "error": null,
      "execute_input": "df\n",
      "execute_result": {
       "data": {
        "text/html": "<div>\n<style scoped>\n    .dataframe tbody tr th:only-of-type {\n        vertical-align: middle;\n    }\n\n    .dataframe tbody tr th {\n        vertical-align: top;\n    }\n\n    .dataframe thead th {\n        text-align: right;\n    }\n</style>\n<table border=\"1\" class=\"dataframe\">\n  <thead>\n    <tr style=\"text-align: right;\">\n      <th></th>\n      <th>member_casual</th>\n      <th>count</th>\n    </tr>\n  </thead>\n  <tbody>\n  </tbody>\n</table>\n</div>",
        "text/plain": "Empty DataFrame\nColumns: [member_casual, count]\nIndex: []"
       },
       "execution_count": 10,
       "metadata": {}
      },
      "follow": [],
      "is_broadcast": true,
      "is_coalescing": false,
      "msg_id": "ced927b7-b1ce852dadd4804da15aedeb_17729_10_83c74f89-13162e671610e4356589b23d",
      "outputs": [],
      "received": "2022-05-20T16:53:50.861704Z",
      "started": "2022-05-20T16:53:50.848367Z",
      "status": "ok",
      "stderr": "",
      "stdout": "",
      "submitted": "2022-05-20T16:53:50.843599Z"
     },
     "output_type": "display_data"
    },
    {
     "data": {
      "text/html": [
       "<div>\n",
       "<style scoped>\n",
       "    .dataframe tbody tr th:only-of-type {\n",
       "        vertical-align: middle;\n",
       "    }\n",
       "\n",
       "    .dataframe tbody tr th {\n",
       "        vertical-align: top;\n",
       "    }\n",
       "\n",
       "    .dataframe thead th {\n",
       "        text-align: right;\n",
       "    }\n",
       "</style>\n",
       "<table border=\"1\" class=\"dataframe\">\n",
       "  <thead>\n",
       "    <tr style=\"text-align: right;\">\n",
       "      <th></th>\n",
       "      <th>member_casual</th>\n",
       "      <th>count</th>\n",
       "    </tr>\n",
       "  </thead>\n",
       "  <tbody>\n",
       "  </tbody>\n",
       "</table>\n",
       "</div>"
      ],
      "text/plain": [
       "\u001b[0;31mOut[16:10]: \u001b[0m\n",
       "Empty DataFrame\n",
       "Columns: [member_casual, count]\n",
       "Index: []"
      ]
     },
     "metadata": {
      "after": [],
      "completed": "2022-05-20T16:53:50.852275Z",
      "data": {},
      "engine_id": 16,
      "engine_uuid": "df9e6643-2cd03ac9a544f5d9d2f047b9",
      "error": null,
      "execute_input": "df\n",
      "execute_result": {
       "data": {
        "text/html": "<div>\n<style scoped>\n    .dataframe tbody tr th:only-of-type {\n        vertical-align: middle;\n    }\n\n    .dataframe tbody tr th {\n        vertical-align: top;\n    }\n\n    .dataframe thead th {\n        text-align: right;\n    }\n</style>\n<table border=\"1\" class=\"dataframe\">\n  <thead>\n    <tr style=\"text-align: right;\">\n      <th></th>\n      <th>member_casual</th>\n      <th>count</th>\n    </tr>\n  </thead>\n  <tbody>\n  </tbody>\n</table>\n</div>",
        "text/plain": "Empty DataFrame\nColumns: [member_casual, count]\nIndex: []"
       },
       "execution_count": 10,
       "metadata": {}
      },
      "follow": [],
      "is_broadcast": true,
      "is_coalescing": false,
      "msg_id": "ced927b7-b1ce852dadd4804da15aedeb_17729_10_df9e6643-2cd03ac9a544f5d9d2f047b9",
      "outputs": [],
      "received": "2022-05-20T16:53:50.859369Z",
      "started": "2022-05-20T16:53:50.848493Z",
      "status": "ok",
      "stderr": "",
      "stdout": "",
      "submitted": "2022-05-20T16:53:50.843599Z"
     },
     "output_type": "display_data"
    },
    {
     "data": {
      "text/html": [
       "<div>\n",
       "<style scoped>\n",
       "    .dataframe tbody tr th:only-of-type {\n",
       "        vertical-align: middle;\n",
       "    }\n",
       "\n",
       "    .dataframe tbody tr th {\n",
       "        vertical-align: top;\n",
       "    }\n",
       "\n",
       "    .dataframe thead th {\n",
       "        text-align: right;\n",
       "    }\n",
       "</style>\n",
       "<table border=\"1\" class=\"dataframe\">\n",
       "  <thead>\n",
       "    <tr style=\"text-align: right;\">\n",
       "      <th></th>\n",
       "      <th>member_casual</th>\n",
       "      <th>count</th>\n",
       "    </tr>\n",
       "  </thead>\n",
       "  <tbody>\n",
       "  </tbody>\n",
       "</table>\n",
       "</div>"
      ],
      "text/plain": [
       "\u001b[0;31mOut[20:10]: \u001b[0m\n",
       "Empty DataFrame\n",
       "Columns: [member_casual, count]\n",
       "Index: []"
      ]
     },
     "metadata": {
      "after": [],
      "completed": "2022-05-20T16:53:50.852249Z",
      "data": {},
      "engine_id": 20,
      "engine_uuid": "8f8cc4f2-41ca5bcb538a78eff367e65e",
      "error": null,
      "execute_input": "df\n",
      "execute_result": {
       "data": {
        "text/html": "<div>\n<style scoped>\n    .dataframe tbody tr th:only-of-type {\n        vertical-align: middle;\n    }\n\n    .dataframe tbody tr th {\n        vertical-align: top;\n    }\n\n    .dataframe thead th {\n        text-align: right;\n    }\n</style>\n<table border=\"1\" class=\"dataframe\">\n  <thead>\n    <tr style=\"text-align: right;\">\n      <th></th>\n      <th>member_casual</th>\n      <th>count</th>\n    </tr>\n  </thead>\n  <tbody>\n  </tbody>\n</table>\n</div>",
        "text/plain": "Empty DataFrame\nColumns: [member_casual, count]\nIndex: []"
       },
       "execution_count": 10,
       "metadata": {}
      },
      "follow": [],
      "is_broadcast": true,
      "is_coalescing": false,
      "msg_id": "ced927b7-b1ce852dadd4804da15aedeb_17729_10_8f8cc4f2-41ca5bcb538a78eff367e65e",
      "outputs": [],
      "received": "2022-05-20T16:53:50.860955Z",
      "started": "2022-05-20T16:53:50.848555Z",
      "status": "ok",
      "stderr": "",
      "stdout": "",
      "submitted": "2022-05-20T16:53:50.843599Z"
     },
     "output_type": "display_data"
    },
    {
     "data": {
      "text/html": [
       "<div>\n",
       "<style scoped>\n",
       "    .dataframe tbody tr th:only-of-type {\n",
       "        vertical-align: middle;\n",
       "    }\n",
       "\n",
       "    .dataframe tbody tr th {\n",
       "        vertical-align: top;\n",
       "    }\n",
       "\n",
       "    .dataframe thead th {\n",
       "        text-align: right;\n",
       "    }\n",
       "</style>\n",
       "<table border=\"1\" class=\"dataframe\">\n",
       "  <thead>\n",
       "    <tr style=\"text-align: right;\">\n",
       "      <th></th>\n",
       "      <th>member_casual</th>\n",
       "      <th>count</th>\n",
       "    </tr>\n",
       "  </thead>\n",
       "  <tbody>\n",
       "  </tbody>\n",
       "</table>\n",
       "</div>"
      ],
      "text/plain": [
       "\u001b[0;31mOut[4:10]: \u001b[0m\n",
       "Empty DataFrame\n",
       "Columns: [member_casual, count]\n",
       "Index: []"
      ]
     },
     "metadata": {
      "after": [],
      "completed": "2022-05-20T16:53:50.852254Z",
      "data": {},
      "engine_id": 4,
      "engine_uuid": "a34fcc5b-29694e0b9e42845efc5fd1df",
      "error": null,
      "execute_input": "df\n",
      "execute_result": {
       "data": {
        "text/html": "<div>\n<style scoped>\n    .dataframe tbody tr th:only-of-type {\n        vertical-align: middle;\n    }\n\n    .dataframe tbody tr th {\n        vertical-align: top;\n    }\n\n    .dataframe thead th {\n        text-align: right;\n    }\n</style>\n<table border=\"1\" class=\"dataframe\">\n  <thead>\n    <tr style=\"text-align: right;\">\n      <th></th>\n      <th>member_casual</th>\n      <th>count</th>\n    </tr>\n  </thead>\n  <tbody>\n  </tbody>\n</table>\n</div>",
        "text/plain": "Empty DataFrame\nColumns: [member_casual, count]\nIndex: []"
       },
       "execution_count": 10,
       "metadata": {}
      },
      "follow": [],
      "is_broadcast": true,
      "is_coalescing": false,
      "msg_id": "ced927b7-b1ce852dadd4804da15aedeb_17729_10_a34fcc5b-29694e0b9e42845efc5fd1df",
      "outputs": [],
      "received": "2022-05-20T16:53:50.862373Z",
      "started": "2022-05-20T16:53:50.848383Z",
      "status": "ok",
      "stderr": "",
      "stdout": "",
      "submitted": "2022-05-20T16:53:50.843599Z"
     },
     "output_type": "display_data"
    },
    {
     "data": {
      "text/html": [
       "<div>\n",
       "<style scoped>\n",
       "    .dataframe tbody tr th:only-of-type {\n",
       "        vertical-align: middle;\n",
       "    }\n",
       "\n",
       "    .dataframe tbody tr th {\n",
       "        vertical-align: top;\n",
       "    }\n",
       "\n",
       "    .dataframe thead th {\n",
       "        text-align: right;\n",
       "    }\n",
       "</style>\n",
       "<table border=\"1\" class=\"dataframe\">\n",
       "  <thead>\n",
       "    <tr style=\"text-align: right;\">\n",
       "      <th></th>\n",
       "      <th>member_casual</th>\n",
       "      <th>count</th>\n",
       "    </tr>\n",
       "  </thead>\n",
       "  <tbody>\n",
       "  </tbody>\n",
       "</table>\n",
       "</div>"
      ],
      "text/plain": [
       "\u001b[0;31mOut[23:10]: \u001b[0m\n",
       "Empty DataFrame\n",
       "Columns: [member_casual, count]\n",
       "Index: []"
      ]
     },
     "metadata": {
      "after": [],
      "completed": "2022-05-20T16:53:50.852614Z",
      "data": {},
      "engine_id": 23,
      "engine_uuid": "5a0d31fd-8e923db690cfed9cbb1ab100",
      "error": null,
      "execute_input": "df\n",
      "execute_result": {
       "data": {
        "text/html": "<div>\n<style scoped>\n    .dataframe tbody tr th:only-of-type {\n        vertical-align: middle;\n    }\n\n    .dataframe tbody tr th {\n        vertical-align: top;\n    }\n\n    .dataframe thead th {\n        text-align: right;\n    }\n</style>\n<table border=\"1\" class=\"dataframe\">\n  <thead>\n    <tr style=\"text-align: right;\">\n      <th></th>\n      <th>member_casual</th>\n      <th>count</th>\n    </tr>\n  </thead>\n  <tbody>\n  </tbody>\n</table>\n</div>",
        "text/plain": "Empty DataFrame\nColumns: [member_casual, count]\nIndex: []"
       },
       "execution_count": 10,
       "metadata": {}
      },
      "follow": [],
      "is_broadcast": true,
      "is_coalescing": false,
      "msg_id": "ced927b7-b1ce852dadd4804da15aedeb_17729_10_5a0d31fd-8e923db690cfed9cbb1ab100",
      "outputs": [],
      "received": "2022-05-20T16:53:50.859026Z",
      "started": "2022-05-20T16:53:50.848919Z",
      "status": "ok",
      "stderr": "",
      "stdout": "",
      "submitted": "2022-05-20T16:53:50.843599Z"
     },
     "output_type": "display_data"
    },
    {
     "data": {
      "text/html": [
       "<div>\n",
       "<style scoped>\n",
       "    .dataframe tbody tr th:only-of-type {\n",
       "        vertical-align: middle;\n",
       "    }\n",
       "\n",
       "    .dataframe tbody tr th {\n",
       "        vertical-align: top;\n",
       "    }\n",
       "\n",
       "    .dataframe thead th {\n",
       "        text-align: right;\n",
       "    }\n",
       "</style>\n",
       "<table border=\"1\" class=\"dataframe\">\n",
       "  <thead>\n",
       "    <tr style=\"text-align: right;\">\n",
       "      <th></th>\n",
       "      <th>member_casual</th>\n",
       "      <th>count</th>\n",
       "    </tr>\n",
       "  </thead>\n",
       "  <tbody>\n",
       "  </tbody>\n",
       "</table>\n",
       "</div>"
      ],
      "text/plain": [
       "\u001b[0;31mOut[15:10]: \u001b[0m\n",
       "Empty DataFrame\n",
       "Columns: [member_casual, count]\n",
       "Index: []"
      ]
     },
     "metadata": {
      "after": [],
      "completed": "2022-05-20T16:53:50.852611Z",
      "data": {},
      "engine_id": 15,
      "engine_uuid": "83d0db7f-b6beed2e87f84036f268d3d1",
      "error": null,
      "execute_input": "df\n",
      "execute_result": {
       "data": {
        "text/html": "<div>\n<style scoped>\n    .dataframe tbody tr th:only-of-type {\n        vertical-align: middle;\n    }\n\n    .dataframe tbody tr th {\n        vertical-align: top;\n    }\n\n    .dataframe thead th {\n        text-align: right;\n    }\n</style>\n<table border=\"1\" class=\"dataframe\">\n  <thead>\n    <tr style=\"text-align: right;\">\n      <th></th>\n      <th>member_casual</th>\n      <th>count</th>\n    </tr>\n  </thead>\n  <tbody>\n  </tbody>\n</table>\n</div>",
        "text/plain": "Empty DataFrame\nColumns: [member_casual, count]\nIndex: []"
       },
       "execution_count": 10,
       "metadata": {}
      },
      "follow": [],
      "is_broadcast": true,
      "is_coalescing": false,
      "msg_id": "ced927b7-b1ce852dadd4804da15aedeb_17729_10_83d0db7f-b6beed2e87f84036f268d3d1",
      "outputs": [],
      "received": "2022-05-20T16:53:50.856701Z",
      "started": "2022-05-20T16:53:50.848985Z",
      "status": "ok",
      "stderr": "",
      "stdout": "",
      "submitted": "2022-05-20T16:53:50.843599Z"
     },
     "output_type": "display_data"
    },
    {
     "data": {
      "text/html": [
       "<div>\n",
       "<style scoped>\n",
       "    .dataframe tbody tr th:only-of-type {\n",
       "        vertical-align: middle;\n",
       "    }\n",
       "\n",
       "    .dataframe tbody tr th {\n",
       "        vertical-align: top;\n",
       "    }\n",
       "\n",
       "    .dataframe thead th {\n",
       "        text-align: right;\n",
       "    }\n",
       "</style>\n",
       "<table border=\"1\" class=\"dataframe\">\n",
       "  <thead>\n",
       "    <tr style=\"text-align: right;\">\n",
       "      <th></th>\n",
       "      <th>member_casual</th>\n",
       "      <th>count</th>\n",
       "    </tr>\n",
       "  </thead>\n",
       "  <tbody>\n",
       "  </tbody>\n",
       "</table>\n",
       "</div>"
      ],
      "text/plain": [
       "\u001b[0;31mOut[22:10]: \u001b[0m\n",
       "Empty DataFrame\n",
       "Columns: [member_casual, count]\n",
       "Index: []"
      ]
     },
     "metadata": {
      "after": [],
      "completed": "2022-05-20T16:53:50.852682Z",
      "data": {},
      "engine_id": 22,
      "engine_uuid": "5109eeaa-d7e789ead3c151b8c28aef6c",
      "error": null,
      "execute_input": "df\n",
      "execute_result": {
       "data": {
        "text/html": "<div>\n<style scoped>\n    .dataframe tbody tr th:only-of-type {\n        vertical-align: middle;\n    }\n\n    .dataframe tbody tr th {\n        vertical-align: top;\n    }\n\n    .dataframe thead th {\n        text-align: right;\n    }\n</style>\n<table border=\"1\" class=\"dataframe\">\n  <thead>\n    <tr style=\"text-align: right;\">\n      <th></th>\n      <th>member_casual</th>\n      <th>count</th>\n    </tr>\n  </thead>\n  <tbody>\n  </tbody>\n</table>\n</div>",
        "text/plain": "Empty DataFrame\nColumns: [member_casual, count]\nIndex: []"
       },
       "execution_count": 10,
       "metadata": {}
      },
      "follow": [],
      "is_broadcast": true,
      "is_coalescing": false,
      "msg_id": "ced927b7-b1ce852dadd4804da15aedeb_17729_10_5109eeaa-d7e789ead3c151b8c28aef6c",
      "outputs": [],
      "received": "2022-05-20T16:53:50.863726Z",
      "started": "2022-05-20T16:53:50.848503Z",
      "status": "ok",
      "stderr": "",
      "stdout": "",
      "submitted": "2022-05-20T16:53:50.843599Z"
     },
     "output_type": "display_data"
    },
    {
     "data": {
      "text/html": [
       "<div>\n",
       "<style scoped>\n",
       "    .dataframe tbody tr th:only-of-type {\n",
       "        vertical-align: middle;\n",
       "    }\n",
       "\n",
       "    .dataframe tbody tr th {\n",
       "        vertical-align: top;\n",
       "    }\n",
       "\n",
       "    .dataframe thead th {\n",
       "        text-align: right;\n",
       "    }\n",
       "</style>\n",
       "<table border=\"1\" class=\"dataframe\">\n",
       "  <thead>\n",
       "    <tr style=\"text-align: right;\">\n",
       "      <th></th>\n",
       "      <th>member_casual</th>\n",
       "      <th>count</th>\n",
       "    </tr>\n",
       "  </thead>\n",
       "  <tbody>\n",
       "  </tbody>\n",
       "</table>\n",
       "</div>"
      ],
      "text/plain": [
       "\u001b[0;31mOut[19:10]: \u001b[0m\n",
       "Empty DataFrame\n",
       "Columns: [member_casual, count]\n",
       "Index: []"
      ]
     },
     "metadata": {
      "after": [],
      "completed": "2022-05-20T16:53:50.852707Z",
      "data": {},
      "engine_id": 19,
      "engine_uuid": "f6f31af9-1395a9c5e3ef2cdc2adde183",
      "error": null,
      "execute_input": "df\n",
      "execute_result": {
       "data": {
        "text/html": "<div>\n<style scoped>\n    .dataframe tbody tr th:only-of-type {\n        vertical-align: middle;\n    }\n\n    .dataframe tbody tr th {\n        vertical-align: top;\n    }\n\n    .dataframe thead th {\n        text-align: right;\n    }\n</style>\n<table border=\"1\" class=\"dataframe\">\n  <thead>\n    <tr style=\"text-align: right;\">\n      <th></th>\n      <th>member_casual</th>\n      <th>count</th>\n    </tr>\n  </thead>\n  <tbody>\n  </tbody>\n</table>\n</div>",
        "text/plain": "Empty DataFrame\nColumns: [member_casual, count]\nIndex: []"
       },
       "execution_count": 10,
       "metadata": {}
      },
      "follow": [],
      "is_broadcast": true,
      "is_coalescing": false,
      "msg_id": "ced927b7-b1ce852dadd4804da15aedeb_17729_10_f6f31af9-1395a9c5e3ef2cdc2adde183",
      "outputs": [],
      "received": "2022-05-20T16:53:50.861368Z",
      "started": "2022-05-20T16:53:50.848979Z",
      "status": "ok",
      "stderr": "",
      "stdout": "",
      "submitted": "2022-05-20T16:53:50.843599Z"
     },
     "output_type": "display_data"
    },
    {
     "data": {
      "text/html": [
       "<div>\n",
       "<style scoped>\n",
       "    .dataframe tbody tr th:only-of-type {\n",
       "        vertical-align: middle;\n",
       "    }\n",
       "\n",
       "    .dataframe tbody tr th {\n",
       "        vertical-align: top;\n",
       "    }\n",
       "\n",
       "    .dataframe thead th {\n",
       "        text-align: right;\n",
       "    }\n",
       "</style>\n",
       "<table border=\"1\" class=\"dataframe\">\n",
       "  <thead>\n",
       "    <tr style=\"text-align: right;\">\n",
       "      <th></th>\n",
       "      <th>member_casual</th>\n",
       "      <th>count</th>\n",
       "    </tr>\n",
       "  </thead>\n",
       "  <tbody>\n",
       "  </tbody>\n",
       "</table>\n",
       "</div>"
      ],
      "text/plain": [
       "\u001b[0;31mOut[21:10]: \u001b[0m\n",
       "Empty DataFrame\n",
       "Columns: [member_casual, count]\n",
       "Index: []"
      ]
     },
     "metadata": {
      "after": [],
      "completed": "2022-05-20T16:53:50.852641Z",
      "data": {},
      "engine_id": 21,
      "engine_uuid": "3bcd1bc3-c5fbaea34a16a300292c6bd5",
      "error": null,
      "execute_input": "df\n",
      "execute_result": {
       "data": {
        "text/html": "<div>\n<style scoped>\n    .dataframe tbody tr th:only-of-type {\n        vertical-align: middle;\n    }\n\n    .dataframe tbody tr th {\n        vertical-align: top;\n    }\n\n    .dataframe thead th {\n        text-align: right;\n    }\n</style>\n<table border=\"1\" class=\"dataframe\">\n  <thead>\n    <tr style=\"text-align: right;\">\n      <th></th>\n      <th>member_casual</th>\n      <th>count</th>\n    </tr>\n  </thead>\n  <tbody>\n  </tbody>\n</table>\n</div>",
        "text/plain": "Empty DataFrame\nColumns: [member_casual, count]\nIndex: []"
       },
       "execution_count": 10,
       "metadata": {}
      },
      "follow": [],
      "is_broadcast": true,
      "is_coalescing": false,
      "msg_id": "ced927b7-b1ce852dadd4804da15aedeb_17729_10_3bcd1bc3-c5fbaea34a16a300292c6bd5",
      "outputs": [],
      "received": "2022-05-20T16:53:50.858247Z",
      "started": "2022-05-20T16:53:50.849048Z",
      "status": "ok",
      "stderr": "",
      "stdout": "",
      "submitted": "2022-05-20T16:53:50.843599Z"
     },
     "output_type": "display_data"
    },
    {
     "data": {
      "text/html": [
       "<div>\n",
       "<style scoped>\n",
       "    .dataframe tbody tr th:only-of-type {\n",
       "        vertical-align: middle;\n",
       "    }\n",
       "\n",
       "    .dataframe tbody tr th {\n",
       "        vertical-align: top;\n",
       "    }\n",
       "\n",
       "    .dataframe thead th {\n",
       "        text-align: right;\n",
       "    }\n",
       "</style>\n",
       "<table border=\"1\" class=\"dataframe\">\n",
       "  <thead>\n",
       "    <tr style=\"text-align: right;\">\n",
       "      <th></th>\n",
       "      <th>member_casual</th>\n",
       "      <th>count</th>\n",
       "    </tr>\n",
       "  </thead>\n",
       "  <tbody>\n",
       "  </tbody>\n",
       "</table>\n",
       "</div>"
      ],
      "text/plain": [
       "\u001b[0;31mOut[10:10]: \u001b[0m\n",
       "Empty DataFrame\n",
       "Columns: [member_casual, count]\n",
       "Index: []"
      ]
     },
     "metadata": {
      "after": [],
      "completed": "2022-05-20T16:53:50.852787Z",
      "data": {},
      "engine_id": 10,
      "engine_uuid": "068e2d02-2a8c8d56f39267f86cea26b6",
      "error": null,
      "execute_input": "df\n",
      "execute_result": {
       "data": {
        "text/html": "<div>\n<style scoped>\n    .dataframe tbody tr th:only-of-type {\n        vertical-align: middle;\n    }\n\n    .dataframe tbody tr th {\n        vertical-align: top;\n    }\n\n    .dataframe thead th {\n        text-align: right;\n    }\n</style>\n<table border=\"1\" class=\"dataframe\">\n  <thead>\n    <tr style=\"text-align: right;\">\n      <th></th>\n      <th>member_casual</th>\n      <th>count</th>\n    </tr>\n  </thead>\n  <tbody>\n  </tbody>\n</table>\n</div>",
        "text/plain": "Empty DataFrame\nColumns: [member_casual, count]\nIndex: []"
       },
       "execution_count": 10,
       "metadata": {}
      },
      "follow": [],
      "is_broadcast": true,
      "is_coalescing": false,
      "msg_id": "ced927b7-b1ce852dadd4804da15aedeb_17729_10_068e2d02-2a8c8d56f39267f86cea26b6",
      "outputs": [],
      "received": "2022-05-20T16:53:50.863062Z",
      "started": "2022-05-20T16:53:50.848674Z",
      "status": "ok",
      "stderr": "",
      "stdout": "",
      "submitted": "2022-05-20T16:53:50.843599Z"
     },
     "output_type": "display_data"
    },
    {
     "data": {
      "text/html": [
       "<div>\n",
       "<style scoped>\n",
       "    .dataframe tbody tr th:only-of-type {\n",
       "        vertical-align: middle;\n",
       "    }\n",
       "\n",
       "    .dataframe tbody tr th {\n",
       "        vertical-align: top;\n",
       "    }\n",
       "\n",
       "    .dataframe thead th {\n",
       "        text-align: right;\n",
       "    }\n",
       "</style>\n",
       "<table border=\"1\" class=\"dataframe\">\n",
       "  <thead>\n",
       "    <tr style=\"text-align: right;\">\n",
       "      <th></th>\n",
       "      <th>member_casual</th>\n",
       "      <th>count</th>\n",
       "    </tr>\n",
       "  </thead>\n",
       "  <tbody>\n",
       "  </tbody>\n",
       "</table>\n",
       "</div>"
      ],
      "text/plain": [
       "\u001b[0;31mOut[11:10]: \u001b[0m\n",
       "Empty DataFrame\n",
       "Columns: [member_casual, count]\n",
       "Index: []"
      ]
     },
     "metadata": {
      "after": [],
      "completed": "2022-05-20T16:53:50.852757Z",
      "data": {},
      "engine_id": 11,
      "engine_uuid": "d7f291a4-081928de86d858350fd1ce91",
      "error": null,
      "execute_input": "df\n",
      "execute_result": {
       "data": {
        "text/html": "<div>\n<style scoped>\n    .dataframe tbody tr th:only-of-type {\n        vertical-align: middle;\n    }\n\n    .dataframe tbody tr th {\n        vertical-align: top;\n    }\n\n    .dataframe thead th {\n        text-align: right;\n    }\n</style>\n<table border=\"1\" class=\"dataframe\">\n  <thead>\n    <tr style=\"text-align: right;\">\n      <th></th>\n      <th>member_casual</th>\n      <th>count</th>\n    </tr>\n  </thead>\n  <tbody>\n  </tbody>\n</table>\n</div>",
        "text/plain": "Empty DataFrame\nColumns: [member_casual, count]\nIndex: []"
       },
       "execution_count": 10,
       "metadata": {}
      },
      "follow": [],
      "is_broadcast": true,
      "is_coalescing": false,
      "msg_id": "ced927b7-b1ce852dadd4804da15aedeb_17729_10_d7f291a4-081928de86d858350fd1ce91",
      "outputs": [],
      "received": "2022-05-20T16:53:50.860501Z",
      "started": "2022-05-20T16:53:50.848963Z",
      "status": "ok",
      "stderr": "",
      "stdout": "",
      "submitted": "2022-05-20T16:53:50.843599Z"
     },
     "output_type": "display_data"
    },
    {
     "data": {
      "text/html": [
       "<div>\n",
       "<style scoped>\n",
       "    .dataframe tbody tr th:only-of-type {\n",
       "        vertical-align: middle;\n",
       "    }\n",
       "\n",
       "    .dataframe tbody tr th {\n",
       "        vertical-align: top;\n",
       "    }\n",
       "\n",
       "    .dataframe thead th {\n",
       "        text-align: right;\n",
       "    }\n",
       "</style>\n",
       "<table border=\"1\" class=\"dataframe\">\n",
       "  <thead>\n",
       "    <tr style=\"text-align: right;\">\n",
       "      <th></th>\n",
       "      <th>member_casual</th>\n",
       "      <th>count</th>\n",
       "    </tr>\n",
       "  </thead>\n",
       "  <tbody>\n",
       "  </tbody>\n",
       "</table>\n",
       "</div>"
      ],
      "text/plain": [
       "\u001b[0;31mOut[17:10]: \u001b[0m\n",
       "Empty DataFrame\n",
       "Columns: [member_casual, count]\n",
       "Index: []"
      ]
     },
     "metadata": {
      "after": [],
      "completed": "2022-05-20T16:53:50.852791Z",
      "data": {},
      "engine_id": 17,
      "engine_uuid": "2ca28b18-df153dd8a4033e423beab7d4",
      "error": null,
      "execute_input": "df\n",
      "execute_result": {
       "data": {
        "text/html": "<div>\n<style scoped>\n    .dataframe tbody tr th:only-of-type {\n        vertical-align: middle;\n    }\n\n    .dataframe tbody tr th {\n        vertical-align: top;\n    }\n\n    .dataframe thead th {\n        text-align: right;\n    }\n</style>\n<table border=\"1\" class=\"dataframe\">\n  <thead>\n    <tr style=\"text-align: right;\">\n      <th></th>\n      <th>member_casual</th>\n      <th>count</th>\n    </tr>\n  </thead>\n  <tbody>\n  </tbody>\n</table>\n</div>",
        "text/plain": "Empty DataFrame\nColumns: [member_casual, count]\nIndex: []"
       },
       "execution_count": 10,
       "metadata": {}
      },
      "follow": [],
      "is_broadcast": true,
      "is_coalescing": false,
      "msg_id": "ced927b7-b1ce852dadd4804da15aedeb_17729_10_2ca28b18-df153dd8a4033e423beab7d4",
      "outputs": [],
      "received": "2022-05-20T16:53:50.862719Z",
      "started": "2022-05-20T16:53:50.849055Z",
      "status": "ok",
      "stderr": "",
      "stdout": "",
      "submitted": "2022-05-20T16:53:50.843599Z"
     },
     "output_type": "display_data"
    },
    {
     "data": {
      "text/html": [
       "<div>\n",
       "<style scoped>\n",
       "    .dataframe tbody tr th:only-of-type {\n",
       "        vertical-align: middle;\n",
       "    }\n",
       "\n",
       "    .dataframe tbody tr th {\n",
       "        vertical-align: top;\n",
       "    }\n",
       "\n",
       "    .dataframe thead th {\n",
       "        text-align: right;\n",
       "    }\n",
       "</style>\n",
       "<table border=\"1\" class=\"dataframe\">\n",
       "  <thead>\n",
       "    <tr style=\"text-align: right;\">\n",
       "      <th></th>\n",
       "      <th>member_casual</th>\n",
       "      <th>count</th>\n",
       "    </tr>\n",
       "  </thead>\n",
       "  <tbody>\n",
       "  </tbody>\n",
       "</table>\n",
       "</div>"
      ],
      "text/plain": [
       "\u001b[0;31mOut[5:10]: \u001b[0m\n",
       "Empty DataFrame\n",
       "Columns: [member_casual, count]\n",
       "Index: []"
      ]
     },
     "metadata": {
      "after": [],
      "completed": "2022-05-20T16:53:50.852762Z",
      "data": {},
      "engine_id": 5,
      "engine_uuid": "5440a899-0bd0f59c1b5eb45872dce9d3",
      "error": null,
      "execute_input": "df\n",
      "execute_result": {
       "data": {
        "text/html": "<div>\n<style scoped>\n    .dataframe tbody tr th:only-of-type {\n        vertical-align: middle;\n    }\n\n    .dataframe tbody tr th {\n        vertical-align: top;\n    }\n\n    .dataframe thead th {\n        text-align: right;\n    }\n</style>\n<table border=\"1\" class=\"dataframe\">\n  <thead>\n    <tr style=\"text-align: right;\">\n      <th></th>\n      <th>member_casual</th>\n      <th>count</th>\n    </tr>\n  </thead>\n  <tbody>\n  </tbody>\n</table>\n</div>",
        "text/plain": "Empty DataFrame\nColumns: [member_casual, count]\nIndex: []"
       },
       "execution_count": 10,
       "metadata": {}
      },
      "follow": [],
      "is_broadcast": true,
      "is_coalescing": false,
      "msg_id": "ced927b7-b1ce852dadd4804da15aedeb_17729_10_5440a899-0bd0f59c1b5eb45872dce9d3",
      "outputs": [],
      "received": "2022-05-20T16:53:50.862034Z",
      "started": "2022-05-20T16:53:50.849028Z",
      "status": "ok",
      "stderr": "",
      "stdout": "",
      "submitted": "2022-05-20T16:53:50.843599Z"
     },
     "output_type": "display_data"
    },
    {
     "data": {
      "text/html": [
       "<div>\n",
       "<style scoped>\n",
       "    .dataframe tbody tr th:only-of-type {\n",
       "        vertical-align: middle;\n",
       "    }\n",
       "\n",
       "    .dataframe tbody tr th {\n",
       "        vertical-align: top;\n",
       "    }\n",
       "\n",
       "    .dataframe thead th {\n",
       "        text-align: right;\n",
       "    }\n",
       "</style>\n",
       "<table border=\"1\" class=\"dataframe\">\n",
       "  <thead>\n",
       "    <tr style=\"text-align: right;\">\n",
       "      <th></th>\n",
       "      <th>member_casual</th>\n",
       "      <th>count</th>\n",
       "    </tr>\n",
       "  </thead>\n",
       "  <tbody>\n",
       "  </tbody>\n",
       "</table>\n",
       "</div>"
      ],
      "text/plain": [
       "\u001b[0;31mOut[9:10]: \u001b[0m\n",
       "Empty DataFrame\n",
       "Columns: [member_casual, count]\n",
       "Index: []"
      ]
     },
     "metadata": {
      "after": [],
      "completed": "2022-05-20T16:53:50.852811Z",
      "data": {},
      "engine_id": 9,
      "engine_uuid": "929a365b-3232656f48ea2b49a9eb60f6",
      "error": null,
      "execute_input": "df\n",
      "execute_result": {
       "data": {
        "text/html": "<div>\n<style scoped>\n    .dataframe tbody tr th:only-of-type {\n        vertical-align: middle;\n    }\n\n    .dataframe tbody tr th {\n        vertical-align: top;\n    }\n\n    .dataframe thead th {\n        text-align: right;\n    }\n</style>\n<table border=\"1\" class=\"dataframe\">\n  <thead>\n    <tr style=\"text-align: right;\">\n      <th></th>\n      <th>member_casual</th>\n      <th>count</th>\n    </tr>\n  </thead>\n  <tbody>\n  </tbody>\n</table>\n</div>",
        "text/plain": "Empty DataFrame\nColumns: [member_casual, count]\nIndex: []"
       },
       "execution_count": 10,
       "metadata": {}
      },
      "follow": [],
      "is_broadcast": true,
      "is_coalescing": false,
      "msg_id": "ced927b7-b1ce852dadd4804da15aedeb_17729_10_929a365b-3232656f48ea2b49a9eb60f6",
      "outputs": [],
      "received": "2022-05-20T16:53:50.863402Z",
      "started": "2022-05-20T16:53:50.849160Z",
      "status": "ok",
      "stderr": "",
      "stdout": "",
      "submitted": "2022-05-20T16:53:50.843599Z"
     },
     "output_type": "display_data"
    },
    {
     "data": {
      "text/html": [
       "<div>\n",
       "<style scoped>\n",
       "    .dataframe tbody tr th:only-of-type {\n",
       "        vertical-align: middle;\n",
       "    }\n",
       "\n",
       "    .dataframe tbody tr th {\n",
       "        vertical-align: top;\n",
       "    }\n",
       "\n",
       "    .dataframe thead th {\n",
       "        text-align: right;\n",
       "    }\n",
       "</style>\n",
       "<table border=\"1\" class=\"dataframe\">\n",
       "  <thead>\n",
       "    <tr style=\"text-align: right;\">\n",
       "      <th></th>\n",
       "      <th>member_casual</th>\n",
       "      <th>count</th>\n",
       "    </tr>\n",
       "  </thead>\n",
       "  <tbody>\n",
       "    <tr>\n",
       "      <th>0</th>\n",
       "      <td>casual</td>\n",
       "      <td>1376114</td>\n",
       "    </tr>\n",
       "  </tbody>\n",
       "</table>\n",
       "</div>"
      ],
      "text/plain": [
       "\u001b[0;31mOut[3:10]: \u001b[0m\n",
       "  member_casual    count\n",
       "0        casual  1376114"
      ]
     },
     "metadata": {
      "after": [],
      "completed": "2022-05-20T16:53:50.853138Z",
      "data": {},
      "engine_id": 3,
      "engine_uuid": "5cfdb2c1-92c6101d5806a3d68d835ffa",
      "error": null,
      "execute_input": "df\n",
      "execute_result": {
       "data": {
        "text/html": "<div>\n<style scoped>\n    .dataframe tbody tr th:only-of-type {\n        vertical-align: middle;\n    }\n\n    .dataframe tbody tr th {\n        vertical-align: top;\n    }\n\n    .dataframe thead th {\n        text-align: right;\n    }\n</style>\n<table border=\"1\" class=\"dataframe\">\n  <thead>\n    <tr style=\"text-align: right;\">\n      <th></th>\n      <th>member_casual</th>\n      <th>count</th>\n    </tr>\n  </thead>\n  <tbody>\n    <tr>\n      <th>0</th>\n      <td>casual</td>\n      <td>1376114</td>\n    </tr>\n  </tbody>\n</table>\n</div>",
        "text/plain": "  member_casual    count\n0        casual  1376114"
       },
       "execution_count": 10,
       "metadata": {}
      },
      "follow": [],
      "is_broadcast": true,
      "is_coalescing": false,
      "msg_id": "ced927b7-b1ce852dadd4804da15aedeb_17729_10_5cfdb2c1-92c6101d5806a3d68d835ffa",
      "outputs": [],
      "received": "2022-05-20T16:53:50.864046Z",
      "started": "2022-05-20T16:53:50.849043Z",
      "status": "ok",
      "stderr": "",
      "stdout": "",
      "submitted": "2022-05-20T16:53:50.843599Z"
     },
     "output_type": "display_data"
    },
    {
     "data": {
      "text/html": [
       "<div>\n",
       "<style scoped>\n",
       "    .dataframe tbody tr th:only-of-type {\n",
       "        vertical-align: middle;\n",
       "    }\n",
       "\n",
       "    .dataframe tbody tr th {\n",
       "        vertical-align: top;\n",
       "    }\n",
       "\n",
       "    .dataframe thead th {\n",
       "        text-align: right;\n",
       "    }\n",
       "</style>\n",
       "<table border=\"1\" class=\"dataframe\">\n",
       "  <thead>\n",
       "    <tr style=\"text-align: right;\">\n",
       "      <th></th>\n",
       "      <th>member_casual</th>\n",
       "      <th>count</th>\n",
       "    </tr>\n",
       "  </thead>\n",
       "  <tbody>\n",
       "    <tr>\n",
       "      <th>1</th>\n",
       "      <td>member</td>\n",
       "      <td>1866825</td>\n",
       "    </tr>\n",
       "  </tbody>\n",
       "</table>\n",
       "</div>"
      ],
      "text/plain": [
       "\u001b[0;31mOut[13:10]: \u001b[0m\n",
       "  member_casual    count\n",
       "1        member  1866825"
      ]
     },
     "metadata": {
      "after": [],
      "completed": "2022-05-20T16:53:50.853287Z",
      "data": {},
      "engine_id": 13,
      "engine_uuid": "0abcc8c5-73bf663223033c35e692f10a",
      "error": null,
      "execute_input": "df\n",
      "execute_result": {
       "data": {
        "text/html": "<div>\n<style scoped>\n    .dataframe tbody tr th:only-of-type {\n        vertical-align: middle;\n    }\n\n    .dataframe tbody tr th {\n        vertical-align: top;\n    }\n\n    .dataframe thead th {\n        text-align: right;\n    }\n</style>\n<table border=\"1\" class=\"dataframe\">\n  <thead>\n    <tr style=\"text-align: right;\">\n      <th></th>\n      <th>member_casual</th>\n      <th>count</th>\n    </tr>\n  </thead>\n  <tbody>\n    <tr>\n      <th>1</th>\n      <td>member</td>\n      <td>1866825</td>\n    </tr>\n  </tbody>\n</table>\n</div>",
        "text/plain": "  member_casual    count\n1        member  1866825"
       },
       "execution_count": 10,
       "metadata": {}
      },
      "follow": [],
      "is_broadcast": true,
      "is_coalescing": false,
      "msg_id": "ced927b7-b1ce852dadd4804da15aedeb_17729_10_0abcc8c5-73bf663223033c35e692f10a",
      "outputs": [],
      "received": "2022-05-20T16:53:50.864365Z",
      "started": "2022-05-20T16:53:50.849064Z",
      "status": "ok",
      "stderr": "",
      "stdout": "",
      "submitted": "2022-05-20T16:53:50.843599Z"
     },
     "output_type": "display_data"
    },
    {
     "data": {
      "text/html": [
       "<div>\n",
       "<style scoped>\n",
       "    .dataframe tbody tr th:only-of-type {\n",
       "        vertical-align: middle;\n",
       "    }\n",
       "\n",
       "    .dataframe tbody tr th {\n",
       "        vertical-align: top;\n",
       "    }\n",
       "\n",
       "    .dataframe thead th {\n",
       "        text-align: right;\n",
       "    }\n",
       "</style>\n",
       "<table border=\"1\" class=\"dataframe\">\n",
       "  <thead>\n",
       "    <tr style=\"text-align: right;\">\n",
       "      <th></th>\n",
       "      <th>member_casual</th>\n",
       "      <th>count</th>\n",
       "    </tr>\n",
       "  </thead>\n",
       "  <tbody>\n",
       "  </tbody>\n",
       "</table>\n",
       "</div>"
      ],
      "text/plain": [
       "\u001b[0;31mOut[7:10]: \u001b[0m\n",
       "Empty DataFrame\n",
       "Columns: [member_casual, count]\n",
       "Index: []"
      ]
     },
     "metadata": {
      "after": [],
      "completed": "2022-05-20T16:53:50.856218Z",
      "data": {},
      "engine_id": 7,
      "engine_uuid": "2a710af8-2b4298d867e16687ab143482",
      "error": null,
      "execute_input": "df\n",
      "execute_result": {
       "data": {
        "text/html": "<div>\n<style scoped>\n    .dataframe tbody tr th:only-of-type {\n        vertical-align: middle;\n    }\n\n    .dataframe tbody tr th {\n        vertical-align: top;\n    }\n\n    .dataframe thead th {\n        text-align: right;\n    }\n</style>\n<table border=\"1\" class=\"dataframe\">\n  <thead>\n    <tr style=\"text-align: right;\">\n      <th></th>\n      <th>member_casual</th>\n      <th>count</th>\n    </tr>\n  </thead>\n  <tbody>\n  </tbody>\n</table>\n</div>",
        "text/plain": "Empty DataFrame\nColumns: [member_casual, count]\nIndex: []"
       },
       "execution_count": 10,
       "metadata": {}
      },
      "follow": [],
      "is_broadcast": true,
      "is_coalescing": false,
      "msg_id": "ced927b7-b1ce852dadd4804da15aedeb_17729_10_2a710af8-2b4298d867e16687ab143482",
      "outputs": [],
      "received": "2022-05-20T16:53:50.865333Z",
      "started": "2022-05-20T16:53:50.848910Z",
      "status": "ok",
      "stderr": "",
      "stdout": "",
      "submitted": "2022-05-20T16:53:50.843599Z"
     },
     "output_type": "display_data"
    },
    {
     "data": {
      "text/html": [
       "<div>\n",
       "<style scoped>\n",
       "    .dataframe tbody tr th:only-of-type {\n",
       "        vertical-align: middle;\n",
       "    }\n",
       "\n",
       "    .dataframe tbody tr th {\n",
       "        vertical-align: top;\n",
       "    }\n",
       "\n",
       "    .dataframe thead th {\n",
       "        text-align: right;\n",
       "    }\n",
       "</style>\n",
       "<table border=\"1\" class=\"dataframe\">\n",
       "  <thead>\n",
       "    <tr style=\"text-align: right;\">\n",
       "      <th></th>\n",
       "      <th>member_casual</th>\n",
       "      <th>count</th>\n",
       "    </tr>\n",
       "  </thead>\n",
       "  <tbody>\n",
       "  </tbody>\n",
       "</table>\n",
       "</div>"
      ],
      "text/plain": [
       "\u001b[0;31mOut[1:10]: \u001b[0m\n",
       "Empty DataFrame\n",
       "Columns: [member_casual, count]\n",
       "Index: []"
      ]
     },
     "metadata": {
      "after": [],
      "completed": "2022-05-20T16:53:50.858893Z",
      "data": {},
      "engine_id": 1,
      "engine_uuid": "79b87d22-78ea0a45621fc788120add62",
      "error": null,
      "execute_input": "df\n",
      "execute_result": {
       "data": {
        "text/html": "<div>\n<style scoped>\n    .dataframe tbody tr th:only-of-type {\n        vertical-align: middle;\n    }\n\n    .dataframe tbody tr th {\n        vertical-align: top;\n    }\n\n    .dataframe thead th {\n        text-align: right;\n    }\n</style>\n<table border=\"1\" class=\"dataframe\">\n  <thead>\n    <tr style=\"text-align: right;\">\n      <th></th>\n      <th>member_casual</th>\n      <th>count</th>\n    </tr>\n  </thead>\n  <tbody>\n  </tbody>\n</table>\n</div>",
        "text/plain": "Empty DataFrame\nColumns: [member_casual, count]\nIndex: []"
       },
       "execution_count": 10,
       "metadata": {}
      },
      "follow": [],
      "is_broadcast": true,
      "is_coalescing": false,
      "msg_id": "ced927b7-b1ce852dadd4804da15aedeb_17729_10_79b87d22-78ea0a45621fc788120add62",
      "outputs": [],
      "received": "2022-05-20T16:53:50.865769Z",
      "started": "2022-05-20T16:53:50.848260Z",
      "status": "ok",
      "stderr": "",
      "stdout": "",
      "submitted": "2022-05-20T16:53:50.843599Z"
     },
     "output_type": "display_data"
    }
   ],
   "source": [
    "%%px\n",
    "df"
   ]
  },
  {
   "cell_type": "code",
   "execution_count": null,
   "id": "30162404-e1ea-4736-bebf-b0fc6bc77ca3",
   "metadata": {},
   "outputs": [],
   "source": []
  },
  {
   "cell_type": "code",
   "execution_count": null,
   "id": "a8e597ae",
   "metadata": {
    "execution": {
     "iopub.execute_input": "2022-05-20T16:58:39.562831Z",
     "iopub.status.busy": "2022-05-20T16:58:39.562532Z",
     "iopub.status.idle": "2022-05-20T16:58:48.369909Z",
     "shell.execute_reply": "2022-05-20T16:58:48.369491Z",
     "shell.execute_reply.started": "2022-05-20T16:58:39.562814Z"
    },
    "tags": []
   },
   "outputs": [
    {
     "name": "stdout",
     "output_type": "stream",
     "text": [
      "Starting 24 engines with <class 'ipyparallel.cluster.launcher.MPIEngineSetLauncher'>\n"
     ]
    },
    {
     "data": {
      "application/vnd.jupyter.widget-view+json": {
       "model_id": "17c6f911f8eb4bc690a22469dca7ceea",
       "version_major": 2,
       "version_minor": 0
      },
      "text/plain": [
       "  0%|          | 0/24 [00:00<?, ?engine/s]"
      ]
     },
     "metadata": {},
     "output_type": "display_data"
    }
   ],
   "source": [
    "%%px\n",
    "from utils.creds import *\n",
    "load_sf_creds()\n",
    "username=os.environ[\"user\"]\n",
    "password=os.environ[\"password\"]\n",
    "account=os.environ[\"account\"]\n",
    "warehouse=\"TEST_WH\"\n",
    "database=os.environ[\"dbname\"]\n",
    "schema=\"TPCH_SF10\"\n",
    "import sys\n",
    "import bodo\n",
    "rank=bodo.get_rank()\n",
    "log = open(f\"/tmp/process{rank}.log\", \"w\")\n",
    "sys.stderr = log"
   ]
  },
  {
   "cell_type": "code",
   "execution_count": null,
   "id": "717d092b",
   "metadata": {
    "execution": {
     "iopub.execute_input": "2022-05-20T16:59:18.996351Z",
     "iopub.status.busy": "2022-05-20T16:59:18.995891Z",
     "iopub.status.idle": "2022-05-20T16:59:47.990780Z",
     "shell.execute_reply": "2022-05-20T16:59:47.990393Z",
     "shell.execute_reply.started": "2022-05-20T16:59:18.996329Z"
    },
    "tags": []
   },
   "outputs": [
    {
     "data": {
      "application/vnd.jupyter.widget-view+json": {
       "model_id": "094115c5915445408ae638deb94dae7a",
       "version_major": 2,
       "version_minor": 0
      },
      "text/plain": [
       "%px:   0%|          | 0/24 [00:00<?, ?tasks/s]"
      ]
     },
     "metadata": {},
     "output_type": "display_data"
    },
    {
     "data": {
      "text/plain": [
       "[stdout:0] Q01 Execution time (s):  7.744855493318028\n"
      ]
     },
     "metadata": {},
     "output_type": "display_data"
    }
   ],
   "source": [
    "%%px\n",
    "import time\n",
    "import bodo\n",
    "import bodosql\n",
    "@bodo.jit(cache=True)\n",
    "def tpch_q01_sql(schema,conn_str):\n",
    "    t1 = time.time()\n",
    "    bc = bodosql.BodoSQLContext(\n",
    "        {\n",
    "            \"lineitem\": bodosql.TablePath(\n",
    "                f\"{schema}.lineitem\", \"sql\", conn_str=conn_str, reorder_io=True\n",
    "            ),\n",
    "        })\n",
    "    total = bc.sql(\n",
    "        \"\"\"select\n",
    "                l_returnflag,\n",
    "                l_linestatus,\n",
    "                sum(l_quantity) as sum_qty,\n",
    "                sum(l_extendedprice) as sum_base_price,\n",
    "                sum(l_extendedprice * (1 - l_discount)) as sum_disc_price,\n",
    "                sum(l_extendedprice * (1 - l_discount) * (1 + l_tax)) as sum_charge,\n",
    "                avg(l_quantity) as avg_qty,\n",
    "                avg(l_extendedprice) as avg_price,\n",
    "                avg(l_discount) as avg_disc,\n",
    "                count(*) as count_order\n",
    "            from\n",
    "                lineitem\n",
    "            where\n",
    "                l_shipdate <= date '1998-12-01' - interval '90' day\n",
    "            group by\n",
    "                l_returnflag,\n",
    "                l_linestatus\n",
    "            order by\n",
    "                l_returnflag,\n",
    "                l_linestatus\"\"\"\n",
    "    )\n",
    "\n",
    "    print(\"Q01 Execution time (s): \", time.time() - t1)\n",
    "    return total\n",
    "\n",
    "q1_result=tpch_q01_sql(schema,f\"snowflake://{username}:{password}@{account}/{database}/PUBLIC?warehouse={warehouse}\")"
   ]
  },
  {
   "cell_type": "code",
   "execution_count": null,
   "id": "23c4ab3b",
   "metadata": {
    "tags": []
   },
   "outputs": [],
   "source": [
    "%%px\n",
    "q1_result"
   ]
  },
  {
   "cell_type": "code",
   "execution_count": null,
   "id": "1929a902",
   "metadata": {
    "execution": {
     "iopub.execute_input": "2022-05-20T16:53:42.629054Z",
     "iopub.status.busy": "2022-05-20T16:53:42.628806Z",
     "iopub.status.idle": "2022-05-20T16:53:45.392184Z",
     "shell.execute_reply": "2022-05-20T16:53:45.391813Z",
     "shell.execute_reply.started": "2022-05-20T16:53:42.629032Z"
    },
    "tags": []
   },
   "outputs": [
    {
     "data": {
      "application/vnd.jupyter.widget-view+json": {
       "model_id": "556237ab0e814ce6935fe609efbc5d45",
       "version_major": 2,
       "version_minor": 0
      },
      "text/plain": [
       "%px:   0%|          | 0/24 [00:00<?, ?tasks/s]"
      ]
     },
     "metadata": {},
     "output_type": "display_data"
    },
    {
     "data": {
      "text/plain": [
       "[stdout:0] Execution time (s):  0.7086308506204659\n"
      ]
     },
     "metadata": {},
     "output_type": "display_data"
    }
   ],
   "source": [
    "%%px\n",
    "from utils.creds import *\n",
    "load_aws_creds()\n",
    "import time\n",
    "import bodo\n",
    "import bodosql\n",
    "@bodo.jit(cache=True)\n",
    "def divvy_sql():\n",
    "    t1 = time.time()\n",
    "    bc = bodosql.BodoSQLContext(\n",
    "        {\n",
    "            \"divvy\": bodosql.TablePath(\n",
    "                \"s3://bodo-divvy-data/parquet\", \"parquet\"\n",
    "            ),\n",
    "        })\n",
    "    df = bc.sql(\n",
    "        \"\"\"select\n",
    "               member_casual,count(*) as `count` from divvy group by member_casual\"\"\"\n",
    "    )\n",
    "    print(\"Execution time (s): \", time.time() - t1)\n",
    "    return df\n",
    "\n",
    "df=divvy_sql()"
   ]
  },
  {
   "cell_type": "code",
   "execution_count": null,
   "id": "fbcddeb2",
   "metadata": {
    "execution": {
     "iopub.execute_input": "2022-05-20T16:53:50.842452Z",
     "iopub.status.busy": "2022-05-20T16:53:50.842198Z",
     "iopub.status.idle": "2022-05-20T16:53:50.886430Z",
     "shell.execute_reply": "2022-05-20T16:53:50.886058Z",
     "shell.execute_reply.started": "2022-05-20T16:53:50.842432Z"
    },
    "tags": []
   },
   "outputs": [
    {
     "data": {
      "text/html": [
       "<div>\n",
       "<style scoped>\n",
       "    .dataframe tbody tr th:only-of-type {\n",
       "        vertical-align: middle;\n",
       "    }\n",
       "\n",
       "    .dataframe tbody tr th {\n",
       "        vertical-align: top;\n",
       "    }\n",
       "\n",
       "    .dataframe thead th {\n",
       "        text-align: right;\n",
       "    }\n",
       "</style>\n",
       "<table border=\"1\" class=\"dataframe\">\n",
       "  <thead>\n",
       "    <tr style=\"text-align: right;\">\n",
       "      <th></th>\n",
       "      <th>member_casual</th>\n",
       "      <th>count</th>\n",
       "    </tr>\n",
       "  </thead>\n",
       "  <tbody>\n",
       "  </tbody>\n",
       "</table>\n",
       "</div>"
      ],
      "text/plain": [
       "\u001b[0;31mOut[6:10]: \u001b[0m\n",
       "Empty DataFrame\n",
       "Columns: [member_casual, count]\n",
       "Index: []"
      ]
     },
     "metadata": {
      "after": [],
      "completed": "2022-05-20T16:53:50.851857Z",
      "data": {},
      "engine_id": 6,
      "engine_uuid": "4da1e924-2c2f47ed049f5ebd027c0840",
      "error": null,
      "execute_input": "df\n",
      "execute_result": {
       "data": {
        "text/html": "<div>\n<style scoped>\n    .dataframe tbody tr th:only-of-type {\n        vertical-align: middle;\n    }\n\n    .dataframe tbody tr th {\n        vertical-align: top;\n    }\n\n    .dataframe thead th {\n        text-align: right;\n    }\n</style>\n<table border=\"1\" class=\"dataframe\">\n  <thead>\n    <tr style=\"text-align: right;\">\n      <th></th>\n      <th>member_casual</th>\n      <th>count</th>\n    </tr>\n  </thead>\n  <tbody>\n  </tbody>\n</table>\n</div>",
        "text/plain": "Empty DataFrame\nColumns: [member_casual, count]\nIndex: []"
       },
       "execution_count": 10,
       "metadata": {}
      },
      "follow": [],
      "is_broadcast": true,
      "is_coalescing": false,
      "msg_id": "ced927b7-b1ce852dadd4804da15aedeb_17729_10_4da1e924-2c2f47ed049f5ebd027c0840",
      "outputs": [],
      "received": "2022-05-20T16:53:50.853951Z",
      "started": "2022-05-20T16:53:50.848281Z",
      "status": "ok",
      "stderr": "",
      "stdout": "",
      "submitted": "2022-05-20T16:53:50.843599Z"
     },
     "output_type": "display_data"
    },
    {
     "data": {
      "text/html": [
       "<div>\n",
       "<style scoped>\n",
       "    .dataframe tbody tr th:only-of-type {\n",
       "        vertical-align: middle;\n",
       "    }\n",
       "\n",
       "    .dataframe tbody tr th {\n",
       "        vertical-align: top;\n",
       "    }\n",
       "\n",
       "    .dataframe thead th {\n",
       "        text-align: right;\n",
       "    }\n",
       "</style>\n",
       "<table border=\"1\" class=\"dataframe\">\n",
       "  <thead>\n",
       "    <tr style=\"text-align: right;\">\n",
       "      <th></th>\n",
       "      <th>member_casual</th>\n",
       "      <th>count</th>\n",
       "    </tr>\n",
       "  </thead>\n",
       "  <tbody>\n",
       "  </tbody>\n",
       "</table>\n",
       "</div>"
      ],
      "text/plain": [
       "\u001b[0;31mOut[12:10]: \u001b[0m\n",
       "Empty DataFrame\n",
       "Columns: [member_casual, count]\n",
       "Index: []"
      ]
     },
     "metadata": {
      "after": [],
      "completed": "2022-05-20T16:53:50.851883Z",
      "data": {},
      "engine_id": 12,
      "engine_uuid": "af9e7abc-996c60fc3dbcd401578d9812",
      "error": null,
      "execute_input": "df\n",
      "execute_result": {
       "data": {
        "text/html": "<div>\n<style scoped>\n    .dataframe tbody tr th:only-of-type {\n        vertical-align: middle;\n    }\n\n    .dataframe tbody tr th {\n        vertical-align: top;\n    }\n\n    .dataframe thead th {\n        text-align: right;\n    }\n</style>\n<table border=\"1\" class=\"dataframe\">\n  <thead>\n    <tr style=\"text-align: right;\">\n      <th></th>\n      <th>member_casual</th>\n      <th>count</th>\n    </tr>\n  </thead>\n  <tbody>\n  </tbody>\n</table>\n</div>",
        "text/plain": "Empty DataFrame\nColumns: [member_casual, count]\nIndex: []"
       },
       "execution_count": 10,
       "metadata": {}
      },
      "follow": [],
      "is_broadcast": true,
      "is_coalescing": false,
      "msg_id": "ced927b7-b1ce852dadd4804da15aedeb_17729_10_af9e7abc-996c60fc3dbcd401578d9812",
      "outputs": [],
      "received": "2022-05-20T16:53:50.854431Z",
      "started": "2022-05-20T16:53:50.848239Z",
      "status": "ok",
      "stderr": "",
      "stdout": "",
      "submitted": "2022-05-20T16:53:50.843599Z"
     },
     "output_type": "display_data"
    },
    {
     "data": {
      "text/html": [
       "<div>\n",
       "<style scoped>\n",
       "    .dataframe tbody tr th:only-of-type {\n",
       "        vertical-align: middle;\n",
       "    }\n",
       "\n",
       "    .dataframe tbody tr th {\n",
       "        vertical-align: top;\n",
       "    }\n",
       "\n",
       "    .dataframe thead th {\n",
       "        text-align: right;\n",
       "    }\n",
       "</style>\n",
       "<table border=\"1\" class=\"dataframe\">\n",
       "  <thead>\n",
       "    <tr style=\"text-align: right;\">\n",
       "      <th></th>\n",
       "      <th>member_casual</th>\n",
       "      <th>count</th>\n",
       "    </tr>\n",
       "  </thead>\n",
       "  <tbody>\n",
       "  </tbody>\n",
       "</table>\n",
       "</div>"
      ],
      "text/plain": [
       "\u001b[0;31mOut[0:10]: \u001b[0m\n",
       "Empty DataFrame\n",
       "Columns: [member_casual, count]\n",
       "Index: []"
      ]
     },
     "metadata": {
      "after": [],
      "completed": "2022-05-20T16:53:50.851901Z",
      "data": {},
      "engine_id": 0,
      "engine_uuid": "7671f61b-eb8d06139c39664360f88308",
      "error": null,
      "execute_input": "df\n",
      "execute_result": {
       "data": {
        "text/html": "<div>\n<style scoped>\n    .dataframe tbody tr th:only-of-type {\n        vertical-align: middle;\n    }\n\n    .dataframe tbody tr th {\n        vertical-align: top;\n    }\n\n    .dataframe thead th {\n        text-align: right;\n    }\n</style>\n<table border=\"1\" class=\"dataframe\">\n  <thead>\n    <tr style=\"text-align: right;\">\n      <th></th>\n      <th>member_casual</th>\n      <th>count</th>\n    </tr>\n  </thead>\n  <tbody>\n  </tbody>\n</table>\n</div>",
        "text/plain": "Empty DataFrame\nColumns: [member_casual, count]\nIndex: []"
       },
       "execution_count": 10,
       "metadata": {}
      },
      "follow": [],
      "is_broadcast": true,
      "is_coalescing": false,
      "msg_id": "ced927b7-b1ce852dadd4804da15aedeb_17729_10_7671f61b-eb8d06139c39664360f88308",
      "outputs": [],
      "received": "2022-05-20T16:53:50.855836Z",
      "started": "2022-05-20T16:53:50.848188Z",
      "status": "ok",
      "stderr": "",
      "stdout": "",
      "submitted": "2022-05-20T16:53:50.843599Z"
     },
     "output_type": "display_data"
    },
    {
     "data": {
      "text/html": [
       "<div>\n",
       "<style scoped>\n",
       "    .dataframe tbody tr th:only-of-type {\n",
       "        vertical-align: middle;\n",
       "    }\n",
       "\n",
       "    .dataframe tbody tr th {\n",
       "        vertical-align: top;\n",
       "    }\n",
       "\n",
       "    .dataframe thead th {\n",
       "        text-align: right;\n",
       "    }\n",
       "</style>\n",
       "<table border=\"1\" class=\"dataframe\">\n",
       "  <thead>\n",
       "    <tr style=\"text-align: right;\">\n",
       "      <th></th>\n",
       "      <th>member_casual</th>\n",
       "      <th>count</th>\n",
       "    </tr>\n",
       "  </thead>\n",
       "  <tbody>\n",
       "  </tbody>\n",
       "</table>\n",
       "</div>"
      ],
      "text/plain": [
       "\u001b[0;31mOut[14:10]: \u001b[0m\n",
       "Empty DataFrame\n",
       "Columns: [member_casual, count]\n",
       "Index: []"
      ]
     },
     "metadata": {
      "after": [],
      "completed": "2022-05-20T16:53:50.852185Z",
      "data": {},
      "engine_id": 14,
      "engine_uuid": "ba572797-5f2862845567803bb58266e7",
      "error": null,
      "execute_input": "df\n",
      "execute_result": {
       "data": {
        "text/html": "<div>\n<style scoped>\n    .dataframe tbody tr th:only-of-type {\n        vertical-align: middle;\n    }\n\n    .dataframe tbody tr th {\n        vertical-align: top;\n    }\n\n    .dataframe thead th {\n        text-align: right;\n    }\n</style>\n<table border=\"1\" class=\"dataframe\">\n  <thead>\n    <tr style=\"text-align: right;\">\n      <th></th>\n      <th>member_casual</th>\n      <th>count</th>\n    </tr>\n  </thead>\n  <tbody>\n  </tbody>\n</table>\n</div>",
        "text/plain": "Empty DataFrame\nColumns: [member_casual, count]\nIndex: []"
       },
       "execution_count": 10,
       "metadata": {}
      },
      "follow": [],
      "is_broadcast": true,
      "is_coalescing": false,
      "msg_id": "ced927b7-b1ce852dadd4804da15aedeb_17729_10_ba572797-5f2862845567803bb58266e7",
      "outputs": [],
      "received": "2022-05-20T16:53:50.857033Z",
      "started": "2022-05-20T16:53:50.848466Z",
      "status": "ok",
      "stderr": "",
      "stdout": "",
      "submitted": "2022-05-20T16:53:50.843599Z"
     },
     "output_type": "display_data"
    },
    {
     "data": {
      "text/html": [
       "<div>\n",
       "<style scoped>\n",
       "    .dataframe tbody tr th:only-of-type {\n",
       "        vertical-align: middle;\n",
       "    }\n",
       "\n",
       "    .dataframe tbody tr th {\n",
       "        vertical-align: top;\n",
       "    }\n",
       "\n",
       "    .dataframe thead th {\n",
       "        text-align: right;\n",
       "    }\n",
       "</style>\n",
       "<table border=\"1\" class=\"dataframe\">\n",
       "  <thead>\n",
       "    <tr style=\"text-align: right;\">\n",
       "      <th></th>\n",
       "      <th>member_casual</th>\n",
       "      <th>count</th>\n",
       "    </tr>\n",
       "  </thead>\n",
       "  <tbody>\n",
       "  </tbody>\n",
       "</table>\n",
       "</div>"
      ],
      "text/plain": [
       "\u001b[0;31mOut[2:10]: \u001b[0m\n",
       "Empty DataFrame\n",
       "Columns: [member_casual, count]\n",
       "Index: []"
      ]
     },
     "metadata": {
      "after": [],
      "completed": "2022-05-20T16:53:50.852152Z",
      "data": {},
      "engine_id": 2,
      "engine_uuid": "7f6dd4f6-72fedda514a2f6703a69af72",
      "error": null,
      "execute_input": "df\n",
      "execute_result": {
       "data": {
        "text/html": "<div>\n<style scoped>\n    .dataframe tbody tr th:only-of-type {\n        vertical-align: middle;\n    }\n\n    .dataframe tbody tr th {\n        vertical-align: top;\n    }\n\n    .dataframe thead th {\n        text-align: right;\n    }\n</style>\n<table border=\"1\" class=\"dataframe\">\n  <thead>\n    <tr style=\"text-align: right;\">\n      <th></th>\n      <th>member_casual</th>\n      <th>count</th>\n    </tr>\n  </thead>\n  <tbody>\n  </tbody>\n</table>\n</div>",
        "text/plain": "Empty DataFrame\nColumns: [member_casual, count]\nIndex: []"
       },
       "execution_count": 10,
       "metadata": {}
      },
      "follow": [],
      "is_broadcast": true,
      "is_coalescing": false,
      "msg_id": "ced927b7-b1ce852dadd4804da15aedeb_17729_10_7f6dd4f6-72fedda514a2f6703a69af72",
      "outputs": [],
      "received": "2022-05-20T16:53:50.858691Z",
      "started": "2022-05-20T16:53:50.848325Z",
      "status": "ok",
      "stderr": "",
      "stdout": "",
      "submitted": "2022-05-20T16:53:50.843599Z"
     },
     "output_type": "display_data"
    },
    {
     "data": {
      "text/html": [
       "<div>\n",
       "<style scoped>\n",
       "    .dataframe tbody tr th:only-of-type {\n",
       "        vertical-align: middle;\n",
       "    }\n",
       "\n",
       "    .dataframe tbody tr th {\n",
       "        vertical-align: top;\n",
       "    }\n",
       "\n",
       "    .dataframe thead th {\n",
       "        text-align: right;\n",
       "    }\n",
       "</style>\n",
       "<table border=\"1\" class=\"dataframe\">\n",
       "  <thead>\n",
       "    <tr style=\"text-align: right;\">\n",
       "      <th></th>\n",
       "      <th>member_casual</th>\n",
       "      <th>count</th>\n",
       "    </tr>\n",
       "  </thead>\n",
       "  <tbody>\n",
       "  </tbody>\n",
       "</table>\n",
       "</div>"
      ],
      "text/plain": [
       "\u001b[0;31mOut[18:10]: \u001b[0m\n",
       "Empty DataFrame\n",
       "Columns: [member_casual, count]\n",
       "Index: []"
      ]
     },
     "metadata": {
      "after": [],
      "completed": "2022-05-20T16:53:50.852132Z",
      "data": {},
      "engine_id": 18,
      "engine_uuid": "1f131c80-7df7e854d1ecdb60a3c557ed",
      "error": null,
      "execute_input": "df\n",
      "execute_result": {
       "data": {
        "text/html": "<div>\n<style scoped>\n    .dataframe tbody tr th:only-of-type {\n        vertical-align: middle;\n    }\n\n    .dataframe tbody tr th {\n        vertical-align: top;\n    }\n\n    .dataframe thead th {\n        text-align: right;\n    }\n</style>\n<table border=\"1\" class=\"dataframe\">\n  <thead>\n    <tr style=\"text-align: right;\">\n      <th></th>\n      <th>member_casual</th>\n      <th>count</th>\n    </tr>\n  </thead>\n  <tbody>\n  </tbody>\n</table>\n</div>",
        "text/plain": "Empty DataFrame\nColumns: [member_casual, count]\nIndex: []"
       },
       "execution_count": 10,
       "metadata": {}
      },
      "follow": [],
      "is_broadcast": true,
      "is_coalescing": false,
      "msg_id": "ced927b7-b1ce852dadd4804da15aedeb_17729_10_1f131c80-7df7e854d1ecdb60a3c557ed",
      "outputs": [],
      "received": "2022-05-20T16:53:50.856350Z",
      "started": "2022-05-20T16:53:50.848515Z",
      "status": "ok",
      "stderr": "",
      "stdout": "",
      "submitted": "2022-05-20T16:53:50.843599Z"
     },
     "output_type": "display_data"
    },
    {
     "data": {
      "text/html": [
       "<div>\n",
       "<style scoped>\n",
       "    .dataframe tbody tr th:only-of-type {\n",
       "        vertical-align: middle;\n",
       "    }\n",
       "\n",
       "    .dataframe tbody tr th {\n",
       "        vertical-align: top;\n",
       "    }\n",
       "\n",
       "    .dataframe thead th {\n",
       "        text-align: right;\n",
       "    }\n",
       "</style>\n",
       "<table border=\"1\" class=\"dataframe\">\n",
       "  <thead>\n",
       "    <tr style=\"text-align: right;\">\n",
       "      <th></th>\n",
       "      <th>member_casual</th>\n",
       "      <th>count</th>\n",
       "    </tr>\n",
       "  </thead>\n",
       "  <tbody>\n",
       "  </tbody>\n",
       "</table>\n",
       "</div>"
      ],
      "text/plain": [
       "\u001b[0;31mOut[8:10]: \u001b[0m\n",
       "Empty DataFrame\n",
       "Columns: [member_casual, count]\n",
       "Index: []"
      ]
     },
     "metadata": {
      "after": [],
      "completed": "2022-05-20T16:53:50.852204Z",
      "data": {},
      "engine_id": 8,
      "engine_uuid": "83c74f89-13162e671610e4356589b23d",
      "error": null,
      "execute_input": "df\n",
      "execute_result": {
       "data": {
        "text/html": "<div>\n<style scoped>\n    .dataframe tbody tr th:only-of-type {\n        vertical-align: middle;\n    }\n\n    .dataframe tbody tr th {\n        vertical-align: top;\n    }\n\n    .dataframe thead th {\n        text-align: right;\n    }\n</style>\n<table border=\"1\" class=\"dataframe\">\n  <thead>\n    <tr style=\"text-align: right;\">\n      <th></th>\n      <th>member_casual</th>\n      <th>count</th>\n    </tr>\n  </thead>\n  <tbody>\n  </tbody>\n</table>\n</div>",
        "text/plain": "Empty DataFrame\nColumns: [member_casual, count]\nIndex: []"
       },
       "execution_count": 10,
       "metadata": {}
      },
      "follow": [],
      "is_broadcast": true,
      "is_coalescing": false,
      "msg_id": "ced927b7-b1ce852dadd4804da15aedeb_17729_10_83c74f89-13162e671610e4356589b23d",
      "outputs": [],
      "received": "2022-05-20T16:53:50.861704Z",
      "started": "2022-05-20T16:53:50.848367Z",
      "status": "ok",
      "stderr": "",
      "stdout": "",
      "submitted": "2022-05-20T16:53:50.843599Z"
     },
     "output_type": "display_data"
    },
    {
     "data": {
      "text/html": [
       "<div>\n",
       "<style scoped>\n",
       "    .dataframe tbody tr th:only-of-type {\n",
       "        vertical-align: middle;\n",
       "    }\n",
       "\n",
       "    .dataframe tbody tr th {\n",
       "        vertical-align: top;\n",
       "    }\n",
       "\n",
       "    .dataframe thead th {\n",
       "        text-align: right;\n",
       "    }\n",
       "</style>\n",
       "<table border=\"1\" class=\"dataframe\">\n",
       "  <thead>\n",
       "    <tr style=\"text-align: right;\">\n",
       "      <th></th>\n",
       "      <th>member_casual</th>\n",
       "      <th>count</th>\n",
       "    </tr>\n",
       "  </thead>\n",
       "  <tbody>\n",
       "  </tbody>\n",
       "</table>\n",
       "</div>"
      ],
      "text/plain": [
       "\u001b[0;31mOut[16:10]: \u001b[0m\n",
       "Empty DataFrame\n",
       "Columns: [member_casual, count]\n",
       "Index: []"
      ]
     },
     "metadata": {
      "after": [],
      "completed": "2022-05-20T16:53:50.852275Z",
      "data": {},
      "engine_id": 16,
      "engine_uuid": "df9e6643-2cd03ac9a544f5d9d2f047b9",
      "error": null,
      "execute_input": "df\n",
      "execute_result": {
       "data": {
        "text/html": "<div>\n<style scoped>\n    .dataframe tbody tr th:only-of-type {\n        vertical-align: middle;\n    }\n\n    .dataframe tbody tr th {\n        vertical-align: top;\n    }\n\n    .dataframe thead th {\n        text-align: right;\n    }\n</style>\n<table border=\"1\" class=\"dataframe\">\n  <thead>\n    <tr style=\"text-align: right;\">\n      <th></th>\n      <th>member_casual</th>\n      <th>count</th>\n    </tr>\n  </thead>\n  <tbody>\n  </tbody>\n</table>\n</div>",
        "text/plain": "Empty DataFrame\nColumns: [member_casual, count]\nIndex: []"
       },
       "execution_count": 10,
       "metadata": {}
      },
      "follow": [],
      "is_broadcast": true,
      "is_coalescing": false,
      "msg_id": "ced927b7-b1ce852dadd4804da15aedeb_17729_10_df9e6643-2cd03ac9a544f5d9d2f047b9",
      "outputs": [],
      "received": "2022-05-20T16:53:50.859369Z",
      "started": "2022-05-20T16:53:50.848493Z",
      "status": "ok",
      "stderr": "",
      "stdout": "",
      "submitted": "2022-05-20T16:53:50.843599Z"
     },
     "output_type": "display_data"
    },
    {
     "data": {
      "text/html": [
       "<div>\n",
       "<style scoped>\n",
       "    .dataframe tbody tr th:only-of-type {\n",
       "        vertical-align: middle;\n",
       "    }\n",
       "\n",
       "    .dataframe tbody tr th {\n",
       "        vertical-align: top;\n",
       "    }\n",
       "\n",
       "    .dataframe thead th {\n",
       "        text-align: right;\n",
       "    }\n",
       "</style>\n",
       "<table border=\"1\" class=\"dataframe\">\n",
       "  <thead>\n",
       "    <tr style=\"text-align: right;\">\n",
       "      <th></th>\n",
       "      <th>member_casual</th>\n",
       "      <th>count</th>\n",
       "    </tr>\n",
       "  </thead>\n",
       "  <tbody>\n",
       "  </tbody>\n",
       "</table>\n",
       "</div>"
      ],
      "text/plain": [
       "\u001b[0;31mOut[20:10]: \u001b[0m\n",
       "Empty DataFrame\n",
       "Columns: [member_casual, count]\n",
       "Index: []"
      ]
     },
     "metadata": {
      "after": [],
      "completed": "2022-05-20T16:53:50.852249Z",
      "data": {},
      "engine_id": 20,
      "engine_uuid": "8f8cc4f2-41ca5bcb538a78eff367e65e",
      "error": null,
      "execute_input": "df\n",
      "execute_result": {
       "data": {
        "text/html": "<div>\n<style scoped>\n    .dataframe tbody tr th:only-of-type {\n        vertical-align: middle;\n    }\n\n    .dataframe tbody tr th {\n        vertical-align: top;\n    }\n\n    .dataframe thead th {\n        text-align: right;\n    }\n</style>\n<table border=\"1\" class=\"dataframe\">\n  <thead>\n    <tr style=\"text-align: right;\">\n      <th></th>\n      <th>member_casual</th>\n      <th>count</th>\n    </tr>\n  </thead>\n  <tbody>\n  </tbody>\n</table>\n</div>",
        "text/plain": "Empty DataFrame\nColumns: [member_casual, count]\nIndex: []"
       },
       "execution_count": 10,
       "metadata": {}
      },
      "follow": [],
      "is_broadcast": true,
      "is_coalescing": false,
      "msg_id": "ced927b7-b1ce852dadd4804da15aedeb_17729_10_8f8cc4f2-41ca5bcb538a78eff367e65e",
      "outputs": [],
      "received": "2022-05-20T16:53:50.860955Z",
      "started": "2022-05-20T16:53:50.848555Z",
      "status": "ok",
      "stderr": "",
      "stdout": "",
      "submitted": "2022-05-20T16:53:50.843599Z"
     },
     "output_type": "display_data"
    },
    {
     "data": {
      "text/html": [
       "<div>\n",
       "<style scoped>\n",
       "    .dataframe tbody tr th:only-of-type {\n",
       "        vertical-align: middle;\n",
       "    }\n",
       "\n",
       "    .dataframe tbody tr th {\n",
       "        vertical-align: top;\n",
       "    }\n",
       "\n",
       "    .dataframe thead th {\n",
       "        text-align: right;\n",
       "    }\n",
       "</style>\n",
       "<table border=\"1\" class=\"dataframe\">\n",
       "  <thead>\n",
       "    <tr style=\"text-align: right;\">\n",
       "      <th></th>\n",
       "      <th>member_casual</th>\n",
       "      <th>count</th>\n",
       "    </tr>\n",
       "  </thead>\n",
       "  <tbody>\n",
       "  </tbody>\n",
       "</table>\n",
       "</div>"
      ],
      "text/plain": [
       "\u001b[0;31mOut[4:10]: \u001b[0m\n",
       "Empty DataFrame\n",
       "Columns: [member_casual, count]\n",
       "Index: []"
      ]
     },
     "metadata": {
      "after": [],
      "completed": "2022-05-20T16:53:50.852254Z",
      "data": {},
      "engine_id": 4,
      "engine_uuid": "a34fcc5b-29694e0b9e42845efc5fd1df",
      "error": null,
      "execute_input": "df\n",
      "execute_result": {
       "data": {
        "text/html": "<div>\n<style scoped>\n    .dataframe tbody tr th:only-of-type {\n        vertical-align: middle;\n    }\n\n    .dataframe tbody tr th {\n        vertical-align: top;\n    }\n\n    .dataframe thead th {\n        text-align: right;\n    }\n</style>\n<table border=\"1\" class=\"dataframe\">\n  <thead>\n    <tr style=\"text-align: right;\">\n      <th></th>\n      <th>member_casual</th>\n      <th>count</th>\n    </tr>\n  </thead>\n  <tbody>\n  </tbody>\n</table>\n</div>",
        "text/plain": "Empty DataFrame\nColumns: [member_casual, count]\nIndex: []"
       },
       "execution_count": 10,
       "metadata": {}
      },
      "follow": [],
      "is_broadcast": true,
      "is_coalescing": false,
      "msg_id": "ced927b7-b1ce852dadd4804da15aedeb_17729_10_a34fcc5b-29694e0b9e42845efc5fd1df",
      "outputs": [],
      "received": "2022-05-20T16:53:50.862373Z",
      "started": "2022-05-20T16:53:50.848383Z",
      "status": "ok",
      "stderr": "",
      "stdout": "",
      "submitted": "2022-05-20T16:53:50.843599Z"
     },
     "output_type": "display_data"
    },
    {
     "data": {
      "text/html": [
       "<div>\n",
       "<style scoped>\n",
       "    .dataframe tbody tr th:only-of-type {\n",
       "        vertical-align: middle;\n",
       "    }\n",
       "\n",
       "    .dataframe tbody tr th {\n",
       "        vertical-align: top;\n",
       "    }\n",
       "\n",
       "    .dataframe thead th {\n",
       "        text-align: right;\n",
       "    }\n",
       "</style>\n",
       "<table border=\"1\" class=\"dataframe\">\n",
       "  <thead>\n",
       "    <tr style=\"text-align: right;\">\n",
       "      <th></th>\n",
       "      <th>member_casual</th>\n",
       "      <th>count</th>\n",
       "    </tr>\n",
       "  </thead>\n",
       "  <tbody>\n",
       "  </tbody>\n",
       "</table>\n",
       "</div>"
      ],
      "text/plain": [
       "\u001b[0;31mOut[23:10]: \u001b[0m\n",
       "Empty DataFrame\n",
       "Columns: [member_casual, count]\n",
       "Index: []"
      ]
     },
     "metadata": {
      "after": [],
      "completed": "2022-05-20T16:53:50.852614Z",
      "data": {},
      "engine_id": 23,
      "engine_uuid": "5a0d31fd-8e923db690cfed9cbb1ab100",
      "error": null,
      "execute_input": "df\n",
      "execute_result": {
       "data": {
        "text/html": "<div>\n<style scoped>\n    .dataframe tbody tr th:only-of-type {\n        vertical-align: middle;\n    }\n\n    .dataframe tbody tr th {\n        vertical-align: top;\n    }\n\n    .dataframe thead th {\n        text-align: right;\n    }\n</style>\n<table border=\"1\" class=\"dataframe\">\n  <thead>\n    <tr style=\"text-align: right;\">\n      <th></th>\n      <th>member_casual</th>\n      <th>count</th>\n    </tr>\n  </thead>\n  <tbody>\n  </tbody>\n</table>\n</div>",
        "text/plain": "Empty DataFrame\nColumns: [member_casual, count]\nIndex: []"
       },
       "execution_count": 10,
       "metadata": {}
      },
      "follow": [],
      "is_broadcast": true,
      "is_coalescing": false,
      "msg_id": "ced927b7-b1ce852dadd4804da15aedeb_17729_10_5a0d31fd-8e923db690cfed9cbb1ab100",
      "outputs": [],
      "received": "2022-05-20T16:53:50.859026Z",
      "started": "2022-05-20T16:53:50.848919Z",
      "status": "ok",
      "stderr": "",
      "stdout": "",
      "submitted": "2022-05-20T16:53:50.843599Z"
     },
     "output_type": "display_data"
    },
    {
     "data": {
      "text/html": [
       "<div>\n",
       "<style scoped>\n",
       "    .dataframe tbody tr th:only-of-type {\n",
       "        vertical-align: middle;\n",
       "    }\n",
       "\n",
       "    .dataframe tbody tr th {\n",
       "        vertical-align: top;\n",
       "    }\n",
       "\n",
       "    .dataframe thead th {\n",
       "        text-align: right;\n",
       "    }\n",
       "</style>\n",
       "<table border=\"1\" class=\"dataframe\">\n",
       "  <thead>\n",
       "    <tr style=\"text-align: right;\">\n",
       "      <th></th>\n",
       "      <th>member_casual</th>\n",
       "      <th>count</th>\n",
       "    </tr>\n",
       "  </thead>\n",
       "  <tbody>\n",
       "  </tbody>\n",
       "</table>\n",
       "</div>"
      ],
      "text/plain": [
       "\u001b[0;31mOut[15:10]: \u001b[0m\n",
       "Empty DataFrame\n",
       "Columns: [member_casual, count]\n",
       "Index: []"
      ]
     },
     "metadata": {
      "after": [],
      "completed": "2022-05-20T16:53:50.852611Z",
      "data": {},
      "engine_id": 15,
      "engine_uuid": "83d0db7f-b6beed2e87f84036f268d3d1",
      "error": null,
      "execute_input": "df\n",
      "execute_result": {
       "data": {
        "text/html": "<div>\n<style scoped>\n    .dataframe tbody tr th:only-of-type {\n        vertical-align: middle;\n    }\n\n    .dataframe tbody tr th {\n        vertical-align: top;\n    }\n\n    .dataframe thead th {\n        text-align: right;\n    }\n</style>\n<table border=\"1\" class=\"dataframe\">\n  <thead>\n    <tr style=\"text-align: right;\">\n      <th></th>\n      <th>member_casual</th>\n      <th>count</th>\n    </tr>\n  </thead>\n  <tbody>\n  </tbody>\n</table>\n</div>",
        "text/plain": "Empty DataFrame\nColumns: [member_casual, count]\nIndex: []"
       },
       "execution_count": 10,
       "metadata": {}
      },
      "follow": [],
      "is_broadcast": true,
      "is_coalescing": false,
      "msg_id": "ced927b7-b1ce852dadd4804da15aedeb_17729_10_83d0db7f-b6beed2e87f84036f268d3d1",
      "outputs": [],
      "received": "2022-05-20T16:53:50.856701Z",
      "started": "2022-05-20T16:53:50.848985Z",
      "status": "ok",
      "stderr": "",
      "stdout": "",
      "submitted": "2022-05-20T16:53:50.843599Z"
     },
     "output_type": "display_data"
    },
    {
     "data": {
      "text/html": [
       "<div>\n",
       "<style scoped>\n",
       "    .dataframe tbody tr th:only-of-type {\n",
       "        vertical-align: middle;\n",
       "    }\n",
       "\n",
       "    .dataframe tbody tr th {\n",
       "        vertical-align: top;\n",
       "    }\n",
       "\n",
       "    .dataframe thead th {\n",
       "        text-align: right;\n",
       "    }\n",
       "</style>\n",
       "<table border=\"1\" class=\"dataframe\">\n",
       "  <thead>\n",
       "    <tr style=\"text-align: right;\">\n",
       "      <th></th>\n",
       "      <th>member_casual</th>\n",
       "      <th>count</th>\n",
       "    </tr>\n",
       "  </thead>\n",
       "  <tbody>\n",
       "  </tbody>\n",
       "</table>\n",
       "</div>"
      ],
      "text/plain": [
       "\u001b[0;31mOut[22:10]: \u001b[0m\n",
       "Empty DataFrame\n",
       "Columns: [member_casual, count]\n",
       "Index: []"
      ]
     },
     "metadata": {
      "after": [],
      "completed": "2022-05-20T16:53:50.852682Z",
      "data": {},
      "engine_id": 22,
      "engine_uuid": "5109eeaa-d7e789ead3c151b8c28aef6c",
      "error": null,
      "execute_input": "df\n",
      "execute_result": {
       "data": {
        "text/html": "<div>\n<style scoped>\n    .dataframe tbody tr th:only-of-type {\n        vertical-align: middle;\n    }\n\n    .dataframe tbody tr th {\n        vertical-align: top;\n    }\n\n    .dataframe thead th {\n        text-align: right;\n    }\n</style>\n<table border=\"1\" class=\"dataframe\">\n  <thead>\n    <tr style=\"text-align: right;\">\n      <th></th>\n      <th>member_casual</th>\n      <th>count</th>\n    </tr>\n  </thead>\n  <tbody>\n  </tbody>\n</table>\n</div>",
        "text/plain": "Empty DataFrame\nColumns: [member_casual, count]\nIndex: []"
       },
       "execution_count": 10,
       "metadata": {}
      },
      "follow": [],
      "is_broadcast": true,
      "is_coalescing": false,
      "msg_id": "ced927b7-b1ce852dadd4804da15aedeb_17729_10_5109eeaa-d7e789ead3c151b8c28aef6c",
      "outputs": [],
      "received": "2022-05-20T16:53:50.863726Z",
      "started": "2022-05-20T16:53:50.848503Z",
      "status": "ok",
      "stderr": "",
      "stdout": "",
      "submitted": "2022-05-20T16:53:50.843599Z"
     },
     "output_type": "display_data"
    },
    {
     "data": {
      "text/html": [
       "<div>\n",
       "<style scoped>\n",
       "    .dataframe tbody tr th:only-of-type {\n",
       "        vertical-align: middle;\n",
       "    }\n",
       "\n",
       "    .dataframe tbody tr th {\n",
       "        vertical-align: top;\n",
       "    }\n",
       "\n",
       "    .dataframe thead th {\n",
       "        text-align: right;\n",
       "    }\n",
       "</style>\n",
       "<table border=\"1\" class=\"dataframe\">\n",
       "  <thead>\n",
       "    <tr style=\"text-align: right;\">\n",
       "      <th></th>\n",
       "      <th>member_casual</th>\n",
       "      <th>count</th>\n",
       "    </tr>\n",
       "  </thead>\n",
       "  <tbody>\n",
       "  </tbody>\n",
       "</table>\n",
       "</div>"
      ],
      "text/plain": [
       "\u001b[0;31mOut[19:10]: \u001b[0m\n",
       "Empty DataFrame\n",
       "Columns: [member_casual, count]\n",
       "Index: []"
      ]
     },
     "metadata": {
      "after": [],
      "completed": "2022-05-20T16:53:50.852707Z",
      "data": {},
      "engine_id": 19,
      "engine_uuid": "f6f31af9-1395a9c5e3ef2cdc2adde183",
      "error": null,
      "execute_input": "df\n",
      "execute_result": {
       "data": {
        "text/html": "<div>\n<style scoped>\n    .dataframe tbody tr th:only-of-type {\n        vertical-align: middle;\n    }\n\n    .dataframe tbody tr th {\n        vertical-align: top;\n    }\n\n    .dataframe thead th {\n        text-align: right;\n    }\n</style>\n<table border=\"1\" class=\"dataframe\">\n  <thead>\n    <tr style=\"text-align: right;\">\n      <th></th>\n      <th>member_casual</th>\n      <th>count</th>\n    </tr>\n  </thead>\n  <tbody>\n  </tbody>\n</table>\n</div>",
        "text/plain": "Empty DataFrame\nColumns: [member_casual, count]\nIndex: []"
       },
       "execution_count": 10,
       "metadata": {}
      },
      "follow": [],
      "is_broadcast": true,
      "is_coalescing": false,
      "msg_id": "ced927b7-b1ce852dadd4804da15aedeb_17729_10_f6f31af9-1395a9c5e3ef2cdc2adde183",
      "outputs": [],
      "received": "2022-05-20T16:53:50.861368Z",
      "started": "2022-05-20T16:53:50.848979Z",
      "status": "ok",
      "stderr": "",
      "stdout": "",
      "submitted": "2022-05-20T16:53:50.843599Z"
     },
     "output_type": "display_data"
    },
    {
     "data": {
      "text/html": [
       "<div>\n",
       "<style scoped>\n",
       "    .dataframe tbody tr th:only-of-type {\n",
       "        vertical-align: middle;\n",
       "    }\n",
       "\n",
       "    .dataframe tbody tr th {\n",
       "        vertical-align: top;\n",
       "    }\n",
       "\n",
       "    .dataframe thead th {\n",
       "        text-align: right;\n",
       "    }\n",
       "</style>\n",
       "<table border=\"1\" class=\"dataframe\">\n",
       "  <thead>\n",
       "    <tr style=\"text-align: right;\">\n",
       "      <th></th>\n",
       "      <th>member_casual</th>\n",
       "      <th>count</th>\n",
       "    </tr>\n",
       "  </thead>\n",
       "  <tbody>\n",
       "  </tbody>\n",
       "</table>\n",
       "</div>"
      ],
      "text/plain": [
       "\u001b[0;31mOut[21:10]: \u001b[0m\n",
       "Empty DataFrame\n",
       "Columns: [member_casual, count]\n",
       "Index: []"
      ]
     },
     "metadata": {
      "after": [],
      "completed": "2022-05-20T16:53:50.852641Z",
      "data": {},
      "engine_id": 21,
      "engine_uuid": "3bcd1bc3-c5fbaea34a16a300292c6bd5",
      "error": null,
      "execute_input": "df\n",
      "execute_result": {
       "data": {
        "text/html": "<div>\n<style scoped>\n    .dataframe tbody tr th:only-of-type {\n        vertical-align: middle;\n    }\n\n    .dataframe tbody tr th {\n        vertical-align: top;\n    }\n\n    .dataframe thead th {\n        text-align: right;\n    }\n</style>\n<table border=\"1\" class=\"dataframe\">\n  <thead>\n    <tr style=\"text-align: right;\">\n      <th></th>\n      <th>member_casual</th>\n      <th>count</th>\n    </tr>\n  </thead>\n  <tbody>\n  </tbody>\n</table>\n</div>",
        "text/plain": "Empty DataFrame\nColumns: [member_casual, count]\nIndex: []"
       },
       "execution_count": 10,
       "metadata": {}
      },
      "follow": [],
      "is_broadcast": true,
      "is_coalescing": false,
      "msg_id": "ced927b7-b1ce852dadd4804da15aedeb_17729_10_3bcd1bc3-c5fbaea34a16a300292c6bd5",
      "outputs": [],
      "received": "2022-05-20T16:53:50.858247Z",
      "started": "2022-05-20T16:53:50.849048Z",
      "status": "ok",
      "stderr": "",
      "stdout": "",
      "submitted": "2022-05-20T16:53:50.843599Z"
     },
     "output_type": "display_data"
    },
    {
     "data": {
      "text/html": [
       "<div>\n",
       "<style scoped>\n",
       "    .dataframe tbody tr th:only-of-type {\n",
       "        vertical-align: middle;\n",
       "    }\n",
       "\n",
       "    .dataframe tbody tr th {\n",
       "        vertical-align: top;\n",
       "    }\n",
       "\n",
       "    .dataframe thead th {\n",
       "        text-align: right;\n",
       "    }\n",
       "</style>\n",
       "<table border=\"1\" class=\"dataframe\">\n",
       "  <thead>\n",
       "    <tr style=\"text-align: right;\">\n",
       "      <th></th>\n",
       "      <th>member_casual</th>\n",
       "      <th>count</th>\n",
       "    </tr>\n",
       "  </thead>\n",
       "  <tbody>\n",
       "  </tbody>\n",
       "</table>\n",
       "</div>"
      ],
      "text/plain": [
       "\u001b[0;31mOut[10:10]: \u001b[0m\n",
       "Empty DataFrame\n",
       "Columns: [member_casual, count]\n",
       "Index: []"
      ]
     },
     "metadata": {
      "after": [],
      "completed": "2022-05-20T16:53:50.852787Z",
      "data": {},
      "engine_id": 10,
      "engine_uuid": "068e2d02-2a8c8d56f39267f86cea26b6",
      "error": null,
      "execute_input": "df\n",
      "execute_result": {
       "data": {
        "text/html": "<div>\n<style scoped>\n    .dataframe tbody tr th:only-of-type {\n        vertical-align: middle;\n    }\n\n    .dataframe tbody tr th {\n        vertical-align: top;\n    }\n\n    .dataframe thead th {\n        text-align: right;\n    }\n</style>\n<table border=\"1\" class=\"dataframe\">\n  <thead>\n    <tr style=\"text-align: right;\">\n      <th></th>\n      <th>member_casual</th>\n      <th>count</th>\n    </tr>\n  </thead>\n  <tbody>\n  </tbody>\n</table>\n</div>",
        "text/plain": "Empty DataFrame\nColumns: [member_casual, count]\nIndex: []"
       },
       "execution_count": 10,
       "metadata": {}
      },
      "follow": [],
      "is_broadcast": true,
      "is_coalescing": false,
      "msg_id": "ced927b7-b1ce852dadd4804da15aedeb_17729_10_068e2d02-2a8c8d56f39267f86cea26b6",
      "outputs": [],
      "received": "2022-05-20T16:53:50.863062Z",
      "started": "2022-05-20T16:53:50.848674Z",
      "status": "ok",
      "stderr": "",
      "stdout": "",
      "submitted": "2022-05-20T16:53:50.843599Z"
     },
     "output_type": "display_data"
    },
    {
     "data": {
      "text/html": [
       "<div>\n",
       "<style scoped>\n",
       "    .dataframe tbody tr th:only-of-type {\n",
       "        vertical-align: middle;\n",
       "    }\n",
       "\n",
       "    .dataframe tbody tr th {\n",
       "        vertical-align: top;\n",
       "    }\n",
       "\n",
       "    .dataframe thead th {\n",
       "        text-align: right;\n",
       "    }\n",
       "</style>\n",
       "<table border=\"1\" class=\"dataframe\">\n",
       "  <thead>\n",
       "    <tr style=\"text-align: right;\">\n",
       "      <th></th>\n",
       "      <th>member_casual</th>\n",
       "      <th>count</th>\n",
       "    </tr>\n",
       "  </thead>\n",
       "  <tbody>\n",
       "  </tbody>\n",
       "</table>\n",
       "</div>"
      ],
      "text/plain": [
       "\u001b[0;31mOut[11:10]: \u001b[0m\n",
       "Empty DataFrame\n",
       "Columns: [member_casual, count]\n",
       "Index: []"
      ]
     },
     "metadata": {
      "after": [],
      "completed": "2022-05-20T16:53:50.852757Z",
      "data": {},
      "engine_id": 11,
      "engine_uuid": "d7f291a4-081928de86d858350fd1ce91",
      "error": null,
      "execute_input": "df\n",
      "execute_result": {
       "data": {
        "text/html": "<div>\n<style scoped>\n    .dataframe tbody tr th:only-of-type {\n        vertical-align: middle;\n    }\n\n    .dataframe tbody tr th {\n        vertical-align: top;\n    }\n\n    .dataframe thead th {\n        text-align: right;\n    }\n</style>\n<table border=\"1\" class=\"dataframe\">\n  <thead>\n    <tr style=\"text-align: right;\">\n      <th></th>\n      <th>member_casual</th>\n      <th>count</th>\n    </tr>\n  </thead>\n  <tbody>\n  </tbody>\n</table>\n</div>",
        "text/plain": "Empty DataFrame\nColumns: [member_casual, count]\nIndex: []"
       },
       "execution_count": 10,
       "metadata": {}
      },
      "follow": [],
      "is_broadcast": true,
      "is_coalescing": false,
      "msg_id": "ced927b7-b1ce852dadd4804da15aedeb_17729_10_d7f291a4-081928de86d858350fd1ce91",
      "outputs": [],
      "received": "2022-05-20T16:53:50.860501Z",
      "started": "2022-05-20T16:53:50.848963Z",
      "status": "ok",
      "stderr": "",
      "stdout": "",
      "submitted": "2022-05-20T16:53:50.843599Z"
     },
     "output_type": "display_data"
    },
    {
     "data": {
      "text/html": [
       "<div>\n",
       "<style scoped>\n",
       "    .dataframe tbody tr th:only-of-type {\n",
       "        vertical-align: middle;\n",
       "    }\n",
       "\n",
       "    .dataframe tbody tr th {\n",
       "        vertical-align: top;\n",
       "    }\n",
       "\n",
       "    .dataframe thead th {\n",
       "        text-align: right;\n",
       "    }\n",
       "</style>\n",
       "<table border=\"1\" class=\"dataframe\">\n",
       "  <thead>\n",
       "    <tr style=\"text-align: right;\">\n",
       "      <th></th>\n",
       "      <th>member_casual</th>\n",
       "      <th>count</th>\n",
       "    </tr>\n",
       "  </thead>\n",
       "  <tbody>\n",
       "  </tbody>\n",
       "</table>\n",
       "</div>"
      ],
      "text/plain": [
       "\u001b[0;31mOut[17:10]: \u001b[0m\n",
       "Empty DataFrame\n",
       "Columns: [member_casual, count]\n",
       "Index: []"
      ]
     },
     "metadata": {
      "after": [],
      "completed": "2022-05-20T16:53:50.852791Z",
      "data": {},
      "engine_id": 17,
      "engine_uuid": "2ca28b18-df153dd8a4033e423beab7d4",
      "error": null,
      "execute_input": "df\n",
      "execute_result": {
       "data": {
        "text/html": "<div>\n<style scoped>\n    .dataframe tbody tr th:only-of-type {\n        vertical-align: middle;\n    }\n\n    .dataframe tbody tr th {\n        vertical-align: top;\n    }\n\n    .dataframe thead th {\n        text-align: right;\n    }\n</style>\n<table border=\"1\" class=\"dataframe\">\n  <thead>\n    <tr style=\"text-align: right;\">\n      <th></th>\n      <th>member_casual</th>\n      <th>count</th>\n    </tr>\n  </thead>\n  <tbody>\n  </tbody>\n</table>\n</div>",
        "text/plain": "Empty DataFrame\nColumns: [member_casual, count]\nIndex: []"
       },
       "execution_count": 10,
       "metadata": {}
      },
      "follow": [],
      "is_broadcast": true,
      "is_coalescing": false,
      "msg_id": "ced927b7-b1ce852dadd4804da15aedeb_17729_10_2ca28b18-df153dd8a4033e423beab7d4",
      "outputs": [],
      "received": "2022-05-20T16:53:50.862719Z",
      "started": "2022-05-20T16:53:50.849055Z",
      "status": "ok",
      "stderr": "",
      "stdout": "",
      "submitted": "2022-05-20T16:53:50.843599Z"
     },
     "output_type": "display_data"
    },
    {
     "data": {
      "text/html": [
       "<div>\n",
       "<style scoped>\n",
       "    .dataframe tbody tr th:only-of-type {\n",
       "        vertical-align: middle;\n",
       "    }\n",
       "\n",
       "    .dataframe tbody tr th {\n",
       "        vertical-align: top;\n",
       "    }\n",
       "\n",
       "    .dataframe thead th {\n",
       "        text-align: right;\n",
       "    }\n",
       "</style>\n",
       "<table border=\"1\" class=\"dataframe\">\n",
       "  <thead>\n",
       "    <tr style=\"text-align: right;\">\n",
       "      <th></th>\n",
       "      <th>member_casual</th>\n",
       "      <th>count</th>\n",
       "    </tr>\n",
       "  </thead>\n",
       "  <tbody>\n",
       "  </tbody>\n",
       "</table>\n",
       "</div>"
      ],
      "text/plain": [
       "\u001b[0;31mOut[5:10]: \u001b[0m\n",
       "Empty DataFrame\n",
       "Columns: [member_casual, count]\n",
       "Index: []"
      ]
     },
     "metadata": {
      "after": [],
      "completed": "2022-05-20T16:53:50.852762Z",
      "data": {},
      "engine_id": 5,
      "engine_uuid": "5440a899-0bd0f59c1b5eb45872dce9d3",
      "error": null,
      "execute_input": "df\n",
      "execute_result": {
       "data": {
        "text/html": "<div>\n<style scoped>\n    .dataframe tbody tr th:only-of-type {\n        vertical-align: middle;\n    }\n\n    .dataframe tbody tr th {\n        vertical-align: top;\n    }\n\n    .dataframe thead th {\n        text-align: right;\n    }\n</style>\n<table border=\"1\" class=\"dataframe\">\n  <thead>\n    <tr style=\"text-align: right;\">\n      <th></th>\n      <th>member_casual</th>\n      <th>count</th>\n    </tr>\n  </thead>\n  <tbody>\n  </tbody>\n</table>\n</div>",
        "text/plain": "Empty DataFrame\nColumns: [member_casual, count]\nIndex: []"
       },
       "execution_count": 10,
       "metadata": {}
      },
      "follow": [],
      "is_broadcast": true,
      "is_coalescing": false,
      "msg_id": "ced927b7-b1ce852dadd4804da15aedeb_17729_10_5440a899-0bd0f59c1b5eb45872dce9d3",
      "outputs": [],
      "received": "2022-05-20T16:53:50.862034Z",
      "started": "2022-05-20T16:53:50.849028Z",
      "status": "ok",
      "stderr": "",
      "stdout": "",
      "submitted": "2022-05-20T16:53:50.843599Z"
     },
     "output_type": "display_data"
    },
    {
     "data": {
      "text/html": [
       "<div>\n",
       "<style scoped>\n",
       "    .dataframe tbody tr th:only-of-type {\n",
       "        vertical-align: middle;\n",
       "    }\n",
       "\n",
       "    .dataframe tbody tr th {\n",
       "        vertical-align: top;\n",
       "    }\n",
       "\n",
       "    .dataframe thead th {\n",
       "        text-align: right;\n",
       "    }\n",
       "</style>\n",
       "<table border=\"1\" class=\"dataframe\">\n",
       "  <thead>\n",
       "    <tr style=\"text-align: right;\">\n",
       "      <th></th>\n",
       "      <th>member_casual</th>\n",
       "      <th>count</th>\n",
       "    </tr>\n",
       "  </thead>\n",
       "  <tbody>\n",
       "  </tbody>\n",
       "</table>\n",
       "</div>"
      ],
      "text/plain": [
       "\u001b[0;31mOut[9:10]: \u001b[0m\n",
       "Empty DataFrame\n",
       "Columns: [member_casual, count]\n",
       "Index: []"
      ]
     },
     "metadata": {
      "after": [],
      "completed": "2022-05-20T16:53:50.852811Z",
      "data": {},
      "engine_id": 9,
      "engine_uuid": "929a365b-3232656f48ea2b49a9eb60f6",
      "error": null,
      "execute_input": "df\n",
      "execute_result": {
       "data": {
        "text/html": "<div>\n<style scoped>\n    .dataframe tbody tr th:only-of-type {\n        vertical-align: middle;\n    }\n\n    .dataframe tbody tr th {\n        vertical-align: top;\n    }\n\n    .dataframe thead th {\n        text-align: right;\n    }\n</style>\n<table border=\"1\" class=\"dataframe\">\n  <thead>\n    <tr style=\"text-align: right;\">\n      <th></th>\n      <th>member_casual</th>\n      <th>count</th>\n    </tr>\n  </thead>\n  <tbody>\n  </tbody>\n</table>\n</div>",
        "text/plain": "Empty DataFrame\nColumns: [member_casual, count]\nIndex: []"
       },
       "execution_count": 10,
       "metadata": {}
      },
      "follow": [],
      "is_broadcast": true,
      "is_coalescing": false,
      "msg_id": "ced927b7-b1ce852dadd4804da15aedeb_17729_10_929a365b-3232656f48ea2b49a9eb60f6",
      "outputs": [],
      "received": "2022-05-20T16:53:50.863402Z",
      "started": "2022-05-20T16:53:50.849160Z",
      "status": "ok",
      "stderr": "",
      "stdout": "",
      "submitted": "2022-05-20T16:53:50.843599Z"
     },
     "output_type": "display_data"
    },
    {
     "data": {
      "text/html": [
       "<div>\n",
       "<style scoped>\n",
       "    .dataframe tbody tr th:only-of-type {\n",
       "        vertical-align: middle;\n",
       "    }\n",
       "\n",
       "    .dataframe tbody tr th {\n",
       "        vertical-align: top;\n",
       "    }\n",
       "\n",
       "    .dataframe thead th {\n",
       "        text-align: right;\n",
       "    }\n",
       "</style>\n",
       "<table border=\"1\" class=\"dataframe\">\n",
       "  <thead>\n",
       "    <tr style=\"text-align: right;\">\n",
       "      <th></th>\n",
       "      <th>member_casual</th>\n",
       "      <th>count</th>\n",
       "    </tr>\n",
       "  </thead>\n",
       "  <tbody>\n",
       "    <tr>\n",
       "      <th>0</th>\n",
       "      <td>casual</td>\n",
       "      <td>1376114</td>\n",
       "    </tr>\n",
       "  </tbody>\n",
       "</table>\n",
       "</div>"
      ],
      "text/plain": [
       "\u001b[0;31mOut[3:10]: \u001b[0m\n",
       "  member_casual    count\n",
       "0        casual  1376114"
      ]
     },
     "metadata": {
      "after": [],
      "completed": "2022-05-20T16:53:50.853138Z",
      "data": {},
      "engine_id": 3,
      "engine_uuid": "5cfdb2c1-92c6101d5806a3d68d835ffa",
      "error": null,
      "execute_input": "df\n",
      "execute_result": {
       "data": {
        "text/html": "<div>\n<style scoped>\n    .dataframe tbody tr th:only-of-type {\n        vertical-align: middle;\n    }\n\n    .dataframe tbody tr th {\n        vertical-align: top;\n    }\n\n    .dataframe thead th {\n        text-align: right;\n    }\n</style>\n<table border=\"1\" class=\"dataframe\">\n  <thead>\n    <tr style=\"text-align: right;\">\n      <th></th>\n      <th>member_casual</th>\n      <th>count</th>\n    </tr>\n  </thead>\n  <tbody>\n    <tr>\n      <th>0</th>\n      <td>casual</td>\n      <td>1376114</td>\n    </tr>\n  </tbody>\n</table>\n</div>",
        "text/plain": "  member_casual    count\n0        casual  1376114"
       },
       "execution_count": 10,
       "metadata": {}
      },
      "follow": [],
      "is_broadcast": true,
      "is_coalescing": false,
      "msg_id": "ced927b7-b1ce852dadd4804da15aedeb_17729_10_5cfdb2c1-92c6101d5806a3d68d835ffa",
      "outputs": [],
      "received": "2022-05-20T16:53:50.864046Z",
      "started": "2022-05-20T16:53:50.849043Z",
      "status": "ok",
      "stderr": "",
      "stdout": "",
      "submitted": "2022-05-20T16:53:50.843599Z"
     },
     "output_type": "display_data"
    },
    {
     "data": {
      "text/html": [
       "<div>\n",
       "<style scoped>\n",
       "    .dataframe tbody tr th:only-of-type {\n",
       "        vertical-align: middle;\n",
       "    }\n",
       "\n",
       "    .dataframe tbody tr th {\n",
       "        vertical-align: top;\n",
       "    }\n",
       "\n",
       "    .dataframe thead th {\n",
       "        text-align: right;\n",
       "    }\n",
       "</style>\n",
       "<table border=\"1\" class=\"dataframe\">\n",
       "  <thead>\n",
       "    <tr style=\"text-align: right;\">\n",
       "      <th></th>\n",
       "      <th>member_casual</th>\n",
       "      <th>count</th>\n",
       "    </tr>\n",
       "  </thead>\n",
       "  <tbody>\n",
       "    <tr>\n",
       "      <th>1</th>\n",
       "      <td>member</td>\n",
       "      <td>1866825</td>\n",
       "    </tr>\n",
       "  </tbody>\n",
       "</table>\n",
       "</div>"
      ],
      "text/plain": [
       "\u001b[0;31mOut[13:10]: \u001b[0m\n",
       "  member_casual    count\n",
       "1        member  1866825"
      ]
     },
     "metadata": {
      "after": [],
      "completed": "2022-05-20T16:53:50.853287Z",
      "data": {},
      "engine_id": 13,
      "engine_uuid": "0abcc8c5-73bf663223033c35e692f10a",
      "error": null,
      "execute_input": "df\n",
      "execute_result": {
       "data": {
        "text/html": "<div>\n<style scoped>\n    .dataframe tbody tr th:only-of-type {\n        vertical-align: middle;\n    }\n\n    .dataframe tbody tr th {\n        vertical-align: top;\n    }\n\n    .dataframe thead th {\n        text-align: right;\n    }\n</style>\n<table border=\"1\" class=\"dataframe\">\n  <thead>\n    <tr style=\"text-align: right;\">\n      <th></th>\n      <th>member_casual</th>\n      <th>count</th>\n    </tr>\n  </thead>\n  <tbody>\n    <tr>\n      <th>1</th>\n      <td>member</td>\n      <td>1866825</td>\n    </tr>\n  </tbody>\n</table>\n</div>",
        "text/plain": "  member_casual    count\n1        member  1866825"
       },
       "execution_count": 10,
       "metadata": {}
      },
      "follow": [],
      "is_broadcast": true,
      "is_coalescing": false,
      "msg_id": "ced927b7-b1ce852dadd4804da15aedeb_17729_10_0abcc8c5-73bf663223033c35e692f10a",
      "outputs": [],
      "received": "2022-05-20T16:53:50.864365Z",
      "started": "2022-05-20T16:53:50.849064Z",
      "status": "ok",
      "stderr": "",
      "stdout": "",
      "submitted": "2022-05-20T16:53:50.843599Z"
     },
     "output_type": "display_data"
    },
    {
     "data": {
      "text/html": [
       "<div>\n",
       "<style scoped>\n",
       "    .dataframe tbody tr th:only-of-type {\n",
       "        vertical-align: middle;\n",
       "    }\n",
       "\n",
       "    .dataframe tbody tr th {\n",
       "        vertical-align: top;\n",
       "    }\n",
       "\n",
       "    .dataframe thead th {\n",
       "        text-align: right;\n",
       "    }\n",
       "</style>\n",
       "<table border=\"1\" class=\"dataframe\">\n",
       "  <thead>\n",
       "    <tr style=\"text-align: right;\">\n",
       "      <th></th>\n",
       "      <th>member_casual</th>\n",
       "      <th>count</th>\n",
       "    </tr>\n",
       "  </thead>\n",
       "  <tbody>\n",
       "  </tbody>\n",
       "</table>\n",
       "</div>"
      ],
      "text/plain": [
       "\u001b[0;31mOut[7:10]: \u001b[0m\n",
       "Empty DataFrame\n",
       "Columns: [member_casual, count]\n",
       "Index: []"
      ]
     },
     "metadata": {
      "after": [],
      "completed": "2022-05-20T16:53:50.856218Z",
      "data": {},
      "engine_id": 7,
      "engine_uuid": "2a710af8-2b4298d867e16687ab143482",
      "error": null,
      "execute_input": "df\n",
      "execute_result": {
       "data": {
        "text/html": "<div>\n<style scoped>\n    .dataframe tbody tr th:only-of-type {\n        vertical-align: middle;\n    }\n\n    .dataframe tbody tr th {\n        vertical-align: top;\n    }\n\n    .dataframe thead th {\n        text-align: right;\n    }\n</style>\n<table border=\"1\" class=\"dataframe\">\n  <thead>\n    <tr style=\"text-align: right;\">\n      <th></th>\n      <th>member_casual</th>\n      <th>count</th>\n    </tr>\n  </thead>\n  <tbody>\n  </tbody>\n</table>\n</div>",
        "text/plain": "Empty DataFrame\nColumns: [member_casual, count]\nIndex: []"
       },
       "execution_count": 10,
       "metadata": {}
      },
      "follow": [],
      "is_broadcast": true,
      "is_coalescing": false,
      "msg_id": "ced927b7-b1ce852dadd4804da15aedeb_17729_10_2a710af8-2b4298d867e16687ab143482",
      "outputs": [],
      "received": "2022-05-20T16:53:50.865333Z",
      "started": "2022-05-20T16:53:50.848910Z",
      "status": "ok",
      "stderr": "",
      "stdout": "",
      "submitted": "2022-05-20T16:53:50.843599Z"
     },
     "output_type": "display_data"
    },
    {
     "data": {
      "text/html": [
       "<div>\n",
       "<style scoped>\n",
       "    .dataframe tbody tr th:only-of-type {\n",
       "        vertical-align: middle;\n",
       "    }\n",
       "\n",
       "    .dataframe tbody tr th {\n",
       "        vertical-align: top;\n",
       "    }\n",
       "\n",
       "    .dataframe thead th {\n",
       "        text-align: right;\n",
       "    }\n",
       "</style>\n",
       "<table border=\"1\" class=\"dataframe\">\n",
       "  <thead>\n",
       "    <tr style=\"text-align: right;\">\n",
       "      <th></th>\n",
       "      <th>member_casual</th>\n",
       "      <th>count</th>\n",
       "    </tr>\n",
       "  </thead>\n",
       "  <tbody>\n",
       "  </tbody>\n",
       "</table>\n",
       "</div>"
      ],
      "text/plain": [
       "\u001b[0;31mOut[1:10]: \u001b[0m\n",
       "Empty DataFrame\n",
       "Columns: [member_casual, count]\n",
       "Index: []"
      ]
     },
     "metadata": {
      "after": [],
      "completed": "2022-05-20T16:53:50.858893Z",
      "data": {},
      "engine_id": 1,
      "engine_uuid": "79b87d22-78ea0a45621fc788120add62",
      "error": null,
      "execute_input": "df\n",
      "execute_result": {
       "data": {
        "text/html": "<div>\n<style scoped>\n    .dataframe tbody tr th:only-of-type {\n        vertical-align: middle;\n    }\n\n    .dataframe tbody tr th {\n        vertical-align: top;\n    }\n\n    .dataframe thead th {\n        text-align: right;\n    }\n</style>\n<table border=\"1\" class=\"dataframe\">\n  <thead>\n    <tr style=\"text-align: right;\">\n      <th></th>\n      <th>member_casual</th>\n      <th>count</th>\n    </tr>\n  </thead>\n  <tbody>\n  </tbody>\n</table>\n</div>",
        "text/plain": "Empty DataFrame\nColumns: [member_casual, count]\nIndex: []"
       },
       "execution_count": 10,
       "metadata": {}
      },
      "follow": [],
      "is_broadcast": true,
      "is_coalescing": false,
      "msg_id": "ced927b7-b1ce852dadd4804da15aedeb_17729_10_79b87d22-78ea0a45621fc788120add62",
      "outputs": [],
      "received": "2022-05-20T16:53:50.865769Z",
      "started": "2022-05-20T16:53:50.848260Z",
      "status": "ok",
      "stderr": "",
      "stdout": "",
      "submitted": "2022-05-20T16:53:50.843599Z"
     },
     "output_type": "display_data"
    }
   ],
   "source": [
    "%%px\n",
    "df"
   ]
  },
  {
   "cell_type": "code",
   "execution_count": null,
   "id": "ba3d32fa",
   "metadata": {},
   "outputs": [],
   "source": []
  }
 ],
 "metadata": {
  "kernelspec": {
   "display_name": "SSH 10.30.3.28 Remote-Kernel",
   "language": "",
   "name": "rik_ssh_10_30_3_28_remotekernel"
  },
  "language_info": {
   "codemirror_mode": {
    "name": "ipython",
    "version": 3
   },
   "file_extension": ".py",
   "mimetype": "text/x-python",
   "name": "python",
   "nbconvert_exporter": "python",
   "pygments_lexer": "ipython3",
   "version": "3.9.12"
  }
 },
 "nbformat": 4,
 "nbformat_minor": 5
}
