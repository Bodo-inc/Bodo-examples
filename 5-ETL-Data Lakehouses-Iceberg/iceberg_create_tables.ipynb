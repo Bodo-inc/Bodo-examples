{
 "cells": [
  {
   "cell_type": "markdown",
   "id": "06e81fc0-a885-436c-a492-3166d8ca6845",
   "metadata": {
    "execution": {
     "iopub.execute_input": "2022-07-11T19:17:07.482655Z",
     "iopub.status.busy": "2022-07-11T19:17:07.482378Z",
     "iopub.status.idle": "2022-07-11T19:17:07.540125Z",
     "shell.execute_reply": "2022-07-11T19:17:07.539495Z",
     "shell.execute_reply.started": "2022-07-11T19:17:07.482628Z"
    },
    "tags": []
   },
   "source": [
    "For EMR cluster creation with Nessie configuration, Please refer to [Readme.md](README.md)"
   ]
  },
  {
   "cell_type": "code",
   "execution_count": 9,
   "id": "291b3dae-317c-42e3-96ba-c3a6567b184e",
   "metadata": {
    "execution": {
     "iopub.execute_input": "2022-07-11T19:33:14.335705Z",
     "iopub.status.busy": "2022-07-11T19:33:14.335551Z",
     "iopub.status.idle": "2022-07-11T19:33:14.380365Z",
     "shell.execute_reply": "2022-07-11T19:33:14.379943Z",
     "shell.execute_reply.started": "2022-07-11T19:33:14.335683Z"
    },
    "tags": []
   },
   "outputs": [
    {
     "data": {
      "application/vnd.jupyter.widget-view+json": {
       "model_id": "b4e8f51580164838b77b5c5d6717e63d",
       "version_major": 2,
       "version_minor": 0
      },
      "text/plain": [
       "VBox()"
      ]
     },
     "metadata": {},
     "output_type": "display_data"
    },
    {
     "data": {
      "application/vnd.jupyter.widget-view+json": {
       "model_id": "",
       "version_major": 2,
       "version_minor": 0
      },
      "text/plain": [
       "FloatProgress(value=0.0, bar_style='info', description='Progress:', layout=Layout(height='25px', width='50%'),…"
      ]
     },
     "metadata": {},
     "output_type": "display_data"
    },
    {
     "name": "stdout",
     "output_type": "stream",
     "text": [
      "'3.2.0-amzn-0'"
     ]
    }
   ],
   "source": [
    "sc.version"
   ]
  },
  {
   "cell_type": "code",
   "execution_count": null,
   "id": "f98d4208-bad7-4ced-94e2-fe2dcb667b8a",
   "metadata": {
    "execution": {
     "iopub.execute_input": "2022-07-11T19:15:48.613201Z",
     "iopub.status.busy": "2022-07-11T19:15:48.612978Z",
     "iopub.status.idle": "2022-07-11T19:15:48.666879Z",
     "shell.execute_reply": "2022-07-11T19:15:48.666107Z",
     "shell.execute_reply.started": "2022-07-11T19:15:48.613179Z"
    },
    "tags": []
   },
   "outputs": [],
   "source": [
    "def create_table(table_name,file_path):\n",
    "    df = load_table(spark, file_path)\n",
    "\n",
    "    # Write a simple dataset\n",
    "    print(\"Writing a simple dataset...\")\n",
    "\n",
    "    ## To write:\n",
    "    df.writeTo(f\"nessie.{table_name}\").tableProperty(\n",
    "        \"format-version\", \"2\"\n",
    "    ).tableProperty(\"write.delete.mode\", \"merge-on-read\").create()\n",
    "\n",
    "\n",
    "def load_table(spark, s3_path):\n",
    "    df = spark.read.parquet(s3_path)\n",
    "    return df\n"
   ]
  },
  {
   "cell_type": "code",
   "execution_count": null,
   "id": "a5d7283a",
   "metadata": {
    "execution": {
     "iopub.execute_input": "2022-07-11T19:15:50.531945Z",
     "iopub.status.busy": "2022-07-11T19:15:50.531685Z",
     "iopub.status.idle": "2022-07-11T19:16:44.115231Z",
     "shell.execute_reply": "2022-07-11T19:16:44.114655Z",
     "shell.execute_reply.started": "2022-07-11T19:15:50.531922Z"
    },
    "tags": []
   },
   "outputs": [],
   "source": [
    "create_table(\"SF1_LINEITEM_PQ_A\",\"s3://tpch-data-parquet/SF1/lineitem.pq/*\")"
   ]
  }
 ],
 "metadata": {
  "kernelspec": {
   "display_name": "PySpark",
   "language": "python",
   "name": "pysparkkernel"
  },
  "language_info": {
   "codemirror_mode": {
    "name": "python",
    "version": 3
   },
   "file_extension": ".py",
   "mimetype": "text/x-python",
   "name": "pyspark",
   "pygments_lexer": "python3"
  }
 },
 "nbformat": 4,
 "nbformat_minor": 5
}
