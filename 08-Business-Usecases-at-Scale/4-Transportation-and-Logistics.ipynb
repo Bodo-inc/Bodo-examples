{
 "cells": [
  {
   "cell_type": "markdown",
   "metadata": {},
   "source": [
    "# New York City Taxi Analysis\n",
    "In this example we show some analysis for yellow and green taxi trips originating in New York City in 2019. \n",
    "\n",
    "Orignal example can be found [here](https://github.com/toddwschneider/nyc-taxi-data)\n",
    "\n",
    "The queries are originally in SQL format and here they are implemented using the pandas API. Dataset size is ~8GB."
   ]
  },
  {
   "cell_type": "markdown",
   "id": "ea1f302f-c922-4942-874e-b0a6787022f2",
   "metadata": {},
   "source": [
    "### Start an IPyParallel cluster \n",
    "Run the following code in a cell to start an IPyParallel cluster. 8 cores are used in this example. "
   ]
  },
  {
   "cell_type": "code",
   "execution_count": 1,
   "id": "0050c46a-4484-40f4-9aed-5ebccfb5abab",
   "metadata": {},
   "outputs": [
    {
     "name": "stdout",
     "output_type": "stream",
     "text": [
      "Starting 8 engines with <class 'ipyparallel.cluster.launcher.MPIEngineSetLauncher'>\n",
      "100%|██████████| 8/8 [00:06<00:00,  1.15engine/s]\n"
     ]
    }
   ],
   "source": [
    "import os\n",
    "if os.environ.get(\"BODO_PLATFORM_WORKSPACE_UUID\",'NA') == 'NA':\n",
    "    import ipyparallel as ipp\n",
    "    import psutil; n = min(psutil.cpu_count(logical=False), 8)\n",
    "    rc = ipp.Cluster(engines='mpi', n=n).start_and_connect_sync(activate=True)"
   ]
  },
  {
   "cell_type": "code",
   "execution_count": 3,
   "metadata": {
    "execution": {
     "iopub.execute_input": "2022-03-15T18:06:10.288794Z",
     "iopub.status.busy": "2022-03-15T18:06:10.288603Z",
     "iopub.status.idle": "2022-03-15T18:06:11.231526Z",
     "shell.execute_reply": "2022-03-15T18:06:11.231085Z",
     "shell.execute_reply.started": "2022-03-15T18:06:10.288773Z"
    },
    "tags": []
   },
   "outputs": [],
   "source": [
    "%%px\n",
    "import bodo\n",
    "import pandas as pd\n",
    "import time"
   ]
  },
  {
   "cell_type": "markdown",
   "metadata": {},
   "source": [
    "<a id=\"loading_data\"></a>\n",
    "## Loading data\n",
    "\n",
    "In this section, we load the yellow and green taxi trips and weather in central park area in 2019 in pandas DataFrame."
   ]
  },
  {
   "cell_type": "code",
   "execution_count": 4,
   "metadata": {
    "execution": {
     "iopub.execute_input": "2022-03-15T18:06:11.232253Z",
     "iopub.status.busy": "2022-03-15T18:06:11.232064Z",
     "iopub.status.idle": "2022-03-15T18:08:32.945692Z",
     "shell.execute_reply": "2022-03-15T18:08:32.945205Z",
     "shell.execute_reply.started": "2022-03-15T18:06:11.232233Z"
    },
    "tags": []
   },
   "outputs": [
    {
     "data": {
      "application/vnd.jupyter.widget-view+json": {
       "model_id": "9610035e8ea74cc38d0a093b5f31aa13",
       "version_major": 2,
       "version_minor": 0
      },
      "text/plain": [
       "%px:   0%|          | 0/16 [00:00<?, ?tasks/s]"
      ]
     },
     "metadata": {},
     "output_type": "display_data"
    },
    {
     "data": {
      "text/plain": [
       "[stdout:0] Time:  22.985414187018137\n",
       "   VendorID lpep_pickup_datetime  PULocationID  DOLocationID  trip_distance  \\\n",
       "0         2  2018-12-21 15:17:29           264           264           0.00   \n",
       "1         2  2019-01-01 00:10:16            97            49           0.86   \n",
       "2         2  2019-01-01 00:27:11            49           189           0.66   \n",
       "3         2  2019-01-01 00:46:20           189            17           2.68   \n",
       "4         2  2019-01-01 00:19:06            82           258           4.53   \n",
       "\n",
       "   cab_type_id  \n",
       "0            1  \n",
       "1            1  \n",
       "2            1  \n",
       "3            1  \n",
       "4            1  \n"
      ]
     },
     "metadata": {},
     "output_type": "display_data"
    }
   ],
   "source": [
    "%%px\n",
    "@bodo.jit(cache=True)\n",
    "def get_trips():\n",
    "    start = time.time()\n",
    "    yellow_taxi = pd.read_csv(\n",
    "        \"s3://bodo-example-data/nyc-taxi/yellow_tripdata_2019.csv\",\n",
    "        usecols=[0, 1, 4, 7, 8],\n",
    "        parse_dates=[\"tpep_pickup_datetime\"],\n",
    "    )\n",
    "    \n",
    "    yellow_taxi[\"cab_type_id\"] = 0\n",
    "\n",
    "    green_taxi = pd.read_csv(\n",
    "        \"s3://bodo-example-data/nyc-taxi/green_tripdata_2019.csv\",\n",
    "        usecols=[0, 1, 5, 6, 8],\n",
    "        parse_dates=[\"lpep_pickup_datetime\"],\n",
    "    )\n",
    "    green_taxi[\"cab_type_id\"] = 1\n",
    "\n",
    "    # Rename yellow_taxi column to match green_taxi\n",
    "    yellow_taxi = yellow_taxi.rename(\n",
    "        columns={\"tpep_pickup_datetime\": \"lpep_pickup_datetime\"}, copy=False\n",
    "    )\n",
    "\n",
    "    # concat\n",
    "    trips = pd.concat([green_taxi, yellow_taxi])\n",
    "    end = time.time()\n",
    "    print(\"Time: \", end - start)\n",
    "    return trips\n",
    "\n",
    "trips = get_trips()\n",
    "if bodo.get_rank() == 0:\n",
    "    print(trips.head())"
   ]
  },
  {
   "cell_type": "code",
   "execution_count": null,
   "metadata": {
    "execution": {
     "iopub.execute_input": "2022-03-15T18:08:32.946917Z",
     "iopub.status.busy": "2022-03-15T18:08:32.946537Z",
     "iopub.status.idle": "2022-03-15T18:08:35.678222Z",
     "shell.execute_reply": "2022-03-15T18:08:35.677780Z",
     "shell.execute_reply.started": "2022-03-15T18:08:32.946897Z"
    },
    "tags": []
   },
   "outputs": [
    {
     "data": {
      "application/vnd.jupyter.widget-view+json": {
       "model_id": "5fd0e4db34644367b92a366b9d5cd63c",
       "version_major": 2,
       "version_minor": 0
      },
      "text/plain": [
       "%px:   0%|          | 0/16 [00:00<?, ?tasks/s]"
      ]
     },
     "metadata": {},
     "output_type": "display_data"
    },
    {
     "data": {
      "text/plain": [
       "[stdout:0] Time:  0.20375921487641335\n",
       "    station_id                 station_name        date  average_wind_speed  \\\n",
       "0  USW00094728  NY CITY CENTRAL PARK, NY US  2009-01-01               11.18   \n",
       "1  USW00094728  NY CITY CENTRAL PARK, NY US  2009-01-02                6.26   \n",
       "2  USW00094728  NY CITY CENTRAL PARK, NY US  2009-01-03               10.07   \n",
       "3  USW00094728  NY CITY CENTRAL PARK, NY US  2009-01-04                7.61   \n",
       "4  USW00094728  NY CITY CENTRAL PARK, NY US  2009-01-05                6.93   \n",
       "\n",
       "   precipitation  snowfall  snow_depth  max_temperature  min_temperature  \n",
       "0            0.0       0.0         0.0               26               15  \n",
       "1            0.0       0.0         0.0               34               23  \n",
       "2            0.0       0.0         0.0               38               29  \n",
       "3            0.0       0.0         0.0               42               25  \n",
       "4            0.0       0.0         0.0               43               38  \n"
      ]
     },
     "metadata": {},
     "output_type": "display_data"
    }
   ],
   "source": [
    "%%px\n",
    "@bodo.jit(cache=True)\n",
    "def get_cp_weather():\n",
    "    start = time.time()\n",
    "    central_park_weather_observations = pd.read_csv(\n",
    "        \"s3://bodo-example-data/nyc-taxi/central_park_weather.csv\", \n",
    "        parse_dates=[\"date\"]\n",
    "    )\n",
    "    central_park_weather_observations[\"date\"] = central_park_weather_observations[\n",
    "        \"date\"\n",
    "    ].dt.date\n",
    "    end = time.time()\n",
    "    print(\"Time: \", end - start)\n",
    "    return central_park_weather_observations\n",
    "\n",
    "central_park_weather_observations = get_cp_weather()\n",
    "if bodo.get_rank() == 0:\n",
    "    print(central_park_weather_observations.head())"
   ]
  },
  {
   "cell_type": "markdown",
   "metadata": {},
   "source": [
    "## Query Definitions\n",
    "\n",
    "This section includes some of the queries using Python (Pandas)"
   ]
  },
  {
   "cell_type": "markdown",
   "metadata": {},
   "source": [
    "### Q1: Display pickups by geography\n",
    "This query reports the number of trips for each pickup location."
   ]
  },
  {
   "cell_type": "code",
   "execution_count": null,
   "metadata": {
    "execution": {
     "iopub.execute_input": "2022-03-15T18:08:35.678839Z",
     "iopub.status.busy": "2022-03-15T18:08:35.678690Z",
     "iopub.status.idle": "2022-03-15T18:08:40.213621Z",
     "shell.execute_reply": "2022-03-15T18:08:40.212748Z",
     "shell.execute_reply.started": "2022-03-15T18:08:35.678820Z"
    },
    "tags": []
   },
   "outputs": [
    {
     "data": {
      "application/vnd.jupyter.widget-view+json": {
       "model_id": "3956ea7b4416452f83973a2f88093af8",
       "version_major": 2,
       "version_minor": 0
      },
      "text/plain": [
       "%px:   0%|          | 0/16 [00:00<?, ?tasks/s]"
      ]
     },
     "metadata": {},
     "output_type": "display_data"
    },
    {
     "data": {
      "text/plain": [
       "[stdout:0] Time:  0.997526672848494\n",
       "        cab_type_id  pickup_location_id        date  trips\n",
       "41589             0                   1  2019-01-01     22\n",
       "144257            0                   1  2019-01-02     26\n",
       "72367             0                   1  2019-01-03     11\n",
       "31367             0                   1  2019-01-04     17\n",
       "103360            0                   1  2019-01-05     22\n"
      ]
     },
     "metadata": {},
     "output_type": "display_data"
    }
   ],
   "source": [
    "%%px\n",
    "@bodo.jit(cache=True)\n",
    "def get_daily_pickups(trips):\n",
    "    start = time.time() \n",
    "    daily_pickups_taxi = trips.loc[:, [\"cab_type_id\", \"PULocationID\", \"lpep_pickup_datetime\"]]\n",
    "    daily_pickups_taxi[\"pickup_date\"] = daily_pickups_taxi[\"lpep_pickup_datetime\"].dt.date\n",
    "    daily_pickups_taxi = daily_pickups_taxi.groupby(                          \n",
    "        [\"cab_type_id\", \"PULocationID\", \"pickup_date\"], as_index=False\n",
    "    )[\"lpep_pickup_datetime\"].count()                            \n",
    "    daily_pickups_taxi = daily_pickups_taxi.rename(              \n",
    "        columns={\n",
    "            \"PULocationID\": \"pickup_location_id\",\n",
    "            \"pickup_date\": \"date\",\n",
    "            \"lpep_pickup_datetime\": \"trips\",\n",
    "        },\n",
    "        copy=False,\n",
    "    )\n",
    "    daily_pickups_taxi = daily_pickups_taxi.sort_values(\n",
    "        by=[\"cab_type_id\", \"pickup_location_id\", \"date\", \"trips\"],\n",
    "        ascending=[True, True, True, False]\n",
    "    )\n",
    "\n",
    "    end = time.time()\n",
    "    print(\"Time: \", end - start)\n",
    "    return daily_pickups_taxi\n",
    "\n",
    "daily_pickups = get_daily_pickups(trips)\n",
    "if bodo.get_rank() == 0:\n",
    "    print(daily_pickups.head())"
   ]
  },
  {
   "cell_type": "markdown",
   "metadata": {},
   "source": [
    "### Q2: JFK Hourly Pickups\n",
    "This query reports the number of hourly pickups at JFK airport for each car type."
   ]
  },
  {
   "cell_type": "code",
   "execution_count": null,
   "metadata": {
    "execution": {
     "iopub.execute_input": "2022-03-15T18:08:40.214340Z",
     "iopub.status.busy": "2022-03-15T18:08:40.214210Z",
     "iopub.status.idle": "2022-03-15T18:08:44.400928Z",
     "shell.execute_reply": "2022-03-15T18:08:44.400138Z",
     "shell.execute_reply.started": "2022-03-15T18:08:40.214321Z"
    },
    "tags": []
   },
   "outputs": [
    {
     "data": {
      "application/vnd.jupyter.widget-view+json": {
       "model_id": "e4144968b4574b598e6b30c11f1ee673",
       "version_major": 2,
       "version_minor": 0
      },
      "text/plain": [
       "%px:   0%|          | 0/16 [00:00<?, ?tasks/s]"
      ]
     },
     "metadata": {},
     "output_type": "display_data"
    },
    {
     "data": {
      "text/plain": [
       "[stdout:0] Time:  0.3788733097774184\n",
       "    cab_type_id  pickup_hour  pickup_location_id   trips\n",
       "5             0            0                 132  116751\n",
       "16            0            1                 132   61826\n",
       "34            0            2                 132   22066\n",
       "28            0            3                 132   11652\n",
       "15            0            4                 132   16670\n"
      ]
     },
     "metadata": {},
     "output_type": "display_data"
    }
   ],
   "source": [
    "%%px\n",
    "@bodo.jit(cache=True)\n",
    "def get_jfk_hourly_pickups(trips):\n",
    "    start = time.time()  \n",
    "    jfk_hourly = trips.loc[:, [\"cab_type_id\", \"PULocationID\", \"lpep_pickup_datetime\"]]    \n",
    "    jfk_hourly[\"pickup_hour\"] = jfk_hourly[\"lpep_pickup_datetime\"].dt.hour\n",
    "    jfk_hourly = jfk_hourly.loc[jfk_hourly[\"PULocationID\"] == 132]\n",
    "    jfk_hourly = jfk_hourly.groupby(\n",
    "        [\"cab_type_id\", \"pickup_hour\", \"PULocationID\"], as_index=False\n",
    "    )[\"lpep_pickup_datetime\"].count()\n",
    "    jfk_hourly = jfk_hourly.rename(\n",
    "        columns={\n",
    "            \"lpep_pickup_datetime\": \"trips\",\n",
    "            \"PULocationID\": \"pickup_location_id\",\n",
    "        },\n",
    "        copy=False,\n",
    "    )    \n",
    "    jfk_hourly = jfk_hourly.sort_values(\n",
    "        by=[\"cab_type_id\", \"pickup_hour\", \"pickup_location_id\", \"trips\"],\n",
    "        ascending=[True, True, True, False]\n",
    "    )\n",
    "\n",
    "    end = time.time()\n",
    "    print(\"Time: \", end - start)\n",
    "    return jfk_hourly\n",
    "\n",
    "jfk_hourly = get_jfk_hourly_pickups(trips)\n",
    "if bodo.get_rank() == 0:\n",
    "    print(jfk_hourly.head())    \n"
   ]
  },
  {
   "cell_type": "markdown",
   "metadata": {},
   "source": [
    "### Q3: Weekday trips\n",
    "This query reports how many trips are done during weekdays."
   ]
  },
  {
   "cell_type": "code",
   "execution_count": null,
   "metadata": {
    "execution": {
     "iopub.execute_input": "2022-03-15T18:08:44.401566Z",
     "iopub.status.busy": "2022-03-15T18:08:44.401428Z",
     "iopub.status.idle": "2022-03-15T18:08:51.788727Z",
     "shell.execute_reply": "2022-03-15T18:08:51.787821Z",
     "shell.execute_reply.started": "2022-03-15T18:08:44.401547Z"
    },
    "tags": []
   },
   "outputs": [
    {
     "data": {
      "application/vnd.jupyter.widget-view+json": {
       "model_id": "3bceeb0bebf046afb9b75397d3925c8f",
       "version_major": 2,
       "version_minor": 0
      },
      "text/plain": [
       "%px:   0%|          | 0/16 [00:00<?, ?tasks/s]"
      ]
     },
     "metadata": {},
     "output_type": "display_data"
    },
    {
     "data": {
      "text/plain": [
       "[stdout:0] Time:  1.6477054027691338\n",
       "       pickup_location_id  dropoff_location_id  trips\n",
       "30938                   1                    1   5003\n",
       "10222                   1                    4      1\n",
       "16948                   1                    6      1\n",
       "54133                   1                   20      1\n",
       "30221                   1                   21      1\n"
      ]
     },
     "metadata": {},
     "output_type": "display_data"
    }
   ],
   "source": [
    "%%px\n",
    "@bodo.jit(cache=True)\n",
    "def get_weekday_trips(trips):\n",
    "    start = time.time()\n",
    "    trips_weekdays = trips.loc[:, [\"cab_type_id\", \"lpep_pickup_datetime\", \"PULocationID\", \"DOLocationID\" ]]    \n",
    "    trips_weekdays[\"pickup_dow\"] = trips_weekdays[\"lpep_pickup_datetime\"].dt.dayofweek\n",
    "    trips_weekdays = trips_weekdays[\n",
    "        (trips_weekdays[\"cab_type_id\"].isin([0, 1]))\n",
    "        & (trips_weekdays[\"lpep_pickup_datetime\"] >= pd.to_datetime(\"2018-07-01\"))\n",
    "        & (trips_weekdays[\"lpep_pickup_datetime\"] < pd.to_datetime(\"2020-07-01\"))\n",
    "        & (trips_weekdays[\"pickup_dow\"].isin([1, 2, 3, 4, 5]))\n",
    "    ]\n",
    "    trips_weekdays = trips_weekdays.groupby(\n",
    "        [\"PULocationID\", \"DOLocationID\"], as_index=False\n",
    "    ).count()\n",
    "    trips_weekdays = trips_weekdays.loc[:,\n",
    "        [\"PULocationID\", \"DOLocationID\", \"lpep_pickup_datetime\"]\n",
    "    ]\n",
    "    trips_weekdays = trips_weekdays.rename(\n",
    "        columns={\n",
    "            \"PULocationID\": \"pickup_location_id\",\n",
    "            \"DOLocationID\": \"dropoff_location_id\",\n",
    "            \"lpep_pickup_datetime\": \"trips\"\n",
    "        },\n",
    "        copy=False,        \n",
    "    )\n",
    "    trips_weekdays = trips_weekdays.sort_values(by=[\"pickup_location_id\", \"dropoff_location_id\", \"trips\"],\n",
    "                                                ascending=[True, True, False])\n",
    "    end = time.time()\n",
    "    print(\"Time: \", end - start)\n",
    "    return trips_weekdays\n",
    "\n",
    "wd_trips = get_weekday_trips(trips)\n",
    "if bodo.get_rank() == 0:\n",
    "    print(wd_trips.head())\n"
   ]
  },
  {
   "cell_type": "markdown",
   "metadata": {},
   "source": [
    "### Q4: Monthly Trips and Weather in Central Park\n",
    "This query reports monthly travel times; the average distance, number of trips over and its corresponding weather.\n"
   ]
  },
  {
   "cell_type": "code",
   "execution_count": null,
   "metadata": {
    "execution": {
     "iopub.execute_input": "2022-03-15T18:08:51.789578Z",
     "iopub.status.busy": "2022-03-15T18:08:51.789305Z",
     "iopub.status.idle": "2022-03-15T18:09:03.497889Z",
     "shell.execute_reply": "2022-03-15T18:09:03.497346Z",
     "shell.execute_reply.started": "2022-03-15T18:08:51.789558Z"
    },
    "tags": []
   },
   "outputs": [
    {
     "data": {
      "application/vnd.jupyter.widget-view+json": {
       "model_id": "c24e05f6753046ad84c915a26d00a116",
       "version_major": 2,
       "version_minor": 0
      },
      "text/plain": [
       "%px:   0%|          | 0/16 [00:00<?, ?tasks/s]"
      ]
     },
     "metadata": {},
     "output_type": "display_data"
    },
    {
     "data": {
      "text/plain": [
       "[stdout:0] Time:  2.754389446618916\n",
       "         PULocationID  DOLocationID  month  weekday  date_with_precipitation  \\\n",
       "118190              1             1      1        1                     0.17   \n",
       "232375              1             1      1        1                     0.17   \n",
       "1606986             1             1      1        1                     0.23   \n",
       "1379473             1             1      1        1                     0.23   \n",
       "810189              1             1      1        1                     0.23   \n",
       "\n",
       "         time_bucket  trips  avg_distance  \n",
       "118190             1      7      2.671429  \n",
       "232375             2      1      0.000000  \n",
       "1606986            0      1     34.000000  \n",
       "1379473            1      8      0.188750  \n",
       "810189             2      3      4.600000  \n"
      ]
     },
     "metadata": {},
     "output_type": "display_data"
    }
   ],
   "source": [
    "%%px\n",
    "@bodo.jit(cache=True)\n",
    "def get_monthly_travels_weather(trips, central_park_weather_observations):\n",
    "    start = time.time()\n",
    "    trips = trips.loc[:, [\"VendorID\", \"lpep_pickup_datetime\", \"PULocationID\", \"DOLocationID\", \"trip_distance\" ]]    \n",
    "    trips[\"date\"] = trips[\"lpep_pickup_datetime\"].dt.date\n",
    "    trips[\"month\"] = trips[\"lpep_pickup_datetime\"].dt.month\n",
    "    trips[\"hour\"] = trips[\"lpep_pickup_datetime\"].dt.hour\n",
    "    trips[\"weekday\"] = trips[\"lpep_pickup_datetime\"].dt.dayofweek\n",
    "    monthly_trips_weather = trips.merge(\n",
    "        central_park_weather_observations, on=\"date\", how=\"inner\"\n",
    "    )\n",
    "    monthly_trips_weather = monthly_trips_weather[\n",
    "        (monthly_trips_weather[\"weekday\"].isin([1, 2, 3, 4, 5]))\n",
    "        & (monthly_trips_weather[\"precipitation\"] > 0.1)\n",
    "    ]\n",
    "    #0: morning, 1:midday, 2:afternoon, 3:evening, 4:other\n",
    "    monthly_trips_weather[\"time_bucket\"] = monthly_trips_weather.hour.replace({8: 0, 9:0, 10:0, 11:1, 12:1, 13:1, 14:1, 15:1, 16:2, 17:2, 18:2, 18:2, 19:3, 20:3, 21:3, 22:4, 23:4, 0:4, 1:4, 2:4, 3:4, 4:4, 5:4, 6:4, 7:4 })\n",
    "    monthly_trips_weather = monthly_trips_weather.groupby(\n",
    "        [\n",
    "            \"PULocationID\",\n",
    "            \"DOLocationID\",\n",
    "            \"month\",\n",
    "            \"weekday\",\n",
    "            \"precipitation\",\n",
    "            \"time_bucket\",\n",
    "        ],\n",
    "        as_index=False\n",
    "    ).agg({\"VendorID\": \"count\", \"trip_distance\": \"mean\"})\n",
    "    monthly_trips_weather = monthly_trips_weather.sort_values(\n",
    "        by=[\n",
    "            \"PULocationID\",\n",
    "            \"DOLocationID\",\n",
    "            \"month\",\n",
    "            \"weekday\",\n",
    "            \"precipitation\",\n",
    "            \"time_bucket\",\n",
    "            \"VendorID\",\n",
    "        ],\n",
    "        ascending=[True, True, True, True, True, True, False]\n",
    "    )\n",
    "    monthly_trips_weather = monthly_trips_weather.rename(\n",
    "        columns={\n",
    "            \"VendorID\": \"trips\",\n",
    "            \"trip_distance\": \"avg_distance\",\n",
    "            \"precipitation\": \"date_with_precipitation\",\n",
    "        },\n",
    "        copy=False\n",
    "    )\n",
    "    end = time.time()\n",
    "    print(\"Time: \", end - start)\n",
    "    return monthly_trips_weather\n",
    "\n",
    "monthly_trips_weather = get_monthly_travels_weather(trips, central_park_weather_observations)\n",
    "if bodo.get_rank() == 0:\n",
    "    print(monthly_trips_weather.head())\n"
   ]
  },
  {
   "cell_type": "code",
   "execution_count": null,
   "metadata": {},
   "outputs": [],
   "source": []
  }
 ],
 "metadata": {
  "interpreter": {
   "hash": "16c8ad1c156570dbb9b8c59e261dba05f4270231d6ef51b3fb205099379bfe9f"
  },
  "kernelspec": {
   "display_name": "Python 3.9.12 ('T7')",
   "language": "python",
   "name": "python3"
  },
  "language_info": {
   "codemirror_mode": {
    "name": "ipython",
    "version": 3
   },
   "file_extension": ".py",
   "mimetype": "text/x-python",
   "name": "python",
   "nbconvert_exporter": "python",
   "pygments_lexer": "ipython3",
   "version": "3.9.12"
  }
 },
 "nbformat": 4,
 "nbformat_minor": 4
}
