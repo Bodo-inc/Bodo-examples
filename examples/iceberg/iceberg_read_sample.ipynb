{
 "cells": [
  {
   "cell_type": "code",
   "execution_count": 1,
   "id": "c8809d82-6177-4b5a-84a3-81c668e88516",
   "metadata": {
    "execution": {
     "iopub.execute_input": "2022-07-12T19:25:13.546811Z",
     "iopub.status.busy": "2022-07-12T19:25:13.546543Z",
     "iopub.status.idle": "2022-07-12T19:26:07.520387Z",
     "shell.execute_reply": "2022-07-12T19:26:07.519367Z",
     "shell.execute_reply.started": "2022-07-12T19:25:13.546784Z"
    },
    "tags": []
   },
   "outputs": [
    {
     "data": {
      "application/vnd.jupyter.widget-view+json": {
       "model_id": "ec168d2d558a446d842658306e7593fb",
       "version_major": 2,
       "version_minor": 0
      },
      "text/plain": [
       "VBox()"
      ]
     },
     "metadata": {},
     "output_type": "display_data"
    },
    {
     "name": "stdout",
     "output_type": "stream",
     "text": [
      "Starting Spark application\n"
     ]
    },
    {
     "data": {
      "text/html": [
       "<table>\n",
       "<tr><th>ID</th><th>YARN Application ID</th><th>Kind</th><th>State</th><th>Spark UI</th><th>Driver log</th><th>User</th><th>Current session?</th></tr><tr><td>0</td><td>application_1657648384066_0001</td><td>pyspark</td><td>idle</td><td><a target=\"_blank\" href=\"http://ip-172-31-5-247.ec2.internal:20888/proxy/application_1657648384066_0001/\" class=\"emr-proxy-link\" emr-resource=\"j-2WONNOTRDKQ0X\n",
       "\" application-id=\"application_1657648384066_0001\">Link</a></td><td><a target=\"_blank\" href=\"http://ip-172-31-14-62.ec2.internal:8042/node/containerlogs/container_1657648384066_0001_01_000001/livy\" >Link</a></td><td>None</td><td>✔</td></tr></table>"
      ],
      "text/plain": [
       "<IPython.core.display.HTML object>"
      ]
     },
     "metadata": {},
     "output_type": "display_data"
    },
    {
     "data": {
      "application/vnd.jupyter.widget-view+json": {
       "model_id": "",
       "version_major": 2,
       "version_minor": 0
      },
      "text/plain": [
       "FloatProgress(value=0.0, bar_style='info', description='Progress:', layout=Layout(height='25px', width='50%'),…"
      ]
     },
     "metadata": {},
     "output_type": "display_data"
    },
    {
     "name": "stdout",
     "output_type": "stream",
     "text": [
      "SparkSession available as 'spark'.\n"
     ]
    },
    {
     "data": {
      "application/vnd.jupyter.widget-view+json": {
       "model_id": "",
       "version_major": 2,
       "version_minor": 0
      },
      "text/plain": [
       "FloatProgress(value=0.0, bar_style='info', description='Progress:', layout=Layout(height='25px', width='50%'),…"
      ]
     },
     "metadata": {},
     "output_type": "display_data"
    }
   ],
   "source": [
    "import time\n",
    "from pyspark.sql import SparkSession\n",
    "from pyspark import StorageLevel\n"
   ]
  },
  {
   "cell_type": "code",
   "execution_count": 2,
   "id": "0a6d3605-2544-47e6-ab57-cb45d870dac0",
   "metadata": {
    "execution": {
     "iopub.execute_input": "2022-07-12T19:28:29.170988Z",
     "iopub.status.busy": "2022-07-12T19:28:29.170687Z",
     "iopub.status.idle": "2022-07-12T19:28:29.237792Z",
     "shell.execute_reply": "2022-07-12T19:28:29.237328Z",
     "shell.execute_reply.started": "2022-07-12T19:28:29.170961Z"
    },
    "tags": []
   },
   "outputs": [
    {
     "data": {
      "application/vnd.jupyter.widget-view+json": {
       "model_id": "0999609430234a87b8775fb5521d4de3",
       "version_major": 2,
       "version_minor": 0
      },
      "text/plain": [
       "VBox()"
      ]
     },
     "metadata": {},
     "output_type": "display_data"
    },
    {
     "data": {
      "application/vnd.jupyter.widget-view+json": {
       "model_id": "",
       "version_major": 2,
       "version_minor": 0
      },
      "text/plain": [
       "FloatProgress(value=0.0, bar_style='info', description='Progress:', layout=Layout(height='25px', width='50%'),…"
      ]
     },
     "metadata": {},
     "output_type": "display_data"
    }
   ],
   "source": [
    "def q01():\n",
    "    t1 = time.time()\n",
    "    sql_lineitem = spark.sql(\n",
    "        \"\"\"select\n",
    "                l_returnflag,\n",
    "                l_linestatus,\n",
    "                sum(l_quantity) as sum_qty,\n",
    "                sum(l_extendedprice) as sum_base_price,\n",
    "                sum(l_extendedprice * (1 - l_discount)) as sum_disc_price,\n",
    "                sum(l_extendedprice * (1 - l_discount) * (1 + l_tax)) as sum_charge,\n",
    "                avg(l_quantity) as avg_qty,\n",
    "                avg(l_extendedprice) as avg_price,\n",
    "                avg(l_discount) as avg_disc,\n",
    "                count(*) as count_order\n",
    "            from\n",
    "                lineitem\n",
    "            where\n",
    "                l_shipdate <= date '1998-12-01' - interval '90' day\n",
    "            group by\n",
    "                l_returnflag,\n",
    "                l_linestatus\n",
    "            order by\n",
    "                l_returnflag,\n",
    "                l_linestatus\"\"\"\n",
    "    )\n",
    "\n",
    "    sql_lineitem.show()\n",
    "    print(\"Q01 Execution time (s): \", time.time() - t1)\n",
    "\n",
    "\n",
    "def run_queries():\n",
    "\n",
    "    # Load the data\n",
    "    t1 = time.time()\n",
    "\n",
    "    lineitem = spark.table(\"nessie.SF1_LINEITEM_PQ_A\")\n",
    "    lineitem.createOrReplaceTempView(\"lineitem\")\n",
    "\n",
    "    # Run the Queries:\n",
    "    t1 = time.time()\n",
    "    q01()\n",
    "\n",
    "    print(\"Total Query time (s): \", time.time() - t1)\n",
    "\n",
    "\n",
    "\n",
    "\n",
    "\n"
   ]
  },
  {
   "cell_type": "code",
   "execution_count": null,
   "id": "9a177544-329c-41ac-ad07-e6b87d9f0321",
   "metadata": {
    "execution": {
     "iopub.execute_input": "2022-07-12T19:28:31.886500Z",
     "iopub.status.busy": "2022-07-12T19:28:31.886179Z"
    },
    "tags": []
   },
   "outputs": [
    {
     "data": {
      "application/vnd.jupyter.widget-view+json": {
       "model_id": "dc99f119ef1f4275a299bbcb87852134",
       "version_major": 2,
       "version_minor": 0
      },
      "text/plain": [
       "VBox()"
      ]
     },
     "metadata": {},
     "output_type": "display_data"
    },
    {
     "data": {
      "application/vnd.jupyter.widget-view+json": {
       "model_id": "88899b37f10c4c16bac7cc38f7787b44",
       "version_major": 2,
       "version_minor": 0
      },
      "text/plain": [
       "FloatProgress(value=0.0, bar_style='info', description='Progress:', layout=Layout(height='25px', width='50%'),…"
      ]
     },
     "metadata": {},
     "output_type": "display_data"
    }
   ],
   "source": [
    "run_queries()"
   ]
  }
 ],
 "metadata": {
  "kernelspec": {
   "display_name": "PySpark",
   "language": "python",
   "name": "pysparkkernel"
  },
  "language_info": {
   "codemirror_mode": {
    "name": "python",
    "version": 3
   },
   "file_extension": ".py",
   "mimetype": "text/x-python",
   "name": "pyspark",
   "pygments_lexer": "python3"
  }
 },
 "nbformat": 4,
 "nbformat_minor": 5
}
