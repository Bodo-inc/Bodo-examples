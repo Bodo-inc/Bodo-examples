{
 "cells": [
  {
   "cell_type": "markdown",
   "metadata": {
    "pycharm": {
     "name": "#%% md\n"
    }
   },
   "source": [
    "# Getting Started with Bodo\n",
    "\n",
    "In this notebook, we will cover the basics of using Bodo with Python data analytics applications. We strongly recommend starting with this notebook before using Bodo.\n",
    "Let's get started!"
   ]
  },
  {
   "cell_type": "markdown",
   "metadata": {
    "pycharm": {
     "name": "#%% md\n"
    }
   },
   "source": [
    "\n",
    "---------------\n",
    "\n",
    "Make sure that your notebook is attached to a cluster, and then let's run the following code to verify that your code is running on all cores in your cluster. \n"
   ]
  },
  {
   "cell_type": "code",
   "execution_count": 1,
   "metadata": {
    "execution": {
     "iopub.execute_input": "2022-08-26T16:54:22.797805Z",
     "iopub.status.busy": "2022-08-26T16:54:22.797581Z",
     "iopub.status.idle": "2022-08-26T16:54:31.721680Z",
     "shell.execute_reply": "2022-08-26T16:54:31.721208Z",
     "shell.execute_reply.started": "2022-08-26T16:54:22.797778Z"
    },
    "pycharm": {
     "name": "#%%\n"
    },
    "tags": []
   },
   "outputs": [
    {
     "name": "stdout",
     "output_type": "stream",
     "text": [
      "Starting 8 engines with <class 'ipyparallel.cluster.launcher.MPIEngineSetLauncher'>\n"
     ]
    },
    {
     "data": {
      "application/vnd.jupyter.widget-view+json": {
       "model_id": "2fbe231e60aa416386dc520fe9c27953",
       "version_major": 2,
       "version_minor": 0
      },
      "text/plain": [
       "  0%|          | 0/8 [00:00<?, ?engine/s]"
      ]
     },
     "metadata": {},
     "output_type": "display_data"
    },
    {
     "data": {
      "text/plain": [
       "[stdout:0] Hello World from rank 0. Total ranks=8\n"
      ]
     },
     "metadata": {},
     "output_type": "display_data"
    },
    {
     "data": {
      "text/plain": [
       "[stdout:6] Hello World from rank 6. Total ranks=8\n"
      ]
     },
     "metadata": {},
     "output_type": "display_data"
    },
    {
     "data": {
      "text/plain": [
       "[stdout:4] Hello World from rank 4. Total ranks=8\n"
      ]
     },
     "metadata": {},
     "output_type": "display_data"
    },
    {
     "data": {
      "text/plain": [
       "[stdout:2] Hello World from rank 2. Total ranks=8\n"
      ]
     },
     "metadata": {},
     "output_type": "display_data"
    },
    {
     "data": {
      "text/plain": [
       "[stdout:5] Hello World from rank 5. Total ranks=8\n"
      ]
     },
     "metadata": {},
     "output_type": "display_data"
    },
    {
     "data": {
      "text/plain": [
       "[stdout:7] Hello World from rank 7. Total ranks=8\n"
      ]
     },
     "metadata": {},
     "output_type": "display_data"
    },
    {
     "data": {
      "text/plain": [
       "[stdout:1] Hello World from rank 1. Total ranks=8\n"
      ]
     },
     "metadata": {},
     "output_type": "display_data"
    },
    {
     "data": {
      "text/plain": [
       "[stdout:3] Hello World from rank 3. Total ranks=8\n"
      ]
     },
     "metadata": {},
     "output_type": "display_data"
    }
   ],
   "source": [
    "%%px\n",
    "import bodo\n",
    "import warnings\n",
    "warnings.filterwarnings(\"ignore\")\n",
    "print(f\"Hello World from rank {bodo.get_rank()}. Total ranks={bodo.get_size()}\")"
   ]
  },
  {
   "cell_type": "markdown",
   "metadata": {},
   "source": [
    "<br>\n",
    "    \n",
    "If you are running your code on the Community Edition Cluster (which has 2 c5.2xlarge nodes with 8 physical cores, you should see 8 lines of output with the form:\n",
    "\n",
    "`[stdout:<n>] \"Hello World from rank <n>. Total ranks=8\" `\n",
    "    \n"
   ]
  },
  {
   "cell_type": "markdown",
   "metadata": {
    "pycharm": {
     "name": "#%% md\n"
    },
    "tags": []
   },
   "source": [
    "## A First Parallel Computation with Bodo\n",
    "\n",
    " Bodo can scale your analytics code to thousands of cores, providing orders of magnitude speed up depending on program characteristics. We'll walk through a simple data transformation example, which Bodo will automatically parallelize and run across all cores on the cluster your notebook is attached to. "
   ]
  },
  {
   "cell_type": "markdown",
   "metadata": {
    "pycharm": {
     "name": "#%% md\n"
    }
   },
   "source": [
    "### Generate data\n",
    "To begin, let's generate a simple dataset and write to a [Parquet](http://parquet.apache.org/) file:"
   ]
  },
  {
   "cell_type": "code",
   "execution_count": 2,
   "metadata": {
    "execution": {
     "iopub.execute_input": "2022-08-26T16:54:34.586189Z",
     "iopub.status.busy": "2022-08-26T16:54:34.585854Z",
     "iopub.status.idle": "2022-08-26T16:54:36.039627Z",
     "shell.execute_reply": "2022-08-26T16:54:36.039146Z",
     "shell.execute_reply.started": "2022-08-26T16:54:34.586168Z"
    },
    "pycharm": {
     "name": "#%%\n"
    },
    "tags": []
   },
   "outputs": [
    {
     "name": "stdout",
     "output_type": "stream",
     "text": [
      "                 A        B\n",
      "0              NaT        0\n",
      "1       2013-01-03        1\n",
      "2       2013-01-03        2\n",
      "3              NaT        3\n",
      "4       2013-01-03        4\n",
      "...            ...      ...\n",
      "9999995 2015-09-29  9999995\n",
      "9999996 2015-09-29  9999996\n",
      "9999997 2015-09-29  9999997\n",
      "9999998 2015-09-29  9999998\n",
      "9999999 2015-09-29  9999999\n",
      "\n",
      "[10000000 rows x 2 columns]\n"
     ]
    }
   ],
   "source": [
    "import pandas as pd\n",
    "import numpy as np\n",
    "\n",
    "# 10m data points\n",
    "df = pd.DataFrame(\n",
    "    {\n",
    "        \"A\": np.repeat(pd.date_range(\"2013-01-03\", periods=1000), 10_000),\n",
    "        \"B\": np.arange(10_000_000),\n",
    "    }\n",
    ")\n",
    "# set some values to NA\n",
    "df.iloc[np.arange(1000) * 3, 0] = pd.NA\n",
    "# using row_group_size helps with efficient parallel read of data later\n",
    "df.to_parquet(\"pd_example.pq\", row_group_size=100000)\n",
    "print(df)"
   ]
  },
  {
   "cell_type": "markdown",
   "metadata": {
    "pycharm": {
     "name": "#%% md\n"
    }
   },
   "source": [
    "### Example Pandas Code\n",
    "\n",
    "We then write a simple data transformation function in Pandas that reads the parquet file we just wrote into a dataframe, processes a column of datetime values in this dataframe, and creates two new columns:"
   ]
  },
  {
   "cell_type": "code",
   "execution_count": 3,
   "metadata": {
    "execution": {
     "iopub.execute_input": "2022-08-26T16:54:37.032036Z",
     "iopub.status.busy": "2022-08-26T16:54:37.031631Z",
     "iopub.status.idle": "2022-08-26T16:56:58.644604Z",
     "shell.execute_reply": "2022-08-26T16:56:58.644184Z",
     "shell.execute_reply.started": "2022-08-26T16:54:37.032013Z"
    },
    "pycharm": {
     "name": "#%%\n"
    },
    "tags": []
   },
   "outputs": [
    {
     "name": "stdout",
     "output_type": "stream",
     "text": [
      "Total time: 141.60\n"
     ]
    },
    {
     "data": {
      "text/html": [
       "<div>\n",
       "<style scoped>\n",
       "    .dataframe tbody tr th:only-of-type {\n",
       "        vertical-align: middle;\n",
       "    }\n",
       "\n",
       "    .dataframe tbody tr th {\n",
       "        vertical-align: top;\n",
       "    }\n",
       "\n",
       "    .dataframe thead th {\n",
       "        text-align: right;\n",
       "    }\n",
       "</style>\n",
       "<table border=\"1\" class=\"dataframe\">\n",
       "  <thead>\n",
       "    <tr style=\"text-align: right;\">\n",
       "      <th></th>\n",
       "      <th>A</th>\n",
       "      <th>B</th>\n",
       "      <th>C</th>\n",
       "    </tr>\n",
       "  </thead>\n",
       "  <tbody>\n",
       "    <tr>\n",
       "      <th>0</th>\n",
       "      <td>NaT</td>\n",
       "      <td>NA</td>\n",
       "      <td>NaN</td>\n",
       "    </tr>\n",
       "    <tr>\n",
       "      <th>1</th>\n",
       "      <td>2013-01-03</td>\n",
       "      <td>P1</td>\n",
       "      <td>1.0</td>\n",
       "    </tr>\n",
       "    <tr>\n",
       "      <th>2</th>\n",
       "      <td>2013-01-03</td>\n",
       "      <td>P1</td>\n",
       "      <td>1.0</td>\n",
       "    </tr>\n",
       "    <tr>\n",
       "      <th>3</th>\n",
       "      <td>NaT</td>\n",
       "      <td>NA</td>\n",
       "      <td>NaN</td>\n",
       "    </tr>\n",
       "    <tr>\n",
       "      <th>4</th>\n",
       "      <td>2013-01-03</td>\n",
       "      <td>P1</td>\n",
       "      <td>1.0</td>\n",
       "    </tr>\n",
       "    <tr>\n",
       "      <th>...</th>\n",
       "      <td>...</td>\n",
       "      <td>...</td>\n",
       "      <td>...</td>\n",
       "    </tr>\n",
       "    <tr>\n",
       "      <th>9999995</th>\n",
       "      <td>2015-09-29</td>\n",
       "      <td>P2</td>\n",
       "      <td>9.0</td>\n",
       "    </tr>\n",
       "    <tr>\n",
       "      <th>9999996</th>\n",
       "      <td>2015-09-29</td>\n",
       "      <td>P2</td>\n",
       "      <td>9.0</td>\n",
       "    </tr>\n",
       "    <tr>\n",
       "      <th>9999997</th>\n",
       "      <td>2015-09-29</td>\n",
       "      <td>P2</td>\n",
       "      <td>9.0</td>\n",
       "    </tr>\n",
       "    <tr>\n",
       "      <th>9999998</th>\n",
       "      <td>2015-09-29</td>\n",
       "      <td>P2</td>\n",
       "      <td>9.0</td>\n",
       "    </tr>\n",
       "    <tr>\n",
       "      <th>9999999</th>\n",
       "      <td>2015-09-29</td>\n",
       "      <td>P2</td>\n",
       "      <td>9.0</td>\n",
       "    </tr>\n",
       "  </tbody>\n",
       "</table>\n",
       "<p>10000000 rows × 3 columns</p>\n",
       "</div>"
      ],
      "text/plain": [
       "                 A   B    C\n",
       "0              NaT  NA  NaN\n",
       "1       2013-01-03  P1  1.0\n",
       "2       2013-01-03  P1  1.0\n",
       "3              NaT  NA  NaN\n",
       "4       2013-01-03  P1  1.0\n",
       "...            ...  ..  ...\n",
       "9999995 2015-09-29  P2  9.0\n",
       "9999996 2015-09-29  P2  9.0\n",
       "9999997 2015-09-29  P2  9.0\n",
       "9999998 2015-09-29  P2  9.0\n",
       "9999999 2015-09-29  P2  9.0\n",
       "\n",
       "[10000000 rows x 3 columns]"
      ]
     },
     "execution_count": 3,
     "metadata": {},
     "output_type": "execute_result"
    }
   ],
   "source": [
    "import time\n",
    "import pandas as pd\n",
    "\n",
    "def data_transform():\n",
    "    t0 = time.time()\n",
    "    df = pd.read_parquet(\"pd_example.pq\")\n",
    "    df[\"B\"] = df.apply(lambda r: \"NA\" if pd.isna(r.A) else \"P1\" if r.A.month < 5 else \"P2\", axis=1)\n",
    "    df[\"C\"] = df.A.dt.month\n",
    "    t2 = time.time()\n",
    "    print(\"Total time: {:.2f}\".format(time.time()-t0))\n",
    "    return df\n",
    "\n",
    "data_transform()"
   ]
  },
  {
   "cell_type": "markdown",
   "metadata": {
    "pycharm": {
     "name": "#%% md\n"
    }
   },
   "source": [
    "Standard Python is quite slow for such data transforms since\n",
    "1. The use of custom code inside apply() does not let Pandas run an optimized prebuilt C library in its backend. Therefore, the Python interpreter overheads dominate.\n",
    "2. Python uses just a single CPU core and does not parallelize computation.\n",
    "\n",
    "Bodo solves both of these problems as you'll find out below."
   ]
  },
  {
   "cell_type": "markdown",
   "metadata": {
    "pycharm": {
     "name": "#%% md\n"
    }
   },
   "source": [
    "### Using the Bodo JIT Decorator\n",
    "Bodo optimizes and parallelizes data workloads by providing [just-in-time (JIT) compilation](https://docs.bodo.ai/latest/bodo_parallelism/bodo_parallelism_basics/). To run the code with Bodo, all that we have to do is add the `bodo.jit` decorator to the function."
   ]
  },
  {
   "cell_type": "code",
   "execution_count": 4,
   "metadata": {
    "execution": {
     "iopub.execute_input": "2022-08-26T16:56:58.645549Z",
     "iopub.status.busy": "2022-08-26T16:56:58.645328Z",
     "iopub.status.idle": "2022-08-26T16:57:07.357673Z",
     "shell.execute_reply": "2022-08-26T16:57:07.357203Z",
     "shell.execute_reply.started": "2022-08-26T16:56:58.645532Z"
    },
    "pycharm": {
     "name": "#%%\n"
    },
    "tags": []
   },
   "outputs": [
    {
     "name": "stdout",
     "output_type": "stream",
     "text": [
      "Total time: 0.91\n"
     ]
    },
    {
     "data": {
      "text/html": [
       "<div>\n",
       "<style scoped>\n",
       "    .dataframe tbody tr th:only-of-type {\n",
       "        vertical-align: middle;\n",
       "    }\n",
       "\n",
       "    .dataframe tbody tr th {\n",
       "        vertical-align: top;\n",
       "    }\n",
       "\n",
       "    .dataframe thead th {\n",
       "        text-align: right;\n",
       "    }\n",
       "</style>\n",
       "<table border=\"1\" class=\"dataframe\">\n",
       "  <thead>\n",
       "    <tr style=\"text-align: right;\">\n",
       "      <th></th>\n",
       "      <th>A</th>\n",
       "      <th>B</th>\n",
       "      <th>C</th>\n",
       "    </tr>\n",
       "  </thead>\n",
       "  <tbody>\n",
       "    <tr>\n",
       "      <th>0</th>\n",
       "      <td>NaT</td>\n",
       "      <td>NA</td>\n",
       "      <td>&lt;NA&gt;</td>\n",
       "    </tr>\n",
       "    <tr>\n",
       "      <th>1</th>\n",
       "      <td>2013-01-03</td>\n",
       "      <td>P1</td>\n",
       "      <td>1</td>\n",
       "    </tr>\n",
       "    <tr>\n",
       "      <th>2</th>\n",
       "      <td>2013-01-03</td>\n",
       "      <td>P1</td>\n",
       "      <td>1</td>\n",
       "    </tr>\n",
       "    <tr>\n",
       "      <th>3</th>\n",
       "      <td>NaT</td>\n",
       "      <td>NA</td>\n",
       "      <td>&lt;NA&gt;</td>\n",
       "    </tr>\n",
       "    <tr>\n",
       "      <th>4</th>\n",
       "      <td>2013-01-03</td>\n",
       "      <td>P1</td>\n",
       "      <td>1</td>\n",
       "    </tr>\n",
       "    <tr>\n",
       "      <th>...</th>\n",
       "      <td>...</td>\n",
       "      <td>...</td>\n",
       "      <td>...</td>\n",
       "    </tr>\n",
       "    <tr>\n",
       "      <th>9999995</th>\n",
       "      <td>2015-09-29</td>\n",
       "      <td>P2</td>\n",
       "      <td>9</td>\n",
       "    </tr>\n",
       "    <tr>\n",
       "      <th>9999996</th>\n",
       "      <td>2015-09-29</td>\n",
       "      <td>P2</td>\n",
       "      <td>9</td>\n",
       "    </tr>\n",
       "    <tr>\n",
       "      <th>9999997</th>\n",
       "      <td>2015-09-29</td>\n",
       "      <td>P2</td>\n",
       "      <td>9</td>\n",
       "    </tr>\n",
       "    <tr>\n",
       "      <th>9999998</th>\n",
       "      <td>2015-09-29</td>\n",
       "      <td>P2</td>\n",
       "      <td>9</td>\n",
       "    </tr>\n",
       "    <tr>\n",
       "      <th>9999999</th>\n",
       "      <td>2015-09-29</td>\n",
       "      <td>P2</td>\n",
       "      <td>9</td>\n",
       "    </tr>\n",
       "  </tbody>\n",
       "</table>\n",
       "<p>10000000 rows × 3 columns</p>\n",
       "</div>"
      ],
      "text/plain": [
       "                 A   B     C\n",
       "0              NaT  NA  <NA>\n",
       "1       2013-01-03  P1     1\n",
       "2       2013-01-03  P1     1\n",
       "3              NaT  NA  <NA>\n",
       "4       2013-01-03  P1     1\n",
       "...            ...  ..   ...\n",
       "9999995 2015-09-29  P2     9\n",
       "9999996 2015-09-29  P2     9\n",
       "9999997 2015-09-29  P2     9\n",
       "9999998 2015-09-29  P2     9\n",
       "9999999 2015-09-29  P2     9\n",
       "\n",
       "[10000000 rows x 3 columns]"
      ]
     },
     "execution_count": 4,
     "metadata": {},
     "output_type": "execute_result"
    }
   ],
   "source": [
    "import pandas as pd\n",
    "import warnings\n",
    "warnings.filterwarnings(\"ignore\")\n",
    "import bodo\n",
    "import time\n",
    "\n",
    "@bodo.jit\n",
    "def data_transform():\n",
    "    t0 = time.time()\n",
    "    df = pd.read_parquet(\"pd_example.pq\")\n",
    "    df[\"B\"] = df.apply(lambda r: \"NA\" if pd.isna(r.A) else \"P1\" if r.A.month < 5 else \"P2\", axis=1)\n",
    "    df[\"C\"] = df.A.dt.month\n",
    "    print(\"Total time: {:.2f}\".format(time.time()-t0))\n",
    "    return df\n",
    "\n",
    "data_transform()"
   ]
  },
  {
   "cell_type": "markdown",
   "metadata": {
    "pycharm": {
     "name": "#%% md\n"
    }
   },
   "source": [
    "Even though the code is still running on a single core, it is more than 150x faster because Bodo compiles the function into a native binary, eliminating the interpreter overheads in apply.\n",
    "\n",
    "Now let’s run the code on all the cores of your cluster (8 cores if you are using this on the Community Edition Cluster) using using the `%%px` [*magic*](https://ipyparallel.readthedocs.io/en/latest/tutorial/magics.html):"
   ]
  },
  {
   "cell_type": "code",
   "execution_count": 5,
   "metadata": {
    "execution": {
     "iopub.execute_input": "2022-08-26T16:57:07.358423Z",
     "iopub.status.busy": "2022-08-26T16:57:07.358191Z",
     "iopub.status.idle": "2022-08-26T16:57:13.479963Z",
     "shell.execute_reply": "2022-08-26T16:57:13.479542Z",
     "shell.execute_reply.started": "2022-08-26T16:57:07.358404Z"
    },
    "pycharm": {
     "name": "#%%\n"
    },
    "tags": []
   },
   "outputs": [
    {
     "data": {
      "application/vnd.jupyter.widget-view+json": {
       "model_id": "9513d5be74a64739bea632fd9f886eeb",
       "version_major": 2,
       "version_minor": 0
      },
      "text/plain": [
       "%px:   0%|          | 0/8 [00:00<?, ?tasks/s]"
      ]
     },
     "metadata": {},
     "output_type": "display_data"
    },
    {
     "data": {
      "text/plain": [
       "[stdout:0] IO time: 0.08\n",
       "Compute time: 0.43\n",
       "Total time: 0.43\n"
      ]
     },
     "metadata": {},
     "output_type": "display_data"
    },
    {
     "data": {
      "text/html": [
       "<div>\n",
       "<style scoped>\n",
       "    .dataframe tbody tr th:only-of-type {\n",
       "        vertical-align: middle;\n",
       "    }\n",
       "\n",
       "    .dataframe tbody tr th {\n",
       "        vertical-align: top;\n",
       "    }\n",
       "\n",
       "    .dataframe thead th {\n",
       "        text-align: right;\n",
       "    }\n",
       "</style>\n",
       "<table border=\"1\" class=\"dataframe\">\n",
       "  <thead>\n",
       "    <tr style=\"text-align: right;\">\n",
       "      <th></th>\n",
       "      <th>A</th>\n",
       "      <th>B</th>\n",
       "      <th>C</th>\n",
       "    </tr>\n",
       "  </thead>\n",
       "  <tbody>\n",
       "    <tr>\n",
       "      <th>0</th>\n",
       "      <td>NaT</td>\n",
       "      <td>NA</td>\n",
       "      <td>&lt;NA&gt;</td>\n",
       "    </tr>\n",
       "    <tr>\n",
       "      <th>1</th>\n",
       "      <td>2013-01-03</td>\n",
       "      <td>P1</td>\n",
       "      <td>1</td>\n",
       "    </tr>\n",
       "    <tr>\n",
       "      <th>2</th>\n",
       "      <td>2013-01-03</td>\n",
       "      <td>P1</td>\n",
       "      <td>1</td>\n",
       "    </tr>\n",
       "    <tr>\n",
       "      <th>3</th>\n",
       "      <td>NaT</td>\n",
       "      <td>NA</td>\n",
       "      <td>&lt;NA&gt;</td>\n",
       "    </tr>\n",
       "    <tr>\n",
       "      <th>4</th>\n",
       "      <td>2013-01-03</td>\n",
       "      <td>P1</td>\n",
       "      <td>1</td>\n",
       "    </tr>\n",
       "    <tr>\n",
       "      <th>...</th>\n",
       "      <td>...</td>\n",
       "      <td>...</td>\n",
       "      <td>...</td>\n",
       "    </tr>\n",
       "    <tr>\n",
       "      <th>1249995</th>\n",
       "      <td>2013-05-07</td>\n",
       "      <td>P2</td>\n",
       "      <td>5</td>\n",
       "    </tr>\n",
       "    <tr>\n",
       "      <th>1249996</th>\n",
       "      <td>2013-05-07</td>\n",
       "      <td>P2</td>\n",
       "      <td>5</td>\n",
       "    </tr>\n",
       "    <tr>\n",
       "      <th>1249997</th>\n",
       "      <td>2013-05-07</td>\n",
       "      <td>P2</td>\n",
       "      <td>5</td>\n",
       "    </tr>\n",
       "    <tr>\n",
       "      <th>1249998</th>\n",
       "      <td>2013-05-07</td>\n",
       "      <td>P2</td>\n",
       "      <td>5</td>\n",
       "    </tr>\n",
       "    <tr>\n",
       "      <th>1249999</th>\n",
       "      <td>2013-05-07</td>\n",
       "      <td>P2</td>\n",
       "      <td>5</td>\n",
       "    </tr>\n",
       "  </tbody>\n",
       "</table>\n",
       "<p>1250000 rows × 3 columns</p>\n",
       "</div>"
      ],
      "text/plain": [
       "\u001b[0;31mOut[0:2]: \u001b[0m\n",
       "                 A   B     C\n",
       "0              NaT  NA  <NA>\n",
       "1       2013-01-03  P1     1\n",
       "2       2013-01-03  P1     1\n",
       "3              NaT  NA  <NA>\n",
       "4       2013-01-03  P1     1\n",
       "...            ...  ..   ...\n",
       "1249995 2013-05-07  P2     5\n",
       "1249996 2013-05-07  P2     5\n",
       "1249997 2013-05-07  P2     5\n",
       "1249998 2013-05-07  P2     5\n",
       "1249999 2013-05-07  P2     5\n",
       "\n",
       "[1250000 rows x 3 columns]"
      ]
     },
     "metadata": {
      "after": null,
      "completed": null,
      "data": {},
      "engine_id": 0,
      "engine_uuid": "41e85239-e3974c467506aa06d533071b",
      "error": null,
      "execute_input": "import pandas as pd\nimport time\n\n@bodo.jit\ndef data_transform():\n    t0 = time.time()\n    df = pd.read_parquet(\"pd_example.pq\")\n    t1 = time.time()\n    df[\"B\"] = df.apply(lambda r: \"NA\" if pd.isna(r.A) else \"P1\" if r.A.month < 5 else \"P2\", axis=1)\n    df[\"C\"] = df.A.dt.month\n    t2 = time.time()\n    print(\"IO time: {:.2f}\".format(t2-t1))\n    print(\"Compute time: {:.2f}\".format(time.time()-t0))\n    print(\"Total time: {:.2f}\".format(time.time()-t0))\n    return df\n\ndata_transform()\n",
      "execute_result": {
       "data": {
        "text/html": "<div>\n<style scoped>\n    .dataframe tbody tr th:only-of-type {\n        vertical-align: middle;\n    }\n\n    .dataframe tbody tr th {\n        vertical-align: top;\n    }\n\n    .dataframe thead th {\n        text-align: right;\n    }\n</style>\n<table border=\"1\" class=\"dataframe\">\n  <thead>\n    <tr style=\"text-align: right;\">\n      <th></th>\n      <th>A</th>\n      <th>B</th>\n      <th>C</th>\n    </tr>\n  </thead>\n  <tbody>\n    <tr>\n      <th>0</th>\n      <td>NaT</td>\n      <td>NA</td>\n      <td>&lt;NA&gt;</td>\n    </tr>\n    <tr>\n      <th>1</th>\n      <td>2013-01-03</td>\n      <td>P1</td>\n      <td>1</td>\n    </tr>\n    <tr>\n      <th>2</th>\n      <td>2013-01-03</td>\n      <td>P1</td>\n      <td>1</td>\n    </tr>\n    <tr>\n      <th>3</th>\n      <td>NaT</td>\n      <td>NA</td>\n      <td>&lt;NA&gt;</td>\n    </tr>\n    <tr>\n      <th>4</th>\n      <td>2013-01-03</td>\n      <td>P1</td>\n      <td>1</td>\n    </tr>\n    <tr>\n      <th>...</th>\n      <td>...</td>\n      <td>...</td>\n      <td>...</td>\n    </tr>\n    <tr>\n      <th>1249995</th>\n      <td>2013-05-07</td>\n      <td>P2</td>\n      <td>5</td>\n    </tr>\n    <tr>\n      <th>1249996</th>\n      <td>2013-05-07</td>\n      <td>P2</td>\n      <td>5</td>\n    </tr>\n    <tr>\n      <th>1249997</th>\n      <td>2013-05-07</td>\n      <td>P2</td>\n      <td>5</td>\n    </tr>\n    <tr>\n      <th>1249998</th>\n      <td>2013-05-07</td>\n      <td>P2</td>\n      <td>5</td>\n    </tr>\n    <tr>\n      <th>1249999</th>\n      <td>2013-05-07</td>\n      <td>P2</td>\n      <td>5</td>\n    </tr>\n  </tbody>\n</table>\n<p>1250000 rows × 3 columns</p>\n</div>",
        "text/plain": "                 A   B     C\n0              NaT  NA  <NA>\n1       2013-01-03  P1     1\n2       2013-01-03  P1     1\n3              NaT  NA  <NA>\n4       2013-01-03  P1     1\n...            ...  ..   ...\n1249995 2013-05-07  P2     5\n1249996 2013-05-07  P2     5\n1249997 2013-05-07  P2     5\n1249998 2013-05-07  P2     5\n1249999 2013-05-07  P2     5\n\n[1250000 rows x 3 columns]"
       },
       "execution_count": 2,
       "metadata": {}
      },
      "follow": null,
      "msg_id": null,
      "outputs": [],
      "received": null,
      "started": null,
      "status": null,
      "stderr": "",
      "stdout": "IO time: 0.08\nCompute time: 0.43\nTotal time: 0.43\n",
      "submitted": "2022-08-26T16:57:07.360002Z"
     },
     "output_type": "display_data"
    },
    {
     "data": {
      "text/html": [
       "<div>\n",
       "<style scoped>\n",
       "    .dataframe tbody tr th:only-of-type {\n",
       "        vertical-align: middle;\n",
       "    }\n",
       "\n",
       "    .dataframe tbody tr th {\n",
       "        vertical-align: top;\n",
       "    }\n",
       "\n",
       "    .dataframe thead th {\n",
       "        text-align: right;\n",
       "    }\n",
       "</style>\n",
       "<table border=\"1\" class=\"dataframe\">\n",
       "  <thead>\n",
       "    <tr style=\"text-align: right;\">\n",
       "      <th></th>\n",
       "      <th>A</th>\n",
       "      <th>B</th>\n",
       "      <th>C</th>\n",
       "    </tr>\n",
       "  </thead>\n",
       "  <tbody>\n",
       "    <tr>\n",
       "      <th>7500000</th>\n",
       "      <td>2015-01-23</td>\n",
       "      <td>P1</td>\n",
       "      <td>1</td>\n",
       "    </tr>\n",
       "    <tr>\n",
       "      <th>7500001</th>\n",
       "      <td>2015-01-23</td>\n",
       "      <td>P1</td>\n",
       "      <td>1</td>\n",
       "    </tr>\n",
       "    <tr>\n",
       "      <th>7500002</th>\n",
       "      <td>2015-01-23</td>\n",
       "      <td>P1</td>\n",
       "      <td>1</td>\n",
       "    </tr>\n",
       "    <tr>\n",
       "      <th>7500003</th>\n",
       "      <td>2015-01-23</td>\n",
       "      <td>P1</td>\n",
       "      <td>1</td>\n",
       "    </tr>\n",
       "    <tr>\n",
       "      <th>7500004</th>\n",
       "      <td>2015-01-23</td>\n",
       "      <td>P1</td>\n",
       "      <td>1</td>\n",
       "    </tr>\n",
       "    <tr>\n",
       "      <th>...</th>\n",
       "      <td>...</td>\n",
       "      <td>...</td>\n",
       "      <td>...</td>\n",
       "    </tr>\n",
       "    <tr>\n",
       "      <th>8749995</th>\n",
       "      <td>2015-05-27</td>\n",
       "      <td>P2</td>\n",
       "      <td>5</td>\n",
       "    </tr>\n",
       "    <tr>\n",
       "      <th>8749996</th>\n",
       "      <td>2015-05-27</td>\n",
       "      <td>P2</td>\n",
       "      <td>5</td>\n",
       "    </tr>\n",
       "    <tr>\n",
       "      <th>8749997</th>\n",
       "      <td>2015-05-27</td>\n",
       "      <td>P2</td>\n",
       "      <td>5</td>\n",
       "    </tr>\n",
       "    <tr>\n",
       "      <th>8749998</th>\n",
       "      <td>2015-05-27</td>\n",
       "      <td>P2</td>\n",
       "      <td>5</td>\n",
       "    </tr>\n",
       "    <tr>\n",
       "      <th>8749999</th>\n",
       "      <td>2015-05-27</td>\n",
       "      <td>P2</td>\n",
       "      <td>5</td>\n",
       "    </tr>\n",
       "  </tbody>\n",
       "</table>\n",
       "<p>1250000 rows × 3 columns</p>\n",
       "</div>"
      ],
      "text/plain": [
       "\u001b[0;31mOut[6:2]: \u001b[0m\n",
       "                 A   B  C\n",
       "7500000 2015-01-23  P1  1\n",
       "7500001 2015-01-23  P1  1\n",
       "7500002 2015-01-23  P1  1\n",
       "7500003 2015-01-23  P1  1\n",
       "7500004 2015-01-23  P1  1\n",
       "...            ...  .. ..\n",
       "8749995 2015-05-27  P2  5\n",
       "8749996 2015-05-27  P2  5\n",
       "8749997 2015-05-27  P2  5\n",
       "8749998 2015-05-27  P2  5\n",
       "8749999 2015-05-27  P2  5\n",
       "\n",
       "[1250000 rows x 3 columns]"
      ]
     },
     "metadata": {
      "after": null,
      "completed": null,
      "data": {},
      "engine_id": 6,
      "engine_uuid": "3a00f2b5-3311a9ea494c0cd2ed6be850",
      "error": null,
      "execute_input": "import pandas as pd\nimport time\n\n@bodo.jit\ndef data_transform():\n    t0 = time.time()\n    df = pd.read_parquet(\"pd_example.pq\")\n    t1 = time.time()\n    df[\"B\"] = df.apply(lambda r: \"NA\" if pd.isna(r.A) else \"P1\" if r.A.month < 5 else \"P2\", axis=1)\n    df[\"C\"] = df.A.dt.month\n    t2 = time.time()\n    print(\"IO time: {:.2f}\".format(t2-t1))\n    print(\"Compute time: {:.2f}\".format(time.time()-t0))\n    print(\"Total time: {:.2f}\".format(time.time()-t0))\n    return df\n\ndata_transform()\n",
      "execute_result": {
       "data": {
        "text/html": "<div>\n<style scoped>\n    .dataframe tbody tr th:only-of-type {\n        vertical-align: middle;\n    }\n\n    .dataframe tbody tr th {\n        vertical-align: top;\n    }\n\n    .dataframe thead th {\n        text-align: right;\n    }\n</style>\n<table border=\"1\" class=\"dataframe\">\n  <thead>\n    <tr style=\"text-align: right;\">\n      <th></th>\n      <th>A</th>\n      <th>B</th>\n      <th>C</th>\n    </tr>\n  </thead>\n  <tbody>\n    <tr>\n      <th>7500000</th>\n      <td>2015-01-23</td>\n      <td>P1</td>\n      <td>1</td>\n    </tr>\n    <tr>\n      <th>7500001</th>\n      <td>2015-01-23</td>\n      <td>P1</td>\n      <td>1</td>\n    </tr>\n    <tr>\n      <th>7500002</th>\n      <td>2015-01-23</td>\n      <td>P1</td>\n      <td>1</td>\n    </tr>\n    <tr>\n      <th>7500003</th>\n      <td>2015-01-23</td>\n      <td>P1</td>\n      <td>1</td>\n    </tr>\n    <tr>\n      <th>7500004</th>\n      <td>2015-01-23</td>\n      <td>P1</td>\n      <td>1</td>\n    </tr>\n    <tr>\n      <th>...</th>\n      <td>...</td>\n      <td>...</td>\n      <td>...</td>\n    </tr>\n    <tr>\n      <th>8749995</th>\n      <td>2015-05-27</td>\n      <td>P2</td>\n      <td>5</td>\n    </tr>\n    <tr>\n      <th>8749996</th>\n      <td>2015-05-27</td>\n      <td>P2</td>\n      <td>5</td>\n    </tr>\n    <tr>\n      <th>8749997</th>\n      <td>2015-05-27</td>\n      <td>P2</td>\n      <td>5</td>\n    </tr>\n    <tr>\n      <th>8749998</th>\n      <td>2015-05-27</td>\n      <td>P2</td>\n      <td>5</td>\n    </tr>\n    <tr>\n      <th>8749999</th>\n      <td>2015-05-27</td>\n      <td>P2</td>\n      <td>5</td>\n    </tr>\n  </tbody>\n</table>\n<p>1250000 rows × 3 columns</p>\n</div>",
        "text/plain": "                 A   B  C\n7500000 2015-01-23  P1  1\n7500001 2015-01-23  P1  1\n7500002 2015-01-23  P1  1\n7500003 2015-01-23  P1  1\n7500004 2015-01-23  P1  1\n...            ...  .. ..\n8749995 2015-05-27  P2  5\n8749996 2015-05-27  P2  5\n8749997 2015-05-27  P2  5\n8749998 2015-05-27  P2  5\n8749999 2015-05-27  P2  5\n\n[1250000 rows x 3 columns]"
       },
       "execution_count": 2,
       "metadata": {}
      },
      "follow": null,
      "msg_id": null,
      "outputs": [],
      "received": null,
      "started": null,
      "status": null,
      "stderr": "",
      "stdout": "",
      "submitted": "2022-08-26T16:57:07.360491Z"
     },
     "output_type": "display_data"
    },
    {
     "data": {
      "text/html": [
       "<div>\n",
       "<style scoped>\n",
       "    .dataframe tbody tr th:only-of-type {\n",
       "        vertical-align: middle;\n",
       "    }\n",
       "\n",
       "    .dataframe tbody tr th {\n",
       "        vertical-align: top;\n",
       "    }\n",
       "\n",
       "    .dataframe thead th {\n",
       "        text-align: right;\n",
       "    }\n",
       "</style>\n",
       "<table border=\"1\" class=\"dataframe\">\n",
       "  <thead>\n",
       "    <tr style=\"text-align: right;\">\n",
       "      <th></th>\n",
       "      <th>A</th>\n",
       "      <th>B</th>\n",
       "      <th>C</th>\n",
       "    </tr>\n",
       "  </thead>\n",
       "  <tbody>\n",
       "    <tr>\n",
       "      <th>3750000</th>\n",
       "      <td>2014-01-13</td>\n",
       "      <td>P1</td>\n",
       "      <td>1</td>\n",
       "    </tr>\n",
       "    <tr>\n",
       "      <th>3750001</th>\n",
       "      <td>2014-01-13</td>\n",
       "      <td>P1</td>\n",
       "      <td>1</td>\n",
       "    </tr>\n",
       "    <tr>\n",
       "      <th>3750002</th>\n",
       "      <td>2014-01-13</td>\n",
       "      <td>P1</td>\n",
       "      <td>1</td>\n",
       "    </tr>\n",
       "    <tr>\n",
       "      <th>3750003</th>\n",
       "      <td>2014-01-13</td>\n",
       "      <td>P1</td>\n",
       "      <td>1</td>\n",
       "    </tr>\n",
       "    <tr>\n",
       "      <th>3750004</th>\n",
       "      <td>2014-01-13</td>\n",
       "      <td>P1</td>\n",
       "      <td>1</td>\n",
       "    </tr>\n",
       "    <tr>\n",
       "      <th>...</th>\n",
       "      <td>...</td>\n",
       "      <td>...</td>\n",
       "      <td>...</td>\n",
       "    </tr>\n",
       "    <tr>\n",
       "      <th>4999995</th>\n",
       "      <td>2014-05-17</td>\n",
       "      <td>P2</td>\n",
       "      <td>5</td>\n",
       "    </tr>\n",
       "    <tr>\n",
       "      <th>4999996</th>\n",
       "      <td>2014-05-17</td>\n",
       "      <td>P2</td>\n",
       "      <td>5</td>\n",
       "    </tr>\n",
       "    <tr>\n",
       "      <th>4999997</th>\n",
       "      <td>2014-05-17</td>\n",
       "      <td>P2</td>\n",
       "      <td>5</td>\n",
       "    </tr>\n",
       "    <tr>\n",
       "      <th>4999998</th>\n",
       "      <td>2014-05-17</td>\n",
       "      <td>P2</td>\n",
       "      <td>5</td>\n",
       "    </tr>\n",
       "    <tr>\n",
       "      <th>4999999</th>\n",
       "      <td>2014-05-17</td>\n",
       "      <td>P2</td>\n",
       "      <td>5</td>\n",
       "    </tr>\n",
       "  </tbody>\n",
       "</table>\n",
       "<p>1250000 rows × 3 columns</p>\n",
       "</div>"
      ],
      "text/plain": [
       "\u001b[0;31mOut[3:2]: \u001b[0m\n",
       "                 A   B  C\n",
       "3750000 2014-01-13  P1  1\n",
       "3750001 2014-01-13  P1  1\n",
       "3750002 2014-01-13  P1  1\n",
       "3750003 2014-01-13  P1  1\n",
       "3750004 2014-01-13  P1  1\n",
       "...            ...  .. ..\n",
       "4999995 2014-05-17  P2  5\n",
       "4999996 2014-05-17  P2  5\n",
       "4999997 2014-05-17  P2  5\n",
       "4999998 2014-05-17  P2  5\n",
       "4999999 2014-05-17  P2  5\n",
       "\n",
       "[1250000 rows x 3 columns]"
      ]
     },
     "metadata": {
      "after": null,
      "completed": null,
      "data": {},
      "engine_id": 3,
      "engine_uuid": "77038e13-cd16dbce148e3d8977ffb771",
      "error": null,
      "execute_input": "import pandas as pd\nimport time\n\n@bodo.jit\ndef data_transform():\n    t0 = time.time()\n    df = pd.read_parquet(\"pd_example.pq\")\n    t1 = time.time()\n    df[\"B\"] = df.apply(lambda r: \"NA\" if pd.isna(r.A) else \"P1\" if r.A.month < 5 else \"P2\", axis=1)\n    df[\"C\"] = df.A.dt.month\n    t2 = time.time()\n    print(\"IO time: {:.2f}\".format(t2-t1))\n    print(\"Compute time: {:.2f}\".format(time.time()-t0))\n    print(\"Total time: {:.2f}\".format(time.time()-t0))\n    return df\n\ndata_transform()\n",
      "execute_result": {
       "data": {
        "text/html": "<div>\n<style scoped>\n    .dataframe tbody tr th:only-of-type {\n        vertical-align: middle;\n    }\n\n    .dataframe tbody tr th {\n        vertical-align: top;\n    }\n\n    .dataframe thead th {\n        text-align: right;\n    }\n</style>\n<table border=\"1\" class=\"dataframe\">\n  <thead>\n    <tr style=\"text-align: right;\">\n      <th></th>\n      <th>A</th>\n      <th>B</th>\n      <th>C</th>\n    </tr>\n  </thead>\n  <tbody>\n    <tr>\n      <th>3750000</th>\n      <td>2014-01-13</td>\n      <td>P1</td>\n      <td>1</td>\n    </tr>\n    <tr>\n      <th>3750001</th>\n      <td>2014-01-13</td>\n      <td>P1</td>\n      <td>1</td>\n    </tr>\n    <tr>\n      <th>3750002</th>\n      <td>2014-01-13</td>\n      <td>P1</td>\n      <td>1</td>\n    </tr>\n    <tr>\n      <th>3750003</th>\n      <td>2014-01-13</td>\n      <td>P1</td>\n      <td>1</td>\n    </tr>\n    <tr>\n      <th>3750004</th>\n      <td>2014-01-13</td>\n      <td>P1</td>\n      <td>1</td>\n    </tr>\n    <tr>\n      <th>...</th>\n      <td>...</td>\n      <td>...</td>\n      <td>...</td>\n    </tr>\n    <tr>\n      <th>4999995</th>\n      <td>2014-05-17</td>\n      <td>P2</td>\n      <td>5</td>\n    </tr>\n    <tr>\n      <th>4999996</th>\n      <td>2014-05-17</td>\n      <td>P2</td>\n      <td>5</td>\n    </tr>\n    <tr>\n      <th>4999997</th>\n      <td>2014-05-17</td>\n      <td>P2</td>\n      <td>5</td>\n    </tr>\n    <tr>\n      <th>4999998</th>\n      <td>2014-05-17</td>\n      <td>P2</td>\n      <td>5</td>\n    </tr>\n    <tr>\n      <th>4999999</th>\n      <td>2014-05-17</td>\n      <td>P2</td>\n      <td>5</td>\n    </tr>\n  </tbody>\n</table>\n<p>1250000 rows × 3 columns</p>\n</div>",
        "text/plain": "                 A   B  C\n3750000 2014-01-13  P1  1\n3750001 2014-01-13  P1  1\n3750002 2014-01-13  P1  1\n3750003 2014-01-13  P1  1\n3750004 2014-01-13  P1  1\n...            ...  .. ..\n4999995 2014-05-17  P2  5\n4999996 2014-05-17  P2  5\n4999997 2014-05-17  P2  5\n4999998 2014-05-17  P2  5\n4999999 2014-05-17  P2  5\n\n[1250000 rows x 3 columns]"
       },
       "execution_count": 2,
       "metadata": {}
      },
      "follow": null,
      "msg_id": null,
      "outputs": [],
      "received": null,
      "started": null,
      "status": null,
      "stderr": "",
      "stdout": "",
      "submitted": "2022-08-26T16:57:07.360100Z"
     },
     "output_type": "display_data"
    },
    {
     "data": {
      "text/html": [
       "<div>\n",
       "<style scoped>\n",
       "    .dataframe tbody tr th:only-of-type {\n",
       "        vertical-align: middle;\n",
       "    }\n",
       "\n",
       "    .dataframe tbody tr th {\n",
       "        vertical-align: top;\n",
       "    }\n",
       "\n",
       "    .dataframe thead th {\n",
       "        text-align: right;\n",
       "    }\n",
       "</style>\n",
       "<table border=\"1\" class=\"dataframe\">\n",
       "  <thead>\n",
       "    <tr style=\"text-align: right;\">\n",
       "      <th></th>\n",
       "      <th>A</th>\n",
       "      <th>B</th>\n",
       "      <th>C</th>\n",
       "    </tr>\n",
       "  </thead>\n",
       "  <tbody>\n",
       "    <tr>\n",
       "      <th>5000000</th>\n",
       "      <td>2014-05-18</td>\n",
       "      <td>P2</td>\n",
       "      <td>5</td>\n",
       "    </tr>\n",
       "    <tr>\n",
       "      <th>5000001</th>\n",
       "      <td>2014-05-18</td>\n",
       "      <td>P2</td>\n",
       "      <td>5</td>\n",
       "    </tr>\n",
       "    <tr>\n",
       "      <th>5000002</th>\n",
       "      <td>2014-05-18</td>\n",
       "      <td>P2</td>\n",
       "      <td>5</td>\n",
       "    </tr>\n",
       "    <tr>\n",
       "      <th>5000003</th>\n",
       "      <td>2014-05-18</td>\n",
       "      <td>P2</td>\n",
       "      <td>5</td>\n",
       "    </tr>\n",
       "    <tr>\n",
       "      <th>5000004</th>\n",
       "      <td>2014-05-18</td>\n",
       "      <td>P2</td>\n",
       "      <td>5</td>\n",
       "    </tr>\n",
       "    <tr>\n",
       "      <th>...</th>\n",
       "      <td>...</td>\n",
       "      <td>...</td>\n",
       "      <td>...</td>\n",
       "    </tr>\n",
       "    <tr>\n",
       "      <th>6249995</th>\n",
       "      <td>2014-09-19</td>\n",
       "      <td>P2</td>\n",
       "      <td>9</td>\n",
       "    </tr>\n",
       "    <tr>\n",
       "      <th>6249996</th>\n",
       "      <td>2014-09-19</td>\n",
       "      <td>P2</td>\n",
       "      <td>9</td>\n",
       "    </tr>\n",
       "    <tr>\n",
       "      <th>6249997</th>\n",
       "      <td>2014-09-19</td>\n",
       "      <td>P2</td>\n",
       "      <td>9</td>\n",
       "    </tr>\n",
       "    <tr>\n",
       "      <th>6249998</th>\n",
       "      <td>2014-09-19</td>\n",
       "      <td>P2</td>\n",
       "      <td>9</td>\n",
       "    </tr>\n",
       "    <tr>\n",
       "      <th>6249999</th>\n",
       "      <td>2014-09-19</td>\n",
       "      <td>P2</td>\n",
       "      <td>9</td>\n",
       "    </tr>\n",
       "  </tbody>\n",
       "</table>\n",
       "<p>1250000 rows × 3 columns</p>\n",
       "</div>"
      ],
      "text/plain": [
       "\u001b[0;31mOut[4:2]: \u001b[0m\n",
       "                 A   B  C\n",
       "5000000 2014-05-18  P2  5\n",
       "5000001 2014-05-18  P2  5\n",
       "5000002 2014-05-18  P2  5\n",
       "5000003 2014-05-18  P2  5\n",
       "5000004 2014-05-18  P2  5\n",
       "...            ...  .. ..\n",
       "6249995 2014-09-19  P2  9\n",
       "6249996 2014-09-19  P2  9\n",
       "6249997 2014-09-19  P2  9\n",
       "6249998 2014-09-19  P2  9\n",
       "6249999 2014-09-19  P2  9\n",
       "\n",
       "[1250000 rows x 3 columns]"
      ]
     },
     "metadata": {
      "after": [],
      "completed": "2022-08-26T16:57:13.464895Z",
      "data": {},
      "engine_id": 4,
      "engine_uuid": "dd47a812-20680ec847b929d8f871ac2e",
      "error": null,
      "execute_input": "import pandas as pd\nimport time\n\n@bodo.jit\ndef data_transform():\n    t0 = time.time()\n    df = pd.read_parquet(\"pd_example.pq\")\n    t1 = time.time()\n    df[\"B\"] = df.apply(lambda r: \"NA\" if pd.isna(r.A) else \"P1\" if r.A.month < 5 else \"P2\", axis=1)\n    df[\"C\"] = df.A.dt.month\n    t2 = time.time()\n    print(\"IO time: {:.2f}\".format(t2-t1))\n    print(\"Compute time: {:.2f}\".format(time.time()-t0))\n    print(\"Total time: {:.2f}\".format(time.time()-t0))\n    return df\n\ndata_transform()\n",
      "execute_result": {
       "data": {
        "text/html": "<div>\n<style scoped>\n    .dataframe tbody tr th:only-of-type {\n        vertical-align: middle;\n    }\n\n    .dataframe tbody tr th {\n        vertical-align: top;\n    }\n\n    .dataframe thead th {\n        text-align: right;\n    }\n</style>\n<table border=\"1\" class=\"dataframe\">\n  <thead>\n    <tr style=\"text-align: right;\">\n      <th></th>\n      <th>A</th>\n      <th>B</th>\n      <th>C</th>\n    </tr>\n  </thead>\n  <tbody>\n    <tr>\n      <th>5000000</th>\n      <td>2014-05-18</td>\n      <td>P2</td>\n      <td>5</td>\n    </tr>\n    <tr>\n      <th>5000001</th>\n      <td>2014-05-18</td>\n      <td>P2</td>\n      <td>5</td>\n    </tr>\n    <tr>\n      <th>5000002</th>\n      <td>2014-05-18</td>\n      <td>P2</td>\n      <td>5</td>\n    </tr>\n    <tr>\n      <th>5000003</th>\n      <td>2014-05-18</td>\n      <td>P2</td>\n      <td>5</td>\n    </tr>\n    <tr>\n      <th>5000004</th>\n      <td>2014-05-18</td>\n      <td>P2</td>\n      <td>5</td>\n    </tr>\n    <tr>\n      <th>...</th>\n      <td>...</td>\n      <td>...</td>\n      <td>...</td>\n    </tr>\n    <tr>\n      <th>6249995</th>\n      <td>2014-09-19</td>\n      <td>P2</td>\n      <td>9</td>\n    </tr>\n    <tr>\n      <th>6249996</th>\n      <td>2014-09-19</td>\n      <td>P2</td>\n      <td>9</td>\n    </tr>\n    <tr>\n      <th>6249997</th>\n      <td>2014-09-19</td>\n      <td>P2</td>\n      <td>9</td>\n    </tr>\n    <tr>\n      <th>6249998</th>\n      <td>2014-09-19</td>\n      <td>P2</td>\n      <td>9</td>\n    </tr>\n    <tr>\n      <th>6249999</th>\n      <td>2014-09-19</td>\n      <td>P2</td>\n      <td>9</td>\n    </tr>\n  </tbody>\n</table>\n<p>1250000 rows × 3 columns</p>\n</div>",
        "text/plain": "                 A   B  C\n5000000 2014-05-18  P2  5\n5000001 2014-05-18  P2  5\n5000002 2014-05-18  P2  5\n5000003 2014-05-18  P2  5\n5000004 2014-05-18  P2  5\n...            ...  .. ..\n6249995 2014-09-19  P2  9\n6249996 2014-09-19  P2  9\n6249997 2014-09-19  P2  9\n6249998 2014-09-19  P2  9\n6249999 2014-09-19  P2  9\n\n[1250000 rows x 3 columns]"
       },
       "execution_count": 2,
       "metadata": {}
      },
      "follow": [],
      "is_broadcast": true,
      "is_coalescing": false,
      "msg_id": "04ed8dd6-3ffb54ce07ce38e17a4a58b5_28584_2_dd47a812-20680ec847b929d8f871ac2e",
      "outputs": [],
      "received": "2022-08-26T16:57:13.470166Z",
      "started": "2022-08-26T16:57:07.363586Z",
      "status": "ok",
      "stderr": "",
      "stdout": "",
      "submitted": "2022-08-26T16:57:07.359891Z"
     },
     "output_type": "display_data"
    },
    {
     "data": {
      "text/html": [
       "<div>\n",
       "<style scoped>\n",
       "    .dataframe tbody tr th:only-of-type {\n",
       "        vertical-align: middle;\n",
       "    }\n",
       "\n",
       "    .dataframe tbody tr th {\n",
       "        vertical-align: top;\n",
       "    }\n",
       "\n",
       "    .dataframe thead th {\n",
       "        text-align: right;\n",
       "    }\n",
       "</style>\n",
       "<table border=\"1\" class=\"dataframe\">\n",
       "  <thead>\n",
       "    <tr style=\"text-align: right;\">\n",
       "      <th></th>\n",
       "      <th>A</th>\n",
       "      <th>B</th>\n",
       "      <th>C</th>\n",
       "    </tr>\n",
       "  </thead>\n",
       "  <tbody>\n",
       "    <tr>\n",
       "      <th>1250000</th>\n",
       "      <td>2013-05-08</td>\n",
       "      <td>P2</td>\n",
       "      <td>5</td>\n",
       "    </tr>\n",
       "    <tr>\n",
       "      <th>1250001</th>\n",
       "      <td>2013-05-08</td>\n",
       "      <td>P2</td>\n",
       "      <td>5</td>\n",
       "    </tr>\n",
       "    <tr>\n",
       "      <th>1250002</th>\n",
       "      <td>2013-05-08</td>\n",
       "      <td>P2</td>\n",
       "      <td>5</td>\n",
       "    </tr>\n",
       "    <tr>\n",
       "      <th>1250003</th>\n",
       "      <td>2013-05-08</td>\n",
       "      <td>P2</td>\n",
       "      <td>5</td>\n",
       "    </tr>\n",
       "    <tr>\n",
       "      <th>1250004</th>\n",
       "      <td>2013-05-08</td>\n",
       "      <td>P2</td>\n",
       "      <td>5</td>\n",
       "    </tr>\n",
       "    <tr>\n",
       "      <th>...</th>\n",
       "      <td>...</td>\n",
       "      <td>...</td>\n",
       "      <td>...</td>\n",
       "    </tr>\n",
       "    <tr>\n",
       "      <th>2499995</th>\n",
       "      <td>2013-09-09</td>\n",
       "      <td>P2</td>\n",
       "      <td>9</td>\n",
       "    </tr>\n",
       "    <tr>\n",
       "      <th>2499996</th>\n",
       "      <td>2013-09-09</td>\n",
       "      <td>P2</td>\n",
       "      <td>9</td>\n",
       "    </tr>\n",
       "    <tr>\n",
       "      <th>2499997</th>\n",
       "      <td>2013-09-09</td>\n",
       "      <td>P2</td>\n",
       "      <td>9</td>\n",
       "    </tr>\n",
       "    <tr>\n",
       "      <th>2499998</th>\n",
       "      <td>2013-09-09</td>\n",
       "      <td>P2</td>\n",
       "      <td>9</td>\n",
       "    </tr>\n",
       "    <tr>\n",
       "      <th>2499999</th>\n",
       "      <td>2013-09-09</td>\n",
       "      <td>P2</td>\n",
       "      <td>9</td>\n",
       "    </tr>\n",
       "  </tbody>\n",
       "</table>\n",
       "<p>1250000 rows × 3 columns</p>\n",
       "</div>"
      ],
      "text/plain": [
       "\u001b[0;31mOut[1:2]: \u001b[0m\n",
       "                 A   B  C\n",
       "1250000 2013-05-08  P2  5\n",
       "1250001 2013-05-08  P2  5\n",
       "1250002 2013-05-08  P2  5\n",
       "1250003 2013-05-08  P2  5\n",
       "1250004 2013-05-08  P2  5\n",
       "...            ...  .. ..\n",
       "2499995 2013-09-09  P2  9\n",
       "2499996 2013-09-09  P2  9\n",
       "2499997 2013-09-09  P2  9\n",
       "2499998 2013-09-09  P2  9\n",
       "2499999 2013-09-09  P2  9\n",
       "\n",
       "[1250000 rows x 3 columns]"
      ]
     },
     "metadata": {
      "after": null,
      "completed": null,
      "data": {},
      "engine_id": 1,
      "engine_uuid": "f77ba894-db1e026119b2f532ebbeb620",
      "error": null,
      "execute_input": "import pandas as pd\nimport time\n\n@bodo.jit\ndef data_transform():\n    t0 = time.time()\n    df = pd.read_parquet(\"pd_example.pq\")\n    t1 = time.time()\n    df[\"B\"] = df.apply(lambda r: \"NA\" if pd.isna(r.A) else \"P1\" if r.A.month < 5 else \"P2\", axis=1)\n    df[\"C\"] = df.A.dt.month\n    t2 = time.time()\n    print(\"IO time: {:.2f}\".format(t2-t1))\n    print(\"Compute time: {:.2f}\".format(time.time()-t0))\n    print(\"Total time: {:.2f}\".format(time.time()-t0))\n    return df\n\ndata_transform()\n",
      "execute_result": {
       "data": {
        "text/html": "<div>\n<style scoped>\n    .dataframe tbody tr th:only-of-type {\n        vertical-align: middle;\n    }\n\n    .dataframe tbody tr th {\n        vertical-align: top;\n    }\n\n    .dataframe thead th {\n        text-align: right;\n    }\n</style>\n<table border=\"1\" class=\"dataframe\">\n  <thead>\n    <tr style=\"text-align: right;\">\n      <th></th>\n      <th>A</th>\n      <th>B</th>\n      <th>C</th>\n    </tr>\n  </thead>\n  <tbody>\n    <tr>\n      <th>1250000</th>\n      <td>2013-05-08</td>\n      <td>P2</td>\n      <td>5</td>\n    </tr>\n    <tr>\n      <th>1250001</th>\n      <td>2013-05-08</td>\n      <td>P2</td>\n      <td>5</td>\n    </tr>\n    <tr>\n      <th>1250002</th>\n      <td>2013-05-08</td>\n      <td>P2</td>\n      <td>5</td>\n    </tr>\n    <tr>\n      <th>1250003</th>\n      <td>2013-05-08</td>\n      <td>P2</td>\n      <td>5</td>\n    </tr>\n    <tr>\n      <th>1250004</th>\n      <td>2013-05-08</td>\n      <td>P2</td>\n      <td>5</td>\n    </tr>\n    <tr>\n      <th>...</th>\n      <td>...</td>\n      <td>...</td>\n      <td>...</td>\n    </tr>\n    <tr>\n      <th>2499995</th>\n      <td>2013-09-09</td>\n      <td>P2</td>\n      <td>9</td>\n    </tr>\n    <tr>\n      <th>2499996</th>\n      <td>2013-09-09</td>\n      <td>P2</td>\n      <td>9</td>\n    </tr>\n    <tr>\n      <th>2499997</th>\n      <td>2013-09-09</td>\n      <td>P2</td>\n      <td>9</td>\n    </tr>\n    <tr>\n      <th>2499998</th>\n      <td>2013-09-09</td>\n      <td>P2</td>\n      <td>9</td>\n    </tr>\n    <tr>\n      <th>2499999</th>\n      <td>2013-09-09</td>\n      <td>P2</td>\n      <td>9</td>\n    </tr>\n  </tbody>\n</table>\n<p>1250000 rows × 3 columns</p>\n</div>",
        "text/plain": "                 A   B  C\n1250000 2013-05-08  P2  5\n1250001 2013-05-08  P2  5\n1250002 2013-05-08  P2  5\n1250003 2013-05-08  P2  5\n1250004 2013-05-08  P2  5\n...            ...  .. ..\n2499995 2013-09-09  P2  9\n2499996 2013-09-09  P2  9\n2499997 2013-09-09  P2  9\n2499998 2013-09-09  P2  9\n2499999 2013-09-09  P2  9\n\n[1250000 rows x 3 columns]"
       },
       "execution_count": 2,
       "metadata": {}
      },
      "follow": null,
      "msg_id": null,
      "outputs": [],
      "received": null,
      "started": null,
      "status": null,
      "stderr": "",
      "stdout": "",
      "submitted": "2022-08-26T16:57:07.360035Z"
     },
     "output_type": "display_data"
    },
    {
     "data": {
      "text/html": [
       "<div>\n",
       "<style scoped>\n",
       "    .dataframe tbody tr th:only-of-type {\n",
       "        vertical-align: middle;\n",
       "    }\n",
       "\n",
       "    .dataframe tbody tr th {\n",
       "        vertical-align: top;\n",
       "    }\n",
       "\n",
       "    .dataframe thead th {\n",
       "        text-align: right;\n",
       "    }\n",
       "</style>\n",
       "<table border=\"1\" class=\"dataframe\">\n",
       "  <thead>\n",
       "    <tr style=\"text-align: right;\">\n",
       "      <th></th>\n",
       "      <th>A</th>\n",
       "      <th>B</th>\n",
       "      <th>C</th>\n",
       "    </tr>\n",
       "  </thead>\n",
       "  <tbody>\n",
       "    <tr>\n",
       "      <th>2500000</th>\n",
       "      <td>2013-09-10</td>\n",
       "      <td>P2</td>\n",
       "      <td>9</td>\n",
       "    </tr>\n",
       "    <tr>\n",
       "      <th>2500001</th>\n",
       "      <td>2013-09-10</td>\n",
       "      <td>P2</td>\n",
       "      <td>9</td>\n",
       "    </tr>\n",
       "    <tr>\n",
       "      <th>2500002</th>\n",
       "      <td>2013-09-10</td>\n",
       "      <td>P2</td>\n",
       "      <td>9</td>\n",
       "    </tr>\n",
       "    <tr>\n",
       "      <th>2500003</th>\n",
       "      <td>2013-09-10</td>\n",
       "      <td>P2</td>\n",
       "      <td>9</td>\n",
       "    </tr>\n",
       "    <tr>\n",
       "      <th>2500004</th>\n",
       "      <td>2013-09-10</td>\n",
       "      <td>P2</td>\n",
       "      <td>9</td>\n",
       "    </tr>\n",
       "    <tr>\n",
       "      <th>...</th>\n",
       "      <td>...</td>\n",
       "      <td>...</td>\n",
       "      <td>...</td>\n",
       "    </tr>\n",
       "    <tr>\n",
       "      <th>3749995</th>\n",
       "      <td>2014-01-12</td>\n",
       "      <td>P1</td>\n",
       "      <td>1</td>\n",
       "    </tr>\n",
       "    <tr>\n",
       "      <th>3749996</th>\n",
       "      <td>2014-01-12</td>\n",
       "      <td>P1</td>\n",
       "      <td>1</td>\n",
       "    </tr>\n",
       "    <tr>\n",
       "      <th>3749997</th>\n",
       "      <td>2014-01-12</td>\n",
       "      <td>P1</td>\n",
       "      <td>1</td>\n",
       "    </tr>\n",
       "    <tr>\n",
       "      <th>3749998</th>\n",
       "      <td>2014-01-12</td>\n",
       "      <td>P1</td>\n",
       "      <td>1</td>\n",
       "    </tr>\n",
       "    <tr>\n",
       "      <th>3749999</th>\n",
       "      <td>2014-01-12</td>\n",
       "      <td>P1</td>\n",
       "      <td>1</td>\n",
       "    </tr>\n",
       "  </tbody>\n",
       "</table>\n",
       "<p>1250000 rows × 3 columns</p>\n",
       "</div>"
      ],
      "text/plain": [
       "\u001b[0;31mOut[2:2]: \u001b[0m\n",
       "                 A   B  C\n",
       "2500000 2013-09-10  P2  9\n",
       "2500001 2013-09-10  P2  9\n",
       "2500002 2013-09-10  P2  9\n",
       "2500003 2013-09-10  P2  9\n",
       "2500004 2013-09-10  P2  9\n",
       "...            ...  .. ..\n",
       "3749995 2014-01-12  P1  1\n",
       "3749996 2014-01-12  P1  1\n",
       "3749997 2014-01-12  P1  1\n",
       "3749998 2014-01-12  P1  1\n",
       "3749999 2014-01-12  P1  1\n",
       "\n",
       "[1250000 rows x 3 columns]"
      ]
     },
     "metadata": {
      "after": [],
      "completed": "2022-08-26T16:57:13.465819Z",
      "data": {},
      "engine_id": 2,
      "engine_uuid": "609c3d25-a070e6ffd0c7b8268968ad3f",
      "error": null,
      "execute_input": "import pandas as pd\nimport time\n\n@bodo.jit\ndef data_transform():\n    t0 = time.time()\n    df = pd.read_parquet(\"pd_example.pq\")\n    t1 = time.time()\n    df[\"B\"] = df.apply(lambda r: \"NA\" if pd.isna(r.A) else \"P1\" if r.A.month < 5 else \"P2\", axis=1)\n    df[\"C\"] = df.A.dt.month\n    t2 = time.time()\n    print(\"IO time: {:.2f}\".format(t2-t1))\n    print(\"Compute time: {:.2f}\".format(time.time()-t0))\n    print(\"Total time: {:.2f}\".format(time.time()-t0))\n    return df\n\ndata_transform()\n",
      "execute_result": {
       "data": {
        "text/html": "<div>\n<style scoped>\n    .dataframe tbody tr th:only-of-type {\n        vertical-align: middle;\n    }\n\n    .dataframe tbody tr th {\n        vertical-align: top;\n    }\n\n    .dataframe thead th {\n        text-align: right;\n    }\n</style>\n<table border=\"1\" class=\"dataframe\">\n  <thead>\n    <tr style=\"text-align: right;\">\n      <th></th>\n      <th>A</th>\n      <th>B</th>\n      <th>C</th>\n    </tr>\n  </thead>\n  <tbody>\n    <tr>\n      <th>2500000</th>\n      <td>2013-09-10</td>\n      <td>P2</td>\n      <td>9</td>\n    </tr>\n    <tr>\n      <th>2500001</th>\n      <td>2013-09-10</td>\n      <td>P2</td>\n      <td>9</td>\n    </tr>\n    <tr>\n      <th>2500002</th>\n      <td>2013-09-10</td>\n      <td>P2</td>\n      <td>9</td>\n    </tr>\n    <tr>\n      <th>2500003</th>\n      <td>2013-09-10</td>\n      <td>P2</td>\n      <td>9</td>\n    </tr>\n    <tr>\n      <th>2500004</th>\n      <td>2013-09-10</td>\n      <td>P2</td>\n      <td>9</td>\n    </tr>\n    <tr>\n      <th>...</th>\n      <td>...</td>\n      <td>...</td>\n      <td>...</td>\n    </tr>\n    <tr>\n      <th>3749995</th>\n      <td>2014-01-12</td>\n      <td>P1</td>\n      <td>1</td>\n    </tr>\n    <tr>\n      <th>3749996</th>\n      <td>2014-01-12</td>\n      <td>P1</td>\n      <td>1</td>\n    </tr>\n    <tr>\n      <th>3749997</th>\n      <td>2014-01-12</td>\n      <td>P1</td>\n      <td>1</td>\n    </tr>\n    <tr>\n      <th>3749998</th>\n      <td>2014-01-12</td>\n      <td>P1</td>\n      <td>1</td>\n    </tr>\n    <tr>\n      <th>3749999</th>\n      <td>2014-01-12</td>\n      <td>P1</td>\n      <td>1</td>\n    </tr>\n  </tbody>\n</table>\n<p>1250000 rows × 3 columns</p>\n</div>",
        "text/plain": "                 A   B  C\n2500000 2013-09-10  P2  9\n2500001 2013-09-10  P2  9\n2500002 2013-09-10  P2  9\n2500003 2013-09-10  P2  9\n2500004 2013-09-10  P2  9\n...            ...  .. ..\n3749995 2014-01-12  P1  1\n3749996 2014-01-12  P1  1\n3749997 2014-01-12  P1  1\n3749998 2014-01-12  P1  1\n3749999 2014-01-12  P1  1\n\n[1250000 rows x 3 columns]"
       },
       "execution_count": 2,
       "metadata": {}
      },
      "follow": [],
      "is_broadcast": true,
      "is_coalescing": false,
      "msg_id": "04ed8dd6-3ffb54ce07ce38e17a4a58b5_28584_2_609c3d25-a070e6ffd0c7b8268968ad3f",
      "outputs": [],
      "received": "2022-08-26T16:57:13.471316Z",
      "started": "2022-08-26T16:57:07.363641Z",
      "status": "ok",
      "stderr": "",
      "stdout": "",
      "submitted": "2022-08-26T16:57:07.359891Z"
     },
     "output_type": "display_data"
    },
    {
     "data": {
      "text/html": [
       "<div>\n",
       "<style scoped>\n",
       "    .dataframe tbody tr th:only-of-type {\n",
       "        vertical-align: middle;\n",
       "    }\n",
       "\n",
       "    .dataframe tbody tr th {\n",
       "        vertical-align: top;\n",
       "    }\n",
       "\n",
       "    .dataframe thead th {\n",
       "        text-align: right;\n",
       "    }\n",
       "</style>\n",
       "<table border=\"1\" class=\"dataframe\">\n",
       "  <thead>\n",
       "    <tr style=\"text-align: right;\">\n",
       "      <th></th>\n",
       "      <th>A</th>\n",
       "      <th>B</th>\n",
       "      <th>C</th>\n",
       "    </tr>\n",
       "  </thead>\n",
       "  <tbody>\n",
       "    <tr>\n",
       "      <th>8750000</th>\n",
       "      <td>2015-05-28</td>\n",
       "      <td>P2</td>\n",
       "      <td>5</td>\n",
       "    </tr>\n",
       "    <tr>\n",
       "      <th>8750001</th>\n",
       "      <td>2015-05-28</td>\n",
       "      <td>P2</td>\n",
       "      <td>5</td>\n",
       "    </tr>\n",
       "    <tr>\n",
       "      <th>8750002</th>\n",
       "      <td>2015-05-28</td>\n",
       "      <td>P2</td>\n",
       "      <td>5</td>\n",
       "    </tr>\n",
       "    <tr>\n",
       "      <th>8750003</th>\n",
       "      <td>2015-05-28</td>\n",
       "      <td>P2</td>\n",
       "      <td>5</td>\n",
       "    </tr>\n",
       "    <tr>\n",
       "      <th>8750004</th>\n",
       "      <td>2015-05-28</td>\n",
       "      <td>P2</td>\n",
       "      <td>5</td>\n",
       "    </tr>\n",
       "    <tr>\n",
       "      <th>...</th>\n",
       "      <td>...</td>\n",
       "      <td>...</td>\n",
       "      <td>...</td>\n",
       "    </tr>\n",
       "    <tr>\n",
       "      <th>9999995</th>\n",
       "      <td>2015-09-29</td>\n",
       "      <td>P2</td>\n",
       "      <td>9</td>\n",
       "    </tr>\n",
       "    <tr>\n",
       "      <th>9999996</th>\n",
       "      <td>2015-09-29</td>\n",
       "      <td>P2</td>\n",
       "      <td>9</td>\n",
       "    </tr>\n",
       "    <tr>\n",
       "      <th>9999997</th>\n",
       "      <td>2015-09-29</td>\n",
       "      <td>P2</td>\n",
       "      <td>9</td>\n",
       "    </tr>\n",
       "    <tr>\n",
       "      <th>9999998</th>\n",
       "      <td>2015-09-29</td>\n",
       "      <td>P2</td>\n",
       "      <td>9</td>\n",
       "    </tr>\n",
       "    <tr>\n",
       "      <th>9999999</th>\n",
       "      <td>2015-09-29</td>\n",
       "      <td>P2</td>\n",
       "      <td>9</td>\n",
       "    </tr>\n",
       "  </tbody>\n",
       "</table>\n",
       "<p>1250000 rows × 3 columns</p>\n",
       "</div>"
      ],
      "text/plain": [
       "\u001b[0;31mOut[7:2]: \u001b[0m\n",
       "                 A   B  C\n",
       "8750000 2015-05-28  P2  5\n",
       "8750001 2015-05-28  P2  5\n",
       "8750002 2015-05-28  P2  5\n",
       "8750003 2015-05-28  P2  5\n",
       "8750004 2015-05-28  P2  5\n",
       "...            ...  .. ..\n",
       "9999995 2015-09-29  P2  9\n",
       "9999996 2015-09-29  P2  9\n",
       "9999997 2015-09-29  P2  9\n",
       "9999998 2015-09-29  P2  9\n",
       "9999999 2015-09-29  P2  9\n",
       "\n",
       "[1250000 rows x 3 columns]"
      ]
     },
     "metadata": {
      "after": [],
      "completed": "2022-08-26T16:57:13.467635Z",
      "data": {},
      "engine_id": 7,
      "engine_uuid": "4fad9493-dab89e632706434e94b9c2e2",
      "error": null,
      "execute_input": "import pandas as pd\nimport time\n\n@bodo.jit\ndef data_transform():\n    t0 = time.time()\n    df = pd.read_parquet(\"pd_example.pq\")\n    t1 = time.time()\n    df[\"B\"] = df.apply(lambda r: \"NA\" if pd.isna(r.A) else \"P1\" if r.A.month < 5 else \"P2\", axis=1)\n    df[\"C\"] = df.A.dt.month\n    t2 = time.time()\n    print(\"IO time: {:.2f}\".format(t2-t1))\n    print(\"Compute time: {:.2f}\".format(time.time()-t0))\n    print(\"Total time: {:.2f}\".format(time.time()-t0))\n    return df\n\ndata_transform()\n",
      "execute_result": {
       "data": {
        "text/html": "<div>\n<style scoped>\n    .dataframe tbody tr th:only-of-type {\n        vertical-align: middle;\n    }\n\n    .dataframe tbody tr th {\n        vertical-align: top;\n    }\n\n    .dataframe thead th {\n        text-align: right;\n    }\n</style>\n<table border=\"1\" class=\"dataframe\">\n  <thead>\n    <tr style=\"text-align: right;\">\n      <th></th>\n      <th>A</th>\n      <th>B</th>\n      <th>C</th>\n    </tr>\n  </thead>\n  <tbody>\n    <tr>\n      <th>8750000</th>\n      <td>2015-05-28</td>\n      <td>P2</td>\n      <td>5</td>\n    </tr>\n    <tr>\n      <th>8750001</th>\n      <td>2015-05-28</td>\n      <td>P2</td>\n      <td>5</td>\n    </tr>\n    <tr>\n      <th>8750002</th>\n      <td>2015-05-28</td>\n      <td>P2</td>\n      <td>5</td>\n    </tr>\n    <tr>\n      <th>8750003</th>\n      <td>2015-05-28</td>\n      <td>P2</td>\n      <td>5</td>\n    </tr>\n    <tr>\n      <th>8750004</th>\n      <td>2015-05-28</td>\n      <td>P2</td>\n      <td>5</td>\n    </tr>\n    <tr>\n      <th>...</th>\n      <td>...</td>\n      <td>...</td>\n      <td>...</td>\n    </tr>\n    <tr>\n      <th>9999995</th>\n      <td>2015-09-29</td>\n      <td>P2</td>\n      <td>9</td>\n    </tr>\n    <tr>\n      <th>9999996</th>\n      <td>2015-09-29</td>\n      <td>P2</td>\n      <td>9</td>\n    </tr>\n    <tr>\n      <th>9999997</th>\n      <td>2015-09-29</td>\n      <td>P2</td>\n      <td>9</td>\n    </tr>\n    <tr>\n      <th>9999998</th>\n      <td>2015-09-29</td>\n      <td>P2</td>\n      <td>9</td>\n    </tr>\n    <tr>\n      <th>9999999</th>\n      <td>2015-09-29</td>\n      <td>P2</td>\n      <td>9</td>\n    </tr>\n  </tbody>\n</table>\n<p>1250000 rows × 3 columns</p>\n</div>",
        "text/plain": "                 A   B  C\n8750000 2015-05-28  P2  5\n8750001 2015-05-28  P2  5\n8750002 2015-05-28  P2  5\n8750003 2015-05-28  P2  5\n8750004 2015-05-28  P2  5\n...            ...  .. ..\n9999995 2015-09-29  P2  9\n9999996 2015-09-29  P2  9\n9999997 2015-09-29  P2  9\n9999998 2015-09-29  P2  9\n9999999 2015-09-29  P2  9\n\n[1250000 rows x 3 columns]"
       },
       "execution_count": 2,
       "metadata": {}
      },
      "follow": [],
      "is_broadcast": true,
      "is_coalescing": false,
      "msg_id": "04ed8dd6-3ffb54ce07ce38e17a4a58b5_28584_2_4fad9493-dab89e632706434e94b9c2e2",
      "outputs": [],
      "received": "2022-08-26T16:57:13.473817Z",
      "started": "2022-08-26T16:57:07.363741Z",
      "status": "ok",
      "stderr": "",
      "stdout": "",
      "submitted": "2022-08-26T16:57:07.359891Z"
     },
     "output_type": "display_data"
    },
    {
     "data": {
      "text/html": [
       "<div>\n",
       "<style scoped>\n",
       "    .dataframe tbody tr th:only-of-type {\n",
       "        vertical-align: middle;\n",
       "    }\n",
       "\n",
       "    .dataframe tbody tr th {\n",
       "        vertical-align: top;\n",
       "    }\n",
       "\n",
       "    .dataframe thead th {\n",
       "        text-align: right;\n",
       "    }\n",
       "</style>\n",
       "<table border=\"1\" class=\"dataframe\">\n",
       "  <thead>\n",
       "    <tr style=\"text-align: right;\">\n",
       "      <th></th>\n",
       "      <th>A</th>\n",
       "      <th>B</th>\n",
       "      <th>C</th>\n",
       "    </tr>\n",
       "  </thead>\n",
       "  <tbody>\n",
       "    <tr>\n",
       "      <th>6250000</th>\n",
       "      <td>2014-09-20</td>\n",
       "      <td>P2</td>\n",
       "      <td>9</td>\n",
       "    </tr>\n",
       "    <tr>\n",
       "      <th>6250001</th>\n",
       "      <td>2014-09-20</td>\n",
       "      <td>P2</td>\n",
       "      <td>9</td>\n",
       "    </tr>\n",
       "    <tr>\n",
       "      <th>6250002</th>\n",
       "      <td>2014-09-20</td>\n",
       "      <td>P2</td>\n",
       "      <td>9</td>\n",
       "    </tr>\n",
       "    <tr>\n",
       "      <th>6250003</th>\n",
       "      <td>2014-09-20</td>\n",
       "      <td>P2</td>\n",
       "      <td>9</td>\n",
       "    </tr>\n",
       "    <tr>\n",
       "      <th>6250004</th>\n",
       "      <td>2014-09-20</td>\n",
       "      <td>P2</td>\n",
       "      <td>9</td>\n",
       "    </tr>\n",
       "    <tr>\n",
       "      <th>...</th>\n",
       "      <td>...</td>\n",
       "      <td>...</td>\n",
       "      <td>...</td>\n",
       "    </tr>\n",
       "    <tr>\n",
       "      <th>7499995</th>\n",
       "      <td>2015-01-22</td>\n",
       "      <td>P1</td>\n",
       "      <td>1</td>\n",
       "    </tr>\n",
       "    <tr>\n",
       "      <th>7499996</th>\n",
       "      <td>2015-01-22</td>\n",
       "      <td>P1</td>\n",
       "      <td>1</td>\n",
       "    </tr>\n",
       "    <tr>\n",
       "      <th>7499997</th>\n",
       "      <td>2015-01-22</td>\n",
       "      <td>P1</td>\n",
       "      <td>1</td>\n",
       "    </tr>\n",
       "    <tr>\n",
       "      <th>7499998</th>\n",
       "      <td>2015-01-22</td>\n",
       "      <td>P1</td>\n",
       "      <td>1</td>\n",
       "    </tr>\n",
       "    <tr>\n",
       "      <th>7499999</th>\n",
       "      <td>2015-01-22</td>\n",
       "      <td>P1</td>\n",
       "      <td>1</td>\n",
       "    </tr>\n",
       "  </tbody>\n",
       "</table>\n",
       "<p>1250000 rows × 3 columns</p>\n",
       "</div>"
      ],
      "text/plain": [
       "\u001b[0;31mOut[5:2]: \u001b[0m\n",
       "                 A   B  C\n",
       "6250000 2014-09-20  P2  9\n",
       "6250001 2014-09-20  P2  9\n",
       "6250002 2014-09-20  P2  9\n",
       "6250003 2014-09-20  P2  9\n",
       "6250004 2014-09-20  P2  9\n",
       "...            ...  .. ..\n",
       "7499995 2015-01-22  P1  1\n",
       "7499996 2015-01-22  P1  1\n",
       "7499997 2015-01-22  P1  1\n",
       "7499998 2015-01-22  P1  1\n",
       "7499999 2015-01-22  P1  1\n",
       "\n",
       "[1250000 rows x 3 columns]"
      ]
     },
     "metadata": {
      "after": [],
      "completed": "2022-08-26T16:57:13.469494Z",
      "data": {},
      "engine_id": 5,
      "engine_uuid": "8248b976-229201475d88ca7bf5ad7423",
      "error": null,
      "execute_input": "import pandas as pd\nimport time\n\n@bodo.jit\ndef data_transform():\n    t0 = time.time()\n    df = pd.read_parquet(\"pd_example.pq\")\n    t1 = time.time()\n    df[\"B\"] = df.apply(lambda r: \"NA\" if pd.isna(r.A) else \"P1\" if r.A.month < 5 else \"P2\", axis=1)\n    df[\"C\"] = df.A.dt.month\n    t2 = time.time()\n    print(\"IO time: {:.2f}\".format(t2-t1))\n    print(\"Compute time: {:.2f}\".format(time.time()-t0))\n    print(\"Total time: {:.2f}\".format(time.time()-t0))\n    return df\n\ndata_transform()\n",
      "execute_result": {
       "data": {
        "text/html": "<div>\n<style scoped>\n    .dataframe tbody tr th:only-of-type {\n        vertical-align: middle;\n    }\n\n    .dataframe tbody tr th {\n        vertical-align: top;\n    }\n\n    .dataframe thead th {\n        text-align: right;\n    }\n</style>\n<table border=\"1\" class=\"dataframe\">\n  <thead>\n    <tr style=\"text-align: right;\">\n      <th></th>\n      <th>A</th>\n      <th>B</th>\n      <th>C</th>\n    </tr>\n  </thead>\n  <tbody>\n    <tr>\n      <th>6250000</th>\n      <td>2014-09-20</td>\n      <td>P2</td>\n      <td>9</td>\n    </tr>\n    <tr>\n      <th>6250001</th>\n      <td>2014-09-20</td>\n      <td>P2</td>\n      <td>9</td>\n    </tr>\n    <tr>\n      <th>6250002</th>\n      <td>2014-09-20</td>\n      <td>P2</td>\n      <td>9</td>\n    </tr>\n    <tr>\n      <th>6250003</th>\n      <td>2014-09-20</td>\n      <td>P2</td>\n      <td>9</td>\n    </tr>\n    <tr>\n      <th>6250004</th>\n      <td>2014-09-20</td>\n      <td>P2</td>\n      <td>9</td>\n    </tr>\n    <tr>\n      <th>...</th>\n      <td>...</td>\n      <td>...</td>\n      <td>...</td>\n    </tr>\n    <tr>\n      <th>7499995</th>\n      <td>2015-01-22</td>\n      <td>P1</td>\n      <td>1</td>\n    </tr>\n    <tr>\n      <th>7499996</th>\n      <td>2015-01-22</td>\n      <td>P1</td>\n      <td>1</td>\n    </tr>\n    <tr>\n      <th>7499997</th>\n      <td>2015-01-22</td>\n      <td>P1</td>\n      <td>1</td>\n    </tr>\n    <tr>\n      <th>7499998</th>\n      <td>2015-01-22</td>\n      <td>P1</td>\n      <td>1</td>\n    </tr>\n    <tr>\n      <th>7499999</th>\n      <td>2015-01-22</td>\n      <td>P1</td>\n      <td>1</td>\n    </tr>\n  </tbody>\n</table>\n<p>1250000 rows × 3 columns</p>\n</div>",
        "text/plain": "                 A   B  C\n6250000 2014-09-20  P2  9\n6250001 2014-09-20  P2  9\n6250002 2014-09-20  P2  9\n6250003 2014-09-20  P2  9\n6250004 2014-09-20  P2  9\n...            ...  .. ..\n7499995 2015-01-22  P1  1\n7499996 2015-01-22  P1  1\n7499997 2015-01-22  P1  1\n7499998 2015-01-22  P1  1\n7499999 2015-01-22  P1  1\n\n[1250000 rows x 3 columns]"
       },
       "execution_count": 2,
       "metadata": {}
      },
      "follow": [],
      "is_broadcast": true,
      "is_coalescing": false,
      "msg_id": "04ed8dd6-3ffb54ce07ce38e17a4a58b5_28584_2_8248b976-229201475d88ca7bf5ad7423",
      "outputs": [],
      "received": "2022-08-26T16:57:13.474224Z",
      "started": "2022-08-26T16:57:07.363677Z",
      "status": "ok",
      "stderr": "",
      "stdout": "",
      "submitted": "2022-08-26T16:57:07.359891Z"
     },
     "output_type": "display_data"
    }
   ],
   "source": [
    "%%px\n",
    "import pandas as pd\n",
    "import time\n",
    "\n",
    "@bodo.jit\n",
    "def data_transform():\n",
    "    t0 = time.time()\n",
    "    df = pd.read_parquet(\"pd_example.pq\")\n",
    "    t1 = time.time()\n",
    "    df[\"B\"] = df.apply(lambda r: \"NA\" if pd.isna(r.A) else \"P1\" if r.A.month < 5 else \"P2\", axis=1)\n",
    "    df[\"C\"] = df.A.dt.month\n",
    "    t2 = time.time()\n",
    "    print(\"IO time: {:.2f}\".format(t2-t1))\n",
    "    print(\"Compute time: {:.2f}\".format(time.time()-t0))\n",
    "    print(\"Total time: {:.2f}\".format(time.time()-t0))\n",
    "    return df\n",
    "\n",
    "data_transform()"
   ]
  },
  {
   "cell_type": "markdown",
   "metadata": {
    "pycharm": {
     "name": "#%% md\n"
    }
   },
   "source": [
    "Although the program appears to be a regular sequential Python program, Bodo compiles and *transforms* the decorated code (the `data_transform` function in this example) under the hood, so that it can run in parallel on many cores across the cluster. Each core operates on a different chunk of the data and communicates with other cores when necessary. The speedup depends on the data and program characteristics, as well as the number of cores used. Usually, we can continue scaling to many more cores as long as the data is large enough."
   ]
  },
  {
   "cell_type": "markdown",
   "metadata": {
    "pycharm": {
     "name": "#%% md\n"
    }
   },
   "source": [
    "### Compilation Time and Caching\n",
    "Bodo’s JIT workflow compiles the function the first time it is called, but reuses the compiled version for subsequent calls. In the previous example, we added timers inside the function to avoid measuring compilation time. Let’s move the timers outside and call the function twice:"
   ]
  },
  {
   "cell_type": "code",
   "execution_count": 6,
   "metadata": {
    "execution": {
     "iopub.execute_input": "2022-08-26T16:57:13.480951Z",
     "iopub.status.busy": "2022-08-26T16:57:13.480715Z",
     "iopub.status.idle": "2022-08-26T16:57:20.263269Z",
     "shell.execute_reply": "2022-08-26T16:57:20.262756Z",
     "shell.execute_reply.started": "2022-08-26T16:57:13.480933Z"
    },
    "pycharm": {
     "name": "#%%\n"
    },
    "tags": []
   },
   "outputs": [
    {
     "name": "stdout",
     "output_type": "stream",
     "text": [
      "Total time first call: 4.69\n",
      "Total time second call: 2.08\n"
     ]
    }
   ],
   "source": [
    "@bodo.jit\n",
    "def data_transform():\n",
    "    df = pd.read_parquet(\"pd_example.pq\")\n",
    "    df[\"B\"] = df.apply(lambda r: \"NA\" if pd.isna(r.A) else \"P1\" if r.A.month < 5 else \"P2\", axis=1)\n",
    "    df[\"C\"] = df.A.dt.month\n",
    "    df.to_parquet(\"bodo_output.pq\")\n",
    "\n",
    "\n",
    "t0 = time.time()\n",
    "data_transform()\n",
    "print(\"Total time first call: {:.2f}\".format(time.time()-t0))\n",
    "t0 = time.time()\n",
    "data_transform()\n",
    "print(\"Total time second call: {:.2f}\".format(time.time()-t0))"
   ]
  },
  {
   "cell_type": "markdown",
   "metadata": {
    "pycharm": {
     "name": "#%% md\n"
    }
   },
   "source": [
    "The first call is slower due to compilation of the function, but the second call reuses the compiled version and runs faster. See our docs on [caching](https://docs.bodo.ai/latest/performance/caching/?h=caching) for more information."
   ]
  },
  {
   "cell_type": "markdown",
   "metadata": {
    "pycharm": {
     "name": "#%% md\n"
    }
   },
   "source": [
    "### Parallel Python Processes\n",
    "\n",
    "\n",
    "Bodo uses the MPI parallelism model, which runs the full program on all cores from the beginning. Essentially, identical Python processes are launched on all the cores, and Bodo divides the data and computation in JIT functions to exploit any possible parallelism."
   ]
  },
  {
   "cell_type": "code",
   "execution_count": 7,
   "metadata": {
    "execution": {
     "iopub.execute_input": "2022-08-26T16:57:20.264037Z",
     "iopub.status.busy": "2022-08-26T16:57:20.263799Z",
     "iopub.status.idle": "2022-08-26T16:57:21.234941Z",
     "shell.execute_reply": "2022-08-26T16:57:21.234508Z",
     "shell.execute_reply.started": "2022-08-26T16:57:20.264017Z"
    },
    "pycharm": {
     "name": "#%%\n"
    }
   },
   "outputs": [
    {
     "data": {
      "text/plain": [
       "[stdout:0] pandas dataframe: \n",
       "                  A        B\n",
       "0              NaT        0\n",
       "1       2013-01-03        1\n",
       "2       2013-01-03        2\n",
       "3              NaT        3\n",
       "4       2013-01-03        4\n",
       "...            ...      ...\n",
       "9999995 2015-09-29  9999995\n",
       "9999996 2015-09-29  9999996\n",
       "9999997 2015-09-29  9999997\n",
       "9999998 2015-09-29  9999998\n",
       "9999999 2015-09-29  9999999\n",
       "\n",
       "[10000000 rows x 2 columns]\n",
       "Bodo dataframe: \n",
       "                  A        B\n",
       "0              NaT        0\n",
       "1       2013-01-03        1\n",
       "2       2013-01-03        2\n",
       "3              NaT        3\n",
       "4       2013-01-03        4\n",
       "...            ...      ...\n",
       "1249995 2013-05-07  1249995\n",
       "1249996 2013-05-07  1249996\n",
       "1249997 2013-05-07  1249997\n",
       "1249998 2013-05-07  1249998\n",
       "1249999 2013-05-07  1249999\n",
       "\n",
       "[1250000 rows x 2 columns]\n"
      ]
     },
     "metadata": {},
     "output_type": "display_data"
    },
    {
     "data": {
      "text/plain": [
       "[stdout:6] pandas dataframe: \n",
       "                  A        B\n",
       "0              NaT        0\n",
       "1       2013-01-03        1\n",
       "2       2013-01-03        2\n",
       "3              NaT        3\n",
       "4       2013-01-03        4\n",
       "...            ...      ...\n",
       "9999995 2015-09-29  9999995\n",
       "9999996 2015-09-29  9999996\n",
       "9999997 2015-09-29  9999997\n",
       "9999998 2015-09-29  9999998\n",
       "9999999 2015-09-29  9999999\n",
       "\n",
       "[10000000 rows x 2 columns]\n",
       "Bodo dataframe: \n",
       "                  A        B\n",
       "7500000 2015-01-23  7500000\n",
       "7500001 2015-01-23  7500001\n",
       "7500002 2015-01-23  7500002\n",
       "7500003 2015-01-23  7500003\n",
       "7500004 2015-01-23  7500004\n",
       "...            ...      ...\n",
       "8749995 2015-05-27  8749995\n",
       "8749996 2015-05-27  8749996\n",
       "8749997 2015-05-27  8749997\n",
       "8749998 2015-05-27  8749998\n",
       "8749999 2015-05-27  8749999\n",
       "\n",
       "[1250000 rows x 2 columns]\n"
      ]
     },
     "metadata": {},
     "output_type": "display_data"
    },
    {
     "data": {
      "text/plain": [
       "[stdout:3] pandas dataframe: \n",
       "                  A        B\n",
       "0              NaT        0\n",
       "1       2013-01-03        1\n",
       "2       2013-01-03        2\n",
       "3              NaT        3\n",
       "4       2013-01-03        4\n",
       "...            ...      ...\n",
       "9999995 2015-09-29  9999995\n",
       "9999996 2015-09-29  9999996\n",
       "9999997 2015-09-29  9999997\n",
       "9999998 2015-09-29  9999998\n",
       "9999999 2015-09-29  9999999\n",
       "\n",
       "[10000000 rows x 2 columns]\n",
       "Bodo dataframe: \n",
       "                  A        B\n",
       "3750000 2014-01-13  3750000\n",
       "3750001 2014-01-13  3750001\n",
       "3750002 2014-01-13  3750002\n",
       "3750003 2014-01-13  3750003\n",
       "3750004 2014-01-13  3750004\n",
       "...            ...      ...\n",
       "4999995 2014-05-17  4999995\n",
       "4999996 2014-05-17  4999996\n",
       "4999997 2014-05-17  4999997\n",
       "4999998 2014-05-17  4999998\n",
       "4999999 2014-05-17  4999999\n",
       "\n",
       "[1250000 rows x 2 columns]\n"
      ]
     },
     "metadata": {},
     "output_type": "display_data"
    },
    {
     "data": {
      "text/plain": [
       "[stdout:4] pandas dataframe: \n",
       "                  A        B\n",
       "0              NaT        0\n",
       "1       2013-01-03        1\n",
       "2       2013-01-03        2\n",
       "3              NaT        3\n",
       "4       2013-01-03        4\n",
       "...            ...      ...\n",
       "9999995 2015-09-29  9999995\n",
       "9999996 2015-09-29  9999996\n",
       "9999997 2015-09-29  9999997\n",
       "9999998 2015-09-29  9999998\n",
       "9999999 2015-09-29  9999999\n",
       "\n",
       "[10000000 rows x 2 columns]\n",
       "Bodo dataframe: \n",
       "                  A        B\n",
       "5000000 2014-05-18  5000000\n",
       "5000001 2014-05-18  5000001\n",
       "5000002 2014-05-18  5000002\n",
       "5000003 2014-05-18  5000003\n",
       "5000004 2014-05-18  5000004\n",
       "...            ...      ...\n",
       "6249995 2014-09-19  6249995\n",
       "6249996 2014-09-19  6249996\n",
       "6249997 2014-09-19  6249997\n",
       "6249998 2014-09-19  6249998\n",
       "6249999 2014-09-19  6249999\n",
       "\n",
       "[1250000 rows x 2 columns]\n"
      ]
     },
     "metadata": {},
     "output_type": "display_data"
    },
    {
     "data": {
      "text/plain": [
       "[stdout:1] pandas dataframe: \n",
       "                  A        B\n",
       "0              NaT        0\n",
       "1       2013-01-03        1\n",
       "2       2013-01-03        2\n",
       "3              NaT        3\n",
       "4       2013-01-03        4\n",
       "...            ...      ...\n",
       "9999995 2015-09-29  9999995\n",
       "9999996 2015-09-29  9999996\n",
       "9999997 2015-09-29  9999997\n",
       "9999998 2015-09-29  9999998\n",
       "9999999 2015-09-29  9999999\n",
       "\n",
       "[10000000 rows x 2 columns]\n",
       "Bodo dataframe: \n",
       "                  A        B\n",
       "1250000 2013-05-08  1250000\n",
       "1250001 2013-05-08  1250001\n",
       "1250002 2013-05-08  1250002\n",
       "1250003 2013-05-08  1250003\n",
       "1250004 2013-05-08  1250004\n",
       "...            ...      ...\n",
       "2499995 2013-09-09  2499995\n",
       "2499996 2013-09-09  2499996\n",
       "2499997 2013-09-09  2499997\n",
       "2499998 2013-09-09  2499998\n",
       "2499999 2013-09-09  2499999\n",
       "\n",
       "[1250000 rows x 2 columns]\n"
      ]
     },
     "metadata": {},
     "output_type": "display_data"
    },
    {
     "data": {
      "text/plain": [
       "[stdout:7] pandas dataframe: \n",
       "                  A        B\n",
       "0              NaT        0\n",
       "1       2013-01-03        1\n",
       "2       2013-01-03        2\n",
       "3              NaT        3\n",
       "4       2013-01-03        4\n",
       "...            ...      ...\n",
       "9999995 2015-09-29  9999995\n",
       "9999996 2015-09-29  9999996\n",
       "9999997 2015-09-29  9999997\n",
       "9999998 2015-09-29  9999998\n",
       "9999999 2015-09-29  9999999\n",
       "\n",
       "[10000000 rows x 2 columns]\n",
       "Bodo dataframe: \n",
       "                  A        B\n",
       "8750000 2015-05-28  8750000\n",
       "8750001 2015-05-28  8750001\n",
       "8750002 2015-05-28  8750002\n",
       "8750003 2015-05-28  8750003\n",
       "8750004 2015-05-28  8750004\n",
       "...            ...      ...\n",
       "9999995 2015-09-29  9999995\n",
       "9999996 2015-09-29  9999996\n",
       "9999997 2015-09-29  9999997\n",
       "9999998 2015-09-29  9999998\n",
       "9999999 2015-09-29  9999999\n",
       "\n",
       "[1250000 rows x 2 columns]\n"
      ]
     },
     "metadata": {},
     "output_type": "display_data"
    },
    {
     "data": {
      "text/plain": [
       "[stdout:2] pandas dataframe: \n",
       "                  A        B\n",
       "0              NaT        0\n",
       "1       2013-01-03        1\n",
       "2       2013-01-03        2\n",
       "3              NaT        3\n",
       "4       2013-01-03        4\n",
       "...            ...      ...\n",
       "9999995 2015-09-29  9999995\n",
       "9999996 2015-09-29  9999996\n",
       "9999997 2015-09-29  9999997\n",
       "9999998 2015-09-29  9999998\n",
       "9999999 2015-09-29  9999999\n",
       "\n",
       "[10000000 rows x 2 columns]\n",
       "Bodo dataframe: \n",
       "                  A        B\n",
       "2500000 2013-09-10  2500000\n",
       "2500001 2013-09-10  2500001\n",
       "2500002 2013-09-10  2500002\n",
       "2500003 2013-09-10  2500003\n",
       "2500004 2013-09-10  2500004\n",
       "...            ...      ...\n",
       "3749995 2014-01-12  3749995\n",
       "3749996 2014-01-12  3749996\n",
       "3749997 2014-01-12  3749997\n",
       "3749998 2014-01-12  3749998\n",
       "3749999 2014-01-12  3749999\n",
       "\n",
       "[1250000 rows x 2 columns]\n"
      ]
     },
     "metadata": {},
     "output_type": "display_data"
    },
    {
     "data": {
      "text/plain": [
       "[stdout:5] pandas dataframe: \n",
       "                  A        B\n",
       "0              NaT        0\n",
       "1       2013-01-03        1\n",
       "2       2013-01-03        2\n",
       "3              NaT        3\n",
       "4       2013-01-03        4\n",
       "...            ...      ...\n",
       "9999995 2015-09-29  9999995\n",
       "9999996 2015-09-29  9999996\n",
       "9999997 2015-09-29  9999997\n",
       "9999998 2015-09-29  9999998\n",
       "9999999 2015-09-29  9999999\n",
       "\n",
       "[10000000 rows x 2 columns]\n",
       "Bodo dataframe: \n",
       "                  A        B\n",
       "6250000 2014-09-20  6250000\n",
       "6250001 2014-09-20  6250001\n",
       "6250002 2014-09-20  6250002\n",
       "6250003 2014-09-20  6250003\n",
       "6250004 2014-09-20  6250004\n",
       "...            ...      ...\n",
       "7499995 2015-01-22  7499995\n",
       "7499996 2015-01-22  7499996\n",
       "7499997 2015-01-22  7499997\n",
       "7499998 2015-01-22  7499998\n",
       "7499999 2015-01-22  7499999\n",
       "\n",
       "[1250000 rows x 2 columns]\n"
      ]
     },
     "metadata": {},
     "output_type": "display_data"
    }
   ],
   "source": [
    "%%px\n",
    "\n",
    "def load_data_pandas():\n",
    "    df = pd.read_parquet(\"pd_example.pq\")\n",
    "    print(\"pandas dataframe: \\n\", df)\n",
    "\n",
    "@bodo.jit\n",
    "def load_data_bodo():\n",
    "    df = pd.read_parquet(\"pd_example.pq\")\n",
    "    print(\"Bodo dataframe: \\n\", df)\n",
    "\n",
    "load_data_pandas()\n",
    "load_data_bodo()"
   ]
  },
  {
   "cell_type": "markdown",
   "metadata": {
    "pycharm": {
     "name": "#%% md\n"
    }
   },
   "source": [
    "\n",
    "\n",
    "The first eight dataframes printed in the output are regular Pandas dataframes which are *replicated* on both processes and have all 10 million rows. However, the last eight dataframes printed are Bodo parallelized Pandas dataframes, with 1.25 million rows each. In this case, Bodo parallelizes `read_parquet` automatically and loads different chunks of data into different cores. Therefore, the non-JIT parts of the Python program are *replicated* across cores whereas Bodo JIT functions are *parallelized*. \n",
    "\n"
   ]
  },
  {
   "cell_type": "markdown",
   "metadata": {
    "pycharm": {
     "name": "#%% md\n"
    }
   },
   "source": [
    "### Parallel Computation\n",
    "Bodo automatically divides computation and manages communication across cores as this example demonstrates:"
   ]
  },
  {
   "cell_type": "code",
   "execution_count": 8,
   "metadata": {
    "execution": {
     "iopub.execute_input": "2022-08-26T16:57:21.235645Z",
     "iopub.status.busy": "2022-08-26T16:57:21.235409Z",
     "iopub.status.idle": "2022-08-26T16:57:21.249431Z",
     "shell.execute_reply": "2022-08-26T16:57:21.248995Z",
     "shell.execute_reply.started": "2022-08-26T16:57:21.235627Z"
    },
    "pycharm": {
     "name": "#%%\n"
    }
   },
   "outputs": [],
   "source": [
    "%%px\n",
    "\n",
    "@bodo.jit\n",
    "def data_groupby():\n",
    "    df = pd.read_parquet(\"pd_example.pq\")\n",
    "    df2 = df.groupby(\"A\", as_index=False).sum()\n",
    "    print(df2)"
   ]
  },
  {
   "cell_type": "markdown",
   "metadata": {
    "pycharm": {
     "name": "#%% md\n"
    }
   },
   "source": [
    "\n",
    "![Groupby shuffle communication pattern](img/groupby_comm.svg)\n",
    "\n",
    "This program uses groupby which requires rows with the same key to be aggregated together. Therefore, Bodo shuffles the data automatically under the hood, and the user doesn’t need to worry about parallelism challenges like communication.\n",
    "\n",
    "\n",
    "***NOTE: We recommend reading the section on [Bodo's JIT requirements](https://docs.bodo.ai/latest/dev_guide/#bodo-jit-requirements) in our docs before using Bodo for your own data applications.***  "
   ]
  },
  {
   "cell_type": "markdown",
   "metadata": {
    "execution": {
     "iopub.execute_input": "2022-08-26T16:40:56.074854Z",
     "iopub.status.busy": "2022-08-26T16:40:56.074257Z",
     "iopub.status.idle": "2022-08-26T16:40:56.082000Z",
     "shell.execute_reply": "2022-08-26T16:40:56.081421Z",
     "shell.execute_reply.started": "2022-08-26T16:40:56.074826Z"
    }
   },
   "source": [
    "----\n",
    "\n",
    "If you've made it this far, you have now finished your first parallel computation with Bodo, and learned a few basics of parallelism with Bodo! Please consider joining our [community slack](https://bodocommunity.slack.com/join/shared_invite/zt-qwdc8fad-6rZ8a1RmkkJ6eOX1X__knA#/shared-invite/email) to get in touch directly with our engineers and other Bodo users like yourself. "
   ]
  }
 ],
 "metadata": {
  "interpreter": {
   "hash": "c055ab4e8dcaec5bc09e1db7dc9ba0af7856e6dca0079f8d0a35c557fbc4193a"
  },
  "kernelspec": {
   "display_name": "SSH 10.30.6.219 Remote-Kernel",
   "language": "",
   "name": "rik_ssh_10_30_6_219_remotekernel"
  },
  "language_info": {
   "codemirror_mode": {
    "name": "ipython",
    "version": 3
   },
   "file_extension": ".py",
   "mimetype": "text/x-python",
   "name": "python",
   "nbconvert_exporter": "python",
   "pygments_lexer": "ipython3",
   "version": "3.9.12"
  }
 },
 "nbformat": 4,
 "nbformat_minor": 4
}
