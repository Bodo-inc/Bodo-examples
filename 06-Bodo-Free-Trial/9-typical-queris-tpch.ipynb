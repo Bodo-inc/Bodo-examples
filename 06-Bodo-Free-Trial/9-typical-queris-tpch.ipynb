{
 "cells": [
  {
   "cell_type": "markdown",
   "metadata": {},
   "source": [
    "# TPC-H\n",
    "\n",
    "TPC-H is a decision support benchmark that offers business-oriented ad hoc queries.\n",
    "More information can be found [here](http://www.tpc.org/tpch)\n",
    "\n",
    "The queries are originally in SQL format and here they are implemented using the pandas API.\n",
    "\n",
    "By defaults runs use Bodo. Hence, data is distributed in chunks across processes.\n",
    "\n",
    "Dataset size is 2GB.\n",
    "\n",
    "There's a larger dataset available on \"s3://bodo-example-data/tpch/s4/\" which is 4GB. \n",
    "\n",
    "\n",
    "**To scale and run your application with multiple nodes you can use [Bodo platform](https://platform.bodo.ai/account/login)**"
   ]
  },
  {
   "cell_type": "markdown",
   "metadata": {},
   "source": [
    "The following code imports bodo and verifies that the IPyParallel cluster is set up correctly"
   ]
  },
  {
   "cell_type": "code",
   "execution_count": 4,
   "metadata": {
    "execution": {
     "iopub.execute_input": "2022-04-25T15:43:13.001354Z",
     "iopub.status.busy": "2022-04-25T15:43:13.001101Z",
     "iopub.status.idle": "2022-04-25T15:43:13.021303Z",
     "shell.execute_reply": "2022-04-25T15:43:13.020673Z",
     "shell.execute_reply.started": "2022-04-25T15:43:13.001332Z"
    }
   },
   "outputs": [
    {
     "data": {
      "text/plain": [
       "[stdout:3] Hello World from rank 3. Total ranks=8\n"
      ]
     },
     "metadata": {},
     "output_type": "display_data"
    },
    {
     "data": {
      "text/plain": [
       "[stdout:5] Hello World from rank 5. Total ranks=8\n"
      ]
     },
     "metadata": {},
     "output_type": "display_data"
    },
    {
     "data": {
      "text/plain": [
       "[stdout:1] Hello World from rank 1. Total ranks=8\n"
      ]
     },
     "metadata": {},
     "output_type": "display_data"
    },
    {
     "data": {
      "text/plain": [
       "[stdout:2] Hello World from rank 2. Total ranks=8\n"
      ]
     },
     "metadata": {},
     "output_type": "display_data"
    },
    {
     "data": {
      "text/plain": [
       "[stdout:7] Hello World from rank 7. Total ranks=8\n"
      ]
     },
     "metadata": {},
     "output_type": "display_data"
    },
    {
     "data": {
      "text/plain": [
       "[stdout:4] Hello World from rank 4. Total ranks=8\n"
      ]
     },
     "metadata": {},
     "output_type": "display_data"
    },
    {
     "data": {
      "text/plain": [
       "[stdout:0] Hello World from rank 0. Total ranks=8\n"
      ]
     },
     "metadata": {},
     "output_type": "display_data"
    },
    {
     "data": {
      "text/plain": [
       "[stdout:6] Hello World from rank 6. Total ranks=8\n"
      ]
     },
     "metadata": {},
     "output_type": "display_data"
    }
   ],
   "source": [
    "%%px\n",
    "import bodo\n",
    "import time\n",
    "import numpy as np\n",
    "import pandas as pd\n",
    "\n",
    "print(f\"Hello World from rank {bodo.get_rank()}. Total ranks={bodo.get_size()}\")"
   ]
  },
  {
   "cell_type": "markdown",
   "metadata": {},
   "source": [
    "<a id=\"loading_data\"></a>\n",
    "## Loading data\n",
    "\n",
    "In this section, we load the data required by the queries in pandas DataFrame."
   ]
  },
  {
   "cell_type": "code",
   "execution_count": 5,
   "metadata": {
    "execution": {
     "iopub.execute_input": "2022-04-25T15:43:21.080238Z",
     "iopub.status.busy": "2022-04-25T15:43:21.079983Z",
     "iopub.status.idle": "2022-04-25T15:43:36.713888Z",
     "shell.execute_reply": "2022-04-25T15:43:36.713062Z",
     "shell.execute_reply.started": "2022-04-25T15:43:21.080217Z"
    },
    "tags": []
   },
   "outputs": [
    {
     "data": {
      "application/vnd.jupyter.widget-view+json": {
       "model_id": "a3cbd3e5e4d64defba7a54c7c7777319",
       "version_major": 2,
       "version_minor": 0
      },
      "text/plain": [
       "%px:   0%|          | 0/8 [00:00<?, ?tasks/s]"
      ]
     },
     "metadata": {},
     "output_type": "display_data"
    },
    {
     "data": {
      "text/plain": [
       "[stdout:0] Lineitem Reading time:  10820.92524635459  (ms)\n"
      ]
     },
     "metadata": {},
     "output_type": "display_data"
    },
    {
     "data": {
      "text/plain": [
       "[output:0]"
      ]
     },
     "metadata": {},
     "output_type": "display_data"
    },
    {
     "data": {
      "text/html": [
       "<div>\n",
       "<style scoped>\n",
       "    .dataframe tbody tr th:only-of-type {\n",
       "        vertical-align: middle;\n",
       "    }\n",
       "\n",
       "    .dataframe tbody tr th {\n",
       "        vertical-align: top;\n",
       "    }\n",
       "\n",
       "    .dataframe thead th {\n",
       "        text-align: right;\n",
       "    }\n",
       "</style>\n",
       "<table border=\"1\" class=\"dataframe\">\n",
       "  <thead>\n",
       "    <tr style=\"text-align: right;\">\n",
       "      <th></th>\n",
       "      <th>L_ORDERKEY</th>\n",
       "      <th>L_PARTKEY</th>\n",
       "      <th>L_SUPPKEY</th>\n",
       "      <th>L_LINENUMBER</th>\n",
       "      <th>L_QUANTITY</th>\n",
       "      <th>L_EXTENDEDPRICE</th>\n",
       "      <th>L_DISCOUNT</th>\n",
       "      <th>L_TAX</th>\n",
       "      <th>L_RETURNFLAG</th>\n",
       "      <th>L_LINESTATUS</th>\n",
       "      <th>L_SHIPDATE</th>\n",
       "      <th>L_COMMITDATE</th>\n",
       "      <th>L_RECEIPTDATE</th>\n",
       "      <th>L_SHIPINSTRUCT</th>\n",
       "      <th>L_SHIPMODE</th>\n",
       "      <th>L_COMMENT</th>\n",
       "    </tr>\n",
       "  </thead>\n",
       "  <tbody>\n",
       "    <tr>\n",
       "      <th>0</th>\n",
       "      <td>1</td>\n",
       "      <td>310379</td>\n",
       "      <td>15395</td>\n",
       "      <td>1</td>\n",
       "      <td>17.0</td>\n",
       "      <td>23619.12</td>\n",
       "      <td>0.04</td>\n",
       "      <td>0.02</td>\n",
       "      <td>N</td>\n",
       "      <td>O</td>\n",
       "      <td>1996-03-13</td>\n",
       "      <td>1996-02-12</td>\n",
       "      <td>1996-03-22</td>\n",
       "      <td>DELIVER IN PERSON</td>\n",
       "      <td>TRUCK</td>\n",
       "      <td>egular courts above the</td>\n",
       "    </tr>\n",
       "    <tr>\n",
       "      <th>1</th>\n",
       "      <td>1</td>\n",
       "      <td>134619</td>\n",
       "      <td>14620</td>\n",
       "      <td>2</td>\n",
       "      <td>36.0</td>\n",
       "      <td>59529.96</td>\n",
       "      <td>0.09</td>\n",
       "      <td>0.06</td>\n",
       "      <td>N</td>\n",
       "      <td>O</td>\n",
       "      <td>1996-04-12</td>\n",
       "      <td>1996-02-28</td>\n",
       "      <td>1996-04-20</td>\n",
       "      <td>TAKE BACK RETURN</td>\n",
       "      <td>MAIL</td>\n",
       "      <td>ly final dependencies: slyly bold</td>\n",
       "    </tr>\n",
       "    <tr>\n",
       "      <th>2</th>\n",
       "      <td>1</td>\n",
       "      <td>127400</td>\n",
       "      <td>7401</td>\n",
       "      <td>3</td>\n",
       "      <td>8.0</td>\n",
       "      <td>11419.20</td>\n",
       "      <td>0.10</td>\n",
       "      <td>0.02</td>\n",
       "      <td>N</td>\n",
       "      <td>O</td>\n",
       "      <td>1996-01-29</td>\n",
       "      <td>1996-03-05</td>\n",
       "      <td>1996-01-31</td>\n",
       "      <td>TAKE BACK RETURN</td>\n",
       "      <td>REG AIR</td>\n",
       "      <td>riously. regular, express dep</td>\n",
       "    </tr>\n",
       "    <tr>\n",
       "      <th>3</th>\n",
       "      <td>1</td>\n",
       "      <td>4263</td>\n",
       "      <td>9264</td>\n",
       "      <td>4</td>\n",
       "      <td>28.0</td>\n",
       "      <td>32683.28</td>\n",
       "      <td>0.09</td>\n",
       "      <td>0.06</td>\n",
       "      <td>N</td>\n",
       "      <td>O</td>\n",
       "      <td>1996-04-21</td>\n",
       "      <td>1996-03-30</td>\n",
       "      <td>1996-05-16</td>\n",
       "      <td>NONE</td>\n",
       "      <td>AIR</td>\n",
       "      <td>lites. fluffily even de</td>\n",
       "    </tr>\n",
       "    <tr>\n",
       "      <th>4</th>\n",
       "      <td>1</td>\n",
       "      <td>48054</td>\n",
       "      <td>3061</td>\n",
       "      <td>5</td>\n",
       "      <td>24.0</td>\n",
       "      <td>24049.20</td>\n",
       "      <td>0.10</td>\n",
       "      <td>0.04</td>\n",
       "      <td>N</td>\n",
       "      <td>O</td>\n",
       "      <td>1996-03-30</td>\n",
       "      <td>1996-03-14</td>\n",
       "      <td>1996-04-01</td>\n",
       "      <td>NONE</td>\n",
       "      <td>FOB</td>\n",
       "      <td>pending foxes. slyly re</td>\n",
       "    </tr>\n",
       "  </tbody>\n",
       "</table>\n",
       "</div>"
      ],
      "text/plain": [
       "   L_ORDERKEY  L_PARTKEY  L_SUPPKEY  L_LINENUMBER  L_QUANTITY  \\\n",
       "0           1     310379      15395             1        17.0   \n",
       "1           1     134619      14620             2        36.0   \n",
       "2           1     127400       7401             3         8.0   \n",
       "3           1       4263       9264             4        28.0   \n",
       "4           1      48054       3061             5        24.0   \n",
       "\n",
       "   L_EXTENDEDPRICE  L_DISCOUNT  L_TAX L_RETURNFLAG L_LINESTATUS L_SHIPDATE  \\\n",
       "0         23619.12        0.04   0.02            N            O 1996-03-13   \n",
       "1         59529.96        0.09   0.06            N            O 1996-04-12   \n",
       "2         11419.20        0.10   0.02            N            O 1996-01-29   \n",
       "3         32683.28        0.09   0.06            N            O 1996-04-21   \n",
       "4         24049.20        0.10   0.04            N            O 1996-03-30   \n",
       "\n",
       "  L_COMMITDATE L_RECEIPTDATE     L_SHIPINSTRUCT L_SHIPMODE  \\\n",
       "0   1996-02-12    1996-03-22  DELIVER IN PERSON      TRUCK   \n",
       "1   1996-02-28    1996-04-20   TAKE BACK RETURN       MAIL   \n",
       "2   1996-03-05    1996-01-31   TAKE BACK RETURN    REG AIR   \n",
       "3   1996-03-30    1996-05-16               NONE        AIR   \n",
       "4   1996-03-14    1996-04-01               NONE        FOB   \n",
       "\n",
       "                            L_COMMENT  \n",
       "0             egular courts above the  \n",
       "1  ly final dependencies: slyly bold   \n",
       "2       riously. regular, express dep  \n",
       "3             lites. fluffily even de  \n",
       "4             pending foxes. slyly re  "
      ]
     },
     "metadata": {
      "engine": 0
     },
     "output_type": "display_data"
    }
   ],
   "source": [
    "%%px\n",
    "@bodo.jit(distributed=[\"rel\"], cache=True)\n",
    "def load_lineitem(data_folder):\n",
    "    t1 = time.time()\n",
    "    file = data_folder + \"/lineitem.tbl\"\n",
    "    cols_names = ['L_ORDERKEY' , 'L_PARTKEY', 'L_SUPPKEY', 'L_LINENUMBER', 'L_QUANTITY',\n",
    "            'L_EXTENDEDPRICE', 'L_DISCOUNT', 'L_TAX', 'L_RETURNFLAG', 'L_LINESTATUS', 'L_SHIPDATE',\n",
    "            'L_COMMITDATE', 'L_RECEIPTDATE', 'L_SHIPINSTRUCT', 'L_SHIPMODE', 'L_COMMENT']\n",
    "    cols = {'L_ORDERKEY' : np.int64, 'L_PARTKEY' : np.int64, 'L_SUPPKEY' : np.int64, 'L_LINENUMBER' : np.int64, 'L_QUANTITY' : np.float64,\n",
    "            'L_EXTENDEDPRICE' : np.float64, 'L_DISCOUNT' : np.float64, 'L_TAX' : np.float64, 'L_RETURNFLAG' : str, 'L_LINESTATUS' : str, 'L_SHIPDATE' : str,\n",
    "            'L_COMMITDATE' : str, 'L_RECEIPTDATE' : str, 'L_SHIPINSTRUCT' : str, 'L_SHIPMODE' : str, 'L_COMMENT' : str}\n",
    "    rel = pd.read_csv(file, sep='|', header=None,\n",
    "        names=cols_names,\n",
    "        dtype=cols,\n",
    "        parse_dates=[10, 11, 12]\n",
    "        )\n",
    "    print(\"Lineitem Reading time: \", ((time.time() - t1) * 1000), \" (ms)\")\n",
    "    return rel\n",
    "\n",
    "lineitem = load_lineitem(\"s3://bodo-examples-data/tpch/s2\")\n",
    "if bodo.get_rank()==0:\n",
    "    display(lineitem.head())"
   ]
  },
  {
   "cell_type": "code",
   "execution_count": 6,
   "metadata": {
    "execution": {
     "iopub.execute_input": "2022-04-25T15:43:36.714860Z",
     "iopub.status.busy": "2022-04-25T15:43:36.714557Z",
     "iopub.status.idle": "2022-04-25T15:43:41.229000Z",
     "shell.execute_reply": "2022-04-25T15:43:41.228458Z",
     "shell.execute_reply.started": "2022-04-25T15:43:36.714841Z"
    },
    "scrolled": true,
    "tags": []
   },
   "outputs": [
    {
     "data": {
      "application/vnd.jupyter.widget-view+json": {
       "model_id": "b4893625e07843f2995e920fec194b41",
       "version_major": 2,
       "version_minor": 0
      },
      "text/plain": [
       "%px:   0%|          | 0/8 [00:00<?, ?tasks/s]"
      ]
     },
     "metadata": {},
     "output_type": "display_data"
    },
    {
     "data": {
      "text/plain": [
       "[stdout:0] Orders Reading time:  2659.6900978881877  (ms)\n"
      ]
     },
     "metadata": {},
     "output_type": "display_data"
    },
    {
     "data": {
      "text/plain": [
       "[output:0]"
      ]
     },
     "metadata": {},
     "output_type": "display_data"
    },
    {
     "data": {
      "text/html": [
       "<div>\n",
       "<style scoped>\n",
       "    .dataframe tbody tr th:only-of-type {\n",
       "        vertical-align: middle;\n",
       "    }\n",
       "\n",
       "    .dataframe tbody tr th {\n",
       "        vertical-align: top;\n",
       "    }\n",
       "\n",
       "    .dataframe thead th {\n",
       "        text-align: right;\n",
       "    }\n",
       "</style>\n",
       "<table border=\"1\" class=\"dataframe\">\n",
       "  <thead>\n",
       "    <tr style=\"text-align: right;\">\n",
       "      <th></th>\n",
       "      <th>O_ORDERKEY</th>\n",
       "      <th>O_CUSTKEY</th>\n",
       "      <th>O_ORDERSTATUS</th>\n",
       "      <th>O_TOTALPRICE</th>\n",
       "      <th>O_ORDERDATE</th>\n",
       "      <th>O_ORDERPRIORITY</th>\n",
       "      <th>O_CLERK</th>\n",
       "      <th>O_SHIPPRIORITY</th>\n",
       "      <th>O_COMMENT</th>\n",
       "    </tr>\n",
       "  </thead>\n",
       "  <tbody>\n",
       "    <tr>\n",
       "      <th>0</th>\n",
       "      <td>1</td>\n",
       "      <td>73801</td>\n",
       "      <td>O</td>\n",
       "      <td>181503.69</td>\n",
       "      <td>1996-01-02</td>\n",
       "      <td>5-LOW</td>\n",
       "      <td>Clerk#000001902</td>\n",
       "      <td>0</td>\n",
       "      <td>nstructions sleep furiously among</td>\n",
       "    </tr>\n",
       "    <tr>\n",
       "      <th>1</th>\n",
       "      <td>2</td>\n",
       "      <td>156004</td>\n",
       "      <td>O</td>\n",
       "      <td>49967.96</td>\n",
       "      <td>1996-12-01</td>\n",
       "      <td>1-URGENT</td>\n",
       "      <td>Clerk#000001759</td>\n",
       "      <td>0</td>\n",
       "      <td>foxes. pending accounts at the pending, silen...</td>\n",
       "    </tr>\n",
       "    <tr>\n",
       "      <th>2</th>\n",
       "      <td>3</td>\n",
       "      <td>246628</td>\n",
       "      <td>F</td>\n",
       "      <td>227024.64</td>\n",
       "      <td>1993-10-14</td>\n",
       "      <td>5-LOW</td>\n",
       "      <td>Clerk#000001909</td>\n",
       "      <td>0</td>\n",
       "      <td>sly final accounts boost. carefully regular id...</td>\n",
       "    </tr>\n",
       "    <tr>\n",
       "      <th>3</th>\n",
       "      <td>4</td>\n",
       "      <td>273553</td>\n",
       "      <td>O</td>\n",
       "      <td>36018.68</td>\n",
       "      <td>1995-10-11</td>\n",
       "      <td>5-LOW</td>\n",
       "      <td>Clerk#000000247</td>\n",
       "      <td>0</td>\n",
       "      <td>sits. slyly regular warthogs cajole. regular, ...</td>\n",
       "    </tr>\n",
       "    <tr>\n",
       "      <th>4</th>\n",
       "      <td>5</td>\n",
       "      <td>88970</td>\n",
       "      <td>F</td>\n",
       "      <td>112288.43</td>\n",
       "      <td>1994-07-30</td>\n",
       "      <td>5-LOW</td>\n",
       "      <td>Clerk#000001850</td>\n",
       "      <td>0</td>\n",
       "      <td>quickly. bold deposits sleep slyly. packages u...</td>\n",
       "    </tr>\n",
       "  </tbody>\n",
       "</table>\n",
       "</div>"
      ],
      "text/plain": [
       "   O_ORDERKEY  O_CUSTKEY O_ORDERSTATUS  O_TOTALPRICE O_ORDERDATE  \\\n",
       "0           1      73801             O     181503.69  1996-01-02   \n",
       "1           2     156004             O      49967.96  1996-12-01   \n",
       "2           3     246628             F     227024.64  1993-10-14   \n",
       "3           4     273553             O      36018.68  1995-10-11   \n",
       "4           5      88970             F     112288.43  1994-07-30   \n",
       "\n",
       "  O_ORDERPRIORITY          O_CLERK  O_SHIPPRIORITY  \\\n",
       "0           5-LOW  Clerk#000001902               0   \n",
       "1        1-URGENT  Clerk#000001759               0   \n",
       "2           5-LOW  Clerk#000001909               0   \n",
       "3           5-LOW  Clerk#000000247               0   \n",
       "4           5-LOW  Clerk#000001850               0   \n",
       "\n",
       "                                           O_COMMENT  \n",
       "0                 nstructions sleep furiously among   \n",
       "1   foxes. pending accounts at the pending, silen...  \n",
       "2  sly final accounts boost. carefully regular id...  \n",
       "3  sits. slyly regular warthogs cajole. regular, ...  \n",
       "4  quickly. bold deposits sleep slyly. packages u...  "
      ]
     },
     "metadata": {
      "engine": 0
     },
     "output_type": "display_data"
    }
   ],
   "source": [
    "%%px\n",
    "\n",
    "@bodo.jit(distributed=[\"rel\"], cache=True)\n",
    "def load_orders(data_folder):\n",
    "    t1 = time.time()    \n",
    "    file = data_folder + \"/orders.tbl\"\n",
    "    cols_names = ['O_ORDERKEY', 'O_CUSTKEY', 'O_ORDERSTATUS',\n",
    "            'O_TOTALPRICE', 'O_ORDERDATE', 'O_ORDERPRIORITY',\n",
    "            'O_CLERK', 'O_SHIPPRIORITY', 'O_COMMENT']\n",
    "    cols = {'O_ORDERKEY' : np.int64, 'O_CUSTKEY' : np.int64, 'O_ORDERSTATUS' : str,\n",
    "            'O_TOTALPRICE' : np.float64, 'O_ORDERDATE' : np.int64, 'O_ORDERPRIORITY' : str,\n",
    "            'O_CLERK' : str, 'O_SHIPPRIORITY' : np.int64, 'O_COMMENT' : str}\n",
    "    rel = pd.read_csv(file, sep='|', header=None,\n",
    "        names=cols_names,\n",
    "        dtype=cols,\n",
    "        parse_dates=[4]\n",
    "        )\n",
    "    print(\"Orders Reading time: \", ((time.time() - t1) * 1000), \" (ms)\")\n",
    "    return rel\n",
    "    \n",
    "orders = load_orders(\"s3://bodo-examples-data/tpch/s2\")\n",
    "if bodo.get_rank()==0:\n",
    "    display(orders.head())"
   ]
  },
  {
   "cell_type": "code",
   "execution_count": 7,
   "metadata": {
    "execution": {
     "iopub.execute_input": "2022-04-25T15:43:41.229592Z",
     "iopub.status.busy": "2022-04-25T15:43:41.229437Z",
     "iopub.status.idle": "2022-04-25T15:43:43.544893Z",
     "shell.execute_reply": "2022-04-25T15:43:43.544286Z",
     "shell.execute_reply.started": "2022-04-25T15:43:41.229575Z"
    },
    "tags": []
   },
   "outputs": [
    {
     "data": {
      "application/vnd.jupyter.widget-view+json": {
       "model_id": "d1df19feea0a4c4faaa1d8a5a7e0a873",
       "version_major": 2,
       "version_minor": 0
      },
      "text/plain": [
       "%px:   0%|          | 0/8 [00:00<?, ?tasks/s]"
      ]
     },
     "metadata": {},
     "output_type": "display_data"
    },
    {
     "data": {
      "text/plain": [
       "[stdout:0] Customer Reading time:  601.287425637338  (ms)\n"
      ]
     },
     "metadata": {},
     "output_type": "display_data"
    },
    {
     "data": {
      "text/plain": [
       "[output:0]"
      ]
     },
     "metadata": {},
     "output_type": "display_data"
    },
    {
     "data": {
      "text/html": [
       "<div>\n",
       "<style scoped>\n",
       "    .dataframe tbody tr th:only-of-type {\n",
       "        vertical-align: middle;\n",
       "    }\n",
       "\n",
       "    .dataframe tbody tr th {\n",
       "        vertical-align: top;\n",
       "    }\n",
       "\n",
       "    .dataframe thead th {\n",
       "        text-align: right;\n",
       "    }\n",
       "</style>\n",
       "<table border=\"1\" class=\"dataframe\">\n",
       "  <thead>\n",
       "    <tr style=\"text-align: right;\">\n",
       "      <th></th>\n",
       "      <th>C_CUSTKEY</th>\n",
       "      <th>C_NAME</th>\n",
       "      <th>C_ADDRESS</th>\n",
       "      <th>C_NATIONKEY</th>\n",
       "      <th>C_PHONE</th>\n",
       "      <th>C_ACCTBAL</th>\n",
       "      <th>C_MKTSEGMENT</th>\n",
       "      <th>C_COMMENT</th>\n",
       "    </tr>\n",
       "  </thead>\n",
       "  <tbody>\n",
       "    <tr>\n",
       "      <th>0</th>\n",
       "      <td>1</td>\n",
       "      <td>Customer#000000001</td>\n",
       "      <td>IVhzIApeRb ot,c,E</td>\n",
       "      <td>15</td>\n",
       "      <td>25-989-741-2988</td>\n",
       "      <td>711.56</td>\n",
       "      <td>BUILDING</td>\n",
       "      <td>to the even, regular platelets. regular, ironi...</td>\n",
       "    </tr>\n",
       "    <tr>\n",
       "      <th>1</th>\n",
       "      <td>2</td>\n",
       "      <td>Customer#000000002</td>\n",
       "      <td>XSTf4,NCwDVaWNe6tEgvwfmRchLXak</td>\n",
       "      <td>13</td>\n",
       "      <td>23-768-687-3665</td>\n",
       "      <td>121.65</td>\n",
       "      <td>AUTOMOBILE</td>\n",
       "      <td>l accounts. blithely ironic theodolites integr...</td>\n",
       "    </tr>\n",
       "    <tr>\n",
       "      <th>2</th>\n",
       "      <td>3</td>\n",
       "      <td>Customer#000000003</td>\n",
       "      <td>MG9kdTD2WBHm</td>\n",
       "      <td>1</td>\n",
       "      <td>11-719-748-3364</td>\n",
       "      <td>7498.12</td>\n",
       "      <td>AUTOMOBILE</td>\n",
       "      <td>deposits eat slyly ironic, even instructions....</td>\n",
       "    </tr>\n",
       "    <tr>\n",
       "      <th>3</th>\n",
       "      <td>4</td>\n",
       "      <td>Customer#000000004</td>\n",
       "      <td>XxVSJsLAGtn</td>\n",
       "      <td>4</td>\n",
       "      <td>14-128-190-5944</td>\n",
       "      <td>2866.83</td>\n",
       "      <td>MACHINERY</td>\n",
       "      <td>requests. final, regular ideas sleep final accou</td>\n",
       "    </tr>\n",
       "    <tr>\n",
       "      <th>4</th>\n",
       "      <td>5</td>\n",
       "      <td>Customer#000000005</td>\n",
       "      <td>KvpyuHCplrB84WgAiGV6sYpZq7Tj</td>\n",
       "      <td>3</td>\n",
       "      <td>13-750-942-6364</td>\n",
       "      <td>794.47</td>\n",
       "      <td>HOUSEHOLD</td>\n",
       "      <td>n accounts will have to unwind. foxes cajole a...</td>\n",
       "    </tr>\n",
       "  </tbody>\n",
       "</table>\n",
       "</div>"
      ],
      "text/plain": [
       "   C_CUSTKEY              C_NAME                       C_ADDRESS  C_NATIONKEY  \\\n",
       "0          1  Customer#000000001               IVhzIApeRb ot,c,E           15   \n",
       "1          2  Customer#000000002  XSTf4,NCwDVaWNe6tEgvwfmRchLXak           13   \n",
       "2          3  Customer#000000003                    MG9kdTD2WBHm            1   \n",
       "3          4  Customer#000000004                     XxVSJsLAGtn            4   \n",
       "4          5  Customer#000000005    KvpyuHCplrB84WgAiGV6sYpZq7Tj            3   \n",
       "\n",
       "           C_PHONE  C_ACCTBAL C_MKTSEGMENT  \\\n",
       "0  25-989-741-2988     711.56     BUILDING   \n",
       "1  23-768-687-3665     121.65   AUTOMOBILE   \n",
       "2  11-719-748-3364    7498.12   AUTOMOBILE   \n",
       "3  14-128-190-5944    2866.83    MACHINERY   \n",
       "4  13-750-942-6364     794.47    HOUSEHOLD   \n",
       "\n",
       "                                           C_COMMENT  \n",
       "0  to the even, regular platelets. regular, ironi...  \n",
       "1  l accounts. blithely ironic theodolites integr...  \n",
       "2   deposits eat slyly ironic, even instructions....  \n",
       "3   requests. final, regular ideas sleep final accou  \n",
       "4  n accounts will have to unwind. foxes cajole a...  "
      ]
     },
     "metadata": {
      "engine": 0
     },
     "output_type": "display_data"
    }
   ],
   "source": [
    "%%px\n",
    "\n",
    "@bodo.jit(distributed=[\"rel\"], cache=True)\n",
    "def load_customer(data_folder):\n",
    "    t1 = time.time()\n",
    "    file = data_folder + \"/customer.tbl\"\n",
    "    cols_names = ['C_CUSTKEY', 'C_NAME',\n",
    "            'C_ADDRESS', 'C_NATIONKEY',\n",
    "            'C_PHONE', 'C_ACCTBAL',\n",
    "            'C_MKTSEGMENT', 'C_COMMENT']\n",
    "    cols = {'C_CUSTKEY' : np.int64, 'C_NAME' : str,\n",
    "            'C_ADDRESS' : str, 'C_NATIONKEY' : np.int64,\n",
    "            'C_PHONE' : str, 'C_ACCTBAL' : np.float64,\n",
    "            'C_MKTSEGMENT' : str, 'C_COMMENT' : str}\n",
    "    rel = pd.read_csv(file, sep='|', header=None,\n",
    "        names=cols_names,\n",
    "        dtype=cols\n",
    "        )\n",
    "    print(\"Customer Reading time: \", ((time.time() - t1) * 1000), \" (ms)\")\n",
    "    return rel\n",
    "\n",
    "customer = load_customer(\"s3://bodo-examples-data/tpch/s2\")\n",
    "if bodo.get_rank()==0:\n",
    "    display(customer.head())"
   ]
  },
  {
   "cell_type": "code",
   "execution_count": 8,
   "metadata": {
    "execution": {
     "iopub.execute_input": "2022-04-25T15:43:43.545967Z",
     "iopub.status.busy": "2022-04-25T15:43:43.545684Z",
     "iopub.status.idle": "2022-04-25T15:43:45.189211Z",
     "shell.execute_reply": "2022-04-25T15:43:45.188346Z",
     "shell.execute_reply.started": "2022-04-25T15:43:43.545949Z"
    },
    "tags": []
   },
   "outputs": [
    {
     "data": {
      "text/plain": [
       "[stdout:0] Nation Reading time:  111.91017392138747  (ms)\n"
      ]
     },
     "metadata": {},
     "output_type": "display_data"
    },
    {
     "data": {
      "text/plain": [
       "[output:0]"
      ]
     },
     "metadata": {},
     "output_type": "display_data"
    },
    {
     "data": {
      "text/html": [
       "<div>\n",
       "<style scoped>\n",
       "    .dataframe tbody tr th:only-of-type {\n",
       "        vertical-align: middle;\n",
       "    }\n",
       "\n",
       "    .dataframe tbody tr th {\n",
       "        vertical-align: top;\n",
       "    }\n",
       "\n",
       "    .dataframe thead th {\n",
       "        text-align: right;\n",
       "    }\n",
       "</style>\n",
       "<table border=\"1\" class=\"dataframe\">\n",
       "  <thead>\n",
       "    <tr style=\"text-align: right;\">\n",
       "      <th></th>\n",
       "      <th>N_NATIONKEY</th>\n",
       "      <th>N_NAME</th>\n",
       "      <th>N_REGIONKEY</th>\n",
       "      <th>N_COMMENT</th>\n",
       "    </tr>\n",
       "  </thead>\n",
       "  <tbody>\n",
       "    <tr>\n",
       "      <th>0</th>\n",
       "      <td>0</td>\n",
       "      <td>ALGERIA</td>\n",
       "      <td>0</td>\n",
       "      <td>haggle. carefully final deposits detect slyly...</td>\n",
       "    </tr>\n",
       "    <tr>\n",
       "      <th>1</th>\n",
       "      <td>1</td>\n",
       "      <td>ARGENTINA</td>\n",
       "      <td>1</td>\n",
       "      <td>al foxes promise slyly according to the regula...</td>\n",
       "    </tr>\n",
       "    <tr>\n",
       "      <th>2</th>\n",
       "      <td>2</td>\n",
       "      <td>BRAZIL</td>\n",
       "      <td>1</td>\n",
       "      <td>y alongside of the pending deposits. carefully...</td>\n",
       "    </tr>\n",
       "    <tr>\n",
       "      <th>3</th>\n",
       "      <td>3</td>\n",
       "      <td>CANADA</td>\n",
       "      <td>1</td>\n",
       "      <td>eas hang ironic, silent packages. slyly regula...</td>\n",
       "    </tr>\n",
       "  </tbody>\n",
       "</table>\n",
       "</div>"
      ],
      "text/plain": [
       "   N_NATIONKEY     N_NAME  N_REGIONKEY  \\\n",
       "0            0    ALGERIA            0   \n",
       "1            1  ARGENTINA            1   \n",
       "2            2     BRAZIL            1   \n",
       "3            3     CANADA            1   \n",
       "\n",
       "                                           N_COMMENT  \n",
       "0   haggle. carefully final deposits detect slyly...  \n",
       "1  al foxes promise slyly according to the regula...  \n",
       "2  y alongside of the pending deposits. carefully...  \n",
       "3  eas hang ironic, silent packages. slyly regula...  "
      ]
     },
     "metadata": {
      "engine": 0
     },
     "output_type": "display_data"
    }
   ],
   "source": [
    "%%px\n",
    "\n",
    "@bodo.jit(distributed=[\"rel\"], cache=True)\n",
    "def load_nation(data_folder):\n",
    "    t1 = time.time()\n",
    "    file = data_folder + \"/nation.tbl\"\n",
    "    cols_names = ['N_NATIONKEY', 'N_NAME',\n",
    "            'N_REGIONKEY', 'N_COMMENT']\n",
    "    cols = {'N_NATIONKEY' : np.int64, 'N_NAME' : str,\n",
    "            'N_REGIONKEY' : np.int64, 'N_COMMENT' : str}\n",
    "    rel = pd.read_csv(file, sep='|', header=None,\n",
    "        names=cols_names,\n",
    "        dtype=cols\n",
    "        )\n",
    "    print(\"Nation Reading time: \", ((time.time() - t1) * 1000), \" (ms)\")\n",
    "    return rel\n",
    "\n",
    "nation = load_nation(\"s3://bodo-examples-data/tpch/s2\")\n",
    "if bodo.get_rank()==0:\n",
    "    display(nation.head())"
   ]
  },
  {
   "cell_type": "code",
   "execution_count": 9,
   "metadata": {
    "execution": {
     "iopub.execute_input": "2022-04-25T15:43:45.189856Z",
     "iopub.status.busy": "2022-04-25T15:43:45.189686Z",
     "iopub.status.idle": "2022-04-25T15:43:46.901234Z",
     "shell.execute_reply": "2022-04-25T15:43:46.900735Z",
     "shell.execute_reply.started": "2022-04-25T15:43:45.189837Z"
    },
    "tags": []
   },
   "outputs": [
    {
     "data": {
      "text/plain": [
       "[stdout:0] Supplier Reading time:  203.68487004816416  (ms)\n"
      ]
     },
     "metadata": {},
     "output_type": "display_data"
    },
    {
     "data": {
      "text/plain": [
       "[output:0]"
      ]
     },
     "metadata": {},
     "output_type": "display_data"
    },
    {
     "data": {
      "text/html": [
       "<div>\n",
       "<style scoped>\n",
       "    .dataframe tbody tr th:only-of-type {\n",
       "        vertical-align: middle;\n",
       "    }\n",
       "\n",
       "    .dataframe tbody tr th {\n",
       "        vertical-align: top;\n",
       "    }\n",
       "\n",
       "    .dataframe thead th {\n",
       "        text-align: right;\n",
       "    }\n",
       "</style>\n",
       "<table border=\"1\" class=\"dataframe\">\n",
       "  <thead>\n",
       "    <tr style=\"text-align: right;\">\n",
       "      <th></th>\n",
       "      <th>S_SUPPKEY</th>\n",
       "      <th>S_NAME</th>\n",
       "      <th>S_ADDRESS</th>\n",
       "      <th>S_NATIONKEY</th>\n",
       "      <th>S_PHONE</th>\n",
       "      <th>S_ACCTBAL</th>\n",
       "      <th>S_COMMENT</th>\n",
       "    </tr>\n",
       "  </thead>\n",
       "  <tbody>\n",
       "    <tr>\n",
       "      <th>0</th>\n",
       "      <td>1</td>\n",
       "      <td>Supplier#000000001</td>\n",
       "      <td>N kD4on9OM Ipw3,gf0JBoQDd7tgrzrddZ</td>\n",
       "      <td>17</td>\n",
       "      <td>27-918-335-1736</td>\n",
       "      <td>5755.94</td>\n",
       "      <td>each slyly above the careful</td>\n",
       "    </tr>\n",
       "    <tr>\n",
       "      <th>1</th>\n",
       "      <td>2</td>\n",
       "      <td>Supplier#000000002</td>\n",
       "      <td>89eJ5ksX3ImxJQBvxObC,</td>\n",
       "      <td>5</td>\n",
       "      <td>15-679-861-2259</td>\n",
       "      <td>4032.68</td>\n",
       "      <td>slyly bold instructions. idle dependen</td>\n",
       "    </tr>\n",
       "    <tr>\n",
       "      <th>2</th>\n",
       "      <td>3</td>\n",
       "      <td>Supplier#000000003</td>\n",
       "      <td>q1,G3Pj6OjIuUYfUoH18BFTKP5aU9bEV3</td>\n",
       "      <td>1</td>\n",
       "      <td>11-383-516-1199</td>\n",
       "      <td>4192.40</td>\n",
       "      <td>blithely silent requests after the express dep...</td>\n",
       "    </tr>\n",
       "    <tr>\n",
       "      <th>3</th>\n",
       "      <td>4</td>\n",
       "      <td>Supplier#000000004</td>\n",
       "      <td>Bk7ah4CK8SYQTepEmvMkkgMwg</td>\n",
       "      <td>15</td>\n",
       "      <td>25-843-787-7479</td>\n",
       "      <td>4641.08</td>\n",
       "      <td>riously even requests above the exp</td>\n",
       "    </tr>\n",
       "    <tr>\n",
       "      <th>4</th>\n",
       "      <td>5</td>\n",
       "      <td>Supplier#000000005</td>\n",
       "      <td>Gcdm2rJRzl5qlTVzc</td>\n",
       "      <td>11</td>\n",
       "      <td>21-151-690-3663</td>\n",
       "      <td>-283.84</td>\n",
       "      <td>. slyly regular pinto bea</td>\n",
       "    </tr>\n",
       "  </tbody>\n",
       "</table>\n",
       "</div>"
      ],
      "text/plain": [
       "   S_SUPPKEY              S_NAME                            S_ADDRESS  \\\n",
       "0          1  Supplier#000000001   N kD4on9OM Ipw3,gf0JBoQDd7tgrzrddZ   \n",
       "1          2  Supplier#000000002                89eJ5ksX3ImxJQBvxObC,   \n",
       "2          3  Supplier#000000003    q1,G3Pj6OjIuUYfUoH18BFTKP5aU9bEV3   \n",
       "3          4  Supplier#000000004            Bk7ah4CK8SYQTepEmvMkkgMwg   \n",
       "4          5  Supplier#000000005                    Gcdm2rJRzl5qlTVzc   \n",
       "\n",
       "   S_NATIONKEY          S_PHONE  S_ACCTBAL  \\\n",
       "0           17  27-918-335-1736    5755.94   \n",
       "1            5  15-679-861-2259    4032.68   \n",
       "2            1  11-383-516-1199    4192.40   \n",
       "3           15  25-843-787-7479    4641.08   \n",
       "4           11  21-151-690-3663    -283.84   \n",
       "\n",
       "                                           S_COMMENT  \n",
       "0                       each slyly above the careful  \n",
       "1             slyly bold instructions. idle dependen  \n",
       "2  blithely silent requests after the express dep...  \n",
       "3                riously even requests above the exp  \n",
       "4                          . slyly regular pinto bea  "
      ]
     },
     "metadata": {
      "engine": 0
     },
     "output_type": "display_data"
    }
   ],
   "source": [
    "%%px\n",
    "\n",
    "@bodo.jit(distributed=[\"rel\"], cache=True)\n",
    "def load_supplier(data_folder):\n",
    "    t1 = time.time()    \n",
    "    file = data_folder + \"/supplier.tbl\"\n",
    "    cols_names = ['S_SUPPKEY', 'S_NAME', 'S_ADDRESS',\n",
    "            'S_NATIONKEY', 'S_PHONE', 'S_ACCTBAL',\n",
    "            'S_COMMENT']\n",
    "    cols = {'S_SUPPKEY' : np.int64, 'S_NAME' : str, 'S_ADDRESS' : str,\n",
    "            'S_NATIONKEY' : np.int64, 'S_PHONE' : str, 'S_ACCTBAL' : np.float64,\n",
    "            'S_COMMENT' : str}\n",
    "    rel = pd.read_csv(file, sep='|', header=None,\n",
    "        names=cols_names,\n",
    "        dtype=cols\n",
    "        )\n",
    "    print(\"Supplier Reading time: \", ((time.time() - t1) * 1000), \" (ms)\")     \n",
    "    return rel\n",
    "\n",
    "supplier = load_supplier(\"s3://bodo-examples-data/tpch/s2\")\n",
    "if bodo.get_rank()==0:\n",
    "    display(supplier.head())"
   ]
  },
  {
   "cell_type": "code",
   "execution_count": 10,
   "metadata": {
    "execution": {
     "iopub.execute_input": "2022-04-25T15:43:46.902014Z",
     "iopub.status.busy": "2022-04-25T15:43:46.901727Z",
     "iopub.status.idle": "2022-04-25T15:43:50.082614Z",
     "shell.execute_reply": "2022-04-25T15:43:50.082230Z",
     "shell.execute_reply.started": "2022-04-25T15:43:46.901996Z"
    },
    "tags": []
   },
   "outputs": [
    {
     "data": {
      "application/vnd.jupyter.widget-view+json": {
       "model_id": "7abb850e6d3647b2b142bf507d0e9b2a",
       "version_major": 2,
       "version_minor": 0
      },
      "text/plain": [
       "%px:   0%|          | 0/8 [00:00<?, ?tasks/s]"
      ]
     },
     "metadata": {},
     "output_type": "display_data"
    },
    {
     "data": {
      "text/plain": [
       "[stdout:0] Partsupp Reading time:  1461.430220949751  (ms)\n"
      ]
     },
     "metadata": {},
     "output_type": "display_data"
    },
    {
     "data": {
      "text/plain": [
       "[output:0]"
      ]
     },
     "metadata": {},
     "output_type": "display_data"
    },
    {
     "data": {
      "text/html": [
       "<div>\n",
       "<style scoped>\n",
       "    .dataframe tbody tr th:only-of-type {\n",
       "        vertical-align: middle;\n",
       "    }\n",
       "\n",
       "    .dataframe tbody tr th {\n",
       "        vertical-align: top;\n",
       "    }\n",
       "\n",
       "    .dataframe thead th {\n",
       "        text-align: right;\n",
       "    }\n",
       "</style>\n",
       "<table border=\"1\" class=\"dataframe\">\n",
       "  <thead>\n",
       "    <tr style=\"text-align: right;\">\n",
       "      <th></th>\n",
       "      <th>PS_PARTKEY</th>\n",
       "      <th>PS_SUPPKEY</th>\n",
       "      <th>PS_AVAILQTY</th>\n",
       "      <th>PS_SUPPLYCOST</th>\n",
       "      <th>PS_COMMENT</th>\n",
       "    </tr>\n",
       "  </thead>\n",
       "  <tbody>\n",
       "    <tr>\n",
       "      <th>0</th>\n",
       "      <td>1</td>\n",
       "      <td>2</td>\n",
       "      <td>3325</td>\n",
       "      <td>771.64</td>\n",
       "      <td>, even theodolites. regular, final theodolites...</td>\n",
       "    </tr>\n",
       "    <tr>\n",
       "      <th>1</th>\n",
       "      <td>1</td>\n",
       "      <td>5002</td>\n",
       "      <td>8076</td>\n",
       "      <td>993.49</td>\n",
       "      <td>ven ideas. quickly even packages print. pendin...</td>\n",
       "    </tr>\n",
       "    <tr>\n",
       "      <th>2</th>\n",
       "      <td>1</td>\n",
       "      <td>10002</td>\n",
       "      <td>3956</td>\n",
       "      <td>337.09</td>\n",
       "      <td>after the fluffily ironic deposits? blithely s...</td>\n",
       "    </tr>\n",
       "    <tr>\n",
       "      <th>3</th>\n",
       "      <td>1</td>\n",
       "      <td>15002</td>\n",
       "      <td>4069</td>\n",
       "      <td>357.84</td>\n",
       "      <td>al, regular dependencies serve carefully after...</td>\n",
       "    </tr>\n",
       "    <tr>\n",
       "      <th>4</th>\n",
       "      <td>2</td>\n",
       "      <td>3</td>\n",
       "      <td>8895</td>\n",
       "      <td>378.49</td>\n",
       "      <td>nic accounts. final accounts sleep furiously a...</td>\n",
       "    </tr>\n",
       "  </tbody>\n",
       "</table>\n",
       "</div>"
      ],
      "text/plain": [
       "   PS_PARTKEY  PS_SUPPKEY  PS_AVAILQTY  PS_SUPPLYCOST  \\\n",
       "0           1           2         3325         771.64   \n",
       "1           1        5002         8076         993.49   \n",
       "2           1       10002         3956         337.09   \n",
       "3           1       15002         4069         357.84   \n",
       "4           2           3         8895         378.49   \n",
       "\n",
       "                                          PS_COMMENT  \n",
       "0  , even theodolites. regular, final theodolites...  \n",
       "1  ven ideas. quickly even packages print. pendin...  \n",
       "2  after the fluffily ironic deposits? blithely s...  \n",
       "3  al, regular dependencies serve carefully after...  \n",
       "4  nic accounts. final accounts sleep furiously a...  "
      ]
     },
     "metadata": {
      "engine": 0
     },
     "output_type": "display_data"
    }
   ],
   "source": [
    "%%px\n",
    "\n",
    "@bodo.jit(distributed=[\"rel\"], cache=True)\n",
    "def load_partsupp(data_folder):\n",
    "    t1 = time.time()\n",
    "    file = data_folder + \"/partsupp.tbl\"\n",
    "    cols_names = ['PS_PARTKEY', 'PS_SUPPKEY', 'PS_AVAILQTY',\n",
    "            'PS_SUPPLYCOST', 'PS_COMMENT']\n",
    "    cols = {'PS_PARTKEY' : np.int64, 'PS_SUPPKEY' : np.int64, 'PS_AVAILQTY' : np.int64,\n",
    "            'PS_SUPPLYCOST' : np.float64, 'PS_COMMENT' : str}\n",
    "    rel = pd.read_csv(file, sep='|', header=None,\n",
    "        names=cols_names,\n",
    "        dtype=cols\n",
    "        )\n",
    "    print(\"Partsupp Reading time: \", ((time.time() - t1) * 1000), \" (ms)\")\n",
    "    return rel\n",
    "\n",
    "partsupp = load_partsupp(\"s3://bodo-examples-data/tpch/s2\")\n",
    "if bodo.get_rank()==0:\n",
    "    display(partsupp.head())"
   ]
  },
  {
   "cell_type": "code",
   "execution_count": 11,
   "metadata": {
    "execution": {
     "iopub.execute_input": "2022-04-25T15:43:50.083237Z",
     "iopub.status.busy": "2022-04-25T15:43:50.083064Z",
     "iopub.status.idle": "2022-04-25T15:43:52.236697Z",
     "shell.execute_reply": "2022-04-25T15:43:52.236096Z",
     "shell.execute_reply.started": "2022-04-25T15:43:50.083220Z"
    },
    "tags": []
   },
   "outputs": [
    {
     "data": {
      "application/vnd.jupyter.widget-view+json": {
       "model_id": "8c4eea7ea9c642558ad43c6c42c41338",
       "version_major": 2,
       "version_minor": 0
      },
      "text/plain": [
       "%px:   0%|          | 0/8 [00:00<?, ?tasks/s]"
      ]
     },
     "metadata": {},
     "output_type": "display_data"
    },
    {
     "data": {
      "text/plain": [
       "[stdout:0] Part Reading time:  429.2440511708264  (ms)\n"
      ]
     },
     "metadata": {},
     "output_type": "display_data"
    },
    {
     "data": {
      "text/plain": [
       "[output:0]"
      ]
     },
     "metadata": {},
     "output_type": "display_data"
    },
    {
     "data": {
      "text/html": [
       "<div>\n",
       "<style scoped>\n",
       "    .dataframe tbody tr th:only-of-type {\n",
       "        vertical-align: middle;\n",
       "    }\n",
       "\n",
       "    .dataframe tbody tr th {\n",
       "        vertical-align: top;\n",
       "    }\n",
       "\n",
       "    .dataframe thead th {\n",
       "        text-align: right;\n",
       "    }\n",
       "</style>\n",
       "<table border=\"1\" class=\"dataframe\">\n",
       "  <thead>\n",
       "    <tr style=\"text-align: right;\">\n",
       "      <th></th>\n",
       "      <th>P_PARTKEY</th>\n",
       "      <th>P_NAME</th>\n",
       "      <th>P_MFGR</th>\n",
       "      <th>P_BRAND</th>\n",
       "      <th>P_TYPE</th>\n",
       "      <th>P_SIZE</th>\n",
       "      <th>P_CONTAINER</th>\n",
       "      <th>P_RETAILPRICE</th>\n",
       "      <th>P_COMMENT</th>\n",
       "    </tr>\n",
       "  </thead>\n",
       "  <tbody>\n",
       "    <tr>\n",
       "      <th>0</th>\n",
       "      <td>1</td>\n",
       "      <td>goldenrod lavender spring chocolate lace</td>\n",
       "      <td>Manufacturer#1</td>\n",
       "      <td>Brand#13</td>\n",
       "      <td>PROMO BURNISHED COPPER</td>\n",
       "      <td>7</td>\n",
       "      <td>JUMBO PKG</td>\n",
       "      <td>901.0</td>\n",
       "      <td>ly. slyly ironi</td>\n",
       "    </tr>\n",
       "    <tr>\n",
       "      <th>1</th>\n",
       "      <td>2</td>\n",
       "      <td>blush thistle blue yellow saddle</td>\n",
       "      <td>Manufacturer#1</td>\n",
       "      <td>Brand#13</td>\n",
       "      <td>LARGE BRUSHED BRASS</td>\n",
       "      <td>1</td>\n",
       "      <td>LG CASE</td>\n",
       "      <td>902.0</td>\n",
       "      <td>lar accounts amo</td>\n",
       "    </tr>\n",
       "    <tr>\n",
       "      <th>2</th>\n",
       "      <td>3</td>\n",
       "      <td>spring green yellow purple cornsilk</td>\n",
       "      <td>Manufacturer#4</td>\n",
       "      <td>Brand#42</td>\n",
       "      <td>STANDARD POLISHED BRASS</td>\n",
       "      <td>21</td>\n",
       "      <td>WRAP CASE</td>\n",
       "      <td>903.0</td>\n",
       "      <td>egular deposits hag</td>\n",
       "    </tr>\n",
       "    <tr>\n",
       "      <th>3</th>\n",
       "      <td>4</td>\n",
       "      <td>cornflower chocolate smoke green pink</td>\n",
       "      <td>Manufacturer#3</td>\n",
       "      <td>Brand#34</td>\n",
       "      <td>SMALL PLATED BRASS</td>\n",
       "      <td>14</td>\n",
       "      <td>MED DRUM</td>\n",
       "      <td>904.0</td>\n",
       "      <td>p furiously r</td>\n",
       "    </tr>\n",
       "    <tr>\n",
       "      <th>4</th>\n",
       "      <td>5</td>\n",
       "      <td>forest brown coral puff cream</td>\n",
       "      <td>Manufacturer#3</td>\n",
       "      <td>Brand#32</td>\n",
       "      <td>STANDARD POLISHED TIN</td>\n",
       "      <td>15</td>\n",
       "      <td>SM PKG</td>\n",
       "      <td>905.0</td>\n",
       "      <td>wake carefully</td>\n",
       "    </tr>\n",
       "  </tbody>\n",
       "</table>\n",
       "</div>"
      ],
      "text/plain": [
       "   P_PARTKEY                                    P_NAME          P_MFGR  \\\n",
       "0          1  goldenrod lavender spring chocolate lace  Manufacturer#1   \n",
       "1          2          blush thistle blue yellow saddle  Manufacturer#1   \n",
       "2          3       spring green yellow purple cornsilk  Manufacturer#4   \n",
       "3          4     cornflower chocolate smoke green pink  Manufacturer#3   \n",
       "4          5             forest brown coral puff cream  Manufacturer#3   \n",
       "\n",
       "    P_BRAND                   P_TYPE  P_SIZE P_CONTAINER  P_RETAILPRICE  \\\n",
       "0  Brand#13   PROMO BURNISHED COPPER       7   JUMBO PKG          901.0   \n",
       "1  Brand#13      LARGE BRUSHED BRASS       1     LG CASE          902.0   \n",
       "2  Brand#42  STANDARD POLISHED BRASS      21   WRAP CASE          903.0   \n",
       "3  Brand#34       SMALL PLATED BRASS      14    MED DRUM          904.0   \n",
       "4  Brand#32    STANDARD POLISHED TIN      15      SM PKG          905.0   \n",
       "\n",
       "             P_COMMENT  \n",
       "0      ly. slyly ironi  \n",
       "1     lar accounts amo  \n",
       "2  egular deposits hag  \n",
       "3        p furiously r  \n",
       "4      wake carefully   "
      ]
     },
     "metadata": {
      "engine": 0
     },
     "output_type": "display_data"
    }
   ],
   "source": [
    "%%px\n",
    "\n",
    "@bodo.jit(distributed=[\"rel\"], cache=True)\n",
    "def load_part(data_folder):\n",
    "    t1 = time.time()\n",
    "    file = data_folder + \"/part.tbl\"\n",
    "    cols_names = ['P_PARTKEY', 'P_NAME', 'P_MFGR', 'P_BRAND',\n",
    "            'P_TYPE', 'P_SIZE', 'P_CONTAINER',\n",
    "            'P_RETAILPRICE', 'P_COMMENT']\n",
    "    cols = {'P_PARTKEY' : np.int64, 'P_NAME' : str, 'P_MFGR' : str, 'P_BRAND' : str,\n",
    "            'P_TYPE' : str, 'P_SIZE' : np.int64, 'P_CONTAINER' : str,\n",
    "            'P_RETAILPRICE' : np.float64, 'P_COMMENT' : str}\n",
    "    rel = pd.read_csv(file, sep='|', header=None,\n",
    "        names=cols_names,\n",
    "        dtype=cols\n",
    "        )\n",
    "    print(\"Part Reading time: \", ((time.time() - t1) * 1000), \" (ms)\")\n",
    "    return rel\n",
    "\n",
    "part = load_part(\"s3://bodo-examples-data/tpch/s2\")\n",
    "if bodo.get_rank()==0:\n",
    "    display(part.head())"
   ]
  },
  {
   "cell_type": "markdown",
   "metadata": {},
   "source": [
    "## Query Definitions\n",
    "\n",
    "This section includes some of the queries using Python (Pandas)"
   ]
  },
  {
   "cell_type": "markdown",
   "metadata": {},
   "source": [
    "### Q1: Pricing Summary Report Query\n",
    "This query reports the amount of businesses that were billed, shipped, and returned.\n",
    "\n",
    "Make sure you have run **`load_lineitem`** from [loading data section](#loading_data) before running this query."
   ]
  },
  {
   "cell_type": "code",
   "execution_count": 12,
   "metadata": {
    "execution": {
     "iopub.execute_input": "2022-04-25T15:43:52.237295Z",
     "iopub.status.busy": "2022-04-25T15:43:52.237119Z",
     "iopub.status.idle": "2022-04-25T15:44:00.908364Z",
     "shell.execute_reply": "2022-04-25T15:44:00.907968Z",
     "shell.execute_reply.started": "2022-04-25T15:43:52.237277Z"
    },
    "tags": []
   },
   "outputs": [
    {
     "data": {
      "application/vnd.jupyter.widget-view+json": {
       "model_id": "23e3cea899074670a7653b27db14c9ab",
       "version_major": 2,
       "version_minor": 0
      },
      "text/plain": [
       "%px:   0%|          | 0/8 [00:00<?, ?tasks/s]"
      ]
     },
     "metadata": {},
     "output_type": "display_data"
    },
    {
     "data": {
      "text/plain": [
       "[stdout:0] Execution time:  256.44453991685623  (ms)\n"
      ]
     },
     "metadata": {},
     "output_type": "display_data"
    },
    {
     "data": {
      "text/plain": [
       "[output:0]"
      ]
     },
     "metadata": {},
     "output_type": "display_data"
    },
    {
     "data": {
      "text/html": [
       "<div>\n",
       "<style scoped>\n",
       "    .dataframe tbody tr th:only-of-type {\n",
       "        vertical-align: middle;\n",
       "    }\n",
       "\n",
       "    .dataframe tbody tr th {\n",
       "        vertical-align: top;\n",
       "    }\n",
       "\n",
       "    .dataframe thead tr th {\n",
       "        text-align: left;\n",
       "    }\n",
       "</style>\n",
       "<table border=\"1\" class=\"dataframe\">\n",
       "  <thead>\n",
       "    <tr>\n",
       "      <th></th>\n",
       "      <th>L_RETURNFLAG</th>\n",
       "      <th>L_LINESTATUS</th>\n",
       "      <th colspan=\"2\" halign=\"left\">L_QUANTITY</th>\n",
       "      <th colspan=\"2\" halign=\"left\">L_EXTENDEDPRICE</th>\n",
       "      <th>DISC_PRICE</th>\n",
       "      <th>CHARGE</th>\n",
       "      <th>L_DISCOUNT</th>\n",
       "      <th>L_ORDERKEY</th>\n",
       "    </tr>\n",
       "    <tr>\n",
       "      <th></th>\n",
       "      <th></th>\n",
       "      <th></th>\n",
       "      <th>sum</th>\n",
       "      <th>mean</th>\n",
       "      <th>sum</th>\n",
       "      <th>mean</th>\n",
       "      <th>sum</th>\n",
       "      <th>sum</th>\n",
       "      <th>mean</th>\n",
       "      <th>count</th>\n",
       "    </tr>\n",
       "  </thead>\n",
       "  <tbody>\n",
       "    <tr>\n",
       "      <th>0</th>\n",
       "      <td>A</td>\n",
       "      <td>F</td>\n",
       "      <td>75478173.0</td>\n",
       "      <td>25.505699</td>\n",
       "      <td>1.131973e+11</td>\n",
       "      <td>38251.814164</td>\n",
       "      <td>1.075364e+11</td>\n",
       "      <td>1.118389e+11</td>\n",
       "      <td>0.050004</td>\n",
       "      <td>2959267</td>\n",
       "    </tr>\n",
       "    <tr>\n",
       "      <th>1</th>\n",
       "      <td>N</td>\n",
       "      <td>F</td>\n",
       "      <td>1966480.0</td>\n",
       "      <td>25.530081</td>\n",
       "      <td>2.946115e+09</td>\n",
       "      <td>38248.316500</td>\n",
       "      <td>2.798797e+09</td>\n",
       "      <td>2.911030e+09</td>\n",
       "      <td>0.049996</td>\n",
       "      <td>77026</td>\n",
       "    </tr>\n",
       "    <tr>\n",
       "      <th>2</th>\n",
       "      <td>N</td>\n",
       "      <td>O</td>\n",
       "      <td>148642120.0</td>\n",
       "      <td>25.495192</td>\n",
       "      <td>2.229036e+11</td>\n",
       "      <td>38232.562546</td>\n",
       "      <td>2.117623e+11</td>\n",
       "      <td>2.202358e+11</td>\n",
       "      <td>0.049981</td>\n",
       "      <td>5830202</td>\n",
       "    </tr>\n",
       "    <tr>\n",
       "      <th>3</th>\n",
       "      <td>R</td>\n",
       "      <td>F</td>\n",
       "      <td>75577628.0</td>\n",
       "      <td>25.512150</td>\n",
       "      <td>1.133519e+11</td>\n",
       "      <td>38263.321544</td>\n",
       "      <td>1.076881e+11</td>\n",
       "      <td>1.119943e+11</td>\n",
       "      <td>0.049980</td>\n",
       "      <td>2962417</td>\n",
       "    </tr>\n",
       "  </tbody>\n",
       "</table>\n",
       "</div>"
      ],
      "text/plain": [
       "  L_RETURNFLAG L_LINESTATUS   L_QUANTITY            L_EXTENDEDPRICE  \\\n",
       "                                     sum       mean             sum   \n",
       "0            A            F   75478173.0  25.505699    1.131973e+11   \n",
       "1            N            F    1966480.0  25.530081    2.946115e+09   \n",
       "2            N            O  148642120.0  25.495192    2.229036e+11   \n",
       "3            R            F   75577628.0  25.512150    1.133519e+11   \n",
       "\n",
       "                   DISC_PRICE        CHARGE L_DISCOUNT L_ORDERKEY  \n",
       "           mean           sum           sum       mean      count  \n",
       "0  38251.814164  1.075364e+11  1.118389e+11   0.050004    2959267  \n",
       "1  38248.316500  2.798797e+09  2.911030e+09   0.049996      77026  \n",
       "2  38232.562546  2.117623e+11  2.202358e+11   0.049981    5830202  \n",
       "3  38263.321544  1.076881e+11  1.119943e+11   0.049980    2962417  "
      ]
     },
     "metadata": {
      "engine": 0
     },
     "output_type": "display_data"
    }
   ],
   "source": [
    "%%px\n",
    "@bodo.jit(cache=True)\n",
    "def q1(lineitem):\n",
    "    t1 = time.time()\n",
    "    sel = lineitem.L_SHIPDATE <= \"1998-09-02\"\n",
    "    flineitem = lineitem[sel]\n",
    "    flineitem[\"DISC_PRICE\"] = flineitem.L_EXTENDEDPRICE * (1 - flineitem.L_DISCOUNT)\n",
    "    flineitem[\"CHARGE\"] = (\n",
    "        flineitem.L_EXTENDEDPRICE * (1 - flineitem.L_DISCOUNT) * (1 + flineitem.L_TAX)\n",
    "    )\n",
    "    gb = flineitem.groupby([\"L_RETURNFLAG\", \"L_LINESTATUS\"], as_index=False)\n",
    "    total = gb.agg({\"L_QUANTITY\": [\"sum\", \"mean\"], \"L_EXTENDEDPRICE\": [\"sum\", \"mean\"],\n",
    "                   \"DISC_PRICE\": \"sum\", \"CHARGE\": \"sum\",\n",
    "                   \"L_DISCOUNT\": \"mean\", \"L_ORDERKEY\": \"count\"})\n",
    "    total = total.sort_values([\"L_RETURNFLAG\", \"L_LINESTATUS\"])\n",
    "    print(\"Execution time: \", ((time.time() - t1) * 1000), \" (ms)\")\n",
    "    return total.head(10)\n",
    "\n",
    "q1_result = q1(lineitem)\n",
    "if bodo.get_rank()==0:\n",
    "    display(q1_result)"
   ]
  },
  {
   "cell_type": "markdown",
   "metadata": {},
   "source": [
    "### Q3: Shipping Priority Query\n",
    "This query retrieves the 10 unshipped orders with the highest value.\n",
    "\n",
    "Make sure you have run **`load_lineitem`, `load_orders`, and `load_customer`** from [loading data section](#loading_data) before running this query."
   ]
  },
  {
   "cell_type": "code",
   "execution_count": 13,
   "metadata": {
    "execution": {
     "iopub.execute_input": "2022-04-25T15:44:00.909002Z",
     "iopub.status.busy": "2022-04-25T15:44:00.908830Z",
     "iopub.status.idle": "2022-04-25T15:44:06.610847Z",
     "shell.execute_reply": "2022-04-25T15:44:06.610461Z",
     "shell.execute_reply.started": "2022-04-25T15:44:00.908983Z"
    },
    "tags": []
   },
   "outputs": [
    {
     "data": {
      "application/vnd.jupyter.widget-view+json": {
       "model_id": "37af3f7bd54b437ead7b053f9e66bbba",
       "version_major": 2,
       "version_minor": 0
      },
      "text/plain": [
       "%px:   0%|          | 0/8 [00:00<?, ?tasks/s]"
      ]
     },
     "metadata": {},
     "output_type": "display_data"
    },
    {
     "data": {
      "text/plain": [
       "[stdout:0] Execution time:  149.40753529344875  (ms)\n"
      ]
     },
     "metadata": {},
     "output_type": "display_data"
    },
    {
     "data": {
      "text/plain": [
       "[output:0]"
      ]
     },
     "metadata": {},
     "output_type": "display_data"
    },
    {
     "data": {
      "text/html": [
       "<div>\n",
       "<style scoped>\n",
       "    .dataframe tbody tr th:only-of-type {\n",
       "        vertical-align: middle;\n",
       "    }\n",
       "\n",
       "    .dataframe tbody tr th {\n",
       "        vertical-align: top;\n",
       "    }\n",
       "\n",
       "    .dataframe thead th {\n",
       "        text-align: right;\n",
       "    }\n",
       "</style>\n",
       "<table border=\"1\" class=\"dataframe\">\n",
       "  <thead>\n",
       "    <tr style=\"text-align: right;\">\n",
       "      <th></th>\n",
       "      <th>L_ORDERKEY</th>\n",
       "      <th>TMP</th>\n",
       "      <th>O_ORDERDATE</th>\n",
       "      <th>O_SHIPPRIORITY</th>\n",
       "    </tr>\n",
       "  </thead>\n",
       "  <tbody>\n",
       "    <tr>\n",
       "      <th>22325</th>\n",
       "      <td>11495873</td>\n",
       "      <td>417031.8957</td>\n",
       "      <td>1995-01-17</td>\n",
       "      <td>0</td>\n",
       "    </tr>\n",
       "    <tr>\n",
       "      <th>3810</th>\n",
       "      <td>4163074</td>\n",
       "      <td>416152.8027</td>\n",
       "      <td>1995-02-13</td>\n",
       "      <td>0</td>\n",
       "    </tr>\n",
       "    <tr>\n",
       "      <th>7171</th>\n",
       "      <td>6487431</td>\n",
       "      <td>412710.0508</td>\n",
       "      <td>1995-02-06</td>\n",
       "      <td>0</td>\n",
       "    </tr>\n",
       "    <tr>\n",
       "      <th>20966</th>\n",
       "      <td>5536290</td>\n",
       "      <td>407857.9678</td>\n",
       "      <td>1995-01-31</td>\n",
       "      <td>0</td>\n",
       "    </tr>\n",
       "    <tr>\n",
       "      <th>16622</th>\n",
       "      <td>10666915</td>\n",
       "      <td>397407.4185</td>\n",
       "      <td>1995-02-14</td>\n",
       "      <td>0</td>\n",
       "    </tr>\n",
       "    <tr>\n",
       "      <th>12261</th>\n",
       "      <td>4225253</td>\n",
       "      <td>391852.7649</td>\n",
       "      <td>1995-02-28</td>\n",
       "      <td>0</td>\n",
       "    </tr>\n",
       "    <tr>\n",
       "      <th>12707</th>\n",
       "      <td>6232772</td>\n",
       "      <td>391241.2513</td>\n",
       "      <td>1995-01-17</td>\n",
       "      <td>0</td>\n",
       "    </tr>\n",
       "    <tr>\n",
       "      <th>20777</th>\n",
       "      <td>4724865</td>\n",
       "      <td>387185.9724</td>\n",
       "      <td>1995-02-03</td>\n",
       "      <td>0</td>\n",
       "    </tr>\n",
       "    <tr>\n",
       "      <th>6573</th>\n",
       "      <td>3900355</td>\n",
       "      <td>386089.5768</td>\n",
       "      <td>1995-02-13</td>\n",
       "      <td>0</td>\n",
       "    </tr>\n",
       "    <tr>\n",
       "      <th>20231</th>\n",
       "      <td>2377474</td>\n",
       "      <td>383057.9763</td>\n",
       "      <td>1995-02-26</td>\n",
       "      <td>0</td>\n",
       "    </tr>\n",
       "  </tbody>\n",
       "</table>\n",
       "</div>"
      ],
      "text/plain": [
       "       L_ORDERKEY          TMP O_ORDERDATE  O_SHIPPRIORITY\n",
       "22325    11495873  417031.8957  1995-01-17               0\n",
       "3810      4163074  416152.8027  1995-02-13               0\n",
       "7171      6487431  412710.0508  1995-02-06               0\n",
       "20966     5536290  407857.9678  1995-01-31               0\n",
       "16622    10666915  397407.4185  1995-02-14               0\n",
       "12261     4225253  391852.7649  1995-02-28               0\n",
       "12707     6232772  391241.2513  1995-01-17               0\n",
       "20777     4724865  387185.9724  1995-02-03               0\n",
       "6573      3900355  386089.5768  1995-02-13               0\n",
       "20231     2377474  383057.9763  1995-02-26               0"
      ]
     },
     "metadata": {
      "engine": 0
     },
     "output_type": "display_data"
    }
   ],
   "source": [
    "%%px\n",
    "\n",
    "@bodo.jit(cache=True)\n",
    "def q3(lineitem, orders, customer):\n",
    "    date = \"1995-03-04\"    \n",
    "    t1 = time.time()\n",
    "    lsel = lineitem.L_SHIPDATE > date\n",
    "    osel = orders.O_ORDERDATE < date\n",
    "    csel = customer.C_MKTSEGMENT == \"HOUSEHOLD\"\n",
    "    flineitem = lineitem[lsel]\n",
    "    forders = orders[osel]\n",
    "    fcustomer = customer[csel]\n",
    "    jn1 = fcustomer.merge(forders, left_on=\"C_CUSTKEY\", right_on=\"O_CUSTKEY\")\n",
    "    jn2 = jn1.merge(flineitem, left_on=\"O_ORDERKEY\", right_on=\"L_ORDERKEY\")\n",
    "\n",
    "    jn2[\"TMP\"] = jn2.L_EXTENDEDPRICE * (1 - jn2.L_DISCOUNT)\n",
    "\n",
    "    total = (\n",
    "        jn2.groupby(\n",
    "            [\"L_ORDERKEY\", \"O_ORDERDATE\", \"O_SHIPPRIORITY\"], as_index=False\n",
    "        )[\"TMP\"]\n",
    "        .sum()\n",
    "        .sort_values([\"TMP\"], ascending=False)\n",
    "    )\n",
    "    res = total[[\"L_ORDERKEY\", \"TMP\", \"O_ORDERDATE\", \"O_SHIPPRIORITY\"]]\n",
    "\n",
    "    print(\"Execution time: \", ((time.time() - t1) * 1000), \" (ms)\")\n",
    "    return res.head(10)\n",
    "\n",
    "q3_result = q3(lineitem, orders, customer)\n",
    "if bodo.get_rank()==0:\n",
    "    display(q3_result)"
   ]
  },
  {
   "cell_type": "markdown",
   "metadata": {},
   "source": [
    "### Q4: Order Priority Checking Query\n",
    "This query determines how well the order priority system is working and gives an assessment of customer satisfaction.\n",
    "\n",
    "Make sure you have run **`load_lineitem` and `load_orders`** from [loading data section](#loading_data) before running this query."
   ]
  },
  {
   "cell_type": "code",
   "execution_count": 14,
   "metadata": {
    "execution": {
     "iopub.execute_input": "2022-04-25T15:44:06.612328Z",
     "iopub.status.busy": "2022-04-25T15:44:06.611992Z",
     "iopub.status.idle": "2022-04-25T15:44:11.073959Z",
     "shell.execute_reply": "2022-04-25T15:44:11.073571Z",
     "shell.execute_reply.started": "2022-04-25T15:44:06.612310Z"
    },
    "tags": []
   },
   "outputs": [
    {
     "data": {
      "application/vnd.jupyter.widget-view+json": {
       "model_id": "7930918efeb24781a5d29f6a1968c01b",
       "version_major": 2,
       "version_minor": 0
      },
      "text/plain": [
       "%px:   0%|          | 0/8 [00:00<?, ?tasks/s]"
      ]
     },
     "metadata": {},
     "output_type": "display_data"
    },
    {
     "data": {
      "text/plain": [
       "[stdout:0] Execution time:  118.02445128023464  (ms)\n"
      ]
     },
     "metadata": {},
     "output_type": "display_data"
    },
    {
     "data": {
      "text/plain": [
       "[output:0]"
      ]
     },
     "metadata": {},
     "output_type": "display_data"
    },
    {
     "data": {
      "text/html": [
       "<div>\n",
       "<style scoped>\n",
       "    .dataframe tbody tr th:only-of-type {\n",
       "        vertical-align: middle;\n",
       "    }\n",
       "\n",
       "    .dataframe tbody tr th {\n",
       "        vertical-align: top;\n",
       "    }\n",
       "\n",
       "    .dataframe thead th {\n",
       "        text-align: right;\n",
       "    }\n",
       "</style>\n",
       "<table border=\"1\" class=\"dataframe\">\n",
       "  <thead>\n",
       "    <tr style=\"text-align: right;\">\n",
       "      <th></th>\n",
       "      <th>O_ORDERPRIORITY</th>\n",
       "      <th>O_ORDERKEY</th>\n",
       "    </tr>\n",
       "  </thead>\n",
       "  <tbody>\n",
       "    <tr>\n",
       "      <th>2</th>\n",
       "      <td>1-URGENT</td>\n",
       "      <td>21039</td>\n",
       "    </tr>\n",
       "    <tr>\n",
       "      <th>4</th>\n",
       "      <td>2-HIGH</td>\n",
       "      <td>20986</td>\n",
       "    </tr>\n",
       "    <tr>\n",
       "      <th>1</th>\n",
       "      <td>3-MEDIUM</td>\n",
       "      <td>20918</td>\n",
       "    </tr>\n",
       "    <tr>\n",
       "      <th>0</th>\n",
       "      <td>4-NOT SPECIFIED</td>\n",
       "      <td>21056</td>\n",
       "    </tr>\n",
       "    <tr>\n",
       "      <th>3</th>\n",
       "      <td>5-LOW</td>\n",
       "      <td>21247</td>\n",
       "    </tr>\n",
       "  </tbody>\n",
       "</table>\n",
       "</div>"
      ],
      "text/plain": [
       "   O_ORDERPRIORITY  O_ORDERKEY\n",
       "2         1-URGENT       21039\n",
       "4           2-HIGH       20986\n",
       "1         3-MEDIUM       20918\n",
       "0  4-NOT SPECIFIED       21056\n",
       "3            5-LOW       21247"
      ]
     },
     "metadata": {
      "engine": 0
     },
     "output_type": "display_data"
    }
   ],
   "source": [
    "%%px\n",
    "@bodo.jit(cache=True)\n",
    "def q4(lineitem, orders):\n",
    "    date1 = \"1993-11-01\"\n",
    "    date2 = \"1993-08-01\"\n",
    "    t1 = time.time()\n",
    "    lsel = lineitem.L_COMMITDATE < lineitem.L_RECEIPTDATE\n",
    "    osel = (orders.O_ORDERDATE < date1) & (orders.O_ORDERDATE >= date2)\n",
    "    flineitem = lineitem[lsel]\n",
    "    forders = orders[osel]\n",
    "    jn = forders[forders[\"O_ORDERKEY\"].isin(flineitem[\"L_ORDERKEY\"])]\n",
    "    total = (\n",
    "        jn.groupby(\"O_ORDERPRIORITY\", as_index=False)[\"O_ORDERKEY\"]\n",
    "        .count()\n",
    "        .sort_values([\"O_ORDERPRIORITY\"])\n",
    "    )\n",
    "    print(\"Execution time: \", ((time.time() - t1) * 1000), \" (ms)\")\n",
    "    return total.head(10)\n",
    "\n",
    "q4_result = q4(lineitem, orders)\n",
    "if bodo.get_rank()==0:\n",
    "    display(q4_result)"
   ]
  },
  {
   "cell_type": "markdown",
   "metadata": {},
   "source": [
    "### Q6: Forecasting Revenue Change Query\n",
    "This query quantifies the amount of revenue increase that would have resulted from eliminating certain company-wide discounts in a given percentage range in a given year.\n",
    "\n",
    "Make sure you have run **`load_lineitem`** from [loading data section](#loading_data) before running this query."
   ]
  },
  {
   "cell_type": "code",
   "execution_count": 15,
   "metadata": {
    "execution": {
     "iopub.execute_input": "2022-04-25T15:44:11.074744Z",
     "iopub.status.busy": "2022-04-25T15:44:11.074391Z",
     "iopub.status.idle": "2022-04-25T15:44:15.049685Z",
     "shell.execute_reply": "2022-04-25T15:44:15.048691Z",
     "shell.execute_reply.started": "2022-04-25T15:44:11.074726Z"
    },
    "tags": []
   },
   "outputs": [
    {
     "data": {
      "application/vnd.jupyter.widget-view+json": {
       "model_id": "5f945d3c57b14f738719914f980b8d9a",
       "version_major": 2,
       "version_minor": 0
      },
      "text/plain": [
       "%px:   0%|          | 0/8 [00:00<?, ?tasks/s]"
      ]
     },
     "metadata": {},
     "output_type": "display_data"
    },
    {
     "data": {
      "text/plain": [
       "[stdout:0] Execution time:  38.8723675307574  (ms)\n",
       "369930968.9013014\n"
      ]
     },
     "metadata": {},
     "output_type": "display_data"
    }
   ],
   "source": [
    "%%px\n",
    "@bodo.jit(cache=True)\n",
    "def q6(lineitem):\n",
    "    date1 = \"1996-01-01\"\n",
    "    date2 = \"1997-01-01\"\n",
    "    t1 = time.time()\n",
    "    sel = (\n",
    "        (lineitem.L_SHIPDATE >= date1)\n",
    "        & (lineitem.L_SHIPDATE < date2)\n",
    "        & (lineitem.L_DISCOUNT >= 0.08)\n",
    "        & (lineitem.L_DISCOUNT <= 0.1)\n",
    "        & (lineitem.L_QUANTITY < 24)\n",
    "    )\n",
    "    flineitem = lineitem[sel]\n",
    "    total = (flineitem.L_EXTENDEDPRICE * flineitem.L_DISCOUNT).sum()\n",
    "    print(\"Execution time: \", ((time.time() - t1) * 1000), \" (ms)\")\n",
    "    print(total)\n",
    "    return total\n",
    "\n",
    "q6_result = q6(lineitem)"
   ]
  },
  {
   "cell_type": "markdown",
   "metadata": {},
   "source": [
    "### Q9: Product Type Profit Measure Query\n",
    "This query determines how much profit is made on a given line of parts, broken out by supplier nation and year.\n",
    "\n",
    "Make sure you have run **`load_lineitem`, `load_orders`, `load_part`, `load_nation`, `load_partsupp`, and `load_supplier`** from [loading data section](#loading_data) before running this query."
   ]
  },
  {
   "cell_type": "code",
   "execution_count": 16,
   "metadata": {
    "execution": {
     "iopub.execute_input": "2022-04-25T15:44:15.050571Z",
     "iopub.status.busy": "2022-04-25T15:44:15.050227Z",
     "iopub.status.idle": "2022-04-25T15:44:23.396991Z",
     "shell.execute_reply": "2022-04-25T15:44:23.396190Z",
     "shell.execute_reply.started": "2022-04-25T15:44:15.050554Z"
    },
    "tags": []
   },
   "outputs": [
    {
     "data": {
      "application/vnd.jupyter.widget-view+json": {
       "model_id": "ce9b0734eec7407fb4c1dd29c0835ef6",
       "version_major": 2,
       "version_minor": 0
      },
      "text/plain": [
       "%px:   0%|          | 0/8 [00:00<?, ?tasks/s]"
      ]
     },
     "metadata": {},
     "output_type": "display_data"
    },
    {
     "data": {
      "text/plain": [
       "[stdout:0] Execution time:  214.06428528825927  (ms)\n"
      ]
     },
     "metadata": {},
     "output_type": "display_data"
    },
    {
     "data": {
      "text/plain": [
       "[output:0]"
      ]
     },
     "metadata": {},
     "output_type": "display_data"
    },
    {
     "data": {
      "text/html": [
       "<div>\n",
       "<style scoped>\n",
       "    .dataframe tbody tr th:only-of-type {\n",
       "        vertical-align: middle;\n",
       "    }\n",
       "\n",
       "    .dataframe tbody tr th {\n",
       "        vertical-align: top;\n",
       "    }\n",
       "\n",
       "    .dataframe thead th {\n",
       "        text-align: right;\n",
       "    }\n",
       "</style>\n",
       "<table border=\"1\" class=\"dataframe\">\n",
       "  <thead>\n",
       "    <tr style=\"text-align: right;\">\n",
       "      <th></th>\n",
       "      <th>N_NAME</th>\n",
       "      <th>O_YEAR</th>\n",
       "      <th>TMP</th>\n",
       "    </tr>\n",
       "  </thead>\n",
       "  <tbody>\n",
       "    <tr>\n",
       "      <th>63</th>\n",
       "      <td>ALGERIA</td>\n",
       "      <td>1998</td>\n",
       "      <td>5.356921e+07</td>\n",
       "    </tr>\n",
       "    <tr>\n",
       "      <th>76</th>\n",
       "      <td>ALGERIA</td>\n",
       "      <td>1997</td>\n",
       "      <td>9.099153e+07</td>\n",
       "    </tr>\n",
       "    <tr>\n",
       "      <th>74</th>\n",
       "      <td>ALGERIA</td>\n",
       "      <td>1996</td>\n",
       "      <td>9.347106e+07</td>\n",
       "    </tr>\n",
       "    <tr>\n",
       "      <th>159</th>\n",
       "      <td>ALGERIA</td>\n",
       "      <td>1995</td>\n",
       "      <td>8.867859e+07</td>\n",
       "    </tr>\n",
       "    <tr>\n",
       "      <th>73</th>\n",
       "      <td>ALGERIA</td>\n",
       "      <td>1994</td>\n",
       "      <td>8.825740e+07</td>\n",
       "    </tr>\n",
       "    <tr>\n",
       "      <th>7</th>\n",
       "      <td>ALGERIA</td>\n",
       "      <td>1993</td>\n",
       "      <td>9.180006e+07</td>\n",
       "    </tr>\n",
       "    <tr>\n",
       "      <th>54</th>\n",
       "      <td>ALGERIA</td>\n",
       "      <td>1992</td>\n",
       "      <td>8.803464e+07</td>\n",
       "    </tr>\n",
       "    <tr>\n",
       "      <th>171</th>\n",
       "      <td>ARGENTINA</td>\n",
       "      <td>1998</td>\n",
       "      <td>5.681634e+07</td>\n",
       "    </tr>\n",
       "    <tr>\n",
       "      <th>141</th>\n",
       "      <td>ARGENTINA</td>\n",
       "      <td>1997</td>\n",
       "      <td>9.869196e+07</td>\n",
       "    </tr>\n",
       "    <tr>\n",
       "      <th>156</th>\n",
       "      <td>ARGENTINA</td>\n",
       "      <td>1996</td>\n",
       "      <td>1.025402e+08</td>\n",
       "    </tr>\n",
       "  </tbody>\n",
       "</table>\n",
       "</div>"
      ],
      "text/plain": [
       "        N_NAME  O_YEAR           TMP\n",
       "63     ALGERIA    1998  5.356921e+07\n",
       "76     ALGERIA    1997  9.099153e+07\n",
       "74     ALGERIA    1996  9.347106e+07\n",
       "159    ALGERIA    1995  8.867859e+07\n",
       "73     ALGERIA    1994  8.825740e+07\n",
       "7      ALGERIA    1993  9.180006e+07\n",
       "54     ALGERIA    1992  8.803464e+07\n",
       "171  ARGENTINA    1998  5.681634e+07\n",
       "141  ARGENTINA    1997  9.869196e+07\n",
       "156  ARGENTINA    1996  1.025402e+08"
      ]
     },
     "metadata": {
      "engine": 0
     },
     "output_type": "display_data"
    }
   ],
   "source": [
    "%%px\n",
    "@bodo.jit(cache=True)\n",
    "def q9(lineitem, orders, part, nation, partsupp, supplier):\n",
    "    t1 = time.time()\n",
    "    psel = part.P_NAME.str.contains(\"ghost\")\n",
    "    fpart = part[psel]\n",
    "    jn1 = lineitem.merge(fpart, left_on=\"L_PARTKEY\", right_on=\"P_PARTKEY\")\n",
    "    jn2 = jn1.merge(supplier, left_on=\"L_SUPPKEY\", right_on=\"S_SUPPKEY\")\n",
    "    jn3 = jn2.merge(nation, left_on=\"S_NATIONKEY\", right_on=\"N_NATIONKEY\")\n",
    "    jn4 = partsupp.merge(\n",
    "        jn3, left_on=[\"PS_PARTKEY\", \"PS_SUPPKEY\"], right_on=[\"L_PARTKEY\", \"L_SUPPKEY\"]\n",
    "    )\n",
    "    jn5 = jn4.merge(orders, left_on=\"L_ORDERKEY\", right_on=\"O_ORDERKEY\")\n",
    "    jn5[\"TMP\"] = jn5.L_EXTENDEDPRICE * (1 - jn5.L_DISCOUNT) - (\n",
    "        (1 * jn5.PS_SUPPLYCOST) * jn5.L_QUANTITY\n",
    "    )\n",
    "    jn5[\"O_YEAR\"] = jn5.O_ORDERDATE.dt.year\n",
    "    gb = jn5.groupby([\"N_NAME\", \"O_YEAR\"], as_index=False)[\"TMP\"].sum()\n",
    "    total = gb.sort_values([\"N_NAME\", \"O_YEAR\"], ascending=[True, False])\n",
    "    print(\"Execution time: \", ((time.time() - t1) * 1000), \" (ms)\")\n",
    "    return total.head(10)\n",
    "\n",
    "q9_result = q9(lineitem, orders, part, nation, partsupp, supplier)\n",
    "if bodo.get_rank()==0:\n",
    "    display(q9_result)"
   ]
  },
  {
   "cell_type": "markdown",
   "metadata": {},
   "source": [
    "### Q10: Returned Item Reporting Query\n",
    "This query identifies customers who might be having problems with the parts that are shipped to them.\n",
    "\n",
    "Make sure you have run **`load_lineitem`, `load_orders`, `load_customer`, and `load_nation`** from [loading data section](#loading_data) before running this query."
   ]
  },
  {
   "cell_type": "code",
   "execution_count": 17,
   "metadata": {
    "execution": {
     "iopub.execute_input": "2022-04-25T15:44:23.397602Z",
     "iopub.status.busy": "2022-04-25T15:44:23.397437Z",
     "iopub.status.idle": "2022-04-25T15:44:30.341658Z",
     "shell.execute_reply": "2022-04-25T15:44:30.340957Z",
     "shell.execute_reply.started": "2022-04-25T15:44:23.397585Z"
    },
    "tags": []
   },
   "outputs": [
    {
     "data": {
      "application/vnd.jupyter.widget-view+json": {
       "model_id": "4d3f4f4e077143fd83aff51ab3d56370",
       "version_major": 2,
       "version_minor": 0
      },
      "text/plain": [
       "%px:   0%|          | 0/8 [00:00<?, ?tasks/s]"
      ]
     },
     "metadata": {},
     "output_type": "display_data"
    },
    {
     "data": {
      "text/plain": [
       "[stdout:0] Execution time:  172.7249435707563  (ms)\n"
      ]
     },
     "metadata": {},
     "output_type": "display_data"
    },
    {
     "data": {
      "text/plain": [
       "[output:0]"
      ]
     },
     "metadata": {},
     "output_type": "display_data"
    },
    {
     "data": {
      "text/html": [
       "<div>\n",
       "<style scoped>\n",
       "    .dataframe tbody tr th:only-of-type {\n",
       "        vertical-align: middle;\n",
       "    }\n",
       "\n",
       "    .dataframe tbody tr th {\n",
       "        vertical-align: top;\n",
       "    }\n",
       "\n",
       "    .dataframe thead th {\n",
       "        text-align: right;\n",
       "    }\n",
       "</style>\n",
       "<table border=\"1\" class=\"dataframe\">\n",
       "  <thead>\n",
       "    <tr style=\"text-align: right;\">\n",
       "      <th></th>\n",
       "      <th>C_CUSTKEY</th>\n",
       "      <th>C_NAME</th>\n",
       "      <th>C_ACCTBAL</th>\n",
       "      <th>C_PHONE</th>\n",
       "      <th>N_NAME</th>\n",
       "      <th>C_ADDRESS</th>\n",
       "      <th>C_COMMENT</th>\n",
       "      <th>TMP</th>\n",
       "    </tr>\n",
       "  </thead>\n",
       "  <tbody>\n",
       "    <tr>\n",
       "      <th>6507</th>\n",
       "      <td>202000</td>\n",
       "      <td>Customer#000202000</td>\n",
       "      <td>3155.77</td>\n",
       "      <td>30-860-645-7227</td>\n",
       "      <td>SAUDI ARABIA</td>\n",
       "      <td>RITU1eYat8iNeD</td>\n",
       "      <td>arls. unusual sauternes boost along the even d...</td>\n",
       "      <td>755353.7227</td>\n",
       "    </tr>\n",
       "    <tr>\n",
       "      <th>32807</th>\n",
       "      <td>117250</td>\n",
       "      <td>Customer#000117250</td>\n",
       "      <td>8260.39</td>\n",
       "      <td>17-524-241-3788</td>\n",
       "      <td>GERMANY</td>\n",
       "      <td>2N bS9peD0b5Dr3tf Vbxq</td>\n",
       "      <td>l theodolites. slyly even decoys after the fur...</td>\n",
       "      <td>724785.0804</td>\n",
       "    </tr>\n",
       "    <tr>\n",
       "      <th>39736</th>\n",
       "      <td>67172</td>\n",
       "      <td>Customer#000067172</td>\n",
       "      <td>1747.27</td>\n",
       "      <td>21-578-917-6336</td>\n",
       "      <td>IRAQ</td>\n",
       "      <td>IxhKZyFCzL3Ch5qKOxjvATnj1DT6A6hnXNVH</td>\n",
       "      <td>e furiously of the quickly regular requests. f...</td>\n",
       "      <td>710060.3908</td>\n",
       "    </tr>\n",
       "    <tr>\n",
       "      <th>60255</th>\n",
       "      <td>87863</td>\n",
       "      <td>Customer#000087863</td>\n",
       "      <td>3105.23</td>\n",
       "      <td>21-393-302-3317</td>\n",
       "      <td>IRAQ</td>\n",
       "      <td>pzMIGld2L1N2RjI8</td>\n",
       "      <td>ckages. carefully close instructions sleep qui...</td>\n",
       "      <td>670339.9103</td>\n",
       "    </tr>\n",
       "    <tr>\n",
       "      <th>37308</th>\n",
       "      <td>284104</td>\n",
       "      <td>Customer#000284104</td>\n",
       "      <td>2668.71</td>\n",
       "      <td>32-167-107-4631</td>\n",
       "      <td>RUSSIA</td>\n",
       "      <td>ZyqUNCEiF3G1E7nmKPBnf Uzk</td>\n",
       "      <td>ages haggle blithely along the ironic deposits...</td>\n",
       "      <td>658410.5580</td>\n",
       "    </tr>\n",
       "    <tr>\n",
       "      <th>52574</th>\n",
       "      <td>168475</td>\n",
       "      <td>Customer#000168475</td>\n",
       "      <td>3873.61</td>\n",
       "      <td>21-537-772-3811</td>\n",
       "      <td>IRAQ</td>\n",
       "      <td>eaNNmHamiNHcgWKyiMqMP</td>\n",
       "      <td>ular dolphins. unusual deposits haggle pending...</td>\n",
       "      <td>653657.0433</td>\n",
       "    </tr>\n",
       "    <tr>\n",
       "      <th>25309</th>\n",
       "      <td>217825</td>\n",
       "      <td>Customer#000217825</td>\n",
       "      <td>1753.84</td>\n",
       "      <td>23-765-943-1680</td>\n",
       "      <td>JORDAN</td>\n",
       "      <td>VQGXiCNltZCst5bep2T62ODXANsLYm</td>\n",
       "      <td>thely final deposits: carefully even accounts ...</td>\n",
       "      <td>652603.2797</td>\n",
       "    </tr>\n",
       "    <tr>\n",
       "      <th>18604</th>\n",
       "      <td>288742</td>\n",
       "      <td>Customer#000288742</td>\n",
       "      <td>6316.82</td>\n",
       "      <td>12-549-320-8899</td>\n",
       "      <td>BRAZIL</td>\n",
       "      <td>zy3eDgxy33rL5umYEGUShZjScaR0uhlpaLwI</td>\n",
       "      <td>ideas? ironic, ironic packages sle</td>\n",
       "      <td>641153.5757</td>\n",
       "    </tr>\n",
       "    <tr>\n",
       "      <th>58920</th>\n",
       "      <td>50281</td>\n",
       "      <td>Customer#000050281</td>\n",
       "      <td>3306.39</td>\n",
       "      <td>25-210-337-8539</td>\n",
       "      <td>MOROCCO</td>\n",
       "      <td>G2Tb39F1Fz2 upMhG7EpGJMu</td>\n",
       "      <td>ests. slyly express requests doubt fluffily ev...</td>\n",
       "      <td>640923.7708</td>\n",
       "    </tr>\n",
       "    <tr>\n",
       "      <th>14727</th>\n",
       "      <td>159304</td>\n",
       "      <td>Customer#000159304</td>\n",
       "      <td>-342.39</td>\n",
       "      <td>18-681-863-8034</td>\n",
       "      <td>INDIA</td>\n",
       "      <td>NNDLOnfKDE9OEd96gOrw</td>\n",
       "      <td>nic platelets cajole: furiously bold dinos nag...</td>\n",
       "      <td>631296.2304</td>\n",
       "    </tr>\n",
       "  </tbody>\n",
       "</table>\n",
       "</div>"
      ],
      "text/plain": [
       "       C_CUSTKEY              C_NAME  C_ACCTBAL          C_PHONE  \\\n",
       "6507      202000  Customer#000202000    3155.77  30-860-645-7227   \n",
       "32807     117250  Customer#000117250    8260.39  17-524-241-3788   \n",
       "39736      67172  Customer#000067172    1747.27  21-578-917-6336   \n",
       "60255      87863  Customer#000087863    3105.23  21-393-302-3317   \n",
       "37308     284104  Customer#000284104    2668.71  32-167-107-4631   \n",
       "52574     168475  Customer#000168475    3873.61  21-537-772-3811   \n",
       "25309     217825  Customer#000217825    1753.84  23-765-943-1680   \n",
       "18604     288742  Customer#000288742    6316.82  12-549-320-8899   \n",
       "58920      50281  Customer#000050281    3306.39  25-210-337-8539   \n",
       "14727     159304  Customer#000159304    -342.39  18-681-863-8034   \n",
       "\n",
       "             N_NAME                             C_ADDRESS  \\\n",
       "6507   SAUDI ARABIA                        RITU1eYat8iNeD   \n",
       "32807       GERMANY                2N bS9peD0b5Dr3tf Vbxq   \n",
       "39736          IRAQ  IxhKZyFCzL3Ch5qKOxjvATnj1DT6A6hnXNVH   \n",
       "60255          IRAQ                      pzMIGld2L1N2RjI8   \n",
       "37308        RUSSIA             ZyqUNCEiF3G1E7nmKPBnf Uzk   \n",
       "52574          IRAQ                 eaNNmHamiNHcgWKyiMqMP   \n",
       "25309        JORDAN        VQGXiCNltZCst5bep2T62ODXANsLYm   \n",
       "18604        BRAZIL  zy3eDgxy33rL5umYEGUShZjScaR0uhlpaLwI   \n",
       "58920       MOROCCO              G2Tb39F1Fz2 upMhG7EpGJMu   \n",
       "14727         INDIA                  NNDLOnfKDE9OEd96gOrw   \n",
       "\n",
       "                                               C_COMMENT          TMP  \n",
       "6507   arls. unusual sauternes boost along the even d...  755353.7227  \n",
       "32807  l theodolites. slyly even decoys after the fur...  724785.0804  \n",
       "39736  e furiously of the quickly regular requests. f...  710060.3908  \n",
       "60255  ckages. carefully close instructions sleep qui...  670339.9103  \n",
       "37308  ages haggle blithely along the ironic deposits...  658410.5580  \n",
       "52574  ular dolphins. unusual deposits haggle pending...  653657.0433  \n",
       "25309  thely final deposits: carefully even accounts ...  652603.2797  \n",
       "18604                 ideas? ironic, ironic packages sle  641153.5757  \n",
       "58920  ests. slyly express requests doubt fluffily ev...  640923.7708  \n",
       "14727  nic platelets cajole: furiously bold dinos nag...  631296.2304  "
      ]
     },
     "metadata": {
      "engine": 0
     },
     "output_type": "display_data"
    }
   ],
   "source": [
    "%%px\n",
    "@bodo.jit(cache=True)\n",
    "def q10(lineitem, orders, customer, nation):\n",
    "    date1 = \"1994-11-01\"\n",
    "    date2 = \"1995-02-01\"\n",
    "    t1 = time.time()\n",
    "    osel = (orders.O_ORDERDATE >= date1) & (orders.O_ORDERDATE < date2)\n",
    "    lsel = lineitem.L_RETURNFLAG == \"R\"\n",
    "    forders = orders[osel]\n",
    "    flineitem = lineitem[lsel]\n",
    "    jn1 = flineitem.merge(forders, left_on=\"L_ORDERKEY\", right_on=\"O_ORDERKEY\")\n",
    "    jn2 = jn1.merge(customer, left_on=\"O_CUSTKEY\", right_on=\"C_CUSTKEY\")\n",
    "    jn3 = jn2.merge(nation, left_on=\"C_NATIONKEY\", right_on=\"N_NATIONKEY\")\n",
    "    jn3[\"TMP\"] = jn3.L_EXTENDEDPRICE * (1.0 - jn3.L_DISCOUNT)\n",
    "    gb = jn3.groupby(\n",
    "        [\n",
    "            \"C_CUSTKEY\",\n",
    "            \"C_NAME\",\n",
    "            \"C_ACCTBAL\",\n",
    "            \"C_PHONE\",\n",
    "            \"N_NAME\",\n",
    "            \"C_ADDRESS\",\n",
    "            \"C_COMMENT\",\n",
    "        ],\n",
    "        as_index=False,\n",
    "    )[\"TMP\"].sum()\n",
    "    total = gb.sort_values(\"TMP\", ascending=False)\n",
    "    print(\"Execution time: \", ((time.time() - t1) * 1000), \" (ms)\")\n",
    "    return total.head(10)\n",
    "\n",
    "q10_result = q10(lineitem, orders, customer, nation)\n",
    "if bodo.get_rank()==0:\n",
    "    display(q10_result)"
   ]
  },
  {
   "cell_type": "markdown",
   "metadata": {},
   "source": [
    "### Q12: Shipping Modes and Order Priority Query\n",
    "This query determines whether selecting less expensive modes of shipping is negatively affecting the critical-priority orders by causing more parts to be received by customers after the committed date.\n",
    "\n",
    "Make sure you have run **`load_lineitem` and `load_orders`** from [loading data section](#loading_data) before running this query."
   ]
  },
  {
   "cell_type": "code",
   "execution_count": 18,
   "metadata": {
    "execution": {
     "iopub.execute_input": "2022-04-25T15:44:30.342444Z",
     "iopub.status.busy": "2022-04-25T15:44:30.342112Z",
     "iopub.status.idle": "2022-04-25T15:44:40.562980Z",
     "shell.execute_reply": "2022-04-25T15:44:40.562342Z",
     "shell.execute_reply.started": "2022-04-25T15:44:30.342426Z"
    },
    "tags": []
   },
   "outputs": [
    {
     "data": {
      "application/vnd.jupyter.widget-view+json": {
       "model_id": "bab8474a4ec8479fbfd9d6a6694979da",
       "version_major": 2,
       "version_minor": 0
      },
      "text/plain": [
       "%px:   0%|          | 0/8 [00:00<?, ?tasks/s]"
      ]
     },
     "metadata": {},
     "output_type": "display_data"
    },
    {
     "data": {
      "text/plain": [
       "[stdout:0] Execution time:  171.15456157534936  (ms)\n"
      ]
     },
     "metadata": {},
     "output_type": "display_data"
    },
    {
     "data": {
      "text/plain": [
       "[output:0]"
      ]
     },
     "metadata": {},
     "output_type": "display_data"
    },
    {
     "data": {
      "text/html": [
       "<div>\n",
       "<style scoped>\n",
       "    .dataframe tbody tr th:only-of-type {\n",
       "        vertical-align: middle;\n",
       "    }\n",
       "\n",
       "    .dataframe tbody tr th {\n",
       "        vertical-align: top;\n",
       "    }\n",
       "\n",
       "    .dataframe thead th {\n",
       "        text-align: right;\n",
       "    }\n",
       "</style>\n",
       "<table border=\"1\" class=\"dataframe\">\n",
       "  <thead>\n",
       "    <tr style=\"text-align: right;\">\n",
       "      <th></th>\n",
       "      <th>L_SHIPMODE</th>\n",
       "      <th>g1</th>\n",
       "      <th>g2</th>\n",
       "    </tr>\n",
       "  </thead>\n",
       "  <tbody>\n",
       "    <tr>\n",
       "      <th>0</th>\n",
       "      <td>MAIL</td>\n",
       "      <td>12354</td>\n",
       "      <td>18548</td>\n",
       "    </tr>\n",
       "    <tr>\n",
       "      <th>1</th>\n",
       "      <td>SHIP</td>\n",
       "      <td>12430</td>\n",
       "      <td>18644</td>\n",
       "    </tr>\n",
       "  </tbody>\n",
       "</table>\n",
       "</div>"
      ],
      "text/plain": [
       "  L_SHIPMODE     g1     g2\n",
       "0       MAIL  12354  18548\n",
       "1       SHIP  12430  18644"
      ]
     },
     "metadata": {
      "engine": 0
     },
     "output_type": "display_data"
    }
   ],
   "source": [
    "%%px\n",
    "@bodo.jit(cache=True)\n",
    "def q12(lineitem, orders):\n",
    "    date1 = \"1994-01-01\"\n",
    "    date2 = \"1995-01-01\"\n",
    "    t1 = time.time()\n",
    "    sel = (\n",
    "        (lineitem.L_RECEIPTDATE < date2)\n",
    "        & (lineitem.L_COMMITDATE < date2)\n",
    "        & (lineitem.L_SHIPDATE < date2)\n",
    "        & (lineitem.L_SHIPDATE < lineitem.L_COMMITDATE)\n",
    "        & (lineitem.L_COMMITDATE < lineitem.L_RECEIPTDATE)\n",
    "        & (lineitem.L_RECEIPTDATE >= date1)\n",
    "        & ((lineitem.L_SHIPMODE == \"MAIL\") | (lineitem.L_SHIPMODE == \"SHIP\"))\n",
    "    )\n",
    "    flineitem = lineitem[sel]\n",
    "    jn = flineitem.merge(orders, left_on=\"L_ORDERKEY\", right_on=\"O_ORDERKEY\")\n",
    "\n",
    "    def g1(x):\n",
    "        return ((x == \"1-URGENT\") | (x == \"2-HIGH\")).sum()\n",
    "\n",
    "    def g2(x):\n",
    "        return ((x != \"1-URGENT\") & (x != \"2-HIGH\")).sum()\n",
    "\n",
    "    total = jn.groupby(\"L_SHIPMODE\", as_index=False)[\"O_ORDERPRIORITY\"].agg((g1, g2))\n",
    "    total = total.sort_values(\"L_SHIPMODE\")\n",
    "    print(\"Execution time: \", ((time.time() - t1) * 1000), \" (ms)\")\n",
    "    return total.head(10)\n",
    "\n",
    "q12_result = q12(lineitem, orders)\n",
    "if bodo.get_rank()==0:\n",
    "    display(q12_result)"
   ]
  },
  {
   "cell_type": "markdown",
   "metadata": {},
   "source": [
    "### Q14: Promotion Effect Query\n",
    "This query monitors the market response to a promotion such as TV advertisements or a special campaign.\n",
    "\n",
    "Make sure you have run **`load_lineitem`** and **`load_part`** from [loading data section](#loading_data) before running this query."
   ]
  },
  {
   "cell_type": "code",
   "execution_count": 19,
   "metadata": {
    "execution": {
     "iopub.execute_input": "2022-04-25T15:44:40.563634Z",
     "iopub.status.busy": "2022-04-25T15:44:40.563466Z",
     "iopub.status.idle": "2022-04-25T15:44:44.952066Z",
     "shell.execute_reply": "2022-04-25T15:44:44.951185Z",
     "shell.execute_reply.started": "2022-04-25T15:44:40.563616Z"
    },
    "tags": []
   },
   "outputs": [
    {
     "data": {
      "application/vnd.jupyter.widget-view+json": {
       "model_id": "25e4ecfe10e5458aa106fe1704065707",
       "version_major": 2,
       "version_minor": 0
      },
      "text/plain": [
       "%px:   0%|          | 0/8 [00:00<?, ?tasks/s]"
      ]
     },
     "metadata": {},
     "output_type": "display_data"
    },
    {
     "data": {
      "text/plain": [
       "[stdout:0] Execution time:  47.63511163855583  (ms)\n",
       "16.545810644547505\n"
      ]
     },
     "metadata": {},
     "output_type": "display_data"
    }
   ],
   "source": [
    "%%px\n",
    "@bodo.jit(cache=True)\n",
    "def q14(lineitem, part):\n",
    "    startDate = \"1994-03-01\"\n",
    "    endDate = \"1994-04-01\"\n",
    "    p_type_like = \"PROMO\"\n",
    "    t1 = time.time()\n",
    "    sel = (lineitem.L_SHIPDATE >= startDate) & (lineitem.L_SHIPDATE < endDate)\n",
    "    flineitem = lineitem[sel]\n",
    "    jn = flineitem.merge(part, left_on=\"L_PARTKEY\", right_on=\"P_PARTKEY\")\n",
    "    jn[\"TMP\"] = jn.L_EXTENDEDPRICE * (1.0 - jn.L_DISCOUNT)\n",
    "    total = jn[jn.P_TYPE.str.startswith(p_type_like)].TMP.sum() * 100 / jn.TMP.sum()\n",
    "    print(\"Execution time: \", ((time.time() - t1) * 1000), \" (ms)\")\n",
    "    print(total)\n",
    "    return total\n",
    "\n",
    "q14_result = q14(lineitem, part)"
   ]
  },
  {
   "cell_type": "markdown",
   "metadata": {},
   "source": [
    "### Q18: Large Volume Customer Query\n",
    "This query ranks customers based on their having placed a large quantity order. Large quantity orders are defined as those orders whose total quantity is above a certain level.\n",
    "\n",
    "Make sure you have run **`load_lineitem`, `load_orders`, and `load_customer`** from [loading data section](#loading_data) before running this query."
   ]
  },
  {
   "cell_type": "code",
   "execution_count": 20,
   "metadata": {
    "execution": {
     "iopub.execute_input": "2022-04-25T15:44:44.952728Z",
     "iopub.status.busy": "2022-04-25T15:44:44.952562Z",
     "iopub.status.idle": "2022-04-25T15:44:47.863204Z",
     "shell.execute_reply": "2022-04-25T15:44:47.862612Z",
     "shell.execute_reply.started": "2022-04-25T15:44:44.952710Z"
    },
    "tags": []
   },
   "outputs": [
    {
     "data": {
      "application/vnd.jupyter.widget-view+json": {
       "model_id": "843cc10d2b874fdf9bcdd0f1b5be9af4",
       "version_major": 2,
       "version_minor": 0
      },
      "text/plain": [
       "%px:   0%|          | 0/8 [00:00<?, ?tasks/s]"
      ]
     },
     "metadata": {},
     "output_type": "display_data"
    },
    {
     "data": {
      "text/plain": [
       "[stdout:0] Execution time:  216.75819651068196  (ms)\n"
      ]
     },
     "metadata": {},
     "output_type": "display_data"
    },
    {
     "data": {
      "text/plain": [
       "[output:0]"
      ]
     },
     "metadata": {},
     "output_type": "display_data"
    },
    {
     "data": {
      "text/html": [
       "<div>\n",
       "<style scoped>\n",
       "    .dataframe tbody tr th:only-of-type {\n",
       "        vertical-align: middle;\n",
       "    }\n",
       "\n",
       "    .dataframe tbody tr th {\n",
       "        vertical-align: top;\n",
       "    }\n",
       "\n",
       "    .dataframe thead th {\n",
       "        text-align: right;\n",
       "    }\n",
       "</style>\n",
       "<table border=\"1\" class=\"dataframe\">\n",
       "  <thead>\n",
       "    <tr style=\"text-align: right;\">\n",
       "      <th></th>\n",
       "      <th>C_NAME</th>\n",
       "      <th>C_CUSTKEY</th>\n",
       "      <th>O_ORDERKEY</th>\n",
       "      <th>O_ORDERDATE</th>\n",
       "      <th>O_TOTALPRICE</th>\n",
       "      <th>L_QUANTITY</th>\n",
       "    </tr>\n",
       "  </thead>\n",
       "  <tbody>\n",
       "    <tr>\n",
       "      <th>103</th>\n",
       "      <td>Customer#000256240</td>\n",
       "      <td>256240</td>\n",
       "      <td>4722021</td>\n",
       "      <td>1994-04-07</td>\n",
       "      <td>543948.47</td>\n",
       "      <td>323.0</td>\n",
       "    </tr>\n",
       "    <tr>\n",
       "      <th>100</th>\n",
       "      <td>Customer#000192203</td>\n",
       "      <td>192203</td>\n",
       "      <td>5984582</td>\n",
       "      <td>1992-03-16</td>\n",
       "      <td>539085.20</td>\n",
       "      <td>312.0</td>\n",
       "    </tr>\n",
       "    <tr>\n",
       "      <th>7</th>\n",
       "      <td>Customer#000273004</td>\n",
       "      <td>273004</td>\n",
       "      <td>11785570</td>\n",
       "      <td>1996-07-18</td>\n",
       "      <td>535097.55</td>\n",
       "      <td>303.0</td>\n",
       "    </tr>\n",
       "    <tr>\n",
       "      <th>19</th>\n",
       "      <td>Customer#000198385</td>\n",
       "      <td>198385</td>\n",
       "      <td>8574884</td>\n",
       "      <td>1992-07-04</td>\n",
       "      <td>530902.09</td>\n",
       "      <td>308.0</td>\n",
       "    </tr>\n",
       "    <tr>\n",
       "      <th>57</th>\n",
       "      <td>Customer#000186325</td>\n",
       "      <td>186325</td>\n",
       "      <td>9436480</td>\n",
       "      <td>1992-05-22</td>\n",
       "      <td>523925.49</td>\n",
       "      <td>311.0</td>\n",
       "    </tr>\n",
       "    <tr>\n",
       "      <th>78</th>\n",
       "      <td>Customer#000048682</td>\n",
       "      <td>48682</td>\n",
       "      <td>1474818</td>\n",
       "      <td>1992-11-15</td>\n",
       "      <td>522718.60</td>\n",
       "      <td>302.0</td>\n",
       "    </tr>\n",
       "    <tr>\n",
       "      <th>8</th>\n",
       "      <td>Customer#000027880</td>\n",
       "      <td>27880</td>\n",
       "      <td>2232932</td>\n",
       "      <td>1997-04-13</td>\n",
       "      <td>519887.44</td>\n",
       "      <td>304.0</td>\n",
       "    </tr>\n",
       "    <tr>\n",
       "      <th>108</th>\n",
       "      <td>Customer#000082297</td>\n",
       "      <td>82297</td>\n",
       "      <td>8231942</td>\n",
       "      <td>1993-02-06</td>\n",
       "      <td>516398.50</td>\n",
       "      <td>302.0</td>\n",
       "    </tr>\n",
       "    <tr>\n",
       "      <th>68</th>\n",
       "      <td>Customer#000176644</td>\n",
       "      <td>176644</td>\n",
       "      <td>10889601</td>\n",
       "      <td>1992-05-22</td>\n",
       "      <td>513824.71</td>\n",
       "      <td>306.0</td>\n",
       "    </tr>\n",
       "    <tr>\n",
       "      <th>116</th>\n",
       "      <td>Customer#000258475</td>\n",
       "      <td>258475</td>\n",
       "      <td>7125602</td>\n",
       "      <td>1994-07-08</td>\n",
       "      <td>509018.85</td>\n",
       "      <td>301.0</td>\n",
       "    </tr>\n",
       "  </tbody>\n",
       "</table>\n",
       "</div>"
      ],
      "text/plain": [
       "                 C_NAME  C_CUSTKEY  O_ORDERKEY O_ORDERDATE  O_TOTALPRICE  \\\n",
       "103  Customer#000256240     256240     4722021  1994-04-07     543948.47   \n",
       "100  Customer#000192203     192203     5984582  1992-03-16     539085.20   \n",
       "7    Customer#000273004     273004    11785570  1996-07-18     535097.55   \n",
       "19   Customer#000198385     198385     8574884  1992-07-04     530902.09   \n",
       "57   Customer#000186325     186325     9436480  1992-05-22     523925.49   \n",
       "78   Customer#000048682      48682     1474818  1992-11-15     522718.60   \n",
       "8    Customer#000027880      27880     2232932  1997-04-13     519887.44   \n",
       "108  Customer#000082297      82297     8231942  1993-02-06     516398.50   \n",
       "68   Customer#000176644     176644    10889601  1992-05-22     513824.71   \n",
       "116  Customer#000258475     258475     7125602  1994-07-08     509018.85   \n",
       "\n",
       "     L_QUANTITY  \n",
       "103       323.0  \n",
       "100       312.0  \n",
       "7         303.0  \n",
       "19        308.0  \n",
       "57        311.0  \n",
       "78        302.0  \n",
       "8         304.0  \n",
       "108       302.0  \n",
       "68        306.0  \n",
       "116       301.0  "
      ]
     },
     "metadata": {
      "engine": 0
     },
     "output_type": "display_data"
    }
   ],
   "source": [
    "%%px\n",
    "@bodo.jit(cache=True)\n",
    "def q18(lineitem, orders, customer):\n",
    "    t1 = time.time()\n",
    "    gb1 = lineitem.groupby(\"L_ORDERKEY\", as_index=False)[\"L_QUANTITY\"].sum()\n",
    "    fgb1 = gb1[gb1.L_QUANTITY > 300]\n",
    "    jn1 = fgb1.merge(orders, left_on=\"L_ORDERKEY\", right_on=\"O_ORDERKEY\")\n",
    "    jn2 = jn1.merge(customer, left_on=\"O_CUSTKEY\", right_on=\"C_CUSTKEY\")\n",
    "    gb2 = jn2.groupby(\n",
    "        [\"C_NAME\", \"C_CUSTKEY\", \"O_ORDERKEY\", \"O_ORDERDATE\", \"O_TOTALPRICE\"],\n",
    "        as_index=False,\n",
    "    )[\"L_QUANTITY\"].sum()\n",
    "    total = gb2.sort_values([\"O_TOTALPRICE\", \"O_ORDERDATE\"], ascending=[False, True])\n",
    "    print(\"Execution time: \", ((time.time() - t1) * 1000), \" (ms)\")\n",
    "    return total.head(10)\n",
    "\n",
    "q18_result = q18(lineitem, orders, customer)\n",
    "if bodo.get_rank()==0:\n",
    "    display(q18_result)"
   ]
  },
  {
   "cell_type": "markdown",
   "metadata": {},
   "source": [
    "### Q19: Discounted Revenue Query\n",
    "This query reports the gross discounted revenue attributed to the sale of selected parts handled in a particular manner.\n",
    "\n",
    "Make sure you have run **`load_lineitem`** and **`load_part`** from [loading data section](#loading_data) before running this query."
   ]
  },
  {
   "cell_type": "code",
   "execution_count": 21,
   "metadata": {
    "execution": {
     "iopub.execute_input": "2022-04-25T15:44:47.863921Z",
     "iopub.status.busy": "2022-04-25T15:44:47.863799Z",
     "iopub.status.idle": "2022-04-25T15:46:04.067512Z",
     "shell.execute_reply": "2022-04-25T15:46:04.066675Z",
     "shell.execute_reply.started": "2022-04-25T15:44:47.863904Z"
    },
    "tags": []
   },
   "outputs": [
    {
     "data": {
      "application/vnd.jupyter.widget-view+json": {
       "model_id": "82d5602f9ee549329fd9d4719592c826",
       "version_major": 2,
       "version_minor": 0
      },
      "text/plain": [
       "%px:   0%|          | 0/8 [00:00<?, ?tasks/s]"
      ]
     },
     "metadata": {},
     "output_type": "display_data"
    },
    {
     "data": {
      "text/plain": [
       "[stdout:0] Execution time:  174.59388296470024  (ms)\n",
       "7178285.3134\n"
      ]
     },
     "metadata": {},
     "output_type": "display_data"
    }
   ],
   "source": [
    "%%px\n",
    "@bodo.jit(cache=True)\n",
    "def q19(lineitem, part):\n",
    "    Brand31 = \"Brand#31\"\n",
    "    Brand43 = \"Brand#43\"\n",
    "    SMBOX = \"SM BOX\"\n",
    "    SMCASE = \"SM CASE\"\n",
    "    SMPACK = \"SM PACK\"\n",
    "    SMPKG = \"SM PKG\"\n",
    "    MEDBAG = \"MED BAG\"\n",
    "    MEDBOX = \"MED BOX\"\n",
    "    MEDPACK = \"MED PACK\"\n",
    "    MEDPKG = \"MED PKG\"\n",
    "    LGBOX = \"LG BOX\"\n",
    "    LGCASE = \"LG CASE\"\n",
    "    LGPACK = \"LG PACK\"\n",
    "    LGPKG = \"LG PKG\"\n",
    "    DELIVERINPERSON = \"DELIVER IN PERSON\"\n",
    "    AIR = \"AIR\"\n",
    "    AIRREG = \"AIRREG\"\n",
    "    t1 = time.time()\n",
    "    lsel = (\n",
    "        (\n",
    "            ((lineitem.L_QUANTITY <= 36) & (lineitem.L_QUANTITY >= 26))\n",
    "            | ((lineitem.L_QUANTITY <= 25) & (lineitem.L_QUANTITY >= 15))\n",
    "            | ((lineitem.L_QUANTITY <= 14) & (lineitem.L_QUANTITY >= 4))\n",
    "        )\n",
    "        & (lineitem.L_SHIPINSTRUCT == DELIVERINPERSON)\n",
    "        & ((lineitem.L_SHIPMODE == AIR) | (lineitem.L_SHIPMODE == AIRREG))\n",
    "    )\n",
    "    psel = (part.P_SIZE >= 1) & (\n",
    "        (\n",
    "            (part.P_SIZE <= 5)\n",
    "            & (part.P_BRAND == Brand31)\n",
    "            & (part.P_CONTAINER.isin([SMBOX, SMCASE, SMPACK, SMPKG]))\n",
    "        )\n",
    "        | (\n",
    "            (part.P_SIZE <= 10)\n",
    "            & (part.P_BRAND == Brand43)\n",
    "            & (part.P_CONTAINER.isin([MEDBAG, MEDBOX, MEDPACK, MEDPKG]))\n",
    "        )\n",
    "        | (\n",
    "            (part.P_SIZE <= 15)\n",
    "            & (part.P_BRAND == Brand43)\n",
    "            & (part.P_CONTAINER.isin([LGBOX, LGCASE, LGPACK, LGPKG]))\n",
    "        )\n",
    "    )\n",
    "    flineitem = lineitem[lsel]\n",
    "    fpart = part[psel]\n",
    "    jn = flineitem.merge(fpart, left_on=\"L_PARTKEY\", right_on=\"P_PARTKEY\")\n",
    "    jnsel = (\n",
    "        (\n",
    "            (jn.P_BRAND == Brand31)\n",
    "            & (jn.P_CONTAINER.isin([SMBOX, SMCASE, SMPACK, SMPKG]))\n",
    "            & (jn.L_QUANTITY >= 4)\n",
    "            & (jn.L_QUANTITY <= 14)\n",
    "            & (jn.P_SIZE <= 5)\n",
    "        )\n",
    "        | (\n",
    "            (jn.P_BRAND == Brand43)\n",
    "            & (jn.P_CONTAINER.isin([MEDBAG, MEDBOX, MEDPACK, MEDPKG]))\n",
    "            & (jn.L_QUANTITY >= 15)\n",
    "            & (jn.L_QUANTITY <= 25)\n",
    "            & (jn.P_SIZE <= 10)\n",
    "        )\n",
    "        |((jn.P_BRAND == Brand43)\n",
    "        & (jn.P_CONTAINER.isin([LGBOX, LGCASE, LGPACK, LGPKG]))\n",
    "        & (jn.L_QUANTITY >= 26)\n",
    "        & (jn.L_QUANTITY <= 36)\n",
    "        & (jn.P_SIZE <= 15))\n",
    "    )\n",
    "    jn = jn[jnsel]\n",
    "    total = (jn.L_EXTENDEDPRICE * (1.0 - jn.L_DISCOUNT)).sum()\n",
    "    print(\"Execution time: \", ((time.time() - t1) * 1000), \" (ms)\")\n",
    "    print(total)\n",
    "    return total\n",
    "\n",
    "q19_result = q19(lineitem, part)"
   ]
  },
  {
   "cell_type": "markdown",
   "metadata": {},
   "source": [
    "### Q20: Potential Part Promotion Query\n",
    "This query identifies suppliers in a particular nation having selected parts that may be candidates for a promotional offer.\n",
    "\n",
    "Make sure you have run **`load_lineitem`, `load_part`, `load_nation`, `load_partsupp`, and `load_supplier`** from [loading data section](#loading_data) before running this query."
   ]
  },
  {
   "cell_type": "code",
   "execution_count": 22,
   "metadata": {
    "execution": {
     "iopub.execute_input": "2022-04-25T15:46:04.068153Z",
     "iopub.status.busy": "2022-04-25T15:46:04.067982Z",
     "iopub.status.idle": "2022-04-25T15:46:10.951070Z",
     "shell.execute_reply": "2022-04-25T15:46:10.950553Z",
     "shell.execute_reply.started": "2022-04-25T15:46:04.068134Z"
    },
    "tags": []
   },
   "outputs": [
    {
     "data": {
      "application/vnd.jupyter.widget-view+json": {
       "model_id": "e847b806e9664d7598eb06ebe8d31613",
       "version_major": 2,
       "version_minor": 0
      },
      "text/plain": [
       "%px:   0%|          | 0/8 [00:00<?, ?tasks/s]"
      ]
     },
     "metadata": {},
     "output_type": "display_data"
    },
    {
     "data": {
      "text/plain": [
       "[stdout:0] Execution time:  48.87012039216643  (ms)\n"
      ]
     },
     "metadata": {},
     "output_type": "display_data"
    },
    {
     "data": {
      "text/plain": [
       "[output:0]"
      ]
     },
     "metadata": {},
     "output_type": "display_data"
    },
    {
     "data": {
      "text/html": [
       "<div>\n",
       "<style scoped>\n",
       "    .dataframe tbody tr th:only-of-type {\n",
       "        vertical-align: middle;\n",
       "    }\n",
       "\n",
       "    .dataframe tbody tr th {\n",
       "        vertical-align: top;\n",
       "    }\n",
       "\n",
       "    .dataframe thead th {\n",
       "        text-align: right;\n",
       "    }\n",
       "</style>\n",
       "<table border=\"1\" class=\"dataframe\">\n",
       "  <thead>\n",
       "    <tr style=\"text-align: right;\">\n",
       "      <th></th>\n",
       "      <th>S_NAME</th>\n",
       "      <th>S_ADDRESS</th>\n",
       "    </tr>\n",
       "  </thead>\n",
       "  <tbody>\n",
       "    <tr>\n",
       "      <th>9</th>\n",
       "      <td>Supplier#000000312</td>\n",
       "      <td>8XYqBq S,OWbSp9Y2qGBWEV4hH l7ywxk</td>\n",
       "    </tr>\n",
       "    <tr>\n",
       "      <th>14</th>\n",
       "      <td>Supplier#000001292</td>\n",
       "      <td>Bjfw20ywjwGEY3zRv9OAS 63rqoRObND1etPnUf</td>\n",
       "    </tr>\n",
       "    <tr>\n",
       "      <th>22</th>\n",
       "      <td>Supplier#000002110</td>\n",
       "      <td>56LKTbXb,3</td>\n",
       "    </tr>\n",
       "    <tr>\n",
       "      <th>104</th>\n",
       "      <td>Supplier#000002583</td>\n",
       "      <td>Gr6WrUG9mY0Yy9</td>\n",
       "    </tr>\n",
       "    <tr>\n",
       "      <th>103</th>\n",
       "      <td>Supplier#000002777</td>\n",
       "      <td>DC 0LAoxgBs VJX4</td>\n",
       "    </tr>\n",
       "    <tr>\n",
       "      <th>96</th>\n",
       "      <td>Supplier#000003307</td>\n",
       "      <td>ij6rKFRJjQGU</td>\n",
       "    </tr>\n",
       "    <tr>\n",
       "      <th>83</th>\n",
       "      <td>Supplier#000003312</td>\n",
       "      <td>EJLnCuuCYgvPJ9AxZlBui4hlCowVP1M</td>\n",
       "    </tr>\n",
       "    <tr>\n",
       "      <th>71</th>\n",
       "      <td>Supplier#000004692</td>\n",
       "      <td>BxHrGZnE9Ri3jgvv</td>\n",
       "    </tr>\n",
       "    <tr>\n",
       "      <th>57</th>\n",
       "      <td>Supplier#000004778</td>\n",
       "      <td>NFVxKobRQOHN B1O0U7U,</td>\n",
       "    </tr>\n",
       "    <tr>\n",
       "      <th>125</th>\n",
       "      <td>Supplier#000005352</td>\n",
       "      <td>PP9gHTn946hXqUF5E7idIPLkhnN</td>\n",
       "    </tr>\n",
       "  </tbody>\n",
       "</table>\n",
       "</div>"
      ],
      "text/plain": [
       "                 S_NAME                                S_ADDRESS\n",
       "9    Supplier#000000312        8XYqBq S,OWbSp9Y2qGBWEV4hH l7ywxk\n",
       "14   Supplier#000001292  Bjfw20ywjwGEY3zRv9OAS 63rqoRObND1etPnUf\n",
       "22   Supplier#000002110                               56LKTbXb,3\n",
       "104  Supplier#000002583                           Gr6WrUG9mY0Yy9\n",
       "103  Supplier#000002777                         DC 0LAoxgBs VJX4\n",
       "96   Supplier#000003307                             ij6rKFRJjQGU\n",
       "83   Supplier#000003312          EJLnCuuCYgvPJ9AxZlBui4hlCowVP1M\n",
       "71   Supplier#000004692                         BxHrGZnE9Ri3jgvv\n",
       "57   Supplier#000004778                    NFVxKobRQOHN B1O0U7U,\n",
       "125  Supplier#000005352              PP9gHTn946hXqUF5E7idIPLkhnN"
      ]
     },
     "metadata": {
      "engine": 0
     },
     "output_type": "display_data"
    }
   ],
   "source": [
    "%%px\n",
    "@bodo.jit(cache=True)\n",
    "def q20(lineitem, part, nation, partsupp, supplier):\n",
    "    date1 = \"1996-01-01\"\n",
    "    date2 = \"1997-01-01\"\n",
    "    t1 = time.time()\n",
    "    psel = part.P_NAME.str.startswith(\"azure\")\n",
    "    nsel = nation.N_NAME == \"JORDAN\"\n",
    "    lsel = (lineitem.L_SHIPDATE >= date1) & (lineitem.L_SHIPDATE < date2)\n",
    "    fpart = part[psel]\n",
    "    fnation = nation[nsel]\n",
    "    flineitem = lineitem[lsel]\n",
    "    jn1 = fpart.merge(partsupp, left_on=\"P_PARTKEY\", right_on=\"PS_PARTKEY\")\n",
    "    jn2 = jn1.merge(\n",
    "        flineitem,\n",
    "        left_on=[\"PS_PARTKEY\", \"PS_SUPPKEY\"],\n",
    "        right_on=[\"L_PARTKEY\", \"L_SUPPKEY\"],\n",
    "    )\n",
    "    gb = jn2.groupby([\"PS_PARTKEY\", \"PS_SUPPKEY\", \"PS_AVAILQTY\"], as_index=False)[\n",
    "        \"L_QUANTITY\"\n",
    "    ].sum()\n",
    "    gbsel = gb.PS_AVAILQTY > (0.5 * gb.L_QUANTITY)\n",
    "    fgb = gb[gbsel]\n",
    "    jn3 = fgb.merge(supplier, left_on=\"PS_SUPPKEY\", right_on=\"S_SUPPKEY\")\n",
    "    jn4 = fnation.merge(jn3, left_on=\"N_NATIONKEY\", right_on=\"S_NATIONKEY\")\n",
    "    jn4 = jn4[[\"S_NAME\", \"S_ADDRESS\"]]\n",
    "    total = jn4.sort_values(\"S_NAME\").drop_duplicates()\n",
    "    print(\"Execution time: \", ((time.time() - t1) * 1000), \" (ms)\")\n",
    "    return total.head(10)\n",
    "\n",
    "q20_result = q20(lineitem, part, nation, partsupp, supplier)\n",
    "if bodo.get_rank()==0:\n",
    "    display(q20_result)"
   ]
  },
  {
   "cell_type": "code",
   "execution_count": null,
   "metadata": {},
   "outputs": [],
   "source": []
  }
 ],
 "metadata": {
  "interpreter": {
   "hash": "84d1d8d97458420fee614d334608cc9a296a01a4b7a7f960fcfd0f0633eb59fd"
  },
  "kernelspec": {
   "display_name": "SSH 10.30.3.93 Remote-Kernel",
   "language": "",
   "name": "rik_ssh_10_30_3_93_remotekernel"
  },
  "language_info": {
   "codemirror_mode": {
    "name": "ipython",
    "version": 3
   },
   "file_extension": ".py",
   "mimetype": "text/x-python",
   "name": "python",
   "nbconvert_exporter": "python",
   "pygments_lexer": "ipython3",
   "version": "3.9.7"
  }
 },
 "nbformat": 4,
 "nbformat_minor": 4
}
