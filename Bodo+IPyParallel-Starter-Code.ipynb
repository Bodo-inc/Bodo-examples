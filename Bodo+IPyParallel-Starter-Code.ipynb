{
 "cells": [
  {
   "cell_type": "code",
   "execution_count": null,
   "id": "2f63f36b",
   "metadata": {},
   "outputs": [],
   "source": [
    "import os\n",
    "if os.environ.get(\"BODO_PLATFORM_WORKSPACE_UUID\",'NA') == 'NA':\n",
    "    import ipyparallel as ipp\n",
    "    import psutil; n = min(psutil.cpu_count(logical=False), 8)\n",
    "    rc = ipp.Cluster(engines='mpi', n=n).start_and_connect_sync(activate=True)"
   ]
  },
  {
   "cell_type": "code",
   "execution_count": null,
   "id": "188d36ff",
   "metadata": {},
   "outputs": [],
   "source": [
    "%autopx"
   ]
  },
  {
   "cell_type": "code",
   "execution_count": null,
   "id": "b99fb255",
   "metadata": {},
   "outputs": [],
   "source": [
    "import bodo\n",
    "bodo.get_rank()"
   ]
  },
  {
   "cell_type": "code",
   "execution_count": null,
   "id": "867141bf",
   "metadata": {},
   "outputs": [],
   "source": [
    "import pandas as pd\n",
    "import numpy as np\n",
    "import time\n",
    "\n",
    "@bodo.jit\n",
    "def calc_sum(n):\n",
    "    t1 = time.time()\n",
    "    df = pd.DataFrame({\"A\": np.arange(n)})\n",
    "    s = df.apply(lambda r: r.A % 2 == 0, axis=1).sum()\n",
    "    print(\"Execution time:\", time.time() - t1, \"\\nresult:\", s)"
   ]
  },
  {
   "cell_type": "code",
   "execution_count": null,
   "id": "76490d7f",
   "metadata": {},
   "outputs": [],
   "source": [
    "calc_sum(10000000)"
   ]
  },
  {
   "cell_type": "code",
   "execution_count": null,
   "id": "419b45b4",
   "metadata": {},
   "outputs": [],
   "source": [
    "%autopx"
   ]
  },
  {
   "cell_type": "code",
   "execution_count": null,
   "id": "8db2dd0a",
   "metadata": {},
   "outputs": [],
   "source": [
    "rc.cluster.stop_cluster_sync()"
   ]
  },
  {
   "cell_type": "code",
   "execution_count": null,
   "id": "ec165f09-b9b1-4377-a3b5-6531df052104",
   "metadata": {},
   "outputs": [],
   "source": []
  }
 ],
 "metadata": {
  "kernelspec": {
   "display_name": "Python 3 (ipykernel)",
   "language": "python",
   "name": "python3"
  },
  "language_info": {
   "codemirror_mode": {
    "name": "ipython",
    "version": 3
   },
   "file_extension": ".py",
   "mimetype": "text/x-python",
   "name": "python",
   "nbconvert_exporter": "python",
   "pygments_lexer": "ipython3",
   "version": "3.9.10"
  }
 },
 "nbformat": 4,
 "nbformat_minor": 5
}
