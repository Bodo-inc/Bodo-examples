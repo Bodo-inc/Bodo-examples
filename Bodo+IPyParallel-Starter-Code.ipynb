{
 "cells": [
  {
   "cell_type": "code",
   "execution_count": null,
   "source": [
    "import ipyparallel as ipp\n",
    "c = ipp.Cluster(engines='mpi', n=4)\n",
    "c.start_cluster_sync()\n",
    "rc = c.connect_client_sync()\n",
    "rc.wait_for_engines(n=c.n)\n",
    "view = rc[:]\n",
    "view.activate()\n",
    "view.block = True\n",
    "import os\n",
    "view[\"cwd\"] = os.getcwd()\n",
    "\n",
    "%px cd $cwd"
   ],
   "outputs": [],
   "metadata": {}
  },
  {
   "cell_type": "code",
   "execution_count": null,
   "source": [
    "%%px\n",
    "import bodo"
   ],
   "outputs": [],
   "metadata": {}
  },
  {
   "cell_type": "code",
   "execution_count": null,
   "source": [
    "%%px\n",
    "bodo.get_rank()"
   ],
   "outputs": [],
   "metadata": {}
  },
  {
   "cell_type": "code",
   "execution_count": null,
   "source": [
    "%%px\n",
    "import numpy as np\n",
    "import time\n",
    "\n",
    "@bodo.jit\n",
    "def calc_pi(n):\n",
    "    t1 = time.time()\n",
    "    x = 2 * np.random.ranf(n) - 1\n",
    "    y = 2 * np.random.ranf(n) - 1\n",
    "    pi = 4 * np.sum(x ** 2 + y ** 2 < 1) / n\n",
    "    print(\"Execution time:\", time.time() - t1, \"\\nresult:\", pi)\n",
    "    return pi"
   ],
   "outputs": [],
   "metadata": {}
  },
  {
   "cell_type": "code",
   "execution_count": null,
   "source": [
    "%%px\n",
    "calc_pi(10000000)"
   ],
   "outputs": [],
   "metadata": {}
  },
  {
   "cell_type": "code",
   "execution_count": null,
   "source": [
    "c.stop_cluster_sync()"
   ],
   "outputs": [],
   "metadata": {}
  }
 ],
 "metadata": {
  "kernelspec": {
   "display_name": "Python 3 (ipykernel)",
   "language": "python",
   "name": "python3"
  },
  "language_info": {
   "codemirror_mode": {
    "name": "ipython",
    "version": 3
   },
   "file_extension": ".py",
   "mimetype": "text/x-python",
   "name": "python",
   "nbconvert_exporter": "python",
   "pygments_lexer": "ipython3",
   "version": "3.9.7"
  }
 },
 "nbformat": 4,
 "nbformat_minor": 5
}
