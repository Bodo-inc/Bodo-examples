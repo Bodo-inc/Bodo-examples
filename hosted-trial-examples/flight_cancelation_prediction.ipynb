{
 "cells": [
  {
   "cell_type": "markdown",
   "id": "sophisticated-philadelphia",
   "metadata": {},
   "source": [
    "# Predicting Flight Delays With Machine Learning in Python\n",
    "\n",
    "\n",
    "This example shows use of classification to models to predict flight delays using the HPC-like platform Bodo. 1988 flights data is extracted from Bodo's public S3 bucket, cleaned and processed. Then some analysis are done to extract insight. All are **parallelized across multiple cores using Bodo**. This can be a straightforward way to make Python code run faster without a lot of changes to the code. \n",
    "Original example can be found [here](https://github.com/frenchlam/dask_CDSW/blob/master/03_Dask_ML-LargeDS.ipynb).\n",
    "\n",
    "You can run the large-scale example on [Bodo platform](https://platform.bodo.ai/account/login).\n",
    "\n",
    "The current results are based on running on 2 `c5.2xlarge` instances (8 cores, 32GiB memory)\n",
    "\n",
    "The dataset was downloaded from [here](https://github.com/frenchlam/dask_CDSW/tree/master/data) and saved in parquet format in S3 Bucket (`s3://bodo-example-data/flights/flights_1988.pq/`)\n",
    "\n",
    "The example using CSV dataset can be found in [Bodo-Examples Git repository](https://github.com/Bodo-inc/Bodo-examples/blob/master/ml/credit-card-fraud.ipynb)"
   ]
  },
  {
   "cell_type": "markdown",
   "id": "timely-waterproof",
   "metadata": {},
   "source": [
    "The Bodo framework knows when to parallelize code based on the `%%px` at the start of cells and `@bodo.jit` function decorators. Removing those and restarting the kernel will run the code without Bodo."
   ]
  },
  {
   "cell_type": "markdown",
   "id": "innocent-norway",
   "metadata": {},
   "source": [
    "## Importing the Packages\n",
    "\n",
    "These are the main packages we are going to work with:\n",
    " - Bodo to parallelize Python code automatically\n",
    " - Pandas to work with data\n",
    " - Scikit-learn to build and evaluate regression models"
   ]
  },
  {
   "cell_type": "code",
   "execution_count": 1,
   "id": "narrative-landing",
   "metadata": {
    "execution": {
     "iopub.execute_input": "2022-04-26T23:53:40.602834Z",
     "iopub.status.busy": "2022-04-26T23:53:40.602351Z",
     "iopub.status.idle": "2022-04-26T23:53:50.839162Z",
     "shell.execute_reply": "2022-04-26T23:53:50.838664Z",
     "shell.execute_reply.started": "2022-04-26T23:53:40.602803Z"
    },
    "tags": []
   },
   "outputs": [
    {
     "name": "stdout",
     "output_type": "stream",
     "text": [
      "Starting 8 engines with <class 'ipyparallel.cluster.launcher.MPIEngineSetLauncher'>\n"
     ]
    },
    {
     "data": {
      "application/vnd.jupyter.widget-view+json": {
       "model_id": "fb04beb435a441a498f634f6f5ce5d8f",
       "version_major": 2,
       "version_minor": 0
      },
      "text/plain": [
       "  0%|          | 0/8 [00:00<?, ?engine/s]"
      ]
     },
     "metadata": {},
     "output_type": "display_data"
    },
    {
     "data": {
      "text/plain": [
       "[stdout:7] Hello World from rank 7. Total ranks=8\n"
      ]
     },
     "metadata": {},
     "output_type": "display_data"
    },
    {
     "data": {
      "text/plain": [
       "[stdout:3] Hello World from rank 3. Total ranks=8\n"
      ]
     },
     "metadata": {},
     "output_type": "display_data"
    },
    {
     "data": {
      "text/plain": [
       "[stdout:4] Hello World from rank 4. Total ranks=8\n"
      ]
     },
     "metadata": {},
     "output_type": "display_data"
    },
    {
     "data": {
      "text/plain": [
       "[stdout:2] Hello World from rank 2. Total ranks=8\n"
      ]
     },
     "metadata": {},
     "output_type": "display_data"
    },
    {
     "data": {
      "text/plain": [
       "[stdout:0] Hello World from rank 0. Total ranks=8\n"
      ]
     },
     "metadata": {},
     "output_type": "display_data"
    },
    {
     "data": {
      "text/plain": [
       "[stdout:1] Hello World from rank 1. Total ranks=8\n"
      ]
     },
     "metadata": {},
     "output_type": "display_data"
    },
    {
     "data": {
      "text/plain": [
       "[stdout:6] Hello World from rank 6. Total ranks=8\n"
      ]
     },
     "metadata": {},
     "output_type": "display_data"
    },
    {
     "data": {
      "text/plain": [
       "[stdout:5] Hello World from rank 5. Total ranks=8\n"
      ]
     },
     "metadata": {},
     "output_type": "display_data"
    }
   ],
   "source": [
    "%%px\n",
    "import bodo\n",
    "import pandas as pd\n",
    "import time\n",
    "import numpy as np\n",
    "print(f\"Hello World from rank {bodo.get_rank()}. Total ranks={bodo.get_size()}\")"
   ]
  },
  {
   "cell_type": "markdown",
   "id": "molecular-mortgage",
   "metadata": {},
   "source": [
    "## Part 1. Pre-processing in Pandas\n",
    "\n",
    "### 1. Read flights dataset"
   ]
  },
  {
   "cell_type": "code",
   "execution_count": 2,
   "id": "relative-advertising",
   "metadata": {
    "execution": {
     "iopub.execute_input": "2022-04-26T23:53:53.590996Z",
     "iopub.status.busy": "2022-04-26T23:53:53.590747Z",
     "iopub.status.idle": "2022-04-26T23:53:55.807540Z",
     "shell.execute_reply": "2022-04-26T23:53:55.807094Z",
     "shell.execute_reply.started": "2022-04-26T23:53:53.590971Z"
    },
    "tags": []
   },
   "outputs": [
    {
     "data": {
      "text/plain": [
       "[output:0]"
      ]
     },
     "metadata": {},
     "output_type": "display_data"
    },
    {
     "data": {
      "text/html": [
       "<div>\n",
       "<style scoped>\n",
       "    .dataframe tbody tr th:only-of-type {\n",
       "        vertical-align: middle;\n",
       "    }\n",
       "\n",
       "    .dataframe tbody tr th {\n",
       "        vertical-align: top;\n",
       "    }\n",
       "\n",
       "    .dataframe thead th {\n",
       "        text-align: right;\n",
       "    }\n",
       "</style>\n",
       "<table border=\"1\" class=\"dataframe\">\n",
       "  <thead>\n",
       "    <tr style=\"text-align: right;\">\n",
       "      <th></th>\n",
       "      <th>Month</th>\n",
       "      <th>DayofMonth</th>\n",
       "      <th>DayOfWeek</th>\n",
       "      <th>CRSDepTime</th>\n",
       "      <th>CRSArrTime</th>\n",
       "      <th>UniqueCarrier</th>\n",
       "      <th>FlightNum</th>\n",
       "      <th>Origin</th>\n",
       "      <th>Dest</th>\n",
       "      <th>Cancelled</th>\n",
       "    </tr>\n",
       "  </thead>\n",
       "  <tbody>\n",
       "    <tr>\n",
       "      <th>0</th>\n",
       "      <td>1</td>\n",
       "      <td>9</td>\n",
       "      <td>6</td>\n",
       "      <td>1331</td>\n",
       "      <td>1435</td>\n",
       "      <td>PI</td>\n",
       "      <td>942</td>\n",
       "      <td>SYR</td>\n",
       "      <td>BWI</td>\n",
       "      <td>0</td>\n",
       "    </tr>\n",
       "    <tr>\n",
       "      <th>1</th>\n",
       "      <td>1</td>\n",
       "      <td>10</td>\n",
       "      <td>7</td>\n",
       "      <td>1331</td>\n",
       "      <td>1435</td>\n",
       "      <td>PI</td>\n",
       "      <td>942</td>\n",
       "      <td>SYR</td>\n",
       "      <td>BWI</td>\n",
       "      <td>0</td>\n",
       "    </tr>\n",
       "    <tr>\n",
       "      <th>2</th>\n",
       "      <td>1</td>\n",
       "      <td>11</td>\n",
       "      <td>1</td>\n",
       "      <td>1331</td>\n",
       "      <td>1435</td>\n",
       "      <td>PI</td>\n",
       "      <td>942</td>\n",
       "      <td>SYR</td>\n",
       "      <td>BWI</td>\n",
       "      <td>0</td>\n",
       "    </tr>\n",
       "    <tr>\n",
       "      <th>3</th>\n",
       "      <td>1</td>\n",
       "      <td>12</td>\n",
       "      <td>2</td>\n",
       "      <td>1331</td>\n",
       "      <td>1435</td>\n",
       "      <td>PI</td>\n",
       "      <td>942</td>\n",
       "      <td>SYR</td>\n",
       "      <td>BWI</td>\n",
       "      <td>0</td>\n",
       "    </tr>\n",
       "    <tr>\n",
       "      <th>4</th>\n",
       "      <td>1</td>\n",
       "      <td>13</td>\n",
       "      <td>3</td>\n",
       "      <td>1331</td>\n",
       "      <td>1435</td>\n",
       "      <td>PI</td>\n",
       "      <td>942</td>\n",
       "      <td>SYR</td>\n",
       "      <td>BWI</td>\n",
       "      <td>0</td>\n",
       "    </tr>\n",
       "  </tbody>\n",
       "</table>\n",
       "</div>"
      ],
      "text/plain": [
       "   Month  DayofMonth  DayOfWeek  CRSDepTime  CRSArrTime UniqueCarrier  \\\n",
       "0      1           9          6        1331        1435            PI   \n",
       "1      1          10          7        1331        1435            PI   \n",
       "2      1          11          1        1331        1435            PI   \n",
       "3      1          12          2        1331        1435            PI   \n",
       "4      1          13          3        1331        1435            PI   \n",
       "\n",
       "   FlightNum Origin Dest  Cancelled  \n",
       "0        942    SYR  BWI          0  \n",
       "1        942    SYR  BWI          0  \n",
       "2        942    SYR  BWI          0  \n",
       "3        942    SYR  BWI          0  \n",
       "4        942    SYR  BWI          0  "
      ]
     },
     "metadata": {
      "engine": 0
     },
     "output_type": "display_data"
    },
    {
     "data": {
      "application/vnd.jupyter.widget-view+json": {
       "model_id": "6eb0a10a264f421cb3aa9c03cb791fbb",
       "version_major": 2,
       "version_minor": 0
      },
      "text/plain": [
       "%px:   0%|          | 0/8 [00:00<?, ?tasks/s]"
      ]
     },
     "metadata": {},
     "output_type": "display_data"
    }
   ],
   "source": [
    "%%px\n",
    "@bodo.jit(distributed=[\"flight_df\"], cache=True)\n",
    "def read_flights(input_file):\n",
    "    flight_df = pd.read_parquet(input_file, columns=['Month', 'DayofMonth', 'DayOfWeek', 'CRSDepTime', 'CRSArrTime', 'UniqueCarrier', 'FlightNum', 'Origin', 'Dest','Cancelled'])        \n",
    "    return flight_df\n",
    "\n",
    "input_file = \"s3://bodo-example-data/flights/flights_1988.pq/\"\n",
    "flight_df = read_flights(input_file)\n",
    "if bodo.get_rank() == 0:\n",
    "    display(flight_df.head())\n"
   ]
  },
  {
   "cell_type": "markdown",
   "id": "golden-anatomy",
   "metadata": {},
   "source": [
    "### 2. Feature Engineering\n",
    "1. Create routes from origin and destination"
   ]
  },
  {
   "cell_type": "code",
   "execution_count": 3,
   "id": "stainless-ceiling",
   "metadata": {
    "execution": {
     "iopub.execute_input": "2022-04-26T23:53:58.896831Z",
     "iopub.status.busy": "2022-04-26T23:53:58.896580Z",
     "iopub.status.idle": "2022-04-26T23:53:59.502523Z",
     "shell.execute_reply": "2022-04-26T23:53:59.502142Z",
     "shell.execute_reply.started": "2022-04-26T23:53:58.896809Z"
    },
    "tags": []
   },
   "outputs": [
    {
     "data": {
      "text/plain": [
       "[stdout:6] Series([], Name: route, dtype: int64)\n"
      ]
     },
     "metadata": {},
     "output_type": "display_data"
    },
    {
     "data": {
      "text/plain": [
       "[stdout:1] Series([], Name: route, dtype: int64)\n"
      ]
     },
     "metadata": {},
     "output_type": "display_data"
    },
    {
     "data": {
      "text/plain": [
       "[stdout:3] Series([], Name: route, dtype: int64)\n"
      ]
     },
     "metadata": {},
     "output_type": "display_data"
    },
    {
     "data": {
      "text/plain": [
       "[stdout:5] Series([], Name: route, dtype: int64)\n"
      ]
     },
     "metadata": {},
     "output_type": "display_data"
    },
    {
     "data": {
      "text/plain": [
       "[stdout:7] Series([], Name: route, dtype: int64)\n"
      ]
     },
     "metadata": {},
     "output_type": "display_data"
    },
    {
     "data": {
      "text/plain": [
       "[stdout:4] Series([], Name: route, dtype: int64)\n"
      ]
     },
     "metadata": {},
     "output_type": "display_data"
    },
    {
     "data": {
      "text/plain": [
       "[stdout:2] Series([], Name: route, dtype: int64)\n"
      ]
     },
     "metadata": {},
     "output_type": "display_data"
    },
    {
     "data": {
      "text/plain": [
       "[stdout:0] LAX_SFO    20750\n",
       "SFO_LAX    20658\n",
       "LAX_PHX    13461\n",
       "PHX_LAX    13273\n",
       "LAX_LAS    12175\n",
       "LGA_BOS    12027\n",
       "LAS_LAX    11801\n",
       "SJC_LAX    11535\n",
       "LAX_SJC    11292\n",
       "BOS_LGA    11141\n",
       "Name: route, dtype: int64\n"
      ]
     },
     "metadata": {},
     "output_type": "display_data"
    }
   ],
   "source": [
    "%%px\n",
    "@bodo.jit(distributed=[\"flight_df\"], cache=True)\n",
    "def create_routes(flight_df):\n",
    "    flight_df['route'] = flight_df['Origin'] + \"_\" + flight_df['Dest']\n",
    "    # show top 20 routes - As defined by nb of flights\n",
    "    top_routes = flight_df['route'].value_counts(ascending=False)\n",
    "    print(top_routes.head(10))\n",
    "    #focus on 50 biggest routes - As defined by nb of flights \n",
    "    route_lst=top_routes.head(50)\n",
    "    flight_df = flight_df[flight_df['route'].isin(route_lst.index)]\n",
    "    return flight_df\n",
    "\n",
    "flight_df = create_routes(flight_df)"
   ]
  },
  {
   "cell_type": "markdown",
   "id": "spanish-draft",
   "metadata": {},
   "source": [
    "2. Look at their cancellations"
   ]
  },
  {
   "cell_type": "code",
   "execution_count": 4,
   "id": "thousand-vinyl",
   "metadata": {
    "execution": {
     "iopub.execute_input": "2022-04-26T23:54:01.909179Z",
     "iopub.status.busy": "2022-04-26T23:54:01.908936Z",
     "iopub.status.idle": "2022-04-26T23:54:01.960265Z",
     "shell.execute_reply": "2022-04-26T23:54:01.959875Z",
     "shell.execute_reply.started": "2022-04-26T23:54:01.909159Z"
    },
    "tags": []
   },
   "outputs": [
    {
     "data": {
      "text/plain": [
       "[output:0]"
      ]
     },
     "metadata": {},
     "output_type": "display_data"
    },
    {
     "data": {
      "text/html": [
       "<div>\n",
       "<style scoped>\n",
       "    .dataframe tbody tr th:only-of-type {\n",
       "        vertical-align: middle;\n",
       "    }\n",
       "\n",
       "    .dataframe tbody tr th {\n",
       "        vertical-align: top;\n",
       "    }\n",
       "\n",
       "    .dataframe thead th {\n",
       "        text-align: right;\n",
       "    }\n",
       "</style>\n",
       "<table border=\"1\" class=\"dataframe\">\n",
       "  <thead>\n",
       "    <tr style=\"text-align: right;\">\n",
       "      <th></th>\n",
       "      <th>route</th>\n",
       "      <th>count</th>\n",
       "      <th>nb_cancelled</th>\n",
       "    </tr>\n",
       "  </thead>\n",
       "  <tbody>\n",
       "    <tr>\n",
       "      <th>0</th>\n",
       "      <td>LAX_SFO</td>\n",
       "      <td>20750</td>\n",
       "      <td>228</td>\n",
       "    </tr>\n",
       "    <tr>\n",
       "      <th>32</th>\n",
       "      <td>SFO_LAX</td>\n",
       "      <td>20658</td>\n",
       "      <td>206</td>\n",
       "    </tr>\n",
       "    <tr>\n",
       "      <th>43</th>\n",
       "      <td>LAX_PHX</td>\n",
       "      <td>13461</td>\n",
       "      <td>78</td>\n",
       "    </tr>\n",
       "    <tr>\n",
       "      <th>29</th>\n",
       "      <td>PHX_LAX</td>\n",
       "      <td>13273</td>\n",
       "      <td>71</td>\n",
       "    </tr>\n",
       "    <tr>\n",
       "      <th>35</th>\n",
       "      <td>LAX_LAS</td>\n",
       "      <td>12175</td>\n",
       "      <td>58</td>\n",
       "    </tr>\n",
       "  </tbody>\n",
       "</table>\n",
       "</div>"
      ],
      "text/plain": [
       "      route  count  nb_cancelled\n",
       "0   LAX_SFO  20750           228\n",
       "32  SFO_LAX  20658           206\n",
       "43  LAX_PHX  13461            78\n",
       "29  PHX_LAX  13273            71\n",
       "35  LAX_LAS  12175            58"
      ]
     },
     "metadata": {
      "engine": 0
     },
     "output_type": "display_data"
    }
   ],
   "source": [
    "%%px\n",
    "@bodo.jit(distributed=[\"flight_df\"], cache=True)\n",
    "def check_cancelations(flight_df):\n",
    "    res = flight_df[['route', 'Cancelled', 'Month']].groupby(by='route')\\\n",
    "         .agg({'Month':'size', 'Cancelled':'sum'})\\\n",
    "        .rename(columns={'Month':'count','Cancelled':'nb_cancelled'}) \\\n",
    "        .reset_index()\\\n",
    "        .sort_values(['count'], ascending=False)\n",
    "    return res.head()\n",
    "\n",
    "top10_canceled_flights = check_cancelations(flight_df)\n",
    "\n",
    "if bodo.get_rank() == 0:\n",
    "    display(top10_canceled_flights)\n"
   ]
  },
  {
   "cell_type": "code",
   "execution_count": 5,
   "id": "wrong-scoop",
   "metadata": {
    "execution": {
     "iopub.execute_input": "2022-04-26T23:54:03.994529Z",
     "iopub.status.busy": "2022-04-26T23:54:03.994281Z",
     "iopub.status.idle": "2022-04-26T23:54:04.558279Z",
     "shell.execute_reply": "2022-04-26T23:54:04.557887Z",
     "shell.execute_reply.started": "2022-04-26T23:54:03.994510Z"
    },
    "tags": []
   },
   "outputs": [
    {
     "data": {
      "text/plain": [
       "[stdout:0] (487253, 11)\n"
      ]
     },
     "metadata": {},
     "output_type": "display_data"
    }
   ],
   "source": [
    "%%px\n",
    "@bodo.jit(distributed=[\"flight_df\"])\n",
    "def print_info(flight_df):\n",
    "    print(flight_df.shape)\n",
    "print_info(flight_df)"
   ]
  },
  {
   "cell_type": "markdown",
   "id": "abstract-verse",
   "metadata": {},
   "source": [
    "3. Quick sanity check - count number of null values()"
   ]
  },
  {
   "cell_type": "code",
   "execution_count": 6,
   "id": "charming-township",
   "metadata": {
    "execution": {
     "iopub.execute_input": "2022-04-26T23:54:06.616761Z",
     "iopub.status.busy": "2022-04-26T23:54:06.616518Z",
     "iopub.status.idle": "2022-04-26T23:54:15.826248Z",
     "shell.execute_reply": "2022-04-26T23:54:15.825815Z",
     "shell.execute_reply.started": "2022-04-26T23:54:06.616741Z"
    },
    "tags": []
   },
   "outputs": [
    {
     "data": {
      "application/vnd.jupyter.widget-view+json": {
       "model_id": "03e5e1178dee497bb4a873226525cb32",
       "version_major": 2,
       "version_minor": 0
      },
      "text/plain": [
       "%px:   0%|          | 0/8 [00:00<?, ?tasks/s]"
      ]
     },
     "metadata": {},
     "output_type": "display_data"
    },
    {
     "data": {
      "text/plain": [
       "[stdout:0] Month            0\n",
       "DayofMonth       0\n",
       "DayOfWeek        0\n",
       "CRSDepTime       0\n",
       "CRSArrTime       0\n",
       "UniqueCarrier    0\n",
       "FlightNum        0\n",
       "Origin           0\n",
       "Dest             0\n",
       "Cancelled        0\n",
       "route            0\n",
       "dtype: int64\n"
      ]
     },
     "metadata": {},
     "output_type": "display_data"
    }
   ],
   "source": [
    "%%px\n",
    "@bodo.jit(distributed=[\"flight_df\"])\n",
    "def check_count(flight_df):\n",
    "    \n",
    "    print(flight_df.isnull().sum())\n",
    "    \n",
    "check_count(flight_df)"
   ]
  },
  {
   "cell_type": "markdown",
   "id": "constitutional-anderson",
   "metadata": {},
   "source": [
    "### 3. Feature and label encoding encoding"
   ]
  },
  {
   "cell_type": "markdown",
   "id": "latin-demographic",
   "metadata": {},
   "source": [
    "#### 1. Encode Labels using Cancelled column"
   ]
  },
  {
   "cell_type": "code",
   "execution_count": 7,
   "id": "designed-seafood",
   "metadata": {
    "execution": {
     "iopub.execute_input": "2022-04-26T23:54:17.239102Z",
     "iopub.status.busy": "2022-04-26T23:54:17.238854Z",
     "iopub.status.idle": "2022-04-26T23:54:24.093641Z",
     "shell.execute_reply": "2022-04-26T23:54:24.093283Z",
     "shell.execute_reply.started": "2022-04-26T23:54:17.239080Z"
    },
    "tags": []
   },
   "outputs": [
    {
     "data": {
      "application/vnd.jupyter.widget-view+json": {
       "model_id": "68f2357ae9bb49ce99d352174695744c",
       "version_major": 2,
       "version_minor": 0
      },
      "text/plain": [
       "%px:   0%|          | 0/8 [00:00<?, ?tasks/s]"
      ]
     },
     "metadata": {},
     "output_type": "display_data"
    },
    {
     "data": {
      "text/plain": [
       "[output:0]"
      ]
     },
     "metadata": {},
     "output_type": "display_data"
    },
    {
     "data": {
      "text/html": [
       "<div>\n",
       "<style scoped>\n",
       "    .dataframe tbody tr th:only-of-type {\n",
       "        vertical-align: middle;\n",
       "    }\n",
       "\n",
       "    .dataframe tbody tr th {\n",
       "        vertical-align: top;\n",
       "    }\n",
       "\n",
       "    .dataframe thead th {\n",
       "        text-align: right;\n",
       "    }\n",
       "</style>\n",
       "<table border=\"1\" class=\"dataframe\">\n",
       "  <thead>\n",
       "    <tr style=\"text-align: right;\">\n",
       "      <th></th>\n",
       "      <th>Month</th>\n",
       "      <th>DayofMonth</th>\n",
       "      <th>DayOfWeek</th>\n",
       "      <th>CRSDepTime</th>\n",
       "      <th>CRSArrTime</th>\n",
       "      <th>UniqueCarrier</th>\n",
       "      <th>FlightNum</th>\n",
       "      <th>Origin</th>\n",
       "      <th>Dest</th>\n",
       "      <th>route</th>\n",
       "      <th>Label</th>\n",
       "    </tr>\n",
       "  </thead>\n",
       "  <tbody>\n",
       "    <tr>\n",
       "      <th>786</th>\n",
       "      <td>1</td>\n",
       "      <td>1</td>\n",
       "      <td>5</td>\n",
       "      <td>955</td>\n",
       "      <td>1035</td>\n",
       "      <td>PS</td>\n",
       "      <td>1400</td>\n",
       "      <td>LAX</td>\n",
       "      <td>SAN</td>\n",
       "      <td>LAX_SAN</td>\n",
       "      <td>0</td>\n",
       "    </tr>\n",
       "    <tr>\n",
       "      <th>787</th>\n",
       "      <td>1</td>\n",
       "      <td>2</td>\n",
       "      <td>6</td>\n",
       "      <td>955</td>\n",
       "      <td>1035</td>\n",
       "      <td>PS</td>\n",
       "      <td>1400</td>\n",
       "      <td>LAX</td>\n",
       "      <td>SAN</td>\n",
       "      <td>LAX_SAN</td>\n",
       "      <td>0</td>\n",
       "    </tr>\n",
       "    <tr>\n",
       "      <th>788</th>\n",
       "      <td>1</td>\n",
       "      <td>4</td>\n",
       "      <td>1</td>\n",
       "      <td>955</td>\n",
       "      <td>1035</td>\n",
       "      <td>PS</td>\n",
       "      <td>1400</td>\n",
       "      <td>LAX</td>\n",
       "      <td>SAN</td>\n",
       "      <td>LAX_SAN</td>\n",
       "      <td>0</td>\n",
       "    </tr>\n",
       "    <tr>\n",
       "      <th>789</th>\n",
       "      <td>1</td>\n",
       "      <td>5</td>\n",
       "      <td>2</td>\n",
       "      <td>955</td>\n",
       "      <td>1035</td>\n",
       "      <td>PS</td>\n",
       "      <td>1400</td>\n",
       "      <td>LAX</td>\n",
       "      <td>SAN</td>\n",
       "      <td>LAX_SAN</td>\n",
       "      <td>0</td>\n",
       "    </tr>\n",
       "    <tr>\n",
       "      <th>790</th>\n",
       "      <td>1</td>\n",
       "      <td>6</td>\n",
       "      <td>3</td>\n",
       "      <td>955</td>\n",
       "      <td>1035</td>\n",
       "      <td>PS</td>\n",
       "      <td>1400</td>\n",
       "      <td>LAX</td>\n",
       "      <td>SAN</td>\n",
       "      <td>LAX_SAN</td>\n",
       "      <td>1</td>\n",
       "    </tr>\n",
       "  </tbody>\n",
       "</table>\n",
       "</div>"
      ],
      "text/plain": [
       "     Month  DayofMonth  DayOfWeek  CRSDepTime  CRSArrTime UniqueCarrier  \\\n",
       "786      1           1          5         955        1035            PS   \n",
       "787      1           2          6         955        1035            PS   \n",
       "788      1           4          1         955        1035            PS   \n",
       "789      1           5          2         955        1035            PS   \n",
       "790      1           6          3         955        1035            PS   \n",
       "\n",
       "     FlightNum Origin Dest    route  Label  \n",
       "786       1400    LAX  SAN  LAX_SAN      0  \n",
       "787       1400    LAX  SAN  LAX_SAN      0  \n",
       "788       1400    LAX  SAN  LAX_SAN      0  \n",
       "789       1400    LAX  SAN  LAX_SAN      0  \n",
       "790       1400    LAX  SAN  LAX_SAN      1  "
      ]
     },
     "metadata": {
      "engine": 0
     },
     "output_type": "display_data"
    }
   ],
   "source": [
    "%%px\n",
    "@bodo.jit(distributed=[\"flight_df\"], cache=True)\n",
    "def encode_labels(flight_df):\n",
    "    flight_df.Cancelled = pd.Categorical(flight_df.Cancelled)\n",
    "    flight_df['Label'] = flight_df.Cancelled.cat.codes\n",
    "    flight_df.drop(['Cancelled'], axis=1, inplace=True)\n",
    "    return flight_df\n",
    "\n",
    "flight_df = encode_labels(flight_df)\n",
    "if bodo.get_rank() == 0:\n",
    "    display(flight_df.head())"
   ]
  },
  {
   "cell_type": "markdown",
   "id": "fancy-basics",
   "metadata": {},
   "source": [
    "#### 2. Feature Encoding\n",
    "\n",
    "This is needed because sklearn only supports numerical values\n",
    "\n",
    "a. Get airport unique values\n",
    "\n",
    "b. Encode origin, destination, and route features"
   ]
  },
  {
   "cell_type": "code",
   "execution_count": 8,
   "id": "postal-williams",
   "metadata": {
    "execution": {
     "iopub.execute_input": "2022-04-26T23:54:33.118571Z",
     "iopub.status.busy": "2022-04-26T23:54:33.118319Z",
     "iopub.status.idle": "2022-04-26T23:54:37.525274Z",
     "shell.execute_reply": "2022-04-26T23:54:37.524892Z",
     "shell.execute_reply.started": "2022-04-26T23:54:33.118550Z"
    },
    "tags": []
   },
   "outputs": [
    {
     "data": {
      "application/vnd.jupyter.widget-view+json": {
       "model_id": "8d27f950c5d1438f84318fac681bffa4",
       "version_major": 2,
       "version_minor": 0
      },
      "text/plain": [
       "%px:   0%|          | 0/8 [00:00<?, ?tasks/s]"
      ]
     },
     "metadata": {},
     "output_type": "display_data"
    },
    {
     "data": {
      "text/plain": [
       "[output:0]"
      ]
     },
     "metadata": {},
     "output_type": "display_data"
    },
    {
     "data": {
      "text/plain": [
       "array(['ATL', 'BOS', 'DAL', 'DCA', 'DEN', 'DFW', 'DTW', 'EWR', 'HOU',\n",
       "       'IAH', 'LAS', 'LAX', 'LGA', 'MCO', 'MIA', 'MSP', 'ORD', 'PDX',\n",
       "       'PHX', 'SAN', 'SAT', 'SEA', 'SFO', 'SJC', 'STL'], dtype=object)"
      ]
     },
     "metadata": {
      "engine": 0
     },
     "output_type": "display_data"
    }
   ],
   "source": [
    "%%px\n",
    "\n",
    "@bodo.jit(distributed=[\"flight_df\"], cache=True)\n",
    "def get_airport_list(flight_df):\n",
    "    airport_list = np.sort((pd.concat((flight_df['Origin'], flight_df['Dest']))).unique())\n",
    "    return airport_list\n",
    "\n",
    "airport_list = get_airport_list(flight_df)\n",
    "if bodo.get_rank() == 0:\n",
    "    display(airport_list)"
   ]
  },
  {
   "cell_type": "code",
   "execution_count": 9,
   "id": "extra-macintosh",
   "metadata": {
    "execution": {
     "iopub.execute_input": "2022-04-26T23:54:44.717334Z",
     "iopub.status.busy": "2022-04-26T23:54:44.717085Z",
     "iopub.status.idle": "2022-04-26T23:54:45.564929Z",
     "shell.execute_reply": "2022-04-26T23:54:45.564505Z",
     "shell.execute_reply.started": "2022-04-26T23:54:44.717311Z"
    },
    "tags": []
   },
   "outputs": [
    {
     "data": {
      "text/plain": [
       "[stdout:0] Encoding time:  0.5405858317162711  sec\n"
      ]
     },
     "metadata": {},
     "output_type": "display_data"
    },
    {
     "data": {
      "text/plain": [
       "[output:0]"
      ]
     },
     "metadata": {},
     "output_type": "display_data"
    },
    {
     "data": {
      "text/html": [
       "<div>\n",
       "<style scoped>\n",
       "    .dataframe tbody tr th:only-of-type {\n",
       "        vertical-align: middle;\n",
       "    }\n",
       "\n",
       "    .dataframe tbody tr th {\n",
       "        vertical-align: top;\n",
       "    }\n",
       "\n",
       "    .dataframe thead th {\n",
       "        text-align: right;\n",
       "    }\n",
       "</style>\n",
       "<table border=\"1\" class=\"dataframe\">\n",
       "  <thead>\n",
       "    <tr style=\"text-align: right;\">\n",
       "      <th></th>\n",
       "      <th>Month</th>\n",
       "      <th>DayofMonth</th>\n",
       "      <th>DayOfWeek</th>\n",
       "      <th>CRSDepTime</th>\n",
       "      <th>CRSArrTime</th>\n",
       "      <th>UniqueCarrier</th>\n",
       "      <th>FlightNum</th>\n",
       "      <th>Origin</th>\n",
       "      <th>Dest</th>\n",
       "      <th>route</th>\n",
       "      <th>Label</th>\n",
       "      <th>Carrier_encoded</th>\n",
       "      <th>Origin_encoded</th>\n",
       "      <th>Dest_encoded</th>\n",
       "      <th>route_encoded</th>\n",
       "    </tr>\n",
       "  </thead>\n",
       "  <tbody>\n",
       "    <tr>\n",
       "      <th>786</th>\n",
       "      <td>1</td>\n",
       "      <td>1</td>\n",
       "      <td>5</td>\n",
       "      <td>955</td>\n",
       "      <td>1035</td>\n",
       "      <td>PS</td>\n",
       "      <td>1400</td>\n",
       "      <td>LAX</td>\n",
       "      <td>SAN</td>\n",
       "      <td>LAX_SAN</td>\n",
       "      <td>0</td>\n",
       "      <td>9</td>\n",
       "      <td>11</td>\n",
       "      <td>19</td>\n",
       "      <td>18</td>\n",
       "    </tr>\n",
       "    <tr>\n",
       "      <th>787</th>\n",
       "      <td>1</td>\n",
       "      <td>2</td>\n",
       "      <td>6</td>\n",
       "      <td>955</td>\n",
       "      <td>1035</td>\n",
       "      <td>PS</td>\n",
       "      <td>1400</td>\n",
       "      <td>LAX</td>\n",
       "      <td>SAN</td>\n",
       "      <td>LAX_SAN</td>\n",
       "      <td>0</td>\n",
       "      <td>9</td>\n",
       "      <td>11</td>\n",
       "      <td>19</td>\n",
       "      <td>18</td>\n",
       "    </tr>\n",
       "    <tr>\n",
       "      <th>788</th>\n",
       "      <td>1</td>\n",
       "      <td>4</td>\n",
       "      <td>1</td>\n",
       "      <td>955</td>\n",
       "      <td>1035</td>\n",
       "      <td>PS</td>\n",
       "      <td>1400</td>\n",
       "      <td>LAX</td>\n",
       "      <td>SAN</td>\n",
       "      <td>LAX_SAN</td>\n",
       "      <td>0</td>\n",
       "      <td>9</td>\n",
       "      <td>11</td>\n",
       "      <td>19</td>\n",
       "      <td>18</td>\n",
       "    </tr>\n",
       "    <tr>\n",
       "      <th>789</th>\n",
       "      <td>1</td>\n",
       "      <td>5</td>\n",
       "      <td>2</td>\n",
       "      <td>955</td>\n",
       "      <td>1035</td>\n",
       "      <td>PS</td>\n",
       "      <td>1400</td>\n",
       "      <td>LAX</td>\n",
       "      <td>SAN</td>\n",
       "      <td>LAX_SAN</td>\n",
       "      <td>0</td>\n",
       "      <td>9</td>\n",
       "      <td>11</td>\n",
       "      <td>19</td>\n",
       "      <td>18</td>\n",
       "    </tr>\n",
       "    <tr>\n",
       "      <th>790</th>\n",
       "      <td>1</td>\n",
       "      <td>6</td>\n",
       "      <td>3</td>\n",
       "      <td>955</td>\n",
       "      <td>1035</td>\n",
       "      <td>PS</td>\n",
       "      <td>1400</td>\n",
       "      <td>LAX</td>\n",
       "      <td>SAN</td>\n",
       "      <td>LAX_SAN</td>\n",
       "      <td>1</td>\n",
       "      <td>9</td>\n",
       "      <td>11</td>\n",
       "      <td>19</td>\n",
       "      <td>18</td>\n",
       "    </tr>\n",
       "  </tbody>\n",
       "</table>\n",
       "</div>"
      ],
      "text/plain": [
       "     Month  DayofMonth  DayOfWeek  CRSDepTime  CRSArrTime UniqueCarrier  \\\n",
       "786      1           1          5         955        1035            PS   \n",
       "787      1           2          6         955        1035            PS   \n",
       "788      1           4          1         955        1035            PS   \n",
       "789      1           5          2         955        1035            PS   \n",
       "790      1           6          3         955        1035            PS   \n",
       "\n",
       "     FlightNum Origin Dest    route  Label  Carrier_encoded  Origin_encoded  \\\n",
       "786       1400    LAX  SAN  LAX_SAN      0                9              11   \n",
       "787       1400    LAX  SAN  LAX_SAN      0                9              11   \n",
       "788       1400    LAX  SAN  LAX_SAN      0                9              11   \n",
       "789       1400    LAX  SAN  LAX_SAN      0                9              11   \n",
       "790       1400    LAX  SAN  LAX_SAN      1                9              11   \n",
       "\n",
       "     Dest_encoded  route_encoded  \n",
       "786            19             18  \n",
       "787            19             18  \n",
       "788            19             18  \n",
       "789            19             18  \n",
       "790            19             18  "
      ]
     },
     "metadata": {
      "engine": 0
     },
     "output_type": "display_data"
    }
   ],
   "source": [
    "%%px\n",
    "from sklearn.preprocessing import LabelEncoder\n",
    "@bodo.jit(distributed=[\"flight_df\", \"airport_list\"], cache=True)\n",
    "def encode_features(flight_df, airport_list):\n",
    "    t1 = time.time()    \n",
    "    # encode airlines \n",
    "    le_carrier = LabelEncoder()\n",
    "    flight_df['Carrier_encoded'] = pd.Series(le_carrier.fit_transform(flight_df['UniqueCarrier'].values))\n",
    "    # Encode airports : Using same encoder for both origin and dest ( consistent encoding of airports )\n",
    "    le_airport = LabelEncoder()\n",
    "    le_airport.fit(airport_list)\n",
    "    flight_df['Origin_encoded'] = pd.Series(le_airport.transform(flight_df['Origin']))\n",
    "    flight_df['Dest_encoded'] = pd.Series(le_airport.transform(flight_df['Dest']))\n",
    "    # Encode routes \n",
    "    le_route = LabelEncoder()\n",
    "    flight_df['route_encoded'] = pd.Series(le_route.fit_transform(flight_df['route'].values))\n",
    "    print(\"Encoding time: \", (time.time()-t1), \" sec\")\n",
    "    return flight_df\n",
    "\n",
    "flight_df = encode_features(flight_df, airport_list)\n",
    "if bodo.get_rank() == 0:\n",
    "    display(flight_df.head())"
   ]
  },
  {
   "cell_type": "code",
   "execution_count": 10,
   "id": "stupid-retrieval",
   "metadata": {
    "execution": {
     "iopub.execute_input": "2022-04-26T23:54:49.458973Z",
     "iopub.status.busy": "2022-04-26T23:54:49.458720Z",
     "iopub.status.idle": "2022-04-26T23:54:49.516901Z",
     "shell.execute_reply": "2022-04-26T23:54:49.516458Z",
     "shell.execute_reply.started": "2022-04-26T23:54:49.458951Z"
    },
    "tags": []
   },
   "outputs": [
    {
     "data": {
      "text/plain": [
       "[stdout:0]         UniqueCarrier  Carrier_encoded Origin  Origin_encoded Dest  \\\n",
       "749691             AA                0    ORD              16  STL   \n",
       "1183420            AA                0    IAH               9  DFW   \n",
       "1768911            UA               11    DEN               4  ORD   \n",
       "2237141            UA               11    LAX              11  SFO   \n",
       "2316550            NW                6    ORD              16  MSP   \n",
       "3167804            HP                5    PHX              18  LAS   \n",
       "3070695            UA               11    ORD              16  LGA   \n",
       "4374513            UA               11    SFO              22  LAX   \n",
       "4637595            EA                4    LGA              12  DCA   \n",
       "4642272            HP                5    SAN              19  PHX   \n",
       "\n",
       "         Dest_encoded    route  route_encoded  \n",
       "749691             24  ORD_STL             33  \n",
       "1183420             5  IAH_DFW             13  \n",
       "1768911            16  DEN_ORD              8  \n",
       "2237141            22  LAX_SFO             20  \n",
       "2316550            15  ORD_MSP             32  \n",
       "3167804            10  PHX_LAS             35  \n",
       "3070695            12  ORD_LGA             31  \n",
       "4374513            11  SFO_LAX             45  \n",
       "4637595             3  LGA_DCA             23  \n",
       "4642272            18  SAN_PHX             39  \n"
      ]
     },
     "metadata": {},
     "output_type": "display_data"
    }
   ],
   "source": [
    "%%px\n",
    "@bodo.jit(distributed=[\"flight_df\"], cache=True)\n",
    "def sample(flight_df):\n",
    "    print(flight_df[['UniqueCarrier','Carrier_encoded','Origin','Origin_encoded',\n",
    "           'Dest', 'Dest_encoded', 'route', 'route_encoded' ]].sample(10))\n",
    "    \n",
    "sample(flight_df)"
   ]
  },
  {
   "cell_type": "code",
   "execution_count": 14,
   "id": "saved-barcelona",
   "metadata": {
    "execution": {
     "iopub.execute_input": "2022-04-26T23:56:04.242958Z",
     "iopub.status.busy": "2022-04-26T23:56:04.242709Z",
     "iopub.status.idle": "2022-04-26T23:56:04.362562Z",
     "shell.execute_reply": "2022-04-26T23:56:04.362164Z",
     "shell.execute_reply.started": "2022-04-26T23:56:04.242936Z"
    },
    "tags": []
   },
   "outputs": [
    {
     "data": {
      "text/plain": [
       "[stdout:0] Data splitting time:  0.05209195460520277  sec\n"
      ]
     },
     "metadata": {},
     "output_type": "display_data"
    }
   ],
   "source": [
    "%%px\n",
    "from sklearn.model_selection import train_test_split\n",
    "@bodo.jit(distributed=[\"flight_df\", \"X_train\", \"X_test\", \"y_train\", \"y_test\"], cache=True)\n",
    "def split_data(flight_df):\n",
    "    t1 = time.time()\n",
    "    X_train, X_test, y_train, y_test = train_test_split(flight_df.drop(['UniqueCarrier','Origin','Dest','route'],axis=1),\n",
    "                                                    flight_df['Label'], \n",
    "                                                    test_size=0.3, train_size=0.7,\n",
    "                                                    random_state=100)\n",
    "    print(\"Data splitting time: \", (time.time()-t1), \" sec\")    \n",
    "\n",
    "    return X_train, X_test, y_train, y_test\n",
    "\n",
    "X_train, X_test, y_train, y_test = split_data(flight_df)"
   ]
  },
  {
   "cell_type": "markdown",
   "id": "urban-berkeley",
   "metadata": {},
   "source": [
    "## Part 2: Model Training - Using Scikit-learn"
   ]
  },
  {
   "cell_type": "markdown",
   "id": "compressed-cleaner",
   "metadata": {},
   "source": [
    "### 1. RandomForestClassifier"
   ]
  },
  {
   "cell_type": "code",
   "execution_count": 16,
   "id": "fifth-greene",
   "metadata": {
    "execution": {
     "iopub.execute_input": "2022-04-26T23:57:54.290427Z",
     "iopub.status.busy": "2022-04-26T23:57:54.290180Z",
     "iopub.status.idle": "2022-04-26T23:58:08.083542Z",
     "shell.execute_reply": "2022-04-26T23:58:08.083122Z",
     "shell.execute_reply.started": "2022-04-26T23:57:54.290407Z"
    },
    "tags": []
   },
   "outputs": [
    {
     "data": {
      "application/vnd.jupyter.widget-view+json": {
       "model_id": "c0aa6ae0c13b4780b362b8b511496797",
       "version_major": 2,
       "version_minor": 0
      },
      "text/plain": [
       "%px:   0%|          | 0/8 [00:00<?, ?tasks/s]"
      ]
     },
     "metadata": {},
     "output_type": "display_data"
    },
    {
     "data": {
      "text/plain": [
       "[stdout:0] RandomForestClassifier fit and predict time:  6.080242309267305\n",
       "Accuracy score 1.0\n"
      ]
     },
     "metadata": {},
     "output_type": "display_data"
    }
   ],
   "source": [
    "%%px\n",
    "from sklearn.ensemble import RandomForestClassifier\n",
    "from sklearn.metrics import accuracy_score # evaluation metric\n",
    "@bodo.jit(distributed=['X_train', 'y_train', 'X_test', 'y_test'], cache=True)\n",
    "def rf_model(X_train, X_test, y_train, y_test):\n",
    "    start = time.time()\n",
    "    rf = RandomForestClassifier()\n",
    "    rf.fit(X_train.to_numpy(), y_train.values)\n",
    "    y_pred = rf.predict(X_test.values)\n",
    "    print(\"RandomForestClassifier fit and predict time: \", time.time()-start)    \n",
    "    print('Accuracy score {}'.format(accuracy_score(y_test, y_pred)))\n",
    "\n",
    "rf_model(X_train, X_test, y_train, y_test)"
   ]
  },
  {
   "cell_type": "markdown",
   "id": "innovative-museum",
   "metadata": {},
   "source": [
    "### 2. Logistic Regression"
   ]
  },
  {
   "cell_type": "code",
   "execution_count": 18,
   "id": "ready-allen",
   "metadata": {
    "execution": {
     "iopub.execute_input": "2022-04-26T23:58:33.291363Z",
     "iopub.status.busy": "2022-04-26T23:58:33.291105Z",
     "iopub.status.idle": "2022-04-26T23:58:38.185167Z",
     "shell.execute_reply": "2022-04-26T23:58:38.184806Z",
     "shell.execute_reply.started": "2022-04-26T23:58:33.291342Z"
    },
    "tags": []
   },
   "outputs": [
    {
     "data": {
      "application/vnd.jupyter.widget-view+json": {
       "model_id": "411c9372e2cc496989b899226ba5b476",
       "version_major": 2,
       "version_minor": 0
      },
      "text/plain": [
       "%px:   0%|          | 0/8 [00:00<?, ?tasks/s]"
      ]
     },
     "metadata": {},
     "output_type": "display_data"
    },
    {
     "data": {
      "text/plain": [
       "[stdout:0] Logistic Regression fit and predict time:  0.1333144736495342\n",
       "Accuracy score 0.9815770030647986\n"
      ]
     },
     "metadata": {},
     "output_type": "display_data"
    },
    {
     "data": {
      "text/plain": [
       "[stderr:0] /tmp/ipykernel_27695/1926140333.py:12: BodoWarning: Data is distributed so Bodo will fit model with SGD solver optimization (SGDClassifier)\n",
       "  lr_model(X_train, X_test, y_train, y_test)\n"
      ]
     },
     "metadata": {},
     "output_type": "display_data"
    }
   ],
   "source": [
    "%%px\n",
    "\n",
    "from sklearn.linear_model import LogisticRegression\n",
    "from sklearn.metrics import accuracy_score # evaluation metric\n",
    "@bodo.jit(distributed=['X_train', 'y_train', 'X_test', 'y_test'], cache=True)\n",
    "def lr_model(X_train, X_test, y_train, y_test):\n",
    "    start = time.time()\n",
    "    lr = LogisticRegression()\n",
    "    lr.fit(X_train.to_numpy(), y_train.values)\n",
    "    y_pred = lr.predict(X_test.to_numpy())\n",
    "    print(\"Logistic Regression fit and predict time: \", time.time()-start)    \n",
    "    print('Accuracy score {}'.format(accuracy_score(y_test, y_pred)))\n",
    "\n",
    "lr_model(X_train, X_test, y_train, y_test)"
   ]
  },
  {
   "cell_type": "code",
   "execution_count": null,
   "id": "7cef5d3f-7348-4961-89e9-4494769dc47d",
   "metadata": {},
   "outputs": [],
   "source": []
  }
 ],
 "metadata": {
  "kernelspec": {
   "display_name": "Python 3 (ipykernel)",
   "language": "python",
   "name": "bodo_platform_dummy_kernel"
  },
  "language_info": {
   "codemirror_mode": {
    "name": "ipython",
    "version": 3
   },
   "file_extension": ".py",
   "mimetype": "text/x-python",
   "name": "python",
   "nbconvert_exporter": "python",
   "pygments_lexer": "ipython3",
   "version": "3.9.7"
  }
 },
 "nbformat": 4,
 "nbformat_minor": 5
}
