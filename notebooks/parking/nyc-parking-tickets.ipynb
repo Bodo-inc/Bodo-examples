{
 "cells": [
  {
   "cell_type": "markdown",
   "metadata": {},
   "source": [
    "# NYC Parking Violations\n",
    "This example demonstrates ETL operations for transforming New York City parking summons data to create maps. \n",
    "\n",
    "Original example can be found [here](https://github.com/JBlumstein/NYCParking/blob/master/NYC_Parking_Violations_Mapping_Example.ipynb)"
   ]
  },
  {
   "cell_type": "markdown",
   "metadata": {},
   "source": [
    "### Notes on running these queries:\n",
    "\n",
    "Bodo is used by defaults, which distributes data chunks across cores automatically.\n",
    "\n",
    "The output cells are from execution on one **m5.12xlarge** instance (24 cores, 192GiB memory) using 2016 and 2017 dataset [here](https://www.kaggle.com/new-york-city/nyc-parking-tickets) which is ~4GB.\n",
    "\n",
    "\n",
    "To run the code:\n",
    "1. Make sure you add your AWS account credentials to access the data. \n",
    "2. If you want to run a query in regular pandas:\n",
    "    1. Comment lines with Jupyter parallel magic (%%px) and bodo decorator (@bodo.jit) from all the code cells.\n",
    "    2. Then, re-run cells from the beginning.\n",
    "\n",
    "\n"
   ]
  },
  {
   "cell_type": "code",
   "execution_count": 1,
   "metadata": {},
   "outputs": [],
   "source": [
    "%%px\n",
    "import os\n",
    "\n",
    "os.environ[\"AWS_ACCESS_KEY_ID\"] = \"your_aws_access_key_id\"\n",
    "os.environ[\"AWS_SECRET_ACCESS_KEY\"] = \"aws_secret_access_key\"\n",
    "os.environ[\"AWS_DEFAULT_REGION\"] = \"us-east-2\""
   ]
  },
  {
   "cell_type": "code",
   "execution_count": 2,
   "metadata": {},
   "outputs": [],
   "source": [
    "%%px\n",
    "import numpy as np\n",
    "import pandas as pd\n",
    "import time\n",
    "import datetime\n",
    "import bodo"
   ]
  },
  {
   "cell_type": "markdown",
   "metadata": {},
   "source": [
    "## Data Loading\n",
    "In this section parking tickets data is loaded from S3 bucket and aggregated by day, violation type, and police precinct and placed in a dataframe. \n",
    "\n",
    "Each dataframe is added to a list of dataframes, and then the dataframes are all appended into a single dataframe named `main_df`.\n",
    "\n",
    "In addition, violcation codes, and precincts information are loaded as well."
   ]
  },
  {
   "cell_type": "code",
   "execution_count": 3,
   "metadata": {},
   "outputs": [
    {
     "name": "stdout",
     "output_type": "stream",
     "text": [
      "[stdout:0] \n",
      "Reading Time:  9.9238600730896\n",
      "  Issue Date Violation County  Violation Precinct  Violation Code  \\\n",
      "0 2015-07-09                K                  84              21   \n",
      "1 2015-07-10               BX                  46              40   \n",
      "2 2015-06-13               NY                  26              19   \n",
      "3 2015-06-26               NY                  26              40   \n",
      "4 2015-06-21               NY                  26              40   \n",
      "\n",
      "   Summons Number  \n",
      "0              53  \n",
      "1              17  \n",
      "2               2  \n",
      "3              18  \n",
      "4               1  \n"
     ]
    }
   ],
   "source": [
    "%%px\n",
    "\n",
    "@bodo.jit(distributed=['many_year_df'], cache=True)\n",
    "def load_parking_tickets():\n",
    "    start = time.time()\n",
    "    year_2016_df = pd.read_csv('s3://bodo-examples-data/nyc-parking-tickets/Parking_Violations_Issued_-_Fiscal_Year_2016.csv', parse_dates=[\"Issue Date\"])\n",
    "    year_2016_df = year_2016_df.groupby(['Issue Date','Violation County','Violation Precinct','Violation Code'], as_index=False)['Summons Number'].count()        \n",
    "\n",
    "    year_2017_df = pd.read_csv('s3://bodo-examples-data/nyc-parking-tickets/Parking_Violations_Issued_-_Fiscal_Year_2017.csv', parse_dates=[\"Issue Date\"])        \n",
    "    year_2017_df = year_2017_df.groupby(['Issue Date','Violation County','Violation Precinct','Violation Code'], as_index=False)['Summons Number'].count()    \n",
    "     \n",
    "    # concatenate all dataframes into one dataframe\n",
    "    many_year_df = pd.concat([year_2016_df, year_2017_df])\n",
    "    end = time.time()\n",
    "    print(\"Reading Time: \", end - start)\n",
    "    print(many_year_df.head())\n",
    "    return many_year_df\n",
    "\n",
    "main_df = load_parking_tickets()"
   ]
  },
  {
   "cell_type": "code",
   "execution_count": 4,
   "metadata": {},
   "outputs": [
    {
     "name": "stdout",
     "output_type": "stream",
     "text": [
      "[stdout:0] Violation and precincts load Time:  0.0188140869140625\n"
     ]
    }
   ],
   "source": [
    "%%px\n",
    "@bodo.jit\n",
    "def load_violation_precincts_codes():\n",
    "    start = time.time()\n",
    "    violation_codes = pd.read_csv(\"./DOF_Parking_Violation_Codes.csv\")\n",
    "    violation_codes.columns = ['Violation Code','Definition','manhattan_96_and_below','all_other_areas']\n",
    "    nyc_precincts_df = pd.read_csv(\"./nyc_precincts.csv\", index_col='index')\n",
    "    end = time.time()\n",
    "    print(\"Violation and precincts load Time: \", end - start)\n",
    "    return violation_codes, nyc_precincts_df\n",
    "\n",
    "violation_codes, nyc_precincts_df = load_violation_precincts_codes()"
   ]
  },
  {
   "cell_type": "markdown",
   "metadata": {},
   "source": [
    "## Data Cleaning\n",
    "\n",
    "1. Remove summons with undefined violations (violation code 36).\n",
    "2. Delete entries that have dates not within our dataset dates."
   ]
  },
  {
   "cell_type": "code",
   "execution_count": 5,
   "metadata": {},
   "outputs": [
    {
     "name": "stdout",
     "output_type": "stream",
     "text": [
      "[stdout:0] \n",
      "Eliminate undefined violations time:  0.5813138484954834\n",
      "       Issue Date Violation County  Violation Precinct  Violation Code  \\\n",
      "136081 2015-11-27                Q                 114              21   \n",
      "297696 2016-06-19               BK                   0               7   \n",
      "248901 2017-05-19               QN                   0               7   \n",
      "98645  2016-06-19               QN                   0               7   \n",
      "223104 2016-06-18               QN                   0               7   \n",
      "\n",
      "        Summons Number  \n",
      "136081            1165  \n",
      "297696             910  \n",
      "248901             907  \n",
      "98645              891  \n",
      "223104             889  \n"
     ]
    }
   ],
   "source": [
    "%%px\n",
    "@bodo.jit(distributed=['main_df'], cache=True)\n",
    "def elim_code_36(main_df):\n",
    "    start = time.time()\n",
    "    '''function to take out all violations with code 36 (other)'''    \n",
    "    main_df = main_df[main_df['Violation Code']!=36].sort_values('Summons Number',ascending=False)\n",
    "    end = time.time()\n",
    "    print(\"Eliminate undefined violations time: \", end - start)\n",
    "    print(main_df.head())\n",
    "    return main_df\n",
    "\n",
    "main_df = elim_code_36(main_df)"
   ]
  },
  {
   "cell_type": "code",
   "execution_count": 6,
   "metadata": {},
   "outputs": [
    {
     "name": "stdout",
     "output_type": "stream",
     "text": [
      "[stdout:0] \n",
      "Remove outliers time:  0.12035107612609863\n",
      "       Issue Date Violation County  Violation Precinct  Violation Code  \\\n",
      "297696 2016-06-19               BK                   0               7   \n",
      "248901 2017-05-19               QN                   0               7   \n",
      "98645  2016-06-19               QN                   0               7   \n",
      "223104 2016-06-18               QN                   0               7   \n",
      "123818 2016-06-26               BK                   0               7   \n",
      "\n",
      "        Summons Number  \n",
      "297696             910  \n",
      "248901             907  \n",
      "98645              891  \n",
      "223104             889  \n",
      "123818             888  \n"
     ]
    }
   ],
   "source": [
    "%%px\n",
    "@bodo.jit(distributed=['main_df'], cache=True)\n",
    "def remove_outliers(main_df):\n",
    "    start = time.time()\n",
    "    main_df = main_df[(main_df['Issue Date'] >= '2016-01-01') & (main_df['Issue Date'] <= '2017-12-31')]\n",
    "    end = time.time()\n",
    "    print(\"Remove outliers time: \", (end-start))\n",
    "    print(main_df.head()) \n",
    "    return main_df\n",
    "\n",
    "main_df = remove_outliers(main_df)"
   ]
  },
  {
   "cell_type": "markdown",
   "metadata": {},
   "source": [
    "## Collect More Information\n",
    "Data on each violation type, like ticket cost and violation descriptions, are added to the dataset by joining our main_df dataset with a violation type level dataset"
   ]
  },
  {
   "cell_type": "code",
   "execution_count": 7,
   "metadata": {},
   "outputs": [
    {
     "name": "stdout",
     "output_type": "stream",
     "text": [
      "[stdout:0] \n",
      "Merge time:  0.7444279193878174\n",
      "  Issue Date Violation County  Violation Precinct  Violation Code  \\\n",
      "0 2016-06-19               BK                   0               7   \n",
      "1 2017-05-19               QN                   0               7   \n",
      "2 2016-06-19               QN                   0               7   \n",
      "3 2016-06-18               QN                   0               7   \n",
      "4 2016-06-26               BK                   0               7   \n",
      "\n",
      "   Summons Number                                         Definition  \\\n",
      "0             910  Vehicles photographed going through a red ligh...   \n",
      "1             907  Vehicles photographed going through a red ligh...   \n",
      "2             891  Vehicles photographed going through a red ligh...   \n",
      "3             889  Vehicles photographed going through a red ligh...   \n",
      "4             888  Vehicles photographed going through a red ligh...   \n",
      "\n",
      "   manhattan_96_and_below  all_other_areas  \n",
      "0                      50               50  \n",
      "1                      50               50  \n",
      "2                      50               50  \n",
      "3                      50               50  \n",
      "4                      50               50  \n"
     ]
    }
   ],
   "source": [
    "%%px\n",
    "@bodo.jit(distributed=['main_df'], cache=True)\n",
    "def merge_violation_code(main_df):\n",
    "    start = time.time()\n",
    "    # left join main_df and violation_codes df so that there's more info on violation in main_df\n",
    "    main_df = pd.merge(main_df, violation_codes, on='Violation Code', how='left')\n",
    "    # cast precincts as integers from floats (inadvertent type change by merge)\n",
    "    main_df['Violation Precinct'] = main_df['Violation Precinct'].astype(int)    \n",
    "    end = time.time()\n",
    "    print(\"Merge time: \", (end-start))\n",
    "    print(main_df.head())   \n",
    "    return main_df\n",
    "\n",
    "main_df = merge_violation_code(main_df)"
   ]
  },
  {
   "cell_type": "markdown",
   "metadata": {},
   "source": [
    "## Compute Cost of Summons For Each Precinct.\n",
    "\n",
    "1. Most violations have different ticket prices, based on whether they occur in Manhattan below 96th St. or elsewhere in New York City. The daily revenue for each violation type in each precinct are determined by multiplying the number of offenses by the average cost of the offense (based on how much of the precinct is in Manhattan below 96th St.)."
   ]
  },
  {
   "cell_type": "code",
   "execution_count": 8,
   "metadata": {},
   "outputs": [
    {
     "name": "stdout",
     "output_type": "stream",
     "text": [
      "[stdout:0] \n",
      "Calculate Total Summons Time:  0.5384769439697266\n",
      "    Issue Date Violation County  Violation Precinct  Violation Code  \\\n",
      "291 2017-04-11               NY                  19              46   \n",
      "317 2017-03-22               NY                  19              46   \n",
      "323 2016-09-30               BK                   0               5   \n",
      "327 2017-03-30               NY                  19              46   \n",
      "364 2017-04-13               NY                  19              46   \n",
      "\n",
      "     Summons Number                                         Definition  \\\n",
      "291             554  Standing or parking on the roadway side of a v...   \n",
      "317             544  Standing or parking on the roadway side of a v...   \n",
      "323             542      Failure to make a right turn from a bus lane.   \n",
      "327             540  Standing or parking on the roadway side of a v...   \n",
      "364             526  Standing or parking on the roadway side of a v...   \n",
      "\n",
      "     manhattan_96_and_below  all_other_areas  portion_manhattan_96_and_below  \\\n",
      "291                     115              115                               1   \n",
      "317                     115              115                               1   \n",
      "323                     115              115                               1   \n",
      "327                     115              115                               1   \n",
      "364                     115              115                               1   \n",
      "\n",
      "     average_summons_amount  total_summons_dollars  \n",
      "291                     115                  63710  \n",
      "317                     115                  62560  \n",
      "323                     115                  62330  \n",
      "327                     115                  62100  \n",
      "364                     115                  60490  \n"
     ]
    }
   ],
   "source": [
    "%%px\n",
    "#calculate the total summonses in dollars for a violation in a precinct on a day\n",
    "@bodo.jit(distributed=['main_df'], cache=True)\n",
    "def calculate_total_summons(main_df):\n",
    "    start = time.time()\n",
    "    #create column for portion of precinct 96th st. and below\n",
    "    n = len(main_df)\n",
    "    portion_manhattan_96_and_below = np.empty(n, np.int64)\n",
    "    # NOTE: To run pandas, use this loop.\n",
    "    # for i in range(n):\n",
    "    for i in bodo.prange(n):\n",
    "        x = main_df['Violation Precinct'].iat[i]\n",
    "        if x < 22 or x == 23:\n",
    "            portion_manhattan_96_and_below[i] = 1.0\n",
    "        elif x == 22:\n",
    "            portion_manhattan_96_and_below[i] = 0.75\n",
    "        elif x == 24:\n",
    "            portion_manhattan_96_and_below[i] = 0.5\n",
    "        else: #other\n",
    "            portion_manhattan_96_and_below[i] = 0\n",
    "    main_df[\"portion_manhattan_96_and_below\"] = portion_manhattan_96_and_below\n",
    "\n",
    "    #create column for average dollar amount of summons based on location\n",
    "    main_df['average_summons_amount'] = (main_df['portion_manhattan_96_and_below'] * main_df['manhattan_96_and_below'] \n",
    "                                     + (1 - main_df['portion_manhattan_96_and_below']) * main_df['all_other_areas'])\n",
    "\n",
    "    #get total summons dollars by multiplying average dollar amount by number of summons given\n",
    "    main_df['total_summons_dollars'] = main_df['Summons Number'] * main_df['average_summons_amount']\n",
    "    main_df = main_df.sort_values(by=['total_summons_dollars'], ascending=False)\n",
    "    end = time.time()    \n",
    "    print(\"Calculate Total Summons Time: \", (end-start))\n",
    "    print(main_df.head())\n",
    "    return main_df\n",
    "\n",
    "main_df = calculate_total_summons(main_df)"
   ]
  },
  {
   "cell_type": "markdown",
   "metadata": {},
   "source": [
    "2. The aggregate function aggregates main_df by precinct. Once the data is run through this function that it will have a single row per precinct with the precinct number, the number of summonses, and the combined dollar value of the summonses."
   ]
  },
  {
   "cell_type": "code",
   "execution_count": 9,
   "metadata": {},
   "outputs": [
    {
     "name": "stdout",
     "output_type": "stream",
     "text": [
      "[stdout:0] \n",
      "Aggregate code time:  0.09418702125549316\n",
      "   Violation Precinct  Summons Number  total_summons_dollars\n",
      "0                  20          253743               21445110\n",
      "1                  68          174079               11503465\n",
      "2                  98              83                   6095\n",
      "3                 475               3                    340\n",
      "4                  37              53                   4810\n"
     ]
    }
   ],
   "source": [
    "%%px\n",
    "\n",
    "@bodo.jit(distributed=['main_df', 'precinct_offenses_df'], cache=True)\n",
    "def aggregate(main_df):\n",
    "    '''function that aggregates and filters data\n",
    "    e.g. total violations by precinct\n",
    "    '''\n",
    "    start = time.time()\n",
    "    filtered_dataset = main_df[['Violation Precinct','Summons Number', 'total_summons_dollars']]\n",
    "    precinct_offenses_df = filtered_dataset.groupby(by=['Violation Precinct']).sum().reset_index().fillna(0.0)\n",
    "    end = time.time()\n",
    "    print(\"Aggregate code time: \", (end-start))\n",
    "    print(precinct_offenses_df.head())\n",
    "    return precinct_offenses_df\n",
    "\n",
    "precinct_offenses_df = aggregate(main_df)"
   ]
  }
 ],
 "metadata": {
  "kernelspec": {
   "display_name": "Python 3",
   "language": "python",
   "name": "python3"
  },
  "language_info": {
   "codemirror_mode": {
    "name": "ipython",
    "version": 3
   },
   "file_extension": ".py",
   "mimetype": "text/x-python",
   "name": "python",
   "nbconvert_exporter": "python",
   "pygments_lexer": "ipython3",
   "version": "3.8.5"
  }
 },
 "nbformat": 4,
 "nbformat_minor": 4
}
