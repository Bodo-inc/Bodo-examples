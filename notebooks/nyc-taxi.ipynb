{
 "cells": [
  {
   "cell_type": "markdown",
   "metadata": {},
   "source": [
    "# New York City Taxi Analysis\n",
    "In this example we show some analysis for yellow and green taxi trips originating in New York City in 2019. \n",
    "\n",
    "Orignal example can be found [here](https://github.com/toddwschneider/nyc-taxi-data)\n",
    "\n",
    "The queries are originally in SQL format and here they are implemented using the pandas API."
   ]
  },
  {
   "cell_type": "markdown",
   "metadata": {},
   "source": [
    "### Notes on running these queries:\n",
    "\n",
    "Bodo is used by defaults, which distributes data chunks across cores automatically.\n",
    "\n",
    "The current results are based on running on one **m5.4xlarge** instance (8 cores, 64GiB memory)\n",
    "\n",
    "Dataset size is ~8GB.\n",
    "\n",
    "\n",
    "To run the code:\n",
    "1. Make sure you add your AWS account credentials to access the data. \n",
    "2. If you want to run a query in regular pandas:\n",
    "    1. Comment lines with Jupyter parallel magic (%%px) and bodo decorator (@bodo.jit) from all the code cells.\n",
    "    2. Then, re-run cells from the beginning.\n",
    "\n"
   ]
  },
  {
   "cell_type": "code",
   "execution_count": 1,
   "metadata": {},
   "outputs": [],
   "source": [
    "%%px\n",
    "import os\n",
    "\n",
    "os.environ[\"AWS_ACCESS_KEY_ID\"] = \"your_aws_access_key_id\"\n",
    "os.environ[\"AWS_SECRET_ACCESS_KEY\"] = \"your_aws_secret_access_key\"\n",
    "os.environ[\"AWS_DEFAULT_REGION\"] = \"us-east-2\""
   ]
  },
  {
   "cell_type": "code",
   "execution_count": 2,
   "metadata": {},
   "outputs": [],
   "source": [
    "%%px\n",
    "import bodo\n",
    "import pandas as pd\n",
    "import time\n",
    "import numpy as np"
   ]
  },
  {
   "cell_type": "markdown",
   "metadata": {},
   "source": [
    "<a id=\"loading_data\"></a>\n",
    "## Loading data\n",
    "\n",
    "In this section, we load the yellow and green taxi trips and weather in central park area in 2019 in pandas DataFrame."
   ]
  },
  {
   "cell_type": "code",
   "execution_count": 3,
   "metadata": {},
   "outputs": [
    {
     "name": "stdout",
     "output_type": "stream",
     "text": [
      "[stdout:0] \n",
      "BodoWarning: Unable to get S3 Bucket Region.\n",
      "'coroutine' object is not subscriptable.\n",
      "Will use the value defined in the AWS_DEFAULT_REGION environment variable (or us-east-1 if that is not provided either).\n",
      "BodoWarning: Unable to get S3 Bucket Region.\n",
      "'coroutine' object is not subscriptable.\n",
      "Will use the value defined in the AWS_DEFAULT_REGION environment variable (or us-east-1 if that is not provided either).\n",
      "Time:  38.92808389663696\n",
      "   VendorID lpep_pickup_datetime  PULocationID  DOLocationID  trip_distance  \\\n",
      "0         2  2018-12-21 15:17:29           264           264           0.00   \n",
      "1         2  2019-01-01 00:10:16            97            49           0.86   \n",
      "2         2  2019-01-01 00:27:11            49           189           0.66   \n",
      "3         2  2019-01-01 00:46:20           189            17           2.68   \n",
      "4         2  2019-01-01 00:19:06            82           258           4.53   \n",
      "\n",
      "   cab_type_id  \n",
      "0            1  \n",
      "1            1  \n",
      "2            1  \n",
      "3            1  \n",
      "4            1  \n"
     ]
    }
   ],
   "source": [
    "%%px\n",
    "@bodo.jit(distributed=[\"trips\"], cache=True)\n",
    "def get_trips():\n",
    "    start = time.time()\n",
    "    yellow_taxi = pd.read_csv(\n",
    "        \"s3://bodo-examples-data/nyc-taxi/yellow_tripdata_2019.csv\",\n",
    "        usecols=[0, 1, 4, 7, 8],\n",
    "        parse_dates=[\"tpep_pickup_datetime\"],\n",
    "    )\n",
    "    \n",
    "    yellow_taxi[\"cab_type_id\"] = 0\n",
    "\n",
    "    green_taxi = pd.read_csv(\n",
    "        \"s3://bodo-examples-data/nyc-taxi/green_tripdata_2019.csv\",\n",
    "        usecols=[0, 1, 5, 6, 8],\n",
    "        parse_dates=[\"lpep_pickup_datetime\"],\n",
    "    )\n",
    "    green_taxi[\"cab_type_id\"] = 1\n",
    "\n",
    "    # Rename yellow_taxi column to match green_taxi\n",
    "    yellow_taxi = yellow_taxi.rename(\n",
    "        columns={\"tpep_pickup_datetime\": \"lpep_pickup_datetime\"}, copy=False\n",
    "    )\n",
    "\n",
    "    # concat\n",
    "    trips = pd.concat([green_taxi, yellow_taxi])\n",
    "    end = time.time()\n",
    "    print(\"Time: \", end - start)\n",
    "    print(trips.head())\n",
    "    return trips\n",
    "\n",
    "trips = get_trips()"
   ]
  },
  {
   "cell_type": "code",
   "execution_count": 4,
   "metadata": {},
   "outputs": [
    {
     "name": "stdout",
     "output_type": "stream",
     "text": [
      "[stdout:0] \n",
      "BodoWarning: Unable to get S3 Bucket Region.\n",
      "'coroutine' object is not subscriptable.\n",
      "Will use the value defined in the AWS_DEFAULT_REGION environment variable (or us-east-1 if that is not provided either).\n",
      "Time:  0.5908660888671875\n",
      "    station_id                 station_name        date  average_wind_speed  \\\n",
      "0  USW00094728  NY CITY CENTRAL PARK, NY US  2009-01-01               11.18   \n",
      "1  USW00094728  NY CITY CENTRAL PARK, NY US  2009-01-02                6.26   \n",
      "2  USW00094728  NY CITY CENTRAL PARK, NY US  2009-01-03               10.07   \n",
      "3  USW00094728  NY CITY CENTRAL PARK, NY US  2009-01-04                7.61   \n",
      "4  USW00094728  NY CITY CENTRAL PARK, NY US  2009-01-05                6.93   \n",
      "\n",
      "   precipitation  snowfall  snow_depth  max_temperature  min_temperature  \n",
      "0            0.0       0.0         0.0               26               15  \n",
      "1            0.0       0.0         0.0               34               23  \n",
      "2            0.0       0.0         0.0               38               29  \n",
      "3            0.0       0.0         0.0               42               25  \n",
      "4            0.0       0.0         0.0               43               38  \n"
     ]
    }
   ],
   "source": [
    "%%px\n",
    "@bodo.jit(distributed=[\"central_park_weather_observations\", cache=True)\n",
    "def get_cp_weather():\n",
    "    start = time.time()\n",
    "    central_park_weather_observations = pd.read_csv(\n",
    "        \"s3://bodo-examples-data/nyc-taxi/central_park_weather.csv\", \n",
    "        parse_dates=[\"date\"]\n",
    "    )\n",
    "    central_park_weather_observations[\"date\"] = central_park_weather_observations[\n",
    "        \"date\"\n",
    "    ].dt.date\n",
    "    end = time.time()\n",
    "    print(\"Time: \", end - start)\n",
    "    print(central_park_weather_observations.head())\n",
    "    return central_park_weather_observations\n",
    "\n",
    "central_park_weather_observations = get_cp_weather()"
   ]
  },
  {
   "cell_type": "markdown",
   "metadata": {},
   "source": [
    "## Query Definitions\n",
    "\n",
    "This section includes some of the queries using Python (Pandas)"
   ]
  },
  {
   "cell_type": "markdown",
   "metadata": {},
   "source": [
    "### Q1: Display pickups by geography\n",
    "This query reports the number of trips for each pickup location."
   ]
  },
  {
   "cell_type": "code",
   "execution_count": 5,
   "metadata": {},
   "outputs": [
    {
     "name": "stdout",
     "output_type": "stream",
     "text": [
      "[stdout:0] \n",
      "Time:  2.1490120887756348\n",
      "        cab_type_id  pickup_location_id        date  trips\n",
      "42255             0                   1  2019-01-01     22\n",
      "1004              0                   1  2019-01-02     26\n",
      "21631             0                   1  2019-01-03     11\n",
      "1058              0                   1  2019-01-04     17\n",
      "145311            0                   1  2019-01-05     22\n"
     ]
    }
   ],
   "source": [
    "%%px\n",
    "@bodo.jit(distributed=[\"daily_pickups_taxi\", \"trips\"], cache=True)\n",
    "def get_daily_pickups(trips):\n",
    "    start = time.time() \n",
    "    daily_pickups_taxi = trips.loc[:, [\"cab_type_id\", \"PULocationID\", \"lpep_pickup_datetime\"]]\n",
    "    daily_pickups_taxi[\"pickup_date\"] = daily_pickups_taxi[\"lpep_pickup_datetime\"].dt.date\n",
    "    daily_pickups_taxi = daily_pickups_taxi.groupby(                          \n",
    "        [\"cab_type_id\", \"PULocationID\", \"pickup_date\"], as_index=False\n",
    "    )[\"lpep_pickup_datetime\"].count()                            \n",
    "    daily_pickups_taxi = daily_pickups_taxi.rename(              \n",
    "        columns={\n",
    "            \"PULocationID\": \"pickup_location_id\",\n",
    "            \"pickup_date\": \"date\",\n",
    "            \"lpep_pickup_datetime\": \"trips\",\n",
    "        },\n",
    "        copy=False,\n",
    "    )\n",
    "    daily_pickups_taxi = daily_pickups_taxi.sort_values(\n",
    "        by=[\"cab_type_id\", \"pickup_location_id\", \"date\", \"trips\"],\n",
    "        ascending=[True, True, True, False]\n",
    "    )\n",
    "\n",
    "    end = time.time()\n",
    "    print(\"Time: \", end - start)\n",
    "    print(daily_pickups_taxi.head())\n",
    "    return daily_pickups_taxi\n",
    "\n",
    "daily_pickups = get_daily_pickups(trips)\n"
   ]
  },
  {
   "cell_type": "markdown",
   "metadata": {},
   "source": [
    "### Q2: JFK Hourly Pickups\n",
    "This query reports the number of hourly pickups at JFK airport for each car type."
   ]
  },
  {
   "cell_type": "code",
   "execution_count": 6,
   "metadata": {},
   "outputs": [
    {
     "name": "stdout",
     "output_type": "stream",
     "text": [
      "[stdout:0] \n",
      "Time:  1.2269871234893799\n",
      "    cab_type_id  pickup_hour  pickup_location_id   trips\n",
      "2             0            0                 132  116751\n",
      "9             0            1                 132   61826\n",
      "24            0            2                 132   22066\n",
      "38            0            3                 132   11652\n",
      "47            0            4                 132   16670\n"
     ]
    }
   ],
   "source": [
    "%%px\n",
    "@bodo.jit(distributed=[\"jfk_hourly\", \"trips\"], cache=True)\n",
    "def get_jfk_hourly_pickups(trips):\n",
    "    start = time.time()  \n",
    "    jfk_hourly = trips.loc[:, [\"cab_type_id\", \"PULocationID\", \"lpep_pickup_datetime\"]]    \n",
    "    jfk_hourly[\"pickup_hour\"] = jfk_hourly[\"lpep_pickup_datetime\"].dt.hour\n",
    "    jfk_hourly = jfk_hourly.loc[jfk_hourly[\"PULocationID\"] == 132]\n",
    "    jfk_hourly = jfk_hourly.groupby(\n",
    "        [\"cab_type_id\", \"pickup_hour\", \"PULocationID\"], as_index=False\n",
    "    )[\"lpep_pickup_datetime\"].count()\n",
    "    jfk_hourly = jfk_hourly.rename(\n",
    "        columns={\n",
    "            \"lpep_pickup_datetime\": \"trips\",\n",
    "            \"PULocationID\": \"pickup_location_id\",\n",
    "        },\n",
    "        copy=False,\n",
    "    )    \n",
    "    jfk_hourly = jfk_hourly.sort_values(\n",
    "        by=[\"cab_type_id\", \"pickup_hour\", \"pickup_location_id\", \"trips\"],\n",
    "        ascending=[True, True, True, False]\n",
    "    )\n",
    "\n",
    "    end = time.time()\n",
    "    print(\"Time: \", end - start)\n",
    "    print(jfk_hourly.head())\n",
    "    return jfk_hourly\n",
    "\n",
    "jfk_hourly = get_jfk_hourly_pickups(trips)\n"
   ]
  },
  {
   "cell_type": "markdown",
   "metadata": {},
   "source": [
    "### Q3: Weekday trips\n",
    "This query reports how many trips are done during weekdays."
   ]
  },
  {
   "cell_type": "code",
   "execution_count": 7,
   "metadata": {},
   "outputs": [
    {
     "name": "stdout",
     "output_type": "stream",
     "text": [
      "[stdout:0] \n",
      "Time:  3.0001180171966553\n",
      "       pickup_location_id  dropoff_location_id  trips\n",
      "41367                   1                    1   5003\n",
      "27068                   1                    4      1\n",
      "26912                   1                    6      1\n",
      "26848                   1                   20      1\n",
      "39919                   1                   21      1\n"
     ]
    }
   ],
   "source": [
    "%%px\n",
    "@bodo.jit(distributed=[\"trips\", \"trips_weekdays\"], cache=True)\n",
    "def get_weekday_trips(trips):\n",
    "    start = time.time()\n",
    "    trips_weekdays = trips.loc[:, [\"cab_type_id\", \"lpep_pickup_datetime\", \"PULocationID\", \"DOLocationID\" ]]    \n",
    "    trips_weekdays[\"pickup_dow\"] = trips_weekdays[\"lpep_pickup_datetime\"].dt.dayofweek\n",
    "    trips_weekdays = trips_weekdays[\n",
    "        (trips_weekdays[\"cab_type_id\"].isin([0, 1]))\n",
    "        & (trips_weekdays[\"lpep_pickup_datetime\"] >= pd.to_datetime(\"2018-07-01\"))\n",
    "        & (trips_weekdays[\"lpep_pickup_datetime\"] < pd.to_datetime(\"2020-07-01\"))\n",
    "        & (trips_weekdays[\"pickup_dow\"].isin([1, 2, 3, 4, 5]))\n",
    "    ]\n",
    "    trips_weekdays = trips_weekdays.groupby(\n",
    "        [\"PULocationID\", \"DOLocationID\"], as_index=False\n",
    "    ).count()\n",
    "    trips_weekdays = trips_weekdays.loc[:,\n",
    "        [\"PULocationID\", \"DOLocationID\", \"lpep_pickup_datetime\"]\n",
    "    ]\n",
    "    trips_weekdays = trips_weekdays.rename(\n",
    "        columns={\n",
    "            \"PULocationID\": \"pickup_location_id\",\n",
    "            \"DOLocationID\": \"dropoff_location_id\",\n",
    "            \"lpep_pickup_datetime\": \"trips\"\n",
    "        },\n",
    "        copy=False,        \n",
    "    )\n",
    "    trips_weekdays = trips_weekdays.sort_values(by=[\"pickup_location_id\", \"dropoff_location_id\", \"trips\"],\n",
    "                                                ascending=[True, True, False])\n",
    "    end = time.time()\n",
    "    print(\"Time: \", end - start)\n",
    "    print(trips_weekdays.head())\n",
    "    return trips_weekdays\n",
    "\n",
    "wd_trips = get_weekday_trips(trips)\n"
   ]
  },
  {
   "cell_type": "markdown",
   "metadata": {},
   "source": [
    "### Q4: Monthly Trips and Weather in Central Park\n",
    "This query reports monthly travel times; the average distance, number of trips over and its corresponding weather.\n"
   ]
  },
  {
   "cell_type": "code",
   "execution_count": 8,
   "metadata": {},
   "outputs": [
    {
     "name": "stdout",
     "output_type": "stream",
     "text": [
      "[stdout:0] \n",
      "Time:  6.989274978637695\n",
      "         PULocationID  DOLocationID  month  weekday  date_with_precipitation \\\n",
      "492621              1             1      1        1                     0.17\n",
      "1404331             1             1      1        1                     0.17\n",
      "1420429             1             1      1        1                     0.23\n",
      "54034               1             1      1        1                     0.23\n",
      "966653              1             1      1        1                     0.23\n",
      "\n",
      "         time_bucket   trips         avg_distance\n",
      "492621             1       7             2.671429\n",
      "1404331            2       1             0.000000\n",
      "1420429            0       1            34.000000\n",
      "54034              1       8             0.188750\n",
      "966653             2       3             4.600000\n"
     ]
    }
   ],
   "source": [
    "%%px\n",
    "@bodo.jit(distributed=[\"trips\", \"central_park_weather_observations\", \"monthly_trips_weather\"], cache=True)\n",
    "def get_monthly_travels_weather(trips, central_park_weather_observations):\n",
    "    start = time.time()\n",
    "    trips = trips.loc[:, [\"VendorID\", \"lpep_pickup_datetime\", \"PULocationID\", \"DOLocationID\", \"trip_distance\" ]]    \n",
    "    trips[\"date\"] = trips[\"lpep_pickup_datetime\"].dt.date\n",
    "    trips[\"month\"] = trips[\"lpep_pickup_datetime\"].dt.month\n",
    "    trips[\"hour\"] = trips[\"lpep_pickup_datetime\"].dt.hour\n",
    "    trips[\"weekday\"] = trips[\"lpep_pickup_datetime\"].dt.dayofweek\n",
    "    monthly_trips_weather = trips.merge(\n",
    "        central_park_weather_observations, on=\"date\", how=\"inner\"\n",
    "    )\n",
    "    monthly_trips_weather = monthly_trips_weather[\n",
    "        (monthly_trips_weather[\"weekday\"].isin([1, 2, 3, 4, 5]))\n",
    "        & (monthly_trips_weather[\"precipitation\"] > 0.1)\n",
    "    ]\n",
    "    #0: morning, 1:midday, 2:afternoon, 3:evening, 4:other\n",
    "    monthly_trips_weather[\"time_bucket\"] = monthly_trips_weather.hour.replace({8: 0, 9:0, 10:0, 11:1, 12:1, 13:1, 14:1, 15:1, 16:2, 17:2, 18:2, 18:2, 19:3, 20:3, 21:3, 22:4, 23:4, 0:4, 1:4, 2:4, 3:4, 4:4, 5:4, 6:4, 7:4 })\n",
    "    monthly_trips_weather = monthly_trips_weather.groupby(\n",
    "        [\n",
    "            \"PULocationID\",\n",
    "            \"DOLocationID\",\n",
    "            \"month\",\n",
    "            \"weekday\",\n",
    "            \"precipitation\",\n",
    "            \"time_bucket\",\n",
    "        ],\n",
    "        as_index=False\n",
    "    ).agg({\"VendorID\": \"count\", \"trip_distance\": \"mean\"})\n",
    "    monthly_trips_weather = monthly_trips_weather.sort_values(\n",
    "        by=[\n",
    "            \"PULocationID\",\n",
    "            \"DOLocationID\",\n",
    "            \"month\",\n",
    "            \"weekday\",\n",
    "            \"precipitation\",\n",
    "            \"time_bucket\",\n",
    "            \"VendorID\",\n",
    "        ],\n",
    "        ascending=[True, True, True, True, True, True, False]\n",
    "    )\n",
    "    monthly_trips_weather = monthly_trips_weather.rename(\n",
    "        columns={\n",
    "            \"VendorID\": \"trips\",\n",
    "            \"trip_distance\": \"avg_distance\",\n",
    "            \"precipitation\": \"date_with_precipitation\",\n",
    "        },\n",
    "        copy=False\n",
    "    )\n",
    "    end = time.time()\n",
    "    print(\"Time: \", end - start)\n",
    "    print(monthly_trips_weather.head())\n",
    "    return monthly_trips_weather\n",
    "\n",
    "monthly_trips_weather = get_monthly_travels_weather(trips, central_park_weather_observations)\n",
    "\n"
   ]
  }
 ],
 "metadata": {
  "kernelspec": {
   "display_name": "Python 3",
   "language": "python",
   "name": "python3"
  },
  "language_info": {
   "codemirror_mode": {
    "name": "ipython",
    "version": 3
   },
   "file_extension": ".py",
   "mimetype": "text/x-python",
   "name": "python",
   "nbconvert_exporter": "python",
   "pygments_lexer": "ipython3",
   "version": "3.8.5"
  }
 },
 "nbformat": 4,
 "nbformat_minor": 4
}
